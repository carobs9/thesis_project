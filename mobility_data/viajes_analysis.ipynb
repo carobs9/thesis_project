{
 "cells": [
  {
   "cell_type": "code",
   "execution_count": 1,
   "metadata": {},
   "outputs": [],
   "source": [
    "# Code to unzip a TAR file on Windows or Mac. NOTE: Run only once to unzip\n",
    "import tarfile \n",
    "# file = tarfile.open('VIAJES/202202_Viajes_distritos.tar') # open file, a zipped folder containing all data monthly (typically in .tar format)\n",
    "# file.extractall('VIAJES/basicos_distritos_viajes_202202') # extracting file, unzipped folder containing several files\n",
    "# file.close() "
   ]
  },
  {
   "cell_type": "code",
   "execution_count": 2,
   "metadata": {},
   "outputs": [],
   "source": [
    "import config as cfg\n",
    "import matplotlib.pyplot as plt\n",
    "import pandas as pd\n",
    "from utils import get_overview, open_gz, open_gz_by_district, filter_district"
   ]
  },
  {
   "cell_type": "code",
   "execution_count": 3,
   "metadata": {},
   "outputs": [],
   "source": [
    "geometria_dir = cfg.GEOMETRIA_DATA\n",
    "personas_dir = cfg.PERSONAS_DATA\n",
    "viajes_dir = cfg.VIAJES_DATA"
   ]
  },
  {
   "cell_type": "code",
   "execution_count": 7,
   "metadata": {},
   "outputs": [],
   "source": [
    "# get_overview(viajes)"
   ]
  },
  {
   "cell_type": "code",
   "execution_count": 4,
   "metadata": {},
   "outputs": [
    {
     "name": "stderr",
     "output_type": "stream",
     "text": [
      "/Users/caro/Desktop/thesis_project/mobility_data/utils.py:64: DtypeWarning: Columns (2) have mixed types. Specify dtype option on import or set low_memory=False.\n",
      "  df = pd.read_csv(file_path, compression='gzip', sep='|')\n",
      "/Users/caro/Desktop/thesis_project/mobility_data/utils.py:64: DtypeWarning: Columns (2) have mixed types. Specify dtype option on import or set low_memory=False.\n",
      "  df = pd.read_csv(file_path, compression='gzip', sep='|')\n",
      "/Users/caro/Desktop/thesis_project/mobility_data/utils.py:64: DtypeWarning: Columns (2) have mixed types. Specify dtype option on import or set low_memory=False.\n",
      "  df = pd.read_csv(file_path, compression='gzip', sep='|')\n",
      "/Users/caro/Desktop/thesis_project/mobility_data/utils.py:64: DtypeWarning: Columns (2) have mixed types. Specify dtype option on import or set low_memory=False.\n",
      "  df = pd.read_csv(file_path, compression='gzip', sep='|')\n",
      "/Users/caro/Desktop/thesis_project/mobility_data/utils.py:64: DtypeWarning: Columns (2) have mixed types. Specify dtype option on import or set low_memory=False.\n",
      "  df = pd.read_csv(file_path, compression='gzip', sep='|')\n"
     ]
    }
   ],
   "source": [
    "# FIXME: Read more about DtypeWarning and fix\n",
    "viajes = open_gz_by_district(viajes_dir / 'basicos_distritos_viajes_202202', [6,7,8,9,10], district_code='28079') # substracting trips in Madrid districts during day 7 to 11 of Feb "
   ]
  },
  {
   "cell_type": "code",
   "execution_count": 5,
   "metadata": {},
   "outputs": [],
   "source": [
    "all_viajes = pd.concat(viajes, ignore_index=True)"
   ]
  },
  {
   "cell_type": "code",
   "execution_count": 6,
   "metadata": {},
   "outputs": [
    {
     "data": {
      "text/plain": [
       "(3182591, 15)"
      ]
     },
     "execution_count": 6,
     "metadata": {},
     "output_type": "execute_result"
    }
   ],
   "source": [
    "all_viajes.shape"
   ]
  },
  {
   "cell_type": "code",
   "execution_count": 7,
   "metadata": {},
   "outputs": [
    {
     "data": {
      "text/html": [
       "<div>\n",
       "<style scoped>\n",
       "    .dataframe tbody tr th:only-of-type {\n",
       "        vertical-align: middle;\n",
       "    }\n",
       "\n",
       "    .dataframe tbody tr th {\n",
       "        vertical-align: top;\n",
       "    }\n",
       "\n",
       "    .dataframe thead th {\n",
       "        text-align: right;\n",
       "    }\n",
       "</style>\n",
       "<table border=\"1\" class=\"dataframe\">\n",
       "  <thead>\n",
       "    <tr style=\"text-align: right;\">\n",
       "      <th></th>\n",
       "      <th>fecha</th>\n",
       "      <th>periodo</th>\n",
       "      <th>origen</th>\n",
       "      <th>destino</th>\n",
       "      <th>distancia</th>\n",
       "      <th>actividad_origen</th>\n",
       "      <th>actividad_destino</th>\n",
       "      <th>estudio_origen_posible</th>\n",
       "      <th>estudio_destino_posible</th>\n",
       "      <th>residencia</th>\n",
       "      <th>renta</th>\n",
       "      <th>edad</th>\n",
       "      <th>sexo</th>\n",
       "      <th>viajes</th>\n",
       "      <th>viajes_km</th>\n",
       "    </tr>\n",
       "  </thead>\n",
       "  <tbody>\n",
       "    <tr>\n",
       "      <th>0</th>\n",
       "      <td>20220207</td>\n",
       "      <td>0</td>\n",
       "      <td>2807901</td>\n",
       "      <td>2807901</td>\n",
       "      <td>0.5-2</td>\n",
       "      <td>casa</td>\n",
       "      <td>frecuente</td>\n",
       "      <td>no</td>\n",
       "      <td>no</td>\n",
       "      <td>28</td>\n",
       "      <td>&gt;15</td>\n",
       "      <td>0-25</td>\n",
       "      <td>hombre</td>\n",
       "      <td>20.700</td>\n",
       "      <td>14.144</td>\n",
       "    </tr>\n",
       "    <tr>\n",
       "      <th>1</th>\n",
       "      <td>20220207</td>\n",
       "      <td>0</td>\n",
       "      <td>2807901</td>\n",
       "      <td>2807901</td>\n",
       "      <td>0.5-2</td>\n",
       "      <td>casa</td>\n",
       "      <td>frecuente</td>\n",
       "      <td>no</td>\n",
       "      <td>no</td>\n",
       "      <td>28</td>\n",
       "      <td>&gt;15</td>\n",
       "      <td>0-25</td>\n",
       "      <td>mujer</td>\n",
       "      <td>25.476</td>\n",
       "      <td>15.796</td>\n",
       "    </tr>\n",
       "    <tr>\n",
       "      <th>2</th>\n",
       "      <td>20220207</td>\n",
       "      <td>0</td>\n",
       "      <td>2807901</td>\n",
       "      <td>2807901</td>\n",
       "      <td>0.5-2</td>\n",
       "      <td>casa</td>\n",
       "      <td>frecuente</td>\n",
       "      <td>no</td>\n",
       "      <td>no</td>\n",
       "      <td>28</td>\n",
       "      <td>&gt;15</td>\n",
       "      <td>25-45</td>\n",
       "      <td>hombre</td>\n",
       "      <td>102.263</td>\n",
       "      <td>69.730</td>\n",
       "    </tr>\n",
       "    <tr>\n",
       "      <th>3</th>\n",
       "      <td>20220207</td>\n",
       "      <td>0</td>\n",
       "      <td>2807901</td>\n",
       "      <td>2807901</td>\n",
       "      <td>0.5-2</td>\n",
       "      <td>casa</td>\n",
       "      <td>frecuente</td>\n",
       "      <td>no</td>\n",
       "      <td>no</td>\n",
       "      <td>28</td>\n",
       "      <td>&gt;15</td>\n",
       "      <td>25-45</td>\n",
       "      <td>mujer</td>\n",
       "      <td>86.178</td>\n",
       "      <td>63.775</td>\n",
       "    </tr>\n",
       "    <tr>\n",
       "      <th>4</th>\n",
       "      <td>20220207</td>\n",
       "      <td>0</td>\n",
       "      <td>2807901</td>\n",
       "      <td>2807901</td>\n",
       "      <td>0.5-2</td>\n",
       "      <td>casa</td>\n",
       "      <td>frecuente</td>\n",
       "      <td>no</td>\n",
       "      <td>no</td>\n",
       "      <td>28</td>\n",
       "      <td>&gt;15</td>\n",
       "      <td>45-65</td>\n",
       "      <td>hombre</td>\n",
       "      <td>43.469</td>\n",
       "      <td>31.687</td>\n",
       "    </tr>\n",
       "  </tbody>\n",
       "</table>\n",
       "</div>"
      ],
      "text/plain": [
       "      fecha  periodo   origen  destino distancia actividad_origen  \\\n",
       "0  20220207        0  2807901  2807901     0.5-2             casa   \n",
       "1  20220207        0  2807901  2807901     0.5-2             casa   \n",
       "2  20220207        0  2807901  2807901     0.5-2             casa   \n",
       "3  20220207        0  2807901  2807901     0.5-2             casa   \n",
       "4  20220207        0  2807901  2807901     0.5-2             casa   \n",
       "\n",
       "  actividad_destino estudio_origen_posible estudio_destino_posible  \\\n",
       "0         frecuente                     no                      no   \n",
       "1         frecuente                     no                      no   \n",
       "2         frecuente                     no                      no   \n",
       "3         frecuente                     no                      no   \n",
       "4         frecuente                     no                      no   \n",
       "\n",
       "   residencia renta   edad    sexo   viajes  viajes_km  \n",
       "0          28   >15   0-25  hombre   20.700     14.144  \n",
       "1          28   >15   0-25   mujer   25.476     15.796  \n",
       "2          28   >15  25-45  hombre  102.263     69.730  \n",
       "3          28   >15  25-45   mujer   86.178     63.775  \n",
       "4          28   >15  45-65  hombre   43.469     31.687  "
      ]
     },
     "execution_count": 7,
     "metadata": {},
     "output_type": "execute_result"
    }
   ],
   "source": [
    "all_viajes.head()"
   ]
  },
  {
   "cell_type": "code",
   "execution_count": 8,
   "metadata": {},
   "outputs": [
    {
     "data": {
      "text/html": [
       "<div>\n",
       "<style scoped>\n",
       "    .dataframe tbody tr th:only-of-type {\n",
       "        vertical-align: middle;\n",
       "    }\n",
       "\n",
       "    .dataframe tbody tr th {\n",
       "        vertical-align: top;\n",
       "    }\n",
       "\n",
       "    .dataframe thead th {\n",
       "        text-align: right;\n",
       "    }\n",
       "</style>\n",
       "<table border=\"1\" class=\"dataframe\">\n",
       "  <thead>\n",
       "    <tr style=\"text-align: right;\">\n",
       "      <th></th>\n",
       "      <th>fecha</th>\n",
       "      <th>periodo</th>\n",
       "      <th>origen</th>\n",
       "      <th>destino</th>\n",
       "      <th>distancia</th>\n",
       "      <th>actividad_origen</th>\n",
       "      <th>actividad_destino</th>\n",
       "      <th>estudio_origen_posible</th>\n",
       "      <th>estudio_destino_posible</th>\n",
       "      <th>residencia</th>\n",
       "      <th>renta</th>\n",
       "      <th>edad</th>\n",
       "      <th>sexo</th>\n",
       "      <th>viajes</th>\n",
       "      <th>viajes_km</th>\n",
       "    </tr>\n",
       "  </thead>\n",
       "  <tbody>\n",
       "    <tr>\n",
       "      <th>3182586</th>\n",
       "      <td>20220211</td>\n",
       "      <td>23</td>\n",
       "      <td>2807921</td>\n",
       "      <td>2807921</td>\n",
       "      <td>2-10</td>\n",
       "      <td>trabajo_estudio</td>\n",
       "      <td>frecuente</td>\n",
       "      <td>no</td>\n",
       "      <td>no</td>\n",
       "      <td>28</td>\n",
       "      <td>10-15</td>\n",
       "      <td>25-45</td>\n",
       "      <td>mujer</td>\n",
       "      <td>3.494</td>\n",
       "      <td>7.943</td>\n",
       "    </tr>\n",
       "    <tr>\n",
       "      <th>3182587</th>\n",
       "      <td>20220211</td>\n",
       "      <td>23</td>\n",
       "      <td>2807921</td>\n",
       "      <td>2807921</td>\n",
       "      <td>2-10</td>\n",
       "      <td>trabajo_estudio</td>\n",
       "      <td>frecuente</td>\n",
       "      <td>no</td>\n",
       "      <td>no</td>\n",
       "      <td>28</td>\n",
       "      <td>10-15</td>\n",
       "      <td>45-65</td>\n",
       "      <td>NaN</td>\n",
       "      <td>1.902</td>\n",
       "      <td>6.312</td>\n",
       "    </tr>\n",
       "    <tr>\n",
       "      <th>3182588</th>\n",
       "      <td>20220211</td>\n",
       "      <td>23</td>\n",
       "      <td>2807921</td>\n",
       "      <td>2807921</td>\n",
       "      <td>2-10</td>\n",
       "      <td>trabajo_estudio</td>\n",
       "      <td>frecuente</td>\n",
       "      <td>no</td>\n",
       "      <td>no</td>\n",
       "      <td>28</td>\n",
       "      <td>&gt;15</td>\n",
       "      <td>25-45</td>\n",
       "      <td>mujer</td>\n",
       "      <td>3.306</td>\n",
       "      <td>10.835</td>\n",
       "    </tr>\n",
       "    <tr>\n",
       "      <th>3182589</th>\n",
       "      <td>20220211</td>\n",
       "      <td>23</td>\n",
       "      <td>2807921</td>\n",
       "      <td>2807921</td>\n",
       "      <td>2-10</td>\n",
       "      <td>trabajo_estudio</td>\n",
       "      <td>frecuente</td>\n",
       "      <td>no</td>\n",
       "      <td>no</td>\n",
       "      <td>28</td>\n",
       "      <td>&gt;15</td>\n",
       "      <td>45-65</td>\n",
       "      <td>mujer</td>\n",
       "      <td>2.692</td>\n",
       "      <td>5.656</td>\n",
       "    </tr>\n",
       "    <tr>\n",
       "      <th>3182590</th>\n",
       "      <td>20220211</td>\n",
       "      <td>23</td>\n",
       "      <td>2807921</td>\n",
       "      <td>2807921</td>\n",
       "      <td>2-10</td>\n",
       "      <td>trabajo_estudio</td>\n",
       "      <td>frecuente</td>\n",
       "      <td>no</td>\n",
       "      <td>no</td>\n",
       "      <td>28</td>\n",
       "      <td>&gt;15</td>\n",
       "      <td>65-100</td>\n",
       "      <td>hombre</td>\n",
       "      <td>2.004</td>\n",
       "      <td>4.713</td>\n",
       "    </tr>\n",
       "  </tbody>\n",
       "</table>\n",
       "</div>"
      ],
      "text/plain": [
       "            fecha  periodo   origen  destino distancia actividad_origen  \\\n",
       "3182586  20220211       23  2807921  2807921      2-10  trabajo_estudio   \n",
       "3182587  20220211       23  2807921  2807921      2-10  trabajo_estudio   \n",
       "3182588  20220211       23  2807921  2807921      2-10  trabajo_estudio   \n",
       "3182589  20220211       23  2807921  2807921      2-10  trabajo_estudio   \n",
       "3182590  20220211       23  2807921  2807921      2-10  trabajo_estudio   \n",
       "\n",
       "        actividad_destino estudio_origen_posible estudio_destino_posible  \\\n",
       "3182586         frecuente                     no                      no   \n",
       "3182587         frecuente                     no                      no   \n",
       "3182588         frecuente                     no                      no   \n",
       "3182589         frecuente                     no                      no   \n",
       "3182590         frecuente                     no                      no   \n",
       "\n",
       "         residencia  renta    edad    sexo  viajes  viajes_km  \n",
       "3182586          28  10-15   25-45   mujer   3.494      7.943  \n",
       "3182587          28  10-15   45-65     NaN   1.902      6.312  \n",
       "3182588          28    >15   25-45   mujer   3.306     10.835  \n",
       "3182589          28    >15   45-65   mujer   2.692      5.656  \n",
       "3182590          28    >15  65-100  hombre   2.004      4.713  "
      ]
     },
     "execution_count": 8,
     "metadata": {},
     "output_type": "execute_result"
    }
   ],
   "source": [
    "all_viajes.tail()"
   ]
  },
  {
   "cell_type": "code",
   "execution_count": 9,
   "metadata": {},
   "outputs": [
    {
     "data": {
      "text/html": [
       "<div>\n",
       "<style scoped>\n",
       "    .dataframe tbody tr th:only-of-type {\n",
       "        vertical-align: middle;\n",
       "    }\n",
       "\n",
       "    .dataframe tbody tr th {\n",
       "        vertical-align: top;\n",
       "    }\n",
       "\n",
       "    .dataframe thead th {\n",
       "        text-align: right;\n",
       "    }\n",
       "</style>\n",
       "<table border=\"1\" class=\"dataframe\">\n",
       "  <thead>\n",
       "    <tr style=\"text-align: right;\">\n",
       "      <th></th>\n",
       "      <th>fecha</th>\n",
       "      <th>periodo</th>\n",
       "      <th>residencia</th>\n",
       "      <th>viajes</th>\n",
       "      <th>viajes_km</th>\n",
       "    </tr>\n",
       "  </thead>\n",
       "  <tbody>\n",
       "    <tr>\n",
       "      <th>count</th>\n",
       "      <td>3.182591e+06</td>\n",
       "      <td>3.182591e+06</td>\n",
       "      <td>3.182591e+06</td>\n",
       "      <td>3.182591e+06</td>\n",
       "      <td>3.182591e+06</td>\n",
       "    </tr>\n",
       "    <tr>\n",
       "      <th>mean</th>\n",
       "      <td>2.022021e+07</td>\n",
       "      <td>1.349655e+01</td>\n",
       "      <td>2.803398e+01</td>\n",
       "      <td>1.379581e+01</td>\n",
       "      <td>4.194190e+01</td>\n",
       "    </tr>\n",
       "    <tr>\n",
       "      <th>std</th>\n",
       "      <td>1.433127e+00</td>\n",
       "      <td>5.504580e+00</td>\n",
       "      <td>4.169659e+00</td>\n",
       "      <td>3.493528e+01</td>\n",
       "      <td>6.341464e+01</td>\n",
       "    </tr>\n",
       "    <tr>\n",
       "      <th>min</th>\n",
       "      <td>2.022021e+07</td>\n",
       "      <td>0.000000e+00</td>\n",
       "      <td>1.000000e+00</td>\n",
       "      <td>1.000000e+00</td>\n",
       "      <td>0.000000e+00</td>\n",
       "    </tr>\n",
       "    <tr>\n",
       "      <th>25%</th>\n",
       "      <td>2.022021e+07</td>\n",
       "      <td>1.000000e+01</td>\n",
       "      <td>2.800000e+01</td>\n",
       "      <td>3.253000e+00</td>\n",
       "      <td>1.004300e+01</td>\n",
       "    </tr>\n",
       "    <tr>\n",
       "      <th>50%</th>\n",
       "      <td>2.022021e+07</td>\n",
       "      <td>1.400000e+01</td>\n",
       "      <td>2.800000e+01</td>\n",
       "      <td>5.780000e+00</td>\n",
       "      <td>2.313700e+01</td>\n",
       "    </tr>\n",
       "    <tr>\n",
       "      <th>75%</th>\n",
       "      <td>2.022021e+07</td>\n",
       "      <td>1.800000e+01</td>\n",
       "      <td>2.800000e+01</td>\n",
       "      <td>1.125400e+01</td>\n",
       "      <td>4.722900e+01</td>\n",
       "    </tr>\n",
       "    <tr>\n",
       "      <th>max</th>\n",
       "      <td>2.022021e+07</td>\n",
       "      <td>2.300000e+01</td>\n",
       "      <td>5.200000e+01</td>\n",
       "      <td>1.347302e+03</td>\n",
       "      <td>2.100646e+03</td>\n",
       "    </tr>\n",
       "  </tbody>\n",
       "</table>\n",
       "</div>"
      ],
      "text/plain": [
       "              fecha       periodo    residencia        viajes     viajes_km\n",
       "count  3.182591e+06  3.182591e+06  3.182591e+06  3.182591e+06  3.182591e+06\n",
       "mean   2.022021e+07  1.349655e+01  2.803398e+01  1.379581e+01  4.194190e+01\n",
       "std    1.433127e+00  5.504580e+00  4.169659e+00  3.493528e+01  6.341464e+01\n",
       "min    2.022021e+07  0.000000e+00  1.000000e+00  1.000000e+00  0.000000e+00\n",
       "25%    2.022021e+07  1.000000e+01  2.800000e+01  3.253000e+00  1.004300e+01\n",
       "50%    2.022021e+07  1.400000e+01  2.800000e+01  5.780000e+00  2.313700e+01\n",
       "75%    2.022021e+07  1.800000e+01  2.800000e+01  1.125400e+01  4.722900e+01\n",
       "max    2.022021e+07  2.300000e+01  5.200000e+01  1.347302e+03  2.100646e+03"
      ]
     },
     "execution_count": 9,
     "metadata": {},
     "output_type": "execute_result"
    }
   ],
   "source": [
    "all_viajes.describe()"
   ]
  },
  {
   "cell_type": "code",
   "execution_count": 10,
   "metadata": {},
   "outputs": [
    {
     "data": {
      "text/plain": [
       "residencia\n",
       "28    781697\n",
       "Name: count, dtype: int64"
      ]
     },
     "execution_count": 10,
     "metadata": {},
     "output_type": "execute_result"
    }
   ],
   "source": [
    "# IMPORTANT: when filtering only those who travel from home, the residence is only the province of Madrid\n",
    "all_viajes[all_viajes['actividad_origen']=='casa'].residencia.value_counts()"
   ]
  },
  {
   "cell_type": "code",
   "execution_count": 11,
   "metadata": {},
   "outputs": [
    {
     "data": {
      "text/plain": [
       "residencia\n",
       "28    793029\n",
       "Name: count, dtype: int64"
      ]
     },
     "execution_count": 11,
     "metadata": {},
     "output_type": "execute_result"
    }
   ],
   "source": [
    "all_viajes[all_viajes['actividad_destino']=='casa'].residencia.value_counts()"
   ]
  },
  {
   "cell_type": "code",
   "execution_count": 12,
   "metadata": {},
   "outputs": [],
   "source": [
    "all_viajes.to_csv('viajes/all_viajes_week_0222.csv', index=False)"
   ]
  },
  {
   "cell_type": "code",
   "execution_count": 28,
   "metadata": {},
   "outputs": [],
   "source": [
    "#NOTE: The residence of the users in the MITMA data is not by district, but by province. \n",
    "# This could be a problem as I am trying to understand how people from different districts move. \n",
    "# As a solution, I could filter to only use ‘origen’ == casa or ‘destino’==casa in the districts of Madrid. \n",
    "# This way, I could make sure that I am taking a look at those records of people who actually live in a specific district in Madrid.\n",
    "# The problem is that the mobility would be very limited to those trips either coming from or going home.\n",
    "filtered_df = all_viajes.loc[(all_viajes['actividad_origen'] == 'casa')]"
   ]
  },
  {
   "cell_type": "code",
   "execution_count": 31,
   "metadata": {},
   "outputs": [
    {
     "data": {
      "text/plain": [
       "(781697, 15)"
      ]
     },
     "execution_count": 31,
     "metadata": {},
     "output_type": "execute_result"
    }
   ],
   "source": [
    "filtered_df.shape"
   ]
  },
  {
   "cell_type": "code",
   "execution_count": 13,
   "metadata": {},
   "outputs": [],
   "source": [
    "# all_viajes = pd.read_csv('viajes/all_viajes_week_0224.csv')\n",
    "filtered_df = all_viajes.loc[(all_viajes['actividad_origen'] == 'casa')]"
   ]
  },
  {
   "cell_type": "code",
   "execution_count": 14,
   "metadata": {},
   "outputs": [
    {
     "name": "stderr",
     "output_type": "stream",
     "text": [
      "/var/folders/5y/mx06x73d0yb7mfb57y7lb2nh0000gn/T/ipykernel_68523/263621179.py:9: FutureWarning: \n",
      "\n",
      "Passing `palette` without assigning `hue` is deprecated and will be removed in v0.14.0. Assign the `x` variable to `hue` and set `legend=False` for the same effect.\n",
      "\n",
      "  sns.barplot(\n",
      "/var/folders/5y/mx06x73d0yb7mfb57y7lb2nh0000gn/T/ipykernel_68523/263621179.py:20: FutureWarning: \n",
      "\n",
      "Passing `palette` without assigning `hue` is deprecated and will be removed in v0.14.0. Assign the `x` variable to `hue` and set `legend=False` for the same effect.\n",
      "\n",
      "  sns.barplot(\n",
      "/var/folders/5y/mx06x73d0yb7mfb57y7lb2nh0000gn/T/ipykernel_68523/263621179.py:31: FutureWarning: \n",
      "\n",
      "Passing `palette` without assigning `hue` is deprecated and will be removed in v0.14.0. Assign the `x` variable to `hue` and set `legend=False` for the same effect.\n",
      "\n",
      "  sns.barplot(\n",
      "/var/folders/5y/mx06x73d0yb7mfb57y7lb2nh0000gn/T/ipykernel_68523/263621179.py:42: FutureWarning: \n",
      "\n",
      "Passing `palette` without assigning `hue` is deprecated and will be removed in v0.14.0. Assign the `x` variable to `hue` and set `legend=False` for the same effect.\n",
      "\n",
      "  sns.barplot(\n",
      "/var/folders/5y/mx06x73d0yb7mfb57y7lb2nh0000gn/T/ipykernel_68523/263621179.py:53: FutureWarning: \n",
      "\n",
      "Passing `palette` without assigning `hue` is deprecated and will be removed in v0.14.0. Assign the `x` variable to `hue` and set `legend=False` for the same effect.\n",
      "\n",
      "  sns.barplot(\n",
      "/var/folders/5y/mx06x73d0yb7mfb57y7lb2nh0000gn/T/ipykernel_68523/263621179.py:64: FutureWarning: \n",
      "\n",
      "Passing `palette` without assigning `hue` is deprecated and will be removed in v0.14.0. Assign the `x` variable to `hue` and set `legend=False` for the same effect.\n",
      "\n",
      "  sns.barplot(\n"
     ]
    },
    {
     "data": {
      "image/png": "[encoded data removed]",
      "text/plain": [
       "<Figure size 1200x1200 with 6 Axes>"
      ]
     },
     "metadata": {},
     "output_type": "display_data"
    }
   ],
   "source": [
    "import matplotlib.pyplot as plt\n",
    "import seaborn as sns\n",
    "\n",
    "subset_of_interest = filtered_df\n",
    "# Create a 3x2 subplot structure\n",
    "fig, axes = plt.subplots(3, 2, figsize=(12, 12))\n",
    "\n",
    "# Renta distribution\n",
    "sns.barplot(\n",
    "    x=subset_of_interest['renta'].value_counts().index,\n",
    "    y=subset_of_interest['renta'].value_counts().values,\n",
    "    palette='Blues',\n",
    "    ax=axes[0, 0]\n",
    ")\n",
    "axes[0, 0].set_title('Renta Distribution')\n",
    "axes[0, 0].set_xlabel('Renta')\n",
    "axes[0, 0].set_ylabel('Count')\n",
    "\n",
    "# Sexo distribution\n",
    "sns.barplot(\n",
    "    x=subset_of_interest['sexo'].value_counts().index,\n",
    "    y=subset_of_interest['sexo'].value_counts().values,\n",
    "    palette='Greens',\n",
    "    ax=axes[0, 1]\n",
    ")\n",
    "axes[0, 1].set_title('Sexo Distribution')\n",
    "axes[0, 1].set_xlabel('Sexo')\n",
    "axes[0, 1].set_ylabel('Count')\n",
    "\n",
    "# Actividad Origen distribution\n",
    "sns.barplot(\n",
    "    x=subset_of_interest['actividad_origen'].value_counts().index,\n",
    "    y=subset_of_interest['actividad_origen'].value_counts().values,\n",
    "    palette='Oranges',\n",
    "    ax=axes[1, 0]\n",
    ")\n",
    "axes[1, 0].set_title('Actividad Origen Distribution')\n",
    "axes[1, 0].set_xlabel('Actividad Origen')\n",
    "axes[1, 0].set_ylabel('Count')\n",
    "\n",
    "# Actividad Destino distribution\n",
    "sns.barplot(\n",
    "    x=subset_of_interest['actividad_destino'].value_counts().index,\n",
    "    y=subset_of_interest['actividad_destino'].value_counts().values,\n",
    "    palette='Purples',\n",
    "    ax=axes[1, 1]\n",
    ")\n",
    "axes[1, 1].set_title('Actividad Destino Distribution')\n",
    "axes[1, 1].set_xlabel('Actividad Destino')\n",
    "axes[1, 1].set_ylabel('Count')\n",
    "\n",
    "# Age distribution\n",
    "sns.barplot(\n",
    "    x=subset_of_interest['edad'].value_counts().index,\n",
    "    y=subset_of_interest['edad'].value_counts().values,\n",
    "    palette='Reds',\n",
    "    ax=axes[2, 0]\n",
    ")\n",
    "axes[2, 0].set_title('Age Distribution')\n",
    "axes[2, 0].set_xlabel('Age')\n",
    "axes[2, 0].set_ylabel('Count')\n",
    "\n",
    "# Distance distribution\n",
    "sns.barplot(\n",
    "    x=subset_of_interest['distancia'].value_counts().index,\n",
    "    y=subset_of_interest['distancia'].value_counts().values,\n",
    "    palette='Blues',\n",
    "    ax=axes[2, 1]\n",
    ")\n",
    "axes[2, 1].set_title('Distance Distribution')\n",
    "axes[2, 1].set_xlabel('Distance')\n",
    "axes[2, 1].set_ylabel('Count')\n",
    "\n",
    "# Set a main title for the figure\n",
    "plt.suptitle('Statistics of all_viajes in Madrid Districts with Origin = Home, Feb 7th to Feb 11th', fontsize=16)\n",
    "\n",
    "# Adjust layout to prevent overlap and make space for the main title\n",
    "plt.tight_layout(rect=[0, 0, 1, 0.96])\n",
    "\n",
    "# Save the figure as a PNG file\n",
    "plt.savefig(\"viajes_madrid_districts_home_origin_070222_110222.png\", dpi=300)\n",
    "\n",
    "# Display the plot\n",
    "plt.show()\n"
   ]
  },
  {
   "cell_type": "code",
   "execution_count": null,
   "metadata": {},
   "outputs": [],
   "source": []
  }
 ],
 "metadata": {
  "kernelspec": {
   "display_name": ".venv",
   "language": "python",
   "name": "python3"
  },
  "language_info": {
   "codemirror_mode": {
    "name": "ipython",
    "version": 3
   },
   "file_extension": ".py",
   "mimetype": "text/x-python",
   "name": "python",
   "nbconvert_exporter": "python",
   "pygments_lexer": "ipython3",
   "version": "3.11.4"
  },
  "vscode": {
   "interpreter": {
    "hash": "baf70a3cbee19fbb5efe65009e89edc3934f0648c3ca19992706c176c60ae190"
   }
  }
 },
 "nbformat": 4,
 "nbformat_minor": 2
}
