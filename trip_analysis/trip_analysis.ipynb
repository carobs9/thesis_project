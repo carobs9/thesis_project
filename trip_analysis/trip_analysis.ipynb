{
 "cells": [
  {
   "cell_type": "code",
   "execution_count": 61,
   "metadata": {},
   "outputs": [],
   "source": [
    "import networkx as nx\n",
    "import pandas as pd\n",
    "import geopandas as gpd\n",
    "import config as cfg\n",
    "import numpy as np\n",
    "import seaborn as sns\n",
    "import matplotlib.pyplot as plt\n",
    "import matplotlib.ticker as mticker\n",
    "from utils import build_trip_count, build_distance_count, get_district_names, normalize_by_pop, get_income_data, add_quantiles"
   ]
  },
  {
   "cell_type": "code",
   "execution_count": 62,
   "metadata": {},
   "outputs": [],
   "source": [
    "all_viajes = pd.read_csv('/Users/caro/Desktop/thesis_project/mobility_data/VIAJES/viajes_week_0322.csv',thousands='.',decimal=',') # all trips\n",
    "income = gpd.read_file('/Users/caro/Desktop/thesis_project/segregation_indices/data/processed/geometries_and_income.geojson') # income data\n",
    "gdf = gpd.read_file(cfg.ZONIFICACION_DATA / 'distritos/madrid_gdf.geojson') # geodataframe\n",
    "gdf = gdf.to_crs(epsg=4326) # setting crs\n",
    "district_mapping = pd.read_csv('/Users/caro/Desktop/thesis_project/data_overview/outputs/districts_and_population.csv')"
   ]
  },
  {
   "cell_type": "code",
   "execution_count": 63,
   "metadata": {},
   "outputs": [
    {
     "data": {
      "text/plain": [
       "(19900955, 15)"
      ]
     },
     "execution_count": 63,
     "metadata": {},
     "output_type": "execute_result"
    }
   ],
   "source": [
    "all_viajes.shape"
   ]
  },
  {
   "cell_type": "code",
   "execution_count": 64,
   "metadata": {},
   "outputs": [
    {
     "data": {
      "text/plain": [
       "actividad_destino\n",
       "frecuente          7268863\n",
       "casa               4933456\n",
       "no_frecuente       4920539\n",
       "trabajo_estudio    2778097\n",
       "Name: count, dtype: int64"
      ]
     },
     "execution_count": 64,
     "metadata": {},
     "output_type": "execute_result"
    }
   ],
   "source": [
    "all_viajes.actividad_destino.value_counts()"
   ]
  },
  {
   "cell_type": "code",
   "execution_count": 65,
   "metadata": {},
   "outputs": [],
   "source": [
    "filtered_df = all_viajes.loc[(all_viajes['actividad_origen'] == 'casa')] # home origin trips"
   ]
  },
  {
   "cell_type": "code",
   "execution_count": 66,
   "metadata": {},
   "outputs": [
    {
     "data": {
      "text/plain": [
       "(4839108, 15)"
      ]
     },
     "execution_count": 66,
     "metadata": {},
     "output_type": "execute_result"
    }
   ],
   "source": [
    "filtered_df.shape"
   ]
  },
  {
   "cell_type": "code",
   "execution_count": 67,
   "metadata": {},
   "outputs": [],
   "source": [
    "home_work = all_viajes[ # home to work trips\n",
    "    ((all_viajes['actividad_origen'] == 'casa') & (all_viajes['actividad_destino'] == 'trabajo_estudio'))\n",
    "]"
   ]
  },
  {
   "cell_type": "code",
   "execution_count": 68,
   "metadata": {},
   "outputs": [
    {
     "data": {
      "text/plain": [
       "(1205740, 15)"
      ]
     },
     "execution_count": 68,
     "metadata": {},
     "output_type": "execute_result"
    }
   ],
   "source": [
    "home_work.shape"
   ]
  },
  {
   "attachments": {},
   "cell_type": "markdown",
   "metadata": {},
   "source": [
    "## Filtering trips by median income quantile"
   ]
  },
  {
   "attachments": {},
   "cell_type": "markdown",
   "metadata": {},
   "source": [
    "1. Do low median income quantiles travel more to high median income quantiles for work purposes and overall?\n",
    "2. Do low median income quantiles travel more distance on average than other median income quantiles for work purposes and overall?"
   ]
  },
  {
   "attachments": {},
   "cell_type": "markdown",
   "metadata": {},
   "source": [
    "Question 1, all trips with home origin:"
   ]
  },
  {
   "cell_type": "code",
   "execution_count": 69,
   "metadata": {},
   "outputs": [],
   "source": [
    "# district_counts = filtered_df['origen'].value_counts().reset_index() # OLD\n",
    "# Group by 'origen' and sum 'viajes'\n",
    "district_counts = filtered_df.groupby('origen')['viajes'].sum().reset_index(name='total_viajes') # FIXED\n",
    "district_counts.columns = ['ID', 'Population']"
   ]
  },
  {
   "cell_type": "code",
   "execution_count": 70,
   "metadata": {},
   "outputs": [
    {
     "data": {
      "text/plain": [
       "np.int64(136712522521830)"
      ]
     },
     "execution_count": 70,
     "metadata": {},
     "output_type": "execute_result"
    }
   ],
   "source": [
    "filtered_df[filtered_df['origen'] == 2807901].viajes.sum()"
   ]
  },
  {
   "cell_type": "code",
   "execution_count": 71,
   "metadata": {},
   "outputs": [
    {
     "data": {
      "text/html": [
       "<div>\n",
       "<style scoped>\n",
       "    .dataframe tbody tr th:only-of-type {\n",
       "        vertical-align: middle;\n",
       "    }\n",
       "\n",
       "    .dataframe tbody tr th {\n",
       "        vertical-align: top;\n",
       "    }\n",
       "\n",
       "    .dataframe thead th {\n",
       "        text-align: right;\n",
       "    }\n",
       "</style>\n",
       "<table border=\"1\" class=\"dataframe\">\n",
       "  <thead>\n",
       "    <tr style=\"text-align: right;\">\n",
       "      <th></th>\n",
       "      <th>ID</th>\n",
       "      <th>Population</th>\n",
       "    </tr>\n",
       "  </thead>\n",
       "  <tbody>\n",
       "    <tr>\n",
       "      <th>0</th>\n",
       "      <td>2807901</td>\n",
       "      <td>136712522521830</td>\n",
       "    </tr>\n",
       "    <tr>\n",
       "      <th>1</th>\n",
       "      <td>2807902</td>\n",
       "      <td>168422569542303</td>\n",
       "    </tr>\n",
       "    <tr>\n",
       "      <th>2</th>\n",
       "      <td>2807903</td>\n",
       "      <td>140204703470897</td>\n",
       "    </tr>\n",
       "    <tr>\n",
       "      <th>3</th>\n",
       "      <td>2807904</td>\n",
       "      <td>137807602115964</td>\n",
       "    </tr>\n",
       "    <tr>\n",
       "      <th>4</th>\n",
       "      <td>2807905</td>\n",
       "      <td>155758333501603</td>\n",
       "    </tr>\n",
       "    <tr>\n",
       "      <th>5</th>\n",
       "      <td>2807906</td>\n",
       "      <td>139590562531537</td>\n",
       "    </tr>\n",
       "    <tr>\n",
       "      <th>6</th>\n",
       "      <td>2807907</td>\n",
       "      <td>122276371681272</td>\n",
       "    </tr>\n",
       "    <tr>\n",
       "      <th>7</th>\n",
       "      <td>2807908</td>\n",
       "      <td>172106172640282</td>\n",
       "    </tr>\n",
       "    <tr>\n",
       "      <th>8</th>\n",
       "      <td>2807909</td>\n",
       "      <td>159416530936269</td>\n",
       "    </tr>\n",
       "    <tr>\n",
       "      <th>9</th>\n",
       "      <td>2807910</td>\n",
       "      <td>152988112059524</td>\n",
       "    </tr>\n",
       "    <tr>\n",
       "      <th>10</th>\n",
       "      <td>2807911</td>\n",
       "      <td>212324918903599</td>\n",
       "    </tr>\n",
       "    <tr>\n",
       "      <th>11</th>\n",
       "      <td>2807912</td>\n",
       "      <td>163009014483965</td>\n",
       "    </tr>\n",
       "    <tr>\n",
       "      <th>12</th>\n",
       "      <td>2807913</td>\n",
       "      <td>267996682570190</td>\n",
       "    </tr>\n",
       "    <tr>\n",
       "      <th>13</th>\n",
       "      <td>2807914</td>\n",
       "      <td>136186985261348</td>\n",
       "    </tr>\n",
       "    <tr>\n",
       "      <th>14</th>\n",
       "      <td>2807915</td>\n",
       "      <td>206751141828879</td>\n",
       "    </tr>\n",
       "    <tr>\n",
       "      <th>15</th>\n",
       "      <td>2807916</td>\n",
       "      <td>171601116400801</td>\n",
       "    </tr>\n",
       "    <tr>\n",
       "      <th>16</th>\n",
       "      <td>2807917</td>\n",
       "      <td>127971357745845</td>\n",
       "    </tr>\n",
       "    <tr>\n",
       "      <th>17</th>\n",
       "      <td>2807918</td>\n",
       "      <td>146678904375687</td>\n",
       "    </tr>\n",
       "    <tr>\n",
       "      <th>18</th>\n",
       "      <td>2807919</td>\n",
       "      <td>119163153410873</td>\n",
       "    </tr>\n",
       "    <tr>\n",
       "      <th>19</th>\n",
       "      <td>2807920</td>\n",
       "      <td>183589813429590</td>\n",
       "    </tr>\n",
       "    <tr>\n",
       "      <th>20</th>\n",
       "      <td>2807921</td>\n",
       "      <td>78342805567739</td>\n",
       "    </tr>\n",
       "  </tbody>\n",
       "</table>\n",
       "</div>"
      ],
      "text/plain": [
       "         ID       Population\n",
       "0   2807901  136712522521830\n",
       "1   2807902  168422569542303\n",
       "2   2807903  140204703470897\n",
       "3   2807904  137807602115964\n",
       "4   2807905  155758333501603\n",
       "5   2807906  139590562531537\n",
       "6   2807907  122276371681272\n",
       "7   2807908  172106172640282\n",
       "8   2807909  159416530936269\n",
       "9   2807910  152988112059524\n",
       "10  2807911  212324918903599\n",
       "11  2807912  163009014483965\n",
       "12  2807913  267996682570190\n",
       "13  2807914  136186985261348\n",
       "14  2807915  206751141828879\n",
       "15  2807916  171601116400801\n",
       "16  2807917  127971357745845\n",
       "17  2807918  146678904375687\n",
       "18  2807919  119163153410873\n",
       "19  2807920  183589813429590\n",
       "20  2807921   78342805567739"
      ]
     },
     "execution_count": 71,
     "metadata": {},
     "output_type": "execute_result"
    }
   ],
   "source": [
    "district_counts"
   ]
  },
  {
   "cell_type": "code",
   "execution_count": 72,
   "metadata": {},
   "outputs": [],
   "source": [
    "trip_counts = build_trip_count(filtered_df)\n",
    "trip_counts = get_district_names(trip_counts)\n",
    "trip_counts = normalize_by_pop(trip_counts, district_counts)\n",
    "trip_counts.to_csv('outputs/081224_FINAL_normalized_trip_count.csv', index=False) # saving final df"
   ]
  },
  {
   "cell_type": "code",
   "execution_count": 73,
   "metadata": {},
   "outputs": [
    {
     "data": {
      "text/html": [
       "<div>\n",
       "<style scoped>\n",
       "    .dataframe tbody tr th:only-of-type {\n",
       "        vertical-align: middle;\n",
       "    }\n",
       "\n",
       "    .dataframe tbody tr th {\n",
       "        vertical-align: top;\n",
       "    }\n",
       "\n",
       "    .dataframe thead th {\n",
       "        text-align: right;\n",
       "    }\n",
       "</style>\n",
       "<table border=\"1\" class=\"dataframe\">\n",
       "  <thead>\n",
       "    <tr style=\"text-align: right;\">\n",
       "      <th></th>\n",
       "      <th>origen</th>\n",
       "      <th>destino</th>\n",
       "      <th>trip_count</th>\n",
       "      <th>origin</th>\n",
       "      <th>destination</th>\n",
       "      <th>normalized_trip_count</th>\n",
       "    </tr>\n",
       "  </thead>\n",
       "  <tbody>\n",
       "    <tr>\n",
       "      <th>105</th>\n",
       "      <td>2807906</td>\n",
       "      <td>2807901</td>\n",
       "      <td>7038186869661</td>\n",
       "      <td>Tetuán</td>\n",
       "      <td>Centro</td>\n",
       "      <td>0.05042</td>\n",
       "    </tr>\n",
       "  </tbody>\n",
       "</table>\n",
       "</div>"
      ],
      "text/plain": [
       "      origen  destino     trip_count  origin destination  \\\n",
       "105  2807906  2807901  7038186869661  Tetuán      Centro   \n",
       "\n",
       "     normalized_trip_count  \n",
       "105                0.05042  "
      ]
     },
     "execution_count": 73,
     "metadata": {},
     "output_type": "execute_result"
    }
   ],
   "source": [
    "trip_counts[(trip_counts['origin'] == 'Tetuán') & (trip_counts['destination'] == 'Centro')]"
   ]
  },
  {
   "cell_type": "code",
   "execution_count": 74,
   "metadata": {},
   "outputs": [],
   "source": [
    "\n",
    "trip_counts = get_income_data(trip_counts, income, 'Gini Index', 'Median income per consumption unit')\n",
    "trip_counts = add_quantiles(trip_counts, 'Median income per consumption unit', n_quantiles=4)\n",
    "trip_counts = add_quantiles(trip_counts, 'Gini Index', n_quantiles=4)"
   ]
  },
  {
   "cell_type": "code",
   "execution_count": 75,
   "metadata": {},
   "outputs": [],
   "source": [
    "low_to_high_median = trip_counts[(trip_counts['income decile origin Median income per consumption unit'].isin([0, 1])) & \n",
    "                                      (trip_counts['income decile destination Median income per consumption unit'].isin([2, 3]))]\n",
    "\n",
    "high_to_low_median = trip_counts[(trip_counts['income decile origin Median income per consumption unit'].isin([2, 3])) & \n",
    "                                      (trip_counts['income decile destination Median income per consumption unit'].isin([0, 1]))]\n",
    "\n",
    "low_to_low_median = trip_counts[(trip_counts['income decile origin Median income per consumption unit'].isin([0, 1])) &\n",
    "                                (trip_counts['income decile destination Median income per consumption unit'].isin([0, 1]))]\n",
    "\n",
    "high_to_high_median = trip_counts[(trip_counts['income decile origin Median income per consumption unit'].isin([2, 3])) & \n",
    "                                trip_counts['income decile destination Median income per consumption unit'].isin([2, 3])]"
   ]
  },
  {
   "cell_type": "code",
   "execution_count": 76,
   "metadata": {},
   "outputs": [
    {
     "data": {
      "text/plain": [
       "np.float64(17.244022011319345)"
      ]
     },
     "execution_count": 76,
     "metadata": {},
     "output_type": "execute_result"
    }
   ],
   "source": [
    "# percentage of trips from low to high districts (median income per consumtion unit)\n",
    "# low_to_high_median['trip_count'].sum() / trip_counts.trip_count.sum() * 100\n",
    "\n",
    "low_to_high_median['normalized_trip_count'].sum() / trip_counts.normalized_trip_count.sum() * 100"
   ]
  },
  {
   "cell_type": "code",
   "execution_count": 77,
   "metadata": {},
   "outputs": [
    {
     "data": {
      "text/plain": [
       "np.float64(15.192989090765272)"
      ]
     },
     "execution_count": 77,
     "metadata": {},
     "output_type": "execute_result"
    }
   ],
   "source": [
    "# percentage of trips from high to low districts (median income per consumtion unit)\n",
    "# high_to_low_median['trip_count'].sum() / trip_counts.trip_count.sum() * 100\n",
    "\n",
    "high_to_low_median['normalized_trip_count'].sum() / trip_counts.normalized_trip_count.sum() * 100"
   ]
  },
  {
   "cell_type": "code",
   "execution_count": 78,
   "metadata": {},
   "outputs": [
    {
     "data": {
      "text/plain": [
       "np.float64(35.136930369633035)"
      ]
     },
     "execution_count": 78,
     "metadata": {},
     "output_type": "execute_result"
    }
   ],
   "source": [
    "# low_to_low_median['trip_count'].sum() / trip_counts.trip_count.sum() * 100 \n",
    "\n",
    "low_to_low_median['normalized_trip_count'].sum() / trip_counts.normalized_trip_count.sum() * 100"
   ]
  },
  {
   "cell_type": "code",
   "execution_count": 79,
   "metadata": {},
   "outputs": [
    {
     "data": {
      "text/plain": [
       "np.float64(32.42605852828235)"
      ]
     },
     "execution_count": 79,
     "metadata": {},
     "output_type": "execute_result"
    }
   ],
   "source": [
    "# high_to_high_median['trip_count'].sum() / trip_counts.trip_count.sum() * 100 \n",
    "\n",
    "high_to_high_median['normalized_trip_count'].sum() / trip_counts.normalized_trip_count.sum() * 100"
   ]
  },
  {
   "attachments": {},
   "cell_type": "markdown",
   "metadata": {},
   "source": [
    "Question 2, all trips with home origin:"
   ]
  },
  {
   "cell_type": "code",
   "execution_count": 80,
   "metadata": {},
   "outputs": [],
   "source": [
    "distance_counts = build_distance_count(filtered_df) # adding 'distancia' to the analysis\n",
    "distance_counts = get_district_names(distance_counts)\n",
    "distance_counts = get_income_data(distance_counts, income, 'Gini Index', 'Median income per consumption unit')\n",
    "distance_counts = add_quantiles(distance_counts, 'Median income per consumption unit', n_quantiles=4)\n",
    "distance_counts = add_quantiles(distance_counts, 'Gini Index', n_quantiles=4)"
   ]
  },
  {
   "cell_type": "code",
   "execution_count": 81,
   "metadata": {},
   "outputs": [
    {
     "data": {
      "text/html": [
       "<div>\n",
       "<style scoped>\n",
       "    .dataframe tbody tr th:only-of-type {\n",
       "        vertical-align: middle;\n",
       "    }\n",
       "\n",
       "    .dataframe tbody tr th {\n",
       "        vertical-align: top;\n",
       "    }\n",
       "\n",
       "    .dataframe thead th {\n",
       "        text-align: right;\n",
       "    }\n",
       "</style>\n",
       "<table border=\"1\" class=\"dataframe\">\n",
       "  <thead>\n",
       "    <tr style=\"text-align: right;\">\n",
       "      <th></th>\n",
       "      <th>viajes_km</th>\n",
       "      <th>viajes</th>\n",
       "      <th>distance_per_trip</th>\n",
       "      <th>origin</th>\n",
       "      <th>destination</th>\n",
       "      <th>Origin Gini Index</th>\n",
       "      <th>Origin Median income per consumption unit</th>\n",
       "      <th>Destination Gini Index</th>\n",
       "      <th>Destination Median income per consumption unit</th>\n",
       "      <th>income decile origin Median income per consumption unit</th>\n",
       "      <th>income decile destination Median income per consumption unit</th>\n",
       "      <th>income decile origin Gini Index</th>\n",
       "      <th>income decile destination Gini Index</th>\n",
       "    </tr>\n",
       "  </thead>\n",
       "  <tbody>\n",
       "    <tr>\n",
       "      <th>0</th>\n",
       "      <td>26266415152375</td>\n",
       "      <td>24324971550694</td>\n",
       "      <td>1.079813</td>\n",
       "      <td>Centro</td>\n",
       "      <td>Centro</td>\n",
       "      <td>39.8</td>\n",
       "      <td>20650</td>\n",
       "      <td>39.8</td>\n",
       "      <td>20650</td>\n",
       "      <td>2</td>\n",
       "      <td>2</td>\n",
       "      <td>3</td>\n",
       "      <td>3</td>\n",
       "    </tr>\n",
       "    <tr>\n",
       "      <th>1</th>\n",
       "      <td>19297124157848</td>\n",
       "      <td>18484663675589</td>\n",
       "      <td>1.043953</td>\n",
       "      <td>Centro</td>\n",
       "      <td>Arganzuela</td>\n",
       "      <td>39.8</td>\n",
       "      <td>20650</td>\n",
       "      <td>31.0</td>\n",
       "      <td>26250</td>\n",
       "      <td>2</td>\n",
       "      <td>2</td>\n",
       "      <td>3</td>\n",
       "      <td>0</td>\n",
       "    </tr>\n",
       "    <tr>\n",
       "      <th>2</th>\n",
       "      <td>10009632888723</td>\n",
       "      <td>9149580288556</td>\n",
       "      <td>1.093999</td>\n",
       "      <td>Centro</td>\n",
       "      <td>Retiro</td>\n",
       "      <td>39.8</td>\n",
       "      <td>20650</td>\n",
       "      <td>33.1</td>\n",
       "      <td>30450</td>\n",
       "      <td>2</td>\n",
       "      <td>3</td>\n",
       "      <td>3</td>\n",
       "      <td>1</td>\n",
       "    </tr>\n",
       "    <tr>\n",
       "      <th>3</th>\n",
       "      <td>6886099976708</td>\n",
       "      <td>5956602526113</td>\n",
       "      <td>1.156045</td>\n",
       "      <td>Centro</td>\n",
       "      <td>Salamanca</td>\n",
       "      <td>39.8</td>\n",
       "      <td>20650</td>\n",
       "      <td>40.2</td>\n",
       "      <td>29750</td>\n",
       "      <td>2</td>\n",
       "      <td>3</td>\n",
       "      <td>3</td>\n",
       "      <td>3</td>\n",
       "    </tr>\n",
       "    <tr>\n",
       "      <th>4</th>\n",
       "      <td>2338622524232</td>\n",
       "      <td>2407389146007</td>\n",
       "      <td>0.971435</td>\n",
       "      <td>Centro</td>\n",
       "      <td>Chamartín</td>\n",
       "      <td>39.8</td>\n",
       "      <td>20650</td>\n",
       "      <td>40.2</td>\n",
       "      <td>32550</td>\n",
       "      <td>2</td>\n",
       "      <td>3</td>\n",
       "      <td>3</td>\n",
       "      <td>3</td>\n",
       "    </tr>\n",
       "    <tr>\n",
       "      <th>...</th>\n",
       "      <td>...</td>\n",
       "      <td>...</td>\n",
       "      <td>...</td>\n",
       "      <td>...</td>\n",
       "      <td>...</td>\n",
       "      <td>...</td>\n",
       "      <td>...</td>\n",
       "      <td>...</td>\n",
       "      <td>...</td>\n",
       "      <td>...</td>\n",
       "      <td>...</td>\n",
       "      <td>...</td>\n",
       "      <td>...</td>\n",
       "    </tr>\n",
       "    <tr>\n",
       "      <th>436</th>\n",
       "      <td>59652751</td>\n",
       "      <td>3455182</td>\n",
       "      <td>17.264720</td>\n",
       "      <td>Barajas</td>\n",
       "      <td>Villaverde</td>\n",
       "      <td>33.2</td>\n",
       "      <td>25550</td>\n",
       "      <td>31.9</td>\n",
       "      <td>15050</td>\n",
       "      <td>2</td>\n",
       "      <td>0</td>\n",
       "      <td>1</td>\n",
       "      <td>1</td>\n",
       "    </tr>\n",
       "    <tr>\n",
       "      <th>437</th>\n",
       "      <td>75704580</td>\n",
       "      <td>6276638</td>\n",
       "      <td>12.061326</td>\n",
       "      <td>Barajas</td>\n",
       "      <td>Villa de Vallecas</td>\n",
       "      <td>33.2</td>\n",
       "      <td>25550</td>\n",
       "      <td>31.1</td>\n",
       "      <td>18550</td>\n",
       "      <td>2</td>\n",
       "      <td>0</td>\n",
       "      <td>1</td>\n",
       "      <td>0</td>\n",
       "    </tr>\n",
       "    <tr>\n",
       "      <th>438</th>\n",
       "      <td>13271955445</td>\n",
       "      <td>124321622892</td>\n",
       "      <td>0.106755</td>\n",
       "      <td>Barajas</td>\n",
       "      <td>Vicálvaro</td>\n",
       "      <td>33.2</td>\n",
       "      <td>25550</td>\n",
       "      <td>30.4</td>\n",
       "      <td>19250</td>\n",
       "      <td>2</td>\n",
       "      <td>1</td>\n",
       "      <td>1</td>\n",
       "      <td>0</td>\n",
       "    </tr>\n",
       "    <tr>\n",
       "      <th>439</th>\n",
       "      <td>22691886908929</td>\n",
       "      <td>20348620894106</td>\n",
       "      <td>1.115156</td>\n",
       "      <td>Barajas</td>\n",
       "      <td>San Blas-Canillejas</td>\n",
       "      <td>33.2</td>\n",
       "      <td>25550</td>\n",
       "      <td>33.8</td>\n",
       "      <td>19250</td>\n",
       "      <td>2</td>\n",
       "      <td>1</td>\n",
       "      <td>1</td>\n",
       "      <td>2</td>\n",
       "    </tr>\n",
       "    <tr>\n",
       "      <th>440</th>\n",
       "      <td>30774374696981</td>\n",
       "      <td>31152927901561</td>\n",
       "      <td>0.987849</td>\n",
       "      <td>Barajas</td>\n",
       "      <td>Barajas</td>\n",
       "      <td>33.2</td>\n",
       "      <td>25550</td>\n",
       "      <td>33.2</td>\n",
       "      <td>25550</td>\n",
       "      <td>2</td>\n",
       "      <td>2</td>\n",
       "      <td>1</td>\n",
       "      <td>1</td>\n",
       "    </tr>\n",
       "  </tbody>\n",
       "</table>\n",
       "<p>441 rows × 13 columns</p>\n",
       "</div>"
      ],
      "text/plain": [
       "          viajes_km          viajes  distance_per_trip   origin  \\\n",
       "0    26266415152375  24324971550694           1.079813   Centro   \n",
       "1    19297124157848  18484663675589           1.043953   Centro   \n",
       "2    10009632888723   9149580288556           1.093999   Centro   \n",
       "3     6886099976708   5956602526113           1.156045   Centro   \n",
       "4     2338622524232   2407389146007           0.971435   Centro   \n",
       "..              ...             ...                ...      ...   \n",
       "436        59652751         3455182          17.264720  Barajas   \n",
       "437        75704580         6276638          12.061326  Barajas   \n",
       "438     13271955445    124321622892           0.106755  Barajas   \n",
       "439  22691886908929  20348620894106           1.115156  Barajas   \n",
       "440  30774374696981  31152927901561           0.987849  Barajas   \n",
       "\n",
       "             destination  Origin Gini Index  \\\n",
       "0                 Centro               39.8   \n",
       "1             Arganzuela               39.8   \n",
       "2                 Retiro               39.8   \n",
       "3              Salamanca               39.8   \n",
       "4              Chamartín               39.8   \n",
       "..                   ...                ...   \n",
       "436           Villaverde               33.2   \n",
       "437    Villa de Vallecas               33.2   \n",
       "438            Vicálvaro               33.2   \n",
       "439  San Blas-Canillejas               33.2   \n",
       "440              Barajas               33.2   \n",
       "\n",
       "     Origin Median income per consumption unit  Destination Gini Index  \\\n",
       "0                                        20650                    39.8   \n",
       "1                                        20650                    31.0   \n",
       "2                                        20650                    33.1   \n",
       "3                                        20650                    40.2   \n",
       "4                                        20650                    40.2   \n",
       "..                                         ...                     ...   \n",
       "436                                      25550                    31.9   \n",
       "437                                      25550                    31.1   \n",
       "438                                      25550                    30.4   \n",
       "439                                      25550                    33.8   \n",
       "440                                      25550                    33.2   \n",
       "\n",
       "     Destination Median income per consumption unit  \\\n",
       "0                                             20650   \n",
       "1                                             26250   \n",
       "2                                             30450   \n",
       "3                                             29750   \n",
       "4                                             32550   \n",
       "..                                              ...   \n",
       "436                                           15050   \n",
       "437                                           18550   \n",
       "438                                           19250   \n",
       "439                                           19250   \n",
       "440                                           25550   \n",
       "\n",
       "     income decile origin Median income per consumption unit  \\\n",
       "0                                                    2         \n",
       "1                                                    2         \n",
       "2                                                    2         \n",
       "3                                                    2         \n",
       "4                                                    2         \n",
       "..                                                 ...         \n",
       "436                                                  2         \n",
       "437                                                  2         \n",
       "438                                                  2         \n",
       "439                                                  2         \n",
       "440                                                  2         \n",
       "\n",
       "     income decile destination Median income per consumption unit  \\\n",
       "0                                                    2              \n",
       "1                                                    2              \n",
       "2                                                    3              \n",
       "3                                                    3              \n",
       "4                                                    3              \n",
       "..                                                 ...              \n",
       "436                                                  0              \n",
       "437                                                  0              \n",
       "438                                                  1              \n",
       "439                                                  1              \n",
       "440                                                  2              \n",
       "\n",
       "     income decile origin Gini Index  income decile destination Gini Index  \n",
       "0                                  3                                     3  \n",
       "1                                  3                                     0  \n",
       "2                                  3                                     1  \n",
       "3                                  3                                     3  \n",
       "4                                  3                                     3  \n",
       "..                               ...                                   ...  \n",
       "436                                1                                     1  \n",
       "437                                1                                     0  \n",
       "438                                1                                     0  \n",
       "439                                1                                     2  \n",
       "440                                1                                     1  \n",
       "\n",
       "[441 rows x 13 columns]"
      ]
     },
     "execution_count": 81,
     "metadata": {},
     "output_type": "execute_result"
    }
   ],
   "source": [
    "distance_counts"
   ]
  },
  {
   "cell_type": "code",
   "execution_count": 82,
   "metadata": {},
   "outputs": [
    {
     "name": "stderr",
     "output_type": "stream",
     "text": [
      "/var/folders/5y/mx06x73d0yb7mfb57y7lb2nh0000gn/T/ipykernel_16612/4266632428.py:3: SettingWithCopyWarning: \n",
      "A value is trying to be set on a copy of a slice from a DataFrame.\n",
      "Try using .loc[row_indexer,col_indexer] = value instead\n",
      "\n",
      "See the caveats in the documentation: https://pandas.pydata.org/pandas-docs/stable/user_guide/indexing.html#returning-a-view-versus-a-copy\n",
      "  low_median_income['Income Group'] = 'Low Income'\n",
      "/var/folders/5y/mx06x73d0yb7mfb57y7lb2nh0000gn/T/ipykernel_16612/4266632428.py:4: SettingWithCopyWarning: \n",
      "A value is trying to be set on a copy of a slice from a DataFrame.\n",
      "Try using .loc[row_indexer,col_indexer] = value instead\n",
      "\n",
      "See the caveats in the documentation: https://pandas.pydata.org/pandas-docs/stable/user_guide/indexing.html#returning-a-view-versus-a-copy\n",
      "  high_median_income['Income Group'] = 'High Income'\n"
     ]
    }
   ],
   "source": [
    "low_median_income = distance_counts[distance_counts['income decile origin Median income per consumption unit'].isin([0, 1])]\n",
    "high_median_income = distance_counts[distance_counts['income decile origin Median income per consumption unit'].isin([2, 3])]\n",
    "low_median_income['Income Group'] = 'Low Income'\n",
    "high_median_income['Income Group'] = 'High Income'"
   ]
  },
  {
   "cell_type": "code",
   "execution_count": 83,
   "metadata": {},
   "outputs": [
    {
     "data": {
      "text/plain": [
       "count    231.000000\n",
       "mean       2.156652\n",
       "std        3.377143\n",
       "min        0.286401\n",
       "25%        0.856890\n",
       "50%        1.019832\n",
       "75%        1.265578\n",
       "max       18.414045\n",
       "Name: distance_per_trip, dtype: float64"
      ]
     },
     "execution_count": 83,
     "metadata": {},
     "output_type": "execute_result"
    }
   ],
   "source": [
    "low_median_income['distance_per_trip'].describe()"
   ]
  },
  {
   "cell_type": "code",
   "execution_count": 84,
   "metadata": {},
   "outputs": [
    {
     "data": {
      "text/plain": [
       "count    210.000000\n",
       "mean       2.091030\n",
       "std        3.192741\n",
       "min        0.056194\n",
       "25%        0.832850\n",
       "50%        1.045605\n",
       "75%        1.327099\n",
       "max       17.264720\n",
       "Name: distance_per_trip, dtype: float64"
      ]
     },
     "execution_count": 84,
     "metadata": {},
     "output_type": "execute_result"
    }
   ],
   "source": [
    "high_median_income['distance_per_trip'].describe()"
   ]
  },
  {
   "cell_type": "code",
   "execution_count": 85,
   "metadata": {},
   "outputs": [
    {
     "name": "stderr",
     "output_type": "stream",
     "text": [
      "/var/folders/5y/mx06x73d0yb7mfb57y7lb2nh0000gn/T/ipykernel_16612/929108078.py:5: FutureWarning: \n",
      "\n",
      "Passing `palette` without assigning `hue` is deprecated and will be removed in v0.14.0. Assign the `x` variable to `hue` and set `legend=False` for the same effect.\n",
      "\n",
      "  sns.boxplot(x='Income Group', y='distance_per_trip', data=combined_df, palette='Set2')\n"
     ]
    },
    {
     "data": {
      "image/png": "[encoded data removed]",
      "text/plain": [
       "<Figure size 1200x600 with 1 Axes>"
      ]
     },
     "metadata": {},
     "output_type": "display_data"
    }
   ],
   "source": [
    "combined_df = pd.concat([low_median_income, high_median_income])\n",
    "\n",
    "# Plot the distribution of distance_per_trip\n",
    "plt.figure(figsize=(12, 6))\n",
    "sns.boxplot(x='Income Group', y='distance_per_trip', data=combined_df, palette='Set2')\n",
    "\n",
    "plt.title('Comparison of Distance Per Trip by Income Group')\n",
    "plt.xlabel('Income Group')\n",
    "plt.ylabel('Distance Per Trip')\n",
    "plt.tight_layout()\n",
    "\n",
    "# Save and show the plot\n",
    "# plt.savefig('distance_per_trip_comparison.png', dpi=300)\n",
    "plt.show()"
   ]
  },
  {
   "cell_type": "code",
   "execution_count": 86,
   "metadata": {},
   "outputs": [
    {
     "data": {
      "image/png": "[encoded data removed]",
      "text/plain": [
       "<Figure size 1200x600 with 1 Axes>"
      ]
     },
     "metadata": {},
     "output_type": "display_data"
    }
   ],
   "source": [
    "plt.figure(figsize=(12, 6))\n",
    "sns.kdeplot(low_median_income['distance_per_trip'], label='Low Income', fill=True, color='blue', alpha=0.5)\n",
    "sns.kdeplot(high_median_income['distance_per_trip'], label='High Income', fill=True, color='red', alpha=0.5)\n",
    "\n",
    "plt.title('Density Plot of Distance Per Trip by Income Group')\n",
    "plt.xlabel('Distance Per Trip')\n",
    "plt.ylabel('Density')\n",
    "plt.legend()\n",
    "plt.tight_layout()\n",
    "plt.show()"
   ]
  },
  {
   "attachments": {},
   "cell_type": "markdown",
   "metadata": {},
   "source": [
    "## Filtering trips by Gini Index quantile"
   ]
  },
  {
   "attachments": {},
   "cell_type": "markdown",
   "metadata": {},
   "source": [
    "Question 1, all trips with home origin, Gini Index:"
   ]
  },
  {
   "cell_type": "code",
   "execution_count": 87,
   "metadata": {},
   "outputs": [],
   "source": [
    "trip_counts = build_trip_count(filtered_df)\n",
    "trip_counts = get_district_names(trip_counts)\n",
    "trip_counts = normalize_by_pop(trip_counts, district_counts)\n",
    "trip_counts = get_income_data(trip_counts, income, 'Gini Index', 'Median income per consumption unit')\n",
    "trip_counts = add_quantiles(trip_counts, 'Median income per consumption unit', n_quantiles=4)\n",
    "trip_counts = add_quantiles(trip_counts, 'Gini Index', n_quantiles=4)"
   ]
  },
  {
   "cell_type": "code",
   "execution_count": 88,
   "metadata": {},
   "outputs": [],
   "source": [
    "low_to_high_gini = trip_counts[(trip_counts['income decile origin Gini Index'].isin([0, 1])) & \n",
    "                                      (trip_counts['income decile destination Gini Index'].isin([2, 3]))]\n",
    "\n",
    "high_to_low_gini = trip_counts[(trip_counts['income decile origin Gini Index'].isin([2, 3])) & \n",
    "                                      (trip_counts['income decile destination Gini Index'].isin([0, 1]))]\n",
    "\n",
    "low_to_low_gini = trip_counts[(trip_counts['income decile origin Gini Index'].isin([0, 1])) &\n",
    "                              (trip_counts['income decile destination Gini Index'].isin([0, 1]))]\n",
    "\n",
    "\n",
    "high_to_high_gini = trip_counts[(trip_counts['income decile origin Gini Index'].isin([2, 3])) & \n",
    "                                (trip_counts['income decile destination Gini Index'].isin([2, 3]))]"
   ]
  },
  {
   "cell_type": "code",
   "execution_count": 89,
   "metadata": {},
   "outputs": [
    {
     "data": {
      "text/plain": [
       "np.float64(14.0955446675551)"
      ]
     },
     "execution_count": 89,
     "metadata": {},
     "output_type": "execute_result"
    }
   ],
   "source": [
    "# percentage of trips from low to high districts (gini index)\n",
    "# low_to_high_gini['trip_count'].sum() / trip_counts.trip_count.sum() * 100 \n",
    "\n",
    "low_to_high_gini['normalized_trip_count'].sum() / trip_counts.normalized_trip_count.sum() * 100 "
   ]
  },
  {
   "cell_type": "code",
   "execution_count": 90,
   "metadata": {},
   "outputs": [
    {
     "data": {
      "text/plain": [
       "np.float64(9.492525118551734)"
      ]
     },
     "execution_count": 90,
     "metadata": {},
     "output_type": "execute_result"
    }
   ],
   "source": [
    "# percentage of trips from high to low districts (gini index)\n",
    "# high_to_low_gini['trip_count'].sum() / trip_counts.trip_count.sum() * 100 \n",
    "\n",
    "high_to_low_gini['normalized_trip_count'].sum() / trip_counts.normalized_trip_count.sum() * 100 "
   ]
  },
  {
   "cell_type": "code",
   "execution_count": 91,
   "metadata": {},
   "outputs": [
    {
     "data": {
      "text/plain": [
       "np.float64(38.28540771339729)"
      ]
     },
     "execution_count": 91,
     "metadata": {},
     "output_type": "execute_result"
    }
   ],
   "source": [
    "# low_to_low_gini['trip_count'].sum() / trip_counts.trip_count.sum() * 100 \n",
    "\n",
    "low_to_low_gini['normalized_trip_count'].sum() / trip_counts.normalized_trip_count.sum() * 100 "
   ]
  },
  {
   "cell_type": "code",
   "execution_count": 92,
   "metadata": {},
   "outputs": [
    {
     "data": {
      "text/plain": [
       "np.float64(38.12652250049589)"
      ]
     },
     "execution_count": 92,
     "metadata": {},
     "output_type": "execute_result"
    }
   ],
   "source": [
    "# high_to_high_gini['trip_count'].sum() / trip_counts.trip_count.sum() * 100 \n",
    "\n",
    "high_to_high_gini['normalized_trip_count'].sum() / trip_counts.normalized_trip_count.sum() * 100 "
   ]
  },
  {
   "attachments": {},
   "cell_type": "markdown",
   "metadata": {},
   "source": [
    "Question 2, all trips with home origin, Gini Index:"
   ]
  },
  {
   "cell_type": "code",
   "execution_count": 93,
   "metadata": {},
   "outputs": [],
   "source": [
    "distance_counts = build_distance_count(filtered_df)\n",
    "distance_counts = get_district_names(distance_counts)\n",
    "distance_counts = get_income_data(distance_counts, income, 'Gini Index', 'Median income per consumption unit')\n",
    "distance_counts = add_quantiles(distance_counts, 'Median income per consumption unit', n_quantiles=4)\n",
    "distance_counts = add_quantiles(distance_counts, 'Gini Index', n_quantiles=4)"
   ]
  },
  {
   "cell_type": "code",
   "execution_count": 94,
   "metadata": {},
   "outputs": [
    {
     "name": "stderr",
     "output_type": "stream",
     "text": [
      "/var/folders/5y/mx06x73d0yb7mfb57y7lb2nh0000gn/T/ipykernel_16612/2578560989.py:3: SettingWithCopyWarning: \n",
      "A value is trying to be set on a copy of a slice from a DataFrame.\n",
      "Try using .loc[row_indexer,col_indexer] = value instead\n",
      "\n",
      "See the caveats in the documentation: https://pandas.pydata.org/pandas-docs/stable/user_guide/indexing.html#returning-a-view-versus-a-copy\n",
      "  low_gini['Income Group'] = 'Low Gini'\n",
      "/var/folders/5y/mx06x73d0yb7mfb57y7lb2nh0000gn/T/ipykernel_16612/2578560989.py:4: SettingWithCopyWarning: \n",
      "A value is trying to be set on a copy of a slice from a DataFrame.\n",
      "Try using .loc[row_indexer,col_indexer] = value instead\n",
      "\n",
      "See the caveats in the documentation: https://pandas.pydata.org/pandas-docs/stable/user_guide/indexing.html#returning-a-view-versus-a-copy\n",
      "  high_gini['Income Group'] = 'High Gini'\n"
     ]
    }
   ],
   "source": [
    "low_gini = distance_counts[distance_counts['income decile origin Gini Index'].isin([0, 1])]\n",
    "high_gini = distance_counts[distance_counts['income decile origin Gini Index'].isin([2, 3])]\n",
    "low_gini['Income Group'] = 'Low Gini'\n",
    "high_gini['Income Group'] = 'High Gini'"
   ]
  },
  {
   "cell_type": "code",
   "execution_count": 95,
   "metadata": {},
   "outputs": [
    {
     "data": {
      "text/plain": [
       "count    231.000000\n",
       "mean       2.387281\n",
       "std        3.686758\n",
       "min        0.106755\n",
       "25%        0.829430\n",
       "50%        1.037744\n",
       "75%        1.377958\n",
       "max       18.414045\n",
       "Name: distance_per_trip, dtype: float64"
      ]
     },
     "execution_count": 95,
     "metadata": {},
     "output_type": "execute_result"
    }
   ],
   "source": [
    "low_gini['distance_per_trip'].describe()"
   ]
  },
  {
   "cell_type": "code",
   "execution_count": 96,
   "metadata": {},
   "outputs": [
    {
     "data": {
      "text/plain": [
       "count    210.000000\n",
       "mean       1.837338\n",
       "std        2.762216\n",
       "min        0.056194\n",
       "25%        0.867037\n",
       "50%        1.027217\n",
       "75%        1.234009\n",
       "max       14.731944\n",
       "Name: distance_per_trip, dtype: float64"
      ]
     },
     "execution_count": 96,
     "metadata": {},
     "output_type": "execute_result"
    }
   ],
   "source": [
    "high_gini['distance_per_trip'].describe()"
   ]
  },
  {
   "cell_type": "code",
   "execution_count": 97,
   "metadata": {},
   "outputs": [
    {
     "name": "stderr",
     "output_type": "stream",
     "text": [
      "/var/folders/5y/mx06x73d0yb7mfb57y7lb2nh0000gn/T/ipykernel_16612/860395561.py:5: FutureWarning: \n",
      "\n",
      "Passing `palette` without assigning `hue` is deprecated and will be removed in v0.14.0. Assign the `x` variable to `hue` and set `legend=False` for the same effect.\n",
      "\n",
      "  sns.boxplot(x='Income Group', y='distance_per_trip', data=combined_df, palette='Set2')\n"
     ]
    },
    {
     "data": {
      "image/png": "[encoded data removed]",
      "text/plain": [
       "<Figure size 1200x600 with 1 Axes>"
      ]
     },
     "metadata": {},
     "output_type": "display_data"
    }
   ],
   "source": [
    "combined_df = pd.concat([low_gini, high_gini])\n",
    "\n",
    "# Plot the distribution of distance_per_trip\n",
    "plt.figure(figsize=(12, 6))\n",
    "sns.boxplot(x='Income Group', y='distance_per_trip', data=combined_df, palette='Set2')\n",
    "\n",
    "plt.title('Comparison of Distance Per Trip by Gini Group')\n",
    "plt.xlabel('Gini Group')\n",
    "plt.ylabel('Distance Per Trip')\n",
    "plt.tight_layout()\n",
    "\n",
    "# Save and show the plot\n",
    "# plt.savefig('distance_per_trip_comparison.png', dpi=300)\n",
    "plt.show()"
   ]
  },
  {
   "cell_type": "code",
   "execution_count": 98,
   "metadata": {},
   "outputs": [
    {
     "data": {
      "image/png": "[encoded data removed]",
      "text/plain": [
       "<Figure size 1200x600 with 1 Axes>"
      ]
     },
     "metadata": {},
     "output_type": "display_data"
    }
   ],
   "source": [
    "plt.figure(figsize=(12, 6))\n",
    "sns.kdeplot(low_gini['distance_per_trip'], label='Low Gini', fill=True, color='blue', alpha=0.5)\n",
    "sns.kdeplot(high_gini['distance_per_trip'], label='High Gini', fill=True, color='red', alpha=0.5)\n",
    "\n",
    "plt.title('Density Plot of Distance Per Trip by Gini Group')\n",
    "plt.xlabel('Distance Per Trip')\n",
    "plt.ylabel('Density')\n",
    "plt.legend()\n",
    "plt.tight_layout()\n",
    "plt.show()"
   ]
  },
  {
   "attachments": {},
   "cell_type": "markdown",
   "metadata": {},
   "source": [
    "## Further Analysis"
   ]
  },
  {
   "cell_type": "code",
   "execution_count": 99,
   "metadata": {},
   "outputs": [
    {
     "ename": "NameError",
     "evalue": "name 'comparison_normalized_median' is not defined",
     "output_type": "error",
     "traceback": [
      "\u001b[0;31m---------------------------------------------------------------------------\u001b[0m",
      "\u001b[0;31mNameError\u001b[0m                                 Traceback (most recent call last)",
      "Cell \u001b[0;32mIn[99], line 1\u001b[0m\n\u001b[0;32m----> 1\u001b[0m comparison_normalized_median[\u001b[39m\"\u001b[39m\u001b[39mDifference (\u001b[39m\u001b[39m%\u001b[39m\u001b[39m)\u001b[39m\u001b[39m\"\u001b[39m] \u001b[39m=\u001b[39m (comparison_normalized_median[\u001b[39m\"\u001b[39m\u001b[39mHigh Income\u001b[39m\u001b[39m\"\u001b[39m] \u001b[39m-\u001b[39m comparison_normalized_median[\u001b[39m\"\u001b[39m\u001b[39mLow Income\u001b[39m\u001b[39m\"\u001b[39m]) \u001b[39m*\u001b[39m \u001b[39m100\u001b[39m\n",
      "\u001b[0;31mNameError\u001b[0m: name 'comparison_normalized_median' is not defined"
     ]
    }
   ],
   "source": [
    "comparison_normalized_median[\"Difference (%)\"] = (comparison_normalized_median[\"High Income\"] - comparison_normalized_median[\"Low Income\"]) * 100"
   ]
  },
  {
   "cell_type": "code",
   "execution_count": null,
   "metadata": {},
   "outputs": [
    {
     "data": {
      "text/html": [
       "<div>\n",
       "<style scoped>\n",
       "    .dataframe tbody tr th:only-of-type {\n",
       "        vertical-align: middle;\n",
       "    }\n",
       "\n",
       "    .dataframe tbody tr th {\n",
       "        vertical-align: top;\n",
       "    }\n",
       "\n",
       "    .dataframe thead th {\n",
       "        text-align: right;\n",
       "    }\n",
       "</style>\n",
       "<table border=\"1\" class=\"dataframe\">\n",
       "  <thead>\n",
       "    <tr style=\"text-align: right;\">\n",
       "      <th></th>\n",
       "      <th>distance_bracket</th>\n",
       "      <th>Low Income</th>\n",
       "      <th>High Income</th>\n",
       "      <th>Difference (%)</th>\n",
       "    </tr>\n",
       "  </thead>\n",
       "  <tbody>\n",
       "    <tr>\n",
       "      <th>0</th>\n",
       "      <td>0.5-2</td>\n",
       "      <td>0.502618</td>\n",
       "      <td>0.591152</td>\n",
       "      <td>8.853439</td>\n",
       "    </tr>\n",
       "    <tr>\n",
       "      <th>1</th>\n",
       "      <td>2-10</td>\n",
       "      <td>0.436783</td>\n",
       "      <td>0.377005</td>\n",
       "      <td>-5.977863</td>\n",
       "    </tr>\n",
       "    <tr>\n",
       "      <th>2</th>\n",
       "      <td>10-50</td>\n",
       "      <td>0.060599</td>\n",
       "      <td>0.031843</td>\n",
       "      <td>-2.875576</td>\n",
       "    </tr>\n",
       "  </tbody>\n",
       "</table>\n",
       "</div>"
      ],
      "text/plain": [
       "  distance_bracket  Low Income  High Income  Difference (%)\n",
       "0            0.5-2    0.502618     0.591152        8.853439\n",
       "1             2-10    0.436783     0.377005       -5.977863\n",
       "2            10-50    0.060599     0.031843       -2.875576"
      ]
     },
     "execution_count": 42,
     "metadata": {},
     "output_type": "execute_result"
    }
   ],
   "source": [
    "comparison_normalized_median"
   ]
  },
  {
   "cell_type": "code",
   "execution_count": null,
   "metadata": {},
   "outputs": [],
   "source": [
    "comparison_normalized_gini[\"Difference (%)\"] = (comparison_normalized_gini[\"High Gini\"] - comparison_normalized_gini[\"Low Gini\"]) * 100"
   ]
  },
  {
   "cell_type": "code",
   "execution_count": null,
   "metadata": {},
   "outputs": [
    {
     "data": {
      "text/html": [
       "<div>\n",
       "<style scoped>\n",
       "    .dataframe tbody tr th:only-of-type {\n",
       "        vertical-align: middle;\n",
       "    }\n",
       "\n",
       "    .dataframe tbody tr th {\n",
       "        vertical-align: top;\n",
       "    }\n",
       "\n",
       "    .dataframe thead th {\n",
       "        text-align: right;\n",
       "    }\n",
       "</style>\n",
       "<table border=\"1\" class=\"dataframe\">\n",
       "  <thead>\n",
       "    <tr style=\"text-align: right;\">\n",
       "      <th></th>\n",
       "      <th>distance_bracket</th>\n",
       "      <th>Low Gini</th>\n",
       "      <th>High Gini</th>\n",
       "      <th>Difference (%)</th>\n",
       "    </tr>\n",
       "  </thead>\n",
       "  <tbody>\n",
       "    <tr>\n",
       "      <th>0</th>\n",
       "      <td>0.5-2</td>\n",
       "      <td>0.500439</td>\n",
       "      <td>0.593549</td>\n",
       "      <td>9.311035</td>\n",
       "    </tr>\n",
       "    <tr>\n",
       "      <th>1</th>\n",
       "      <td>2-10</td>\n",
       "      <td>0.434147</td>\n",
       "      <td>0.379905</td>\n",
       "      <td>-5.424217</td>\n",
       "    </tr>\n",
       "    <tr>\n",
       "      <th>2</th>\n",
       "      <td>10-50</td>\n",
       "      <td>0.065414</td>\n",
       "      <td>0.026546</td>\n",
       "      <td>-3.886819</td>\n",
       "    </tr>\n",
       "  </tbody>\n",
       "</table>\n",
       "</div>"
      ],
      "text/plain": [
       "  distance_bracket  Low Gini  High Gini  Difference (%)\n",
       "0            0.5-2  0.500439   0.593549        9.311035\n",
       "1             2-10  0.434147   0.379905       -5.424217\n",
       "2            10-50  0.065414   0.026546       -3.886819"
      ]
     },
     "execution_count": 44,
     "metadata": {},
     "output_type": "execute_result"
    }
   ],
   "source": [
    "comparison_normalized_gini"
   ]
  }
 ],
 "metadata": {
  "kernelspec": {
   "display_name": ".thesis_env",
   "language": "python",
   "name": "python3"
  },
  "language_info": {
   "codemirror_mode": {
    "name": "ipython",
    "version": 3
   },
   "file_extension": ".py",
   "mimetype": "text/x-python",
   "name": "python",
   "nbconvert_exporter": "python",
   "pygments_lexer": "ipython3",
   "version": "3.11.4"
  },
  "orig_nbformat": 4,
  "vscode": {
   "interpreter": {
    "hash": "dc5a137c8466a4ffb6ded1bc1d0edcb068d49351ebe910c5391764b8894bd5ea"
   }
  }
 },
 "nbformat": 4,
 "nbformat_minor": 2
}
