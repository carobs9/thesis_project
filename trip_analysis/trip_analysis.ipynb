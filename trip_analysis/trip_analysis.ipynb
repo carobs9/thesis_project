{
 "cells": [
  {
   "cell_type": "code",
   "execution_count": 485,
   "metadata": {},
   "outputs": [],
   "source": [
    "import networkx as nx\n",
    "import pandas as pd\n",
    "import geopandas as gpd\n",
    "import config as cfg\n",
    "import numpy as np\n",
    "import matplotlib.pyplot as plt\n",
    "from utils import build_trip_count, get_district_names, normalize_by_pop, get_income_data, add_quantiles"
   ]
  },
  {
   "cell_type": "code",
   "execution_count": 486,
   "metadata": {},
   "outputs": [],
   "source": [
    "all_viajes = pd.read_csv('/Users/caro/Desktop/thesis_project/mobility_data/VIAJES/all_viajes_month_0322.csv') # all trips\n",
    "income = gpd.read_file('/Users/caro/Desktop/thesis_project/segregation_indices/data/processed/geometries_and_income.geojson') # income data\n",
    "gdf = gpd.read_file(cfg.ZONIFICACION_DATA / 'distritos/madrid_gdf.geojson') # geodataframe\n",
    "# gdf = gdf.to_crs(epsg=4326)\n",
    "district_mapping = pd.read_csv('/Users/caro/Desktop/thesis_project/data_overview/outputs/districts_and_population.csv')"
   ]
  },
  {
   "cell_type": "code",
   "execution_count": 487,
   "metadata": {},
   "outputs": [
    {
     "data": {
      "text/plain": [
       "actividad_destino\n",
       "frecuente          7268863\n",
       "casa               4933456\n",
       "no_frecuente       4920539\n",
       "trabajo_estudio    2778097\n",
       "Name: count, dtype: int64"
      ]
     },
     "execution_count": 487,
     "metadata": {},
     "output_type": "execute_result"
    }
   ],
   "source": [
    "all_viajes.actividad_destino.value_counts()"
   ]
  },
  {
   "cell_type": "code",
   "execution_count": 488,
   "metadata": {},
   "outputs": [
    {
     "data": {
      "text/html": [
       "<div>\n",
       "<style scoped>\n",
       "    .dataframe tbody tr th:only-of-type {\n",
       "        vertical-align: middle;\n",
       "    }\n",
       "\n",
       "    .dataframe tbody tr th {\n",
       "        vertical-align: top;\n",
       "    }\n",
       "\n",
       "    .dataframe thead th {\n",
       "        text-align: right;\n",
       "    }\n",
       "</style>\n",
       "<table border=\"1\" class=\"dataframe\">\n",
       "  <thead>\n",
       "    <tr style=\"text-align: right;\">\n",
       "      <th></th>\n",
       "      <th>fecha</th>\n",
       "      <th>periodo</th>\n",
       "      <th>origen</th>\n",
       "      <th>destino</th>\n",
       "      <th>distancia</th>\n",
       "      <th>actividad_origen</th>\n",
       "      <th>actividad_destino</th>\n",
       "      <th>estudio_origen_posible</th>\n",
       "      <th>estudio_destino_posible</th>\n",
       "      <th>residencia</th>\n",
       "      <th>renta</th>\n",
       "      <th>edad</th>\n",
       "      <th>sexo</th>\n",
       "      <th>viajes</th>\n",
       "      <th>viajes_km</th>\n",
       "    </tr>\n",
       "  </thead>\n",
       "  <tbody>\n",
       "    <tr>\n",
       "      <th>0</th>\n",
       "      <td>20220301</td>\n",
       "      <td>0</td>\n",
       "      <td>2807901</td>\n",
       "      <td>2807901</td>\n",
       "      <td>0.5-2</td>\n",
       "      <td>casa</td>\n",
       "      <td>frecuente</td>\n",
       "      <td>no</td>\n",
       "      <td>no</td>\n",
       "      <td>28</td>\n",
       "      <td>&gt;15</td>\n",
       "      <td>0-25</td>\n",
       "      <td>hombre</td>\n",
       "      <td>29.337</td>\n",
       "      <td>30.222</td>\n",
       "    </tr>\n",
       "    <tr>\n",
       "      <th>1</th>\n",
       "      <td>20220301</td>\n",
       "      <td>0</td>\n",
       "      <td>2807901</td>\n",
       "      <td>2807901</td>\n",
       "      <td>0.5-2</td>\n",
       "      <td>casa</td>\n",
       "      <td>frecuente</td>\n",
       "      <td>no</td>\n",
       "      <td>no</td>\n",
       "      <td>28</td>\n",
       "      <td>&gt;15</td>\n",
       "      <td>0-25</td>\n",
       "      <td>mujer</td>\n",
       "      <td>34.143</td>\n",
       "      <td>27.522</td>\n",
       "    </tr>\n",
       "    <tr>\n",
       "      <th>2</th>\n",
       "      <td>20220301</td>\n",
       "      <td>0</td>\n",
       "      <td>2807901</td>\n",
       "      <td>2807901</td>\n",
       "      <td>0.5-2</td>\n",
       "      <td>casa</td>\n",
       "      <td>frecuente</td>\n",
       "      <td>no</td>\n",
       "      <td>no</td>\n",
       "      <td>28</td>\n",
       "      <td>&gt;15</td>\n",
       "      <td>25-45</td>\n",
       "      <td>hombre</td>\n",
       "      <td>92.799</td>\n",
       "      <td>63.331</td>\n",
       "    </tr>\n",
       "    <tr>\n",
       "      <th>3</th>\n",
       "      <td>20220301</td>\n",
       "      <td>0</td>\n",
       "      <td>2807901</td>\n",
       "      <td>2807901</td>\n",
       "      <td>0.5-2</td>\n",
       "      <td>casa</td>\n",
       "      <td>frecuente</td>\n",
       "      <td>no</td>\n",
       "      <td>no</td>\n",
       "      <td>28</td>\n",
       "      <td>&gt;15</td>\n",
       "      <td>25-45</td>\n",
       "      <td>mujer</td>\n",
       "      <td>65.475</td>\n",
       "      <td>44.556</td>\n",
       "    </tr>\n",
       "    <tr>\n",
       "      <th>4</th>\n",
       "      <td>20220301</td>\n",
       "      <td>0</td>\n",
       "      <td>2807901</td>\n",
       "      <td>2807901</td>\n",
       "      <td>0.5-2</td>\n",
       "      <td>casa</td>\n",
       "      <td>frecuente</td>\n",
       "      <td>no</td>\n",
       "      <td>no</td>\n",
       "      <td>28</td>\n",
       "      <td>&gt;15</td>\n",
       "      <td>45-65</td>\n",
       "      <td>hombre</td>\n",
       "      <td>44.319</td>\n",
       "      <td>31.052</td>\n",
       "    </tr>\n",
       "  </tbody>\n",
       "</table>\n",
       "</div>"
      ],
      "text/plain": [
       "      fecha  periodo   origen  destino distancia actividad_origen  \\\n",
       "0  20220301        0  2807901  2807901     0.5-2             casa   \n",
       "1  20220301        0  2807901  2807901     0.5-2             casa   \n",
       "2  20220301        0  2807901  2807901     0.5-2             casa   \n",
       "3  20220301        0  2807901  2807901     0.5-2             casa   \n",
       "4  20220301        0  2807901  2807901     0.5-2             casa   \n",
       "\n",
       "  actividad_destino estudio_origen_posible estudio_destino_posible  \\\n",
       "0         frecuente                     no                      no   \n",
       "1         frecuente                     no                      no   \n",
       "2         frecuente                     no                      no   \n",
       "3         frecuente                     no                      no   \n",
       "4         frecuente                     no                      no   \n",
       "\n",
       "   residencia renta   edad    sexo  viajes  viajes_km  \n",
       "0          28   >15   0-25  hombre  29.337     30.222  \n",
       "1          28   >15   0-25   mujer  34.143     27.522  \n",
       "2          28   >15  25-45  hombre  92.799     63.331  \n",
       "3          28   >15  25-45   mujer  65.475     44.556  \n",
       "4          28   >15  45-65  hombre  44.319     31.052  "
      ]
     },
     "execution_count": 488,
     "metadata": {},
     "output_type": "execute_result"
    }
   ],
   "source": [
    "all_viajes.head()"
   ]
  },
  {
   "cell_type": "code",
   "execution_count": 489,
   "metadata": {},
   "outputs": [],
   "source": [
    "filtered_df = all_viajes.loc[(all_viajes['actividad_origen'] == 'casa')] # home origin trips"
   ]
  },
  {
   "cell_type": "code",
   "execution_count": 490,
   "metadata": {},
   "outputs": [
    {
     "data": {
      "text/plain": [
       "(4839108, 15)"
      ]
     },
     "execution_count": 490,
     "metadata": {},
     "output_type": "execute_result"
    }
   ],
   "source": [
    "filtered_df.shape"
   ]
  },
  {
   "cell_type": "code",
   "execution_count": 491,
   "metadata": {},
   "outputs": [],
   "source": [
    "home_work = all_viajes[ # home to work trips\n",
    "    ((all_viajes['actividad_origen'] == 'casa') & (all_viajes['actividad_destino'] == 'trabajo_estudio'))\n",
    "]"
   ]
  },
  {
   "cell_type": "code",
   "execution_count": 492,
   "metadata": {},
   "outputs": [
    {
     "data": {
      "text/plain": [
       "(1205740, 15)"
      ]
     },
     "execution_count": 492,
     "metadata": {},
     "output_type": "execute_result"
    }
   ],
   "source": [
    "home_work.shape"
   ]
  },
  {
   "attachments": {},
   "cell_type": "markdown",
   "metadata": {},
   "source": [
    "## Filtering trips by median income quantile"
   ]
  },
  {
   "attachments": {},
   "cell_type": "markdown",
   "metadata": {},
   "source": [
    "1. Do low median income quantiles travel more to high median income quantiles for work purposes and overall?\n",
    "2. Do low median income quantiles travel more distance on average than other median income quantiles for work purposes and overall?"
   ]
  },
  {
   "attachments": {},
   "cell_type": "markdown",
   "metadata": {},
   "source": [
    "Question 1, all trips with home origin:"
   ]
  },
  {
   "cell_type": "code",
   "execution_count": 493,
   "metadata": {},
   "outputs": [],
   "source": [
    "district_counts = filtered_df['origen'].value_counts().reset_index() # counting total trops from origin based on district\n",
    "district_counts.columns = ['ID', 'Population']"
   ]
  },
  {
   "cell_type": "code",
   "execution_count": 494,
   "metadata": {},
   "outputs": [],
   "source": [
    "trip_counts = build_trip_count(filtered_df)\n",
    "trip_counts = get_district_names(trip_counts)\n",
    "trip_counts = normalize_by_pop(trip_counts, district_counts)\n",
    "trip_counts = get_income_data(trip_counts, income, 'Gini Index', 'Median income per consumption unit')\n",
    "trip_counts = add_quantiles(trip_counts, 'Median income per consumption unit', n_quantiles=4)\n",
    "trip_counts = add_quantiles(trip_counts, 'Gini Index', n_quantiles=4)"
   ]
  },
  {
   "cell_type": "code",
   "execution_count": 495,
   "metadata": {},
   "outputs": [],
   "source": [
    "low_to_high_median = trip_counts[(trip_counts['income decile origin Median income per consumption unit'].isin([0, 1])) & \n",
    "                                      (trip_counts['income decile destination Median income per consumption unit'].isin([2, 3]))]\n",
    "\n",
    "high_to_low_median = trip_counts[(trip_counts['income decile origin Median income per consumption unit'].isin([2, 3])) & \n",
    "                                      (trip_counts['income decile destination Median income per consumption unit'].isin([0, 1]))]\n",
    "\n",
    "low_to_low_median = trip_counts[(trip_counts['income decile origin Median income per consumption unit'].isin([0, 1])) &\n",
    "                                (trip_counts['income decile destination Median income per consumption unit'].isin([0, 1]))]\n",
    "\n",
    "high_to_high_median = trip_counts[(trip_counts['income decile origin Median income per consumption unit'].isin([2, 3])) & \n",
    "                                trip_counts['income decile destination Median income per consumption unit'].isin([2, 3])]"
   ]
  },
  {
   "cell_type": "code",
   "execution_count": 496,
   "metadata": {},
   "outputs": [
    {
     "data": {
      "text/plain": [
       "np.float64(24.05383469466257)"
      ]
     },
     "execution_count": 496,
     "metadata": {},
     "output_type": "execute_result"
    }
   ],
   "source": [
    "# percentage of trips from low to high districts (median income per consumtion unit)\n",
    "# low_to_high_median['trip_count'].sum() / trip_counts.trip_count.sum() * 100\n",
    "\n",
    "low_to_high_median['normalized_trip_count'].sum() / trip_counts.normalized_trip_count.sum() * 100"
   ]
  },
  {
   "cell_type": "code",
   "execution_count": 497,
   "metadata": {},
   "outputs": [
    {
     "data": {
      "text/plain": [
       "np.float64(16.692135748232396)"
      ]
     },
     "execution_count": 497,
     "metadata": {},
     "output_type": "execute_result"
    }
   ],
   "source": [
    "# percentage of trips from high to low districts (median income per consumtion unit)\n",
    "# high_to_low_median['trip_count'].sum() / trip_counts.trip_count.sum() * 100\n",
    "\n",
    "high_to_low_median['normalized_trip_count'].sum() / trip_counts.normalized_trip_count.sum() * 100"
   ]
  },
  {
   "cell_type": "code",
   "execution_count": 498,
   "metadata": {},
   "outputs": [
    {
     "data": {
      "text/plain": [
       "np.float64(28.327117686289817)"
      ]
     },
     "execution_count": 498,
     "metadata": {},
     "output_type": "execute_result"
    }
   ],
   "source": [
    "# low_to_low_median['trip_count'].sum() / trip_counts.trip_count.sum() * 100 \n",
    "\n",
    "low_to_low_median['normalized_trip_count'].sum() / trip_counts.normalized_trip_count.sum() * 100"
   ]
  },
  {
   "cell_type": "code",
   "execution_count": 499,
   "metadata": {},
   "outputs": [
    {
     "data": {
      "text/plain": [
       "np.float64(30.92691187081523)"
      ]
     },
     "execution_count": 499,
     "metadata": {},
     "output_type": "execute_result"
    }
   ],
   "source": [
    "# high_to_high_median['trip_count'].sum() / trip_counts.trip_count.sum() * 100 \n",
    "\n",
    "high_to_high_median['normalized_trip_count'].sum() / trip_counts.normalized_trip_count.sum() * 100"
   ]
  },
  {
   "attachments": {},
   "cell_type": "markdown",
   "metadata": {},
   "source": [
    "Question 2, all trips with home origin:"
   ]
  },
  {
   "cell_type": "code",
   "execution_count": 500,
   "metadata": {},
   "outputs": [],
   "source": [
    "trip_counts = build_trip_count(filtered_df, 'distancia') # adding 'distancia' to the analysis\n",
    "trip_counts = get_district_names(trip_counts)\n",
    "trip_counts = normalize_by_pop(trip_counts, district_counts)\n",
    "trip_counts = get_income_data(trip_counts, income, 'Gini Index', 'Median income per consumption unit')\n",
    "trip_counts = add_quantiles(trip_counts, 'Median income per consumption unit', n_quantiles=4)\n",
    "trip_counts = add_quantiles(trip_counts, 'Gini Index', n_quantiles=4)"
   ]
  },
  {
   "cell_type": "code",
   "execution_count": 501,
   "metadata": {},
   "outputs": [],
   "source": [
    "low_median_income = trip_counts[trip_counts['income decile origin Median income per consumption unit'].isin([0, 1])]\n",
    "high_median_income = trip_counts[trip_counts['income decile origin Median income per consumption unit'].isin([2, 3])]"
   ]
  },
  {
   "cell_type": "code",
   "execution_count": 502,
   "metadata": {},
   "outputs": [],
   "source": [
    "low_income_normalized_sums = low_median_income.groupby(\"distancia\")[\"normalized_trip_count\"].sum() # summing normalized trip count by distance (numerator)\n",
    "low_income_total = low_income_normalized_sums.sum() # summing all trip counts by distance (getting the total to be the denominator)\n",
    "low_income_proportions = (low_income_normalized_sums / low_income_total).reset_index()\n",
    "low_income_proportions.columns = [\"distance_bracket\", \"Low Income\"]\n",
    "\n",
    "high_income_normalized_sums = high_median_income.groupby(\"distancia\")[\"normalized_trip_count\"].sum()\n",
    "high_income_total = high_income_normalized_sums.sum() \n",
    "high_income_proportions = (high_income_normalized_sums / high_income_total).reset_index()\n",
    "high_income_proportions.columns = [\"distance_bracket\", \"High Income\"]\n",
    "\n",
    "comparison_normalized_median = pd.merge(\n",
    "    low_income_proportions, \n",
    "    high_income_proportions, \n",
    "    on=\"distance_bracket\", \n",
    "    how=\"outer\"\n",
    ")"
   ]
  },
  {
   "cell_type": "code",
   "execution_count": 503,
   "metadata": {},
   "outputs": [],
   "source": [
    "distance_order = ['0.5-2', '2-10', '10-50']\n",
    "colors = [\"#ffc0cb\", \"#800080\"]\n",
    "\n",
    "# reindexing for plotting\n",
    "comparison_normalized_median = comparison_normalized_median.set_index('distance_bracket')\n",
    "comparison_normalized_median = comparison_normalized_median.reindex(distance_order)\n",
    "comparison_normalized_median = comparison_normalized_median.reset_index()"
   ]
  },
  {
   "cell_type": "code",
   "execution_count": 504,
   "metadata": {},
   "outputs": [
    {
     "data": {
      "image/png": "[encoded data removed]",
      "text/plain": [
       "<Figure size 1000x600 with 1 Axes>"
      ]
     },
     "metadata": {},
     "output_type": "display_data"
    }
   ],
   "source": [
    "fig, ax = plt.subplots(figsize=(10, 6))\n",
    "\n",
    "# Plotting the comparison dataframe with normalized trip shares\n",
    "comparison_normalized_median.plot(\n",
    "    x='distance_bracket',  # Set x-axis as distance bracket\n",
    "    kind='bar', \n",
    "    ax=ax, \n",
    "    color=colors,\n",
    "    width=0.8  # Adjust bar width\n",
    ")\n",
    "\n",
    "plt.title('Distance Distribution of Normalized Trips by Income Group', fontsize=14)\n",
    "plt.xlabel('Distance Bracket', fontsize=12)\n",
    "plt.ylabel('Proportion of Normalized Trips', fontsize=12)\n",
    "plt.xticks(rotation=45, fontsize=11)  # Rotate x-axis labels for better readability\n",
    "plt.legend(title='Income Group', fontsize=11, title_fontsize=12)\n",
    "plt.tight_layout()  \n",
    "plt.savefig('figures/median_distance_distribution.png')  # Save the plot\n",
    "plt.show()  "
   ]
  },
  {
   "attachments": {},
   "cell_type": "markdown",
   "metadata": {},
   "source": [
    "## Filtering trips by Gini Index quantile"
   ]
  },
  {
   "attachments": {},
   "cell_type": "markdown",
   "metadata": {},
   "source": [
    "Question 1, all trips with home origin, Gini Index:"
   ]
  },
  {
   "cell_type": "code",
   "execution_count": 505,
   "metadata": {},
   "outputs": [],
   "source": [
    "trip_counts = build_trip_count(filtered_df)\n",
    "trip_counts = get_district_names(trip_counts)\n",
    "trip_counts = normalize_by_pop(trip_counts, district_counts)\n",
    "trip_counts = get_income_data(trip_counts, income, 'Gini Index', 'Median income per consumption unit')\n",
    "trip_counts = add_quantiles(trip_counts, 'Median income per consumption unit', n_quantiles=4)\n",
    "trip_counts = add_quantiles(trip_counts, 'Gini Index', n_quantiles=4)"
   ]
  },
  {
   "cell_type": "code",
   "execution_count": 506,
   "metadata": {},
   "outputs": [],
   "source": [
    "low_to_high_gini = trip_counts[(trip_counts['income decile origin Gini Index'].isin([0, 1])) & \n",
    "                                      (trip_counts['income decile destination Gini Index'].isin([2, 3]))]\n",
    "\n",
    "high_to_low_gini = trip_counts[(trip_counts['income decile origin Gini Index'].isin([2, 3])) & \n",
    "                                      (trip_counts['income decile destination Gini Index'].isin([0, 1]))]\n",
    "\n",
    "low_to_low_gini = trip_counts[(trip_counts['income decile origin Gini Index'].isin([0, 1])) &\n",
    "                              (trip_counts['income decile destination Gini Index'].isin([0, 1]))]\n",
    "\n",
    "\n",
    "high_to_high_gini = trip_counts[(trip_counts['income decile origin Gini Index'].isin([2, 3])) & \n",
    "                                (trip_counts['income decile destination Gini Index'].isin([2, 3]))]"
   ]
  },
  {
   "cell_type": "code",
   "execution_count": 507,
   "metadata": {},
   "outputs": [
    {
     "data": {
      "text/plain": [
       "np.float64(22.855419597719326)"
      ]
     },
     "execution_count": 507,
     "metadata": {},
     "output_type": "execute_result"
    }
   ],
   "source": [
    "# percentage of trips from low to high districts (gini index)\n",
    "# low_to_high_gini['trip_count'].sum() / trip_counts.trip_count.sum() * 100 \n",
    "\n",
    "low_to_high_gini['normalized_trip_count'].sum() / trip_counts.normalized_trip_count.sum() * 100 "
   ]
  },
  {
   "cell_type": "code",
   "execution_count": 508,
   "metadata": {},
   "outputs": [
    {
     "data": {
      "text/plain": [
       "np.float64(14.016069716762885)"
      ]
     },
     "execution_count": 508,
     "metadata": {},
     "output_type": "execute_result"
    }
   ],
   "source": [
    "# percentage of trips from high to low districts (gini index)\n",
    "# high_to_low_gini['trip_count'].sum() / trip_counts.trip_count.sum() * 100 \n",
    "\n",
    "high_to_low_gini['normalized_trip_count'].sum() / trip_counts.normalized_trip_count.sum() * 100 "
   ]
  },
  {
   "cell_type": "code",
   "execution_count": 509,
   "metadata": {},
   "outputs": [
    {
     "data": {
      "text/plain": [
       "np.float64(29.52553278323306)"
      ]
     },
     "execution_count": 509,
     "metadata": {},
     "output_type": "execute_result"
    }
   ],
   "source": [
    "# low_to_low_gini['trip_count'].sum() / trip_counts.trip_count.sum() * 100 \n",
    "\n",
    "low_to_low_gini['normalized_trip_count'].sum() / trip_counts.normalized_trip_count.sum() * 100 "
   ]
  },
  {
   "cell_type": "code",
   "execution_count": 510,
   "metadata": {},
   "outputs": [
    {
     "data": {
      "text/plain": [
       "np.float64(33.602977902284735)"
      ]
     },
     "execution_count": 510,
     "metadata": {},
     "output_type": "execute_result"
    }
   ],
   "source": [
    "# high_to_high_gini['trip_count'].sum() / trip_counts.trip_count.sum() * 100 \n",
    "\n",
    "high_to_high_gini['normalized_trip_count'].sum() / trip_counts.normalized_trip_count.sum() * 100 "
   ]
  },
  {
   "attachments": {},
   "cell_type": "markdown",
   "metadata": {},
   "source": [
    "Question 2, all trips with home origin, Gini Index:"
   ]
  },
  {
   "cell_type": "code",
   "execution_count": 511,
   "metadata": {},
   "outputs": [],
   "source": [
    "trip_counts = build_trip_count(filtered_df, 'distancia')\n",
    "trip_counts = get_district_names(trip_counts)\n",
    "trip_counts = normalize_by_pop(trip_counts, district_counts)\n",
    "trip_counts = get_income_data(trip_counts, income, 'Gini Index', 'Median income per consumption unit')\n",
    "trip_counts = add_quantiles(trip_counts, 'Median income per consumption unit', n_quantiles=4)\n",
    "trip_counts = add_quantiles(trip_counts, 'Gini Index', n_quantiles=4)"
   ]
  },
  {
   "cell_type": "code",
   "execution_count": 512,
   "metadata": {},
   "outputs": [],
   "source": [
    "low_gini = trip_counts[trip_counts['income decile origin Gini Index'].isin([0, 1])]\n",
    "high_gini = trip_counts[trip_counts['income decile origin Gini Index'].isin([2, 3])]"
   ]
  },
  {
   "cell_type": "code",
   "execution_count": 513,
   "metadata": {},
   "outputs": [],
   "source": [
    "low_gini_normalized_sums = low_gini.groupby(\"distancia\")[\"normalized_trip_count\"].sum() # summing normalized trip count by distance (numerator)\n",
    "low_gini_total = low_gini_normalized_sums.sum() # summing all trip counts by distance (getting the total to be the denominator)\n",
    "low_gini_proportions = (low_gini_normalized_sums / low_gini_total).reset_index()\n",
    "low_gini_proportions.columns = [\"distance_bracket\", \"Low Gini\"]\n",
    "\n",
    "high_gini_normalized_sums = high_gini.groupby(\"distancia\")[\"normalized_trip_count\"].sum()\n",
    "high_gini_total = high_gini_normalized_sums.sum() \n",
    "high_gini_proportions = (high_gini_normalized_sums / high_gini_total).reset_index()\n",
    "high_gini_proportions.columns = [\"distance_bracket\", \"High Gini\"]\n",
    "\n",
    "comparison_normalized_gini = pd.merge(\n",
    "    low_gini_proportions, \n",
    "    high_gini_proportions, \n",
    "    on=\"distance_bracket\", \n",
    "    how=\"outer\"\n",
    ")"
   ]
  },
  {
   "cell_type": "code",
   "execution_count": 514,
   "metadata": {},
   "outputs": [],
   "source": [
    "distance_order = ['0.5-2', '2-10', '10-50']\n",
    "colors = [\"#ffc0cb\", \"#800080\"]\n",
    "\n",
    "# reindexing for plotting\n",
    "comparison_normalized_gini = comparison_normalized_gini.set_index('distance_bracket')\n",
    "comparison_normalized_gini = comparison_normalized_gini.reindex(distance_order)\n",
    "comparison_normalized_gini = comparison_normalized_gini.reset_index()"
   ]
  },
  {
   "cell_type": "code",
   "execution_count": 515,
   "metadata": {},
   "outputs": [
    {
     "data": {
      "image/png": "[encoded data removed]",
      "text/plain": [
       "<Figure size 1000x600 with 1 Axes>"
      ]
     },
     "metadata": {},
     "output_type": "display_data"
    }
   ],
   "source": [
    "fig, ax = plt.subplots(figsize=(10, 6))\n",
    "\n",
    "# Plotting the comparison dataframe with normalized trip shares\n",
    "comparison_normalized_gini.plot(\n",
    "    x='distance_bracket',  # Set x-axis as distance bracket\n",
    "    kind='bar', \n",
    "    ax=ax, \n",
    "    color=colors,\n",
    "    width=0.8  # Adjust bar width\n",
    ")\n",
    "\n",
    "plt.title('Distance Distribution of Normalized Trips by Gini Index Group', fontsize=14)\n",
    "plt.xlabel('Distance Bracket', fontsize=12)\n",
    "plt.ylabel('Proportion of Normalized Trips', fontsize=12)\n",
    "plt.xticks(rotation=45, fontsize=11)  # Rotate x-axis labels for better readability\n",
    "plt.legend(title='Income Group', fontsize=12, title_fontsize=12)\n",
    "plt.tight_layout()  \n",
    "plt.savefig('figures/gini_distance_distribution.png')  # Save the plot\n",
    "plt.show()  "
   ]
  },
  {
   "attachments": {},
   "cell_type": "markdown",
   "metadata": {},
   "source": [
    "## Further Analysis"
   ]
  },
  {
   "cell_type": "code",
   "execution_count": 516,
   "metadata": {},
   "outputs": [],
   "source": [
    "comparison_normalized_median[\"Difference (%)\"] = (comparison_normalized_median[\"High Income\"] - comparison_normalized_median[\"Low Income\"]) * 100"
   ]
  },
  {
   "cell_type": "code",
   "execution_count": 517,
   "metadata": {},
   "outputs": [
    {
     "data": {
      "text/html": [
       "<div>\n",
       "<style scoped>\n",
       "    .dataframe tbody tr th:only-of-type {\n",
       "        vertical-align: middle;\n",
       "    }\n",
       "\n",
       "    .dataframe tbody tr th {\n",
       "        vertical-align: top;\n",
       "    }\n",
       "\n",
       "    .dataframe thead th {\n",
       "        text-align: right;\n",
       "    }\n",
       "</style>\n",
       "<table border=\"1\" class=\"dataframe\">\n",
       "  <thead>\n",
       "    <tr style=\"text-align: right;\">\n",
       "      <th></th>\n",
       "      <th>distance_bracket</th>\n",
       "      <th>Low Income</th>\n",
       "      <th>High Income</th>\n",
       "      <th>Difference (%)</th>\n",
       "    </tr>\n",
       "  </thead>\n",
       "  <tbody>\n",
       "    <tr>\n",
       "      <th>0</th>\n",
       "      <td>0.5-2</td>\n",
       "      <td>0.269998</td>\n",
       "      <td>0.350427</td>\n",
       "      <td>8.042817</td>\n",
       "    </tr>\n",
       "    <tr>\n",
       "      <th>1</th>\n",
       "      <td>2-10</td>\n",
       "      <td>0.583898</td>\n",
       "      <td>0.551729</td>\n",
       "      <td>-3.216857</td>\n",
       "    </tr>\n",
       "    <tr>\n",
       "      <th>2</th>\n",
       "      <td>10-50</td>\n",
       "      <td>0.146104</td>\n",
       "      <td>0.097844</td>\n",
       "      <td>-4.825960</td>\n",
       "    </tr>\n",
       "  </tbody>\n",
       "</table>\n",
       "</div>"
      ],
      "text/plain": [
       "  distance_bracket  Low Income  High Income  Difference (%)\n",
       "0            0.5-2    0.269998     0.350427        8.042817\n",
       "1             2-10    0.583898     0.551729       -3.216857\n",
       "2            10-50    0.146104     0.097844       -4.825960"
      ]
     },
     "execution_count": 517,
     "metadata": {},
     "output_type": "execute_result"
    }
   ],
   "source": [
    "comparison_normalized_median"
   ]
  },
  {
   "cell_type": "code",
   "execution_count": 519,
   "metadata": {},
   "outputs": [],
   "source": [
    "comparison_normalized_gini[\"Difference (%)\"] = (comparison_normalized_gini[\"High Gini\"] - comparison_normalized_gini[\"Low Gini\"]) * 100"
   ]
  },
  {
   "cell_type": "code",
   "execution_count": 520,
   "metadata": {},
   "outputs": [
    {
     "data": {
      "text/html": [
       "<div>\n",
       "<style scoped>\n",
       "    .dataframe tbody tr th:only-of-type {\n",
       "        vertical-align: middle;\n",
       "    }\n",
       "\n",
       "    .dataframe tbody tr th {\n",
       "        vertical-align: top;\n",
       "    }\n",
       "\n",
       "    .dataframe thead th {\n",
       "        text-align: right;\n",
       "    }\n",
       "</style>\n",
       "<table border=\"1\" class=\"dataframe\">\n",
       "  <thead>\n",
       "    <tr style=\"text-align: right;\">\n",
       "      <th></th>\n",
       "      <th>distance_bracket</th>\n",
       "      <th>Low Gini</th>\n",
       "      <th>High Gini</th>\n",
       "      <th>Difference (%)</th>\n",
       "    </tr>\n",
       "  </thead>\n",
       "  <tbody>\n",
       "    <tr>\n",
       "      <th>0</th>\n",
       "      <td>0.5-2</td>\n",
       "      <td>0.276931</td>\n",
       "      <td>0.342801</td>\n",
       "      <td>6.586991</td>\n",
       "    </tr>\n",
       "    <tr>\n",
       "      <th>1</th>\n",
       "      <td>2-10</td>\n",
       "      <td>0.572121</td>\n",
       "      <td>0.564684</td>\n",
       "      <td>-0.743671</td>\n",
       "    </tr>\n",
       "    <tr>\n",
       "      <th>2</th>\n",
       "      <td>10-50</td>\n",
       "      <td>0.150948</td>\n",
       "      <td>0.092515</td>\n",
       "      <td>-5.843320</td>\n",
       "    </tr>\n",
       "  </tbody>\n",
       "</table>\n",
       "</div>"
      ],
      "text/plain": [
       "  distance_bracket  Low Gini  High Gini  Difference (%)\n",
       "0            0.5-2  0.276931   0.342801        6.586991\n",
       "1             2-10  0.572121   0.564684       -0.743671\n",
       "2            10-50  0.150948   0.092515       -5.843320"
      ]
     },
     "execution_count": 520,
     "metadata": {},
     "output_type": "execute_result"
    }
   ],
   "source": [
    "comparison_normalized_gini"
   ]
  },
  {
   "cell_type": "code",
   "execution_count": 522,
   "metadata": {},
   "outputs": [
    {
     "data": {
      "text/plain": [
       "'\\\\begin{tabular}{llrrr}\\n\\\\toprule\\n & distance_bracket & Low Gini & High Gini & Difference (%) \\\\\\\\\\n\\\\midrule\\n0 & 0.5-2 & 0.276931 & 0.342801 & 6.586991 \\\\\\\\\\n1 & 2-10 & 0.572121 & 0.564684 & -0.743671 \\\\\\\\\\n2 & 10-50 & 0.150948 & 0.092515 & -5.843320 \\\\\\\\\\n\\\\bottomrule\\n\\\\end{tabular}\\n'"
      ]
     },
     "execution_count": 522,
     "metadata": {},
     "output_type": "execute_result"
    }
   ],
   "source": [
    "comparison_normalized_gini.to_latex()"
   ]
  },
  {
   "cell_type": "code",
   "execution_count": null,
   "metadata": {},
   "outputs": [],
   "source": []
  }
 ],
 "metadata": {
  "kernelspec": {
   "display_name": ".thesis_env",
   "language": "python",
   "name": "python3"
  },
  "language_info": {
   "codemirror_mode": {
    "name": "ipython",
    "version": 3
   },
   "file_extension": ".py",
   "mimetype": "text/x-python",
   "name": "python",
   "nbconvert_exporter": "python",
   "pygments_lexer": "ipython3",
   "version": "3.11.4"
  },
  "orig_nbformat": 4,
  "vscode": {
   "interpreter": {
    "hash": "dc5a137c8466a4ffb6ded1bc1d0edcb068d49351ebe910c5391764b8894bd5ea"
   }
  }
 },
 "nbformat": 4,
 "nbformat_minor": 2
}
