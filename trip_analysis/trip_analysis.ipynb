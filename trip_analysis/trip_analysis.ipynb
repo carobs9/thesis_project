{
 "cells": [
  {
   "cell_type": "code",
   "execution_count": 1,
   "metadata": {},
   "outputs": [],
   "source": [
    "import networkx as nx\n",
    "import pandas as pd\n",
    "import geopandas as gpd\n",
    "import config as cfg\n",
    "import numpy as np\n",
    "import matplotlib.pyplot as plt\n",
    "from utils import build_trip_count, get_district_names, normalize_by_pop, get_income_data, add_quantiles"
   ]
  },
  {
   "cell_type": "code",
   "execution_count": 2,
   "metadata": {},
   "outputs": [],
   "source": [
    "all_viajes = pd.read_csv('/Users/caro/Desktop/thesis_project/mobility_data/VIAJES/all_viajes_month_0322.csv') # all trips\n",
    "income = gpd.read_file('/Users/caro/Desktop/thesis_project/segregation_indices/data/processed/geometries_and_income.geojson') # income data\n",
    "gdf = gpd.read_file(cfg.ZONIFICACION_DATA / 'distritos/madrid_gdf.geojson') # geodataframe\n",
    "gdf = gdf.to_crs(epsg=4326) # setting crs\n",
    "district_mapping = pd.read_csv('/Users/caro/Desktop/thesis_project/data_overview/outputs/districts_and_population.csv')"
   ]
  },
  {
   "cell_type": "code",
   "execution_count": 3,
   "metadata": {},
   "outputs": [
    {
     "data": {
      "text/plain": [
       "actividad_destino\n",
       "frecuente          7268863\n",
       "casa               4933456\n",
       "no_frecuente       4920539\n",
       "trabajo_estudio    2778097\n",
       "Name: count, dtype: int64"
      ]
     },
     "execution_count": 3,
     "metadata": {},
     "output_type": "execute_result"
    }
   ],
   "source": [
    "all_viajes.actividad_destino.value_counts()"
   ]
  },
  {
   "cell_type": "code",
   "execution_count": 4,
   "metadata": {},
   "outputs": [],
   "source": [
    "filtered_df = all_viajes.loc[(all_viajes['actividad_origen'] == 'casa')] # home origin trips"
   ]
  },
  {
   "cell_type": "code",
   "execution_count": 5,
   "metadata": {},
   "outputs": [
    {
     "data": {
      "text/plain": [
       "(4839108, 15)"
      ]
     },
     "execution_count": 5,
     "metadata": {},
     "output_type": "execute_result"
    }
   ],
   "source": [
    "filtered_df.shape"
   ]
  },
  {
   "cell_type": "code",
   "execution_count": 6,
   "metadata": {},
   "outputs": [],
   "source": [
    "home_work = all_viajes[ # home to work trips\n",
    "    ((all_viajes['actividad_origen'] == 'casa') & (all_viajes['actividad_destino'] == 'trabajo_estudio'))\n",
    "]"
   ]
  },
  {
   "cell_type": "code",
   "execution_count": 7,
   "metadata": {},
   "outputs": [
    {
     "data": {
      "text/plain": [
       "(1205740, 15)"
      ]
     },
     "execution_count": 7,
     "metadata": {},
     "output_type": "execute_result"
    }
   ],
   "source": [
    "home_work.shape"
   ]
  },
  {
   "attachments": {},
   "cell_type": "markdown",
   "metadata": {},
   "source": [
    "## Filtering trips by median income quantile"
   ]
  },
  {
   "attachments": {},
   "cell_type": "markdown",
   "metadata": {},
   "source": [
    "1. Do low median income quantiles travel more to high median income quantiles for work purposes and overall?\n",
    "2. Do low median income quantiles travel more distance on average than other median income quantiles for work purposes and overall?"
   ]
  },
  {
   "attachments": {},
   "cell_type": "markdown",
   "metadata": {},
   "source": [
    "Question 1, all trips with home origin:"
   ]
  },
  {
   "cell_type": "code",
   "execution_count": 9,
   "metadata": {},
   "outputs": [],
   "source": [
    "# district_counts = filtered_df['origen'].value_counts().reset_index() # OLD\n",
    "# Group by 'origen' and sum 'viajes'\n",
    "district_counts = filtered_df.groupby('origen')['viajes'].sum().reset_index(name='total_viajes') # FIXED\n",
    "district_counts.columns = ['ID', 'Population']"
   ]
  },
  {
   "cell_type": "code",
   "execution_count": 16,
   "metadata": {},
   "outputs": [],
   "source": [
    "trip_counts = build_trip_count(filtered_df)\n",
    "trip_counts = get_district_names(trip_counts)\n",
    "trip_counts = normalize_by_pop(trip_counts, district_counts)\n",
    "trip_counts.to_csv('outputs/081224_FINAL_normalized_trip_count.csv', index=False) # saving final df"
   ]
  },
  {
   "cell_type": "code",
   "execution_count": 17,
   "metadata": {},
   "outputs": [
    {
     "data": {
      "text/plain": [
       "np.float64(1397937.3896864683)"
      ]
     },
     "execution_count": 17,
     "metadata": {},
     "output_type": "execute_result"
    }
   ],
   "source": [
    "filtered_df[(filtered_df['origen'] == 2807901) & (filtered_df['destino'] == 2807901)]['viajes'].sum()"
   ]
  },
  {
   "cell_type": "code",
   "execution_count": 18,
   "metadata": {},
   "outputs": [
    {
     "data": {
      "text/html": [
       "<div>\n",
       "<style scoped>\n",
       "    .dataframe tbody tr th:only-of-type {\n",
       "        vertical-align: middle;\n",
       "    }\n",
       "\n",
       "    .dataframe tbody tr th {\n",
       "        vertical-align: top;\n",
       "    }\n",
       "\n",
       "    .dataframe thead th {\n",
       "        text-align: right;\n",
       "    }\n",
       "</style>\n",
       "<table border=\"1\" class=\"dataframe\">\n",
       "  <thead>\n",
       "    <tr style=\"text-align: right;\">\n",
       "      <th></th>\n",
       "      <th>origen</th>\n",
       "      <th>destino</th>\n",
       "      <th>trip_count</th>\n",
       "      <th>origin</th>\n",
       "      <th>destination</th>\n",
       "      <th>normalized_trip_count</th>\n",
       "    </tr>\n",
       "  </thead>\n",
       "  <tbody>\n",
       "    <tr>\n",
       "      <th>0</th>\n",
       "      <td>2807901</td>\n",
       "      <td>2807901</td>\n",
       "      <td>1.397937e+06</td>\n",
       "      <td>Centro</td>\n",
       "      <td>Centro</td>\n",
       "      <td>0.397380</td>\n",
       "    </tr>\n",
       "    <tr>\n",
       "      <th>1</th>\n",
       "      <td>2807901</td>\n",
       "      <td>2807902</td>\n",
       "      <td>3.170360e+05</td>\n",
       "      <td>Centro</td>\n",
       "      <td>Arganzuela</td>\n",
       "      <td>0.090121</td>\n",
       "    </tr>\n",
       "    <tr>\n",
       "      <th>2</th>\n",
       "      <td>2807901</td>\n",
       "      <td>2807903</td>\n",
       "      <td>1.387313e+05</td>\n",
       "      <td>Centro</td>\n",
       "      <td>Retiro</td>\n",
       "      <td>0.039436</td>\n",
       "    </tr>\n",
       "    <tr>\n",
       "      <th>3</th>\n",
       "      <td>2807901</td>\n",
       "      <td>2807904</td>\n",
       "      <td>1.803271e+05</td>\n",
       "      <td>Centro</td>\n",
       "      <td>Salamanca</td>\n",
       "      <td>0.051260</td>\n",
       "    </tr>\n",
       "    <tr>\n",
       "      <th>4</th>\n",
       "      <td>2807901</td>\n",
       "      <td>2807905</td>\n",
       "      <td>1.046218e+05</td>\n",
       "      <td>Centro</td>\n",
       "      <td>Chamartín</td>\n",
       "      <td>0.029740</td>\n",
       "    </tr>\n",
       "    <tr>\n",
       "      <th>...</th>\n",
       "      <td>...</td>\n",
       "      <td>...</td>\n",
       "      <td>...</td>\n",
       "      <td>...</td>\n",
       "      <td>...</td>\n",
       "      <td>...</td>\n",
       "    </tr>\n",
       "    <tr>\n",
       "      <th>436</th>\n",
       "      <td>2807921</td>\n",
       "      <td>2807917</td>\n",
       "      <td>4.054582e+03</td>\n",
       "      <td>Barajas</td>\n",
       "      <td>Villaverde</td>\n",
       "      <td>0.002932</td>\n",
       "    </tr>\n",
       "    <tr>\n",
       "      <th>437</th>\n",
       "      <td>2807921</td>\n",
       "      <td>2807918</td>\n",
       "      <td>7.183136e+03</td>\n",
       "      <td>Barajas</td>\n",
       "      <td>Villa de Vallecas</td>\n",
       "      <td>0.005194</td>\n",
       "    </tr>\n",
       "    <tr>\n",
       "      <th>438</th>\n",
       "      <td>2807921</td>\n",
       "      <td>2807919</td>\n",
       "      <td>8.161633e+03</td>\n",
       "      <td>Barajas</td>\n",
       "      <td>Vicálvaro</td>\n",
       "      <td>0.005902</td>\n",
       "    </tr>\n",
       "    <tr>\n",
       "      <th>439</th>\n",
       "      <td>2807921</td>\n",
       "      <td>2807920</td>\n",
       "      <td>1.893465e+05</td>\n",
       "      <td>Barajas</td>\n",
       "      <td>San Blas-Canillejas</td>\n",
       "      <td>0.136919</td>\n",
       "    </tr>\n",
       "    <tr>\n",
       "      <th>440</th>\n",
       "      <td>2807921</td>\n",
       "      <td>2807921</td>\n",
       "      <td>6.446576e+05</td>\n",
       "      <td>Barajas</td>\n",
       "      <td>Barajas</td>\n",
       "      <td>0.466159</td>\n",
       "    </tr>\n",
       "  </tbody>\n",
       "</table>\n",
       "<p>441 rows × 6 columns</p>\n",
       "</div>"
      ],
      "text/plain": [
       "      origen  destino    trip_count   origin          destination  \\\n",
       "0    2807901  2807901  1.397937e+06   Centro               Centro   \n",
       "1    2807901  2807902  3.170360e+05   Centro           Arganzuela   \n",
       "2    2807901  2807903  1.387313e+05   Centro               Retiro   \n",
       "3    2807901  2807904  1.803271e+05   Centro            Salamanca   \n",
       "4    2807901  2807905  1.046218e+05   Centro            Chamartín   \n",
       "..       ...      ...           ...      ...                  ...   \n",
       "436  2807921  2807917  4.054582e+03  Barajas           Villaverde   \n",
       "437  2807921  2807918  7.183136e+03  Barajas    Villa de Vallecas   \n",
       "438  2807921  2807919  8.161633e+03  Barajas            Vicálvaro   \n",
       "439  2807921  2807920  1.893465e+05  Barajas  San Blas-Canillejas   \n",
       "440  2807921  2807921  6.446576e+05  Barajas              Barajas   \n",
       "\n",
       "     normalized_trip_count  \n",
       "0                 0.397380  \n",
       "1                 0.090121  \n",
       "2                 0.039436  \n",
       "3                 0.051260  \n",
       "4                 0.029740  \n",
       "..                     ...  \n",
       "436               0.002932  \n",
       "437               0.005194  \n",
       "438               0.005902  \n",
       "439               0.136919  \n",
       "440               0.466159  \n",
       "\n",
       "[441 rows x 6 columns]"
      ]
     },
     "execution_count": 18,
     "metadata": {},
     "output_type": "execute_result"
    }
   ],
   "source": [
    "trip_counts"
   ]
  },
  {
   "cell_type": "code",
   "execution_count": 19,
   "metadata": {},
   "outputs": [],
   "source": [
    "\n",
    "trip_counts = get_income_data(trip_counts, income, 'Gini Index', 'Median income per consumption unit')\n",
    "trip_counts = add_quantiles(trip_counts, 'Median income per consumption unit', n_quantiles=4)\n",
    "trip_counts = add_quantiles(trip_counts, 'Gini Index', n_quantiles=4)"
   ]
  },
  {
   "cell_type": "code",
   "execution_count": 20,
   "metadata": {},
   "outputs": [],
   "source": [
    "low_to_high_median = trip_counts[(trip_counts['income decile origin Median income per consumption unit'].isin([0, 1])) & \n",
    "                                      (trip_counts['income decile destination Median income per consumption unit'].isin([2, 3]))]\n",
    "\n",
    "high_to_low_median = trip_counts[(trip_counts['income decile origin Median income per consumption unit'].isin([2, 3])) & \n",
    "                                      (trip_counts['income decile destination Median income per consumption unit'].isin([0, 1]))]\n",
    "\n",
    "low_to_low_median = trip_counts[(trip_counts['income decile origin Median income per consumption unit'].isin([0, 1])) &\n",
    "                                (trip_counts['income decile destination Median income per consumption unit'].isin([0, 1]))]\n",
    "\n",
    "high_to_high_median = trip_counts[(trip_counts['income decile origin Median income per consumption unit'].isin([2, 3])) & \n",
    "                                trip_counts['income decile destination Median income per consumption unit'].isin([2, 3])]"
   ]
  },
  {
   "cell_type": "code",
   "execution_count": 21,
   "metadata": {},
   "outputs": [
    {
     "data": {
      "text/plain": [
       "np.float64(17.183040524498676)"
      ]
     },
     "execution_count": 21,
     "metadata": {},
     "output_type": "execute_result"
    }
   ],
   "source": [
    "# percentage of trips from low to high districts (median income per consumtion unit)\n",
    "# low_to_high_median['trip_count'].sum() / trip_counts.trip_count.sum() * 100\n",
    "\n",
    "low_to_high_median['normalized_trip_count'].sum() / trip_counts.normalized_trip_count.sum() * 100"
   ]
  },
  {
   "cell_type": "code",
   "execution_count": 22,
   "metadata": {},
   "outputs": [
    {
     "data": {
      "text/plain": [
       "np.float64(10.091606774043603)"
      ]
     },
     "execution_count": 22,
     "metadata": {},
     "output_type": "execute_result"
    }
   ],
   "source": [
    "# percentage of trips from high to low districts (median income per consumtion unit)\n",
    "# high_to_low_median['trip_count'].sum() / trip_counts.trip_count.sum() * 100\n",
    "\n",
    "high_to_low_median['normalized_trip_count'].sum() / trip_counts.normalized_trip_count.sum() * 100"
   ]
  },
  {
   "cell_type": "code",
   "execution_count": 23,
   "metadata": {},
   "outputs": [
    {
     "data": {
      "text/plain": [
       "np.float64(35.1979118564537)"
      ]
     },
     "execution_count": 23,
     "metadata": {},
     "output_type": "execute_result"
    }
   ],
   "source": [
    "# low_to_low_median['trip_count'].sum() / trip_counts.trip_count.sum() * 100 \n",
    "\n",
    "low_to_low_median['normalized_trip_count'].sum() / trip_counts.normalized_trip_count.sum() * 100"
   ]
  },
  {
   "cell_type": "code",
   "execution_count": 24,
   "metadata": {},
   "outputs": [
    {
     "data": {
      "text/plain": [
       "np.float64(37.527440845004016)"
      ]
     },
     "execution_count": 24,
     "metadata": {},
     "output_type": "execute_result"
    }
   ],
   "source": [
    "# high_to_high_median['trip_count'].sum() / trip_counts.trip_count.sum() * 100 \n",
    "\n",
    "high_to_high_median['normalized_trip_count'].sum() / trip_counts.normalized_trip_count.sum() * 100"
   ]
  },
  {
   "attachments": {},
   "cell_type": "markdown",
   "metadata": {},
   "source": [
    "Question 2, all trips with home origin:"
   ]
  },
  {
   "cell_type": "code",
   "execution_count": 25,
   "metadata": {},
   "outputs": [],
   "source": [
    "trip_counts = build_trip_count(filtered_df, 'distancia') # adding 'distancia' to the analysis\n",
    "trip_counts = get_district_names(trip_counts)\n",
    "trip_counts = normalize_by_pop(trip_counts, district_counts)\n",
    "trip_counts = get_income_data(trip_counts, income, 'Gini Index', 'Median income per consumption unit')\n",
    "trip_counts = add_quantiles(trip_counts, 'Median income per consumption unit', n_quantiles=4)\n",
    "trip_counts = add_quantiles(trip_counts, 'Gini Index', n_quantiles=4)"
   ]
  },
  {
   "cell_type": "code",
   "execution_count": 26,
   "metadata": {},
   "outputs": [],
   "source": [
    "low_median_income = trip_counts[trip_counts['income decile origin Median income per consumption unit'].isin([0, 1])]\n",
    "high_median_income = trip_counts[trip_counts['income decile origin Median income per consumption unit'].isin([2, 3])]"
   ]
  },
  {
   "cell_type": "code",
   "execution_count": 27,
   "metadata": {},
   "outputs": [],
   "source": [
    "low_income_normalized_sums = low_median_income.groupby(\"distancia\")[\"normalized_trip_count\"].sum() # summing normalized trip count by distance (numerator)\n",
    "low_income_total = low_income_normalized_sums.sum() # summing all trip counts by distance (getting the total to be the denominator)\n",
    "low_income_proportions = (low_income_normalized_sums / low_income_total).reset_index()\n",
    "low_income_proportions.columns = [\"distance_bracket\", \"Low Income\"]\n",
    "\n",
    "high_income_normalized_sums = high_median_income.groupby(\"distancia\")[\"normalized_trip_count\"].sum()\n",
    "high_income_total = high_income_normalized_sums.sum() \n",
    "high_income_proportions = (high_income_normalized_sums / high_income_total).reset_index()\n",
    "high_income_proportions.columns = [\"distance_bracket\", \"High Income\"]\n",
    "\n",
    "comparison_normalized_median = pd.merge(\n",
    "    low_income_proportions, \n",
    "    high_income_proportions, \n",
    "    on=\"distance_bracket\", \n",
    "    how=\"outer\"\n",
    ")"
   ]
  },
  {
   "cell_type": "code",
   "execution_count": 28,
   "metadata": {},
   "outputs": [],
   "source": [
    "distance_order = ['0.5-2', '2-10', '10-50']\n",
    "colors = [\"#ffc0cb\", \"#800080\"]\n",
    "\n",
    "# reindexing for plotting\n",
    "comparison_normalized_median = comparison_normalized_median.set_index('distance_bracket')\n",
    "comparison_normalized_median = comparison_normalized_median.reindex(distance_order)\n",
    "comparison_normalized_median = comparison_normalized_median.reset_index()"
   ]
  },
  {
   "cell_type": "code",
   "execution_count": 29,
   "metadata": {},
   "outputs": [
    {
     "data": {
      "image/png": "[encoded data removed]",
      "text/plain": [
       "<Figure size 1000x600 with 1 Axes>"
      ]
     },
     "metadata": {},
     "output_type": "display_data"
    }
   ],
   "source": [
    "fig, ax = plt.subplots(figsize=(10, 6))\n",
    "\n",
    "# Plotting the comparison dataframe with normalized trip shares\n",
    "comparison_normalized_median.plot(\n",
    "    x='distance_bracket',  # Set x-axis as distance bracket\n",
    "    kind='bar', \n",
    "    ax=ax, \n",
    "    color=colors,\n",
    "    width=0.8  # Adjust bar width\n",
    ")\n",
    "\n",
    "plt.title('Distance Distribution of Normalized Trips by Income Group', fontsize=14)\n",
    "plt.xlabel('Distance Bracket', fontsize=12)\n",
    "plt.ylabel('Proportion of Normalized Trips', fontsize=12)\n",
    "plt.xticks(rotation=45, fontsize=11)  # Rotate x-axis labels for better readability\n",
    "plt.legend(title='Income Group', fontsize=11, title_fontsize=12)\n",
    "plt.tight_layout()  \n",
    "plt.savefig('figures/median_distance_distribution.png')  # Save the plot\n",
    "plt.show()  "
   ]
  },
  {
   "attachments": {},
   "cell_type": "markdown",
   "metadata": {},
   "source": [
    "## Filtering trips by Gini Index quantile"
   ]
  },
  {
   "attachments": {},
   "cell_type": "markdown",
   "metadata": {},
   "source": [
    "Question 1, all trips with home origin, Gini Index:"
   ]
  },
  {
   "cell_type": "code",
   "execution_count": 30,
   "metadata": {},
   "outputs": [],
   "source": [
    "trip_counts = build_trip_count(filtered_df)\n",
    "trip_counts = get_district_names(trip_counts)\n",
    "trip_counts = normalize_by_pop(trip_counts, district_counts)\n",
    "trip_counts = get_income_data(trip_counts, income, 'Gini Index', 'Median income per consumption unit')\n",
    "trip_counts = add_quantiles(trip_counts, 'Median income per consumption unit', n_quantiles=4)\n",
    "trip_counts = add_quantiles(trip_counts, 'Gini Index', n_quantiles=4)"
   ]
  },
  {
   "cell_type": "code",
   "execution_count": 31,
   "metadata": {},
   "outputs": [],
   "source": [
    "low_to_high_gini = trip_counts[(trip_counts['income decile origin Gini Index'].isin([0, 1])) & \n",
    "                                      (trip_counts['income decile destination Gini Index'].isin([2, 3]))]\n",
    "\n",
    "high_to_low_gini = trip_counts[(trip_counts['income decile origin Gini Index'].isin([2, 3])) & \n",
    "                                      (trip_counts['income decile destination Gini Index'].isin([0, 1]))]\n",
    "\n",
    "low_to_low_gini = trip_counts[(trip_counts['income decile origin Gini Index'].isin([0, 1])) &\n",
    "                              (trip_counts['income decile destination Gini Index'].isin([0, 1]))]\n",
    "\n",
    "\n",
    "high_to_high_gini = trip_counts[(trip_counts['income decile origin Gini Index'].isin([2, 3])) & \n",
    "                                (trip_counts['income decile destination Gini Index'].isin([2, 3]))]"
   ]
  },
  {
   "cell_type": "code",
   "execution_count": 32,
   "metadata": {},
   "outputs": [
    {
     "data": {
      "text/plain": [
       "np.float64(15.739811090452744)"
      ]
     },
     "execution_count": 32,
     "metadata": {},
     "output_type": "execute_result"
    }
   ],
   "source": [
    "# percentage of trips from low to high districts (gini index)\n",
    "# low_to_high_gini['trip_count'].sum() / trip_counts.trip_count.sum() * 100 \n",
    "\n",
    "low_to_high_gini['normalized_trip_count'].sum() / trip_counts.normalized_trip_count.sum() * 100 "
   ]
  },
  {
   "cell_type": "code",
   "execution_count": 33,
   "metadata": {},
   "outputs": [
    {
     "data": {
      "text/plain": [
       "np.float64(6.46483968130703)"
      ]
     },
     "execution_count": 33,
     "metadata": {},
     "output_type": "execute_result"
    }
   ],
   "source": [
    "# percentage of trips from high to low districts (gini index)\n",
    "# high_to_low_gini['trip_count'].sum() / trip_counts.trip_count.sum() * 100 \n",
    "\n",
    "high_to_low_gini['normalized_trip_count'].sum() / trip_counts.normalized_trip_count.sum() * 100 "
   ]
  },
  {
   "cell_type": "code",
   "execution_count": 34,
   "metadata": {},
   "outputs": [
    {
     "data": {
      "text/plain": [
       "np.float64(36.64114129049964)"
      ]
     },
     "execution_count": 34,
     "metadata": {},
     "output_type": "execute_result"
    }
   ],
   "source": [
    "# low_to_low_gini['trip_count'].sum() / trip_counts.trip_count.sum() * 100 \n",
    "\n",
    "low_to_low_gini['normalized_trip_count'].sum() / trip_counts.normalized_trip_count.sum() * 100 "
   ]
  },
  {
   "cell_type": "code",
   "execution_count": 35,
   "metadata": {},
   "outputs": [
    {
     "data": {
      "text/plain": [
       "np.float64(41.15420793774059)"
      ]
     },
     "execution_count": 35,
     "metadata": {},
     "output_type": "execute_result"
    }
   ],
   "source": [
    "# high_to_high_gini['trip_count'].sum() / trip_counts.trip_count.sum() * 100 \n",
    "\n",
    "high_to_high_gini['normalized_trip_count'].sum() / trip_counts.normalized_trip_count.sum() * 100 "
   ]
  },
  {
   "attachments": {},
   "cell_type": "markdown",
   "metadata": {},
   "source": [
    "Question 2, all trips with home origin, Gini Index:"
   ]
  },
  {
   "cell_type": "code",
   "execution_count": 36,
   "metadata": {},
   "outputs": [],
   "source": [
    "trip_counts = build_trip_count(filtered_df, 'distancia')\n",
    "trip_counts = get_district_names(trip_counts)\n",
    "trip_counts = normalize_by_pop(trip_counts, district_counts)\n",
    "trip_counts = get_income_data(trip_counts, income, 'Gini Index', 'Median income per consumption unit')\n",
    "trip_counts = add_quantiles(trip_counts, 'Median income per consumption unit', n_quantiles=4)\n",
    "trip_counts = add_quantiles(trip_counts, 'Gini Index', n_quantiles=4)"
   ]
  },
  {
   "cell_type": "code",
   "execution_count": 37,
   "metadata": {},
   "outputs": [],
   "source": [
    "low_gini = trip_counts[trip_counts['income decile origin Gini Index'].isin([0, 1])]\n",
    "high_gini = trip_counts[trip_counts['income decile origin Gini Index'].isin([2, 3])]"
   ]
  },
  {
   "cell_type": "code",
   "execution_count": 38,
   "metadata": {},
   "outputs": [],
   "source": [
    "low_gini_normalized_sums = low_gini.groupby(\"distancia\")[\"normalized_trip_count\"].sum() # summing normalized trip count by distance (numerator)\n",
    "low_gini_total = low_gini_normalized_sums.sum() # summing all trip counts by distance (getting the total to be the denominator)\n",
    "low_gini_proportions = (low_gini_normalized_sums / low_gini_total).reset_index()\n",
    "low_gini_proportions.columns = [\"distance_bracket\", \"Low Gini\"]\n",
    "\n",
    "high_gini_normalized_sums = high_gini.groupby(\"distancia\")[\"normalized_trip_count\"].sum()\n",
    "high_gini_total = high_gini_normalized_sums.sum() \n",
    "high_gini_proportions = (high_gini_normalized_sums / high_gini_total).reset_index()\n",
    "high_gini_proportions.columns = [\"distance_bracket\", \"High Gini\"]\n",
    "\n",
    "comparison_normalized_gini = pd.merge(\n",
    "    low_gini_proportions, \n",
    "    high_gini_proportions, \n",
    "    on=\"distance_bracket\", \n",
    "    how=\"outer\"\n",
    ")"
   ]
  },
  {
   "cell_type": "code",
   "execution_count": 39,
   "metadata": {},
   "outputs": [],
   "source": [
    "distance_order = ['0.5-2', '2-10', '10-50']\n",
    "colors = [\"#ffc0cb\", \"#800080\"]\n",
    "\n",
    "# reindexing for plotting\n",
    "comparison_normalized_gini = comparison_normalized_gini.set_index('distance_bracket')\n",
    "comparison_normalized_gini = comparison_normalized_gini.reindex(distance_order)\n",
    "comparison_normalized_gini = comparison_normalized_gini.reset_index()"
   ]
  },
  {
   "cell_type": "code",
   "execution_count": 40,
   "metadata": {},
   "outputs": [
    {
     "data": {
      "image/png": "[encoded data removed]",
      "text/plain": [
       "<Figure size 1000x600 with 1 Axes>"
      ]
     },
     "metadata": {},
     "output_type": "display_data"
    }
   ],
   "source": [
    "fig, ax = plt.subplots(figsize=(10, 6))\n",
    "\n",
    "# Plotting the comparison dataframe with normalized trip shares\n",
    "comparison_normalized_gini.plot(\n",
    "    x='distance_bracket',  # Set x-axis as distance bracket\n",
    "    kind='bar', \n",
    "    ax=ax, \n",
    "    color=colors,\n",
    "    width=0.8  # Adjust bar width\n",
    ")\n",
    "\n",
    "plt.title('Distance Distribution of Normalized Trips by Gini Index Group', fontsize=14)\n",
    "plt.xlabel('Distance Bracket', fontsize=12)\n",
    "plt.ylabel('Proportion of Normalized Trips', fontsize=12)\n",
    "plt.xticks(rotation=45, fontsize=11)  # Rotate x-axis labels for better readability\n",
    "plt.legend(title='Income Group', fontsize=12, title_fontsize=12)\n",
    "plt.tight_layout()  \n",
    "plt.savefig('figures/gini_distance_distribution.png')  # Save the plot\n",
    "plt.show()  "
   ]
  },
  {
   "attachments": {},
   "cell_type": "markdown",
   "metadata": {},
   "source": [
    "## Further Analysis"
   ]
  },
  {
   "cell_type": "code",
   "execution_count": 41,
   "metadata": {},
   "outputs": [],
   "source": [
    "comparison_normalized_median[\"Difference (%)\"] = (comparison_normalized_median[\"High Income\"] - comparison_normalized_median[\"Low Income\"]) * 100"
   ]
  },
  {
   "cell_type": "code",
   "execution_count": 42,
   "metadata": {},
   "outputs": [
    {
     "data": {
      "text/html": [
       "<div>\n",
       "<style scoped>\n",
       "    .dataframe tbody tr th:only-of-type {\n",
       "        vertical-align: middle;\n",
       "    }\n",
       "\n",
       "    .dataframe tbody tr th {\n",
       "        vertical-align: top;\n",
       "    }\n",
       "\n",
       "    .dataframe thead th {\n",
       "        text-align: right;\n",
       "    }\n",
       "</style>\n",
       "<table border=\"1\" class=\"dataframe\">\n",
       "  <thead>\n",
       "    <tr style=\"text-align: right;\">\n",
       "      <th></th>\n",
       "      <th>distance_bracket</th>\n",
       "      <th>Low Income</th>\n",
       "      <th>High Income</th>\n",
       "      <th>Difference (%)</th>\n",
       "    </tr>\n",
       "  </thead>\n",
       "  <tbody>\n",
       "    <tr>\n",
       "      <th>0</th>\n",
       "      <td>0.5-2</td>\n",
       "      <td>0.502618</td>\n",
       "      <td>0.591152</td>\n",
       "      <td>8.853439</td>\n",
       "    </tr>\n",
       "    <tr>\n",
       "      <th>1</th>\n",
       "      <td>2-10</td>\n",
       "      <td>0.436783</td>\n",
       "      <td>0.377005</td>\n",
       "      <td>-5.977863</td>\n",
       "    </tr>\n",
       "    <tr>\n",
       "      <th>2</th>\n",
       "      <td>10-50</td>\n",
       "      <td>0.060599</td>\n",
       "      <td>0.031843</td>\n",
       "      <td>-2.875576</td>\n",
       "    </tr>\n",
       "  </tbody>\n",
       "</table>\n",
       "</div>"
      ],
      "text/plain": [
       "  distance_bracket  Low Income  High Income  Difference (%)\n",
       "0            0.5-2    0.502618     0.591152        8.853439\n",
       "1             2-10    0.436783     0.377005       -5.977863\n",
       "2            10-50    0.060599     0.031843       -2.875576"
      ]
     },
     "execution_count": 42,
     "metadata": {},
     "output_type": "execute_result"
    }
   ],
   "source": [
    "comparison_normalized_median"
   ]
  },
  {
   "cell_type": "code",
   "execution_count": 43,
   "metadata": {},
   "outputs": [],
   "source": [
    "comparison_normalized_gini[\"Difference (%)\"] = (comparison_normalized_gini[\"High Gini\"] - comparison_normalized_gini[\"Low Gini\"]) * 100"
   ]
  },
  {
   "cell_type": "code",
   "execution_count": 44,
   "metadata": {},
   "outputs": [
    {
     "data": {
      "text/html": [
       "<div>\n",
       "<style scoped>\n",
       "    .dataframe tbody tr th:only-of-type {\n",
       "        vertical-align: middle;\n",
       "    }\n",
       "\n",
       "    .dataframe tbody tr th {\n",
       "        vertical-align: top;\n",
       "    }\n",
       "\n",
       "    .dataframe thead th {\n",
       "        text-align: right;\n",
       "    }\n",
       "</style>\n",
       "<table border=\"1\" class=\"dataframe\">\n",
       "  <thead>\n",
       "    <tr style=\"text-align: right;\">\n",
       "      <th></th>\n",
       "      <th>distance_bracket</th>\n",
       "      <th>Low Gini</th>\n",
       "      <th>High Gini</th>\n",
       "      <th>Difference (%)</th>\n",
       "    </tr>\n",
       "  </thead>\n",
       "  <tbody>\n",
       "    <tr>\n",
       "      <th>0</th>\n",
       "      <td>0.5-2</td>\n",
       "      <td>0.500439</td>\n",
       "      <td>0.593549</td>\n",
       "      <td>9.311035</td>\n",
       "    </tr>\n",
       "    <tr>\n",
       "      <th>1</th>\n",
       "      <td>2-10</td>\n",
       "      <td>0.434147</td>\n",
       "      <td>0.379905</td>\n",
       "      <td>-5.424217</td>\n",
       "    </tr>\n",
       "    <tr>\n",
       "      <th>2</th>\n",
       "      <td>10-50</td>\n",
       "      <td>0.065414</td>\n",
       "      <td>0.026546</td>\n",
       "      <td>-3.886819</td>\n",
       "    </tr>\n",
       "  </tbody>\n",
       "</table>\n",
       "</div>"
      ],
      "text/plain": [
       "  distance_bracket  Low Gini  High Gini  Difference (%)\n",
       "0            0.5-2  0.500439   0.593549        9.311035\n",
       "1             2-10  0.434147   0.379905       -5.424217\n",
       "2            10-50  0.065414   0.026546       -3.886819"
      ]
     },
     "execution_count": 44,
     "metadata": {},
     "output_type": "execute_result"
    }
   ],
   "source": [
    "comparison_normalized_gini"
   ]
  },
  {
   "cell_type": "code",
   "execution_count": 45,
   "metadata": {},
   "outputs": [
    {
     "data": {
      "text/html": [
       "<div>\n",
       "<style scoped>\n",
       "    .dataframe tbody tr th:only-of-type {\n",
       "        vertical-align: middle;\n",
       "    }\n",
       "\n",
       "    .dataframe tbody tr th {\n",
       "        vertical-align: top;\n",
       "    }\n",
       "\n",
       "    .dataframe thead th {\n",
       "        text-align: right;\n",
       "    }\n",
       "</style>\n",
       "<table border=\"1\" class=\"dataframe\">\n",
       "  <thead>\n",
       "    <tr style=\"text-align: right;\">\n",
       "      <th></th>\n",
       "      <th>distancia</th>\n",
       "      <th>trip_count</th>\n",
       "      <th>origin</th>\n",
       "      <th>destination</th>\n",
       "      <th>normalized_trip_count</th>\n",
       "      <th>Origin Gini Index</th>\n",
       "      <th>Origin Median income per consumption unit</th>\n",
       "      <th>Destination Gini Index</th>\n",
       "      <th>Destination Median income per consumption unit</th>\n",
       "      <th>income decile origin Median income per consumption unit</th>\n",
       "      <th>income decile destination Median income per consumption unit</th>\n",
       "      <th>income decile origin Gini Index</th>\n",
       "      <th>income decile destination Gini Index</th>\n",
       "    </tr>\n",
       "  </thead>\n",
       "  <tbody>\n",
       "    <tr>\n",
       "      <th>0</th>\n",
       "      <td>0.5-2</td>\n",
       "      <td>1.372673e+06</td>\n",
       "      <td>Centro</td>\n",
       "      <td>Centro</td>\n",
       "      <td>0.390198</td>\n",
       "      <td>39.8</td>\n",
       "      <td>20650</td>\n",
       "      <td>39.8</td>\n",
       "      <td>20650</td>\n",
       "      <td>2</td>\n",
       "      <td>2</td>\n",
       "      <td>3</td>\n",
       "      <td>3</td>\n",
       "    </tr>\n",
       "    <tr>\n",
       "      <th>1</th>\n",
       "      <td>2-10</td>\n",
       "      <td>2.526393e+04</td>\n",
       "      <td>Centro</td>\n",
       "      <td>Centro</td>\n",
       "      <td>0.007182</td>\n",
       "      <td>39.8</td>\n",
       "      <td>20650</td>\n",
       "      <td>39.8</td>\n",
       "      <td>20650</td>\n",
       "      <td>2</td>\n",
       "      <td>2</td>\n",
       "      <td>3</td>\n",
       "      <td>3</td>\n",
       "    </tr>\n",
       "    <tr>\n",
       "      <th>2</th>\n",
       "      <td>0.5-2</td>\n",
       "      <td>2.676358e+05</td>\n",
       "      <td>Centro</td>\n",
       "      <td>Arganzuela</td>\n",
       "      <td>0.076079</td>\n",
       "      <td>39.8</td>\n",
       "      <td>20650</td>\n",
       "      <td>31.0</td>\n",
       "      <td>26250</td>\n",
       "      <td>2</td>\n",
       "      <td>2</td>\n",
       "      <td>3</td>\n",
       "      <td>0</td>\n",
       "    </tr>\n",
       "    <tr>\n",
       "      <th>3</th>\n",
       "      <td>2-10</td>\n",
       "      <td>4.940023e+04</td>\n",
       "      <td>Centro</td>\n",
       "      <td>Arganzuela</td>\n",
       "      <td>0.014043</td>\n",
       "      <td>39.8</td>\n",
       "      <td>20650</td>\n",
       "      <td>31.0</td>\n",
       "      <td>26250</td>\n",
       "      <td>2</td>\n",
       "      <td>2</td>\n",
       "      <td>3</td>\n",
       "      <td>0</td>\n",
       "    </tr>\n",
       "    <tr>\n",
       "      <th>4</th>\n",
       "      <td>0.5-2</td>\n",
       "      <td>8.280526e+04</td>\n",
       "      <td>Centro</td>\n",
       "      <td>Retiro</td>\n",
       "      <td>0.023538</td>\n",
       "      <td>39.8</td>\n",
       "      <td>20650</td>\n",
       "      <td>33.1</td>\n",
       "      <td>30450</td>\n",
       "      <td>2</td>\n",
       "      <td>3</td>\n",
       "      <td>3</td>\n",
       "      <td>1</td>\n",
       "    </tr>\n",
       "    <tr>\n",
       "      <th>...</th>\n",
       "      <td>...</td>\n",
       "      <td>...</td>\n",
       "      <td>...</td>\n",
       "      <td>...</td>\n",
       "      <td>...</td>\n",
       "      <td>...</td>\n",
       "      <td>...</td>\n",
       "      <td>...</td>\n",
       "      <td>...</td>\n",
       "      <td>...</td>\n",
       "      <td>...</td>\n",
       "      <td>...</td>\n",
       "      <td>...</td>\n",
       "    </tr>\n",
       "    <tr>\n",
       "      <th>928</th>\n",
       "      <td>0.5-2</td>\n",
       "      <td>7.758385e+04</td>\n",
       "      <td>Barajas</td>\n",
       "      <td>San Blas-Canillejas</td>\n",
       "      <td>0.056102</td>\n",
       "      <td>33.2</td>\n",
       "      <td>25550</td>\n",
       "      <td>33.8</td>\n",
       "      <td>19250</td>\n",
       "      <td>2</td>\n",
       "      <td>1</td>\n",
       "      <td>1</td>\n",
       "      <td>2</td>\n",
       "    </tr>\n",
       "    <tr>\n",
       "      <th>929</th>\n",
       "      <td>10-50</td>\n",
       "      <td>2.889500e+01</td>\n",
       "      <td>Barajas</td>\n",
       "      <td>San Blas-Canillejas</td>\n",
       "      <td>0.000021</td>\n",
       "      <td>33.2</td>\n",
       "      <td>25550</td>\n",
       "      <td>33.8</td>\n",
       "      <td>19250</td>\n",
       "      <td>2</td>\n",
       "      <td>1</td>\n",
       "      <td>1</td>\n",
       "      <td>2</td>\n",
       "    </tr>\n",
       "    <tr>\n",
       "      <th>930</th>\n",
       "      <td>2-10</td>\n",
       "      <td>1.117337e+05</td>\n",
       "      <td>Barajas</td>\n",
       "      <td>San Blas-Canillejas</td>\n",
       "      <td>0.080796</td>\n",
       "      <td>33.2</td>\n",
       "      <td>25550</td>\n",
       "      <td>33.8</td>\n",
       "      <td>19250</td>\n",
       "      <td>2</td>\n",
       "      <td>1</td>\n",
       "      <td>1</td>\n",
       "      <td>2</td>\n",
       "    </tr>\n",
       "    <tr>\n",
       "      <th>931</th>\n",
       "      <td>0.5-2</td>\n",
       "      <td>4.250820e+05</td>\n",
       "      <td>Barajas</td>\n",
       "      <td>Barajas</td>\n",
       "      <td>0.307381</td>\n",
       "      <td>33.2</td>\n",
       "      <td>25550</td>\n",
       "      <td>33.2</td>\n",
       "      <td>25550</td>\n",
       "      <td>2</td>\n",
       "      <td>2</td>\n",
       "      <td>1</td>\n",
       "      <td>1</td>\n",
       "    </tr>\n",
       "    <tr>\n",
       "      <th>932</th>\n",
       "      <td>2-10</td>\n",
       "      <td>2.195756e+05</td>\n",
       "      <td>Barajas</td>\n",
       "      <td>Barajas</td>\n",
       "      <td>0.158778</td>\n",
       "      <td>33.2</td>\n",
       "      <td>25550</td>\n",
       "      <td>33.2</td>\n",
       "      <td>25550</td>\n",
       "      <td>2</td>\n",
       "      <td>2</td>\n",
       "      <td>1</td>\n",
       "      <td>1</td>\n",
       "    </tr>\n",
       "  </tbody>\n",
       "</table>\n",
       "<p>933 rows × 13 columns</p>\n",
       "</div>"
      ],
      "text/plain": [
       "    distancia    trip_count   origin          destination  \\\n",
       "0       0.5-2  1.372673e+06   Centro               Centro   \n",
       "1        2-10  2.526393e+04   Centro               Centro   \n",
       "2       0.5-2  2.676358e+05   Centro           Arganzuela   \n",
       "3        2-10  4.940023e+04   Centro           Arganzuela   \n",
       "4       0.5-2  8.280526e+04   Centro               Retiro   \n",
       "..        ...           ...      ...                  ...   \n",
       "928     0.5-2  7.758385e+04  Barajas  San Blas-Canillejas   \n",
       "929     10-50  2.889500e+01  Barajas  San Blas-Canillejas   \n",
       "930      2-10  1.117337e+05  Barajas  San Blas-Canillejas   \n",
       "931     0.5-2  4.250820e+05  Barajas              Barajas   \n",
       "932      2-10  2.195756e+05  Barajas              Barajas   \n",
       "\n",
       "     normalized_trip_count  Origin Gini Index  \\\n",
       "0                 0.390198               39.8   \n",
       "1                 0.007182               39.8   \n",
       "2                 0.076079               39.8   \n",
       "3                 0.014043               39.8   \n",
       "4                 0.023538               39.8   \n",
       "..                     ...                ...   \n",
       "928               0.056102               33.2   \n",
       "929               0.000021               33.2   \n",
       "930               0.080796               33.2   \n",
       "931               0.307381               33.2   \n",
       "932               0.158778               33.2   \n",
       "\n",
       "     Origin Median income per consumption unit  Destination Gini Index  \\\n",
       "0                                        20650                    39.8   \n",
       "1                                        20650                    39.8   \n",
       "2                                        20650                    31.0   \n",
       "3                                        20650                    31.0   \n",
       "4                                        20650                    33.1   \n",
       "..                                         ...                     ...   \n",
       "928                                      25550                    33.8   \n",
       "929                                      25550                    33.8   \n",
       "930                                      25550                    33.8   \n",
       "931                                      25550                    33.2   \n",
       "932                                      25550                    33.2   \n",
       "\n",
       "     Destination Median income per consumption unit  \\\n",
       "0                                             20650   \n",
       "1                                             20650   \n",
       "2                                             26250   \n",
       "3                                             26250   \n",
       "4                                             30450   \n",
       "..                                              ...   \n",
       "928                                           19250   \n",
       "929                                           19250   \n",
       "930                                           19250   \n",
       "931                                           25550   \n",
       "932                                           25550   \n",
       "\n",
       "     income decile origin Median income per consumption unit  \\\n",
       "0                                                    2         \n",
       "1                                                    2         \n",
       "2                                                    2         \n",
       "3                                                    2         \n",
       "4                                                    2         \n",
       "..                                                 ...         \n",
       "928                                                  2         \n",
       "929                                                  2         \n",
       "930                                                  2         \n",
       "931                                                  2         \n",
       "932                                                  2         \n",
       "\n",
       "     income decile destination Median income per consumption unit  \\\n",
       "0                                                    2              \n",
       "1                                                    2              \n",
       "2                                                    2              \n",
       "3                                                    2              \n",
       "4                                                    3              \n",
       "..                                                 ...              \n",
       "928                                                  1              \n",
       "929                                                  1              \n",
       "930                                                  1              \n",
       "931                                                  2              \n",
       "932                                                  2              \n",
       "\n",
       "     income decile origin Gini Index  income decile destination Gini Index  \n",
       "0                                  3                                     3  \n",
       "1                                  3                                     3  \n",
       "2                                  3                                     0  \n",
       "3                                  3                                     0  \n",
       "4                                  3                                     1  \n",
       "..                               ...                                   ...  \n",
       "928                                1                                     2  \n",
       "929                                1                                     2  \n",
       "930                                1                                     2  \n",
       "931                                1                                     1  \n",
       "932                                1                                     1  \n",
       "\n",
       "[933 rows x 13 columns]"
      ]
     },
     "execution_count": 45,
     "metadata": {},
     "output_type": "execute_result"
    }
   ],
   "source": [
    "trip_counts"
   ]
  }
 ],
 "metadata": {
  "kernelspec": {
   "display_name": ".thesis_env",
   "language": "python",
   "name": "python3"
  },
  "language_info": {
   "codemirror_mode": {
    "name": "ipython",
    "version": 3
   },
   "file_extension": ".py",
   "mimetype": "text/x-python",
   "name": "python",
   "nbconvert_exporter": "python",
   "pygments_lexer": "ipython3",
   "version": "3.11.4"
  },
  "orig_nbformat": 4,
  "vscode": {
   "interpreter": {
    "hash": "dc5a137c8466a4ffb6ded1bc1d0edcb068d49351ebe910c5391764b8894bd5ea"
   }
  }
 },
 "nbformat": 4,
 "nbformat_minor": 2
}
