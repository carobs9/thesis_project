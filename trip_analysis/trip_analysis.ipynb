{
 "cells": [
  {
   "cell_type": "code",
   "execution_count": 1,
   "metadata": {},
   "outputs": [],
   "source": [
    "import networkx as nx\n",
    "import pandas as pd\n",
    "import geopandas as gpd\n",
    "import config as cfg\n",
    "import numpy as np\n",
    "import matplotlib.pyplot as plt\n",
    "from utils import build_trip_count, get_district_names, get_income_data, add_quantiles"
   ]
  },
  {
   "cell_type": "code",
   "execution_count": 2,
   "metadata": {},
   "outputs": [],
   "source": [
    "all_viajes = pd.read_csv('/Users/caro/Desktop/thesis_project/mobility_data/VIAJES/all_viajes_month_0322.csv') # all trips\n",
    "income = gpd.read_file('/Users/caro/Desktop/thesis_project/segregation_indices/data/processed/geometries_and_income.geojson') # income data\n",
    "gdf = gpd.read_file(cfg.ZONIFICACION_DATA / 'distritos/madrid_gdf.geojson') # geodataframe\n",
    "# gdf = gdf.to_crs(epsg=4326)\n",
    "district_mapping = pd.read_csv('/Users/caro/Desktop/thesis_project/data_overview/outputs/districts_and_population.csv')"
   ]
  },
  {
   "cell_type": "code",
   "execution_count": 3,
   "metadata": {},
   "outputs": [
    {
     "data": {
      "text/plain": [
       "actividad_destino\n",
       "frecuente          7268863\n",
       "casa               4933456\n",
       "no_frecuente       4920539\n",
       "trabajo_estudio    2778097\n",
       "Name: count, dtype: int64"
      ]
     },
     "execution_count": 3,
     "metadata": {},
     "output_type": "execute_result"
    }
   ],
   "source": [
    "all_viajes.actividad_destino.value_counts()"
   ]
  },
  {
   "cell_type": "code",
   "execution_count": 4,
   "metadata": {},
   "outputs": [
    {
     "data": {
      "text/html": [
       "<div>\n",
       "<style scoped>\n",
       "    .dataframe tbody tr th:only-of-type {\n",
       "        vertical-align: middle;\n",
       "    }\n",
       "\n",
       "    .dataframe tbody tr th {\n",
       "        vertical-align: top;\n",
       "    }\n",
       "\n",
       "    .dataframe thead th {\n",
       "        text-align: right;\n",
       "    }\n",
       "</style>\n",
       "<table border=\"1\" class=\"dataframe\">\n",
       "  <thead>\n",
       "    <tr style=\"text-align: right;\">\n",
       "      <th></th>\n",
       "      <th>fecha</th>\n",
       "      <th>periodo</th>\n",
       "      <th>origen</th>\n",
       "      <th>destino</th>\n",
       "      <th>distancia</th>\n",
       "      <th>actividad_origen</th>\n",
       "      <th>actividad_destino</th>\n",
       "      <th>estudio_origen_posible</th>\n",
       "      <th>estudio_destino_posible</th>\n",
       "      <th>residencia</th>\n",
       "      <th>renta</th>\n",
       "      <th>edad</th>\n",
       "      <th>sexo</th>\n",
       "      <th>viajes</th>\n",
       "      <th>viajes_km</th>\n",
       "    </tr>\n",
       "  </thead>\n",
       "  <tbody>\n",
       "    <tr>\n",
       "      <th>0</th>\n",
       "      <td>20220301</td>\n",
       "      <td>0</td>\n",
       "      <td>2807901</td>\n",
       "      <td>2807901</td>\n",
       "      <td>0.5-2</td>\n",
       "      <td>casa</td>\n",
       "      <td>frecuente</td>\n",
       "      <td>no</td>\n",
       "      <td>no</td>\n",
       "      <td>28</td>\n",
       "      <td>&gt;15</td>\n",
       "      <td>0-25</td>\n",
       "      <td>hombre</td>\n",
       "      <td>29.337</td>\n",
       "      <td>30.222</td>\n",
       "    </tr>\n",
       "    <tr>\n",
       "      <th>1</th>\n",
       "      <td>20220301</td>\n",
       "      <td>0</td>\n",
       "      <td>2807901</td>\n",
       "      <td>2807901</td>\n",
       "      <td>0.5-2</td>\n",
       "      <td>casa</td>\n",
       "      <td>frecuente</td>\n",
       "      <td>no</td>\n",
       "      <td>no</td>\n",
       "      <td>28</td>\n",
       "      <td>&gt;15</td>\n",
       "      <td>0-25</td>\n",
       "      <td>mujer</td>\n",
       "      <td>34.143</td>\n",
       "      <td>27.522</td>\n",
       "    </tr>\n",
       "    <tr>\n",
       "      <th>2</th>\n",
       "      <td>20220301</td>\n",
       "      <td>0</td>\n",
       "      <td>2807901</td>\n",
       "      <td>2807901</td>\n",
       "      <td>0.5-2</td>\n",
       "      <td>casa</td>\n",
       "      <td>frecuente</td>\n",
       "      <td>no</td>\n",
       "      <td>no</td>\n",
       "      <td>28</td>\n",
       "      <td>&gt;15</td>\n",
       "      <td>25-45</td>\n",
       "      <td>hombre</td>\n",
       "      <td>92.799</td>\n",
       "      <td>63.331</td>\n",
       "    </tr>\n",
       "    <tr>\n",
       "      <th>3</th>\n",
       "      <td>20220301</td>\n",
       "      <td>0</td>\n",
       "      <td>2807901</td>\n",
       "      <td>2807901</td>\n",
       "      <td>0.5-2</td>\n",
       "      <td>casa</td>\n",
       "      <td>frecuente</td>\n",
       "      <td>no</td>\n",
       "      <td>no</td>\n",
       "      <td>28</td>\n",
       "      <td>&gt;15</td>\n",
       "      <td>25-45</td>\n",
       "      <td>mujer</td>\n",
       "      <td>65.475</td>\n",
       "      <td>44.556</td>\n",
       "    </tr>\n",
       "    <tr>\n",
       "      <th>4</th>\n",
       "      <td>20220301</td>\n",
       "      <td>0</td>\n",
       "      <td>2807901</td>\n",
       "      <td>2807901</td>\n",
       "      <td>0.5-2</td>\n",
       "      <td>casa</td>\n",
       "      <td>frecuente</td>\n",
       "      <td>no</td>\n",
       "      <td>no</td>\n",
       "      <td>28</td>\n",
       "      <td>&gt;15</td>\n",
       "      <td>45-65</td>\n",
       "      <td>hombre</td>\n",
       "      <td>44.319</td>\n",
       "      <td>31.052</td>\n",
       "    </tr>\n",
       "  </tbody>\n",
       "</table>\n",
       "</div>"
      ],
      "text/plain": [
       "      fecha  periodo   origen  destino distancia actividad_origen  \\\n",
       "0  20220301        0  2807901  2807901     0.5-2             casa   \n",
       "1  20220301        0  2807901  2807901     0.5-2             casa   \n",
       "2  20220301        0  2807901  2807901     0.5-2             casa   \n",
       "3  20220301        0  2807901  2807901     0.5-2             casa   \n",
       "4  20220301        0  2807901  2807901     0.5-2             casa   \n",
       "\n",
       "  actividad_destino estudio_origen_posible estudio_destino_posible  \\\n",
       "0         frecuente                     no                      no   \n",
       "1         frecuente                     no                      no   \n",
       "2         frecuente                     no                      no   \n",
       "3         frecuente                     no                      no   \n",
       "4         frecuente                     no                      no   \n",
       "\n",
       "   residencia renta   edad    sexo  viajes  viajes_km  \n",
       "0          28   >15   0-25  hombre  29.337     30.222  \n",
       "1          28   >15   0-25   mujer  34.143     27.522  \n",
       "2          28   >15  25-45  hombre  92.799     63.331  \n",
       "3          28   >15  25-45   mujer  65.475     44.556  \n",
       "4          28   >15  45-65  hombre  44.319     31.052  "
      ]
     },
     "execution_count": 4,
     "metadata": {},
     "output_type": "execute_result"
    }
   ],
   "source": [
    "all_viajes.head()"
   ]
  },
  {
   "cell_type": "code",
   "execution_count": 5,
   "metadata": {},
   "outputs": [],
   "source": [
    "filtered_df = all_viajes.loc[(all_viajes['actividad_origen'] == 'casa')] # home origin trips"
   ]
  },
  {
   "cell_type": "code",
   "execution_count": 6,
   "metadata": {},
   "outputs": [
    {
     "data": {
      "text/plain": [
       "(4839108, 15)"
      ]
     },
     "execution_count": 6,
     "metadata": {},
     "output_type": "execute_result"
    }
   ],
   "source": [
    "filtered_df.shape"
   ]
  },
  {
   "cell_type": "code",
   "execution_count": 7,
   "metadata": {},
   "outputs": [],
   "source": [
    "home_work = all_viajes[ # home to work trips\n",
    "    ((all_viajes['actividad_origen'] == 'casa') & (all_viajes['actividad_destino'] == 'trabajo_estudio'))\n",
    "]"
   ]
  },
  {
   "cell_type": "code",
   "execution_count": 8,
   "metadata": {},
   "outputs": [
    {
     "data": {
      "text/plain": [
       "(1205740, 15)"
      ]
     },
     "execution_count": 8,
     "metadata": {},
     "output_type": "execute_result"
    }
   ],
   "source": [
    "home_work.shape"
   ]
  },
  {
   "attachments": {},
   "cell_type": "markdown",
   "metadata": {},
   "source": [
    "## Filtering trips by median income quantile"
   ]
  },
  {
   "attachments": {},
   "cell_type": "markdown",
   "metadata": {},
   "source": [
    "1. Do low median income quantiles travel more to high median income quantiles for work purposes and overall?\n",
    "2. Do low median income quantiles travel more distance on average than other median income quantiles for work purposes and overall?"
   ]
  },
  {
   "attachments": {},
   "cell_type": "markdown",
   "metadata": {},
   "source": [
    "Question 1, all trips with home origin:"
   ]
  },
  {
   "cell_type": "code",
   "execution_count": 19,
   "metadata": {},
   "outputs": [],
   "source": [
    "trip_counts = build_trip_count(filtered_df)\n",
    "trip_counts = get_district_names(trip_counts)\n",
    "trip_counts = get_income_data(trip_counts, income, 'Gini Index', 'Median income per consumption unit')\n",
    "trip_counts = add_quantiles(trip_counts, 'Median income per consumption unit', n_quantiles=4)\n",
    "trip_counts = add_quantiles(trip_counts, 'Gini Index', n_quantiles=4)"
   ]
  },
  {
   "cell_type": "code",
   "execution_count": 10,
   "metadata": {},
   "outputs": [
    {
     "data": {
      "text/plain": [
       "np.int64(4839108)"
      ]
     },
     "execution_count": 10,
     "metadata": {},
     "output_type": "execute_result"
    }
   ],
   "source": [
    "trip_counts.trip_count.sum()"
   ]
  },
  {
   "cell_type": "code",
   "execution_count": 11,
   "metadata": {},
   "outputs": [
    {
     "data": {
      "text/html": [
       "<div>\n",
       "<style scoped>\n",
       "    .dataframe tbody tr th:only-of-type {\n",
       "        vertical-align: middle;\n",
       "    }\n",
       "\n",
       "    .dataframe tbody tr th {\n",
       "        vertical-align: top;\n",
       "    }\n",
       "\n",
       "    .dataframe thead th {\n",
       "        text-align: right;\n",
       "    }\n",
       "</style>\n",
       "<table border=\"1\" class=\"dataframe\">\n",
       "  <thead>\n",
       "    <tr style=\"text-align: right;\">\n",
       "      <th></th>\n",
       "      <th>trip_count</th>\n",
       "      <th>origin</th>\n",
       "      <th>destination</th>\n",
       "      <th>Origin Gini Index</th>\n",
       "      <th>Origin Median income per consumption unit</th>\n",
       "      <th>Destination Gini Index</th>\n",
       "      <th>Destination Median income per consumption unit</th>\n",
       "      <th>income decile origin Median income per consumption unit</th>\n",
       "      <th>income decile destination Median income per consumption unit</th>\n",
       "      <th>income decile origin Gini Index</th>\n",
       "      <th>income decile destination Gini Index</th>\n",
       "    </tr>\n",
       "  </thead>\n",
       "  <tbody>\n",
       "    <tr>\n",
       "      <th>0</th>\n",
       "      <td>23450</td>\n",
       "      <td>Centro</td>\n",
       "      <td>Centro</td>\n",
       "      <td>39.8</td>\n",
       "      <td>20650</td>\n",
       "      <td>39.8</td>\n",
       "      <td>20650</td>\n",
       "      <td>2</td>\n",
       "      <td>2</td>\n",
       "      <td>3</td>\n",
       "      <td>3</td>\n",
       "    </tr>\n",
       "    <tr>\n",
       "      <th>1</th>\n",
       "      <td>20538</td>\n",
       "      <td>Centro</td>\n",
       "      <td>Arganzuela</td>\n",
       "      <td>39.8</td>\n",
       "      <td>20650</td>\n",
       "      <td>31.0</td>\n",
       "      <td>26250</td>\n",
       "      <td>2</td>\n",
       "      <td>2</td>\n",
       "      <td>3</td>\n",
       "      <td>0</td>\n",
       "    </tr>\n",
       "    <tr>\n",
       "      <th>2</th>\n",
       "      <td>16117</td>\n",
       "      <td>Centro</td>\n",
       "      <td>Retiro</td>\n",
       "      <td>39.8</td>\n",
       "      <td>20650</td>\n",
       "      <td>33.1</td>\n",
       "      <td>30450</td>\n",
       "      <td>2</td>\n",
       "      <td>3</td>\n",
       "      <td>3</td>\n",
       "      <td>1</td>\n",
       "    </tr>\n",
       "    <tr>\n",
       "      <th>3</th>\n",
       "      <td>16966</td>\n",
       "      <td>Centro</td>\n",
       "      <td>Salamanca</td>\n",
       "      <td>39.8</td>\n",
       "      <td>20650</td>\n",
       "      <td>40.2</td>\n",
       "      <td>29750</td>\n",
       "      <td>2</td>\n",
       "      <td>3</td>\n",
       "      <td>3</td>\n",
       "      <td>3</td>\n",
       "    </tr>\n",
       "    <tr>\n",
       "      <th>4</th>\n",
       "      <td>9214</td>\n",
       "      <td>Centro</td>\n",
       "      <td>Chamartín</td>\n",
       "      <td>39.8</td>\n",
       "      <td>20650</td>\n",
       "      <td>40.2</td>\n",
       "      <td>32550</td>\n",
       "      <td>2</td>\n",
       "      <td>3</td>\n",
       "      <td>3</td>\n",
       "      <td>3</td>\n",
       "    </tr>\n",
       "    <tr>\n",
       "      <th>...</th>\n",
       "      <td>...</td>\n",
       "      <td>...</td>\n",
       "      <td>...</td>\n",
       "      <td>...</td>\n",
       "      <td>...</td>\n",
       "      <td>...</td>\n",
       "      <td>...</td>\n",
       "      <td>...</td>\n",
       "      <td>...</td>\n",
       "      <td>...</td>\n",
       "      <td>...</td>\n",
       "    </tr>\n",
       "    <tr>\n",
       "      <th>436</th>\n",
       "      <td>1108</td>\n",
       "      <td>Barajas</td>\n",
       "      <td>Villaverde</td>\n",
       "      <td>33.2</td>\n",
       "      <td>25550</td>\n",
       "      <td>31.9</td>\n",
       "      <td>15050</td>\n",
       "      <td>2</td>\n",
       "      <td>0</td>\n",
       "      <td>1</td>\n",
       "      <td>1</td>\n",
       "    </tr>\n",
       "    <tr>\n",
       "      <th>437</th>\n",
       "      <td>1976</td>\n",
       "      <td>Barajas</td>\n",
       "      <td>Villa de Vallecas</td>\n",
       "      <td>33.2</td>\n",
       "      <td>25550</td>\n",
       "      <td>31.1</td>\n",
       "      <td>18550</td>\n",
       "      <td>2</td>\n",
       "      <td>0</td>\n",
       "      <td>1</td>\n",
       "      <td>0</td>\n",
       "    </tr>\n",
       "    <tr>\n",
       "      <th>438</th>\n",
       "      <td>2121</td>\n",
       "      <td>Barajas</td>\n",
       "      <td>Vicálvaro</td>\n",
       "      <td>33.2</td>\n",
       "      <td>25550</td>\n",
       "      <td>30.4</td>\n",
       "      <td>19250</td>\n",
       "      <td>2</td>\n",
       "      <td>1</td>\n",
       "      <td>1</td>\n",
       "      <td>0</td>\n",
       "    </tr>\n",
       "    <tr>\n",
       "      <th>439</th>\n",
       "      <td>19764</td>\n",
       "      <td>Barajas</td>\n",
       "      <td>San Blas-Canillejas</td>\n",
       "      <td>33.2</td>\n",
       "      <td>25550</td>\n",
       "      <td>33.8</td>\n",
       "      <td>19250</td>\n",
       "      <td>2</td>\n",
       "      <td>1</td>\n",
       "      <td>1</td>\n",
       "      <td>2</td>\n",
       "    </tr>\n",
       "    <tr>\n",
       "      <th>440</th>\n",
       "      <td>28234</td>\n",
       "      <td>Barajas</td>\n",
       "      <td>Barajas</td>\n",
       "      <td>33.2</td>\n",
       "      <td>25550</td>\n",
       "      <td>33.2</td>\n",
       "      <td>25550</td>\n",
       "      <td>2</td>\n",
       "      <td>2</td>\n",
       "      <td>1</td>\n",
       "      <td>1</td>\n",
       "    </tr>\n",
       "  </tbody>\n",
       "</table>\n",
       "<p>441 rows × 11 columns</p>\n",
       "</div>"
      ],
      "text/plain": [
       "     trip_count   origin          destination  Origin Gini Index  \\\n",
       "0         23450   Centro               Centro               39.8   \n",
       "1         20538   Centro           Arganzuela               39.8   \n",
       "2         16117   Centro               Retiro               39.8   \n",
       "3         16966   Centro            Salamanca               39.8   \n",
       "4          9214   Centro            Chamartín               39.8   \n",
       "..          ...      ...                  ...                ...   \n",
       "436        1108  Barajas           Villaverde               33.2   \n",
       "437        1976  Barajas    Villa de Vallecas               33.2   \n",
       "438        2121  Barajas            Vicálvaro               33.2   \n",
       "439       19764  Barajas  San Blas-Canillejas               33.2   \n",
       "440       28234  Barajas              Barajas               33.2   \n",
       "\n",
       "     Origin Median income per consumption unit  Destination Gini Index  \\\n",
       "0                                        20650                    39.8   \n",
       "1                                        20650                    31.0   \n",
       "2                                        20650                    33.1   \n",
       "3                                        20650                    40.2   \n",
       "4                                        20650                    40.2   \n",
       "..                                         ...                     ...   \n",
       "436                                      25550                    31.9   \n",
       "437                                      25550                    31.1   \n",
       "438                                      25550                    30.4   \n",
       "439                                      25550                    33.8   \n",
       "440                                      25550                    33.2   \n",
       "\n",
       "     Destination Median income per consumption unit  \\\n",
       "0                                             20650   \n",
       "1                                             26250   \n",
       "2                                             30450   \n",
       "3                                             29750   \n",
       "4                                             32550   \n",
       "..                                              ...   \n",
       "436                                           15050   \n",
       "437                                           18550   \n",
       "438                                           19250   \n",
       "439                                           19250   \n",
       "440                                           25550   \n",
       "\n",
       "     income decile origin Median income per consumption unit  \\\n",
       "0                                                    2         \n",
       "1                                                    2         \n",
       "2                                                    2         \n",
       "3                                                    2         \n",
       "4                                                    2         \n",
       "..                                                 ...         \n",
       "436                                                  2         \n",
       "437                                                  2         \n",
       "438                                                  2         \n",
       "439                                                  2         \n",
       "440                                                  2         \n",
       "\n",
       "     income decile destination Median income per consumption unit  \\\n",
       "0                                                    2              \n",
       "1                                                    2              \n",
       "2                                                    3              \n",
       "3                                                    3              \n",
       "4                                                    3              \n",
       "..                                                 ...              \n",
       "436                                                  0              \n",
       "437                                                  0              \n",
       "438                                                  1              \n",
       "439                                                  1              \n",
       "440                                                  2              \n",
       "\n",
       "     income decile origin Gini Index  income decile destination Gini Index  \n",
       "0                                  3                                     3  \n",
       "1                                  3                                     0  \n",
       "2                                  3                                     1  \n",
       "3                                  3                                     3  \n",
       "4                                  3                                     3  \n",
       "..                               ...                                   ...  \n",
       "436                                1                                     1  \n",
       "437                                1                                     0  \n",
       "438                                1                                     0  \n",
       "439                                1                                     2  \n",
       "440                                1                                     1  \n",
       "\n",
       "[441 rows x 11 columns]"
      ]
     },
     "execution_count": 11,
     "metadata": {},
     "output_type": "execute_result"
    }
   ],
   "source": [
    "trip_counts"
   ]
  },
  {
   "cell_type": "code",
   "execution_count": 12,
   "metadata": {},
   "outputs": [],
   "source": [
    "low_to_high_median = trip_counts[(trip_counts['income decile origin Median income per consumption unit'].isin([0, 1])) & \n",
    "                                      (trip_counts['income decile destination Median income per consumption unit'].isin([2, 3]))]\n",
    "\n",
    "high_to_low_median = trip_counts[(trip_counts['income decile origin Median income per consumption unit'].isin([2, 3])) & \n",
    "                                      (trip_counts['income decile destination Median income per consumption unit'].isin([0, 1]))]\n",
    "\n",
    "low_to_low_median = trip_counts[(trip_counts['income decile origin Median income per consumption unit'].isin([0, 1]))]\n",
    "\n",
    "high_to_high_median = trip_counts[(trip_counts['income decile origin Median income per consumption unit'].isin([2, 3]))]"
   ]
  },
  {
   "cell_type": "code",
   "execution_count": 13,
   "metadata": {},
   "outputs": [
    {
     "data": {
      "text/plain": [
       "np.float64(26.116094123131784)"
      ]
     },
     "execution_count": 13,
     "metadata": {},
     "output_type": "execute_result"
    }
   ],
   "source": [
    "# percentage of trips from low to high districts (median income per consumtion unit)\n",
    "low_to_high_median['trip_count'].sum() / trip_counts.trip_count.sum() * 100 "
   ]
  },
  {
   "cell_type": "code",
   "execution_count": 14,
   "metadata": {},
   "outputs": [
    {
     "data": {
      "text/plain": [
       "np.float64(15.278022313203177)"
      ]
     },
     "execution_count": 14,
     "metadata": {},
     "output_type": "execute_result"
    }
   ],
   "source": [
    "# percentage of trips from high to low districts (median income per consumtion unit)\n",
    "high_to_low_median['trip_count'].sum() / trip_counts.trip_count.sum() * 100"
   ]
  },
  {
   "cell_type": "code",
   "execution_count": 15,
   "metadata": {},
   "outputs": [
    {
     "data": {
      "text/plain": [
       "np.float64(56.641823245110466)"
      ]
     },
     "execution_count": 15,
     "metadata": {},
     "output_type": "execute_result"
    }
   ],
   "source": [
    "low_to_low_median['trip_count'].sum() / trip_counts.trip_count.sum() * 100 "
   ]
  },
  {
   "cell_type": "code",
   "execution_count": 16,
   "metadata": {},
   "outputs": [
    {
     "data": {
      "text/plain": [
       "np.float64(43.35817675488954)"
      ]
     },
     "execution_count": 16,
     "metadata": {},
     "output_type": "execute_result"
    }
   ],
   "source": [
    "high_to_high_median['trip_count'].sum() / trip_counts.trip_count.sum() * 100 "
   ]
  },
  {
   "attachments": {},
   "cell_type": "markdown",
   "metadata": {},
   "source": [
    "Question 2, all trips with home origin:"
   ]
  },
  {
   "cell_type": "code",
   "execution_count": 23,
   "metadata": {},
   "outputs": [],
   "source": [
    "trip_counts = build_trip_count(filtered_df, 'distancia') # adding 'distancia' to the analysis\n",
    "trip_counts = get_district_names(trip_counts)\n",
    "trip_counts = get_income_data(trip_counts, income, 'Gini Index', 'Median income per consumption unit')\n",
    "trip_counts = add_quantiles(trip_counts, 'Median income per consumption unit', n_quantiles=4)\n",
    "trip_counts = add_quantiles(trip_counts, 'Gini Index', n_quantiles=4)"
   ]
  },
  {
   "cell_type": "code",
   "execution_count": 24,
   "metadata": {},
   "outputs": [],
   "source": [
    "low_median_income = trip_counts[trip_counts['income decile origin Median income per consumption unit'].isin([0, 1])]\n",
    "high_median_income = trip_counts[trip_counts['income decile origin Median income per consumption unit'].isin([2, 3])]"
   ]
  },
  {
   "cell_type": "code",
   "execution_count": 25,
   "metadata": {},
   "outputs": [],
   "source": [
    "distance_order = ['0.5-2', '2-10', '10-50']\n",
    "colors = [\"#a6cee3\", \"#03396c\"]"
   ]
  },
  {
   "cell_type": "code",
   "execution_count": 26,
   "metadata": {},
   "outputs": [],
   "source": [
    "low_income_distances = low_median_income['distancia'].value_counts(normalize=True).sort_index().reindex(distance_order, fill_value=0) # dividing by 489, number of observations of low income trip counts?\n",
    "high_income_distances = high_median_income['distancia'].value_counts(normalize=True).sort_index().reindex(distance_order, fill_value=0) ## div by 444"
   ]
  },
  {
   "cell_type": "code",
   "execution_count": null,
   "metadata": {},
   "outputs": [],
   "source": [
    "distance_comparison = pd.DataFrame({\n",
    "    'Low Median Income Distances': low_income_distances,\n",
    "    'High Median Income Distances': high_income_distances\n",
    "})"
   ]
  },
  {
   "cell_type": "code",
   "execution_count": 150,
   "metadata": {},
   "outputs": [
    {
     "data": {
      "image/png": "[encoded data removed]",
      "text/plain": [
       "<Figure size 1000x600 with 1 Axes>"
      ]
     },
     "metadata": {},
     "output_type": "display_data"
    }
   ],
   "source": [
    "fig, ax = plt.subplots(figsize=(10, 6))\n",
    "distance_comparison.plot(kind='bar', color=colors, ax=ax)\n",
    "plt.title('Distance Distribution of Trips by Median Income Per Consumption Unit Group')\n",
    "plt.xlabel('Distance Bracket')\n",
    "plt.ylabel('Proportion of All Trips')\n",
    "plt.legend(title='Income Quantile')\n",
    "plt.show()"
   ]
  },
  {
   "attachments": {},
   "cell_type": "markdown",
   "metadata": {},
   "source": [
    "Question 1, home to work:"
   ]
  },
  {
   "cell_type": "code",
   "execution_count": 151,
   "metadata": {},
   "outputs": [],
   "source": [
    "trip_counts_work = build_trip_count(home_work, 'distancia')\n",
    "trip_counts_work = get_district_names(trip_counts_work)\n",
    "trip_counts_work = get_income_data(trip_counts_work, income, 'Gini Index', 'Median income per consumption unit')\n",
    "trip_counts_work = add_quantiles(trip_counts_work, 'Median income per consumption unit')\n",
    "trip_counts_work = add_quantiles(trip_counts_work, 'Gini Index')"
   ]
  },
  {
   "cell_type": "code",
   "execution_count": 152,
   "metadata": {},
   "outputs": [],
   "source": [
    "low_to_high_median = trip_counts_work[(trip_counts_work['income decile origin Median income per consumption unit'].isin([0, 1])) & \n",
    "                                      (trip_counts_work['income decile destination Median income per consumption unit'].isin([2, 3]))]\n",
    "\n",
    "high_to_low_median = trip_counts_work[(trip_counts_work['income decile origin Median income per consumption unit'].isin([2, 3])) & \n",
    "                                      (trip_counts_work['income decile destination Median income per consumption unit'].isin([0, 1]))]"
   ]
  },
  {
   "cell_type": "code",
   "execution_count": 153,
   "metadata": {},
   "outputs": [
    {
     "data": {
      "text/plain": [
       "np.float64(11.263954086287258)"
      ]
     },
     "execution_count": 153,
     "metadata": {},
     "output_type": "execute_result"
    }
   ],
   "source": [
    "low_to_high_median['trip_count'].sum() / trip_counts_work.trip_count.sum() * 100 "
   ]
  },
  {
   "cell_type": "code",
   "execution_count": 154,
   "metadata": {},
   "outputs": [
    {
     "data": {
      "text/plain": [
       "np.float64(8.115016504387347)"
      ]
     },
     "execution_count": 154,
     "metadata": {},
     "output_type": "execute_result"
    }
   ],
   "source": [
    "high_to_low_median['trip_count'].sum() / trip_counts_work.trip_count.sum() * 100 "
   ]
  },
  {
   "attachments": {},
   "cell_type": "markdown",
   "metadata": {},
   "source": [
    "Question 2, home to work:"
   ]
  },
  {
   "cell_type": "code",
   "execution_count": 155,
   "metadata": {},
   "outputs": [],
   "source": [
    "low_median_income_work = trip_counts_work[trip_counts_work['income decile origin Median income per consumption unit'].isin([0, 1])]\n",
    "high_median_income_work = trip_counts_work[trip_counts_work['income decile origin Median income per consumption unit'].isin([2, 3])]"
   ]
  },
  {
   "cell_type": "code",
   "execution_count": 156,
   "metadata": {},
   "outputs": [],
   "source": [
    "low_income_distances_work = low_median_income_work['distancia'].value_counts(normalize=True).sort_index().reindex(distance_order, fill_value=0)\n",
    "high_income_distances_work = high_median_income_work['distancia'].value_counts(normalize=True).sort_index().reindex(distance_order, fill_value=0)"
   ]
  },
  {
   "cell_type": "code",
   "execution_count": 157,
   "metadata": {},
   "outputs": [],
   "source": [
    "distance_comparison_work = pd.DataFrame({\n",
    "    'Low Median Income Distances': low_income_distances_work,\n",
    "    'High Median Income Distances': high_income_distances_work\n",
    "})"
   ]
  },
  {
   "cell_type": "code",
   "execution_count": 158,
   "metadata": {},
   "outputs": [
    {
     "data": {
      "image/png": "[encoded data removed]",
      "text/plain": [
       "<Figure size 1000x600 with 1 Axes>"
      ]
     },
     "metadata": {},
     "output_type": "display_data"
    }
   ],
   "source": [
    "fig, ax = plt.subplots(figsize=(10, 6))\n",
    "distance_comparison_work.plot(kind='bar', color=colors, ax=ax)\n",
    "plt.title('Distance of Trips by Income Group - Home to Work Trips')\n",
    "plt.xlabel('Distance Bracket')\n",
    "plt.ylabel('Proportion of Trips')\n",
    "plt.legend(title='Income Quantile')\n",
    "plt.show()"
   ]
  },
  {
   "attachments": {},
   "cell_type": "markdown",
   "metadata": {},
   "source": [
    "## Filtering trips by Gini Index quantile"
   ]
  },
  {
   "attachments": {},
   "cell_type": "markdown",
   "metadata": {},
   "source": [
    "Question 1, all trips with home origin, Gini Index:"
   ]
  },
  {
   "cell_type": "code",
   "execution_count": 203,
   "metadata": {},
   "outputs": [],
   "source": [
    "low_to_high_gini = trip_counts[(trip_counts['income decile origin Gini Index'].isin([0, 1])) & \n",
    "                                      (trip_counts['income decile destination Gini Index'].isin([2, 3]))]\n",
    "\n",
    "high_to_low_gini = trip_counts[(trip_counts['income decile origin Gini Index'].isin([2, 3])) & \n",
    "                                      (trip_counts['income decile destination Gini Index'].isin([0, 1]))]\n",
    "\n",
    "\n",
    "low_to_low_gini = trip_counts[(trip_counts['income decile origin Gini Index'].isin([0, 1]))]\n",
    "\n",
    "\n",
    "high_to_high_gini = trip_counts[(trip_counts['income decile origin Gini Index'].isin([2, 3]))]"
   ]
  },
  {
   "cell_type": "code",
   "execution_count": 204,
   "metadata": {},
   "outputs": [
    {
     "data": {
      "text/plain": [
       "np.float64(22.243624238186047)"
      ]
     },
     "execution_count": 204,
     "metadata": {},
     "output_type": "execute_result"
    }
   ],
   "source": [
    "# percentage of trips from low to high districts (gini index)\n",
    "low_to_high_gini['trip_count'].sum() / trip_counts.trip_count.sum() * 100 "
   ]
  },
  {
   "cell_type": "code",
   "execution_count": 205,
   "metadata": {},
   "outputs": [
    {
     "data": {
      "text/plain": [
       "np.float64(14.263806470118045)"
      ]
     },
     "execution_count": 205,
     "metadata": {},
     "output_type": "execute_result"
    }
   ],
   "source": [
    "# percentage of trips from high to low districts (gini index)\n",
    "high_to_low_gini['trip_count'].sum() / trip_counts.trip_count.sum() * 100 "
   ]
  },
  {
   "cell_type": "code",
   "execution_count": 206,
   "metadata": {},
   "outputs": [
    {
     "data": {
      "text/plain": [
       "np.float64(52.404926693101295)"
      ]
     },
     "execution_count": 206,
     "metadata": {},
     "output_type": "execute_result"
    }
   ],
   "source": [
    "low_to_low_gini['trip_count'].sum() / trip_counts.trip_count.sum() * 100 "
   ]
  },
  {
   "cell_type": "code",
   "execution_count": 207,
   "metadata": {},
   "outputs": [
    {
     "data": {
      "text/plain": [
       "np.float64(47.59507330689871)"
      ]
     },
     "execution_count": 207,
     "metadata": {},
     "output_type": "execute_result"
    }
   ],
   "source": [
    "high_to_high_gini['trip_count'].sum() / trip_counts.trip_count.sum() * 100 "
   ]
  },
  {
   "attachments": {},
   "cell_type": "markdown",
   "metadata": {},
   "source": [
    "Question 1, home to work, Gini Index:"
   ]
  },
  {
   "cell_type": "code",
   "execution_count": 165,
   "metadata": {},
   "outputs": [],
   "source": [
    "low_to_high_gini_work = trip_counts_work[(trip_counts_work['income decile origin Gini Index'].isin([0, 1])) & \n",
    "                                      (trip_counts_work['income decile destination Gini Index'].isin([2, 3]))]\n",
    "\n",
    "high_to_low_gini_work = trip_counts_work[(trip_counts_work['income decile origin Gini Index'].isin([2, 3])) & \n",
    "                                      (trip_counts_work['income decile destination Gini Index'].isin([0, 1]))]"
   ]
  },
  {
   "cell_type": "code",
   "execution_count": 166,
   "metadata": {},
   "outputs": [
    {
     "data": {
      "text/plain": [
       "np.float64(7.704646109443164)"
      ]
     },
     "execution_count": 166,
     "metadata": {},
     "output_type": "execute_result"
    }
   ],
   "source": [
    "low_to_high_gini_work['trip_count'].sum() / trip_counts_work.trip_count.sum() * 100 "
   ]
  },
  {
   "cell_type": "code",
   "execution_count": 167,
   "metadata": {},
   "outputs": [
    {
     "data": {
      "text/plain": [
       "np.float64(12.504768855640519)"
      ]
     },
     "execution_count": 167,
     "metadata": {},
     "output_type": "execute_result"
    }
   ],
   "source": [
    "high_to_low_gini_work['trip_count'].sum() / trip_counts_work.trip_count.sum() * 100 "
   ]
  },
  {
   "attachments": {},
   "cell_type": "markdown",
   "metadata": {},
   "source": [
    "Question 2, all trips with home origin, Gini Index:"
   ]
  },
  {
   "cell_type": "code",
   "execution_count": 168,
   "metadata": {},
   "outputs": [],
   "source": [
    "low_gini = trip_counts[trip_counts['income decile origin Gini Index'].isin([0, 1])]\n",
    "high_gini = trip_counts[trip_counts['income decile origin Gini Index'].isin([2, 3])]"
   ]
  },
  {
   "cell_type": "code",
   "execution_count": 169,
   "metadata": {},
   "outputs": [],
   "source": [
    "low_income_distances = low_gini['distancia'].value_counts(normalize=True).sort_index().reindex(distance_order, fill_value=0)\n",
    "high_income_distances = high_gini['distancia'].value_counts(normalize=True).sort_index().reindex(distance_order, fill_value=0)"
   ]
  },
  {
   "cell_type": "code",
   "execution_count": 170,
   "metadata": {},
   "outputs": [],
   "source": [
    "distance_comparison_gini = pd.DataFrame({\n",
    "    'Low Gini Distances': low_income_distances,\n",
    "    'High Gini Distances': high_income_distances\n",
    "})"
   ]
  },
  {
   "cell_type": "code",
   "execution_count": 171,
   "metadata": {},
   "outputs": [
    {
     "data": {
      "image/png": "[encoded data removed]",
      "text/plain": [
       "<Figure size 1000x600 with 1 Axes>"
      ]
     },
     "metadata": {},
     "output_type": "display_data"
    }
   ],
   "source": [
    "fig, ax = plt.subplots(figsize=(10, 6))\n",
    "\n",
    "distance_comparison_gini.plot(kind='bar', color=colors, ax=ax)\n",
    "plt.title('Distance of Trips by Gini Index Quantiles - All Home Origin Trips')\n",
    "plt.xlabel('Distance Bracket')\n",
    "plt.ylabel('Proportion of Trips')\n",
    "plt.legend(title='Gini Index Quantile')\n",
    "plt.show()"
   ]
  },
  {
   "attachments": {},
   "cell_type": "markdown",
   "metadata": {},
   "source": [
    "Question 2, home to work, Gini Index:"
   ]
  },
  {
   "cell_type": "code",
   "execution_count": 172,
   "metadata": {},
   "outputs": [],
   "source": [
    "low_gini_work = trip_counts_work[trip_counts_work['income decile origin Gini Index'].isin([0, 1])]\n",
    "high_gini_work = trip_counts_work[trip_counts_work['income decile origin Gini Index'].isin([2, 3])]"
   ]
  },
  {
   "cell_type": "code",
   "execution_count": 173,
   "metadata": {},
   "outputs": [],
   "source": [
    "low_gini_distances_work = low_gini_work['distancia'].value_counts(normalize=True).sort_index().reindex(distance_order, fill_value=0)\n",
    "high_gini_distances_work = high_gini_work['distancia'].value_counts(normalize=True).sort_index().reindex(distance_order, fill_value=0)"
   ]
  },
  {
   "cell_type": "code",
   "execution_count": 174,
   "metadata": {},
   "outputs": [],
   "source": [
    "distance_comparison_gini_work = pd.DataFrame({\n",
    "    'Low Gini Distances': low_gini_distances_work,\n",
    "    'High Gini Distances': high_gini_distances_work\n",
    "})"
   ]
  },
  {
   "cell_type": "code",
   "execution_count": 175,
   "metadata": {},
   "outputs": [
    {
     "data": {
      "image/png": "[encoded data removed]",
      "text/plain": [
       "<Figure size 1000x600 with 1 Axes>"
      ]
     },
     "metadata": {},
     "output_type": "display_data"
    }
   ],
   "source": [
    "fig, ax = plt.subplots(figsize=(10, 6))\n",
    "distance_comparison_gini_work.plot(kind='bar', color=colors, ax=ax)\n",
    "plt.title('Distance of Trips by Gini Index Quantiles - Home to Work Trips')\n",
    "plt.xlabel('Distance Bracket')\n",
    "plt.ylabel('Proportion of Trips')\n",
    "plt.legend(title='Gini Index Quantile')\n",
    "plt.show()"
   ]
  },
  {
   "attachments": {},
   "cell_type": "markdown",
   "metadata": {},
   "source": [
    "## Further Analysis"
   ]
  },
  {
   "cell_type": "code",
   "execution_count": 176,
   "metadata": {},
   "outputs": [
    {
     "data": {
      "text/html": [
       "<div>\n",
       "<style scoped>\n",
       "    .dataframe tbody tr th:only-of-type {\n",
       "        vertical-align: middle;\n",
       "    }\n",
       "\n",
       "    .dataframe tbody tr th {\n",
       "        vertical-align: top;\n",
       "    }\n",
       "\n",
       "    .dataframe thead th {\n",
       "        text-align: right;\n",
       "    }\n",
       "</style>\n",
       "<table border=\"1\" class=\"dataframe\">\n",
       "  <thead>\n",
       "    <tr style=\"text-align: right;\">\n",
       "      <th></th>\n",
       "      <th>Low Median Income Distances</th>\n",
       "      <th>High Median Income Distances</th>\n",
       "    </tr>\n",
       "    <tr>\n",
       "      <th>distancia</th>\n",
       "      <th></th>\n",
       "      <th></th>\n",
       "    </tr>\n",
       "  </thead>\n",
       "  <tbody>\n",
       "    <tr>\n",
       "      <th>0.5-2</th>\n",
       "      <td>0.177914</td>\n",
       "      <td>0.213964</td>\n",
       "    </tr>\n",
       "    <tr>\n",
       "      <th>2-10</th>\n",
       "      <td>0.458078</td>\n",
       "      <td>0.457207</td>\n",
       "    </tr>\n",
       "    <tr>\n",
       "      <th>10-50</th>\n",
       "      <td>0.364008</td>\n",
       "      <td>0.328829</td>\n",
       "    </tr>\n",
       "  </tbody>\n",
       "</table>\n",
       "</div>"
      ],
      "text/plain": [
       "           Low Median Income Distances  High Median Income Distances\n",
       "distancia                                                           \n",
       "0.5-2                         0.177914                      0.213964\n",
       "2-10                          0.458078                      0.457207\n",
       "10-50                         0.364008                      0.328829"
      ]
     },
     "execution_count": 176,
     "metadata": {},
     "output_type": "execute_result"
    }
   ],
   "source": [
    "distance_comparison"
   ]
  },
  {
   "cell_type": "code",
   "execution_count": 177,
   "metadata": {},
   "outputs": [
    {
     "data": {
      "text/html": [
       "<div>\n",
       "<style scoped>\n",
       "    .dataframe tbody tr th:only-of-type {\n",
       "        vertical-align: middle;\n",
       "    }\n",
       "\n",
       "    .dataframe tbody tr th {\n",
       "        vertical-align: top;\n",
       "    }\n",
       "\n",
       "    .dataframe thead th {\n",
       "        text-align: right;\n",
       "    }\n",
       "</style>\n",
       "<table border=\"1\" class=\"dataframe\">\n",
       "  <thead>\n",
       "    <tr style=\"text-align: right;\">\n",
       "      <th></th>\n",
       "      <th>Low Median Income Distances</th>\n",
       "      <th>High Median Income Distances</th>\n",
       "    </tr>\n",
       "    <tr>\n",
       "      <th>distancia</th>\n",
       "      <th></th>\n",
       "      <th></th>\n",
       "    </tr>\n",
       "  </thead>\n",
       "  <tbody>\n",
       "    <tr>\n",
       "      <th>0.5-2</th>\n",
       "      <td>0.162850</td>\n",
       "      <td>0.200787</td>\n",
       "    </tr>\n",
       "    <tr>\n",
       "      <th>2-10</th>\n",
       "      <td>0.463104</td>\n",
       "      <td>0.476378</td>\n",
       "    </tr>\n",
       "    <tr>\n",
       "      <th>10-50</th>\n",
       "      <td>0.374046</td>\n",
       "      <td>0.322835</td>\n",
       "    </tr>\n",
       "  </tbody>\n",
       "</table>\n",
       "</div>"
      ],
      "text/plain": [
       "           Low Median Income Distances  High Median Income Distances\n",
       "distancia                                                           \n",
       "0.5-2                         0.162850                      0.200787\n",
       "2-10                          0.463104                      0.476378\n",
       "10-50                         0.374046                      0.322835"
      ]
     },
     "execution_count": 177,
     "metadata": {},
     "output_type": "execute_result"
    }
   ],
   "source": [
    "distance_comparison_work"
   ]
  },
  {
   "cell_type": "code",
   "execution_count": 178,
   "metadata": {},
   "outputs": [
    {
     "data": {
      "text/html": [
       "<div>\n",
       "<style scoped>\n",
       "    .dataframe tbody tr th:only-of-type {\n",
       "        vertical-align: middle;\n",
       "    }\n",
       "\n",
       "    .dataframe tbody tr th {\n",
       "        vertical-align: top;\n",
       "    }\n",
       "\n",
       "    .dataframe thead th {\n",
       "        text-align: right;\n",
       "    }\n",
       "</style>\n",
       "<table border=\"1\" class=\"dataframe\">\n",
       "  <thead>\n",
       "    <tr style=\"text-align: right;\">\n",
       "      <th></th>\n",
       "      <th>Low Gini Distances</th>\n",
       "      <th>High Gini Distances</th>\n",
       "    </tr>\n",
       "    <tr>\n",
       "      <th>distancia</th>\n",
       "      <th></th>\n",
       "      <th></th>\n",
       "    </tr>\n",
       "  </thead>\n",
       "  <tbody>\n",
       "    <tr>\n",
       "      <th>0.5-2</th>\n",
       "      <td>0.180294</td>\n",
       "      <td>0.210526</td>\n",
       "    </tr>\n",
       "    <tr>\n",
       "      <th>2-10</th>\n",
       "      <td>0.461216</td>\n",
       "      <td>0.453947</td>\n",
       "    </tr>\n",
       "    <tr>\n",
       "      <th>10-50</th>\n",
       "      <td>0.358491</td>\n",
       "      <td>0.335526</td>\n",
       "    </tr>\n",
       "  </tbody>\n",
       "</table>\n",
       "</div>"
      ],
      "text/plain": [
       "           Low Gini Distances  High Gini Distances\n",
       "distancia                                         \n",
       "0.5-2                0.180294             0.210526\n",
       "2-10                 0.461216             0.453947\n",
       "10-50                0.358491             0.335526"
      ]
     },
     "execution_count": 178,
     "metadata": {},
     "output_type": "execute_result"
    }
   ],
   "source": [
    "distance_comparison_gini"
   ]
  },
  {
   "cell_type": "code",
   "execution_count": 179,
   "metadata": {},
   "outputs": [
    {
     "data": {
      "text/html": [
       "<div>\n",
       "<style scoped>\n",
       "    .dataframe tbody tr th:only-of-type {\n",
       "        vertical-align: middle;\n",
       "    }\n",
       "\n",
       "    .dataframe tbody tr th {\n",
       "        vertical-align: top;\n",
       "    }\n",
       "\n",
       "    .dataframe thead th {\n",
       "        text-align: right;\n",
       "    }\n",
       "</style>\n",
       "<table border=\"1\" class=\"dataframe\">\n",
       "  <thead>\n",
       "    <tr style=\"text-align: right;\">\n",
       "      <th></th>\n",
       "      <th>Low Gini Distances</th>\n",
       "      <th>High Gini Distances</th>\n",
       "    </tr>\n",
       "    <tr>\n",
       "      <th>distancia</th>\n",
       "      <th></th>\n",
       "      <th></th>\n",
       "    </tr>\n",
       "  </thead>\n",
       "  <tbody>\n",
       "    <tr>\n",
       "      <th>0.5-2</th>\n",
       "      <td>0.172638</td>\n",
       "      <td>0.176301</td>\n",
       "    </tr>\n",
       "    <tr>\n",
       "      <th>2-10</th>\n",
       "      <td>0.462541</td>\n",
       "      <td>0.459538</td>\n",
       "    </tr>\n",
       "    <tr>\n",
       "      <th>10-50</th>\n",
       "      <td>0.364821</td>\n",
       "      <td>0.364162</td>\n",
       "    </tr>\n",
       "  </tbody>\n",
       "</table>\n",
       "</div>"
      ],
      "text/plain": [
       "           Low Gini Distances  High Gini Distances\n",
       "distancia                                         \n",
       "0.5-2                0.172638             0.176301\n",
       "2-10                 0.462541             0.459538\n",
       "10-50                0.364821             0.364162"
      ]
     },
     "execution_count": 179,
     "metadata": {},
     "output_type": "execute_result"
    }
   ],
   "source": [
    "distance_comparison_gini_work"
   ]
  }
 ],
 "metadata": {
  "kernelspec": {
   "display_name": ".thesis_env",
   "language": "python",
   "name": "python3"
  },
  "language_info": {
   "codemirror_mode": {
    "name": "ipython",
    "version": 3
   },
   "file_extension": ".py",
   "mimetype": "text/x-python",
   "name": "python",
   "nbconvert_exporter": "python",
   "pygments_lexer": "ipython3",
   "version": "3.11.4"
  },
  "orig_nbformat": 4,
  "vscode": {
   "interpreter": {
    "hash": "dc5a137c8466a4ffb6ded1bc1d0edcb068d49351ebe910c5391764b8894bd5ea"
   }
  }
 },
 "nbformat": 4,
 "nbformat_minor": 2
}
