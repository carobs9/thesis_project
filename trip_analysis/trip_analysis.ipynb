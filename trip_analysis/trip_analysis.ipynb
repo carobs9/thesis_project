{
 "cells": [
  {
   "cell_type": "code",
   "execution_count": 62,
   "metadata": {},
   "outputs": [],
   "source": [
    "import networkx as nx\n",
    "import pandas as pd\n",
    "import geopandas as gpd\n",
    "import config as cfg\n",
    "import numpy as np\n",
    "import seaborn as sns\n",
    "import matplotlib.pyplot as plt\n",
    "import matplotlib.ticker as mticker\n",
    "from utils import build_trip_count, build_distance_count, get_district_names, normalize_by_pop, get_income_data, add_quantiles"
   ]
  },
  {
   "cell_type": "code",
   "execution_count": 63,
   "metadata": {},
   "outputs": [],
   "source": [
    "if cfg.type_of_study == 'month':\n",
    "    all_viajes = pd.read_csv(cfg.VIAJES_DATA / 'all_viajes_month_0322.csv', thousands='.',decimal=',')  # Subtracting trips in Madrid districts during March 2022\n",
    "    data_name = 'March 2022'\n",
    "elif cfg.type_of_study == 'week':\n",
    "    all_viajes = pd.read_csv(cfg.VIAJES_DATA / 'viajes_week_0322.csv', thousands='.',decimal=',')  # Subtracting trips in Madrid districts during a 'normal' week\n",
    "    data_name = 'Normal Week'\n",
    "elif cfg.type_of_study == 'two_weeks':\n",
    "    all_viajes = pd.read_csv(cfg.VIAJES_DATA / 'viajes_two_weeks_0322.csv', thousands='.',decimal=',')  # Subtracting trips in Madrid districts during 2 weeks\n",
    "    data_name = 'Two Weeks'\n",
    "else:\n",
    "    raise ValueError('No time of study has been set')"
   ]
  },
  {
   "cell_type": "code",
   "execution_count": 64,
   "metadata": {},
   "outputs": [],
   "source": [
    "income = gpd.read_file('/Users/caro/Desktop/thesis_project/segregation_indices/data/processed/geometries_and_income.geojson') # income data\n",
    "gdf = gpd.read_file(cfg.ZONIFICACION_DATA / 'distritos/madrid_gdf.geojson') # geodataframe\n",
    "gdf = gdf.to_crs(epsg=4326) # setting crs\n",
    "district_mapping = pd.read_csv('/Users/caro/Desktop/thesis_project/data_overview/outputs/districts_and_population.csv')"
   ]
  },
  {
   "cell_type": "code",
   "execution_count": 65,
   "metadata": {},
   "outputs": [
    {
     "data": {
      "text/plain": [
       "(8972891, 15)"
      ]
     },
     "execution_count": 65,
     "metadata": {},
     "output_type": "execute_result"
    }
   ],
   "source": [
    "all_viajes.shape"
   ]
  },
  {
   "cell_type": "code",
   "execution_count": 66,
   "metadata": {},
   "outputs": [
    {
     "data": {
      "text/plain": [
       "actividad_destino\n",
       "frecuente          3284756\n",
       "casa               2230357\n",
       "no_frecuente       2211051\n",
       "trabajo_estudio    1246727\n",
       "Name: count, dtype: int64"
      ]
     },
     "execution_count": 66,
     "metadata": {},
     "output_type": "execute_result"
    }
   ],
   "source": [
    "all_viajes.actividad_destino.value_counts()"
   ]
  },
  {
   "cell_type": "code",
   "execution_count": 67,
   "metadata": {},
   "outputs": [],
   "source": [
    "filtered_df = all_viajes.loc[(all_viajes['actividad_origen'] == 'casa')] # home origin trips"
   ]
  },
  {
   "cell_type": "code",
   "execution_count": 68,
   "metadata": {},
   "outputs": [
    {
     "data": {
      "text/plain": [
       "(2183166, 15)"
      ]
     },
     "execution_count": 68,
     "metadata": {},
     "output_type": "execute_result"
    }
   ],
   "source": [
    "filtered_df.shape"
   ]
  },
  {
   "cell_type": "code",
   "execution_count": 69,
   "metadata": {},
   "outputs": [],
   "source": [
    "home_work = all_viajes[ # home to work trips\n",
    "    ((all_viajes['actividad_origen'] == 'casa') & (all_viajes['actividad_destino'] == 'trabajo_estudio'))\n",
    "]"
   ]
  },
  {
   "cell_type": "code",
   "execution_count": 70,
   "metadata": {},
   "outputs": [
    {
     "data": {
      "text/plain": [
       "(543201, 15)"
      ]
     },
     "execution_count": 70,
     "metadata": {},
     "output_type": "execute_result"
    }
   ],
   "source": [
    "home_work.shape"
   ]
  },
  {
   "attachments": {},
   "cell_type": "markdown",
   "metadata": {},
   "source": [
    "## Filtering trips by median income quantile"
   ]
  },
  {
   "attachments": {},
   "cell_type": "markdown",
   "metadata": {},
   "source": [
    "1. Do low median income quantiles travel more to high median income quantiles for work purposes and overall?\n",
    "2. Do low median income quantiles travel more distance on average than other median income quantiles for work purposes and overall?"
   ]
  },
  {
   "attachments": {},
   "cell_type": "markdown",
   "metadata": {},
   "source": [
    "Question 1, all trips with home origin:"
   ]
  },
  {
   "cell_type": "code",
   "execution_count": 71,
   "metadata": {},
   "outputs": [],
   "source": [
    "# district_counts = filtered_df['origen'].value_counts().reset_index() # OLD\n",
    "# Group by 'origen' and sum 'viajes'\n",
    "district_counts = filtered_df.groupby('origen')['viajes'].sum().reset_index(name='total_viajes') # FIXED\n",
    "district_counts.columns = ['ID', 'Population']"
   ]
  },
  {
   "cell_type": "code",
   "execution_count": 72,
   "metadata": {},
   "outputs": [
    {
     "data": {
      "text/plain": [
       "np.int64(50108037107934)"
      ]
     },
     "execution_count": 72,
     "metadata": {},
     "output_type": "execute_result"
    }
   ],
   "source": [
    "filtered_df[filtered_df['origen'] == 2807901].viajes.sum()"
   ]
  },
  {
   "cell_type": "code",
   "execution_count": 73,
   "metadata": {},
   "outputs": [],
   "source": [
    "trip_counts = build_trip_count(filtered_df)\n",
    "trip_counts = get_district_names(trip_counts)\n",
    "trip_counts = normalize_by_pop(trip_counts, district_counts)\n",
    "#trip_counts.to_csv(f'outputs/{cfg.type_of_study}_normalized_trip_count.csv', index=False) # saving final df"
   ]
  },
  {
   "cell_type": "code",
   "execution_count": 74,
   "metadata": {},
   "outputs": [
    {
     "data": {
      "text/plain": [
       "count    4.410000e+02\n",
       "mean     4.761905e-02\n",
       "std      7.045272e-02\n",
       "min      4.931833e-08\n",
       "25%      5.078976e-07\n",
       "50%      1.024241e-02\n",
       "75%      7.632074e-02\n",
       "max      3.719886e-01\n",
       "Name: normalized_trip_count, dtype: float64"
      ]
     },
     "execution_count": 74,
     "metadata": {},
     "output_type": "execute_result"
    }
   ],
   "source": [
    "trip_counts.normalized_trip_count.describe()"
   ]
  },
  {
   "cell_type": "code",
   "execution_count": 76,
   "metadata": {},
   "outputs": [
    {
     "data": {
      "text/html": [
       "<div>\n",
       "<style scoped>\n",
       "    .dataframe tbody tr th:only-of-type {\n",
       "        vertical-align: middle;\n",
       "    }\n",
       "\n",
       "    .dataframe tbody tr th {\n",
       "        vertical-align: top;\n",
       "    }\n",
       "\n",
       "    .dataframe thead th {\n",
       "        text-align: right;\n",
       "    }\n",
       "</style>\n",
       "<table border=\"1\" class=\"dataframe\">\n",
       "  <thead>\n",
       "    <tr style=\"text-align: right;\">\n",
       "      <th></th>\n",
       "      <th>origen</th>\n",
       "      <th>destino</th>\n",
       "      <th>trip_count</th>\n",
       "      <th>origin</th>\n",
       "      <th>destination</th>\n",
       "      <th>normalized_trip_count</th>\n",
       "    </tr>\n",
       "  </thead>\n",
       "  <tbody>\n",
       "    <tr>\n",
       "      <th>0</th>\n",
       "      <td>2807901</td>\n",
       "      <td>2807901</td>\n",
       "      <td>10316172606936</td>\n",
       "      <td>Centro</td>\n",
       "      <td>Centro</td>\n",
       "      <td>2.058786e-01</td>\n",
       "    </tr>\n",
       "    <tr>\n",
       "      <th>1</th>\n",
       "      <td>2807901</td>\n",
       "      <td>2807902</td>\n",
       "      <td>6860279613538</td>\n",
       "      <td>Centro</td>\n",
       "      <td>Arganzuela</td>\n",
       "      <td>1.369098e-01</td>\n",
       "    </tr>\n",
       "    <tr>\n",
       "      <th>2</th>\n",
       "      <td>2807901</td>\n",
       "      <td>2807903</td>\n",
       "      <td>3126488591411</td>\n",
       "      <td>Centro</td>\n",
       "      <td>Retiro</td>\n",
       "      <td>6.239495e-02</td>\n",
       "    </tr>\n",
       "    <tr>\n",
       "      <th>3</th>\n",
       "      <td>2807901</td>\n",
       "      <td>2807904</td>\n",
       "      <td>2900877251066</td>\n",
       "      <td>Centro</td>\n",
       "      <td>Salamanca</td>\n",
       "      <td>5.789245e-02</td>\n",
       "    </tr>\n",
       "    <tr>\n",
       "      <th>4</th>\n",
       "      <td>2807901</td>\n",
       "      <td>2807905</td>\n",
       "      <td>675658046207</td>\n",
       "      <td>Centro</td>\n",
       "      <td>Chamartín</td>\n",
       "      <td>1.348403e-02</td>\n",
       "    </tr>\n",
       "    <tr>\n",
       "      <th>...</th>\n",
       "      <td>...</td>\n",
       "      <td>...</td>\n",
       "      <td>...</td>\n",
       "      <td>...</td>\n",
       "      <td>...</td>\n",
       "      <td>...</td>\n",
       "    </tr>\n",
       "    <tr>\n",
       "      <th>436</th>\n",
       "      <td>2807921</td>\n",
       "      <td>2807917</td>\n",
       "      <td>1648945</td>\n",
       "      <td>Barajas</td>\n",
       "      <td>Villaverde</td>\n",
       "      <td>6.109355e-08</td>\n",
       "    </tr>\n",
       "    <tr>\n",
       "      <th>437</th>\n",
       "      <td>2807921</td>\n",
       "      <td>2807918</td>\n",
       "      <td>3054189</td>\n",
       "      <td>Barajas</td>\n",
       "      <td>Villa de Vallecas</td>\n",
       "      <td>1.131580e-07</td>\n",
       "    </tr>\n",
       "    <tr>\n",
       "      <th>438</th>\n",
       "      <td>2807921</td>\n",
       "      <td>2807919</td>\n",
       "      <td>124318081171</td>\n",
       "      <td>Barajas</td>\n",
       "      <td>Vicálvaro</td>\n",
       "      <td>4.605996e-03</td>\n",
       "    </tr>\n",
       "    <tr>\n",
       "      <th>439</th>\n",
       "      <td>2807921</td>\n",
       "      <td>2807920</td>\n",
       "      <td>6225760282071</td>\n",
       "      <td>Barajas</td>\n",
       "      <td>San Blas-Canillejas</td>\n",
       "      <td>2.306650e-01</td>\n",
       "    </tr>\n",
       "    <tr>\n",
       "      <th>440</th>\n",
       "      <td>2807921</td>\n",
       "      <td>2807921</td>\n",
       "      <td>10040154557843</td>\n",
       "      <td>Barajas</td>\n",
       "      <td>Barajas</td>\n",
       "      <td>3.719886e-01</td>\n",
       "    </tr>\n",
       "  </tbody>\n",
       "</table>\n",
       "<p>441 rows × 6 columns</p>\n",
       "</div>"
      ],
      "text/plain": [
       "      origen  destino      trip_count   origin          destination  \\\n",
       "0    2807901  2807901  10316172606936   Centro               Centro   \n",
       "1    2807901  2807902   6860279613538   Centro           Arganzuela   \n",
       "2    2807901  2807903   3126488591411   Centro               Retiro   \n",
       "3    2807901  2807904   2900877251066   Centro            Salamanca   \n",
       "4    2807901  2807905    675658046207   Centro            Chamartín   \n",
       "..       ...      ...             ...      ...                  ...   \n",
       "436  2807921  2807917         1648945  Barajas           Villaverde   \n",
       "437  2807921  2807918         3054189  Barajas    Villa de Vallecas   \n",
       "438  2807921  2807919    124318081171  Barajas            Vicálvaro   \n",
       "439  2807921  2807920   6225760282071  Barajas  San Blas-Canillejas   \n",
       "440  2807921  2807921  10040154557843  Barajas              Barajas   \n",
       "\n",
       "     normalized_trip_count  \n",
       "0             2.058786e-01  \n",
       "1             1.369098e-01  \n",
       "2             6.239495e-02  \n",
       "3             5.789245e-02  \n",
       "4             1.348403e-02  \n",
       "..                     ...  \n",
       "436           6.109355e-08  \n",
       "437           1.131580e-07  \n",
       "438           4.605996e-03  \n",
       "439           2.306650e-01  \n",
       "440           3.719886e-01  \n",
       "\n",
       "[441 rows x 6 columns]"
      ]
     },
     "execution_count": 76,
     "metadata": {},
     "output_type": "execute_result"
    }
   ],
   "source": [
    "trip_counts"
   ]
  },
  {
   "cell_type": "code",
   "execution_count": 77,
   "metadata": {},
   "outputs": [],
   "source": [
    "\n",
    "trip_counts = get_income_data(trip_counts, income, 'Gini Index', 'Median income per consumption unit')\n",
    "trip_counts = add_quantiles(trip_counts, 'Median income per consumption unit', n_quantiles=4)\n",
    "trip_counts = add_quantiles(trip_counts, 'Gini Index', n_quantiles=4)"
   ]
  },
  {
   "cell_type": "code",
   "execution_count": 78,
   "metadata": {},
   "outputs": [],
   "source": [
    "low_to_high_median = trip_counts[(trip_counts['income decile origin Median income per consumption unit'].isin([0, 1])) & \n",
    "                                      (trip_counts['income decile destination Median income per consumption unit'].isin([2, 3]))]\n",
    "\n",
    "high_to_low_median = trip_counts[(trip_counts['income decile origin Median income per consumption unit'].isin([2, 3])) & \n",
    "                                      (trip_counts['income decile destination Median income per consumption unit'].isin([0, 1]))]\n",
    "\n",
    "low_to_low_median = trip_counts[(trip_counts['income decile origin Median income per consumption unit'].isin([0, 1])) &\n",
    "                                (trip_counts['income decile destination Median income per consumption unit'].isin([0, 1]))]\n",
    "\n",
    "high_to_high_median = trip_counts[(trip_counts['income decile origin Median income per consumption unit'].isin([2, 3])) & \n",
    "                                trip_counts['income decile destination Median income per consumption unit'].isin([2, 3])]"
   ]
  },
  {
   "cell_type": "code",
   "execution_count": 79,
   "metadata": {},
   "outputs": [
    {
     "data": {
      "text/plain": [
       "np.float64(16.75895583031543)"
      ]
     },
     "execution_count": 79,
     "metadata": {},
     "output_type": "execute_result"
    }
   ],
   "source": [
    "# percentage of trips from low to high districts (median income per consumtion unit)\n",
    "# low_to_high_median['trip_count'].sum() / trip_counts.trip_count.sum() * 100\n",
    "\n",
    "low_to_high_median['normalized_trip_count'].sum() / trip_counts.normalized_trip_count.sum() * 100"
   ]
  },
  {
   "cell_type": "code",
   "execution_count": 80,
   "metadata": {},
   "outputs": [
    {
     "data": {
      "text/plain": [
       "np.float64(14.952612320603656)"
      ]
     },
     "execution_count": 80,
     "metadata": {},
     "output_type": "execute_result"
    }
   ],
   "source": [
    "# percentage of trips from high to low districts (median income per consumtion unit)\n",
    "# high_to_low_median['trip_count'].sum() / trip_counts.trip_count.sum() * 100\n",
    "\n",
    "high_to_low_median['normalized_trip_count'].sum() / trip_counts.normalized_trip_count.sum() * 100"
   ]
  },
  {
   "cell_type": "code",
   "execution_count": 81,
   "metadata": {},
   "outputs": [
    {
     "data": {
      "text/plain": [
       "np.float64(35.62199655063695)"
      ]
     },
     "execution_count": 81,
     "metadata": {},
     "output_type": "execute_result"
    }
   ],
   "source": [
    "# low_to_low_median['trip_count'].sum() / trip_counts.trip_count.sum() * 100 \n",
    "\n",
    "low_to_low_median['normalized_trip_count'].sum() / trip_counts.normalized_trip_count.sum() * 100"
   ]
  },
  {
   "cell_type": "code",
   "execution_count": 82,
   "metadata": {},
   "outputs": [
    {
     "data": {
      "text/plain": [
       "np.float64(32.666435298443965)"
      ]
     },
     "execution_count": 82,
     "metadata": {},
     "output_type": "execute_result"
    }
   ],
   "source": [
    "# high_to_high_median['trip_count'].sum() / trip_counts.trip_count.sum() * 100 \n",
    "\n",
    "high_to_high_median['normalized_trip_count'].sum() / trip_counts.normalized_trip_count.sum() * 100"
   ]
  },
  {
   "attachments": {},
   "cell_type": "markdown",
   "metadata": {},
   "source": [
    "Question 2, all trips with home origin:"
   ]
  },
  {
   "cell_type": "code",
   "execution_count": 83,
   "metadata": {},
   "outputs": [],
   "source": [
    "distance_counts = build_distance_count(filtered_df) # adding 'distancia' to the analysis\n",
    "distance_counts = get_district_names(distance_counts)\n",
    "distance_counts = get_income_data(distance_counts, income, 'Gini Index', 'Median income per consumption unit')\n",
    "distance_counts = add_quantiles(distance_counts, 'Median income per consumption unit', n_quantiles=4)\n",
    "distance_counts = add_quantiles(distance_counts, 'Gini Index', n_quantiles=4)"
   ]
  },
  {
   "cell_type": "code",
   "execution_count": 84,
   "metadata": {},
   "outputs": [
    {
     "data": {
      "text/html": [
       "<div>\n",
       "<style scoped>\n",
       "    .dataframe tbody tr th:only-of-type {\n",
       "        vertical-align: middle;\n",
       "    }\n",
       "\n",
       "    .dataframe tbody tr th {\n",
       "        vertical-align: top;\n",
       "    }\n",
       "\n",
       "    .dataframe thead th {\n",
       "        text-align: right;\n",
       "    }\n",
       "</style>\n",
       "<table border=\"1\" class=\"dataframe\">\n",
       "  <thead>\n",
       "    <tr style=\"text-align: right;\">\n",
       "      <th></th>\n",
       "      <th>viajes_km</th>\n",
       "      <th>viajes</th>\n",
       "      <th>distance_per_trip</th>\n",
       "      <th>origin</th>\n",
       "      <th>destination</th>\n",
       "      <th>Origin Gini Index</th>\n",
       "      <th>Origin Median income per consumption unit</th>\n",
       "      <th>Destination Gini Index</th>\n",
       "      <th>Destination Median income per consumption unit</th>\n",
       "      <th>income decile origin Median income per consumption unit</th>\n",
       "      <th>income decile destination Median income per consumption unit</th>\n",
       "      <th>income decile origin Gini Index</th>\n",
       "      <th>income decile destination Gini Index</th>\n",
       "    </tr>\n",
       "  </thead>\n",
       "  <tbody>\n",
       "    <tr>\n",
       "      <th>0</th>\n",
       "      <td>11235771765264</td>\n",
       "      <td>10316172606936</td>\n",
       "      <td>1.089142</td>\n",
       "      <td>Centro</td>\n",
       "      <td>Centro</td>\n",
       "      <td>39.8</td>\n",
       "      <td>20650</td>\n",
       "      <td>39.8</td>\n",
       "      <td>20650</td>\n",
       "      <td>2</td>\n",
       "      <td>2</td>\n",
       "      <td>3</td>\n",
       "      <td>3</td>\n",
       "    </tr>\n",
       "    <tr>\n",
       "      <th>1</th>\n",
       "      <td>6142671838838</td>\n",
       "      <td>6860279613538</td>\n",
       "      <td>0.895397</td>\n",
       "      <td>Centro</td>\n",
       "      <td>Arganzuela</td>\n",
       "      <td>39.8</td>\n",
       "      <td>20650</td>\n",
       "      <td>31.0</td>\n",
       "      <td>26250</td>\n",
       "      <td>2</td>\n",
       "      <td>2</td>\n",
       "      <td>3</td>\n",
       "      <td>0</td>\n",
       "    </tr>\n",
       "    <tr>\n",
       "      <th>2</th>\n",
       "      <td>3402713578314</td>\n",
       "      <td>3126488591411</td>\n",
       "      <td>1.088350</td>\n",
       "      <td>Centro</td>\n",
       "      <td>Retiro</td>\n",
       "      <td>39.8</td>\n",
       "      <td>20650</td>\n",
       "      <td>33.1</td>\n",
       "      <td>30450</td>\n",
       "      <td>2</td>\n",
       "      <td>3</td>\n",
       "      <td>3</td>\n",
       "      <td>1</td>\n",
       "    </tr>\n",
       "    <tr>\n",
       "      <th>3</th>\n",
       "      <td>3508218752761</td>\n",
       "      <td>2900877251066</td>\n",
       "      <td>1.209365</td>\n",
       "      <td>Centro</td>\n",
       "      <td>Salamanca</td>\n",
       "      <td>39.8</td>\n",
       "      <td>20650</td>\n",
       "      <td>40.2</td>\n",
       "      <td>29750</td>\n",
       "      <td>2</td>\n",
       "      <td>3</td>\n",
       "      <td>3</td>\n",
       "      <td>3</td>\n",
       "    </tr>\n",
       "    <tr>\n",
       "      <th>4</th>\n",
       "      <td>433062592060</td>\n",
       "      <td>675658046207</td>\n",
       "      <td>0.640949</td>\n",
       "      <td>Centro</td>\n",
       "      <td>Chamartín</td>\n",
       "      <td>39.8</td>\n",
       "      <td>20650</td>\n",
       "      <td>40.2</td>\n",
       "      <td>32550</td>\n",
       "      <td>2</td>\n",
       "      <td>3</td>\n",
       "      <td>3</td>\n",
       "      <td>3</td>\n",
       "    </tr>\n",
       "    <tr>\n",
       "      <th>...</th>\n",
       "      <td>...</td>\n",
       "      <td>...</td>\n",
       "      <td>...</td>\n",
       "      <td>...</td>\n",
       "      <td>...</td>\n",
       "      <td>...</td>\n",
       "      <td>...</td>\n",
       "      <td>...</td>\n",
       "      <td>...</td>\n",
       "      <td>...</td>\n",
       "      <td>...</td>\n",
       "      <td>...</td>\n",
       "      <td>...</td>\n",
       "    </tr>\n",
       "    <tr>\n",
       "      <th>436</th>\n",
       "      <td>26296412</td>\n",
       "      <td>1648945</td>\n",
       "      <td>15.947416</td>\n",
       "      <td>Barajas</td>\n",
       "      <td>Villaverde</td>\n",
       "      <td>33.2</td>\n",
       "      <td>25550</td>\n",
       "      <td>31.9</td>\n",
       "      <td>15050</td>\n",
       "      <td>2</td>\n",
       "      <td>0</td>\n",
       "      <td>1</td>\n",
       "      <td>1</td>\n",
       "    </tr>\n",
       "    <tr>\n",
       "      <th>437</th>\n",
       "      <td>34457163</td>\n",
       "      <td>3054189</td>\n",
       "      <td>11.281935</td>\n",
       "      <td>Barajas</td>\n",
       "      <td>Villa de Vallecas</td>\n",
       "      <td>33.2</td>\n",
       "      <td>25550</td>\n",
       "      <td>31.1</td>\n",
       "      <td>18550</td>\n",
       "      <td>2</td>\n",
       "      <td>0</td>\n",
       "      <td>1</td>\n",
       "      <td>0</td>\n",
       "    </tr>\n",
       "    <tr>\n",
       "      <th>438</th>\n",
       "      <td>13242147068</td>\n",
       "      <td>124318081171</td>\n",
       "      <td>0.106518</td>\n",
       "      <td>Barajas</td>\n",
       "      <td>Vicálvaro</td>\n",
       "      <td>33.2</td>\n",
       "      <td>25550</td>\n",
       "      <td>30.4</td>\n",
       "      <td>19250</td>\n",
       "      <td>2</td>\n",
       "      <td>1</td>\n",
       "      <td>1</td>\n",
       "      <td>0</td>\n",
       "    </tr>\n",
       "    <tr>\n",
       "      <th>439</th>\n",
       "      <td>7223243625023</td>\n",
       "      <td>6225760282071</td>\n",
       "      <td>1.160219</td>\n",
       "      <td>Barajas</td>\n",
       "      <td>San Blas-Canillejas</td>\n",
       "      <td>33.2</td>\n",
       "      <td>25550</td>\n",
       "      <td>33.8</td>\n",
       "      <td>19250</td>\n",
       "      <td>2</td>\n",
       "      <td>1</td>\n",
       "      <td>1</td>\n",
       "      <td>2</td>\n",
       "    </tr>\n",
       "    <tr>\n",
       "      <th>440</th>\n",
       "      <td>11136685813300</td>\n",
       "      <td>10040154557843</td>\n",
       "      <td>1.109215</td>\n",
       "      <td>Barajas</td>\n",
       "      <td>Barajas</td>\n",
       "      <td>33.2</td>\n",
       "      <td>25550</td>\n",
       "      <td>33.2</td>\n",
       "      <td>25550</td>\n",
       "      <td>2</td>\n",
       "      <td>2</td>\n",
       "      <td>1</td>\n",
       "      <td>1</td>\n",
       "    </tr>\n",
       "  </tbody>\n",
       "</table>\n",
       "<p>441 rows × 13 columns</p>\n",
       "</div>"
      ],
      "text/plain": [
       "          viajes_km          viajes  distance_per_trip   origin  \\\n",
       "0    11235771765264  10316172606936           1.089142   Centro   \n",
       "1     6142671838838   6860279613538           0.895397   Centro   \n",
       "2     3402713578314   3126488591411           1.088350   Centro   \n",
       "3     3508218752761   2900877251066           1.209365   Centro   \n",
       "4      433062592060    675658046207           0.640949   Centro   \n",
       "..              ...             ...                ...      ...   \n",
       "436        26296412         1648945          15.947416  Barajas   \n",
       "437        34457163         3054189          11.281935  Barajas   \n",
       "438     13242147068    124318081171           0.106518  Barajas   \n",
       "439   7223243625023   6225760282071           1.160219  Barajas   \n",
       "440  11136685813300  10040154557843           1.109215  Barajas   \n",
       "\n",
       "             destination  Origin Gini Index  \\\n",
       "0                 Centro               39.8   \n",
       "1             Arganzuela               39.8   \n",
       "2                 Retiro               39.8   \n",
       "3              Salamanca               39.8   \n",
       "4              Chamartín               39.8   \n",
       "..                   ...                ...   \n",
       "436           Villaverde               33.2   \n",
       "437    Villa de Vallecas               33.2   \n",
       "438            Vicálvaro               33.2   \n",
       "439  San Blas-Canillejas               33.2   \n",
       "440              Barajas               33.2   \n",
       "\n",
       "     Origin Median income per consumption unit  Destination Gini Index  \\\n",
       "0                                        20650                    39.8   \n",
       "1                                        20650                    31.0   \n",
       "2                                        20650                    33.1   \n",
       "3                                        20650                    40.2   \n",
       "4                                        20650                    40.2   \n",
       "..                                         ...                     ...   \n",
       "436                                      25550                    31.9   \n",
       "437                                      25550                    31.1   \n",
       "438                                      25550                    30.4   \n",
       "439                                      25550                    33.8   \n",
       "440                                      25550                    33.2   \n",
       "\n",
       "     Destination Median income per consumption unit  \\\n",
       "0                                             20650   \n",
       "1                                             26250   \n",
       "2                                             30450   \n",
       "3                                             29750   \n",
       "4                                             32550   \n",
       "..                                              ...   \n",
       "436                                           15050   \n",
       "437                                           18550   \n",
       "438                                           19250   \n",
       "439                                           19250   \n",
       "440                                           25550   \n",
       "\n",
       "     income decile origin Median income per consumption unit  \\\n",
       "0                                                    2         \n",
       "1                                                    2         \n",
       "2                                                    2         \n",
       "3                                                    2         \n",
       "4                                                    2         \n",
       "..                                                 ...         \n",
       "436                                                  2         \n",
       "437                                                  2         \n",
       "438                                                  2         \n",
       "439                                                  2         \n",
       "440                                                  2         \n",
       "\n",
       "     income decile destination Median income per consumption unit  \\\n",
       "0                                                    2              \n",
       "1                                                    2              \n",
       "2                                                    3              \n",
       "3                                                    3              \n",
       "4                                                    3              \n",
       "..                                                 ...              \n",
       "436                                                  0              \n",
       "437                                                  0              \n",
       "438                                                  1              \n",
       "439                                                  1              \n",
       "440                                                  2              \n",
       "\n",
       "     income decile origin Gini Index  income decile destination Gini Index  \n",
       "0                                  3                                     3  \n",
       "1                                  3                                     0  \n",
       "2                                  3                                     1  \n",
       "3                                  3                                     3  \n",
       "4                                  3                                     3  \n",
       "..                               ...                                   ...  \n",
       "436                                1                                     1  \n",
       "437                                1                                     0  \n",
       "438                                1                                     0  \n",
       "439                                1                                     2  \n",
       "440                                1                                     1  \n",
       "\n",
       "[441 rows x 13 columns]"
      ]
     },
     "execution_count": 84,
     "metadata": {},
     "output_type": "execute_result"
    }
   ],
   "source": [
    "distance_counts"
   ]
  },
  {
   "cell_type": "code",
   "execution_count": 85,
   "metadata": {},
   "outputs": [
    {
     "name": "stderr",
     "output_type": "stream",
     "text": [
      "/var/folders/5y/mx06x73d0yb7mfb57y7lb2nh0000gn/T/ipykernel_23554/4266632428.py:3: SettingWithCopyWarning: \n",
      "A value is trying to be set on a copy of a slice from a DataFrame.\n",
      "Try using .loc[row_indexer,col_indexer] = value instead\n",
      "\n",
      "See the caveats in the documentation: https://pandas.pydata.org/pandas-docs/stable/user_guide/indexing.html#returning-a-view-versus-a-copy\n",
      "  low_median_income['Income Group'] = 'Low Income'\n",
      "/var/folders/5y/mx06x73d0yb7mfb57y7lb2nh0000gn/T/ipykernel_23554/4266632428.py:4: SettingWithCopyWarning: \n",
      "A value is trying to be set on a copy of a slice from a DataFrame.\n",
      "Try using .loc[row_indexer,col_indexer] = value instead\n",
      "\n",
      "See the caveats in the documentation: https://pandas.pydata.org/pandas-docs/stable/user_guide/indexing.html#returning-a-view-versus-a-copy\n",
      "  high_median_income['Income Group'] = 'High Income'\n"
     ]
    }
   ],
   "source": [
    "low_median_income = distance_counts[distance_counts['income decile origin Median income per consumption unit'].isin([0, 1])]\n",
    "high_median_income = distance_counts[distance_counts['income decile origin Median income per consumption unit'].isin([2, 3])]\n",
    "low_median_income['Income Group'] = 'Low Income'\n",
    "high_median_income['Income Group'] = 'High Income'"
   ]
  },
  {
   "cell_type": "code",
   "execution_count": 86,
   "metadata": {},
   "outputs": [
    {
     "data": {
      "text/plain": [
       "count    231.000000\n",
       "mean       4.304342\n",
       "std        4.812007\n",
       "min        0.013439\n",
       "25%        0.856995\n",
       "50%        1.243873\n",
       "75%        8.105812\n",
       "max       18.992528\n",
       "Name: distance_per_trip, dtype: float64"
      ]
     },
     "execution_count": 86,
     "metadata": {},
     "output_type": "execute_result"
    }
   ],
   "source": [
    "low_median_income['distance_per_trip'].describe()"
   ]
  },
  {
   "cell_type": "code",
   "execution_count": 87,
   "metadata": {},
   "outputs": [
    {
     "data": {
      "text/plain": [
       "count    210.000000\n",
       "mean       4.152753\n",
       "std        6.661259\n",
       "min        0.087471\n",
       "25%        0.830085\n",
       "50%        1.192343\n",
       "75%        7.435832\n",
       "max       75.867512\n",
       "Name: distance_per_trip, dtype: float64"
      ]
     },
     "execution_count": 87,
     "metadata": {},
     "output_type": "execute_result"
    }
   ],
   "source": [
    "high_median_income['distance_per_trip'].describe()"
   ]
  },
  {
   "cell_type": "code",
   "execution_count": 88,
   "metadata": {},
   "outputs": [
    {
     "name": "stderr",
     "output_type": "stream",
     "text": [
      "/var/folders/5y/mx06x73d0yb7mfb57y7lb2nh0000gn/T/ipykernel_23554/2260668475.py:5: FutureWarning: \n",
      "\n",
      "Passing `palette` without assigning `hue` is deprecated and will be removed in v0.14.0. Assign the `x` variable to `hue` and set `legend=False` for the same effect.\n",
      "\n",
      "  sns.boxplot(x='Income Group', y='distance_per_trip', data=combined_df, palette='Set2')\n"
     ]
    },
    {
     "data": {
      "image/png": "[encoded data removed]",
      "text/plain": [
       "<Figure size 1200x600 with 1 Axes>"
      ]
     },
     "metadata": {},
     "output_type": "display_data"
    }
   ],
   "source": [
    "combined_df = pd.concat([low_median_income, high_median_income])\n",
    "\n",
    "# Plot the distribution of distance_per_trip\n",
    "plt.figure(figsize=(12, 6))\n",
    "sns.boxplot(x='Income Group', y='distance_per_trip', data=combined_df, palette='Set2')\n",
    "\n",
    "plt.title('Comparison of Distance Per Trip by Income Group')\n",
    "plt.xlabel('Income Group')\n",
    "plt.ylabel('Distance Per Trip')\n",
    "plt.tight_layout()\n",
    "\n",
    "# Save and show the plot\n",
    "plt.savefig(cfg.FIGURES_PATH / 'distance_per_trip_median.png', dpi=300)\n",
    "plt.show()"
   ]
  },
  {
   "cell_type": "code",
   "execution_count": 89,
   "metadata": {},
   "outputs": [
    {
     "data": {
      "image/png": "[encoded data removed]",
      "text/plain": [
       "<Figure size 1200x600 with 1 Axes>"
      ]
     },
     "metadata": {},
     "output_type": "display_data"
    }
   ],
   "source": [
    "plt.figure(figsize=(12, 6))\n",
    "sns.kdeplot(low_median_income['distance_per_trip'], label='Low Income', fill=True, color='blue', alpha=0.5)\n",
    "sns.kdeplot(high_median_income['distance_per_trip'], label='High Income', fill=True, color='red', alpha=0.5)\n",
    "\n",
    "plt.title('Density Plot of Distance Per Trip by Income Group')\n",
    "plt.xlabel('Distance Per Trip (km)')\n",
    "plt.ylabel('Density')\n",
    "plt.legend()\n",
    "plt.savefig(cfg.FIGURES_PATH / 'distance_per_trip_median_density_plot.png', dpi=300)\n",
    "plt.tight_layout()\n",
    "plt.show()"
   ]
  },
  {
   "attachments": {},
   "cell_type": "markdown",
   "metadata": {},
   "source": [
    "## Filtering trips by Gini Index quantile"
   ]
  },
  {
   "attachments": {},
   "cell_type": "markdown",
   "metadata": {},
   "source": [
    "Question 1, all trips with home origin, Gini Index:"
   ]
  },
  {
   "cell_type": "code",
   "execution_count": 47,
   "metadata": {},
   "outputs": [],
   "source": [
    "trip_counts = build_trip_count(filtered_df)\n",
    "trip_counts = get_district_names(trip_counts)\n",
    "trip_counts = normalize_by_pop(trip_counts, district_counts)\n",
    "trip_counts = get_income_data(trip_counts, income, 'Gini Index', 'Median income per consumption unit')\n",
    "trip_counts = add_quantiles(trip_counts, 'Median income per consumption unit', n_quantiles=4)\n",
    "trip_counts = add_quantiles(trip_counts, 'Gini Index', n_quantiles=4)"
   ]
  },
  {
   "cell_type": "code",
   "execution_count": 48,
   "metadata": {},
   "outputs": [],
   "source": [
    "low_to_high_gini = trip_counts[(trip_counts['income decile origin Gini Index'].isin([0, 1])) & \n",
    "                                      (trip_counts['income decile destination Gini Index'].isin([2, 3]))]\n",
    "\n",
    "high_to_low_gini = trip_counts[(trip_counts['income decile origin Gini Index'].isin([2, 3])) & \n",
    "                                      (trip_counts['income decile destination Gini Index'].isin([0, 1]))]\n",
    "\n",
    "low_to_low_gini = trip_counts[(trip_counts['income decile origin Gini Index'].isin([0, 1])) &\n",
    "                              (trip_counts['income decile destination Gini Index'].isin([0, 1]))]\n",
    "\n",
    "\n",
    "high_to_high_gini = trip_counts[(trip_counts['income decile origin Gini Index'].isin([2, 3])) & \n",
    "                                (trip_counts['income decile destination Gini Index'].isin([2, 3]))]"
   ]
  },
  {
   "cell_type": "code",
   "execution_count": 49,
   "metadata": {},
   "outputs": [
    {
     "data": {
      "text/plain": [
       "np.float64(12.747854534526294)"
      ]
     },
     "execution_count": 49,
     "metadata": {},
     "output_type": "execute_result"
    }
   ],
   "source": [
    "# percentage of trips from low to high districts (gini index)\n",
    "# low_to_high_gini['trip_count'].sum() / trip_counts.trip_count.sum() * 100 \n",
    "\n",
    "low_to_high_gini['normalized_trip_count'].sum() / trip_counts.normalized_trip_count.sum() * 100 "
   ]
  },
  {
   "cell_type": "code",
   "execution_count": 50,
   "metadata": {},
   "outputs": [
    {
     "data": {
      "text/plain": [
       "np.float64(9.15791378215418)"
      ]
     },
     "execution_count": 50,
     "metadata": {},
     "output_type": "execute_result"
    }
   ],
   "source": [
    "# percentage of trips from high to low districts (gini index)\n",
    "# high_to_low_gini['trip_count'].sum() / trip_counts.trip_count.sum() * 100 \n",
    "\n",
    "high_to_low_gini['normalized_trip_count'].sum() / trip_counts.normalized_trip_count.sum() * 100 "
   ]
  },
  {
   "cell_type": "code",
   "execution_count": 51,
   "metadata": {},
   "outputs": [
    {
     "data": {
      "text/plain": [
       "np.float64(39.63309784642608)"
      ]
     },
     "execution_count": 51,
     "metadata": {},
     "output_type": "execute_result"
    }
   ],
   "source": [
    "# low_to_low_gini['trip_count'].sum() / trip_counts.trip_count.sum() * 100 \n",
    "\n",
    "low_to_low_gini['normalized_trip_count'].sum() / trip_counts.normalized_trip_count.sum() * 100 "
   ]
  },
  {
   "cell_type": "code",
   "execution_count": 52,
   "metadata": {},
   "outputs": [
    {
     "data": {
      "text/plain": [
       "np.float64(38.46113383689344)"
      ]
     },
     "execution_count": 52,
     "metadata": {},
     "output_type": "execute_result"
    }
   ],
   "source": [
    "# high_to_high_gini['trip_count'].sum() / trip_counts.trip_count.sum() * 100 \n",
    "\n",
    "high_to_high_gini['normalized_trip_count'].sum() / trip_counts.normalized_trip_count.sum() * 100 "
   ]
  },
  {
   "attachments": {},
   "cell_type": "markdown",
   "metadata": {},
   "source": [
    "Question 2, all trips with home origin, Gini Index:"
   ]
  },
  {
   "cell_type": "code",
   "execution_count": 94,
   "metadata": {},
   "outputs": [],
   "source": [
    "distance_counts = build_distance_count(filtered_df)\n",
    "distance_counts = get_district_names(distance_counts)\n",
    "distance_counts = get_income_data(distance_counts, income, 'Gini Index', 'Median income per consumption unit')\n",
    "distance_counts = add_quantiles(distance_counts, 'Median income per consumption unit', n_quantiles=4)\n",
    "distance_counts = add_quantiles(distance_counts, 'Gini Index', n_quantiles=4)"
   ]
  },
  {
   "cell_type": "code",
   "execution_count": 95,
   "metadata": {},
   "outputs": [
    {
     "name": "stderr",
     "output_type": "stream",
     "text": [
      "/var/folders/5y/mx06x73d0yb7mfb57y7lb2nh0000gn/T/ipykernel_23554/2578560989.py:3: SettingWithCopyWarning: \n",
      "A value is trying to be set on a copy of a slice from a DataFrame.\n",
      "Try using .loc[row_indexer,col_indexer] = value instead\n",
      "\n",
      "See the caveats in the documentation: https://pandas.pydata.org/pandas-docs/stable/user_guide/indexing.html#returning-a-view-versus-a-copy\n",
      "  low_gini['Income Group'] = 'Low Gini'\n",
      "/var/folders/5y/mx06x73d0yb7mfb57y7lb2nh0000gn/T/ipykernel_23554/2578560989.py:4: SettingWithCopyWarning: \n",
      "A value is trying to be set on a copy of a slice from a DataFrame.\n",
      "Try using .loc[row_indexer,col_indexer] = value instead\n",
      "\n",
      "See the caveats in the documentation: https://pandas.pydata.org/pandas-docs/stable/user_guide/indexing.html#returning-a-view-versus-a-copy\n",
      "  high_gini['Income Group'] = 'High Gini'\n"
     ]
    }
   ],
   "source": [
    "low_gini = distance_counts[distance_counts['income decile origin Gini Index'].isin([0, 1])]\n",
    "high_gini = distance_counts[distance_counts['income decile origin Gini Index'].isin([2, 3])]\n",
    "low_gini['Income Group'] = 'Low Gini'\n",
    "high_gini['Income Group'] = 'High Gini'"
   ]
  },
  {
   "cell_type": "code",
   "execution_count": 96,
   "metadata": {},
   "outputs": [
    {
     "data": {
      "text/plain": [
       "count    231.000000\n",
       "mean       4.625018\n",
       "std        5.001708\n",
       "min        0.013439\n",
       "25%        0.856995\n",
       "50%        1.354306\n",
       "75%        8.791139\n",
       "max       18.992528\n",
       "Name: distance_per_trip, dtype: float64"
      ]
     },
     "execution_count": 96,
     "metadata": {},
     "output_type": "execute_result"
    }
   ],
   "source": [
    "low_gini['distance_per_trip'].describe()"
   ]
  },
  {
   "cell_type": "code",
   "execution_count": 97,
   "metadata": {},
   "outputs": [
    {
     "data": {
      "text/plain": [
       "count    210.000000\n",
       "mean       3.800010\n",
       "std        6.479005\n",
       "min        0.087471\n",
       "25%        0.832200\n",
       "50%        1.146010\n",
       "75%        6.177946\n",
       "max       75.867512\n",
       "Name: distance_per_trip, dtype: float64"
      ]
     },
     "execution_count": 97,
     "metadata": {},
     "output_type": "execute_result"
    }
   ],
   "source": [
    "high_gini['distance_per_trip'].describe()"
   ]
  },
  {
   "cell_type": "code",
   "execution_count": 98,
   "metadata": {},
   "outputs": [
    {
     "name": "stderr",
     "output_type": "stream",
     "text": [
      "/var/folders/5y/mx06x73d0yb7mfb57y7lb2nh0000gn/T/ipykernel_23554/3451676951.py:5: FutureWarning: \n",
      "\n",
      "Passing `palette` without assigning `hue` is deprecated and will be removed in v0.14.0. Assign the `x` variable to `hue` and set `legend=False` for the same effect.\n",
      "\n",
      "  sns.boxplot(x='Income Group', y='distance_per_trip', data=combined_df, palette='Set2')\n"
     ]
    },
    {
     "data": {
      "image/png": "[encoded data removed]",
      "text/plain": [
       "<Figure size 1200x600 with 1 Axes>"
      ]
     },
     "metadata": {},
     "output_type": "display_data"
    }
   ],
   "source": [
    "combined_df = pd.concat([low_gini, high_gini])\n",
    "\n",
    "# Plot the distribution of distance_per_trip\n",
    "plt.figure(figsize=(12, 6))\n",
    "sns.boxplot(x='Income Group', y='distance_per_trip', data=combined_df, palette='Set2')\n",
    "\n",
    "plt.title('Comparison of Distance Per Trip by Gini Group')\n",
    "plt.xlabel('Gini Group')\n",
    "plt.ylabel('Distance Per Trip')\n",
    "plt.tight_layout()\n",
    "\n",
    "# Save and show the plot\n",
    "plt.savefig(cfg.FIGURES_PATH / 'distance_per_trip_gini.png', dpi=300)\n",
    "plt.show()"
   ]
  },
  {
   "cell_type": "code",
   "execution_count": 99,
   "metadata": {},
   "outputs": [
    {
     "data": {
      "image/png": "[encoded data removed]",
      "text/plain": [
       "<Figure size 1200x600 with 1 Axes>"
      ]
     },
     "metadata": {},
     "output_type": "display_data"
    }
   ],
   "source": [
    "plt.figure(figsize=(12, 6))\n",
    "sns.kdeplot(low_gini['distance_per_trip'], label='Low Gini', fill=True, color='blue', alpha=0.5)\n",
    "sns.kdeplot(high_gini['distance_per_trip'], label='High Gini', fill=True, color='red', alpha=0.5)\n",
    "\n",
    "plt.title('Density Plot of Distance Per Trip by Gini Group')\n",
    "plt.xlabel('Distance Per Trip (km)')\n",
    "plt.ylabel('Density')\n",
    "plt.legend()\n",
    "plt.tight_layout()\n",
    "plt.savefig(cfg.FIGURES_PATH / 'distance_per_trip_gini_density.png', dpi=300)\n",
    "plt.show()"
   ]
  },
  {
   "attachments": {},
   "cell_type": "markdown",
   "metadata": {},
   "source": [
    "## Further Analysis"
   ]
  },
  {
   "attachments": {},
   "cell_type": "markdown",
   "metadata": {},
   "source": [
    "Compare two distributions: https://stats.stackexchange.com/questions/354035/how-to-compare-the-data-distribution-of-2-datasets\n",
    "https://samharrison.science/posts/how-to-compare-two-distributions/"
   ]
  },
  {
   "cell_type": "code",
   "execution_count": 106,
   "metadata": {},
   "outputs": [
    {
     "name": "stderr",
     "output_type": "stream",
     "text": [
      "/var/folders/5y/mx06x73d0yb7mfb57y7lb2nh0000gn/T/ipykernel_23554/2518939952.py:3: UserWarning: p-value capped: true value larger than 0.25. Consider specifying `method` (e.g. `method=stats.PermutationMethod()`.)\n",
      "  ks_a_b_median = anderson_ksamp([low_median_income['distance_per_trip'], high_median_income['distance_per_trip']])\n",
      "/var/folders/5y/mx06x73d0yb7mfb57y7lb2nh0000gn/T/ipykernel_23554/2518939952.py:4: UserWarning: p-value capped: true value larger than 0.25. Consider specifying `method` (e.g. `method=stats.PermutationMethod()`.)\n",
      "  ks_b_a_median = anderson_ksamp([high_median_income['distance_per_trip'], low_median_income['distance_per_trip']])\n"
     ]
    }
   ],
   "source": [
    "from scipy.stats import ks_2samp, anderson_ksamp\n",
    "\n",
    "ks_a_b_median = anderson_ksamp([low_median_income['distance_per_trip'], high_median_income['distance_per_trip']])\n",
    "ks_b_a_median = anderson_ksamp([high_median_income['distance_per_trip'], low_median_income['distance_per_trip']])\n",
    "\n",
    "ks_a_b_gini = anderson_ksamp([low_gini['distance_per_trip'], high_gini['distance_per_trip']])\n",
    "ks_b_a_gini = anderson_ksamp([high_gini['distance_per_trip'], low_gini['distance_per_trip']])"
   ]
  },
  {
   "cell_type": "code",
   "execution_count": 107,
   "metadata": {},
   "outputs": [
    {
     "data": {
      "image/png": "[encoded data removed]",
      "text/plain": [
       "<Figure size 640x480 with 1 Axes>"
      ]
     },
     "metadata": {},
     "output_type": "display_data"
    }
   ],
   "source": [
    "plt.bar(['K-S A to B', 'K-S A to C'],\n",
    "        [ks_a_b_median.statistic, ks_b_a_median.statistic])\n",
    "plt.show()"
   ]
  },
  {
   "cell_type": "code",
   "execution_count": 108,
   "metadata": {},
   "outputs": [
    {
     "data": {
      "image/png": "[encoded data removed]",
      "text/plain": [
       "<Figure size 640x480 with 1 Axes>"
      ]
     },
     "metadata": {},
     "output_type": "display_data"
    }
   ],
   "source": [
    "plt.bar(['K-S A to B', 'K-S A to C'],\n",
    "        [ks_a_b_gini.statistic, ks_b_a_gini.statistic])\n",
    "plt.show()"
   ]
  },
  {
   "cell_type": "code",
   "execution_count": null,
   "metadata": {},
   "outputs": [],
   "source": []
  }
 ],
 "metadata": {
  "kernelspec": {
   "display_name": ".thesis_env",
   "language": "python",
   "name": "python3"
  },
  "language_info": {
   "codemirror_mode": {
    "name": "ipython",
    "version": 3
   },
   "file_extension": ".py",
   "mimetype": "text/x-python",
   "name": "python",
   "nbconvert_exporter": "python",
   "pygments_lexer": "ipython3",
   "version": "3.11.4"
  },
  "orig_nbformat": 4,
  "vscode": {
   "interpreter": {
    "hash": "dc5a137c8466a4ffb6ded1bc1d0edcb068d49351ebe910c5391764b8894bd5ea"
   }
  }
 },
 "nbformat": 4,
 "nbformat_minor": 2
}
