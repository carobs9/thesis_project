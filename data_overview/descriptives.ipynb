{
 "cells": [
  {
   "cell_type": "code",
   "execution_count": 2,
   "metadata": {},
   "outputs": [],
   "source": [
    "import config as cfg\n",
    "import geopandas as gpd\n",
    "import pandas as pd"
   ]
  },
  {
   "cell_type": "code",
   "execution_count": 46,
   "metadata": {},
   "outputs": [],
   "source": [
    "merged = gpd.read_file(cfg.INCOME_DATA / 'geometries_and_income.geojson') \n",
    "distritos = pd.read_csv(cfg.ZONIFICACION_DATA / 'distritos/PROCESSED_nombres_distritos.csv')\n",
    "all_viajes = pd.read_csv(cfg.VIAJES_DATA / 'all_viajes_month_0322.csv')\n",
    "filtered_viajes = all_viajes.loc[(all_viajes['actividad_origen'] == 'casa')]\n",
    "population = pd.read_csv(cfg.ZONIFICACION_DATA / 'distritos/poblacion_distritos.csv', sep='|', header=None)"
   ]
  },
  {
   "attachments": {},
   "cell_type": "markdown",
   "metadata": {},
   "source": [
    "## Distritos"
   ]
  },
  {
   "cell_type": "code",
   "execution_count": 47,
   "metadata": {},
   "outputs": [],
   "source": [
    "population.columns = ['ID', 'Population']"
   ]
  },
  {
   "cell_type": "code",
   "execution_count": 48,
   "metadata": {},
   "outputs": [],
   "source": [
    "distritos['ID'] = distritos['ID'].astype(str)\n",
    "population['ID'] = population['ID'].astype(str)\n",
    "\n",
    "# Performing the merge again\n",
    "distritos_and_pop = pd.merge(distritos, population, how='left', on='ID')"
   ]
  },
  {
   "cell_type": "code",
   "execution_count": 49,
   "metadata": {},
   "outputs": [
    {
     "data": {
      "text/html": [
       "<div>\n",
       "<style scoped>\n",
       "    .dataframe tbody tr th:only-of-type {\n",
       "        vertical-align: middle;\n",
       "    }\n",
       "\n",
       "    .dataframe tbody tr th {\n",
       "        vertical-align: top;\n",
       "    }\n",
       "\n",
       "    .dataframe thead th {\n",
       "        text-align: right;\n",
       "    }\n",
       "</style>\n",
       "<table border=\"1\" class=\"dataframe\">\n",
       "  <thead>\n",
       "    <tr style=\"text-align: right;\">\n",
       "      <th></th>\n",
       "      <th>ID</th>\n",
       "      <th>name</th>\n",
       "      <th>name_2</th>\n",
       "      <th>Population</th>\n",
       "    </tr>\n",
       "  </thead>\n",
       "  <tbody>\n",
       "    <tr>\n",
       "      <th>0</th>\n",
       "      <td>2807901</td>\n",
       "      <td>Madrid distrito 01</td>\n",
       "      <td>Centro</td>\n",
       "      <td>140644.0</td>\n",
       "    </tr>\n",
       "    <tr>\n",
       "      <th>1</th>\n",
       "      <td>2807902</td>\n",
       "      <td>Madrid distrito 02</td>\n",
       "      <td>Arganzuela</td>\n",
       "      <td>153982.0</td>\n",
       "    </tr>\n",
       "    <tr>\n",
       "      <th>2</th>\n",
       "      <td>2807903</td>\n",
       "      <td>Madrid distrito 03</td>\n",
       "      <td>Retiro</td>\n",
       "      <td>118335.0</td>\n",
       "    </tr>\n",
       "    <tr>\n",
       "      <th>3</th>\n",
       "      <td>2807904</td>\n",
       "      <td>Madrid distrito 04</td>\n",
       "      <td>Salamanca</td>\n",
       "      <td>145579.0</td>\n",
       "    </tr>\n",
       "    <tr>\n",
       "      <th>4</th>\n",
       "      <td>2807905</td>\n",
       "      <td>Madrid distrito 05</td>\n",
       "      <td>Chamartín</td>\n",
       "      <td>145444.0</td>\n",
       "    </tr>\n",
       "    <tr>\n",
       "      <th>5</th>\n",
       "      <td>2807906</td>\n",
       "      <td>Madrid distrito 06</td>\n",
       "      <td>Tetuán</td>\n",
       "      <td>159564.0</td>\n",
       "    </tr>\n",
       "    <tr>\n",
       "      <th>6</th>\n",
       "      <td>2807907</td>\n",
       "      <td>Madrid distrito 07</td>\n",
       "      <td>Chamberí</td>\n",
       "      <td>138335.0</td>\n",
       "    </tr>\n",
       "    <tr>\n",
       "      <th>7</th>\n",
       "      <td>2807908</td>\n",
       "      <td>Madrid distrito 08</td>\n",
       "      <td>Fuencarral-El Pardo</td>\n",
       "      <td>247327.0</td>\n",
       "    </tr>\n",
       "    <tr>\n",
       "      <th>8</th>\n",
       "      <td>2807909</td>\n",
       "      <td>Madrid distrito 09</td>\n",
       "      <td>Moncloa-Aravaca</td>\n",
       "      <td>120589.0</td>\n",
       "    </tr>\n",
       "    <tr>\n",
       "      <th>9</th>\n",
       "      <td>2807910</td>\n",
       "      <td>Madrid distrito 10</td>\n",
       "      <td>Latina</td>\n",
       "      <td>239693.0</td>\n",
       "    </tr>\n",
       "    <tr>\n",
       "      <th>10</th>\n",
       "      <td>2807911</td>\n",
       "      <td>Madrid distrito 11</td>\n",
       "      <td>Carabanchel</td>\n",
       "      <td>258064.0</td>\n",
       "    </tr>\n",
       "    <tr>\n",
       "      <th>11</th>\n",
       "      <td>2807912</td>\n",
       "      <td>Madrid distrito 12</td>\n",
       "      <td>Usera</td>\n",
       "      <td>142324.0</td>\n",
       "    </tr>\n",
       "    <tr>\n",
       "      <th>12</th>\n",
       "      <td>2807913</td>\n",
       "      <td>Madrid distrito 13</td>\n",
       "      <td>Puente de Vallecas</td>\n",
       "      <td>238577.0</td>\n",
       "    </tr>\n",
       "    <tr>\n",
       "      <th>13</th>\n",
       "      <td>2807914</td>\n",
       "      <td>Madrid distrito 14</td>\n",
       "      <td>Moratalaz</td>\n",
       "      <td>93671.0</td>\n",
       "    </tr>\n",
       "    <tr>\n",
       "      <th>14</th>\n",
       "      <td>2807915</td>\n",
       "      <td>Madrid distrito 15</td>\n",
       "      <td>Ciudad Lineal</td>\n",
       "      <td>216400.0</td>\n",
       "    </tr>\n",
       "    <tr>\n",
       "      <th>15</th>\n",
       "      <td>2807916</td>\n",
       "      <td>Madrid distrito 16</td>\n",
       "      <td>Hortaleza</td>\n",
       "      <td>192809.0</td>\n",
       "    </tr>\n",
       "    <tr>\n",
       "      <th>16</th>\n",
       "      <td>2807917</td>\n",
       "      <td>Madrid distrito 17</td>\n",
       "      <td>Villaverde</td>\n",
       "      <td>154464.0</td>\n",
       "    </tr>\n",
       "    <tr>\n",
       "      <th>17</th>\n",
       "      <td>2807918</td>\n",
       "      <td>Madrid distrito 18</td>\n",
       "      <td>Villa de Vallecas</td>\n",
       "      <td>114469.0</td>\n",
       "    </tr>\n",
       "    <tr>\n",
       "      <th>18</th>\n",
       "      <td>2807919</td>\n",
       "      <td>Madrid distrito 19</td>\n",
       "      <td>Vicálvaro</td>\n",
       "      <td>75283.0</td>\n",
       "    </tr>\n",
       "    <tr>\n",
       "      <th>19</th>\n",
       "      <td>2807920</td>\n",
       "      <td>Madrid distrito 20</td>\n",
       "      <td>San Blas-Canillejas</td>\n",
       "      <td>159900.0</td>\n",
       "    </tr>\n",
       "    <tr>\n",
       "      <th>20</th>\n",
       "      <td>2807921</td>\n",
       "      <td>Madrid distrito 21</td>\n",
       "      <td>Barajas</td>\n",
       "      <td>49955.0</td>\n",
       "    </tr>\n",
       "  </tbody>\n",
       "</table>\n",
       "</div>"
      ],
      "text/plain": [
       "         ID                name               name_2  Population\n",
       "0   2807901  Madrid distrito 01               Centro    140644.0\n",
       "1   2807902  Madrid distrito 02           Arganzuela    153982.0\n",
       "2   2807903  Madrid distrito 03               Retiro    118335.0\n",
       "3   2807904  Madrid distrito 04            Salamanca    145579.0\n",
       "4   2807905  Madrid distrito 05            Chamartín    145444.0\n",
       "5   2807906  Madrid distrito 06               Tetuán    159564.0\n",
       "6   2807907  Madrid distrito 07             Chamberí    138335.0\n",
       "7   2807908  Madrid distrito 08  Fuencarral-El Pardo    247327.0\n",
       "8   2807909  Madrid distrito 09      Moncloa-Aravaca    120589.0\n",
       "9   2807910  Madrid distrito 10               Latina    239693.0\n",
       "10  2807911  Madrid distrito 11          Carabanchel    258064.0\n",
       "11  2807912  Madrid distrito 12                Usera    142324.0\n",
       "12  2807913  Madrid distrito 13   Puente de Vallecas    238577.0\n",
       "13  2807914  Madrid distrito 14            Moratalaz     93671.0\n",
       "14  2807915  Madrid distrito 15        Ciudad Lineal    216400.0\n",
       "15  2807916  Madrid distrito 16            Hortaleza    192809.0\n",
       "16  2807917  Madrid distrito 17           Villaverde    154464.0\n",
       "17  2807918  Madrid distrito 18    Villa de Vallecas    114469.0\n",
       "18  2807919  Madrid distrito 19            Vicálvaro     75283.0\n",
       "19  2807920  Madrid distrito 20  San Blas-Canillejas    159900.0\n",
       "20  2807921  Madrid distrito 21              Barajas     49955.0"
      ]
     },
     "execution_count": 49,
     "metadata": {},
     "output_type": "execute_result"
    }
   ],
   "source": [
    "distritos_and_pop"
   ]
  },
  {
   "attachments": {},
   "cell_type": "markdown",
   "metadata": {},
   "source": [
    "## Income data"
   ]
  },
  {
   "cell_type": "code",
   "execution_count": 50,
   "metadata": {},
   "outputs": [],
   "source": [
    "income_stats = merged.describe()\n",
    "income_stats.drop(columns=['ID'], inplace=True)\n",
    "income_stats = income_stats.round(3)\n",
    "income_stats.to_csv('income_stats.csv', index=True)"
   ]
  },
  {
   "attachments": {},
   "cell_type": "markdown",
   "metadata": {},
   "source": [
    "## Trips"
   ]
  },
  {
   "cell_type": "code",
   "execution_count": 51,
   "metadata": {},
   "outputs": [
    {
     "data": {
      "text/plain": [
       "(19900955, 15)"
      ]
     },
     "execution_count": 51,
     "metadata": {},
     "output_type": "execute_result"
    }
   ],
   "source": [
    "all_viajes.shape"
   ]
  },
  {
   "cell_type": "code",
   "execution_count": 52,
   "metadata": {},
   "outputs": [
    {
     "data": {
      "text/plain": [
       "(4839108, 15)"
      ]
     },
     "execution_count": 52,
     "metadata": {},
     "output_type": "execute_result"
    }
   ],
   "source": [
    "filtered_viajes.shape"
   ]
  },
  {
   "cell_type": "code",
   "execution_count": 12,
   "metadata": {},
   "outputs": [
    {
     "data": {
      "text/plain": [
       "origen\n",
       "2807901    1420874\n",
       "2807904    1169012\n",
       "2807907    1155661\n",
       "2807908    1126158\n",
       "2807905    1120190\n",
       "2807909    1071974\n",
       "2807915    1069347\n",
       "2807913    1013523\n",
       "2807916    1000613\n",
       "2807920     974444\n",
       "2807903     951803\n",
       "2807911     946791\n",
       "2807902     944455\n",
       "2807906     925146\n",
       "2807910     821339\n",
       "2807912     769539\n",
       "2807918     747868\n",
       "2807921     693479\n",
       "2807917     670577\n",
       "2807914     660732\n",
       "2807919     647430\n",
       "Name: count, dtype: int64"
      ]
     },
     "execution_count": 12,
     "metadata": {},
     "output_type": "execute_result"
    }
   ],
   "source": [
    "all_viajes['origen'].value_counts()"
   ]
  },
  {
   "cell_type": "code",
   "execution_count": 13,
   "metadata": {},
   "outputs": [
    {
     "data": {
      "text/plain": [
       "destino\n",
       "2807901    1435112\n",
       "2807904    1149389\n",
       "2807907    1143168\n",
       "2807908    1110279\n",
       "2807905    1108916\n",
       "2807915    1067931\n",
       "2807909    1055101\n",
       "2807913    1019993\n",
       "2807916     992218\n",
       "2807920     971356\n",
       "2807902     966529\n",
       "2807911     959021\n",
       "2807903     949905\n",
       "2807906     922644\n",
       "2807910     830567\n",
       "2807912     774293\n",
       "2807918     752330\n",
       "2807921     700436\n",
       "2807917     676764\n",
       "2807914     666447\n",
       "2807919     648556\n",
       "Name: count, dtype: int64"
      ]
     },
     "execution_count": 13,
     "metadata": {},
     "output_type": "execute_result"
    }
   ],
   "source": [
    "all_viajes['destino'].value_counts()"
   ]
  },
  {
   "cell_type": "code",
   "execution_count": 15,
   "metadata": {},
   "outputs": [
    {
     "data": {
      "text/plain": [
       "origen\n",
       "2807913    327165\n",
       "2807915    291898\n",
       "2807911    279312\n",
       "2807910    272315\n",
       "2807920    265549\n",
       "2807908    251018\n",
       "2807916    231163\n",
       "2807912    230787\n",
       "2807902    230714\n",
       "2807918    230571\n",
       "2807901    229064\n",
       "2807909    222036\n",
       "2807917    218299\n",
       "2807906    212322\n",
       "2807914    211830\n",
       "2807905    205081\n",
       "2807903    202659\n",
       "2807919    200911\n",
       "2807904    200808\n",
       "2807907    194238\n",
       "2807921    131368\n",
       "Name: count, dtype: int64"
      ]
     },
     "execution_count": 15,
     "metadata": {},
     "output_type": "execute_result"
    }
   ],
   "source": [
    "filtered_viajes['origen'].value_counts()"
   ]
  },
  {
   "cell_type": "code",
   "execution_count": 16,
   "metadata": {},
   "outputs": [
    {
     "data": {
      "text/plain": [
       "destino\n",
       "2807901    314497\n",
       "2807904    294641\n",
       "2807907    286760\n",
       "2807905    282802\n",
       "2807908    279935\n",
       "2807909    271858\n",
       "2807915    257026\n",
       "2807903    241772\n",
       "2807916    240942\n",
       "2807920    232022\n",
       "2807913    231677\n",
       "2807902    231099\n",
       "2807906    228846\n",
       "2807911    209789\n",
       "2807912    190129\n",
       "2807918    186369\n",
       "2807910    180527\n",
       "2807921    178309\n",
       "2807919    173072\n",
       "2807914    169536\n",
       "2807917    157500\n",
       "Name: count, dtype: int64"
      ]
     },
     "execution_count": 16,
     "metadata": {},
     "output_type": "execute_result"
    }
   ],
   "source": [
    "filtered_viajes['destino'].value_counts()"
   ]
  },
  {
   "cell_type": "code",
   "execution_count": 22,
   "metadata": {},
   "outputs": [
    {
     "data": {
      "text/plain": [
       "renta\n",
       ">15      2814199\n",
       "10-15    2024909\n",
       "Name: count, dtype: int64"
      ]
     },
     "execution_count": 22,
     "metadata": {},
     "output_type": "execute_result"
    }
   ],
   "source": [
    "filtered_viajes['renta'].value_counts()"
   ]
  },
  {
   "cell_type": "code",
   "execution_count": 18,
   "metadata": {},
   "outputs": [
    {
     "data": {
      "text/plain": [
       "edad\n",
       "45-65     1538593\n",
       "25-45     1413815\n",
       "65-100     980559\n",
       "0-25       906141\n",
       "Name: count, dtype: int64"
      ]
     },
     "execution_count": 18,
     "metadata": {},
     "output_type": "execute_result"
    }
   ],
   "source": [
    "filtered_viajes['edad'].value_counts()"
   ]
  },
  {
   "cell_type": "code",
   "execution_count": 19,
   "metadata": {},
   "outputs": [
    {
     "data": {
      "text/plain": [
       "sexo\n",
       "hombre    2505401\n",
       "mujer     2333707\n",
       "Name: count, dtype: int64"
      ]
     },
     "execution_count": 19,
     "metadata": {},
     "output_type": "execute_result"
    }
   ],
   "source": [
    "filtered_viajes['sexo'].value_counts()"
   ]
  },
  {
   "cell_type": "code",
   "execution_count": 20,
   "metadata": {},
   "outputs": [
    {
     "data": {
      "text/plain": [
       "actividad_origen\n",
       "casa    4839108\n",
       "Name: count, dtype: int64"
      ]
     },
     "execution_count": 20,
     "metadata": {},
     "output_type": "execute_result"
    }
   ],
   "source": [
    "filtered_viajes['actividad_origen'].value_counts()"
   ]
  },
  {
   "cell_type": "code",
   "execution_count": 21,
   "metadata": {},
   "outputs": [
    {
     "data": {
      "text/plain": [
       "actividad_destino\n",
       "frecuente          2148791\n",
       "no_frecuente       1484577\n",
       "trabajo_estudio    1205740\n",
       "Name: count, dtype: int64"
      ]
     },
     "execution_count": 21,
     "metadata": {},
     "output_type": "execute_result"
    }
   ],
   "source": [
    "filtered_viajes['actividad_destino'].value_counts()"
   ]
  },
  {
   "cell_type": "code",
   "execution_count": 23,
   "metadata": {},
   "outputs": [
    {
     "data": {
      "text/plain": [
       "distancia\n",
       "2-10     2763117\n",
       "0.5-2    1478457\n",
       "10-50     597534\n",
       "Name: count, dtype: int64"
      ]
     },
     "execution_count": 23,
     "metadata": {},
     "output_type": "execute_result"
    }
   ],
   "source": [
    "filtered_viajes['distancia'].value_counts()"
   ]
  },
  {
   "cell_type": "code",
   "execution_count": null,
   "metadata": {},
   "outputs": [],
   "source": []
  }
 ],
 "metadata": {
  "kernelspec": {
   "display_name": ".venv",
   "language": "python",
   "name": "python3"
  },
  "language_info": {
   "codemirror_mode": {
    "name": "ipython",
    "version": 3
   },
   "file_extension": ".py",
   "mimetype": "text/x-python",
   "name": "python",
   "nbconvert_exporter": "python",
   "pygments_lexer": "ipython3",
   "version": "3.11.4"
  },
  "orig_nbformat": 4,
  "vscode": {
   "interpreter": {
    "hash": "baf70a3cbee19fbb5efe65009e89edc3934f0648c3ca19992706c176c60ae190"
   }
  }
 },
 "nbformat": 4,
 "nbformat_minor": 2
}
