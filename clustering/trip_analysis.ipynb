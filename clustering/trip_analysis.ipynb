{
 "cells": [
  {
   "cell_type": "code",
   "execution_count": 136,
   "metadata": {},
   "outputs": [],
   "source": [
    "import networkx as nx\n",
    "import pandas as pd\n",
    "import geopandas as gpd\n",
    "import config as cfg\n",
    "import numpy as np\n",
    "import matplotlib.pyplot as plt\n",
    "from utils import build_trip_count, get_district_names, get_income_data, add_quantiles"
   ]
  },
  {
   "cell_type": "code",
   "execution_count": 137,
   "metadata": {},
   "outputs": [],
   "source": [
    "all_viajes = pd.read_csv('/Users/caro/Desktop/thesis_project/mobility_data/VIAJES/all_viajes_month_0322.csv') # all trips\n",
    "income = gpd.read_file('/Users/caro/Desktop/thesis_project/segregation_indices/data/processed/geometries_and_income.geojson') # income data\n",
    "gdf = gpd.read_file(cfg.ZONIFICACION_DATA / 'distritos/madrid_gdf.geojson') # geodataframe\n",
    "# gdf = gdf.to_crs(epsg=4326)\n",
    "district_mapping = pd.read_csv('/Users/caro/Desktop/thesis_project/data_overview/outputs/districts_and_population.csv')"
   ]
  },
  {
   "cell_type": "code",
   "execution_count": 138,
   "metadata": {},
   "outputs": [
    {
     "data": {
      "text/plain": [
       "actividad_destino\n",
       "frecuente          7268863\n",
       "casa               4933456\n",
       "no_frecuente       4920539\n",
       "trabajo_estudio    2778097\n",
       "Name: count, dtype: int64"
      ]
     },
     "execution_count": 138,
     "metadata": {},
     "output_type": "execute_result"
    }
   ],
   "source": [
    "all_viajes.actividad_destino.value_counts()"
   ]
  },
  {
   "cell_type": "code",
   "execution_count": 139,
   "metadata": {},
   "outputs": [
    {
     "data": {
      "text/html": [
       "<div>\n",
       "<style scoped>\n",
       "    .dataframe tbody tr th:only-of-type {\n",
       "        vertical-align: middle;\n",
       "    }\n",
       "\n",
       "    .dataframe tbody tr th {\n",
       "        vertical-align: top;\n",
       "    }\n",
       "\n",
       "    .dataframe thead th {\n",
       "        text-align: right;\n",
       "    }\n",
       "</style>\n",
       "<table border=\"1\" class=\"dataframe\">\n",
       "  <thead>\n",
       "    <tr style=\"text-align: right;\">\n",
       "      <th></th>\n",
       "      <th>fecha</th>\n",
       "      <th>periodo</th>\n",
       "      <th>origen</th>\n",
       "      <th>destino</th>\n",
       "      <th>distancia</th>\n",
       "      <th>actividad_origen</th>\n",
       "      <th>actividad_destino</th>\n",
       "      <th>estudio_origen_posible</th>\n",
       "      <th>estudio_destino_posible</th>\n",
       "      <th>residencia</th>\n",
       "      <th>renta</th>\n",
       "      <th>edad</th>\n",
       "      <th>sexo</th>\n",
       "      <th>viajes</th>\n",
       "      <th>viajes_km</th>\n",
       "    </tr>\n",
       "  </thead>\n",
       "  <tbody>\n",
       "    <tr>\n",
       "      <th>0</th>\n",
       "      <td>20220301</td>\n",
       "      <td>0</td>\n",
       "      <td>2807901</td>\n",
       "      <td>2807901</td>\n",
       "      <td>0.5-2</td>\n",
       "      <td>casa</td>\n",
       "      <td>frecuente</td>\n",
       "      <td>no</td>\n",
       "      <td>no</td>\n",
       "      <td>28</td>\n",
       "      <td>&gt;15</td>\n",
       "      <td>0-25</td>\n",
       "      <td>hombre</td>\n",
       "      <td>29.337</td>\n",
       "      <td>30.222</td>\n",
       "    </tr>\n",
       "    <tr>\n",
       "      <th>1</th>\n",
       "      <td>20220301</td>\n",
       "      <td>0</td>\n",
       "      <td>2807901</td>\n",
       "      <td>2807901</td>\n",
       "      <td>0.5-2</td>\n",
       "      <td>casa</td>\n",
       "      <td>frecuente</td>\n",
       "      <td>no</td>\n",
       "      <td>no</td>\n",
       "      <td>28</td>\n",
       "      <td>&gt;15</td>\n",
       "      <td>0-25</td>\n",
       "      <td>mujer</td>\n",
       "      <td>34.143</td>\n",
       "      <td>27.522</td>\n",
       "    </tr>\n",
       "    <tr>\n",
       "      <th>2</th>\n",
       "      <td>20220301</td>\n",
       "      <td>0</td>\n",
       "      <td>2807901</td>\n",
       "      <td>2807901</td>\n",
       "      <td>0.5-2</td>\n",
       "      <td>casa</td>\n",
       "      <td>frecuente</td>\n",
       "      <td>no</td>\n",
       "      <td>no</td>\n",
       "      <td>28</td>\n",
       "      <td>&gt;15</td>\n",
       "      <td>25-45</td>\n",
       "      <td>hombre</td>\n",
       "      <td>92.799</td>\n",
       "      <td>63.331</td>\n",
       "    </tr>\n",
       "    <tr>\n",
       "      <th>3</th>\n",
       "      <td>20220301</td>\n",
       "      <td>0</td>\n",
       "      <td>2807901</td>\n",
       "      <td>2807901</td>\n",
       "      <td>0.5-2</td>\n",
       "      <td>casa</td>\n",
       "      <td>frecuente</td>\n",
       "      <td>no</td>\n",
       "      <td>no</td>\n",
       "      <td>28</td>\n",
       "      <td>&gt;15</td>\n",
       "      <td>25-45</td>\n",
       "      <td>mujer</td>\n",
       "      <td>65.475</td>\n",
       "      <td>44.556</td>\n",
       "    </tr>\n",
       "    <tr>\n",
       "      <th>4</th>\n",
       "      <td>20220301</td>\n",
       "      <td>0</td>\n",
       "      <td>2807901</td>\n",
       "      <td>2807901</td>\n",
       "      <td>0.5-2</td>\n",
       "      <td>casa</td>\n",
       "      <td>frecuente</td>\n",
       "      <td>no</td>\n",
       "      <td>no</td>\n",
       "      <td>28</td>\n",
       "      <td>&gt;15</td>\n",
       "      <td>45-65</td>\n",
       "      <td>hombre</td>\n",
       "      <td>44.319</td>\n",
       "      <td>31.052</td>\n",
       "    </tr>\n",
       "  </tbody>\n",
       "</table>\n",
       "</div>"
      ],
      "text/plain": [
       "      fecha  periodo   origen  destino distancia actividad_origen  \\\n",
       "0  20220301        0  2807901  2807901     0.5-2             casa   \n",
       "1  20220301        0  2807901  2807901     0.5-2             casa   \n",
       "2  20220301        0  2807901  2807901     0.5-2             casa   \n",
       "3  20220301        0  2807901  2807901     0.5-2             casa   \n",
       "4  20220301        0  2807901  2807901     0.5-2             casa   \n",
       "\n",
       "  actividad_destino estudio_origen_posible estudio_destino_posible  \\\n",
       "0         frecuente                     no                      no   \n",
       "1         frecuente                     no                      no   \n",
       "2         frecuente                     no                      no   \n",
       "3         frecuente                     no                      no   \n",
       "4         frecuente                     no                      no   \n",
       "\n",
       "   residencia renta   edad    sexo  viajes  viajes_km  \n",
       "0          28   >15   0-25  hombre  29.337     30.222  \n",
       "1          28   >15   0-25   mujer  34.143     27.522  \n",
       "2          28   >15  25-45  hombre  92.799     63.331  \n",
       "3          28   >15  25-45   mujer  65.475     44.556  \n",
       "4          28   >15  45-65  hombre  44.319     31.052  "
      ]
     },
     "execution_count": 139,
     "metadata": {},
     "output_type": "execute_result"
    }
   ],
   "source": [
    "all_viajes.head()"
   ]
  },
  {
   "cell_type": "code",
   "execution_count": 140,
   "metadata": {},
   "outputs": [],
   "source": [
    "filtered_df = all_viajes.loc[(all_viajes['actividad_origen'] == 'casa')] # home origin trips"
   ]
  },
  {
   "cell_type": "code",
   "execution_count": 141,
   "metadata": {},
   "outputs": [
    {
     "data": {
      "text/plain": [
       "(4839108, 15)"
      ]
     },
     "execution_count": 141,
     "metadata": {},
     "output_type": "execute_result"
    }
   ],
   "source": [
    "filtered_df.shape"
   ]
  },
  {
   "cell_type": "code",
   "execution_count": 142,
   "metadata": {},
   "outputs": [],
   "source": [
    "home_work = all_viajes[ # home to work trips\n",
    "    ((all_viajes['actividad_origen'] == 'casa') & (all_viajes['actividad_destino'] == 'trabajo_estudio'))\n",
    "]"
   ]
  },
  {
   "cell_type": "code",
   "execution_count": 143,
   "metadata": {},
   "outputs": [
    {
     "data": {
      "text/plain": [
       "(1205740, 15)"
      ]
     },
     "execution_count": 143,
     "metadata": {},
     "output_type": "execute_result"
    }
   ],
   "source": [
    "home_work.shape"
   ]
  },
  {
   "attachments": {},
   "cell_type": "markdown",
   "metadata": {},
   "source": [
    "## Filtering trips by median income quantile"
   ]
  },
  {
   "attachments": {},
   "cell_type": "markdown",
   "metadata": {},
   "source": [
    "1. Do low median income quantiles travel more to high median income quantiles for work purposes and overall?\n",
    "2. Do low median income quantiles travel more distance on average than other median income quantiles for work purposes and overall?"
   ]
  },
  {
   "attachments": {},
   "cell_type": "markdown",
   "metadata": {},
   "source": [
    "Question 1, all trips with home origin:"
   ]
  },
  {
   "cell_type": "code",
   "execution_count": 144,
   "metadata": {},
   "outputs": [],
   "source": [
    "trip_counts = build_trip_count(filtered_df, 'distancia')\n",
    "trip_counts = get_district_names(trip_counts)\n",
    "trip_counts = get_income_data(trip_counts, income, 'Gini Index', 'Median income per consumption unit')\n",
    "trip_counts = add_quantiles(trip_counts, 'Median income per consumption unit', n_quantiles=4)\n",
    "trip_counts = add_quantiles(trip_counts, 'Gini Index', n_quantiles=4)"
   ]
  },
  {
   "cell_type": "code",
   "execution_count": 145,
   "metadata": {},
   "outputs": [
    {
     "data": {
      "text/plain": [
       "np.int64(4839108)"
      ]
     },
     "execution_count": 145,
     "metadata": {},
     "output_type": "execute_result"
    }
   ],
   "source": [
    "trip_counts.trip_count.sum()"
   ]
  },
  {
   "cell_type": "code",
   "execution_count": 146,
   "metadata": {},
   "outputs": [],
   "source": [
    "low_to_high_median = trip_counts[(trip_counts['income decile origin Median income per consumption unit'].isin([0, 1])) & \n",
    "                                      (trip_counts['income decile destination Median income per consumption unit'].isin([2, 3]))]\n",
    "\n",
    "high_to_low_median = trip_counts[(trip_counts['income decile origin Median income per consumption unit'].isin([2, 3])) & \n",
    "                                      (trip_counts['income decile destination Median income per consumption unit'].isin([0, 1]))]"
   ]
  },
  {
   "cell_type": "code",
   "execution_count": 147,
   "metadata": {},
   "outputs": [
    {
     "data": {
      "text/plain": [
       "np.float64(26.116094123131784)"
      ]
     },
     "execution_count": 147,
     "metadata": {},
     "output_type": "execute_result"
    }
   ],
   "source": [
    "# percentage of trips from low to high districts (median income per consumtion unit)\n",
    "low_to_high_median['trip_count'].sum() / trip_counts.trip_count.sum() * 100 "
   ]
  },
  {
   "cell_type": "code",
   "execution_count": 148,
   "metadata": {},
   "outputs": [
    {
     "data": {
      "text/plain": [
       "np.float64(15.278022313203177)"
      ]
     },
     "execution_count": 148,
     "metadata": {},
     "output_type": "execute_result"
    }
   ],
   "source": [
    "# percentage of trips from high to low districts (median income per consumtion unit)\n",
    "high_to_low_median['trip_count'].sum() / trip_counts.trip_count.sum() * 100"
   ]
  },
  {
   "attachments": {},
   "cell_type": "markdown",
   "metadata": {},
   "source": [
    "Question 2, all trips with home origin:"
   ]
  },
  {
   "cell_type": "code",
   "execution_count": 149,
   "metadata": {},
   "outputs": [],
   "source": [
    "low_median_income = trip_counts[trip_counts['income decile origin Median income per consumption unit'].isin([0, 1])]\n",
    "high_median_income = trip_counts[trip_counts['income decile origin Median income per consumption unit'].isin([2, 3])]"
   ]
  },
  {
   "cell_type": "code",
   "execution_count": 154,
   "metadata": {},
   "outputs": [],
   "source": [
    "distance_order = ['0.5-2', '2-10', '10-50']\n",
    "colors = [\"#a6cee3\", \"#03396c\"]"
   ]
  },
  {
   "cell_type": "code",
   "execution_count": 155,
   "metadata": {},
   "outputs": [],
   "source": [
    "low_income_distances = low_median_income['distancia'].value_counts(normalize=True).sort_index().reindex(distance_order, fill_value=0)\n",
    "high_income_distances = high_median_income['distancia'].value_counts(normalize=True).sort_index().reindex(distance_order, fill_value=0)"
   ]
  },
  {
   "cell_type": "code",
   "execution_count": 156,
   "metadata": {},
   "outputs": [],
   "source": [
    "distance_comparison = pd.DataFrame({\n",
    "    'Low Median Income Distances': low_income_distances,\n",
    "    'High Median Income Distances': high_income_distances\n",
    "})"
   ]
  },
  {
   "cell_type": "code",
   "execution_count": 157,
   "metadata": {},
   "outputs": [
    {
     "data": {
      "image/png": "[encoded data removed]",
      "text/plain": [
       "<Figure size 1000x600 with 1 Axes>"
      ]
     },
     "metadata": {},
     "output_type": "display_data"
    }
   ],
   "source": [
    "fig, ax = plt.subplots(figsize=(10, 6))\n",
    "distance_comparison.plot(kind='bar', color=colors, ax=ax)\n",
    "plt.title('Distance Distribution of Trips by Income Group - All Home Origin Trips')\n",
    "plt.xlabel('Distance Bracket')\n",
    "plt.ylabel('Proportion of Trips')\n",
    "plt.legend(title='Income Quantile')\n",
    "plt.show()"
   ]
  },
  {
   "attachments": {},
   "cell_type": "markdown",
   "metadata": {},
   "source": [
    "Question 1, home to work:"
   ]
  },
  {
   "cell_type": "code",
   "execution_count": 109,
   "metadata": {},
   "outputs": [],
   "source": [
    "trip_counts_work = build_trip_count(home_work, 'distancia')\n",
    "trip_counts_work = get_district_names(trip_counts_work)\n",
    "trip_counts_work = get_income_data(trip_counts_work, income, 'Gini Index', 'Median income per consumption unit')\n",
    "trip_counts_work = add_quantiles(trip_counts_work, 'Median income per consumption unit')\n",
    "trip_counts_work = add_quantiles(trip_counts_work, 'Gini Index')"
   ]
  },
  {
   "cell_type": "code",
   "execution_count": 110,
   "metadata": {},
   "outputs": [],
   "source": [
    "low_to_high_median = trip_counts_work[(trip_counts_work['income decile origin Median income per consumption unit'].isin([0, 1])) & \n",
    "                                      (trip_counts_work['income decile destination Median income per consumption unit'].isin([4, 5]))]\n",
    "\n",
    "high_to_low_median = trip_counts_work[(trip_counts_work['income decile origin Median income per consumption unit'].isin([4, 5])) & \n",
    "                                      (trip_counts_work['income decile destination Median income per consumption unit'].isin([0, 1]))]"
   ]
  },
  {
   "cell_type": "code",
   "execution_count": 111,
   "metadata": {},
   "outputs": [
    {
     "data": {
      "text/plain": [
       "np.float64(13.026440194403438)"
      ]
     },
     "execution_count": 111,
     "metadata": {},
     "output_type": "execute_result"
    }
   ],
   "source": [
    "low_to_high_median['trip_count'].sum() / trip_counts_work.trip_count.sum() * 100 "
   ]
  },
  {
   "cell_type": "code",
   "execution_count": 112,
   "metadata": {},
   "outputs": [
    {
     "data": {
      "text/plain": [
       "np.float64(6.146184086121386)"
      ]
     },
     "execution_count": 112,
     "metadata": {},
     "output_type": "execute_result"
    }
   ],
   "source": [
    "high_to_low_median['trip_count'].sum() / trip_counts_work.trip_count.sum() * 100 "
   ]
  },
  {
   "attachments": {},
   "cell_type": "markdown",
   "metadata": {},
   "source": [
    "Question 2, home to work:"
   ]
  },
  {
   "cell_type": "code",
   "execution_count": 113,
   "metadata": {},
   "outputs": [],
   "source": [
    "low_median_income_work = trip_counts_work[trip_counts_work['income decile origin Median income per consumption unit'].isin([0, 1])]\n",
    "mid_median_income_work = trip_counts_work[trip_counts_work['income decile origin Median income per consumption unit'].isin([2, 3])]\n",
    "high_median_income_work = trip_counts_work[trip_counts_work['income decile origin Median income per consumption unit'].isin([4, 5])]"
   ]
  },
  {
   "cell_type": "code",
   "execution_count": 114,
   "metadata": {},
   "outputs": [],
   "source": [
    "low_income_distances_work = low_median_income_work['distancia'].value_counts(normalize=True).sort_index().reindex(distance_order, fill_value=0)\n",
    "mid_income_distances_work = mid_median_income_work['distancia'].value_counts(normalize=True).sort_index().reindex(distance_order, fill_value=0)\n",
    "high_income_distances_work = high_median_income_work['distancia'].value_counts(normalize=True).sort_index().reindex(distance_order, fill_value=0)"
   ]
  },
  {
   "cell_type": "code",
   "execution_count": 115,
   "metadata": {},
   "outputs": [],
   "source": [
    "distance_comparison_work = pd.DataFrame({\n",
    "    'Low Median Income Distances': low_income_distances_work,\n",
    "    'Mid Median Income Distances': mid_income_distances_work,\n",
    "    'High Median Income Distances': high_income_distances_work\n",
    "})"
   ]
  },
  {
   "cell_type": "code",
   "execution_count": 116,
   "metadata": {},
   "outputs": [
    {
     "data": {
      "image/png": "[encoded data removed]",
      "text/plain": [
       "<Figure size 1000x600 with 1 Axes>"
      ]
     },
     "metadata": {},
     "output_type": "display_data"
    }
   ],
   "source": [
    "fig, ax = plt.subplots(figsize=(10, 6))\n",
    "distance_comparison_work.plot(kind='bar', color=colors, ax=ax)\n",
    "plt.title('Distance of Trips by Income Group - Home to Work Trips')\n",
    "plt.xlabel('Distance Bracket')\n",
    "plt.ylabel('Proportion of Trips')\n",
    "plt.legend(title='Income Quantile')\n",
    "plt.show()"
   ]
  },
  {
   "attachments": {},
   "cell_type": "markdown",
   "metadata": {},
   "source": [
    "## Filtering trips by Gini Index quantile"
   ]
  },
  {
   "attachments": {},
   "cell_type": "markdown",
   "metadata": {},
   "source": [
    "Question 1, all trips with home origin, Gini Index:"
   ]
  },
  {
   "cell_type": "code",
   "execution_count": 117,
   "metadata": {},
   "outputs": [],
   "source": [
    "low_to_high_gini = trip_counts[(trip_counts['income decile origin Gini Index'].isin([5, 4])) & \n",
    "                                      (trip_counts['income decile destination Gini Index'].isin([0, 1]))]\n",
    "\n",
    "high_to_low_gini = trip_counts[(trip_counts['income decile origin Gini Index'].isin([0, 1])) & \n",
    "                                      (trip_counts['income decile destination Gini Index'].isin([5, 4]))]"
   ]
  },
  {
   "cell_type": "code",
   "execution_count": 118,
   "metadata": {},
   "outputs": [
    {
     "data": {
      "text/plain": [
       "np.float64(4.186081401779005)"
      ]
     },
     "execution_count": 118,
     "metadata": {},
     "output_type": "execute_result"
    }
   ],
   "source": [
    "# percentage of trips from low to high districts (gini index)\n",
    "low_to_high_gini['trip_count'].sum() / trip_counts.trip_count.sum() * 100 "
   ]
  },
  {
   "cell_type": "code",
   "execution_count": 119,
   "metadata": {},
   "outputs": [
    {
     "data": {
      "text/plain": [
       "np.float64(9.383898850779937)"
      ]
     },
     "execution_count": 119,
     "metadata": {},
     "output_type": "execute_result"
    }
   ],
   "source": [
    "# percentage of trips from high to low districts (gini index)\n",
    "high_to_low_gini['trip_count'].sum() / trip_counts.trip_count.sum() * 100 "
   ]
  },
  {
   "attachments": {},
   "cell_type": "markdown",
   "metadata": {},
   "source": [
    "Question 1, home to work, Gini Index:"
   ]
  },
  {
   "cell_type": "code",
   "execution_count": 120,
   "metadata": {},
   "outputs": [],
   "source": [
    "low_to_high_gini_work = trip_counts_work[(trip_counts_work['income decile origin Gini Index'].isin([5, 4])) & \n",
    "                                      (trip_counts_work['income decile destination Gini Index'].isin([0, 1]))]\n",
    "\n",
    "high_to_low_gini_work = trip_counts_work[(trip_counts_work['income decile origin Gini Index'].isin([0, 1])) & \n",
    "                                      (trip_counts_work['income decile destination Gini Index'].isin([5, 4]))]"
   ]
  },
  {
   "cell_type": "code",
   "execution_count": 121,
   "metadata": {},
   "outputs": [
    {
     "data": {
      "text/plain": [
       "np.float64(5.397764028729245)"
      ]
     },
     "execution_count": 121,
     "metadata": {},
     "output_type": "execute_result"
    }
   ],
   "source": [
    "low_to_high_gini_work['trip_count'].sum() / trip_counts_work.trip_count.sum() * 100 "
   ]
  },
  {
   "cell_type": "code",
   "execution_count": 122,
   "metadata": {},
   "outputs": [
    {
     "data": {
      "text/plain": [
       "np.float64(9.138703203012257)"
      ]
     },
     "execution_count": 122,
     "metadata": {},
     "output_type": "execute_result"
    }
   ],
   "source": [
    "high_to_low_gini_work['trip_count'].sum() / trip_counts_work.trip_count.sum() * 100 "
   ]
  },
  {
   "attachments": {},
   "cell_type": "markdown",
   "metadata": {},
   "source": [
    "Question 2, all trips with home origin, Gini Index:"
   ]
  },
  {
   "cell_type": "code",
   "execution_count": 123,
   "metadata": {},
   "outputs": [],
   "source": [
    "low_median_income = trip_counts[trip_counts['income decile origin Gini Index'].isin([5, 4])]\n",
    "mid_median_income = trip_counts[trip_counts['income decile origin Gini Index'].isin([3, 2])]\n",
    "high_median_income = trip_counts[trip_counts['income decile origin Gini Index'].isin([1, 0])]"
   ]
  },
  {
   "cell_type": "code",
   "execution_count": 124,
   "metadata": {},
   "outputs": [],
   "source": [
    "low_income_distances = low_median_income['distancia'].value_counts(normalize=True).sort_index().reindex(distance_order, fill_value=0)\n",
    "mid_income_distances = mid_median_income['distancia'].value_counts(normalize=True).sort_index().reindex(distance_order, fill_value=0)\n",
    "high_income_distances = high_median_income['distancia'].value_counts(normalize=True).sort_index().reindex(distance_order, fill_value=0)"
   ]
  },
  {
   "cell_type": "code",
   "execution_count": 125,
   "metadata": {},
   "outputs": [],
   "source": [
    "distance_comparison_gini = pd.DataFrame({\n",
    "    'Low Gini Distances': low_income_distances,\n",
    "    'Mid Gini Distances': mid_income_distances,\n",
    "    'High Gini Distances': high_income_distances\n",
    "})"
   ]
  },
  {
   "cell_type": "code",
   "execution_count": 126,
   "metadata": {},
   "outputs": [
    {
     "data": {
      "image/png": "[encoded data removed]",
      "text/plain": [
       "<Figure size 1000x600 with 1 Axes>"
      ]
     },
     "metadata": {},
     "output_type": "display_data"
    }
   ],
   "source": [
    "fig, ax = plt.subplots(figsize=(10, 6))\n",
    "\n",
    "distance_comparison_gini.plot(kind='bar', color=colors, ax=ax)\n",
    "plt.title('Distance of Trips by Gini Index Quantiles - All Home Origin Trips')\n",
    "plt.xlabel('Distance Bracket')\n",
    "plt.ylabel('Proportion of Trips')\n",
    "plt.legend(title='Gini Index Quantile')\n",
    "plt.show()"
   ]
  },
  {
   "attachments": {},
   "cell_type": "markdown",
   "metadata": {},
   "source": [
    "Question 2, home to work, Gini Index:"
   ]
  },
  {
   "cell_type": "code",
   "execution_count": 127,
   "metadata": {},
   "outputs": [],
   "source": [
    "low_median_income = trip_counts_work[trip_counts_work['income decile origin Gini Index'].isin([5, 4])]\n",
    "mid_median_income = trip_counts_work[trip_counts_work['income decile origin Gini Index'].isin([3, 2])]\n",
    "high_median_income = trip_counts_work[trip_counts_work['income decile origin Gini Index'].isin([1, 0])]"
   ]
  },
  {
   "cell_type": "code",
   "execution_count": 128,
   "metadata": {},
   "outputs": [],
   "source": [
    "low_income_distances_work = low_median_income_work['distancia'].value_counts(normalize=True).sort_index().reindex(distance_order, fill_value=0)\n",
    "mid_income_distances_work = mid_median_income_work['distancia'].value_counts(normalize=True).sort_index().reindex(distance_order, fill_value=0)\n",
    "high_income_distances_work = high_median_income_work['distancia'].value_counts(normalize=True).sort_index().reindex(distance_order, fill_value=0)"
   ]
  },
  {
   "cell_type": "code",
   "execution_count": 129,
   "metadata": {},
   "outputs": [],
   "source": [
    "distance_comparison_gini_work = pd.DataFrame({\n",
    "    'Low Gini Distances': low_income_distances_work,\n",
    "    'Mid Gini Distances': mid_income_distances_work,\n",
    "    'High Gini Distances': high_income_distances_work\n",
    "})"
   ]
  },
  {
   "cell_type": "code",
   "execution_count": 130,
   "metadata": {},
   "outputs": [
    {
     "data": {
      "image/png": "[encoded data removed]",
      "text/plain": [
       "<Figure size 1000x600 with 1 Axes>"
      ]
     },
     "metadata": {},
     "output_type": "display_data"
    }
   ],
   "source": [
    "fig, ax = plt.subplots(figsize=(10, 6))\n",
    "distance_comparison_gini_work.plot(kind='bar', color=colors, ax=ax)\n",
    "plt.title('Distance of Trips by Gini Index Quantiles - Home to Work Trips')\n",
    "plt.xlabel('Distance Bracket')\n",
    "plt.ylabel('Proportion of Trips')\n",
    "plt.legend(title='Gini Index Quantile')\n",
    "plt.show()"
   ]
  },
  {
   "attachments": {},
   "cell_type": "markdown",
   "metadata": {},
   "source": [
    "## Further Analysis"
   ]
  },
  {
   "cell_type": "code",
   "execution_count": 131,
   "metadata": {},
   "outputs": [
    {
     "data": {
      "text/html": [
       "<div>\n",
       "<style scoped>\n",
       "    .dataframe tbody tr th:only-of-type {\n",
       "        vertical-align: middle;\n",
       "    }\n",
       "\n",
       "    .dataframe tbody tr th {\n",
       "        vertical-align: top;\n",
       "    }\n",
       "\n",
       "    .dataframe thead th {\n",
       "        text-align: right;\n",
       "    }\n",
       "</style>\n",
       "<table border=\"1\" class=\"dataframe\">\n",
       "  <thead>\n",
       "    <tr style=\"text-align: right;\">\n",
       "      <th></th>\n",
       "      <th>Low Median Income Distances</th>\n",
       "      <th>Mid Median Income Distances</th>\n",
       "      <th>High Median Income Distances</th>\n",
       "    </tr>\n",
       "    <tr>\n",
       "      <th>distancia</th>\n",
       "      <th></th>\n",
       "      <th></th>\n",
       "      <th></th>\n",
       "    </tr>\n",
       "  </thead>\n",
       "  <tbody>\n",
       "    <tr>\n",
       "      <th>0.5-2</th>\n",
       "      <td>0.1675</td>\n",
       "      <td>0.203065</td>\n",
       "      <td>0.227941</td>\n",
       "    </tr>\n",
       "    <tr>\n",
       "      <th>2-10</th>\n",
       "      <td>0.4550</td>\n",
       "      <td>0.463602</td>\n",
       "      <td>0.455882</td>\n",
       "    </tr>\n",
       "    <tr>\n",
       "      <th>10-50</th>\n",
       "      <td>0.3775</td>\n",
       "      <td>0.333333</td>\n",
       "      <td>0.316176</td>\n",
       "    </tr>\n",
       "  </tbody>\n",
       "</table>\n",
       "</div>"
      ],
      "text/plain": [
       "           Low Median Income Distances  Mid Median Income Distances  \\\n",
       "distancia                                                             \n",
       "0.5-2                           0.1675                     0.203065   \n",
       "2-10                            0.4550                     0.463602   \n",
       "10-50                           0.3775                     0.333333   \n",
       "\n",
       "           High Median Income Distances  \n",
       "distancia                                \n",
       "0.5-2                          0.227941  \n",
       "2-10                           0.455882  \n",
       "10-50                          0.316176  "
      ]
     },
     "execution_count": 131,
     "metadata": {},
     "output_type": "execute_result"
    }
   ],
   "source": [
    "distance_comparison"
   ]
  },
  {
   "cell_type": "code",
   "execution_count": 132,
   "metadata": {},
   "outputs": [
    {
     "data": {
      "text/html": [
       "<div>\n",
       "<style scoped>\n",
       "    .dataframe tbody tr th:only-of-type {\n",
       "        vertical-align: middle;\n",
       "    }\n",
       "\n",
       "    .dataframe tbody tr th {\n",
       "        vertical-align: top;\n",
       "    }\n",
       "\n",
       "    .dataframe thead th {\n",
       "        text-align: right;\n",
       "    }\n",
       "</style>\n",
       "<table border=\"1\" class=\"dataframe\">\n",
       "  <thead>\n",
       "    <tr style=\"text-align: right;\">\n",
       "      <th></th>\n",
       "      <th>Low Median Income Distances</th>\n",
       "      <th>Mid Median Income Distances</th>\n",
       "      <th>High Median Income Distances</th>\n",
       "    </tr>\n",
       "    <tr>\n",
       "      <th>distancia</th>\n",
       "      <th></th>\n",
       "      <th></th>\n",
       "      <th></th>\n",
       "    </tr>\n",
       "  </thead>\n",
       "  <tbody>\n",
       "    <tr>\n",
       "      <th>0.5-2</th>\n",
       "      <td>0.162850</td>\n",
       "      <td>0.200787</td>\n",
       "      <td>0.220149</td>\n",
       "    </tr>\n",
       "    <tr>\n",
       "      <th>2-10</th>\n",
       "      <td>0.463104</td>\n",
       "      <td>0.476378</td>\n",
       "      <td>0.462687</td>\n",
       "    </tr>\n",
       "    <tr>\n",
       "      <th>10-50</th>\n",
       "      <td>0.374046</td>\n",
       "      <td>0.322835</td>\n",
       "      <td>0.317164</td>\n",
       "    </tr>\n",
       "  </tbody>\n",
       "</table>\n",
       "</div>"
      ],
      "text/plain": [
       "           Low Median Income Distances  Mid Median Income Distances  \\\n",
       "distancia                                                             \n",
       "0.5-2                         0.162850                     0.200787   \n",
       "2-10                          0.463104                     0.476378   \n",
       "10-50                         0.374046                     0.322835   \n",
       "\n",
       "           High Median Income Distances  \n",
       "distancia                                \n",
       "0.5-2                          0.220149  \n",
       "2-10                           0.462687  \n",
       "10-50                          0.317164  "
      ]
     },
     "execution_count": 132,
     "metadata": {},
     "output_type": "execute_result"
    }
   ],
   "source": [
    "distance_comparison_work"
   ]
  },
  {
   "cell_type": "code",
   "execution_count": 133,
   "metadata": {},
   "outputs": [
    {
     "data": {
      "text/html": [
       "<div>\n",
       "<style scoped>\n",
       "    .dataframe tbody tr th:only-of-type {\n",
       "        vertical-align: middle;\n",
       "    }\n",
       "\n",
       "    .dataframe tbody tr th {\n",
       "        vertical-align: top;\n",
       "    }\n",
       "\n",
       "    .dataframe thead th {\n",
       "        text-align: right;\n",
       "    }\n",
       "</style>\n",
       "<table border=\"1\" class=\"dataframe\">\n",
       "  <thead>\n",
       "    <tr style=\"text-align: right;\">\n",
       "      <th></th>\n",
       "      <th>Low Gini Distances</th>\n",
       "      <th>Mid Gini Distances</th>\n",
       "      <th>High Gini Distances</th>\n",
       "    </tr>\n",
       "    <tr>\n",
       "      <th>distancia</th>\n",
       "      <th></th>\n",
       "      <th></th>\n",
       "      <th></th>\n",
       "    </tr>\n",
       "  </thead>\n",
       "  <tbody>\n",
       "    <tr>\n",
       "      <th>0.5-2</th>\n",
       "      <td>0.235955</td>\n",
       "      <td>0.180282</td>\n",
       "      <td>0.176849</td>\n",
       "    </tr>\n",
       "    <tr>\n",
       "      <th>2-10</th>\n",
       "      <td>0.471910</td>\n",
       "      <td>0.447887</td>\n",
       "      <td>0.456592</td>\n",
       "    </tr>\n",
       "    <tr>\n",
       "      <th>10-50</th>\n",
       "      <td>0.292135</td>\n",
       "      <td>0.371831</td>\n",
       "      <td>0.366559</td>\n",
       "    </tr>\n",
       "  </tbody>\n",
       "</table>\n",
       "</div>"
      ],
      "text/plain": [
       "           Low Gini Distances  Mid Gini Distances  High Gini Distances\n",
       "distancia                                                             \n",
       "0.5-2                0.235955            0.180282             0.176849\n",
       "2-10                 0.471910            0.447887             0.456592\n",
       "10-50                0.292135            0.371831             0.366559"
      ]
     },
     "execution_count": 133,
     "metadata": {},
     "output_type": "execute_result"
    }
   ],
   "source": [
    "distance_comparison_gini"
   ]
  },
  {
   "cell_type": "code",
   "execution_count": 134,
   "metadata": {},
   "outputs": [
    {
     "data": {
      "text/html": [
       "<div>\n",
       "<style scoped>\n",
       "    .dataframe tbody tr th:only-of-type {\n",
       "        vertical-align: middle;\n",
       "    }\n",
       "\n",
       "    .dataframe tbody tr th {\n",
       "        vertical-align: top;\n",
       "    }\n",
       "\n",
       "    .dataframe thead th {\n",
       "        text-align: right;\n",
       "    }\n",
       "</style>\n",
       "<table border=\"1\" class=\"dataframe\">\n",
       "  <thead>\n",
       "    <tr style=\"text-align: right;\">\n",
       "      <th></th>\n",
       "      <th>Low Gini Distances</th>\n",
       "      <th>Mid Gini Distances</th>\n",
       "      <th>High Gini Distances</th>\n",
       "    </tr>\n",
       "    <tr>\n",
       "      <th>distancia</th>\n",
       "      <th></th>\n",
       "      <th></th>\n",
       "      <th></th>\n",
       "    </tr>\n",
       "  </thead>\n",
       "  <tbody>\n",
       "    <tr>\n",
       "      <th>0.5-2</th>\n",
       "      <td>0.162850</td>\n",
       "      <td>0.200787</td>\n",
       "      <td>0.220149</td>\n",
       "    </tr>\n",
       "    <tr>\n",
       "      <th>2-10</th>\n",
       "      <td>0.463104</td>\n",
       "      <td>0.476378</td>\n",
       "      <td>0.462687</td>\n",
       "    </tr>\n",
       "    <tr>\n",
       "      <th>10-50</th>\n",
       "      <td>0.374046</td>\n",
       "      <td>0.322835</td>\n",
       "      <td>0.317164</td>\n",
       "    </tr>\n",
       "  </tbody>\n",
       "</table>\n",
       "</div>"
      ],
      "text/plain": [
       "           Low Gini Distances  Mid Gini Distances  High Gini Distances\n",
       "distancia                                                             \n",
       "0.5-2                0.162850            0.200787             0.220149\n",
       "2-10                 0.463104            0.476378             0.462687\n",
       "10-50                0.374046            0.322835             0.317164"
      ]
     },
     "execution_count": 134,
     "metadata": {},
     "output_type": "execute_result"
    }
   ],
   "source": [
    "distance_comparison_gini_work"
   ]
  },
  {
   "cell_type": "code",
   "execution_count": null,
   "metadata": {},
   "outputs": [],
   "source": []
  },
  {
   "cell_type": "code",
   "execution_count": null,
   "metadata": {},
   "outputs": [],
   "source": []
  }
 ],
 "metadata": {
  "kernelspec": {
   "display_name": ".thesis_env",
   "language": "python",
   "name": "python3"
  },
  "language_info": {
   "codemirror_mode": {
    "name": "ipython",
    "version": 3
   },
   "file_extension": ".py",
   "mimetype": "text/x-python",
   "name": "python",
   "nbconvert_exporter": "python",
   "pygments_lexer": "ipython3",
   "version": "3.11.4"
  },
  "orig_nbformat": 4,
  "vscode": {
   "interpreter": {
    "hash": "dc5a137c8466a4ffb6ded1bc1d0edcb068d49351ebe910c5391764b8894bd5ea"
   }
  }
 },
 "nbformat": 4,
 "nbformat_minor": 2
}
