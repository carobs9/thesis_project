{
 "cells": [
  {
   "cell_type": "code",
   "execution_count": null,
   "metadata": {},
   "outputs": [],
   "source": [
    "# TODO: Read: chrome-extension://efaidnbmnnnibpcajpcglclefindmkaj/https://arxiv.org/pdf/2309.11798v4\n",
    "# and https://www.nature.com/articles/s41598-024-58624-4 and https://www.nature.com/articles/s41598-024-58624-4\n",
    "# chrome-extension://efaidnbmnnnibpcajpcglclefindmkaj/https://www.aimspress.com/aimspress-data/math/2024/2/PDF/math-09-02-178.pdf\n",
    "# https://ieeexplore.ieee.org/abstract/document/7289461?casa_token=fHhNEidoqJMAAAAA:LM6FsCabVYqQ36U10oWBJSYUmAL4X1_yraUZv51GF3vsfDsp15CrrOFpI-o7PRtfX_JPd9Gog3AGcHQ"
   ]
  },
  {
   "cell_type": "code",
   "execution_count": null,
   "metadata": {},
   "outputs": [],
   "source": [
    "# TODO: Fix the fact that rent is not being added correctly to the edges"
   ]
  },
  {
   "cell_type": "code",
   "execution_count": 1,
   "metadata": {},
   "outputs": [
    {
     "name": "stdout",
     "output_type": "stream",
     "text": [
      "3.7.0\n"
     ]
    }
   ],
   "source": [
    "import pyproj\n",
    "print(pyproj.__version__)\n"
   ]
  },
  {
   "cell_type": "code",
   "execution_count": 1,
   "metadata": {},
   "outputs": [],
   "source": [
    "import config as cfg\n",
    "from utils import *\n",
    "import seaborn as sns\n",
    "import numpy as np"
   ]
  },
  {
   "cell_type": "code",
   "execution_count": 2,
   "metadata": {},
   "outputs": [],
   "source": [
    "# Load data\n",
    "all_viajes = pd.read_csv('/Users/caro/Desktop/thesis_project/mobility_data/VIAJES/all_viajes_month_0322.csv')\n",
    "income = gpd.read_file('/Users/caro/Desktop/thesis_project/segregation_indices/data/processed/geometries_and_income.geojson')\n",
    "gdf = gpd.read_file(cfg.ZONIFICACION_DATA / 'distritos/madrid_gdf.geojson')  # Load your GeoJSON file into a GeoDataFrame\n",
    "gdf = gdf.to_crs(epsg=4326) # I am having problems with the Pyproj package"
   ]
  },
  {
   "cell_type": "code",
   "execution_count": 8,
   "metadata": {},
   "outputs": [
    {
     "data": {
      "text/html": [
       "<div>\n",
       "<style scoped>\n",
       "    .dataframe tbody tr th:only-of-type {\n",
       "        vertical-align: middle;\n",
       "    }\n",
       "\n",
       "    .dataframe tbody tr th {\n",
       "        vertical-align: top;\n",
       "    }\n",
       "\n",
       "    .dataframe thead th {\n",
       "        text-align: right;\n",
       "    }\n",
       "</style>\n",
       "<table border=\"1\" class=\"dataframe\">\n",
       "  <thead>\n",
       "    <tr style=\"text-align: right;\">\n",
       "      <th></th>\n",
       "      <th>Gini Index</th>\n",
       "      <th>ID</th>\n",
       "      <th>Average income per consumption unit</th>\n",
       "      <th>Median income per consumption unit</th>\n",
       "      <th>Average gross income per household</th>\n",
       "      <th>Average gross income per person</th>\n",
       "      <th>Average net income per household</th>\n",
       "      <th>Average net income per person</th>\n",
       "    </tr>\n",
       "  </thead>\n",
       "  <tbody>\n",
       "    <tr>\n",
       "      <th>count</th>\n",
       "      <td>21.000000</td>\n",
       "      <td>2.100000e+01</td>\n",
       "      <td>21.000000</td>\n",
       "      <td>21.000000</td>\n",
       "      <td>21.000000</td>\n",
       "      <td>21.000000</td>\n",
       "      <td>21.000000</td>\n",
       "      <td>21.000000</td>\n",
       "    </tr>\n",
       "    <tr>\n",
       "      <th>mean</th>\n",
       "      <td>34.723810</td>\n",
       "      <td>2.807911e+06</td>\n",
       "      <td>27070.333333</td>\n",
       "      <td>22350.000000</td>\n",
       "      <td>57604.857143</td>\n",
       "      <td>23275.380952</td>\n",
       "      <td>44733.380952</td>\n",
       "      <td>18045.047619</td>\n",
       "    </tr>\n",
       "    <tr>\n",
       "      <th>std</th>\n",
       "      <td>3.420951</td>\n",
       "      <td>6.204837e+00</td>\n",
       "      <td>8453.982921</td>\n",
       "      <td>5829.665514</td>\n",
       "      <td>18974.136052</td>\n",
       "      <td>8209.685070</td>\n",
       "      <td>12225.613745</td>\n",
       "      <td>5363.163194</td>\n",
       "    </tr>\n",
       "    <tr>\n",
       "      <th>min</th>\n",
       "      <td>30.400000</td>\n",
       "      <td>2.807901e+06</td>\n",
       "      <td>16116.000000</td>\n",
       "      <td>14350.000000</td>\n",
       "      <td>33395.000000</td>\n",
       "      <td>12678.000000</td>\n",
       "      <td>28681.000000</td>\n",
       "      <td>10797.000000</td>\n",
       "    </tr>\n",
       "    <tr>\n",
       "      <th>25%</th>\n",
       "      <td>31.800000</td>\n",
       "      <td>2.807906e+06</td>\n",
       "      <td>20469.000000</td>\n",
       "      <td>18550.000000</td>\n",
       "      <td>42779.000000</td>\n",
       "      <td>16498.000000</td>\n",
       "      <td>35278.000000</td>\n",
       "      <td>13719.000000</td>\n",
       "    </tr>\n",
       "    <tr>\n",
       "      <th>50%</th>\n",
       "      <td>33.400000</td>\n",
       "      <td>2.807911e+06</td>\n",
       "      <td>24874.000000</td>\n",
       "      <td>19950.000000</td>\n",
       "      <td>50487.000000</td>\n",
       "      <td>21495.000000</td>\n",
       "      <td>39991.000000</td>\n",
       "      <td>17026.000000</td>\n",
       "    </tr>\n",
       "    <tr>\n",
       "      <th>75%</th>\n",
       "      <td>37.600000</td>\n",
       "      <td>2.807916e+06</td>\n",
       "      <td>32322.000000</td>\n",
       "      <td>26950.000000</td>\n",
       "      <td>72362.000000</td>\n",
       "      <td>27311.000000</td>\n",
       "      <td>55125.000000</td>\n",
       "      <td>20671.000000</td>\n",
       "    </tr>\n",
       "    <tr>\n",
       "      <th>max</th>\n",
       "      <td>40.200000</td>\n",
       "      <td>2.807921e+06</td>\n",
       "      <td>43930.000000</td>\n",
       "      <td>32550.000000</td>\n",
       "      <td>97093.000000</td>\n",
       "      <td>39346.000000</td>\n",
       "      <td>69670.000000</td>\n",
       "      <td>28233.000000</td>\n",
       "    </tr>\n",
       "  </tbody>\n",
       "</table>\n",
       "</div>"
      ],
      "text/plain": [
       "       Gini Index            ID  Average income per consumption unit  \\\n",
       "count   21.000000  2.100000e+01                            21.000000   \n",
       "mean    34.723810  2.807911e+06                         27070.333333   \n",
       "std      3.420951  6.204837e+00                          8453.982921   \n",
       "min     30.400000  2.807901e+06                         16116.000000   \n",
       "25%     31.800000  2.807906e+06                         20469.000000   \n",
       "50%     33.400000  2.807911e+06                         24874.000000   \n",
       "75%     37.600000  2.807916e+06                         32322.000000   \n",
       "max     40.200000  2.807921e+06                         43930.000000   \n",
       "\n",
       "       Median income per consumption unit  Average gross income per household  \\\n",
       "count                           21.000000                           21.000000   \n",
       "mean                         22350.000000                        57604.857143   \n",
       "std                           5829.665514                        18974.136052   \n",
       "min                          14350.000000                        33395.000000   \n",
       "25%                          18550.000000                        42779.000000   \n",
       "50%                          19950.000000                        50487.000000   \n",
       "75%                          26950.000000                        72362.000000   \n",
       "max                          32550.000000                        97093.000000   \n",
       "\n",
       "       Average gross income per person  Average net income per household  \\\n",
       "count                        21.000000                         21.000000   \n",
       "mean                      23275.380952                      44733.380952   \n",
       "std                        8209.685070                      12225.613745   \n",
       "min                       12678.000000                      28681.000000   \n",
       "25%                       16498.000000                      35278.000000   \n",
       "50%                       21495.000000                      39991.000000   \n",
       "75%                       27311.000000                      55125.000000   \n",
       "max                       39346.000000                      69670.000000   \n",
       "\n",
       "       Average net income per person  \n",
       "count                      21.000000  \n",
       "mean                    18045.047619  \n",
       "std                      5363.163194  \n",
       "min                     10797.000000  \n",
       "25%                     13719.000000  \n",
       "50%                     17026.000000  \n",
       "75%                     20671.000000  \n",
       "max                     28233.000000  "
      ]
     },
     "execution_count": 8,
     "metadata": {},
     "output_type": "execute_result"
    }
   ],
   "source": [
    "income.describe()"
   ]
  },
  {
   "cell_type": "code",
   "execution_count": 24,
   "metadata": {},
   "outputs": [],
   "source": [
    "# Filter data\n",
    "filtered_df = all_viajes.loc[(all_viajes['actividad_origen'] == 'casa')]\n",
    "# home_to_work = filtered_df.loc[(filtered_df['actividad_destino'] == 'trabajo_estudio')] # only trips from home to work\n",
    "# short_trips = all_viajes.loc[(all_viajes['distancia']=='0.5-2')]\n",
    "# long_trips = all_viajes.loc[(all_viajes['distancia']=='10-50')]\n",
    "# women = all_viajes.loc[(all_viajes['sexo'] == 'mujer')]\n",
    "# high_income = all_viajes.loc[(all_viajes['renta']=='10-15')]\n",
    "\n",
    "home_work = all_viajes[\n",
    "    ((all_viajes['actividad_origen'] == 'casa') & (all_viajes['actividad_destino'] == 'trabajo_estudio')) |\n",
    "    ((all_viajes['actividad_origen'] == 'trabajo_estudio') & (all_viajes['actividad_destino'] == 'casa'))\n",
    "]\n"
   ]
  },
  {
   "cell_type": "code",
   "execution_count": 25,
   "metadata": {},
   "outputs": [],
   "source": [
    "var_of_interest = 'Average net income per household'\n",
    "var_of_interest_2 = 'Gini Index'"
   ]
  },
  {
   "cell_type": "code",
   "execution_count": 26,
   "metadata": {},
   "outputs": [
    {
     "data": {
      "text/plain": [
       "renta\n",
       ">15      2814199\n",
       "10-15    2024909\n",
       "Name: count, dtype: int64"
      ]
     },
     "execution_count": 26,
     "metadata": {},
     "output_type": "execute_result"
    }
   ],
   "source": [
    "filtered_df['renta'].value_counts()"
   ]
  },
  {
   "cell_type": "code",
   "execution_count": 39,
   "metadata": {},
   "outputs": [
    {
     "data": {
      "application/vnd.plotly.v1+json": {
       "config": {
        "plotlyServerURL": "https://plot.ly"
       },
       "data": [
        {
         "hoverinfo": "text",
         "line": {
          "color": "rgba(253.68627450980392, 208.31372549019608, 129.2549019607843, 1.0)",
          "width": 6.299139790972008
         },
         "mode": "lines",
         "showlegend": false,
         "text": "Width: 6.30",
         "type": "scatter",
         "x": [
          -3.705268804063821,
          -3.705268804063821,
          null
         ],
         "y": [
          40.41733007020507,
          40.41733007020507,
          null
         ]
        },
        {
         "hoverinfo": "text",
         "line": {
          "color": "rgba(254.50980392156862, 239.80392156862743, 167.9607843137255, 1.0)",
          "width": 5.483202107091821
         },
         "mode": "lines",
         "showlegend": false,
         "text": "Width: 5.48",
         "type": "scatter",
         "x": [
          -3.705268804063821,
          -3.6966151949203576,
          null
         ],
         "y": [
          40.41733007020507,
          40.398119933450886,
          null
         ]
        },
        {
         "hoverinfo": "text",
         "line": {
          "color": "rgba(231.29411764705884, 245.8235294117647, 234.5882352941176, 1.0)",
          "width": 4.244445067107512
         },
         "mode": "lines",
         "showlegend": false,
         "text": "Width: 4.24",
         "type": "scatter",
         "x": [
          -3.705268804063821,
          -3.67643837848883,
          null
         ],
         "y": [
          40.41733007020507,
          40.41138084576659,
          null
         ]
        },
        {
         "hoverinfo": "text",
         "line": {
          "color": "rgba(238.58823529411765, 248.6470588235294, 221.1764705882353, 1.0)",
          "width": 4.482333492112415
         },
         "mode": "lines",
         "showlegend": false,
         "text": "Width: 4.48",
         "type": "scatter",
         "x": [
          -3.705268804063821,
          -3.6737887354917422,
          null
         ],
         "y": [
          40.41733007020507,
          40.43018370922185,
          null
         ]
        },
        {
         "hoverinfo": "text",
         "line": {
          "color": "rgba(253.1764705882353, 182.8235294117647, 105.29411764705881, 1.0)",
          "width": 6.809100843397125
         },
         "mode": "lines",
         "showlegend": false,
         "text": "Width: 6.81",
         "type": "scatter",
         "x": [
          -3.705268804063821,
          -3.703523951395161,
          null
         ],
         "y": [
          40.41733007020507,
          40.4375595509298,
          null
         ]
        },
        {
         "hoverinfo": "text",
         "line": {
          "color": "rgba(254.58823529411765, 242.23529411764707, 171.64705882352942, 1.0)",
          "width": 5.418196082826642
         },
         "mode": "lines",
         "showlegend": false,
         "text": "Width: 5.42",
         "type": "scatter",
         "x": [
          -3.705268804063821,
          -3.757223268157654,
          null
         ],
         "y": [
          40.41733007020507,
          40.44543508494524,
          null
         ]
        },
        {
         "hoverinfo": "text",
         "line": {
          "color": "rgba(225.21568627450984, 243.47058823529412, 245.76470588235287, 1.0)",
          "width": 4.040180447757011
         },
         "mode": "lines",
         "showlegend": false,
         "text": "Width: 4.04",
         "type": "scatter",
         "x": [
          -3.705268804063821,
          -3.778616540618283,
          null
         ],
         "y": [
          40.41733007020507,
          40.385273701511004,
          null
         ]
        },
        {
         "hoverinfo": "text",
         "line": {
          "color": "rgba(205.29411764705887, 233.82352941176472, 242.7058823529412, 1.0)",
          "width": 3.660791840623161
         },
         "mode": "lines",
         "showlegend": false,
         "text": "Width: 3.66",
         "type": "scatter",
         "x": [
          -3.705268804063821,
          -3.737112400757822,
          null
         ],
         "y": [
          40.41733007020507,
          40.378840354576816,
          null
         ]
        },
        {
         "hoverinfo": "text",
         "line": {
          "color": "rgba(253.01960784313727, 174.98039215686273, 97.92156862745098, 1.0)",
          "width": 6.956765389896047
         },
         "mode": "lines",
         "showlegend": false,
         "text": "Width: 6.96",
         "type": "scatter",
         "x": [
          -3.6966151949203576,
          -3.705268804063821,
          null
         ],
         "y": [
          40.398119933450886,
          40.41733007020507,
          null
         ]
        },
        {
         "hoverinfo": "text",
         "line": {
          "color": "rgba(254.11764705882354, 227.64705882352942, 149.52941176470588, 1.0)",
          "width": 5.891451147412368
         },
         "mode": "lines",
         "showlegend": false,
         "text": "Width: 5.89",
         "type": "scatter",
         "x": [
          -3.6966151949203576,
          -3.6966151949203576,
          null
         ],
         "y": [
          40.398119933450886,
          40.398119933450886,
          null
         ]
        },
        {
         "hoverinfo": "text",
         "line": {
          "color": "rgba(254.90196078431373, 251.9607843137255, 186.3921568627451, 1.0)",
          "width": 5.086721398750315
         },
         "mode": "lines",
         "showlegend": false,
         "text": "Width: 5.09",
         "type": "scatter",
         "x": [
          -3.6966151949203576,
          -3.67643837848883,
          null
         ],
         "y": [
          40.398119933450886,
          40.41138084576659,
          null
         ]
        },
        {
         "hoverinfo": "text",
         "line": {
          "color": "rgba(201.13725490196083, 231.7843137254902, 241.52941176470588, 1.0)",
          "width": 3.555997646333604
         },
         "mode": "lines",
         "showlegend": false,
         "text": "Width: 3.56",
         "type": "scatter",
         "x": [
          -3.6966151949203576,
          -3.757223268157654,
          null
         ],
         "y": [
          40.398119933450886,
          40.44543508494524,
          null
         ]
        },
        {
         "hoverinfo": "text",
         "line": {
          "color": "rgba(199.0588235294118, 230.76470588235296, 240.94117647058823, 1.0)",
          "width": 3.520972848776934
         },
         "mode": "lines",
         "showlegend": false,
         "text": "Width: 3.52",
         "type": "scatter",
         "x": [
          -3.6966151949203576,
          -3.778616540618283,
          null
         ],
         "y": [
          40.398119933450886,
          40.385273701511004,
          null
         ]
        },
        {
         "hoverinfo": "text",
         "line": {
          "color": "rgba(254.19607843137257, 230.07843137254906, 153.21568627450984, 1.0)",
          "width": 5.7894589369273435
         },
         "mode": "lines",
         "showlegend": false,
         "text": "Width: 5.79",
         "type": "scatter",
         "x": [
          -3.6966151949203576,
          -3.737112400757822,
          null
         ],
         "y": [
          40.398119933450886,
          40.378840354576816,
          null
         ]
        },
        {
         "hoverinfo": "text",
         "line": {
          "color": "rgba(254.19607843137257, 230.07843137254906, 153.21568627450984, 1.0)",
          "width": 5.801787665667293
         },
         "mode": "lines",
         "showlegend": false,
         "text": "Width: 5.80",
         "type": "scatter",
         "x": [
          -3.6966151949203576,
          -3.7029808755455926,
          null
         ],
         "y": [
          40.398119933450886,
          40.37595000318738,
          null
         ]
        },
        {
         "hoverinfo": "text",
         "line": {
          "color": "rgba(182.4313725490196, 222.6078431372549, 236.23529411764707, 1.0)",
          "width": 3.2298467314858916
         },
         "mode": "lines",
         "showlegend": false,
         "text": "Width: 3.23",
         "type": "scatter",
         "x": [
          -3.6966151949203576,
          -3.6598634715735407,
          null
         ],
         "y": [
          40.398119933450886,
          40.38355078734683,
          null
         ]
        },
        {
         "hoverinfo": "text",
         "line": {
          "color": "rgba(254.7058823529412, 245.88235294117646, 177.1764705882353, 1.0)",
          "width": 5.30303454846031
         },
         "mode": "lines",
         "showlegend": false,
         "text": "Width: 5.30",
         "type": "scatter",
         "x": [
          -3.67643837848883,
          -3.705268804063821,
          null
         ],
         "y": [
          40.41138084576659,
          40.41733007020507,
          null
         ]
        },
        {
         "hoverinfo": "text",
         "line": {
          "color": "rgba(233.72549019607845, 246.76470588235296, 230.11764705882348, 1.0)",
          "width": 4.331026366667601
         },
         "mode": "lines",
         "showlegend": false,
         "text": "Width: 4.33",
         "type": "scatter",
         "x": [
          -3.67643837848883,
          -3.6966151949203576,
          null
         ],
         "y": [
          40.41138084576659,
          40.398119933450886,
          null
         ]
        },
        {
         "hoverinfo": "text",
         "line": {
          "color": "rgba(254.58823529411765, 242.23529411764707, 171.64705882352942, 1.0)",
          "width": 5.414273305500294
         },
         "mode": "lines",
         "showlegend": false,
         "text": "Width: 5.41",
         "type": "scatter",
         "x": [
          -3.67643837848883,
          -3.67643837848883,
          null
         ],
         "y": [
          40.41138084576659,
          40.41138084576659,
          null
         ]
        },
        {
         "hoverinfo": "text",
         "line": {
          "color": "rgba(254.27450980392157, 232.50980392156862, 156.90196078431373, 1.0)",
          "width": 5.704278629269522
         },
         "mode": "lines",
         "showlegend": false,
         "text": "Width: 5.70",
         "type": "scatter",
         "x": [
          -3.67643837848883,
          -3.6737887354917422,
          null
         ],
         "y": [
          40.41138084576659,
          40.43018370922185,
          null
         ]
        },
        {
         "hoverinfo": "text",
         "line": {
          "color": "rgba(254.39215686274508, 236.15686274509804, 162.4313725490196, 1.0)",
          "width": 5.624141892459861
         },
         "mode": "lines",
         "showlegend": false,
         "text": "Width: 5.62",
         "type": "scatter",
         "x": [
          -3.67643837848883,
          -3.6598634715735407,
          null
         ],
         "y": [
          40.41138084576659,
          40.38355078734683,
          null
         ]
        },
        {
         "hoverinfo": "text",
         "line": {
          "color": "rgba(236.15686274509804, 247.7058823529412, 225.64705882352936, 1.0)",
          "width": 4.387626439519179
         },
         "mode": "lines",
         "showlegend": false,
         "text": "Width: 4.39",
         "type": "scatter",
         "x": [
          -3.67643837848883,
          -3.6413909394895803,
          null
         ],
         "y": [
          40.41138084576659,
          40.40661270611631,
          null
         ]
        },
        {
         "hoverinfo": "text",
         "line": {
          "color": "rgba(221.92156862745105, 241.98039215686276, 247.41176470588238, 1.0)",
          "width": 3.952758553055563
         },
         "mode": "lines",
         "showlegend": false,
         "text": "Width: 3.95",
         "type": "scatter",
         "x": [
          -3.6737887354917422,
          -3.705268804063821,
          null
         ],
         "y": [
          40.43018370922185,
          40.41733007020507,
          null
         ]
        },
        {
         "hoverinfo": "text",
         "line": {
          "color": "rgba(241.01960784313727, 249.58823529411765, 216.70588235294116, 1.0)",
          "width": 4.556305864552102
         },
         "mode": "lines",
         "showlegend": false,
         "text": "Width: 4.56",
         "type": "scatter",
         "x": [
          -3.6737887354917422,
          -3.67643837848883,
          null
         ],
         "y": [
          40.43018370922185,
          40.41138084576659,
          null
         ]
        },
        {
         "hoverinfo": "text",
         "line": {
          "color": "rgba(254.39215686274508, 236.15686274509804, 162.4313725490196, 1.0)",
          "width": 5.6104121718176465
         },
         "mode": "lines",
         "showlegend": false,
         "text": "Width: 5.61",
         "type": "scatter",
         "x": [
          -3.6737887354917422,
          -3.6737887354917422,
          null
         ],
         "y": [
          40.43018370922185,
          40.43018370922185,
          null
         ]
        },
        {
         "hoverinfo": "text",
         "line": {
          "color": "rgba(254.27450980392157, 232.50980392156862, 156.90196078431373, 1.0)",
          "width": 5.725853904564431
         },
         "mode": "lines",
         "showlegend": false,
         "text": "Width: 5.73",
         "type": "scatter",
         "x": [
          -3.6737887354917422,
          -3.678150006537061,
          null
         ],
         "y": [
          40.43018370922185,
          40.45750039357669,
          null
         ]
        },
        {
         "hoverinfo": "text",
         "line": {
          "color": "rgba(254.78431372549022, 248.31372549019608, 180.8627450980392, 1.0)",
          "width": 5.217293844041581
         },
         "mode": "lines",
         "showlegend": false,
         "text": "Width: 5.22",
         "type": "scatter",
         "x": [
          -3.6737887354917422,
          -3.703523951395161,
          null
         ],
         "y": [
          40.43018370922185,
          40.4375595509298,
          null
         ]
        },
        {
         "hoverinfo": "text",
         "line": {
          "color": "rgba(174.11764705882354, 218.52941176470588, 233.88235294117646, 1.0)",
          "width": 3.065650480540222
         },
         "mode": "lines",
         "showlegend": false,
         "text": "Width: 3.07",
         "type": "scatter",
         "x": [
          -3.6737887354917422,
          -3.6413909394895803,
          null
         ],
         "y": [
          40.43018370922185,
          40.40661270611631,
          null
         ]
        },
        {
         "hoverinfo": "text",
         "line": {
          "color": "rgba(254.27450980392157, 232.50980392156862, 156.90196078431373, 1.0)",
          "width": 5.73650144302166
         },
         "mode": "lines",
         "showlegend": false,
         "text": "Width: 5.74",
         "type": "scatter",
         "x": [
          -3.6737887354917422,
          -3.649948514601449,
          null
         ],
         "y": [
          40.43018370922185,
          40.43926990707227,
          null
         ]
        },
        {
         "hoverinfo": "text",
         "line": {
          "color": "rgba(253.33333333333334, 190.66666666666666, 112.66666666666666, 1.0)",
          "width": 6.675166017540418
         },
         "mode": "lines",
         "showlegend": false,
         "text": "Width: 6.68",
         "type": "scatter",
         "x": [
          -3.703523951395161,
          -3.705268804063821,
          null
         ],
         "y": [
          40.4375595509298,
          40.41733007020507,
          null
         ]
        },
        {
         "hoverinfo": "text",
         "line": {
          "color": "rgba(254.7450980392157, 247.09803921568627, 179.01960784313724, 1.0)",
          "width": 5.24307209504329
         },
         "mode": "lines",
         "showlegend": false,
         "text": "Width: 5.24",
         "type": "scatter",
         "x": [
          -3.703523951395161,
          -3.6737887354917422,
          null
         ],
         "y": [
          40.4375595509298,
          40.43018370922185,
          null
         ]
        },
        {
         "hoverinfo": "text",
         "line": {
          "color": "rgba(247.09803921568627, 251.94117647058823, 205.52941176470588, 1.0)",
          "width": 4.736473423183614
         },
         "mode": "lines",
         "showlegend": false,
         "text": "Width: 4.74",
         "type": "scatter",
         "x": [
          -3.703523951395161,
          -3.678150006537061,
          null
         ],
         "y": [
          40.4375595509298,
          40.45750039357669,
          null
         ]
        },
        {
         "hoverinfo": "text",
         "line": {
          "color": "rgba(254.66666666666666, 244.66666666666669, 175.33333333333334, 1.0)",
          "width": 5.321807839950685
         },
         "mode": "lines",
         "showlegend": false,
         "text": "Width: 5.32",
         "type": "scatter",
         "x": [
          -3.703523951395161,
          -3.6999935507976827,
          null
         ],
         "y": [
          40.4375595509298,
          40.4606484776773,
          null
         ]
        },
        {
         "hoverinfo": "text",
         "line": {
          "color": "rgba(254.27450980392157, 232.50980392156862, 156.90196078431373, 1.0)",
          "width": 5.728936086749418
         },
         "mode": "lines",
         "showlegend": false,
         "text": "Width: 5.73",
         "type": "scatter",
         "x": [
          -3.703523951395161,
          -3.703523951395161,
          null
         ],
         "y": [
          40.4375595509298,
          40.4375595509298,
          null
         ]
        },
        {
         "hoverinfo": "text",
         "line": {
          "color": "rgba(254.54901960784312, 241.01960784313727, 169.80392156862746, 1.0)",
          "width": 5.435288184034295
         },
         "mode": "lines",
         "showlegend": false,
         "text": "Width: 5.44",
         "type": "scatter",
         "x": [
          -3.703523951395161,
          -3.757223268157654,
          null
         ],
         "y": [
          40.4375595509298,
          40.44543508494524,
          null
         ]
        },
        {
         "hoverinfo": "text",
         "line": {
          "color": "rgba(253.921568627451, 220.07843137254903, 140.31372549019608, 1.0)",
          "width": 6.05508700159713
         },
         "mode": "lines",
         "showlegend": false,
         "text": "Width: 6.06",
         "type": "scatter",
         "x": [
          -3.757223268157654,
          -3.705268804063821,
          null
         ],
         "y": [
          40.44543508494524,
          40.41733007020507,
          null
         ]
        },
        {
         "hoverinfo": "text",
         "line": {
          "color": "rgba(254.39215686274508, 236.15686274509804, 162.4313725490196, 1.0)",
          "width": 5.6106923701981
         },
         "mode": "lines",
         "showlegend": false,
         "text": "Width: 5.61",
         "type": "scatter",
         "x": [
          -3.757223268157654,
          -3.6999935507976827,
          null
         ],
         "y": [
          40.44543508494524,
          40.4606484776773,
          null
         ]
        },
        {
         "hoverinfo": "text",
         "line": {
          "color": "rgba(253.41176470588235, 194.58823529411762, 116.35294117647058, 1.0)",
          "width": 6.582140155229903
         },
         "mode": "lines",
         "showlegend": false,
         "text": "Width: 6.58",
         "type": "scatter",
         "x": [
          -3.757223268157654,
          -3.703523951395161,
          null
         ],
         "y": [
          40.44543508494524,
          40.4375595509298,
          null
         ]
        },
        {
         "hoverinfo": "text",
         "line": {
          "color": "rgba(253.41176470588235, 194.58823529411762, 116.35294117647058, 1.0)",
          "width": 6.572613410294489
         },
         "mode": "lines",
         "showlegend": false,
         "text": "Width: 6.57",
         "type": "scatter",
         "x": [
          -3.757223268157654,
          -3.753579560856663,
          null
         ],
         "y": [
          40.44543508494524,
          40.54479435831404,
          null
         ]
        },
        {
         "hoverinfo": "text",
         "line": {
          "color": "rgba(245.41176470588235, 119.19607843137254, 71.70588235294117, 1.0)",
          "width": 7.848917033259548
         },
         "mode": "lines",
         "showlegend": false,
         "text": "Width: 7.85",
         "type": "scatter",
         "x": [
          -3.757223268157654,
          -3.757223268157654,
          null
         ],
         "y": [
          40.44543508494524,
          40.44543508494524,
          null
         ]
        },
        {
         "hoverinfo": "text",
         "line": {
          "color": "rgba(254.27450980392157, 232.50980392156862, 156.90196078431373, 1.0)",
          "width": 5.733979657597579
         },
         "mode": "lines",
         "showlegend": false,
         "text": "Width: 5.73",
         "type": "scatter",
         "x": [
          -3.757223268157654,
          -3.778616540618283,
          null
         ],
         "y": [
          40.44543508494524,
          40.385273701511004,
          null
         ]
        },
        {
         "hoverinfo": "text",
         "line": {
          "color": "rgba(253.49019607843138, 198.50980392156865, 120.0392156862745, 1.0)",
          "width": 6.510969766594748
         },
         "mode": "lines",
         "showlegend": false,
         "text": "Width: 6.51",
         "type": "scatter",
         "x": [
          -3.778616540618283,
          -3.705268804063821,
          null
         ],
         "y": [
          40.385273701511004,
          40.41733007020507,
          null
         ]
        },
        {
         "hoverinfo": "text",
         "line": {
          "color": "rgba(249.52941176470588, 252.88235294117646, 201.05882352941174, 1.0)",
          "width": 4.812407184286474
         },
         "mode": "lines",
         "showlegend": false,
         "text": "Width: 4.81",
         "type": "scatter",
         "x": [
          -3.778616540618283,
          -3.6966151949203576,
          null
         ],
         "y": [
          40.385273701511004,
          40.398119933450886,
          null
         ]
        },
        {
         "hoverinfo": "text",
         "line": {
          "color": "rgba(192.82352941176475, 227.70588235294116, 239.1764705882353, 1.0)",
          "width": 3.4273865897055114
         },
         "mode": "lines",
         "showlegend": false,
         "text": "Width: 3.43",
         "type": "scatter",
         "x": [
          -3.778616540618283,
          -3.6737887354917422,
          null
         ],
         "y": [
          40.385273701511004,
          40.43018370922185,
          null
         ]
        },
        {
         "hoverinfo": "text",
         "line": {
          "color": "rgba(199.0588235294118, 230.76470588235296, 240.94117647058823, 1.0)",
          "width": 3.525175824483734
         },
         "mode": "lines",
         "showlegend": false,
         "text": "Width: 3.53",
         "type": "scatter",
         "x": [
          -3.778616540618283,
          -3.678150006537061,
          null
         ],
         "y": [
          40.385273701511004,
          40.45750039357669,
          null
         ]
        },
        {
         "hoverinfo": "text",
         "line": {
          "color": "rgba(165.6078431372549, 212.68627450980392, 230.64705882352942, 1.0)",
          "width": 2.9098601810081535
         },
         "mode": "lines",
         "showlegend": false,
         "text": "Width: 2.91",
         "type": "scatter",
         "x": [
          -3.778616540618283,
          -3.6999935507976827,
          null
         ],
         "y": [
          40.385273701511004,
          40.4606484776773,
          null
         ]
        },
        {
         "hoverinfo": "text",
         "line": {
          "color": "rgba(221.92156862745105, 241.98039215686276, 247.41176470588238, 1.0)",
          "width": 3.9642466866541506
         },
         "mode": "lines",
         "showlegend": false,
         "text": "Width: 3.96",
         "type": "scatter",
         "x": [
          -3.778616540618283,
          -3.703523951395161,
          null
         ],
         "y": [
          40.385273701511004,
          40.4375595509298,
          null
         ]
        },
        {
         "hoverinfo": "text",
         "line": {
          "color": "rgba(167.76470588235296, 214.41176470588235, 231.58823529411765, 1.0)",
          "width": 2.9633780716747458
         },
         "mode": "lines",
         "showlegend": false,
         "text": "Width: 2.96",
         "type": "scatter",
         "x": [
          -3.778616540618283,
          -3.753579560856663,
          null
         ],
         "y": [
          40.385273701511004,
          40.54479435831404,
          null
         ]
        },
        {
         "hoverinfo": "text",
         "line": {
          "color": "rgba(247.52941176470588, 134.49019607843138, 78.76470588235296, 1.0)",
          "width": 7.582168175067948
         },
         "mode": "lines",
         "showlegend": false,
         "text": "Width: 7.58",
         "type": "scatter",
         "x": [
          -3.778616540618283,
          -3.757223268157654,
          null
         ],
         "y": [
          40.385273701511004,
          40.44543508494524,
          null
         ]
        },
        {
         "hoverinfo": "text",
         "line": {
          "color": "rgba(230.3529411764706, 80.29411764705883, 53.82352941176471, 1.0)",
          "width": 8.447140575527472
         },
         "mode": "lines",
         "showlegend": false,
         "text": "Width: 8.45",
         "type": "scatter",
         "x": [
          -3.778616540618283,
          -3.778616540618283,
          null
         ],
         "y": [
          40.385273701511004,
          40.385273701511004,
          null
         ]
        },
        {
         "hoverinfo": "text",
         "line": {
          "color": "rgba(245.05882352941177, 116.64705882352942, 70.52941176470588, 1.0)",
          "width": 7.86909131665219
         },
         "mode": "lines",
         "showlegend": false,
         "text": "Width: 7.87",
         "type": "scatter",
         "x": [
          -3.778616540618283,
          -3.737112400757822,
          null
         ],
         "y": [
          40.385273701511004,
          40.378840354576816,
          null
         ]
        },
        {
         "hoverinfo": "text",
         "line": {
          "color": "rgba(254.94117647058823, 253.1764705882353, 188.23529411764707, 1.0)",
          "width": 5.0718708845862865
         },
         "mode": "lines",
         "showlegend": false,
         "text": "Width: 5.07",
         "type": "scatter",
         "x": [
          -3.737112400757822,
          -3.705268804063821,
          null
         ],
         "y": [
          40.378840354576816,
          40.41733007020507,
          null
         ]
        },
        {
         "hoverinfo": "text",
         "line": {
          "color": "rgba(253.41176470588235, 194.58823529411762, 116.35294117647058, 1.0)",
          "width": 6.582980750371263
         },
         "mode": "lines",
         "showlegend": false,
         "text": "Width: 6.58",
         "type": "scatter",
         "x": [
          -3.737112400757822,
          -3.6966151949203576,
          null
         ],
         "y": [
          40.378840354576816,
          40.398119933450886,
          null
         ]
        },
        {
         "hoverinfo": "text",
         "line": {
          "color": "rgba(165.6078431372549, 212.68627450980392, 230.64705882352942, 1.0)",
          "width": 2.919386925943568
         },
         "mode": "lines",
         "showlegend": false,
         "text": "Width: 2.92",
         "type": "scatter",
         "x": [
          -3.737112400757822,
          -3.6737887354917422,
          null
         ],
         "y": [
          40.378840354576816,
          40.43018370922185,
          null
         ]
        },
        {
         "hoverinfo": "text",
         "line": {
          "color": "rgba(184.50980392156865, 223.62745098039218, 236.82352941176472, 1.0)",
          "width": 3.2430160553671996
         },
         "mode": "lines",
         "showlegend": false,
         "text": "Width: 3.24",
         "type": "scatter",
         "x": [
          -3.737112400757822,
          -3.678150006537061,
          null
         ],
         "y": [
          40.378840354576816,
          40.45750039357669,
          null
         ]
        },
        {
         "hoverinfo": "text",
         "line": {
          "color": "rgba(176.19607843137257, 219.54901960784315, 234.47058823529412, 1.0)",
          "width": 3.101235674857799
         },
         "mode": "lines",
         "showlegend": false,
         "text": "Width: 3.10",
         "type": "scatter",
         "x": [
          -3.737112400757822,
          -3.703523951395161,
          null
         ],
         "y": [
          40.378840354576816,
          40.4375595509298,
          null
         ]
        },
        {
         "hoverinfo": "text",
         "line": {
          "color": "rgba(199.0588235294118, 230.76470588235296, 240.94117647058823, 1.0)",
          "width": 3.5492728852027233
         },
         "mode": "lines",
         "showlegend": false,
         "text": "Width: 3.55",
         "type": "scatter",
         "x": [
          -3.737112400757822,
          -3.757223268157654,
          null
         ],
         "y": [
          40.378840354576816,
          40.44543508494524,
          null
         ]
        },
        {
         "hoverinfo": "text",
         "line": {
          "color": "rgba(248.58823529411765, 142.13725490196077, 82.29411764705883, 1.0)",
          "width": 7.47148981478887
         },
         "mode": "lines",
         "showlegend": false,
         "text": "Width: 7.47",
         "type": "scatter",
         "x": [
          -3.737112400757822,
          -3.778616540618283,
          null
         ],
         "y": [
          40.378840354576816,
          40.385273701511004,
          null
         ]
        },
        {
         "hoverinfo": "text",
         "line": {
          "color": "rgba(228.07843137254903, 75.50980392156862, 51.62745098039216, 1.0)",
          "width": 8.55277536495839
         },
         "mode": "lines",
         "showlegend": false,
         "text": "Width: 8.55",
         "type": "scatter",
         "x": [
          -3.737112400757822,
          -3.737112400757822,
          null
         ],
         "y": [
          40.378840354576816,
          40.378840354576816,
          null
         ]
        },
        {
         "hoverinfo": "text",
         "line": {
          "color": "rgba(252.11764705882354, 167.62745098039218, 94.05882352941177, 1.0)",
          "width": 7.096864580122727
         },
         "mode": "lines",
         "showlegend": false,
         "text": "Width: 7.10",
         "type": "scatter",
         "x": [
          -3.737112400757822,
          -3.7029808755455926,
          null
         ],
         "y": [
          40.378840354576816,
          40.37595000318738,
          null
         ]
        },
        {
         "hoverinfo": "text",
         "line": {
          "color": "rgba(184.50980392156865, 223.62745098039218, 236.82352941176472, 1.0)",
          "width": 3.2729972820757096
         },
         "mode": "lines",
         "showlegend": false,
         "text": "Width: 3.27",
         "type": "scatter",
         "x": [
          -3.737112400757822,
          -3.695056256825152,
          null
         ],
         "y": [
          40.378840354576816,
          40.34253624126977,
          null
         ]
        },
        {
         "hoverinfo": "text",
         "line": {
          "color": "rgba(207.37254901960787, 234.843137254902, 243.2941176470588, 1.0)",
          "width": 3.677323545069909
         },
         "mode": "lines",
         "showlegend": false,
         "text": "Width: 3.68",
         "type": "scatter",
         "x": [
          -3.7029808755455926,
          -3.705268804063821,
          null
         ],
         "y": [
          40.37595000318738,
          40.41733007020507,
          null
         ]
        },
        {
         "hoverinfo": "text",
         "line": {
          "color": "rgba(253.68627450980392, 208.31372549019608, 129.2549019607843, 1.0)",
          "width": 6.306144750483342
         },
         "mode": "lines",
         "showlegend": false,
         "text": "Width: 6.31",
         "type": "scatter",
         "x": [
          -3.7029808755455926,
          -3.6966151949203576,
          null
         ],
         "y": [
          40.37595000318738,
          40.398119933450886,
          null
         ]
        },
        {
         "hoverinfo": "text",
         "line": {
          "color": "rgba(253.45098039215688, 196.54901960784312, 118.19607843137254, 1.0)",
          "width": 6.5569223009891
         },
         "mode": "lines",
         "showlegend": false,
         "text": "Width: 6.56",
         "type": "scatter",
         "x": [
          -3.7029808755455926,
          -3.737112400757822,
          null
         ],
         "y": [
          40.37595000318738,
          40.378840354576816,
          null
         ]
        },
        {
         "hoverinfo": "text",
         "line": {
          "color": "rgba(253.2549019607843, 186.74509803921566, 108.98039215686275, 1.0)",
          "width": 6.728123511446103
         },
         "mode": "lines",
         "showlegend": false,
         "text": "Width: 6.73",
         "type": "scatter",
         "x": [
          -3.7029808755455926,
          -3.7029808755455926,
          null
         ],
         "y": [
          40.37595000318738,
          40.37595000318738,
          null
         ]
        },
        {
         "hoverinfo": "text",
         "line": {
          "color": "rgba(239.80392156862746, 249.11764705882354, 218.9411764705882, 1.0)",
          "width": 4.513995909103645
         },
         "mode": "lines",
         "showlegend": false,
         "text": "Width: 4.51",
         "type": "scatter",
         "x": [
          -3.7029808755455926,
          -3.6598634715735407,
          null
         ],
         "y": [
          40.37595000318738,
          40.38355078734683,
          null
         ]
        },
        {
         "hoverinfo": "text",
         "line": {
          "color": "rgba(253.921568627451, 220.07843137254903, 140.31372549019608, 1.0)",
          "width": 6.065734540054358
         },
         "mode": "lines",
         "showlegend": false,
         "text": "Width: 6.07",
         "type": "scatter",
         "x": [
          -3.7029808755455926,
          -3.695056256825152,
          null
         ],
         "y": [
          40.37595000318738,
          40.34253624126977,
          null
         ]
        },
        {
         "hoverinfo": "text",
         "line": {
          "color": "rgba(199.0588235294118, 230.76470588235296, 240.94117647058823, 1.0)",
          "width": 3.55151447224635
         },
         "mode": "lines",
         "showlegend": false,
         "text": "Width: 3.55",
         "type": "scatter",
         "x": [
          -3.6598634715735407,
          -3.705268804063821,
          null
         ],
         "y": [
          40.38355078734683,
          40.41733007020507,
          null
         ]
        },
        {
         "hoverinfo": "text",
         "line": {
          "color": "rgba(254.27450980392157, 232.50980392156862, 156.90196078431373, 1.0)",
          "width": 5.718008349911737
         },
         "mode": "lines",
         "showlegend": false,
         "text": "Width: 5.72",
         "type": "scatter",
         "x": [
          -3.6598634715735407,
          -3.6966151949203576,
          null
         ],
         "y": [
          40.38355078734683,
          40.398119933450886,
          null
         ]
        },
        {
         "hoverinfo": "text",
         "line": {
          "color": "rgba(250.35294117647058, 154.88235294117646, 88.17647058823529, 1.0)",
          "width": 7.274230154949704
         },
         "mode": "lines",
         "showlegend": false,
         "text": "Width: 7.27",
         "type": "scatter",
         "x": [
          -3.6598634715735407,
          -3.67643837848883,
          null
         ],
         "y": [
          40.38355078734683,
          40.41138084576659,
          null
         ]
        },
        {
         "hoverinfo": "text",
         "line": {
          "color": "rgba(199.0588235294118, 230.76470588235296, 240.94117647058823, 1.0)",
          "width": 3.521253047157387
         },
         "mode": "lines",
         "showlegend": false,
         "text": "Width: 3.52",
         "type": "scatter",
         "x": [
          -3.6598634715735407,
          -3.6737887354917422,
          null
         ],
         "y": [
          40.38355078734683,
          40.43018370922185,
          null
         ]
        },
        {
         "hoverinfo": "text",
         "line": {
          "color": "rgba(167.76470588235296, 214.41176470588235, 231.58823529411765, 1.0)",
          "width": 2.949648351032531
         },
         "mode": "lines",
         "showlegend": false,
         "text": "Width: 2.95",
         "type": "scatter",
         "x": [
          -3.6598634715735407,
          -3.678150006537061,
          null
         ],
         "y": [
          40.38355078734683,
          40.45750039357669,
          null
         ]
        },
        {
         "hoverinfo": "text",
         "line": {
          "color": "rgba(161.29411764705884, 209.23529411764707, 228.76470588235296, 1.0)",
          "width": 2.8459749502647873
         },
         "mode": "lines",
         "showlegend": false,
         "text": "Width: 2.85",
         "type": "scatter",
         "x": [
          -3.6598634715735407,
          -3.703523951395161,
          null
         ],
         "y": [
          40.38355078734683,
          40.4375595509298,
          null
         ]
        },
        {
         "hoverinfo": "text",
         "line": {
          "color": "rgba(165.6078431372549, 212.68627450980392, 230.64705882352942, 1.0)",
          "width": 2.9025750231163663
         },
         "mode": "lines",
         "showlegend": false,
         "text": "Width: 2.90",
         "type": "scatter",
         "x": [
          -3.6598634715735407,
          -3.757223268157654,
          null
         ],
         "y": [
          40.38355078734683,
          40.44543508494524,
          null
         ]
        },
        {
         "hoverinfo": "text",
         "line": {
          "color": "rgba(254.3529411764706, 234.94117647058823, 160.58823529411765, 1.0)",
          "width": 5.631987447112555
         },
         "mode": "lines",
         "showlegend": false,
         "text": "Width: 5.63",
         "type": "scatter",
         "x": [
          -3.6598634715735407,
          -3.7029808755455926,
          null
         ],
         "y": [
          40.38355078734683,
          40.37595000318738,
          null
         ]
        },
        {
         "hoverinfo": "text",
         "line": {
          "color": "rgba(229.2156862745098, 77.90196078431373, 52.72549019607843, 1.0)",
          "width": 8.489730729356383
         },
         "mode": "lines",
         "showlegend": false,
         "text": "Width: 8.49",
         "type": "scatter",
         "x": [
          -3.6598634715735407,
          -3.6598634715735407,
          null
         ],
         "y": [
          40.38355078734683,
          40.38355078734683,
          null
         ]
        },
        {
         "hoverinfo": "text",
         "line": {
          "color": "rgba(253.921568627451, 220.07843137254903, 140.31372549019608, 1.0)",
          "width": 6.088710807251534
         },
         "mode": "lines",
         "showlegend": false,
         "text": "Width: 6.09",
         "type": "scatter",
         "x": [
          -3.6598634715735407,
          -3.6413909394895803,
          null
         ],
         "y": [
          40.38355078734683,
          40.40661270611631,
          null
         ]
        },
        {
         "hoverinfo": "text",
         "line": {
          "color": "rgba(161.29411764705884, 209.23529411764707, 228.76470588235296, 1.0)",
          "width": 2.8319650312421194
         },
         "mode": "lines",
         "showlegend": false,
         "text": "Width: 2.83",
         "type": "scatter",
         "x": [
          -3.6598634715735407,
          -3.649948514601449,
          null
         ],
         "y": [
          40.38355078734683,
          40.43926990707227,
          null
         ]
        },
        {
         "hoverinfo": "text",
         "line": {
          "color": "rgba(242.23529411764707, 250.05882352941177, 214.4705882352941, 1.0)",
          "width": 4.595533637815573
         },
         "mode": "lines",
         "showlegend": false,
         "text": "Width: 4.60",
         "type": "scatter",
         "x": [
          -3.6598634715735407,
          -3.695056256825152,
          null
         ],
         "y": [
          40.38355078734683,
          40.34253624126977,
          null
         ]
        },
        {
         "hoverinfo": "text",
         "line": {
          "color": "rgba(247.8823529411765, 137.03921568627453, 79.94117647058825, 1.0)",
          "width": 7.567037462523467
         },
         "mode": "lines",
         "showlegend": false,
         "text": "Width: 7.57",
         "type": "scatter",
         "x": [
          -3.6598634715735407,
          -3.6160073912284756,
          null
         ],
         "y": [
          40.38355078734683,
          40.34992967757026,
          null
         ]
        },
        {
         "hoverinfo": "text",
         "line": {
          "color": "rgba(241.01960784313727, 249.58823529411765, 216.70588235294116, 1.0)",
          "width": 4.554904872649836
         },
         "mode": "lines",
         "showlegend": false,
         "text": "Width: 4.55",
         "type": "scatter",
         "x": [
          -3.6598634715735407,
          -3.572894771748725,
          null
         ],
         "y": [
          40.38355078734683,
          40.39356859265691,
          null
         ]
        },
        {
         "hoverinfo": "text",
         "line": {
          "color": "rgba(254.4313725490196, 237.37254901960785, 164.27450980392155, 1.0)",
          "width": 5.576788366163243
         },
         "mode": "lines",
         "showlegend": false,
         "text": "Width: 5.58",
         "type": "scatter",
         "x": [
          -3.6413909394895803,
          -3.67643837848883,
          null
         ],
         "y": [
          40.40661270611631,
          40.41138084576659,
          null
         ]
        },
        {
         "hoverinfo": "text",
         "line": {
          "color": "rgba(248.31372549019608, 252.41176470588232, 203.29411764705884, 1.0)",
          "width": 4.791952702513379
         },
         "mode": "lines",
         "showlegend": false,
         "text": "Width: 4.79",
         "type": "scatter",
         "x": [
          -3.6413909394895803,
          -3.6737887354917422,
          null
         ],
         "y": [
          40.40661270611631,
          40.43018370922185,
          null
         ]
        },
        {
         "hoverinfo": "text",
         "line": {
          "color": "rgba(253.96078431372547, 222.0392156862745, 142.15686274509804, 1.0)",
          "width": 6.046400851803076
         },
         "mode": "lines",
         "showlegend": false,
         "text": "Width: 6.05",
         "type": "scatter",
         "x": [
          -3.6413909394895803,
          -3.6598634715735407,
          null
         ],
         "y": [
          40.40661270611631,
          40.38355078734683,
          null
         ]
        },
        {
         "hoverinfo": "text",
         "line": {
          "color": "rgba(254.66666666666666, 244.66666666666669, 175.33333333333334, 1.0)",
          "width": 5.31732466586343
         },
         "mode": "lines",
         "showlegend": false,
         "text": "Width: 5.32",
         "type": "scatter",
         "x": [
          -3.6413909394895803,
          -3.6413909394895803,
          null
         ],
         "y": [
          40.40661270611631,
          40.40661270611631,
          null
         ]
        },
        {
         "hoverinfo": "text",
         "line": {
          "color": "rgba(250.7450980392157, 253.3529411764706, 198.8235294117647, 1.0)",
          "width": 4.8592003138221855
         },
         "mode": "lines",
         "showlegend": false,
         "text": "Width: 4.86",
         "type": "scatter",
         "x": [
          -3.6413909394895803,
          -3.649948514601449,
          null
         ],
         "y": [
          40.40661270611631,
          40.43926990707227,
          null
         ]
        },
        {
         "hoverinfo": "text",
         "line": {
          "color": "rgba(161.29411764705884, 209.23529411764707, 228.76470588235296, 1.0)",
          "width": 2.8470957437866007
         },
         "mode": "lines",
         "showlegend": false,
         "text": "Width: 2.85",
         "type": "scatter",
         "x": [
          -3.6413909394895803,
          -3.6160073912284756,
          null
         ],
         "y": [
          40.40661270611631,
          40.34992967757026,
          null
         ]
        },
        {
         "hoverinfo": "text",
         "line": {
          "color": "rgba(231.29411764705884, 245.8235294117647, 234.5882352941176, 1.0)",
          "width": 4.232676735128471
         },
         "mode": "lines",
         "showlegend": false,
         "text": "Width: 4.23",
         "type": "scatter",
         "x": [
          -3.6413909394895803,
          -3.572894771748725,
          null
         ],
         "y": [
          40.40661270611631,
          40.39356859265691,
          null
         ]
        },
        {
         "hoverinfo": "text",
         "line": {
          "color": "rgba(192.82352941176475, 227.70588235294116, 239.1764705882353, 1.0)",
          "width": 3.421222225335537
         },
         "mode": "lines",
         "showlegend": false,
         "text": "Width: 3.42",
         "type": "scatter",
         "x": [
          -3.6413909394895803,
          -3.5986526886701378,
          null
         ],
         "y": [
          40.40661270611631,
          40.43466852782298,
          null
         ]
        },
        {
         "hoverinfo": "text",
         "line": {
          "color": "rgba(254.07843137254903, 226.4313725490196, 147.68627450980392, 1.0)",
          "width": 5.922833366023144
         },
         "mode": "lines",
         "showlegend": false,
         "text": "Width: 5.92",
         "type": "scatter",
         "x": [
          -3.678150006537061,
          -3.6737887354917422,
          null
         ],
         "y": [
          40.45750039357669,
          40.43018370922185,
          null
         ]
        },
        {
         "hoverinfo": "text",
         "line": {
          "color": "rgba(253.13725490196077, 180.8627450980392, 103.45098039215685, 1.0)",
          "width": 6.839362268486087
         },
         "mode": "lines",
         "showlegend": false,
         "text": "Width: 6.84",
         "type": "scatter",
         "x": [
          -3.678150006537061,
          -3.678150006537061,
          null
         ],
         "y": [
          40.45750039357669,
          40.45750039357669,
          null
         ]
        },
        {
         "hoverinfo": "text",
         "line": {
          "color": "rgba(254.98039215686273, 254.39215686274508, 190.07843137254903, 1.0)",
          "width": 5.016391605256521
         },
         "mode": "lines",
         "showlegend": false,
         "text": "Width: 5.02",
         "type": "scatter",
         "x": [
          -3.678150006537061,
          -3.6999935507976827,
          null
         ],
         "y": [
          40.45750039357669,
          40.4606484776773,
          null
         ]
        },
        {
         "hoverinfo": "text",
         "line": {
          "color": "rgba(251.9607843137255, 253.8235294117647, 196.58823529411762, 1.0)",
          "width": 4.920843957521925
         },
         "mode": "lines",
         "showlegend": false,
         "text": "Width: 4.92",
         "type": "scatter",
         "x": [
          -3.678150006537061,
          -3.703523951395161,
          null
         ],
         "y": [
          40.45750039357669,
          40.4375595509298,
          null
         ]
        },
        {
         "hoverinfo": "text",
         "line": {
          "color": "rgba(254.58823529411765, 242.23529411764707, 171.64705882352942, 1.0)",
          "width": 5.425201042337974
         },
         "mode": "lines",
         "showlegend": false,
         "text": "Width: 5.43",
         "type": "scatter",
         "x": [
          -3.678150006537061,
          -3.753579560856663,
          null
         ],
         "y": [
          40.45750039357669,
          40.54479435831404,
          null
         ]
        },
        {
         "hoverinfo": "text",
         "line": {
          "color": "rgba(254.62745098039215, 243.45098039215685, 173.49019607843138, 1.0)",
          "width": 5.379248507943624
         },
         "mode": "lines",
         "showlegend": false,
         "text": "Width: 5.38",
         "type": "scatter",
         "x": [
          -3.678150006537061,
          -3.649948514601449,
          null
         ],
         "y": [
          40.45750039357669,
          40.43926990707227,
          null
         ]
        },
        {
         "hoverinfo": "text",
         "line": {
          "color": "rgba(247.09803921568627, 251.94117647058823, 205.52941176470588, 1.0)",
          "width": 4.730309058813639
         },
         "mode": "lines",
         "showlegend": false,
         "text": "Width: 4.73",
         "type": "scatter",
         "x": [
          -3.678150006537061,
          -3.637741035389707,
          null
         ],
         "y": [
          40.45750039357669,
          40.48201214532898,
          null
         ]
        },
        {
         "hoverinfo": "text",
         "line": {
          "color": "rgba(169.921568627451, 216.1372549019608, 232.52941176470588, 1.0)",
          "width": 2.9715038247078933
         },
         "mode": "lines",
         "showlegend": false,
         "text": "Width: 2.97",
         "type": "scatter",
         "x": [
          -3.649948514601449,
          -3.705268804063821,
          null
         ],
         "y": [
          40.43926990707227,
          40.41733007020507,
          null
         ]
        },
        {
         "hoverinfo": "text",
         "line": {
          "color": "rgba(234.94117647058826, 247.23529411764704, 227.8823529411764, 1.0)",
          "width": 4.358766006332483
         },
         "mode": "lines",
         "showlegend": false,
         "text": "Width: 4.36",
         "type": "scatter",
         "x": [
          -3.649948514601449,
          -3.67643837848883,
          null
         ],
         "y": [
          40.43926990707227,
          40.41138084576659,
          null
         ]
        },
        {
         "hoverinfo": "text",
         "line": {
          "color": "rgba(245.76470588235296, 121.74509803921568, 72.88235294117646, 1.0)",
          "width": 7.799882316680209
         },
         "mode": "lines",
         "showlegend": false,
         "text": "Width: 7.80",
         "type": "scatter",
         "x": [
          -3.649948514601449,
          -3.6737887354917422,
          null
         ],
         "y": [
          40.43926990707227,
          40.43018370922185,
          null
         ]
        },
        {
         "hoverinfo": "text",
         "line": {
          "color": "rgba(253.1764705882353, 182.8235294117647, 105.29411764705881, 1.0)",
          "width": 6.8236711591807
         },
         "mode": "lines",
         "showlegend": false,
         "text": "Width: 6.82",
         "type": "scatter",
         "x": [
          -3.649948514601449,
          -3.678150006537061,
          null
         ],
         "y": [
          40.43926990707227,
          40.45750039357669,
          null
         ]
        },
        {
         "hoverinfo": "text",
         "line": {
          "color": "rgba(161.29411764705884, 209.23529411764707, 228.76470588235296, 1.0)",
          "width": 2.844854156742974
         },
         "mode": "lines",
         "showlegend": false,
         "text": "Width: 2.84",
         "type": "scatter",
         "x": [
          -3.649948514601449,
          -3.703523951395161,
          null
         ],
         "y": [
          40.43926990707227,
          40.4375595509298,
          null
         ]
        },
        {
         "hoverinfo": "text",
         "line": {
          "color": "rgba(215.68627450980395, 238.921568627451, 245.64705882352942, 1.0)",
          "width": 3.8661772534954744
         },
         "mode": "lines",
         "showlegend": false,
         "text": "Width: 3.87",
         "type": "scatter",
         "x": [
          -3.649948514601449,
          -3.753579560856663,
          null
         ],
         "y": [
          40.43926990707227,
          40.54479435831404,
          null
         ]
        },
        {
         "hoverinfo": "text",
         "line": {
          "color": "rgba(254.0, 224.0, 144.0, 1.0)",
          "width": 6.014458236431393
         },
         "mode": "lines",
         "showlegend": false,
         "text": "Width: 6.01",
         "type": "scatter",
         "x": [
          -3.649948514601449,
          -3.6413909394895803,
          null
         ],
         "y": [
          40.43926990707227,
          40.40661270611631,
          null
         ]
        },
        {
         "hoverinfo": "text",
         "line": {
          "color": "rgba(247.1764705882353, 131.94117647058823, 77.58823529411764, 1.0)",
          "width": 7.63736725601726
         },
         "mode": "lines",
         "showlegend": false,
         "text": "Width: 7.64",
         "type": "scatter",
         "x": [
          -3.649948514601449,
          -3.649948514601449,
          null
         ],
         "y": [
          40.43926990707227,
          40.43926990707227,
          null
         ]
        },
        {
         "hoverinfo": "text",
         "line": {
          "color": "rgba(254.23529411764704, 231.29411764705884, 155.05882352941177, 1.0)",
          "width": 5.742946005772087
         },
         "mode": "lines",
         "showlegend": false,
         "text": "Width: 5.74",
         "type": "scatter",
         "x": [
          -3.649948514601449,
          -3.637741035389707,
          null
         ],
         "y": [
          40.43926990707227,
          40.48201214532898,
          null
         ]
        },
        {
         "hoverinfo": "text",
         "line": {
          "color": "rgba(182.4313725490196, 222.6078431372549, 236.23529411764707, 1.0)",
          "width": 3.2329289136708788
         },
         "mode": "lines",
         "showlegend": false,
         "text": "Width: 3.23",
         "type": "scatter",
         "x": [
          -3.649948514601449,
          -3.572894771748725,
          null
         ],
         "y": [
          40.43926990707227,
          40.39356859265691,
          null
         ]
        },
        {
         "hoverinfo": "text",
         "line": {
          "color": "rgba(250.7058823529412, 157.4313725490196, 89.3529411764706, 1.0)",
          "width": 7.265263806775197
         },
         "mode": "lines",
         "showlegend": false,
         "text": "Width: 7.27",
         "type": "scatter",
         "x": [
          -3.649948514601449,
          -3.5986526886701378,
          null
         ],
         "y": [
          40.43926990707227,
          40.43466852782298,
          null
         ]
        },
        {
         "hoverinfo": "text",
         "line": {
          "color": "rgba(167.76470588235296, 214.41176470588235, 231.58823529411765, 1.0)",
          "width": 2.9356384320098625
         },
         "mode": "lines",
         "showlegend": false,
         "text": "Width: 2.94",
         "type": "scatter",
         "x": [
          -3.6999935507976827,
          -3.705268804063821,
          null
         ],
         "y": [
          40.4606484776773,
          40.41733007020507,
          null
         ]
        },
        {
         "hoverinfo": "text",
         "line": {
          "color": "rgba(156.98039215686276, 205.78431372549022, 226.88235294117646, 1.0)",
          "width": 2.7380985737902432
         },
         "mode": "lines",
         "showlegend": false,
         "text": "Width: 2.74",
         "type": "scatter",
         "x": [
          -3.6999935507976827,
          -3.6737887354917422,
          null
         ],
         "y": [
          40.4606484776773,
          40.43018370922185,
          null
         ]
        },
        {
         "hoverinfo": "text",
         "line": {
          "color": "rgba(253.68627450980392, 208.31372549019608, 129.2549019607843, 1.0)",
          "width": 6.299139790972008
         },
         "mode": "lines",
         "showlegend": false,
         "text": "Width: 6.30",
         "type": "scatter",
         "x": [
          -3.6999935507976827,
          -3.678150006537061,
          null
         ],
         "y": [
          40.4606484776773,
          40.45750039357669,
          null
         ]
        },
        {
         "hoverinfo": "text",
         "line": {
          "color": "rgba(253.68627450980392, 208.31372549019608, 129.2549019607843, 1.0)",
          "width": 6.3131497099946765
         },
         "mode": "lines",
         "showlegend": false,
         "text": "Width: 6.31",
         "type": "scatter",
         "x": [
          -3.6999935507976827,
          -3.6999935507976827,
          null
         ],
         "y": [
          40.4606484776773,
          40.4606484776773,
          null
         ]
        },
        {
         "hoverinfo": "text",
         "line": {
          "color": "rgba(253.52941176470588, 200.47058823529414, 121.88235294117646, 1.0)",
          "width": 6.4753845722771715
         },
         "mode": "lines",
         "showlegend": false,
         "text": "Width: 6.48",
         "type": "scatter",
         "x": [
          -3.6999935507976827,
          -3.703523951395161,
          null
         ],
         "y": [
          40.4606484776773,
          40.4375595509298,
          null
         ]
        },
        {
         "hoverinfo": "text",
         "line": {
          "color": "rgba(245.41176470588235, 119.19607843137254, 71.70588235294117, 1.0)",
          "width": 7.837428899660959
         },
         "mode": "lines",
         "showlegend": false,
         "text": "Width: 7.84",
         "type": "scatter",
         "x": [
          -3.6999935507976827,
          -3.753579560856663,
          null
         ],
         "y": [
          40.4606484776773,
          40.54479435831404,
          null
         ]
        },
        {
         "hoverinfo": "text",
         "line": {
          "color": "rgba(254.11764705882354, 227.64705882352942, 149.52941176470588, 1.0)",
          "width": 5.892291742553728
         },
         "mode": "lines",
         "showlegend": false,
         "text": "Width: 5.89",
         "type": "scatter",
         "x": [
          -3.6999935507976827,
          -3.757223268157654,
          null
         ],
         "y": [
          40.4606484776773,
          40.44543508494524,
          null
         ]
        },
        {
         "hoverinfo": "text",
         "line": {
          "color": "rgba(188.6666666666667, 225.66666666666669, 238.0, 1.0)",
          "width": 3.3528538205049174
         },
         "mode": "lines",
         "showlegend": false,
         "text": "Width: 3.35",
         "type": "scatter",
         "x": [
          -3.753579560856663,
          -3.705268804063821,
          null
         ],
         "y": [
          40.54479435831404,
          40.41733007020507,
          null
         ]
        },
        {
         "hoverinfo": "text",
         "line": {
          "color": "rgba(156.98039215686276, 205.78431372549022, 226.88235294117646, 1.0)",
          "width": 2.7722827762055533
         },
         "mode": "lines",
         "showlegend": false,
         "text": "Width: 2.77",
         "type": "scatter",
         "x": [
          -3.753579560856663,
          -3.6737887354917422,
          null
         ],
         "y": [
          40.54479435831404,
          40.43018370922185,
          null
         ]
        },
        {
         "hoverinfo": "text",
         "line": {
          "color": "rgba(254.62745098039215, 243.45098039215685, 173.49019607843138, 1.0)",
          "width": 5.366919779203676
         },
         "mode": "lines",
         "showlegend": false,
         "text": "Width: 5.37",
         "type": "scatter",
         "x": [
          -3.753579560856663,
          -3.678150006537061,
          null
         ],
         "y": [
          40.54479435831404,
          40.45750039357669,
          null
         ]
        },
        {
         "hoverinfo": "text",
         "line": {
          "color": "rgba(249.64705882352942, 149.7843137254902, 85.82352941176471, 1.0)",
          "width": 7.352965899857098
         },
         "mode": "lines",
         "showlegend": false,
         "text": "Width: 7.35",
         "type": "scatter",
         "x": [
          -3.753579560856663,
          -3.6999935507976827,
          null
         ],
         "y": [
          40.54479435831404,
          40.4606484776773,
          null
         ]
        },
        {
         "hoverinfo": "text",
         "line": {
          "color": "rgba(199.0588235294118, 230.76470588235296, 240.94117647058823, 1.0)",
          "width": 3.518731261733307
         },
         "mode": "lines",
         "showlegend": false,
         "text": "Width: 3.52",
         "type": "scatter",
         "x": [
          -3.753579560856663,
          -3.703523951395161,
          null
         ],
         "y": [
          40.54479435831404,
          40.4375595509298,
          null
         ]
        },
        {
         "hoverinfo": "text",
         "line": {
          "color": "rgba(165.0, 0.0, 38.0, 1.0)",
          "width": 10
         },
         "mode": "lines",
         "showlegend": false,
         "text": "Width: 10.00",
         "type": "scatter",
         "x": [
          -3.753579560856663,
          -3.753579560856663,
          null
         ],
         "y": [
          40.54479435831404,
          40.54479435831404,
          null
         ]
        },
        {
         "hoverinfo": "text",
         "line": {
          "color": "rgba(253.2549019607843, 186.74509803921566, 108.98039215686275, 1.0)",
          "width": 6.7390512482837845
         },
         "mode": "lines",
         "showlegend": false,
         "text": "Width: 6.74",
         "type": "scatter",
         "x": [
          -3.753579560856663,
          -3.757223268157654,
          null
         ],
         "y": [
          40.54479435831404,
          40.44543508494524,
          null
         ]
        },
        {
         "hoverinfo": "text",
         "line": {
          "color": "rgba(184.50980392156865, 223.62745098039218, 236.82352941176472, 1.0)",
          "width": 3.2561853792485076
         },
         "mode": "lines",
         "showlegend": false,
         "text": "Width: 3.26",
         "type": "scatter",
         "x": [
          -3.753579560856663,
          -3.649948514601449,
          null
         ],
         "y": [
          40.54479435831404,
          40.43926990707227,
          null
         ]
        },
        {
         "hoverinfo": "text",
         "line": {
          "color": "rgba(253.2156862745098, 184.7843137254902, 107.13725490196079, 1.0)",
          "width": 6.788085964863122
         },
         "mode": "lines",
         "showlegend": false,
         "text": "Width: 6.79",
         "type": "scatter",
         "x": [
          -3.753579560856663,
          -3.637741035389707,
          null
         ],
         "y": [
          40.54479435831404,
          40.48201214532898,
          null
         ]
        },
        {
         "hoverinfo": "text",
         "line": {
          "color": "rgba(254.54901960784312, 241.01960784313727, 169.80392156862746, 1.0)",
          "width": 5.457143657709659
         },
         "mode": "lines",
         "showlegend": false,
         "text": "Width: 5.46",
         "type": "scatter",
         "x": [
          -3.637741035389707,
          -3.678150006537061,
          null
         ],
         "y": [
          40.48201214532898,
          40.45750039357669,
          null
         ]
        },
        {
         "hoverinfo": "text",
         "line": {
          "color": "rgba(253.41176470588235, 194.58823529411762, 116.35294117647058, 1.0)",
          "width": 6.577656981142648
         },
         "mode": "lines",
         "showlegend": false,
         "text": "Width: 6.58",
         "type": "scatter",
         "x": [
          -3.637741035389707,
          -3.753579560856663,
          null
         ],
         "y": [
          40.48201214532898,
          40.54479435831404,
          null
         ]
        },
        {
         "hoverinfo": "text",
         "line": {
          "color": "rgba(253.76470588235296, 212.23529411764707, 132.94117647058823, 1.0)",
          "width": 6.2178822606405335
         },
         "mode": "lines",
         "showlegend": false,
         "text": "Width: 6.22",
         "type": "scatter",
         "x": [
          -3.637741035389707,
          -3.649948514601449,
          null
         ],
         "y": [
          40.48201214532898,
          40.43926990707227,
          null
         ]
        },
        {
         "hoverinfo": "text",
         "line": {
          "color": "rgba(216.70588235294122, 51.588235294117716, 40.64705882352944, 1.0)",
          "width": 8.937487741320854
         },
         "mode": "lines",
         "showlegend": false,
         "text": "Width: 8.94",
         "type": "scatter",
         "x": [
          -3.637741035389707,
          -3.637741035389707,
          null
         ],
         "y": [
          40.48201214532898,
          40.48201214532898,
          null
         ]
        },
        {
         "hoverinfo": "text",
         "line": {
          "color": "rgba(254.23529411764704, 231.29411764705884, 155.05882352941177, 1.0)",
          "width": 5.74238560901118
         },
         "mode": "lines",
         "showlegend": false,
         "text": "Width: 5.74",
         "type": "scatter",
         "x": [
          -3.637741035389707,
          -3.5986526886701378,
          null
         ],
         "y": [
          40.48201214532898,
          40.43466852782298,
          null
         ]
        },
        {
         "hoverinfo": "text",
         "line": {
          "color": "rgba(254.7058823529412, 245.88235294117646, 177.1764705882353, 1.0)",
          "width": 5.27809689259996
         },
         "mode": "lines",
         "showlegend": false,
         "text": "Width: 5.28",
         "type": "scatter",
         "x": [
          -3.637741035389707,
          -3.574543479322823,
          null
         ],
         "y": [
          40.48201214532898,
          40.4757410696608,
          null
         ]
        },
        {
         "hoverinfo": "text",
         "line": {
          "color": "rgba(172.03921568627453, 217.50980392156862, 233.29411764705884, 1.0)",
          "width": 3.011852391493177
         },
         "mode": "lines",
         "showlegend": false,
         "text": "Width: 3.01",
         "type": "scatter",
         "x": [
          -3.695056256825152,
          -3.705268804063821,
          null
         ],
         "y": [
          40.34253624126977,
          40.41733007020507,
          null
         ]
        },
        {
         "hoverinfo": "text",
         "line": {
          "color": "rgba(154.82352941176472, 204.0588235294118, 225.94117647058823, 1.0)",
          "width": 2.722407464484855
         },
         "mode": "lines",
         "showlegend": false,
         "text": "Width: 2.72",
         "type": "scatter",
         "x": [
          -3.695056256825152,
          -3.6737887354917422,
          null
         ],
         "y": [
          40.34253624126977,
          40.43018370922185,
          null
         ]
        },
        {
         "hoverinfo": "text",
         "line": {
          "color": "rgba(165.6078431372549, 212.68627450980392, 230.64705882352942, 1.0)",
          "width": 2.918546330802208
         },
         "mode": "lines",
         "showlegend": false,
         "text": "Width: 2.92",
         "type": "scatter",
         "x": [
          -3.695056256825152,
          -3.703523951395161,
          null
         ],
         "y": [
          40.34253624126977,
          40.4375595509298,
          null
         ]
        },
        {
         "hoverinfo": "text",
         "line": {
          "color": "rgba(174.11764705882354, 218.52941176470588, 233.88235294117646, 1.0)",
          "width": 3.076017820616997
         },
         "mode": "lines",
         "showlegend": false,
         "text": "Width: 3.08",
         "type": "scatter",
         "x": [
          -3.695056256825152,
          -3.737112400757822,
          null
         ],
         "y": [
          40.34253624126977,
          40.378840354576816,
          null
         ]
        },
        {
         "hoverinfo": "text",
         "line": {
          "color": "rgba(253.64705882352942, 206.3529411764706, 127.41176470588235, 1.0)",
          "width": 6.354619070301773
         },
         "mode": "lines",
         "showlegend": false,
         "text": "Width: 6.35",
         "type": "scatter",
         "x": [
          -3.695056256825152,
          -3.7029808755455926,
          null
         ],
         "y": [
          40.34253624126977,
          40.37595000318738,
          null
         ]
        },
        {
         "hoverinfo": "text",
         "line": {
          "color": "rgba(190.74509803921572, 226.68627450980395, 238.58823529411765, 1.0)",
          "width": 3.361820168679425
         },
         "mode": "lines",
         "showlegend": false,
         "text": "Width: 3.36",
         "type": "scatter",
         "x": [
          -3.695056256825152,
          -3.6598634715735407,
          null
         ],
         "y": [
          40.34253624126977,
          40.38355078734683,
          null
         ]
        },
        {
         "hoverinfo": "text",
         "line": {
          "color": "rgba(224.66666666666666, 68.33333333333333, 48.333333333333336, 1.0)",
          "width": 8.64860321107344
         },
         "mode": "lines",
         "showlegend": false,
         "text": "Width: 8.65",
         "type": "scatter",
         "x": [
          -3.695056256825152,
          -3.695056256825152,
          null
         ],
         "y": [
          40.34253624126977,
          40.34253624126977,
          null
         ]
        },
        {
         "hoverinfo": "text",
         "line": {
          "color": "rgba(237.37254901960787, 248.1764705882353, 223.41176470588232, 1.0)",
          "width": 4.442825520468491
         },
         "mode": "lines",
         "showlegend": false,
         "text": "Width: 4.44",
         "type": "scatter",
         "x": [
          -3.695056256825152,
          -3.6160073912284756,
          null
         ],
         "y": [
          40.34253624126977,
          40.34992967757026,
          null
         ]
        },
        {
         "hoverinfo": "text",
         "line": {
          "color": "rgba(178.2745098039216, 220.5686274509804, 235.05882352941177, 1.0)",
          "width": 3.1443862254476165
         },
         "mode": "lines",
         "showlegend": false,
         "text": "Width: 3.14",
         "type": "scatter",
         "x": [
          -3.6160073912284756,
          -3.705268804063821,
          null
         ],
         "y": [
          40.34992967757026,
          40.41733007020507,
          null
         ]
        },
        {
         "hoverinfo": "text",
         "line": {
          "color": "rgba(250.7058823529412, 157.4313725490196, 89.3529411764706, 1.0)",
          "width": 7.2422875395780215
         },
         "mode": "lines",
         "showlegend": false,
         "text": "Width: 7.24",
         "type": "scatter",
         "x": [
          -3.6160073912284756,
          -3.6598634715735407,
          null
         ],
         "y": [
          40.34992967757026,
          40.38355078734683,
          null
         ]
        },
        {
         "hoverinfo": "text",
         "line": {
          "color": "rgba(249.52941176470588, 252.88235294117646, 201.05882352941174, 1.0)",
          "width": 4.816049763232368
         },
         "mode": "lines",
         "showlegend": false,
         "text": "Width: 4.82",
         "type": "scatter",
         "x": [
          -3.6160073912284756,
          -3.695056256825152,
          null
         ],
         "y": [
          40.34992967757026,
          40.34253624126977,
          null
         ]
        },
        {
         "hoverinfo": "text",
         "line": {
          "color": "rgba(225.80392156862746, 70.72549019607843, 49.431372549019606, 1.0)",
          "width": 8.61021603295133
         },
         "mode": "lines",
         "showlegend": false,
         "text": "Width: 8.61",
         "type": "scatter",
         "x": [
          -3.6160073912284756,
          -3.6160073912284756,
          null
         ],
         "y": [
          40.34992967757026,
          40.34992967757026,
          null
         ]
        },
        {
         "hoverinfo": "text",
         "line": {
          "color": "rgba(253.76470588235296, 212.23529411764707, 132.94117647058823, 1.0)",
          "width": 6.233293171565468
         },
         "mode": "lines",
         "showlegend": false,
         "text": "Width: 6.23",
         "type": "scatter",
         "x": [
          -3.6160073912284756,
          -3.572894771748725,
          null
         ],
         "y": [
          40.34992967757026,
          40.39356859265691,
          null
         ]
        },
        {
         "hoverinfo": "text",
         "line": {
          "color": "rgba(237.37254901960787, 248.1764705882353, 223.41176470588232, 1.0)",
          "width": 4.43021659334809
         },
         "mode": "lines",
         "showlegend": false,
         "text": "Width: 4.43",
         "type": "scatter",
         "x": [
          -3.572894771748725,
          -3.6598634715735407,
          null
         ],
         "y": [
          40.39356859265691,
          40.38355078734683,
          null
         ]
        },
        {
         "hoverinfo": "text",
         "line": {
          "color": "rgba(233.72549019607845, 246.76470588235296, 230.11764705882348, 1.0)",
          "width": 4.32766398610216
         },
         "mode": "lines",
         "showlegend": false,
         "text": "Width: 4.33",
         "type": "scatter",
         "x": [
          -3.572894771748725,
          -3.6413909394895803,
          null
         ],
         "y": [
          40.39356859265691,
          40.40661270611631,
          null
         ]
        },
        {
         "hoverinfo": "text",
         "line": {
          "color": "rgba(254.3529411764706, 234.94117647058823, 160.58823529411765, 1.0)",
          "width": 5.663369665723332
         },
         "mode": "lines",
         "showlegend": false,
         "text": "Width: 5.66",
         "type": "scatter",
         "x": [
          -3.572894771748725,
          -3.6160073912284756,
          null
         ],
         "y": [
          40.39356859265691,
          40.34992967757026,
          null
         ]
        },
        {
         "hoverinfo": "text",
         "line": {
          "color": "rgba(249.29411764705884, 147.23529411764707, 84.64705882352942, 1.0)",
          "width": 7.40144021967553
         },
         "mode": "lines",
         "showlegend": false,
         "text": "Width: 7.40",
         "type": "scatter",
         "x": [
          -3.572894771748725,
          -3.572894771748725,
          null
         ],
         "y": [
          40.39356859265691,
          40.39356859265691,
          null
         ]
        },
        {
         "hoverinfo": "text",
         "line": {
          "color": "rgba(254.15686274509804, 228.8627450980392, 151.37254901960782, 1.0)",
          "width": 5.838493653506682
         },
         "mode": "lines",
         "showlegend": false,
         "text": "Width: 5.84",
         "type": "scatter",
         "x": [
          -3.572894771748725,
          -3.5986526886701378,
          null
         ],
         "y": [
          40.39356859265691,
          40.43466852782298,
          null
         ]
        },
        {
         "hoverinfo": "text",
         "line": {
          "color": "rgba(165.6078431372549, 212.68627450980392, 230.64705882352942, 1.0)",
          "width": 2.8947294684636717
         },
         "mode": "lines",
         "showlegend": false,
         "text": "Width: 2.89",
         "type": "scatter",
         "x": [
          -3.5986526886701378,
          -3.705268804063821,
          null
         ],
         "y": [
          40.43466852782298,
          40.41733007020507,
          null
         ]
        },
        {
         "hoverinfo": "text",
         "line": {
          "color": "rgba(174.11764705882354, 218.52941176470588, 233.88235294117646, 1.0)",
          "width": 3.0589257194093413
         },
         "mode": "lines",
         "showlegend": false,
         "text": "Width: 3.06",
         "type": "scatter",
         "x": [
          -3.5986526886701378,
          -3.6737887354917422,
          null
         ],
         "y": [
          40.43466852782298,
          40.43018370922185,
          null
         ]
        },
        {
         "hoverinfo": "text",
         "line": {
          "color": "rgba(156.98039215686276, 205.78431372549022, 226.88235294117646, 1.0)",
          "width": 2.764437221552859
         },
         "mode": "lines",
         "showlegend": false,
         "text": "Width: 2.76",
         "type": "scatter",
         "x": [
          -3.5986526886701378,
          -3.703523951395161,
          null
         ],
         "y": [
          40.43466852782298,
          40.4375595509298,
          null
         ]
        },
        {
         "hoverinfo": "text",
         "line": {
          "color": "rgba(194.90196078431376, 228.72549019607843, 239.76470588235296, 1.0)",
          "width": 3.45232424556586
         },
         "mode": "lines",
         "showlegend": false,
         "text": "Width: 3.45",
         "type": "scatter",
         "x": [
          -3.5986526886701378,
          -3.753579560856663,
          null
         ],
         "y": [
          40.43466852782298,
          40.54479435831404,
          null
         ]
        },
        {
         "hoverinfo": "text",
         "line": {
          "color": "rgba(188.6666666666667, 225.66666666666669, 238.0, 1.0)",
          "width": 3.3388439014822495
         },
         "mode": "lines",
         "showlegend": false,
         "text": "Width: 3.34",
         "type": "scatter",
         "x": [
          -3.5986526886701378,
          -3.6413909394895803,
          null
         ],
         "y": [
          40.43466852782298,
          40.40661270611631,
          null
         ]
        },
        {
         "hoverinfo": "text",
         "line": {
          "color": "rgba(250.7058823529412, 157.4313725490196, 89.3529411764706, 1.0)",
          "width": 7.259940037546582
         },
         "mode": "lines",
         "showlegend": false,
         "text": "Width: 7.26",
         "type": "scatter",
         "x": [
          -3.5986526886701378,
          -3.649948514601449,
          null
         ],
         "y": [
          40.43466852782298,
          40.43926990707227,
          null
         ]
        },
        {
         "hoverinfo": "text",
         "line": {
          "color": "rgba(254.23529411764704, 231.29411764705884, 155.05882352941177, 1.0)",
          "width": 5.7762896130460355
         },
         "mode": "lines",
         "showlegend": false,
         "text": "Width: 5.78",
         "type": "scatter",
         "x": [
          -3.5986526886701378,
          -3.637741035389707,
          null
         ],
         "y": [
          40.43466852782298,
          40.48201214532898,
          null
         ]
        },
        {
         "hoverinfo": "text",
         "line": {
          "color": "rgba(253.13725490196077, 180.8627450980392, 103.45098039215685, 1.0)",
          "width": 6.866821709770517
         },
         "mode": "lines",
         "showlegend": false,
         "text": "Width: 6.87",
         "type": "scatter",
         "x": [
          -3.5986526886701378,
          -3.572894771748725,
          null
         ],
         "y": [
          40.43466852782298,
          40.39356859265691,
          null
         ]
        },
        {
         "hoverinfo": "text",
         "line": {
          "color": "rgba(221.2549019607843, 61.15686274509804, 45.03921568627451, 1.0)",
          "width": 8.766566729244305
         },
         "mode": "lines",
         "showlegend": false,
         "text": "Width: 8.77",
         "type": "scatter",
         "x": [
          -3.5986526886701378,
          -3.5986526886701378,
          null
         ],
         "y": [
          40.43466852782298,
          40.43466852782298,
          null
         ]
        },
        {
         "hoverinfo": "text",
         "line": {
          "color": "rgba(253.64705882352942, 206.3529411764706, 127.41176470588235, 1.0)",
          "width": 6.331923001485051
         },
         "mode": "lines",
         "showlegend": false,
         "text": "Width: 6.33",
         "type": "scatter",
         "x": [
          -3.5986526886701378,
          -3.574543479322823,
          null
         ],
         "y": [
          40.43466852782298,
          40.4757410696608,
          null
         ]
        },
        {
         "hoverinfo": "text",
         "line": {
          "color": "rgba(254.3529411764706, 234.94117647058823, 160.58823529411765, 1.0)",
          "width": 5.660847880299252
         },
         "mode": "lines",
         "showlegend": false,
         "text": "Width: 5.66",
         "type": "scatter",
         "x": [
          -3.574543479322823,
          -3.637741035389707,
          null
         ],
         "y": [
          40.4757410696608,
          40.48201214532898,
          null
         ]
        },
        {
         "hoverinfo": "text",
         "line": {
          "color": "rgba(254.7450980392157, 247.09803921568627, 179.01960784313724, 1.0)",
          "width": 5.266328560620919
         },
         "mode": "lines",
         "showlegend": false,
         "text": "Width: 5.27",
         "type": "scatter",
         "x": [
          -3.574543479322823,
          -3.5986526886701378,
          null
         ],
         "y": [
          40.4757410696608,
          40.43466852782298,
          null
         ]
        },
        {
         "hoverinfo": "text",
         "line": {
          "color": "rgba(247.1764705882353, 131.94117647058823, 77.58823529411764, 1.0)",
          "width": 7.639608843060886
         },
         "mode": "lines",
         "showlegend": false,
         "text": "Width: 7.64",
         "type": "scatter",
         "x": [
          -3.574543479322823,
          -3.574543479322823,
          null
         ],
         "y": [
          40.4757410696608,
          40.4757410696608,
          null
         ]
        },
        {
         "hoverinfo": "text",
         "marker": {
          "color": "white",
          "line": {
           "color": "#888",
           "width": 2
          },
          "size": [
           27.859999999999996,
           21.7,
           23.169999999999998,
           28.14,
           26.529999999999998,
           28.14,
           22.259999999999998,
           23.169999999999998,
           23.38,
           22.12,
           22.049999999999997,
           28.14,
           25.059999999999995,
           26.32,
           24.08,
           26.04,
           22.33,
           21.77,
           21.279999999999998,
           23.659999999999997,
           23.240000000000002
          ]
         },
         "mode": "markers",
         "showlegend": false,
         "text": [
          "District: Centro",
          "District: Arganzuela",
          "District: Retiro",
          "District: Salamanca",
          "District: Chamberí",
          "District: Moncloa-Aravaca",
          "District: Latina",
          "District: Carabanchel",
          "District: Usera",
          "District: Puente de Vallecas",
          "District: Moratalaz",
          "District: Chamartín",
          "District: Ciudad Lineal",
          "District: Tetuán",
          "District: Fuencarral-El Pardo",
          "District: Hortaleza",
          "District: Villaverde",
          "District: Villa de Vallecas",
          "District: Vicálvaro",
          "District: San Blas-Canillejas",
          "District: Barajas"
         ],
         "type": "scatter",
         "x": [
          -3.705268804063821,
          -3.6966151949203576,
          -3.67643837848883,
          -3.6737887354917422,
          -3.703523951395161,
          -3.757223268157654,
          -3.778616540618283,
          -3.737112400757822,
          -3.7029808755455926,
          -3.6598634715735407,
          -3.6413909394895803,
          -3.678150006537061,
          -3.649948514601449,
          -3.6999935507976827,
          -3.753579560856663,
          -3.637741035389707,
          -3.695056256825152,
          -3.6160073912284756,
          -3.572894771748725,
          -3.5986526886701378,
          -3.574543479322823
         ],
         "y": [
          40.41733007020507,
          40.398119933450886,
          40.41138084576659,
          40.43018370922185,
          40.4375595509298,
          40.44543508494524,
          40.385273701511004,
          40.378840354576816,
          40.37595000318738,
          40.38355078734683,
          40.40661270611631,
          40.45750039357669,
          40.43926990707227,
          40.4606484776773,
          40.54479435831404,
          40.48201214532898,
          40.34253624126977,
          40.34992967757026,
          40.39356859265691,
          40.43466852782298,
          40.4757410696608
         ]
        },
        {
         "hoverinfo": "none",
         "marker": {
          "cmax": 1,
          "cmin": 0.2722407464484855,
          "colorbar": {
           "ticktext": [
            "0.27",
            "0.45",
            "0.64",
            "0.82",
            "1.00"
           ],
           "tickvals": [
            0.2722407464484855,
            0.45418055983636413,
            0.6361203732242428,
            0.8180601866121213,
            1
           ],
           "title": {
            "text": "Edge Weight"
           }
          },
          "colorscale": [
           [
            0,
            "rgb(49,54,149)"
           ],
           [
            0.1,
            "rgb(69,117,180)"
           ],
           [
            0.2,
            "rgb(116,173,209)"
           ],
           [
            0.3,
            "rgb(171,217,233)"
           ],
           [
            0.4,
            "rgb(224,243,248)"
           ],
           [
            0.5,
            "rgb(255,255,191)"
           ],
           [
            0.6,
            "rgb(254,224,144)"
           ],
           [
            0.7,
            "rgb(253,174,97)"
           ],
           [
            0.8,
            "rgb(244,109,67)"
           ],
           [
            0.9,
            "rgb(215,48,39)"
           ],
           [
            1,
            "rgb(165,0,38)"
           ]
          ],
          "showscale": true
         },
         "mode": "markers",
         "type": "scatter",
         "x": [
          null
         ],
         "y": [
          null
         ]
        }
       ],
       "layout": {
        "hovermode": "closest",
        "margin": {
         "b": 0,
         "l": 0,
         "r": 0,
         "t": 0
        },
        "showlegend": true,
        "template": {
         "data": {
          "bar": [
           {
            "error_x": {
             "color": "#2a3f5f"
            },
            "error_y": {
             "color": "#2a3f5f"
            },
            "marker": {
             "line": {
              "color": "#E5ECF6",
              "width": 0.5
             },
             "pattern": {
              "fillmode": "overlay",
              "size": 10,
              "solidity": 0.2
             }
            },
            "type": "bar"
           }
          ],
          "barpolar": [
           {
            "marker": {
             "line": {
              "color": "#E5ECF6",
              "width": 0.5
             },
             "pattern": {
              "fillmode": "overlay",
              "size": 10,
              "solidity": 0.2
             }
            },
            "type": "barpolar"
           }
          ],
          "carpet": [
           {
            "aaxis": {
             "endlinecolor": "#2a3f5f",
             "gridcolor": "white",
             "linecolor": "white",
             "minorgridcolor": "white",
             "startlinecolor": "#2a3f5f"
            },
            "baxis": {
             "endlinecolor": "#2a3f5f",
             "gridcolor": "white",
             "linecolor": "white",
             "minorgridcolor": "white",
             "startlinecolor": "#2a3f5f"
            },
            "type": "carpet"
           }
          ],
          "choropleth": [
           {
            "colorbar": {
             "outlinewidth": 0,
             "ticks": ""
            },
            "type": "choropleth"
           }
          ],
          "contour": [
           {
            "colorbar": {
             "outlinewidth": 0,
             "ticks": ""
            },
            "colorscale": [
             [
              0,
              "#0d0887"
             ],
             [
              0.1111111111111111,
              "#46039f"
             ],
             [
              0.2222222222222222,
              "#7201a8"
             ],
             [
              0.3333333333333333,
              "#9c179e"
             ],
             [
              0.4444444444444444,
              "#bd3786"
             ],
             [
              0.5555555555555556,
              "#d8576b"
             ],
             [
              0.6666666666666666,
              "#ed7953"
             ],
             [
              0.7777777777777778,
              "#fb9f3a"
             ],
             [
              0.8888888888888888,
              "#fdca26"
             ],
             [
              1,
              "#f0f921"
             ]
            ],
            "type": "contour"
           }
          ],
          "contourcarpet": [
           {
            "colorbar": {
             "outlinewidth": 0,
             "ticks": ""
            },
            "type": "contourcarpet"
           }
          ],
          "heatmap": [
           {
            "colorbar": {
             "outlinewidth": 0,
             "ticks": ""
            },
            "colorscale": [
             [
              0,
              "#0d0887"
             ],
             [
              0.1111111111111111,
              "#46039f"
             ],
             [
              0.2222222222222222,
              "#7201a8"
             ],
             [
              0.3333333333333333,
              "#9c179e"
             ],
             [
              0.4444444444444444,
              "#bd3786"
             ],
             [
              0.5555555555555556,
              "#d8576b"
             ],
             [
              0.6666666666666666,
              "#ed7953"
             ],
             [
              0.7777777777777778,
              "#fb9f3a"
             ],
             [
              0.8888888888888888,
              "#fdca26"
             ],
             [
              1,
              "#f0f921"
             ]
            ],
            "type": "heatmap"
           }
          ],
          "heatmapgl": [
           {
            "colorbar": {
             "outlinewidth": 0,
             "ticks": ""
            },
            "colorscale": [
             [
              0,
              "#0d0887"
             ],
             [
              0.1111111111111111,
              "#46039f"
             ],
             [
              0.2222222222222222,
              "#7201a8"
             ],
             [
              0.3333333333333333,
              "#9c179e"
             ],
             [
              0.4444444444444444,
              "#bd3786"
             ],
             [
              0.5555555555555556,
              "#d8576b"
             ],
             [
              0.6666666666666666,
              "#ed7953"
             ],
             [
              0.7777777777777778,
              "#fb9f3a"
             ],
             [
              0.8888888888888888,
              "#fdca26"
             ],
             [
              1,
              "#f0f921"
             ]
            ],
            "type": "heatmapgl"
           }
          ],
          "histogram": [
           {
            "marker": {
             "pattern": {
              "fillmode": "overlay",
              "size": 10,
              "solidity": 0.2
             }
            },
            "type": "histogram"
           }
          ],
          "histogram2d": [
           {
            "colorbar": {
             "outlinewidth": 0,
             "ticks": ""
            },
            "colorscale": [
             [
              0,
              "#0d0887"
             ],
             [
              0.1111111111111111,
              "#46039f"
             ],
             [
              0.2222222222222222,
              "#7201a8"
             ],
             [
              0.3333333333333333,
              "#9c179e"
             ],
             [
              0.4444444444444444,
              "#bd3786"
             ],
             [
              0.5555555555555556,
              "#d8576b"
             ],
             [
              0.6666666666666666,
              "#ed7953"
             ],
             [
              0.7777777777777778,
              "#fb9f3a"
             ],
             [
              0.8888888888888888,
              "#fdca26"
             ],
             [
              1,
              "#f0f921"
             ]
            ],
            "type": "histogram2d"
           }
          ],
          "histogram2dcontour": [
           {
            "colorbar": {
             "outlinewidth": 0,
             "ticks": ""
            },
            "colorscale": [
             [
              0,
              "#0d0887"
             ],
             [
              0.1111111111111111,
              "#46039f"
             ],
             [
              0.2222222222222222,
              "#7201a8"
             ],
             [
              0.3333333333333333,
              "#9c179e"
             ],
             [
              0.4444444444444444,
              "#bd3786"
             ],
             [
              0.5555555555555556,
              "#d8576b"
             ],
             [
              0.6666666666666666,
              "#ed7953"
             ],
             [
              0.7777777777777778,
              "#fb9f3a"
             ],
             [
              0.8888888888888888,
              "#fdca26"
             ],
             [
              1,
              "#f0f921"
             ]
            ],
            "type": "histogram2dcontour"
           }
          ],
          "mesh3d": [
           {
            "colorbar": {
             "outlinewidth": 0,
             "ticks": ""
            },
            "type": "mesh3d"
           }
          ],
          "parcoords": [
           {
            "line": {
             "colorbar": {
              "outlinewidth": 0,
              "ticks": ""
             }
            },
            "type": "parcoords"
           }
          ],
          "pie": [
           {
            "automargin": true,
            "type": "pie"
           }
          ],
          "scatter": [
           {
            "fillpattern": {
             "fillmode": "overlay",
             "size": 10,
             "solidity": 0.2
            },
            "type": "scatter"
           }
          ],
          "scatter3d": [
           {
            "line": {
             "colorbar": {
              "outlinewidth": 0,
              "ticks": ""
             }
            },
            "marker": {
             "colorbar": {
              "outlinewidth": 0,
              "ticks": ""
             }
            },
            "type": "scatter3d"
           }
          ],
          "scattercarpet": [
           {
            "marker": {
             "colorbar": {
              "outlinewidth": 0,
              "ticks": ""
             }
            },
            "type": "scattercarpet"
           }
          ],
          "scattergeo": [
           {
            "marker": {
             "colorbar": {
              "outlinewidth": 0,
              "ticks": ""
             }
            },
            "type": "scattergeo"
           }
          ],
          "scattergl": [
           {
            "marker": {
             "colorbar": {
              "outlinewidth": 0,
              "ticks": ""
             }
            },
            "type": "scattergl"
           }
          ],
          "scattermapbox": [
           {
            "marker": {
             "colorbar": {
              "outlinewidth": 0,
              "ticks": ""
             }
            },
            "type": "scattermapbox"
           }
          ],
          "scatterpolar": [
           {
            "marker": {
             "colorbar": {
              "outlinewidth": 0,
              "ticks": ""
             }
            },
            "type": "scatterpolar"
           }
          ],
          "scatterpolargl": [
           {
            "marker": {
             "colorbar": {
              "outlinewidth": 0,
              "ticks": ""
             }
            },
            "type": "scatterpolargl"
           }
          ],
          "scatterternary": [
           {
            "marker": {
             "colorbar": {
              "outlinewidth": 0,
              "ticks": ""
             }
            },
            "type": "scatterternary"
           }
          ],
          "surface": [
           {
            "colorbar": {
             "outlinewidth": 0,
             "ticks": ""
            },
            "colorscale": [
             [
              0,
              "#0d0887"
             ],
             [
              0.1111111111111111,
              "#46039f"
             ],
             [
              0.2222222222222222,
              "#7201a8"
             ],
             [
              0.3333333333333333,
              "#9c179e"
             ],
             [
              0.4444444444444444,
              "#bd3786"
             ],
             [
              0.5555555555555556,
              "#d8576b"
             ],
             [
              0.6666666666666666,
              "#ed7953"
             ],
             [
              0.7777777777777778,
              "#fb9f3a"
             ],
             [
              0.8888888888888888,
              "#fdca26"
             ],
             [
              1,
              "#f0f921"
             ]
            ],
            "type": "surface"
           }
          ],
          "table": [
           {
            "cells": {
             "fill": {
              "color": "#EBF0F8"
             },
             "line": {
              "color": "white"
             }
            },
            "header": {
             "fill": {
              "color": "#C8D4E3"
             },
             "line": {
              "color": "white"
             }
            },
            "type": "table"
           }
          ]
         },
         "layout": {
          "annotationdefaults": {
           "arrowcolor": "#2a3f5f",
           "arrowhead": 0,
           "arrowwidth": 1
          },
          "autotypenumbers": "strict",
          "coloraxis": {
           "colorbar": {
            "outlinewidth": 0,
            "ticks": ""
           }
          },
          "colorscale": {
           "diverging": [
            [
             0,
             "#8e0152"
            ],
            [
             0.1,
             "#c51b7d"
            ],
            [
             0.2,
             "#de77ae"
            ],
            [
             0.3,
             "#f1b6da"
            ],
            [
             0.4,
             "#fde0ef"
            ],
            [
             0.5,
             "#f7f7f7"
            ],
            [
             0.6,
             "#e6f5d0"
            ],
            [
             0.7,
             "#b8e186"
            ],
            [
             0.8,
             "#7fbc41"
            ],
            [
             0.9,
             "#4d9221"
            ],
            [
             1,
             "#276419"
            ]
           ],
           "sequential": [
            [
             0,
             "#0d0887"
            ],
            [
             0.1111111111111111,
             "#46039f"
            ],
            [
             0.2222222222222222,
             "#7201a8"
            ],
            [
             0.3333333333333333,
             "#9c179e"
            ],
            [
             0.4444444444444444,
             "#bd3786"
            ],
            [
             0.5555555555555556,
             "#d8576b"
            ],
            [
             0.6666666666666666,
             "#ed7953"
            ],
            [
             0.7777777777777778,
             "#fb9f3a"
            ],
            [
             0.8888888888888888,
             "#fdca26"
            ],
            [
             1,
             "#f0f921"
            ]
           ],
           "sequentialminus": [
            [
             0,
             "#0d0887"
            ],
            [
             0.1111111111111111,
             "#46039f"
            ],
            [
             0.2222222222222222,
             "#7201a8"
            ],
            [
             0.3333333333333333,
             "#9c179e"
            ],
            [
             0.4444444444444444,
             "#bd3786"
            ],
            [
             0.5555555555555556,
             "#d8576b"
            ],
            [
             0.6666666666666666,
             "#ed7953"
            ],
            [
             0.7777777777777778,
             "#fb9f3a"
            ],
            [
             0.8888888888888888,
             "#fdca26"
            ],
            [
             1,
             "#f0f921"
            ]
           ]
          },
          "colorway": [
           "#636efa",
           "#EF553B",
           "#00cc96",
           "#ab63fa",
           "#FFA15A",
           "#19d3f3",
           "#FF6692",
           "#B6E880",
           "#FF97FF",
           "#FECB52"
          ],
          "font": {
           "color": "#2a3f5f"
          },
          "geo": {
           "bgcolor": "white",
           "lakecolor": "white",
           "landcolor": "#E5ECF6",
           "showlakes": true,
           "showland": true,
           "subunitcolor": "white"
          },
          "hoverlabel": {
           "align": "left"
          },
          "hovermode": "closest",
          "mapbox": {
           "style": "light"
          },
          "paper_bgcolor": "white",
          "plot_bgcolor": "#E5ECF6",
          "polar": {
           "angularaxis": {
            "gridcolor": "white",
            "linecolor": "white",
            "ticks": ""
           },
           "bgcolor": "#E5ECF6",
           "radialaxis": {
            "gridcolor": "white",
            "linecolor": "white",
            "ticks": ""
           }
          },
          "scene": {
           "xaxis": {
            "backgroundcolor": "#E5ECF6",
            "gridcolor": "white",
            "gridwidth": 2,
            "linecolor": "white",
            "showbackground": true,
            "ticks": "",
            "zerolinecolor": "white"
           },
           "yaxis": {
            "backgroundcolor": "#E5ECF6",
            "gridcolor": "white",
            "gridwidth": 2,
            "linecolor": "white",
            "showbackground": true,
            "ticks": "",
            "zerolinecolor": "white"
           },
           "zaxis": {
            "backgroundcolor": "#E5ECF6",
            "gridcolor": "white",
            "gridwidth": 2,
            "linecolor": "white",
            "showbackground": true,
            "ticks": "",
            "zerolinecolor": "white"
           }
          },
          "shapedefaults": {
           "line": {
            "color": "#2a3f5f"
           }
          },
          "ternary": {
           "aaxis": {
            "gridcolor": "white",
            "linecolor": "white",
            "ticks": ""
           },
           "baxis": {
            "gridcolor": "white",
            "linecolor": "white",
            "ticks": ""
           },
           "bgcolor": "#E5ECF6",
           "caxis": {
            "gridcolor": "white",
            "linecolor": "white",
            "ticks": ""
           }
          },
          "title": {
           "x": 0.05
          },
          "xaxis": {
           "automargin": true,
           "gridcolor": "white",
           "linecolor": "white",
           "ticks": "",
           "title": {
            "standoff": 15
           },
           "zerolinecolor": "white",
           "zerolinewidth": 2
          },
          "yaxis": {
           "automargin": true,
           "gridcolor": "white",
           "linecolor": "white",
           "ticks": "",
           "title": {
            "standoff": 15
           },
           "zerolinecolor": "white",
           "zerolinewidth": 2
          }
         }
        },
        "xaxis": {
         "showgrid": false,
         "showticklabels": false,
         "zeroline": false
        },
        "yaxis": {
         "showgrid": false,
         "showticklabels": false,
         "zeroline": false
        }
       }
      }
     },
     "metadata": {},
     "output_type": "display_data"
    }
   ],
   "source": [
    "G, trip_counts = define_graph(filtered_df, remove_weak_edges=True, threshold=0.27)\n",
    "G = update_node_sizes(G, income, var_of_interest_2)\n",
    "positions = get_positions(gdf)\n",
    "edge_widths = set_art(G, 0.1)\n",
    "plotly_graph(G, positions, edge_widths, var_of_interest_2, node_size_scale=0.7)"
   ]
  },
  {
   "cell_type": "code",
   "execution_count": 23,
   "metadata": {},
   "outputs": [],
   "source": [
    "adj_matrix = nx.adjacency_matrix(G, weight='weight').toarray()\n",
    "np.save('adjacency_matrices/filtered_df.npy', adj_matrix)"
   ]
  },
  {
   "cell_type": "code",
   "execution_count": 19,
   "metadata": {},
   "outputs": [],
   "source": [
    "adj_matrix = get_adj_matrix(G)"
   ]
  },
  {
   "cell_type": "code",
   "execution_count": 20,
   "metadata": {},
   "outputs": [
    {
     "data": {
      "text/html": [
       "<div>\n",
       "<style scoped>\n",
       "    .dataframe tbody tr th:only-of-type {\n",
       "        vertical-align: middle;\n",
       "    }\n",
       "\n",
       "    .dataframe tbody tr th {\n",
       "        vertical-align: top;\n",
       "    }\n",
       "\n",
       "    .dataframe thead th {\n",
       "        text-align: right;\n",
       "    }\n",
       "</style>\n",
       "<table border=\"1\" class=\"dataframe\">\n",
       "  <thead>\n",
       "    <tr style=\"text-align: right;\">\n",
       "      <th></th>\n",
       "      <th>2807901.0</th>\n",
       "      <th>2807902.0</th>\n",
       "      <th>2807903.0</th>\n",
       "      <th>2807904.0</th>\n",
       "      <th>2807907.0</th>\n",
       "      <th>2807909.0</th>\n",
       "      <th>2807910.0</th>\n",
       "      <th>2807911.0</th>\n",
       "      <th>2807912.0</th>\n",
       "      <th>2807913.0</th>\n",
       "      <th>...</th>\n",
       "      <th>2807905.0</th>\n",
       "      <th>2807915.0</th>\n",
       "      <th>2807906.0</th>\n",
       "      <th>2807908.0</th>\n",
       "      <th>2807916.0</th>\n",
       "      <th>2807917.0</th>\n",
       "      <th>2807918.0</th>\n",
       "      <th>2807919.0</th>\n",
       "      <th>2807920.0</th>\n",
       "      <th>2807921.0</th>\n",
       "    </tr>\n",
       "  </thead>\n",
       "  <tbody>\n",
       "    <tr>\n",
       "      <th>2807901.0</th>\n",
       "      <td>0.629914</td>\n",
       "      <td>0.548320</td>\n",
       "      <td>0.424445</td>\n",
       "      <td>0.448233</td>\n",
       "      <td>0.680910</td>\n",
       "      <td>0.541820</td>\n",
       "      <td>0.404018</td>\n",
       "      <td>0.366079</td>\n",
       "      <td>0.000000</td>\n",
       "      <td>0.000000</td>\n",
       "      <td>...</td>\n",
       "      <td>0.000000</td>\n",
       "      <td>0.000000</td>\n",
       "      <td>0.000000</td>\n",
       "      <td>0.000000</td>\n",
       "      <td>0.000000</td>\n",
       "      <td>0.000000</td>\n",
       "      <td>0.000000</td>\n",
       "      <td>0.000000</td>\n",
       "      <td>0.000000</td>\n",
       "      <td>0.000000</td>\n",
       "    </tr>\n",
       "    <tr>\n",
       "      <th>2807902.0</th>\n",
       "      <td>0.695677</td>\n",
       "      <td>0.589145</td>\n",
       "      <td>0.508672</td>\n",
       "      <td>0.000000</td>\n",
       "      <td>0.000000</td>\n",
       "      <td>0.355600</td>\n",
       "      <td>0.352097</td>\n",
       "      <td>0.578946</td>\n",
       "      <td>0.580179</td>\n",
       "      <td>0.322985</td>\n",
       "      <td>...</td>\n",
       "      <td>0.000000</td>\n",
       "      <td>0.000000</td>\n",
       "      <td>0.000000</td>\n",
       "      <td>0.000000</td>\n",
       "      <td>0.000000</td>\n",
       "      <td>0.000000</td>\n",
       "      <td>0.000000</td>\n",
       "      <td>0.000000</td>\n",
       "      <td>0.000000</td>\n",
       "      <td>0.000000</td>\n",
       "    </tr>\n",
       "    <tr>\n",
       "      <th>2807903.0</th>\n",
       "      <td>0.530303</td>\n",
       "      <td>0.433103</td>\n",
       "      <td>0.541427</td>\n",
       "      <td>0.570428</td>\n",
       "      <td>0.000000</td>\n",
       "      <td>0.000000</td>\n",
       "      <td>0.000000</td>\n",
       "      <td>0.000000</td>\n",
       "      <td>0.000000</td>\n",
       "      <td>0.562414</td>\n",
       "      <td>...</td>\n",
       "      <td>0.000000</td>\n",
       "      <td>0.000000</td>\n",
       "      <td>0.000000</td>\n",
       "      <td>0.000000</td>\n",
       "      <td>0.000000</td>\n",
       "      <td>0.000000</td>\n",
       "      <td>0.000000</td>\n",
       "      <td>0.000000</td>\n",
       "      <td>0.000000</td>\n",
       "      <td>0.000000</td>\n",
       "    </tr>\n",
       "    <tr>\n",
       "      <th>2807904.0</th>\n",
       "      <td>0.395276</td>\n",
       "      <td>0.000000</td>\n",
       "      <td>0.455631</td>\n",
       "      <td>0.561041</td>\n",
       "      <td>0.521729</td>\n",
       "      <td>0.000000</td>\n",
       "      <td>0.000000</td>\n",
       "      <td>0.000000</td>\n",
       "      <td>0.000000</td>\n",
       "      <td>0.000000</td>\n",
       "      <td>...</td>\n",
       "      <td>0.572585</td>\n",
       "      <td>0.573650</td>\n",
       "      <td>0.000000</td>\n",
       "      <td>0.000000</td>\n",
       "      <td>0.000000</td>\n",
       "      <td>0.000000</td>\n",
       "      <td>0.000000</td>\n",
       "      <td>0.000000</td>\n",
       "      <td>0.000000</td>\n",
       "      <td>0.000000</td>\n",
       "    </tr>\n",
       "    <tr>\n",
       "      <th>2807907.0</th>\n",
       "      <td>0.667517</td>\n",
       "      <td>0.000000</td>\n",
       "      <td>0.000000</td>\n",
       "      <td>0.524307</td>\n",
       "      <td>0.572894</td>\n",
       "      <td>0.543529</td>\n",
       "      <td>0.000000</td>\n",
       "      <td>0.000000</td>\n",
       "      <td>0.000000</td>\n",
       "      <td>0.000000</td>\n",
       "      <td>...</td>\n",
       "      <td>0.473647</td>\n",
       "      <td>0.000000</td>\n",
       "      <td>0.532181</td>\n",
       "      <td>0.000000</td>\n",
       "      <td>0.000000</td>\n",
       "      <td>0.000000</td>\n",
       "      <td>0.000000</td>\n",
       "      <td>0.000000</td>\n",
       "      <td>0.000000</td>\n",
       "      <td>0.000000</td>\n",
       "    </tr>\n",
       "    <tr>\n",
       "      <th>2807909.0</th>\n",
       "      <td>0.605509</td>\n",
       "      <td>0.000000</td>\n",
       "      <td>0.000000</td>\n",
       "      <td>0.000000</td>\n",
       "      <td>0.658214</td>\n",
       "      <td>0.784892</td>\n",
       "      <td>0.573398</td>\n",
       "      <td>0.000000</td>\n",
       "      <td>0.000000</td>\n",
       "      <td>0.000000</td>\n",
       "      <td>...</td>\n",
       "      <td>0.000000</td>\n",
       "      <td>0.000000</td>\n",
       "      <td>0.561069</td>\n",
       "      <td>0.657261</td>\n",
       "      <td>0.000000</td>\n",
       "      <td>0.000000</td>\n",
       "      <td>0.000000</td>\n",
       "      <td>0.000000</td>\n",
       "      <td>0.000000</td>\n",
       "      <td>0.000000</td>\n",
       "    </tr>\n",
       "    <tr>\n",
       "      <th>2807910.0</th>\n",
       "      <td>0.651097</td>\n",
       "      <td>0.481241</td>\n",
       "      <td>0.000000</td>\n",
       "      <td>0.342739</td>\n",
       "      <td>0.396425</td>\n",
       "      <td>0.758217</td>\n",
       "      <td>0.844714</td>\n",
       "      <td>0.786909</td>\n",
       "      <td>0.000000</td>\n",
       "      <td>0.000000</td>\n",
       "      <td>...</td>\n",
       "      <td>0.352518</td>\n",
       "      <td>0.000000</td>\n",
       "      <td>0.290986</td>\n",
       "      <td>0.296338</td>\n",
       "      <td>0.000000</td>\n",
       "      <td>0.000000</td>\n",
       "      <td>0.000000</td>\n",
       "      <td>0.000000</td>\n",
       "      <td>0.000000</td>\n",
       "      <td>0.000000</td>\n",
       "    </tr>\n",
       "    <tr>\n",
       "      <th>2807911.0</th>\n",
       "      <td>0.507187</td>\n",
       "      <td>0.658298</td>\n",
       "      <td>0.000000</td>\n",
       "      <td>0.291939</td>\n",
       "      <td>0.310124</td>\n",
       "      <td>0.354927</td>\n",
       "      <td>0.747149</td>\n",
       "      <td>0.855278</td>\n",
       "      <td>0.709686</td>\n",
       "      <td>0.000000</td>\n",
       "      <td>...</td>\n",
       "      <td>0.324302</td>\n",
       "      <td>0.000000</td>\n",
       "      <td>0.000000</td>\n",
       "      <td>0.000000</td>\n",
       "      <td>0.000000</td>\n",
       "      <td>0.327300</td>\n",
       "      <td>0.000000</td>\n",
       "      <td>0.000000</td>\n",
       "      <td>0.000000</td>\n",
       "      <td>0.000000</td>\n",
       "    </tr>\n",
       "    <tr>\n",
       "      <th>2807912.0</th>\n",
       "      <td>0.367732</td>\n",
       "      <td>0.630614</td>\n",
       "      <td>0.000000</td>\n",
       "      <td>0.000000</td>\n",
       "      <td>0.000000</td>\n",
       "      <td>0.000000</td>\n",
       "      <td>0.000000</td>\n",
       "      <td>0.655692</td>\n",
       "      <td>0.672812</td>\n",
       "      <td>0.451400</td>\n",
       "      <td>...</td>\n",
       "      <td>0.000000</td>\n",
       "      <td>0.000000</td>\n",
       "      <td>0.000000</td>\n",
       "      <td>0.000000</td>\n",
       "      <td>0.000000</td>\n",
       "      <td>0.606573</td>\n",
       "      <td>0.000000</td>\n",
       "      <td>0.000000</td>\n",
       "      <td>0.000000</td>\n",
       "      <td>0.000000</td>\n",
       "    </tr>\n",
       "    <tr>\n",
       "      <th>2807913.0</th>\n",
       "      <td>0.355151</td>\n",
       "      <td>0.571801</td>\n",
       "      <td>0.727423</td>\n",
       "      <td>0.352125</td>\n",
       "      <td>0.284597</td>\n",
       "      <td>0.290258</td>\n",
       "      <td>0.000000</td>\n",
       "      <td>0.000000</td>\n",
       "      <td>0.563199</td>\n",
       "      <td>0.848973</td>\n",
       "      <td>...</td>\n",
       "      <td>0.294965</td>\n",
       "      <td>0.283197</td>\n",
       "      <td>0.000000</td>\n",
       "      <td>0.000000</td>\n",
       "      <td>0.000000</td>\n",
       "      <td>0.459553</td>\n",
       "      <td>0.756704</td>\n",
       "      <td>0.455490</td>\n",
       "      <td>0.000000</td>\n",
       "      <td>0.000000</td>\n",
       "    </tr>\n",
       "    <tr>\n",
       "      <th>2807914.0</th>\n",
       "      <td>0.000000</td>\n",
       "      <td>0.000000</td>\n",
       "      <td>0.557679</td>\n",
       "      <td>0.479195</td>\n",
       "      <td>0.000000</td>\n",
       "      <td>0.000000</td>\n",
       "      <td>0.000000</td>\n",
       "      <td>0.000000</td>\n",
       "      <td>0.000000</td>\n",
       "      <td>0.604640</td>\n",
       "      <td>...</td>\n",
       "      <td>0.000000</td>\n",
       "      <td>0.485920</td>\n",
       "      <td>0.000000</td>\n",
       "      <td>0.000000</td>\n",
       "      <td>0.000000</td>\n",
       "      <td>0.000000</td>\n",
       "      <td>0.284710</td>\n",
       "      <td>0.423268</td>\n",
       "      <td>0.342122</td>\n",
       "      <td>0.000000</td>\n",
       "    </tr>\n",
       "    <tr>\n",
       "      <th>2807905.0</th>\n",
       "      <td>0.000000</td>\n",
       "      <td>0.000000</td>\n",
       "      <td>0.000000</td>\n",
       "      <td>0.592283</td>\n",
       "      <td>0.492084</td>\n",
       "      <td>0.000000</td>\n",
       "      <td>0.000000</td>\n",
       "      <td>0.000000</td>\n",
       "      <td>0.000000</td>\n",
       "      <td>0.000000</td>\n",
       "      <td>...</td>\n",
       "      <td>0.683936</td>\n",
       "      <td>0.537925</td>\n",
       "      <td>0.501639</td>\n",
       "      <td>0.542520</td>\n",
       "      <td>0.473031</td>\n",
       "      <td>0.000000</td>\n",
       "      <td>0.000000</td>\n",
       "      <td>0.000000</td>\n",
       "      <td>0.000000</td>\n",
       "      <td>0.000000</td>\n",
       "    </tr>\n",
       "    <tr>\n",
       "      <th>2807915.0</th>\n",
       "      <td>0.297150</td>\n",
       "      <td>0.000000</td>\n",
       "      <td>0.435877</td>\n",
       "      <td>0.779988</td>\n",
       "      <td>0.284485</td>\n",
       "      <td>0.000000</td>\n",
       "      <td>0.000000</td>\n",
       "      <td>0.000000</td>\n",
       "      <td>0.000000</td>\n",
       "      <td>0.000000</td>\n",
       "      <td>...</td>\n",
       "      <td>0.682367</td>\n",
       "      <td>0.763737</td>\n",
       "      <td>0.000000</td>\n",
       "      <td>0.386618</td>\n",
       "      <td>0.574295</td>\n",
       "      <td>0.000000</td>\n",
       "      <td>0.000000</td>\n",
       "      <td>0.323293</td>\n",
       "      <td>0.726526</td>\n",
       "      <td>0.000000</td>\n",
       "    </tr>\n",
       "    <tr>\n",
       "      <th>2807906.0</th>\n",
       "      <td>0.293564</td>\n",
       "      <td>0.000000</td>\n",
       "      <td>0.000000</td>\n",
       "      <td>0.273810</td>\n",
       "      <td>0.647538</td>\n",
       "      <td>0.589229</td>\n",
       "      <td>0.000000</td>\n",
       "      <td>0.000000</td>\n",
       "      <td>0.000000</td>\n",
       "      <td>0.000000</td>\n",
       "      <td>...</td>\n",
       "      <td>0.629914</td>\n",
       "      <td>0.000000</td>\n",
       "      <td>0.631315</td>\n",
       "      <td>0.783743</td>\n",
       "      <td>0.000000</td>\n",
       "      <td>0.000000</td>\n",
       "      <td>0.000000</td>\n",
       "      <td>0.000000</td>\n",
       "      <td>0.000000</td>\n",
       "      <td>0.000000</td>\n",
       "    </tr>\n",
       "    <tr>\n",
       "      <th>2807908.0</th>\n",
       "      <td>0.335285</td>\n",
       "      <td>0.000000</td>\n",
       "      <td>0.000000</td>\n",
       "      <td>0.277228</td>\n",
       "      <td>0.351873</td>\n",
       "      <td>0.673905</td>\n",
       "      <td>0.000000</td>\n",
       "      <td>0.000000</td>\n",
       "      <td>0.000000</td>\n",
       "      <td>0.000000</td>\n",
       "      <td>...</td>\n",
       "      <td>0.536692</td>\n",
       "      <td>0.325619</td>\n",
       "      <td>0.735297</td>\n",
       "      <td>1.000000</td>\n",
       "      <td>0.678809</td>\n",
       "      <td>0.000000</td>\n",
       "      <td>0.000000</td>\n",
       "      <td>0.000000</td>\n",
       "      <td>0.000000</td>\n",
       "      <td>0.000000</td>\n",
       "    </tr>\n",
       "    <tr>\n",
       "      <th>2807916.0</th>\n",
       "      <td>0.000000</td>\n",
       "      <td>0.000000</td>\n",
       "      <td>0.000000</td>\n",
       "      <td>0.000000</td>\n",
       "      <td>0.000000</td>\n",
       "      <td>0.000000</td>\n",
       "      <td>0.000000</td>\n",
       "      <td>0.000000</td>\n",
       "      <td>0.000000</td>\n",
       "      <td>0.000000</td>\n",
       "      <td>...</td>\n",
       "      <td>0.545714</td>\n",
       "      <td>0.621788</td>\n",
       "      <td>0.000000</td>\n",
       "      <td>0.657766</td>\n",
       "      <td>0.893749</td>\n",
       "      <td>0.000000</td>\n",
       "      <td>0.000000</td>\n",
       "      <td>0.000000</td>\n",
       "      <td>0.574239</td>\n",
       "      <td>0.527810</td>\n",
       "    </tr>\n",
       "    <tr>\n",
       "      <th>2807917.0</th>\n",
       "      <td>0.301185</td>\n",
       "      <td>0.000000</td>\n",
       "      <td>0.000000</td>\n",
       "      <td>0.272241</td>\n",
       "      <td>0.291855</td>\n",
       "      <td>0.000000</td>\n",
       "      <td>0.000000</td>\n",
       "      <td>0.307602</td>\n",
       "      <td>0.635462</td>\n",
       "      <td>0.336182</td>\n",
       "      <td>...</td>\n",
       "      <td>0.000000</td>\n",
       "      <td>0.000000</td>\n",
       "      <td>0.000000</td>\n",
       "      <td>0.000000</td>\n",
       "      <td>0.000000</td>\n",
       "      <td>0.864860</td>\n",
       "      <td>0.444283</td>\n",
       "      <td>0.000000</td>\n",
       "      <td>0.000000</td>\n",
       "      <td>0.000000</td>\n",
       "    </tr>\n",
       "    <tr>\n",
       "      <th>2807918.0</th>\n",
       "      <td>0.314439</td>\n",
       "      <td>0.000000</td>\n",
       "      <td>0.000000</td>\n",
       "      <td>0.000000</td>\n",
       "      <td>0.000000</td>\n",
       "      <td>0.000000</td>\n",
       "      <td>0.000000</td>\n",
       "      <td>0.000000</td>\n",
       "      <td>0.000000</td>\n",
       "      <td>0.724229</td>\n",
       "      <td>...</td>\n",
       "      <td>0.000000</td>\n",
       "      <td>0.000000</td>\n",
       "      <td>0.000000</td>\n",
       "      <td>0.000000</td>\n",
       "      <td>0.000000</td>\n",
       "      <td>0.481605</td>\n",
       "      <td>0.861022</td>\n",
       "      <td>0.623329</td>\n",
       "      <td>0.000000</td>\n",
       "      <td>0.000000</td>\n",
       "    </tr>\n",
       "    <tr>\n",
       "      <th>2807919.0</th>\n",
       "      <td>0.000000</td>\n",
       "      <td>0.000000</td>\n",
       "      <td>0.000000</td>\n",
       "      <td>0.000000</td>\n",
       "      <td>0.000000</td>\n",
       "      <td>0.000000</td>\n",
       "      <td>0.000000</td>\n",
       "      <td>0.000000</td>\n",
       "      <td>0.000000</td>\n",
       "      <td>0.443022</td>\n",
       "      <td>...</td>\n",
       "      <td>0.000000</td>\n",
       "      <td>0.000000</td>\n",
       "      <td>0.000000</td>\n",
       "      <td>0.000000</td>\n",
       "      <td>0.000000</td>\n",
       "      <td>0.000000</td>\n",
       "      <td>0.566337</td>\n",
       "      <td>0.740144</td>\n",
       "      <td>0.583849</td>\n",
       "      <td>0.000000</td>\n",
       "    </tr>\n",
       "    <tr>\n",
       "      <th>2807920.0</th>\n",
       "      <td>0.289473</td>\n",
       "      <td>0.000000</td>\n",
       "      <td>0.000000</td>\n",
       "      <td>0.305893</td>\n",
       "      <td>0.276444</td>\n",
       "      <td>0.000000</td>\n",
       "      <td>0.000000</td>\n",
       "      <td>0.000000</td>\n",
       "      <td>0.000000</td>\n",
       "      <td>0.000000</td>\n",
       "      <td>...</td>\n",
       "      <td>0.000000</td>\n",
       "      <td>0.725994</td>\n",
       "      <td>0.000000</td>\n",
       "      <td>0.345232</td>\n",
       "      <td>0.577629</td>\n",
       "      <td>0.000000</td>\n",
       "      <td>0.000000</td>\n",
       "      <td>0.686682</td>\n",
       "      <td>0.876657</td>\n",
       "      <td>0.633192</td>\n",
       "    </tr>\n",
       "    <tr>\n",
       "      <th>2807921.0</th>\n",
       "      <td>0.000000</td>\n",
       "      <td>0.000000</td>\n",
       "      <td>0.000000</td>\n",
       "      <td>0.000000</td>\n",
       "      <td>0.000000</td>\n",
       "      <td>0.000000</td>\n",
       "      <td>0.000000</td>\n",
       "      <td>0.000000</td>\n",
       "      <td>0.000000</td>\n",
       "      <td>0.000000</td>\n",
       "      <td>...</td>\n",
       "      <td>0.000000</td>\n",
       "      <td>0.000000</td>\n",
       "      <td>0.000000</td>\n",
       "      <td>0.000000</td>\n",
       "      <td>0.566085</td>\n",
       "      <td>0.000000</td>\n",
       "      <td>0.000000</td>\n",
       "      <td>0.000000</td>\n",
       "      <td>0.526633</td>\n",
       "      <td>0.763961</td>\n",
       "    </tr>\n",
       "  </tbody>\n",
       "</table>\n",
       "<p>21 rows × 21 columns</p>\n",
       "</div>"
      ],
      "text/plain": [
       "           2807901.0  2807902.0  2807903.0  2807904.0  2807907.0  2807909.0  \\\n",
       "2807901.0   0.629914   0.548320   0.424445   0.448233   0.680910   0.541820   \n",
       "2807902.0   0.695677   0.589145   0.508672   0.000000   0.000000   0.355600   \n",
       "2807903.0   0.530303   0.433103   0.541427   0.570428   0.000000   0.000000   \n",
       "2807904.0   0.395276   0.000000   0.455631   0.561041   0.521729   0.000000   \n",
       "2807907.0   0.667517   0.000000   0.000000   0.524307   0.572894   0.543529   \n",
       "2807909.0   0.605509   0.000000   0.000000   0.000000   0.658214   0.784892   \n",
       "2807910.0   0.651097   0.481241   0.000000   0.342739   0.396425   0.758217   \n",
       "2807911.0   0.507187   0.658298   0.000000   0.291939   0.310124   0.354927   \n",
       "2807912.0   0.367732   0.630614   0.000000   0.000000   0.000000   0.000000   \n",
       "2807913.0   0.355151   0.571801   0.727423   0.352125   0.284597   0.290258   \n",
       "2807914.0   0.000000   0.000000   0.557679   0.479195   0.000000   0.000000   \n",
       "2807905.0   0.000000   0.000000   0.000000   0.592283   0.492084   0.000000   \n",
       "2807915.0   0.297150   0.000000   0.435877   0.779988   0.284485   0.000000   \n",
       "2807906.0   0.293564   0.000000   0.000000   0.273810   0.647538   0.589229   \n",
       "2807908.0   0.335285   0.000000   0.000000   0.277228   0.351873   0.673905   \n",
       "2807916.0   0.000000   0.000000   0.000000   0.000000   0.000000   0.000000   \n",
       "2807917.0   0.301185   0.000000   0.000000   0.272241   0.291855   0.000000   \n",
       "2807918.0   0.314439   0.000000   0.000000   0.000000   0.000000   0.000000   \n",
       "2807919.0   0.000000   0.000000   0.000000   0.000000   0.000000   0.000000   \n",
       "2807920.0   0.289473   0.000000   0.000000   0.305893   0.276444   0.000000   \n",
       "2807921.0   0.000000   0.000000   0.000000   0.000000   0.000000   0.000000   \n",
       "\n",
       "           2807910.0  2807911.0  2807912.0  2807913.0  ...  2807905.0  \\\n",
       "2807901.0   0.404018   0.366079   0.000000   0.000000  ...   0.000000   \n",
       "2807902.0   0.352097   0.578946   0.580179   0.322985  ...   0.000000   \n",
       "2807903.0   0.000000   0.000000   0.000000   0.562414  ...   0.000000   \n",
       "2807904.0   0.000000   0.000000   0.000000   0.000000  ...   0.572585   \n",
       "2807907.0   0.000000   0.000000   0.000000   0.000000  ...   0.473647   \n",
       "2807909.0   0.573398   0.000000   0.000000   0.000000  ...   0.000000   \n",
       "2807910.0   0.844714   0.786909   0.000000   0.000000  ...   0.352518   \n",
       "2807911.0   0.747149   0.855278   0.709686   0.000000  ...   0.324302   \n",
       "2807912.0   0.000000   0.655692   0.672812   0.451400  ...   0.000000   \n",
       "2807913.0   0.000000   0.000000   0.563199   0.848973  ...   0.294965   \n",
       "2807914.0   0.000000   0.000000   0.000000   0.604640  ...   0.000000   \n",
       "2807905.0   0.000000   0.000000   0.000000   0.000000  ...   0.683936   \n",
       "2807915.0   0.000000   0.000000   0.000000   0.000000  ...   0.682367   \n",
       "2807906.0   0.000000   0.000000   0.000000   0.000000  ...   0.629914   \n",
       "2807908.0   0.000000   0.000000   0.000000   0.000000  ...   0.536692   \n",
       "2807916.0   0.000000   0.000000   0.000000   0.000000  ...   0.545714   \n",
       "2807917.0   0.000000   0.307602   0.635462   0.336182  ...   0.000000   \n",
       "2807918.0   0.000000   0.000000   0.000000   0.724229  ...   0.000000   \n",
       "2807919.0   0.000000   0.000000   0.000000   0.443022  ...   0.000000   \n",
       "2807920.0   0.000000   0.000000   0.000000   0.000000  ...   0.000000   \n",
       "2807921.0   0.000000   0.000000   0.000000   0.000000  ...   0.000000   \n",
       "\n",
       "           2807915.0  2807906.0  2807908.0  2807916.0  2807917.0  2807918.0  \\\n",
       "2807901.0   0.000000   0.000000   0.000000   0.000000   0.000000   0.000000   \n",
       "2807902.0   0.000000   0.000000   0.000000   0.000000   0.000000   0.000000   \n",
       "2807903.0   0.000000   0.000000   0.000000   0.000000   0.000000   0.000000   \n",
       "2807904.0   0.573650   0.000000   0.000000   0.000000   0.000000   0.000000   \n",
       "2807907.0   0.000000   0.532181   0.000000   0.000000   0.000000   0.000000   \n",
       "2807909.0   0.000000   0.561069   0.657261   0.000000   0.000000   0.000000   \n",
       "2807910.0   0.000000   0.290986   0.296338   0.000000   0.000000   0.000000   \n",
       "2807911.0   0.000000   0.000000   0.000000   0.000000   0.327300   0.000000   \n",
       "2807912.0   0.000000   0.000000   0.000000   0.000000   0.606573   0.000000   \n",
       "2807913.0   0.283197   0.000000   0.000000   0.000000   0.459553   0.756704   \n",
       "2807914.0   0.485920   0.000000   0.000000   0.000000   0.000000   0.284710   \n",
       "2807905.0   0.537925   0.501639   0.542520   0.473031   0.000000   0.000000   \n",
       "2807915.0   0.763737   0.000000   0.386618   0.574295   0.000000   0.000000   \n",
       "2807906.0   0.000000   0.631315   0.783743   0.000000   0.000000   0.000000   \n",
       "2807908.0   0.325619   0.735297   1.000000   0.678809   0.000000   0.000000   \n",
       "2807916.0   0.621788   0.000000   0.657766   0.893749   0.000000   0.000000   \n",
       "2807917.0   0.000000   0.000000   0.000000   0.000000   0.864860   0.444283   \n",
       "2807918.0   0.000000   0.000000   0.000000   0.000000   0.481605   0.861022   \n",
       "2807919.0   0.000000   0.000000   0.000000   0.000000   0.000000   0.566337   \n",
       "2807920.0   0.725994   0.000000   0.345232   0.577629   0.000000   0.000000   \n",
       "2807921.0   0.000000   0.000000   0.000000   0.566085   0.000000   0.000000   \n",
       "\n",
       "           2807919.0  2807920.0  2807921.0  \n",
       "2807901.0   0.000000   0.000000   0.000000  \n",
       "2807902.0   0.000000   0.000000   0.000000  \n",
       "2807903.0   0.000000   0.000000   0.000000  \n",
       "2807904.0   0.000000   0.000000   0.000000  \n",
       "2807907.0   0.000000   0.000000   0.000000  \n",
       "2807909.0   0.000000   0.000000   0.000000  \n",
       "2807910.0   0.000000   0.000000   0.000000  \n",
       "2807911.0   0.000000   0.000000   0.000000  \n",
       "2807912.0   0.000000   0.000000   0.000000  \n",
       "2807913.0   0.455490   0.000000   0.000000  \n",
       "2807914.0   0.423268   0.342122   0.000000  \n",
       "2807905.0   0.000000   0.000000   0.000000  \n",
       "2807915.0   0.323293   0.726526   0.000000  \n",
       "2807906.0   0.000000   0.000000   0.000000  \n",
       "2807908.0   0.000000   0.000000   0.000000  \n",
       "2807916.0   0.000000   0.574239   0.527810  \n",
       "2807917.0   0.000000   0.000000   0.000000  \n",
       "2807918.0   0.623329   0.000000   0.000000  \n",
       "2807919.0   0.740144   0.583849   0.000000  \n",
       "2807920.0   0.686682   0.876657   0.633192  \n",
       "2807921.0   0.000000   0.526633   0.763961  \n",
       "\n",
       "[21 rows x 21 columns]"
      ]
     },
     "execution_count": 20,
     "metadata": {},
     "output_type": "execute_result"
    }
   ],
   "source": [
    "adj_matrix"
   ]
  },
  {
   "cell_type": "code",
   "execution_count": 21,
   "metadata": {},
   "outputs": [
    {
     "data": {
      "image/png": "[encoded data removed]",
      "text/plain": [
       "<Figure size 1000x800 with 2 Axes>"
      ]
     },
     "metadata": {},
     "output_type": "display_data"
    }
   ],
   "source": [
    "plt.figure(figsize=(10, 8))\n",
    "sns.heatmap(\n",
    "    adj_matrix, \n",
    "    annot=True, \n",
    "    cmap='viridis', \n",
    "    cbar_kws={'label': 'Weights'}, \n",
    "    fmt=\".1f\"\n",
    ")\n",
    "plt.title('March 2022 Trips - Only Home Origin')\n",
    "plt.xlabel('Destination District')\n",
    "plt.ylabel('Home District');"
   ]
  },
  {
   "attachments": {},
   "cell_type": "markdown",
   "metadata": {},
   "source": [
    "## General Statistics"
   ]
  },
  {
   "cell_type": "code",
   "execution_count": 42,
   "metadata": {},
   "outputs": [
    {
     "data": {
      "text/plain": [
       "np.float64(68.37966287609368)"
      ]
     },
     "execution_count": 42,
     "metadata": {},
     "output_type": "execute_result"
    }
   ],
   "source": [
    "G.size(weight=\"weight\")"
   ]
  },
  {
   "cell_type": "code",
   "execution_count": 45,
   "metadata": {},
   "outputs": [],
   "source": [
    "#degree_df = pd.DataFrame(nx.degree(G, weight='weight'),columns=[\"ID\", \"degree\"])\n",
    "#degree_df.sort_values(\"degree\", ascending=False)"
   ]
  },
  {
   "cell_type": "code",
   "execution_count": 43,
   "metadata": {},
   "outputs": [
    {
     "data": {
      "text/plain": [
       "441"
      ]
     },
     "execution_count": 43,
     "metadata": {},
     "output_type": "execute_result"
    }
   ],
   "source": [
    "len(G.edges)"
   ]
  },
  {
   "cell_type": "code",
   "execution_count": 46,
   "metadata": {},
   "outputs": [],
   "source": [
    "#nx.average_clustering(G, weight='weight')"
   ]
  },
  {
   "cell_type": "code",
   "execution_count": 47,
   "metadata": {},
   "outputs": [],
   "source": [
    "#nx.eigenvector_centrality(G, weight='weight')"
   ]
  },
  {
   "cell_type": "code",
   "execution_count": 48,
   "metadata": {},
   "outputs": [],
   "source": [
    "#nx.betweenness_centrality(G, weight='weight')"
   ]
  },
  {
   "cell_type": "code",
   "execution_count": 49,
   "metadata": {},
   "outputs": [],
   "source": [
    "#nx.shortest_path(G, source=2807901, target=2807921, weight='weight')"
   ]
  },
  {
   "cell_type": "code",
   "execution_count": 50,
   "metadata": {},
   "outputs": [],
   "source": [
    "#print_node_degrees(G)"
   ]
  },
  {
   "cell_type": "code",
   "execution_count": 51,
   "metadata": {},
   "outputs": [],
   "source": [
    "# Check total in-weights for each node\n",
    "#in_weights = check_in_weights(G)"
   ]
  },
  {
   "cell_type": "code",
   "execution_count": 52,
   "metadata": {},
   "outputs": [],
   "source": [
    "# Check total out-weights for each node\n",
    "#out_weights = check_out_weights(G)"
   ]
  },
  {
   "cell_type": "code",
   "execution_count": 35,
   "metadata": {},
   "outputs": [],
   "source": [
    "adj_matrix = get_adj_matrix(G)"
   ]
  },
  {
   "cell_type": "code",
   "execution_count": 24,
   "metadata": {},
   "outputs": [
    {
     "data": {
      "image/png": "[encoded data removed]",
      "text/plain": [
       "<Figure size 500x500 with 2 Axes>"
      ]
     },
     "metadata": {},
     "output_type": "display_data"
    }
   ],
   "source": [
    "income = gpd.read_file('/Users/caro/Desktop/thesis_project/segregation_indices/data/processed/geometries_and_income.geojson')\n",
    "district_ids = [2807901, 2807902, 2807903, 2807904, 2807905, 2807906, 2807907, 2807908, 2807909, 2807910,\n",
    "                2807911, 2807912, 2807913, 2807914, 2807915, 2807916, 2807917, 2807918, 2807919, 2807920, \n",
    "                2807921]\n",
    "\n",
    "# Ensure income data is aligned with the district IDs (sorting the income data)\n",
    "income.set_index('ID', inplace=True)\n",
    "income_data = income.reindex(district_ids)\n",
    "\n",
    "# Extract income values and normalize the sizes for better visualization\n",
    "income_values = income_data['Average income per consumption unit'].values\n",
    "\n",
    "# Normalize income for scaling the circle size (optional scaling factor to make the circles visible)\n",
    "min_circle_size = 50  # Minimum size for the circles\n",
    "max_circle_size = 300  # Maximum size for the circles\n",
    "income_range = income_values.max() - income_values.min()\n",
    "circle_sizes = min_circle_size + ((income_values - income_values.min()) / income_range) * (max_circle_size - min_circle_size)\n",
    "\n",
    "# Plot the adjacency matrix heatmap\n",
    "plt.figure(figsize=(5, 5))  # Slightly larger figure for readability\n",
    "ax = sns.heatmap(\n",
    "    adj_matrix, \n",
    "    annot=True,  # Remove the default annotations\n",
    "    cmap='viridis', \n",
    "    cbar_kws={'label': 'Weights'}, \n",
    "    fmt=\".1f\",\n",
    "    xticklabels=False,  # We'll set custom tick labels below\n",
    "    yticklabels=False   # We'll set custom tick labels below\n",
    ")\n",
    "\n",
    "for i, size in enumerate(circle_sizes):\n",
    "    # Add circles on x-axis (destination districts)\n",
    "    circle_x = plt.Circle((i + 0.5, 21.5), radius=size / 150, color='pink', alpha=0.7)\n",
    "    ax.add_artist(circle_x)\n",
    "    \n",
    "    # Add circles on y-axis (home districts)\n",
    "    circle_y = plt.Circle((-1.5, i + 0.5), radius=size / 150, color='pink', alpha=0.7)\n",
    "    ax.add_artist(circle_y)\n",
    "\n",
    "# Add title and labels\n",
    "plt.title('March 2022 Trips Adjacency Matrix (Only Home Origin)', pad=20)\n",
    "plt.xlabel('Destination District')\n",
    "plt.ylabel('Home District')\n",
    "\n",
    "# Show the plot\n",
    "plt.tight_layout()\n",
    "plt.show()"
   ]
  },
  {
   "cell_type": "code",
   "execution_count": 43,
   "metadata": {},
   "outputs": [],
   "source": [
    "# nx.write_gml(G, \"0322_home_origin_graph.gml\")"
   ]
  },
  {
   "attachments": {},
   "cell_type": "markdown",
   "metadata": {},
   "source": [
    "## Trip count analysis"
   ]
  },
  {
   "cell_type": "code",
   "execution_count": 45,
   "metadata": {},
   "outputs": [],
   "source": [
    "# TODO: stratify trips by renta"
   ]
  },
  {
   "cell_type": "code",
   "execution_count": null,
   "metadata": {},
   "outputs": [
    {
     "ename": "",
     "evalue": "",
     "output_type": "error",
     "traceback": [
      "\u001b[1;31mFailed to start the Kernel. \n",
      "\u001b[1;31mThe Jupyter notebook server failed to launch in time. \n",
      "\u001b[1;31mView Jupyter <a href='command:jupyter.viewOutput'>log</a> for further details."
     ]
    }
   ],
   "source": [
    "district_mapping = pd.read_csv('/Users/caro/Desktop/thesis_project/data_overview/processed/districts_and_population.csv')"
   ]
  },
  {
   "cell_type": "code",
   "execution_count": null,
   "metadata": {},
   "outputs": [
    {
     "ename": "",
     "evalue": "",
     "output_type": "error",
     "traceback": [
      "\u001b[1;31mFailed to start the Kernel. \n",
      "\u001b[1;31mThe Jupyter notebook server failed to launch in time. \n",
      "\u001b[1;31mView Jupyter <a href='command:jupyter.viewOutput'>log</a> for further details."
     ]
    }
   ],
   "source": [
    "trip_counts = home_to_work.groupby(['origen', 'destino', 'renta']).size().reset_index(name='trip_count')"
   ]
  },
  {
   "cell_type": "code",
   "execution_count": null,
   "metadata": {},
   "outputs": [
    {
     "ename": "",
     "evalue": "",
     "output_type": "error",
     "traceback": [
      "\u001b[1;31mFailed to start the Kernel. \n",
      "\u001b[1;31mThe Jupyter notebook server failed to launch in time. \n",
      "\u001b[1;31mView Jupyter <a href='command:jupyter.viewOutput'>log</a> for further details."
     ]
    }
   ],
   "source": [
    "# Step 1: Merge on 'origen' to get the 'name_2' for the 'origen'\n",
    "trip_counts = trip_counts.merge(district_mapping[['ID', 'name_2']], how='left', left_on='origen', right_on='ID')\n",
    "trip_counts = trip_counts.rename(columns={'name_2': 'origen_name'})\n",
    "\n",
    "# Step 2: Merge on 'destino' to get the 'name_2' for the 'destino'\n",
    "trip_counts = trip_counts.merge(district_mapping[['ID', 'name_2']], how='left', left_on='destino', right_on='ID')\n",
    "trip_counts = trip_counts.rename(columns={'name_2': 'destino_name'})\n",
    "\n",
    "# Step 3: Drop the redundant 'ID' columns from the merges\n",
    "trip_counts = trip_counts.drop(columns=['ID_x', 'ID_y'])"
   ]
  },
  {
   "cell_type": "code",
   "execution_count": 35,
   "metadata": {},
   "outputs": [],
   "source": [
    "high_rent_df = trip_counts[trip_counts['renta'] == '>15'].sort_values(by='trip_count', ascending=False)\n",
    "high_rent_top3 = high_rent_df.head(3)\n",
    "high_rent_bottom3 = high_rent_df.tail(3)\n",
    "\n",
    "# Filter medium rent (10-15)\n",
    "medium_rent_df = trip_counts[trip_counts['renta'] == '10-15'].sort_values(by='trip_count', ascending=False)\n",
    "medium_rent_top3 = medium_rent_df.head(3)\n",
    "medium_rent_bottom3 = medium_rent_df.tail(3)\n",
    "\n",
    "# Filter low rent (<10)\n",
    "low_rent_df = trip_counts[trip_counts['renta'] == '<10'].sort_values(by='trip_count', ascending=False)\n",
    "low_rent_top3 = low_rent_df.head(3)\n",
    "low_rent_bottom3 = low_rent_df.tail(3)\n",
    "\n",
    "# Combine the results into one DataFrame for easy viewing\n",
    "top3_bottom3_combined = pd.concat([\n",
    "    high_rent_top3, high_rent_bottom3,\n",
    "    medium_rent_top3, medium_rent_bottom3,\n",
    "    low_rent_top3, low_rent_bottom3\n",
    "])"
   ]
  },
  {
   "cell_type": "code",
   "execution_count": 39,
   "metadata": {},
   "outputs": [
    {
     "data": {
      "text/html": [
       "<div>\n",
       "<style scoped>\n",
       "    .dataframe tbody tr th:only-of-type {\n",
       "        vertical-align: middle;\n",
       "    }\n",
       "\n",
       "    .dataframe tbody tr th {\n",
       "        vertical-align: top;\n",
       "    }\n",
       "\n",
       "    .dataframe thead th {\n",
       "        text-align: right;\n",
       "    }\n",
       "</style>\n",
       "<table border=\"1\" class=\"dataframe\">\n",
       "  <thead>\n",
       "    <tr style=\"text-align: right;\">\n",
       "      <th></th>\n",
       "      <th>origen</th>\n",
       "      <th>destino</th>\n",
       "      <th>renta</th>\n",
       "      <th>trip_count</th>\n",
       "      <th>origen_name</th>\n",
       "      <th>destino_name</th>\n",
       "    </tr>\n",
       "  </thead>\n",
       "  <tbody>\n",
       "    <tr>\n",
       "      <th>433</th>\n",
       "      <td>2807921</td>\n",
       "      <td>2807914</td>\n",
       "      <td>&gt;15</td>\n",
       "      <td>114</td>\n",
       "      <td>Barajas</td>\n",
       "      <td>Moratalaz</td>\n",
       "    </tr>\n",
       "    <tr>\n",
       "      <th>431</th>\n",
       "      <td>2807921</td>\n",
       "      <td>2807912</td>\n",
       "      <td>&gt;15</td>\n",
       "      <td>193</td>\n",
       "      <td>Barajas</td>\n",
       "      <td>Usera</td>\n",
       "    </tr>\n",
       "    <tr>\n",
       "      <th>139</th>\n",
       "      <td>2807907</td>\n",
       "      <td>2807914</td>\n",
       "      <td>&gt;15</td>\n",
       "      <td>226</td>\n",
       "      <td>Chamberí</td>\n",
       "      <td>Moratalaz</td>\n",
       "    </tr>\n",
       "    <tr>\n",
       "      <th>181</th>\n",
       "      <td>2807909</td>\n",
       "      <td>2807914</td>\n",
       "      <td>&gt;15</td>\n",
       "      <td>270</td>\n",
       "      <td>Moncloa-Aravaca</td>\n",
       "      <td>Moratalaz</td>\n",
       "    </tr>\n",
       "    <tr>\n",
       "      <th>429</th>\n",
       "      <td>2807921</td>\n",
       "      <td>2807910</td>\n",
       "      <td>&gt;15</td>\n",
       "      <td>273</td>\n",
       "      <td>Barajas</td>\n",
       "      <td>Latina</td>\n",
       "    </tr>\n",
       "    <tr>\n",
       "      <th>...</th>\n",
       "      <td>...</td>\n",
       "      <td>...</td>\n",
       "      <td>...</td>\n",
       "      <td>...</td>\n",
       "      <td>...</td>\n",
       "      <td>...</td>\n",
       "    </tr>\n",
       "    <tr>\n",
       "      <th>418</th>\n",
       "      <td>2807920</td>\n",
       "      <td>2807920</td>\n",
       "      <td>10-15</td>\n",
       "      <td>9914</td>\n",
       "      <td>San Blas-Canillejas</td>\n",
       "      <td>San Blas-Canillejas</td>\n",
       "    </tr>\n",
       "    <tr>\n",
       "      <th>352</th>\n",
       "      <td>2807917</td>\n",
       "      <td>2807917</td>\n",
       "      <td>10-15</td>\n",
       "      <td>10468</td>\n",
       "      <td>Villaverde</td>\n",
       "      <td>Villaverde</td>\n",
       "    </tr>\n",
       "    <tr>\n",
       "      <th>374</th>\n",
       "      <td>2807918</td>\n",
       "      <td>2807918</td>\n",
       "      <td>10-15</td>\n",
       "      <td>10549</td>\n",
       "      <td>Villa de Vallecas</td>\n",
       "      <td>Villa de Vallecas</td>\n",
       "    </tr>\n",
       "    <tr>\n",
       "      <th>330</th>\n",
       "      <td>2807916</td>\n",
       "      <td>2807916</td>\n",
       "      <td>&gt;15</td>\n",
       "      <td>10727</td>\n",
       "      <td>Hortaleza</td>\n",
       "      <td>Hortaleza</td>\n",
       "    </tr>\n",
       "    <tr>\n",
       "      <th>154</th>\n",
       "      <td>2807908</td>\n",
       "      <td>2807908</td>\n",
       "      <td>&gt;15</td>\n",
       "      <td>11871</td>\n",
       "      <td>Fuencarral-El Pardo</td>\n",
       "      <td>Fuencarral-El Pardo</td>\n",
       "    </tr>\n",
       "  </tbody>\n",
       "</table>\n",
       "<p>441 rows × 6 columns</p>\n",
       "</div>"
      ],
      "text/plain": [
       "      origen  destino  renta  trip_count          origen_name  \\\n",
       "433  2807921  2807914    >15         114              Barajas   \n",
       "431  2807921  2807912    >15         193              Barajas   \n",
       "139  2807907  2807914    >15         226             Chamberí   \n",
       "181  2807909  2807914    >15         270      Moncloa-Aravaca   \n",
       "429  2807921  2807910    >15         273              Barajas   \n",
       "..       ...      ...    ...         ...                  ...   \n",
       "418  2807920  2807920  10-15        9914  San Blas-Canillejas   \n",
       "352  2807917  2807917  10-15       10468           Villaverde   \n",
       "374  2807918  2807918  10-15       10549    Villa de Vallecas   \n",
       "330  2807916  2807916    >15       10727            Hortaleza   \n",
       "154  2807908  2807908    >15       11871  Fuencarral-El Pardo   \n",
       "\n",
       "            destino_name  \n",
       "433            Moratalaz  \n",
       "431                Usera  \n",
       "139            Moratalaz  \n",
       "181            Moratalaz  \n",
       "429               Latina  \n",
       "..                   ...  \n",
       "418  San Blas-Canillejas  \n",
       "352           Villaverde  \n",
       "374    Villa de Vallecas  \n",
       "330            Hortaleza  \n",
       "154  Fuencarral-El Pardo  \n",
       "\n",
       "[441 rows x 6 columns]"
      ]
     },
     "execution_count": 39,
     "metadata": {},
     "output_type": "execute_result"
    }
   ],
   "source": [
    "trip_counts.sort_values(by='trip_count', ascending=False)"
   ]
  },
  {
   "cell_type": "code",
   "execution_count": 36,
   "metadata": {},
   "outputs": [
    {
     "data": {
      "text/html": [
       "<div>\n",
       "<style scoped>\n",
       "    .dataframe tbody tr th:only-of-type {\n",
       "        vertical-align: middle;\n",
       "    }\n",
       "\n",
       "    .dataframe tbody tr th {\n",
       "        vertical-align: top;\n",
       "    }\n",
       "\n",
       "    .dataframe thead th {\n",
       "        text-align: right;\n",
       "    }\n",
       "</style>\n",
       "<table border=\"1\" class=\"dataframe\">\n",
       "  <thead>\n",
       "    <tr style=\"text-align: right;\">\n",
       "      <th></th>\n",
       "      <th>origen</th>\n",
       "      <th>destino</th>\n",
       "      <th>renta</th>\n",
       "      <th>trip_count</th>\n",
       "      <th>origen_name</th>\n",
       "      <th>destino_name</th>\n",
       "    </tr>\n",
       "  </thead>\n",
       "  <tbody>\n",
       "    <tr>\n",
       "      <th>154</th>\n",
       "      <td>2807908</td>\n",
       "      <td>2807908</td>\n",
       "      <td>&gt;15</td>\n",
       "      <td>11871</td>\n",
       "      <td>Fuencarral-El Pardo</td>\n",
       "      <td>Fuencarral-El Pardo</td>\n",
       "    </tr>\n",
       "    <tr>\n",
       "      <th>330</th>\n",
       "      <td>2807916</td>\n",
       "      <td>2807916</td>\n",
       "      <td>&gt;15</td>\n",
       "      <td>10727</td>\n",
       "      <td>Hortaleza</td>\n",
       "      <td>Hortaleza</td>\n",
       "    </tr>\n",
       "    <tr>\n",
       "      <th>440</th>\n",
       "      <td>2807921</td>\n",
       "      <td>2807921</td>\n",
       "      <td>&gt;15</td>\n",
       "      <td>9095</td>\n",
       "      <td>Barajas</td>\n",
       "      <td>Barajas</td>\n",
       "    </tr>\n",
       "    <tr>\n",
       "      <th>139</th>\n",
       "      <td>2807907</td>\n",
       "      <td>2807914</td>\n",
       "      <td>&gt;15</td>\n",
       "      <td>226</td>\n",
       "      <td>Chamberí</td>\n",
       "      <td>Moratalaz</td>\n",
       "    </tr>\n",
       "    <tr>\n",
       "      <th>431</th>\n",
       "      <td>2807921</td>\n",
       "      <td>2807912</td>\n",
       "      <td>&gt;15</td>\n",
       "      <td>193</td>\n",
       "      <td>Barajas</td>\n",
       "      <td>Usera</td>\n",
       "    </tr>\n",
       "    <tr>\n",
       "      <th>433</th>\n",
       "      <td>2807921</td>\n",
       "      <td>2807914</td>\n",
       "      <td>&gt;15</td>\n",
       "      <td>114</td>\n",
       "      <td>Barajas</td>\n",
       "      <td>Moratalaz</td>\n",
       "    </tr>\n",
       "    <tr>\n",
       "      <th>374</th>\n",
       "      <td>2807918</td>\n",
       "      <td>2807918</td>\n",
       "      <td>10-15</td>\n",
       "      <td>10549</td>\n",
       "      <td>Villa de Vallecas</td>\n",
       "      <td>Villa de Vallecas</td>\n",
       "    </tr>\n",
       "    <tr>\n",
       "      <th>352</th>\n",
       "      <td>2807917</td>\n",
       "      <td>2807917</td>\n",
       "      <td>10-15</td>\n",
       "      <td>10468</td>\n",
       "      <td>Villaverde</td>\n",
       "      <td>Villaverde</td>\n",
       "    </tr>\n",
       "    <tr>\n",
       "      <th>418</th>\n",
       "      <td>2807920</td>\n",
       "      <td>2807920</td>\n",
       "      <td>10-15</td>\n",
       "      <td>9914</td>\n",
       "      <td>San Blas-Canillejas</td>\n",
       "      <td>San Blas-Canillejas</td>\n",
       "    </tr>\n",
       "    <tr>\n",
       "      <th>349</th>\n",
       "      <td>2807917</td>\n",
       "      <td>2807914</td>\n",
       "      <td>10-15</td>\n",
       "      <td>569</td>\n",
       "      <td>Villaverde</td>\n",
       "      <td>Moratalaz</td>\n",
       "    </tr>\n",
       "    <tr>\n",
       "      <th>387</th>\n",
       "      <td>2807919</td>\n",
       "      <td>2807910</td>\n",
       "      <td>10-15</td>\n",
       "      <td>525</td>\n",
       "      <td>Vicálvaro</td>\n",
       "      <td>Latina</td>\n",
       "    </tr>\n",
       "    <tr>\n",
       "      <th>202</th>\n",
       "      <td>2807910</td>\n",
       "      <td>2807914</td>\n",
       "      <td>10-15</td>\n",
       "      <td>488</td>\n",
       "      <td>Latina</td>\n",
       "      <td>Moratalaz</td>\n",
       "    </tr>\n",
       "  </tbody>\n",
       "</table>\n",
       "</div>"
      ],
      "text/plain": [
       "      origen  destino  renta  trip_count          origen_name  \\\n",
       "154  2807908  2807908    >15       11871  Fuencarral-El Pardo   \n",
       "330  2807916  2807916    >15       10727            Hortaleza   \n",
       "440  2807921  2807921    >15        9095              Barajas   \n",
       "139  2807907  2807914    >15         226             Chamberí   \n",
       "431  2807921  2807912    >15         193              Barajas   \n",
       "433  2807921  2807914    >15         114              Barajas   \n",
       "374  2807918  2807918  10-15       10549    Villa de Vallecas   \n",
       "352  2807917  2807917  10-15       10468           Villaverde   \n",
       "418  2807920  2807920  10-15        9914  San Blas-Canillejas   \n",
       "349  2807917  2807914  10-15         569           Villaverde   \n",
       "387  2807919  2807910  10-15         525            Vicálvaro   \n",
       "202  2807910  2807914  10-15         488               Latina   \n",
       "\n",
       "            destino_name  \n",
       "154  Fuencarral-El Pardo  \n",
       "330            Hortaleza  \n",
       "440              Barajas  \n",
       "139            Moratalaz  \n",
       "431                Usera  \n",
       "433            Moratalaz  \n",
       "374    Villa de Vallecas  \n",
       "352           Villaverde  \n",
       "418  San Blas-Canillejas  \n",
       "349            Moratalaz  \n",
       "387               Latina  \n",
       "202            Moratalaz  "
      ]
     },
     "execution_count": 36,
     "metadata": {},
     "output_type": "execute_result"
    }
   ],
   "source": [
    "top3_bottom3_combined"
   ]
  },
  {
   "cell_type": "code",
   "execution_count": 30,
   "metadata": {},
   "outputs": [],
   "source": [
    "fig = plot_communities(G, positions, nx.community.louvain_communities(G, weight='weight', seed=1234), edge_widths, var_of_interest)"
   ]
  },
  {
   "cell_type": "code",
   "execution_count": 31,
   "metadata": {},
   "outputs": [
    {
     "data": {
      "application/vnd.plotly.v1+json": {
       "config": {
        "plotlyServerURL": "https://plot.ly"
       },
       "data": [
        {
         "hoverinfo": "none",
         "line": {
          "color": "#888",
          "width": 6.299139790972008
         },
         "mode": "lines",
         "type": "scatter",
         "x": [
          -3.7052688040638215,
          -3.7052688040638215,
          null
         ],
         "y": [
          40.41733007020506,
          40.41733007020506,
          null
         ]
        },
        {
         "hoverinfo": "none",
         "line": {
          "color": "#888",
          "width": 5.483202107091821
         },
         "mode": "lines",
         "type": "scatter",
         "x": [
          -3.7052688040638215,
          -3.696615194920357,
          null
         ],
         "y": [
          40.41733007020506,
          40.398119933450886,
          null
         ]
        },
        {
         "hoverinfo": "none",
         "line": {
          "color": "#888",
          "width": 4.244445067107512
         },
         "mode": "lines",
         "type": "scatter",
         "x": [
          -3.7052688040638215,
          -3.676438378488831,
          null
         ],
         "y": [
          40.41733007020506,
          40.4113808457666,
          null
         ]
        },
        {
         "hoverinfo": "none",
         "line": {
          "color": "#888",
          "width": 4.482333492112415
         },
         "mode": "lines",
         "type": "scatter",
         "x": [
          -3.7052688040638215,
          -3.673788735491743,
          null
         ],
         "y": [
          40.41733007020506,
          40.430183709221865,
          null
         ]
        },
        {
         "hoverinfo": "none",
         "line": {
          "color": "#888",
          "width": 6.809100843397125
         },
         "mode": "lines",
         "type": "scatter",
         "x": [
          -3.7052688040638215,
          -3.7035239513951597,
          null
         ],
         "y": [
          40.41733007020506,
          40.4375595509298,
          null
         ]
        },
        {
         "hoverinfo": "none",
         "line": {
          "color": "#888",
          "width": 5.418196082826642
         },
         "mode": "lines",
         "type": "scatter",
         "x": [
          -3.7052688040638215,
          -3.757223268157655,
          null
         ],
         "y": [
          40.41733007020506,
          40.44543508494526,
          null
         ]
        },
        {
         "hoverinfo": "none",
         "line": {
          "color": "#888",
          "width": 4.040180447757011
         },
         "mode": "lines",
         "type": "scatter",
         "x": [
          -3.7052688040638215,
          -3.7786165406182834,
          null
         ],
         "y": [
          40.41733007020506,
          40.385273701511025,
          null
         ]
        },
        {
         "hoverinfo": "none",
         "line": {
          "color": "#888",
          "width": 3.660791840623161
         },
         "mode": "lines",
         "type": "scatter",
         "x": [
          -3.7052688040638215,
          -3.7371124007578205,
          null
         ],
         "y": [
          40.41733007020506,
          40.378840354576816,
          null
         ]
        },
        {
         "hoverinfo": "none",
         "line": {
          "color": "#888",
          "width": 6.956765389896047
         },
         "mode": "lines",
         "type": "scatter",
         "x": [
          -3.696615194920357,
          -3.7052688040638215,
          null
         ],
         "y": [
          40.398119933450886,
          40.41733007020506,
          null
         ]
        },
        {
         "hoverinfo": "none",
         "line": {
          "color": "#888",
          "width": 5.891451147412368
         },
         "mode": "lines",
         "type": "scatter",
         "x": [
          -3.696615194920357,
          -3.696615194920357,
          null
         ],
         "y": [
          40.398119933450886,
          40.398119933450886,
          null
         ]
        },
        {
         "hoverinfo": "none",
         "line": {
          "color": "#888",
          "width": 5.086721398750315
         },
         "mode": "lines",
         "type": "scatter",
         "x": [
          -3.696615194920357,
          -3.676438378488831,
          null
         ],
         "y": [
          40.398119933450886,
          40.4113808457666,
          null
         ]
        },
        {
         "hoverinfo": "none",
         "line": {
          "color": "#888",
          "width": 3.555997646333604
         },
         "mode": "lines",
         "type": "scatter",
         "x": [
          -3.696615194920357,
          -3.757223268157655,
          null
         ],
         "y": [
          40.398119933450886,
          40.44543508494526,
          null
         ]
        },
        {
         "hoverinfo": "none",
         "line": {
          "color": "#888",
          "width": 3.520972848776934
         },
         "mode": "lines",
         "type": "scatter",
         "x": [
          -3.696615194920357,
          -3.7786165406182834,
          null
         ],
         "y": [
          40.398119933450886,
          40.385273701511025,
          null
         ]
        },
        {
         "hoverinfo": "none",
         "line": {
          "color": "#888",
          "width": 5.7894589369273435
         },
         "mode": "lines",
         "type": "scatter",
         "x": [
          -3.696615194920357,
          -3.7371124007578205,
          null
         ],
         "y": [
          40.398119933450886,
          40.378840354576816,
          null
         ]
        },
        {
         "hoverinfo": "none",
         "line": {
          "color": "#888",
          "width": 5.801787665667293
         },
         "mode": "lines",
         "type": "scatter",
         "x": [
          -3.696615194920357,
          -3.702980875545591,
          null
         ],
         "y": [
          40.398119933450886,
          40.37595000318737,
          null
         ]
        },
        {
         "hoverinfo": "none",
         "line": {
          "color": "#888",
          "width": 3.2298467314858916
         },
         "mode": "lines",
         "type": "scatter",
         "x": [
          -3.696615194920357,
          -3.6598634715735407,
          null
         ],
         "y": [
          40.398119933450886,
          40.383550787346834,
          null
         ]
        },
        {
         "hoverinfo": "none",
         "line": {
          "color": "#888",
          "width": 5.30303454846031
         },
         "mode": "lines",
         "type": "scatter",
         "x": [
          -3.676438378488831,
          -3.7052688040638215,
          null
         ],
         "y": [
          40.4113808457666,
          40.41733007020506,
          null
         ]
        },
        {
         "hoverinfo": "none",
         "line": {
          "color": "#888",
          "width": 4.331026366667601
         },
         "mode": "lines",
         "type": "scatter",
         "x": [
          -3.676438378488831,
          -3.696615194920357,
          null
         ],
         "y": [
          40.4113808457666,
          40.398119933450886,
          null
         ]
        },
        {
         "hoverinfo": "none",
         "line": {
          "color": "#888",
          "width": 5.414273305500294
         },
         "mode": "lines",
         "type": "scatter",
         "x": [
          -3.676438378488831,
          -3.676438378488831,
          null
         ],
         "y": [
          40.4113808457666,
          40.4113808457666,
          null
         ]
        },
        {
         "hoverinfo": "none",
         "line": {
          "color": "#888",
          "width": 5.704278629269522
         },
         "mode": "lines",
         "type": "scatter",
         "x": [
          -3.676438378488831,
          -3.673788735491743,
          null
         ],
         "y": [
          40.4113808457666,
          40.430183709221865,
          null
         ]
        },
        {
         "hoverinfo": "none",
         "line": {
          "color": "#888",
          "width": 5.624141892459861
         },
         "mode": "lines",
         "type": "scatter",
         "x": [
          -3.676438378488831,
          -3.6598634715735407,
          null
         ],
         "y": [
          40.4113808457666,
          40.383550787346834,
          null
         ]
        },
        {
         "hoverinfo": "none",
         "line": {
          "color": "#888",
          "width": 4.387626439519179
         },
         "mode": "lines",
         "type": "scatter",
         "x": [
          -3.676438378488831,
          -3.641390939489583,
          null
         ],
         "y": [
          40.4113808457666,
          40.406612706116334,
          null
         ]
        },
        {
         "hoverinfo": "none",
         "line": {
          "color": "#888",
          "width": 3.952758553055563
         },
         "mode": "lines",
         "type": "scatter",
         "x": [
          -3.673788735491743,
          -3.7052688040638215,
          null
         ],
         "y": [
          40.430183709221865,
          40.41733007020506,
          null
         ]
        },
        {
         "hoverinfo": "none",
         "line": {
          "color": "#888",
          "width": 4.556305864552102
         },
         "mode": "lines",
         "type": "scatter",
         "x": [
          -3.673788735491743,
          -3.676438378488831,
          null
         ],
         "y": [
          40.430183709221865,
          40.4113808457666,
          null
         ]
        },
        {
         "hoverinfo": "none",
         "line": {
          "color": "#888",
          "width": 5.6104121718176465
         },
         "mode": "lines",
         "type": "scatter",
         "x": [
          -3.673788735491743,
          -3.673788735491743,
          null
         ],
         "y": [
          40.430183709221865,
          40.430183709221865,
          null
         ]
        },
        {
         "hoverinfo": "none",
         "line": {
          "color": "#888",
          "width": 5.725853904564431
         },
         "mode": "lines",
         "type": "scatter",
         "x": [
          -3.673788735491743,
          -3.678150006537062,
          null
         ],
         "y": [
          40.430183709221865,
          40.45750039357671,
          null
         ]
        },
        {
         "hoverinfo": "none",
         "line": {
          "color": "#888",
          "width": 5.217293844041581
         },
         "mode": "lines",
         "type": "scatter",
         "x": [
          -3.673788735491743,
          -3.7035239513951597,
          null
         ],
         "y": [
          40.430183709221865,
          40.4375595509298,
          null
         ]
        },
        {
         "hoverinfo": "none",
         "line": {
          "color": "#888",
          "width": 3.065650480540222
         },
         "mode": "lines",
         "type": "scatter",
         "x": [
          -3.673788735491743,
          -3.641390939489583,
          null
         ],
         "y": [
          40.430183709221865,
          40.406612706116334,
          null
         ]
        },
        {
         "hoverinfo": "none",
         "line": {
          "color": "#888",
          "width": 5.73650144302166
         },
         "mode": "lines",
         "type": "scatter",
         "x": [
          -3.673788735491743,
          -3.64994851460145,
          null
         ],
         "y": [
          40.430183709221865,
          40.439269907072294,
          null
         ]
        },
        {
         "hoverinfo": "none",
         "line": {
          "color": "#888",
          "width": 6.675166017540418
         },
         "mode": "lines",
         "type": "scatter",
         "x": [
          -3.7035239513951597,
          -3.7052688040638215,
          null
         ],
         "y": [
          40.4375595509298,
          40.41733007020506,
          null
         ]
        },
        {
         "hoverinfo": "none",
         "line": {
          "color": "#888",
          "width": 5.24307209504329
         },
         "mode": "lines",
         "type": "scatter",
         "x": [
          -3.7035239513951597,
          -3.673788735491743,
          null
         ],
         "y": [
          40.4375595509298,
          40.430183709221865,
          null
         ]
        },
        {
         "hoverinfo": "none",
         "line": {
          "color": "#888",
          "width": 4.736473423183614
         },
         "mode": "lines",
         "type": "scatter",
         "x": [
          -3.7035239513951597,
          -3.678150006537062,
          null
         ],
         "y": [
          40.4375595509298,
          40.45750039357671,
          null
         ]
        },
        {
         "hoverinfo": "none",
         "line": {
          "color": "#888",
          "width": 5.321807839950685
         },
         "mode": "lines",
         "type": "scatter",
         "x": [
          -3.7035239513951597,
          -3.6999935507976818,
          null
         ],
         "y": [
          40.4375595509298,
          40.46064847767731,
          null
         ]
        },
        {
         "hoverinfo": "none",
         "line": {
          "color": "#888",
          "width": 5.728936086749418
         },
         "mode": "lines",
         "type": "scatter",
         "x": [
          -3.7035239513951597,
          -3.7035239513951597,
          null
         ],
         "y": [
          40.4375595509298,
          40.4375595509298,
          null
         ]
        },
        {
         "hoverinfo": "none",
         "line": {
          "color": "#888",
          "width": 5.435288184034295
         },
         "mode": "lines",
         "type": "scatter",
         "x": [
          -3.7035239513951597,
          -3.757223268157655,
          null
         ],
         "y": [
          40.4375595509298,
          40.44543508494526,
          null
         ]
        },
        {
         "hoverinfo": "none",
         "line": {
          "color": "#888",
          "width": 6.05508700159713
         },
         "mode": "lines",
         "type": "scatter",
         "x": [
          -3.757223268157655,
          -3.7052688040638215,
          null
         ],
         "y": [
          40.44543508494526,
          40.41733007020506,
          null
         ]
        },
        {
         "hoverinfo": "none",
         "line": {
          "color": "#888",
          "width": 5.6106923701981
         },
         "mode": "lines",
         "type": "scatter",
         "x": [
          -3.757223268157655,
          -3.6999935507976818,
          null
         ],
         "y": [
          40.44543508494526,
          40.46064847767731,
          null
         ]
        },
        {
         "hoverinfo": "none",
         "line": {
          "color": "#888",
          "width": 6.582140155229903
         },
         "mode": "lines",
         "type": "scatter",
         "x": [
          -3.757223268157655,
          -3.7035239513951597,
          null
         ],
         "y": [
          40.44543508494526,
          40.4375595509298,
          null
         ]
        },
        {
         "hoverinfo": "none",
         "line": {
          "color": "#888",
          "width": 6.572613410294489
         },
         "mode": "lines",
         "type": "scatter",
         "x": [
          -3.757223268157655,
          -3.753579560856659,
          null
         ],
         "y": [
          40.44543508494526,
          40.54479435831403,
          null
         ]
        },
        {
         "hoverinfo": "none",
         "line": {
          "color": "#888",
          "width": 7.848917033259548
         },
         "mode": "lines",
         "type": "scatter",
         "x": [
          -3.757223268157655,
          -3.757223268157655,
          null
         ],
         "y": [
          40.44543508494526,
          40.44543508494526,
          null
         ]
        },
        {
         "hoverinfo": "none",
         "line": {
          "color": "#888",
          "width": 5.733979657597579
         },
         "mode": "lines",
         "type": "scatter",
         "x": [
          -3.757223268157655,
          -3.7786165406182834,
          null
         ],
         "y": [
          40.44543508494526,
          40.385273701511025,
          null
         ]
        },
        {
         "hoverinfo": "none",
         "line": {
          "color": "#888",
          "width": 6.510969766594748
         },
         "mode": "lines",
         "type": "scatter",
         "x": [
          -3.7786165406182834,
          -3.7052688040638215,
          null
         ],
         "y": [
          40.385273701511025,
          40.41733007020506,
          null
         ]
        },
        {
         "hoverinfo": "none",
         "line": {
          "color": "#888",
          "width": 4.812407184286474
         },
         "mode": "lines",
         "type": "scatter",
         "x": [
          -3.7786165406182834,
          -3.696615194920357,
          null
         ],
         "y": [
          40.385273701511025,
          40.398119933450886,
          null
         ]
        },
        {
         "hoverinfo": "none",
         "line": {
          "color": "#888",
          "width": 3.4273865897055114
         },
         "mode": "lines",
         "type": "scatter",
         "x": [
          -3.7786165406182834,
          -3.673788735491743,
          null
         ],
         "y": [
          40.385273701511025,
          40.430183709221865,
          null
         ]
        },
        {
         "hoverinfo": "none",
         "line": {
          "color": "#888",
          "width": 3.525175824483734
         },
         "mode": "lines",
         "type": "scatter",
         "x": [
          -3.7786165406182834,
          -3.678150006537062,
          null
         ],
         "y": [
          40.385273701511025,
          40.45750039357671,
          null
         ]
        },
        {
         "hoverinfo": "none",
         "line": {
          "color": "#888",
          "width": 3.9642466866541506
         },
         "mode": "lines",
         "type": "scatter",
         "x": [
          -3.7786165406182834,
          -3.7035239513951597,
          null
         ],
         "y": [
          40.385273701511025,
          40.4375595509298,
          null
         ]
        },
        {
         "hoverinfo": "none",
         "line": {
          "color": "#888",
          "width": 7.582168175067948
         },
         "mode": "lines",
         "type": "scatter",
         "x": [
          -3.7786165406182834,
          -3.757223268157655,
          null
         ],
         "y": [
          40.385273701511025,
          40.44543508494526,
          null
         ]
        },
        {
         "hoverinfo": "none",
         "line": {
          "color": "#888",
          "width": 8.447140575527472
         },
         "mode": "lines",
         "type": "scatter",
         "x": [
          -3.7786165406182834,
          -3.7786165406182834,
          null
         ],
         "y": [
          40.385273701511025,
          40.385273701511025,
          null
         ]
        },
        {
         "hoverinfo": "none",
         "line": {
          "color": "#888",
          "width": 7.86909131665219
         },
         "mode": "lines",
         "type": "scatter",
         "x": [
          -3.7786165406182834,
          -3.7371124007578205,
          null
         ],
         "y": [
          40.385273701511025,
          40.378840354576816,
          null
         ]
        },
        {
         "hoverinfo": "none",
         "line": {
          "color": "#888",
          "width": 5.0718708845862865
         },
         "mode": "lines",
         "type": "scatter",
         "x": [
          -3.7371124007578205,
          -3.7052688040638215,
          null
         ],
         "y": [
          40.378840354576816,
          40.41733007020506,
          null
         ]
        },
        {
         "hoverinfo": "none",
         "line": {
          "color": "#888",
          "width": 6.582980750371263
         },
         "mode": "lines",
         "type": "scatter",
         "x": [
          -3.7371124007578205,
          -3.696615194920357,
          null
         ],
         "y": [
          40.378840354576816,
          40.398119933450886,
          null
         ]
        },
        {
         "hoverinfo": "none",
         "line": {
          "color": "#888",
          "width": 3.2430160553671996
         },
         "mode": "lines",
         "type": "scatter",
         "x": [
          -3.7371124007578205,
          -3.678150006537062,
          null
         ],
         "y": [
          40.378840354576816,
          40.45750039357671,
          null
         ]
        },
        {
         "hoverinfo": "none",
         "line": {
          "color": "#888",
          "width": 3.101235674857799
         },
         "mode": "lines",
         "type": "scatter",
         "x": [
          -3.7371124007578205,
          -3.7035239513951597,
          null
         ],
         "y": [
          40.378840354576816,
          40.4375595509298,
          null
         ]
        },
        {
         "hoverinfo": "none",
         "line": {
          "color": "#888",
          "width": 3.5492728852027233
         },
         "mode": "lines",
         "type": "scatter",
         "x": [
          -3.7371124007578205,
          -3.757223268157655,
          null
         ],
         "y": [
          40.378840354576816,
          40.44543508494526,
          null
         ]
        },
        {
         "hoverinfo": "none",
         "line": {
          "color": "#888",
          "width": 7.47148981478887
         },
         "mode": "lines",
         "type": "scatter",
         "x": [
          -3.7371124007578205,
          -3.7786165406182834,
          null
         ],
         "y": [
          40.378840354576816,
          40.385273701511025,
          null
         ]
        },
        {
         "hoverinfo": "none",
         "line": {
          "color": "#888",
          "width": 8.55277536495839
         },
         "mode": "lines",
         "type": "scatter",
         "x": [
          -3.7371124007578205,
          -3.7371124007578205,
          null
         ],
         "y": [
          40.378840354576816,
          40.378840354576816,
          null
         ]
        },
        {
         "hoverinfo": "none",
         "line": {
          "color": "#888",
          "width": 7.096864580122727
         },
         "mode": "lines",
         "type": "scatter",
         "x": [
          -3.7371124007578205,
          -3.702980875545591,
          null
         ],
         "y": [
          40.378840354576816,
          40.37595000318737,
          null
         ]
        },
        {
         "hoverinfo": "none",
         "line": {
          "color": "#888",
          "width": 3.2729972820757096
         },
         "mode": "lines",
         "type": "scatter",
         "x": [
          -3.7371124007578205,
          -3.695056256825153,
          null
         ],
         "y": [
          40.378840354576816,
          40.34253624126977,
          null
         ]
        },
        {
         "hoverinfo": "none",
         "line": {
          "color": "#888",
          "width": 3.677323545069909
         },
         "mode": "lines",
         "type": "scatter",
         "x": [
          -3.702980875545591,
          -3.7052688040638215,
          null
         ],
         "y": [
          40.37595000318737,
          40.41733007020506,
          null
         ]
        },
        {
         "hoverinfo": "none",
         "line": {
          "color": "#888",
          "width": 6.306144750483342
         },
         "mode": "lines",
         "type": "scatter",
         "x": [
          -3.702980875545591,
          -3.696615194920357,
          null
         ],
         "y": [
          40.37595000318737,
          40.398119933450886,
          null
         ]
        },
        {
         "hoverinfo": "none",
         "line": {
          "color": "#888",
          "width": 6.5569223009891
         },
         "mode": "lines",
         "type": "scatter",
         "x": [
          -3.702980875545591,
          -3.7371124007578205,
          null
         ],
         "y": [
          40.37595000318737,
          40.378840354576816,
          null
         ]
        },
        {
         "hoverinfo": "none",
         "line": {
          "color": "#888",
          "width": 6.728123511446103
         },
         "mode": "lines",
         "type": "scatter",
         "x": [
          -3.702980875545591,
          -3.702980875545591,
          null
         ],
         "y": [
          40.37595000318737,
          40.37595000318737,
          null
         ]
        },
        {
         "hoverinfo": "none",
         "line": {
          "color": "#888",
          "width": 4.513995909103645
         },
         "mode": "lines",
         "type": "scatter",
         "x": [
          -3.702980875545591,
          -3.6598634715735407,
          null
         ],
         "y": [
          40.37595000318737,
          40.383550787346834,
          null
         ]
        },
        {
         "hoverinfo": "none",
         "line": {
          "color": "#888",
          "width": 6.065734540054358
         },
         "mode": "lines",
         "type": "scatter",
         "x": [
          -3.702980875545591,
          -3.695056256825153,
          null
         ],
         "y": [
          40.37595000318737,
          40.34253624126977,
          null
         ]
        },
        {
         "hoverinfo": "none",
         "line": {
          "color": "#888",
          "width": 3.55151447224635
         },
         "mode": "lines",
         "type": "scatter",
         "x": [
          -3.6598634715735407,
          -3.7052688040638215,
          null
         ],
         "y": [
          40.383550787346834,
          40.41733007020506,
          null
         ]
        },
        {
         "hoverinfo": "none",
         "line": {
          "color": "#888",
          "width": 5.718008349911737
         },
         "mode": "lines",
         "type": "scatter",
         "x": [
          -3.6598634715735407,
          -3.696615194920357,
          null
         ],
         "y": [
          40.383550787346834,
          40.398119933450886,
          null
         ]
        },
        {
         "hoverinfo": "none",
         "line": {
          "color": "#888",
          "width": 7.274230154949704
         },
         "mode": "lines",
         "type": "scatter",
         "x": [
          -3.6598634715735407,
          -3.676438378488831,
          null
         ],
         "y": [
          40.383550787346834,
          40.4113808457666,
          null
         ]
        },
        {
         "hoverinfo": "none",
         "line": {
          "color": "#888",
          "width": 3.521253047157387
         },
         "mode": "lines",
         "type": "scatter",
         "x": [
          -3.6598634715735407,
          -3.673788735491743,
          null
         ],
         "y": [
          40.383550787346834,
          40.430183709221865,
          null
         ]
        },
        {
         "hoverinfo": "none",
         "line": {
          "color": "#888",
          "width": 5.631987447112555
         },
         "mode": "lines",
         "type": "scatter",
         "x": [
          -3.6598634715735407,
          -3.702980875545591,
          null
         ],
         "y": [
          40.383550787346834,
          40.37595000318737,
          null
         ]
        },
        {
         "hoverinfo": "none",
         "line": {
          "color": "#888",
          "width": 8.489730729356383
         },
         "mode": "lines",
         "type": "scatter",
         "x": [
          -3.6598634715735407,
          -3.6598634715735407,
          null
         ],
         "y": [
          40.383550787346834,
          40.383550787346834,
          null
         ]
        },
        {
         "hoverinfo": "none",
         "line": {
          "color": "#888",
          "width": 6.088710807251534
         },
         "mode": "lines",
         "type": "scatter",
         "x": [
          -3.6598634715735407,
          -3.641390939489583,
          null
         ],
         "y": [
          40.383550787346834,
          40.406612706116334,
          null
         ]
        },
        {
         "hoverinfo": "none",
         "line": {
          "color": "#888",
          "width": 4.595533637815573
         },
         "mode": "lines",
         "type": "scatter",
         "x": [
          -3.6598634715735407,
          -3.695056256825153,
          null
         ],
         "y": [
          40.383550787346834,
          40.34253624126977,
          null
         ]
        },
        {
         "hoverinfo": "none",
         "line": {
          "color": "#888",
          "width": 7.567037462523467
         },
         "mode": "lines",
         "type": "scatter",
         "x": [
          -3.6598634715735407,
          -3.616007391228478,
          null
         ],
         "y": [
          40.383550787346834,
          40.34992967757025,
          null
         ]
        },
        {
         "hoverinfo": "none",
         "line": {
          "color": "#888",
          "width": 4.554904872649836
         },
         "mode": "lines",
         "type": "scatter",
         "x": [
          -3.6598634715735407,
          -3.572894771748728,
          null
         ],
         "y": [
          40.383550787346834,
          40.393568592656926,
          null
         ]
        },
        {
         "hoverinfo": "none",
         "line": {
          "color": "#888",
          "width": 5.576788366163243
         },
         "mode": "lines",
         "type": "scatter",
         "x": [
          -3.641390939489583,
          -3.676438378488831,
          null
         ],
         "y": [
          40.406612706116334,
          40.4113808457666,
          null
         ]
        },
        {
         "hoverinfo": "none",
         "line": {
          "color": "#888",
          "width": 4.791952702513379
         },
         "mode": "lines",
         "type": "scatter",
         "x": [
          -3.641390939489583,
          -3.673788735491743,
          null
         ],
         "y": [
          40.406612706116334,
          40.430183709221865,
          null
         ]
        },
        {
         "hoverinfo": "none",
         "line": {
          "color": "#888",
          "width": 6.046400851803076
         },
         "mode": "lines",
         "type": "scatter",
         "x": [
          -3.641390939489583,
          -3.6598634715735407,
          null
         ],
         "y": [
          40.406612706116334,
          40.383550787346834,
          null
         ]
        },
        {
         "hoverinfo": "none",
         "line": {
          "color": "#888",
          "width": 5.31732466586343
         },
         "mode": "lines",
         "type": "scatter",
         "x": [
          -3.641390939489583,
          -3.641390939489583,
          null
         ],
         "y": [
          40.406612706116334,
          40.406612706116334,
          null
         ]
        },
        {
         "hoverinfo": "none",
         "line": {
          "color": "#888",
          "width": 4.8592003138221855
         },
         "mode": "lines",
         "type": "scatter",
         "x": [
          -3.641390939489583,
          -3.64994851460145,
          null
         ],
         "y": [
          40.406612706116334,
          40.439269907072294,
          null
         ]
        },
        {
         "hoverinfo": "none",
         "line": {
          "color": "#888",
          "width": 4.232676735128471
         },
         "mode": "lines",
         "type": "scatter",
         "x": [
          -3.641390939489583,
          -3.572894771748728,
          null
         ],
         "y": [
          40.406612706116334,
          40.393568592656926,
          null
         ]
        },
        {
         "hoverinfo": "none",
         "line": {
          "color": "#888",
          "width": 3.421222225335537
         },
         "mode": "lines",
         "type": "scatter",
         "x": [
          -3.641390939489583,
          -3.598652688670139,
          null
         ],
         "y": [
          40.406612706116334,
          40.43466852782298,
          null
         ]
        },
        {
         "hoverinfo": "none",
         "line": {
          "color": "#888",
          "width": 5.922833366023144
         },
         "mode": "lines",
         "type": "scatter",
         "x": [
          -3.678150006537062,
          -3.673788735491743,
          null
         ],
         "y": [
          40.45750039357671,
          40.430183709221865,
          null
         ]
        },
        {
         "hoverinfo": "none",
         "line": {
          "color": "#888",
          "width": 6.839362268486087
         },
         "mode": "lines",
         "type": "scatter",
         "x": [
          -3.678150006537062,
          -3.678150006537062,
          null
         ],
         "y": [
          40.45750039357671,
          40.45750039357671,
          null
         ]
        },
        {
         "hoverinfo": "none",
         "line": {
          "color": "#888",
          "width": 5.016391605256521
         },
         "mode": "lines",
         "type": "scatter",
         "x": [
          -3.678150006537062,
          -3.6999935507976818,
          null
         ],
         "y": [
          40.45750039357671,
          40.46064847767731,
          null
         ]
        },
        {
         "hoverinfo": "none",
         "line": {
          "color": "#888",
          "width": 4.920843957521925
         },
         "mode": "lines",
         "type": "scatter",
         "x": [
          -3.678150006537062,
          -3.7035239513951597,
          null
         ],
         "y": [
          40.45750039357671,
          40.4375595509298,
          null
         ]
        },
        {
         "hoverinfo": "none",
         "line": {
          "color": "#888",
          "width": 5.425201042337974
         },
         "mode": "lines",
         "type": "scatter",
         "x": [
          -3.678150006537062,
          -3.753579560856659,
          null
         ],
         "y": [
          40.45750039357671,
          40.54479435831403,
          null
         ]
        },
        {
         "hoverinfo": "none",
         "line": {
          "color": "#888",
          "width": 5.379248507943624
         },
         "mode": "lines",
         "type": "scatter",
         "x": [
          -3.678150006537062,
          -3.64994851460145,
          null
         ],
         "y": [
          40.45750039357671,
          40.439269907072294,
          null
         ]
        },
        {
         "hoverinfo": "none",
         "line": {
          "color": "#888",
          "width": 4.730309058813639
         },
         "mode": "lines",
         "type": "scatter",
         "x": [
          -3.678150006537062,
          -3.637741035389706,
          null
         ],
         "y": [
          40.45750039357671,
          40.482012145328966,
          null
         ]
        },
        {
         "hoverinfo": "none",
         "line": {
          "color": "#888",
          "width": 4.358766006332483
         },
         "mode": "lines",
         "type": "scatter",
         "x": [
          -3.64994851460145,
          -3.676438378488831,
          null
         ],
         "y": [
          40.439269907072294,
          40.4113808457666,
          null
         ]
        },
        {
         "hoverinfo": "none",
         "line": {
          "color": "#888",
          "width": 7.799882316680209
         },
         "mode": "lines",
         "type": "scatter",
         "x": [
          -3.64994851460145,
          -3.673788735491743,
          null
         ],
         "y": [
          40.439269907072294,
          40.430183709221865,
          null
         ]
        },
        {
         "hoverinfo": "none",
         "line": {
          "color": "#888",
          "width": 6.8236711591807
         },
         "mode": "lines",
         "type": "scatter",
         "x": [
          -3.64994851460145,
          -3.678150006537062,
          null
         ],
         "y": [
          40.439269907072294,
          40.45750039357671,
          null
         ]
        },
        {
         "hoverinfo": "none",
         "line": {
          "color": "#888",
          "width": 3.8661772534954744
         },
         "mode": "lines",
         "type": "scatter",
         "x": [
          -3.64994851460145,
          -3.753579560856659,
          null
         ],
         "y": [
          40.439269907072294,
          40.54479435831403,
          null
         ]
        },
        {
         "hoverinfo": "none",
         "line": {
          "color": "#888",
          "width": 6.014458236431393
         },
         "mode": "lines",
         "type": "scatter",
         "x": [
          -3.64994851460145,
          -3.641390939489583,
          null
         ],
         "y": [
          40.439269907072294,
          40.406612706116334,
          null
         ]
        },
        {
         "hoverinfo": "none",
         "line": {
          "color": "#888",
          "width": 7.63736725601726
         },
         "mode": "lines",
         "type": "scatter",
         "x": [
          -3.64994851460145,
          -3.64994851460145,
          null
         ],
         "y": [
          40.439269907072294,
          40.439269907072294,
          null
         ]
        },
        {
         "hoverinfo": "none",
         "line": {
          "color": "#888",
          "width": 5.742946005772087
         },
         "mode": "lines",
         "type": "scatter",
         "x": [
          -3.64994851460145,
          -3.637741035389706,
          null
         ],
         "y": [
          40.439269907072294,
          40.482012145328966,
          null
         ]
        },
        {
         "hoverinfo": "none",
         "line": {
          "color": "#888",
          "width": 3.2329289136708788
         },
         "mode": "lines",
         "type": "scatter",
         "x": [
          -3.64994851460145,
          -3.572894771748728,
          null
         ],
         "y": [
          40.439269907072294,
          40.393568592656926,
          null
         ]
        },
        {
         "hoverinfo": "none",
         "line": {
          "color": "#888",
          "width": 7.265263806775197
         },
         "mode": "lines",
         "type": "scatter",
         "x": [
          -3.64994851460145,
          -3.598652688670139,
          null
         ],
         "y": [
          40.439269907072294,
          40.43466852782298,
          null
         ]
        },
        {
         "hoverinfo": "none",
         "line": {
          "color": "#888",
          "width": 6.299139790972008
         },
         "mode": "lines",
         "type": "scatter",
         "x": [
          -3.6999935507976818,
          -3.678150006537062,
          null
         ],
         "y": [
          40.46064847767731,
          40.45750039357671,
          null
         ]
        },
        {
         "hoverinfo": "none",
         "line": {
          "color": "#888",
          "width": 6.3131497099946765
         },
         "mode": "lines",
         "type": "scatter",
         "x": [
          -3.6999935507976818,
          -3.6999935507976818,
          null
         ],
         "y": [
          40.46064847767731,
          40.46064847767731,
          null
         ]
        },
        {
         "hoverinfo": "none",
         "line": {
          "color": "#888",
          "width": 6.4753845722771715
         },
         "mode": "lines",
         "type": "scatter",
         "x": [
          -3.6999935507976818,
          -3.7035239513951597,
          null
         ],
         "y": [
          40.46064847767731,
          40.4375595509298,
          null
         ]
        },
        {
         "hoverinfo": "none",
         "line": {
          "color": "#888",
          "width": 7.837428899660959
         },
         "mode": "lines",
         "type": "scatter",
         "x": [
          -3.6999935507976818,
          -3.753579560856659,
          null
         ],
         "y": [
          40.46064847767731,
          40.54479435831403,
          null
         ]
        },
        {
         "hoverinfo": "none",
         "line": {
          "color": "#888",
          "width": 5.892291742553728
         },
         "mode": "lines",
         "type": "scatter",
         "x": [
          -3.6999935507976818,
          -3.757223268157655,
          null
         ],
         "y": [
          40.46064847767731,
          40.44543508494526,
          null
         ]
        },
        {
         "hoverinfo": "none",
         "line": {
          "color": "#888",
          "width": 3.3528538205049174
         },
         "mode": "lines",
         "type": "scatter",
         "x": [
          -3.753579560856659,
          -3.7052688040638215,
          null
         ],
         "y": [
          40.54479435831403,
          40.41733007020506,
          null
         ]
        },
        {
         "hoverinfo": "none",
         "line": {
          "color": "#888",
          "width": 5.366919779203676
         },
         "mode": "lines",
         "type": "scatter",
         "x": [
          -3.753579560856659,
          -3.678150006537062,
          null
         ],
         "y": [
          40.54479435831403,
          40.45750039357671,
          null
         ]
        },
        {
         "hoverinfo": "none",
         "line": {
          "color": "#888",
          "width": 7.352965899857098
         },
         "mode": "lines",
         "type": "scatter",
         "x": [
          -3.753579560856659,
          -3.6999935507976818,
          null
         ],
         "y": [
          40.54479435831403,
          40.46064847767731,
          null
         ]
        },
        {
         "hoverinfo": "none",
         "line": {
          "color": "#888",
          "width": 3.518731261733307
         },
         "mode": "lines",
         "type": "scatter",
         "x": [
          -3.753579560856659,
          -3.7035239513951597,
          null
         ],
         "y": [
          40.54479435831403,
          40.4375595509298,
          null
         ]
        },
        {
         "hoverinfo": "none",
         "line": {
          "color": "#888",
          "width": 10
         },
         "mode": "lines",
         "type": "scatter",
         "x": [
          -3.753579560856659,
          -3.753579560856659,
          null
         ],
         "y": [
          40.54479435831403,
          40.54479435831403,
          null
         ]
        },
        {
         "hoverinfo": "none",
         "line": {
          "color": "#888",
          "width": 6.7390512482837845
         },
         "mode": "lines",
         "type": "scatter",
         "x": [
          -3.753579560856659,
          -3.757223268157655,
          null
         ],
         "y": [
          40.54479435831403,
          40.44543508494526,
          null
         ]
        },
        {
         "hoverinfo": "none",
         "line": {
          "color": "#888",
          "width": 3.2561853792485076
         },
         "mode": "lines",
         "type": "scatter",
         "x": [
          -3.753579560856659,
          -3.64994851460145,
          null
         ],
         "y": [
          40.54479435831403,
          40.439269907072294,
          null
         ]
        },
        {
         "hoverinfo": "none",
         "line": {
          "color": "#888",
          "width": 6.788085964863122
         },
         "mode": "lines",
         "type": "scatter",
         "x": [
          -3.753579560856659,
          -3.637741035389706,
          null
         ],
         "y": [
          40.54479435831403,
          40.482012145328966,
          null
         ]
        },
        {
         "hoverinfo": "none",
         "line": {
          "color": "#888",
          "width": 5.457143657709659
         },
         "mode": "lines",
         "type": "scatter",
         "x": [
          -3.637741035389706,
          -3.678150006537062,
          null
         ],
         "y": [
          40.482012145328966,
          40.45750039357671,
          null
         ]
        },
        {
         "hoverinfo": "none",
         "line": {
          "color": "#888",
          "width": 6.577656981142648
         },
         "mode": "lines",
         "type": "scatter",
         "x": [
          -3.637741035389706,
          -3.753579560856659,
          null
         ],
         "y": [
          40.482012145328966,
          40.54479435831403,
          null
         ]
        },
        {
         "hoverinfo": "none",
         "line": {
          "color": "#888",
          "width": 6.2178822606405335
         },
         "mode": "lines",
         "type": "scatter",
         "x": [
          -3.637741035389706,
          -3.64994851460145,
          null
         ],
         "y": [
          40.482012145328966,
          40.439269907072294,
          null
         ]
        },
        {
         "hoverinfo": "none",
         "line": {
          "color": "#888",
          "width": 8.937487741320854
         },
         "mode": "lines",
         "type": "scatter",
         "x": [
          -3.637741035389706,
          -3.637741035389706,
          null
         ],
         "y": [
          40.482012145328966,
          40.482012145328966,
          null
         ]
        },
        {
         "hoverinfo": "none",
         "line": {
          "color": "#888",
          "width": 5.74238560901118
         },
         "mode": "lines",
         "type": "scatter",
         "x": [
          -3.637741035389706,
          -3.598652688670139,
          null
         ],
         "y": [
          40.482012145328966,
          40.43466852782298,
          null
         ]
        },
        {
         "hoverinfo": "none",
         "line": {
          "color": "#888",
          "width": 5.27809689259996
         },
         "mode": "lines",
         "type": "scatter",
         "x": [
          -3.637741035389706,
          -3.5745434793228257,
          null
         ],
         "y": [
          40.482012145328966,
          40.47574106966082,
          null
         ]
        },
        {
         "hoverinfo": "none",
         "line": {
          "color": "#888",
          "width": 3.011852391493177
         },
         "mode": "lines",
         "type": "scatter",
         "x": [
          -3.695056256825153,
          -3.7052688040638215,
          null
         ],
         "y": [
          40.34253624126977,
          40.41733007020506,
          null
         ]
        },
        {
         "hoverinfo": "none",
         "line": {
          "color": "#888",
          "width": 3.076017820616997
         },
         "mode": "lines",
         "type": "scatter",
         "x": [
          -3.695056256825153,
          -3.7371124007578205,
          null
         ],
         "y": [
          40.34253624126977,
          40.378840354576816,
          null
         ]
        },
        {
         "hoverinfo": "none",
         "line": {
          "color": "#888",
          "width": 6.354619070301773
         },
         "mode": "lines",
         "type": "scatter",
         "x": [
          -3.695056256825153,
          -3.702980875545591,
          null
         ],
         "y": [
          40.34253624126977,
          40.37595000318737,
          null
         ]
        },
        {
         "hoverinfo": "none",
         "line": {
          "color": "#888",
          "width": 3.361820168679425
         },
         "mode": "lines",
         "type": "scatter",
         "x": [
          -3.695056256825153,
          -3.6598634715735407,
          null
         ],
         "y": [
          40.34253624126977,
          40.383550787346834,
          null
         ]
        },
        {
         "hoverinfo": "none",
         "line": {
          "color": "#888",
          "width": 8.64860321107344
         },
         "mode": "lines",
         "type": "scatter",
         "x": [
          -3.695056256825153,
          -3.695056256825153,
          null
         ],
         "y": [
          40.34253624126977,
          40.34253624126977,
          null
         ]
        },
        {
         "hoverinfo": "none",
         "line": {
          "color": "#888",
          "width": 4.442825520468491
         },
         "mode": "lines",
         "type": "scatter",
         "x": [
          -3.695056256825153,
          -3.616007391228478,
          null
         ],
         "y": [
          40.34253624126977,
          40.34992967757025,
          null
         ]
        },
        {
         "hoverinfo": "none",
         "line": {
          "color": "#888",
          "width": 3.1443862254476165
         },
         "mode": "lines",
         "type": "scatter",
         "x": [
          -3.616007391228478,
          -3.7052688040638215,
          null
         ],
         "y": [
          40.34992967757025,
          40.41733007020506,
          null
         ]
        },
        {
         "hoverinfo": "none",
         "line": {
          "color": "#888",
          "width": 7.2422875395780215
         },
         "mode": "lines",
         "type": "scatter",
         "x": [
          -3.616007391228478,
          -3.6598634715735407,
          null
         ],
         "y": [
          40.34992967757025,
          40.383550787346834,
          null
         ]
        },
        {
         "hoverinfo": "none",
         "line": {
          "color": "#888",
          "width": 4.816049763232368
         },
         "mode": "lines",
         "type": "scatter",
         "x": [
          -3.616007391228478,
          -3.695056256825153,
          null
         ],
         "y": [
          40.34992967757025,
          40.34253624126977,
          null
         ]
        },
        {
         "hoverinfo": "none",
         "line": {
          "color": "#888",
          "width": 8.61021603295133
         },
         "mode": "lines",
         "type": "scatter",
         "x": [
          -3.616007391228478,
          -3.616007391228478,
          null
         ],
         "y": [
          40.34992967757025,
          40.34992967757025,
          null
         ]
        },
        {
         "hoverinfo": "none",
         "line": {
          "color": "#888",
          "width": 6.233293171565468
         },
         "mode": "lines",
         "type": "scatter",
         "x": [
          -3.616007391228478,
          -3.572894771748728,
          null
         ],
         "y": [
          40.34992967757025,
          40.393568592656926,
          null
         ]
        },
        {
         "hoverinfo": "none",
         "line": {
          "color": "#888",
          "width": 4.43021659334809
         },
         "mode": "lines",
         "type": "scatter",
         "x": [
          -3.572894771748728,
          -3.6598634715735407,
          null
         ],
         "y": [
          40.393568592656926,
          40.383550787346834,
          null
         ]
        },
        {
         "hoverinfo": "none",
         "line": {
          "color": "#888",
          "width": 4.32766398610216
         },
         "mode": "lines",
         "type": "scatter",
         "x": [
          -3.572894771748728,
          -3.641390939489583,
          null
         ],
         "y": [
          40.393568592656926,
          40.406612706116334,
          null
         ]
        },
        {
         "hoverinfo": "none",
         "line": {
          "color": "#888",
          "width": 5.663369665723332
         },
         "mode": "lines",
         "type": "scatter",
         "x": [
          -3.572894771748728,
          -3.616007391228478,
          null
         ],
         "y": [
          40.393568592656926,
          40.34992967757025,
          null
         ]
        },
        {
         "hoverinfo": "none",
         "line": {
          "color": "#888",
          "width": 7.40144021967553
         },
         "mode": "lines",
         "type": "scatter",
         "x": [
          -3.572894771748728,
          -3.572894771748728,
          null
         ],
         "y": [
          40.393568592656926,
          40.393568592656926,
          null
         ]
        },
        {
         "hoverinfo": "none",
         "line": {
          "color": "#888",
          "width": 5.838493653506682
         },
         "mode": "lines",
         "type": "scatter",
         "x": [
          -3.572894771748728,
          -3.598652688670139,
          null
         ],
         "y": [
          40.393568592656926,
          40.43466852782298,
          null
         ]
        },
        {
         "hoverinfo": "none",
         "line": {
          "color": "#888",
          "width": 3.0589257194093413
         },
         "mode": "lines",
         "type": "scatter",
         "x": [
          -3.598652688670139,
          -3.673788735491743,
          null
         ],
         "y": [
          40.43466852782298,
          40.430183709221865,
          null
         ]
        },
        {
         "hoverinfo": "none",
         "line": {
          "color": "#888",
          "width": 3.45232424556586
         },
         "mode": "lines",
         "type": "scatter",
         "x": [
          -3.598652688670139,
          -3.753579560856659,
          null
         ],
         "y": [
          40.43466852782298,
          40.54479435831403,
          null
         ]
        },
        {
         "hoverinfo": "none",
         "line": {
          "color": "#888",
          "width": 3.3388439014822495
         },
         "mode": "lines",
         "type": "scatter",
         "x": [
          -3.598652688670139,
          -3.641390939489583,
          null
         ],
         "y": [
          40.43466852782298,
          40.406612706116334,
          null
         ]
        },
        {
         "hoverinfo": "none",
         "line": {
          "color": "#888",
          "width": 7.259940037546582
         },
         "mode": "lines",
         "type": "scatter",
         "x": [
          -3.598652688670139,
          -3.64994851460145,
          null
         ],
         "y": [
          40.43466852782298,
          40.439269907072294,
          null
         ]
        },
        {
         "hoverinfo": "none",
         "line": {
          "color": "#888",
          "width": 5.7762896130460355
         },
         "mode": "lines",
         "type": "scatter",
         "x": [
          -3.598652688670139,
          -3.637741035389706,
          null
         ],
         "y": [
          40.43466852782298,
          40.482012145328966,
          null
         ]
        },
        {
         "hoverinfo": "none",
         "line": {
          "color": "#888",
          "width": 6.866821709770517
         },
         "mode": "lines",
         "type": "scatter",
         "x": [
          -3.598652688670139,
          -3.572894771748728,
          null
         ],
         "y": [
          40.43466852782298,
          40.393568592656926,
          null
         ]
        },
        {
         "hoverinfo": "none",
         "line": {
          "color": "#888",
          "width": 8.766566729244305
         },
         "mode": "lines",
         "type": "scatter",
         "x": [
          -3.598652688670139,
          -3.598652688670139,
          null
         ],
         "y": [
          40.43466852782298,
          40.43466852782298,
          null
         ]
        },
        {
         "hoverinfo": "none",
         "line": {
          "color": "#888",
          "width": 6.331923001485051
         },
         "mode": "lines",
         "type": "scatter",
         "x": [
          -3.598652688670139,
          -3.5745434793228257,
          null
         ],
         "y": [
          40.43466852782298,
          40.47574106966082,
          null
         ]
        },
        {
         "hoverinfo": "none",
         "line": {
          "color": "#888",
          "width": 5.660847880299252
         },
         "mode": "lines",
         "type": "scatter",
         "x": [
          -3.5745434793228257,
          -3.637741035389706,
          null
         ],
         "y": [
          40.47574106966082,
          40.482012145328966,
          null
         ]
        },
        {
         "hoverinfo": "none",
         "line": {
          "color": "#888",
          "width": 5.266328560620919
         },
         "mode": "lines",
         "type": "scatter",
         "x": [
          -3.5745434793228257,
          -3.598652688670139,
          null
         ],
         "y": [
          40.47574106966082,
          40.43466852782298,
          null
         ]
        },
        {
         "hoverinfo": "none",
         "line": {
          "color": "#888",
          "width": 7.639608843060886
         },
         "mode": "lines",
         "type": "scatter",
         "x": [
          -3.5745434793228257,
          -3.5745434793228257,
          null
         ],
         "y": [
          40.47574106966082,
          40.47574106966082,
          null
         ]
        },
        {
         "hoverinfo": "text",
         "marker": {
          "color": [
           "aliceblue",
           "aliceblue",
           "aqua",
           "aqua",
           "antiquewhite",
           "antiquewhite",
           "aliceblue",
           "aliceblue",
           "aliceblue",
           "aqua",
           "aqua",
           "antiquewhite",
           "aquamarine",
           "antiquewhite",
           "antiquewhite",
           "aquamarine",
           "aliceblue",
           "aqua",
           "aqua",
           "aquamarine",
           "aquamarine"
          ],
          "line": {
           "color": "#888",
           "width": 2
          },
          "size": [
           10.325,
           13.125,
           15.225,
           14.875,
           14.875,
           14.525,
           8.925,
           7.875,
           7.175,
           7.175,
           9.975,
           16.275,
           9.975,
           9.625,
           13.475,
           12.425,
           7.525,
           9.275,
           9.625,
           9.625,
           12.775
          ]
         },
         "mode": "markers",
         "text": [
          "Node 2807901.0",
          "Node 2807902.0",
          "Node 2807903.0",
          "Node 2807904.0",
          "Node 2807907.0",
          "Node 2807909.0",
          "Node 2807910.0",
          "Node 2807911.0",
          "Node 2807912.0",
          "Node 2807913.0",
          "Node 2807914.0",
          "Node 2807905.0",
          "Node 2807915.0",
          "Node 2807906.0",
          "Node 2807908.0",
          "Node 2807916.0",
          "Node 2807917.0",
          "Node 2807918.0",
          "Node 2807919.0",
          "Node 2807920.0",
          "Node 2807921.0"
         ],
         "type": "scatter",
         "x": [
          -3.7052688040638215,
          -3.696615194920357,
          -3.676438378488831,
          -3.673788735491743,
          -3.7035239513951597,
          -3.757223268157655,
          -3.7786165406182834,
          -3.7371124007578205,
          -3.702980875545591,
          -3.6598634715735407,
          -3.641390939489583,
          -3.678150006537062,
          -3.64994851460145,
          -3.6999935507976818,
          -3.753579560856659,
          -3.637741035389706,
          -3.695056256825153,
          -3.616007391228478,
          -3.572894771748728,
          -3.598652688670139,
          -3.5745434793228257
         ],
         "y": [
          40.41733007020506,
          40.398119933450886,
          40.4113808457666,
          40.430183709221865,
          40.4375595509298,
          40.44543508494526,
          40.385273701511025,
          40.378840354576816,
          40.37595000318737,
          40.383550787346834,
          40.406612706116334,
          40.45750039357671,
          40.439269907072294,
          40.46064847767731,
          40.54479435831403,
          40.482012145328966,
          40.34253624126977,
          40.34992967757025,
          40.393568592656926,
          40.43466852782298,
          40.47574106966082
         ]
        }
       ],
       "layout": {
        "hovermode": "closest",
        "legend": {
         "x": 1,
         "xanchor": "right",
         "y": 0,
         "yanchor": "bottom"
        },
        "margin": {
         "b": 0,
         "l": 0,
         "r": 0,
         "t": 0
        },
        "showlegend": true,
        "template": {
         "data": {
          "bar": [
           {
            "error_x": {
             "color": "#2a3f5f"
            },
            "error_y": {
             "color": "#2a3f5f"
            },
            "marker": {
             "line": {
              "color": "#E5ECF6",
              "width": 0.5
             },
             "pattern": {
              "fillmode": "overlay",
              "size": 10,
              "solidity": 0.2
             }
            },
            "type": "bar"
           }
          ],
          "barpolar": [
           {
            "marker": {
             "line": {
              "color": "#E5ECF6",
              "width": 0.5
             },
             "pattern": {
              "fillmode": "overlay",
              "size": 10,
              "solidity": 0.2
             }
            },
            "type": "barpolar"
           }
          ],
          "carpet": [
           {
            "aaxis": {
             "endlinecolor": "#2a3f5f",
             "gridcolor": "white",
             "linecolor": "white",
             "minorgridcolor": "white",
             "startlinecolor": "#2a3f5f"
            },
            "baxis": {
             "endlinecolor": "#2a3f5f",
             "gridcolor": "white",
             "linecolor": "white",
             "minorgridcolor": "white",
             "startlinecolor": "#2a3f5f"
            },
            "type": "carpet"
           }
          ],
          "choropleth": [
           {
            "colorbar": {
             "outlinewidth": 0,
             "ticks": ""
            },
            "type": "choropleth"
           }
          ],
          "contour": [
           {
            "colorbar": {
             "outlinewidth": 0,
             "ticks": ""
            },
            "colorscale": [
             [
              0,
              "#0d0887"
             ],
             [
              0.1111111111111111,
              "#46039f"
             ],
             [
              0.2222222222222222,
              "#7201a8"
             ],
             [
              0.3333333333333333,
              "#9c179e"
             ],
             [
              0.4444444444444444,
              "#bd3786"
             ],
             [
              0.5555555555555556,
              "#d8576b"
             ],
             [
              0.6666666666666666,
              "#ed7953"
             ],
             [
              0.7777777777777778,
              "#fb9f3a"
             ],
             [
              0.8888888888888888,
              "#fdca26"
             ],
             [
              1,
              "#f0f921"
             ]
            ],
            "type": "contour"
           }
          ],
          "contourcarpet": [
           {
            "colorbar": {
             "outlinewidth": 0,
             "ticks": ""
            },
            "type": "contourcarpet"
           }
          ],
          "heatmap": [
           {
            "colorbar": {
             "outlinewidth": 0,
             "ticks": ""
            },
            "colorscale": [
             [
              0,
              "#0d0887"
             ],
             [
              0.1111111111111111,
              "#46039f"
             ],
             [
              0.2222222222222222,
              "#7201a8"
             ],
             [
              0.3333333333333333,
              "#9c179e"
             ],
             [
              0.4444444444444444,
              "#bd3786"
             ],
             [
              0.5555555555555556,
              "#d8576b"
             ],
             [
              0.6666666666666666,
              "#ed7953"
             ],
             [
              0.7777777777777778,
              "#fb9f3a"
             ],
             [
              0.8888888888888888,
              "#fdca26"
             ],
             [
              1,
              "#f0f921"
             ]
            ],
            "type": "heatmap"
           }
          ],
          "heatmapgl": [
           {
            "colorbar": {
             "outlinewidth": 0,
             "ticks": ""
            },
            "colorscale": [
             [
              0,
              "#0d0887"
             ],
             [
              0.1111111111111111,
              "#46039f"
             ],
             [
              0.2222222222222222,
              "#7201a8"
             ],
             [
              0.3333333333333333,
              "#9c179e"
             ],
             [
              0.4444444444444444,
              "#bd3786"
             ],
             [
              0.5555555555555556,
              "#d8576b"
             ],
             [
              0.6666666666666666,
              "#ed7953"
             ],
             [
              0.7777777777777778,
              "#fb9f3a"
             ],
             [
              0.8888888888888888,
              "#fdca26"
             ],
             [
              1,
              "#f0f921"
             ]
            ],
            "type": "heatmapgl"
           }
          ],
          "histogram": [
           {
            "marker": {
             "pattern": {
              "fillmode": "overlay",
              "size": 10,
              "solidity": 0.2
             }
            },
            "type": "histogram"
           }
          ],
          "histogram2d": [
           {
            "colorbar": {
             "outlinewidth": 0,
             "ticks": ""
            },
            "colorscale": [
             [
              0,
              "#0d0887"
             ],
             [
              0.1111111111111111,
              "#46039f"
             ],
             [
              0.2222222222222222,
              "#7201a8"
             ],
             [
              0.3333333333333333,
              "#9c179e"
             ],
             [
              0.4444444444444444,
              "#bd3786"
             ],
             [
              0.5555555555555556,
              "#d8576b"
             ],
             [
              0.6666666666666666,
              "#ed7953"
             ],
             [
              0.7777777777777778,
              "#fb9f3a"
             ],
             [
              0.8888888888888888,
              "#fdca26"
             ],
             [
              1,
              "#f0f921"
             ]
            ],
            "type": "histogram2d"
           }
          ],
          "histogram2dcontour": [
           {
            "colorbar": {
             "outlinewidth": 0,
             "ticks": ""
            },
            "colorscale": [
             [
              0,
              "#0d0887"
             ],
             [
              0.1111111111111111,
              "#46039f"
             ],
             [
              0.2222222222222222,
              "#7201a8"
             ],
             [
              0.3333333333333333,
              "#9c179e"
             ],
             [
              0.4444444444444444,
              "#bd3786"
             ],
             [
              0.5555555555555556,
              "#d8576b"
             ],
             [
              0.6666666666666666,
              "#ed7953"
             ],
             [
              0.7777777777777778,
              "#fb9f3a"
             ],
             [
              0.8888888888888888,
              "#fdca26"
             ],
             [
              1,
              "#f0f921"
             ]
            ],
            "type": "histogram2dcontour"
           }
          ],
          "mesh3d": [
           {
            "colorbar": {
             "outlinewidth": 0,
             "ticks": ""
            },
            "type": "mesh3d"
           }
          ],
          "parcoords": [
           {
            "line": {
             "colorbar": {
              "outlinewidth": 0,
              "ticks": ""
             }
            },
            "type": "parcoords"
           }
          ],
          "pie": [
           {
            "automargin": true,
            "type": "pie"
           }
          ],
          "scatter": [
           {
            "fillpattern": {
             "fillmode": "overlay",
             "size": 10,
             "solidity": 0.2
            },
            "type": "scatter"
           }
          ],
          "scatter3d": [
           {
            "line": {
             "colorbar": {
              "outlinewidth": 0,
              "ticks": ""
             }
            },
            "marker": {
             "colorbar": {
              "outlinewidth": 0,
              "ticks": ""
             }
            },
            "type": "scatter3d"
           }
          ],
          "scattercarpet": [
           {
            "marker": {
             "colorbar": {
              "outlinewidth": 0,
              "ticks": ""
             }
            },
            "type": "scattercarpet"
           }
          ],
          "scattergeo": [
           {
            "marker": {
             "colorbar": {
              "outlinewidth": 0,
              "ticks": ""
             }
            },
            "type": "scattergeo"
           }
          ],
          "scattergl": [
           {
            "marker": {
             "colorbar": {
              "outlinewidth": 0,
              "ticks": ""
             }
            },
            "type": "scattergl"
           }
          ],
          "scattermapbox": [
           {
            "marker": {
             "colorbar": {
              "outlinewidth": 0,
              "ticks": ""
             }
            },
            "type": "scattermapbox"
           }
          ],
          "scatterpolar": [
           {
            "marker": {
             "colorbar": {
              "outlinewidth": 0,
              "ticks": ""
             }
            },
            "type": "scatterpolar"
           }
          ],
          "scatterpolargl": [
           {
            "marker": {
             "colorbar": {
              "outlinewidth": 0,
              "ticks": ""
             }
            },
            "type": "scatterpolargl"
           }
          ],
          "scatterternary": [
           {
            "marker": {
             "colorbar": {
              "outlinewidth": 0,
              "ticks": ""
             }
            },
            "type": "scatterternary"
           }
          ],
          "surface": [
           {
            "colorbar": {
             "outlinewidth": 0,
             "ticks": ""
            },
            "colorscale": [
             [
              0,
              "#0d0887"
             ],
             [
              0.1111111111111111,
              "#46039f"
             ],
             [
              0.2222222222222222,
              "#7201a8"
             ],
             [
              0.3333333333333333,
              "#9c179e"
             ],
             [
              0.4444444444444444,
              "#bd3786"
             ],
             [
              0.5555555555555556,
              "#d8576b"
             ],
             [
              0.6666666666666666,
              "#ed7953"
             ],
             [
              0.7777777777777778,
              "#fb9f3a"
             ],
             [
              0.8888888888888888,
              "#fdca26"
             ],
             [
              1,
              "#f0f921"
             ]
            ],
            "type": "surface"
           }
          ],
          "table": [
           {
            "cells": {
             "fill": {
              "color": "#EBF0F8"
             },
             "line": {
              "color": "white"
             }
            },
            "header": {
             "fill": {
              "color": "#C8D4E3"
             },
             "line": {
              "color": "white"
             }
            },
            "type": "table"
           }
          ]
         },
         "layout": {
          "annotationdefaults": {
           "arrowcolor": "#2a3f5f",
           "arrowhead": 0,
           "arrowwidth": 1
          },
          "autotypenumbers": "strict",
          "coloraxis": {
           "colorbar": {
            "outlinewidth": 0,
            "ticks": ""
           }
          },
          "colorscale": {
           "diverging": [
            [
             0,
             "#8e0152"
            ],
            [
             0.1,
             "#c51b7d"
            ],
            [
             0.2,
             "#de77ae"
            ],
            [
             0.3,
             "#f1b6da"
            ],
            [
             0.4,
             "#fde0ef"
            ],
            [
             0.5,
             "#f7f7f7"
            ],
            [
             0.6,
             "#e6f5d0"
            ],
            [
             0.7,
             "#b8e186"
            ],
            [
             0.8,
             "#7fbc41"
            ],
            [
             0.9,
             "#4d9221"
            ],
            [
             1,
             "#276419"
            ]
           ],
           "sequential": [
            [
             0,
             "#0d0887"
            ],
            [
             0.1111111111111111,
             "#46039f"
            ],
            [
             0.2222222222222222,
             "#7201a8"
            ],
            [
             0.3333333333333333,
             "#9c179e"
            ],
            [
             0.4444444444444444,
             "#bd3786"
            ],
            [
             0.5555555555555556,
             "#d8576b"
            ],
            [
             0.6666666666666666,
             "#ed7953"
            ],
            [
             0.7777777777777778,
             "#fb9f3a"
            ],
            [
             0.8888888888888888,
             "#fdca26"
            ],
            [
             1,
             "#f0f921"
            ]
           ],
           "sequentialminus": [
            [
             0,
             "#0d0887"
            ],
            [
             0.1111111111111111,
             "#46039f"
            ],
            [
             0.2222222222222222,
             "#7201a8"
            ],
            [
             0.3333333333333333,
             "#9c179e"
            ],
            [
             0.4444444444444444,
             "#bd3786"
            ],
            [
             0.5555555555555556,
             "#d8576b"
            ],
            [
             0.6666666666666666,
             "#ed7953"
            ],
            [
             0.7777777777777778,
             "#fb9f3a"
            ],
            [
             0.8888888888888888,
             "#fdca26"
            ],
            [
             1,
             "#f0f921"
            ]
           ]
          },
          "colorway": [
           "#636efa",
           "#EF553B",
           "#00cc96",
           "#ab63fa",
           "#FFA15A",
           "#19d3f3",
           "#FF6692",
           "#B6E880",
           "#FF97FF",
           "#FECB52"
          ],
          "font": {
           "color": "#2a3f5f"
          },
          "geo": {
           "bgcolor": "white",
           "lakecolor": "white",
           "landcolor": "#E5ECF6",
           "showlakes": true,
           "showland": true,
           "subunitcolor": "white"
          },
          "hoverlabel": {
           "align": "left"
          },
          "hovermode": "closest",
          "mapbox": {
           "style": "light"
          },
          "paper_bgcolor": "white",
          "plot_bgcolor": "#E5ECF6",
          "polar": {
           "angularaxis": {
            "gridcolor": "white",
            "linecolor": "white",
            "ticks": ""
           },
           "bgcolor": "#E5ECF6",
           "radialaxis": {
            "gridcolor": "white",
            "linecolor": "white",
            "ticks": ""
           }
          },
          "scene": {
           "xaxis": {
            "backgroundcolor": "#E5ECF6",
            "gridcolor": "white",
            "gridwidth": 2,
            "linecolor": "white",
            "showbackground": true,
            "ticks": "",
            "zerolinecolor": "white"
           },
           "yaxis": {
            "backgroundcolor": "#E5ECF6",
            "gridcolor": "white",
            "gridwidth": 2,
            "linecolor": "white",
            "showbackground": true,
            "ticks": "",
            "zerolinecolor": "white"
           },
           "zaxis": {
            "backgroundcolor": "#E5ECF6",
            "gridcolor": "white",
            "gridwidth": 2,
            "linecolor": "white",
            "showbackground": true,
            "ticks": "",
            "zerolinecolor": "white"
           }
          },
          "shapedefaults": {
           "line": {
            "color": "#2a3f5f"
           }
          },
          "ternary": {
           "aaxis": {
            "gridcolor": "white",
            "linecolor": "white",
            "ticks": ""
           },
           "baxis": {
            "gridcolor": "white",
            "linecolor": "white",
            "ticks": ""
           },
           "bgcolor": "#E5ECF6",
           "caxis": {
            "gridcolor": "white",
            "linecolor": "white",
            "ticks": ""
           }
          },
          "title": {
           "x": 0.05
          },
          "xaxis": {
           "automargin": true,
           "gridcolor": "white",
           "linecolor": "white",
           "ticks": "",
           "title": {
            "standoff": 15
           },
           "zerolinecolor": "white",
           "zerolinewidth": 2
          },
          "yaxis": {
           "automargin": true,
           "gridcolor": "white",
           "linecolor": "white",
           "ticks": "",
           "title": {
            "standoff": 15
           },
           "zerolinecolor": "white",
           "zerolinewidth": 2
          }
         }
        },
        "xaxis": {
         "showgrid": false,
         "showticklabels": false,
         "zeroline": false
        },
        "yaxis": {
         "showgrid": false,
         "showticklabels": false,
         "zeroline": false
        }
       }
      }
     },
     "metadata": {},
     "output_type": "display_data"
    }
   ],
   "source": [
    "fig.show()"
   ]
  },
  {
   "cell_type": "code",
   "execution_count": 21,
   "metadata": {},
   "outputs": [],
   "source": [
    "# fig.write_html(\"madrid_districts_mobility.html\")"
   ]
  },
  {
   "attachments": {},
   "cell_type": "markdown",
   "metadata": {},
   "source": [
    "## Testing Infomap"
   ]
  },
  {
   "cell_type": "code",
   "execution_count": 23,
   "metadata": {},
   "outputs": [],
   "source": [
    "edges_with_weights = [(u, v, data['weight']) for u, v, data in G.edges(data=True)]\n",
    "\n",
    "df_edges = pd.DataFrame(edges_with_weights, columns=['source', 'target', 'weight'])\n",
    "df_edges = df_edges[df_edges['weight'] >= 0.3] # NOTE: Infomap only finds 1 community if I leave edges as they are. Hence, I had to cut edges \n",
    "\n",
    "df_edges.to_csv('infomap_input.txt', sep=' ', header=False, index=False)"
   ]
  },
  {
   "cell_type": "code",
   "execution_count": 52,
   "metadata": {},
   "outputs": [
    {
     "data": {
      "text/html": [
       "<div>\n",
       "<style scoped>\n",
       "    .dataframe tbody tr th:only-of-type {\n",
       "        vertical-align: middle;\n",
       "    }\n",
       "\n",
       "    .dataframe tbody tr th {\n",
       "        vertical-align: top;\n",
       "    }\n",
       "\n",
       "    .dataframe thead th {\n",
       "        text-align: right;\n",
       "    }\n",
       "</style>\n",
       "<table border=\"1\" class=\"dataframe\">\n",
       "  <thead>\n",
       "    <tr style=\"text-align: right;\">\n",
       "      <th></th>\n",
       "      <th>source</th>\n",
       "      <th>target</th>\n",
       "      <th>weight</th>\n",
       "    </tr>\n",
       "  </thead>\n",
       "  <tbody>\n",
       "    <tr>\n",
       "      <th>0</th>\n",
       "      <td>2807901</td>\n",
       "      <td>2807901</td>\n",
       "      <td>0.629914</td>\n",
       "    </tr>\n",
       "    <tr>\n",
       "      <th>1</th>\n",
       "      <td>2807901</td>\n",
       "      <td>2807902</td>\n",
       "      <td>0.548320</td>\n",
       "    </tr>\n",
       "    <tr>\n",
       "      <th>2</th>\n",
       "      <td>2807901</td>\n",
       "      <td>2807903</td>\n",
       "      <td>0.424445</td>\n",
       "    </tr>\n",
       "    <tr>\n",
       "      <th>3</th>\n",
       "      <td>2807901</td>\n",
       "      <td>2807904</td>\n",
       "      <td>0.448233</td>\n",
       "    </tr>\n",
       "    <tr>\n",
       "      <th>6</th>\n",
       "      <td>2807901</td>\n",
       "      <td>2807907</td>\n",
       "      <td>0.680910</td>\n",
       "    </tr>\n",
       "    <tr>\n",
       "      <th>...</th>\n",
       "      <td>...</td>\n",
       "      <td>...</td>\n",
       "      <td>...</td>\n",
       "    </tr>\n",
       "    <tr>\n",
       "      <th>418</th>\n",
       "      <td>2807920</td>\n",
       "      <td>2807920</td>\n",
       "      <td>0.876657</td>\n",
       "    </tr>\n",
       "    <tr>\n",
       "      <th>419</th>\n",
       "      <td>2807920</td>\n",
       "      <td>2807921</td>\n",
       "      <td>0.633192</td>\n",
       "    </tr>\n",
       "    <tr>\n",
       "      <th>435</th>\n",
       "      <td>2807921</td>\n",
       "      <td>2807916</td>\n",
       "      <td>0.566085</td>\n",
       "    </tr>\n",
       "    <tr>\n",
       "      <th>439</th>\n",
       "      <td>2807921</td>\n",
       "      <td>2807920</td>\n",
       "      <td>0.526633</td>\n",
       "    </tr>\n",
       "    <tr>\n",
       "      <th>440</th>\n",
       "      <td>2807921</td>\n",
       "      <td>2807921</td>\n",
       "      <td>0.763961</td>\n",
       "    </tr>\n",
       "  </tbody>\n",
       "</table>\n",
       "<p>143 rows × 3 columns</p>\n",
       "</div>"
      ],
      "text/plain": [
       "      source   target    weight\n",
       "0    2807901  2807901  0.629914\n",
       "1    2807901  2807902  0.548320\n",
       "2    2807901  2807903  0.424445\n",
       "3    2807901  2807904  0.448233\n",
       "6    2807901  2807907  0.680910\n",
       "..       ...      ...       ...\n",
       "418  2807920  2807920  0.876657\n",
       "419  2807920  2807921  0.633192\n",
       "435  2807921  2807916  0.566085\n",
       "439  2807921  2807920  0.526633\n",
       "440  2807921  2807921  0.763961\n",
       "\n",
       "[143 rows x 3 columns]"
      ]
     },
     "execution_count": 52,
     "metadata": {},
     "output_type": "execute_result"
    }
   ],
   "source": [
    "df_edges"
   ]
  },
  {
   "attachments": {},
   "cell_type": "markdown",
   "metadata": {},
   "source": [
    "## Community Analysis"
   ]
  },
  {
   "cell_type": "code",
   "execution_count": 19,
   "metadata": {},
   "outputs": [],
   "source": [
    "communities = nx.community.louvain_communities(G, weight='weight', seed=1234)"
   ]
  },
  {
   "cell_type": "code",
   "execution_count": 20,
   "metadata": {},
   "outputs": [
    {
     "data": {
      "text/plain": [
       "4"
      ]
     },
     "execution_count": 20,
     "metadata": {},
     "output_type": "execute_result"
    }
   ],
   "source": [
    "len(communities)"
   ]
  },
  {
   "cell_type": "code",
   "execution_count": 21,
   "metadata": {},
   "outputs": [
    {
     "name": "stdout",
     "output_type": "stream",
     "text": [
      "Community {np.float64(2807904.0), np.float64(2807905.0), np.float64(2807906.0), np.float64(2807907.0), np.float64(2807908.0), np.float64(2807909.0), np.float64(2807901.0)} - Average In-degree: 4.04637810322813 - Average Out-degree: 4.085801449713595\n",
      "Community {np.float64(2807910.0), np.float64(2807911.0), np.float64(2807912.0), np.float64(2807917.0), np.float64(2807902.0)} - Average In-degree: 2.8010069155819113 - Average Out-degree: 2.7543263092044943\n",
      "Community {np.float64(2807913.0), np.float64(2807914.0), np.float64(2807903.0), np.float64(2807918.0), np.float64(2807919.0)} - Average In-degree: 2.6553743583591127 - Average Out-degree: 2.641770286135415\n",
      "Community {np.float64(2807920.0), np.float64(2807921.0), np.float64(2807915.0), np.float64(2807916.0)} - Average In-degree: 3.1932774459479143 - Average Out-degree: 3.1996424378497426\n"
     ]
    },
    {
     "data": {
      "text/plain": [
       "([np.float64(4.04637810322813),\n",
       "  np.float64(2.8010069155819113),\n",
       "  np.float64(2.6553743583591127),\n",
       "  np.float64(3.1932774459479143)],\n",
       " [np.float64(4.085801449713595),\n",
       "  np.float64(2.7543263092044943),\n",
       "  np.float64(2.641770286135415),\n",
       "  np.float64(3.1996424378497426)])"
      ]
     },
     "execution_count": 21,
     "metadata": {},
     "output_type": "execute_result"
    }
   ],
   "source": [
    "def average_degree_per_community(G, communities):\n",
    "    community_avg_in_degrees = []\n",
    "    community_avg_out_degrees = []\n",
    "    \n",
    "    for community in communities:\n",
    "        in_degrees = [G.in_degree(node,  weight='weight') for node in community]  # Get in-degree for each node\n",
    "        out_degrees = [G.out_degree(node,  weight='weight') for node in community] \n",
    "        avg_in_degree = sum(in_degrees) / len(community)        # Compute average in-degree\n",
    "        avg_out_degree = sum(out_degrees) / len(community)\n",
    "        community_avg_in_degrees.append(avg_in_degree)\n",
    "        community_avg_out_degrees.append(avg_out_degree)\n",
    "        print(f\"Community {community} - Average In-degree: {avg_in_degree} - Average Out-degree: {avg_out_degree}\")\n",
    "    \n",
    "    return community_avg_in_degrees, community_avg_out_degrees\n",
    "\n",
    "# Calculate and display average in-degree for each community\n",
    "average_degree_per_community(G, communities)"
   ]
  },
  {
   "cell_type": "code",
   "execution_count": null,
   "metadata": {},
   "outputs": [],
   "source": []
  }
 ],
 "metadata": {
  "kernelspec": {
   "display_name": ".thesis_env",
   "language": "python",
   "name": "python3"
  },
  "language_info": {
   "codemirror_mode": {
    "name": "ipython",
    "version": 3
   },
   "file_extension": ".py",
   "mimetype": "text/x-python",
   "name": "python",
   "nbconvert_exporter": "python",
   "pygments_lexer": "ipython3",
   "version": "3.11.4"
  },
  "orig_nbformat": 4,
  "vscode": {
   "interpreter": {
    "hash": "dc5a137c8466a4ffb6ded1bc1d0edcb068d49351ebe910c5391764b8894bd5ea"
   }
  }
 },
 "nbformat": 4,
 "nbformat_minor": 2
}
