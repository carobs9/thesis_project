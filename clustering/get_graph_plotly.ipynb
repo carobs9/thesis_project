{
 "cells": [
  {
   "cell_type": "code",
   "execution_count": null,
   "metadata": {},
   "outputs": [],
   "source": [
    "# TODO: Read: chrome-extension://efaidnbmnnnibpcajpcglclefindmkaj/https://arxiv.org/pdf/2309.11798v4\n",
    "# and https://www.nature.com/articles/s41598-024-58624-4 and https://www.nature.com/articles/s41598-024-58624-4\n",
    "# chrome-extension://efaidnbmnnnibpcajpcglclefindmkaj/https://www.aimspress.com/aimspress-data/math/2024/2/PDF/math-09-02-178.pdf\n",
    "# https://ieeexplore.ieee.org/abstract/document/7289461?casa_token=fHhNEidoqJMAAAAA:LM6FsCabVYqQ36U10oWBJSYUmAL4X1_yraUZv51GF3vsfDsp15CrrOFpI-o7PRtfX_JPd9Gog3AGcHQ"
   ]
  },
  {
   "cell_type": "code",
   "execution_count": 1,
   "metadata": {},
   "outputs": [],
   "source": [
    "import config as cfg\n",
    "from utils import *\n",
    "import seaborn as sns\n",
    "import numpy as np"
   ]
  },
  {
   "cell_type": "code",
   "execution_count": 2,
   "metadata": {},
   "outputs": [],
   "source": [
    "# Load data\n",
    "all_viajes = pd.read_csv('/Users/caro/Desktop/thesis_project/mobility_data/VIAJES/all_viajes_month_0322.csv')\n",
    "filtered_df = all_viajes.loc[(all_viajes['actividad_origen'] == 'casa')] # filtering only home origin trips\n",
    "income = gpd.read_file('/Users/caro/Desktop/thesis_project/segregation_indices/data/processed/geometries_and_income.geojson')\n",
    "\n",
    "gdf = gpd.read_file(cfg.ZONIFICACION_DATA / 'distritos/madrid_gdf.geojson')  # for positions when plotting\n",
    "gdf = gdf.to_crs(epsg=4326)"
   ]
  },
  {
   "cell_type": "code",
   "execution_count": 3,
   "metadata": {},
   "outputs": [],
   "source": [
    "district_counts = filtered_df['origen'].value_counts().reset_index()\n",
    "district_counts.columns = ['ID', 'Population']"
   ]
  },
  {
   "cell_type": "code",
   "execution_count": 48,
   "metadata": {},
   "outputs": [],
   "source": [
    "income['Gini Index Scaled'] = income['Gini Index'] ** 2.5\n",
    "var_of_interest = 'Gini Index Scaled' # or 'Gini Index Scaled' or Median income per consumption unit"
   ]
  },
  {
   "cell_type": "code",
   "execution_count": 54,
   "metadata": {},
   "outputs": [
    {
     "data": {
      "application/vnd.plotly.v1+json": {
       "config": {
        "plotlyServerURL": "https://plot.ly"
       },
       "data": [
        {
         "hoverinfo": "text",
         "line": {
          "color": "rgba(242.23529411764707, 250.05882352941177, 214.4705882352941, 1.0)",
          "width": 4.582633580962852
         },
         "mode": "lines",
         "showlegend": false,
         "text": "Width: 4.58",
         "type": "scatter",
         "x": [
          -3.705268804063821,
          -3.705268804063821,
          null
         ],
         "y": [
          40.41733007020507,
          40.41733007020507,
          null
         ]
        },
        {
         "hoverinfo": "text",
         "line": {
          "color": "rgba(221.92156862745105, 241.98039215686276, 247.41176470588238, 1.0)",
          "width": 3.9707371730234735
         },
         "mode": "lines",
         "showlegend": false,
         "text": "Width: 3.97",
         "type": "scatter",
         "x": [
          -3.705268804063821,
          -3.6966151949203576,
          null
         ],
         "y": [
          40.41733007020507,
          40.398119933450886,
          null
         ]
        },
        {
         "hoverinfo": "text",
         "line": {
          "color": "rgba(172.03921568627453, 217.50980392156862, 233.29411764705884, 1.0)",
          "width": 3.0417557102830903
         },
         "mode": "lines",
         "showlegend": false,
         "text": "Width: 3.04",
         "type": "scatter",
         "x": [
          -3.705268804063821,
          -3.67643837848883,
          null
         ],
         "y": [
          40.41733007020507,
          40.41138084576659,
          null
         ]
        },
        {
         "hoverinfo": "text",
         "line": {
          "color": "rgba(182.4313725490196, 222.6078431372549, 236.23529411764707, 1.0)",
          "width": 3.2201554528450864
         },
         "mode": "lines",
         "showlegend": false,
         "text": "Width: 3.22",
         "type": "scatter",
         "x": [
          -3.705268804063821,
          -3.6737887354917422,
          null
         ],
         "y": [
          40.41733007020507,
          40.43018370922185,
          null
         ]
        },
        {
         "hoverinfo": "text",
         "line": {
          "color": "rgba(95.72549019607845, 148.843137254902, 196.49019607843138, 1.0)",
          "width": 1.5912334218196507
         },
         "mode": "lines",
         "showlegend": false,
         "text": "Width: 1.59",
         "type": "scatter",
         "x": [
          -3.705268804063821,
          -3.678150006537061,
          null
         ],
         "y": [
          40.41733007020507,
          40.45750039357669,
          null
         ]
        },
        {
         "hoverinfo": "text",
         "line": {
          "color": "rgba(84.66666666666667, 135.66666666666669, 189.66666666666669, 1.0)",
          "width": 1.329202233392314
         },
         "mode": "lines",
         "showlegend": false,
         "text": "Width: 1.33",
         "type": "scatter",
         "x": [
          -3.705268804063821,
          -3.6999935507976827,
          null
         ],
         "y": [
          40.41733007020507,
          40.4606484776773,
          null
         ]
        },
        {
         "hoverinfo": "text",
         "line": {
          "color": "rgba(254.39215686274508, 254.76470588235296, 192.1176470588235, 1.0)",
          "width": 4.9650688359249635
         },
         "mode": "lines",
         "showlegend": false,
         "text": "Width: 4.97",
         "type": "scatter",
         "x": [
          -3.705268804063821,
          -3.703523951395161,
          null
         ],
         "y": [
          40.41733007020507,
          40.4375595509298,
          null
         ]
        },
        {
         "hoverinfo": "text",
         "line": {
          "color": "rgba(103.0980392156863, 157.6274509803922, 201.0392156862745, 1.0)",
          "width": 1.7278174414489769
         },
         "mode": "lines",
         "showlegend": false,
         "text": "Width: 1.73",
         "type": "scatter",
         "x": [
          -3.705268804063821,
          -3.753579560856663,
          null
         ],
         "y": [
          40.41733007020507,
          40.54479435831404,
          null
         ]
        },
        {
         "hoverinfo": "text",
         "line": {
          "color": "rgba(219.84313725490202, 240.9607843137255, 246.82352941176472, 1.0)",
          "width": 3.9219871844788523
         },
         "mode": "lines",
         "showlegend": false,
         "text": "Width: 3.92",
         "type": "scatter",
         "x": [
          -3.705268804063821,
          -3.757223268157654,
          null
         ],
         "y": [
          40.41733007020507,
          40.44543508494524,
          null
         ]
        },
        {
         "hoverinfo": "text",
         "line": {
          "color": "rgba(163.45098039215688, 210.96078431372553, 229.7058823529412, 1.0)",
          "width": 2.8885714790372767
         },
         "mode": "lines",
         "showlegend": false,
         "text": "Width: 2.89",
         "type": "scatter",
         "x": [
          -3.705268804063821,
          -3.778616540618283,
          null
         ],
         "y": [
          40.41733007020507,
          40.385273701511004,
          null
         ]
        },
        {
         "hoverinfo": "text",
         "line": {
          "color": "rgba(148.35294117647058, 198.88235294117646, 223.1176470588235, 1.0)",
          "width": 2.6040564596863427
         },
         "mode": "lines",
         "showlegend": false,
         "text": "Width: 2.60",
         "type": "scatter",
         "x": [
          -3.705268804063821,
          -3.737112400757822,
          null
         ],
         "y": [
          40.41733007020507,
          40.378840354576816,
          null
         ]
        },
        {
         "hoverinfo": "text",
         "line": {
          "color": "rgba(92.03921568627452, 144.4509803921569, 194.2156862745098, 1.0)",
          "width": 1.512855207478515
         },
         "mode": "lines",
         "showlegend": false,
         "text": "Width: 1.51",
         "type": "scatter",
         "x": [
          -3.705268804063821,
          -3.7029808755455926,
          null
         ],
         "y": [
          40.41733007020507,
          40.37595000318738,
          null
         ]
        },
        {
         "hoverinfo": "text",
         "line": {
          "color": "rgba(65.47058823529412, 105.88235294117648, 174.52941176470588, 1.0)",
          "width": 0.8568316547358152
         },
         "mode": "lines",
         "showlegend": false,
         "text": "Width: 0.86",
         "type": "scatter",
         "x": [
          -3.705268804063821,
          -3.6598634715735407,
          null
         ],
         "y": [
          40.41733007020507,
          40.38355078734683,
          null
         ]
        },
        {
         "hoverinfo": "text",
         "line": {
          "color": "rgba(52.92156862745099, 66.35294117647058, 155.07843137254903, 1.0)",
          "width": 0.5
         },
         "mode": "lines",
         "showlegend": false,
         "text": "Width: 0.50",
         "type": "scatter",
         "x": [
          -3.705268804063821,
          -3.6413909394895803,
          null
         ],
         "y": [
          40.41733007020507,
          40.40661270611631,
          null
         ]
        },
        {
         "hoverinfo": "text",
         "line": {
          "color": "rgba(66.25490196078432, 108.35294117647061, 175.74509803921572, 1.0)",
          "width": 0.8902422072297581
         },
         "mode": "lines",
         "showlegend": false,
         "text": "Width: 0.89",
         "type": "scatter",
         "x": [
          -3.705268804063821,
          -3.649948514601449,
          null
         ],
         "y": [
          40.41733007020507,
          40.43926990707227,
          null
         ]
        },
        {
         "hoverinfo": "text",
         "line": {
          "color": "rgba(67.03921568627452, 110.82352941176472, 176.9607843137255, 1.0)",
          "width": 0.9007486702781676
         },
         "mode": "lines",
         "showlegend": false,
         "text": "Width: 0.90",
         "type": "scatter",
         "x": [
          -3.705268804063821,
          -3.637741035389707,
          null
         ],
         "y": [
          40.41733007020507,
          40.48201214532898,
          null
         ]
        },
        {
         "hoverinfo": "text",
         "line": {
          "color": "rgba(59.196078431372555, 86.11764705882355, 164.8039215686275, 1.0)",
          "width": 0.5105386326602326
         },
         "mode": "lines",
         "showlegend": false,
         "text": "Width: 0.51",
         "type": "scatter",
         "x": [
          -3.705268804063821,
          -3.695056256825152,
          null
         ],
         "y": [
          40.41733007020507,
          40.34253624126977,
          null
         ]
        },
        {
         "hoverinfo": "text",
         "line": {
          "color": "rgba(58.411764705882355, 83.64705882352942, 163.58823529411765, 1.0)",
          "width": 0.5
         },
         "mode": "lines",
         "showlegend": false,
         "text": "Width: 0.50",
         "type": "scatter",
         "x": [
          -3.705268804063821,
          -3.6160073912284756,
          null
         ],
         "y": [
          40.41733007020507,
          40.34992967757026,
          null
         ]
        },
        {
         "hoverinfo": "text",
         "line": {
          "color": "rgba(53.705882352941174, 68.82352941176471, 156.2941176470588, 1.0)",
          "width": 0.5
         },
         "mode": "lines",
         "showlegend": false,
         "text": "Width: 0.50",
         "type": "scatter",
         "x": [
          -3.705268804063821,
          -3.572894771748725,
          null
         ],
         "y": [
          40.41733007020507,
          40.39356859265691,
          null
         ]
        },
        {
         "hoverinfo": "text",
         "line": {
          "color": "rgba(63.90196078431372, 100.94117647058825, 172.0980392156863, 1.0)",
          "width": 0.7538683168614004
         },
         "mode": "lines",
         "showlegend": false,
         "text": "Width: 0.75",
         "type": "scatter",
         "x": [
          -3.705268804063821,
          -3.5986526886701378,
          null
         ],
         "y": [
          40.41733007020507,
          40.43466852782298,
          null
         ]
        },
        {
         "hoverinfo": "text",
         "line": {
          "color": "rgba(62.333333333333336, 96.0, 169.66666666666669, 1.0)",
          "width": 0.6822142388712465
         },
         "mode": "lines",
         "showlegend": false,
         "text": "Width: 0.68",
         "type": "scatter",
         "x": [
          -3.705268804063821,
          -3.574543479322823,
          null
         ],
         "y": [
          40.41733007020507,
          40.4757410696608,
          null
         ]
        },
        {
         "hoverinfo": "text",
         "line": {
          "color": "rgba(254.98039215686273, 254.39215686274508, 190.07843137254903, 1.0)",
          "width": 5.03703964064613
         },
         "mode": "lines",
         "showlegend": false,
         "text": "Width: 5.04",
         "type": "scatter",
         "x": [
          -3.6966151949203576,
          -3.705268804063821,
          null
         ],
         "y": [
          40.398119933450886,
          40.41733007020507,
          null
         ]
        },
        {
         "hoverinfo": "text",
         "line": {
          "color": "rgba(231.29411764705884, 245.8235294117647, 234.5882352941176, 1.0)",
          "width": 4.243841774765177
         },
         "mode": "lines",
         "showlegend": false,
         "text": "Width: 4.24",
         "type": "scatter",
         "x": [
          -3.6966151949203576,
          -3.6966151949203576,
          null
         ],
         "y": [
          40.398119933450886,
          40.398119933450886,
          null
         ]
        },
        {
         "hoverinfo": "text",
         "line": {
          "color": "rgba(205.29411764705887, 233.82352941176472, 242.7058823529412, 1.0)",
          "width": 3.6446665325742
         },
         "mode": "lines",
         "showlegend": false,
         "text": "Width: 3.64",
         "type": "scatter",
         "x": [
          -3.6966151949203576,
          -3.67643837848883,
          null
         ],
         "y": [
          40.398119933450886,
          40.41138084576659,
          null
         ]
        },
        {
         "hoverinfo": "text",
         "line": {
          "color": "rgba(97.5686274509804, 151.03921568627453, 197.62745098039218, 1.0)",
          "width": 1.6078462367836301
         },
         "mode": "lines",
         "showlegend": false,
         "text": "Width: 1.61",
         "type": "scatter",
         "x": [
          -3.6966151949203576,
          -3.6737887354917422,
          null
         ],
         "y": [
          40.398119933450886,
          40.43018370922185,
          null
         ]
        },
        {
         "hoverinfo": "text",
         "line": {
          "color": "rgba(79.13725490196079, 129.07843137254903, 186.25490196078434, 1.0)",
          "width": 1.2300236867808934
         },
         "mode": "lines",
         "showlegend": false,
         "text": "Width: 1.23",
         "type": "scatter",
         "x": [
          -3.6966151949203576,
          -3.678150006537061,
          null
         ],
         "y": [
          40.398119933450886,
          40.45750039357669,
          null
         ]
        },
        {
         "hoverinfo": "text",
         "line": {
          "color": "rgba(67.8235294117647, 113.29411764705883, 178.1764705882353, 1.0)",
          "width": 0.963607675542078
         },
         "mode": "lines",
         "showlegend": false,
         "text": "Width: 0.96",
         "type": "scatter",
         "x": [
          -3.6966151949203576,
          -3.6999935507976827,
          null
         ],
         "y": [
          40.398119933450886,
          40.4606484776773,
          null
         ]
        },
        {
         "hoverinfo": "text",
         "line": {
          "color": "rgba(106.78431372549022, 162.0196078431373, 203.31372549019608, 1.0)",
          "width": 1.824609146475979
         },
         "mode": "lines",
         "showlegend": false,
         "text": "Width: 1.82",
         "type": "scatter",
         "x": [
          -3.6966151949203576,
          -3.703523951395161,
          null
         ],
         "y": [
          40.398119933450886,
          40.4375595509298,
          null
         ]
        },
        {
         "hoverinfo": "text",
         "line": {
          "color": "rgba(90.19607843137256, 142.2549019607843, 193.07843137254903, 1.0)",
          "width": 1.4768288091736252
         },
         "mode": "lines",
         "showlegend": false,
         "text": "Width: 1.48",
         "type": "scatter",
         "x": [
          -3.6966151949203576,
          -3.753579560856663,
          null
         ],
         "y": [
          40.398119933450886,
          40.54479435831404,
          null
         ]
        },
        {
         "hoverinfo": "text",
         "line": {
          "color": "rgba(144.03921568627453, 195.4313725490196, 221.23529411764707, 1.0)",
          "width": 2.504940088253409
         },
         "mode": "lines",
         "showlegend": false,
         "text": "Width: 2.50",
         "type": "scatter",
         "x": [
          -3.6966151949203576,
          -3.757223268157654,
          null
         ],
         "y": [
          40.398119933450886,
          40.44543508494524,
          null
         ]
        },
        {
         "hoverinfo": "text",
         "line": {
          "color": "rgba(141.8823529411765, 193.70588235294122, 220.2941176470588, 1.0)",
          "width": 2.4788617786176594
         },
         "mode": "lines",
         "showlegend": false,
         "text": "Width: 2.48",
         "type": "scatter",
         "x": [
          -3.6966151949203576,
          -3.778616540618283,
          null
         ],
         "y": [
          40.398119933450886,
          40.385273701511004,
          null
         ]
        },
        {
         "hoverinfo": "text",
         "line": {
          "color": "rgba(228.86274509803923, 244.88235294117646, 239.05882352941174, 1.0)",
          "width": 4.167901737105875
         },
         "mode": "lines",
         "showlegend": false,
         "text": "Width: 4.17",
         "type": "scatter",
         "x": [
          -3.6966151949203576,
          -3.737112400757822,
          null
         ],
         "y": [
          40.398119933450886,
          40.378840354576816,
          null
         ]
        },
        {
         "hoverinfo": "text",
         "line": {
          "color": "rgba(228.86274509803923, 244.88235294117646, 239.05882352941174, 1.0)",
          "width": 4.177081302097659
         },
         "mode": "lines",
         "showlegend": false,
         "text": "Width: 4.18",
         "type": "scatter",
         "x": [
          -3.6966151949203576,
          -3.7029808755455926,
          null
         ],
         "y": [
          40.398119933450886,
          40.37595000318738,
          null
         ]
        },
        {
         "hoverinfo": "text",
         "line": {
          "color": "rgba(128.94117647058823, 183.3529411764706, 214.64705882352942, 1.0)",
          "width": 2.2620988689253108
         },
         "mode": "lines",
         "showlegend": false,
         "text": "Width: 2.26",
         "type": "scatter",
         "x": [
          -3.6966151949203576,
          -3.6598634715735407,
          null
         ],
         "y": [
          40.398119933450886,
          40.38355078734683,
          null
         ]
        },
        {
         "hoverinfo": "text",
         "line": {
          "color": "rgba(55.274509803921575, 73.76470588235294, 158.72549019607845, 1.0)",
          "width": 0.5
         },
         "mode": "lines",
         "showlegend": false,
         "text": "Width: 0.50",
         "type": "scatter",
         "x": [
          -3.6966151949203576,
          -3.6413909394895803,
          null
         ],
         "y": [
          40.398119933450886,
          40.40661270611631,
          null
         ]
        },
        {
         "hoverinfo": "text",
         "line": {
          "color": "rgba(64.68627450980392, 103.41176470588235, 173.3137254901961, 1.0)",
          "width": 0.7954547350107658
         },
         "mode": "lines",
         "showlegend": false,
         "text": "Width: 0.80",
         "type": "scatter",
         "x": [
          -3.6966151949203576,
          -3.649948514601449,
          null
         ],
         "y": [
          40.398119933450886,
          40.43926990707227,
          null
         ]
        },
        {
         "hoverinfo": "text",
         "line": {
          "color": "rgba(68.6078431372549, 115.76470588235296, 179.3921568627451, 1.0)",
          "width": 0.9869738409757092
         },
         "mode": "lines",
         "showlegend": false,
         "text": "Width: 0.99",
         "type": "scatter",
         "x": [
          -3.6966151949203576,
          -3.637741035389707,
          null
         ],
         "y": [
          40.398119933450886,
          40.48201214532898,
          null
         ]
        },
        {
         "hoverinfo": "text",
         "line": {
          "color": "rgba(66.25490196078432, 108.35294117647061, 175.74509803921572, 1.0)",
          "width": 0.8601289429074241
         },
         "mode": "lines",
         "showlegend": false,
         "text": "Width: 0.86",
         "type": "scatter",
         "x": [
          -3.6966151949203576,
          -3.695056256825152,
          null
         ],
         "y": [
          40.398119933450886,
          40.34253624126977,
          null
         ]
        },
        {
         "hoverinfo": "text",
         "line": {
          "color": "rgba(61.54901960784314, 93.5294117647059, 168.45098039215688, 1.0)",
          "width": 0.6569267542256653
         },
         "mode": "lines",
         "showlegend": false,
         "text": "Width: 0.66",
         "type": "scatter",
         "x": [
          -3.6966151949203576,
          -3.6160073912284756,
          null
         ],
         "y": [
          40.398119933450886,
          40.34992967757026,
          null
         ]
        },
        {
         "hoverinfo": "text",
         "line": {
          "color": "rgba(55.274509803921575, 73.76470588235294, 158.72549019607845, 1.0)",
          "width": 0.5
         },
         "mode": "lines",
         "showlegend": false,
         "text": "Width: 0.50",
         "type": "scatter",
         "x": [
          -3.6966151949203576,
          -3.572894771748725,
          null
         ],
         "y": [
          40.398119933450886,
          40.39356859265691,
          null
         ]
        },
        {
         "hoverinfo": "text",
         "line": {
          "color": "rgba(63.11764705882353, 98.47058823529413, 170.88235294117646, 1.0)",
          "width": 0.7407945980142352
         },
         "mode": "lines",
         "showlegend": false,
         "text": "Width: 0.74",
         "type": "scatter",
         "x": [
          -3.6966151949203576,
          -3.5986526886701378,
          null
         ],
         "y": [
          40.398119933450886,
          40.43466852782298,
          null
         ]
        },
        {
         "hoverinfo": "text",
         "line": {
          "color": "rgba(59.98039215686274, 88.58823529411765, 166.01960784313727, 1.0)",
          "width": 0.5734761633912672
         },
         "mode": "lines",
         "showlegend": false,
         "text": "Width: 0.57",
         "type": "scatter",
         "x": [
          -3.6966151949203576,
          -3.574543479322823,
          null
         ],
         "y": [
          40.398119933450886,
          40.4757410696608,
          null
         ]
        },
        {
         "hoverinfo": "text",
         "line": {
          "color": "rgba(236.15686274509804, 247.7058823529412, 225.64705882352936, 1.0)",
          "width": 4.380315752584545
         },
         "mode": "lines",
         "showlegend": false,
         "text": "Width: 4.38",
         "type": "scatter",
         "x": [
          -3.67643837848883,
          -3.705268804063821,
          null
         ],
         "y": [
          40.41138084576659,
          40.41733007020507,
          null
         ]
        },
        {
         "hoverinfo": "text",
         "line": {
          "color": "rgba(201.13725490196083, 231.7843137254902, 241.52941176470588, 1.0)",
          "width": 3.556401951073648
         },
         "mode": "lines",
         "showlegend": false,
         "text": "Width: 3.56",
         "type": "scatter",
         "x": [
          -3.67643837848883,
          -3.6966151949203576,
          null
         ],
         "y": [
          40.41138084576659,
          40.398119933450886,
          null
         ]
        },
        {
         "hoverinfo": "text",
         "line": {
          "color": "rgba(238.58823529411765, 248.6470588235294, 221.1764705882353, 1.0)",
          "width": 4.474606262587378
         },
         "mode": "lines",
         "showlegend": false,
         "text": "Width: 4.47",
         "type": "scatter",
         "x": [
          -3.67643837848883,
          -3.67643837848883,
          null
         ],
         "y": [
          40.41138084576659,
          40.41138084576659,
          null
         ]
        },
        {
         "hoverinfo": "text",
         "line": {
          "color": "rgba(245.8823529411765, 251.47058823529412, 207.76470588235293, 1.0)",
          "width": 4.720426609823982
         },
         "mode": "lines",
         "showlegend": false,
         "text": "Width: 4.72",
         "type": "scatter",
         "x": [
          -3.67643837848883,
          -3.6737887354917422,
          null
         ],
         "y": [
          40.41138084576659,
          40.43018370922185,
          null
         ]
        },
        {
         "hoverinfo": "text",
         "line": {
          "color": "rgba(90.19607843137256, 142.2549019607843, 193.07843137254903, 1.0)",
          "width": 1.4684727988446784
         },
         "mode": "lines",
         "showlegend": false,
         "text": "Width: 1.47",
         "type": "scatter",
         "x": [
          -3.67643837848883,
          -3.678150006537061,
          null
         ],
         "y": [
          40.41138084576659,
          40.45750039357669,
          null
         ]
        },
        {
         "hoverinfo": "text",
         "line": {
          "color": "rgba(68.6078431372549, 115.76470588235296, 179.3921568627451, 1.0)",
          "width": 0.9844323469913469
         },
         "mode": "lines",
         "showlegend": false,
         "text": "Width: 0.98",
         "type": "scatter",
         "x": [
          -3.67643837848883,
          -3.6999935507976827,
          null
         ],
         "y": [
          40.41138084576659,
          40.4606484776773,
          null
         ]
        },
        {
         "hoverinfo": "text",
         "line": {
          "color": "rgba(120.31372549019609, 176.45098039215688, 210.88235294117646, 1.0)",
          "width": 2.1085557319873325
         },
         "mode": "lines",
         "showlegend": false,
         "text": "Width: 2.11",
         "type": "scatter",
         "x": [
          -3.67643837848883,
          -3.703523951395161,
          null
         ],
         "y": [
          40.41138084576659,
          40.4375595509298,
          null
         ]
        },
        {
         "hoverinfo": "text",
         "line": {
          "color": "rgba(90.19607843137256, 142.2549019607843, 193.07843137254903, 1.0)",
          "width": 1.4475721316400203
         },
         "mode": "lines",
         "showlegend": false,
         "text": "Width: 1.45",
         "type": "scatter",
         "x": [
          -3.67643837848883,
          -3.753579560856663,
          null
         ],
         "y": [
          40.41138084576659,
          40.54479435831404,
          null
         ]
        },
        {
         "hoverinfo": "text",
         "line": {
          "color": "rgba(80.98039215686276, 131.2745098039216, 187.3921568627451, 1.0)",
          "width": 1.2578035737249997
         },
         "mode": "lines",
         "showlegend": false,
         "text": "Width: 1.26",
         "type": "scatter",
         "x": [
          -3.67643837848883,
          -3.757223268157654,
          null
         ],
         "y": [
          40.41138084576659,
          40.44543508494524,
          null
         ]
        },
        {
         "hoverinfo": "text",
         "line": {
          "color": "rgba(59.196078431372555, 86.11764705882355, 164.8039215686275, 1.0)",
          "width": 0.5331679414362287
         },
         "mode": "lines",
         "showlegend": false,
         "text": "Width: 0.53",
         "type": "scatter",
         "x": [
          -3.67643837848883,
          -3.778616540618283,
          null
         ],
         "y": [
          40.41138084576659,
          40.385273701511004,
          null
         ]
        },
        {
         "hoverinfo": "text",
         "line": {
          "color": "rgba(66.25490196078432, 108.35294117647061, 175.74509803921572, 1.0)",
          "width": 0.862828465073336
         },
         "mode": "lines",
         "showlegend": false,
         "text": "Width: 0.86",
         "type": "scatter",
         "x": [
          -3.67643837848883,
          -3.737112400757822,
          null
         ],
         "y": [
          40.41138084576659,
          40.378840354576816,
          null
         ]
        },
        {
         "hoverinfo": "text",
         "line": {
          "color": "rgba(65.47058823529412, 105.88235294117648, 174.52941176470588, 1.0)",
          "width": 0.8317149718482197
         },
         "mode": "lines",
         "showlegend": false,
         "text": "Width: 0.83",
         "type": "scatter",
         "x": [
          -3.67643837848883,
          -3.7029808755455926,
          null
         ],
         "y": [
          40.41138084576659,
          40.37595000318738,
          null
         ]
        },
        {
         "hoverinfo": "text",
         "line": {
          "color": "rgba(244.66666666666669, 251.0, 210.0, 1.0)",
          "width": 4.652499441408843
         },
         "mode": "lines",
         "showlegend": false,
         "text": "Width: 4.65",
         "type": "scatter",
         "x": [
          -3.67643837848883,
          -3.6598634715735407,
          null
         ],
         "y": [
          40.41138084576659,
          40.38355078734683,
          null
         ]
        },
        {
         "hoverinfo": "text",
         "line": {
          "color": "rgba(203.21568627450984, 232.80392156862746, 242.11764705882354, 1.0)",
          "width": 3.6043784826116134
         },
         "mode": "lines",
         "showlegend": false,
         "text": "Width: 3.60",
         "type": "scatter",
         "x": [
          -3.67643837848883,
          -3.6413909394895803,
          null
         ],
         "y": [
          40.41138084576659,
          40.40661270611631,
          null
         ]
        },
        {
         "hoverinfo": "text",
         "line": {
          "color": "rgba(110.47058823529414, 166.41176470588238, 205.58823529411765, 1.0)",
          "width": 1.9126119769436634
         },
         "mode": "lines",
         "showlegend": false,
         "text": "Width: 1.91",
         "type": "scatter",
         "x": [
          -3.67643837848883,
          -3.649948514601449,
          null
         ],
         "y": [
          40.41138084576659,
          40.43926990707227,
          null
         ]
        },
        {
         "hoverinfo": "text",
         "line": {
          "color": "rgba(67.03921568627452, 110.82352941176472, 176.9607843137255, 1.0)",
          "width": 0.9264804970147945
         },
         "mode": "lines",
         "showlegend": false,
         "text": "Width: 0.93",
         "type": "scatter",
         "x": [
          -3.67643837848883,
          -3.637741035389707,
          null
         ],
         "y": [
          40.41138084576659,
          40.48201214532898,
          null
         ]
        },
        {
         "hoverinfo": "text",
         "line": {
          "color": "rgba(56.84313725490196, 78.70588235294117, 161.15686274509807, 1.0)",
          "width": 0.5
         },
         "mode": "lines",
         "showlegend": false,
         "text": "Width: 0.50",
         "type": "scatter",
         "x": [
          -3.67643837848883,
          -3.695056256825152,
          null
         ],
         "y": [
          40.41138084576659,
          40.34253624126977,
          null
         ]
        },
        {
         "hoverinfo": "text",
         "line": {
          "color": "rgba(63.90196078431372, 100.94117647058825, 172.0980392156863, 1.0)",
          "width": 0.7770882280178633
         },
         "mode": "lines",
         "showlegend": false,
         "text": "Width: 0.78",
         "type": "scatter",
         "x": [
          -3.67643837848883,
          -3.6160073912284756,
          null
         ],
         "y": [
          40.41138084576659,
          40.34992967757026,
          null
         ]
        },
        {
         "hoverinfo": "text",
         "line": {
          "color": "rgba(59.98039215686274, 88.58823529411765, 166.01960784313727, 1.0)",
          "width": 0.5557311617139845
         },
         "mode": "lines",
         "showlegend": false,
         "text": "Width: 0.56",
         "type": "scatter",
         "x": [
          -3.67643837848883,
          -3.572894771748725,
          null
         ],
         "y": [
          40.41138084576659,
          40.39356859265691,
          null
         ]
        },
        {
         "hoverinfo": "text",
         "line": {
          "color": "rgba(63.90196078431372, 100.94117647058825, 172.0980392156863, 1.0)",
          "width": 0.769487985397988
         },
         "mode": "lines",
         "showlegend": false,
         "text": "Width: 0.77",
         "type": "scatter",
         "x": [
          -3.67643837848883,
          -3.5986526886701378,
          null
         ],
         "y": [
          40.41138084576659,
          40.43466852782298,
          null
         ]
        },
        {
         "hoverinfo": "text",
         "line": {
          "color": "rgba(62.333333333333336, 96.0, 169.66666666666669, 1.0)",
          "width": 0.6732974147401863
         },
         "mode": "lines",
         "showlegend": false,
         "text": "Width: 0.67",
         "type": "scatter",
         "x": [
          -3.67643837848883,
          -3.574543479322823,
          null
         ],
         "y": [
          40.41138084576659,
          40.4757410696608,
          null
         ]
        },
        {
         "hoverinfo": "text",
         "line": {
          "color": "rgba(184.50980392156865, 223.62745098039218, 236.82352941176472, 1.0)",
          "width": 3.2687724206352833
         },
         "mode": "lines",
         "showlegend": false,
         "text": "Width: 3.27",
         "type": "scatter",
         "x": [
          -3.6737887354917422,
          -3.705268804063821,
          null
         ],
         "y": [
          40.43018370922185,
          40.41733007020507,
          null
         ]
        },
        {
         "hoverinfo": "text",
         "line": {
          "color": "rgba(67.03921568627452, 110.82352941176472, 176.9607843137255, 1.0)",
          "width": 0.9290912743415275
         },
         "mode": "lines",
         "showlegend": false,
         "text": "Width: 0.93",
         "type": "scatter",
         "x": [
          -3.6737887354917422,
          -3.6966151949203576,
          null
         ],
         "y": [
          40.43018370922185,
          40.398119933450886,
          null
         ]
        },
        {
         "hoverinfo": "text",
         "line": {
          "color": "rgba(211.52941176470594, 236.8823529411765, 244.47058823529412, 1.0)",
          "width": 3.7850794782233126
         },
         "mode": "lines",
         "showlegend": false,
         "text": "Width: 3.79",
         "type": "scatter",
         "x": [
          -3.6737887354917422,
          -3.67643837848883,
          null
         ],
         "y": [
          40.43018370922185,
          40.41138084576659,
          null
         ]
        },
        {
         "hoverinfo": "text",
         "line": {
          "color": "rgba(244.66666666666669, 251.0, 210.0, 1.0)",
          "width": 4.686819102478728
         },
         "mode": "lines",
         "showlegend": false,
         "text": "Width: 4.69",
         "type": "scatter",
         "x": [
          -3.6737887354917422,
          -3.6737887354917422,
          null
         ],
         "y": [
          40.43018370922185,
          40.43018370922185,
          null
         ]
        },
        {
         "hoverinfo": "text",
         "line": {
          "color": "rgba(248.31372549019608, 252.41176470588232, 203.29411764705884, 1.0)",
          "width": 4.785574212843755
         },
         "mode": "lines",
         "showlegend": false,
         "text": "Width: 4.79",
         "type": "scatter",
         "x": [
          -3.6737887354917422,
          -3.678150006537061,
          null
         ],
         "y": [
          40.43018370922185,
          40.45750039357669,
          null
         ]
        },
        {
         "hoverinfo": "text",
         "line": {
          "color": "rgba(92.03921568627452, 144.4509803921569, 194.2156862745098, 1.0)",
          "width": 1.5182661803542363
         },
         "mode": "lines",
         "showlegend": false,
         "text": "Width: 1.52",
         "type": "scatter",
         "x": [
          -3.6737887354917422,
          -3.6999935507976827,
          null
         ],
         "y": [
          40.43018370922185,
          40.4606484776773,
          null
         ]
        },
        {
         "hoverinfo": "text",
         "line": {
          "color": "rgba(234.94117647058826, 247.23529411764704, 227.8823529411764, 1.0)",
          "width": 4.3505243941240375
         },
         "mode": "lines",
         "showlegend": false,
         "text": "Width: 4.35",
         "type": "scatter",
         "x": [
          -3.6737887354917422,
          -3.703523951395161,
          null
         ],
         "y": [
          40.43018370922185,
          40.4375595509298,
          null
         ]
        },
        {
         "hoverinfo": "text",
         "line": {
          "color": "rgba(104.94117647058823, 159.82352941176472, 202.17647058823528, 1.0)",
          "width": 1.7713860748820724
         },
         "mode": "lines",
         "showlegend": false,
         "text": "Width: 1.77",
         "type": "scatter",
         "x": [
          -3.6737887354917422,
          -3.753579560856663,
          null
         ],
         "y": [
          40.43018370922185,
          40.54479435831404,
          null
         ]
        },
        {
         "hoverinfo": "text",
         "line": {
          "color": "rgba(92.03921568627452, 144.4509803921569, 194.2156862745098, 1.0)",
          "width": 1.5146707273069662
         },
         "mode": "lines",
         "showlegend": false,
         "text": "Width: 1.51",
         "type": "scatter",
         "x": [
          -3.6737887354917422,
          -3.757223268157654,
          null
         ],
         "y": [
          40.43018370922185,
          40.44543508494524,
          null
         ]
        },
        {
         "hoverinfo": "text",
         "line": {
          "color": "rgba(56.84313725490196, 78.70588235294117, 161.15686274509807, 1.0)",
          "width": 0.5
         },
         "mode": "lines",
         "showlegend": false,
         "text": "Width: 0.50",
         "type": "scatter",
         "x": [
          -3.6737887354917422,
          -3.778616540618283,
          null
         ],
         "y": [
          40.43018370922185,
          40.385273701511004,
          null
         ]
        },
        {
         "hoverinfo": "text",
         "line": {
          "color": "rgba(60.76470588235294, 91.05882352941177, 167.23529411764707, 1.0)",
          "width": 0.5983095939926513
         },
         "mode": "lines",
         "showlegend": false,
         "text": "Width: 0.60",
         "type": "scatter",
         "x": [
          -3.6737887354917422,
          -3.737112400757822,
          null
         ],
         "y": [
          40.43018370922185,
          40.378840354576816,
          null
         ]
        },
        {
         "hoverinfo": "text",
         "line": {
          "color": "rgba(56.05882352941177, 76.23529411764707, 159.94117647058823, 1.0)",
          "width": 0.5
         },
         "mode": "lines",
         "showlegend": false,
         "text": "Width: 0.50",
         "type": "scatter",
         "x": [
          -3.6737887354917422,
          -3.7029808755455926,
          null
         ],
         "y": [
          40.43018370922185,
          40.37595000318738,
          null
         ]
        },
        {
         "hoverinfo": "text",
         "line": {
          "color": "rgba(66.25490196078432, 108.35294117647061, 175.74509803921572, 1.0)",
          "width": 0.8845076565553748
         },
         "mode": "lines",
         "showlegend": false,
         "text": "Width: 0.88",
         "type": "scatter",
         "x": [
          -3.6737887354917422,
          -3.6598634715735407,
          null
         ],
         "y": [
          40.43018370922185,
          40.38355078734683,
          null
         ]
        },
        {
         "hoverinfo": "text",
         "line": {
          "color": "rgba(144.03921568627453, 195.4313725490196, 221.23529411764707, 1.0)",
          "width": 2.5098921307914117
         },
         "mode": "lines",
         "showlegend": false,
         "text": "Width: 2.51",
         "type": "scatter",
         "x": [
          -3.6737887354917422,
          -3.6413909394895803,
          null
         ],
         "y": [
          40.43018370922185,
          40.40661270611631,
          null
         ]
        },
        {
         "hoverinfo": "text",
         "line": {
          "color": "rgba(248.31372549019608, 252.41176470588232, 203.29411764705884, 1.0)",
          "width": 4.794682693896839
         },
         "mode": "lines",
         "showlegend": false,
         "text": "Width: 4.79",
         "type": "scatter",
         "x": [
          -3.6737887354917422,
          -3.649948514601449,
          null
         ],
         "y": [
          40.43018370922185,
          40.43926990707227,
          null
         ]
        },
        {
         "hoverinfo": "text",
         "line": {
          "color": "rgba(82.82352941176471, 133.47058823529412, 188.5294117647059, 1.0)",
          "width": 1.3217147471034547
         },
         "mode": "lines",
         "showlegend": false,
         "text": "Width: 1.32",
         "type": "scatter",
         "x": [
          -3.6737887354917422,
          -3.637741035389707,
          null
         ],
         "y": [
          40.43018370922185,
          40.48201214532898,
          null
         ]
        },
        {
         "hoverinfo": "text",
         "line": {
          "color": "rgba(53.705882352941174, 68.82352941176471, 156.2941176470588, 1.0)",
          "width": 0.5
         },
         "mode": "lines",
         "showlegend": false,
         "text": "Width: 0.50",
         "type": "scatter",
         "x": [
          -3.6737887354917422,
          -3.695056256825152,
          null
         ],
         "y": [
          40.43018370922185,
          40.34253624126977,
          null
         ]
        },
        {
         "hoverinfo": "text",
         "line": {
          "color": "rgba(57.62745098039216, 81.17647058823529, 162.37254901960785, 1.0)",
          "width": 0.5
         },
         "mode": "lines",
         "showlegend": false,
         "text": "Width: 0.50",
         "type": "scatter",
         "x": [
          -3.6737887354917422,
          -3.6160073912284756,
          null
         ],
         "y": [
          40.43018370922185,
          40.34992967757026,
          null
         ]
        },
        {
         "hoverinfo": "text",
         "line": {
          "color": "rgba(58.411764705882355, 83.64705882352942, 163.58823529411765, 1.0)",
          "width": 0.5
         },
         "mode": "lines",
         "showlegend": false,
         "text": "Width: 0.50",
         "type": "scatter",
         "x": [
          -3.6737887354917422,
          -3.572894771748725,
          null
         ],
         "y": [
          40.43018370922185,
          40.39356859265691,
          null
         ]
        },
        {
         "hoverinfo": "text",
         "line": {
          "color": "rgba(82.82352941176471, 133.47058823529412, 188.5294117647059, 1.0)",
          "width": 1.314763537878732
         },
         "mode": "lines",
         "showlegend": false,
         "text": "Width: 1.31",
         "type": "scatter",
         "x": [
          -3.6737887354917422,
          -3.5986526886701378,
          null
         ],
         "y": [
          40.43018370922185,
          40.43466852782298,
          null
         ]
        },
        {
         "hoverinfo": "text",
         "line": {
          "color": "rgba(67.03921568627452, 110.82352941176472, 176.9607843137255, 1.0)",
          "width": 0.9065597685786332
         },
         "mode": "lines",
         "showlegend": false,
         "text": "Width: 0.91",
         "type": "scatter",
         "x": [
          -3.6737887354917422,
          -3.574543479322823,
          null
         ],
         "y": [
          40.43018370922185,
          40.4757410696608,
          null
         ]
        },
        {
         "hoverinfo": "text",
         "line": {
          "color": "rgba(108.62745098039218, 164.21568627450984, 204.45098039215688, 1.0)",
          "width": 1.8552048178621405
         },
         "mode": "lines",
         "showlegend": false,
         "text": "Width: 1.86",
         "type": "scatter",
         "x": [
          -3.678150006537061,
          -3.705268804063821,
          null
         ],
         "y": [
          40.45750039357669,
          40.41733007020507,
          null
         ]
        },
        {
         "hoverinfo": "text",
         "line": {
          "color": "rgba(61.54901960784314, 93.5294117647059, 168.45098039215688, 1.0)",
          "width": 0.6547008910671215
         },
         "mode": "lines",
         "showlegend": false,
         "text": "Width: 0.65",
         "type": "scatter",
         "x": [
          -3.678150006537061,
          -3.6966151949203576,
          null
         ],
         "y": [
          40.45750039357669,
          40.398119933450886,
          null
         ]
        },
        {
         "hoverinfo": "text",
         "line": {
          "color": "rgba(77.29411764705883, 126.88235294117649, 185.11764705882354, 1.0)",
          "width": 1.1956904416560792
         },
         "mode": "lines",
         "showlegend": false,
         "text": "Width: 1.20",
         "type": "scatter",
         "x": [
          -3.678150006537061,
          -3.67643837848883,
          null
         ],
         "y": [
          40.45750039357669,
          40.41138084576659,
          null
         ]
        },
        {
         "hoverinfo": "text",
         "line": {
          "color": "rgba(249.52941176470588, 252.88235294117646, 201.05882352941174, 1.0)",
          "width": 4.84367334178804
         },
         "mode": "lines",
         "showlegend": false,
         "text": "Width: 4.84",
         "type": "scatter",
         "x": [
          -3.678150006537061,
          -3.6737887354917422,
          null
         ],
         "y": [
          40.45750039357669,
          40.43018370922185,
          null
         ]
        },
        {
         "hoverinfo": "text",
         "line": {
          "color": "rgba(254.39215686274508, 236.15686274509804, 162.4313725490196, 1.0)",
          "width": 5.6113856281118935
         },
         "mode": "lines",
         "showlegend": false,
         "text": "Width: 5.61",
         "type": "scatter",
         "x": [
          -3.678150006537061,
          -3.678150006537061,
          null
         ],
         "y": [
          40.45750039357669,
          40.45750039357669,
          null
         ]
        },
        {
         "hoverinfo": "text",
         "line": {
          "color": "rgba(226.43137254901964, 243.94117647058823, 243.52941176470583, 1.0)",
          "width": 4.084410349963625
         },
         "mode": "lines",
         "showlegend": false,
         "text": "Width: 4.08",
         "type": "scatter",
         "x": [
          -3.678150006537061,
          -3.6999935507976827,
          null
         ],
         "y": [
          40.45750039357669,
          40.4606484776773,
          null
         ]
        },
        {
         "hoverinfo": "text",
         "line": {
          "color": "rgba(224.00000000000003, 243.0, 247.99999999999994, 1.0)",
          "width": 4.004376754843957
         },
         "mode": "lines",
         "showlegend": false,
         "text": "Width: 4.00",
         "type": "scatter",
         "x": [
          -3.678150006537061,
          -3.703523951395161,
          null
         ],
         "y": [
          40.45750039357669,
          40.4375595509298,
          null
         ]
        },
        {
         "hoverinfo": "text",
         "line": {
          "color": "rgba(237.37254901960787, 248.1764705882353, 223.41176470588232, 1.0)",
          "width": 4.426841479815811
         },
         "mode": "lines",
         "showlegend": false,
         "text": "Width: 4.43",
         "type": "scatter",
         "x": [
          -3.678150006537061,
          -3.753579560856663,
          null
         ],
         "y": [
          40.45750039357669,
          40.54479435831404,
          null
         ]
        },
        {
         "hoverinfo": "text",
         "line": {
          "color": "rgba(90.19607843137256, 142.2549019607843, 193.07843137254903, 1.0)",
          "width": 1.4592614895135192
         },
         "mode": "lines",
         "showlegend": false,
         "text": "Width: 1.46",
         "type": "scatter",
         "x": [
          -3.678150006537061,
          -3.757223268157654,
          null
         ],
         "y": [
          40.45750039357669,
          40.44543508494524,
          null
         ]
        },
        {
         "hoverinfo": "text",
         "line": {
          "color": "rgba(56.05882352941177, 76.23529411764707, 159.94117647058823, 1.0)",
          "width": 0.5
         },
         "mode": "lines",
         "showlegend": false,
         "text": "Width: 0.50",
         "type": "scatter",
         "x": [
          -3.678150006537061,
          -3.778616540618283,
          null
         ],
         "y": [
          40.45750039357669,
          40.385273701511004,
          null
         ]
        },
        {
         "hoverinfo": "text",
         "line": {
          "color": "rgba(60.76470588235294, 91.05882352941177, 167.23529411764707, 1.0)",
          "width": 0.6065868529453269
         },
         "mode": "lines",
         "showlegend": false,
         "text": "Width: 0.61",
         "type": "scatter",
         "x": [
          -3.678150006537061,
          -3.737112400757822,
          null
         ],
         "y": [
          40.45750039357669,
          40.378840354576816,
          null
         ]
        },
        {
         "hoverinfo": "text",
         "line": {
          "color": "rgba(53.705882352941174, 68.82352941176471, 156.2941176470588, 1.0)",
          "width": 0.5
         },
         "mode": "lines",
         "showlegend": false,
         "text": "Width: 0.50",
         "type": "scatter",
         "x": [
          -3.678150006537061,
          -3.7029808755455926,
          null
         ],
         "y": [
          40.45750039357669,
          40.37595000318738,
          null
         ]
        },
        {
         "hoverinfo": "text",
         "line": {
          "color": "rgba(57.62745098039216, 81.17647058823529, 162.37254901960785, 1.0)",
          "width": 0.5
         },
         "mode": "lines",
         "showlegend": false,
         "text": "Width: 0.50",
         "type": "scatter",
         "x": [
          -3.678150006537061,
          -3.6598634715735407,
          null
         ],
         "y": [
          40.45750039357669,
          40.38355078734683,
          null
         ]
        },
        {
         "hoverinfo": "text",
         "line": {
          "color": "rgba(53.705882352941174, 68.82352941176471, 156.2941176470588, 1.0)",
          "width": 0.5
         },
         "mode": "lines",
         "showlegend": false,
         "text": "Width: 0.50",
         "type": "scatter",
         "x": [
          -3.678150006537061,
          -3.6413909394895803,
          null
         ],
         "y": [
          40.45750039357669,
          40.40661270611631,
          null
         ]
        },
        {
         "hoverinfo": "text",
         "line": {
          "color": "rgba(236.15686274509804, 247.7058823529412, 225.64705882352936, 1.0)",
          "width": 4.388350249318376
         },
         "mode": "lines",
         "showlegend": false,
         "text": "Width: 4.39",
         "type": "scatter",
         "x": [
          -3.678150006537061,
          -3.649948514601449,
          null
         ],
         "y": [
          40.45750039357669,
          40.43926990707227,
          null
         ]
        },
        {
         "hoverinfo": "text",
         "line": {
          "color": "rgba(215.68627450980395, 238.921568627451, 245.64705882352942, 1.0)",
          "width": 3.8447789698545902
         },
         "mode": "lines",
         "showlegend": false,
         "text": "Width: 3.84",
         "type": "scatter",
         "x": [
          -3.678150006537061,
          -3.637741035389707,
          null
         ],
         "y": [
          40.45750039357669,
          40.48201214532898,
          null
         ]
        },
        {
         "hoverinfo": "text",
         "line": {
          "color": "rgba(51.35294117647059, 61.411764705882355, 152.64705882352942, 1.0)",
          "width": 0.5
         },
         "mode": "lines",
         "showlegend": false,
         "text": "Width: 0.50",
         "type": "scatter",
         "x": [
          -3.678150006537061,
          -3.695056256825152,
          null
         ],
         "y": [
          40.45750039357669,
          40.34253624126977,
          null
         ]
        },
        {
         "hoverinfo": "text",
         "line": {
          "color": "rgba(53.705882352941174, 68.82352941176471, 156.2941176470588, 1.0)",
          "width": 0.5
         },
         "mode": "lines",
         "showlegend": false,
         "text": "Width: 0.50",
         "type": "scatter",
         "x": [
          -3.678150006537061,
          -3.6160073912284756,
          null
         ],
         "y": [
          40.45750039357669,
          40.34992967757026,
          null
         ]
        },
        {
         "hoverinfo": "text",
         "line": {
          "color": "rgba(52.92156862745099, 66.35294117647058, 155.07843137254903, 1.0)",
          "width": 0.5
         },
         "mode": "lines",
         "showlegend": false,
         "text": "Width: 0.50",
         "type": "scatter",
         "x": [
          -3.678150006537061,
          -3.572894771748725,
          null
         ],
         "y": [
          40.45750039357669,
          40.39356859265691,
          null
         ]
        },
        {
         "hoverinfo": "text",
         "line": {
          "color": "rgba(68.6078431372549, 115.76470588235296, 179.3921568627451, 1.0)",
          "width": 0.9950196972944486
         },
         "mode": "lines",
         "showlegend": false,
         "text": "Width: 1.00",
         "type": "scatter",
         "x": [
          -3.678150006537061,
          -3.5986526886701378,
          null
         ],
         "y": [
          40.45750039357669,
          40.43466852782298,
          null
         ]
        },
        {
         "hoverinfo": "text",
         "line": {
          "color": "rgba(68.6078431372549, 115.76470588235296, 179.3921568627451, 1.0)",
          "width": 0.9875092132949487
         },
         "mode": "lines",
         "showlegend": false,
         "text": "Width: 0.99",
         "type": "scatter",
         "x": [
          -3.678150006537061,
          -3.574543479322823,
          null
         ],
         "y": [
          40.45750039357669,
          40.4757410696608,
          null
         ]
        },
        {
         "hoverinfo": "text",
         "line": {
          "color": "rgba(128.94117647058823, 183.3529411764706, 214.64705882352942, 1.0)",
          "width": 2.249891831328005
         },
         "mode": "lines",
         "showlegend": false,
         "text": "Width: 2.25",
         "type": "scatter",
         "x": [
          -3.6999935507976827,
          -3.705268804063821,
          null
         ],
         "y": [
          40.4606484776773,
          40.41733007020507,
          null
         ]
        },
        {
         "hoverinfo": "text",
         "line": {
          "color": "rgba(67.03921568627452, 110.82352941176472, 176.9607843137255, 1.0)",
          "width": 0.9116914166268861
         },
         "mode": "lines",
         "showlegend": false,
         "text": "Width: 0.91",
         "type": "scatter",
         "x": [
          -3.6999935507976827,
          -3.6966151949203576,
          null
         ],
         "y": [
          40.4606484776773,
          40.398119933450886,
          null
         ]
        },
        {
         "hoverinfo": "text",
         "line": {
          "color": "rgba(77.29411764705883, 126.88235294117649, 185.11764705882354, 1.0)",
          "width": 1.1773818936774894
         },
         "mode": "lines",
         "showlegend": false,
         "text": "Width: 1.18",
         "type": "scatter",
         "x": [
          -3.6999935507976827,
          -3.67643837848883,
          null
         ],
         "y": [
          40.4606484776773,
          40.41138084576659,
          null
         ]
        },
        {
         "hoverinfo": "text",
         "line": {
          "color": "rgba(120.31372549019609, 176.45098039215688, 210.88235294117646, 1.0)",
          "width": 2.090069488050978
         },
         "mode": "lines",
         "showlegend": false,
         "text": "Width: 2.09",
         "type": "scatter",
         "x": [
          -3.6999935507976827,
          -3.6737887354917422,
          null
         ],
         "y": [
          40.4606484776773,
          40.43018370922185,
          null
         ]
        },
        {
         "hoverinfo": "text",
         "line": {
          "color": "rgba(254.39215686274508, 254.76470588235296, 192.1176470588235, 1.0)",
          "width": 4.971178935863365
         },
         "mode": "lines",
         "showlegend": false,
         "text": "Width: 4.97",
         "type": "scatter",
         "x": [
          -3.6999935507976827,
          -3.678150006537061,
          null
         ],
         "y": [
          40.4606484776773,
          40.45750039357669,
          null
         ]
        },
        {
         "hoverinfo": "text",
         "line": {
          "color": "rgba(254.39215686274508, 254.76470588235296, 192.1176470588235, 1.0)",
          "width": 4.9825138538262745
         },
         "mode": "lines",
         "showlegend": false,
         "text": "Width: 4.98",
         "type": "scatter",
         "x": [
          -3.6999935507976827,
          -3.6999935507976827,
          null
         ],
         "y": [
          40.4606484776773,
          40.4606484776773,
          null
         ]
        },
        {
         "hoverinfo": "text",
         "line": {
          "color": "rgba(254.90196078431373, 251.9607843137255, 186.3921568627451, 1.0)",
          "width": 5.113772203836768
         },
         "mode": "lines",
         "showlegend": false,
         "text": "Width: 5.11",
         "type": "scatter",
         "x": [
          -3.6999935507976827,
          -3.703523951395161,
          null
         ],
         "y": [
          40.4606484776773,
          40.4375595509298,
          null
         ]
        },
        {
         "hoverinfo": "text",
         "line": {
          "color": "rgba(253.76470588235296, 212.23529411764707, 132.94117647058823, 1.0)",
          "width": 6.215752928190848
         },
         "mode": "lines",
         "showlegend": false,
         "text": "Width: 6.22",
         "type": "scatter",
         "x": [
          -3.6999935507976827,
          -3.753579560856663,
          null
         ],
         "y": [
          40.4606484776773,
          40.54479435831404,
          null
         ]
        },
        {
         "hoverinfo": "text",
         "line": {
          "color": "rgba(243.45098039215688, 250.52941176470588, 212.23529411764704, 1.0)",
          "width": 4.642012918220466
         },
         "mode": "lines",
         "showlegend": false,
         "text": "Width: 4.64",
         "type": "scatter",
         "x": [
          -3.6999935507976827,
          -3.757223268157654,
          null
         ],
         "y": [
          40.4606484776773,
          40.44543508494524,
          null
         ]
        },
        {
         "hoverinfo": "text",
         "line": {
          "color": "rgba(61.54901960784314, 93.5294117647059, 168.45098039215688, 1.0)",
          "width": 0.6362529101281806
         },
         "mode": "lines",
         "showlegend": false,
         "text": "Width: 0.64",
         "type": "scatter",
         "x": [
          -3.6999935507976827,
          -3.778616540618283,
          null
         ],
         "y": [
          40.4606484776773,
          40.385273701511004,
          null
         ]
        },
        {
         "hoverinfo": "text",
         "line": {
          "color": "rgba(62.333333333333336, 96.0, 169.66666666666669, 1.0)",
          "width": 0.6927008015834708
         },
         "mode": "lines",
         "showlegend": false,
         "text": "Width: 0.69",
         "type": "scatter",
         "x": [
          -3.6999935507976827,
          -3.737112400757822,
          null
         ],
         "y": [
          40.4606484776773,
          40.378840354576816,
          null
         ]
        },
        {
         "hoverinfo": "text",
         "line": {
          "color": "rgba(57.62745098039216, 81.17647058823529, 162.37254901960785, 1.0)",
          "width": 0.5
         },
         "mode": "lines",
         "showlegend": false,
         "text": "Width: 0.50",
         "type": "scatter",
         "x": [
          -3.6999935507976827,
          -3.7029808755455926,
          null
         ],
         "y": [
          40.4606484776773,
          40.37595000318738,
          null
         ]
        },
        {
         "hoverinfo": "text",
         "line": {
          "color": "rgba(63.11764705882353, 98.47058823529413, 170.88235294117646, 1.0)",
          "width": 0.7149172407907739
         },
         "mode": "lines",
         "showlegend": false,
         "text": "Width: 0.71",
         "type": "scatter",
         "x": [
          -3.6999935507976827,
          -3.6598634715735407,
          null
         ],
         "y": [
          40.4606484776773,
          40.38355078734683,
          null
         ]
        },
        {
         "hoverinfo": "text",
         "line": {
          "color": "rgba(52.92156862745099, 66.35294117647058, 155.07843137254903, 1.0)",
          "width": 0.5
         },
         "mode": "lines",
         "showlegend": false,
         "text": "Width: 0.50",
         "type": "scatter",
         "x": [
          -3.6999935507976827,
          -3.6413909394895803,
          null
         ],
         "y": [
          40.4606484776773,
          40.40661270611631,
          null
         ]
        },
        {
         "hoverinfo": "text",
         "line": {
          "color": "rgba(82.82352941176471, 133.47058823529412, 188.5294117647059, 1.0)",
          "width": 1.314987797747213
         },
         "mode": "lines",
         "showlegend": false,
         "text": "Width: 1.31",
         "type": "scatter",
         "x": [
          -3.6999935507976827,
          -3.649948514601449,
          null
         ],
         "y": [
          40.4606484776773,
          40.43926990707227,
          null
         ]
        },
        {
         "hoverinfo": "text",
         "line": {
          "color": "rgba(90.19607843137256, 142.2549019607843, 193.07843137254903, 1.0)",
          "width": 1.4605281443909734
         },
         "mode": "lines",
         "showlegend": false,
         "text": "Width: 1.46",
         "type": "scatter",
         "x": [
          -3.6999935507976827,
          -3.637741035389707,
          null
         ],
         "y": [
          40.4606484776773,
          40.48201214532898,
          null
         ]
        },
        {
         "hoverinfo": "text",
         "line": {
          "color": "rgba(53.705882352941174, 68.82352941176471, 156.2941176470588, 1.0)",
          "width": 0.5
         },
         "mode": "lines",
         "showlegend": false,
         "text": "Width: 0.50",
         "type": "scatter",
         "x": [
          -3.6999935507976827,
          -3.695056256825152,
          null
         ],
         "y": [
          40.4606484776773,
          40.34253624126977,
          null
         ]
        },
        {
         "hoverinfo": "text",
         "line": {
          "color": "rgba(56.05882352941177, 76.23529411764707, 159.94117647058823, 1.0)",
          "width": 0.5
         },
         "mode": "lines",
         "showlegend": false,
         "text": "Width: 0.50",
         "type": "scatter",
         "x": [
          -3.6999935507976827,
          -3.6160073912284756,
          null
         ],
         "y": [
          40.4606484776773,
          40.34992967757026,
          null
         ]
        },
        {
         "hoverinfo": "text",
         "line": {
          "color": "rgba(54.490196078431374, 71.29411764705883, 157.50980392156865, 1.0)",
          "width": 0.5
         },
         "mode": "lines",
         "showlegend": false,
         "text": "Width: 0.50",
         "type": "scatter",
         "x": [
          -3.6999935507976827,
          -3.572894771748725,
          null
         ],
         "y": [
          40.4606484776773,
          40.39356859265691,
          null
         ]
        },
        {
         "hoverinfo": "text",
         "line": {
          "color": "rgba(68.6078431372549, 115.76470588235296, 179.3921568627451, 1.0)",
          "width": 1.007358124233844
         },
         "mode": "lines",
         "showlegend": false,
         "text": "Width: 1.01",
         "type": "scatter",
         "x": [
          -3.6999935507976827,
          -3.5986526886701378,
          null
         ],
         "y": [
          40.4606484776773,
          40.43466852782298,
          null
         ]
        },
        {
         "hoverinfo": "text",
         "line": {
          "color": "rgba(75.45098039215688, 124.68627450980394, 183.98039215686276, 1.0)",
          "width": 1.156979041344252
         },
         "mode": "lines",
         "showlegend": false,
         "text": "Width: 1.16",
         "type": "scatter",
         "x": [
          -3.6999935507976827,
          -3.574543479322823,
          null
         ],
         "y": [
          40.4606484776773,
          40.4757410696608,
          null
         ]
        },
        {
         "hoverinfo": "text",
         "line": {
          "color": "rgba(254.19607843137257, 230.07843137254906, 153.21568627450984, 1.0)",
          "width": 5.798671391897404
         },
         "mode": "lines",
         "showlegend": false,
         "text": "Width: 5.80",
         "type": "scatter",
         "x": [
          -3.703523951395161,
          -3.705268804063821,
          null
         ],
         "y": [
          40.4375595509298,
          40.41733007020507,
          null
         ]
        },
        {
         "hoverinfo": "text",
         "line": {
          "color": "rgba(77.29411764705883, 126.88235294117649, 185.11764705882354, 1.0)",
          "width": 1.1833127171476643
         },
         "mode": "lines",
         "showlegend": false,
         "text": "Width: 1.18",
         "type": "scatter",
         "x": [
          -3.703523951395161,
          -3.6966151949203576,
          null
         ],
         "y": [
          40.4375595509298,
          40.398119933450886,
          null
         ]
        },
        {
         "hoverinfo": "text",
         "line": {
          "color": "rgba(99.41176470588236, 153.2352941176471, 198.76470588235296, 1.0)",
          "width": 1.657858320484349
         },
         "mode": "lines",
         "showlegend": false,
         "text": "Width: 1.66",
         "type": "scatter",
         "x": [
          -3.703523951395161,
          -3.67643837848883,
          null
         ],
         "y": [
          40.4375595509298,
          40.41138084576659,
          null
         ]
        },
        {
         "hoverinfo": "text",
         "line": {
          "color": "rgba(241.01960784313727, 249.58823529411765, 216.70588235294116, 1.0)",
          "width": 4.532142630198295
         },
         "mode": "lines",
         "showlegend": false,
         "text": "Width: 4.53",
         "type": "scatter",
         "x": [
          -3.703523951395161,
          -3.6737887354917422,
          null
         ],
         "y": [
          40.4375595509298,
          40.43018370922185,
          null
         ]
        },
        {
         "hoverinfo": "text",
         "line": {
          "color": "rgba(226.43137254901964, 243.94117647058823, 243.52941176470583, 1.0)",
          "width": 4.084112107570239
         },
         "mode": "lines",
         "showlegend": false,
         "text": "Width: 4.08",
         "type": "scatter",
         "x": [
          -3.703523951395161,
          -3.678150006537061,
          null
         ],
         "y": [
          40.4375595509298,
          40.45750039357669,
          null
         ]
        },
        {
         "hoverinfo": "text",
         "line": {
          "color": "rgba(242.23529411764707, 250.05882352941177, 214.4705882352941, 1.0)",
          "width": 4.601775692620022
         },
         "mode": "lines",
         "showlegend": false,
         "text": "Width: 4.60",
         "type": "scatter",
         "x": [
          -3.703523951395161,
          -3.6999935507976827,
          null
         ],
         "y": [
          40.4375595509298,
          40.4606484776773,
          null
         ]
        },
        {
         "hoverinfo": "text",
         "line": {
          "color": "rgba(254.39215686274508, 254.76470588235296, 192.1176470588235, 1.0)",
          "width": 4.961835620373653
         },
         "mode": "lines",
         "showlegend": false,
         "text": "Width: 4.96",
         "type": "scatter",
         "x": [
          -3.703523951395161,
          -3.703523951395161,
          null
         ],
         "y": [
          40.4375595509298,
          40.4375595509298,
          null
         ]
        },
        {
         "hoverinfo": "text",
         "line": {
          "color": "rgba(124.62745098039218, 179.90196078431376, 212.76470588235296, 1.0)",
          "width": 2.1861774987161042
         },
         "mode": "lines",
         "showlegend": false,
         "text": "Width: 2.19",
         "type": "scatter",
         "x": [
          -3.703523951395161,
          -3.753579560856663,
          null
         ],
         "y": [
          40.4375595509298,
          40.54479435831404,
          null
         ]
        },
        {
         "hoverinfo": "text",
         "line": {
          "color": "rgba(245.8823529411765, 251.47058823529412, 207.76470588235293, 1.0)",
          "width": 4.702136512124647
         },
         "mode": "lines",
         "showlegend": false,
         "text": "Width: 4.70",
         "type": "scatter",
         "x": [
          -3.703523951395161,
          -3.757223268157654,
          null
         ],
         "y": [
          40.4375595509298,
          40.44543508494524,
          null
         ]
        },
        {
         "hoverinfo": "text",
         "line": {
          "color": "rgba(71.76470588235294, 120.29411764705884, 181.7058823529412, 1.0)",
          "width": 1.0819606796726233
         },
         "mode": "lines",
         "showlegend": false,
         "text": "Width: 1.08",
         "type": "scatter",
         "x": [
          -3.703523951395161,
          -3.778616540618283,
          null
         ],
         "y": [
          40.4375595509298,
          40.385273701511004,
          null
         ]
        },
        {
         "hoverinfo": "text",
         "line": {
          "color": "rgba(60.76470588235294, 91.05882352941177, 167.23529411764707, 1.0)",
          "width": 0.6007243550356304
         },
         "mode": "lines",
         "showlegend": false,
         "text": "Width: 0.60",
         "type": "scatter",
         "x": [
          -3.703523951395161,
          -3.737112400757822,
          null
         ],
         "y": [
          40.4375595509298,
          40.378840354576816,
          null
         ]
        },
        {
         "hoverinfo": "text",
         "line": {
          "color": "rgba(56.05882352941177, 76.23529411764707, 159.94117647058823, 1.0)",
          "width": 0.5
         },
         "mode": "lines",
         "showlegend": false,
         "text": "Width: 0.50",
         "type": "scatter",
         "x": [
          -3.703523951395161,
          -3.7029808755455926,
          null
         ],
         "y": [
          40.4375595509298,
          40.37595000318738,
          null
         ]
        },
        {
         "hoverinfo": "text",
         "line": {
          "color": "rgba(59.196078431372555, 86.11764705882355, 164.8039215686275, 1.0)",
          "width": 0.520187894939326
         },
         "mode": "lines",
         "showlegend": false,
         "text": "Width: 0.52",
         "type": "scatter",
         "x": [
          -3.703523951395161,
          -3.6598634715735407,
          null
         ],
         "y": [
          40.4375595509298,
          40.38355078734683,
          null
         ]
        },
        {
         "hoverinfo": "text",
         "line": {
          "color": "rgba(49.7843137254902, 56.470588235294116, 150.21568627450984, 1.0)",
          "width": 0.5
         },
         "mode": "lines",
         "showlegend": false,
         "text": "Width: 0.50",
         "type": "scatter",
         "x": [
          -3.703523951395161,
          -3.6413909394895803,
          null
         ],
         "y": [
          40.4375595509298,
          40.40661270611631,
          null
         ]
        },
        {
         "hoverinfo": "text",
         "line": {
          "color": "rgba(71.76470588235294, 120.29411764705884, 181.7058823529412, 1.0)",
          "width": 1.072544108953671
         },
         "mode": "lines",
         "showlegend": false,
         "text": "Width: 1.07",
         "type": "scatter",
         "x": [
          -3.703523951395161,
          -3.649948514601449,
          null
         ],
         "y": [
          40.4375595509298,
          40.43926990707227,
          null
         ]
        },
        {
         "hoverinfo": "text",
         "line": {
          "color": "rgba(73.60784313725492, 122.49019607843138, 182.84313725490196, 1.0)",
          "width": 1.0965811447362601
         },
         "mode": "lines",
         "showlegend": false,
         "text": "Width: 1.10",
         "type": "scatter",
         "x": [
          -3.703523951395161,
          -3.637741035389707,
          null
         ],
         "y": [
          40.4375595509298,
          40.48201214532898,
          null
         ]
        },
        {
         "hoverinfo": "text",
         "line": {
          "color": "rgba(52.92156862745099, 66.35294117647058, 155.07843137254903, 1.0)",
          "width": 0.5
         },
         "mode": "lines",
         "showlegend": false,
         "text": "Width: 0.50",
         "type": "scatter",
         "x": [
          -3.703523951395161,
          -3.695056256825152,
          null
         ],
         "y": [
          40.4375595509298,
          40.34253624126977,
          null
         ]
        },
        {
         "hoverinfo": "text",
         "line": {
          "color": "rgba(54.490196078431374, 71.29411764705883, 157.50980392156865, 1.0)",
          "width": 0.5
         },
         "mode": "lines",
         "showlegend": false,
         "text": "Width: 0.50",
         "type": "scatter",
         "x": [
          -3.703523951395161,
          -3.6160073912284756,
          null
         ],
         "y": [
          40.4375595509298,
          40.34992967757026,
          null
         ]
        },
        {
         "hoverinfo": "text",
         "line": {
          "color": "rgba(51.35294117647059, 61.411764705882355, 152.64705882352942, 1.0)",
          "width": 0.5
         },
         "mode": "lines",
         "showlegend": false,
         "text": "Width: 0.50",
         "type": "scatter",
         "x": [
          -3.703523951395161,
          -3.572894771748725,
          null
         ],
         "y": [
          40.4375595509298,
          40.39356859265691,
          null
         ]
        },
        {
         "hoverinfo": "text",
         "line": {
          "color": "rgba(66.25490196078432, 108.35294117647061, 175.74509803921572, 1.0)",
          "width": 0.8854517170376411
         },
         "mode": "lines",
         "showlegend": false,
         "text": "Width: 0.89",
         "type": "scatter",
         "x": [
          -3.703523951395161,
          -3.5986526886701378,
          null
         ],
         "y": [
          40.4375595509298,
          40.43466852782298,
          null
         ]
        },
        {
         "hoverinfo": "text",
         "line": {
          "color": "rgba(66.25490196078432, 108.35294117647061, 175.74509803921572, 1.0)",
          "width": 0.8653795531367161
         },
         "mode": "lines",
         "showlegend": false,
         "text": "Width: 0.87",
         "type": "scatter",
         "x": [
          -3.703523951395161,
          -3.574543479322823,
          null
         ],
         "y": [
          40.4375595509298,
          40.4757410696608,
          null
         ]
        },
        {
         "hoverinfo": "text",
         "line": {
          "color": "rgba(122.47058823529414, 178.1764705882353, 211.82352941176472, 1.0)",
          "width": 2.1354065697660753
         },
         "mode": "lines",
         "showlegend": false,
         "text": "Width: 2.14",
         "type": "scatter",
         "x": [
          -3.753579560856663,
          -3.705268804063821,
          null
         ],
         "y": [
          40.54479435831404,
          40.41733007020507,
          null
         ]
        },
        {
         "hoverinfo": "text",
         "line": {
          "color": "rgba(69.921568627451, 118.09803921568628, 180.56862745098042, 1.0)",
          "width": 1.042615429500638
         },
         "mode": "lines",
         "showlegend": false,
         "text": "Width: 1.04",
         "type": "scatter",
         "x": [
          -3.753579560856663,
          -3.6966151949203576,
          null
         ],
         "y": [
          40.54479435831404,
          40.398119933450886,
          null
         ]
        },
        {
         "hoverinfo": "text",
         "line": {
          "color": "rgba(79.13725490196079, 129.07843137254903, 186.25490196078434, 1.0)",
          "width": 1.2307235376951269
         },
         "mode": "lines",
         "showlegend": false,
         "text": "Width: 1.23",
         "type": "scatter",
         "x": [
          -3.753579560856663,
          -3.67643837848883,
          null
         ],
         "y": [
          40.54479435831404,
          40.41138084576659,
          null
         ]
        },
        {
         "hoverinfo": "text",
         "line": {
          "color": "rgba(103.0980392156863, 157.6274509803922, 201.0392156862745, 1.0)",
          "width": 1.7380977010820982
         },
         "mode": "lines",
         "showlegend": false,
         "text": "Width: 1.74",
         "type": "scatter",
         "x": [
          -3.753579560856663,
          -3.6737887354917422,
          null
         ],
         "y": [
          40.54479435831404,
          40.43018370922185,
          null
         ]
        },
        {
         "hoverinfo": "text",
         "line": {
          "color": "rgba(196.98039215686276, 229.7450980392157, 240.35294117647058, 1.0)",
          "width": 3.513715521551997
         },
         "mode": "lines",
         "showlegend": false,
         "text": "Width: 3.51",
         "type": "scatter",
         "x": [
          -3.753579560856663,
          -3.678150006537061,
          null
         ],
         "y": [
          40.54479435831404,
          40.45750039357669,
          null
         ]
        },
        {
         "hoverinfo": "text",
         "line": {
          "color": "rgba(250.7450980392157, 253.3529411764706, 198.8235294117647, 1.0)",
          "width": 4.872849334887919
         },
         "mode": "lines",
         "showlegend": false,
         "text": "Width: 4.87",
         "type": "scatter",
         "x": [
          -3.753579560856663,
          -3.6999935507976827,
          null
         ],
         "y": [
          40.54479435831404,
          40.4606484776773,
          null
         ]
        },
        {
         "hoverinfo": "text",
         "line": {
          "color": "rgba(128.94117647058823, 183.3529411764706, 214.64705882352942, 1.0)",
          "width": 2.2489233893900686
         },
         "mode": "lines",
         "showlegend": false,
         "text": "Width: 2.25",
         "type": "scatter",
         "x": [
          -3.753579560856663,
          -3.703523951395161,
          null
         ],
         "y": [
          40.54479435831404,
          40.4375595509298,
          null
         ]
        },
        {
         "hoverinfo": "text",
         "line": {
          "color": "rgba(253.2941176470588, 188.70588235294116, 110.82352941176471, 1.0)",
          "width": 6.684324664259315
         },
         "mode": "lines",
         "showlegend": false,
         "text": "Width: 6.68",
         "type": "scatter",
         "x": [
          -3.753579560856663,
          -3.753579560856663,
          null
         ],
         "y": [
          40.54479435831404,
          40.54479435831404,
          null
         ]
        },
        {
         "hoverinfo": "text",
         "line": {
          "color": "rgba(237.37254901960787, 248.1764705882353, 223.41176470588232, 1.0)",
          "width": 4.4527220514484425
         },
         "mode": "lines",
         "showlegend": false,
         "text": "Width: 4.45",
         "type": "scatter",
         "x": [
          -3.753579560856663,
          -3.757223268157654,
          null
         ],
         "y": [
          40.54479435831404,
          40.44543508494524,
          null
         ]
        },
        {
         "hoverinfo": "text",
         "line": {
          "color": "rgba(61.54901960784314, 93.5294117647059, 168.45098039215688, 1.0)",
          "width": 0.6349519860536613
         },
         "mode": "lines",
         "showlegend": false,
         "text": "Width: 0.63",
         "type": "scatter",
         "x": [
          -3.753579560856663,
          -3.778616540618283,
          null
         ],
         "y": [
          40.54479435831404,
          40.385273701511004,
          null
         ]
        },
        {
         "hoverinfo": "text",
         "line": {
          "color": "rgba(61.54901960784314, 93.5294117647059, 168.45098039215688, 1.0)",
          "width": 0.6336097263621615
         },
         "mode": "lines",
         "showlegend": false,
         "text": "Width: 0.63",
         "type": "scatter",
         "x": [
          -3.753579560856663,
          -3.737112400757822,
          null
         ],
         "y": [
          40.54479435831404,
          40.378840354576816,
          null
         ]
        },
        {
         "hoverinfo": "text",
         "line": {
          "color": "rgba(55.274509803921575, 73.76470588235294, 158.72549019607845, 1.0)",
          "width": 0.5
         },
         "mode": "lines",
         "showlegend": false,
         "text": "Width: 0.50",
         "type": "scatter",
         "x": [
          -3.753579560856663,
          -3.7029808755455926,
          null
         ],
         "y": [
          40.54479435831404,
          40.37595000318738,
          null
         ]
        },
        {
         "hoverinfo": "text",
         "line": {
          "color": "rgba(61.54901960784314, 93.5294117647059, 168.45098039215688, 1.0)",
          "width": 0.6393622678971609
         },
         "mode": "lines",
         "showlegend": false,
         "text": "Width: 0.64",
         "type": "scatter",
         "x": [
          -3.753579560856663,
          -3.6598634715735407,
          null
         ],
         "y": [
          40.54479435831404,
          40.38355078734683,
          null
         ]
        },
        {
         "hoverinfo": "text",
         "line": {
          "color": "rgba(55.274509803921575, 73.76470588235294, 158.72549019607845, 1.0)",
          "width": 0.5
         },
         "mode": "lines",
         "showlegend": false,
         "text": "Width: 0.50",
         "type": "scatter",
         "x": [
          -3.753579560856663,
          -3.6413909394895803,
          null
         ],
         "y": [
          40.54479435831404,
          40.40661270611631,
          null
         ]
        },
        {
         "hoverinfo": "text",
         "line": {
          "color": "rgba(118.15686274509807, 174.72549019607845, 209.94117647058823, 1.0)",
          "width": 2.069252342113579
         },
         "mode": "lines",
         "showlegend": false,
         "text": "Width: 2.07",
         "type": "scatter",
         "x": [
          -3.753579560856663,
          -3.649948514601449,
          null
         ],
         "y": [
          40.54479435831404,
          40.43926990707227,
          null
         ]
        },
        {
         "hoverinfo": "text",
         "line": {
          "color": "rgba(238.58823529411765, 248.6470588235294, 221.1764705882353, 1.0)",
          "width": 4.486278543735941
         },
         "mode": "lines",
         "showlegend": false,
         "text": "Width: 4.49",
         "type": "scatter",
         "x": [
          -3.753579560856663,
          -3.637741035389707,
          null
         ],
         "y": [
          40.54479435831404,
          40.48201214532898,
          null
         ]
        },
        {
         "hoverinfo": "text",
         "line": {
          "color": "rgba(53.705882352941174, 68.82352941176471, 156.2941176470588, 1.0)",
          "width": 0.5
         },
         "mode": "lines",
         "showlegend": false,
         "text": "Width: 0.50",
         "type": "scatter",
         "x": [
          -3.753579560856663,
          -3.695056256825152,
          null
         ],
         "y": [
          40.54479435831404,
          40.34253624126977,
          null
         ]
        },
        {
         "hoverinfo": "text",
         "line": {
          "color": "rgba(56.05882352941177, 76.23529411764707, 159.94117647058823, 1.0)",
          "width": 0.5
         },
         "mode": "lines",
         "showlegend": false,
         "text": "Width: 0.50",
         "type": "scatter",
         "x": [
          -3.753579560856663,
          -3.6160073912284756,
          null
         ],
         "y": [
          40.54479435831404,
          40.34992967757026,
          null
         ]
        },
        {
         "hoverinfo": "text",
         "line": {
          "color": "rgba(55.274509803921575, 73.76470588235294, 158.72549019607845, 1.0)",
          "width": 0.5
         },
         "mode": "lines",
         "showlegend": false,
         "text": "Width: 0.50",
         "type": "scatter",
         "x": [
          -3.753579560856663,
          -3.572894771748725,
          null
         ],
         "y": [
          40.54479435831404,
          40.39356859265691,
          null
         ]
        },
        {
         "hoverinfo": "text",
         "line": {
          "color": "rgba(86.50980392156863, 137.86274509803926, 190.80392156862746, 1.0)",
          "width": 1.3963967339031176
         },
         "mode": "lines",
         "showlegend": false,
         "text": "Width: 1.40",
         "type": "scatter",
         "x": [
          -3.753579560856663,
          -3.5986526886701378,
          null
         ],
         "y": [
          40.54479435831404,
          40.43466852782298,
          null
         ]
        },
        {
         "hoverinfo": "text",
         "line": {
          "color": "rgba(92.03921568627452, 144.4509803921569, 194.2156862745098, 1.0)",
          "width": 1.5068455313751112
         },
         "mode": "lines",
         "showlegend": false,
         "text": "Width: 1.51",
         "type": "scatter",
         "x": [
          -3.753579560856663,
          -3.574543479322823,
          null
         ],
         "y": [
          40.54479435831404,
          40.4757410696608,
          null
         ]
        },
        {
         "hoverinfo": "text",
         "line": {
          "color": "rgba(241.01960784313727, 249.58823529411765, 216.70588235294116, 1.0)",
          "width": 4.549786670334406
         },
         "mode": "lines",
         "showlegend": false,
         "text": "Width: 4.55",
         "type": "scatter",
         "x": [
          -3.757223268157654,
          -3.705268804063821,
          null
         ],
         "y": [
          40.44543508494524,
          40.41733007020507,
          null
         ]
        },
        {
         "hoverinfo": "text",
         "line": {
          "color": "rgba(103.0980392156863, 157.6274509803922, 201.0392156862745, 1.0)",
          "width": 1.7247047240890285
         },
         "mode": "lines",
         "showlegend": false,
         "text": "Width: 1.72",
         "type": "scatter",
         "x": [
          -3.757223268157654,
          -3.6966151949203576,
          null
         ],
         "y": [
          40.44543508494524,
          40.398119933450886,
          null
         ]
        },
        {
         "hoverinfo": "text",
         "line": {
          "color": "rgba(67.8235294117647, 113.29411764705883, 178.1764705882353, 1.0)",
          "width": 0.962288118430266
         },
         "mode": "lines",
         "showlegend": false,
         "text": "Width: 0.96",
         "type": "scatter",
         "x": [
          -3.757223268157654,
          -3.67643837848883,
          null
         ],
         "y": [
          40.44543508494524,
          40.41138084576659,
          null
         ]
        },
        {
         "hoverinfo": "text",
         "line": {
          "color": "rgba(103.0980392156863, 157.6274509803922, 201.0392156862745, 1.0)",
          "width": 1.7437813977591936
         },
         "mode": "lines",
         "showlegend": false,
         "text": "Width: 1.74",
         "type": "scatter",
         "x": [
          -3.757223268157654,
          -3.6737887354917422,
          null
         ],
         "y": [
          40.44543508494524,
          40.43018370922185,
          null
         ]
        },
        {
         "hoverinfo": "text",
         "line": {
          "color": "rgba(108.62745098039218, 164.21568627450984, 204.45098039215688, 1.0)",
          "width": 1.8389479857274045
         },
         "mode": "lines",
         "showlegend": false,
         "text": "Width: 1.84",
         "type": "scatter",
         "x": [
          -3.757223268157654,
          -3.678150006537061,
          null
         ],
         "y": [
          40.44543508494524,
          40.45750039357669,
          null
         ]
        },
        {
         "hoverinfo": "text",
         "line": {
          "color": "rgba(230.07843137254906, 245.3529411764706, 236.82352941176467, 1.0)",
          "width": 4.205972983506201
         },
         "mode": "lines",
         "showlegend": false,
         "text": "Width: 4.21",
         "type": "scatter",
         "x": [
          -3.757223268157654,
          -3.6999935507976827,
          null
         ],
         "y": [
          40.44543508494524,
          40.4606484776773,
          null
         ]
        },
        {
         "hoverinfo": "text",
         "line": {
          "color": "rgba(253.1764705882353, 254.2941176470588, 194.35294117647058, 1.0)",
          "width": 4.957550570034187
         },
         "mode": "lines",
         "showlegend": false,
         "text": "Width: 4.96",
         "type": "scatter",
         "x": [
          -3.757223268157654,
          -3.703523951395161,
          null
         ],
         "y": [
          40.44543508494524,
          40.4375595509298,
          null
         ]
        },
        {
         "hoverinfo": "text",
         "line": {
          "color": "rgba(253.1764705882353, 254.2941176470588, 194.35294117647058, 1.0)",
          "width": 4.95018003702526
         },
         "mode": "lines",
         "showlegend": false,
         "text": "Width: 4.95",
         "type": "scatter",
         "x": [
          -3.757223268157654,
          -3.753579560856663,
          null
         ],
         "y": [
          40.44543508494524,
          40.54479435831404,
          null
         ]
        },
        {
         "hoverinfo": "text",
         "line": {
          "color": "rgba(254.03921568627453, 225.2156862745098, 145.84313725490196, 1.0)",
          "width": 5.9376146798389255
         },
         "mode": "lines",
         "showlegend": false,
         "text": "Width: 5.94",
         "type": "scatter",
         "x": [
          -3.757223268157654,
          -3.757223268157654,
          null
         ],
         "y": [
          40.44543508494524,
          40.44543508494524,
          null
         ]
        },
        {
         "hoverinfo": "text",
         "line": {
          "color": "rgba(233.72549019607845, 246.76470588235296, 230.11764705882348, 1.0)",
          "width": 4.301356351857026
         },
         "mode": "lines",
         "showlegend": false,
         "text": "Width: 4.30",
         "type": "scatter",
         "x": [
          -3.757223268157654,
          -3.778616540618283,
          null
         ],
         "y": [
          40.44543508494524,
          40.385273701511004,
          null
         ]
        },
        {
         "hoverinfo": "text",
         "line": {
          "color": "rgba(79.13725490196079, 129.07843137254903, 186.25490196078434, 1.0)",
          "width": 1.2295783301951946
         },
         "mode": "lines",
         "showlegend": false,
         "text": "Width: 1.23",
         "type": "scatter",
         "x": [
          -3.757223268157654,
          -3.737112400757822,
          null
         ],
         "y": [
          40.44543508494524,
          40.378840354576816,
          null
         ]
        },
        {
         "hoverinfo": "text",
         "line": {
          "color": "rgba(57.62745098039216, 81.17647058823529, 162.37254901960785, 1.0)",
          "width": 0.5
         },
         "mode": "lines",
         "showlegend": false,
         "text": "Width: 0.50",
         "type": "scatter",
         "x": [
          -3.757223268157654,
          -3.7029808755455926,
          null
         ],
         "y": [
          40.44543508494524,
          40.37595000318738,
          null
         ]
        },
        {
         "hoverinfo": "text",
         "line": {
          "color": "rgba(56.84313725490196, 78.70588235294117, 161.15686274509807, 1.0)",
          "width": 0.5
         },
         "mode": "lines",
         "showlegend": false,
         "text": "Width: 0.50",
         "type": "scatter",
         "x": [
          -3.757223268157654,
          -3.6598634715735407,
          null
         ],
         "y": [
          40.44543508494524,
          40.38355078734683,
          null
         ]
        },
        {
         "hoverinfo": "text",
         "line": {
          "color": "rgba(49.0, 54.0, 149.0, 1.0)",
          "width": 0.5
         },
         "mode": "lines",
         "showlegend": false,
         "text": "Width: 0.50",
         "type": "scatter",
         "x": [
          -3.757223268157654,
          -3.6413909394895803,
          null
         ],
         "y": [
          40.44543508494524,
          40.40661270611631,
          null
         ]
        },
        {
         "hoverinfo": "text",
         "line": {
          "color": "rgba(65.47058823529412, 105.88235294117648, 174.52941176470588, 1.0)",
          "width": 0.8250661362346458
         },
         "mode": "lines",
         "showlegend": false,
         "text": "Width: 0.83",
         "type": "scatter",
         "x": [
          -3.757223268157654,
          -3.649948514601449,
          null
         ],
         "y": [
          40.44543508494524,
          40.43926990707227,
          null
         ]
        },
        {
         "hoverinfo": "text",
         "line": {
          "color": "rgba(69.921568627451, 118.09803921568628, 180.56862745098042, 1.0)",
          "width": 1.0401122757892358
         },
         "mode": "lines",
         "showlegend": false,
         "text": "Width: 1.04",
         "type": "scatter",
         "x": [
          -3.757223268157654,
          -3.637741035389707,
          null
         ],
         "y": [
          40.44543508494524,
          40.48201214532898,
          null
         ]
        },
        {
         "hoverinfo": "text",
         "line": {
          "color": "rgba(53.705882352941174, 68.82352941176471, 156.2941176470588, 1.0)",
          "width": 0.5
         },
         "mode": "lines",
         "showlegend": false,
         "text": "Width: 0.50",
         "type": "scatter",
         "x": [
          -3.757223268157654,
          -3.695056256825152,
          null
         ],
         "y": [
          40.44543508494524,
          40.34253624126977,
          null
         ]
        },
        {
         "hoverinfo": "text",
         "line": {
          "color": "rgba(52.92156862745099, 66.35294117647058, 155.07843137254903, 1.0)",
          "width": 0.5
         },
         "mode": "lines",
         "showlegend": false,
         "text": "Width: 0.50",
         "type": "scatter",
         "x": [
          -3.757223268157654,
          -3.6160073912284756,
          null
         ],
         "y": [
          40.44543508494524,
          40.34992967757026,
          null
         ]
        },
        {
         "hoverinfo": "text",
         "line": {
          "color": "rgba(49.7843137254902, 56.470588235294116, 150.21568627450984, 1.0)",
          "width": 0.5
         },
         "mode": "lines",
         "showlegend": false,
         "text": "Width: 0.50",
         "type": "scatter",
         "x": [
          -3.757223268157654,
          -3.572894771748725,
          null
         ],
         "y": [
          40.44543508494524,
          40.39356859265691,
          null
         ]
        },
        {
         "hoverinfo": "text",
         "line": {
          "color": "rgba(61.54901960784314, 93.5294117647059, 168.45098039215688, 1.0)",
          "width": 0.6600962650642397
         },
         "mode": "lines",
         "showlegend": false,
         "text": "Width: 0.66",
         "type": "scatter",
         "x": [
          -3.757223268157654,
          -3.5986526886701378,
          null
         ],
         "y": [
          40.44543508494524,
          40.43466852782298,
          null
         ]
        },
        {
         "hoverinfo": "text",
         "line": {
          "color": "rgba(59.98039215686274, 88.58823529411765, 166.01960784313727, 1.0)",
          "width": 0.5642793359481827
         },
         "mode": "lines",
         "showlegend": false,
         "text": "Width: 0.56",
         "type": "scatter",
         "x": [
          -3.757223268157654,
          -3.574543479322823,
          null
         ],
         "y": [
          40.44543508494524,
          40.4757410696608,
          null
         ]
        },
        {
         "hoverinfo": "text",
         "line": {
          "color": "rgba(219.84313725490202, 240.9607843137255, 246.82352941176472, 1.0)",
          "width": 3.9336349376605977
         },
         "mode": "lines",
         "showlegend": false,
         "text": "Width: 3.93",
         "type": "scatter",
         "x": [
          -3.778616540618283,
          -3.705268804063821,
          null
         ],
         "y": [
          40.385273701511004,
          40.41733007020507,
          null
         ]
        },
        {
         "hoverinfo": "text",
         "line": {
          "color": "rgba(163.45098039215688, 210.96078431372553, 229.7058823529412, 1.0)",
          "width": 2.8621458781279117
         },
         "mode": "lines",
         "showlegend": false,
         "text": "Width: 2.86",
         "type": "scatter",
         "x": [
          -3.778616540618283,
          -3.6966151949203576,
          null
         ],
         "y": [
          40.385273701511004,
          40.398119933450886,
          null
         ]
        },
        {
         "hoverinfo": "text",
         "line": {
          "color": "rgba(79.13725490196079, 129.07843137254903, 186.25490196078434, 1.0)",
          "width": 1.2337016838892714
         },
         "mode": "lines",
         "showlegend": false,
         "text": "Width: 1.23",
         "type": "scatter",
         "x": [
          -3.778616540618283,
          -3.67643837848883,
          null
         ],
         "y": [
          40.385273701511004,
          40.41138084576659,
          null
         ]
        },
        {
         "hoverinfo": "text",
         "line": {
          "color": "rgba(114.15686274509805, 170.8039215686275, 207.86274509803923, 1.0)",
          "width": 1.9884457096570987
         },
         "mode": "lines",
         "showlegend": false,
         "text": "Width: 1.99",
         "type": "scatter",
         "x": [
          -3.778616540618283,
          -3.6737887354917422,
          null
         ],
         "y": [
          40.385273701511004,
          40.43018370922185,
          null
         ]
        },
        {
         "hoverinfo": "text",
         "line": {
          "color": "rgba(118.15686274509807, 174.72549019607845, 209.94117647058823, 1.0)",
          "width": 2.0501332190231345
         },
         "mode": "lines",
         "showlegend": false,
         "text": "Width: 2.05",
         "type": "scatter",
         "x": [
          -3.778616540618283,
          -3.678150006537061,
          null
         ],
         "y": [
          40.385273701511004,
          40.45750039357669,
          null
         ]
        },
        {
         "hoverinfo": "text",
         "line": {
          "color": "rgba(99.41176470588236, 153.2352941176471, 198.76470588235296, 1.0)",
          "width": 1.6619791486282516
         },
         "mode": "lines",
         "showlegend": false,
         "text": "Width: 1.66",
         "type": "scatter",
         "x": [
          -3.778616540618283,
          -3.6999935507976827,
          null
         ],
         "y": [
          40.385273701511004,
          40.4606484776773,
          null
         ]
        },
        {
         "hoverinfo": "text",
         "line": {
          "color": "rgba(133.2549019607843, 186.8039215686275, 216.52941176470588, 1.0)",
          "width": 2.3271083685262224
         },
         "mode": "lines",
         "showlegend": false,
         "text": "Width: 2.33",
         "type": "scatter",
         "x": [
          -3.778616540618283,
          -3.703523951395161,
          null
         ],
         "y": [
          40.385273701511004,
          40.4375595509298,
          null
         ]
        },
        {
         "hoverinfo": "text",
         "line": {
          "color": "rgba(101.25490196078432, 155.4313725490196, 199.90196078431376, 1.0)",
          "width": 1.6957393614904661
         },
         "mode": "lines",
         "showlegend": false,
         "text": "Width: 1.70",
         "type": "scatter",
         "x": [
          -3.778616540618283,
          -3.753579560856663,
          null
         ],
         "y": [
          40.385273701511004,
          40.54479435831404,
          null
         ]
        },
        {
         "hoverinfo": "text",
         "line": {
          "color": "rgba(242.23529411764707, 250.05882352941177, 214.4705882352941, 1.0)",
          "width": 4.609369460028374
         },
         "mode": "lines",
         "showlegend": false,
         "text": "Width: 4.61",
         "type": "scatter",
         "x": [
          -3.778616540618283,
          -3.757223268157654,
          null
         ],
         "y": [
          40.385273701511004,
          40.44543508494524,
          null
         ]
        },
        {
         "hoverinfo": "text",
         "line": {
          "color": "rgba(254.86274509803923, 250.74509803921566, 184.54901960784315, 1.0)",
          "width": 5.155012272099869
         },
         "mode": "lines",
         "showlegend": false,
         "text": "Width: 5.16",
         "type": "scatter",
         "x": [
          -3.778616540618283,
          -3.778616540618283,
          null
         ],
         "y": [
          40.385273701511004,
          40.385273701511004,
          null
         ]
        },
        {
         "hoverinfo": "text",
         "line": {
          "color": "rgba(248.31372549019608, 252.41176470588232, 203.29411764705884, 1.0)",
          "width": 4.7903666221797225
         },
         "mode": "lines",
         "showlegend": false,
         "text": "Width: 4.79",
         "type": "scatter",
         "x": [
          -3.778616540618283,
          -3.737112400757822,
          null
         ],
         "y": [
          40.385273701511004,
          40.378840354576816,
          null
         ]
        },
        {
         "hoverinfo": "text",
         "line": {
          "color": "rgba(79.13725490196079, 129.07843137254903, 186.25490196078434, 1.0)",
          "width": 1.2146121394436216
         },
         "mode": "lines",
         "showlegend": false,
         "text": "Width: 1.21",
         "type": "scatter",
         "x": [
          -3.778616540618283,
          -3.7029808755455926,
          null
         ],
         "y": [
          40.385273701511004,
          40.37595000318738,
          null
         ]
        },
        {
         "hoverinfo": "text",
         "line": {
          "color": "rgba(73.60784313725492, 122.49019607843138, 182.84313725490196, 1.0)",
          "width": 1.114215276062796
         },
         "mode": "lines",
         "showlegend": false,
         "text": "Width: 1.11",
         "type": "scatter",
         "x": [
          -3.778616540618283,
          -3.6598634715735407,
          null
         ],
         "y": [
          40.385273701511004,
          40.38355078734683,
          null
         ]
        },
        {
         "hoverinfo": "text",
         "line": {
          "color": "rgba(55.274509803921575, 73.76470588235294, 158.72549019607845, 1.0)",
          "width": 0.5
         },
         "mode": "lines",
         "showlegend": false,
         "text": "Width: 0.50",
         "type": "scatter",
         "x": [
          -3.778616540618283,
          -3.6413909394895803,
          null
         ],
         "y": [
          40.385273701511004,
          40.40661270611631,
          null
         ]
        },
        {
         "hoverinfo": "text",
         "line": {
          "color": "rgba(77.29411764705883, 126.88235294117649, 185.11764705882354, 1.0)",
          "width": 1.1997647159858937
         },
         "mode": "lines",
         "showlegend": false,
         "text": "Width: 1.20",
         "type": "scatter",
         "x": [
          -3.778616540618283,
          -3.649948514601449,
          null
         ],
         "y": [
          40.385273701511004,
          40.43926990707227,
          null
         ]
        },
        {
         "hoverinfo": "text",
         "line": {
          "color": "rgba(67.03921568627452, 110.82352941176472, 176.9607843137255, 1.0)",
          "width": 0.9204917509476813
         },
         "mode": "lines",
         "showlegend": false,
         "text": "Width: 0.92",
         "type": "scatter",
         "x": [
          -3.778616540618283,
          -3.637741035389707,
          null
         ],
         "y": [
          40.385273701511004,
          40.48201214532898,
          null
         ]
        },
        {
         "hoverinfo": "text",
         "line": {
          "color": "rgba(67.8235294117647, 113.29411764705883, 178.1764705882353, 1.0)",
          "width": 0.9581405747154909
         },
         "mode": "lines",
         "showlegend": false,
         "text": "Width: 0.96",
         "type": "scatter",
         "x": [
          -3.778616540618283,
          -3.695056256825152,
          null
         ],
         "y": [
          40.385273701511004,
          40.34253624126977,
          null
         ]
        },
        {
         "hoverinfo": "text",
         "line": {
          "color": "rgba(66.25490196078432, 108.35294117647061, 175.74509803921572, 1.0)",
          "width": 0.8854942527973229
         },
         "mode": "lines",
         "showlegend": false,
         "text": "Width: 0.89",
         "type": "scatter",
         "x": [
          -3.778616540618283,
          -3.6160073912284756,
          null
         ],
         "y": [
          40.385273701511004,
          40.34992967757026,
          null
         ]
        },
        {
         "hoverinfo": "text",
         "line": {
          "color": "rgba(56.05882352941177, 76.23529411764707, 159.94117647058823, 1.0)",
          "width": 0.5
         },
         "mode": "lines",
         "showlegend": false,
         "text": "Width: 0.50",
         "type": "scatter",
         "x": [
          -3.778616540618283,
          -3.572894771748725,
          null
         ],
         "y": [
          40.385273701511004,
          40.39356859265691,
          null
         ]
        },
        {
         "hoverinfo": "text",
         "line": {
          "color": "rgba(67.03921568627452, 110.82352941176472, 176.9607843137255, 1.0)",
          "width": 0.913775059383471
         },
         "mode": "lines",
         "showlegend": false,
         "text": "Width: 0.91",
         "type": "scatter",
         "x": [
          -3.778616540618283,
          -3.5986526886701378,
          null
         ],
         "y": [
          40.385273701511004,
          40.43466852782298,
          null
         ]
        },
        {
         "hoverinfo": "text",
         "line": {
          "color": "rgba(61.54901960784314, 93.5294117647059, 168.45098039215688, 1.0)",
          "width": 0.663666676137224
         },
         "mode": "lines",
         "showlegend": false,
         "text": "Width: 0.66",
         "type": "scatter",
         "x": [
          -3.778616540618283,
          -3.574543479322823,
          null
         ],
         "y": [
          40.385273701511004,
          40.4757410696608,
          null
         ]
        },
        {
         "hoverinfo": "text",
         "line": {
          "color": "rgba(167.76470588235296, 214.41176470588235, 231.58823529411765, 1.0)",
          "width": 2.941381715715224
         },
         "mode": "lines",
         "showlegend": false,
         "text": "Width: 2.94",
         "type": "scatter",
         "x": [
          -3.737112400757822,
          -3.705268804063821,
          null
         ],
         "y": [
          40.378840354576816,
          40.41733007020507,
          null
         ]
        },
        {
         "hoverinfo": "text",
         "line": {
          "color": "rgba(217.76470588235298, 239.94117647058823, 246.23529411764704, 1.0)",
          "width": 3.8707421923242413
         },
         "mode": "lines",
         "showlegend": false,
         "text": "Width: 3.87",
         "type": "scatter",
         "x": [
          -3.737112400757822,
          -3.6966151949203576,
          null
         ],
         "y": [
          40.378840354576816,
          40.398119933450886,
          null
         ]
        },
        {
         "hoverinfo": "text",
         "line": {
          "color": "rgba(79.13725490196079, 129.07843137254903, 186.25490196078434, 1.0)",
          "width": 1.2215564688103508
         },
         "mode": "lines",
         "showlegend": false,
         "text": "Width: 1.22",
         "type": "scatter",
         "x": [
          -3.737112400757822,
          -3.67643837848883,
          null
         ],
         "y": [
          40.378840354576816,
          40.41138084576659,
          null
         ]
        },
        {
         "hoverinfo": "text",
         "line": {
          "color": "rgba(97.5686274509804, 151.03921568627453, 197.62745098039218, 1.0)",
          "width": 1.6175643262639978
         },
         "mode": "lines",
         "showlegend": false,
         "text": "Width: 1.62",
         "type": "scatter",
         "x": [
          -3.737112400757822,
          -3.6737887354917422,
          null
         ],
         "y": [
          40.378840354576816,
          40.43018370922185,
          null
         ]
        },
        {
         "hoverinfo": "text",
         "line": {
          "color": "rgba(106.78431372549022, 162.0196078431373, 203.31372549019608, 1.0)",
          "width": 1.8166022180651133
         },
         "mode": "lines",
         "showlegend": false,
         "text": "Width: 1.82",
         "type": "scatter",
         "x": [
          -3.737112400757822,
          -3.678150006537061,
          null
         ],
         "y": [
          40.378840354576816,
          40.45750039357669,
          null
         ]
        },
        {
         "hoverinfo": "text",
         "line": {
          "color": "rgba(84.66666666666667, 135.66666666666669, 189.66666666666669, 1.0)",
          "width": 1.3614861381978012
         },
         "mode": "lines",
         "showlegend": false,
         "text": "Width: 1.36",
         "type": "scatter",
         "x": [
          -3.737112400757822,
          -3.6999935507976827,
          null
         ],
         "y": [
          40.378840354576816,
          40.4606484776773,
          null
         ]
        },
        {
         "hoverinfo": "text",
         "line": {
          "color": "rgba(103.0980392156863, 157.6274509803922, 201.0392156862745, 1.0)",
          "width": 1.7294046654665296
         },
         "mode": "lines",
         "showlegend": false,
         "text": "Width: 1.73",
         "type": "scatter",
         "x": [
          -3.737112400757822,
          -3.703523951395161,
          null
         ],
         "y": [
          40.378840354576816,
          40.4375595509298,
          null
         ]
        },
        {
         "hoverinfo": "text",
         "line": {
          "color": "rgba(86.50980392156863, 137.86274509803926, 190.80392156862746, 1.0)",
          "width": 1.3914710673522552
         },
         "mode": "lines",
         "showlegend": false,
         "text": "Width: 1.39",
         "type": "scatter",
         "x": [
          -3.737112400757822,
          -3.753579560856663,
          null
         ],
         "y": [
          40.378840354576816,
          40.54479435831404,
          null
         ]
        },
        {
         "hoverinfo": "text",
         "line": {
          "color": "rgba(116.00000000000003, 173.00000000000003, 209.0, 1.0)",
          "width": 2.0049558247652164
         },
         "mode": "lines",
         "showlegend": false,
         "text": "Width: 2.00",
         "type": "scatter",
         "x": [
          -3.737112400757822,
          -3.757223268157654,
          null
         ],
         "y": [
          40.378840354576816,
          40.44543508494524,
          null
         ]
        },
        {
         "hoverinfo": "text",
         "line": {
          "color": "rgba(237.37254901960787, 248.1764705882353, 223.41176470588232, 1.0)",
          "width": 4.4171916770873025
         },
         "mode": "lines",
         "showlegend": false,
         "text": "Width: 4.42",
         "type": "scatter",
         "x": [
          -3.737112400757822,
          -3.778616540618283,
          null
         ],
         "y": [
          40.378840354576816,
          40.385273701511004,
          null
         ]
        },
        {
         "hoverinfo": "text",
         "line": {
          "color": "rgba(254.90196078431373, 251.9607843137255, 186.3921568627451, 1.0)",
          "width": 5.082202261035791
         },
         "mode": "lines",
         "showlegend": false,
         "text": "Width: 5.08",
         "type": "scatter",
         "x": [
          -3.737112400757822,
          -3.737112400757822,
          null
         ],
         "y": [
          40.378840354576816,
          40.378840354576816,
          null
         ]
        },
        {
         "hoverinfo": "text",
         "line": {
          "color": "rgba(230.07843137254906, 245.3529411764706, 236.82352941176467, 1.0)",
          "width": 4.186790238699345
         },
         "mode": "lines",
         "showlegend": false,
         "text": "Width: 4.19",
         "type": "scatter",
         "x": [
          -3.737112400757822,
          -3.7029808755455926,
          null
         ],
         "y": [
          40.378840354576816,
          40.37595000318738,
          null
         ]
        },
        {
         "hoverinfo": "text",
         "line": {
          "color": "rgba(80.98039215686276, 131.2745098039216, 187.3921568627451, 1.0)",
          "width": 1.261191719991525
         },
         "mode": "lines",
         "showlegend": false,
         "text": "Width: 1.26",
         "type": "scatter",
         "x": [
          -3.737112400757822,
          -3.6598634715735407,
          null
         ],
         "y": [
          40.378840354576816,
          40.38355078734683,
          null
         ]
        },
        {
         "hoverinfo": "text",
         "line": {
          "color": "rgba(56.84313725490196, 78.70588235294117, 161.15686274509807, 1.0)",
          "width": 0.5
         },
         "mode": "lines",
         "showlegend": false,
         "text": "Width: 0.50",
         "type": "scatter",
         "x": [
          -3.737112400757822,
          -3.6413909394895803,
          null
         ],
         "y": [
          40.378840354576816,
          40.40661270611631,
          null
         ]
        },
        {
         "hoverinfo": "text",
         "line": {
          "color": "rgba(82.82352941176471, 133.47058823529412, 188.5294117647059, 1.0)",
          "width": 1.311338929094663
         },
         "mode": "lines",
         "showlegend": false,
         "text": "Width: 1.31",
         "type": "scatter",
         "x": [
          -3.737112400757822,
          -3.649948514601449,
          null
         ],
         "y": [
          40.378840354576816,
          40.43926990707227,
          null
         ]
        },
        {
         "hoverinfo": "text",
         "line": {
          "color": "rgba(67.03921568627452, 110.82352941176472, 176.9607843137255, 1.0)",
          "width": 0.9215348500867654
         },
         "mode": "lines",
         "showlegend": false,
         "text": "Width: 0.92",
         "type": "scatter",
         "x": [
          -3.737112400757822,
          -3.637741035389707,
          null
         ],
         "y": [
          40.378840354576816,
          40.48201214532898,
          null
         ]
        },
        {
         "hoverinfo": "text",
         "line": {
          "color": "rgba(106.78431372549022, 162.0196078431373, 203.31372549019608, 1.0)",
          "width": 1.8350412262233118
         },
         "mode": "lines",
         "showlegend": false,
         "text": "Width: 1.84",
         "type": "scatter",
         "x": [
          -3.737112400757822,
          -3.695056256825152,
          null
         ],
         "y": [
          40.378840354576816,
          40.34253624126977,
          null
         ]
        },
        {
         "hoverinfo": "text",
         "line": {
          "color": "rgba(82.82352941176471, 133.47058823529412, 188.5294117647059, 1.0)",
          "width": 1.296518791696485
         },
         "mode": "lines",
         "showlegend": false,
         "text": "Width: 1.30",
         "type": "scatter",
         "x": [
          -3.737112400757822,
          -3.6160073912284756,
          null
         ],
         "y": [
          40.378840354576816,
          40.34992967757026,
          null
         ]
        },
        {
         "hoverinfo": "text",
         "line": {
          "color": "rgba(58.411764705882355, 83.64705882352942, 163.58823529411765, 1.0)",
          "width": 0.5000225701339274
         },
         "mode": "lines",
         "showlegend": false,
         "text": "Width: 0.50",
         "type": "scatter",
         "x": [
          -3.737112400757822,
          -3.572894771748725,
          null
         ],
         "y": [
          40.378840354576816,
          40.39356859265691,
          null
         ]
        },
        {
         "hoverinfo": "text",
         "line": {
          "color": "rgba(69.921568627451, 118.09803921568628, 180.56862745098042, 1.0)",
          "width": 1.0392343133769484
         },
         "mode": "lines",
         "showlegend": false,
         "text": "Width: 1.04",
         "type": "scatter",
         "x": [
          -3.737112400757822,
          -3.5986526886701378,
          null
         ],
         "y": [
          40.378840354576816,
          40.43466852782298,
          null
         ]
        },
        {
         "hoverinfo": "text",
         "line": {
          "color": "rgba(62.333333333333336, 96.0, 169.66666666666669, 1.0)",
          "width": 0.6725220763615605
         },
         "mode": "lines",
         "showlegend": false,
         "text": "Width: 0.67",
         "type": "scatter",
         "x": [
          -3.737112400757822,
          -3.574543479322823,
          null
         ],
         "y": [
          40.378840354576816,
          40.4757410696608,
          null
         ]
        },
        {
         "hoverinfo": "text",
         "line": {
          "color": "rgba(148.35294117647058, 198.88235294117646, 223.1176470588235, 1.0)",
          "width": 2.594345349734699
         },
         "mode": "lines",
         "showlegend": false,
         "text": "Width: 2.59",
         "type": "scatter",
         "x": [
          -3.7029808755455926,
          -3.705268804063821,
          null
         ],
         "y": [
          40.37595000318738,
          40.41733007020507,
          null
         ]
        },
        {
         "hoverinfo": "text",
         "line": {
          "color": "rgba(241.01960784313727, 249.58823529411765, 216.70588235294116, 1.0)",
          "width": 4.551059835563242
         },
         "mode": "lines",
         "showlegend": false,
         "text": "Width: 4.55",
         "type": "scatter",
         "x": [
          -3.7029808755455926,
          -3.6966151949203576,
          null
         ],
         "y": [
          40.37595000318738,
          40.398119933450886,
          null
         ]
        },
        {
         "hoverinfo": "text",
         "line": {
          "color": "rgba(93.88235294117649, 146.64705882352945, 195.3529411764706, 1.0)",
          "width": 1.5248471741507326
         },
         "mode": "lines",
         "showlegend": false,
         "text": "Width: 1.52",
         "type": "scatter",
         "x": [
          -3.7029808755455926,
          -3.67643837848883,
          null
         ],
         "y": [
          40.37595000318738,
          40.41138084576659,
          null
         ]
        },
        {
         "hoverinfo": "text",
         "line": {
          "color": "rgba(86.50980392156863, 137.86274509803926, 190.80392156862746, 1.0)",
          "width": 1.3892828578228118
         },
         "mode": "lines",
         "showlegend": false,
         "text": "Width: 1.39",
         "type": "scatter",
         "x": [
          -3.7029808755455926,
          -3.6737887354917422,
          null
         ],
         "y": [
          40.37595000318738,
          40.43018370922185,
          null
         ]
        },
        {
         "hoverinfo": "text",
         "line": {
          "color": "rgba(90.19607843137256, 142.2549019607843, 193.07843137254903, 1.0)",
          "width": 1.450182519927047
         },
         "mode": "lines",
         "showlegend": false,
         "text": "Width: 1.45",
         "type": "scatter",
         "x": [
          -3.7029808755455926,
          -3.678150006537061,
          null
         ],
         "y": [
          40.37595000318738,
          40.45750039357669,
          null
         ]
        },
        {
         "hoverinfo": "text",
         "line": {
          "color": "rgba(71.76470588235294, 120.29411764705884, 181.7058823529412, 1.0)",
          "width": 1.088955757034803
         },
         "mode": "lines",
         "showlegend": false,
         "text": "Width: 1.09",
         "type": "scatter",
         "x": [
          -3.7029808755455926,
          -3.6999935507976827,
          null
         ],
         "y": [
          40.37595000318738,
          40.4606484776773,
          null
         ]
        },
        {
         "hoverinfo": "text",
         "line": {
          "color": "rgba(88.35294117647061, 140.0588235294118, 191.94117647058823, 1.0)",
          "width": 1.4314120761277964
         },
         "mode": "lines",
         "showlegend": false,
         "text": "Width: 1.43",
         "type": "scatter",
         "x": [
          -3.7029808755455926,
          -3.703523951395161,
          null
         ],
         "y": [
          40.37595000318738,
          40.4375595509298,
          null
         ]
        },
        {
         "hoverinfo": "text",
         "line": {
          "color": "rgba(68.6078431372549, 115.76470588235296, 179.3921568627451, 1.0)",
          "width": 0.9988576267984002
         },
         "mode": "lines",
         "showlegend": false,
         "text": "Width: 1.00",
         "type": "scatter",
         "x": [
          -3.7029808755455926,
          -3.753579560856663,
          null
         ],
         "y": [
          40.37595000318738,
          40.54479435831404,
          null
         ]
        },
        {
         "hoverinfo": "text",
         "line": {
          "color": "rgba(92.03921568627452, 144.4509803921569, 194.2156862745098, 1.0)",
          "width": 1.48501212119899
         },
         "mode": "lines",
         "showlegend": false,
         "text": "Width: 1.49",
         "type": "scatter",
         "x": [
          -3.7029808755455926,
          -3.757223268157654,
          null
         ],
         "y": [
          40.37595000318738,
          40.44543508494524,
          null
         ]
        },
        {
         "hoverinfo": "text",
         "line": {
          "color": "rgba(80.98039215686276, 131.2745098039216, 187.3921568627451, 1.0)",
          "width": 1.2774944369739418
         },
         "mode": "lines",
         "showlegend": false,
         "text": "Width: 1.28",
         "type": "scatter",
         "x": [
          -3.7029808755455926,
          -3.778616540618283,
          null
         ],
         "y": [
          40.37595000318738,
          40.385273701511004,
          null
         ]
        },
        {
         "hoverinfo": "text",
         "line": {
          "color": "rgba(247.09803921568627, 251.94117647058823, 205.52941176470588, 1.0)",
          "width": 4.737721471122456
         },
         "mode": "lines",
         "showlegend": false,
         "text": "Width: 4.74",
         "type": "scatter",
         "x": [
          -3.7029808755455926,
          -3.737112400757822,
          null
         ],
         "y": [
          40.37595000318738,
          40.378840354576816,
          null
         ]
        },
        {
         "hoverinfo": "text",
         "line": {
          "color": "rgba(250.7450980392157, 253.3529411764706, 198.8235294117647, 1.0)",
          "width": 4.865151928470702
         },
         "mode": "lines",
         "showlegend": false,
         "text": "Width: 4.87",
         "type": "scatter",
         "x": [
          -3.7029808755455926,
          -3.7029808755455926,
          null
         ],
         "y": [
          40.37595000318738,
          40.37595000318738,
          null
         ]
        },
        {
         "hoverinfo": "text",
         "line": {
          "color": "rgba(182.4313725490196, 222.6078431372549, 236.23529411764707, 1.0)",
          "width": 3.2171069628965014
         },
         "mode": "lines",
         "showlegend": false,
         "text": "Width: 3.22",
         "type": "scatter",
         "x": [
          -3.7029808755455926,
          -3.6598634715735407,
          null
         ],
         "y": [
          40.37595000318738,
          40.38355078734683,
          null
         ]
        },
        {
         "hoverinfo": "text",
         "line": {
          "color": "rgba(59.98039215686274, 88.58823529411765, 166.01960784313727, 1.0)",
          "width": 0.5848650607815957
         },
         "mode": "lines",
         "showlegend": false,
         "text": "Width: 0.58",
         "type": "scatter",
         "x": [
          -3.7029808755455926,
          -3.6413909394895803,
          null
         ],
         "y": [
          40.37595000318738,
          40.40661270611631,
          null
         ]
        },
        {
         "hoverinfo": "text",
         "line": {
          "color": "rgba(67.8235294117647, 113.29411764705883, 178.1764705882353, 1.0)",
          "width": 0.9761245337526411
         },
         "mode": "lines",
         "showlegend": false,
         "text": "Width: 0.98",
         "type": "scatter",
         "x": [
          -3.7029808755455926,
          -3.649948514601449,
          null
         ],
         "y": [
          40.37595000318738,
          40.43926990707227,
          null
         ]
        },
        {
         "hoverinfo": "text",
         "line": {
          "color": "rgba(65.47058823529412, 105.88235294117648, 174.52941176470588, 1.0)",
          "width": 0.8447314271578872
         },
         "mode": "lines",
         "showlegend": false,
         "text": "Width: 0.84",
         "type": "scatter",
         "x": [
          -3.7029808755455926,
          -3.637741035389707,
          null
         ],
         "y": [
          40.37595000318738,
          40.48201214532898,
          null
         ]
        },
        {
         "hoverinfo": "text",
         "line": {
          "color": "rgba(234.94117647058826, 247.23529411764704, 227.8823529411764, 1.0)",
          "width": 4.3721149380103865
         },
         "mode": "lines",
         "showlegend": false,
         "text": "Width: 4.37",
         "type": "scatter",
         "x": [
          -3.7029808755455926,
          -3.695056256825152,
          null
         ],
         "y": [
          40.37595000318738,
          40.34253624126977,
          null
         ]
        },
        {
         "hoverinfo": "text",
         "line": {
          "color": "rgba(90.19607843137256, 142.2549019607843, 193.07843137254903, 1.0)",
          "width": 1.470621447619564
         },
         "mode": "lines",
         "showlegend": false,
         "text": "Width: 1.47",
         "type": "scatter",
         "x": [
          -3.7029808755455926,
          -3.6160073912284756,
          null
         ],
         "y": [
          40.37595000318738,
          40.34992967757026,
          null
         ]
        },
        {
         "hoverinfo": "text",
         "line": {
          "color": "rgba(59.196078431372555, 86.11764705882355, 164.8039215686275, 1.0)",
          "width": 0.5298050923037941
         },
         "mode": "lines",
         "showlegend": false,
         "text": "Width: 0.53",
         "type": "scatter",
         "x": [
          -3.7029808755455926,
          -3.572894771748725,
          null
         ],
         "y": [
          40.37595000318738,
          40.39356859265691,
          null
         ]
        },
        {
         "hoverinfo": "text",
         "line": {
          "color": "rgba(67.8235294117647, 113.29411764705883, 178.1764705882353, 1.0)",
          "width": 0.9502630334070068
         },
         "mode": "lines",
         "showlegend": false,
         "text": "Width: 0.95",
         "type": "scatter",
         "x": [
          -3.7029808755455926,
          -3.5986526886701378,
          null
         ],
         "y": [
          40.37595000318738,
          40.43466852782298,
          null
         ]
        },
        {
         "hoverinfo": "text",
         "line": {
          "color": "rgba(59.98039215686274, 88.58823529411765, 166.01960784313727, 1.0)",
          "width": 0.5502440199963113
         },
         "mode": "lines",
         "showlegend": false,
         "text": "Width: 0.55",
         "type": "scatter",
         "x": [
          -3.7029808755455926,
          -3.574543479322823,
          null
         ],
         "y": [
          40.37595000318738,
          40.4757410696608,
          null
         ]
        },
        {
         "hoverinfo": "text",
         "line": {
          "color": "rgba(99.41176470588236, 153.2352941176471, 198.76470588235296, 1.0)",
          "width": 1.6624299708253047
         },
         "mode": "lines",
         "showlegend": false,
         "text": "Width: 1.66",
         "type": "scatter",
         "x": [
          -3.6598634715735407,
          -3.705268804063821,
          null
         ],
         "y": [
          40.38355078734683,
          40.41733007020507,
          null
         ]
        },
        {
         "hoverinfo": "text",
         "line": {
          "color": "rgba(159.1372549019608, 207.50980392156865, 227.82352941176472, 1.0)",
          "width": 2.799974436566205
         },
         "mode": "lines",
         "showlegend": false,
         "text": "Width: 2.80",
         "type": "scatter",
         "x": [
          -3.6598634715735407,
          -3.6966151949203576,
          null
         ],
         "y": [
          40.38355078734683,
          40.398119933450886,
          null
         ]
        },
        {
         "hoverinfo": "text",
         "line": {
          "color": "rgba(203.21568627450984, 232.80392156862746, 242.11764705882354, 1.0)",
          "width": 3.617087985806372
         },
         "mode": "lines",
         "showlegend": false,
         "text": "Width: 3.62",
         "type": "scatter",
         "x": [
          -3.6598634715735407,
          -3.67643837848883,
          null
         ],
         "y": [
          40.38355078734683,
          40.41138084576659,
          null
         ]
        },
        {
         "hoverinfo": "text",
         "line": {
          "color": "rgba(99.41176470588236, 153.2352941176471, 198.76470588235296, 1.0)",
          "width": 1.6465408344698962
         },
         "mode": "lines",
         "showlegend": false,
         "text": "Width: 1.65",
         "type": "scatter",
         "x": [
          -3.6598634715735407,
          -3.6737887354917422,
          null
         ],
         "y": [
          40.38355078734683,
          40.43018370922185,
          null
         ]
        },
        {
         "hoverinfo": "text",
         "line": {
          "color": "rgba(84.66666666666667, 135.66666666666669, 189.66666666666669, 1.0)",
          "width": 1.346412703312183
         },
         "mode": "lines",
         "showlegend": false,
         "text": "Width: 1.35",
         "type": "scatter",
         "x": [
          -3.6598634715735407,
          -3.678150006537061,
          null
         ],
         "y": [
          40.38355078734683,
          40.45750039357669,
          null
         ]
        },
        {
         "hoverinfo": "text",
         "line": {
          "color": "rgba(73.60784313725492, 122.49019607843138, 182.84313725490196, 1.0)",
          "width": 1.116314469424603
         },
         "mode": "lines",
         "showlegend": false,
         "text": "Width: 1.12",
         "type": "scatter",
         "x": [
          -3.6598634715735407,
          -3.6999935507976827,
          null
         ],
         "y": [
          40.38355078734683,
          40.4606484776773,
          null
         ]
        },
        {
         "hoverinfo": "text",
         "line": {
          "color": "rgba(82.82352941176471, 133.47058823529412, 188.5294117647059, 1.0)",
          "width": 1.2919776991316174
         },
         "mode": "lines",
         "showlegend": false,
         "text": "Width: 1.29",
         "type": "scatter",
         "x": [
          -3.6598634715735407,
          -3.703523951395161,
          null
         ],
         "y": [
          40.38355078734683,
          40.4375595509298,
          null
         ]
        },
        {
         "hoverinfo": "text",
         "line": {
          "color": "rgba(75.45098039215688, 124.68627450980394, 183.98039215686276, 1.0)",
          "width": 1.149563958464624
         },
         "mode": "lines",
         "showlegend": false,
         "text": "Width: 1.15",
         "type": "scatter",
         "x": [
          -3.6598634715735407,
          -3.753579560856663,
          null
         ],
         "y": [
          40.38355078734683,
          40.54479435831404,
          null
         ]
        },
        {
         "hoverinfo": "text",
         "line": {
          "color": "rgba(82.82352941176471, 133.47058823529412, 188.5294117647059, 1.0)",
          "width": 1.3216962689815477
         },
         "mode": "lines",
         "showlegend": false,
         "text": "Width: 1.32",
         "type": "scatter",
         "x": [
          -3.6598634715735407,
          -3.757223268157654,
          null
         ],
         "y": [
          40.38355078734683,
          40.44543508494524,
          null
         ]
        },
        {
         "hoverinfo": "text",
         "line": {
          "color": "rgba(67.8235294117647, 113.29411764705883, 178.1764705882353, 1.0)",
          "width": 0.9453591319710432
         },
         "mode": "lines",
         "showlegend": false,
         "text": "Width: 0.95",
         "type": "scatter",
         "x": [
          -3.6598634715735407,
          -3.778616540618283,
          null
         ],
         "y": [
          40.38355078734683,
          40.385273701511004,
          null
         ]
        },
        {
         "hoverinfo": "text",
         "line": {
          "color": "rgba(77.29411764705883, 126.88235294117649, 185.11764705882354, 1.0)",
          "width": 1.198408340594213
         },
         "mode": "lines",
         "showlegend": false,
         "text": "Width: 1.20",
         "type": "scatter",
         "x": [
          -3.6598634715735407,
          -3.737112400757822,
          null
         ],
         "y": [
          40.38355078734683,
          40.378840354576816,
          null
         ]
        },
        {
         "hoverinfo": "text",
         "line": {
          "color": "rgba(156.98039215686276, 205.78431372549022, 226.88235294117646, 1.0)",
          "width": 2.7548080952596288
         },
         "mode": "lines",
         "showlegend": false,
         "text": "Width: 2.75",
         "type": "scatter",
         "x": [
          -3.6598634715735407,
          -3.7029808755455926,
          null
         ],
         "y": [
          40.38355078734683,
          40.37595000318738,
          null
         ]
        },
        {
         "hoverinfo": "text",
         "line": {
          "color": "rgba(231.29411764705884, 245.8235294117647, 234.5882352941176, 1.0)",
          "width": 4.255301629415274
         },
         "mode": "lines",
         "showlegend": false,
         "text": "Width: 4.26",
         "type": "scatter",
         "x": [
          -3.6598634715735407,
          -3.6598634715735407,
          null
         ],
         "y": [
          40.38355078734683,
          40.38355078734683,
          null
         ]
        },
        {
         "hoverinfo": "text",
         "line": {
          "color": "rgba(169.921568627451, 216.1372549019608, 232.52941176470588, 1.0)",
          "width": 2.9946163569199578
         },
         "mode": "lines",
         "showlegend": false,
         "text": "Width: 2.99",
         "type": "scatter",
         "x": [
          -3.6598634715735407,
          -3.6413909394895803,
          null
         ],
         "y": [
          40.38355078734683,
          40.40661270611631,
          null
         ]
        },
        {
         "hoverinfo": "text",
         "line": {
          "color": "rgba(80.98039215686276, 131.2745098039216, 187.3921568627451, 1.0)",
          "width": 1.2846216174855951
         },
         "mode": "lines",
         "showlegend": false,
         "text": "Width: 1.28",
         "type": "scatter",
         "x": [
          -3.6598634715735407,
          -3.649948514601449,
          null
         ],
         "y": [
          40.38355078734683,
          40.43926990707227,
          null
         ]
        },
        {
         "hoverinfo": "text",
         "line": {
          "color": "rgba(77.29411764705883, 126.88235294117649, 185.11764705882354, 1.0)",
          "width": 1.2085597332657239
         },
         "mode": "lines",
         "showlegend": false,
         "text": "Width: 1.21",
         "type": "scatter",
         "x": [
          -3.6598634715735407,
          -3.637741035389707,
          null
         ],
         "y": [
          40.38355078734683,
          40.48201214532898,
          null
         ]
        },
        {
         "hoverinfo": "text",
         "line": {
          "color": "rgba(126.78431372549022, 181.62745098039218, 213.7058823529412, 1.0)",
          "width": 2.2106051750868922
         },
         "mode": "lines",
         "showlegend": false,
         "text": "Width: 2.21",
         "type": "scatter",
         "x": [
          -3.6598634715735407,
          -3.695056256825152,
          null
         ],
         "y": [
          40.38355078734683,
          40.34253624126977,
          null
         ]
        },
        {
         "hoverinfo": "text",
         "line": {
          "color": "rgba(211.52941176470594, 236.8823529411765, 244.47058823529412, 1.0)",
          "width": 3.77083009220824
         },
         "mode": "lines",
         "showlegend": false,
         "text": "Width: 3.77",
         "type": "scatter",
         "x": [
          -3.6598634715735407,
          -3.6160073912284756,
          null
         ],
         "y": [
          40.38355078734683,
          40.34992967757026,
          null
         ]
        },
        {
         "hoverinfo": "text",
         "line": {
          "color": "rgba(126.78431372549022, 181.62745098039218, 213.7058823529412, 1.0)",
          "width": 2.189272538313427
         },
         "mode": "lines",
         "showlegend": false,
         "text": "Width: 2.19",
         "type": "scatter",
         "x": [
          -3.6598634715735407,
          -3.572894771748725,
          null
         ],
         "y": [
          40.38355078734683,
          40.39356859265691,
          null
         ]
        },
        {
         "hoverinfo": "text",
         "line": {
          "color": "rgba(73.60784313725492, 122.49019607843138, 182.84313725490196, 1.0)",
          "width": 1.1052803469555694
         },
         "mode": "lines",
         "showlegend": false,
         "text": "Width: 1.11",
         "type": "scatter",
         "x": [
          -3.6598634715735407,
          -3.5986526886701378,
          null
         ],
         "y": [
          40.38355078734683,
          40.43466852782298,
          null
         ]
        },
        {
         "hoverinfo": "text",
         "line": {
          "color": "rgba(69.921568627451, 118.09803921568628, 180.56862745098042, 1.0)",
          "width": 1.0205382863933916
         },
         "mode": "lines",
         "showlegend": false,
         "text": "Width: 1.02",
         "type": "scatter",
         "x": [
          -3.6598634715735407,
          -3.574543479322823,
          null
         ],
         "y": [
          40.38355078734683,
          40.4757410696608,
          null
         ]
        },
        {
         "hoverinfo": "text",
         "line": {
          "color": "rgba(93.88235294117649, 146.64705882352945, 195.3529411764706, 1.0)",
          "width": 1.5590197877369805
         },
         "mode": "lines",
         "showlegend": false,
         "text": "Width: 1.56",
         "type": "scatter",
         "x": [
          -3.6413909394895803,
          -3.705268804063821,
          null
         ],
         "y": [
          40.40661270611631,
          40.41733007020507,
          null
         ]
        },
        {
         "hoverinfo": "text",
         "line": {
          "color": "rgba(65.47058823529412, 105.88235294117648, 174.52941176470588, 1.0)",
          "width": 0.8584854433423648
         },
         "mode": "lines",
         "showlegend": false,
         "text": "Width: 0.86",
         "type": "scatter",
         "x": [
          -3.6413909394895803,
          -3.6966151949203576,
          null
         ],
         "y": [
          40.40661270611631,
          40.398119933450886,
          null
         ]
        },
        {
         "hoverinfo": "text",
         "line": {
          "color": "rgba(236.15686274509804, 247.7058823529412, 225.64705882352936, 1.0)",
          "width": 4.397740373050615
         },
         "mode": "lines",
         "showlegend": false,
         "text": "Width: 4.40",
         "type": "scatter",
         "x": [
          -3.6413909394895803,
          -3.67643837848883,
          null
         ],
         "y": [
          40.40661270611631,
          40.41138084576659,
          null
         ]
        },
        {
         "hoverinfo": "text",
         "line": {
          "color": "rgba(211.52941176470594, 236.8823529411765, 244.47058823529412, 1.0)",
          "width": 3.7612834484157402
         },
         "mode": "lines",
         "showlegend": false,
         "text": "Width: 3.76",
         "type": "scatter",
         "x": [
          -3.6413909394895803,
          -3.6737887354917422,
          null
         ],
         "y": [
          40.40661270611631,
          40.43018370922185,
          null
         ]
        },
        {
         "hoverinfo": "text",
         "line": {
          "color": "rgba(80.98039215686276, 131.2745098039216, 187.3921568627451, 1.0)",
          "width": 1.2872588159899936
         },
         "mode": "lines",
         "showlegend": false,
         "text": "Width: 1.29",
         "type": "scatter",
         "x": [
          -3.6413909394895803,
          -3.678150006537061,
          null
         ],
         "y": [
          40.40661270611631,
          40.45750039357669,
          null
         ]
        },
        {
         "hoverinfo": "text",
         "line": {
          "color": "rgba(63.90196078431372, 100.94117647058825, 172.0980392156863, 1.0)",
          "width": 0.755098117134272
         },
         "mode": "lines",
         "showlegend": false,
         "text": "Width: 0.76",
         "type": "scatter",
         "x": [
          -3.6413909394895803,
          -3.6999935507976827,
          null
         ],
         "y": [
          40.40661270611631,
          40.4606484776773,
          null
         ]
        },
        {
         "hoverinfo": "text",
         "line": {
          "color": "rgba(80.98039215686276, 131.2745098039216, 187.3921568627451, 1.0)",
          "width": 1.272943647745796
         },
         "mode": "lines",
         "showlegend": false,
         "text": "Width: 1.27",
         "type": "scatter",
         "x": [
          -3.6413909394895803,
          -3.703523951395161,
          null
         ],
         "y": [
          40.40661270611631,
          40.4375595509298,
          null
         ]
        },
        {
         "hoverinfo": "text",
         "line": {
          "color": "rgba(80.98039215686276, 131.2745098039216, 187.3921568627451, 1.0)",
          "width": 1.2720347481747358
         },
         "mode": "lines",
         "showlegend": false,
         "text": "Width: 1.27",
         "type": "scatter",
         "x": [
          -3.6413909394895803,
          -3.753579560856663,
          null
         ],
         "y": [
          40.40661270611631,
          40.54479435831404,
          null
         ]
        },
        {
         "hoverinfo": "text",
         "line": {
          "color": "rgba(68.6078431372549, 115.76470588235296, 179.3921568627451, 1.0)",
          "width": 0.9864130579690817
         },
         "mode": "lines",
         "showlegend": false,
         "text": "Width: 0.99",
         "type": "scatter",
         "x": [
          -3.6413909394895803,
          -3.757223268157654,
          null
         ],
         "y": [
          40.40661270611631,
          40.44543508494524,
          null
         ]
        },
        {
         "hoverinfo": "text",
         "line": {
          "color": "rgba(57.62745098039216, 81.17647058823529, 162.37254901960785, 1.0)",
          "width": 0.5
         },
         "mode": "lines",
         "showlegend": false,
         "text": "Width: 0.50",
         "type": "scatter",
         "x": [
          -3.6413909394895803,
          -3.778616540618283,
          null
         ],
         "y": [
          40.40661270611631,
          40.385273701511004,
          null
         ]
        },
        {
         "hoverinfo": "text",
         "line": {
          "color": "rgba(62.333333333333336, 96.0, 169.66666666666669, 1.0)",
          "width": 0.6748877299882131
         },
         "mode": "lines",
         "showlegend": false,
         "text": "Width: 0.67",
         "type": "scatter",
         "x": [
          -3.6413909394895803,
          -3.737112400757822,
          null
         ],
         "y": [
          40.40661270611631,
          40.378840354576816,
          null
         ]
        },
        {
         "hoverinfo": "text",
         "line": {
          "color": "rgba(59.98039215686274, 88.58823529411765, 166.01960784313727, 1.0)",
          "width": 0.5803621745979568
         },
         "mode": "lines",
         "showlegend": false,
         "text": "Width: 0.58",
         "type": "scatter",
         "x": [
          -3.6413909394895803,
          -3.7029808755455926,
          null
         ],
         "y": [
          40.40661270611631,
          40.37595000318738,
          null
         ]
        },
        {
         "hoverinfo": "text",
         "line": {
          "color": "rgba(248.31372549019608, 252.41176470588232, 203.29411764705884, 1.0)",
          "width": 4.7785692933248205
         },
         "mode": "lines",
         "showlegend": false,
         "text": "Width: 4.78",
         "type": "scatter",
         "x": [
          -3.6413909394895803,
          -3.6598634715735407,
          null
         ],
         "y": [
          40.40661270611631,
          40.38355078734683,
          null
         ]
        },
        {
         "hoverinfo": "text",
         "line": {
          "color": "rgba(230.07843137254906, 245.3529411764706, 236.82352941176467, 1.0)",
          "width": 4.187330122350188
         },
         "mode": "lines",
         "showlegend": false,
         "text": "Width: 4.19",
         "type": "scatter",
         "x": [
          -3.6413909394895803,
          -3.6413909394895803,
          null
         ],
         "y": [
          40.40661270611631,
          40.40661270611631,
          null
         ]
        },
        {
         "hoverinfo": "text",
         "line": {
          "color": "rgba(213.60784313725495, 237.90196078431376, 245.05882352941177, 1.0)",
          "width": 3.8158174226793498
         },
         "mode": "lines",
         "showlegend": false,
         "text": "Width: 3.82",
         "type": "scatter",
         "x": [
          -3.6413909394895803,
          -3.649948514601449,
          null
         ],
         "y": [
          40.40661270611631,
          40.43926990707227,
          null
         ]
        },
        {
         "hoverinfo": "text",
         "line": {
          "color": "rgba(67.8235294117647, 113.29411764705883, 178.1764705882353, 1.0)",
          "width": 0.947330376413495
         },
         "mode": "lines",
         "showlegend": false,
         "text": "Width: 0.95",
         "type": "scatter",
         "x": [
          -3.6413909394895803,
          -3.637741035389707,
          null
         ],
         "y": [
          40.40661270611631,
          40.48201214532898,
          null
         ]
        },
        {
         "hoverinfo": "text",
         "line": {
          "color": "rgba(56.84313725490196, 78.70588235294117, 161.15686274509807, 1.0)",
          "width": 0.5
         },
         "mode": "lines",
         "showlegend": false,
         "text": "Width: 0.50",
         "type": "scatter",
         "x": [
          -3.6413909394895803,
          -3.695056256825152,
          null
         ],
         "y": [
          40.40661270611631,
          40.34253624126977,
          null
         ]
        },
        {
         "hoverinfo": "text",
         "line": {
          "color": "rgba(124.62745098039218, 179.90196078431376, 212.76470588235296, 1.0)",
          "width": 2.1841154677336028
         },
         "mode": "lines",
         "showlegend": false,
         "text": "Width: 2.18",
         "type": "scatter",
         "x": [
          -3.6413909394895803,
          -3.6160073912284756,
          null
         ],
         "y": [
          40.40661270611631,
          40.34992967757026,
          null
         ]
        },
        {
         "hoverinfo": "text",
         "line": {
          "color": "rgba(186.58823529411765, 224.64705882352942, 237.41176470588235, 1.0)",
          "width": 3.3077425624567223
         },
         "mode": "lines",
         "showlegend": false,
         "text": "Width: 3.31",
         "type": "scatter",
         "x": [
          -3.6413909394895803,
          -3.572894771748725,
          null
         ],
         "y": [
          40.40661270611631,
          40.39356859265691,
          null
         ]
        },
        {
         "hoverinfo": "text",
         "line": {
          "color": "rgba(150.50980392156868, 200.60784313725495, 224.05882352941177, 1.0)",
          "width": 2.649699273009168
         },
         "mode": "lines",
         "showlegend": false,
         "text": "Width: 2.65",
         "type": "scatter",
         "x": [
          -3.6413909394895803,
          -3.5986526886701378,
          null
         ],
         "y": [
          40.40661270611631,
          40.43466852782298,
          null
         ]
        },
        {
         "hoverinfo": "text",
         "line": {
          "color": "rgba(63.90196078431372, 100.94117647058825, 172.0980392156863, 1.0)",
          "width": 0.768504385807409
         },
         "mode": "lines",
         "showlegend": false,
         "text": "Width: 0.77",
         "type": "scatter",
         "x": [
          -3.6413909394895803,
          -3.574543479322823,
          null
         ],
         "y": [
          40.40661270611631,
          40.4757410696608,
          null
         ]
        },
        {
         "hoverinfo": "text",
         "line": {
          "color": "rgba(95.72549019607845, 148.843137254902, 196.49019607843138, 1.0)",
          "width": 1.5636180897640743
         },
         "mode": "lines",
         "showlegend": false,
         "text": "Width: 1.56",
         "type": "scatter",
         "x": [
          -3.649948514601449,
          -3.705268804063821,
          null
         ],
         "y": [
          40.43926990707227,
          40.41733007020507,
          null
         ]
        },
        {
         "hoverinfo": "text",
         "line": {
          "color": "rgba(64.68627450980392, 103.41176470588235, 173.3137254901961, 1.0)",
          "width": 0.8022895181674586
         },
         "mode": "lines",
         "showlegend": false,
         "text": "Width: 0.80",
         "type": "scatter",
         "x": [
          -3.649948514601449,
          -3.6966151949203576,
          null
         ],
         "y": [
          40.43926990707227,
          40.398119933450886,
          null
         ]
        },
        {
         "hoverinfo": "text",
         "line": {
          "color": "rgba(135.41176470588238, 188.5294117647059, 217.47058823529412, 1.0)",
          "width": 2.380022195888148
         },
         "mode": "lines",
         "showlegend": false,
         "text": "Width: 2.38",
         "type": "scatter",
         "x": [
          -3.649948514601449,
          -3.67643837848883,
          null
         ],
         "y": [
          40.43926990707227,
          40.41138084576659,
          null
         ]
        },
        {
         "hoverinfo": "text",
         "line": {
          "color": "rgba(236.15686274509804, 247.7058823529412, 225.64705882352936, 1.0)",
          "width": 4.405119919036955
         },
         "mode": "lines",
         "showlegend": false,
         "text": "Width: 4.41",
         "type": "scatter",
         "x": [
          -3.649948514601449,
          -3.6737887354917422,
          null
         ],
         "y": [
          40.43926990707227,
          40.43018370922185,
          null
         ]
        },
        {
         "hoverinfo": "text",
         "line": {
          "color": "rgba(215.68627450980395, 238.921568627451, 245.64705882352942, 1.0)",
          "width": 3.8306194331277914
         },
         "mode": "lines",
         "showlegend": false,
         "text": "Width: 3.83",
         "type": "scatter",
         "x": [
          -3.649948514601449,
          -3.678150006537061,
          null
         ],
         "y": [
          40.43926990707227,
          40.45750039357669,
          null
         ]
        },
        {
         "hoverinfo": "text",
         "line": {
          "color": "rgba(75.45098039215688, 124.68627450980394, 183.98039215686276, 1.0)",
          "width": 1.1526952393376575
         },
         "mode": "lines",
         "showlegend": false,
         "text": "Width: 1.15",
         "type": "scatter",
         "x": [
          -3.649948514601449,
          -3.6999935507976827,
          null
         ],
         "y": [
          40.43926990707227,
          40.4606484776773,
          null
         ]
        },
        {
         "hoverinfo": "text",
         "line": {
          "color": "rgba(92.03921568627452, 144.4509803921569, 194.2156862745098, 1.0)",
          "width": 1.4890847316610485
         },
         "mode": "lines",
         "showlegend": false,
         "text": "Width: 1.49",
         "type": "scatter",
         "x": [
          -3.649948514601449,
          -3.703523951395161,
          null
         ],
         "y": [
          40.43926990707227,
          40.4375595509298,
          null
         ]
        },
        {
         "hoverinfo": "text",
         "line": {
          "color": "rgba(120.31372549019609, 176.45098039215688, 210.88235294117646, 1.0)",
          "width": 2.090133603974167
         },
         "mode": "lines",
         "showlegend": false,
         "text": "Width: 2.09",
         "type": "scatter",
         "x": [
          -3.649948514601449,
          -3.753579560856663,
          null
         ],
         "y": [
          40.43926990707227,
          40.54479435831404,
          null
         ]
        },
        {
         "hoverinfo": "text",
         "line": {
          "color": "rgba(84.66666666666667, 135.66666666666669, 189.66666666666669, 1.0)",
          "width": 1.330454000477175
         },
         "mode": "lines",
         "showlegend": false,
         "text": "Width: 1.33",
         "type": "scatter",
         "x": [
          -3.649948514601449,
          -3.757223268157654,
          null
         ],
         "y": [
          40.43926990707227,
          40.44543508494524,
          null
         ]
        },
        {
         "hoverinfo": "text",
         "line": {
          "color": "rgba(59.196078431372555, 86.11764705882355, 164.8039215686275, 1.0)",
          "width": 0.5374652413677693
         },
         "mode": "lines",
         "showlegend": false,
         "text": "Width: 0.54",
         "type": "scatter",
         "x": [
          -3.649948514601449,
          -3.778616540618283,
          null
         ],
         "y": [
          40.43926990707227,
          40.385273701511004,
          null
         ]
        },
        {
         "hoverinfo": "text",
         "line": {
          "color": "rgba(65.47058823529412, 105.88235294117648, 174.52941176470588, 1.0)",
          "width": 0.8240558970825015
         },
         "mode": "lines",
         "showlegend": false,
         "text": "Width: 0.82",
         "type": "scatter",
         "x": [
          -3.649948514601449,
          -3.737112400757822,
          null
         ],
         "y": [
          40.43926990707227,
          40.378840354576816,
          null
         ]
        },
        {
         "hoverinfo": "text",
         "line": {
          "color": "rgba(58.411764705882355, 83.64705882352942, 163.58823529411765, 1.0)",
          "width": 0.504156085755355
         },
         "mode": "lines",
         "showlegend": false,
         "text": "Width: 0.50",
         "type": "scatter",
         "x": [
          -3.649948514601449,
          -3.7029808755455926,
          null
         ],
         "y": [
          40.43926990707227,
          40.37595000318738,
          null
         ]
        },
        {
         "hoverinfo": "text",
         "line": {
          "color": "rgba(67.8235294117647, 113.29411764705883, 178.1764705882353, 1.0)",
          "width": 0.963063907880844
         },
         "mode": "lines",
         "showlegend": false,
         "text": "Width: 0.96",
         "type": "scatter",
         "x": [
          -3.649948514601449,
          -3.6598634715735407,
          null
         ],
         "y": [
          40.43926990707227,
          40.38355078734683,
          null
         ]
        },
        {
         "hoverinfo": "text",
         "line": {
          "color": "rgba(188.6666666666667, 225.66666666666669, 238.0, 1.0)",
          "width": 3.3543974459562453
         },
         "mode": "lines",
         "showlegend": false,
         "text": "Width: 3.35",
         "type": "scatter",
         "x": [
          -3.649948514601449,
          -3.6413909394895803,
          null
         ],
         "y": [
          40.43926990707227,
          40.40661270611631,
          null
         ]
        },
        {
         "hoverinfo": "text",
         "line": {
          "color": "rgba(233.72549019607845, 246.76470588235296, 230.11764705882348, 1.0)",
          "width": 4.309479769258735
         },
         "mode": "lines",
         "showlegend": false,
         "text": "Width: 4.31",
         "type": "scatter",
         "x": [
          -3.649948514601449,
          -3.649948514601449,
          null
         ],
         "y": [
          40.43926990707227,
          40.43926990707227,
          null
         ]
        },
        {
         "hoverinfo": "text",
         "line": {
          "color": "rgba(180.3529411764706, 221.58823529411765, 235.64705882352942, 1.0)",
          "width": 3.1946124371026343
         },
         "mode": "lines",
         "showlegend": false,
         "text": "Width: 3.19",
         "type": "scatter",
         "x": [
          -3.649948514601449,
          -3.637741035389707,
          null
         ],
         "y": [
          40.43926990707227,
          40.48201214532898,
          null
         ]
        },
        {
         "hoverinfo": "text",
         "line": {
          "color": "rgba(57.62745098039216, 81.17647058823529, 162.37254901960785, 1.0)",
          "width": 0.5
         },
         "mode": "lines",
         "showlegend": false,
         "text": "Width: 0.50",
         "type": "scatter",
         "x": [
          -3.649948514601449,
          -3.695056256825152,
          null
         ],
         "y": [
          40.43926990707227,
          40.34253624126977,
          null
         ]
        },
        {
         "hoverinfo": "text",
         "line": {
          "color": "rgba(63.90196078431372, 100.94117647058825, 172.0980392156863, 1.0)",
          "width": 0.7470490868300389
         },
         "mode": "lines",
         "showlegend": false,
         "text": "Width: 0.75",
         "type": "scatter",
         "x": [
          -3.649948514601449,
          -3.6160073912284756,
          null
         ],
         "y": [
          40.43926990707227,
          40.34992967757026,
          null
         ]
        },
        {
         "hoverinfo": "text",
         "line": {
          "color": "rgba(101.25490196078432, 155.4313725490196, 199.90196078431376, 1.0)",
          "width": 1.7174668134590372
         },
         "mode": "lines",
         "showlegend": false,
         "text": "Width: 1.72",
         "type": "scatter",
         "x": [
          -3.649948514601449,
          -3.572894771748725,
          null
         ],
         "y": [
          40.43926990707227,
          40.39356859265691,
          null
         ]
        },
        {
         "hoverinfo": "text",
         "line": {
          "color": "rgba(226.43137254901964, 243.94117647058823, 243.52941176470583, 1.0)",
          "width": 4.090496805628607
         },
         "mode": "lines",
         "showlegend": false,
         "text": "Width: 4.09",
         "type": "scatter",
         "x": [
          -3.649948514601449,
          -3.5986526886701378,
          null
         ],
         "y": [
          40.43926990707227,
          40.43466852782298,
          null
         ]
        },
        {
         "hoverinfo": "text",
         "line": {
          "color": "rgba(75.45098039215688, 124.68627450980394, 183.98039215686276, 1.0)",
          "width": 1.1541793106273197
         },
         "mode": "lines",
         "showlegend": false,
         "text": "Width: 1.15",
         "type": "scatter",
         "x": [
          -3.649948514601449,
          -3.574543479322823,
          null
         ],
         "y": [
          40.43926990707227,
          40.4757410696608,
          null
         ]
        },
        {
         "hoverinfo": "text",
         "line": {
          "color": "rgba(101.25490196078432, 155.4313725490196, 199.90196078431376, 1.0)",
          "width": 1.691089803092798
         },
         "mode": "lines",
         "showlegend": false,
         "text": "Width: 1.69",
         "type": "scatter",
         "x": [
          -3.637741035389707,
          -3.705268804063821,
          null
         ],
         "y": [
          40.48201214532898,
          40.41733007020507,
          null
         ]
        },
        {
         "hoverinfo": "text",
         "line": {
          "color": "rgba(64.68627450980392, 103.41176470588235, 173.3137254901961, 1.0)",
          "width": 0.8040672740262014
         },
         "mode": "lines",
         "showlegend": false,
         "text": "Width: 0.80",
         "type": "scatter",
         "x": [
          -3.637741035389707,
          -3.6966151949203576,
          null
         ],
         "y": [
          40.48201214532898,
          40.398119933450886,
          null
         ]
        },
        {
         "hoverinfo": "text",
         "line": {
          "color": "rgba(69.921568627451, 118.09803921568628, 180.56862745098042, 1.0)",
          "width": 1.0329024288253068
         },
         "mode": "lines",
         "showlegend": false,
         "text": "Width: 1.03",
         "type": "scatter",
         "x": [
          -3.637741035389707,
          -3.67643837848883,
          null
         ],
         "y": [
          40.48201214532898,
          40.41138084576659,
          null
         ]
        },
        {
         "hoverinfo": "text",
         "line": {
          "color": "rgba(108.62745098039218, 164.21568627450984, 204.45098039215688, 1.0)",
          "width": 1.8503790600730674
         },
         "mode": "lines",
         "showlegend": false,
         "text": "Width: 1.85",
         "type": "scatter",
         "x": [
          -3.637741035389707,
          -3.6737887354917422,
          null
         ],
         "y": [
          40.48201214532898,
          40.43018370922185,
          null
         ]
        },
        {
         "hoverinfo": "text",
         "line": {
          "color": "rgba(219.84313725490202, 240.9607843137255, 246.82352941176472, 1.0)",
          "width": 3.912185887025518
         },
         "mode": "lines",
         "showlegend": false,
         "text": "Width: 3.91",
         "type": "scatter",
         "x": [
          -3.637741035389707,
          -3.678150006537061,
          null
         ],
         "y": [
          40.48201214532898,
          40.45750039357669,
          null
         ]
        },
        {
         "hoverinfo": "text",
         "line": {
          "color": "rgba(88.35294117647061, 140.0588235294118, 191.94117647058823, 1.0)",
          "width": 1.4129062118174522
         },
         "mode": "lines",
         "showlegend": false,
         "text": "Width: 1.41",
         "type": "scatter",
         "x": [
          -3.637741035389707,
          -3.6999935507976827,
          null
         ],
         "y": [
          40.48201214532898,
          40.4606484776773,
          null
         ]
        },
        {
         "hoverinfo": "text",
         "line": {
          "color": "rgba(99.41176470588236, 153.2352941176471, 198.76470588235296, 1.0)",
          "width": 1.6454893491337403
         },
         "mode": "lines",
         "showlegend": false,
         "text": "Width: 1.65",
         "type": "scatter",
         "x": [
          -3.637741035389707,
          -3.703523951395161,
          null
         ],
         "y": [
          40.48201214532898,
          40.4375595509298,
          null
         ]
        },
        {
         "hoverinfo": "text",
         "line": {
          "color": "rgba(247.09803921568627, 251.94117647058823, 205.52941176470588, 1.0)",
          "width": 4.7448626695929645
         },
         "mode": "lines",
         "showlegend": false,
         "text": "Width: 4.74",
         "type": "scatter",
         "x": [
          -3.637741035389707,
          -3.753579560856663,
          null
         ],
         "y": [
          40.48201214532898,
          40.54479435831404,
          null
         ]
        },
        {
         "hoverinfo": "text",
         "line": {
          "color": "rgba(92.03921568627452, 144.4509803921569, 194.2156862745098, 1.0)",
          "width": 1.492654950933064
         },
         "mode": "lines",
         "showlegend": false,
         "text": "Width: 1.49",
         "type": "scatter",
         "x": [
          -3.637741035389707,
          -3.757223268157654,
          null
         ],
         "y": [
          40.48201214532898,
          40.44543508494524,
          null
         ]
        },
        {
         "hoverinfo": "text",
         "line": {
          "color": "rgba(54.490196078431374, 71.29411764705883, 157.50980392156865, 1.0)",
          "width": 0.5
         },
         "mode": "lines",
         "showlegend": false,
         "text": "Width: 0.50",
         "type": "scatter",
         "x": [
          -3.637741035389707,
          -3.778616540618283,
          null
         ],
         "y": [
          40.48201214532898,
          40.385273701511004,
          null
         ]
        },
        {
         "hoverinfo": "text",
         "line": {
          "color": "rgba(56.84313725490196, 78.70588235294117, 161.15686274509807, 1.0)",
          "width": 0.5
         },
         "mode": "lines",
         "showlegend": false,
         "text": "Width: 0.50",
         "type": "scatter",
         "x": [
          -3.637741035389707,
          -3.737112400757822,
          null
         ],
         "y": [
          40.48201214532898,
          40.378840354576816,
          null
         ]
        },
        {
         "hoverinfo": "text",
         "line": {
          "color": "rgba(54.490196078431374, 71.29411764705883, 157.50980392156865, 1.0)",
          "width": 0.5
         },
         "mode": "lines",
         "showlegend": false,
         "text": "Width: 0.50",
         "type": "scatter",
         "x": [
          -3.637741035389707,
          -3.7029808755455926,
          null
         ],
         "y": [
          40.48201214532898,
          40.37595000318738,
          null
         ]
        },
        {
         "hoverinfo": "text",
         "line": {
          "color": "rgba(63.90196078431372, 100.94117647058825, 172.0980392156863, 1.0)",
          "width": 0.7518037400365966
         },
         "mode": "lines",
         "showlegend": false,
         "text": "Width: 0.75",
         "type": "scatter",
         "x": [
          -3.637741035389707,
          -3.6598634715735407,
          null
         ],
         "y": [
          40.48201214532898,
          40.38355078734683,
          null
         ]
        },
        {
         "hoverinfo": "text",
         "line": {
          "color": "rgba(54.490196078431374, 71.29411764705883, 157.50980392156865, 1.0)",
          "width": 0.5
         },
         "mode": "lines",
         "showlegend": false,
         "text": "Width: 0.50",
         "type": "scatter",
         "x": [
          -3.637741035389707,
          -3.6413909394895803,
          null
         ],
         "y": [
          40.48201214532898,
          40.40661270611631,
          null
         ]
        },
        {
         "hoverinfo": "text",
         "line": {
          "color": "rgba(238.58823529411765, 248.6470588235294, 221.1764705882353, 1.0)",
          "width": 4.4775065833672585
         },
         "mode": "lines",
         "showlegend": false,
         "text": "Width: 4.48",
         "type": "scatter",
         "x": [
          -3.637741035389707,
          -3.649948514601449,
          null
         ],
         "y": [
          40.48201214532898,
          40.43926990707227,
          null
         ]
        },
        {
         "hoverinfo": "text",
         "line": {
          "color": "rgba(253.49019607843138, 198.50980392156865, 120.0392156862745, 1.0)",
          "width": 6.498502045132606
         },
         "mode": "lines",
         "showlegend": false,
         "text": "Width: 6.50",
         "type": "scatter",
         "x": [
          -3.637741035389707,
          -3.637741035389707,
          null
         ],
         "y": [
          40.48201214532898,
          40.48201214532898,
          null
         ]
        },
        {
         "hoverinfo": "text",
         "line": {
          "color": "rgba(52.13725490196079, 63.88235294117647, 153.86274509803923, 1.0)",
          "width": 0.5
         },
         "mode": "lines",
         "showlegend": false,
         "text": "Width: 0.50",
         "type": "scatter",
         "x": [
          -3.637741035389707,
          -3.695056256825152,
          null
         ],
         "y": [
          40.48201214532898,
          40.34253624126977,
          null
         ]
        },
        {
         "hoverinfo": "text",
         "line": {
          "color": "rgba(59.98039215686274, 88.58823529411765, 166.01960784313727, 1.0)",
          "width": 0.5806458717519151
         },
         "mode": "lines",
         "showlegend": false,
         "text": "Width: 0.58",
         "type": "scatter",
         "x": [
          -3.637741035389707,
          -3.6160073912284756,
          null
         ],
         "y": [
          40.48201214532898,
          40.34992967757026,
          null
         ]
        },
        {
         "hoverinfo": "text",
         "line": {
          "color": "rgba(60.76470588235294, 91.05882352941177, 167.23529411764707, 1.0)",
          "width": 0.6243723344523813
         },
         "mode": "lines",
         "showlegend": false,
         "text": "Width: 0.62",
         "type": "scatter",
         "x": [
          -3.637741035389707,
          -3.572894771748725,
          null
         ],
         "y": [
          40.48201214532898,
          40.39356859265691,
          null
         ]
        },
        {
         "hoverinfo": "text",
         "line": {
          "color": "rgba(227.64705882352945, 244.41176470588235, 241.29411764705878, 1.0)",
          "width": 4.124155120497302
         },
         "mode": "lines",
         "showlegend": false,
         "text": "Width: 4.12",
         "type": "scatter",
         "x": [
          -3.637741035389707,
          -3.5986526886701378,
          null
         ],
         "y": [
          40.48201214532898,
          40.43466852782298,
          null
         ]
        },
        {
         "hoverinfo": "text",
         "line": {
          "color": "rgba(211.52941176470594, 236.8823529411765, 244.47058823529412, 1.0)",
          "width": 3.779132507665529
         },
         "mode": "lines",
         "showlegend": false,
         "text": "Width: 3.78",
         "type": "scatter",
         "x": [
          -3.637741035389707,
          -3.574543479322823,
          null
         ],
         "y": [
          40.48201214532898,
          40.4757410696608,
          null
         ]
        },
        {
         "hoverinfo": "text",
         "line": {
          "color": "rgba(128.94117647058823, 183.3529411764706, 214.64705882352942, 1.0)",
          "width": 2.2388204703671555
         },
         "mode": "lines",
         "showlegend": false,
         "text": "Width: 2.24",
         "type": "scatter",
         "x": [
          -3.695056256825152,
          -3.705268804063821,
          null
         ],
         "y": [
          40.34253624126977,
          40.41733007020507,
          null
         ]
        },
        {
         "hoverinfo": "text",
         "line": {
          "color": "rgba(101.25490196078432, 155.4313725490196, 199.90196078431376, 1.0)",
          "width": 1.6829616866999448
         },
         "mode": "lines",
         "showlegend": false,
         "text": "Width: 1.68",
         "type": "scatter",
         "x": [
          -3.695056256825152,
          -3.6966151949203576,
          null
         ],
         "y": [
          40.34253624126977,
          40.398119933450886,
          null
         ]
        },
        {
         "hoverinfo": "text",
         "line": {
          "color": "rgba(86.50980392156863, 137.86274509803926, 190.80392156862746, 1.0)",
          "width": 1.4018351697718636
         },
         "mode": "lines",
         "showlegend": false,
         "text": "Width: 1.40",
         "type": "scatter",
         "x": [
          -3.695056256825152,
          -3.67643837848883,
          null
         ],
         "y": [
          40.34253624126977,
          40.41138084576659,
          null
         ]
        },
        {
         "hoverinfo": "text",
         "line": {
          "color": "rgba(116.00000000000003, 173.00000000000003, 209.0, 1.0)",
          "width": 2.011052868808953
         },
         "mode": "lines",
         "showlegend": false,
         "text": "Width: 2.01",
         "type": "scatter",
         "x": [
          -3.695056256825152,
          -3.6737887354917422,
          null
         ],
         "y": [
          40.34253624126977,
          40.43018370922185,
          null
         ]
        },
        {
         "hoverinfo": "text",
         "line": {
          "color": "rgba(97.5686274509804, 151.03921568627453, 197.62745098039218, 1.0)",
          "width": 1.6150503398655536
         },
         "mode": "lines",
         "showlegend": false,
         "text": "Width: 1.62",
         "type": "scatter",
         "x": [
          -3.695056256825152,
          -3.678150006537061,
          null
         ],
         "y": [
          40.34253624126977,
          40.45750039357669,
          null
         ]
        },
        {
         "hoverinfo": "text",
         "line": {
          "color": "rgba(77.29411764705883, 126.88235294117649, 185.11764705882354, 1.0)",
          "width": 1.2016289914419043
         },
         "mode": "lines",
         "showlegend": false,
         "text": "Width: 1.20",
         "type": "scatter",
         "x": [
          -3.695056256825152,
          -3.6999935507976827,
          null
         ],
         "y": [
          40.34253624126977,
          40.4606484776773,
          null
         ]
        },
        {
         "hoverinfo": "text",
         "line": {
          "color": "rgba(124.62745098039218, 179.90196078431376, 212.76470588235296, 1.0)",
          "width": 2.1653968388871156
         },
         "mode": "lines",
         "showlegend": false,
         "text": "Width: 2.17",
         "type": "scatter",
         "x": [
          -3.695056256825152,
          -3.703523951395161,
          null
         ],
         "y": [
          40.34253624126977,
          40.4375595509298,
          null
         ]
        },
        {
         "hoverinfo": "text",
         "line": {
          "color": "rgba(73.60784313725492, 122.49019607843138, 182.84313725490196, 1.0)",
          "width": 1.0975570573320579
         },
         "mode": "lines",
         "showlegend": false,
         "text": "Width: 1.10",
         "type": "scatter",
         "x": [
          -3.695056256825152,
          -3.753579560856663,
          null
         ],
         "y": [
          40.34253624126977,
          40.54479435831404,
          null
         ]
        },
        {
         "hoverinfo": "text",
         "line": {
          "color": "rgba(101.25490196078432, 155.4313725490196, 199.90196078431376, 1.0)",
          "width": 1.680315790070034
         },
         "mode": "lines",
         "showlegend": false,
         "text": "Width: 1.68",
         "type": "scatter",
         "x": [
          -3.695056256825152,
          -3.757223268157654,
          null
         ],
         "y": [
          40.34253624126977,
          40.44543508494524,
          null
         ]
        },
        {
         "hoverinfo": "text",
         "line": {
          "color": "rgba(73.60784313725492, 122.49019607843138, 182.84313725490196, 1.0)",
          "width": 1.0957931262454506
         },
         "mode": "lines",
         "showlegend": false,
         "text": "Width: 1.10",
         "type": "scatter",
         "x": [
          -3.695056256825152,
          -3.778616540618283,
          null
         ],
         "y": [
          40.34253624126977,
          40.385273701511004,
          null
         ]
        },
        {
         "hoverinfo": "text",
         "line": {
          "color": "rgba(131.0980392156863, 185.07843137254903, 215.58823529411765, 1.0)",
          "width": 2.289312997721297
         },
         "mode": "lines",
         "showlegend": false,
         "text": "Width: 2.29",
         "type": "scatter",
         "x": [
          -3.695056256825152,
          -3.737112400757822,
          null
         ],
         "y": [
          40.34253624126977,
          40.378840354576816,
          null
         ]
        },
        {
         "hoverinfo": "text",
         "line": {
          "color": "rgba(250.7450980392157, 253.3529411764706, 198.8235294117647, 1.0)",
          "width": 4.869282703270695
         },
         "mode": "lines",
         "showlegend": false,
         "text": "Width: 4.87",
         "type": "scatter",
         "x": [
          -3.695056256825152,
          -3.7029808755455926,
          null
         ],
         "y": [
          40.34253624126977,
          40.37595000318738,
          null
         ]
        },
        {
         "hoverinfo": "text",
         "line": {
          "color": "rgba(144.03921568627453, 195.4313725490196, 221.23529411764707, 1.0)",
          "width": 2.5142142112637624
         },
         "mode": "lines",
         "showlegend": false,
         "text": "Width: 2.51",
         "type": "scatter",
         "x": [
          -3.695056256825152,
          -3.6598634715735407,
          null
         ],
         "y": [
          40.34253624126977,
          40.38355078734683,
          null
         ]
        },
        {
         "hoverinfo": "text",
         "line": {
          "color": "rgba(57.62745098039216, 81.17647058823529, 162.37254901960785, 1.0)",
          "width": 0.5
         },
         "mode": "lines",
         "showlegend": false,
         "text": "Width: 0.50",
         "type": "scatter",
         "x": [
          -3.695056256825152,
          -3.6413909394895803,
          null
         ],
         "y": [
          40.34253624126977,
          40.40661270611631,
          null
         ]
        },
        {
         "hoverinfo": "text",
         "line": {
          "color": "rgba(77.29411764705883, 126.88235294117649, 185.11764705882354, 1.0)",
          "width": 1.210448646874942
         },
         "mode": "lines",
         "showlegend": false,
         "text": "Width: 1.21",
         "type": "scatter",
         "x": [
          -3.695056256825152,
          -3.649948514601449,
          null
         ],
         "y": [
          40.34253624126977,
          40.43926990707227,
          null
         ]
        },
        {
         "hoverinfo": "text",
         "line": {
          "color": "rgba(65.47058823529412, 105.88235294117648, 174.52941176470588, 1.0)",
          "width": 0.8455354033330013
         },
         "mode": "lines",
         "showlegend": false,
         "text": "Width: 0.85",
         "type": "scatter",
         "x": [
          -3.695056256825152,
          -3.637741035389707,
          null
         ],
         "y": [
          40.34253624126977,
          40.48201214532898,
          null
         ]
        },
        {
         "hoverinfo": "text",
         "line": {
          "color": "rgba(253.33333333333334, 190.66666666666666, 112.66666666666666, 1.0)",
          "width": 6.674445679027717
         },
         "mode": "lines",
         "showlegend": false,
         "text": "Width: 6.67",
         "type": "scatter",
         "x": [
          -3.695056256825152,
          -3.695056256825152,
          null
         ],
         "y": [
          40.34253624126977,
          40.34253624126977,
          null
         ]
        },
        {
         "hoverinfo": "text",
         "line": {
          "color": "rgba(190.74509803921572, 226.68627450980395, 238.58823529411765, 1.0)",
          "width": 3.3648699777802635
         },
         "mode": "lines",
         "showlegend": false,
         "text": "Width: 3.36",
         "type": "scatter",
         "x": [
          -3.695056256825152,
          -3.6160073912284756,
          null
         ],
         "y": [
          40.34253624126977,
          40.34992967757026,
          null
         ]
        },
        {
         "hoverinfo": "text",
         "line": {
          "color": "rgba(65.47058823529412, 105.88235294117648, 174.52941176470588, 1.0)",
          "width": 0.8503862138211719
         },
         "mode": "lines",
         "showlegend": false,
         "text": "Width: 0.85",
         "type": "scatter",
         "x": [
          -3.695056256825152,
          -3.572894771748725,
          null
         ],
         "y": [
          40.34253624126977,
          40.39356859265691,
          null
         ]
        },
        {
         "hoverinfo": "text",
         "line": {
          "color": "rgba(67.03921568627452, 110.82352941176472, 176.9607843137255, 1.0)",
          "width": 0.9233688625295602
         },
         "mode": "lines",
         "showlegend": false,
         "text": "Width: 0.92",
         "type": "scatter",
         "x": [
          -3.695056256825152,
          -3.5986526886701378,
          null
         ],
         "y": [
          40.34253624126977,
          40.43466852782298,
          null
         ]
        },
        {
         "hoverinfo": "text",
         "line": {
          "color": "rgba(63.11764705882353, 98.47058823529413, 170.88235294117646, 1.0)",
          "width": 0.7178708909397783
         },
         "mode": "lines",
         "showlegend": false,
         "text": "Width: 0.72",
         "type": "scatter",
         "x": [
          -3.695056256825152,
          -3.574543479322823,
          null
         ],
         "y": [
          40.34253624126977,
          40.4757410696608,
          null
         ]
        },
        {
         "hoverinfo": "text",
         "line": {
          "color": "rgba(126.78431372549022, 181.62745098039218, 213.7058823529412, 1.0)",
          "width": 2.2000451871437714
         },
         "mode": "lines",
         "showlegend": false,
         "text": "Width: 2.20",
         "type": "scatter",
         "x": [
          -3.6160073912284756,
          -3.705268804063821,
          null
         ],
         "y": [
          40.34992967757026,
          40.41733007020507,
          null
         ]
        },
        {
         "hoverinfo": "text",
         "line": {
          "color": "rgba(73.60784313725492, 122.49019607843138, 182.84313725490196, 1.0)",
          "width": 1.1230736687456915
         },
         "mode": "lines",
         "showlegend": false,
         "text": "Width: 1.12",
         "type": "scatter",
         "x": [
          -3.6160073912284756,
          -3.6966151949203576,
          null
         ],
         "y": [
          40.34992967757026,
          40.398119933450886,
          null
         ]
        },
        {
         "hoverinfo": "text",
         "line": {
          "color": "rgba(88.35294117647061, 140.0588235294118, 191.94117647058823, 1.0)",
          "width": 1.443722680619979
         },
         "mode": "lines",
         "showlegend": false,
         "text": "Width: 1.44",
         "type": "scatter",
         "x": [
          -3.6160073912284756,
          -3.67643837848883,
          null
         ],
         "y": [
          40.34992967757026,
          40.41138084576659,
          null
         ]
        },
        {
         "hoverinfo": "text",
         "line": {
          "color": "rgba(108.62745098039218, 164.21568627450984, 204.45098039215688, 1.0)",
          "width": 1.8489178186720578
         },
         "mode": "lines",
         "showlegend": false,
         "text": "Width: 1.85",
         "type": "scatter",
         "x": [
          -3.6160073912284756,
          -3.6737887354917422,
          null
         ],
         "y": [
          40.34992967757026,
          40.43018370922185,
          null
         ]
        },
        {
         "hoverinfo": "text",
         "line": {
          "color": "rgba(86.50980392156863, 137.86274509803926, 190.80392156862746, 1.0)",
          "width": 1.36919683606326
         },
         "mode": "lines",
         "showlegend": false,
         "text": "Width: 1.37",
         "type": "scatter",
         "x": [
          -3.6160073912284756,
          -3.678150006537061,
          null
         ],
         "y": [
          40.34992967757026,
          40.45750039357669,
          null
         ]
        },
        {
         "hoverinfo": "text",
         "line": {
          "color": "rgba(65.47058823529412, 105.88235294117648, 174.52941176470588, 1.0)",
          "width": 0.8535698443122894
         },
         "mode": "lines",
         "showlegend": false,
         "text": "Width: 0.85",
         "type": "scatter",
         "x": [
          -3.6160073912284756,
          -3.6999935507976827,
          null
         ],
         "y": [
          40.34992967757026,
          40.4606484776773,
          null
         ]
        },
        {
         "hoverinfo": "text",
         "line": {
          "color": "rgba(93.88235294117649, 146.64705882352945, 195.3529411764706, 1.0)",
          "width": 1.550605684578075
         },
         "mode": "lines",
         "showlegend": false,
         "text": "Width: 1.55",
         "type": "scatter",
         "x": [
          -3.6160073912284756,
          -3.703523951395161,
          null
         ],
         "y": [
          40.34992967757026,
          40.4375595509298,
          null
         ]
        },
        {
         "hoverinfo": "text",
         "line": {
          "color": "rgba(67.03921568627452, 110.82352941176472, 176.9607843137255, 1.0)",
          "width": 0.9366546794203406
         },
         "mode": "lines",
         "showlegend": false,
         "text": "Width: 0.94",
         "type": "scatter",
         "x": [
          -3.6160073912284756,
          -3.753579560856663,
          null
         ],
         "y": [
          40.34992967757026,
          40.54479435831404,
          null
         ]
        },
        {
         "hoverinfo": "text",
         "line": {
          "color": "rgba(66.25490196078432, 108.35294117647061, 175.74509803921572, 1.0)",
          "width": 0.895738529467632
         },
         "mode": "lines",
         "showlegend": false,
         "text": "Width: 0.90",
         "type": "scatter",
         "x": [
          -3.6160073912284756,
          -3.757223268157654,
          null
         ],
         "y": [
          40.34992967757026,
          40.44543508494524,
          null
         ]
        },
        {
         "hoverinfo": "text",
         "line": {
          "color": "rgba(59.196078431372555, 86.11764705882355, 164.8039215686275, 1.0)",
          "width": 0.5180991658734999
         },
         "mode": "lines",
         "showlegend": false,
         "text": "Width: 0.52",
         "type": "scatter",
         "x": [
          -3.6160073912284756,
          -3.778616540618283,
          null
         ],
         "y": [
          40.34992967757026,
          40.385273701511004,
          null
         ]
        },
        {
         "hoverinfo": "text",
         "line": {
          "color": "rgba(77.29411764705883, 126.88235294117649, 185.11764705882354, 1.0)",
          "width": 1.2013571189103125
         },
         "mode": "lines",
         "showlegend": false,
         "text": "Width: 1.20",
         "type": "scatter",
         "x": [
          -3.6160073912284756,
          -3.737112400757822,
          null
         ],
         "y": [
          40.34992967757026,
          40.378840354576816,
          null
         ]
        },
        {
         "hoverinfo": "text",
         "line": {
          "color": "rgba(99.41176470588236, 153.2352941176471, 198.76470588235296, 1.0)",
          "width": 1.6533135711940583
         },
         "mode": "lines",
         "showlegend": false,
         "text": "Width: 1.65",
         "type": "scatter",
         "x": [
          -3.6160073912284756,
          -3.7029808755455926,
          null
         ],
         "y": [
          40.34992967757026,
          40.37595000318738,
          null
         ]
        },
        {
         "hoverinfo": "text",
         "line": {
          "color": "rgba(254.7450980392157, 247.09803921568627, 179.01960784313724, 1.0)",
          "width": 5.253099743563993
         },
         "mode": "lines",
         "showlegend": false,
         "text": "Width: 5.25",
         "type": "scatter",
         "x": [
          -3.6160073912284756,
          -3.6598634715735407,
          null
         ],
         "y": [
          40.34992967757026,
          40.38355078734683,
          null
         ]
        },
        {
         "hoverinfo": "text",
         "line": {
          "color": "rgba(90.19607843137256, 142.2549019607843, 193.07843137254903, 1.0)",
          "width": 1.4691908964068692
         },
         "mode": "lines",
         "showlegend": false,
         "text": "Width: 1.47",
         "type": "scatter",
         "x": [
          -3.6160073912284756,
          -3.6413909394895803,
          null
         ],
         "y": [
          40.34992967757026,
          40.40661270611631,
          null
         ]
        },
        {
         "hoverinfo": "text",
         "line": {
          "color": "rgba(77.29411764705883, 126.88235294117649, 185.11764705882354, 1.0)",
          "width": 1.1790202411300073
         },
         "mode": "lines",
         "showlegend": false,
         "text": "Width: 1.18",
         "type": "scatter",
         "x": [
          -3.6160073912284756,
          -3.649948514601449,
          null
         ],
         "y": [
          40.34992967757026,
          40.43926990707227,
          null
         ]
        },
        {
         "hoverinfo": "text",
         "line": {
          "color": "rgba(71.76470588235294, 120.29411764705884, 181.7058823529412, 1.0)",
          "width": 1.0679621198297982
         },
         "mode": "lines",
         "showlegend": false,
         "text": "Width: 1.07",
         "type": "scatter",
         "x": [
          -3.6160073912284756,
          -3.637741035389707,
          null
         ],
         "y": [
          40.34992967757026,
          40.48201214532898,
          null
         ]
        },
        {
         "hoverinfo": "text",
         "line": {
          "color": "rgba(194.90196078431376, 228.72549019607843, 239.76470588235296, 1.0)",
          "width": 3.445482690296116
         },
         "mode": "lines",
         "showlegend": false,
         "text": "Width: 3.45",
         "type": "scatter",
         "x": [
          -3.6160073912284756,
          -3.695056256825152,
          null
         ],
         "y": [
          40.34992967757026,
          40.34253624126977,
          null
         ]
        },
        {
         "hoverinfo": "text",
         "line": {
          "color": "rgba(253.72549019607843, 210.27450980392157, 131.09803921568627, 1.0)",
          "width": 6.272245886773806
         },
         "mode": "lines",
         "showlegend": false,
         "text": "Width: 6.27",
         "type": "scatter",
         "x": [
          -3.6160073912284756,
          -3.6160073912284756,
          null
         ],
         "y": [
          40.34992967757026,
          40.34992967757026,
          null
         ]
        },
        {
         "hoverinfo": "text",
         "line": {
          "color": "rgba(239.80392156862746, 249.11764705882354, 218.9411764705882, 1.0)",
          "width": 4.501369866116525
         },
         "mode": "lines",
         "showlegend": false,
         "text": "Width: 4.50",
         "type": "scatter",
         "x": [
          -3.6160073912284756,
          -3.572894771748725,
          null
         ],
         "y": [
          40.34992967757026,
          40.39356859265691,
          null
         ]
        },
        {
         "hoverinfo": "text",
         "line": {
          "color": "rgba(77.29411764705883, 126.88235294117649, 185.11764705882354, 1.0)",
          "width": 1.1746363679207885
         },
         "mode": "lines",
         "showlegend": false,
         "text": "Width: 1.17",
         "type": "scatter",
         "x": [
          -3.6160073912284756,
          -3.5986526886701378,
          null
         ],
         "y": [
          40.34992967757026,
          40.43466852782298,
          null
         ]
        },
        {
         "hoverinfo": "text",
         "line": {
          "color": "rgba(67.03921568627452, 110.82352941176472, 176.9607843137255, 1.0)",
          "width": 0.9328970738124385
         },
         "mode": "lines",
         "showlegend": false,
         "text": "Width: 0.93",
         "type": "scatter",
         "x": [
          -3.6160073912284756,
          -3.574543479322823,
          null
         ],
         "y": [
          40.34992967757026,
          40.4757410696608,
          null
         ]
        },
        {
         "hoverinfo": "text",
         "line": {
          "color": "rgba(97.5686274509804, 151.03921568627453, 197.62745098039218, 1.0)",
          "width": 1.6138593180751861
         },
         "mode": "lines",
         "showlegend": false,
         "text": "Width: 1.61",
         "type": "scatter",
         "x": [
          -3.572894771748725,
          -3.705268804063821,
          null
         ],
         "y": [
          40.39356859265691,
          40.41733007020507,
          null
         ]
        },
        {
         "hoverinfo": "text",
         "line": {
          "color": "rgba(63.11764705882353, 98.47058823529413, 170.88235294117646, 1.0)",
          "width": 0.7396538443749301
         },
         "mode": "lines",
         "showlegend": false,
         "text": "Width: 0.74",
         "type": "scatter",
         "x": [
          -3.572894771748725,
          -3.6966151949203576,
          null
         ],
         "y": [
          40.39356859265691,
          40.398119933450886,
          null
         ]
        },
        {
         "hoverinfo": "text",
         "line": {
          "color": "rgba(93.88235294117649, 146.64705882352945, 195.3529411764706, 1.0)",
          "width": 1.5427058443319754
         },
         "mode": "lines",
         "showlegend": false,
         "text": "Width: 1.54",
         "type": "scatter",
         "x": [
          -3.572894771748725,
          -3.67643837848883,
          null
         ],
         "y": [
          40.39356859265691,
          40.41138084576659,
          null
         ]
        },
        {
         "hoverinfo": "text",
         "line": {
          "color": "rgba(118.15686274509807, 174.72549019607845, 209.94117647058823, 1.0)",
          "width": 2.0355095328497685
         },
         "mode": "lines",
         "showlegend": false,
         "text": "Width: 2.04",
         "type": "scatter",
         "x": [
          -3.572894771748725,
          -3.6737887354917422,
          null
         ],
         "y": [
          40.39356859265691,
          40.43018370922185,
          null
         ]
        },
        {
         "hoverinfo": "text",
         "line": {
          "color": "rgba(86.50980392156863, 137.86274509803926, 190.80392156862746, 1.0)",
          "width": 1.401596766773891
         },
         "mode": "lines",
         "showlegend": false,
         "text": "Width: 1.40",
         "type": "scatter",
         "x": [
          -3.572894771748725,
          -3.678150006537061,
          null
         ],
         "y": [
          40.39356859265691,
          40.45750039357669,
          null
         ]
        },
        {
         "hoverinfo": "text",
         "line": {
          "color": "rgba(65.47058823529412, 105.88235294117648, 174.52941176470588, 1.0)",
          "width": 0.8486600078535862
         },
         "mode": "lines",
         "showlegend": false,
         "text": "Width: 0.85",
         "type": "scatter",
         "x": [
          -3.572894771748725,
          -3.6999935507976827,
          null
         ],
         "y": [
          40.39356859265691,
          40.4606484776773,
          null
         ]
        },
        {
         "hoverinfo": "text",
         "line": {
          "color": "rgba(86.50980392156863, 137.86274509803926, 190.80392156862746, 1.0)",
          "width": 1.3805142560351615
         },
         "mode": "lines",
         "showlegend": false,
         "text": "Width: 1.38",
         "type": "scatter",
         "x": [
          -3.572894771748725,
          -3.703523951395161,
          null
         ],
         "y": [
          40.39356859265691,
          40.4375595509298,
          null
         ]
        },
        {
         "hoverinfo": "text",
         "line": {
          "color": "rgba(67.8235294117647, 113.29411764705883, 178.1764705882353, 1.0)",
          "width": 0.9531142656045624
         },
         "mode": "lines",
         "showlegend": false,
         "text": "Width: 0.95",
         "type": "scatter",
         "x": [
          -3.572894771748725,
          -3.753579560856663,
          null
         ],
         "y": [
          40.39356859265691,
          40.54479435831404,
          null
         ]
        },
        {
         "hoverinfo": "text",
         "line": {
          "color": "rgba(65.47058823529412, 105.88235294117648, 174.52941176470588, 1.0)",
          "width": 0.8412332142978974
         },
         "mode": "lines",
         "showlegend": false,
         "text": "Width: 0.84",
         "type": "scatter",
         "x": [
          -3.572894771748725,
          -3.757223268157654,
          null
         ],
         "y": [
          40.39356859265691,
          40.44543508494524,
          null
         ]
        },
        {
         "hoverinfo": "text",
         "line": {
          "color": "rgba(52.92156862745099, 66.35294117647058, 155.07843137254903, 1.0)",
          "width": 0.5
         },
         "mode": "lines",
         "showlegend": false,
         "text": "Width: 0.50",
         "type": "scatter",
         "x": [
          -3.572894771748725,
          -3.778616540618283,
          null
         ],
         "y": [
          40.39356859265691,
          40.385273701511004,
          null
         ]
        },
        {
         "hoverinfo": "text",
         "line": {
          "color": "rgba(58.411764705882355, 83.64705882352942, 163.58823529411765, 1.0)",
          "width": 0.5
         },
         "mode": "lines",
         "showlegend": false,
         "text": "Width: 0.50",
         "type": "scatter",
         "x": [
          -3.572894771748725,
          -3.737112400757822,
          null
         ],
         "y": [
          40.39356859265691,
          40.378840354576816,
          null
         ]
        },
        {
         "hoverinfo": "text",
         "line": {
          "color": "rgba(56.05882352941177, 76.23529411764707, 159.94117647058823, 1.0)",
          "width": 0.5
         },
         "mode": "lines",
         "showlegend": false,
         "text": "Width: 0.50",
         "type": "scatter",
         "x": [
          -3.572894771748725,
          -3.7029808755455926,
          null
         ],
         "y": [
          40.39356859265691,
          40.37595000318738,
          null
         ]
        },
        {
         "hoverinfo": "text",
         "line": {
          "color": "rgba(207.37254901960787, 234.843137254902, 243.2941176470588, 1.0)",
          "width": 3.6751538907572927
         },
         "mode": "lines",
         "showlegend": false,
         "text": "Width: 3.68",
         "type": "scatter",
         "x": [
          -3.572894771748725,
          -3.6598634715735407,
          null
         ],
         "y": [
          40.39356859265691,
          40.38355078734683,
          null
         ]
        },
        {
         "hoverinfo": "text",
         "line": {
          "color": "rgba(201.13725490196083, 231.7843137254902, 241.52941176470588, 1.0)",
          "width": 3.587469812003033
         },
         "mode": "lines",
         "showlegend": false,
         "text": "Width: 3.59",
         "type": "scatter",
         "x": [
          -3.572894771748725,
          -3.6413909394895803,
          null
         ],
         "y": [
          40.39356859265691,
          40.40661270611631,
          null
         ]
        },
        {
         "hoverinfo": "text",
         "line": {
          "color": "rgba(126.78431372549022, 181.62745098039218, 213.7058823529412, 1.0)",
          "width": 2.189316031648224
         },
         "mode": "lines",
         "showlegend": false,
         "text": "Width: 2.19",
         "type": "scatter",
         "x": [
          -3.572894771748725,
          -3.649948514601449,
          null
         ],
         "y": [
          40.39356859265691,
          40.43926990707227,
          null
         ]
        },
        {
         "hoverinfo": "text",
         "line": {
          "color": "rgba(88.35294117647061, 140.0588235294118, 191.94117647058823, 1.0)",
          "width": 1.4269916092546324
         },
         "mode": "lines",
         "showlegend": false,
         "text": "Width: 1.43",
         "type": "scatter",
         "x": [
          -3.572894771748725,
          -3.637741035389707,
          null
         ],
         "y": [
          40.39356859265691,
          40.48201214532898,
          null
         ]
        },
        {
         "hoverinfo": "text",
         "line": {
          "color": "rgba(58.411764705882355, 83.64705882352942, 163.58823529411765, 1.0)",
          "width": 0.5
         },
         "mode": "lines",
         "showlegend": false,
         "text": "Width: 0.50",
         "type": "scatter",
         "x": [
          -3.572894771748725,
          -3.695056256825152,
          null
         ],
         "y": [
          40.39356859265691,
          40.34253624126977,
          null
         ]
        },
        {
         "hoverinfo": "text",
         "line": {
          "color": "rgba(247.09803921568627, 251.94117647058823, 205.52941176470588, 1.0)",
          "width": 4.729519001679415
         },
         "mode": "lines",
         "showlegend": false,
         "text": "Width: 4.73",
         "type": "scatter",
         "x": [
          -3.572894771748725,
          -3.6160073912284756,
          null
         ],
         "y": [
          40.39356859265691,
          40.34992967757026,
          null
         ]
        },
        {
         "hoverinfo": "text",
         "line": {
          "color": "rgba(253.76470588235296, 212.23529411764707, 132.94117647058823, 1.0)",
          "width": 6.215596434774151
         },
         "mode": "lines",
         "showlegend": false,
         "text": "Width: 6.22",
         "type": "scatter",
         "x": [
          -3.572894771748725,
          -3.572894771748725,
          null
         ],
         "y": [
          40.39356859265691,
          40.39356859265691,
          null
         ]
        },
        {
         "hoverinfo": "text",
         "line": {
          "color": "rgba(250.7450980392157, 253.3529411764706, 198.8235294117647, 1.0)",
          "width": 4.879252742721525
         },
         "mode": "lines",
         "showlegend": false,
         "text": "Width: 4.88",
         "type": "scatter",
         "x": [
          -3.572894771748725,
          -3.5986526886701378,
          null
         ],
         "y": [
          40.39356859265691,
          40.43466852782298,
          null
         ]
        },
        {
         "hoverinfo": "text",
         "line": {
          "color": "rgba(80.98039215686276, 131.2745098039216, 187.3921568627451, 1.0)",
          "width": 1.2727059624848425
         },
         "mode": "lines",
         "showlegend": false,
         "text": "Width: 1.27",
         "type": "scatter",
         "x": [
          -3.572894771748725,
          -3.574543479322823,
          null
         ],
         "y": [
          40.39356859265691,
          40.4757410696608,
          null
         ]
        },
        {
         "hoverinfo": "text",
         "line": {
          "color": "rgba(101.25490196078432, 155.4313725490196, 199.90196078431376, 1.0)",
          "width": 1.7033249769205205
         },
         "mode": "lines",
         "showlegend": false,
         "text": "Width: 1.70",
         "type": "scatter",
         "x": [
          -3.5986526886701378,
          -3.705268804063821,
          null
         ],
         "y": [
          40.43466852782298,
          40.41733007020507,
          null
         ]
        },
        {
         "hoverinfo": "text",
         "line": {
          "color": "rgba(63.11764705882353, 98.47058823529413, 170.88235294117646, 1.0)",
          "width": 0.7401165951570849
         },
         "mode": "lines",
         "showlegend": false,
         "text": "Width: 0.74",
         "type": "scatter",
         "x": [
          -3.5986526886701378,
          -3.6966151949203576,
          null
         ],
         "y": [
          40.43466852782298,
          40.398119933450886,
          null
         ]
        },
        {
         "hoverinfo": "text",
         "line": {
          "color": "rgba(73.60784313725492, 122.49019607843138, 182.84313725490196, 1.0)",
          "width": 1.1309102103399917
         },
         "mode": "lines",
         "showlegend": false,
         "text": "Width: 1.13",
         "type": "scatter",
         "x": [
          -3.5986526886701378,
          -3.67643837848883,
          null
         ],
         "y": [
          40.43466852782298,
          40.41138084576659,
          null
         ]
        },
        {
         "hoverinfo": "text",
         "line": {
          "color": "rgba(106.78431372549022, 162.0196078431373, 203.31372549019608, 1.0)",
          "width": 1.8095425365203273
         },
         "mode": "lines",
         "showlegend": false,
         "text": "Width: 1.81",
         "type": "scatter",
         "x": [
          -3.5986526886701378,
          -3.6737887354917422,
          null
         ],
         "y": [
          40.43466852782298,
          40.43018370922185,
          null
         ]
        },
        {
         "hoverinfo": "text",
         "line": {
          "color": "rgba(93.88235294117649, 146.64705882352945, 195.3529411764706, 1.0)",
          "width": 1.5499801724470792
         },
         "mode": "lines",
         "showlegend": false,
         "text": "Width: 1.55",
         "type": "scatter",
         "x": [
          -3.5986526886701378,
          -3.678150006537061,
          null
         ],
         "y": [
          40.43466852782298,
          40.45750039357669,
          null
         ]
        },
        {
         "hoverinfo": "text",
         "line": {
          "color": "rgba(75.45098039215688, 124.68627450980394, 183.98039215686276, 1.0)",
          "width": 1.164443057653924
         },
         "mode": "lines",
         "showlegend": false,
         "text": "Width: 1.16",
         "type": "scatter",
         "x": [
          -3.5986526886701378,
          -3.6999935507976827,
          null
         ],
         "y": [
          40.43466852782298,
          40.4606484776773,
          null
         ]
        },
        {
         "hoverinfo": "text",
         "line": {
          "color": "rgba(97.5686274509804, 151.03921568627453, 197.62745098039218, 1.0)",
          "width": 1.6190397120503666
         },
         "mode": "lines",
         "showlegend": false,
         "text": "Width: 1.62",
         "type": "scatter",
         "x": [
          -3.5986526886701378,
          -3.703523951395161,
          null
         ],
         "y": [
          40.43466852782298,
          40.4375595509298,
          null
         ]
        },
        {
         "hoverinfo": "text",
         "line": {
          "color": "rgba(118.15686274509807, 174.72549019607845, 209.94117647058823, 1.0)",
          "width": 2.064029658837953
         },
         "mode": "lines",
         "showlegend": false,
         "text": "Width: 2.06",
         "type": "scatter",
         "x": [
          -3.5986526886701378,
          -3.753579560856663,
          null
         ],
         "y": [
          40.43466852782298,
          40.54479435831404,
          null
         ]
        },
        {
         "hoverinfo": "text",
         "line": {
          "color": "rgba(84.66666666666667, 135.66666666666669, 189.66666666666669, 1.0)",
          "width": 1.3544021062214966
         },
         "mode": "lines",
         "showlegend": false,
         "text": "Width: 1.35",
         "type": "scatter",
         "x": [
          -3.5986526886701378,
          -3.757223268157654,
          null
         ],
         "y": [
          40.43466852782298,
          40.44543508494524,
          null
         ]
        },
        {
         "hoverinfo": "text",
         "line": {
          "color": "rgba(56.05882352941177, 76.23529411764707, 159.94117647058823, 1.0)",
          "width": 0.5
         },
         "mode": "lines",
         "showlegend": false,
         "text": "Width: 0.50",
         "type": "scatter",
         "x": [
          -3.5986526886701378,
          -3.778616540618283,
          null
         ],
         "y": [
          40.43466852782298,
          40.385273701511004,
          null
         ]
        },
        {
         "hoverinfo": "text",
         "line": {
          "color": "rgba(61.54901960784314, 93.5294117647059, 168.45098039215688, 1.0)",
          "width": 0.6398805704835472
         },
         "mode": "lines",
         "showlegend": false,
         "text": "Width: 0.64",
         "type": "scatter",
         "x": [
          -3.5986526886701378,
          -3.737112400757822,
          null
         ],
         "y": [
          40.43466852782298,
          40.378840354576816,
          null
         ]
        },
        {
         "hoverinfo": "text",
         "line": {
          "color": "rgba(59.98039215686274, 88.58823529411765, 166.01960784313727, 1.0)",
          "width": 0.5478011843458306
         },
         "mode": "lines",
         "showlegend": false,
         "text": "Width: 0.55",
         "type": "scatter",
         "x": [
          -3.5986526886701378,
          -3.7029808755455926,
          null
         ],
         "y": [
          40.43466852782298,
          40.37595000318738,
          null
         ]
        },
        {
         "hoverinfo": "text",
         "line": {
          "color": "rgba(67.03921568627452, 110.82352941176472, 176.9607843137255, 1.0)",
          "width": 0.9046994349465466
         },
         "mode": "lines",
         "showlegend": false,
         "text": "Width: 0.90",
         "type": "scatter",
         "x": [
          -3.5986526886701378,
          -3.6598634715735407,
          null
         ],
         "y": [
          40.43466852782298,
          40.38355078734683,
          null
         ]
        },
        {
         "hoverinfo": "text",
         "line": {
          "color": "rgba(114.15686274509805, 170.8039215686275, 207.86274509803923, 1.0)",
          "width": 1.9906199120155612
         },
         "mode": "lines",
         "showlegend": false,
         "text": "Width: 1.99",
         "type": "scatter",
         "x": [
          -3.5986526886701378,
          -3.6413909394895803,
          null
         ],
         "y": [
          40.43466852782298,
          40.40661270611631,
          null
         ]
        },
        {
         "hoverinfo": "text",
         "line": {
          "color": "rgba(239.80392156862746, 249.11764705882354, 218.9411764705882, 1.0)",
          "width": 4.527153238021869
         },
         "mode": "lines",
         "showlegend": false,
         "text": "Width: 4.53",
         "type": "scatter",
         "x": [
          -3.5986526886701378,
          -3.649948514601449,
          null
         ],
         "y": [
          40.43466852782298,
          40.43926990707227,
          null
         ]
        },
        {
         "hoverinfo": "text",
         "line": {
          "color": "rgba(201.13725490196083, 231.7843137254902, 241.52941176470588, 1.0)",
          "width": 3.567388770306891
         },
         "mode": "lines",
         "showlegend": false,
         "text": "Width: 3.57",
         "type": "scatter",
         "x": [
          -3.5986526886701378,
          -3.637741035389707,
          null
         ],
         "y": [
          40.43466852782298,
          40.48201214532898,
          null
         ]
        },
        {
         "hoverinfo": "text",
         "line": {
          "color": "rgba(56.84313725490196, 78.70588235294117, 161.15686274509807, 1.0)",
          "width": 0.5
         },
         "mode": "lines",
         "showlegend": false,
         "text": "Width: 0.50",
         "type": "scatter",
         "x": [
          -3.5986526886701378,
          -3.695056256825152,
          null
         ],
         "y": [
          40.43466852782298,
          40.34253624126977,
          null
         ]
        },
        {
         "hoverinfo": "text",
         "line": {
          "color": "rgba(71.76470588235294, 120.29411764705884, 181.7058823529412, 1.0)",
          "width": 1.089583241758497
         },
         "mode": "lines",
         "showlegend": false,
         "text": "Width: 1.09",
         "type": "scatter",
         "x": [
          -3.5986526886701378,
          -3.6160073912284756,
          null
         ],
         "y": [
          40.43466852782298,
          40.34992967757026,
          null
         ]
        },
        {
         "hoverinfo": "text",
         "line": {
          "color": "rgba(232.50980392156865, 246.2941176470588, 232.35294117647052, 1.0)",
          "width": 4.272847374338372
         },
         "mode": "lines",
         "showlegend": false,
         "text": "Width: 4.27",
         "type": "scatter",
         "x": [
          -3.5986526886701378,
          -3.572894771748725,
          null
         ],
         "y": [
          40.43466852782298,
          40.39356859265691,
          null
         ]
        },
        {
         "hoverinfo": "text",
         "line": {
          "color": "rgba(254.50980392156862, 239.80392156862743, 167.9607843137255, 1.0)",
          "width": 5.5017809137354545
         },
         "mode": "lines",
         "showlegend": false,
         "text": "Width: 5.50",
         "type": "scatter",
         "x": [
          -3.5986526886701378,
          -3.5986526886701378,
          null
         ],
         "y": [
          40.43466852782298,
          40.43466852782298,
          null
         ]
        },
        {
         "hoverinfo": "text",
         "line": {
          "color": "rgba(219.84313725490202, 240.9607843137255, 246.82352941176472, 1.0)",
          "width": 3.926824641785418
         },
         "mode": "lines",
         "showlegend": false,
         "text": "Width: 3.93",
         "type": "scatter",
         "x": [
          -3.5986526886701378,
          -3.574543479322823,
          null
         ],
         "y": [
          40.43466852782298,
          40.4757410696608,
          null
         ]
        },
        {
         "hoverinfo": "text",
         "line": {
          "color": "rgba(92.03921568627452, 144.4509803921569, 194.2156862745098, 1.0)",
          "width": 1.4958888915957649
         },
         "mode": "lines",
         "showlegend": false,
         "text": "Width: 1.50",
         "type": "scatter",
         "x": [
          -3.574543479322823,
          -3.705268804063821,
          null
         ],
         "y": [
          40.4757410696608,
          40.41733007020507,
          null
         ]
        },
        {
         "hoverinfo": "text",
         "line": {
          "color": "rgba(56.84313725490196, 78.70588235294117, 161.15686274509807, 1.0)",
          "width": 0.5
         },
         "mode": "lines",
         "showlegend": false,
         "text": "Width: 0.50",
         "type": "scatter",
         "x": [
          -3.574543479322823,
          -3.6966151949203576,
          null
         ],
         "y": [
          40.4757410696608,
          40.398119933450886,
          null
         ]
        },
        {
         "hoverinfo": "text",
         "line": {
          "color": "rgba(63.11764705882353, 98.47058823529413, 170.88235294117646, 1.0)",
          "width": 0.7400086151357074
         },
         "mode": "lines",
         "showlegend": false,
         "text": "Width: 0.74",
         "type": "scatter",
         "x": [
          -3.574543479322823,
          -3.67643837848883,
          null
         ],
         "y": [
          40.4757410696608,
          40.41138084576659,
          null
         ]
        },
        {
         "hoverinfo": "text",
         "line": {
          "color": "rgba(110.47058823529414, 166.41176470588238, 205.58823529411765, 1.0)",
          "width": 1.887568976683405
         },
         "mode": "lines",
         "showlegend": false,
         "text": "Width: 1.89",
         "type": "scatter",
         "x": [
          -3.574543479322823,
          -3.6737887354917422,
          null
         ],
         "y": [
          40.4757410696608,
          40.43018370922185,
          null
         ]
        },
        {
         "hoverinfo": "text",
         "line": {
          "color": "rgba(110.47058823529414, 166.41176470588238, 205.58823529411765, 1.0)",
          "width": 1.8945305497579281
         },
         "mode": "lines",
         "showlegend": false,
         "text": "Width: 1.89",
         "type": "scatter",
         "x": [
          -3.574543479322823,
          -3.678150006537061,
          null
         ],
         "y": [
          40.4757410696608,
          40.45750039357669,
          null
         ]
        },
        {
         "hoverinfo": "text",
         "line": {
          "color": "rgba(77.29411764705883, 126.88235294117649, 185.11764705882354, 1.0)",
          "width": 1.196541249391273
         },
         "mode": "lines",
         "showlegend": false,
         "text": "Width: 1.20",
         "type": "scatter",
         "x": [
          -3.574543479322823,
          -3.6999935507976827,
          null
         ],
         "y": [
          40.4757410696608,
          40.4606484776773,
          null
         ]
        },
        {
         "hoverinfo": "text",
         "line": {
          "color": "rgba(110.47058823529414, 166.41176470588238, 205.58823529411765, 1.0)",
          "width": 1.875477823448707
         },
         "mode": "lines",
         "showlegend": false,
         "text": "Width: 1.88",
         "type": "scatter",
         "x": [
          -3.574543479322823,
          -3.703523951395161,
          null
         ],
         "y": [
          40.4757410696608,
          40.4375595509298,
          null
         ]
        },
        {
         "hoverinfo": "text",
         "line": {
          "color": "rgba(156.98039215686276, 205.78431372549022, 226.88235294117646, 1.0)",
          "width": 2.7533688280043527
         },
         "mode": "lines",
         "showlegend": false,
         "text": "Width: 2.75",
         "type": "scatter",
         "x": [
          -3.574543479322823,
          -3.753579560856663,
          null
         ],
         "y": [
          40.4757410696608,
          40.54479435831404,
          null
         ]
        },
        {
         "hoverinfo": "text",
         "line": {
          "color": "rgba(65.47058823529412, 105.88235294117648, 174.52941176470588, 1.0)",
          "width": 0.8524929800766854
         },
         "mode": "lines",
         "showlegend": false,
         "text": "Width: 0.85",
         "type": "scatter",
         "x": [
          -3.574543479322823,
          -3.757223268157654,
          null
         ],
         "y": [
          40.4757410696608,
          40.44543508494524,
          null
         ]
        },
        {
         "hoverinfo": "text",
         "line": {
          "color": "rgba(49.7843137254902, 56.470588235294116, 150.21568627450984, 1.0)",
          "width": 0.5
         },
         "mode": "lines",
         "showlegend": false,
         "text": "Width: 0.50",
         "type": "scatter",
         "x": [
          -3.574543479322823,
          -3.778616540618283,
          null
         ],
         "y": [
          40.4757410696608,
          40.385273701511004,
          null
         ]
        },
        {
         "hoverinfo": "text",
         "line": {
          "color": "rgba(52.13725490196079, 63.88235294117647, 153.86274509803923, 1.0)",
          "width": 0.5
         },
         "mode": "lines",
         "showlegend": false,
         "text": "Width: 0.50",
         "type": "scatter",
         "x": [
          -3.574543479322823,
          -3.737112400757822,
          null
         ],
         "y": [
          40.4757410696608,
          40.378840354576816,
          null
         ]
        },
        {
         "hoverinfo": "text",
         "line": {
          "color": "rgba(49.0, 54.0, 149.0, 1.0)",
          "width": 0.5
         },
         "mode": "lines",
         "showlegend": false,
         "text": "Width: 0.50",
         "type": "scatter",
         "x": [
          -3.574543479322823,
          -3.7029808755455926,
          null
         ],
         "y": [
          40.4757410696608,
          40.37595000318738,
          null
         ]
        },
        {
         "hoverinfo": "text",
         "line": {
          "color": "rgba(56.05882352941177, 76.23529411764707, 159.94117647058823, 1.0)",
          "width": 0.5
         },
         "mode": "lines",
         "showlegend": false,
         "text": "Width: 0.50",
         "type": "scatter",
         "x": [
          -3.574543479322823,
          -3.6598634715735407,
          null
         ],
         "y": [
          40.4757410696608,
          40.38355078734683,
          null
         ]
        },
        {
         "hoverinfo": "text",
         "line": {
          "color": "rgba(49.0, 54.0, 149.0, 1.0)",
          "width": 0.5
         },
         "mode": "lines",
         "showlegend": false,
         "text": "Width: 0.50",
         "type": "scatter",
         "x": [
          -3.574543479322823,
          -3.6413909394895803,
          null
         ],
         "y": [
          40.4757410696608,
          40.40661270611631,
          null
         ]
        },
        {
         "hoverinfo": "text",
         "line": {
          "color": "rgba(112.31372549019609, 168.60784313725495, 206.72549019607843, 1.0)",
          "width": 1.9527879244342001
         },
         "mode": "lines",
         "showlegend": false,
         "text": "Width: 1.95",
         "type": "scatter",
         "x": [
          -3.574543479322823,
          -3.649948514601449,
          null
         ],
         "y": [
          40.4757410696608,
          40.43926990707227,
          null
         ]
        },
        {
         "hoverinfo": "text",
         "line": {
          "color": "rgba(249.29411764705884, 147.23529411764707, 84.64705882352942, 1.0)",
          "width": 7.412493207774636
         },
         "mode": "lines",
         "showlegend": false,
         "text": "Width: 7.41",
         "type": "scatter",
         "x": [
          -3.574543479322823,
          -3.637741035389707,
          null
         ],
         "y": [
          40.4757410696608,
          40.48201214532898,
          null
         ]
        },
        {
         "hoverinfo": "text",
         "line": {
          "color": "rgba(49.7843137254902, 56.470588235294116, 150.21568627450984, 1.0)",
          "width": 0.5
         },
         "mode": "lines",
         "showlegend": false,
         "text": "Width: 0.50",
         "type": "scatter",
         "x": [
          -3.574543479322823,
          -3.695056256825152,
          null
         ],
         "y": [
          40.4757410696608,
          40.34253624126977,
          null
         ]
        },
        {
         "hoverinfo": "text",
         "line": {
          "color": "rgba(56.05882352941177, 76.23529411764707, 159.94117647058823, 1.0)",
          "width": 0.5
         },
         "mode": "lines",
         "showlegend": false,
         "text": "Width: 0.50",
         "type": "scatter",
         "x": [
          -3.574543479322823,
          -3.6160073912284756,
          null
         ],
         "y": [
          40.4757410696608,
          40.34992967757026,
          null
         ]
        },
        {
         "hoverinfo": "text",
         "line": {
          "color": "rgba(57.62745098039216, 81.17647058823529, 162.37254901960785, 1.0)",
          "width": 0.5
         },
         "mode": "lines",
         "showlegend": false,
         "text": "Width: 0.50",
         "type": "scatter",
         "x": [
          -3.574543479322823,
          -3.572894771748725,
          null
         ],
         "y": [
          40.4757410696608,
          40.39356859265691,
          null
         ]
        },
        {
         "hoverinfo": "text",
         "line": {
          "color": "rgba(253.0980392156863, 178.90196078431373, 101.60784313725489, 1.0)",
          "width": 6.896604003094189
         },
         "mode": "lines",
         "showlegend": false,
         "text": "Width: 6.90",
         "type": "scatter",
         "x": [
          -3.574543479322823,
          -3.5986526886701378,
          null
         ],
         "y": [
          40.4757410696608,
          40.43466852782298,
          null
         ]
        },
        {
         "hoverinfo": "text",
         "line": {
          "color": "rgba(165.0, 0.0, 38.0, 1.0)",
          "width": 10
         },
         "mode": "lines",
         "showlegend": false,
         "text": "Width: 10.00",
         "type": "scatter",
         "x": [
          -3.574543479322823,
          -3.574543479322823,
          null
         ],
         "y": [
          40.4757410696608,
          40.4757410696608,
          null
         ]
        },
        {
         "hoverinfo": "text",
         "marker": {
          "color": "white",
          "line": {
           "color": "#888",
           "width": 2
          },
          "size": [
           29.97981405674691,
           16.051864658038955,
           18.909987386526467,
           30.7387630668978,
           30.7387630668978,
           26.007036490992977,
           26.528902257932007,
           20.82175639613911,
           30.7387630668978,
           17.10759871580813,
           18.909987386526467,
           19.34137840352026,
           16.83987879207686,
           16.706967939118996,
           23.00534874913049,
           25.320868886096314,
           17.24240978471136,
           16.181628534532305,
           15.286399793678036,
           19.925673301675904,
           19.053135848433982
          ]
         },
         "mode": "markers",
         "showlegend": false,
         "text": [
          "District: Centro",
          "District: Arganzuela",
          "District: Retiro",
          "District: Salamanca",
          "District: Chamartín",
          "District: Tetuán",
          "District: Chamberí",
          "District: Fuencarral-El Pardo",
          "District: Moncloa-Aravaca",
          "District: Latina",
          "District: Carabanchel",
          "District: Usera",
          "District: Puente de Vallecas",
          "District: Moratalaz",
          "District: Ciudad Lineal",
          "District: Hortaleza",
          "District: Villaverde",
          "District: Villa de Vallecas",
          "District: Vicálvaro",
          "District: San Blas-Canillejas",
          "District: Barajas"
         ],
         "type": "scatter",
         "x": [
          -3.705268804063821,
          -3.6966151949203576,
          -3.67643837848883,
          -3.6737887354917422,
          -3.678150006537061,
          -3.6999935507976827,
          -3.703523951395161,
          -3.753579560856663,
          -3.757223268157654,
          -3.778616540618283,
          -3.737112400757822,
          -3.7029808755455926,
          -3.6598634715735407,
          -3.6413909394895803,
          -3.649948514601449,
          -3.637741035389707,
          -3.695056256825152,
          -3.6160073912284756,
          -3.572894771748725,
          -3.5986526886701378,
          -3.574543479322823
         ],
         "y": [
          40.41733007020507,
          40.398119933450886,
          40.41138084576659,
          40.43018370922185,
          40.45750039357669,
          40.4606484776773,
          40.4375595509298,
          40.54479435831404,
          40.44543508494524,
          40.385273701511004,
          40.378840354576816,
          40.37595000318738,
          40.38355078734683,
          40.40661270611631,
          40.43926990707227,
          40.48201214532898,
          40.34253624126977,
          40.34992967757026,
          40.39356859265691,
          40.43466852782298,
          40.4757410696608
         ]
        },
        {
         "hoverinfo": "none",
         "marker": {
          "cmax": 1,
          "cmin": 0,
          "colorbar": {
           "ticktext": [
            "0.00",
            "0.25",
            "0.50",
            "0.75",
            "1.00"
           ],
           "tickvals": [
            0,
            0.25,
            0.5,
            0.75,
            1
           ],
           "title": {
            "text": "Edge Weight"
           }
          },
          "colorscale": [
           [
            0,
            "rgb(49,54,149)"
           ],
           [
            0.1,
            "rgb(69,117,180)"
           ],
           [
            0.2,
            "rgb(116,173,209)"
           ],
           [
            0.3,
            "rgb(171,217,233)"
           ],
           [
            0.4,
            "rgb(224,243,248)"
           ],
           [
            0.5,
            "rgb(255,255,191)"
           ],
           [
            0.6,
            "rgb(254,224,144)"
           ],
           [
            0.7,
            "rgb(253,174,97)"
           ],
           [
            0.8,
            "rgb(244,109,67)"
           ],
           [
            0.9,
            "rgb(215,48,39)"
           ],
           [
            1,
            "rgb(165,0,38)"
           ]
          ],
          "showscale": true
         },
         "mode": "markers",
         "type": "scatter",
         "x": [
          null
         ],
         "y": [
          null
         ]
        }
       ],
       "layout": {
        "hovermode": "closest",
        "margin": {
         "b": 0,
         "l": 0,
         "r": 0,
         "t": 0
        },
        "showlegend": true,
        "template": {
         "data": {
          "bar": [
           {
            "error_x": {
             "color": "#2a3f5f"
            },
            "error_y": {
             "color": "#2a3f5f"
            },
            "marker": {
             "line": {
              "color": "#E5ECF6",
              "width": 0.5
             },
             "pattern": {
              "fillmode": "overlay",
              "size": 10,
              "solidity": 0.2
             }
            },
            "type": "bar"
           }
          ],
          "barpolar": [
           {
            "marker": {
             "line": {
              "color": "#E5ECF6",
              "width": 0.5
             },
             "pattern": {
              "fillmode": "overlay",
              "size": 10,
              "solidity": 0.2
             }
            },
            "type": "barpolar"
           }
          ],
          "carpet": [
           {
            "aaxis": {
             "endlinecolor": "#2a3f5f",
             "gridcolor": "white",
             "linecolor": "white",
             "minorgridcolor": "white",
             "startlinecolor": "#2a3f5f"
            },
            "baxis": {
             "endlinecolor": "#2a3f5f",
             "gridcolor": "white",
             "linecolor": "white",
             "minorgridcolor": "white",
             "startlinecolor": "#2a3f5f"
            },
            "type": "carpet"
           }
          ],
          "choropleth": [
           {
            "colorbar": {
             "outlinewidth": 0,
             "ticks": ""
            },
            "type": "choropleth"
           }
          ],
          "contour": [
           {
            "colorbar": {
             "outlinewidth": 0,
             "ticks": ""
            },
            "colorscale": [
             [
              0,
              "#0d0887"
             ],
             [
              0.1111111111111111,
              "#46039f"
             ],
             [
              0.2222222222222222,
              "#7201a8"
             ],
             [
              0.3333333333333333,
              "#9c179e"
             ],
             [
              0.4444444444444444,
              "#bd3786"
             ],
             [
              0.5555555555555556,
              "#d8576b"
             ],
             [
              0.6666666666666666,
              "#ed7953"
             ],
             [
              0.7777777777777778,
              "#fb9f3a"
             ],
             [
              0.8888888888888888,
              "#fdca26"
             ],
             [
              1,
              "#f0f921"
             ]
            ],
            "type": "contour"
           }
          ],
          "contourcarpet": [
           {
            "colorbar": {
             "outlinewidth": 0,
             "ticks": ""
            },
            "type": "contourcarpet"
           }
          ],
          "heatmap": [
           {
            "colorbar": {
             "outlinewidth": 0,
             "ticks": ""
            },
            "colorscale": [
             [
              0,
              "#0d0887"
             ],
             [
              0.1111111111111111,
              "#46039f"
             ],
             [
              0.2222222222222222,
              "#7201a8"
             ],
             [
              0.3333333333333333,
              "#9c179e"
             ],
             [
              0.4444444444444444,
              "#bd3786"
             ],
             [
              0.5555555555555556,
              "#d8576b"
             ],
             [
              0.6666666666666666,
              "#ed7953"
             ],
             [
              0.7777777777777778,
              "#fb9f3a"
             ],
             [
              0.8888888888888888,
              "#fdca26"
             ],
             [
              1,
              "#f0f921"
             ]
            ],
            "type": "heatmap"
           }
          ],
          "heatmapgl": [
           {
            "colorbar": {
             "outlinewidth": 0,
             "ticks": ""
            },
            "colorscale": [
             [
              0,
              "#0d0887"
             ],
             [
              0.1111111111111111,
              "#46039f"
             ],
             [
              0.2222222222222222,
              "#7201a8"
             ],
             [
              0.3333333333333333,
              "#9c179e"
             ],
             [
              0.4444444444444444,
              "#bd3786"
             ],
             [
              0.5555555555555556,
              "#d8576b"
             ],
             [
              0.6666666666666666,
              "#ed7953"
             ],
             [
              0.7777777777777778,
              "#fb9f3a"
             ],
             [
              0.8888888888888888,
              "#fdca26"
             ],
             [
              1,
              "#f0f921"
             ]
            ],
            "type": "heatmapgl"
           }
          ],
          "histogram": [
           {
            "marker": {
             "pattern": {
              "fillmode": "overlay",
              "size": 10,
              "solidity": 0.2
             }
            },
            "type": "histogram"
           }
          ],
          "histogram2d": [
           {
            "colorbar": {
             "outlinewidth": 0,
             "ticks": ""
            },
            "colorscale": [
             [
              0,
              "#0d0887"
             ],
             [
              0.1111111111111111,
              "#46039f"
             ],
             [
              0.2222222222222222,
              "#7201a8"
             ],
             [
              0.3333333333333333,
              "#9c179e"
             ],
             [
              0.4444444444444444,
              "#bd3786"
             ],
             [
              0.5555555555555556,
              "#d8576b"
             ],
             [
              0.6666666666666666,
              "#ed7953"
             ],
             [
              0.7777777777777778,
              "#fb9f3a"
             ],
             [
              0.8888888888888888,
              "#fdca26"
             ],
             [
              1,
              "#f0f921"
             ]
            ],
            "type": "histogram2d"
           }
          ],
          "histogram2dcontour": [
           {
            "colorbar": {
             "outlinewidth": 0,
             "ticks": ""
            },
            "colorscale": [
             [
              0,
              "#0d0887"
             ],
             [
              0.1111111111111111,
              "#46039f"
             ],
             [
              0.2222222222222222,
              "#7201a8"
             ],
             [
              0.3333333333333333,
              "#9c179e"
             ],
             [
              0.4444444444444444,
              "#bd3786"
             ],
             [
              0.5555555555555556,
              "#d8576b"
             ],
             [
              0.6666666666666666,
              "#ed7953"
             ],
             [
              0.7777777777777778,
              "#fb9f3a"
             ],
             [
              0.8888888888888888,
              "#fdca26"
             ],
             [
              1,
              "#f0f921"
             ]
            ],
            "type": "histogram2dcontour"
           }
          ],
          "mesh3d": [
           {
            "colorbar": {
             "outlinewidth": 0,
             "ticks": ""
            },
            "type": "mesh3d"
           }
          ],
          "parcoords": [
           {
            "line": {
             "colorbar": {
              "outlinewidth": 0,
              "ticks": ""
             }
            },
            "type": "parcoords"
           }
          ],
          "pie": [
           {
            "automargin": true,
            "type": "pie"
           }
          ],
          "scatter": [
           {
            "fillpattern": {
             "fillmode": "overlay",
             "size": 10,
             "solidity": 0.2
            },
            "type": "scatter"
           }
          ],
          "scatter3d": [
           {
            "line": {
             "colorbar": {
              "outlinewidth": 0,
              "ticks": ""
             }
            },
            "marker": {
             "colorbar": {
              "outlinewidth": 0,
              "ticks": ""
             }
            },
            "type": "scatter3d"
           }
          ],
          "scattercarpet": [
           {
            "marker": {
             "colorbar": {
              "outlinewidth": 0,
              "ticks": ""
             }
            },
            "type": "scattercarpet"
           }
          ],
          "scattergeo": [
           {
            "marker": {
             "colorbar": {
              "outlinewidth": 0,
              "ticks": ""
             }
            },
            "type": "scattergeo"
           }
          ],
          "scattergl": [
           {
            "marker": {
             "colorbar": {
              "outlinewidth": 0,
              "ticks": ""
             }
            },
            "type": "scattergl"
           }
          ],
          "scattermapbox": [
           {
            "marker": {
             "colorbar": {
              "outlinewidth": 0,
              "ticks": ""
             }
            },
            "type": "scattermapbox"
           }
          ],
          "scatterpolar": [
           {
            "marker": {
             "colorbar": {
              "outlinewidth": 0,
              "ticks": ""
             }
            },
            "type": "scatterpolar"
           }
          ],
          "scatterpolargl": [
           {
            "marker": {
             "colorbar": {
              "outlinewidth": 0,
              "ticks": ""
             }
            },
            "type": "scatterpolargl"
           }
          ],
          "scatterternary": [
           {
            "marker": {
             "colorbar": {
              "outlinewidth": 0,
              "ticks": ""
             }
            },
            "type": "scatterternary"
           }
          ],
          "surface": [
           {
            "colorbar": {
             "outlinewidth": 0,
             "ticks": ""
            },
            "colorscale": [
             [
              0,
              "#0d0887"
             ],
             [
              0.1111111111111111,
              "#46039f"
             ],
             [
              0.2222222222222222,
              "#7201a8"
             ],
             [
              0.3333333333333333,
              "#9c179e"
             ],
             [
              0.4444444444444444,
              "#bd3786"
             ],
             [
              0.5555555555555556,
              "#d8576b"
             ],
             [
              0.6666666666666666,
              "#ed7953"
             ],
             [
              0.7777777777777778,
              "#fb9f3a"
             ],
             [
              0.8888888888888888,
              "#fdca26"
             ],
             [
              1,
              "#f0f921"
             ]
            ],
            "type": "surface"
           }
          ],
          "table": [
           {
            "cells": {
             "fill": {
              "color": "#EBF0F8"
             },
             "line": {
              "color": "white"
             }
            },
            "header": {
             "fill": {
              "color": "#C8D4E3"
             },
             "line": {
              "color": "white"
             }
            },
            "type": "table"
           }
          ]
         },
         "layout": {
          "annotationdefaults": {
           "arrowcolor": "#2a3f5f",
           "arrowhead": 0,
           "arrowwidth": 1
          },
          "autotypenumbers": "strict",
          "coloraxis": {
           "colorbar": {
            "outlinewidth": 0,
            "ticks": ""
           }
          },
          "colorscale": {
           "diverging": [
            [
             0,
             "#8e0152"
            ],
            [
             0.1,
             "#c51b7d"
            ],
            [
             0.2,
             "#de77ae"
            ],
            [
             0.3,
             "#f1b6da"
            ],
            [
             0.4,
             "#fde0ef"
            ],
            [
             0.5,
             "#f7f7f7"
            ],
            [
             0.6,
             "#e6f5d0"
            ],
            [
             0.7,
             "#b8e186"
            ],
            [
             0.8,
             "#7fbc41"
            ],
            [
             0.9,
             "#4d9221"
            ],
            [
             1,
             "#276419"
            ]
           ],
           "sequential": [
            [
             0,
             "#0d0887"
            ],
            [
             0.1111111111111111,
             "#46039f"
            ],
            [
             0.2222222222222222,
             "#7201a8"
            ],
            [
             0.3333333333333333,
             "#9c179e"
            ],
            [
             0.4444444444444444,
             "#bd3786"
            ],
            [
             0.5555555555555556,
             "#d8576b"
            ],
            [
             0.6666666666666666,
             "#ed7953"
            ],
            [
             0.7777777777777778,
             "#fb9f3a"
            ],
            [
             0.8888888888888888,
             "#fdca26"
            ],
            [
             1,
             "#f0f921"
            ]
           ],
           "sequentialminus": [
            [
             0,
             "#0d0887"
            ],
            [
             0.1111111111111111,
             "#46039f"
            ],
            [
             0.2222222222222222,
             "#7201a8"
            ],
            [
             0.3333333333333333,
             "#9c179e"
            ],
            [
             0.4444444444444444,
             "#bd3786"
            ],
            [
             0.5555555555555556,
             "#d8576b"
            ],
            [
             0.6666666666666666,
             "#ed7953"
            ],
            [
             0.7777777777777778,
             "#fb9f3a"
            ],
            [
             0.8888888888888888,
             "#fdca26"
            ],
            [
             1,
             "#f0f921"
            ]
           ]
          },
          "colorway": [
           "#636efa",
           "#EF553B",
           "#00cc96",
           "#ab63fa",
           "#FFA15A",
           "#19d3f3",
           "#FF6692",
           "#B6E880",
           "#FF97FF",
           "#FECB52"
          ],
          "font": {
           "color": "#2a3f5f"
          },
          "geo": {
           "bgcolor": "white",
           "lakecolor": "white",
           "landcolor": "#E5ECF6",
           "showlakes": true,
           "showland": true,
           "subunitcolor": "white"
          },
          "hoverlabel": {
           "align": "left"
          },
          "hovermode": "closest",
          "mapbox": {
           "style": "light"
          },
          "paper_bgcolor": "white",
          "plot_bgcolor": "#E5ECF6",
          "polar": {
           "angularaxis": {
            "gridcolor": "white",
            "linecolor": "white",
            "ticks": ""
           },
           "bgcolor": "#E5ECF6",
           "radialaxis": {
            "gridcolor": "white",
            "linecolor": "white",
            "ticks": ""
           }
          },
          "scene": {
           "xaxis": {
            "backgroundcolor": "#E5ECF6",
            "gridcolor": "white",
            "gridwidth": 2,
            "linecolor": "white",
            "showbackground": true,
            "ticks": "",
            "zerolinecolor": "white"
           },
           "yaxis": {
            "backgroundcolor": "#E5ECF6",
            "gridcolor": "white",
            "gridwidth": 2,
            "linecolor": "white",
            "showbackground": true,
            "ticks": "",
            "zerolinecolor": "white"
           },
           "zaxis": {
            "backgroundcolor": "#E5ECF6",
            "gridcolor": "white",
            "gridwidth": 2,
            "linecolor": "white",
            "showbackground": true,
            "ticks": "",
            "zerolinecolor": "white"
           }
          },
          "shapedefaults": {
           "line": {
            "color": "#2a3f5f"
           }
          },
          "ternary": {
           "aaxis": {
            "gridcolor": "white",
            "linecolor": "white",
            "ticks": ""
           },
           "baxis": {
            "gridcolor": "white",
            "linecolor": "white",
            "ticks": ""
           },
           "bgcolor": "#E5ECF6",
           "caxis": {
            "gridcolor": "white",
            "linecolor": "white",
            "ticks": ""
           }
          },
          "title": {
           "x": 0.05
          },
          "xaxis": {
           "automargin": true,
           "gridcolor": "white",
           "linecolor": "white",
           "ticks": "",
           "title": {
            "standoff": 15
           },
           "zerolinecolor": "white",
           "zerolinewidth": 2
          },
          "yaxis": {
           "automargin": true,
           "gridcolor": "white",
           "linecolor": "white",
           "ticks": "",
           "title": {
            "standoff": 15
           },
           "zerolinecolor": "white",
           "zerolinewidth": 2
          }
         }
        },
        "xaxis": {
         "showgrid": false,
         "showticklabels": false,
         "zeroline": false
        },
        "yaxis": {
         "showgrid": false,
         "showticklabels": false,
         "zeroline": false
        }
       }
      }
     },
     "metadata": {},
     "output_type": "display_data"
    }
   ],
   "source": [
    "G, trip_counts = define_graph(filtered_df, district_counts, NORMALISE_BY_POP=True, remove_weak_edges=False, threshold=0.2)\n",
    "G = update_node_sizes(G, income, var_of_interest)\n",
    "positions = get_positions(gdf)\n",
    "edge_widths = set_art(G, 0.1)\n",
    "fig = plotly_graph(G, positions, edge_widths, var_of_interest, node_size_scale=0.003)\n",
    "fig.show()"
   ]
  },
  {
   "cell_type": "code",
   "execution_count": 53,
   "metadata": {},
   "outputs": [
    {
     "data": {
      "application/vnd.plotly.v1+json": {
       "config": {
        "plotlyServerURL": "https://plot.ly"
       },
       "data": [
        {
         "hoverinfo": "text",
         "line": {
          "color": "rgba(242.23529411764707, 250.05882352941177, 214.4705882352941, 1.0)",
          "width": 4.582633580962852
         },
         "mode": "lines",
         "showlegend": false,
         "text": "Width: 4.58",
         "type": "scatter",
         "x": [
          -3.705268804063821,
          -3.705268804063821,
          null
         ],
         "y": [
          40.41733007020507,
          40.41733007020507,
          null
         ]
        },
        {
         "hoverinfo": "text",
         "line": {
          "color": "rgba(221.92156862745105, 241.98039215686276, 247.41176470588238, 1.0)",
          "width": 3.9707371730234735
         },
         "mode": "lines",
         "showlegend": false,
         "text": "Width: 3.97",
         "type": "scatter",
         "x": [
          -3.705268804063821,
          -3.6966151949203576,
          null
         ],
         "y": [
          40.41733007020507,
          40.398119933450886,
          null
         ]
        },
        {
         "hoverinfo": "text",
         "line": {
          "color": "rgba(172.03921568627453, 217.50980392156862, 233.29411764705884, 1.0)",
          "width": 3.0417557102830903
         },
         "mode": "lines",
         "showlegend": false,
         "text": "Width: 3.04",
         "type": "scatter",
         "x": [
          -3.705268804063821,
          -3.67643837848883,
          null
         ],
         "y": [
          40.41733007020507,
          40.41138084576659,
          null
         ]
        },
        {
         "hoverinfo": "text",
         "line": {
          "color": "rgba(182.4313725490196, 222.6078431372549, 236.23529411764707, 1.0)",
          "width": 3.2201554528450864
         },
         "mode": "lines",
         "showlegend": false,
         "text": "Width: 3.22",
         "type": "scatter",
         "x": [
          -3.705268804063821,
          -3.6737887354917422,
          null
         ],
         "y": [
          40.41733007020507,
          40.43018370922185,
          null
         ]
        },
        {
         "hoverinfo": "text",
         "line": {
          "color": "rgba(254.39215686274508, 254.76470588235296, 192.1176470588235, 1.0)",
          "width": 4.9650688359249635
         },
         "mode": "lines",
         "showlegend": false,
         "text": "Width: 4.97",
         "type": "scatter",
         "x": [
          -3.705268804063821,
          -3.703523951395161,
          null
         ],
         "y": [
          40.41733007020507,
          40.4375595509298,
          null
         ]
        },
        {
         "hoverinfo": "text",
         "line": {
          "color": "rgba(219.84313725490202, 240.9607843137255, 246.82352941176472, 1.0)",
          "width": 3.9219871844788523
         },
         "mode": "lines",
         "showlegend": false,
         "text": "Width: 3.92",
         "type": "scatter",
         "x": [
          -3.705268804063821,
          -3.757223268157654,
          null
         ],
         "y": [
          40.41733007020507,
          40.44543508494524,
          null
         ]
        },
        {
         "hoverinfo": "text",
         "line": {
          "color": "rgba(163.45098039215688, 210.96078431372553, 229.7058823529412, 1.0)",
          "width": 2.8885714790372767
         },
         "mode": "lines",
         "showlegend": false,
         "text": "Width: 2.89",
         "type": "scatter",
         "x": [
          -3.705268804063821,
          -3.778616540618283,
          null
         ],
         "y": [
          40.41733007020507,
          40.385273701511004,
          null
         ]
        },
        {
         "hoverinfo": "text",
         "line": {
          "color": "rgba(148.35294117647058, 198.88235294117646, 223.1176470588235, 1.0)",
          "width": 2.6040564596863427
         },
         "mode": "lines",
         "showlegend": false,
         "text": "Width: 2.60",
         "type": "scatter",
         "x": [
          -3.705268804063821,
          -3.737112400757822,
          null
         ],
         "y": [
          40.41733007020507,
          40.378840354576816,
          null
         ]
        },
        {
         "hoverinfo": "text",
         "line": {
          "color": "rgba(254.98039215686273, 254.39215686274508, 190.07843137254903, 1.0)",
          "width": 5.03703964064613
         },
         "mode": "lines",
         "showlegend": false,
         "text": "Width: 5.04",
         "type": "scatter",
         "x": [
          -3.6966151949203576,
          -3.705268804063821,
          null
         ],
         "y": [
          40.398119933450886,
          40.41733007020507,
          null
         ]
        },
        {
         "hoverinfo": "text",
         "line": {
          "color": "rgba(231.29411764705884, 245.8235294117647, 234.5882352941176, 1.0)",
          "width": 4.243841774765177
         },
         "mode": "lines",
         "showlegend": false,
         "text": "Width: 4.24",
         "type": "scatter",
         "x": [
          -3.6966151949203576,
          -3.6966151949203576,
          null
         ],
         "y": [
          40.398119933450886,
          40.398119933450886,
          null
         ]
        },
        {
         "hoverinfo": "text",
         "line": {
          "color": "rgba(205.29411764705887, 233.82352941176472, 242.7058823529412, 1.0)",
          "width": 3.6446665325742
         },
         "mode": "lines",
         "showlegend": false,
         "text": "Width: 3.64",
         "type": "scatter",
         "x": [
          -3.6966151949203576,
          -3.67643837848883,
          null
         ],
         "y": [
          40.398119933450886,
          40.41138084576659,
          null
         ]
        },
        {
         "hoverinfo": "text",
         "line": {
          "color": "rgba(144.03921568627453, 195.4313725490196, 221.23529411764707, 1.0)",
          "width": 2.504940088253409
         },
         "mode": "lines",
         "showlegend": false,
         "text": "Width: 2.50",
         "type": "scatter",
         "x": [
          -3.6966151949203576,
          -3.757223268157654,
          null
         ],
         "y": [
          40.398119933450886,
          40.44543508494524,
          null
         ]
        },
        {
         "hoverinfo": "text",
         "line": {
          "color": "rgba(141.8823529411765, 193.70588235294122, 220.2941176470588, 1.0)",
          "width": 2.4788617786176594
         },
         "mode": "lines",
         "showlegend": false,
         "text": "Width: 2.48",
         "type": "scatter",
         "x": [
          -3.6966151949203576,
          -3.778616540618283,
          null
         ],
         "y": [
          40.398119933450886,
          40.385273701511004,
          null
         ]
        },
        {
         "hoverinfo": "text",
         "line": {
          "color": "rgba(228.86274509803923, 244.88235294117646, 239.05882352941174, 1.0)",
          "width": 4.167901737105875
         },
         "mode": "lines",
         "showlegend": false,
         "text": "Width: 4.17",
         "type": "scatter",
         "x": [
          -3.6966151949203576,
          -3.737112400757822,
          null
         ],
         "y": [
          40.398119933450886,
          40.378840354576816,
          null
         ]
        },
        {
         "hoverinfo": "text",
         "line": {
          "color": "rgba(228.86274509803923, 244.88235294117646, 239.05882352941174, 1.0)",
          "width": 4.177081302097659
         },
         "mode": "lines",
         "showlegend": false,
         "text": "Width: 4.18",
         "type": "scatter",
         "x": [
          -3.6966151949203576,
          -3.7029808755455926,
          null
         ],
         "y": [
          40.398119933450886,
          40.37595000318738,
          null
         ]
        },
        {
         "hoverinfo": "text",
         "line": {
          "color": "rgba(128.94117647058823, 183.3529411764706, 214.64705882352942, 1.0)",
          "width": 2.2620988689253108
         },
         "mode": "lines",
         "showlegend": false,
         "text": "Width: 2.26",
         "type": "scatter",
         "x": [
          -3.6966151949203576,
          -3.6598634715735407,
          null
         ],
         "y": [
          40.398119933450886,
          40.38355078734683,
          null
         ]
        },
        {
         "hoverinfo": "text",
         "line": {
          "color": "rgba(236.15686274509804, 247.7058823529412, 225.64705882352936, 1.0)",
          "width": 4.380315752584545
         },
         "mode": "lines",
         "showlegend": false,
         "text": "Width: 4.38",
         "type": "scatter",
         "x": [
          -3.67643837848883,
          -3.705268804063821,
          null
         ],
         "y": [
          40.41138084576659,
          40.41733007020507,
          null
         ]
        },
        {
         "hoverinfo": "text",
         "line": {
          "color": "rgba(201.13725490196083, 231.7843137254902, 241.52941176470588, 1.0)",
          "width": 3.556401951073648
         },
         "mode": "lines",
         "showlegend": false,
         "text": "Width: 3.56",
         "type": "scatter",
         "x": [
          -3.67643837848883,
          -3.6966151949203576,
          null
         ],
         "y": [
          40.41138084576659,
          40.398119933450886,
          null
         ]
        },
        {
         "hoverinfo": "text",
         "line": {
          "color": "rgba(238.58823529411765, 248.6470588235294, 221.1764705882353, 1.0)",
          "width": 4.474606262587378
         },
         "mode": "lines",
         "showlegend": false,
         "text": "Width: 4.47",
         "type": "scatter",
         "x": [
          -3.67643837848883,
          -3.67643837848883,
          null
         ],
         "y": [
          40.41138084576659,
          40.41138084576659,
          null
         ]
        },
        {
         "hoverinfo": "text",
         "line": {
          "color": "rgba(245.8823529411765, 251.47058823529412, 207.76470588235293, 1.0)",
          "width": 4.720426609823982
         },
         "mode": "lines",
         "showlegend": false,
         "text": "Width: 4.72",
         "type": "scatter",
         "x": [
          -3.67643837848883,
          -3.6737887354917422,
          null
         ],
         "y": [
          40.41138084576659,
          40.43018370922185,
          null
         ]
        },
        {
         "hoverinfo": "text",
         "line": {
          "color": "rgba(120.31372549019609, 176.45098039215688, 210.88235294117646, 1.0)",
          "width": 2.1085557319873325
         },
         "mode": "lines",
         "showlegend": false,
         "text": "Width: 2.11",
         "type": "scatter",
         "x": [
          -3.67643837848883,
          -3.703523951395161,
          null
         ],
         "y": [
          40.41138084576659,
          40.4375595509298,
          null
         ]
        },
        {
         "hoverinfo": "text",
         "line": {
          "color": "rgba(244.66666666666669, 251.0, 210.0, 1.0)",
          "width": 4.652499441408843
         },
         "mode": "lines",
         "showlegend": false,
         "text": "Width: 4.65",
         "type": "scatter",
         "x": [
          -3.67643837848883,
          -3.6598634715735407,
          null
         ],
         "y": [
          40.41138084576659,
          40.38355078734683,
          null
         ]
        },
        {
         "hoverinfo": "text",
         "line": {
          "color": "rgba(203.21568627450984, 232.80392156862746, 242.11764705882354, 1.0)",
          "width": 3.6043784826116134
         },
         "mode": "lines",
         "showlegend": false,
         "text": "Width: 3.60",
         "type": "scatter",
         "x": [
          -3.67643837848883,
          -3.6413909394895803,
          null
         ],
         "y": [
          40.41138084576659,
          40.40661270611631,
          null
         ]
        },
        {
         "hoverinfo": "text",
         "line": {
          "color": "rgba(184.50980392156865, 223.62745098039218, 236.82352941176472, 1.0)",
          "width": 3.2687724206352833
         },
         "mode": "lines",
         "showlegend": false,
         "text": "Width: 3.27",
         "type": "scatter",
         "x": [
          -3.6737887354917422,
          -3.705268804063821,
          null
         ],
         "y": [
          40.43018370922185,
          40.41733007020507,
          null
         ]
        },
        {
         "hoverinfo": "text",
         "line": {
          "color": "rgba(211.52941176470594, 236.8823529411765, 244.47058823529412, 1.0)",
          "width": 3.7850794782233126
         },
         "mode": "lines",
         "showlegend": false,
         "text": "Width: 3.79",
         "type": "scatter",
         "x": [
          -3.6737887354917422,
          -3.67643837848883,
          null
         ],
         "y": [
          40.43018370922185,
          40.41138084576659,
          null
         ]
        },
        {
         "hoverinfo": "text",
         "line": {
          "color": "rgba(244.66666666666669, 251.0, 210.0, 1.0)",
          "width": 4.686819102478728
         },
         "mode": "lines",
         "showlegend": false,
         "text": "Width: 4.69",
         "type": "scatter",
         "x": [
          -3.6737887354917422,
          -3.6737887354917422,
          null
         ],
         "y": [
          40.43018370922185,
          40.43018370922185,
          null
         ]
        },
        {
         "hoverinfo": "text",
         "line": {
          "color": "rgba(248.31372549019608, 252.41176470588232, 203.29411764705884, 1.0)",
          "width": 4.785574212843755
         },
         "mode": "lines",
         "showlegend": false,
         "text": "Width: 4.79",
         "type": "scatter",
         "x": [
          -3.6737887354917422,
          -3.678150006537061,
          null
         ],
         "y": [
          40.43018370922185,
          40.45750039357669,
          null
         ]
        },
        {
         "hoverinfo": "text",
         "line": {
          "color": "rgba(234.94117647058826, 247.23529411764704, 227.8823529411764, 1.0)",
          "width": 4.3505243941240375
         },
         "mode": "lines",
         "showlegend": false,
         "text": "Width: 4.35",
         "type": "scatter",
         "x": [
          -3.6737887354917422,
          -3.703523951395161,
          null
         ],
         "y": [
          40.43018370922185,
          40.4375595509298,
          null
         ]
        },
        {
         "hoverinfo": "text",
         "line": {
          "color": "rgba(144.03921568627453, 195.4313725490196, 221.23529411764707, 1.0)",
          "width": 2.5098921307914117
         },
         "mode": "lines",
         "showlegend": false,
         "text": "Width: 2.51",
         "type": "scatter",
         "x": [
          -3.6737887354917422,
          -3.6413909394895803,
          null
         ],
         "y": [
          40.43018370922185,
          40.40661270611631,
          null
         ]
        },
        {
         "hoverinfo": "text",
         "line": {
          "color": "rgba(248.31372549019608, 252.41176470588232, 203.29411764705884, 1.0)",
          "width": 4.794682693896839
         },
         "mode": "lines",
         "showlegend": false,
         "text": "Width: 4.79",
         "type": "scatter",
         "x": [
          -3.6737887354917422,
          -3.649948514601449,
          null
         ],
         "y": [
          40.43018370922185,
          40.43926990707227,
          null
         ]
        },
        {
         "hoverinfo": "text",
         "line": {
          "color": "rgba(254.19607843137257, 230.07843137254906, 153.21568627450984, 1.0)",
          "width": 5.798671391897404
         },
         "mode": "lines",
         "showlegend": false,
         "text": "Width: 5.80",
         "type": "scatter",
         "x": [
          -3.703523951395161,
          -3.705268804063821,
          null
         ],
         "y": [
          40.4375595509298,
          40.41733007020507,
          null
         ]
        },
        {
         "hoverinfo": "text",
         "line": {
          "color": "rgba(241.01960784313727, 249.58823529411765, 216.70588235294116, 1.0)",
          "width": 4.532142630198295
         },
         "mode": "lines",
         "showlegend": false,
         "text": "Width: 4.53",
         "type": "scatter",
         "x": [
          -3.703523951395161,
          -3.6737887354917422,
          null
         ],
         "y": [
          40.4375595509298,
          40.43018370922185,
          null
         ]
        },
        {
         "hoverinfo": "text",
         "line": {
          "color": "rgba(226.43137254901964, 243.94117647058823, 243.52941176470583, 1.0)",
          "width": 4.084112107570239
         },
         "mode": "lines",
         "showlegend": false,
         "text": "Width: 4.08",
         "type": "scatter",
         "x": [
          -3.703523951395161,
          -3.678150006537061,
          null
         ],
         "y": [
          40.4375595509298,
          40.45750039357669,
          null
         ]
        },
        {
         "hoverinfo": "text",
         "line": {
          "color": "rgba(242.23529411764707, 250.05882352941177, 214.4705882352941, 1.0)",
          "width": 4.601775692620022
         },
         "mode": "lines",
         "showlegend": false,
         "text": "Width: 4.60",
         "type": "scatter",
         "x": [
          -3.703523951395161,
          -3.6999935507976827,
          null
         ],
         "y": [
          40.4375595509298,
          40.4606484776773,
          null
         ]
        },
        {
         "hoverinfo": "text",
         "line": {
          "color": "rgba(254.39215686274508, 254.76470588235296, 192.1176470588235, 1.0)",
          "width": 4.961835620373653
         },
         "mode": "lines",
         "showlegend": false,
         "text": "Width: 4.96",
         "type": "scatter",
         "x": [
          -3.703523951395161,
          -3.703523951395161,
          null
         ],
         "y": [
          40.4375595509298,
          40.4375595509298,
          null
         ]
        },
        {
         "hoverinfo": "text",
         "line": {
          "color": "rgba(124.62745098039218, 179.90196078431376, 212.76470588235296, 1.0)",
          "width": 2.1861774987161042
         },
         "mode": "lines",
         "showlegend": false,
         "text": "Width: 2.19",
         "type": "scatter",
         "x": [
          -3.703523951395161,
          -3.753579560856663,
          null
         ],
         "y": [
          40.4375595509298,
          40.54479435831404,
          null
         ]
        },
        {
         "hoverinfo": "text",
         "line": {
          "color": "rgba(245.8823529411765, 251.47058823529412, 207.76470588235293, 1.0)",
          "width": 4.702136512124647
         },
         "mode": "lines",
         "showlegend": false,
         "text": "Width: 4.70",
         "type": "scatter",
         "x": [
          -3.703523951395161,
          -3.757223268157654,
          null
         ],
         "y": [
          40.4375595509298,
          40.44543508494524,
          null
         ]
        },
        {
         "hoverinfo": "text",
         "line": {
          "color": "rgba(241.01960784313727, 249.58823529411765, 216.70588235294116, 1.0)",
          "width": 4.549786670334406
         },
         "mode": "lines",
         "showlegend": false,
         "text": "Width: 4.55",
         "type": "scatter",
         "x": [
          -3.757223268157654,
          -3.705268804063821,
          null
         ],
         "y": [
          40.44543508494524,
          40.41733007020507,
          null
         ]
        },
        {
         "hoverinfo": "text",
         "line": {
          "color": "rgba(230.07843137254906, 245.3529411764706, 236.82352941176467, 1.0)",
          "width": 4.205972983506201
         },
         "mode": "lines",
         "showlegend": false,
         "text": "Width: 4.21",
         "type": "scatter",
         "x": [
          -3.757223268157654,
          -3.6999935507976827,
          null
         ],
         "y": [
          40.44543508494524,
          40.4606484776773,
          null
         ]
        },
        {
         "hoverinfo": "text",
         "line": {
          "color": "rgba(253.1764705882353, 254.2941176470588, 194.35294117647058, 1.0)",
          "width": 4.957550570034187
         },
         "mode": "lines",
         "showlegend": false,
         "text": "Width: 4.96",
         "type": "scatter",
         "x": [
          -3.757223268157654,
          -3.703523951395161,
          null
         ],
         "y": [
          40.44543508494524,
          40.4375595509298,
          null
         ]
        },
        {
         "hoverinfo": "text",
         "line": {
          "color": "rgba(253.1764705882353, 254.2941176470588, 194.35294117647058, 1.0)",
          "width": 4.95018003702526
         },
         "mode": "lines",
         "showlegend": false,
         "text": "Width: 4.95",
         "type": "scatter",
         "x": [
          -3.757223268157654,
          -3.753579560856663,
          null
         ],
         "y": [
          40.44543508494524,
          40.54479435831404,
          null
         ]
        },
        {
         "hoverinfo": "text",
         "line": {
          "color": "rgba(254.03921568627453, 225.2156862745098, 145.84313725490196, 1.0)",
          "width": 5.9376146798389255
         },
         "mode": "lines",
         "showlegend": false,
         "text": "Width: 5.94",
         "type": "scatter",
         "x": [
          -3.757223268157654,
          -3.757223268157654,
          null
         ],
         "y": [
          40.44543508494524,
          40.44543508494524,
          null
         ]
        },
        {
         "hoverinfo": "text",
         "line": {
          "color": "rgba(233.72549019607845, 246.76470588235296, 230.11764705882348, 1.0)",
          "width": 4.301356351857026
         },
         "mode": "lines",
         "showlegend": false,
         "text": "Width: 4.30",
         "type": "scatter",
         "x": [
          -3.757223268157654,
          -3.778616540618283,
          null
         ],
         "y": [
          40.44543508494524,
          40.385273701511004,
          null
         ]
        },
        {
         "hoverinfo": "text",
         "line": {
          "color": "rgba(219.84313725490202, 240.9607843137255, 246.82352941176472, 1.0)",
          "width": 3.9336349376605977
         },
         "mode": "lines",
         "showlegend": false,
         "text": "Width: 3.93",
         "type": "scatter",
         "x": [
          -3.778616540618283,
          -3.705268804063821,
          null
         ],
         "y": [
          40.385273701511004,
          40.41733007020507,
          null
         ]
        },
        {
         "hoverinfo": "text",
         "line": {
          "color": "rgba(163.45098039215688, 210.96078431372553, 229.7058823529412, 1.0)",
          "width": 2.8621458781279117
         },
         "mode": "lines",
         "showlegend": false,
         "text": "Width: 2.86",
         "type": "scatter",
         "x": [
          -3.778616540618283,
          -3.6966151949203576,
          null
         ],
         "y": [
          40.385273701511004,
          40.398119933450886,
          null
         ]
        },
        {
         "hoverinfo": "text",
         "line": {
          "color": "rgba(118.15686274509807, 174.72549019607845, 209.94117647058823, 1.0)",
          "width": 2.0501332190231345
         },
         "mode": "lines",
         "showlegend": false,
         "text": "Width: 2.05",
         "type": "scatter",
         "x": [
          -3.778616540618283,
          -3.678150006537061,
          null
         ],
         "y": [
          40.385273701511004,
          40.45750039357669,
          null
         ]
        },
        {
         "hoverinfo": "text",
         "line": {
          "color": "rgba(133.2549019607843, 186.8039215686275, 216.52941176470588, 1.0)",
          "width": 2.3271083685262224
         },
         "mode": "lines",
         "showlegend": false,
         "text": "Width: 2.33",
         "type": "scatter",
         "x": [
          -3.778616540618283,
          -3.703523951395161,
          null
         ],
         "y": [
          40.385273701511004,
          40.4375595509298,
          null
         ]
        },
        {
         "hoverinfo": "text",
         "line": {
          "color": "rgba(242.23529411764707, 250.05882352941177, 214.4705882352941, 1.0)",
          "width": 4.609369460028374
         },
         "mode": "lines",
         "showlegend": false,
         "text": "Width: 4.61",
         "type": "scatter",
         "x": [
          -3.778616540618283,
          -3.757223268157654,
          null
         ],
         "y": [
          40.385273701511004,
          40.44543508494524,
          null
         ]
        },
        {
         "hoverinfo": "text",
         "line": {
          "color": "rgba(254.86274509803923, 250.74509803921566, 184.54901960784315, 1.0)",
          "width": 5.155012272099869
         },
         "mode": "lines",
         "showlegend": false,
         "text": "Width: 5.16",
         "type": "scatter",
         "x": [
          -3.778616540618283,
          -3.778616540618283,
          null
         ],
         "y": [
          40.385273701511004,
          40.385273701511004,
          null
         ]
        },
        {
         "hoverinfo": "text",
         "line": {
          "color": "rgba(248.31372549019608, 252.41176470588232, 203.29411764705884, 1.0)",
          "width": 4.7903666221797225
         },
         "mode": "lines",
         "showlegend": false,
         "text": "Width: 4.79",
         "type": "scatter",
         "x": [
          -3.778616540618283,
          -3.737112400757822,
          null
         ],
         "y": [
          40.385273701511004,
          40.378840354576816,
          null
         ]
        },
        {
         "hoverinfo": "text",
         "line": {
          "color": "rgba(167.76470588235296, 214.41176470588235, 231.58823529411765, 1.0)",
          "width": 2.941381715715224
         },
         "mode": "lines",
         "showlegend": false,
         "text": "Width: 2.94",
         "type": "scatter",
         "x": [
          -3.737112400757822,
          -3.705268804063821,
          null
         ],
         "y": [
          40.378840354576816,
          40.41733007020507,
          null
         ]
        },
        {
         "hoverinfo": "text",
         "line": {
          "color": "rgba(217.76470588235298, 239.94117647058823, 246.23529411764704, 1.0)",
          "width": 3.8707421923242413
         },
         "mode": "lines",
         "showlegend": false,
         "text": "Width: 3.87",
         "type": "scatter",
         "x": [
          -3.737112400757822,
          -3.6966151949203576,
          null
         ],
         "y": [
          40.378840354576816,
          40.398119933450886,
          null
         ]
        },
        {
         "hoverinfo": "text",
         "line": {
          "color": "rgba(116.00000000000003, 173.00000000000003, 209.0, 1.0)",
          "width": 2.0049558247652164
         },
         "mode": "lines",
         "showlegend": false,
         "text": "Width: 2.00",
         "type": "scatter",
         "x": [
          -3.737112400757822,
          -3.757223268157654,
          null
         ],
         "y": [
          40.378840354576816,
          40.44543508494524,
          null
         ]
        },
        {
         "hoverinfo": "text",
         "line": {
          "color": "rgba(237.37254901960787, 248.1764705882353, 223.41176470588232, 1.0)",
          "width": 4.4171916770873025
         },
         "mode": "lines",
         "showlegend": false,
         "text": "Width: 4.42",
         "type": "scatter",
         "x": [
          -3.737112400757822,
          -3.778616540618283,
          null
         ],
         "y": [
          40.378840354576816,
          40.385273701511004,
          null
         ]
        },
        {
         "hoverinfo": "text",
         "line": {
          "color": "rgba(254.90196078431373, 251.9607843137255, 186.3921568627451, 1.0)",
          "width": 5.082202261035791
         },
         "mode": "lines",
         "showlegend": false,
         "text": "Width: 5.08",
         "type": "scatter",
         "x": [
          -3.737112400757822,
          -3.737112400757822,
          null
         ],
         "y": [
          40.378840354576816,
          40.378840354576816,
          null
         ]
        },
        {
         "hoverinfo": "text",
         "line": {
          "color": "rgba(230.07843137254906, 245.3529411764706, 236.82352941176467, 1.0)",
          "width": 4.186790238699345
         },
         "mode": "lines",
         "showlegend": false,
         "text": "Width: 4.19",
         "type": "scatter",
         "x": [
          -3.737112400757822,
          -3.7029808755455926,
          null
         ],
         "y": [
          40.378840354576816,
          40.37595000318738,
          null
         ]
        },
        {
         "hoverinfo": "text",
         "line": {
          "color": "rgba(148.35294117647058, 198.88235294117646, 223.1176470588235, 1.0)",
          "width": 2.594345349734699
         },
         "mode": "lines",
         "showlegend": false,
         "text": "Width: 2.59",
         "type": "scatter",
         "x": [
          -3.7029808755455926,
          -3.705268804063821,
          null
         ],
         "y": [
          40.37595000318738,
          40.41733007020507,
          null
         ]
        },
        {
         "hoverinfo": "text",
         "line": {
          "color": "rgba(241.01960784313727, 249.58823529411765, 216.70588235294116, 1.0)",
          "width": 4.551059835563242
         },
         "mode": "lines",
         "showlegend": false,
         "text": "Width: 4.55",
         "type": "scatter",
         "x": [
          -3.7029808755455926,
          -3.6966151949203576,
          null
         ],
         "y": [
          40.37595000318738,
          40.398119933450886,
          null
         ]
        },
        {
         "hoverinfo": "text",
         "line": {
          "color": "rgba(247.09803921568627, 251.94117647058823, 205.52941176470588, 1.0)",
          "width": 4.737721471122456
         },
         "mode": "lines",
         "showlegend": false,
         "text": "Width: 4.74",
         "type": "scatter",
         "x": [
          -3.7029808755455926,
          -3.737112400757822,
          null
         ],
         "y": [
          40.37595000318738,
          40.378840354576816,
          null
         ]
        },
        {
         "hoverinfo": "text",
         "line": {
          "color": "rgba(250.7450980392157, 253.3529411764706, 198.8235294117647, 1.0)",
          "width": 4.865151928470702
         },
         "mode": "lines",
         "showlegend": false,
         "text": "Width: 4.87",
         "type": "scatter",
         "x": [
          -3.7029808755455926,
          -3.7029808755455926,
          null
         ],
         "y": [
          40.37595000318738,
          40.37595000318738,
          null
         ]
        },
        {
         "hoverinfo": "text",
         "line": {
          "color": "rgba(182.4313725490196, 222.6078431372549, 236.23529411764707, 1.0)",
          "width": 3.2171069628965014
         },
         "mode": "lines",
         "showlegend": false,
         "text": "Width: 3.22",
         "type": "scatter",
         "x": [
          -3.7029808755455926,
          -3.6598634715735407,
          null
         ],
         "y": [
          40.37595000318738,
          40.38355078734683,
          null
         ]
        },
        {
         "hoverinfo": "text",
         "line": {
          "color": "rgba(234.94117647058826, 247.23529411764704, 227.8823529411764, 1.0)",
          "width": 4.3721149380103865
         },
         "mode": "lines",
         "showlegend": false,
         "text": "Width: 4.37",
         "type": "scatter",
         "x": [
          -3.7029808755455926,
          -3.695056256825152,
          null
         ],
         "y": [
          40.37595000318738,
          40.34253624126977,
          null
         ]
        },
        {
         "hoverinfo": "text",
         "line": {
          "color": "rgba(159.1372549019608, 207.50980392156865, 227.82352941176472, 1.0)",
          "width": 2.799974436566205
         },
         "mode": "lines",
         "showlegend": false,
         "text": "Width: 2.80",
         "type": "scatter",
         "x": [
          -3.6598634715735407,
          -3.6966151949203576,
          null
         ],
         "y": [
          40.38355078734683,
          40.398119933450886,
          null
         ]
        },
        {
         "hoverinfo": "text",
         "line": {
          "color": "rgba(203.21568627450984, 232.80392156862746, 242.11764705882354, 1.0)",
          "width": 3.617087985806372
         },
         "mode": "lines",
         "showlegend": false,
         "text": "Width: 3.62",
         "type": "scatter",
         "x": [
          -3.6598634715735407,
          -3.67643837848883,
          null
         ],
         "y": [
          40.38355078734683,
          40.41138084576659,
          null
         ]
        },
        {
         "hoverinfo": "text",
         "line": {
          "color": "rgba(156.98039215686276, 205.78431372549022, 226.88235294117646, 1.0)",
          "width": 2.7548080952596288
         },
         "mode": "lines",
         "showlegend": false,
         "text": "Width: 2.75",
         "type": "scatter",
         "x": [
          -3.6598634715735407,
          -3.7029808755455926,
          null
         ],
         "y": [
          40.38355078734683,
          40.37595000318738,
          null
         ]
        },
        {
         "hoverinfo": "text",
         "line": {
          "color": "rgba(231.29411764705884, 245.8235294117647, 234.5882352941176, 1.0)",
          "width": 4.255301629415274
         },
         "mode": "lines",
         "showlegend": false,
         "text": "Width: 4.26",
         "type": "scatter",
         "x": [
          -3.6598634715735407,
          -3.6598634715735407,
          null
         ],
         "y": [
          40.38355078734683,
          40.38355078734683,
          null
         ]
        },
        {
         "hoverinfo": "text",
         "line": {
          "color": "rgba(169.921568627451, 216.1372549019608, 232.52941176470588, 1.0)",
          "width": 2.9946163569199578
         },
         "mode": "lines",
         "showlegend": false,
         "text": "Width: 2.99",
         "type": "scatter",
         "x": [
          -3.6598634715735407,
          -3.6413909394895803,
          null
         ],
         "y": [
          40.38355078734683,
          40.40661270611631,
          null
         ]
        },
        {
         "hoverinfo": "text",
         "line": {
          "color": "rgba(126.78431372549022, 181.62745098039218, 213.7058823529412, 1.0)",
          "width": 2.2106051750868922
         },
         "mode": "lines",
         "showlegend": false,
         "text": "Width: 2.21",
         "type": "scatter",
         "x": [
          -3.6598634715735407,
          -3.695056256825152,
          null
         ],
         "y": [
          40.38355078734683,
          40.34253624126977,
          null
         ]
        },
        {
         "hoverinfo": "text",
         "line": {
          "color": "rgba(211.52941176470594, 236.8823529411765, 244.47058823529412, 1.0)",
          "width": 3.77083009220824
         },
         "mode": "lines",
         "showlegend": false,
         "text": "Width: 3.77",
         "type": "scatter",
         "x": [
          -3.6598634715735407,
          -3.6160073912284756,
          null
         ],
         "y": [
          40.38355078734683,
          40.34992967757026,
          null
         ]
        },
        {
         "hoverinfo": "text",
         "line": {
          "color": "rgba(126.78431372549022, 181.62745098039218, 213.7058823529412, 1.0)",
          "width": 2.189272538313427
         },
         "mode": "lines",
         "showlegend": false,
         "text": "Width: 2.19",
         "type": "scatter",
         "x": [
          -3.6598634715735407,
          -3.572894771748725,
          null
         ],
         "y": [
          40.38355078734683,
          40.39356859265691,
          null
         ]
        },
        {
         "hoverinfo": "text",
         "line": {
          "color": "rgba(236.15686274509804, 247.7058823529412, 225.64705882352936, 1.0)",
          "width": 4.397740373050615
         },
         "mode": "lines",
         "showlegend": false,
         "text": "Width: 4.40",
         "type": "scatter",
         "x": [
          -3.6413909394895803,
          -3.67643837848883,
          null
         ],
         "y": [
          40.40661270611631,
          40.41138084576659,
          null
         ]
        },
        {
         "hoverinfo": "text",
         "line": {
          "color": "rgba(211.52941176470594, 236.8823529411765, 244.47058823529412, 1.0)",
          "width": 3.7612834484157402
         },
         "mode": "lines",
         "showlegend": false,
         "text": "Width: 3.76",
         "type": "scatter",
         "x": [
          -3.6413909394895803,
          -3.6737887354917422,
          null
         ],
         "y": [
          40.40661270611631,
          40.43018370922185,
          null
         ]
        },
        {
         "hoverinfo": "text",
         "line": {
          "color": "rgba(248.31372549019608, 252.41176470588232, 203.29411764705884, 1.0)",
          "width": 4.7785692933248205
         },
         "mode": "lines",
         "showlegend": false,
         "text": "Width: 4.78",
         "type": "scatter",
         "x": [
          -3.6413909394895803,
          -3.6598634715735407,
          null
         ],
         "y": [
          40.40661270611631,
          40.38355078734683,
          null
         ]
        },
        {
         "hoverinfo": "text",
         "line": {
          "color": "rgba(230.07843137254906, 245.3529411764706, 236.82352941176467, 1.0)",
          "width": 4.187330122350188
         },
         "mode": "lines",
         "showlegend": false,
         "text": "Width: 4.19",
         "type": "scatter",
         "x": [
          -3.6413909394895803,
          -3.6413909394895803,
          null
         ],
         "y": [
          40.40661270611631,
          40.40661270611631,
          null
         ]
        },
        {
         "hoverinfo": "text",
         "line": {
          "color": "rgba(213.60784313725495, 237.90196078431376, 245.05882352941177, 1.0)",
          "width": 3.8158174226793498
         },
         "mode": "lines",
         "showlegend": false,
         "text": "Width: 3.82",
         "type": "scatter",
         "x": [
          -3.6413909394895803,
          -3.649948514601449,
          null
         ],
         "y": [
          40.40661270611631,
          40.43926990707227,
          null
         ]
        },
        {
         "hoverinfo": "text",
         "line": {
          "color": "rgba(124.62745098039218, 179.90196078431376, 212.76470588235296, 1.0)",
          "width": 2.1841154677336028
         },
         "mode": "lines",
         "showlegend": false,
         "text": "Width: 2.18",
         "type": "scatter",
         "x": [
          -3.6413909394895803,
          -3.6160073912284756,
          null
         ],
         "y": [
          40.40661270611631,
          40.34992967757026,
          null
         ]
        },
        {
         "hoverinfo": "text",
         "line": {
          "color": "rgba(186.58823529411765, 224.64705882352942, 237.41176470588235, 1.0)",
          "width": 3.3077425624567223
         },
         "mode": "lines",
         "showlegend": false,
         "text": "Width: 3.31",
         "type": "scatter",
         "x": [
          -3.6413909394895803,
          -3.572894771748725,
          null
         ],
         "y": [
          40.40661270611631,
          40.39356859265691,
          null
         ]
        },
        {
         "hoverinfo": "text",
         "line": {
          "color": "rgba(150.50980392156868, 200.60784313725495, 224.05882352941177, 1.0)",
          "width": 2.649699273009168
         },
         "mode": "lines",
         "showlegend": false,
         "text": "Width: 2.65",
         "type": "scatter",
         "x": [
          -3.6413909394895803,
          -3.5986526886701378,
          null
         ],
         "y": [
          40.40661270611631,
          40.43466852782298,
          null
         ]
        },
        {
         "hoverinfo": "text",
         "line": {
          "color": "rgba(249.52941176470588, 252.88235294117646, 201.05882352941174, 1.0)",
          "width": 4.84367334178804
         },
         "mode": "lines",
         "showlegend": false,
         "text": "Width: 4.84",
         "type": "scatter",
         "x": [
          -3.678150006537061,
          -3.6737887354917422,
          null
         ],
         "y": [
          40.45750039357669,
          40.43018370922185,
          null
         ]
        },
        {
         "hoverinfo": "text",
         "line": {
          "color": "rgba(254.39215686274508, 236.15686274509804, 162.4313725490196, 1.0)",
          "width": 5.6113856281118935
         },
         "mode": "lines",
         "showlegend": false,
         "text": "Width: 5.61",
         "type": "scatter",
         "x": [
          -3.678150006537061,
          -3.678150006537061,
          null
         ],
         "y": [
          40.45750039357669,
          40.45750039357669,
          null
         ]
        },
        {
         "hoverinfo": "text",
         "line": {
          "color": "rgba(226.43137254901964, 243.94117647058823, 243.52941176470583, 1.0)",
          "width": 4.084410349963625
         },
         "mode": "lines",
         "showlegend": false,
         "text": "Width: 4.08",
         "type": "scatter",
         "x": [
          -3.678150006537061,
          -3.6999935507976827,
          null
         ],
         "y": [
          40.45750039357669,
          40.4606484776773,
          null
         ]
        },
        {
         "hoverinfo": "text",
         "line": {
          "color": "rgba(224.00000000000003, 243.0, 247.99999999999994, 1.0)",
          "width": 4.004376754843957
         },
         "mode": "lines",
         "showlegend": false,
         "text": "Width: 4.00",
         "type": "scatter",
         "x": [
          -3.678150006537061,
          -3.703523951395161,
          null
         ],
         "y": [
          40.45750039357669,
          40.4375595509298,
          null
         ]
        },
        {
         "hoverinfo": "text",
         "line": {
          "color": "rgba(237.37254901960787, 248.1764705882353, 223.41176470588232, 1.0)",
          "width": 4.426841479815811
         },
         "mode": "lines",
         "showlegend": false,
         "text": "Width: 4.43",
         "type": "scatter",
         "x": [
          -3.678150006537061,
          -3.753579560856663,
          null
         ],
         "y": [
          40.45750039357669,
          40.54479435831404,
          null
         ]
        },
        {
         "hoverinfo": "text",
         "line": {
          "color": "rgba(236.15686274509804, 247.7058823529412, 225.64705882352936, 1.0)",
          "width": 4.388350249318376
         },
         "mode": "lines",
         "showlegend": false,
         "text": "Width: 4.39",
         "type": "scatter",
         "x": [
          -3.678150006537061,
          -3.649948514601449,
          null
         ],
         "y": [
          40.45750039357669,
          40.43926990707227,
          null
         ]
        },
        {
         "hoverinfo": "text",
         "line": {
          "color": "rgba(215.68627450980395, 238.921568627451, 245.64705882352942, 1.0)",
          "width": 3.8447789698545902
         },
         "mode": "lines",
         "showlegend": false,
         "text": "Width: 3.84",
         "type": "scatter",
         "x": [
          -3.678150006537061,
          -3.637741035389707,
          null
         ],
         "y": [
          40.45750039357669,
          40.48201214532898,
          null
         ]
        },
        {
         "hoverinfo": "text",
         "line": {
          "color": "rgba(135.41176470588238, 188.5294117647059, 217.47058823529412, 1.0)",
          "width": 2.380022195888148
         },
         "mode": "lines",
         "showlegend": false,
         "text": "Width: 2.38",
         "type": "scatter",
         "x": [
          -3.649948514601449,
          -3.67643837848883,
          null
         ],
         "y": [
          40.43926990707227,
          40.41138084576659,
          null
         ]
        },
        {
         "hoverinfo": "text",
         "line": {
          "color": "rgba(236.15686274509804, 247.7058823529412, 225.64705882352936, 1.0)",
          "width": 4.405119919036955
         },
         "mode": "lines",
         "showlegend": false,
         "text": "Width: 4.41",
         "type": "scatter",
         "x": [
          -3.649948514601449,
          -3.6737887354917422,
          null
         ],
         "y": [
          40.43926990707227,
          40.43018370922185,
          null
         ]
        },
        {
         "hoverinfo": "text",
         "line": {
          "color": "rgba(215.68627450980395, 238.921568627451, 245.64705882352942, 1.0)",
          "width": 3.8306194331277914
         },
         "mode": "lines",
         "showlegend": false,
         "text": "Width: 3.83",
         "type": "scatter",
         "x": [
          -3.649948514601449,
          -3.678150006537061,
          null
         ],
         "y": [
          40.43926990707227,
          40.45750039357669,
          null
         ]
        },
        {
         "hoverinfo": "text",
         "line": {
          "color": "rgba(120.31372549019609, 176.45098039215688, 210.88235294117646, 1.0)",
          "width": 2.090133603974167
         },
         "mode": "lines",
         "showlegend": false,
         "text": "Width: 2.09",
         "type": "scatter",
         "x": [
          -3.649948514601449,
          -3.753579560856663,
          null
         ],
         "y": [
          40.43926990707227,
          40.54479435831404,
          null
         ]
        },
        {
         "hoverinfo": "text",
         "line": {
          "color": "rgba(188.6666666666667, 225.66666666666669, 238.0, 1.0)",
          "width": 3.3543974459562453
         },
         "mode": "lines",
         "showlegend": false,
         "text": "Width: 3.35",
         "type": "scatter",
         "x": [
          -3.649948514601449,
          -3.6413909394895803,
          null
         ],
         "y": [
          40.43926990707227,
          40.40661270611631,
          null
         ]
        },
        {
         "hoverinfo": "text",
         "line": {
          "color": "rgba(233.72549019607845, 246.76470588235296, 230.11764705882348, 1.0)",
          "width": 4.309479769258735
         },
         "mode": "lines",
         "showlegend": false,
         "text": "Width: 4.31",
         "type": "scatter",
         "x": [
          -3.649948514601449,
          -3.649948514601449,
          null
         ],
         "y": [
          40.43926990707227,
          40.43926990707227,
          null
         ]
        },
        {
         "hoverinfo": "text",
         "line": {
          "color": "rgba(180.3529411764706, 221.58823529411765, 235.64705882352942, 1.0)",
          "width": 3.1946124371026343
         },
         "mode": "lines",
         "showlegend": false,
         "text": "Width: 3.19",
         "type": "scatter",
         "x": [
          -3.649948514601449,
          -3.637741035389707,
          null
         ],
         "y": [
          40.43926990707227,
          40.48201214532898,
          null
         ]
        },
        {
         "hoverinfo": "text",
         "line": {
          "color": "rgba(226.43137254901964, 243.94117647058823, 243.52941176470583, 1.0)",
          "width": 4.090496805628607
         },
         "mode": "lines",
         "showlegend": false,
         "text": "Width: 4.09",
         "type": "scatter",
         "x": [
          -3.649948514601449,
          -3.5986526886701378,
          null
         ],
         "y": [
          40.43926990707227,
          40.43466852782298,
          null
         ]
        },
        {
         "hoverinfo": "text",
         "line": {
          "color": "rgba(128.94117647058823, 183.3529411764706, 214.64705882352942, 1.0)",
          "width": 2.249891831328005
         },
         "mode": "lines",
         "showlegend": false,
         "text": "Width: 2.25",
         "type": "scatter",
         "x": [
          -3.6999935507976827,
          -3.705268804063821,
          null
         ],
         "y": [
          40.4606484776773,
          40.41733007020507,
          null
         ]
        },
        {
         "hoverinfo": "text",
         "line": {
          "color": "rgba(120.31372549019609, 176.45098039215688, 210.88235294117646, 1.0)",
          "width": 2.090069488050978
         },
         "mode": "lines",
         "showlegend": false,
         "text": "Width: 2.09",
         "type": "scatter",
         "x": [
          -3.6999935507976827,
          -3.6737887354917422,
          null
         ],
         "y": [
          40.4606484776773,
          40.43018370922185,
          null
         ]
        },
        {
         "hoverinfo": "text",
         "line": {
          "color": "rgba(254.39215686274508, 254.76470588235296, 192.1176470588235, 1.0)",
          "width": 4.971178935863365
         },
         "mode": "lines",
         "showlegend": false,
         "text": "Width: 4.97",
         "type": "scatter",
         "x": [
          -3.6999935507976827,
          -3.678150006537061,
          null
         ],
         "y": [
          40.4606484776773,
          40.45750039357669,
          null
         ]
        },
        {
         "hoverinfo": "text",
         "line": {
          "color": "rgba(254.39215686274508, 254.76470588235296, 192.1176470588235, 1.0)",
          "width": 4.9825138538262745
         },
         "mode": "lines",
         "showlegend": false,
         "text": "Width: 4.98",
         "type": "scatter",
         "x": [
          -3.6999935507976827,
          -3.6999935507976827,
          null
         ],
         "y": [
          40.4606484776773,
          40.4606484776773,
          null
         ]
        },
        {
         "hoverinfo": "text",
         "line": {
          "color": "rgba(254.90196078431373, 251.9607843137255, 186.3921568627451, 1.0)",
          "width": 5.113772203836768
         },
         "mode": "lines",
         "showlegend": false,
         "text": "Width: 5.11",
         "type": "scatter",
         "x": [
          -3.6999935507976827,
          -3.703523951395161,
          null
         ],
         "y": [
          40.4606484776773,
          40.4375595509298,
          null
         ]
        },
        {
         "hoverinfo": "text",
         "line": {
          "color": "rgba(253.76470588235296, 212.23529411764707, 132.94117647058823, 1.0)",
          "width": 6.215752928190848
         },
         "mode": "lines",
         "showlegend": false,
         "text": "Width: 6.22",
         "type": "scatter",
         "x": [
          -3.6999935507976827,
          -3.753579560856663,
          null
         ],
         "y": [
          40.4606484776773,
          40.54479435831404,
          null
         ]
        },
        {
         "hoverinfo": "text",
         "line": {
          "color": "rgba(243.45098039215688, 250.52941176470588, 212.23529411764704, 1.0)",
          "width": 4.642012918220466
         },
         "mode": "lines",
         "showlegend": false,
         "text": "Width: 4.64",
         "type": "scatter",
         "x": [
          -3.6999935507976827,
          -3.757223268157654,
          null
         ],
         "y": [
          40.4606484776773,
          40.44543508494524,
          null
         ]
        },
        {
         "hoverinfo": "text",
         "line": {
          "color": "rgba(122.47058823529414, 178.1764705882353, 211.82352941176472, 1.0)",
          "width": 2.1354065697660753
         },
         "mode": "lines",
         "showlegend": false,
         "text": "Width: 2.14",
         "type": "scatter",
         "x": [
          -3.753579560856663,
          -3.705268804063821,
          null
         ],
         "y": [
          40.54479435831404,
          40.41733007020507,
          null
         ]
        },
        {
         "hoverinfo": "text",
         "line": {
          "color": "rgba(196.98039215686276, 229.7450980392157, 240.35294117647058, 1.0)",
          "width": 3.513715521551997
         },
         "mode": "lines",
         "showlegend": false,
         "text": "Width: 3.51",
         "type": "scatter",
         "x": [
          -3.753579560856663,
          -3.678150006537061,
          null
         ],
         "y": [
          40.54479435831404,
          40.45750039357669,
          null
         ]
        },
        {
         "hoverinfo": "text",
         "line": {
          "color": "rgba(250.7450980392157, 253.3529411764706, 198.8235294117647, 1.0)",
          "width": 4.872849334887919
         },
         "mode": "lines",
         "showlegend": false,
         "text": "Width: 4.87",
         "type": "scatter",
         "x": [
          -3.753579560856663,
          -3.6999935507976827,
          null
         ],
         "y": [
          40.54479435831404,
          40.4606484776773,
          null
         ]
        },
        {
         "hoverinfo": "text",
         "line": {
          "color": "rgba(128.94117647058823, 183.3529411764706, 214.64705882352942, 1.0)",
          "width": 2.2489233893900686
         },
         "mode": "lines",
         "showlegend": false,
         "text": "Width: 2.25",
         "type": "scatter",
         "x": [
          -3.753579560856663,
          -3.703523951395161,
          null
         ],
         "y": [
          40.54479435831404,
          40.4375595509298,
          null
         ]
        },
        {
         "hoverinfo": "text",
         "line": {
          "color": "rgba(253.2941176470588, 188.70588235294116, 110.82352941176471, 1.0)",
          "width": 6.684324664259315
         },
         "mode": "lines",
         "showlegend": false,
         "text": "Width: 6.68",
         "type": "scatter",
         "x": [
          -3.753579560856663,
          -3.753579560856663,
          null
         ],
         "y": [
          40.54479435831404,
          40.54479435831404,
          null
         ]
        },
        {
         "hoverinfo": "text",
         "line": {
          "color": "rgba(237.37254901960787, 248.1764705882353, 223.41176470588232, 1.0)",
          "width": 4.4527220514484425
         },
         "mode": "lines",
         "showlegend": false,
         "text": "Width: 4.45",
         "type": "scatter",
         "x": [
          -3.753579560856663,
          -3.757223268157654,
          null
         ],
         "y": [
          40.54479435831404,
          40.44543508494524,
          null
         ]
        },
        {
         "hoverinfo": "text",
         "line": {
          "color": "rgba(118.15686274509807, 174.72549019607845, 209.94117647058823, 1.0)",
          "width": 2.069252342113579
         },
         "mode": "lines",
         "showlegend": false,
         "text": "Width: 2.07",
         "type": "scatter",
         "x": [
          -3.753579560856663,
          -3.649948514601449,
          null
         ],
         "y": [
          40.54479435831404,
          40.43926990707227,
          null
         ]
        },
        {
         "hoverinfo": "text",
         "line": {
          "color": "rgba(238.58823529411765, 248.6470588235294, 221.1764705882353, 1.0)",
          "width": 4.486278543735941
         },
         "mode": "lines",
         "showlegend": false,
         "text": "Width: 4.49",
         "type": "scatter",
         "x": [
          -3.753579560856663,
          -3.637741035389707,
          null
         ],
         "y": [
          40.54479435831404,
          40.48201214532898,
          null
         ]
        },
        {
         "hoverinfo": "text",
         "line": {
          "color": "rgba(219.84313725490202, 240.9607843137255, 246.82352941176472, 1.0)",
          "width": 3.912185887025518
         },
         "mode": "lines",
         "showlegend": false,
         "text": "Width: 3.91",
         "type": "scatter",
         "x": [
          -3.637741035389707,
          -3.678150006537061,
          null
         ],
         "y": [
          40.48201214532898,
          40.45750039357669,
          null
         ]
        },
        {
         "hoverinfo": "text",
         "line": {
          "color": "rgba(247.09803921568627, 251.94117647058823, 205.52941176470588, 1.0)",
          "width": 4.7448626695929645
         },
         "mode": "lines",
         "showlegend": false,
         "text": "Width: 4.74",
         "type": "scatter",
         "x": [
          -3.637741035389707,
          -3.753579560856663,
          null
         ],
         "y": [
          40.48201214532898,
          40.54479435831404,
          null
         ]
        },
        {
         "hoverinfo": "text",
         "line": {
          "color": "rgba(238.58823529411765, 248.6470588235294, 221.1764705882353, 1.0)",
          "width": 4.4775065833672585
         },
         "mode": "lines",
         "showlegend": false,
         "text": "Width: 4.48",
         "type": "scatter",
         "x": [
          -3.637741035389707,
          -3.649948514601449,
          null
         ],
         "y": [
          40.48201214532898,
          40.43926990707227,
          null
         ]
        },
        {
         "hoverinfo": "text",
         "line": {
          "color": "rgba(253.49019607843138, 198.50980392156865, 120.0392156862745, 1.0)",
          "width": 6.498502045132606
         },
         "mode": "lines",
         "showlegend": false,
         "text": "Width: 6.50",
         "type": "scatter",
         "x": [
          -3.637741035389707,
          -3.637741035389707,
          null
         ],
         "y": [
          40.48201214532898,
          40.48201214532898,
          null
         ]
        },
        {
         "hoverinfo": "text",
         "line": {
          "color": "rgba(227.64705882352945, 244.41176470588235, 241.29411764705878, 1.0)",
          "width": 4.124155120497302
         },
         "mode": "lines",
         "showlegend": false,
         "text": "Width: 4.12",
         "type": "scatter",
         "x": [
          -3.637741035389707,
          -3.5986526886701378,
          null
         ],
         "y": [
          40.48201214532898,
          40.43466852782298,
          null
         ]
        },
        {
         "hoverinfo": "text",
         "line": {
          "color": "rgba(211.52941176470594, 236.8823529411765, 244.47058823529412, 1.0)",
          "width": 3.779132507665529
         },
         "mode": "lines",
         "showlegend": false,
         "text": "Width: 3.78",
         "type": "scatter",
         "x": [
          -3.637741035389707,
          -3.574543479322823,
          null
         ],
         "y": [
          40.48201214532898,
          40.4757410696608,
          null
         ]
        },
        {
         "hoverinfo": "text",
         "line": {
          "color": "rgba(128.94117647058823, 183.3529411764706, 214.64705882352942, 1.0)",
          "width": 2.2388204703671555
         },
         "mode": "lines",
         "showlegend": false,
         "text": "Width: 2.24",
         "type": "scatter",
         "x": [
          -3.695056256825152,
          -3.705268804063821,
          null
         ],
         "y": [
          40.34253624126977,
          40.41733007020507,
          null
         ]
        },
        {
         "hoverinfo": "text",
         "line": {
          "color": "rgba(116.00000000000003, 173.00000000000003, 209.0, 1.0)",
          "width": 2.011052868808953
         },
         "mode": "lines",
         "showlegend": false,
         "text": "Width: 2.01",
         "type": "scatter",
         "x": [
          -3.695056256825152,
          -3.6737887354917422,
          null
         ],
         "y": [
          40.34253624126977,
          40.43018370922185,
          null
         ]
        },
        {
         "hoverinfo": "text",
         "line": {
          "color": "rgba(124.62745098039218, 179.90196078431376, 212.76470588235296, 1.0)",
          "width": 2.1653968388871156
         },
         "mode": "lines",
         "showlegend": false,
         "text": "Width: 2.17",
         "type": "scatter",
         "x": [
          -3.695056256825152,
          -3.703523951395161,
          null
         ],
         "y": [
          40.34253624126977,
          40.4375595509298,
          null
         ]
        },
        {
         "hoverinfo": "text",
         "line": {
          "color": "rgba(131.0980392156863, 185.07843137254903, 215.58823529411765, 1.0)",
          "width": 2.289312997721297
         },
         "mode": "lines",
         "showlegend": false,
         "text": "Width: 2.29",
         "type": "scatter",
         "x": [
          -3.695056256825152,
          -3.737112400757822,
          null
         ],
         "y": [
          40.34253624126977,
          40.378840354576816,
          null
         ]
        },
        {
         "hoverinfo": "text",
         "line": {
          "color": "rgba(250.7450980392157, 253.3529411764706, 198.8235294117647, 1.0)",
          "width": 4.869282703270695
         },
         "mode": "lines",
         "showlegend": false,
         "text": "Width: 4.87",
         "type": "scatter",
         "x": [
          -3.695056256825152,
          -3.7029808755455926,
          null
         ],
         "y": [
          40.34253624126977,
          40.37595000318738,
          null
         ]
        },
        {
         "hoverinfo": "text",
         "line": {
          "color": "rgba(144.03921568627453, 195.4313725490196, 221.23529411764707, 1.0)",
          "width": 2.5142142112637624
         },
         "mode": "lines",
         "showlegend": false,
         "text": "Width: 2.51",
         "type": "scatter",
         "x": [
          -3.695056256825152,
          -3.6598634715735407,
          null
         ],
         "y": [
          40.34253624126977,
          40.38355078734683,
          null
         ]
        },
        {
         "hoverinfo": "text",
         "line": {
          "color": "rgba(253.33333333333334, 190.66666666666666, 112.66666666666666, 1.0)",
          "width": 6.674445679027717
         },
         "mode": "lines",
         "showlegend": false,
         "text": "Width: 6.67",
         "type": "scatter",
         "x": [
          -3.695056256825152,
          -3.695056256825152,
          null
         ],
         "y": [
          40.34253624126977,
          40.34253624126977,
          null
         ]
        },
        {
         "hoverinfo": "text",
         "line": {
          "color": "rgba(190.74509803921572, 226.68627450980395, 238.58823529411765, 1.0)",
          "width": 3.3648699777802635
         },
         "mode": "lines",
         "showlegend": false,
         "text": "Width: 3.36",
         "type": "scatter",
         "x": [
          -3.695056256825152,
          -3.6160073912284756,
          null
         ],
         "y": [
          40.34253624126977,
          40.34992967757026,
          null
         ]
        },
        {
         "hoverinfo": "text",
         "line": {
          "color": "rgba(126.78431372549022, 181.62745098039218, 213.7058823529412, 1.0)",
          "width": 2.2000451871437714
         },
         "mode": "lines",
         "showlegend": false,
         "text": "Width: 2.20",
         "type": "scatter",
         "x": [
          -3.6160073912284756,
          -3.705268804063821,
          null
         ],
         "y": [
          40.34992967757026,
          40.41733007020507,
          null
         ]
        },
        {
         "hoverinfo": "text",
         "line": {
          "color": "rgba(254.7450980392157, 247.09803921568627, 179.01960784313724, 1.0)",
          "width": 5.253099743563993
         },
         "mode": "lines",
         "showlegend": false,
         "text": "Width: 5.25",
         "type": "scatter",
         "x": [
          -3.6160073912284756,
          -3.6598634715735407,
          null
         ],
         "y": [
          40.34992967757026,
          40.38355078734683,
          null
         ]
        },
        {
         "hoverinfo": "text",
         "line": {
          "color": "rgba(194.90196078431376, 228.72549019607843, 239.76470588235296, 1.0)",
          "width": 3.445482690296116
         },
         "mode": "lines",
         "showlegend": false,
         "text": "Width: 3.45",
         "type": "scatter",
         "x": [
          -3.6160073912284756,
          -3.695056256825152,
          null
         ],
         "y": [
          40.34992967757026,
          40.34253624126977,
          null
         ]
        },
        {
         "hoverinfo": "text",
         "line": {
          "color": "rgba(253.72549019607843, 210.27450980392157, 131.09803921568627, 1.0)",
          "width": 6.272245886773806
         },
         "mode": "lines",
         "showlegend": false,
         "text": "Width: 6.27",
         "type": "scatter",
         "x": [
          -3.6160073912284756,
          -3.6160073912284756,
          null
         ],
         "y": [
          40.34992967757026,
          40.34992967757026,
          null
         ]
        },
        {
         "hoverinfo": "text",
         "line": {
          "color": "rgba(239.80392156862746, 249.11764705882354, 218.9411764705882, 1.0)",
          "width": 4.501369866116525
         },
         "mode": "lines",
         "showlegend": false,
         "text": "Width: 4.50",
         "type": "scatter",
         "x": [
          -3.6160073912284756,
          -3.572894771748725,
          null
         ],
         "y": [
          40.34992967757026,
          40.39356859265691,
          null
         ]
        },
        {
         "hoverinfo": "text",
         "line": {
          "color": "rgba(118.15686274509807, 174.72549019607845, 209.94117647058823, 1.0)",
          "width": 2.0355095328497685
         },
         "mode": "lines",
         "showlegend": false,
         "text": "Width: 2.04",
         "type": "scatter",
         "x": [
          -3.572894771748725,
          -3.6737887354917422,
          null
         ],
         "y": [
          40.39356859265691,
          40.43018370922185,
          null
         ]
        },
        {
         "hoverinfo": "text",
         "line": {
          "color": "rgba(207.37254901960787, 234.843137254902, 243.2941176470588, 1.0)",
          "width": 3.6751538907572927
         },
         "mode": "lines",
         "showlegend": false,
         "text": "Width: 3.68",
         "type": "scatter",
         "x": [
          -3.572894771748725,
          -3.6598634715735407,
          null
         ],
         "y": [
          40.39356859265691,
          40.38355078734683,
          null
         ]
        },
        {
         "hoverinfo": "text",
         "line": {
          "color": "rgba(201.13725490196083, 231.7843137254902, 241.52941176470588, 1.0)",
          "width": 3.587469812003033
         },
         "mode": "lines",
         "showlegend": false,
         "text": "Width: 3.59",
         "type": "scatter",
         "x": [
          -3.572894771748725,
          -3.6413909394895803,
          null
         ],
         "y": [
          40.39356859265691,
          40.40661270611631,
          null
         ]
        },
        {
         "hoverinfo": "text",
         "line": {
          "color": "rgba(126.78431372549022, 181.62745098039218, 213.7058823529412, 1.0)",
          "width": 2.189316031648224
         },
         "mode": "lines",
         "showlegend": false,
         "text": "Width: 2.19",
         "type": "scatter",
         "x": [
          -3.572894771748725,
          -3.649948514601449,
          null
         ],
         "y": [
          40.39356859265691,
          40.43926990707227,
          null
         ]
        },
        {
         "hoverinfo": "text",
         "line": {
          "color": "rgba(247.09803921568627, 251.94117647058823, 205.52941176470588, 1.0)",
          "width": 4.729519001679415
         },
         "mode": "lines",
         "showlegend": false,
         "text": "Width: 4.73",
         "type": "scatter",
         "x": [
          -3.572894771748725,
          -3.6160073912284756,
          null
         ],
         "y": [
          40.39356859265691,
          40.34992967757026,
          null
         ]
        },
        {
         "hoverinfo": "text",
         "line": {
          "color": "rgba(253.76470588235296, 212.23529411764707, 132.94117647058823, 1.0)",
          "width": 6.215596434774151
         },
         "mode": "lines",
         "showlegend": false,
         "text": "Width: 6.22",
         "type": "scatter",
         "x": [
          -3.572894771748725,
          -3.572894771748725,
          null
         ],
         "y": [
          40.39356859265691,
          40.39356859265691,
          null
         ]
        },
        {
         "hoverinfo": "text",
         "line": {
          "color": "rgba(250.7450980392157, 253.3529411764706, 198.8235294117647, 1.0)",
          "width": 4.879252742721525
         },
         "mode": "lines",
         "showlegend": false,
         "text": "Width: 4.88",
         "type": "scatter",
         "x": [
          -3.572894771748725,
          -3.5986526886701378,
          null
         ],
         "y": [
          40.39356859265691,
          40.43466852782298,
          null
         ]
        },
        {
         "hoverinfo": "text",
         "line": {
          "color": "rgba(118.15686274509807, 174.72549019607845, 209.94117647058823, 1.0)",
          "width": 2.064029658837953
         },
         "mode": "lines",
         "showlegend": false,
         "text": "Width: 2.06",
         "type": "scatter",
         "x": [
          -3.5986526886701378,
          -3.753579560856663,
          null
         ],
         "y": [
          40.43466852782298,
          40.54479435831404,
          null
         ]
        },
        {
         "hoverinfo": "text",
         "line": {
          "color": "rgba(239.80392156862746, 249.11764705882354, 218.9411764705882, 1.0)",
          "width": 4.527153238021869
         },
         "mode": "lines",
         "showlegend": false,
         "text": "Width: 4.53",
         "type": "scatter",
         "x": [
          -3.5986526886701378,
          -3.649948514601449,
          null
         ],
         "y": [
          40.43466852782298,
          40.43926990707227,
          null
         ]
        },
        {
         "hoverinfo": "text",
         "line": {
          "color": "rgba(201.13725490196083, 231.7843137254902, 241.52941176470588, 1.0)",
          "width": 3.567388770306891
         },
         "mode": "lines",
         "showlegend": false,
         "text": "Width: 3.57",
         "type": "scatter",
         "x": [
          -3.5986526886701378,
          -3.637741035389707,
          null
         ],
         "y": [
          40.43466852782298,
          40.48201214532898,
          null
         ]
        },
        {
         "hoverinfo": "text",
         "line": {
          "color": "rgba(232.50980392156865, 246.2941176470588, 232.35294117647052, 1.0)",
          "width": 4.272847374338372
         },
         "mode": "lines",
         "showlegend": false,
         "text": "Width: 4.27",
         "type": "scatter",
         "x": [
          -3.5986526886701378,
          -3.572894771748725,
          null
         ],
         "y": [
          40.43466852782298,
          40.39356859265691,
          null
         ]
        },
        {
         "hoverinfo": "text",
         "line": {
          "color": "rgba(254.50980392156862, 239.80392156862743, 167.9607843137255, 1.0)",
          "width": 5.5017809137354545
         },
         "mode": "lines",
         "showlegend": false,
         "text": "Width: 5.50",
         "type": "scatter",
         "x": [
          -3.5986526886701378,
          -3.5986526886701378,
          null
         ],
         "y": [
          40.43466852782298,
          40.43466852782298,
          null
         ]
        },
        {
         "hoverinfo": "text",
         "line": {
          "color": "rgba(219.84313725490202, 240.9607843137255, 246.82352941176472, 1.0)",
          "width": 3.926824641785418
         },
         "mode": "lines",
         "showlegend": false,
         "text": "Width: 3.93",
         "type": "scatter",
         "x": [
          -3.5986526886701378,
          -3.574543479322823,
          null
         ],
         "y": [
          40.43466852782298,
          40.4757410696608,
          null
         ]
        },
        {
         "hoverinfo": "text",
         "line": {
          "color": "rgba(156.98039215686276, 205.78431372549022, 226.88235294117646, 1.0)",
          "width": 2.7533688280043527
         },
         "mode": "lines",
         "showlegend": false,
         "text": "Width: 2.75",
         "type": "scatter",
         "x": [
          -3.574543479322823,
          -3.753579560856663,
          null
         ],
         "y": [
          40.4757410696608,
          40.54479435831404,
          null
         ]
        },
        {
         "hoverinfo": "text",
         "line": {
          "color": "rgba(249.29411764705884, 147.23529411764707, 84.64705882352942, 1.0)",
          "width": 7.412493207774636
         },
         "mode": "lines",
         "showlegend": false,
         "text": "Width: 7.41",
         "type": "scatter",
         "x": [
          -3.574543479322823,
          -3.637741035389707,
          null
         ],
         "y": [
          40.4757410696608,
          40.48201214532898,
          null
         ]
        },
        {
         "hoverinfo": "text",
         "line": {
          "color": "rgba(253.0980392156863, 178.90196078431373, 101.60784313725489, 1.0)",
          "width": 6.896604003094189
         },
         "mode": "lines",
         "showlegend": false,
         "text": "Width: 6.90",
         "type": "scatter",
         "x": [
          -3.574543479322823,
          -3.5986526886701378,
          null
         ],
         "y": [
          40.4757410696608,
          40.43466852782298,
          null
         ]
        },
        {
         "hoverinfo": "text",
         "line": {
          "color": "rgba(165.0, 0.0, 38.0, 1.0)",
          "width": 10
         },
         "mode": "lines",
         "showlegend": false,
         "text": "Width: 10.00",
         "type": "scatter",
         "x": [
          -3.574543479322823,
          -3.574543479322823,
          null
         ],
         "y": [
          40.4757410696608,
          40.4757410696608,
          null
         ]
        },
        {
         "hoverinfo": "text",
         "marker": {
          "color": "white",
          "line": {
           "color": "#888",
           "width": 2
          },
          "size": [
           29.97981405674691,
           16.051864658038955,
           18.909987386526467,
           30.7387630668978,
           26.528902257932007,
           30.7387630668978,
           17.10759871580813,
           18.909987386526467,
           19.34137840352026,
           16.83987879207686,
           16.706967939118996,
           30.7387630668978,
           23.00534874913049,
           26.007036490992977,
           20.82175639613911,
           25.320868886096314,
           17.24240978471136,
           16.181628534532305,
           15.286399793678036,
           19.925673301675904,
           19.053135848433982
          ]
         },
         "mode": "markers",
         "showlegend": false,
         "text": [
          "District: Centro",
          "District: Arganzuela",
          "District: Retiro",
          "District: Salamanca",
          "District: Chamberí",
          "District: Moncloa-Aravaca",
          "District: Latina",
          "District: Carabanchel",
          "District: Usera",
          "District: Puente de Vallecas",
          "District: Moratalaz",
          "District: Chamartín",
          "District: Ciudad Lineal",
          "District: Tetuán",
          "District: Fuencarral-El Pardo",
          "District: Hortaleza",
          "District: Villaverde",
          "District: Villa de Vallecas",
          "District: Vicálvaro",
          "District: San Blas-Canillejas",
          "District: Barajas"
         ],
         "type": "scatter",
         "x": [
          -3.705268804063821,
          -3.6966151949203576,
          -3.67643837848883,
          -3.6737887354917422,
          -3.703523951395161,
          -3.757223268157654,
          -3.778616540618283,
          -3.737112400757822,
          -3.7029808755455926,
          -3.6598634715735407,
          -3.6413909394895803,
          -3.678150006537061,
          -3.649948514601449,
          -3.6999935507976827,
          -3.753579560856663,
          -3.637741035389707,
          -3.695056256825152,
          -3.6160073912284756,
          -3.572894771748725,
          -3.5986526886701378,
          -3.574543479322823
         ],
         "y": [
          40.41733007020507,
          40.398119933450886,
          40.41138084576659,
          40.43018370922185,
          40.4375595509298,
          40.44543508494524,
          40.385273701511004,
          40.378840354576816,
          40.37595000318738,
          40.38355078734683,
          40.40661270611631,
          40.45750039357669,
          40.43926990707227,
          40.4606484776773,
          40.54479435831404,
          40.48201214532898,
          40.34253624126977,
          40.34992967757026,
          40.39356859265691,
          40.43466852782298,
          40.4757410696608
         ]
        },
        {
         "hoverinfo": "none",
         "marker": {
          "cmax": 1,
          "cmin": 0.20049558247652163,
          "colorbar": {
           "ticktext": [
            "0.20",
            "0.40",
            "0.60",
            "0.80",
            "1.00"
           ],
           "tickvals": [
            0.20049558247652163,
            0.4003716868573912,
            0.6002477912382608,
            0.8001238956191304,
            1
           ],
           "title": {
            "text": "Edge Weight"
           }
          },
          "colorscale": [
           [
            0,
            "rgb(49,54,149)"
           ],
           [
            0.1,
            "rgb(69,117,180)"
           ],
           [
            0.2,
            "rgb(116,173,209)"
           ],
           [
            0.3,
            "rgb(171,217,233)"
           ],
           [
            0.4,
            "rgb(224,243,248)"
           ],
           [
            0.5,
            "rgb(255,255,191)"
           ],
           [
            0.6,
            "rgb(254,224,144)"
           ],
           [
            0.7,
            "rgb(253,174,97)"
           ],
           [
            0.8,
            "rgb(244,109,67)"
           ],
           [
            0.9,
            "rgb(215,48,39)"
           ],
           [
            1,
            "rgb(165,0,38)"
           ]
          ],
          "showscale": true
         },
         "mode": "markers",
         "type": "scatter",
         "x": [
          null
         ],
         "y": [
          null
         ]
        }
       ],
       "layout": {
        "hovermode": "closest",
        "margin": {
         "b": 0,
         "l": 0,
         "r": 0,
         "t": 0
        },
        "showlegend": true,
        "template": {
         "data": {
          "bar": [
           {
            "error_x": {
             "color": "#2a3f5f"
            },
            "error_y": {
             "color": "#2a3f5f"
            },
            "marker": {
             "line": {
              "color": "#E5ECF6",
              "width": 0.5
             },
             "pattern": {
              "fillmode": "overlay",
              "size": 10,
              "solidity": 0.2
             }
            },
            "type": "bar"
           }
          ],
          "barpolar": [
           {
            "marker": {
             "line": {
              "color": "#E5ECF6",
              "width": 0.5
             },
             "pattern": {
              "fillmode": "overlay",
              "size": 10,
              "solidity": 0.2
             }
            },
            "type": "barpolar"
           }
          ],
          "carpet": [
           {
            "aaxis": {
             "endlinecolor": "#2a3f5f",
             "gridcolor": "white",
             "linecolor": "white",
             "minorgridcolor": "white",
             "startlinecolor": "#2a3f5f"
            },
            "baxis": {
             "endlinecolor": "#2a3f5f",
             "gridcolor": "white",
             "linecolor": "white",
             "minorgridcolor": "white",
             "startlinecolor": "#2a3f5f"
            },
            "type": "carpet"
           }
          ],
          "choropleth": [
           {
            "colorbar": {
             "outlinewidth": 0,
             "ticks": ""
            },
            "type": "choropleth"
           }
          ],
          "contour": [
           {
            "colorbar": {
             "outlinewidth": 0,
             "ticks": ""
            },
            "colorscale": [
             [
              0,
              "#0d0887"
             ],
             [
              0.1111111111111111,
              "#46039f"
             ],
             [
              0.2222222222222222,
              "#7201a8"
             ],
             [
              0.3333333333333333,
              "#9c179e"
             ],
             [
              0.4444444444444444,
              "#bd3786"
             ],
             [
              0.5555555555555556,
              "#d8576b"
             ],
             [
              0.6666666666666666,
              "#ed7953"
             ],
             [
              0.7777777777777778,
              "#fb9f3a"
             ],
             [
              0.8888888888888888,
              "#fdca26"
             ],
             [
              1,
              "#f0f921"
             ]
            ],
            "type": "contour"
           }
          ],
          "contourcarpet": [
           {
            "colorbar": {
             "outlinewidth": 0,
             "ticks": ""
            },
            "type": "contourcarpet"
           }
          ],
          "heatmap": [
           {
            "colorbar": {
             "outlinewidth": 0,
             "ticks": ""
            },
            "colorscale": [
             [
              0,
              "#0d0887"
             ],
             [
              0.1111111111111111,
              "#46039f"
             ],
             [
              0.2222222222222222,
              "#7201a8"
             ],
             [
              0.3333333333333333,
              "#9c179e"
             ],
             [
              0.4444444444444444,
              "#bd3786"
             ],
             [
              0.5555555555555556,
              "#d8576b"
             ],
             [
              0.6666666666666666,
              "#ed7953"
             ],
             [
              0.7777777777777778,
              "#fb9f3a"
             ],
             [
              0.8888888888888888,
              "#fdca26"
             ],
             [
              1,
              "#f0f921"
             ]
            ],
            "type": "heatmap"
           }
          ],
          "heatmapgl": [
           {
            "colorbar": {
             "outlinewidth": 0,
             "ticks": ""
            },
            "colorscale": [
             [
              0,
              "#0d0887"
             ],
             [
              0.1111111111111111,
              "#46039f"
             ],
             [
              0.2222222222222222,
              "#7201a8"
             ],
             [
              0.3333333333333333,
              "#9c179e"
             ],
             [
              0.4444444444444444,
              "#bd3786"
             ],
             [
              0.5555555555555556,
              "#d8576b"
             ],
             [
              0.6666666666666666,
              "#ed7953"
             ],
             [
              0.7777777777777778,
              "#fb9f3a"
             ],
             [
              0.8888888888888888,
              "#fdca26"
             ],
             [
              1,
              "#f0f921"
             ]
            ],
            "type": "heatmapgl"
           }
          ],
          "histogram": [
           {
            "marker": {
             "pattern": {
              "fillmode": "overlay",
              "size": 10,
              "solidity": 0.2
             }
            },
            "type": "histogram"
           }
          ],
          "histogram2d": [
           {
            "colorbar": {
             "outlinewidth": 0,
             "ticks": ""
            },
            "colorscale": [
             [
              0,
              "#0d0887"
             ],
             [
              0.1111111111111111,
              "#46039f"
             ],
             [
              0.2222222222222222,
              "#7201a8"
             ],
             [
              0.3333333333333333,
              "#9c179e"
             ],
             [
              0.4444444444444444,
              "#bd3786"
             ],
             [
              0.5555555555555556,
              "#d8576b"
             ],
             [
              0.6666666666666666,
              "#ed7953"
             ],
             [
              0.7777777777777778,
              "#fb9f3a"
             ],
             [
              0.8888888888888888,
              "#fdca26"
             ],
             [
              1,
              "#f0f921"
             ]
            ],
            "type": "histogram2d"
           }
          ],
          "histogram2dcontour": [
           {
            "colorbar": {
             "outlinewidth": 0,
             "ticks": ""
            },
            "colorscale": [
             [
              0,
              "#0d0887"
             ],
             [
              0.1111111111111111,
              "#46039f"
             ],
             [
              0.2222222222222222,
              "#7201a8"
             ],
             [
              0.3333333333333333,
              "#9c179e"
             ],
             [
              0.4444444444444444,
              "#bd3786"
             ],
             [
              0.5555555555555556,
              "#d8576b"
             ],
             [
              0.6666666666666666,
              "#ed7953"
             ],
             [
              0.7777777777777778,
              "#fb9f3a"
             ],
             [
              0.8888888888888888,
              "#fdca26"
             ],
             [
              1,
              "#f0f921"
             ]
            ],
            "type": "histogram2dcontour"
           }
          ],
          "mesh3d": [
           {
            "colorbar": {
             "outlinewidth": 0,
             "ticks": ""
            },
            "type": "mesh3d"
           }
          ],
          "parcoords": [
           {
            "line": {
             "colorbar": {
              "outlinewidth": 0,
              "ticks": ""
             }
            },
            "type": "parcoords"
           }
          ],
          "pie": [
           {
            "automargin": true,
            "type": "pie"
           }
          ],
          "scatter": [
           {
            "fillpattern": {
             "fillmode": "overlay",
             "size": 10,
             "solidity": 0.2
            },
            "type": "scatter"
           }
          ],
          "scatter3d": [
           {
            "line": {
             "colorbar": {
              "outlinewidth": 0,
              "ticks": ""
             }
            },
            "marker": {
             "colorbar": {
              "outlinewidth": 0,
              "ticks": ""
             }
            },
            "type": "scatter3d"
           }
          ],
          "scattercarpet": [
           {
            "marker": {
             "colorbar": {
              "outlinewidth": 0,
              "ticks": ""
             }
            },
            "type": "scattercarpet"
           }
          ],
          "scattergeo": [
           {
            "marker": {
             "colorbar": {
              "outlinewidth": 0,
              "ticks": ""
             }
            },
            "type": "scattergeo"
           }
          ],
          "scattergl": [
           {
            "marker": {
             "colorbar": {
              "outlinewidth": 0,
              "ticks": ""
             }
            },
            "type": "scattergl"
           }
          ],
          "scattermapbox": [
           {
            "marker": {
             "colorbar": {
              "outlinewidth": 0,
              "ticks": ""
             }
            },
            "type": "scattermapbox"
           }
          ],
          "scatterpolar": [
           {
            "marker": {
             "colorbar": {
              "outlinewidth": 0,
              "ticks": ""
             }
            },
            "type": "scatterpolar"
           }
          ],
          "scatterpolargl": [
           {
            "marker": {
             "colorbar": {
              "outlinewidth": 0,
              "ticks": ""
             }
            },
            "type": "scatterpolargl"
           }
          ],
          "scatterternary": [
           {
            "marker": {
             "colorbar": {
              "outlinewidth": 0,
              "ticks": ""
             }
            },
            "type": "scatterternary"
           }
          ],
          "surface": [
           {
            "colorbar": {
             "outlinewidth": 0,
             "ticks": ""
            },
            "colorscale": [
             [
              0,
              "#0d0887"
             ],
             [
              0.1111111111111111,
              "#46039f"
             ],
             [
              0.2222222222222222,
              "#7201a8"
             ],
             [
              0.3333333333333333,
              "#9c179e"
             ],
             [
              0.4444444444444444,
              "#bd3786"
             ],
             [
              0.5555555555555556,
              "#d8576b"
             ],
             [
              0.6666666666666666,
              "#ed7953"
             ],
             [
              0.7777777777777778,
              "#fb9f3a"
             ],
             [
              0.8888888888888888,
              "#fdca26"
             ],
             [
              1,
              "#f0f921"
             ]
            ],
            "type": "surface"
           }
          ],
          "table": [
           {
            "cells": {
             "fill": {
              "color": "#EBF0F8"
             },
             "line": {
              "color": "white"
             }
            },
            "header": {
             "fill": {
              "color": "#C8D4E3"
             },
             "line": {
              "color": "white"
             }
            },
            "type": "table"
           }
          ]
         },
         "layout": {
          "annotationdefaults": {
           "arrowcolor": "#2a3f5f",
           "arrowhead": 0,
           "arrowwidth": 1
          },
          "autotypenumbers": "strict",
          "coloraxis": {
           "colorbar": {
            "outlinewidth": 0,
            "ticks": ""
           }
          },
          "colorscale": {
           "diverging": [
            [
             0,
             "#8e0152"
            ],
            [
             0.1,
             "#c51b7d"
            ],
            [
             0.2,
             "#de77ae"
            ],
            [
             0.3,
             "#f1b6da"
            ],
            [
             0.4,
             "#fde0ef"
            ],
            [
             0.5,
             "#f7f7f7"
            ],
            [
             0.6,
             "#e6f5d0"
            ],
            [
             0.7,
             "#b8e186"
            ],
            [
             0.8,
             "#7fbc41"
            ],
            [
             0.9,
             "#4d9221"
            ],
            [
             1,
             "#276419"
            ]
           ],
           "sequential": [
            [
             0,
             "#0d0887"
            ],
            [
             0.1111111111111111,
             "#46039f"
            ],
            [
             0.2222222222222222,
             "#7201a8"
            ],
            [
             0.3333333333333333,
             "#9c179e"
            ],
            [
             0.4444444444444444,
             "#bd3786"
            ],
            [
             0.5555555555555556,
             "#d8576b"
            ],
            [
             0.6666666666666666,
             "#ed7953"
            ],
            [
             0.7777777777777778,
             "#fb9f3a"
            ],
            [
             0.8888888888888888,
             "#fdca26"
            ],
            [
             1,
             "#f0f921"
            ]
           ],
           "sequentialminus": [
            [
             0,
             "#0d0887"
            ],
            [
             0.1111111111111111,
             "#46039f"
            ],
            [
             0.2222222222222222,
             "#7201a8"
            ],
            [
             0.3333333333333333,
             "#9c179e"
            ],
            [
             0.4444444444444444,
             "#bd3786"
            ],
            [
             0.5555555555555556,
             "#d8576b"
            ],
            [
             0.6666666666666666,
             "#ed7953"
            ],
            [
             0.7777777777777778,
             "#fb9f3a"
            ],
            [
             0.8888888888888888,
             "#fdca26"
            ],
            [
             1,
             "#f0f921"
            ]
           ]
          },
          "colorway": [
           "#636efa",
           "#EF553B",
           "#00cc96",
           "#ab63fa",
           "#FFA15A",
           "#19d3f3",
           "#FF6692",
           "#B6E880",
           "#FF97FF",
           "#FECB52"
          ],
          "font": {
           "color": "#2a3f5f"
          },
          "geo": {
           "bgcolor": "white",
           "lakecolor": "white",
           "landcolor": "#E5ECF6",
           "showlakes": true,
           "showland": true,
           "subunitcolor": "white"
          },
          "hoverlabel": {
           "align": "left"
          },
          "hovermode": "closest",
          "mapbox": {
           "style": "light"
          },
          "paper_bgcolor": "white",
          "plot_bgcolor": "#E5ECF6",
          "polar": {
           "angularaxis": {
            "gridcolor": "white",
            "linecolor": "white",
            "ticks": ""
           },
           "bgcolor": "#E5ECF6",
           "radialaxis": {
            "gridcolor": "white",
            "linecolor": "white",
            "ticks": ""
           }
          },
          "scene": {
           "xaxis": {
            "backgroundcolor": "#E5ECF6",
            "gridcolor": "white",
            "gridwidth": 2,
            "linecolor": "white",
            "showbackground": true,
            "ticks": "",
            "zerolinecolor": "white"
           },
           "yaxis": {
            "backgroundcolor": "#E5ECF6",
            "gridcolor": "white",
            "gridwidth": 2,
            "linecolor": "white",
            "showbackground": true,
            "ticks": "",
            "zerolinecolor": "white"
           },
           "zaxis": {
            "backgroundcolor": "#E5ECF6",
            "gridcolor": "white",
            "gridwidth": 2,
            "linecolor": "white",
            "showbackground": true,
            "ticks": "",
            "zerolinecolor": "white"
           }
          },
          "shapedefaults": {
           "line": {
            "color": "#2a3f5f"
           }
          },
          "ternary": {
           "aaxis": {
            "gridcolor": "white",
            "linecolor": "white",
            "ticks": ""
           },
           "baxis": {
            "gridcolor": "white",
            "linecolor": "white",
            "ticks": ""
           },
           "bgcolor": "#E5ECF6",
           "caxis": {
            "gridcolor": "white",
            "linecolor": "white",
            "ticks": ""
           }
          },
          "title": {
           "x": 0.05
          },
          "xaxis": {
           "automargin": true,
           "gridcolor": "white",
           "linecolor": "white",
           "ticks": "",
           "title": {
            "standoff": 15
           },
           "zerolinecolor": "white",
           "zerolinewidth": 2
          },
          "yaxis": {
           "automargin": true,
           "gridcolor": "white",
           "linecolor": "white",
           "ticks": "",
           "title": {
            "standoff": 15
           },
           "zerolinecolor": "white",
           "zerolinewidth": 2
          }
         }
        },
        "xaxis": {
         "showgrid": false,
         "showticklabels": false,
         "zeroline": false
        },
        "yaxis": {
         "showgrid": false,
         "showticklabels": false,
         "zeroline": false
        }
       }
      }
     },
     "metadata": {},
     "output_type": "display_data"
    }
   ],
   "source": [
    "G2, trip_counts = define_graph(filtered_df,district_counts, NORMALISE_BY_POP=True, remove_weak_edges=True, threshold=0.20)\n",
    "G2 = update_node_sizes(G2, income, var_of_interest)\n",
    "positions = get_positions(gdf)\n",
    "edge_widths = set_art(G2, 0.1)\n",
    "fig = plotly_graph(G2, positions, edge_widths, var_of_interest, node_size_scale=0.003)\n",
    "fig.show()"
   ]
  },
  {
   "cell_type": "code",
   "execution_count": 12,
   "metadata": {},
   "outputs": [],
   "source": [
    "id_to_name = district_mapping.set_index('ID')['name_2'].to_dict()\n",
    "G = nx.relabel_nodes(G, id_to_name)"
   ]
  },
  {
   "cell_type": "code",
   "execution_count": 26,
   "metadata": {},
   "outputs": [
    {
     "data": {
      "text/plain": [
       "np.float64(0.3779132507665529)"
      ]
     },
     "execution_count": 26,
     "metadata": {},
     "output_type": "execute_result"
    }
   ],
   "source": [
    "G['Hortaleza']['Barajas'][\"weight\"]"
   ]
  },
  {
   "cell_type": "code",
   "execution_count": 21,
   "metadata": {},
   "outputs": [],
   "source": [
    "# G.out_edges('Centro', data=True)"
   ]
  },
  {
   "cell_type": "code",
   "execution_count": 16,
   "metadata": {},
   "outputs": [],
   "source": [
    "# saving graph\n",
    "import pickle\n",
    "pickle.dump(G, open('graphs/normalized_march_22_home_origin.pickle', 'wb'))"
   ]
  },
  {
   "cell_type": "code",
   "execution_count": 17,
   "metadata": {},
   "outputs": [],
   "source": [
    "adj_matrix = nx.adjacency_matrix(G, weight='weight').toarray()\n",
    "np.save('adjacency_matrices/normalized_filtered_df.npy', adj_matrix)"
   ]
  },
  {
   "cell_type": "code",
   "execution_count": 18,
   "metadata": {},
   "outputs": [],
   "source": [
    "adj_matrix = get_adj_matrix(G)"
   ]
  },
  {
   "cell_type": "code",
   "execution_count": 29,
   "metadata": {},
   "outputs": [
    {
     "data": {
      "image/png": "[encoded data removed]",
      "text/plain": [
       "<Figure size 1000x800 with 2 Axes>"
      ]
     },
     "metadata": {},
     "output_type": "display_data"
    }
   ],
   "source": [
    "plt.figure(figsize=(10, 8))\n",
    "sns.heatmap(\n",
    "    adj_matrix, \n",
    "    annot=True, \n",
    "    cmap='viridis', \n",
    "    cbar_kws={'label': 'Weights'}, \n",
    "    fmt=\".1f\"\n",
    ")\n",
    "plt.title('March 2022 Trips - Only Home Origin')\n",
    "plt.xlabel('Destination District')\n",
    "plt.ylabel('Home District');"
   ]
  },
  {
   "cell_type": "code",
   "execution_count": 21,
   "metadata": {},
   "outputs": [],
   "source": [
    "trip_counts.to_csv('outputs/trip_counts.csv', index=False)"
   ]
  },
  {
   "attachments": {},
   "cell_type": "markdown",
   "metadata": {},
   "source": [
    "## Testing Infomap"
   ]
  },
  {
   "cell_type": "code",
   "execution_count": null,
   "metadata": {},
   "outputs": [],
   "source": [
    "edges_with_weights = [(u, v, data['weight']) for u, v, data in G.edges(data=True)]\n",
    "\n",
    "df_edges = pd.DataFrame(edges_with_weights, columns=['source', 'target', 'weight'])\n",
    "df_edges = df_edges[df_edges['weight'] >= 0.3] # NOTE: Infomap only finds 1 community if I leave edges as they are. Hence, I had to cut edges \n",
    "\n",
    "df_edges.to_csv('infomap_input.txt', sep=' ', header=False, index=False)"
   ]
  },
  {
   "cell_type": "code",
   "execution_count": null,
   "metadata": {},
   "outputs": [],
   "source": [
    "df_edges"
   ]
  },
  {
   "attachments": {},
   "cell_type": "markdown",
   "metadata": {},
   "source": [
    "## Community Analysis"
   ]
  },
  {
   "cell_type": "code",
   "execution_count": null,
   "metadata": {},
   "outputs": [],
   "source": [
    "communities = nx.community.louvain_communities(G, weight='weight', seed=1234)"
   ]
  },
  {
   "cell_type": "code",
   "execution_count": null,
   "metadata": {},
   "outputs": [],
   "source": [
    "len(communities)"
   ]
  },
  {
   "cell_type": "code",
   "execution_count": null,
   "metadata": {},
   "outputs": [],
   "source": [
    "def average_degree_per_community(G, communities):\n",
    "    community_avg_in_degrees = []\n",
    "    community_avg_out_degrees = []\n",
    "    \n",
    "    for community in communities:\n",
    "        in_degrees = [G.in_degree(node,  weight='weight') for node in community]  # Get in-degree for each node\n",
    "        out_degrees = [G.out_degree(node,  weight='weight') for node in community] \n",
    "        avg_in_degree = sum(in_degrees) / len(community)        # Compute average in-degree\n",
    "        avg_out_degree = sum(out_degrees) / len(community)\n",
    "        community_avg_in_degrees.append(avg_in_degree)\n",
    "        community_avg_out_degrees.append(avg_out_degree)\n",
    "        print(f\"Community {community} - Average In-degree: {avg_in_degree} - Average Out-degree: {avg_out_degree}\")\n",
    "    \n",
    "    return community_avg_in_degrees, community_avg_out_degrees\n",
    "\n",
    "# Calculate and display average in-degree for each community\n",
    "average_degree_per_community(G, communities)"
   ]
  },
  {
   "cell_type": "code",
   "execution_count": null,
   "metadata": {},
   "outputs": [],
   "source": []
  }
 ],
 "metadata": {
  "kernelspec": {
   "display_name": ".thesis_env",
   "language": "python",
   "name": "python3"
  },
  "language_info": {
   "codemirror_mode": {
    "name": "ipython",
    "version": 3
   },
   "file_extension": ".py",
   "mimetype": "text/x-python",
   "name": "python",
   "nbconvert_exporter": "python",
   "pygments_lexer": "ipython3",
   "version": "3.11.4"
  },
  "orig_nbformat": 4,
  "vscode": {
   "interpreter": {
    "hash": "dc5a137c8466a4ffb6ded1bc1d0edcb068d49351ebe910c5391764b8894bd5ea"
   }
  }
 },
 "nbformat": 4,
 "nbformat_minor": 2
}
