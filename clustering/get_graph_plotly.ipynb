{
 "cells": [
  {
   "cell_type": "code",
   "execution_count": null,
   "metadata": {},
   "outputs": [],
   "source": [
    "# TODO: Read: chrome-extension://efaidnbmnnnibpcajpcglclefindmkaj/https://arxiv.org/pdf/2309.11798v4\n",
    "# and https://www.nature.com/articles/s41598-024-58624-4 and https://www.nature.com/articles/s41598-024-58624-4\n",
    "# chrome-extension://efaidnbmnnnibpcajpcglclefindmkaj/https://www.aimspress.com/aimspress-data/math/2024/2/PDF/math-09-02-178.pdf\n",
    "# https://ieeexplore.ieee.org/abstract/document/7289461?casa_token=fHhNEidoqJMAAAAA:LM6FsCabVYqQ36U10oWBJSYUmAL4X1_yraUZv51GF3vsfDsp15CrrOFpI-o7PRtfX_JPd9Gog3AGcHQ"
   ]
  },
  {
   "cell_type": "code",
   "execution_count": null,
   "metadata": {},
   "outputs": [],
   "source": [
    "# TODO: Fix the fact that rent is not being added correctly to the edges"
   ]
  },
  {
   "cell_type": "code",
   "execution_count": 1,
   "metadata": {},
   "outputs": [],
   "source": [
    "import config as cfg\n",
    "from utils import *\n",
    "import seaborn as sns\n",
    "import numpy as np"
   ]
  },
  {
   "cell_type": "code",
   "execution_count": 2,
   "metadata": {},
   "outputs": [],
   "source": [
    "# Load data\n",
    "all_viajes = pd.read_csv('/Users/caro/Desktop/thesis_project/mobility_data/VIAJES/all_viajes_month_0322.csv')\n",
    "income = gpd.read_file('/Users/caro/Desktop/thesis_project/segregation_indices/data/processed/geometries_and_income.geojson')\n",
    "gdf = gpd.read_file(cfg.ZONIFICACION_DATA / 'distritos/madrid_gdf.geojson')  # Load your GeoJSON file into a GeoDataFrame\n",
    "gdf = gdf.to_crs(epsg=4326) # I am having problems with the Pyproj package"
   ]
  },
  {
   "cell_type": "code",
   "execution_count": 3,
   "metadata": {},
   "outputs": [],
   "source": [
    "# Filter data\n",
    "filtered_df = all_viajes.loc[(all_viajes['actividad_origen'] == 'casa')]\n",
    "home_work = all_viajes[((all_viajes['actividad_origen'] == 'casa') & (all_viajes['actividad_destino'] == 'trabajo_estudio'))]"
   ]
  },
  {
   "cell_type": "code",
   "execution_count": 4,
   "metadata": {},
   "outputs": [],
   "source": [
    "income['Gini Index Scaled'] = income['Gini Index'] ** 2.5"
   ]
  },
  {
   "cell_type": "code",
   "execution_count": 5,
   "metadata": {},
   "outputs": [],
   "source": [
    "var_of_interest = 'Median income per consumption unit'\n",
    "var_of_interest_2 = 'Gini Index Scaled'"
   ]
  },
  {
   "cell_type": "code",
   "execution_count": 6,
   "metadata": {},
   "outputs": [
    {
     "data": {
      "application/vnd.plotly.v1+json": {
       "config": {
        "plotlyServerURL": "https://plot.ly"
       },
       "data": [
        {
         "hoverinfo": "text",
         "line": {
          "color": "rgba(253.68627450980392, 208.31372549019608, 129.2549019607843, 1.0)",
          "width": 6.299139790972008
         },
         "mode": "lines",
         "showlegend": false,
         "text": "Width: 6.30",
         "type": "scatter",
         "x": [
          -3.705268804063821,
          -3.705268804063821,
          null
         ],
         "y": [
          40.41733007020507,
          40.41733007020507,
          null
         ]
        },
        {
         "hoverinfo": "text",
         "line": {
          "color": "rgba(254.50980392156862, 239.80392156862743, 167.9607843137255, 1.0)",
          "width": 5.483202107091821
         },
         "mode": "lines",
         "showlegend": false,
         "text": "Width: 5.48",
         "type": "scatter",
         "x": [
          -3.705268804063821,
          -3.6966151949203576,
          null
         ],
         "y": [
          40.41733007020507,
          40.398119933450886,
          null
         ]
        },
        {
         "hoverinfo": "text",
         "line": {
          "color": "rgba(231.29411764705884, 245.8235294117647, 234.5882352941176, 1.0)",
          "width": 4.244445067107512
         },
         "mode": "lines",
         "showlegend": false,
         "text": "Width: 4.24",
         "type": "scatter",
         "x": [
          -3.705268804063821,
          -3.67643837848883,
          null
         ],
         "y": [
          40.41733007020507,
          40.41138084576659,
          null
         ]
        },
        {
         "hoverinfo": "text",
         "line": {
          "color": "rgba(238.58823529411765, 248.6470588235294, 221.1764705882353, 1.0)",
          "width": 4.482333492112415
         },
         "mode": "lines",
         "showlegend": false,
         "text": "Width: 4.48",
         "type": "scatter",
         "x": [
          -3.705268804063821,
          -3.6737887354917422,
          null
         ],
         "y": [
          40.41733007020507,
          40.43018370922185,
          null
         ]
        },
        {
         "hoverinfo": "text",
         "line": {
          "color": "rgba(133.2549019607843, 186.8039215686275, 216.52941176470588, 1.0)",
          "width": 2.310235646837961
         },
         "mode": "lines",
         "showlegend": false,
         "text": "Width: 2.31",
         "type": "scatter",
         "x": [
          -3.705268804063821,
          -3.678150006537061,
          null
         ],
         "y": [
          40.41733007020507,
          40.45750039357669,
          null
         ]
        },
        {
         "hoverinfo": "text",
         "line": {
          "color": "rgba(114.15686274509805, 170.8039215686275, 207.86274509803923, 1.0)",
          "width": 1.96082826641262
         },
         "mode": "lines",
         "showlegend": false,
         "text": "Width: 1.96",
         "type": "scatter",
         "x": [
          -3.705268804063821,
          -3.6999935507976827,
          null
         ],
         "y": [
          40.41733007020507,
          40.4606484776773,
          null
         ]
        },
        {
         "hoverinfo": "text",
         "line": {
          "color": "rgba(253.1764705882353, 182.8235294117647, 105.29411764705881, 1.0)",
          "width": 6.809100843397125
         },
         "mode": "lines",
         "showlegend": false,
         "text": "Width: 6.81",
         "type": "scatter",
         "x": [
          -3.705268804063821,
          -3.703523951395161,
          null
         ],
         "y": [
          40.41733007020507,
          40.4375595509298,
          null
         ]
        },
        {
         "hoverinfo": "text",
         "line": {
          "color": "rgba(141.8823529411765, 193.70588235294122, 220.2941176470588, 1.0)",
          "width": 2.4923645941326455
         },
         "mode": "lines",
         "showlegend": false,
         "text": "Width: 2.49",
         "type": "scatter",
         "x": [
          -3.705268804063821,
          -3.753579560856663,
          null
         ],
         "y": [
          40.41733007020507,
          40.54479435831404,
          null
         ]
        },
        {
         "hoverinfo": "text",
         "line": {
          "color": "rgba(254.58823529411765, 242.23529411764707, 171.64705882352942, 1.0)",
          "width": 5.418196082826642
         },
         "mode": "lines",
         "showlegend": false,
         "text": "Width: 5.42",
         "type": "scatter",
         "x": [
          -3.705268804063821,
          -3.757223268157654,
          null
         ],
         "y": [
          40.41733007020507,
          40.44543508494524,
          null
         ]
        },
        {
         "hoverinfo": "text",
         "line": {
          "color": "rgba(225.21568627450984, 243.47058823529412, 245.76470588235287, 1.0)",
          "width": 4.040180447757011
         },
         "mode": "lines",
         "showlegend": false,
         "text": "Width: 4.04",
         "type": "scatter",
         "x": [
          -3.705268804063821,
          -3.778616540618283,
          null
         ],
         "y": [
          40.41733007020507,
          40.385273701511004,
          null
         ]
        },
        {
         "hoverinfo": "text",
         "line": {
          "color": "rgba(205.29411764705887, 233.82352941176472, 242.7058823529412, 1.0)",
          "width": 3.660791840623161
         },
         "mode": "lines",
         "showlegend": false,
         "text": "Width: 3.66",
         "type": "scatter",
         "x": [
          -3.705268804063821,
          -3.737112400757822,
          null
         ],
         "y": [
          40.41733007020507,
          40.378840354576816,
          null
         ]
        },
        {
         "hoverinfo": "text",
         "line": {
          "color": "rgba(126.78431372549022, 181.62745098039218, 213.7058823529412, 1.0)",
          "width": 2.2057216509288575
         },
         "mode": "lines",
         "showlegend": false,
         "text": "Width: 2.21",
         "type": "scatter",
         "x": [
          -3.705268804063821,
          -3.7029808755455926,
          null
         ],
         "y": [
          40.41733007020507,
          40.37595000318738,
          null
         ]
        },
        {
         "hoverinfo": "text",
         "line": {
          "color": "rgba(84.66666666666667, 135.66666666666669, 189.66666666666669, 1.0)",
          "width": 1.3309423071534645
         },
         "mode": "lines",
         "showlegend": false,
         "text": "Width: 1.33",
         "type": "scatter",
         "x": [
          -3.705268804063821,
          -3.6598634715735407,
          null
         ],
         "y": [
          40.41733007020507,
          40.38355078734683,
          null
         ]
        },
        {
         "hoverinfo": "text",
         "line": {
          "color": "rgba(57.62745098039216, 81.17647058823529, 162.37254901960785, 1.0)",
          "width": 0.5
         },
         "mode": "lines",
         "showlegend": false,
         "text": "Width: 0.50",
         "type": "scatter",
         "x": [
          -3.705268804063821,
          -3.6413909394895803,
          null
         ],
         "y": [
          40.41733007020507,
          40.40661270611631,
          null
         ]
        },
        {
         "hoverinfo": "text",
         "line": {
          "color": "rgba(86.50980392156863, 137.86274509803926, 190.80392156862746, 1.0)",
          "width": 1.3754938496455489
         },
         "mode": "lines",
         "showlegend": false,
         "text": "Width: 1.38",
         "type": "scatter",
         "x": [
          -3.705268804063821,
          -3.649948514601449,
          null
         ],
         "y": [
          40.41733007020507,
          40.43926990707227,
          null
         ]
        },
        {
         "hoverinfo": "text",
         "line": {
          "color": "rgba(86.50980392156863, 137.86274509803926, 190.80392156862746, 1.0)",
          "width": 1.389503768668217
         },
         "mode": "lines",
         "showlegend": false,
         "text": "Width: 1.39",
         "type": "scatter",
         "x": [
          -3.705268804063821,
          -3.637741035389707,
          null
         ],
         "y": [
          40.41733007020507,
          40.48201214532898,
          null
         ]
        },
        {
         "hoverinfo": "text",
         "line": {
          "color": "rgba(66.25490196078432, 108.35294117647061, 175.74509803921572, 1.0)",
          "width": 0.8691753761663258
         },
         "mode": "lines",
         "showlegend": false,
         "text": "Width: 0.87",
         "type": "scatter",
         "x": [
          -3.705268804063821,
          -3.695056256825152,
          null
         ],
         "y": [
          40.41733007020507,
          40.34253624126977,
          null
         ]
        },
        {
         "hoverinfo": "text",
         "line": {
          "color": "rgba(65.47058823529412, 105.88235294117648, 174.52941176470588, 1.0)",
          "width": 0.8383535543164561
         },
         "mode": "lines",
         "showlegend": false,
         "text": "Width: 0.84",
         "type": "scatter",
         "x": [
          -3.705268804063821,
          -3.6160073912284756,
          null
         ],
         "y": [
          40.41733007020507,
          40.34992967757026,
          null
         ]
        },
        {
         "hoverinfo": "text",
         "line": {
          "color": "rgba(59.196078431372555, 86.11764705882355, 164.8039215686275, 1.0)",
          "width": 0.5220095827846114
         },
         "mode": "lines",
         "showlegend": false,
         "text": "Width: 0.52",
         "type": "scatter",
         "x": [
          -3.705268804063821,
          -3.572894771748725,
          null
         ],
         "y": [
          40.41733007020507,
          40.39356859265691,
          null
         ]
        },
        {
         "hoverinfo": "text",
         "line": {
          "color": "rgba(77.29411764705883, 126.88235294117649, 185.11764705882354, 1.0)",
          "width": 1.1936451007313176
         },
         "mode": "lines",
         "showlegend": false,
         "text": "Width: 1.19",
         "type": "scatter",
         "x": [
          -3.705268804063821,
          -3.5986526886701378,
          null
         ],
         "y": [
          40.41733007020507,
          40.43466852782298,
          null
         ]
        },
        {
         "hoverinfo": "text",
         "line": {
          "color": "rgba(73.60784313725492, 122.49019607843138, 182.84313725490196, 1.0)",
          "width": 1.0980974529967216
         },
         "mode": "lines",
         "showlegend": false,
         "text": "Width: 1.10",
         "type": "scatter",
         "x": [
          -3.705268804063821,
          -3.574543479322823,
          null
         ],
         "y": [
          40.41733007020507,
          40.4757410696608,
          null
         ]
        },
        {
         "hoverinfo": "text",
         "line": {
          "color": "rgba(253.01960784313727, 174.98039215686273, 97.92156862745098, 1.0)",
          "width": 6.956765389896047
         },
         "mode": "lines",
         "showlegend": false,
         "text": "Width: 6.96",
         "type": "scatter",
         "x": [
          -3.6966151949203576,
          -3.705268804063821,
          null
         ],
         "y": [
          40.398119933450886,
          40.41733007020507,
          null
         ]
        },
        {
         "hoverinfo": "text",
         "line": {
          "color": "rgba(254.11764705882354, 227.64705882352942, 149.52941176470588, 1.0)",
          "width": 5.891451147412368
         },
         "mode": "lines",
         "showlegend": false,
         "text": "Width: 5.89",
         "type": "scatter",
         "x": [
          -3.6966151949203576,
          -3.6966151949203576,
          null
         ],
         "y": [
          40.398119933450886,
          40.398119933450886,
          null
         ]
        },
        {
         "hoverinfo": "text",
         "line": {
          "color": "rgba(254.90196078431373, 251.9607843137255, 186.3921568627451, 1.0)",
          "width": 5.086721398750315
         },
         "mode": "lines",
         "showlegend": false,
         "text": "Width: 5.09",
         "type": "scatter",
         "x": [
          -3.6966151949203576,
          -3.67643837848883,
          null
         ],
         "y": [
          40.398119933450886,
          40.41138084576659,
          null
         ]
        },
        {
         "hoverinfo": "text",
         "line": {
          "color": "rgba(135.41176470588238, 188.5294117647059, 217.47058823529412, 1.0)",
          "width": 2.351144610384152
         },
         "mode": "lines",
         "showlegend": false,
         "text": "Width: 2.35",
         "type": "scatter",
         "x": [
          -3.6966151949203576,
          -3.6737887354917422,
          null
         ],
         "y": [
          40.398119933450886,
          40.43018370922185,
          null
         ]
        },
        {
         "hoverinfo": "text",
         "line": {
          "color": "rgba(108.62745098039218, 164.21568627450984, 204.45098039215688, 1.0)",
          "width": 1.8437053433831152
         },
         "mode": "lines",
         "showlegend": false,
         "text": "Width: 1.84",
         "type": "scatter",
         "x": [
          -3.6966151949203576,
          -3.678150006537061,
          null
         ],
         "y": [
          40.398119933450886,
          40.45750039357669,
          null
         ]
        },
        {
         "hoverinfo": "text",
         "line": {
          "color": "rgba(92.03921568627452, 144.4509803921569, 194.2156862745098, 1.0)",
          "width": 1.4858920115441732
         },
         "mode": "lines",
         "showlegend": false,
         "text": "Width: 1.49",
         "type": "scatter",
         "x": [
          -3.6966151949203576,
          -3.6999935507976827,
          null
         ],
         "y": [
          40.398119933450886,
          40.4606484776773,
          null
         ]
        },
        {
         "hoverinfo": "text",
         "line": {
          "color": "rgba(150.50980392156868, 200.60784313725495, 224.05882352941177, 1.0)",
          "width": 2.6422707276751938
         },
         "mode": "lines",
         "showlegend": false,
         "text": "Width: 2.64",
         "type": "scatter",
         "x": [
          -3.6966151949203576,
          -3.703523951395161,
          null
         ],
         "y": [
          40.398119933450886,
          40.4375595509298,
          null
         ]
        },
        {
         "hoverinfo": "text",
         "line": {
          "color": "rgba(124.62745098039218, 179.90196078431376, 212.76470588235296, 1.0)",
          "width": 2.175180027459441
         },
         "mode": "lines",
         "showlegend": false,
         "text": "Width: 2.18",
         "type": "scatter",
         "x": [
          -3.6966151949203576,
          -3.753579560856663,
          null
         ],
         "y": [
          40.398119933450886,
          40.54479435831404,
          null
         ]
        },
        {
         "hoverinfo": "text",
         "line": {
          "color": "rgba(201.13725490196083, 231.7843137254902, 241.52941176470588, 1.0)",
          "width": 3.555997646333604
         },
         "mode": "lines",
         "showlegend": false,
         "text": "Width: 3.56",
         "type": "scatter",
         "x": [
          -3.6966151949203576,
          -3.757223268157654,
          null
         ],
         "y": [
          40.398119933450886,
          40.44543508494524,
          null
         ]
        },
        {
         "hoverinfo": "text",
         "line": {
          "color": "rgba(199.0588235294118, 230.76470588235296, 240.94117647058823, 1.0)",
          "width": 3.520972848776934
         },
         "mode": "lines",
         "showlegend": false,
         "text": "Width: 3.52",
         "type": "scatter",
         "x": [
          -3.6966151949203576,
          -3.778616540618283,
          null
         ],
         "y": [
          40.398119933450886,
          40.385273701511004,
          null
         ]
        },
        {
         "hoverinfo": "text",
         "line": {
          "color": "rgba(254.19607843137257, 230.07843137254906, 153.21568627450984, 1.0)",
          "width": 5.7894589369273435
         },
         "mode": "lines",
         "showlegend": false,
         "text": "Width: 5.79",
         "type": "scatter",
         "x": [
          -3.6966151949203576,
          -3.737112400757822,
          null
         ],
         "y": [
          40.398119933450886,
          40.378840354576816,
          null
         ]
        },
        {
         "hoverinfo": "text",
         "line": {
          "color": "rgba(254.19607843137257, 230.07843137254906, 153.21568627450984, 1.0)",
          "width": 5.801787665667293
         },
         "mode": "lines",
         "showlegend": false,
         "text": "Width: 5.80",
         "type": "scatter",
         "x": [
          -3.6966151949203576,
          -3.7029808755455926,
          null
         ],
         "y": [
          40.398119933450886,
          40.37595000318738,
          null
         ]
        },
        {
         "hoverinfo": "text",
         "line": {
          "color": "rgba(182.4313725490196, 222.6078431372549, 236.23529411764707, 1.0)",
          "width": 3.2298467314858916
         },
         "mode": "lines",
         "showlegend": false,
         "text": "Width: 3.23",
         "type": "scatter",
         "x": [
          -3.6966151949203576,
          -3.6598634715735407,
          null
         ],
         "y": [
          40.398119933450886,
          40.38355078734683,
          null
         ]
        },
        {
         "hoverinfo": "text",
         "line": {
          "color": "rgba(61.54901960784314, 93.5294117647059, 168.45098039215688, 1.0)",
          "width": 0.6273641738350751
         },
         "mode": "lines",
         "showlegend": false,
         "text": "Width: 0.63",
         "type": "scatter",
         "x": [
          -3.6966151949203576,
          -3.6413909394895803,
          null
         ],
         "y": [
          40.398119933450886,
          40.40661270611631,
          null
         ]
        },
        {
         "hoverinfo": "text",
         "line": {
          "color": "rgba(80.98039215686276, 131.2745098039216, 187.3921568627451, 1.0)",
          "width": 1.2600521168987644
         },
         "mode": "lines",
         "showlegend": false,
         "text": "Width: 1.26",
         "type": "scatter",
         "x": [
          -3.6966151949203576,
          -3.649948514601449,
          null
         ],
         "y": [
          40.398119933450886,
          40.43926990707227,
          null
         ]
        },
        {
         "hoverinfo": "text",
         "line": {
          "color": "rgba(92.03921568627452, 144.4509803921569, 194.2156862745098, 1.0)",
          "width": 1.5172742301549496
         },
         "mode": "lines",
         "showlegend": false,
         "text": "Width: 1.52",
         "type": "scatter",
         "x": [
          -3.6966151949203576,
          -3.637741035389707,
          null
         ],
         "y": [
          40.398119933450886,
          40.48201214532898,
          null
         ]
        },
        {
         "hoverinfo": "text",
         "line": {
          "color": "rgba(84.66666666666667, 135.66666666666669, 189.66666666666669, 1.0)",
          "width": 1.3469136148393062
         },
         "mode": "lines",
         "showlegend": false,
         "text": "Width: 1.35",
         "type": "scatter",
         "x": [
          -3.6966151949203576,
          -3.695056256825152,
          null
         ],
         "y": [
          40.398119933450886,
          40.34253624126977,
          null
         ]
        },
        {
         "hoverinfo": "text",
         "line": {
          "color": "rgba(71.76470588235294, 120.29411764705884, 181.7058823529412, 1.0)",
          "width": 1.0740003922777326
         },
         "mode": "lines",
         "showlegend": false,
         "text": "Width: 1.07",
         "type": "scatter",
         "x": [
          -3.6966151949203576,
          -3.6160073912284756,
          null
         ],
         "y": [
          40.398119933450886,
          40.34992967757026,
          null
         ]
        },
        {
         "hoverinfo": "text",
         "line": {
          "color": "rgba(61.54901960784314, 93.5294117647059, 168.45098039215688, 1.0)",
          "width": 0.6385721090532096
         },
         "mode": "lines",
         "showlegend": false,
         "text": "Width: 0.64",
         "type": "scatter",
         "x": [
          -3.6966151949203576,
          -3.572894771748725,
          null
         ],
         "y": [
          40.398119933450886,
          40.39356859265691,
          null
         ]
        },
        {
         "hoverinfo": "text",
         "line": {
          "color": "rgba(77.29411764705883, 126.88235294117649, 185.11764705882354, 1.0)",
          "width": 1.1866401412199836
         },
         "mode": "lines",
         "showlegend": false,
         "text": "Width: 1.19",
         "type": "scatter",
         "x": [
          -3.6966151949203576,
          -3.5986526886701378,
          null
         ],
         "y": [
          40.398119933450886,
          40.43466852782298,
          null
         ]
        },
        {
         "hoverinfo": "text",
         "line": {
          "color": "rgba(67.8235294117647, 113.29411764705883, 178.1764705882353, 1.0)",
          "width": 0.9619210400963881
         },
         "mode": "lines",
         "showlegend": false,
         "text": "Width: 0.96",
         "type": "scatter",
         "x": [
          -3.6966151949203576,
          -3.574543479322823,
          null
         ],
         "y": [
          40.398119933450886,
          40.4757410696608,
          null
         ]
        },
        {
         "hoverinfo": "text",
         "line": {
          "color": "rgba(254.7058823529412, 245.88235294117646, 177.1764705882353, 1.0)",
          "width": 5.30303454846031
         },
         "mode": "lines",
         "showlegend": false,
         "text": "Width: 5.30",
         "type": "scatter",
         "x": [
          -3.67643837848883,
          -3.705268804063821,
          null
         ],
         "y": [
          40.41138084576659,
          40.41733007020507,
          null
         ]
        },
        {
         "hoverinfo": "text",
         "line": {
          "color": "rgba(233.72549019607845, 246.76470588235296, 230.11764705882348, 1.0)",
          "width": 4.331026366667601
         },
         "mode": "lines",
         "showlegend": false,
         "text": "Width: 4.33",
         "type": "scatter",
         "x": [
          -3.67643837848883,
          -3.6966151949203576,
          null
         ],
         "y": [
          40.41138084576659,
          40.398119933450886,
          null
         ]
        },
        {
         "hoverinfo": "text",
         "line": {
          "color": "rgba(254.58823529411765, 242.23529411764707, 171.64705882352942, 1.0)",
          "width": 5.414273305500294
         },
         "mode": "lines",
         "showlegend": false,
         "text": "Width: 5.41",
         "type": "scatter",
         "x": [
          -3.67643837848883,
          -3.67643837848883,
          null
         ],
         "y": [
          40.41138084576659,
          40.41138084576659,
          null
         ]
        },
        {
         "hoverinfo": "text",
         "line": {
          "color": "rgba(254.27450980392157, 232.50980392156862, 156.90196078431373, 1.0)",
          "width": 5.704278629269522
         },
         "mode": "lines",
         "showlegend": false,
         "text": "Width: 5.70",
         "type": "scatter",
         "x": [
          -3.67643837848883,
          -3.6737887354917422,
          null
         ],
         "y": [
          40.41138084576659,
          40.43018370922185,
          null
         ]
        },
        {
         "hoverinfo": "text",
         "line": {
          "color": "rgba(108.62745098039218, 164.21568627450984, 204.45098039215688, 1.0)",
          "width": 1.8678024041021042
         },
         "mode": "lines",
         "showlegend": false,
         "text": "Width: 1.87",
         "type": "scatter",
         "x": [
          -3.67643837848883,
          -3.678150006537061,
          null
         ],
         "y": [
          40.41138084576659,
          40.45750039357669,
          null
         ]
        },
        {
         "hoverinfo": "text",
         "line": {
          "color": "rgba(82.82352941176471, 133.47058823529412, 188.5294117647059, 1.0)",
          "width": 1.2967581047381544
         },
         "mode": "lines",
         "showlegend": false,
         "text": "Width: 1.30",
         "type": "scatter",
         "x": [
          -3.67643837848883,
          -3.6999935507976827,
          null
         ],
         "y": [
          40.41138084576659,
          40.4606484776773,
          null
         ]
        },
        {
         "hoverinfo": "text",
         "line": {
          "color": "rgba(150.50980392156868, 200.60784313725495, 224.05882352941177, 1.0)",
          "width": 2.622937039423912
         },
         "mode": "lines",
         "showlegend": false,
         "text": "Width: 2.62",
         "type": "scatter",
         "x": [
          -3.67643837848883,
          -3.703523951395161,
          null
         ],
         "y": [
          40.41138084576659,
          40.4375595509298,
          null
         ]
        },
        {
         "hoverinfo": "text",
         "line": {
          "color": "rgba(108.62745098039218, 164.21568627450984, 204.45098039215688, 1.0)",
          "width": 1.8431449466222085
         },
         "mode": "lines",
         "showlegend": false,
         "text": "Width: 1.84",
         "type": "scatter",
         "x": [
          -3.67643837848883,
          -3.753579560856663,
          null
         ],
         "y": [
          40.41138084576659,
          40.54479435831404,
          null
         ]
        },
        {
         "hoverinfo": "text",
         "line": {
          "color": "rgba(97.5686274509804, 151.03921568627453, 197.62745098039218, 1.0)",
          "width": 1.619266440639973
         },
         "mode": "lines",
         "showlegend": false,
         "text": "Width: 1.62",
         "type": "scatter",
         "x": [
          -3.67643837848883,
          -3.757223268157654,
          null
         ],
         "y": [
          40.41138084576659,
          40.44543508494524,
          null
         ]
        },
        {
         "hoverinfo": "text",
         "line": {
          "color": "rgba(63.90196078431372, 100.94117647058825, 172.0980392156863, 1.0)",
          "width": 0.7643811818767687
         },
         "mode": "lines",
         "showlegend": false,
         "text": "Width: 0.76",
         "type": "scatter",
         "x": [
          -3.67643837848883,
          -3.778616540618283,
          null
         ],
         "y": [
          40.41138084576659,
          40.385273701511004,
          null
         ]
        },
        {
         "hoverinfo": "text",
         "line": {
          "color": "rgba(75.45098039215688, 124.68627450980394, 183.98039215686276, 1.0)",
          "width": 1.1532965339460337
         },
         "mode": "lines",
         "showlegend": false,
         "text": "Width: 1.15",
         "type": "scatter",
         "x": [
          -3.67643837848883,
          -3.737112400757822,
          null
         ],
         "y": [
          40.41138084576659,
          40.378840354576816,
          null
         ]
        },
        {
         "hoverinfo": "text",
         "line": {
          "color": "rgba(73.60784313725492, 122.49019607843138, 182.84313725490196, 1.0)",
          "width": 1.1165905461066434
         },
         "mode": "lines",
         "showlegend": false,
         "text": "Width: 1.12",
         "type": "scatter",
         "x": [
          -3.67643837848883,
          -3.7029808755455926,
          null
         ],
         "y": [
          40.41138084576659,
          40.37595000318738,
          null
         ]
        },
        {
         "hoverinfo": "text",
         "line": {
          "color": "rgba(254.39215686274508, 236.15686274509804, 162.4313725490196, 1.0)",
          "width": 5.624141892459861
         },
         "mode": "lines",
         "showlegend": false,
         "text": "Width: 5.62",
         "type": "scatter",
         "x": [
          -3.67643837848883,
          -3.6598634715735407,
          null
         ],
         "y": [
          40.41138084576659,
          40.38355078734683,
          null
         ]
        },
        {
         "hoverinfo": "text",
         "line": {
          "color": "rgba(236.15686274509804, 247.7058823529412, 225.64705882352936, 1.0)",
          "width": 4.387626439519179
         },
         "mode": "lines",
         "showlegend": false,
         "text": "Width: 4.39",
         "type": "scatter",
         "x": [
          -3.67643837848883,
          -3.6413909394895803,
          null
         ],
         "y": [
          40.41138084576659,
          40.40661270611631,
          null
         ]
        },
        {
         "hoverinfo": "text",
         "line": {
          "color": "rgba(137.56862745098042, 190.2549019607843, 218.41176470588235, 1.0)",
          "width": 2.391773375549889
         },
         "mode": "lines",
         "showlegend": false,
         "text": "Width: 2.39",
         "type": "scatter",
         "x": [
          -3.67643837848883,
          -3.649948514601449,
          null
         ],
         "y": [
          40.41138084576659,
          40.43926990707227,
          null
         ]
        },
        {
         "hoverinfo": "text",
         "line": {
          "color": "rgba(79.13725490196079, 129.07843137254903, 186.25490196078434, 1.0)",
          "width": 1.2283896999075345
         },
         "mode": "lines",
         "showlegend": false,
         "text": "Width: 1.23",
         "type": "scatter",
         "x": [
          -3.67643837848883,
          -3.637741035389707,
          null
         ],
         "y": [
          40.41138084576659,
          40.48201214532898,
          null
         ]
        },
        {
         "hoverinfo": "text",
         "line": {
          "color": "rgba(60.76470588235294, 91.05882352941177, 167.23529411764707, 1.0)",
          "width": 0.5982235422679257
         },
         "mode": "lines",
         "showlegend": false,
         "text": "Width: 0.60",
         "type": "scatter",
         "x": [
          -3.67643837848883,
          -3.695056256825152,
          null
         ],
         "y": [
          40.41138084576659,
          40.34253624126977,
          null
         ]
        },
        {
         "hoverinfo": "text",
         "line": {
          "color": "rgba(69.921568627451, 118.09803921568628, 180.56862745098042, 1.0)",
          "width": 1.0521449186023704
         },
         "mode": "lines",
         "showlegend": false,
         "text": "Width: 1.05",
         "type": "scatter",
         "x": [
          -3.67643837848883,
          -3.6160073912284756,
          null
         ],
         "y": [
          40.41138084576659,
          40.34992967757026,
          null
         ]
        },
        {
         "hoverinfo": "text",
         "line": {
          "color": "rgba(64.68627450980392, 103.41176470588235, 173.3137254901961, 1.0)",
          "width": 0.7910000280198379
         },
         "mode": "lines",
         "showlegend": false,
         "text": "Width: 0.79",
         "type": "scatter",
         "x": [
          -3.67643837848883,
          -3.572894771748725,
          null
         ],
         "y": [
          40.41138084576659,
          40.39356859265691,
          null
         ]
        },
        {
         "hoverinfo": "text",
         "line": {
          "color": "rgba(69.921568627451, 118.09803921568628, 180.56862745098042, 1.0)",
          "width": 1.0431785704278629
         },
         "mode": "lines",
         "showlegend": false,
         "text": "Width: 1.04",
         "type": "scatter",
         "x": [
          -3.67643837848883,
          -3.5986526886701378,
          null
         ],
         "y": [
          40.41138084576659,
          40.43466852782298,
          null
         ]
        },
        {
         "hoverinfo": "text",
         "line": {
          "color": "rgba(67.03921568627452, 110.82352941176472, 176.9607843137255, 1.0)",
          "width": 0.9296982263442517
         },
         "mode": "lines",
         "showlegend": false,
         "text": "Width: 0.93",
         "type": "scatter",
         "x": [
          -3.67643837848883,
          -3.574543479322823,
          null
         ],
         "y": [
          40.41138084576659,
          40.4757410696608,
          null
         ]
        },
        {
         "hoverinfo": "text",
         "line": {
          "color": "rgba(221.92156862745105, 241.98039215686276, 247.41176470588238, 1.0)",
          "width": 3.952758553055563
         },
         "mode": "lines",
         "showlegend": false,
         "text": "Width: 3.95",
         "type": "scatter",
         "x": [
          -3.6737887354917422,
          -3.705268804063821,
          null
         ],
         "y": [
          40.43018370922185,
          40.41733007020507,
          null
         ]
        },
        {
         "hoverinfo": "text",
         "line": {
          "color": "rgba(79.13725490196079, 129.07843137254903, 186.25490196078434, 1.0)",
          "width": 1.2177421614503068
         },
         "mode": "lines",
         "showlegend": false,
         "text": "Width: 1.22",
         "type": "scatter",
         "x": [
          -3.6737887354917422,
          -3.6966151949203576,
          null
         ],
         "y": [
          40.43018370922185,
          40.398119933450886,
          null
         ]
        },
        {
         "hoverinfo": "text",
         "line": {
          "color": "rgba(241.01960784313727, 249.58823529411765, 216.70588235294116, 1.0)",
          "width": 4.556305864552102
         },
         "mode": "lines",
         "showlegend": false,
         "text": "Width: 4.56",
         "type": "scatter",
         "x": [
          -3.6737887354917422,
          -3.67643837848883,
          null
         ],
         "y": [
          40.43018370922185,
          40.41138084576659,
          null
         ]
        },
        {
         "hoverinfo": "text",
         "line": {
          "color": "rgba(254.39215686274508, 236.15686274509804, 162.4313725490196, 1.0)",
          "width": 5.6104121718176465
         },
         "mode": "lines",
         "showlegend": false,
         "text": "Width: 5.61",
         "type": "scatter",
         "x": [
          -3.6737887354917422,
          -3.6737887354917422,
          null
         ],
         "y": [
          40.43018370922185,
          40.43018370922185,
          null
         ]
        },
        {
         "hoverinfo": "text",
         "line": {
          "color": "rgba(254.27450980392157, 232.50980392156862, 156.90196078431373, 1.0)",
          "width": 5.725853904564431
         },
         "mode": "lines",
         "showlegend": false,
         "text": "Width: 5.73",
         "type": "scatter",
         "x": [
          -3.6737887354917422,
          -3.678150006537061,
          null
         ],
         "y": [
          40.43018370922185,
          40.45750039357669,
          null
         ]
        },
        {
         "hoverinfo": "text",
         "line": {
          "color": "rgba(110.47058823529414, 166.41176470588238, 205.58823529411765, 1.0)",
          "width": 1.9064697806046682
         },
         "mode": "lines",
         "showlegend": false,
         "text": "Width: 1.91",
         "type": "scatter",
         "x": [
          -3.6737887354917422,
          -3.6999935507976827,
          null
         ],
         "y": [
          40.43018370922185,
          40.4606484776773,
          null
         ]
        },
        {
         "hoverinfo": "text",
         "line": {
          "color": "rgba(254.78431372549022, 248.31372549019608, 180.8627450980392, 1.0)",
          "width": 5.217293844041581
         },
         "mode": "lines",
         "showlegend": false,
         "text": "Width: 5.22",
         "type": "scatter",
         "x": [
          -3.6737887354917422,
          -3.703523951395161,
          null
         ],
         "y": [
          40.43018370922185,
          40.4375595509298,
          null
         ]
        },
        {
         "hoverinfo": "text",
         "line": {
          "color": "rgba(126.78431372549022, 181.62745098039218, 213.7058823529412, 1.0)",
          "width": 2.2023592703634174
         },
         "mode": "lines",
         "showlegend": false,
         "text": "Width: 2.20",
         "type": "scatter",
         "x": [
          -3.6737887354917422,
          -3.753579560856663,
          null
         ],
         "y": [
          40.43018370922185,
          40.54479435831404,
          null
         ]
        },
        {
         "hoverinfo": "text",
         "line": {
          "color": "rgba(110.47058823529414, 166.41176470588238, 205.58823529411765, 1.0)",
          "width": 1.9022668048978677
         },
         "mode": "lines",
         "showlegend": false,
         "text": "Width: 1.90",
         "type": "scatter",
         "x": [
          -3.6737887354917422,
          -3.757223268157654,
          null
         ],
         "y": [
          40.43018370922185,
          40.44543508494524,
          null
         ]
        },
        {
         "hoverinfo": "text",
         "line": {
          "color": "rgba(60.76470588235294, 91.05882352941177, 167.23529411764707, 1.0)",
          "width": 0.6085908823447
         },
         "mode": "lines",
         "showlegend": false,
         "text": "Width: 0.61",
         "type": "scatter",
         "x": [
          -3.6737887354917422,
          -3.778616540618283,
          null
         ],
         "y": [
          40.43018370922185,
          40.385273701511004,
          null
         ]
        },
        {
         "hoverinfo": "text",
         "line": {
          "color": "rgba(65.47058823529412, 105.88235294117648, 174.52941176470588, 1.0)",
          "width": 0.8310683964246687
         },
         "mode": "lines",
         "showlegend": false,
         "text": "Width: 0.83",
         "type": "scatter",
         "x": [
          -3.6737887354917422,
          -3.737112400757822,
          null
         ],
         "y": [
          40.43018370922185,
          40.378840354576816,
          null
         ]
        },
        {
         "hoverinfo": "text",
         "line": {
          "color": "rgba(59.98039215686274, 88.58823529411765, 166.01960784313727, 1.0)",
          "width": 0.5690829107007761
         },
         "mode": "lines",
         "showlegend": false,
         "text": "Width: 0.57",
         "type": "scatter",
         "x": [
          -3.6737887354917422,
          -3.7029808755455926,
          null
         ],
         "y": [
          40.43018370922185,
          40.37595000318738,
          null
         ]
        },
        {
         "hoverinfo": "text",
         "line": {
          "color": "rgba(75.45098039215688, 124.68627450980394, 183.98039215686276, 1.0)",
          "width": 1.1656252626859815
         },
         "mode": "lines",
         "showlegend": false,
         "text": "Width: 1.17",
         "type": "scatter",
         "x": [
          -3.6737887354917422,
          -3.6598634715735407,
          null
         ],
         "y": [
          40.43018370922185,
          40.38355078734683,
          null
         ]
        },
        {
         "hoverinfo": "text",
         "line": {
          "color": "rgba(174.11764705882354, 218.52941176470588, 233.88235294117646, 1.0)",
          "width": 3.065650480540222
         },
         "mode": "lines",
         "showlegend": false,
         "text": "Width: 3.07",
         "type": "scatter",
         "x": [
          -3.6737887354917422,
          -3.6413909394895803,
          null
         ],
         "y": [
          40.43018370922185,
          40.40661270611631,
          null
         ]
        },
        {
         "hoverinfo": "text",
         "line": {
          "color": "rgba(254.27450980392157, 232.50980392156862, 156.90196078431373, 1.0)",
          "width": 5.73650144302166
         },
         "mode": "lines",
         "showlegend": false,
         "text": "Width: 5.74",
         "type": "scatter",
         "x": [
          -3.6737887354917422,
          -3.649948514601449,
          null
         ],
         "y": [
          40.43018370922185,
          40.43926990707227,
          null
         ]
        },
        {
         "hoverinfo": "text",
         "line": {
          "color": "rgba(99.41176470588236, 153.2352941176471, 198.76470588235296, 1.0)",
          "width": 1.6767071086329122
         },
         "mode": "lines",
         "showlegend": false,
         "text": "Width: 1.68",
         "type": "scatter",
         "x": [
          -3.6737887354917422,
          -3.637741035389707,
          null
         ],
         "y": [
          40.43018370922185,
          40.48201214532898,
          null
         ]
        },
        {
         "hoverinfo": "text",
         "line": {
          "color": "rgba(56.84313725490196, 78.70588235294117, 161.15686274509807, 1.0)",
          "width": 0.5
         },
         "mode": "lines",
         "showlegend": false,
         "text": "Width: 0.50",
         "type": "scatter",
         "x": [
          -3.6737887354917422,
          -3.695056256825152,
          null
         ],
         "y": [
          40.43018370922185,
          40.34253624126977,
          null
         ]
        },
        {
         "hoverinfo": "text",
         "line": {
          "color": "rgba(62.333333333333336, 96.0, 169.66666666666669, 1.0)",
          "width": 0.6702345260444394
         },
         "mode": "lines",
         "showlegend": false,
         "text": "Width: 0.67",
         "type": "scatter",
         "x": [
          -3.6737887354917422,
          -3.6160073912284756,
          null
         ],
         "y": [
          40.43018370922185,
          40.34992967757026,
          null
         ]
        },
        {
         "hoverinfo": "text",
         "line": {
          "color": "rgba(62.333333333333336, 96.0, 169.66666666666669, 1.0)",
          "width": 0.6800414693603071
         },
         "mode": "lines",
         "showlegend": false,
         "text": "Width: 0.68",
         "type": "scatter",
         "x": [
          -3.6737887354917422,
          -3.572894771748725,
          null
         ],
         "y": [
          40.43018370922185,
          40.39356859265691,
          null
         ]
        },
        {
         "hoverinfo": "text",
         "line": {
          "color": "rgba(99.41176470588236, 153.2352941176471, 198.76470588235296, 1.0)",
          "width": 1.6685813555997646
         },
         "mode": "lines",
         "showlegend": false,
         "text": "Width: 1.67",
         "type": "scatter",
         "x": [
          -3.6737887354917422,
          -3.5986526886701378,
          null
         ],
         "y": [
          40.43018370922185,
          40.43466852782298,
          null
         ]
        },
        {
         "hoverinfo": "text",
         "line": {
          "color": "rgba(77.29411764705883, 126.88235294117649, 185.11764705882354, 1.0)",
          "width": 1.1914035136876908
         },
         "mode": "lines",
         "showlegend": false,
         "text": "Width: 1.19",
         "type": "scatter",
         "x": [
          -3.6737887354917422,
          -3.574543479322823,
          null
         ],
         "y": [
          40.43018370922185,
          40.4757410696608,
          null
         ]
        },
        {
         "hoverinfo": "text",
         "line": {
          "color": "rgba(135.41176470588238, 188.5294117647059, 217.47058823529412, 1.0)",
          "width": 2.355067387710499
         },
         "mode": "lines",
         "showlegend": false,
         "text": "Width: 2.36",
         "type": "scatter",
         "x": [
          -3.678150006537061,
          -3.705268804063821,
          null
         ],
         "y": [
          40.45750039357669,
          40.41733007020507,
          null
         ]
        },
        {
         "hoverinfo": "text",
         "line": {
          "color": "rgba(67.03921568627452, 110.82352941176472, 176.9607843137255, 1.0)",
          "width": 0.9218526716915576
         },
         "mode": "lines",
         "showlegend": false,
         "text": "Width: 0.92",
         "type": "scatter",
         "x": [
          -3.678150006537061,
          -3.6966151949203576,
          null
         ],
         "y": [
          40.45750039357669,
          40.398119933450886,
          null
         ]
        },
        {
         "hoverinfo": "text",
         "line": {
          "color": "rgba(95.72549019607845, 148.843137254902, 196.49019607843138, 1.0)",
          "width": 1.5677099386365547
         },
         "mode": "lines",
         "showlegend": false,
         "text": "Width: 1.57",
         "type": "scatter",
         "x": [
          -3.678150006537061,
          -3.67643837848883,
          null
         ],
         "y": [
          40.45750039357669,
          40.41138084576659,
          null
         ]
        },
        {
         "hoverinfo": "text",
         "line": {
          "color": "rgba(254.07843137254903, 226.4313725490196, 147.68627450980392, 1.0)",
          "width": 5.922833366023144
         },
         "mode": "lines",
         "showlegend": false,
         "text": "Width: 5.92",
         "type": "scatter",
         "x": [
          -3.678150006537061,
          -3.6737887354917422,
          null
         ],
         "y": [
          40.45750039357669,
          40.43018370922185,
          null
         ]
        },
        {
         "hoverinfo": "text",
         "line": {
          "color": "rgba(253.13725490196077, 180.8627450980392, 103.45098039215685, 1.0)",
          "width": 6.839362268486087
         },
         "mode": "lines",
         "showlegend": false,
         "text": "Width: 6.84",
         "type": "scatter",
         "x": [
          -3.678150006537061,
          -3.678150006537061,
          null
         ],
         "y": [
          40.45750039357669,
          40.45750039357669,
          null
         ]
        },
        {
         "hoverinfo": "text",
         "line": {
          "color": "rgba(254.98039215686273, 254.39215686274508, 190.07843137254903, 1.0)",
          "width": 5.016391605256521
         },
         "mode": "lines",
         "showlegend": false,
         "text": "Width: 5.02",
         "type": "scatter",
         "x": [
          -3.678150006537061,
          -3.6999935507976827,
          null
         ],
         "y": [
          40.45750039357669,
          40.4606484776773,
          null
         ]
        },
        {
         "hoverinfo": "text",
         "line": {
          "color": "rgba(251.9607843137255, 253.8235294117647, 196.58823529411762, 1.0)",
          "width": 4.920843957521925
         },
         "mode": "lines",
         "showlegend": false,
         "text": "Width: 4.92",
         "type": "scatter",
         "x": [
          -3.678150006537061,
          -3.703523951395161,
          null
         ],
         "y": [
          40.45750039357669,
          40.4375595509298,
          null
         ]
        },
        {
         "hoverinfo": "text",
         "line": {
          "color": "rgba(254.58823529411765, 242.23529411764707, 171.64705882352942, 1.0)",
          "width": 5.425201042337974
         },
         "mode": "lines",
         "showlegend": false,
         "text": "Width: 5.43",
         "type": "scatter",
         "x": [
          -3.678150006537061,
          -3.753579560856663,
          null
         ],
         "y": [
          40.45750039357669,
          40.54479435831404,
          null
         ]
        },
        {
         "hoverinfo": "text",
         "line": {
          "color": "rgba(110.47058823529414, 166.41176470588238, 205.58823529411765, 1.0)",
          "width": 1.882372719885679
         },
         "mode": "lines",
         "showlegend": false,
         "text": "Width: 1.88",
         "type": "scatter",
         "x": [
          -3.678150006537061,
          -3.757223268157654,
          null
         ],
         "y": [
          40.45750039357669,
          40.44543508494524,
          null
         ]
        },
        {
         "hoverinfo": "text",
         "line": {
          "color": "rgba(59.98039215686274, 88.58823529411765, 166.01960784313727, 1.0)",
          "width": 0.5665611252766959
         },
         "mode": "lines",
         "showlegend": false,
         "text": "Width: 0.57",
         "type": "scatter",
         "x": [
          -3.678150006537061,
          -3.778616540618283,
          null
         ],
         "y": [
          40.45750039357669,
          40.385273701511004,
          null
         ]
        },
        {
         "hoverinfo": "text",
         "line": {
          "color": "rgba(66.25490196078432, 108.35294117647061, 175.74509803921572, 1.0)",
          "width": 0.8644120036986186
         },
         "mode": "lines",
         "showlegend": false,
         "text": "Width: 0.86",
         "type": "scatter",
         "x": [
          -3.678150006537061,
          -3.737112400757822,
          null
         ],
         "y": [
          40.45750039357669,
          40.378840354576816,
          null
         ]
        },
        {
         "hoverinfo": "text",
         "line": {
          "color": "rgba(57.62745098039216, 81.17647058823529, 162.37254901960785, 1.0)",
          "width": 0.5
         },
         "mode": "lines",
         "showlegend": false,
         "text": "Width: 0.50",
         "type": "scatter",
         "x": [
          -3.678150006537061,
          -3.7029808755455926,
          null
         ],
         "y": [
          40.45750039357669,
          40.37595000318738,
          null
         ]
        },
        {
         "hoverinfo": "text",
         "line": {
          "color": "rgba(62.333333333333336, 96.0, 169.66666666666669, 1.0)",
          "width": 0.6929305948611616
         },
         "mode": "lines",
         "showlegend": false,
         "text": "Width: 0.69",
         "type": "scatter",
         "x": [
          -3.678150006537061,
          -3.6598634715735407,
          null
         ],
         "y": [
          40.45750039357669,
          40.38355078734683,
          null
         ]
        },
        {
         "hoverinfo": "text",
         "line": {
          "color": "rgba(57.62745098039216, 81.17647058823529, 162.37254901960785, 1.0)",
          "width": 0.5
         },
         "mode": "lines",
         "showlegend": false,
         "text": "Width: 0.50",
         "type": "scatter",
         "x": [
          -3.678150006537061,
          -3.6413909394895803,
          null
         ],
         "y": [
          40.45750039357669,
          40.40661270611631,
          null
         ]
        },
        {
         "hoverinfo": "text",
         "line": {
          "color": "rgba(254.62745098039215, 243.45098039215685, 173.49019607843138, 1.0)",
          "width": 5.379248507943624
         },
         "mode": "lines",
         "showlegend": false,
         "text": "Width: 5.38",
         "type": "scatter",
         "x": [
          -3.678150006537061,
          -3.649948514601449,
          null
         ],
         "y": [
          40.45750039357669,
          40.43926990707227,
          null
         ]
        },
        {
         "hoverinfo": "text",
         "line": {
          "color": "rgba(247.09803921568627, 251.94117647058823, 205.52941176470588, 1.0)",
          "width": 4.730309058813639
         },
         "mode": "lines",
         "showlegend": false,
         "text": "Width: 4.73",
         "type": "scatter",
         "x": [
          -3.678150006537061,
          -3.637741035389707,
          null
         ],
         "y": [
          40.45750039357669,
          40.48201214532898,
          null
         ]
        },
        {
         "hoverinfo": "text",
         "line": {
          "color": "rgba(54.490196078431374, 71.29411764705883, 157.50980392156865, 1.0)",
          "width": 0.5
         },
         "mode": "lines",
         "showlegend": false,
         "text": "Width: 0.50",
         "type": "scatter",
         "x": [
          -3.678150006537061,
          -3.695056256825152,
          null
         ],
         "y": [
          40.45750039357669,
          40.34253624126977,
          null
         ]
        },
        {
         "hoverinfo": "text",
         "line": {
          "color": "rgba(57.62745098039216, 81.17647058823529, 162.37254901960785, 1.0)",
          "width": 0.5
         },
         "mode": "lines",
         "showlegend": false,
         "text": "Width: 0.50",
         "type": "scatter",
         "x": [
          -3.678150006537061,
          -3.6160073912284756,
          null
         ],
         "y": [
          40.45750039357669,
          40.34992967757026,
          null
         ]
        },
        {
         "hoverinfo": "text",
         "line": {
          "color": "rgba(56.84313725490196, 78.70588235294117, 161.15686274509807, 1.0)",
          "width": 0.5
         },
         "mode": "lines",
         "showlegend": false,
         "text": "Width: 0.50",
         "type": "scatter",
         "x": [
          -3.678150006537061,
          -3.572894771748725,
          null
         ],
         "y": [
          40.45750039357669,
          40.39356859265691,
          null
         ]
        },
        {
         "hoverinfo": "text",
         "line": {
          "color": "rgba(84.66666666666667, 135.66666666666669, 189.66666666666669, 1.0)",
          "width": 1.328140323348931
         },
         "mode": "lines",
         "showlegend": false,
         "text": "Width: 1.33",
         "type": "scatter",
         "x": [
          -3.678150006537061,
          -3.5986526886701378,
          null
         ],
         "y": [
          40.45750039357669,
          40.43466852782298,
          null
         ]
        },
        {
         "hoverinfo": "text",
         "line": {
          "color": "rgba(82.82352941176471, 133.47058823529412, 188.5294117647059, 1.0)",
          "width": 1.3191739751744236
         },
         "mode": "lines",
         "showlegend": false,
         "text": "Width: 1.32",
         "type": "scatter",
         "x": [
          -3.678150006537061,
          -3.574543479322823,
          null
         ],
         "y": [
          40.45750039357669,
          40.4757410696608,
          null
         ]
        },
        {
         "hoverinfo": "text",
         "line": {
          "color": "rgba(167.76470588235296, 214.41176470588235, 231.58823529411765, 1.0)",
          "width": 2.9356384320098625
         },
         "mode": "lines",
         "showlegend": false,
         "text": "Width: 2.94",
         "type": "scatter",
         "x": [
          -3.6999935507976827,
          -3.705268804063821,
          null
         ],
         "y": [
          40.4606484776773,
          40.41733007020507,
          null
         ]
        },
        {
         "hoverinfo": "text",
         "line": {
          "color": "rgba(80.98039215686276, 131.2745098039216, 187.3921568627451, 1.0)",
          "width": 1.281627392193673
         },
         "mode": "lines",
         "showlegend": false,
         "text": "Width: 1.28",
         "type": "scatter",
         "x": [
          -3.6999935507976827,
          -3.6966151949203576,
          null
         ],
         "y": [
          40.4606484776773,
          40.398119933450886,
          null
         ]
        },
        {
         "hoverinfo": "text",
         "line": {
          "color": "rgba(97.5686274509804, 151.03921568627453, 197.62745098039218, 1.0)",
          "width": 1.6100198940850121
         },
         "mode": "lines",
         "showlegend": false,
         "text": "Width: 1.61",
         "type": "scatter",
         "x": [
          -3.6999935507976827,
          -3.67643837848883,
          null
         ],
         "y": [
          40.4606484776773,
          40.41138084576659,
          null
         ]
        },
        {
         "hoverinfo": "text",
         "line": {
          "color": "rgba(156.98039215686276, 205.78431372549022, 226.88235294117646, 1.0)",
          "width": 2.7380985737902432
         },
         "mode": "lines",
         "showlegend": false,
         "text": "Width: 2.74",
         "type": "scatter",
         "x": [
          -3.6999935507976827,
          -3.6737887354917422,
          null
         ],
         "y": [
          40.4606484776773,
          40.43018370922185,
          null
         ]
        },
        {
         "hoverinfo": "text",
         "line": {
          "color": "rgba(253.68627450980392, 208.31372549019608, 129.2549019607843, 1.0)",
          "width": 6.299139790972008
         },
         "mode": "lines",
         "showlegend": false,
         "text": "Width: 6.30",
         "type": "scatter",
         "x": [
          -3.6999935507976827,
          -3.678150006537061,
          null
         ],
         "y": [
          40.4606484776773,
          40.45750039357669,
          null
         ]
        },
        {
         "hoverinfo": "text",
         "line": {
          "color": "rgba(253.68627450980392, 208.31372549019608, 129.2549019607843, 1.0)",
          "width": 6.3131497099946765
         },
         "mode": "lines",
         "showlegend": false,
         "text": "Width: 6.31",
         "type": "scatter",
         "x": [
          -3.6999935507976827,
          -3.6999935507976827,
          null
         ],
         "y": [
          40.4606484776773,
          40.4606484776773,
          null
         ]
        },
        {
         "hoverinfo": "text",
         "line": {
          "color": "rgba(253.52941176470588, 200.47058823529414, 121.88235294117646, 1.0)",
          "width": 6.4753845722771715
         },
         "mode": "lines",
         "showlegend": false,
         "text": "Width: 6.48",
         "type": "scatter",
         "x": [
          -3.6999935507976827,
          -3.703523951395161,
          null
         ],
         "y": [
          40.4606484776773,
          40.4375595509298,
          null
         ]
        },
        {
         "hoverinfo": "text",
         "line": {
          "color": "rgba(245.41176470588235, 119.19607843137254, 71.70588235294117, 1.0)",
          "width": 7.837428899660959
         },
         "mode": "lines",
         "showlegend": false,
         "text": "Width: 7.84",
         "type": "scatter",
         "x": [
          -3.6999935507976827,
          -3.753579560856663,
          null
         ],
         "y": [
          40.4606484776773,
          40.54479435831404,
          null
         ]
        },
        {
         "hoverinfo": "text",
         "line": {
          "color": "rgba(254.11764705882354, 227.64705882352942, 149.52941176470588, 1.0)",
          "width": 5.892291742553728
         },
         "mode": "lines",
         "showlegend": false,
         "text": "Width: 5.89",
         "type": "scatter",
         "x": [
          -3.6999935507976827,
          -3.757223268157654,
          null
         ],
         "y": [
          40.4606484776773,
          40.44543508494524,
          null
         ]
        },
        {
         "hoverinfo": "text",
         "line": {
          "color": "rgba(67.8235294117647, 113.29411764705883, 178.1764705882353, 1.0)",
          "width": 0.9411863599428395
         },
         "mode": "lines",
         "showlegend": false,
         "text": "Width: 0.94",
         "type": "scatter",
         "x": [
          -3.6999935507976827,
          -3.778616540618283,
          null
         ],
         "y": [
          40.4606484776773,
          40.385273701511004,
          null
         ]
        },
        {
         "hoverinfo": "text",
         "line": {
          "color": "rgba(68.6078431372549, 115.76470588235296, 179.3921568627451, 1.0)",
          "width": 1.0109557566757263
         },
         "mode": "lines",
         "showlegend": false,
         "text": "Width: 1.01",
         "type": "scatter",
         "x": [
          -3.6999935507976827,
          -3.737112400757822,
          null
         ],
         "y": [
          40.4606484776773,
          40.378840354576816,
          null
         ]
        },
        {
         "hoverinfo": "text",
         "line": {
          "color": "rgba(62.333333333333336, 96.0, 169.66666666666669, 1.0)",
          "width": 0.6946117851438818
         },
         "mode": "lines",
         "showlegend": false,
         "text": "Width: 0.69",
         "type": "scatter",
         "x": [
          -3.6999935507976827,
          -3.7029808755455926,
          null
         ],
         "y": [
          40.4606484776773,
          40.37595000318738,
          null
         ]
        },
        {
         "hoverinfo": "text",
         "line": {
          "color": "rgba(69.921568627451, 118.09803921568628, 180.56862745098042, 1.0)",
          "width": 1.0384151979601557
         },
         "mode": "lines",
         "showlegend": false,
         "text": "Width: 1.04",
         "type": "scatter",
         "x": [
          -3.6999935507976827,
          -3.6598634715735407,
          null
         ],
         "y": [
          40.4606484776773,
          40.38355078734683,
          null
         ]
        },
        {
         "hoverinfo": "text",
         "line": {
          "color": "rgba(56.84313725490196, 78.70588235294117, 161.15686274509807, 1.0)",
          "width": 0.5
         },
         "mode": "lines",
         "showlegend": false,
         "text": "Width: 0.50",
         "type": "scatter",
         "x": [
          -3.6999935507976827,
          -3.6413909394895803,
          null
         ],
         "y": [
          40.4606484776773,
          40.40661270611631,
          null
         ]
        },
        {
         "hoverinfo": "text",
         "line": {
          "color": "rgba(104.94117647058823, 159.82352941176472, 202.17647058823528, 1.0)",
          "width": 1.7801003110202023
         },
         "mode": "lines",
         "showlegend": false,
         "text": "Width: 1.78",
         "type": "scatter",
         "x": [
          -3.6999935507976827,
          -3.649948514601449,
          null
         ],
         "y": [
          40.4606484776773,
          40.43926990707227,
          null
         ]
        },
        {
         "hoverinfo": "text",
         "line": {
          "color": "rgba(114.15686274509805, 170.8039215686275, 207.86274509803923, 1.0)",
          "width": 1.9599876712712598
         },
         "mode": "lines",
         "showlegend": false,
         "text": "Width: 1.96",
         "type": "scatter",
         "x": [
          -3.6999935507976827,
          -3.637741035389707,
          null
         ],
         "y": [
          40.4606484776773,
          40.48201214532898,
          null
         ]
        },
        {
         "hoverinfo": "text",
         "line": {
          "color": "rgba(58.411764705882355, 83.64705882352942, 163.58823529411765, 1.0)",
          "width": 0.5
         },
         "mode": "lines",
         "showlegend": false,
         "text": "Width: 0.50",
         "type": "scatter",
         "x": [
          -3.6999935507976827,
          -3.695056256825152,
          null
         ],
         "y": [
          40.4606484776773,
          40.34253624126977,
          null
         ]
        },
        {
         "hoverinfo": "text",
         "line": {
          "color": "rgba(60.76470588235294, 91.05882352941177, 167.23529411764707, 1.0)",
          "width": 0.5943007649415786
         },
         "mode": "lines",
         "showlegend": false,
         "text": "Width: 0.59",
         "type": "scatter",
         "x": [
          -3.6999935507976827,
          -3.6160073912284756,
          null
         ],
         "y": [
          40.4606484776773,
          40.34992967757026,
          null
         ]
        },
        {
         "hoverinfo": "text",
         "line": {
          "color": "rgba(59.196078431372555, 86.11764705882355, 164.8039215686275, 1.0)",
          "width": 0.5152848216537308
         },
         "mode": "lines",
         "showlegend": false,
         "text": "Width: 0.52",
         "type": "scatter",
         "x": [
          -3.6999935507976827,
          -3.572894771748725,
          null
         ],
         "y": [
          40.4606484776773,
          40.39356859265691,
          null
         ]
        },
        {
         "hoverinfo": "text",
         "line": {
          "color": "rgba(86.50980392156863, 137.86274509803926, 190.80392156862746, 1.0)",
          "width": 1.3998711087449913
         },
         "mode": "lines",
         "showlegend": false,
         "text": "Width: 1.40",
         "type": "scatter",
         "x": [
          -3.6999935507976827,
          -3.5986526886701378,
          null
         ],
         "y": [
          40.4606484776773,
          40.43466852782298,
          null
         ]
        },
        {
         "hoverinfo": "text",
         "line": {
          "color": "rgba(95.72549019607845, 148.843137254902, 196.49019607843138, 1.0)",
          "width": 1.5848020398442098
         },
         "mode": "lines",
         "showlegend": false,
         "text": "Width: 1.58",
         "type": "scatter",
         "x": [
          -3.6999935507976827,
          -3.574543479322823,
          null
         ],
         "y": [
          40.4606484776773,
          40.4757410696608,
          null
         ]
        },
        {
         "hoverinfo": "text",
         "line": {
          "color": "rgba(253.33333333333334, 190.66666666666666, 112.66666666666666, 1.0)",
          "width": 6.675166017540418
         },
         "mode": "lines",
         "showlegend": false,
         "text": "Width: 6.68",
         "type": "scatter",
         "x": [
          -3.703523951395161,
          -3.705268804063821,
          null
         ],
         "y": [
          40.4375595509298,
          40.41733007020507,
          null
         ]
        },
        {
         "hoverinfo": "text",
         "line": {
          "color": "rgba(90.19607843137256, 142.2549019607843, 193.07843137254903, 1.0)",
          "width": 1.4564711815965703
         },
         "mode": "lines",
         "showlegend": false,
         "text": "Width: 1.46",
         "type": "scatter",
         "x": [
          -3.703523951395161,
          -3.6966151949203576,
          null
         ],
         "y": [
          40.4375595509298,
          40.398119933450886,
          null
         ]
        },
        {
         "hoverinfo": "text",
         "line": {
          "color": "rgba(116.00000000000003, 173.00000000000003, 209.0, 1.0)",
          "width": 1.9930510801647565
         },
         "mode": "lines",
         "showlegend": false,
         "text": "Width: 1.99",
         "type": "scatter",
         "x": [
          -3.703523951395161,
          -3.67643837848883,
          null
         ],
         "y": [
          40.4375595509298,
          40.41138084576659,
          null
         ]
        },
        {
         "hoverinfo": "text",
         "line": {
          "color": "rgba(254.7450980392157, 247.09803921568627, 179.01960784313724, 1.0)",
          "width": 5.24307209504329
         },
         "mode": "lines",
         "showlegend": false,
         "text": "Width: 5.24",
         "type": "scatter",
         "x": [
          -3.703523951395161,
          -3.6737887354917422,
          null
         ],
         "y": [
          40.4375595509298,
          40.43018370922185,
          null
         ]
        },
        {
         "hoverinfo": "text",
         "line": {
          "color": "rgba(247.09803921568627, 251.94117647058823, 205.52941176470588, 1.0)",
          "width": 4.736473423183614
         },
         "mode": "lines",
         "showlegend": false,
         "text": "Width: 4.74",
         "type": "scatter",
         "x": [
          -3.703523951395161,
          -3.678150006537061,
          null
         ],
         "y": [
          40.4375595509298,
          40.45750039357669,
          null
         ]
        },
        {
         "hoverinfo": "text",
         "line": {
          "color": "rgba(254.66666666666666, 244.66666666666669, 175.33333333333334, 1.0)",
          "width": 5.321807839950685
         },
         "mode": "lines",
         "showlegend": false,
         "text": "Width: 5.32",
         "type": "scatter",
         "x": [
          -3.703523951395161,
          -3.6999935507976827,
          null
         ],
         "y": [
          40.4375595509298,
          40.4606484776773,
          null
         ]
        },
        {
         "hoverinfo": "text",
         "line": {
          "color": "rgba(254.27450980392157, 232.50980392156862, 156.90196078431373, 1.0)",
          "width": 5.728936086749418
         },
         "mode": "lines",
         "showlegend": false,
         "text": "Width: 5.73",
         "type": "scatter",
         "x": [
          -3.703523951395161,
          -3.703523951395161,
          null
         ],
         "y": [
          40.4375595509298,
          40.4375595509298,
          null
         ]
        },
        {
         "hoverinfo": "text",
         "line": {
          "color": "rgba(148.35294117647058, 198.88235294117646, 223.1176470588235, 1.0)",
          "width": 2.590434027291322
         },
         "mode": "lines",
         "showlegend": false,
         "text": "Width: 2.59",
         "type": "scatter",
         "x": [
          -3.703523951395161,
          -3.753579560856663,
          null
         ],
         "y": [
          40.4375595509298,
          40.54479435831404,
          null
         ]
        },
        {
         "hoverinfo": "text",
         "line": {
          "color": "rgba(254.54901960784312, 241.01960784313727, 169.80392156862746, 1.0)",
          "width": 5.435288184034295
         },
         "mode": "lines",
         "showlegend": false,
         "text": "Width: 5.44",
         "type": "scatter",
         "x": [
          -3.703523951395161,
          -3.757223268157654,
          null
         ],
         "y": [
          40.4375595509298,
          40.44543508494524,
          null
         ]
        },
        {
         "hoverinfo": "text",
         "line": {
          "color": "rgba(84.66666666666667, 135.66666666666669, 189.66666666666669, 1.0)",
          "width": 1.3418700439911457
         },
         "mode": "lines",
         "showlegend": false,
         "text": "Width: 1.34",
         "type": "scatter",
         "x": [
          -3.703523951395161,
          -3.778616540618283,
          null
         ],
         "y": [
          40.4375595509298,
          40.385273701511004,
          null
         ]
        },
        {
         "hoverinfo": "text",
         "line": {
          "color": "rgba(64.68627450980392, 103.41176470588235, 173.3137254901961, 1.0)",
          "width": 0.7977247891507186
         },
         "mode": "lines",
         "showlegend": false,
         "text": "Width: 0.80",
         "type": "scatter",
         "x": [
          -3.703523951395161,
          -3.737112400757822,
          null
         ],
         "y": [
          40.4375595509298,
          40.378840354576816,
          null
         ]
        },
        {
         "hoverinfo": "text",
         "line": {
          "color": "rgba(59.196078431372555, 86.11764705882355, 164.8039215686275, 1.0)",
          "width": 0.5304155341982123
         },
         "mode": "lines",
         "showlegend": false,
         "text": "Width: 0.53",
         "type": "scatter",
         "x": [
          -3.703523951395161,
          -3.7029808755455926,
          null
         ],
         "y": [
          40.4375595509298,
          40.37595000318738,
          null
         ]
        },
        {
         "hoverinfo": "text",
         "line": {
          "color": "rgba(63.11764705882353, 98.47058823529413, 170.88235294117646, 1.0)",
          "width": 0.7066603155033764
         },
         "mode": "lines",
         "showlegend": false,
         "text": "Width: 0.71",
         "type": "scatter",
         "x": [
          -3.703523951395161,
          -3.6598634715735407,
          null
         ],
         "y": [
          40.4375595509298,
          40.38355078734683,
          null
         ]
        },
        {
         "hoverinfo": "text",
         "line": {
          "color": "rgba(52.13725490196079, 63.88235294117647, 153.86274509803923, 1.0)",
          "width": 0.5
         },
         "mode": "lines",
         "showlegend": false,
         "text": "Width: 0.50",
         "type": "scatter",
         "x": [
          -3.703523951395161,
          -3.6413909394895803,
          null
         ],
         "y": [
          40.4375595509298,
          40.40661270611631,
          null
         ]
        },
        {
         "hoverinfo": "text",
         "line": {
          "color": "rgba(84.66666666666667, 135.66666666666669, 189.66666666666669, 1.0)",
          "width": 1.331222505533918
         },
         "mode": "lines",
         "showlegend": false,
         "text": "Width: 1.33",
         "type": "scatter",
         "x": [
          -3.703523951395161,
          -3.649948514601449,
          null
         ],
         "y": [
          40.4375595509298,
          40.43926990707227,
          null
         ]
        },
        {
         "hoverinfo": "text",
         "line": {
          "color": "rgba(84.66666666666667, 135.66666666666669, 189.66666666666669, 1.0)",
          "width": 1.358401748437894
         },
         "mode": "lines",
         "showlegend": false,
         "text": "Width: 1.36",
         "type": "scatter",
         "x": [
          -3.703523951395161,
          -3.637741035389707,
          null
         ],
         "y": [
          40.4375595509298,
          40.48201214532898,
          null
         ]
        },
        {
         "hoverinfo": "text",
         "line": {
          "color": "rgba(56.05882352941177, 76.23529411764707, 159.94117647058823, 1.0)",
          "width": 0.5
         },
         "mode": "lines",
         "showlegend": false,
         "text": "Width: 0.50",
         "type": "scatter",
         "x": [
          -3.703523951395161,
          -3.695056256825152,
          null
         ],
         "y": [
          40.4375595509298,
          40.34253624126977,
          null
         ]
        },
        {
         "hoverinfo": "text",
         "line": {
          "color": "rgba(57.62745098039216, 81.17647058823529, 162.37254901960785, 1.0)",
          "width": 0.5
         },
         "mode": "lines",
         "showlegend": false,
         "text": "Width: 0.50",
         "type": "scatter",
         "x": [
          -3.703523951395161,
          -3.6160073912284756,
          null
         ],
         "y": [
          40.4375595509298,
          40.34992967757026,
          null
         ]
        },
        {
         "hoverinfo": "text",
         "line": {
          "color": "rgba(53.705882352941174, 68.82352941176471, 156.2941176470588, 1.0)",
          "width": 0.5
         },
         "mode": "lines",
         "showlegend": false,
         "text": "Width: 0.50",
         "type": "scatter",
         "x": [
          -3.703523951395161,
          -3.572894771748725,
          null
         ],
         "y": [
          40.4375595509298,
          40.39356859265691,
          null
         ]
        },
        {
         "hoverinfo": "text",
         "line": {
          "color": "rgba(73.60784313725492, 122.49019607843138, 182.84313725490196, 1.0)",
          "width": 1.1196727282916303
         },
         "mode": "lines",
         "showlegend": false,
         "text": "Width: 1.12",
         "type": "scatter",
         "x": [
          -3.703523951395161,
          -3.5986526886701378,
          null
         ],
         "y": [
          40.4375595509298,
          40.43466852782298,
          null
         ]
        },
        {
         "hoverinfo": "text",
         "line": {
          "color": "rgba(73.60784313725492, 122.49019607843138, 182.84313725490196, 1.0)",
          "width": 1.0969766594749082
         },
         "mode": "lines",
         "showlegend": false,
         "text": "Width: 1.10",
         "type": "scatter",
         "x": [
          -3.703523951395161,
          -3.574543479322823,
          null
         ],
         "y": [
          40.4375595509298,
          40.4757410696608,
          null
         ]
        },
        {
         "hoverinfo": "text",
         "line": {
          "color": "rgba(188.6666666666667, 225.66666666666669, 238.0, 1.0)",
          "width": 3.3528538205049174
         },
         "mode": "lines",
         "showlegend": false,
         "text": "Width: 3.35",
         "type": "scatter",
         "x": [
          -3.753579560856663,
          -3.705268804063821,
          null
         ],
         "y": [
          40.54479435831404,
          40.41733007020507,
          null
         ]
        },
        {
         "hoverinfo": "text",
         "line": {
          "color": "rgba(103.0980392156863, 157.6274509803922, 201.0392156862745, 1.0)",
          "width": 1.756003250301213
         },
         "mode": "lines",
         "showlegend": false,
         "text": "Width: 1.76",
         "type": "scatter",
         "x": [
          -3.753579560856663,
          -3.6966151949203576,
          null
         ],
         "y": [
          40.54479435831404,
          40.398119933450886,
          null
         ]
        },
        {
         "hoverinfo": "text",
         "line": {
          "color": "rgba(116.00000000000003, 173.00000000000003, 209.0, 1.0)",
          "width": 2.03087786152596
         },
         "mode": "lines",
         "showlegend": false,
         "text": "Width: 2.03",
         "type": "scatter",
         "x": [
          -3.753579560856663,
          -3.67643837848883,
          null
         ],
         "y": [
          40.54479435831404,
          40.41138084576659,
          null
         ]
        },
        {
         "hoverinfo": "text",
         "line": {
          "color": "rgba(156.98039215686276, 205.78431372549022, 226.88235294117646, 1.0)",
          "width": 2.7722827762055533
         },
         "mode": "lines",
         "showlegend": false,
         "text": "Width: 2.77",
         "type": "scatter",
         "x": [
          -3.753579560856663,
          -3.6737887354917422,
          null
         ],
         "y": [
          40.54479435831404,
          40.43018370922185,
          null
         ]
        },
        {
         "hoverinfo": "text",
         "line": {
          "color": "rgba(254.62745098039215, 243.45098039215685, 173.49019607843138, 1.0)",
          "width": 5.366919779203676
         },
         "mode": "lines",
         "showlegend": false,
         "text": "Width: 5.37",
         "type": "scatter",
         "x": [
          -3.753579560856663,
          -3.678150006537061,
          null
         ],
         "y": [
          40.54479435831404,
          40.45750039357669,
          null
         ]
        },
        {
         "hoverinfo": "text",
         "line": {
          "color": "rgba(249.64705882352942, 149.7843137254902, 85.82352941176471, 1.0)",
          "width": 7.352965899857098
         },
         "mode": "lines",
         "showlegend": false,
         "text": "Width: 7.35",
         "type": "scatter",
         "x": [
          -3.753579560856663,
          -3.6999935507976827,
          null
         ],
         "y": [
          40.54479435831404,
          40.4606484776773,
          null
         ]
        },
        {
         "hoverinfo": "text",
         "line": {
          "color": "rgba(199.0588235294118, 230.76470588235296, 240.94117647058823, 1.0)",
          "width": 3.518731261733307
         },
         "mode": "lines",
         "showlegend": false,
         "text": "Width: 3.52",
         "type": "scatter",
         "x": [
          -3.753579560856663,
          -3.703523951395161,
          null
         ],
         "y": [
          40.54479435831404,
          40.4375595509298,
          null
         ]
        },
        {
         "hoverinfo": "text",
         "line": {
          "color": "rgba(165.0, 0.0, 38.0, 1.0)",
          "width": 10
         },
         "mode": "lines",
         "showlegend": false,
         "text": "Width: 10.00",
         "type": "scatter",
         "x": [
          -3.753579560856663,
          -3.753579560856663,
          null
         ],
         "y": [
          40.54479435831404,
          40.54479435831404,
          null
         ]
        },
        {
         "hoverinfo": "text",
         "line": {
          "color": "rgba(253.2549019607843, 186.74509803921566, 108.98039215686275, 1.0)",
          "width": 6.7390512482837845
         },
         "mode": "lines",
         "showlegend": false,
         "text": "Width: 6.74",
         "type": "scatter",
         "x": [
          -3.753579560856663,
          -3.757223268157654,
          null
         ],
         "y": [
          40.54479435831404,
          40.44543508494524,
          null
         ]
        },
        {
         "hoverinfo": "text",
         "line": {
          "color": "rgba(75.45098039215688, 124.68627450980394, 183.98039215686276, 1.0)",
          "width": 1.1603014934573679
         },
         "mode": "lines",
         "showlegend": false,
         "text": "Width: 1.16",
         "type": "scatter",
         "x": [
          -3.753579560856663,
          -3.778616540618283,
          null
         ],
         "y": [
          40.54479435831404,
          40.385273701511004,
          null
         ]
        },
        {
         "hoverinfo": "text",
         "line": {
          "color": "rgba(75.45098039215688, 124.68627450980394, 183.98039215686276, 1.0)",
          "width": 1.1583401047941944
         },
         "mode": "lines",
         "showlegend": false,
         "text": "Width: 1.16",
         "type": "scatter",
         "x": [
          -3.753579560856663,
          -3.737112400757822,
          null
         ],
         "y": [
          40.54479435831404,
          40.378840354576816,
          null
         ]
        },
        {
         "hoverinfo": "text",
         "line": {
          "color": "rgba(63.11764705882353, 98.47058823529413, 170.88235294117646, 1.0)",
          "width": 0.7058197203620162
         },
         "mode": "lines",
         "showlegend": false,
         "text": "Width: 0.71",
         "type": "scatter",
         "x": [
          -3.753579560856663,
          -3.7029808755455926,
          null
         ],
         "y": [
          40.54479435831404,
          40.37595000318738,
          null
         ]
        },
        {
         "hoverinfo": "text",
         "line": {
          "color": "rgba(75.45098039215688, 124.68627450980394, 183.98039215686276, 1.0)",
          "width": 1.1667460562077951
         },
         "mode": "lines",
         "showlegend": false,
         "text": "Width: 1.17",
         "type": "scatter",
         "x": [
          -3.753579560856663,
          -3.6598634715735407,
          null
         ],
         "y": [
          40.54479435831404,
          40.38355078734683,
          null
         ]
        },
        {
         "hoverinfo": "text",
         "line": {
          "color": "rgba(62.333333333333336, 96.0, 169.66666666666669, 1.0)",
          "width": 0.7016167446552158
         },
         "mode": "lines",
         "showlegend": false,
         "text": "Width: 0.70",
         "type": "scatter",
         "x": [
          -3.753579560856663,
          -3.6413909394895803,
          null
         ],
         "y": [
          40.54479435831404,
          40.40661270611631,
          null
         ]
        },
        {
         "hoverinfo": "text",
         "line": {
          "color": "rgba(184.50980392156865, 223.62745098039218, 236.82352941176472, 1.0)",
          "width": 3.2561853792485076
         },
         "mode": "lines",
         "showlegend": false,
         "text": "Width: 3.26",
         "type": "scatter",
         "x": [
          -3.753579560856663,
          -3.649948514601449,
          null
         ],
         "y": [
          40.54479435831404,
          40.43926990707227,
          null
         ]
        },
        {
         "hoverinfo": "text",
         "line": {
          "color": "rgba(253.2156862745098, 184.7843137254902, 107.13725490196079, 1.0)",
          "width": 6.788085964863122
         },
         "mode": "lines",
         "showlegend": false,
         "text": "Width: 6.79",
         "type": "scatter",
         "x": [
          -3.753579560856663,
          -3.637741035389707,
          null
         ],
         "y": [
          40.54479435831404,
          40.48201214532898,
          null
         ]
        },
        {
         "hoverinfo": "text",
         "line": {
          "color": "rgba(60.76470588235294, 91.05882352941177, 167.23529411764707, 1.0)",
          "width": 0.589257194093418
         },
         "mode": "lines",
         "showlegend": false,
         "text": "Width: 0.59",
         "type": "scatter",
         "x": [
          -3.753579560856663,
          -3.695056256825152,
          null
         ],
         "y": [
          40.54479435831404,
          40.34253624126977,
          null
         ]
        },
        {
         "hoverinfo": "text",
         "line": {
          "color": "rgba(64.68627450980392, 103.41176470588235, 173.3137254901961, 1.0)",
          "width": 0.8030485583793325
         },
         "mode": "lines",
         "showlegend": false,
         "text": "Width: 0.80",
         "type": "scatter",
         "x": [
          -3.753579560856663,
          -3.6160073912284756,
          null
         ],
         "y": [
          40.54479435831404,
          40.34992967757026,
          null
         ]
        },
        {
         "hoverinfo": "text",
         "line": {
          "color": "rgba(63.11764705882353, 98.47058823529413, 170.88235294117646, 1.0)",
          "width": 0.7066603155033764
         },
         "mode": "lines",
         "showlegend": false,
         "text": "Width: 0.71",
         "type": "scatter",
         "x": [
          -3.753579560856663,
          -3.572894771748725,
          null
         ],
         "y": [
          40.54479435831404,
          40.39356859265691,
          null
         ]
        },
        {
         "hoverinfo": "text",
         "line": {
          "color": "rgba(131.0980392156863, 185.07843137254903, 215.58823529411765, 1.0)",
          "width": 2.2729692622376643
         },
         "mode": "lines",
         "showlegend": false,
         "text": "Width: 2.27",
         "type": "scatter",
         "x": [
          -3.753579560856663,
          -3.5986526886701378,
          null
         ],
         "y": [
          40.54479435831404,
          40.43466852782298,
          null
         ]
        },
        {
         "hoverinfo": "text",
         "line": {
          "color": "rgba(139.72549019607845, 191.98039215686276, 219.3529411764706, 1.0)",
          "width": 2.4343635293788
         },
         "mode": "lines",
         "showlegend": false,
         "text": "Width: 2.43",
         "type": "scatter",
         "x": [
          -3.753579560856663,
          -3.574543479322823,
          null
         ],
         "y": [
          40.54479435831404,
          40.4757410696608,
          null
         ]
        },
        {
         "hoverinfo": "text",
         "line": {
          "color": "rgba(253.921568627451, 220.07843137254903, 140.31372549019608, 1.0)",
          "width": 6.05508700159713
         },
         "mode": "lines",
         "showlegend": false,
         "text": "Width: 6.06",
         "type": "scatter",
         "x": [
          -3.757223268157654,
          -3.705268804063821,
          null
         ],
         "y": [
          40.44543508494524,
          40.41733007020507,
          null
         ]
        },
        {
         "hoverinfo": "text",
         "line": {
          "color": "rgba(137.56862745098042, 190.2549019607843, 218.41176470588235, 1.0)",
          "width": 2.4035417075289303
         },
         "mode": "lines",
         "showlegend": false,
         "text": "Width: 2.40",
         "type": "scatter",
         "x": [
          -3.757223268157654,
          -3.6966151949203576,
          null
         ],
         "y": [
          40.44543508494524,
          40.398119933450886,
          null
         ]
        },
        {
         "hoverinfo": "text",
         "line": {
          "color": "rgba(88.35294117647061, 140.0588235294118, 191.94117647058823, 1.0)",
          "width": 1.4180840034744597
         },
         "mode": "lines",
         "showlegend": false,
         "text": "Width: 1.42",
         "type": "scatter",
         "x": [
          -3.757223268157654,
          -3.67643837848883,
          null
         ],
         "y": [
          40.44543508494524,
          40.41138084576659,
          null
         ]
        },
        {
         "hoverinfo": "text",
         "line": {
          "color": "rgba(139.72549019607845, 191.98039215686276, 219.3529411764706, 1.0)",
          "width": 2.4281991650088264
         },
         "mode": "lines",
         "showlegend": false,
         "text": "Width: 2.43",
         "type": "scatter",
         "x": [
          -3.757223268157654,
          -3.6737887354917422,
          null
         ],
         "y": [
          40.44543508494524,
          40.43018370922185,
          null
         ]
        },
        {
         "hoverinfo": "text",
         "line": {
          "color": "rgba(146.19607843137257, 197.15686274509807, 222.1764705882353, 1.0)",
          "width": 2.5512062540278517
         },
         "mode": "lines",
         "showlegend": false,
         "text": "Width: 2.55",
         "type": "scatter",
         "x": [
          -3.757223268157654,
          -3.678150006537061,
          null
         ],
         "y": [
          40.44543508494524,
          40.45750039357669,
          null
         ]
        },
        {
         "hoverinfo": "text",
         "line": {
          "color": "rgba(254.39215686274508, 236.15686274509804, 162.4313725490196, 1.0)",
          "width": 5.6106923701981
         },
         "mode": "lines",
         "showlegend": false,
         "text": "Width: 5.61",
         "type": "scatter",
         "x": [
          -3.757223268157654,
          -3.6999935507976827,
          null
         ],
         "y": [
          40.44543508494524,
          40.4606484776773,
          null
         ]
        },
        {
         "hoverinfo": "text",
         "line": {
          "color": "rgba(253.41176470588235, 194.58823529411762, 116.35294117647058, 1.0)",
          "width": 6.582140155229903
         },
         "mode": "lines",
         "showlegend": false,
         "text": "Width: 6.58",
         "type": "scatter",
         "x": [
          -3.757223268157654,
          -3.703523951395161,
          null
         ],
         "y": [
          40.44543508494524,
          40.4375595509298,
          null
         ]
        },
        {
         "hoverinfo": "text",
         "line": {
          "color": "rgba(253.41176470588235, 194.58823529411762, 116.35294117647058, 1.0)",
          "width": 6.572613410294489
         },
         "mode": "lines",
         "showlegend": false,
         "text": "Width: 6.57",
         "type": "scatter",
         "x": [
          -3.757223268157654,
          -3.753579560856663,
          null
         ],
         "y": [
          40.44543508494524,
          40.54479435831404,
          null
         ]
        },
        {
         "hoverinfo": "text",
         "line": {
          "color": "rgba(245.41176470588235, 119.19607843137254, 71.70588235294117, 1.0)",
          "width": 7.848917033259548
         },
         "mode": "lines",
         "showlegend": false,
         "text": "Width: 7.85",
         "type": "scatter",
         "x": [
          -3.757223268157654,
          -3.757223268157654,
          null
         ],
         "y": [
          40.44543508494524,
          40.44543508494524,
          null
         ]
        },
        {
         "hoverinfo": "text",
         "line": {
          "color": "rgba(254.27450980392157, 232.50980392156862, 156.90196078431373, 1.0)",
          "width": 5.733979657597579
         },
         "mode": "lines",
         "showlegend": false,
         "text": "Width: 5.73",
         "type": "scatter",
         "x": [
          -3.757223268157654,
          -3.778616540618283,
          null
         ],
         "y": [
          40.44543508494524,
          40.385273701511004,
          null
         ]
        },
        {
         "hoverinfo": "text",
         "line": {
          "color": "rgba(104.94117647058823, 159.82352941176472, 202.17647058823528, 1.0)",
          "width": 1.763568606573454
         },
         "mode": "lines",
         "showlegend": false,
         "text": "Width: 1.76",
         "type": "scatter",
         "x": [
          -3.757223268157654,
          -3.737112400757822,
          null
         ],
         "y": [
          40.44543508494524,
          40.378840354576816,
          null
         ]
        },
        {
         "hoverinfo": "text",
         "line": {
          "color": "rgba(63.90196078431372, 100.94117647058825, 172.0980392156863, 1.0)",
          "width": 0.7730673316708229
         },
         "mode": "lines",
         "showlegend": false,
         "text": "Width: 0.77",
         "type": "scatter",
         "x": [
          -3.757223268157654,
          -3.7029808755455926,
          null
         ],
         "y": [
          40.44543508494524,
          40.37595000318738,
          null
         ]
        },
        {
         "hoverinfo": "text",
         "line": {
          "color": "rgba(62.333333333333336, 96.0, 169.66666666666669, 1.0)",
          "width": 0.7030177365574827
         },
         "mode": "lines",
         "showlegend": false,
         "text": "Width: 0.70",
         "type": "scatter",
         "x": [
          -3.757223268157654,
          -3.6598634715735407,
          null
         ],
         "y": [
          40.44543508494524,
          40.38355078734683,
          null
         ]
        },
        {
         "hoverinfo": "text",
         "line": {
          "color": "rgba(52.13725490196079, 63.88235294117647, 153.86274509803923, 1.0)",
          "width": 0.5
         },
         "mode": "lines",
         "showlegend": false,
         "text": "Width: 0.50",
         "type": "scatter",
         "x": [
          -3.757223268157654,
          -3.6413909394895803,
          null
         ],
         "y": [
          40.44543508494524,
          40.40661270611631,
          null
         ]
        },
        {
         "hoverinfo": "text",
         "line": {
          "color": "rgba(79.13725490196079, 129.07843137254903, 186.25490196078434, 1.0)",
          "width": 1.2407184286474824
         },
         "mode": "lines",
         "showlegend": false,
         "text": "Width: 1.24",
         "type": "scatter",
         "x": [
          -3.757223268157654,
          -3.649948514601449,
          null
         ],
         "y": [
          40.44543508494524,
          40.43926990707227,
          null
         ]
        },
        {
         "hoverinfo": "text",
         "line": {
          "color": "rgba(92.03921568627452, 144.4509803921569, 194.2156862745098, 1.0)",
          "width": 1.5186752220572164
         },
         "mode": "lines",
         "showlegend": false,
         "text": "Width: 1.52",
         "type": "scatter",
         "x": [
          -3.757223268157654,
          -3.637741035389707,
          null
         ],
         "y": [
          40.44543508494524,
          40.48201214532898,
          null
         ]
        },
        {
         "hoverinfo": "text",
         "line": {
          "color": "rgba(58.411764705882355, 83.64705882352942, 163.58823529411765, 1.0)",
          "width": 0.5
         },
         "mode": "lines",
         "showlegend": false,
         "text": "Width: 0.50",
         "type": "scatter",
         "x": [
          -3.757223268157654,
          -3.695056256825152,
          null
         ],
         "y": [
          40.44543508494524,
          40.34253624126977,
          null
         ]
        },
        {
         "hoverinfo": "text",
         "line": {
          "color": "rgba(57.62745098039216, 81.17647058823529, 162.37254901960785, 1.0)",
          "width": 0.5
         },
         "mode": "lines",
         "showlegend": false,
         "text": "Width: 0.50",
         "type": "scatter",
         "x": [
          -3.757223268157654,
          -3.6160073912284756,
          null
         ],
         "y": [
          40.44543508494524,
          40.34992967757026,
          null
         ]
        },
        {
         "hoverinfo": "text",
         "line": {
          "color": "rgba(53.705882352941174, 68.82352941176471, 156.2941176470588, 1.0)",
          "width": 0.5
         },
         "mode": "lines",
         "showlegend": false,
         "text": "Width: 0.50",
         "type": "scatter",
         "x": [
          -3.757223268157654,
          -3.572894771748725,
          null
         ],
         "y": [
          40.44543508494524,
          40.39356859265691,
          null
         ]
        },
        {
         "hoverinfo": "text",
         "line": {
          "color": "rgba(69.921568627451, 118.09803921568628, 180.56862745098042, 1.0)",
          "width": 1.0274874611224747
         },
         "mode": "lines",
         "showlegend": false,
         "text": "Width: 1.03",
         "type": "scatter",
         "x": [
          -3.757223268157654,
          -3.5986526886701378,
          null
         ],
         "y": [
          40.44543508494524,
          40.43466852782298,
          null
         ]
        },
        {
         "hoverinfo": "text",
         "line": {
          "color": "rgba(67.03921568627452, 110.82352941176472, 176.9607843137255, 1.0)",
          "width": 0.9036397769620892
         },
         "mode": "lines",
         "showlegend": false,
         "text": "Width: 0.90",
         "type": "scatter",
         "x": [
          -3.757223268157654,
          -3.574543479322823,
          null
         ],
         "y": [
          40.44543508494524,
          40.4757410696608,
          null
         ]
        },
        {
         "hoverinfo": "text",
         "line": {
          "color": "rgba(253.49019607843138, 198.50980392156865, 120.0392156862745, 1.0)",
          "width": 6.510969766594748
         },
         "mode": "lines",
         "showlegend": false,
         "text": "Width: 6.51",
         "type": "scatter",
         "x": [
          -3.778616540618283,
          -3.705268804063821,
          null
         ],
         "y": [
          40.385273701511004,
          40.41733007020507,
          null
         ]
        },
        {
         "hoverinfo": "text",
         "line": {
          "color": "rgba(249.52941176470588, 252.88235294117646, 201.05882352941174, 1.0)",
          "width": 4.812407184286474
         },
         "mode": "lines",
         "showlegend": false,
         "text": "Width: 4.81",
         "type": "scatter",
         "x": [
          -3.778616540618283,
          -3.6966151949203576,
          null
         ],
         "y": [
          40.385273701511004,
          40.398119933450886,
          null
         ]
        },
        {
         "hoverinfo": "text",
         "line": {
          "color": "rgba(128.94117647058823, 183.3529411764706, 214.64705882352942, 1.0)",
          "width": 2.23093950516966
         },
         "mode": "lines",
         "showlegend": false,
         "text": "Width: 2.23",
         "type": "scatter",
         "x": [
          -3.778616540618283,
          -3.67643837848883,
          null
         ],
         "y": [
          40.385273701511004,
          40.41138084576659,
          null
         ]
        },
        {
         "hoverinfo": "text",
         "line": {
          "color": "rgba(192.82352941176475, 227.70588235294116, 239.1764705882353, 1.0)",
          "width": 3.4273865897055114
         },
         "mode": "lines",
         "showlegend": false,
         "text": "Width: 3.43",
         "type": "scatter",
         "x": [
          -3.778616540618283,
          -3.6737887354917422,
          null
         ],
         "y": [
          40.385273701511004,
          40.43018370922185,
          null
         ]
        },
        {
         "hoverinfo": "text",
         "line": {
          "color": "rgba(199.0588235294118, 230.76470588235296, 240.94117647058823, 1.0)",
          "width": 3.525175824483734
         },
         "mode": "lines",
         "showlegend": false,
         "text": "Width: 3.53",
         "type": "scatter",
         "x": [
          -3.778616540618283,
          -3.678150006537061,
          null
         ],
         "y": [
          40.385273701511004,
          40.45750039357669,
          null
         ]
        },
        {
         "hoverinfo": "text",
         "line": {
          "color": "rgba(165.6078431372549, 212.68627450980392, 230.64705882352942, 1.0)",
          "width": 2.9098601810081535
         },
         "mode": "lines",
         "showlegend": false,
         "text": "Width: 2.91",
         "type": "scatter",
         "x": [
          -3.778616540618283,
          -3.6999935507976827,
          null
         ],
         "y": [
          40.385273701511004,
          40.4606484776773,
          null
         ]
        },
        {
         "hoverinfo": "text",
         "line": {
          "color": "rgba(221.92156862745105, 241.98039215686276, 247.41176470588238, 1.0)",
          "width": 3.9642466866541506
         },
         "mode": "lines",
         "showlegend": false,
         "text": "Width: 3.96",
         "type": "scatter",
         "x": [
          -3.778616540618283,
          -3.703523951395161,
          null
         ],
         "y": [
          40.385273701511004,
          40.4375595509298,
          null
         ]
        },
        {
         "hoverinfo": "text",
         "line": {
          "color": "rgba(167.76470588235296, 214.41176470588235, 231.58823529411765, 1.0)",
          "width": 2.9633780716747458
         },
         "mode": "lines",
         "showlegend": false,
         "text": "Width: 2.96",
         "type": "scatter",
         "x": [
          -3.778616540618283,
          -3.753579560856663,
          null
         ],
         "y": [
          40.385273701511004,
          40.54479435831404,
          null
         ]
        },
        {
         "hoverinfo": "text",
         "line": {
          "color": "rgba(247.52941176470588, 134.49019607843138, 78.76470588235296, 1.0)",
          "width": 7.582168175067948
         },
         "mode": "lines",
         "showlegend": false,
         "text": "Width: 7.58",
         "type": "scatter",
         "x": [
          -3.778616540618283,
          -3.757223268157654,
          null
         ],
         "y": [
          40.385273701511004,
          40.44543508494524,
          null
         ]
        },
        {
         "hoverinfo": "text",
         "line": {
          "color": "rgba(230.3529411764706, 80.29411764705883, 53.82352941176471, 1.0)",
          "width": 8.447140575527472
         },
         "mode": "lines",
         "showlegend": false,
         "text": "Width: 8.45",
         "type": "scatter",
         "x": [
          -3.778616540618283,
          -3.778616540618283,
          null
         ],
         "y": [
          40.385273701511004,
          40.385273701511004,
          null
         ]
        },
        {
         "hoverinfo": "text",
         "line": {
          "color": "rgba(245.05882352941177, 116.64705882352942, 70.52941176470588, 1.0)",
          "width": 7.86909131665219
         },
         "mode": "lines",
         "showlegend": false,
         "text": "Width: 7.87",
         "type": "scatter",
         "x": [
          -3.778616540618283,
          -3.737112400757822,
          null
         ],
         "y": [
          40.385273701511004,
          40.378840354576816,
          null
         ]
        },
        {
         "hoverinfo": "text",
         "line": {
          "color": "rgba(126.78431372549022, 181.62745098039218, 213.7058823529412, 1.0)",
          "width": 2.200678080080697
         },
         "mode": "lines",
         "showlegend": false,
         "text": "Width: 2.20",
         "type": "scatter",
         "x": [
          -3.778616540618283,
          -3.7029808755455926,
          null
         ],
         "y": [
          40.385273701511004,
          40.37595000318738,
          null
         ]
        },
        {
         "hoverinfo": "text",
         "line": {
          "color": "rgba(118.15686274509807, 174.72549019607845, 209.94117647058823, 1.0)",
          "width": 2.041525399983188
         },
         "mode": "lines",
         "showlegend": false,
         "text": "Width: 2.04",
         "type": "scatter",
         "x": [
          -3.778616540618283,
          -3.6598634715735407,
          null
         ],
         "y": [
          40.385273701511004,
          40.38355078734683,
          null
         ]
        },
        {
         "hoverinfo": "text",
         "line": {
          "color": "rgba(64.68627450980392, 103.41176470588235, 173.3137254901961, 1.0)",
          "width": 0.8041693519011459
         },
         "mode": "lines",
         "showlegend": false,
         "text": "Width: 0.80",
         "type": "scatter",
         "x": [
          -3.778616540618283,
          -3.6413909394895803,
          null
         ],
         "y": [
          40.385273701511004,
          40.40661270611631,
          null
         ]
        },
        {
         "hoverinfo": "text",
         "line": {
          "color": "rgba(124.62745098039218, 179.90196078431376, 212.76470588235296, 1.0)",
          "width": 2.177141416122615
         },
         "mode": "lines",
         "showlegend": false,
         "text": "Width: 2.18",
         "type": "scatter",
         "x": [
          -3.778616540618283,
          -3.649948514601449,
          null
         ],
         "y": [
          40.385273701511004,
          40.43926990707227,
          null
         ]
        },
        {
         "hoverinfo": "text",
         "line": {
          "color": "rgba(103.0980392156863, 157.6274509803922, 201.0392156862745, 1.0)",
          "width": 1.7344279750063043
         },
         "mode": "lines",
         "showlegend": false,
         "text": "Width: 1.73",
         "type": "scatter",
         "x": [
          -3.778616540618283,
          -3.637741035389707,
          null
         ],
         "y": [
          40.385273701511004,
          40.48201214532898,
          null
         ]
        },
        {
         "hoverinfo": "text",
         "line": {
          "color": "rgba(104.94117647058823, 159.82352941176472, 202.17647058823528, 1.0)",
          "width": 1.7941102300428704
         },
         "mode": "lines",
         "showlegend": false,
         "text": "Width: 1.79",
         "type": "scatter",
         "x": [
          -3.778616540618283,
          -3.695056256825152,
          null
         ],
         "y": [
          40.385273701511004,
          40.34253624126977,
          null
         ]
        },
        {
         "hoverinfo": "text",
         "line": {
          "color": "rgba(99.41176470588236, 153.2352941176471, 198.76470588235296, 1.0)",
          "width": 1.678948695676539
         },
         "mode": "lines",
         "showlegend": false,
         "text": "Width: 1.68",
         "type": "scatter",
         "x": [
          -3.778616540618283,
          -3.6160073912284756,
          null
         ],
         "y": [
          40.385273701511004,
          40.34992967757026,
          null
         ]
        },
        {
         "hoverinfo": "text",
         "line": {
          "color": "rgba(66.25490196078432, 108.35294117647061, 175.74509803921572, 1.0)",
          "width": 0.875619938916753
         },
         "mode": "lines",
         "showlegend": false,
         "text": "Width: 0.88",
         "type": "scatter",
         "x": [
          -3.778616540618283,
          -3.572894771748725,
          null
         ],
         "y": [
          40.385273701511004,
          40.39356859265691,
          null
         ]
        },
        {
         "hoverinfo": "text",
         "line": {
          "color": "rgba(103.0980392156863, 157.6274509803922, 201.0392156862745, 1.0)",
          "width": 1.7237804365490765
         },
         "mode": "lines",
         "showlegend": false,
         "text": "Width: 1.72",
         "type": "scatter",
         "x": [
          -3.778616540618283,
          -3.5986526886701378,
          null
         ],
         "y": [
          40.385273701511004,
          40.43466852782298,
          null
         ]
        },
        {
         "hoverinfo": "text",
         "line": {
          "color": "rgba(82.82352941176471, 133.47058823529412, 188.5294117647059, 1.0)",
          "width": 1.327299728207571
         },
         "mode": "lines",
         "showlegend": false,
         "text": "Width: 1.33",
         "type": "scatter",
         "x": [
          -3.778616540618283,
          -3.574543479322823,
          null
         ],
         "y": [
          40.385273701511004,
          40.4757410696608,
          null
         ]
        },
        {
         "hoverinfo": "text",
         "line": {
          "color": "rgba(254.94117647058823, 253.1764705882353, 188.23529411764707, 1.0)",
          "width": 5.0718708845862865
         },
         "mode": "lines",
         "showlegend": false,
         "text": "Width: 5.07",
         "type": "scatter",
         "x": [
          -3.737112400757822,
          -3.705268804063821,
          null
         ],
         "y": [
          40.378840354576816,
          40.41733007020507,
          null
         ]
        },
        {
         "hoverinfo": "text",
         "line": {
          "color": "rgba(253.41176470588235, 194.58823529411762, 116.35294117647058, 1.0)",
          "width": 6.582980750371263
         },
         "mode": "lines",
         "showlegend": false,
         "text": "Width: 6.58",
         "type": "scatter",
         "x": [
          -3.737112400757822,
          -3.6966151949203576,
          null
         ],
         "y": [
          40.378840354576816,
          40.398119933450886,
          null
         ]
        },
        {
         "hoverinfo": "text",
         "line": {
          "color": "rgba(131.0980392156863, 185.07843137254903, 215.58823529411765, 1.0)",
          "width": 2.2754910476617445
         },
         "mode": "lines",
         "showlegend": false,
         "text": "Width: 2.28",
         "type": "scatter",
         "x": [
          -3.737112400757822,
          -3.67643837848883,
          null
         ],
         "y": [
          40.378840354576816,
          40.41138084576659,
          null
         ]
        },
        {
         "hoverinfo": "text",
         "line": {
          "color": "rgba(165.6078431372549, 212.68627450980392, 230.64705882352942, 1.0)",
          "width": 2.919386925943568
         },
         "mode": "lines",
         "showlegend": false,
         "text": "Width: 2.92",
         "type": "scatter",
         "x": [
          -3.737112400757822,
          -3.6737887354917422,
          null
         ],
         "y": [
          40.378840354576816,
          40.43018370922185,
          null
         ]
        },
        {
         "hoverinfo": "text",
         "line": {
          "color": "rgba(184.50980392156865, 223.62745098039218, 236.82352941176472, 1.0)",
          "width": 3.2430160553671996
         },
         "mode": "lines",
         "showlegend": false,
         "text": "Width: 3.24",
         "type": "scatter",
         "x": [
          -3.737112400757822,
          -3.678150006537061,
          null
         ],
         "y": [
          40.378840354576816,
          40.45750039357669,
          null
         ]
        },
        {
         "hoverinfo": "text",
         "line": {
          "color": "rgba(144.03921568627453, 195.4313725490196, 221.23529411764707, 1.0)",
          "width": 2.5030121325898733
         },
         "mode": "lines",
         "showlegend": false,
         "text": "Width: 2.50",
         "type": "scatter",
         "x": [
          -3.737112400757822,
          -3.6999935507976827,
          null
         ],
         "y": [
          40.378840354576816,
          40.4606484776773,
          null
         ]
        },
        {
         "hoverinfo": "text",
         "line": {
          "color": "rgba(176.19607843137257, 219.54901960784315, 234.47058823529412, 1.0)",
          "width": 3.101235674857799
         },
         "mode": "lines",
         "showlegend": false,
         "text": "Width: 3.10",
         "type": "scatter",
         "x": [
          -3.737112400757822,
          -3.703523951395161,
          null
         ],
         "y": [
          40.378840354576816,
          40.4375595509298,
          null
         ]
        },
        {
         "hoverinfo": "text",
         "line": {
          "color": "rgba(146.19607843137257, 197.15686274509807, 222.1764705882353, 1.0)",
          "width": 2.551766650788758
         },
         "mode": "lines",
         "showlegend": false,
         "text": "Width: 2.55",
         "type": "scatter",
         "x": [
          -3.737112400757822,
          -3.753579560856663,
          null
         ],
         "y": [
          40.378840354576816,
          40.54479435831404,
          null
         ]
        },
        {
         "hoverinfo": "text",
         "line": {
          "color": "rgba(199.0588235294118, 230.76470588235296, 240.94117647058823, 1.0)",
          "width": 3.5492728852027233
         },
         "mode": "lines",
         "showlegend": false,
         "text": "Width: 3.55",
         "type": "scatter",
         "x": [
          -3.737112400757822,
          -3.757223268157654,
          null
         ],
         "y": [
          40.378840354576816,
          40.44543508494524,
          null
         ]
        },
        {
         "hoverinfo": "text",
         "line": {
          "color": "rgba(248.58823529411765, 142.13725490196077, 82.29411764705883, 1.0)",
          "width": 7.47148981478887
         },
         "mode": "lines",
         "showlegend": false,
         "text": "Width: 7.47",
         "type": "scatter",
         "x": [
          -3.737112400757822,
          -3.778616540618283,
          null
         ],
         "y": [
          40.378840354576816,
          40.385273701511004,
          null
         ]
        },
        {
         "hoverinfo": "text",
         "line": {
          "color": "rgba(228.07843137254903, 75.50980392156862, 51.62745098039216, 1.0)",
          "width": 8.55277536495839
         },
         "mode": "lines",
         "showlegend": false,
         "text": "Width: 8.55",
         "type": "scatter",
         "x": [
          -3.737112400757822,
          -3.737112400757822,
          null
         ],
         "y": [
          40.378840354576816,
          40.378840354576816,
          null
         ]
        },
        {
         "hoverinfo": "text",
         "line": {
          "color": "rgba(252.11764705882354, 167.62745098039218, 94.05882352941177, 1.0)",
          "width": 7.096864580122727
         },
         "mode": "lines",
         "showlegend": false,
         "text": "Width: 7.10",
         "type": "scatter",
         "x": [
          -3.737112400757822,
          -3.7029808755455926,
          null
         ],
         "y": [
          40.378840354576816,
          40.37595000318738,
          null
         ]
        },
        {
         "hoverinfo": "text",
         "line": {
          "color": "rgba(133.2549019607843, 186.8039215686275, 216.52941176470588, 1.0)",
          "width": 2.3399366751660176
         },
         "mode": "lines",
         "showlegend": false,
         "text": "Width: 2.34",
         "type": "scatter",
         "x": [
          -3.737112400757822,
          -3.6598634715735407,
          null
         ],
         "y": [
          40.378840354576816,
          40.38355078734683,
          null
         ]
        },
        {
         "hoverinfo": "text",
         "line": {
          "color": "rgba(67.8235294117647, 113.29411764705883, 178.1764705882353, 1.0)",
          "width": 0.9582784611504944
         },
         "mode": "lines",
         "showlegend": false,
         "text": "Width: 0.96",
         "type": "scatter",
         "x": [
          -3.737112400757822,
          -3.6413909394895803,
          null
         ],
         "y": [
          40.378840354576816,
          40.40661270611631,
          null
         ]
        },
        {
         "hoverinfo": "text",
         "line": {
          "color": "rgba(137.56862745098042, 190.2549019607843, 218.41176470588235, 1.0)",
          "width": 2.4214744038779457
         },
         "mode": "lines",
         "showlegend": false,
         "text": "Width: 2.42",
         "type": "scatter",
         "x": [
          -3.737112400757822,
          -3.649948514601449,
          null
         ],
         "y": [
          40.378840354576816,
          40.43926990707227,
          null
         ]
        },
        {
         "hoverinfo": "text",
         "line": {
          "color": "rgba(104.94117647058823, 159.82352941176472, 202.17647058823528, 1.0)",
          "width": 1.787665667292443
         },
         "mode": "lines",
         "showlegend": false,
         "text": "Width: 1.79",
         "type": "scatter",
         "x": [
          -3.737112400757822,
          -3.637741035389707,
          null
         ],
         "y": [
          40.378840354576816,
          40.48201214532898,
          null
         ]
        },
        {
         "hoverinfo": "text",
         "line": {
          "color": "rgba(184.50980392156865, 223.62745098039218, 236.82352941176472, 1.0)",
          "width": 3.2729972820757096
         },
         "mode": "lines",
         "showlegend": false,
         "text": "Width: 3.27",
         "type": "scatter",
         "x": [
          -3.737112400757822,
          -3.695056256825152,
          null
         ],
         "y": [
          40.378840354576816,
          40.34253624126977,
          null
         ]
        },
        {
         "hoverinfo": "text",
         "line": {
          "color": "rgba(137.56862745098042, 190.2549019607843, 218.41176470588235, 1.0)",
          "width": 2.3973773431589565
         },
         "mode": "lines",
         "showlegend": false,
         "text": "Width: 2.40",
         "type": "scatter",
         "x": [
          -3.737112400757822,
          -3.6160073912284756,
          null
         ],
         "y": [
          40.378840354576816,
          40.34992967757026,
          null
         ]
        },
        {
         "hoverinfo": "text",
         "line": {
          "color": "rgba(73.60784313725492, 122.49019607843138, 182.84313725490196, 1.0)",
          "width": 1.102300428703522
         },
         "mode": "lines",
         "showlegend": false,
         "text": "Width: 1.10",
         "type": "scatter",
         "x": [
          -3.737112400757822,
          -3.572894771748725,
          null
         ],
         "y": [
          40.378840354576816,
          40.39356859265691,
          null
         ]
        },
        {
         "hoverinfo": "text",
         "line": {
          "color": "rgba(114.15686274509805, 170.8039215686275, 207.86274509803923, 1.0)",
          "width": 1.9790411611420884
         },
         "mode": "lines",
         "showlegend": false,
         "text": "Width: 1.98",
         "type": "scatter",
         "x": [
          -3.737112400757822,
          -3.5986526886701378,
          null
         ],
         "y": [
          40.378840354576816,
          40.43466852782298,
          null
         ]
        },
        {
         "hoverinfo": "text",
         "line": {
          "color": "rgba(86.50980392156863, 137.86274509803926, 190.80392156862746, 1.0)",
          "width": 1.3827790075373363
         },
         "mode": "lines",
         "showlegend": false,
         "text": "Width: 1.38",
         "type": "scatter",
         "x": [
          -3.737112400757822,
          -3.574543479322823,
          null
         ],
         "y": [
          40.378840354576816,
          40.4757410696608,
          null
         ]
        },
        {
         "hoverinfo": "text",
         "line": {
          "color": "rgba(207.37254901960787, 234.843137254902, 243.2941176470588, 1.0)",
          "width": 3.677323545069909
         },
         "mode": "lines",
         "showlegend": false,
         "text": "Width: 3.68",
         "type": "scatter",
         "x": [
          -3.7029808755455926,
          -3.705268804063821,
          null
         ],
         "y": [
          40.37595000318738,
          40.41733007020507,
          null
         ]
        },
        {
         "hoverinfo": "text",
         "line": {
          "color": "rgba(253.68627450980392, 208.31372549019608, 129.2549019607843, 1.0)",
          "width": 6.306144750483342
         },
         "mode": "lines",
         "showlegend": false,
         "text": "Width: 6.31",
         "type": "scatter",
         "x": [
          -3.7029808755455926,
          -3.6966151949203576,
          null
         ],
         "y": [
          40.37595000318738,
          40.398119933450886,
          null
         ]
        },
        {
         "hoverinfo": "text",
         "line": {
          "color": "rgba(128.94117647058823, 183.3529411764706, 214.64705882352942, 1.0)",
          "width": 2.240466250105074
         },
         "mode": "lines",
         "showlegend": false,
         "text": "Width: 2.24",
         "type": "scatter",
         "x": [
          -3.7029808755455926,
          -3.67643837848883,
          null
         ],
         "y": [
          40.37595000318738,
          40.41138084576659,
          null
         ]
        },
        {
         "hoverinfo": "text",
         "line": {
          "color": "rgba(118.15686274509807, 174.72549019607845, 209.94117647058823, 1.0)",
          "width": 2.0583373028103895
         },
         "mode": "lines",
         "showlegend": false,
         "text": "Width: 2.06",
         "type": "scatter",
         "x": [
          -3.7029808755455926,
          -3.6737887354917422,
          null
         ],
         "y": [
          40.37595000318738,
          40.43018370922185,
          null
         ]
        },
        {
         "hoverinfo": "text",
         "line": {
          "color": "rgba(122.47058823529414, 178.1764705882353, 211.82352941176472, 1.0)",
          "width": 2.140155229902771
         },
         "mode": "lines",
         "showlegend": false,
         "text": "Width: 2.14",
         "type": "scatter",
         "x": [
          -3.7029808755455926,
          -3.678150006537061,
          null
         ],
         "y": [
          40.37595000318738,
          40.45750039357669,
          null
         ]
        },
        {
         "hoverinfo": "text",
         "line": {
          "color": "rgba(99.41176470588236, 153.2352941176471, 198.76470588235296, 1.0)",
          "width": 1.6548516349575497
         },
         "mode": "lines",
         "showlegend": false,
         "text": "Width: 1.65",
         "type": "scatter",
         "x": [
          -3.7029808755455926,
          -3.6999935507976827,
          null
         ],
         "y": [
          40.37595000318738,
          40.4606484776773,
          null
         ]
        },
        {
         "hoverinfo": "text",
         "line": {
          "color": "rgba(122.47058823529414, 178.1764705882353, 211.82352941176472, 1.0)",
          "width": 2.1149373756619685
         },
         "mode": "lines",
         "showlegend": false,
         "text": "Width: 2.11",
         "type": "scatter",
         "x": [
          -3.7029808755455926,
          -3.703523951395161,
          null
         ],
         "y": [
          40.37595000318738,
          40.4375595509298,
          null
         ]
        },
        {
         "hoverinfo": "text",
         "line": {
          "color": "rgba(93.88235294117649, 146.64705882352945, 195.3529411764706, 1.0)",
          "width": 1.533805934601698
         },
         "mode": "lines",
         "showlegend": false,
         "text": "Width: 1.53",
         "type": "scatter",
         "x": [
          -3.7029808755455926,
          -3.753579560856663,
          null
         ],
         "y": [
          40.37595000318738,
          40.54479435831404,
          null
         ]
        },
        {
         "hoverinfo": "text",
         "line": {
          "color": "rgba(124.62745098039218, 179.90196078431376, 212.76470588235296, 1.0)",
          "width": 2.186948359438482
         },
         "mode": "lines",
         "showlegend": false,
         "text": "Width: 2.19",
         "type": "scatter",
         "x": [
          -3.7029808755455926,
          -3.757223268157654,
          null
         ],
         "y": [
          40.37595000318738,
          40.44543508494524,
          null
         ]
        },
        {
         "hoverinfo": "text",
         "line": {
          "color": "rgba(110.47058823529414, 166.41176470588238, 205.58823529411765, 1.0)",
          "width": 1.9081509708873883
         },
         "mode": "lines",
         "showlegend": false,
         "text": "Width: 1.91",
         "type": "scatter",
         "x": [
          -3.7029808755455926,
          -3.778616540618283,
          null
         ],
         "y": [
          40.37595000318738,
          40.385273701511004,
          null
         ]
        },
        {
         "hoverinfo": "text",
         "line": {
          "color": "rgba(253.45098039215688, 196.54901960784312, 118.19607843137254, 1.0)",
          "width": 6.5569223009891
         },
         "mode": "lines",
         "showlegend": false,
         "text": "Width: 6.56",
         "type": "scatter",
         "x": [
          -3.7029808755455926,
          -3.737112400757822,
          null
         ],
         "y": [
          40.37595000318738,
          40.378840354576816,
          null
         ]
        },
        {
         "hoverinfo": "text",
         "line": {
          "color": "rgba(253.2549019607843, 186.74509803921566, 108.98039215686275, 1.0)",
          "width": 6.728123511446103
         },
         "mode": "lines",
         "showlegend": false,
         "text": "Width: 6.73",
         "type": "scatter",
         "x": [
          -3.7029808755455926,
          -3.7029808755455926,
          null
         ],
         "y": [
          40.37595000318738,
          40.37595000318738,
          null
         ]
        },
        {
         "hoverinfo": "text",
         "line": {
          "color": "rgba(239.80392156862746, 249.11764705882354, 218.9411764705882, 1.0)",
          "width": 4.513995909103645
         },
         "mode": "lines",
         "showlegend": false,
         "text": "Width: 4.51",
         "type": "scatter",
         "x": [
          -3.7029808755455926,
          -3.6598634715735407,
          null
         ],
         "y": [
          40.37595000318738,
          40.38355078734683,
          null
         ]
        },
        {
         "hoverinfo": "text",
         "line": {
          "color": "rgba(68.6078431372549, 115.76470588235296, 179.3921568627451, 1.0)",
          "width": 0.9776121494017764
         },
         "mode": "lines",
         "showlegend": false,
         "text": "Width: 0.98",
         "type": "scatter",
         "x": [
          -3.7029808755455926,
          -3.6413909394895803,
          null
         ],
         "y": [
          40.37595000318738,
          40.40661270611631,
          null
         ]
        },
        {
         "hoverinfo": "text",
         "line": {
          "color": "rgba(92.03921568627452, 144.4509803921569, 194.2156862745098, 1.0)",
          "width": 1.5032643111322814
         },
         "mode": "lines",
         "showlegend": false,
         "text": "Width: 1.50",
         "type": "scatter",
         "x": [
          -3.7029808755455926,
          -3.649948514601449,
          null
         ],
         "y": [
          40.37595000318738,
          40.43926990707227,
          null
         ]
        },
        {
         "hoverinfo": "text",
         "line": {
          "color": "rgba(82.82352941176471, 133.47058823529412, 188.5294117647059, 1.0)",
          "width": 1.326739331446664
         },
         "mode": "lines",
         "showlegend": false,
         "text": "Width: 1.33",
         "type": "scatter",
         "x": [
          -3.7029808755455926,
          -3.637741035389707,
          null
         ],
         "y": [
          40.37595000318738,
          40.48201214532898,
          null
         ]
        },
        {
         "hoverinfo": "text",
         "line": {
          "color": "rgba(253.921568627451, 220.07843137254903, 140.31372549019608, 1.0)",
          "width": 6.065734540054358
         },
         "mode": "lines",
         "showlegend": false,
         "text": "Width: 6.07",
         "type": "scatter",
         "x": [
          -3.7029808755455926,
          -3.695056256825152,
          null
         ],
         "y": [
          40.37595000318738,
          40.34253624126977,
          null
         ]
        },
        {
         "hoverinfo": "text",
         "line": {
          "color": "rgba(124.62745098039218, 179.90196078431376, 212.76470588235296, 1.0)",
          "width": 2.1676146711872004
         },
         "mode": "lines",
         "showlegend": false,
         "text": "Width: 2.17",
         "type": "scatter",
         "x": [
          -3.7029808755455926,
          -3.6160073912284756,
          null
         ],
         "y": [
          40.37595000318738,
          40.34992967757026,
          null
         ]
        },
        {
         "hoverinfo": "text",
         "line": {
          "color": "rgba(67.03921568627452, 110.82352941176472, 176.9607843137255, 1.0)",
          "width": 0.9036397769620892
         },
         "mode": "lines",
         "showlegend": false,
         "text": "Width: 0.90",
         "type": "scatter",
         "x": [
          -3.7029808755455926,
          -3.572894771748725,
          null
         ],
         "y": [
          40.37595000318738,
          40.39356859265691,
          null
         ]
        },
        {
         "hoverinfo": "text",
         "line": {
          "color": "rgba(90.19607843137256, 142.2549019607843, 193.07843137254903, 1.0)",
          "width": 1.468519711956065
         },
         "mode": "lines",
         "showlegend": false,
         "text": "Width: 1.47",
         "type": "scatter",
         "x": [
          -3.7029808755455926,
          -3.5986526886701378,
          null
         ],
         "y": [
          40.37595000318738,
          40.43466852782298,
          null
         ]
        },
        {
         "hoverinfo": "text",
         "line": {
          "color": "rgba(67.03921568627452, 110.82352941176472, 176.9607843137255, 1.0)",
          "width": 0.9310992182465185
         },
         "mode": "lines",
         "showlegend": false,
         "text": "Width: 0.93",
         "type": "scatter",
         "x": [
          -3.7029808755455926,
          -3.574543479322823,
          null
         ],
         "y": [
          40.37595000318738,
          40.4757410696608,
          null
         ]
        },
        {
         "hoverinfo": "text",
         "line": {
          "color": "rgba(199.0588235294118, 230.76470588235296, 240.94117647058823, 1.0)",
          "width": 3.55151447224635
         },
         "mode": "lines",
         "showlegend": false,
         "text": "Width: 3.55",
         "type": "scatter",
         "x": [
          -3.6598634715735407,
          -3.705268804063821,
          null
         ],
         "y": [
          40.38355078734683,
          40.41733007020507,
          null
         ]
        },
        {
         "hoverinfo": "text",
         "line": {
          "color": "rgba(254.27450980392157, 232.50980392156862, 156.90196078431373, 1.0)",
          "width": 5.718008349911737
         },
         "mode": "lines",
         "showlegend": false,
         "text": "Width: 5.72",
         "type": "scatter",
         "x": [
          -3.6598634715735407,
          -3.6966151949203576,
          null
         ],
         "y": [
          40.38355078734683,
          40.398119933450886,
          null
         ]
        },
        {
         "hoverinfo": "text",
         "line": {
          "color": "rgba(250.35294117647058, 154.88235294117646, 88.17647058823529, 1.0)",
          "width": 7.274230154949704
         },
         "mode": "lines",
         "showlegend": false,
         "text": "Width: 7.27",
         "type": "scatter",
         "x": [
          -3.6598634715735407,
          -3.67643837848883,
          null
         ],
         "y": [
          40.38355078734683,
          40.41138084576659,
          null
         ]
        },
        {
         "hoverinfo": "text",
         "line": {
          "color": "rgba(199.0588235294118, 230.76470588235296, 240.94117647058823, 1.0)",
          "width": 3.521253047157387
         },
         "mode": "lines",
         "showlegend": false,
         "text": "Width: 3.52",
         "type": "scatter",
         "x": [
          -3.6598634715735407,
          -3.6737887354917422,
          null
         ],
         "y": [
          40.38355078734683,
          40.43018370922185,
          null
         ]
        },
        {
         "hoverinfo": "text",
         "line": {
          "color": "rgba(167.76470588235296, 214.41176470588235, 231.58823529411765, 1.0)",
          "width": 2.949648351032531
         },
         "mode": "lines",
         "showlegend": false,
         "text": "Width: 2.95",
         "type": "scatter",
         "x": [
          -3.6598634715735407,
          -3.678150006537061,
          null
         ],
         "y": [
          40.38355078734683,
          40.45750039357669,
          null
         ]
        },
        {
         "hoverinfo": "text",
         "line": {
          "color": "rgba(144.03921568627453, 195.4313725490196, 221.23529411764707, 1.0)",
          "width": 2.5114180840034743
         },
         "mode": "lines",
         "showlegend": false,
         "text": "Width: 2.51",
         "type": "scatter",
         "x": [
          -3.6598634715735407,
          -3.6999935507976827,
          null
         ],
         "y": [
          40.38355078734683,
          40.4606484776773,
          null
         ]
        },
        {
         "hoverinfo": "text",
         "line": {
          "color": "rgba(161.29411764705884, 209.23529411764707, 228.76470588235296, 1.0)",
          "width": 2.8459749502647873
         },
         "mode": "lines",
         "showlegend": false,
         "text": "Width: 2.85",
         "type": "scatter",
         "x": [
          -3.6598634715735407,
          -3.703523951395161,
          null
         ],
         "y": [
          40.38355078734683,
          40.4375595509298,
          null
         ]
        },
        {
         "hoverinfo": "text",
         "line": {
          "color": "rgba(146.19607843137257, 197.15686274509807, 222.1764705882353, 1.0)",
          "width": 2.5747429179859336
         },
         "mode": "lines",
         "showlegend": false,
         "text": "Width: 2.57",
         "type": "scatter",
         "x": [
          -3.6598634715735407,
          -3.753579560856663,
          null
         ],
         "y": [
          40.38355078734683,
          40.54479435831404,
          null
         ]
        },
        {
         "hoverinfo": "text",
         "line": {
          "color": "rgba(165.6078431372549, 212.68627450980392, 230.64705882352942, 1.0)",
          "width": 2.9025750231163663
         },
         "mode": "lines",
         "showlegend": false,
         "text": "Width: 2.90",
         "type": "scatter",
         "x": [
          -3.6598634715735407,
          -3.757223268157654,
          null
         ],
         "y": [
          40.38355078734683,
          40.44543508494524,
          null
         ]
        },
        {
         "hoverinfo": "text",
         "line": {
          "color": "rgba(124.62745098039218, 179.90196078431376, 212.76470588235296, 1.0)",
          "width": 2.185827565916669
         },
         "mode": "lines",
         "showlegend": false,
         "text": "Width: 2.19",
         "type": "scatter",
         "x": [
          -3.6598634715735407,
          -3.778616540618283,
          null
         ],
         "y": [
          40.38355078734683,
          40.385273701511004,
          null
         ]
        },
        {
         "hoverinfo": "text",
         "line": {
          "color": "rgba(152.66666666666669, 202.33333333333334, 225.0, 1.0)",
          "width": 2.66776878029645
         },
         "mode": "lines",
         "showlegend": false,
         "text": "Width: 2.67",
         "type": "scatter",
         "x": [
          -3.6598634715735407,
          -3.737112400757822,
          null
         ],
         "y": [
          40.38355078734683,
          40.378840354576816,
          null
         ]
        },
        {
         "hoverinfo": "text",
         "line": {
          "color": "rgba(254.3529411764706, 234.94117647058823, 160.58823529411765, 1.0)",
          "width": 5.631987447112555
         },
         "mode": "lines",
         "showlegend": false,
         "text": "Width: 5.63",
         "type": "scatter",
         "x": [
          -3.6598634715735407,
          -3.7029808755455926,
          null
         ],
         "y": [
          40.38355078734683,
          40.37595000318738,
          null
         ]
        },
        {
         "hoverinfo": "text",
         "line": {
          "color": "rgba(229.2156862745098, 77.90196078431373, 52.72549019607843, 1.0)",
          "width": 8.489730729356383
         },
         "mode": "lines",
         "showlegend": false,
         "text": "Width: 8.49",
         "type": "scatter",
         "x": [
          -3.6598634715735407,
          -3.6598634715735407,
          null
         ],
         "y": [
          40.38355078734683,
          40.38355078734683,
          null
         ]
        },
        {
         "hoverinfo": "text",
         "line": {
          "color": "rgba(253.921568627451, 220.07843137254903, 140.31372549019608, 1.0)",
          "width": 6.088710807251534
         },
         "mode": "lines",
         "showlegend": false,
         "text": "Width: 6.09",
         "type": "scatter",
         "x": [
          -3.6598634715735407,
          -3.6413909394895803,
          null
         ],
         "y": [
          40.38355078734683,
          40.40661270611631,
          null
         ]
        },
        {
         "hoverinfo": "text",
         "line": {
          "color": "rgba(161.29411764705884, 209.23529411764707, 228.76470588235296, 1.0)",
          "width": 2.8319650312421194
         },
         "mode": "lines",
         "showlegend": false,
         "text": "Width: 2.83",
         "type": "scatter",
         "x": [
          -3.6598634715735407,
          -3.649948514601449,
          null
         ],
         "y": [
          40.38355078734683,
          40.43926990707227,
          null
         ]
        },
        {
         "hoverinfo": "text",
         "line": {
          "color": "rgba(152.66666666666669, 202.33333333333334, 225.0, 1.0)",
          "width": 2.6871024685477316
         },
         "mode": "lines",
         "showlegend": false,
         "text": "Width: 2.69",
         "type": "scatter",
         "x": [
          -3.6598634715735407,
          -3.637741035389707,
          null
         ],
         "y": [
          40.38355078734683,
          40.48201214532898,
          null
         ]
        },
        {
         "hoverinfo": "text",
         "line": {
          "color": "rgba(242.23529411764707, 250.05882352941177, 214.4705882352941, 1.0)",
          "width": 4.595533637815573
         },
         "mode": "lines",
         "showlegend": false,
         "text": "Width: 4.60",
         "type": "scatter",
         "x": [
          -3.6598634715735407,
          -3.695056256825152,
          null
         ],
         "y": [
          40.38355078734683,
          40.34253624126977,
          null
         ]
        },
        {
         "hoverinfo": "text",
         "line": {
          "color": "rgba(247.8823529411765, 137.03921568627453, 79.94117647058825, 1.0)",
          "width": 7.567037462523467
         },
         "mode": "lines",
         "showlegend": false,
         "text": "Width: 7.57",
         "type": "scatter",
         "x": [
          -3.6598634715735407,
          -3.6160073912284756,
          null
         ],
         "y": [
          40.38355078734683,
          40.34992967757026,
          null
         ]
        },
        {
         "hoverinfo": "text",
         "line": {
          "color": "rgba(241.01960784313727, 249.58823529411765, 216.70588235294116, 1.0)",
          "width": 4.554904872649836
         },
         "mode": "lines",
         "showlegend": false,
         "text": "Width: 4.55",
         "type": "scatter",
         "x": [
          -3.6598634715735407,
          -3.572894771748725,
          null
         ],
         "y": [
          40.38355078734683,
          40.39356859265691,
          null
         ]
        },
        {
         "hoverinfo": "text",
         "line": {
          "color": "rgba(141.8823529411765, 193.70588235294122, 220.2941176470588, 1.0)",
          "width": 2.4904032054694722
         },
         "mode": "lines",
         "showlegend": false,
         "text": "Width: 2.49",
         "type": "scatter",
         "x": [
          -3.6598634715735407,
          -3.5986526886701378,
          null
         ],
         "y": [
          40.38355078734683,
          40.43466852782298,
          null
         ]
        },
        {
         "hoverinfo": "text",
         "line": {
          "color": "rgba(133.2549019607843, 186.8039215686275, 216.52941176470588, 1.0)",
          "width": 2.3290089383283363
         },
         "mode": "lines",
         "showlegend": false,
         "text": "Width: 2.33",
         "type": "scatter",
         "x": [
          -3.6598634715735407,
          -3.574543479322823,
          null
         ],
         "y": [
          40.38355078734683,
          40.4757410696608,
          null
         ]
        },
        {
         "hoverinfo": "text",
         "line": {
          "color": "rgba(120.31372549019609, 176.45098039215688, 210.88235294117646, 1.0)",
          "width": 2.076269999159405
         },
         "mode": "lines",
         "showlegend": false,
         "text": "Width: 2.08",
         "type": "scatter",
         "x": [
          -3.6413909394895803,
          -3.705268804063821,
          null
         ],
         "y": [
          40.40661270611631,
          40.41733007020507,
          null
         ]
        },
        {
         "hoverinfo": "text",
         "line": {
          "color": "rgba(79.13725490196079, 129.07843137254903, 186.25490196078434, 1.0)",
          "width": 1.212418392221693
         },
         "mode": "lines",
         "showlegend": false,
         "text": "Width: 1.21",
         "type": "scatter",
         "x": [
          -3.6413909394895803,
          -3.6966151949203576,
          null
         ],
         "y": [
          40.40661270611631,
          40.398119933450886,
          null
         ]
        },
        {
         "hoverinfo": "text",
         "line": {
          "color": "rgba(254.4313725490196, 237.37254901960785, 164.27450980392155, 1.0)",
          "width": 5.576788366163243
         },
         "mode": "lines",
         "showlegend": false,
         "text": "Width: 5.58",
         "type": "scatter",
         "x": [
          -3.6413909394895803,
          -3.67643837848883,
          null
         ],
         "y": [
          40.40661270611631,
          40.41138084576659,
          null
         ]
        },
        {
         "hoverinfo": "text",
         "line": {
          "color": "rgba(248.31372549019608, 252.41176470588232, 203.29411764705884, 1.0)",
          "width": 4.791952702513379
         },
         "mode": "lines",
         "showlegend": false,
         "text": "Width: 4.79",
         "type": "scatter",
         "x": [
          -3.6413909394895803,
          -3.6737887354917422,
          null
         ],
         "y": [
          40.40661270611631,
          40.43018370922185,
          null
         ]
        },
        {
         "hoverinfo": "text",
         "line": {
          "color": "rgba(103.0980392156863, 157.6274509803922, 201.0392156862745, 1.0)",
          "width": 1.741152736137185
         },
         "mode": "lines",
         "showlegend": false,
         "text": "Width: 1.74",
         "type": "scatter",
         "x": [
          -3.6413909394895803,
          -3.678150006537061,
          null
         ],
         "y": [
          40.40661270611631,
          40.45750039357669,
          null
         ]
        },
        {
         "hoverinfo": "text",
         "line": {
          "color": "rgba(71.76470588235294, 120.29411764705884, 181.7058823529412, 1.0)",
          "width": 1.0849281291154138
         },
         "mode": "lines",
         "showlegend": false,
         "text": "Width: 1.08",
         "type": "scatter",
         "x": [
          -3.6413909394895803,
          -3.6999935507976827,
          null
         ],
         "y": [
          40.40661270611631,
          40.4606484776773,
          null
         ]
        },
        {
         "hoverinfo": "text",
         "line": {
          "color": "rgba(103.0980392156863, 157.6274509803922, 201.0392156862745, 1.0)",
          "width": 1.7235002381686233
         },
         "mode": "lines",
         "showlegend": false,
         "text": "Width: 1.72",
         "type": "scatter",
         "x": [
          -3.6413909394895803,
          -3.703523951395161,
          null
         ],
         "y": [
          40.40661270611631,
          40.4375595509298,
          null
         ]
        },
        {
         "hoverinfo": "text",
         "line": {
          "color": "rgba(103.0980392156863, 157.6274509803922, 201.0392156862745, 1.0)",
          "width": 1.72237944464681
         },
         "mode": "lines",
         "showlegend": false,
         "text": "Width: 1.72",
         "type": "scatter",
         "x": [
          -3.6413909394895803,
          -3.753579560856663,
          null
         ],
         "y": [
          40.40661270611631,
          40.54479435831404,
          null
         ]
        },
        {
         "hoverinfo": "text",
         "line": {
          "color": "rgba(86.50980392156863, 137.86274509803926, 190.80392156862746, 1.0)",
          "width": 1.370170080416935
         },
         "mode": "lines",
         "showlegend": false,
         "text": "Width: 1.37",
         "type": "scatter",
         "x": [
          -3.6413909394895803,
          -3.757223268157654,
          null
         ],
         "y": [
          40.40661270611631,
          40.44543508494524,
          null
         ]
        },
        {
         "hoverinfo": "text",
         "line": {
          "color": "rgba(62.333333333333336, 96.0, 169.66666666666669, 1.0)",
          "width": 0.7024573397965759
         },
         "mode": "lines",
         "showlegend": false,
         "text": "Width: 0.70",
         "type": "scatter",
         "x": [
          -3.6413909394895803,
          -3.778616540618283,
          null
         ],
         "y": [
          40.40661270611631,
          40.385273701511004,
          null
         ]
        },
        {
         "hoverinfo": "text",
         "line": {
          "color": "rgba(68.6078431372549, 115.76470588235296, 179.3921568627451, 1.0)",
          "width": 0.9860181008153773
         },
         "mode": "lines",
         "showlegend": false,
         "text": "Width: 0.99",
         "type": "scatter",
         "x": [
          -3.6413909394895803,
          -3.737112400757822,
          null
         ],
         "y": [
          40.40661270611631,
          40.378840354576816,
          null
         ]
        },
        {
         "hoverinfo": "text",
         "line": {
          "color": "rgba(66.25490196078432, 108.35294117647061, 175.74509803921572, 1.0)",
          "width": 0.8694555745467791
         },
         "mode": "lines",
         "showlegend": false,
         "text": "Width: 0.87",
         "type": "scatter",
         "x": [
          -3.6413909394895803,
          -3.7029808755455926,
          null
         ],
         "y": [
          40.40661270611631,
          40.37595000318738,
          null
         ]
        },
        {
         "hoverinfo": "text",
         "line": {
          "color": "rgba(253.96078431372547, 222.0392156862745, 142.15686274509804, 1.0)",
          "width": 6.046400851803076
         },
         "mode": "lines",
         "showlegend": false,
         "text": "Width: 6.05",
         "type": "scatter",
         "x": [
          -3.6413909394895803,
          -3.6598634715735407,
          null
         ],
         "y": [
          40.40661270611631,
          40.38355078734683,
          null
         ]
        },
        {
         "hoverinfo": "text",
         "line": {
          "color": "rgba(254.66666666666666, 244.66666666666669, 175.33333333333334, 1.0)",
          "width": 5.31732466586343
         },
         "mode": "lines",
         "showlegend": false,
         "text": "Width: 5.32",
         "type": "scatter",
         "x": [
          -3.6413909394895803,
          -3.6413909394895803,
          null
         ],
         "y": [
          40.40661270611631,
          40.40661270611631,
          null
         ]
        },
        {
         "hoverinfo": "text",
         "line": {
          "color": "rgba(250.7450980392157, 253.3529411764706, 198.8235294117647, 1.0)",
          "width": 4.8592003138221855
         },
         "mode": "lines",
         "showlegend": false,
         "text": "Width: 4.86",
         "type": "scatter",
         "x": [
          -3.6413909394895803,
          -3.649948514601449,
          null
         ],
         "y": [
          40.40661270611631,
          40.43926990707227,
          null
         ]
        },
        {
         "hoverinfo": "text",
         "line": {
          "color": "rgba(82.82352941176471, 133.47058823529412, 188.5294117647059, 1.0)",
          "width": 1.321975958978957
         },
         "mode": "lines",
         "showlegend": false,
         "text": "Width: 1.32",
         "type": "scatter",
         "x": [
          -3.6413909394895803,
          -3.637741035389707,
          null
         ],
         "y": [
          40.40661270611631,
          40.48201214532898,
          null
         ]
        },
        {
         "hoverinfo": "text",
         "line": {
          "color": "rgba(61.54901960784314, 93.5294117647059, 168.45098039215688, 1.0)",
          "width": 0.6478186556081705
         },
         "mode": "lines",
         "showlegend": false,
         "text": "Width: 0.65",
         "type": "scatter",
         "x": [
          -3.6413909394895803,
          -3.695056256825152,
          null
         ],
         "y": [
          40.40661270611631,
          40.34253624126977,
          null
         ]
        },
        {
         "hoverinfo": "text",
         "line": {
          "color": "rgba(161.29411764705884, 209.23529411764707, 228.76470588235296, 1.0)",
          "width": 2.8470957437866007
         },
         "mode": "lines",
         "showlegend": false,
         "text": "Width: 2.85",
         "type": "scatter",
         "x": [
          -3.6413909394895803,
          -3.6160073912284756,
          null
         ],
         "y": [
          40.40661270611631,
          40.34992967757026,
          null
         ]
        },
        {
         "hoverinfo": "text",
         "line": {
          "color": "rgba(231.29411764705884, 245.8235294117647, 234.5882352941176, 1.0)",
          "width": 4.232676735128471
         },
         "mode": "lines",
         "showlegend": false,
         "text": "Width: 4.23",
         "type": "scatter",
         "x": [
          -3.6413909394895803,
          -3.572894771748725,
          null
         ],
         "y": [
          40.40661270611631,
          40.39356859265691,
          null
         ]
        },
        {
         "hoverinfo": "text",
         "line": {
          "color": "rgba(192.82352941176475, 227.70588235294116, 239.1764705882353, 1.0)",
          "width": 3.421222225335537
         },
         "mode": "lines",
         "showlegend": false,
         "text": "Width: 3.42",
         "type": "scatter",
         "x": [
          -3.6413909394895803,
          -3.5986526886701378,
          null
         ],
         "y": [
          40.40661270611631,
          40.43466852782298,
          null
         ]
        },
        {
         "hoverinfo": "text",
         "line": {
          "color": "rgba(73.60784313725492, 122.49019607843138, 182.84313725490196, 1.0)",
          "width": 1.101459833562162
         },
         "mode": "lines",
         "showlegend": false,
         "text": "Width: 1.10",
         "type": "scatter",
         "x": [
          -3.6413909394895803,
          -3.574543479322823,
          null
         ],
         "y": [
          40.40661270611631,
          40.4757410696608,
          null
         ]
        },
        {
         "hoverinfo": "text",
         "line": {
          "color": "rgba(169.921568627451, 216.1372549019608, 232.52941176470588, 1.0)",
          "width": 2.9715038247078933
         },
         "mode": "lines",
         "showlegend": false,
         "text": "Width: 2.97",
         "type": "scatter",
         "x": [
          -3.649948514601449,
          -3.705268804063821,
          null
         ],
         "y": [
          40.43926990707227,
          40.41733007020507,
          null
         ]
        },
        {
         "hoverinfo": "text",
         "line": {
          "color": "rgba(99.41176470588236, 153.2352941176471, 198.76470588235296, 1.0)",
          "width": 1.6778279021547253
         },
         "mode": "lines",
         "showlegend": false,
         "text": "Width: 1.68",
         "type": "scatter",
         "x": [
          -3.649948514601449,
          -3.6966151949203576,
          null
         ],
         "y": [
          40.43926990707227,
          40.398119933450886,
          null
         ]
        },
        {
         "hoverinfo": "text",
         "line": {
          "color": "rgba(234.94117647058826, 247.23529411764704, 227.8823529411764, 1.0)",
          "width": 4.358766006332483
         },
         "mode": "lines",
         "showlegend": false,
         "text": "Width: 4.36",
         "type": "scatter",
         "x": [
          -3.649948514601449,
          -3.67643837848883,
          null
         ],
         "y": [
          40.43926990707227,
          40.41138084576659,
          null
         ]
        },
        {
         "hoverinfo": "text",
         "line": {
          "color": "rgba(245.76470588235296, 121.74509803921568, 72.88235294117646, 1.0)",
          "width": 7.799882316680209
         },
         "mode": "lines",
         "showlegend": false,
         "text": "Width: 7.80",
         "type": "scatter",
         "x": [
          -3.649948514601449,
          -3.6737887354917422,
          null
         ],
         "y": [
          40.43926990707227,
          40.43018370922185,
          null
         ]
        },
        {
         "hoverinfo": "text",
         "line": {
          "color": "rgba(253.1764705882353, 182.8235294117647, 105.29411764705881, 1.0)",
          "width": 6.8236711591807
         },
         "mode": "lines",
         "showlegend": false,
         "text": "Width: 6.82",
         "type": "scatter",
         "x": [
          -3.649948514601449,
          -3.678150006537061,
          null
         ],
         "y": [
          40.43926990707227,
          40.45750039357669,
          null
         ]
        },
        {
         "hoverinfo": "text",
         "line": {
          "color": "rgba(131.0980392156863, 185.07843137254903, 215.58823529411765, 1.0)",
          "width": 2.2732494606181173
         },
         "mode": "lines",
         "showlegend": false,
         "text": "Width: 2.27",
         "type": "scatter",
         "x": [
          -3.649948514601449,
          -3.6999935507976827,
          null
         ],
         "y": [
          40.43926990707227,
          40.4606484776773,
          null
         ]
        },
        {
         "hoverinfo": "text",
         "line": {
          "color": "rgba(161.29411764705884, 209.23529411764707, 228.76470588235296, 1.0)",
          "width": 2.844854156742974
         },
         "mode": "lines",
         "showlegend": false,
         "text": "Width: 2.84",
         "type": "scatter",
         "x": [
          -3.649948514601449,
          -3.703523951395161,
          null
         ],
         "y": [
          40.43926990707227,
          40.4375595509298,
          null
         ]
        },
        {
         "hoverinfo": "text",
         "line": {
          "color": "rgba(215.68627450980395, 238.921568627451, 245.64705882352942, 1.0)",
          "width": 3.8661772534954744
         },
         "mode": "lines",
         "showlegend": false,
         "text": "Width: 3.87",
         "type": "scatter",
         "x": [
          -3.649948514601449,
          -3.753579560856663,
          null
         ],
         "y": [
          40.43926990707227,
          40.54479435831404,
          null
         ]
        },
        {
         "hoverinfo": "text",
         "line": {
          "color": "rgba(146.19607843137257, 197.15686274509807, 222.1764705882353, 1.0)",
          "width": 2.5753033147468405
         },
         "mode": "lines",
         "showlegend": false,
         "text": "Width: 2.58",
         "type": "scatter",
         "x": [
          -3.649948514601449,
          -3.757223268157654,
          null
         ],
         "y": [
          40.43926990707227,
          40.44543508494524,
          null
         ]
        },
        {
         "hoverinfo": "text",
         "line": {
          "color": "rgba(79.13725490196079, 129.07843137254903, 186.25490196078434, 1.0)",
          "width": 1.2278293031466276
         },
         "mode": "lines",
         "showlegend": false,
         "text": "Width: 1.23",
         "type": "scatter",
         "x": [
          -3.649948514601449,
          -3.778616540618283,
          null
         ],
         "y": [
          40.43926990707227,
          40.385273701511004,
          null
         ]
        },
        {
         "hoverinfo": "text",
         "line": {
          "color": "rgba(101.25490196078432, 155.4313725490196, 199.90196078431376, 1.0)",
          "width": 1.714814088374569
         },
         "mode": "lines",
         "showlegend": false,
         "text": "Width: 1.71",
         "type": "scatter",
         "x": [
          -3.649948514601449,
          -3.737112400757822,
          null
         ],
         "y": [
          40.43926990707227,
          40.378840354576816,
          null
         ]
        },
        {
         "hoverinfo": "text",
         "line": {
          "color": "rgba(75.45098039215688, 124.68627450980394, 183.98039215686276, 1.0)",
          "width": 1.1712292302950489
         },
         "mode": "lines",
         "showlegend": false,
         "text": "Width: 1.17",
         "type": "scatter",
         "x": [
          -3.649948514601449,
          -3.7029808755455926,
          null
         ],
         "y": [
          40.43926990707227,
          40.37595000318738,
          null
         ]
        },
        {
         "hoverinfo": "text",
         "line": {
          "color": "rgba(112.31372549019609, 168.60784313725495, 206.72549019607843, 1.0)",
          "width": 1.9510213230967524
         },
         "mode": "lines",
         "showlegend": false,
         "text": "Width: 1.95",
         "type": "scatter",
         "x": [
          -3.649948514601449,
          -3.6598634715735407,
          null
         ],
         "y": [
          40.43926990707227,
          40.38355078734683,
          null
         ]
        },
        {
         "hoverinfo": "text",
         "line": {
          "color": "rgba(254.0, 224.0, 144.0, 1.0)",
          "width": 6.014458236431393
         },
         "mode": "lines",
         "showlegend": false,
         "text": "Width: 6.01",
         "type": "scatter",
         "x": [
          -3.649948514601449,
          -3.6413909394895803,
          null
         ],
         "y": [
          40.43926990707227,
          40.40661270611631,
          null
         ]
        },
        {
         "hoverinfo": "text",
         "line": {
          "color": "rgba(247.1764705882353, 131.94117647058823, 77.58823529411764, 1.0)",
          "width": 7.63736725601726
         },
         "mode": "lines",
         "showlegend": false,
         "text": "Width: 7.64",
         "type": "scatter",
         "x": [
          -3.649948514601449,
          -3.649948514601449,
          null
         ],
         "y": [
          40.43926990707227,
          40.43926990707227,
          null
         ]
        },
        {
         "hoverinfo": "text",
         "line": {
          "color": "rgba(254.23529411764704, 231.29411764705884, 155.05882352941177, 1.0)",
          "width": 5.742946005772087
         },
         "mode": "lines",
         "showlegend": false,
         "text": "Width: 5.74",
         "type": "scatter",
         "x": [
          -3.649948514601449,
          -3.637741035389707,
          null
         ],
         "y": [
          40.43926990707227,
          40.48201214532898,
          null
         ]
        },
        {
         "hoverinfo": "text",
         "line": {
          "color": "rgba(71.76470588235294, 120.29411764705884, 181.7058823529412, 1.0)",
          "width": 1.0787637647454398
         },
         "mode": "lines",
         "showlegend": false,
         "text": "Width: 1.08",
         "type": "scatter",
         "x": [
          -3.649948514601449,
          -3.695056256825152,
          null
         ],
         "y": [
          40.43926990707227,
          40.34253624126977,
          null
         ]
        },
        {
         "hoverinfo": "text",
         "line": {
          "color": "rgba(95.72549019607845, 148.843137254902, 196.49019607843138, 1.0)",
          "width": 1.5839614447028496
         },
         "mode": "lines",
         "showlegend": false,
         "text": "Width: 1.58",
         "type": "scatter",
         "x": [
          -3.649948514601449,
          -3.6160073912284756,
          null
         ],
         "y": [
          40.43926990707227,
          40.34992967757026,
          null
         ]
        },
        {
         "hoverinfo": "text",
         "line": {
          "color": "rgba(182.4313725490196, 222.6078431372549, 236.23529411764707, 1.0)",
          "width": 3.2329289136708788
         },
         "mode": "lines",
         "showlegend": false,
         "text": "Width: 3.23",
         "type": "scatter",
         "x": [
          -3.649948514601449,
          -3.572894771748725,
          null
         ],
         "y": [
          40.43926990707227,
          40.39356859265691,
          null
         ]
        },
        {
         "hoverinfo": "text",
         "line": {
          "color": "rgba(250.7058823529412, 157.4313725490196, 89.3529411764706, 1.0)",
          "width": 7.265263806775197
         },
         "mode": "lines",
         "showlegend": false,
         "text": "Width: 7.27",
         "type": "scatter",
         "x": [
          -3.649948514601449,
          -3.5986526886701378,
          null
         ],
         "y": [
          40.43926990707227,
          40.43466852782298,
          null
         ]
        },
        {
         "hoverinfo": "text",
         "line": {
          "color": "rgba(131.0980392156863, 185.07843137254903, 215.58823529411765, 1.0)",
          "width": 2.2757712460421975
         },
         "mode": "lines",
         "showlegend": false,
         "text": "Width: 2.28",
         "type": "scatter",
         "x": [
          -3.649948514601449,
          -3.574543479322823,
          null
         ],
         "y": [
          40.43926990707227,
          40.4757410696608,
          null
         ]
        },
        {
         "hoverinfo": "text",
         "line": {
          "color": "rgba(141.8823529411765, 193.70588235294122, 220.2941176470588, 1.0)",
          "width": 2.468267533413657
         },
         "mode": "lines",
         "showlegend": false,
         "text": "Width: 2.47",
         "type": "scatter",
         "x": [
          -3.637741035389707,
          -3.705268804063821,
          null
         ],
         "y": [
          40.48201214532898,
          40.41733007020507,
          null
         ]
        },
        {
         "hoverinfo": "text",
         "line": {
          "color": "rgba(80.98039215686276, 131.2745098039216, 187.3921568627451, 1.0)",
          "width": 1.274622432682339
         },
         "mode": "lines",
         "showlegend": false,
         "text": "Width: 1.27",
         "type": "scatter",
         "x": [
          -3.637741035389707,
          -3.6966151949203576,
          null
         ],
         "y": [
          40.48201214532898,
          40.398119933450886,
          null
         ]
        },
        {
         "hoverinfo": "text",
         "line": {
          "color": "rgba(95.72549019607845, 148.843137254902, 196.49019607843138, 1.0)",
          "width": 1.5825604528005828
         },
         "mode": "lines",
         "showlegend": false,
         "text": "Width: 1.58",
         "type": "scatter",
         "x": [
          -3.637741035389707,
          -3.67643837848883,
          null
         ],
         "y": [
          40.48201214532898,
          40.41138084576659,
          null
         ]
        },
        {
         "hoverinfo": "text",
         "line": {
          "color": "rgba(152.66666666666669, 202.33333333333334, 225.0, 1.0)",
          "width": 2.682619294460478
         },
         "mode": "lines",
         "showlegend": false,
         "text": "Width: 2.68",
         "type": "scatter",
         "x": [
          -3.637741035389707,
          -3.6737887354917422,
          null
         ],
         "y": [
          40.48201214532898,
          40.43018370922185,
          null
         ]
        },
        {
         "hoverinfo": "text",
         "line": {
          "color": "rgba(254.54901960784312, 241.01960784313727, 169.80392156862746, 1.0)",
          "width": 5.457143657709659
         },
         "mode": "lines",
         "showlegend": false,
         "text": "Width: 5.46",
         "type": "scatter",
         "x": [
          -3.637741035389707,
          -3.678150006537061,
          null
         ],
         "y": [
          40.48201214532898,
          40.45750039357669,
          null
         ]
        },
        {
         "hoverinfo": "text",
         "line": {
          "color": "rgba(120.31372549019609, 176.45098039215688, 210.88235294117646, 1.0)",
          "width": 2.0939224971279664
         },
         "mode": "lines",
         "showlegend": false,
         "text": "Width: 2.09",
         "type": "scatter",
         "x": [
          -3.637741035389707,
          -3.6999935507976827,
          null
         ],
         "y": [
          40.48201214532898,
          40.4606484776773,
          null
         ]
        },
        {
         "hoverinfo": "text",
         "line": {
          "color": "rgba(137.56862745098042, 190.2549019607843, 218.41176470588235, 1.0)",
          "width": 2.406904088094371
         },
         "mode": "lines",
         "showlegend": false,
         "text": "Width: 2.41",
         "type": "scatter",
         "x": [
          -3.637741035389707,
          -3.703523951395161,
          null
         ],
         "y": [
          40.48201214532898,
          40.4375595509298,
          null
         ]
        },
        {
         "hoverinfo": "text",
         "line": {
          "color": "rgba(253.41176470588235, 194.58823529411762, 116.35294117647058, 1.0)",
          "width": 6.577656981142648
         },
         "mode": "lines",
         "showlegend": false,
         "text": "Width: 6.58",
         "type": "scatter",
         "x": [
          -3.637741035389707,
          -3.753579560856663,
          null
         ],
         "y": [
          40.48201214532898,
          40.54479435831404,
          null
         ]
        },
        {
         "hoverinfo": "text",
         "line": {
          "color": "rgba(126.78431372549022, 181.62745098039218, 213.7058823529412, 1.0)",
          "width": 2.2012384768416036
         },
         "mode": "lines",
         "showlegend": false,
         "text": "Width: 2.20",
         "type": "scatter",
         "x": [
          -3.637741035389707,
          -3.757223268157654,
          null
         ],
         "y": [
          40.48201214532898,
          40.44543508494524,
          null
         ]
        },
        {
         "hoverinfo": "text",
         "line": {
          "color": "rgba(60.76470588235294, 91.05882352941177, 167.23529411764707, 1.0)",
          "width": 0.5920591778979517
         },
         "mode": "lines",
         "showlegend": false,
         "text": "Width: 0.59",
         "type": "scatter",
         "x": [
          -3.637741035389707,
          -3.778616540618283,
          null
         ],
         "y": [
          40.48201214532898,
          40.385273701511004,
          null
         ]
        },
        {
         "hoverinfo": "text",
         "line": {
          "color": "rgba(63.11764705882353, 98.47058823529413, 170.88235294117646, 1.0)",
          "width": 0.7383227324946062
         },
         "mode": "lines",
         "showlegend": false,
         "text": "Width: 0.74",
         "type": "scatter",
         "x": [
          -3.637741035389707,
          -3.737112400757822,
          null
         ],
         "y": [
          40.48201214532898,
          40.378840354576816,
          null
         ]
        },
        {
         "hoverinfo": "text",
         "line": {
          "color": "rgba(60.76470588235294, 91.05882352941177, 167.23529411764707, 1.0)",
          "width": 0.5878562021911513
         },
         "mode": "lines",
         "showlegend": false,
         "text": "Width: 0.59",
         "type": "scatter",
         "x": [
          -3.637741035389707,
          -3.7029808755455926,
          null
         ],
         "y": [
          40.48201214532898,
          40.37595000318738,
          null
         ]
        },
        {
         "hoverinfo": "text",
         "line": {
          "color": "rgba(77.29411764705883, 126.88235294117649, 185.11764705882354, 1.0)",
          "width": 1.2042926391885453
         },
         "mode": "lines",
         "showlegend": false,
         "text": "Width: 1.20",
         "type": "scatter",
         "x": [
          -3.637741035389707,
          -3.6598634715735407,
          null
         ],
         "y": [
          40.48201214532898,
          40.38355078734683,
          null
         ]
        },
        {
         "hoverinfo": "text",
         "line": {
          "color": "rgba(60.76470588235294, 91.05882352941177, 167.23529411764707, 1.0)",
          "width": 0.6077502872033399
         },
         "mode": "lines",
         "showlegend": false,
         "text": "Width: 0.61",
         "type": "scatter",
         "x": [
          -3.637741035389707,
          -3.6413909394895803,
          null
         ],
         "y": [
          40.48201214532898,
          40.40661270611631,
          null
         ]
        },
        {
         "hoverinfo": "text",
         "line": {
          "color": "rgba(253.76470588235296, 212.23529411764707, 132.94117647058823, 1.0)",
          "width": 6.2178822606405335
         },
         "mode": "lines",
         "showlegend": false,
         "text": "Width: 6.22",
         "type": "scatter",
         "x": [
          -3.637741035389707,
          -3.649948514601449,
          null
         ],
         "y": [
          40.48201214532898,
          40.43926990707227,
          null
         ]
        },
        {
         "hoverinfo": "text",
         "line": {
          "color": "rgba(216.70588235294122, 51.588235294117716, 40.64705882352944, 1.0)",
          "width": 8.937487741320854
         },
         "mode": "lines",
         "showlegend": false,
         "text": "Width: 8.94",
         "type": "scatter",
         "x": [
          -3.637741035389707,
          -3.637741035389707,
          null
         ],
         "y": [
          40.48201214532898,
          40.48201214532898,
          null
         ]
        },
        {
         "hoverinfo": "text",
         "line": {
          "color": "rgba(56.84313725490196, 78.70588235294117, 161.15686274509807, 1.0)",
          "width": 0.5
         },
         "mode": "lines",
         "showlegend": false,
         "text": "Width: 0.50",
         "type": "scatter",
         "x": [
          -3.637741035389707,
          -3.695056256825152,
          null
         ],
         "y": [
          40.48201214532898,
          40.34253624126977,
          null
         ]
        },
        {
         "hoverinfo": "text",
         "line": {
          "color": "rgba(67.8235294117647, 113.29411764705883, 178.1764705882353, 1.0)",
          "width": 0.9739695704558827
         },
         "mode": "lines",
         "showlegend": false,
         "text": "Width: 0.97",
         "type": "scatter",
         "x": [
          -3.637741035389707,
          -3.6160073912284756,
          null
         ],
         "y": [
          40.48201214532898,
          40.34992967757026,
          null
         ]
        },
        {
         "hoverinfo": "text",
         "line": {
          "color": "rgba(69.921568627451, 118.09803921568628, 180.56862745098042, 1.0)",
          "width": 1.0328112303510886
         },
         "mode": "lines",
         "showlegend": false,
         "text": "Width: 1.03",
         "type": "scatter",
         "x": [
          -3.637741035389707,
          -3.572894771748725,
          null
         ],
         "y": [
          40.48201214532898,
          40.39356859265691,
          null
         ]
        },
        {
         "hoverinfo": "text",
         "line": {
          "color": "rgba(254.23529411764704, 231.29411764705884, 155.05882352941177, 1.0)",
          "width": 5.74238560901118
         },
         "mode": "lines",
         "showlegend": false,
         "text": "Width: 5.74",
         "type": "scatter",
         "x": [
          -3.637741035389707,
          -3.5986526886701378,
          null
         ],
         "y": [
          40.48201214532898,
          40.43466852782298,
          null
         ]
        },
        {
         "hoverinfo": "text",
         "line": {
          "color": "rgba(254.7058823529412, 245.88235294117646, 177.1764705882353, 1.0)",
          "width": 5.27809689259996
         },
         "mode": "lines",
         "showlegend": false,
         "text": "Width: 5.28",
         "type": "scatter",
         "x": [
          -3.637741035389707,
          -3.574543479322823,
          null
         ],
         "y": [
          40.48201214532898,
          40.4757410696608,
          null
         ]
        },
        {
         "hoverinfo": "text",
         "line": {
          "color": "rgba(172.03921568627453, 217.50980392156862, 233.29411764705884, 1.0)",
          "width": 3.011852391493177
         },
         "mode": "lines",
         "showlegend": false,
         "text": "Width: 3.01",
         "type": "scatter",
         "x": [
          -3.695056256825152,
          -3.705268804063821,
          null
         ],
         "y": [
          40.34253624126977,
          40.41733007020507,
          null
         ]
        },
        {
         "hoverinfo": "text",
         "line": {
          "color": "rgba(133.2549019607843, 186.8039215686275, 216.52941176470588, 1.0)",
          "width": 2.305472274370254
         },
         "mode": "lines",
         "showlegend": false,
         "text": "Width: 2.31",
         "type": "scatter",
         "x": [
          -3.695056256825152,
          -3.6966151949203576,
          null
         ],
         "y": [
          40.34253624126977,
          40.398119933450886,
          null
         ]
        },
        {
         "hoverinfo": "text",
         "line": {
          "color": "rgba(112.31372549019609, 168.60784313725495, 206.72549019607843, 1.0)",
          "width": 1.948219339292219
         },
         "mode": "lines",
         "showlegend": false,
         "text": "Width: 1.95",
         "type": "scatter",
         "x": [
          -3.695056256825152,
          -3.67643837848883,
          null
         ],
         "y": [
          40.34253624126977,
          40.41138084576659,
          null
         ]
        },
        {
         "hoverinfo": "text",
         "line": {
          "color": "rgba(154.82352941176472, 204.0588235294118, 225.94117647058823, 1.0)",
          "width": 2.722407464484855
         },
         "mode": "lines",
         "showlegend": false,
         "text": "Width: 2.72",
         "type": "scatter",
         "x": [
          -3.695056256825152,
          -3.6737887354917422,
          null
         ],
         "y": [
          40.34253624126977,
          40.43018370922185,
          null
         ]
        },
        {
         "hoverinfo": "text",
         "line": {
          "color": "rgba(126.78431372549022, 181.62745098039218, 213.7058823529412, 1.0)",
          "width": 2.2191711731906185
         },
         "mode": "lines",
         "showlegend": false,
         "text": "Width: 2.22",
         "type": "scatter",
         "x": [
          -3.695056256825152,
          -3.678150006537061,
          null
         ],
         "y": [
          40.34253624126977,
          40.45750039357669,
          null
         ]
        },
        {
         "hoverinfo": "text",
         "line": {
          "color": "rgba(101.25490196078432, 155.4313725490196, 199.90196078431376, 1.0)",
          "width": 1.693799209840567
         },
         "mode": "lines",
         "showlegend": false,
         "text": "Width: 1.69",
         "type": "scatter",
         "x": [
          -3.695056256825152,
          -3.6999935507976827,
          null
         ],
         "y": [
          40.34253624126977,
          40.4606484776773,
          null
         ]
        },
        {
         "hoverinfo": "text",
         "line": {
          "color": "rgba(165.6078431372549, 212.68627450980392, 230.64705882352942, 1.0)",
          "width": 2.918546330802208
         },
         "mode": "lines",
         "showlegend": false,
         "text": "Width: 2.92",
         "type": "scatter",
         "x": [
          -3.695056256825152,
          -3.703523951395161,
          null
         ],
         "y": [
          40.34253624126977,
          40.4375595509298,
          null
         ]
        },
        {
         "hoverinfo": "text",
         "line": {
          "color": "rgba(93.88235294117649, 146.64705882352945, 195.3529411764706, 1.0)",
          "width": 1.5615455742665807
         },
         "mode": "lines",
         "showlegend": false,
         "text": "Width: 1.56",
         "type": "scatter",
         "x": [
          -3.695056256825152,
          -3.753579560856663,
          null
         ],
         "y": [
          40.34253624126977,
          40.54479435831404,
          null
         ]
        },
        {
         "hoverinfo": "text",
         "line": {
          "color": "rgba(131.0980392156863, 185.07843137254903, 215.58823529411765, 1.0)",
          "width": 2.3021098938048135
         },
         "mode": "lines",
         "showlegend": false,
         "text": "Width: 2.30",
         "type": "scatter",
         "x": [
          -3.695056256825152,
          -3.757223268157654,
          null
         ],
         "y": [
          40.34253624126977,
          40.44543508494524,
          null
         ]
        },
        {
         "hoverinfo": "text",
         "line": {
          "color": "rgba(93.88235294117649, 146.64705882352945, 195.3529411764706, 1.0)",
          "width": 1.5593039872229537
         },
         "mode": "lines",
         "showlegend": false,
         "text": "Width: 1.56",
         "type": "scatter",
         "x": [
          -3.695056256825152,
          -3.778616540618283,
          null
         ],
         "y": [
          40.34253624126977,
          40.385273701511004,
          null
         ]
        },
        {
         "hoverinfo": "text",
         "line": {
          "color": "rgba(174.11764705882354, 218.52941176470588, 233.88235294117646, 1.0)",
          "width": 3.076017820616997
         },
         "mode": "lines",
         "showlegend": false,
         "text": "Width: 3.08",
         "type": "scatter",
         "x": [
          -3.695056256825152,
          -3.737112400757822,
          null
         ],
         "y": [
          40.34253624126977,
          40.378840354576816,
          null
         ]
        },
        {
         "hoverinfo": "text",
         "line": {
          "color": "rgba(253.64705882352942, 206.3529411764706, 127.41176470588235, 1.0)",
          "width": 6.354619070301773
         },
         "mode": "lines",
         "showlegend": false,
         "text": "Width: 6.35",
         "type": "scatter",
         "x": [
          -3.695056256825152,
          -3.7029808755455926,
          null
         ],
         "y": [
          40.34253624126977,
          40.37595000318738,
          null
         ]
        },
        {
         "hoverinfo": "text",
         "line": {
          "color": "rgba(190.74509803921572, 226.68627450980395, 238.58823529411765, 1.0)",
          "width": 3.361820168679425
         },
         "mode": "lines",
         "showlegend": false,
         "text": "Width: 3.36",
         "type": "scatter",
         "x": [
          -3.695056256825152,
          -3.6598634715735407,
          null
         ],
         "y": [
          40.34253624126977,
          40.38355078734683,
          null
         ]
        },
        {
         "hoverinfo": "text",
         "line": {
          "color": "rgba(63.11764705882353, 98.47058823529413, 170.88235294117646, 1.0)",
          "width": 0.7259940037546583
         },
         "mode": "lines",
         "showlegend": false,
         "text": "Width: 0.73",
         "type": "scatter",
         "x": [
          -3.695056256825152,
          -3.6413909394895803,
          null
         ],
         "y": [
          40.34253624126977,
          40.40661270611631,
          null
         ]
        },
        {
         "hoverinfo": "text",
         "line": {
          "color": "rgba(101.25490196078432, 155.4313725490196, 199.90196078431376, 1.0)",
          "width": 1.7050071450587014
         },
         "mode": "lines",
         "showlegend": false,
         "text": "Width: 1.71",
         "type": "scatter",
         "x": [
          -3.695056256825152,
          -3.649948514601449,
          null
         ],
         "y": [
          40.34253624126977,
          40.43926990707227,
          null
         ]
        },
        {
         "hoverinfo": "text",
         "line": {
          "color": "rgba(79.13725490196079, 129.07843137254903, 186.25490196078434, 1.0)",
          "width": 1.241278825408389
         },
         "mode": "lines",
         "showlegend": false,
         "text": "Width: 1.24",
         "type": "scatter",
         "x": [
          -3.695056256825152,
          -3.637741035389707,
          null
         ],
         "y": [
          40.34253624126977,
          40.48201214532898,
          null
         ]
        },
        {
         "hoverinfo": "text",
         "line": {
          "color": "rgba(224.66666666666666, 68.33333333333333, 48.333333333333336, 1.0)",
          "width": 8.64860321107344
         },
         "mode": "lines",
         "showlegend": false,
         "text": "Width: 8.65",
         "type": "scatter",
         "x": [
          -3.695056256825152,
          -3.695056256825152,
          null
         ],
         "y": [
          40.34253624126977,
          40.34253624126977,
          null
         ]
        },
        {
         "hoverinfo": "text",
         "line": {
          "color": "rgba(237.37254901960787, 248.1764705882353, 223.41176470588232, 1.0)",
          "width": 4.442825520468491
         },
         "mode": "lines",
         "showlegend": false,
         "text": "Width: 4.44",
         "type": "scatter",
         "x": [
          -3.695056256825152,
          -3.6160073912284756,
          null
         ],
         "y": [
          40.34253624126977,
          40.34992967757026,
          null
         ]
        },
        {
         "hoverinfo": "text",
         "line": {
          "color": "rgba(79.13725490196079, 129.07843137254903, 186.25490196078434, 1.0)",
          "width": 1.2474431897783629
         },
         "mode": "lines",
         "showlegend": false,
         "text": "Width: 1.25",
         "type": "scatter",
         "x": [
          -3.695056256825152,
          -3.572894771748725,
          null
         ],
         "y": [
          40.34253624126977,
          40.39356859265691,
          null
         ]
        },
        {
         "hoverinfo": "text",
         "line": {
          "color": "rgba(84.66666666666667, 135.66666666666669, 189.66666666666669, 1.0)",
          "width": 1.3401888537084254
         },
         "mode": "lines",
         "showlegend": false,
         "text": "Width: 1.34",
         "type": "scatter",
         "x": [
          -3.695056256825152,
          -3.5986526886701378,
          null
         ],
         "y": [
          40.34253624126977,
          40.43466852782298,
          null
         ]
        },
        {
         "hoverinfo": "text",
         "line": {
          "color": "rgba(71.76470588235294, 120.29411764705884, 181.7058823529412, 1.0)",
          "width": 1.079043963125893
         },
         "mode": "lines",
         "showlegend": false,
         "text": "Width: 1.08",
         "type": "scatter",
         "x": [
          -3.695056256825152,
          -3.574543479322823,
          null
         ],
         "y": [
          40.34253624126977,
          40.4757410696608,
          null
         ]
        },
        {
         "hoverinfo": "text",
         "line": {
          "color": "rgba(178.2745098039216, 220.5686274509804, 235.05882352941177, 1.0)",
          "width": 3.1443862254476165
         },
         "mode": "lines",
         "showlegend": false,
         "text": "Width: 3.14",
         "type": "scatter",
         "x": [
          -3.6160073912284756,
          -3.705268804063821,
          null
         ],
         "y": [
          40.34992967757026,
          40.41733007020507,
          null
         ]
        },
        {
         "hoverinfo": "text",
         "line": {
          "color": "rgba(101.25490196078432, 155.4313725490196, 199.90196078431376, 1.0)",
          "width": 1.6988427806887276
         },
         "mode": "lines",
         "showlegend": false,
         "text": "Width: 1.70",
         "type": "scatter",
         "x": [
          -3.6160073912284756,
          -3.6966151949203576,
          null
         ],
         "y": [
          40.34992967757026,
          40.398119933450886,
          null
         ]
        },
        {
         "hoverinfo": "text",
         "line": {
          "color": "rgba(122.47058823529414, 178.1764705882353, 211.82352941176472, 1.0)",
          "width": 2.12922749306509
         },
         "mode": "lines",
         "showlegend": false,
         "text": "Width: 2.13",
         "type": "scatter",
         "x": [
          -3.6160073912284756,
          -3.67643837848883,
          null
         ],
         "y": [
          40.34992967757026,
          40.41138084576659,
          null
         ]
        },
        {
         "hoverinfo": "text",
         "line": {
          "color": "rgba(152.66666666666669, 202.33333333333334, 225.0, 1.0)",
          "width": 2.6730925495250633
         },
         "mode": "lines",
         "showlegend": false,
         "text": "Width: 2.67",
         "type": "scatter",
         "x": [
          -3.6160073912284756,
          -3.6737887354917422,
          null
         ],
         "y": [
          40.34992967757026,
          40.43018370922185,
          null
         ]
        },
        {
         "hoverinfo": "text",
         "line": {
          "color": "rgba(116.00000000000003, 173.00000000000003, 209.0, 1.0)",
          "width": 2.02919667124324
         },
         "mode": "lines",
         "showlegend": false,
         "text": "Width: 2.03",
         "type": "scatter",
         "x": [
          -3.6160073912284756,
          -3.678150006537061,
          null
         ],
         "y": [
          40.34992967757026,
          40.45750039357669,
          null
         ]
        },
        {
         "hoverinfo": "text",
         "line": {
          "color": "rgba(84.66666666666667, 135.66666666666669, 189.66666666666669, 1.0)",
          "width": 1.3371066715234385
         },
         "mode": "lines",
         "showlegend": false,
         "text": "Width: 1.34",
         "type": "scatter",
         "x": [
          -3.6160073912284756,
          -3.6999935507976827,
          null
         ],
         "y": [
          40.34992967757026,
          40.4606484776773,
          null
         ]
        },
        {
         "hoverinfo": "text",
         "line": {
          "color": "rgba(131.0980392156863, 185.07843137254903, 215.58823529411765, 1.0)",
          "width": 2.272689063857211
         },
         "mode": "lines",
         "showlegend": false,
         "text": "Width: 2.27",
         "type": "scatter",
         "x": [
          -3.6160073912284756,
          -3.703523951395161,
          null
         ],
         "y": [
          40.34992967757026,
          40.4375595509298,
          null
         ]
        },
        {
         "hoverinfo": "text",
         "line": {
          "color": "rgba(90.19607843137256, 142.2549019607843, 193.07843137254903, 1.0)",
          "width": 1.4486256269438762
         },
         "mode": "lines",
         "showlegend": false,
         "text": "Width: 1.45",
         "type": "scatter",
         "x": [
          -3.6160073912284756,
          -3.753579560856663,
          null
         ],
         "y": [
          40.34992967757026,
          40.54479435831404,
          null
         ]
        },
        {
         "hoverinfo": "text",
         "line": {
          "color": "rgba(86.50980392156863, 137.86274509803926, 190.80392156862746, 1.0)",
          "width": 1.3937067443750175
         },
         "mode": "lines",
         "showlegend": false,
         "text": "Width: 1.39",
         "type": "scatter",
         "x": [
          -3.6160073912284756,
          -3.757223268157654,
          null
         ],
         "y": [
          40.34992967757026,
          40.44543508494524,
          null
         ]
        },
        {
         "hoverinfo": "text",
         "line": {
          "color": "rgba(66.25490196078432, 108.35294117647061, 175.74509803921572, 1.0)",
          "width": 0.8868278741348875
         },
         "mode": "lines",
         "showlegend": false,
         "text": "Width: 0.89",
         "type": "scatter",
         "x": [
          -3.6160073912284756,
          -3.778616540618283,
          null
         ],
         "y": [
          40.34992967757026,
          40.385273701511004,
          null
         ]
        },
        {
         "hoverinfo": "text",
         "line": {
          "color": "rgba(106.78431372549022, 162.0196078431373, 203.31372549019608, 1.0)",
          "width": 1.803917173358738
         },
         "mode": "lines",
         "showlegend": false,
         "text": "Width: 1.80",
         "type": "scatter",
         "x": [
          -3.6160073912284756,
          -3.737112400757822,
          null
         ],
         "y": [
          40.34992967757026,
          40.378840354576816,
          null
         ]
        },
        {
         "hoverinfo": "text",
         "line": {
          "color": "rgba(137.56862745098042, 190.2549019607843, 218.41176470588235, 1.0)",
          "width": 2.4105466670402644
         },
         "mode": "lines",
         "showlegend": false,
         "text": "Width: 2.41",
         "type": "scatter",
         "x": [
          -3.6160073912284756,
          -3.7029808755455926,
          null
         ],
         "y": [
          40.34992967757026,
          40.37595000318738,
          null
         ]
        },
        {
         "hoverinfo": "text",
         "line": {
          "color": "rgba(250.7058823529412, 157.4313725490196, 89.3529411764706, 1.0)",
          "width": 7.2422875395780215
         },
         "mode": "lines",
         "showlegend": false,
         "text": "Width: 7.24",
         "type": "scatter",
         "x": [
          -3.6160073912284756,
          -3.6598634715735407,
          null
         ],
         "y": [
          40.34992967757026,
          40.38355078734683,
          null
         ]
        },
        {
         "hoverinfo": "text",
         "line": {
          "color": "rgba(124.62745098039218, 179.90196078431376, 212.76470588235296, 1.0)",
          "width": 2.1634116954804
         },
         "mode": "lines",
         "showlegend": false,
         "text": "Width: 2.16",
         "type": "scatter",
         "x": [
          -3.6160073912284756,
          -3.6413909394895803,
          null
         ],
         "y": [
          40.34992967757026,
          40.40661270611631,
          null
         ]
        },
        {
         "hoverinfo": "text",
         "line": {
          "color": "rgba(104.94117647058823, 159.82352941176472, 202.17647058823528, 1.0)",
          "width": 1.7739359466502282
         },
         "mode": "lines",
         "showlegend": false,
         "text": "Width: 1.77",
         "type": "scatter",
         "x": [
          -3.6160073912284756,
          -3.649948514601449,
          null
         ],
         "y": [
          40.34992967757026,
          40.43926990707227,
          null
         ]
        },
        {
         "hoverinfo": "text",
         "line": {
          "color": "rgba(97.5686274509804, 151.03921568627453, 197.62745098039218, 1.0)",
          "width": 1.6248704082490402
         },
         "mode": "lines",
         "showlegend": false,
         "text": "Width: 1.62",
         "type": "scatter",
         "x": [
          -3.6160073912284756,
          -3.637741035389707,
          null
         ],
         "y": [
          40.34992967757026,
          40.48201214532898,
          null
         ]
        },
        {
         "hoverinfo": "text",
         "line": {
          "color": "rgba(249.52941176470588, 252.88235294117646, 201.05882352941174, 1.0)",
          "width": 4.816049763232368
         },
         "mode": "lines",
         "showlegend": false,
         "text": "Width: 4.82",
         "type": "scatter",
         "x": [
          -3.6160073912284756,
          -3.695056256825152,
          null
         ],
         "y": [
          40.34992967757026,
          40.34253624126977,
          null
         ]
        },
        {
         "hoverinfo": "text",
         "line": {
          "color": "rgba(225.80392156862746, 70.72549019607843, 49.431372549019606, 1.0)",
          "width": 8.61021603295133
         },
         "mode": "lines",
         "showlegend": false,
         "text": "Width: 8.61",
         "type": "scatter",
         "x": [
          -3.6160073912284756,
          -3.6160073912284756,
          null
         ],
         "y": [
          40.34992967757026,
          40.34992967757026,
          null
         ]
        },
        {
         "hoverinfo": "text",
         "line": {
          "color": "rgba(253.76470588235296, 212.23529411764707, 132.94117647058823, 1.0)",
          "width": 6.233293171565468
         },
         "mode": "lines",
         "showlegend": false,
         "text": "Width: 6.23",
         "type": "scatter",
         "x": [
          -3.6160073912284756,
          -3.572894771748725,
          null
         ],
         "y": [
          40.34992967757026,
          40.39356859265691,
          null
         ]
        },
        {
         "hoverinfo": "text",
         "line": {
          "color": "rgba(104.94117647058823, 159.82352941176472, 202.17647058823528, 1.0)",
          "width": 1.7680517806607077
         },
         "mode": "lines",
         "showlegend": false,
         "text": "Width: 1.77",
         "type": "scatter",
         "x": [
          -3.6160073912284756,
          -3.5986526886701378,
          null
         ],
         "y": [
          40.34992967757026,
          40.43466852782298,
          null
         ]
        },
        {
         "hoverinfo": "text",
         "line": {
          "color": "rgba(88.35294117647061, 140.0588235294118, 191.94117647058823, 1.0)",
          "width": 1.4435820560957158
         },
         "mode": "lines",
         "showlegend": false,
         "text": "Width: 1.44",
         "type": "scatter",
         "x": [
          -3.6160073912284756,
          -3.574543479322823,
          null
         ],
         "y": [
          40.34992967757026,
          40.4757410696608,
          null
         ]
        },
        {
         "hoverinfo": "text",
         "line": {
          "color": "rgba(116.00000000000003, 173.00000000000003, 209.0, 1.0)",
          "width": 2.0193897279273725
         },
         "mode": "lines",
         "showlegend": false,
         "text": "Width: 2.02",
         "type": "scatter",
         "x": [
          -3.572894771748725,
          -3.705268804063821,
          null
         ],
         "y": [
          40.39356859265691,
          40.41733007020507,
          null
         ]
        },
        {
         "hoverinfo": "text",
         "line": {
          "color": "rgba(68.6078431372549, 115.76470588235296, 179.3921568627451, 1.0)",
          "width": 0.9969458376530583
         },
         "mode": "lines",
         "showlegend": false,
         "text": "Width: 1.00",
         "type": "scatter",
         "x": [
          -3.572894771748725,
          -3.6966151949203576,
          null
         ],
         "y": [
          40.39356859265691,
          40.398119933450886,
          null
         ]
        },
        {
         "hoverinfo": "text",
         "line": {
          "color": "rgba(112.31372549019609, 168.60784313725495, 206.72549019607843, 1.0)",
          "width": 1.936170808932724
         },
         "mode": "lines",
         "showlegend": false,
         "text": "Width: 1.94",
         "type": "scatter",
         "x": [
          -3.572894771748725,
          -3.67643837848883,
          null
         ],
         "y": [
          40.39356859265691,
          40.41138084576659,
          null
         ]
        },
        {
         "hoverinfo": "text",
         "line": {
          "color": "rgba(144.03921568627453, 195.4313725490196, 221.23529411764707, 1.0)",
          "width": 2.5125388775252877
         },
         "mode": "lines",
         "showlegend": false,
         "text": "Width: 2.51",
         "type": "scatter",
         "x": [
          -3.572894771748725,
          -3.6737887354917422,
          null
         ],
         "y": [
          40.39356859265691,
          40.43018370922185,
          null
         ]
        },
        {
         "hoverinfo": "text",
         "line": {
          "color": "rgba(104.94117647058823, 159.82352941176472, 202.17647058823528, 1.0)",
          "width": 1.7711339628456948
         },
         "mode": "lines",
         "showlegend": false,
         "text": "Width: 1.77",
         "type": "scatter",
         "x": [
          -3.572894771748725,
          -3.678150006537061,
          null
         ],
         "y": [
          40.39356859265691,
          40.45750039357669,
          null
         ]
        },
        {
         "hoverinfo": "text",
         "line": {
          "color": "rgba(73.60784313725492, 122.49019607843138, 182.84313725490196, 1.0)",
          "width": 1.1244361007593375
         },
         "mode": "lines",
         "showlegend": false,
         "text": "Width: 1.12",
         "type": "scatter",
         "x": [
          -3.572894771748725,
          -3.6999935507976827,
          null
         ],
         "y": [
          40.39356859265691,
          40.4606484776773,
          null
         ]
        },
        {
         "hoverinfo": "text",
         "line": {
          "color": "rgba(103.0980392156863, 157.6274509803922, 201.0392156862745, 1.0)",
          "width": 1.746476505365799
         },
         "mode": "lines",
         "showlegend": false,
         "text": "Width: 1.75",
         "type": "scatter",
         "x": [
          -3.572894771748725,
          -3.703523951395161,
          null
         ],
         "y": [
          40.39356859265691,
          40.4375595509298,
          null
         ]
        },
        {
         "hoverinfo": "text",
         "line": {
          "color": "rgba(79.13725490196079, 129.07843137254903, 186.25490196078434, 1.0)",
          "width": 1.246602594637003
         },
         "mode": "lines",
         "showlegend": false,
         "text": "Width: 1.25",
         "type": "scatter",
         "x": [
          -3.572894771748725,
          -3.753579560856663,
          null
         ],
         "y": [
          40.39356859265691,
          40.54479435831404,
          null
         ]
        },
        {
         "hoverinfo": "text",
         "line": {
          "color": "rgba(73.60784313725492, 122.49019607843138, 182.84313725490196, 1.0)",
          "width": 1.1157499509652833
         },
         "mode": "lines",
         "showlegend": false,
         "text": "Width: 1.12",
         "type": "scatter",
         "x": [
          -3.572894771748725,
          -3.757223268157654,
          null
         ],
         "y": [
          40.39356859265691,
          40.44543508494524,
          null
         ]
        },
        {
         "hoverinfo": "text",
         "line": {
          "color": "rgba(56.05882352941177, 76.23529411764707, 159.94117647058823, 1.0)",
          "width": 0.5
         },
         "mode": "lines",
         "showlegend": false,
         "text": "Width: 0.50",
         "type": "scatter",
         "x": [
          -3.572894771748725,
          -3.778616540618283,
          null
         ],
         "y": [
          40.39356859265691,
          40.385273701511004,
          null
         ]
        },
        {
         "hoverinfo": "text",
         "line": {
          "color": "rgba(63.11764705882353, 98.47058823529413, 170.88235294117646, 1.0)",
          "width": 0.7136652750147104
         },
         "mode": "lines",
         "showlegend": false,
         "text": "Width: 0.71",
         "type": "scatter",
         "x": [
          -3.572894771748725,
          -3.737112400757822,
          null
         ],
         "y": [
          40.39356859265691,
          40.378840354576816,
          null
         ]
        },
        {
         "hoverinfo": "text",
         "line": {
          "color": "rgba(59.98039215686274, 88.58823529411765, 166.01960784313727, 1.0)",
          "width": 0.5595561657653618
         },
         "mode": "lines",
         "showlegend": false,
         "text": "Width: 0.56",
         "type": "scatter",
         "x": [
          -3.572894771748725,
          -3.7029808755455926,
          null
         ],
         "y": [
          40.39356859265691,
          40.37595000318738,
          null
         ]
        },
        {
         "hoverinfo": "text",
         "line": {
          "color": "rgba(237.37254901960787, 248.1764705882353, 223.41176470588232, 1.0)",
          "width": 4.43021659334809
         },
         "mode": "lines",
         "showlegend": false,
         "text": "Width: 4.43",
         "type": "scatter",
         "x": [
          -3.572894771748725,
          -3.6598634715735407,
          null
         ],
         "y": [
          40.39356859265691,
          40.38355078734683,
          null
         ]
        },
        {
         "hoverinfo": "text",
         "line": {
          "color": "rgba(233.72549019607845, 246.76470588235296, 230.11764705882348, 1.0)",
          "width": 4.32766398610216
         },
         "mode": "lines",
         "showlegend": false,
         "text": "Width: 4.33",
         "type": "scatter",
         "x": [
          -3.572894771748725,
          -3.6413909394895803,
          null
         ],
         "y": [
          40.39356859265691,
          40.40661270611631,
          null
         ]
        },
        {
         "hoverinfo": "text",
         "line": {
          "color": "rgba(152.66666666666669, 202.33333333333334, 225.0, 1.0)",
          "width": 2.6924262377763455
         },
         "mode": "lines",
         "showlegend": false,
         "text": "Width: 2.69",
         "type": "scatter",
         "x": [
          -3.572894771748725,
          -3.649948514601449,
          null
         ],
         "y": [
          40.39356859265691,
          40.43926990707227,
          null
         ]
        },
        {
         "hoverinfo": "text",
         "line": {
          "color": "rgba(106.78431372549022, 162.0196078431373, 203.31372549019608, 1.0)",
          "width": 1.800834991173751
         },
         "mode": "lines",
         "showlegend": false,
         "text": "Width: 1.80",
         "type": "scatter",
         "x": [
          -3.572894771748725,
          -3.637741035389707,
          null
         ],
         "y": [
          40.39356859265691,
          40.48201214532898,
          null
         ]
        },
        {
         "hoverinfo": "text",
         "line": {
          "color": "rgba(63.11764705882353, 98.47058823529413, 170.88235294117646, 1.0)",
          "width": 0.7153464652974306
         },
         "mode": "lines",
         "showlegend": false,
         "text": "Width: 0.72",
         "type": "scatter",
         "x": [
          -3.572894771748725,
          -3.695056256825152,
          null
         ],
         "y": [
          40.39356859265691,
          40.34253624126977,
          null
         ]
        },
        {
         "hoverinfo": "text",
         "line": {
          "color": "rgba(254.3529411764706, 234.94117647058823, 160.58823529411765, 1.0)",
          "width": 5.663369665723332
         },
         "mode": "lines",
         "showlegend": false,
         "text": "Width: 5.66",
         "type": "scatter",
         "x": [
          -3.572894771748725,
          -3.6160073912284756,
          null
         ],
         "y": [
          40.39356859265691,
          40.34992967757026,
          null
         ]
        },
        {
         "hoverinfo": "text",
         "line": {
          "color": "rgba(249.29411764705884, 147.23529411764707, 84.64705882352942, 1.0)",
          "width": 7.40144021967553
         },
         "mode": "lines",
         "showlegend": false,
         "text": "Width: 7.40",
         "type": "scatter",
         "x": [
          -3.572894771748725,
          -3.572894771748725,
          null
         ],
         "y": [
          40.39356859265691,
          40.39356859265691,
          null
         ]
        },
        {
         "hoverinfo": "text",
         "line": {
          "color": "rgba(254.15686274509804, 228.8627450980392, 151.37254901960782, 1.0)",
          "width": 5.838493653506682
         },
         "mode": "lines",
         "showlegend": false,
         "text": "Width: 5.84",
         "type": "scatter",
         "x": [
          -3.572894771748725,
          -3.5986526886701378,
          null
         ],
         "y": [
          40.39356859265691,
          40.43466852782298,
          null
         ]
        },
        {
         "hoverinfo": "text",
         "line": {
          "color": "rgba(97.5686274509804, 151.03921568627453, 197.62745098039218, 1.0)",
          "width": 1.6203872341617864
         },
         "mode": "lines",
         "showlegend": false,
         "text": "Width: 1.62",
         "type": "scatter",
         "x": [
          -3.572894771748725,
          -3.574543479322823,
          null
         ],
         "y": [
          40.39356859265691,
          40.4757410696608,
          null
         ]
        },
        {
         "hoverinfo": "text",
         "line": {
          "color": "rgba(165.6078431372549, 212.68627450980392, 230.64705882352942, 1.0)",
          "width": 2.8947294684636717
         },
         "mode": "lines",
         "showlegend": false,
         "text": "Width: 2.89",
         "type": "scatter",
         "x": [
          -3.5986526886701378,
          -3.705268804063821,
          null
         ],
         "y": [
          40.43466852782298,
          40.41733007020507,
          null
         ]
        },
        {
         "hoverinfo": "text",
         "line": {
          "color": "rgba(86.50980392156863, 137.86274509803926, 190.80392156862746, 1.0)",
          "width": 1.405755274734512
         },
         "mode": "lines",
         "showlegend": false,
         "text": "Width: 1.41",
         "type": "scatter",
         "x": [
          -3.5986526886701378,
          -3.6966151949203576,
          null
         ],
         "y": [
          40.43466852782298,
          40.398119933450886,
          null
         ]
        },
        {
         "hoverinfo": "text",
         "line": {
          "color": "rgba(116.00000000000003, 173.00000000000003, 209.0, 1.0)",
          "width": 2.009862982991958
         },
         "mode": "lines",
         "showlegend": false,
         "text": "Width: 2.01",
         "type": "scatter",
         "x": [
          -3.5986526886701378,
          -3.67643837848883,
          null
         ],
         "y": [
          40.43466852782298,
          40.41138084576659,
          null
         ]
        },
        {
         "hoverinfo": "text",
         "line": {
          "color": "rgba(174.11764705882354, 218.52941176470588, 233.88235294117646, 1.0)",
          "width": 3.0589257194093413
         },
         "mode": "lines",
         "showlegend": false,
         "text": "Width: 3.06",
         "type": "scatter",
         "x": [
          -3.5986526886701378,
          -3.6737887354917422,
          null
         ],
         "y": [
          40.43466852782298,
          40.43018370922185,
          null
         ]
        },
        {
         "hoverinfo": "text",
         "line": {
          "color": "rgba(152.66666666666669, 202.33333333333334, 225.0, 1.0)",
          "width": 2.657681638600129
         },
         "mode": "lines",
         "showlegend": false,
         "text": "Width: 2.66",
         "type": "scatter",
         "x": [
          -3.5986526886701378,
          -3.678150006537061,
          null
         ],
         "y": [
          40.43466852782298,
          40.45750039357669,
          null
         ]
        },
        {
         "hoverinfo": "text",
         "line": {
          "color": "rgba(118.15686274509807, 174.72549019607845, 209.94117647058823, 1.0)",
          "width": 2.0616996833758297
         },
         "mode": "lines",
         "showlegend": false,
         "text": "Width: 2.06",
         "type": "scatter",
         "x": [
          -3.5986526886701378,
          -3.6999935507976827,
          null
         ],
         "y": [
          40.43466852782298,
          40.4606484776773,
          null
         ]
        },
        {
         "hoverinfo": "text",
         "line": {
          "color": "rgba(156.98039215686276, 205.78431372549022, 226.88235294117646, 1.0)",
          "width": 2.764437221552859
         },
         "mode": "lines",
         "showlegend": false,
         "text": "Width: 2.76",
         "type": "scatter",
         "x": [
          -3.5986526886701378,
          -3.703523951395161,
          null
         ],
         "y": [
          40.43466852782298,
          40.4375595509298,
          null
         ]
        },
        {
         "hoverinfo": "text",
         "line": {
          "color": "rgba(194.90196078431376, 228.72549019607843, 239.76470588235296, 1.0)",
          "width": 3.45232424556586
         },
         "mode": "lines",
         "showlegend": false,
         "text": "Width: 3.45",
         "type": "scatter",
         "x": [
          -3.5986526886701378,
          -3.753579560856663,
          null
         ],
         "y": [
          40.43466852782298,
          40.54479435831404,
          null
         ]
        },
        {
         "hoverinfo": "text",
         "line": {
          "color": "rgba(135.41176470588238, 188.5294117647059, 217.47058823529412, 1.0)",
          "width": 2.3553475860909523
         },
         "mode": "lines",
         "showlegend": false,
         "text": "Width: 2.36",
         "type": "scatter",
         "x": [
          -3.5986526886701378,
          -3.757223268157654,
          null
         ],
         "y": [
          40.43466852782298,
          40.44543508494524,
          null
         ]
        },
        {
         "hoverinfo": "text",
         "line": {
          "color": "rgba(65.47058823529412, 105.88235294117648, 174.52941176470588, 1.0)",
          "width": 0.8263050239569615
         },
         "mode": "lines",
         "showlegend": false,
         "text": "Width: 0.83",
         "type": "scatter",
         "x": [
          -3.5986526886701378,
          -3.778616540618283,
          null
         ],
         "y": [
          40.43466852782298,
          40.385273701511004,
          null
         ]
        },
        {
         "hoverinfo": "text",
         "line": {
          "color": "rgba(80.98039215686276, 131.2745098039216, 187.3921568627451, 1.0)",
          "width": 1.2508055703438032
         },
         "mode": "lines",
         "showlegend": false,
         "text": "Width: 1.25",
         "type": "scatter",
         "x": [
          -3.5986526886701378,
          -3.737112400757822,
          null
         ],
         "y": [
          40.43466852782298,
          40.378840354576816,
          null
         ]
        },
        {
         "hoverinfo": "text",
         "line": {
          "color": "rgba(73.60784313725492, 122.49019607843138, 182.84313725490196, 1.0)",
          "width": 1.1084647930734959
         },
         "mode": "lines",
         "showlegend": false,
         "text": "Width: 1.11",
         "type": "scatter",
         "x": [
          -3.5986526886701378,
          -3.7029808755455926,
          null
         ],
         "y": [
          40.43466852782298,
          40.37595000318738,
          null
         ]
        },
        {
         "hoverinfo": "text",
         "line": {
          "color": "rgba(99.41176470588236, 153.2352941176471, 198.76470588235296, 1.0)",
          "width": 1.6601754041861638
         },
         "mode": "lines",
         "showlegend": false,
         "text": "Width: 1.66",
         "type": "scatter",
         "x": [
          -3.5986526886701378,
          -3.6598634715735407,
          null
         ],
         "y": [
          40.43466852782298,
          40.38355078734683,
          null
         ]
        },
        {
         "hoverinfo": "text",
         "line": {
          "color": "rgba(188.6666666666667, 225.66666666666669, 238.0, 1.0)",
          "width": 3.3388439014822495
         },
         "mode": "lines",
         "showlegend": false,
         "text": "Width: 3.34",
         "type": "scatter",
         "x": [
          -3.5986526886701378,
          -3.6413909394895803,
          null
         ],
         "y": [
          40.43466852782298,
          40.40661270611631,
          null
         ]
        },
        {
         "hoverinfo": "text",
         "line": {
          "color": "rgba(250.7058823529412, 157.4313725490196, 89.3529411764706, 1.0)",
          "width": 7.259940037546582
         },
         "mode": "lines",
         "showlegend": false,
         "text": "Width: 7.26",
         "type": "scatter",
         "x": [
          -3.5986526886701378,
          -3.649948514601449,
          null
         ],
         "y": [
          40.43466852782298,
          40.43926990707227,
          null
         ]
        },
        {
         "hoverinfo": "text",
         "line": {
          "color": "rgba(254.23529411764704, 231.29411764705884, 155.05882352941177, 1.0)",
          "width": 5.7762896130460355
         },
         "mode": "lines",
         "showlegend": false,
         "text": "Width: 5.78",
         "type": "scatter",
         "x": [
          -3.5986526886701378,
          -3.637741035389707,
          null
         ],
         "y": [
          40.43466852782298,
          40.48201214532898,
          null
         ]
        },
        {
         "hoverinfo": "text",
         "line": {
          "color": "rgba(67.03921568627452, 110.82352941176472, 176.9607843137255, 1.0)",
          "width": 0.9117655299952366
         },
         "mode": "lines",
         "showlegend": false,
         "text": "Width: 0.91",
         "type": "scatter",
         "x": [
          -3.5986526886701378,
          -3.695056256825152,
          null
         ],
         "y": [
          40.43466852782298,
          40.34253624126977,
          null
         ]
        },
        {
         "hoverinfo": "text",
         "line": {
          "color": "rgba(112.31372549019609, 168.60784313725495, 206.72549019607843, 1.0)",
          "width": 1.9459777522485917
         },
         "mode": "lines",
         "showlegend": false,
         "text": "Width: 1.95",
         "type": "scatter",
         "x": [
          -3.5986526886701378,
          -3.6160073912284756,
          null
         ],
         "y": [
          40.43466852782298,
          40.34992967757026,
          null
         ]
        },
        {
         "hoverinfo": "text",
         "line": {
          "color": "rgba(253.13725490196077, 180.8627450980392, 103.45098039215685, 1.0)",
          "width": 6.866821709770517
         },
         "mode": "lines",
         "showlegend": false,
         "text": "Width: 6.87",
         "type": "scatter",
         "x": [
          -3.5986526886701378,
          -3.572894771748725,
          null
         ],
         "y": [
          40.43466852782298,
          40.39356859265691,
          null
         ]
        },
        {
         "hoverinfo": "text",
         "line": {
          "color": "rgba(221.2549019607843, 61.15686274509804, 45.03921568627451, 1.0)",
          "width": 8.766566729244305
         },
         "mode": "lines",
         "showlegend": false,
         "text": "Width: 8.77",
         "type": "scatter",
         "x": [
          -3.5986526886701378,
          -3.5986526886701378,
          null
         ],
         "y": [
          40.43466852782298,
          40.43466852782298,
          null
         ]
        },
        {
         "hoverinfo": "text",
         "line": {
          "color": "rgba(253.64705882352942, 206.3529411764706, 127.41176470588235, 1.0)",
          "width": 6.331923001485051
         },
         "mode": "lines",
         "showlegend": false,
         "text": "Width: 6.33",
         "type": "scatter",
         "x": [
          -3.5986526886701378,
          -3.574543479322823,
          null
         ],
         "y": [
          40.43466852782298,
          40.4757410696608,
          null
         ]
        },
        {
         "hoverinfo": "text",
         "line": {
          "color": "rgba(75.45098039215688, 124.68627450980394, 183.98039215686276, 1.0)",
          "width": 1.1362044327383787
         },
         "mode": "lines",
         "showlegend": false,
         "text": "Width: 1.14",
         "type": "scatter",
         "x": [
          -3.574543479322823,
          -3.705268804063821,
          null
         ],
         "y": [
          40.4757410696608,
          40.41733007020507,
          null
         ]
        },
        {
         "hoverinfo": "text",
         "line": {
          "color": "rgba(55.274509803921575, 73.76470588235294, 158.72549019607845, 1.0)",
          "width": 0.5
         },
         "mode": "lines",
         "showlegend": false,
         "text": "Width: 0.50",
         "type": "scatter",
         "x": [
          -3.574543479322823,
          -3.6966151949203576,
          null
         ],
         "y": [
          40.4757410696608,
          40.398119933450886,
          null
         ]
        },
        {
         "hoverinfo": "text",
         "line": {
          "color": "rgba(59.98039215686274, 88.58823529411765, 166.01960784313727, 1.0)",
          "width": 0.558155173863095
         },
         "mode": "lines",
         "showlegend": false,
         "text": "Width: 0.56",
         "type": "scatter",
         "x": [
          -3.574543479322823,
          -3.67643837848883,
          null
         ],
         "y": [
          40.4757410696608,
          40.41138084576659,
          null
         ]
        },
        {
         "hoverinfo": "text",
         "line": {
          "color": "rgba(88.35294117647061, 140.0588235294118, 191.94117647058823, 1.0)",
          "width": 1.4357365014430217
         },
         "mode": "lines",
         "showlegend": false,
         "text": "Width: 1.44",
         "type": "scatter",
         "x": [
          -3.574543479322823,
          -3.6737887354917422,
          null
         ],
         "y": [
          40.4757410696608,
          40.43018370922185,
          null
         ]
        },
        {
         "hoverinfo": "text",
         "line": {
          "color": "rgba(88.35294117647061, 140.0588235294118, 191.94117647058823, 1.0)",
          "width": 1.4410602706716353
         },
         "mode": "lines",
         "showlegend": false,
         "text": "Width: 1.44",
         "type": "scatter",
         "x": [
          -3.574543479322823,
          -3.678150006537061,
          null
         ],
         "y": [
          40.4757410696608,
          40.45750039357669,
          null
         ]
        },
        {
         "hoverinfo": "text",
         "line": {
          "color": "rgba(67.03921568627452, 110.82352941176472, 176.9607843137255, 1.0)",
          "width": 0.9072823559079829
         },
         "mode": "lines",
         "showlegend": false,
         "text": "Width: 0.91",
         "type": "scatter",
         "x": [
          -3.574543479322823,
          -3.6999935507976827,
          null
         ],
         "y": [
          40.4757410696608,
          40.4606484776773,
          null
         ]
        },
        {
         "hoverinfo": "text",
         "line": {
          "color": "rgba(88.35294117647061, 140.0588235294118, 191.94117647058823, 1.0)",
          "width": 1.4264899548880607
         },
         "mode": "lines",
         "showlegend": false,
         "text": "Width: 1.43",
         "type": "scatter",
         "x": [
          -3.574543479322823,
          -3.703523951395161,
          null
         ],
         "y": [
          40.4757410696608,
          40.4375595509298,
          null
         ]
        },
        {
         "hoverinfo": "text",
         "line": {
          "color": "rgba(120.31372549019609, 176.45098039215688, 210.88235294117646, 1.0)",
          "width": 2.0978452744543135
         },
         "mode": "lines",
         "showlegend": false,
         "text": "Width: 2.10",
         "type": "scatter",
         "x": [
          -3.574543479322823,
          -3.753579560856663,
          null
         ],
         "y": [
          40.4757410696608,
          40.54479435831404,
          null
         ]
        },
        {
         "hoverinfo": "text",
         "line": {
          "color": "rgba(61.54901960784314, 93.5294117647059, 168.45098039215688, 1.0)",
          "width": 0.6441760766622768
         },
         "mode": "lines",
         "showlegend": false,
         "text": "Width: 0.64",
         "type": "scatter",
         "x": [
          -3.574543479322823,
          -3.757223268157654,
          null
         ],
         "y": [
          40.4757410696608,
          40.44543508494524,
          null
         ]
        },
        {
         "hoverinfo": "text",
         "line": {
          "color": "rgba(49.0, 54.0, 149.0, 1.0)",
          "width": 0.5
         },
         "mode": "lines",
         "showlegend": false,
         "text": "Width: 0.50",
         "type": "scatter",
         "x": [
          -3.574543479322823,
          -3.778616540618283,
          null
         ],
         "y": [
          40.4757410696608,
          40.385273701511004,
          null
         ]
        },
        {
         "hoverinfo": "text",
         "line": {
          "color": "rgba(51.35294117647059, 61.411764705882355, 152.64705882352942, 1.0)",
          "width": 0.5
         },
         "mode": "lines",
         "showlegend": false,
         "text": "Width: 0.50",
         "type": "scatter",
         "x": [
          -3.574543479322823,
          -3.737112400757822,
          null
         ],
         "y": [
          40.4757410696608,
          40.378840354576816,
          null
         ]
        },
        {
         "hoverinfo": "text",
         "line": {
          "color": "rgba(49.0, 54.0, 149.0, 1.0)",
          "width": 0.5
         },
         "mode": "lines",
         "showlegend": false,
         "text": "Width: 0.50",
         "type": "scatter",
         "x": [
          -3.574543479322823,
          -3.7029808755455926,
          null
         ],
         "y": [
          40.4757410696608,
          40.37595000318738,
          null
         ]
        },
        {
         "hoverinfo": "text",
         "line": {
          "color": "rgba(54.490196078431374, 71.29411764705883, 157.50980392156865, 1.0)",
          "width": 0.5
         },
         "mode": "lines",
         "showlegend": false,
         "text": "Width: 0.50",
         "type": "scatter",
         "x": [
          -3.574543479322823,
          -3.6598634715735407,
          null
         ],
         "y": [
          40.4757410696608,
          40.38355078734683,
          null
         ]
        },
        {
         "hoverinfo": "text",
         "line": {
          "color": "rgba(49.0, 54.0, 149.0, 1.0)",
          "width": 0.5
         },
         "mode": "lines",
         "showlegend": false,
         "text": "Width: 0.50",
         "type": "scatter",
         "x": [
          -3.574543479322823,
          -3.6413909394895803,
          null
         ],
         "y": [
          40.4757410696608,
          40.40661270611631,
          null
         ]
        },
        {
         "hoverinfo": "text",
         "line": {
          "color": "rgba(92.03921568627452, 144.4509803921569, 194.2156862745098, 1.0)",
          "width": 1.48561181316372
         },
         "mode": "lines",
         "showlegend": false,
         "text": "Width: 1.49",
         "type": "scatter",
         "x": [
          -3.574543479322823,
          -3.649948514601449,
          null
         ],
         "y": [
          40.4757410696608,
          40.43926990707227,
          null
         ]
        },
        {
         "hoverinfo": "text",
         "line": {
          "color": "rgba(254.3529411764706, 234.94117647058823, 160.58823529411765, 1.0)",
          "width": 5.660847880299252
         },
         "mode": "lines",
         "showlegend": false,
         "text": "Width: 5.66",
         "type": "scatter",
         "x": [
          -3.574543479322823,
          -3.637741035389707,
          null
         ],
         "y": [
          40.4757410696608,
          40.48201214532898,
          null
         ]
        },
        {
         "hoverinfo": "text",
         "line": {
          "color": "rgba(49.0, 54.0, 149.0, 1.0)",
          "width": 0.5
         },
         "mode": "lines",
         "showlegend": false,
         "text": "Width: 0.50",
         "type": "scatter",
         "x": [
          -3.574543479322823,
          -3.695056256825152,
          null
         ],
         "y": [
          40.4757410696608,
          40.34253624126977,
          null
         ]
        },
        {
         "hoverinfo": "text",
         "line": {
          "color": "rgba(54.490196078431374, 71.29411764705883, 157.50980392156865, 1.0)",
          "width": 0.5
         },
         "mode": "lines",
         "showlegend": false,
         "text": "Width: 0.50",
         "type": "scatter",
         "x": [
          -3.574543479322823,
          -3.6160073912284756,
          null
         ],
         "y": [
          40.4757410696608,
          40.34992967757026,
          null
         ]
        },
        {
         "hoverinfo": "text",
         "line": {
          "color": "rgba(55.274509803921575, 73.76470588235294, 158.72549019607845, 1.0)",
          "width": 0.5
         },
         "mode": "lines",
         "showlegend": false,
         "text": "Width: 0.50",
         "type": "scatter",
         "x": [
          -3.574543479322823,
          -3.572894771748725,
          null
         ],
         "y": [
          40.4757410696608,
          40.39356859265691,
          null
         ]
        },
        {
         "hoverinfo": "text",
         "line": {
          "color": "rgba(254.7450980392157, 247.09803921568627, 179.01960784313724, 1.0)",
          "width": 5.266328560620919
         },
         "mode": "lines",
         "showlegend": false,
         "text": "Width: 5.27",
         "type": "scatter",
         "x": [
          -3.574543479322823,
          -3.5986526886701378,
          null
         ],
         "y": [
          40.4757410696608,
          40.43466852782298,
          null
         ]
        },
        {
         "hoverinfo": "text",
         "line": {
          "color": "rgba(247.1764705882353, 131.94117647058823, 77.58823529411764, 1.0)",
          "width": 7.639608843060886
         },
         "mode": "lines",
         "showlegend": false,
         "text": "Width: 7.64",
         "type": "scatter",
         "x": [
          -3.574543479322823,
          -3.574543479322823,
          null
         ],
         "y": [
          40.4757410696608,
          40.4757410696608,
          null
         ]
        },
        {
         "hoverinfo": "text",
         "marker": {
          "color": "white",
          "line": {
           "color": "#888",
           "width": 2
          },
          "size": [
           59.95962811349382,
           32.10372931607791,
           37.819974773052934,
           61.4775261337956,
           61.4775261337956,
           52.014072981985954,
           53.057804515864014,
           41.64351279227822,
           61.4775261337956,
           34.21519743161626,
           37.819974773052934,
           38.68275680704052,
           33.67975758415372,
           33.41393587823799,
           46.01069749826098,
           50.64173777219263,
           34.48481956942272,
           32.36325706906461,
           30.572799587356073,
           39.85134660335181,
           38.106271696867964
          ]
         },
         "mode": "markers",
         "showlegend": false,
         "text": [
          "District: Centro",
          "District: Arganzuela",
          "District: Retiro",
          "District: Salamanca",
          "District: Chamartín",
          "District: Tetuán",
          "District: Chamberí",
          "District: Fuencarral-El Pardo",
          "District: Moncloa-Aravaca",
          "District: Latina",
          "District: Carabanchel",
          "District: Usera",
          "District: Puente de Vallecas",
          "District: Moratalaz",
          "District: Ciudad Lineal",
          "District: Hortaleza",
          "District: Villaverde",
          "District: Villa de Vallecas",
          "District: Vicálvaro",
          "District: San Blas-Canillejas",
          "District: Barajas"
         ],
         "type": "scatter",
         "x": [
          -3.705268804063821,
          -3.6966151949203576,
          -3.67643837848883,
          -3.6737887354917422,
          -3.678150006537061,
          -3.6999935507976827,
          -3.703523951395161,
          -3.753579560856663,
          -3.757223268157654,
          -3.778616540618283,
          -3.737112400757822,
          -3.7029808755455926,
          -3.6598634715735407,
          -3.6413909394895803,
          -3.649948514601449,
          -3.637741035389707,
          -3.695056256825152,
          -3.6160073912284756,
          -3.572894771748725,
          -3.5986526886701378,
          -3.574543479322823
         ],
         "y": [
          40.41733007020507,
          40.398119933450886,
          40.41138084576659,
          40.43018370922185,
          40.45750039357669,
          40.4606484776773,
          40.4375595509298,
          40.54479435831404,
          40.44543508494524,
          40.385273701511004,
          40.378840354576816,
          40.37595000318738,
          40.38355078734683,
          40.40661270611631,
          40.43926990707227,
          40.48201214532898,
          40.34253624126977,
          40.34992967757026,
          40.39356859265691,
          40.43466852782298,
          40.4757410696608
         ]
        },
        {
         "hoverinfo": "none",
         "marker": {
          "cmax": 1,
          "cmin": 0,
          "colorbar": {
           "ticktext": [
            "0.00",
            "0.25",
            "0.50",
            "0.75",
            "1.00"
           ],
           "tickvals": [
            0,
            0.25,
            0.5,
            0.75,
            1
           ],
           "title": {
            "text": "Edge Weight"
           }
          },
          "colorscale": [
           [
            0,
            "rgb(49,54,149)"
           ],
           [
            0.1,
            "rgb(69,117,180)"
           ],
           [
            0.2,
            "rgb(116,173,209)"
           ],
           [
            0.3,
            "rgb(171,217,233)"
           ],
           [
            0.4,
            "rgb(224,243,248)"
           ],
           [
            0.5,
            "rgb(255,255,191)"
           ],
           [
            0.6,
            "rgb(254,224,144)"
           ],
           [
            0.7,
            "rgb(253,174,97)"
           ],
           [
            0.8,
            "rgb(244,109,67)"
           ],
           [
            0.9,
            "rgb(215,48,39)"
           ],
           [
            1,
            "rgb(165,0,38)"
           ]
          ],
          "showscale": true
         },
         "mode": "markers",
         "type": "scatter",
         "x": [
          null
         ],
         "y": [
          null
         ]
        }
       ],
       "layout": {
        "hovermode": "closest",
        "margin": {
         "b": 0,
         "l": 0,
         "r": 0,
         "t": 0
        },
        "showlegend": true,
        "template": {
         "data": {
          "bar": [
           {
            "error_x": {
             "color": "#2a3f5f"
            },
            "error_y": {
             "color": "#2a3f5f"
            },
            "marker": {
             "line": {
              "color": "#E5ECF6",
              "width": 0.5
             },
             "pattern": {
              "fillmode": "overlay",
              "size": 10,
              "solidity": 0.2
             }
            },
            "type": "bar"
           }
          ],
          "barpolar": [
           {
            "marker": {
             "line": {
              "color": "#E5ECF6",
              "width": 0.5
             },
             "pattern": {
              "fillmode": "overlay",
              "size": 10,
              "solidity": 0.2
             }
            },
            "type": "barpolar"
           }
          ],
          "carpet": [
           {
            "aaxis": {
             "endlinecolor": "#2a3f5f",
             "gridcolor": "white",
             "linecolor": "white",
             "minorgridcolor": "white",
             "startlinecolor": "#2a3f5f"
            },
            "baxis": {
             "endlinecolor": "#2a3f5f",
             "gridcolor": "white",
             "linecolor": "white",
             "minorgridcolor": "white",
             "startlinecolor": "#2a3f5f"
            },
            "type": "carpet"
           }
          ],
          "choropleth": [
           {
            "colorbar": {
             "outlinewidth": 0,
             "ticks": ""
            },
            "type": "choropleth"
           }
          ],
          "contour": [
           {
            "colorbar": {
             "outlinewidth": 0,
             "ticks": ""
            },
            "colorscale": [
             [
              0,
              "#0d0887"
             ],
             [
              0.1111111111111111,
              "#46039f"
             ],
             [
              0.2222222222222222,
              "#7201a8"
             ],
             [
              0.3333333333333333,
              "#9c179e"
             ],
             [
              0.4444444444444444,
              "#bd3786"
             ],
             [
              0.5555555555555556,
              "#d8576b"
             ],
             [
              0.6666666666666666,
              "#ed7953"
             ],
             [
              0.7777777777777778,
              "#fb9f3a"
             ],
             [
              0.8888888888888888,
              "#fdca26"
             ],
             [
              1,
              "#f0f921"
             ]
            ],
            "type": "contour"
           }
          ],
          "contourcarpet": [
           {
            "colorbar": {
             "outlinewidth": 0,
             "ticks": ""
            },
            "type": "contourcarpet"
           }
          ],
          "heatmap": [
           {
            "colorbar": {
             "outlinewidth": 0,
             "ticks": ""
            },
            "colorscale": [
             [
              0,
              "#0d0887"
             ],
             [
              0.1111111111111111,
              "#46039f"
             ],
             [
              0.2222222222222222,
              "#7201a8"
             ],
             [
              0.3333333333333333,
              "#9c179e"
             ],
             [
              0.4444444444444444,
              "#bd3786"
             ],
             [
              0.5555555555555556,
              "#d8576b"
             ],
             [
              0.6666666666666666,
              "#ed7953"
             ],
             [
              0.7777777777777778,
              "#fb9f3a"
             ],
             [
              0.8888888888888888,
              "#fdca26"
             ],
             [
              1,
              "#f0f921"
             ]
            ],
            "type": "heatmap"
           }
          ],
          "heatmapgl": [
           {
            "colorbar": {
             "outlinewidth": 0,
             "ticks": ""
            },
            "colorscale": [
             [
              0,
              "#0d0887"
             ],
             [
              0.1111111111111111,
              "#46039f"
             ],
             [
              0.2222222222222222,
              "#7201a8"
             ],
             [
              0.3333333333333333,
              "#9c179e"
             ],
             [
              0.4444444444444444,
              "#bd3786"
             ],
             [
              0.5555555555555556,
              "#d8576b"
             ],
             [
              0.6666666666666666,
              "#ed7953"
             ],
             [
              0.7777777777777778,
              "#fb9f3a"
             ],
             [
              0.8888888888888888,
              "#fdca26"
             ],
             [
              1,
              "#f0f921"
             ]
            ],
            "type": "heatmapgl"
           }
          ],
          "histogram": [
           {
            "marker": {
             "pattern": {
              "fillmode": "overlay",
              "size": 10,
              "solidity": 0.2
             }
            },
            "type": "histogram"
           }
          ],
          "histogram2d": [
           {
            "colorbar": {
             "outlinewidth": 0,
             "ticks": ""
            },
            "colorscale": [
             [
              0,
              "#0d0887"
             ],
             [
              0.1111111111111111,
              "#46039f"
             ],
             [
              0.2222222222222222,
              "#7201a8"
             ],
             [
              0.3333333333333333,
              "#9c179e"
             ],
             [
              0.4444444444444444,
              "#bd3786"
             ],
             [
              0.5555555555555556,
              "#d8576b"
             ],
             [
              0.6666666666666666,
              "#ed7953"
             ],
             [
              0.7777777777777778,
              "#fb9f3a"
             ],
             [
              0.8888888888888888,
              "#fdca26"
             ],
             [
              1,
              "#f0f921"
             ]
            ],
            "type": "histogram2d"
           }
          ],
          "histogram2dcontour": [
           {
            "colorbar": {
             "outlinewidth": 0,
             "ticks": ""
            },
            "colorscale": [
             [
              0,
              "#0d0887"
             ],
             [
              0.1111111111111111,
              "#46039f"
             ],
             [
              0.2222222222222222,
              "#7201a8"
             ],
             [
              0.3333333333333333,
              "#9c179e"
             ],
             [
              0.4444444444444444,
              "#bd3786"
             ],
             [
              0.5555555555555556,
              "#d8576b"
             ],
             [
              0.6666666666666666,
              "#ed7953"
             ],
             [
              0.7777777777777778,
              "#fb9f3a"
             ],
             [
              0.8888888888888888,
              "#fdca26"
             ],
             [
              1,
              "#f0f921"
             ]
            ],
            "type": "histogram2dcontour"
           }
          ],
          "mesh3d": [
           {
            "colorbar": {
             "outlinewidth": 0,
             "ticks": ""
            },
            "type": "mesh3d"
           }
          ],
          "parcoords": [
           {
            "line": {
             "colorbar": {
              "outlinewidth": 0,
              "ticks": ""
             }
            },
            "type": "parcoords"
           }
          ],
          "pie": [
           {
            "automargin": true,
            "type": "pie"
           }
          ],
          "scatter": [
           {
            "fillpattern": {
             "fillmode": "overlay",
             "size": 10,
             "solidity": 0.2
            },
            "type": "scatter"
           }
          ],
          "scatter3d": [
           {
            "line": {
             "colorbar": {
              "outlinewidth": 0,
              "ticks": ""
             }
            },
            "marker": {
             "colorbar": {
              "outlinewidth": 0,
              "ticks": ""
             }
            },
            "type": "scatter3d"
           }
          ],
          "scattercarpet": [
           {
            "marker": {
             "colorbar": {
              "outlinewidth": 0,
              "ticks": ""
             }
            },
            "type": "scattercarpet"
           }
          ],
          "scattergeo": [
           {
            "marker": {
             "colorbar": {
              "outlinewidth": 0,
              "ticks": ""
             }
            },
            "type": "scattergeo"
           }
          ],
          "scattergl": [
           {
            "marker": {
             "colorbar": {
              "outlinewidth": 0,
              "ticks": ""
             }
            },
            "type": "scattergl"
           }
          ],
          "scattermapbox": [
           {
            "marker": {
             "colorbar": {
              "outlinewidth": 0,
              "ticks": ""
             }
            },
            "type": "scattermapbox"
           }
          ],
          "scatterpolar": [
           {
            "marker": {
             "colorbar": {
              "outlinewidth": 0,
              "ticks": ""
             }
            },
            "type": "scatterpolar"
           }
          ],
          "scatterpolargl": [
           {
            "marker": {
             "colorbar": {
              "outlinewidth": 0,
              "ticks": ""
             }
            },
            "type": "scatterpolargl"
           }
          ],
          "scatterternary": [
           {
            "marker": {
             "colorbar": {
              "outlinewidth": 0,
              "ticks": ""
             }
            },
            "type": "scatterternary"
           }
          ],
          "surface": [
           {
            "colorbar": {
             "outlinewidth": 0,
             "ticks": ""
            },
            "colorscale": [
             [
              0,
              "#0d0887"
             ],
             [
              0.1111111111111111,
              "#46039f"
             ],
             [
              0.2222222222222222,
              "#7201a8"
             ],
             [
              0.3333333333333333,
              "#9c179e"
             ],
             [
              0.4444444444444444,
              "#bd3786"
             ],
             [
              0.5555555555555556,
              "#d8576b"
             ],
             [
              0.6666666666666666,
              "#ed7953"
             ],
             [
              0.7777777777777778,
              "#fb9f3a"
             ],
             [
              0.8888888888888888,
              "#fdca26"
             ],
             [
              1,
              "#f0f921"
             ]
            ],
            "type": "surface"
           }
          ],
          "table": [
           {
            "cells": {
             "fill": {
              "color": "#EBF0F8"
             },
             "line": {
              "color": "white"
             }
            },
            "header": {
             "fill": {
              "color": "#C8D4E3"
             },
             "line": {
              "color": "white"
             }
            },
            "type": "table"
           }
          ]
         },
         "layout": {
          "annotationdefaults": {
           "arrowcolor": "#2a3f5f",
           "arrowhead": 0,
           "arrowwidth": 1
          },
          "autotypenumbers": "strict",
          "coloraxis": {
           "colorbar": {
            "outlinewidth": 0,
            "ticks": ""
           }
          },
          "colorscale": {
           "diverging": [
            [
             0,
             "#8e0152"
            ],
            [
             0.1,
             "#c51b7d"
            ],
            [
             0.2,
             "#de77ae"
            ],
            [
             0.3,
             "#f1b6da"
            ],
            [
             0.4,
             "#fde0ef"
            ],
            [
             0.5,
             "#f7f7f7"
            ],
            [
             0.6,
             "#e6f5d0"
            ],
            [
             0.7,
             "#b8e186"
            ],
            [
             0.8,
             "#7fbc41"
            ],
            [
             0.9,
             "#4d9221"
            ],
            [
             1,
             "#276419"
            ]
           ],
           "sequential": [
            [
             0,
             "#0d0887"
            ],
            [
             0.1111111111111111,
             "#46039f"
            ],
            [
             0.2222222222222222,
             "#7201a8"
            ],
            [
             0.3333333333333333,
             "#9c179e"
            ],
            [
             0.4444444444444444,
             "#bd3786"
            ],
            [
             0.5555555555555556,
             "#d8576b"
            ],
            [
             0.6666666666666666,
             "#ed7953"
            ],
            [
             0.7777777777777778,
             "#fb9f3a"
            ],
            [
             0.8888888888888888,
             "#fdca26"
            ],
            [
             1,
             "#f0f921"
            ]
           ],
           "sequentialminus": [
            [
             0,
             "#0d0887"
            ],
            [
             0.1111111111111111,
             "#46039f"
            ],
            [
             0.2222222222222222,
             "#7201a8"
            ],
            [
             0.3333333333333333,
             "#9c179e"
            ],
            [
             0.4444444444444444,
             "#bd3786"
            ],
            [
             0.5555555555555556,
             "#d8576b"
            ],
            [
             0.6666666666666666,
             "#ed7953"
            ],
            [
             0.7777777777777778,
             "#fb9f3a"
            ],
            [
             0.8888888888888888,
             "#fdca26"
            ],
            [
             1,
             "#f0f921"
            ]
           ]
          },
          "colorway": [
           "#636efa",
           "#EF553B",
           "#00cc96",
           "#ab63fa",
           "#FFA15A",
           "#19d3f3",
           "#FF6692",
           "#B6E880",
           "#FF97FF",
           "#FECB52"
          ],
          "font": {
           "color": "#2a3f5f"
          },
          "geo": {
           "bgcolor": "white",
           "lakecolor": "white",
           "landcolor": "#E5ECF6",
           "showlakes": true,
           "showland": true,
           "subunitcolor": "white"
          },
          "hoverlabel": {
           "align": "left"
          },
          "hovermode": "closest",
          "mapbox": {
           "style": "light"
          },
          "paper_bgcolor": "white",
          "plot_bgcolor": "#E5ECF6",
          "polar": {
           "angularaxis": {
            "gridcolor": "white",
            "linecolor": "white",
            "ticks": ""
           },
           "bgcolor": "#E5ECF6",
           "radialaxis": {
            "gridcolor": "white",
            "linecolor": "white",
            "ticks": ""
           }
          },
          "scene": {
           "xaxis": {
            "backgroundcolor": "#E5ECF6",
            "gridcolor": "white",
            "gridwidth": 2,
            "linecolor": "white",
            "showbackground": true,
            "ticks": "",
            "zerolinecolor": "white"
           },
           "yaxis": {
            "backgroundcolor": "#E5ECF6",
            "gridcolor": "white",
            "gridwidth": 2,
            "linecolor": "white",
            "showbackground": true,
            "ticks": "",
            "zerolinecolor": "white"
           },
           "zaxis": {
            "backgroundcolor": "#E5ECF6",
            "gridcolor": "white",
            "gridwidth": 2,
            "linecolor": "white",
            "showbackground": true,
            "ticks": "",
            "zerolinecolor": "white"
           }
          },
          "shapedefaults": {
           "line": {
            "color": "#2a3f5f"
           }
          },
          "ternary": {
           "aaxis": {
            "gridcolor": "white",
            "linecolor": "white",
            "ticks": ""
           },
           "baxis": {
            "gridcolor": "white",
            "linecolor": "white",
            "ticks": ""
           },
           "bgcolor": "#E5ECF6",
           "caxis": {
            "gridcolor": "white",
            "linecolor": "white",
            "ticks": ""
           }
          },
          "title": {
           "x": 0.05
          },
          "xaxis": {
           "automargin": true,
           "gridcolor": "white",
           "linecolor": "white",
           "ticks": "",
           "title": {
            "standoff": 15
           },
           "zerolinecolor": "white",
           "zerolinewidth": 2
          },
          "yaxis": {
           "automargin": true,
           "gridcolor": "white",
           "linecolor": "white",
           "ticks": "",
           "title": {
            "standoff": 15
           },
           "zerolinecolor": "white",
           "zerolinewidth": 2
          }
         }
        },
        "xaxis": {
         "showgrid": false,
         "showticklabels": false,
         "zeroline": false
        },
        "yaxis": {
         "showgrid": false,
         "showticklabels": false,
         "zeroline": false
        }
       }
      }
     },
     "metadata": {},
     "output_type": "display_data"
    }
   ],
   "source": [
    "G, trip_counts = define_graph(filtered_df, remove_weak_edges=False, threshold=0.25)\n",
    "G = update_node_sizes(G, income, var_of_interest_2)\n",
    "positions = get_positions(gdf)\n",
    "edge_widths = set_art(G, 0.1)\n",
    "plotly_graph(G, positions, edge_widths, var_of_interest_2, node_size_scale=0.006)"
   ]
  },
  {
   "cell_type": "code",
   "execution_count": 7,
   "metadata": {},
   "outputs": [],
   "source": [
    "id_to_name = district_mapping.set_index('ID')['name_2'].to_dict()\n",
    "G = nx.relabel_nodes(G, id_to_name)"
   ]
  },
  {
   "cell_type": "code",
   "execution_count": 8,
   "metadata": {},
   "outputs": [],
   "source": [
    "# saving graph\n",
    "import pickle\n",
    "pickle.dump(G, open('graphs/march_22_home_origin.pickle', 'wb'))"
   ]
  },
  {
   "cell_type": "code",
   "execution_count": 8,
   "metadata": {},
   "outputs": [
    {
     "data": {
      "application/vnd.plotly.v1+json": {
       "config": {
        "plotlyServerURL": "https://plot.ly"
       },
       "data": [
        {
         "hoverinfo": "text",
         "line": {
          "color": "rgba(254.3529411764706, 234.94117647058823, 160.58823529411765, 1.0)",
          "width": 5.650250914348899
         },
         "mode": "lines",
         "showlegend": false,
         "text": "Width: 5.65",
         "type": "scatter",
         "x": [
          -3.705268804063821,
          -3.705268804063821,
          null
         ],
         "y": [
          40.41733007020507,
          40.41733007020507,
          null
         ]
        },
        {
         "hoverinfo": "text",
         "line": {
          "color": "rgba(230.07843137254906, 245.3529411764706, 236.82352941176467, 1.0)",
          "width": 4.21536106149528
         },
         "mode": "lines",
         "showlegend": false,
         "text": "Width: 4.22",
         "type": "scatter",
         "x": [
          -3.705268804063821,
          -3.6966151949203576,
          null
         ],
         "y": [
          40.41733007020507,
          40.398119933450886,
          null
         ]
        },
        {
         "hoverinfo": "text",
         "line": {
          "color": "rgba(156.98039215686276, 205.78431372549022, 226.88235294117646, 1.0)",
          "width": 2.7404950242408774
         },
         "mode": "lines",
         "showlegend": false,
         "text": "Width: 2.74",
         "type": "scatter",
         "x": [
          -3.705268804063821,
          -3.67643837848883,
          null
         ],
         "y": [
          40.41733007020507,
          40.41138084576659,
          null
         ]
        },
        {
         "hoverinfo": "text",
         "line": {
          "color": "rgba(194.90196078431376, 228.72549019607843, 239.76470588235296, 1.0)",
          "width": 3.443905758271668
         },
         "mode": "lines",
         "showlegend": false,
         "text": "Width: 3.44",
         "type": "scatter",
         "x": [
          -3.705268804063821,
          -3.6737887354917422,
          null
         ],
         "y": [
          40.41733007020507,
          40.43018370922185,
          null
         ]
        },
        {
         "hoverinfo": "text",
         "line": {
          "color": "rgba(99.41176470588236, 153.2352941176471, 198.76470588235296, 1.0)",
          "width": 1.6500808029259164
         },
         "mode": "lines",
         "showlegend": false,
         "text": "Width: 1.65",
         "type": "scatter",
         "x": [
          -3.705268804063821,
          -3.678150006537061,
          null
         ],
         "y": [
          40.41733007020507,
          40.45750039357669,
          null
         ]
        },
        {
         "hoverinfo": "text",
         "line": {
          "color": "rgba(80.98039215686276, 131.2745098039216, 187.3921568627451, 1.0)",
          "width": 1.2707323296759376
         },
         "mode": "lines",
         "showlegend": false,
         "text": "Width: 1.27",
         "type": "scatter",
         "x": [
          -3.705268804063821,
          -3.6999935507976827,
          null
         ],
         "y": [
          40.41733007020507,
          40.4606484776773,
          null
         ]
        },
        {
         "hoverinfo": "text",
         "line": {
          "color": "rgba(254.86274509803923, 250.74509803921566, 184.54901960784315, 1.0)",
          "width": 5.149272773666752
         },
         "mode": "lines",
         "showlegend": false,
         "text": "Width: 5.15",
         "type": "scatter",
         "x": [
          -3.705268804063821,
          -3.703523951395161,
          null
         ],
         "y": [
          40.41733007020507,
          40.4375595509298,
          null
         ]
        },
        {
         "hoverinfo": "text",
         "line": {
          "color": "rgba(108.62745098039218, 164.21568627450984, 204.45098039215688, 1.0)",
          "width": 1.8712256528025855
         },
         "mode": "lines",
         "showlegend": false,
         "text": "Width: 1.87",
         "type": "scatter",
         "x": [
          -3.705268804063821,
          -3.753579560856663,
          null
         ],
         "y": [
          40.41733007020507,
          40.54479435831404,
          null
         ]
        },
        {
         "hoverinfo": "text",
         "line": {
          "color": "rgba(226.43137254901964, 243.94117647058823, 243.52941176470583, 1.0)",
          "width": 4.080122480224547
         },
         "mode": "lines",
         "showlegend": false,
         "text": "Width: 4.08",
         "type": "scatter",
         "x": [
          -3.705268804063821,
          -3.757223268157654,
          null
         ],
         "y": [
          40.41733007020507,
          40.44543508494524,
          null
         ]
        },
        {
         "hoverinfo": "text",
         "line": {
          "color": "rgba(167.76470588235296, 214.41176470588235, 231.58823529411765, 1.0)",
          "width": 2.94037594624479
         },
         "mode": "lines",
         "showlegend": false,
         "text": "Width: 2.94",
         "type": "scatter",
         "x": [
          -3.705268804063821,
          -3.778616540618283,
          null
         ],
         "y": [
          40.41733007020507,
          40.385273701511004,
          null
         ]
        },
        {
         "hoverinfo": "text",
         "line": {
          "color": "rgba(133.2549019607843, 186.8039215686275, 216.52941176470588, 1.0)",
          "width": 2.317768138130475
         },
         "mode": "lines",
         "showlegend": false,
         "text": "Width: 2.32",
         "type": "scatter",
         "x": [
          -3.705268804063821,
          -3.737112400757822,
          null
         ],
         "y": [
          40.41733007020507,
          40.378840354576816,
          null
         ]
        },
        {
         "hoverinfo": "text",
         "line": {
          "color": "rgba(84.66666666666667, 135.66666666666669, 189.66666666666669, 1.0)",
          "width": 1.3345241132942076
         },
         "mode": "lines",
         "showlegend": false,
         "text": "Width: 1.33",
         "type": "scatter",
         "x": [
          -3.705268804063821,
          -3.7029808755455926,
          null
         ],
         "y": [
          40.41733007020507,
          40.37595000318738,
          null
         ]
        },
        {
         "hoverinfo": "text",
         "line": {
          "color": "rgba(66.25490196078432, 108.35294117647061, 175.74509803921572, 1.0)",
          "width": 0.8692693714382921
         },
         "mode": "lines",
         "showlegend": false,
         "text": "Width: 0.87",
         "type": "scatter",
         "x": [
          -3.705268804063821,
          -3.6598634715735407,
          null
         ],
         "y": [
          40.41733007020507,
          40.38355078734683,
          null
         ]
        },
        {
         "hoverinfo": "text",
         "line": {
          "color": "rgba(54.490196078431374, 71.29411764705883, 157.50980392156865, 1.0)",
          "width": 0.5
         },
         "mode": "lines",
         "showlegend": false,
         "text": "Width: 0.50",
         "type": "scatter",
         "x": [
          -3.705268804063821,
          -3.6413909394895803,
          null
         ],
         "y": [
          40.41733007020507,
          40.40661270611631,
          null
         ]
        },
        {
         "hoverinfo": "text",
         "line": {
          "color": "rgba(67.8235294117647, 113.29411764705883, 178.1764705882353, 1.0)",
          "width": 0.9704856681126137
         },
         "mode": "lines",
         "showlegend": false,
         "text": "Width: 0.97",
         "type": "scatter",
         "x": [
          -3.705268804063821,
          -3.649948514601449,
          null
         ],
         "y": [
          40.41733007020507,
          40.43926990707227,
          null
         ]
        },
        {
         "hoverinfo": "text",
         "line": {
          "color": "rgba(71.76470588235294, 120.29411764705884, 181.7058823529412, 1.0)",
          "width": 1.0546908224887301
         },
         "mode": "lines",
         "showlegend": false,
         "text": "Width: 1.05",
         "type": "scatter",
         "x": [
          -3.705268804063821,
          -3.637741035389707,
          null
         ],
         "y": [
          40.41733007020507,
          40.48201214532898,
          null
         ]
        },
        {
         "hoverinfo": "text",
         "line": {
          "color": "rgba(64.68627450980392, 103.41176470588235, 173.3137254901961, 1.0)",
          "width": 0.8122820447393042
         },
         "mode": "lines",
         "showlegend": false,
         "text": "Width: 0.81",
         "type": "scatter",
         "x": [
          -3.705268804063821,
          -3.695056256825152,
          null
         ],
         "y": [
          40.41733007020507,
          40.34253624126977,
          null
         ]
        },
        {
         "hoverinfo": "text",
         "line": {
          "color": "rgba(62.333333333333336, 96.0, 169.66666666666669, 1.0)",
          "width": 0.674491792123841
         },
         "mode": "lines",
         "showlegend": false,
         "text": "Width: 0.67",
         "type": "scatter",
         "x": [
          -3.705268804063821,
          -3.6160073912284756,
          null
         ],
         "y": [
          40.41733007020507,
          40.34992967757026,
          null
         ]
        },
        {
         "hoverinfo": "text",
         "line": {
          "color": "rgba(56.84313725490196, 78.70588235294117, 161.15686274509807, 1.0)",
          "width": 0.5
         },
         "mode": "lines",
         "showlegend": false,
         "text": "Width: 0.50",
         "type": "scatter",
         "x": [
          -3.705268804063821,
          -3.572894771748725,
          null
         ],
         "y": [
          40.41733007020507,
          40.39356859265691,
          null
         ]
        },
        {
         "hoverinfo": "text",
         "line": {
          "color": "rgba(68.6078431372549, 115.76470588235296, 179.3921568627451, 1.0)",
          "width": 0.978140682146806
         },
         "mode": "lines",
         "showlegend": false,
         "text": "Width: 0.98",
         "type": "scatter",
         "x": [
          -3.705268804063821,
          -3.5986526886701378,
          null
         ],
         "y": [
          40.41733007020507,
          40.43466852782298,
          null
         ]
        },
        {
         "hoverinfo": "text",
         "line": {
          "color": "rgba(62.333333333333336, 96.0, 169.66666666666669, 1.0)",
          "width": 0.693204048651867
         },
         "mode": "lines",
         "showlegend": false,
         "text": "Width: 0.69",
         "type": "scatter",
         "x": [
          -3.705268804063821,
          -3.574543479322823,
          null
         ],
         "y": [
          40.41733007020507,
          40.4757410696608,
          null
         ]
        },
        {
         "hoverinfo": "text",
         "line": {
          "color": "rgba(254.4313725490196, 237.37254901960785, 164.27450980392155, 1.0)",
          "width": 5.560942417283321
         },
         "mode": "lines",
         "showlegend": false,
         "text": "Width: 5.56",
         "type": "scatter",
         "x": [
          -3.6966151949203576,
          -3.705268804063821,
          null
         ],
         "y": [
          40.398119933450886,
          40.41733007020507,
          null
         ]
        },
        {
         "hoverinfo": "text",
         "line": {
          "color": "rgba(254.62745098039215, 243.45098039215685, 173.49019607843138, 1.0)",
          "width": 5.355958152589946
         },
         "mode": "lines",
         "showlegend": false,
         "text": "Width: 5.36",
         "type": "scatter",
         "x": [
          -3.6966151949203576,
          -3.6966151949203576,
          null
         ],
         "y": [
          40.398119933450886,
          40.398119933450886,
          null
         ]
        },
        {
         "hoverinfo": "text",
         "line": {
          "color": "rgba(199.0588235294118, 230.76470588235296, 240.94117647058823, 1.0)",
          "width": 3.537467040911797
         },
         "mode": "lines",
         "showlegend": false,
         "text": "Width: 3.54",
         "type": "scatter",
         "x": [
          -3.6966151949203576,
          -3.67643837848883,
          null
         ],
         "y": [
          40.398119933450886,
          40.41138084576659,
          null
         ]
        },
        {
         "hoverinfo": "text",
         "line": {
          "color": "rgba(110.47058823529414, 166.41176470588238, 205.58823529411765, 1.0)",
          "width": 1.8763289954920472
         },
         "mode": "lines",
         "showlegend": false,
         "text": "Width: 1.88",
         "type": "scatter",
         "x": [
          -3.6966151949203576,
          -3.6737887354917422,
          null
         ],
         "y": [
          40.398119933450886,
          40.43018370922185,
          null
         ]
        },
        {
         "hoverinfo": "text",
         "line": {
          "color": "rgba(90.19607843137256, 142.2549019607843, 193.07843137254903, 1.0)",
          "width": 1.4808199370587734
         },
         "mode": "lines",
         "showlegend": false,
         "text": "Width: 1.48",
         "type": "scatter",
         "x": [
          -3.6966151949203576,
          -3.678150006537061,
          null
         ],
         "y": [
          40.398119933450886,
          40.45750039357669,
          null
         ]
        },
        {
         "hoverinfo": "text",
         "line": {
          "color": "rgba(69.921568627451, 118.09803921568628, 180.56862745098042, 1.0)",
          "width": 1.05384026537382
         },
         "mode": "lines",
         "showlegend": false,
         "text": "Width: 1.05",
         "type": "scatter",
         "x": [
          -3.6966151949203576,
          -3.6999935507976827,
          null
         ],
         "y": [
          40.398119933450886,
          40.4606484776773,
          null
         ]
        },
        {
         "hoverinfo": "text",
         "line": {
          "color": "rgba(110.47058823529414, 166.41176470588238, 205.58823529411765, 1.0)",
          "width": 1.9086501658586374
         },
         "mode": "lines",
         "showlegend": false,
         "text": "Width: 1.91",
         "type": "scatter",
         "x": [
          -3.6966151949203576,
          -3.703523951395161,
          null
         ],
         "y": [
          40.398119933450886,
          40.4375595509298,
          null
         ]
        },
        {
         "hoverinfo": "text",
         "line": {
          "color": "rgba(97.5686274509804, 151.03921568627453, 197.62745098039218, 1.0)",
          "width": 1.6177596325593262
         },
         "mode": "lines",
         "showlegend": false,
         "text": "Width: 1.62",
         "type": "scatter",
         "x": [
          -3.6966151949203576,
          -3.753579560856663,
          null
         ],
         "y": [
          40.398119933450886,
          40.54479435831404,
          null
         ]
        },
        {
         "hoverinfo": "text",
         "line": {
          "color": "rgba(131.0980392156863, 185.07843137254903, 215.58823529411765, 1.0)",
          "width": 2.2769413966147827
         },
         "mode": "lines",
         "showlegend": false,
         "text": "Width: 2.28",
         "type": "scatter",
         "x": [
          -3.6966151949203576,
          -3.757223268157654,
          null
         ],
         "y": [
          40.398119933450886,
          40.44543508494524,
          null
         ]
        },
        {
         "hoverinfo": "text",
         "line": {
          "color": "rgba(131.0980392156863, 185.07843137254903, 215.58823529411765, 1.0)",
          "width": 2.2701369396955005
         },
         "mode": "lines",
         "showlegend": false,
         "text": "Width: 2.27",
         "type": "scatter",
         "x": [
          -3.6966151949203576,
          -3.778616540618283,
          null
         ],
         "y": [
          40.398119933450886,
          40.385273701511004,
          null
         ]
        },
        {
         "hoverinfo": "text",
         "line": {
          "color": "rgba(236.15686274509804, 247.7058823529412, 225.64705882352936, 1.0)",
          "width": 4.393978055626435
         },
         "mode": "lines",
         "showlegend": false,
         "text": "Width: 4.39",
         "type": "scatter",
         "x": [
          -3.6966151949203576,
          -3.737112400757822,
          null
         ],
         "y": [
          40.398119933450886,
          40.378840354576816,
          null
         ]
        },
        {
         "hoverinfo": "text",
         "line": {
          "color": "rgba(239.80392156862746, 249.11764705882354, 218.9411764705882, 1.0)",
          "width": 4.495194352300757
         },
         "mode": "lines",
         "showlegend": false,
         "text": "Width: 4.50",
         "type": "scatter",
         "x": [
          -3.6966151949203576,
          -3.7029808755455926,
          null
         ],
         "y": [
          40.398119933450886,
          40.37595000318738,
          null
         ]
        },
        {
         "hoverinfo": "text",
         "line": {
          "color": "rgba(114.15686274509805, 170.8039215686275, 207.86274509803923, 1.0)",
          "width": 1.9537296929488814
         },
         "mode": "lines",
         "showlegend": false,
         "text": "Width: 1.95",
         "type": "scatter",
         "x": [
          -3.6966151949203576,
          -3.6598634715735407,
          null
         ],
         "y": [
          40.398119933450886,
          40.38355078734683,
          null
         ]
        },
        {
         "hoverinfo": "text",
         "line": {
          "color": "rgba(54.490196078431374, 71.29411764705883, 157.50980392156865, 1.0)",
          "width": 0.5
         },
         "mode": "lines",
         "showlegend": false,
         "text": "Width: 0.50",
         "type": "scatter",
         "x": [
          -3.6966151949203576,
          -3.6413909394895803,
          null
         ],
         "y": [
          40.398119933450886,
          40.40661270611631,
          null
         ]
        },
        {
         "hoverinfo": "text",
         "line": {
          "color": "rgba(66.25490196078432, 108.35294117647061, 175.74509803921572, 1.0)",
          "width": 0.8828782852768563
         },
         "mode": "lines",
         "showlegend": false,
         "text": "Width: 0.88",
         "type": "scatter",
         "x": [
          -3.6966151949203576,
          -3.649948514601449,
          null
         ],
         "y": [
          40.398119933450886,
          40.43926990707227,
          null
         ]
        },
        {
         "hoverinfo": "text",
         "line": {
          "color": "rgba(84.66666666666667, 135.66666666666669, 189.66666666666669, 1.0)",
          "width": 1.3438802415582207
         },
         "mode": "lines",
         "showlegend": false,
         "text": "Width: 1.34",
         "type": "scatter",
         "x": [
          -3.6966151949203576,
          -3.637741035389707,
          null
         ],
         "y": [
          40.398119933450886,
          40.48201214532898,
          null
         ]
        },
        {
         "hoverinfo": "text",
         "line": {
          "color": "rgba(67.8235294117647, 113.29411764705883, 178.1764705882353, 1.0)",
          "width": 0.95857786850387
         },
         "mode": "lines",
         "showlegend": false,
         "text": "Width: 0.96",
         "type": "scatter",
         "x": [
          -3.6966151949203576,
          -3.695056256825152,
          null
         ],
         "y": [
          40.398119933450886,
          40.34253624126977,
          null
         ]
        },
        {
         "hoverinfo": "text",
         "line": {
          "color": "rgba(67.03921568627452, 110.82352941176472, 176.9607843137255, 1.0)",
          "width": 0.9160500127583567
         },
         "mode": "lines",
         "showlegend": false,
         "text": "Width: 0.92",
         "type": "scatter",
         "x": [
          -3.6966151949203576,
          -3.6160073912284756,
          null
         ],
         "y": [
          40.398119933450886,
          40.34992967757026,
          null
         ]
        },
        {
         "hoverinfo": "text",
         "line": {
          "color": "rgba(57.62745098039216, 81.17647058823529, 162.37254901960785, 1.0)",
          "width": 0.5
         },
         "mode": "lines",
         "showlegend": false,
         "text": "Width: 0.50",
         "type": "scatter",
         "x": [
          -3.6966151949203576,
          -3.572894771748725,
          null
         ],
         "y": [
          40.398119933450886,
          40.39356859265691,
          null
         ]
        },
        {
         "hoverinfo": "text",
         "line": {
          "color": "rgba(67.03921568627452, 110.82352941176472, 176.9607843137255, 1.0)",
          "width": 0.9347622692863825
         },
         "mode": "lines",
         "showlegend": false,
         "text": "Width: 0.93",
         "type": "scatter",
         "x": [
          -3.6966151949203576,
          -3.5986526886701378,
          null
         ],
         "y": [
          40.398119933450886,
          40.43466852782298,
          null
         ]
        },
        {
         "hoverinfo": "text",
         "line": {
          "color": "rgba(62.333333333333336, 96.0, 169.66666666666669, 1.0)",
          "width": 0.6770434634685719
         },
         "mode": "lines",
         "showlegend": false,
         "text": "Width: 0.68",
         "type": "scatter",
         "x": [
          -3.6966151949203576,
          -3.574543479322823,
          null
         ],
         "y": [
          40.398119933450886,
          40.4757410696608,
          null
         ]
        },
        {
         "hoverinfo": "text",
         "line": {
          "color": "rgba(203.21568627450984, 232.80392156862746, 242.11764705882354, 1.0)",
          "width": 3.625924980862465
         },
         "mode": "lines",
         "showlegend": false,
         "text": "Width: 3.63",
         "type": "scatter",
         "x": [
          -3.67643837848883,
          -3.705268804063821,
          null
         ],
         "y": [
          40.41138084576659,
          40.41733007020507,
          null
         ]
        },
        {
         "hoverinfo": "text",
         "line": {
          "color": "rgba(184.50980392156865, 223.62745098039218, 236.82352941176472, 1.0)",
          "width": 3.274644892404525
         },
         "mode": "lines",
         "showlegend": false,
         "text": "Width: 3.27",
         "type": "scatter",
         "x": [
          -3.67643837848883,
          -3.6966151949203576,
          null
         ],
         "y": [
          40.41138084576659,
          40.398119933450886,
          null
         ]
        },
        {
         "hoverinfo": "text",
         "line": {
          "color": "rgba(254.8235294117647, 249.5294117647059, 182.70588235294122, 1.0)",
          "width": 5.169686144424597
         },
         "mode": "lines",
         "showlegend": false,
         "text": "Width: 5.17",
         "type": "scatter",
         "x": [
          -3.67643837848883,
          -3.67643837848883,
          null
         ],
         "y": [
          40.41138084576659,
          40.41138084576659,
          null
         ]
        },
        {
         "hoverinfo": "text",
         "line": {
          "color": "rgba(238.58823529411765, 248.6470588235294, 221.1764705882353, 1.0)",
          "width": 4.462022624819257
         },
         "mode": "lines",
         "showlegend": false,
         "text": "Width: 4.46",
         "type": "scatter",
         "x": [
          -3.67643837848883,
          -3.6737887354917422,
          null
         ],
         "y": [
          40.41138084576659,
          40.43018370922185,
          null
         ]
        },
        {
         "hoverinfo": "text",
         "line": {
          "color": "rgba(80.98039215686276, 131.2745098039216, 187.3921568627451, 1.0)",
          "width": 1.2545717444926425
         },
         "mode": "lines",
         "showlegend": false,
         "text": "Width: 1.25",
         "type": "scatter",
         "x": [
          -3.67643837848883,
          -3.678150006537061,
          null
         ],
         "y": [
          40.41138084576659,
          40.45750039357669,
          null
         ]
        },
        {
         "hoverinfo": "text",
         "line": {
          "color": "rgba(67.03921568627452, 110.82352941176472, 176.9607843137255, 1.0)",
          "width": 0.9313600408267415
         },
         "mode": "lines",
         "showlegend": false,
         "text": "Width: 0.93",
         "type": "scatter",
         "x": [
          -3.67643837848883,
          -3.6999935507976827,
          null
         ],
         "y": [
          40.41138084576659,
          40.4606484776773,
          null
         ]
        },
        {
         "hoverinfo": "text",
         "line": {
          "color": "rgba(104.94117647058823, 159.82352941176472, 202.17647058823528, 1.0)",
          "width": 1.7785149272773666
         },
         "mode": "lines",
         "showlegend": false,
         "text": "Width: 1.78",
         "type": "scatter",
         "x": [
          -3.67643837848883,
          -3.703523951395161,
          null
         ],
         "y": [
          40.41138084576659,
          40.4375595509298,
          null
         ]
        },
        {
         "hoverinfo": "text",
         "line": {
          "color": "rgba(80.98039215686276, 131.2745098039216, 187.3921568627451, 1.0)",
          "width": 1.2741345581355785
         },
         "mode": "lines",
         "showlegend": false,
         "text": "Width: 1.27",
         "type": "scatter",
         "x": [
          -3.67643837848883,
          -3.753579560856663,
          null
         ],
         "y": [
          40.41138084576659,
          40.54479435831404,
          null
         ]
        },
        {
         "hoverinfo": "text",
         "line": {
          "color": "rgba(67.8235294117647, 113.29411764705883, 178.1764705882353, 1.0)",
          "width": 0.9764395679169855
         },
         "mode": "lines",
         "showlegend": false,
         "text": "Width: 0.98",
         "type": "scatter",
         "x": [
          -3.67643837848883,
          -3.757223268157654,
          null
         ],
         "y": [
          40.41138084576659,
          40.44543508494524,
          null
         ]
        },
        {
         "hoverinfo": "text",
         "line": {
          "color": "rgba(57.62745098039216, 81.17647058823529, 162.37254901960785, 1.0)",
          "width": 0.5
         },
         "mode": "lines",
         "showlegend": false,
         "text": "Width: 0.50",
         "type": "scatter",
         "x": [
          -3.67643837848883,
          -3.778616540618283,
          null
         ],
         "y": [
          40.41138084576659,
          40.385273701511004,
          null
         ]
        },
        {
         "hoverinfo": "text",
         "line": {
          "color": "rgba(63.90196078431372, 100.94117647058825, 172.0980392156863, 1.0)",
          "width": 0.7663519605341498
         },
         "mode": "lines",
         "showlegend": false,
         "text": "Width: 0.77",
         "type": "scatter",
         "x": [
          -3.67643837848883,
          -3.737112400757822,
          null
         ],
         "y": [
          40.41138084576659,
          40.378840354576816,
          null
         ]
        },
        {
         "hoverinfo": "text",
         "line": {
          "color": "rgba(62.333333333333336, 96.0, 169.66666666666669, 1.0)",
          "width": 0.693204048651867
         },
         "mode": "lines",
         "showlegend": false,
         "text": "Width: 0.69",
         "type": "scatter",
         "x": [
          -3.67643837848883,
          -3.7029808755455926,
          null
         ],
         "y": [
          40.41138084576659,
          40.37595000318738,
          null
         ]
        },
        {
         "hoverinfo": "text",
         "line": {
          "color": "rgba(248.31372549019608, 252.41176470588232, 203.29411764705884, 1.0)",
          "width": 4.787785999829889
         },
         "mode": "lines",
         "showlegend": false,
         "text": "Width: 4.79",
         "type": "scatter",
         "x": [
          -3.67643837848883,
          -3.6598634715735407,
          null
         ],
         "y": [
          40.41138084576659,
          40.38355078734683,
          null
         ]
        },
        {
         "hoverinfo": "text",
         "line": {
          "color": "rgba(196.98039215686276, 229.7450980392157, 240.35294117647058, 1.0)",
          "width": 3.51450199880922
         },
         "mode": "lines",
         "showlegend": false,
         "text": "Width: 3.51",
         "type": "scatter",
         "x": [
          -3.67643837848883,
          -3.6413909394895803,
          null
         ],
         "y": [
          40.41138084576659,
          40.40661270611631,
          null
         ]
        },
        {
         "hoverinfo": "text",
         "line": {
          "color": "rgba(106.78431372549022, 162.0196078431373, 203.31372549019608, 1.0)",
          "width": 1.798928298035213
         },
         "mode": "lines",
         "showlegend": false,
         "text": "Width: 1.80",
         "type": "scatter",
         "x": [
          -3.67643837848883,
          -3.649948514601449,
          null
         ],
         "y": [
          40.41138084576659,
          40.43926990707227,
          null
         ]
        },
        {
         "hoverinfo": "text",
         "line": {
          "color": "rgba(67.8235294117647, 113.29411764705883, 178.1764705882353, 1.0)",
          "width": 0.95857786850387
         },
         "mode": "lines",
         "showlegend": false,
         "text": "Width: 0.96",
         "type": "scatter",
         "x": [
          -3.67643837848883,
          -3.637741035389707,
          null
         ],
         "y": [
          40.41138084576659,
          40.48201214532898,
          null
         ]
        },
        {
         "hoverinfo": "text",
         "line": {
          "color": "rgba(59.196078431372555, 86.11764705882355, 164.8039215686275, 1.0)",
          "width": 0.514587054520711
         },
         "mode": "lines",
         "showlegend": false,
         "text": "Width: 0.51",
         "type": "scatter",
         "x": [
          -3.67643837848883,
          -3.695056256825152,
          null
         ],
         "y": [
          40.41138084576659,
          40.34253624126977,
          null
         ]
        },
        {
         "hoverinfo": "text",
         "line": {
          "color": "rgba(61.54901960784314, 93.5294117647059, 168.45098039215688, 1.0)",
          "width": 0.6583312069405459
         },
         "mode": "lines",
         "showlegend": false,
         "text": "Width: 0.66",
         "type": "scatter",
         "x": [
          -3.67643837848883,
          -3.6160073912284756,
          null
         ],
         "y": [
          40.41138084576659,
          40.34992967757026,
          null
         ]
        },
        {
         "hoverinfo": "text",
         "line": {
          "color": "rgba(57.62745098039216, 81.17647058823529, 162.37254901960785, 1.0)",
          "width": 0.5
         },
         "mode": "lines",
         "showlegend": false,
         "text": "Width: 0.50",
         "type": "scatter",
         "x": [
          -3.67643837848883,
          -3.572894771748725,
          null
         ],
         "y": [
          40.41138084576659,
          40.39356859265691,
          null
         ]
        },
        {
         "hoverinfo": "text",
         "line": {
          "color": "rgba(64.68627450980392, 103.41176470588235, 173.3137254901961, 1.0)",
          "width": 0.8029259164752913
         },
         "mode": "lines",
         "showlegend": false,
         "text": "Width: 0.80",
         "type": "scatter",
         "x": [
          -3.67643837848883,
          -3.5986526886701378,
          null
         ],
         "y": [
          40.41138084576659,
          40.43466852782298,
          null
         ]
        },
        {
         "hoverinfo": "text",
         "line": {
          "color": "rgba(62.333333333333336, 96.0, 169.66666666666669, 1.0)",
          "width": 0.6787445776983925
         },
         "mode": "lines",
         "showlegend": false,
         "text": "Width: 0.68",
         "type": "scatter",
         "x": [
          -3.67643837848883,
          -3.574543479322823,
          null
         ],
         "y": [
          40.41138084576659,
          40.4757410696608,
          null
         ]
        },
        {
         "hoverinfo": "text",
         "line": {
          "color": "rgba(133.2549019607843, 186.8039215686275, 216.52941176470588, 1.0)",
          "width": 2.329675937739219
         },
         "mode": "lines",
         "showlegend": false,
         "text": "Width: 2.33",
         "type": "scatter",
         "x": [
          -3.6737887354917422,
          -3.705268804063821,
          null
         ],
         "y": [
          40.43018370922185,
          40.41733007020507,
          null
         ]
        },
        {
         "hoverinfo": "text",
         "line": {
          "color": "rgba(62.333333333333336, 96.0, 169.66666666666669, 1.0)",
          "width": 0.6923534915369567
         },
         "mode": "lines",
         "showlegend": false,
         "text": "Width: 0.69",
         "type": "scatter",
         "x": [
          -3.6737887354917422,
          -3.6966151949203576,
          null
         ],
         "y": [
          40.43018370922185,
          40.398119933450886,
          null
         ]
        },
        {
         "hoverinfo": "text",
         "line": {
          "color": "rgba(199.0588235294118, 230.76470588235296, 240.94117647058823, 1.0)",
          "width": 3.5204558986135916
         },
         "mode": "lines",
         "showlegend": false,
         "text": "Width: 3.52",
         "type": "scatter",
         "x": [
          -3.6737887354917422,
          -3.67643837848883,
          null
         ],
         "y": [
          40.43018370922185,
          40.41138084576659,
          null
         ]
        },
        {
         "hoverinfo": "text",
         "line": {
          "color": "rgba(254.3529411764706, 234.94117647058823, 160.58823529411765, 1.0)",
          "width": 5.634090329165603
         },
         "mode": "lines",
         "showlegend": false,
         "text": "Width: 5.63",
         "type": "scatter",
         "x": [
          -3.6737887354917422,
          -3.6737887354917422,
          null
         ],
         "y": [
          40.43018370922185,
          40.43018370922185,
          null
         ]
        },
        {
         "hoverinfo": "text",
         "line": {
          "color": "rgba(247.09803921568627, 251.94117647058823, 205.52941176470588, 1.0)",
          "width": 4.758016500808029
         },
         "mode": "lines",
         "showlegend": false,
         "text": "Width: 4.76",
         "type": "scatter",
         "x": [
          -3.6737887354917422,
          -3.678150006537061,
          null
         ],
         "y": [
          40.43018370922185,
          40.45750039357669,
          null
         ]
        },
        {
         "hoverinfo": "text",
         "line": {
          "color": "rgba(75.45098039215688, 124.68627450980394, 183.98039215686276, 1.0)",
          "width": 1.1576082333928723
         },
         "mode": "lines",
         "showlegend": false,
         "text": "Width: 1.16",
         "type": "scatter",
         "x": [
          -3.6737887354917422,
          -3.6999935507976827,
          null
         ],
         "y": [
          40.43018370922185,
          40.4606484776773,
          null
         ]
        },
        {
         "hoverinfo": "text",
         "line": {
          "color": "rgba(196.98039215686276, 229.7450980392157, 240.35294117647058, 1.0)",
          "width": 3.4821808284426297
         },
         "mode": "lines",
         "showlegend": false,
         "text": "Width: 3.48",
         "type": "scatter",
         "x": [
          -3.6737887354917422,
          -3.703523951395161,
          null
         ],
         "y": [
          40.43018370922185,
          40.4375595509298,
          null
         ]
        },
        {
         "hoverinfo": "text",
         "line": {
          "color": "rgba(93.88235294117649, 146.64705882352945, 195.3529411764706, 1.0)",
          "width": 1.5258994641490176
         },
         "mode": "lines",
         "showlegend": false,
         "text": "Width: 1.53",
         "type": "scatter",
         "x": [
          -3.6737887354917422,
          -3.753579560856663,
          null
         ],
         "y": [
          40.43018370922185,
          40.54479435831404,
          null
         ]
        },
        {
         "hoverinfo": "text",
         "line": {
          "color": "rgba(79.13725490196079, 129.07843137254903, 186.25490196078434, 1.0)",
          "width": 1.2248022454707834
         },
         "mode": "lines",
         "showlegend": false,
         "text": "Width: 1.22",
         "type": "scatter",
         "x": [
          -3.6737887354917422,
          -3.757223268157654,
          null
         ],
         "y": [
          40.43018370922185,
          40.44543508494524,
          null
         ]
        },
        {
         "hoverinfo": "text",
         "line": {
          "color": "rgba(59.196078431372555, 86.11764705882355, 164.8039215686275, 1.0)",
          "width": 0.5315981968189163
         },
         "mode": "lines",
         "showlegend": false,
         "text": "Width: 0.53",
         "type": "scatter",
         "x": [
          -3.6737887354917422,
          -3.778616540618283,
          null
         ],
         "y": [
          40.43018370922185,
          40.385273701511004,
          null
         ]
        },
        {
         "hoverinfo": "text",
         "line": {
          "color": "rgba(61.54901960784314, 93.5294117647059, 168.45098039215688, 1.0)",
          "width": 0.6285617079186867
         },
         "mode": "lines",
         "showlegend": false,
         "text": "Width: 0.63",
         "type": "scatter",
         "x": [
          -3.6737887354917422,
          -3.737112400757822,
          null
         ],
         "y": [
          40.43018370922185,
          40.378840354576816,
          null
         ]
        },
        {
         "hoverinfo": "text",
         "line": {
          "color": "rgba(57.62745098039216, 81.17647058823529, 162.37254901960785, 1.0)",
          "width": 0.5
         },
         "mode": "lines",
         "showlegend": false,
         "text": "Width: 0.50",
         "type": "scatter",
         "x": [
          -3.6737887354917422,
          -3.7029808755455926,
          null
         ],
         "y": [
          40.43018370922185,
          40.37595000318738,
          null
         ]
        },
        {
         "hoverinfo": "text",
         "line": {
          "color": "rgba(65.47058823529412, 105.88235294117648, 174.52941176470588, 1.0)",
          "width": 0.8343965297269712
         },
         "mode": "lines",
         "showlegend": false,
         "text": "Width: 0.83",
         "type": "scatter",
         "x": [
          -3.6737887354917422,
          -3.6598634715735407,
          null
         ],
         "y": [
          40.43018370922185,
          40.38355078734683,
          null
         ]
        },
        {
         "hoverinfo": "text",
         "line": {
          "color": "rgba(116.00000000000003, 173.00000000000003, 209.0, 1.0)",
          "width": 2.01411924810751
         },
         "mode": "lines",
         "showlegend": false,
         "text": "Width: 2.01",
         "type": "scatter",
         "x": [
          -3.6737887354917422,
          -3.6413909394895803,
          null
         ],
         "y": [
          40.43018370922185,
          40.40661270611631,
          null
         ]
        },
        {
         "hoverinfo": "text",
         "line": {
          "color": "rgba(254.94117647058823, 253.1764705882353, 188.23529411764707, 1.0)",
          "width": 5.067619290635365
         },
         "mode": "lines",
         "showlegend": false,
         "text": "Width: 5.07",
         "type": "scatter",
         "x": [
          -3.6737887354917422,
          -3.649948514601449,
          null
         ],
         "y": [
          40.43018370922185,
          40.43926990707227,
          null
         ]
        },
        {
         "hoverinfo": "text",
         "line": {
          "color": "rgba(75.45098039215688, 124.68627450980394, 183.98039215686276, 1.0)",
          "width": 1.1516543335885003
         },
         "mode": "lines",
         "showlegend": false,
         "text": "Width: 1.15",
         "type": "scatter",
         "x": [
          -3.6737887354917422,
          -3.637741035389707,
          null
         ],
         "y": [
          40.43018370922185,
          40.48201214532898,
          null
         ]
        },
        {
         "hoverinfo": "text",
         "line": {
          "color": "rgba(57.62745098039216, 81.17647058823529, 162.37254901960785, 1.0)",
          "width": 0.5
         },
         "mode": "lines",
         "showlegend": false,
         "text": "Width: 0.50",
         "type": "scatter",
         "x": [
          -3.6737887354917422,
          -3.695056256825152,
          null
         ],
         "y": [
          40.43018370922185,
          40.34253624126977,
          null
         ]
        },
        {
         "hoverinfo": "text",
         "line": {
          "color": "rgba(60.76470588235294, 91.05882352941177, 167.23529411764707, 1.0)",
          "width": 0.594539423322276
         },
         "mode": "lines",
         "showlegend": false,
         "text": "Width: 0.59",
         "type": "scatter",
         "x": [
          -3.6737887354917422,
          -3.6160073912284756,
          null
         ],
         "y": [
          40.43018370922185,
          40.34992967757026,
          null
         ]
        },
        {
         "hoverinfo": "text",
         "line": {
          "color": "rgba(56.84313725490196, 78.70588235294117, 161.15686274509807, 1.0)",
          "width": 0.5
         },
         "mode": "lines",
         "showlegend": false,
         "text": "Width: 0.50",
         "type": "scatter",
         "x": [
          -3.6737887354917422,
          -3.572894771748725,
          null
         ],
         "y": [
          40.43018370922185,
          40.39356859265691,
          null
         ]
        },
        {
         "hoverinfo": "text",
         "line": {
          "color": "rgba(80.98039215686276, 131.2745098039216, 187.3921568627451, 1.0)",
          "width": 1.2579739729522836
         },
         "mode": "lines",
         "showlegend": false,
         "text": "Width: 1.26",
         "type": "scatter",
         "x": [
          -3.6737887354917422,
          -3.5986526886701378,
          null
         ],
         "y": [
          40.43018370922185,
          40.43466852782298,
          null
         ]
        },
        {
         "hoverinfo": "text",
         "line": {
          "color": "rgba(63.11764705882353, 98.47058823529413, 170.88235294117646, 1.0)",
          "width": 0.7042612911457004
         },
         "mode": "lines",
         "showlegend": false,
         "text": "Width: 0.70",
         "type": "scatter",
         "x": [
          -3.6737887354917422,
          -3.574543479322823,
          null
         ],
         "y": [
          40.43018370922185,
          40.4757410696608,
          null
         ]
        },
        {
         "hoverinfo": "text",
         "line": {
          "color": "rgba(92.03921568627452, 144.4509803921569, 194.2156862745098, 1.0)",
          "width": 1.485072722633325
         },
         "mode": "lines",
         "showlegend": false,
         "text": "Width: 1.49",
         "type": "scatter",
         "x": [
          -3.678150006537061,
          -3.705268804063821,
          null
         ],
         "y": [
          40.45750039357669,
          40.41733007020507,
          null
         ]
        },
        {
         "hoverinfo": "text",
         "line": {
          "color": "rgba(58.411764705882355, 83.64705882352942, 163.58823529411765, 1.0)",
          "width": 0.5
         },
         "mode": "lines",
         "showlegend": false,
         "text": "Width: 0.50",
         "type": "scatter",
         "x": [
          -3.678150006537061,
          -3.6966151949203576,
          null
         ],
         "y": [
          40.45750039357669,
          40.398119933450886,
          null
         ]
        },
        {
         "hoverinfo": "text",
         "line": {
          "color": "rgba(69.921568627451, 118.09803921568628, 180.56862745098042, 1.0)",
          "width": 1.0359785659607041
         },
         "mode": "lines",
         "showlegend": false,
         "text": "Width: 1.04",
         "type": "scatter",
         "x": [
          -3.678150006537061,
          -3.67643837848883,
          null
         ],
         "y": [
          40.45750039357669,
          40.41138084576659,
          null
         ]
        },
        {
         "hoverinfo": "text",
         "line": {
          "color": "rgba(242.23529411764707, 250.05882352941177, 214.4705882352941, 1.0)",
          "width": 4.594709534745258
         },
         "mode": "lines",
         "showlegend": false,
         "text": "Width: 4.59",
         "type": "scatter",
         "x": [
          -3.678150006537061,
          -3.6737887354917422,
          null
         ],
         "y": [
          40.45750039357669,
          40.43018370922185,
          null
         ]
        },
        {
         "hoverinfo": "text",
         "line": {
          "color": "rgba(253.88235294117646, 218.11764705882354, 138.47058823529412, 1.0)",
          "width": 6.128264012928468
         },
         "mode": "lines",
         "showlegend": false,
         "text": "Width: 6.13",
         "type": "scatter",
         "x": [
          -3.678150006537061,
          -3.678150006537061,
          null
         ],
         "y": [
          40.45750039357669,
          40.45750039357669,
          null
         ]
        },
        {
         "hoverinfo": "text",
         "line": {
          "color": "rgba(207.37254901960787, 234.843137254902, 243.2941176470588, 1.0)",
          "width": 3.7092795781236707
         },
         "mode": "lines",
         "showlegend": false,
         "text": "Width: 3.71",
         "type": "scatter",
         "x": [
          -3.678150006537061,
          -3.6999935507976827,
          null
         ],
         "y": [
          40.45750039357669,
          40.4606484776773,
          null
         ]
        },
        {
         "hoverinfo": "text",
         "line": {
          "color": "rgba(201.13725490196083, 231.7843137254902, 241.52941176470588, 1.0)",
          "width": 3.5859487964616825
         },
         "mode": "lines",
         "showlegend": false,
         "text": "Width: 3.59",
         "type": "scatter",
         "x": [
          -3.678150006537061,
          -3.703523951395161,
          null
         ],
         "y": [
          40.45750039357669,
          40.4375595509298,
          null
         ]
        },
        {
         "hoverinfo": "text",
         "line": {
          "color": "rgba(230.07843137254906, 245.3529411764706, 236.82352941176467, 1.0)",
          "width": 4.211958833035638
         },
         "mode": "lines",
         "showlegend": false,
         "text": "Width: 4.21",
         "type": "scatter",
         "x": [
          -3.678150006537061,
          -3.753579560856663,
          null
         ],
         "y": [
          40.45750039357669,
          40.54479435831404,
          null
         ]
        },
        {
         "hoverinfo": "text",
         "line": {
          "color": "rgba(75.45098039215688, 124.68627450980394, 183.98039215686276, 1.0)",
          "width": 1.1354937484052052
         },
         "mode": "lines",
         "showlegend": false,
         "text": "Width: 1.14",
         "type": "scatter",
         "x": [
          -3.678150006537061,
          -3.757223268157654,
          null
         ],
         "y": [
          40.45750039357669,
          40.44543508494524,
          null
         ]
        },
        {
         "hoverinfo": "text",
         "line": {
          "color": "rgba(56.84313725490196, 78.70588235294117, 161.15686274509807, 1.0)",
          "width": 0.5
         },
         "mode": "lines",
         "showlegend": false,
         "text": "Width: 0.50",
         "type": "scatter",
         "x": [
          -3.678150006537061,
          -3.778616540618283,
          null
         ],
         "y": [
          40.45750039357669,
          40.385273701511004,
          null
         ]
        },
        {
         "hoverinfo": "text",
         "line": {
          "color": "rgba(62.333333333333336, 96.0, 169.66666666666669, 1.0)",
          "width": 0.6983073913413286
         },
         "mode": "lines",
         "showlegend": false,
         "text": "Width: 0.70",
         "type": "scatter",
         "x": [
          -3.678150006537061,
          -3.737112400757822,
          null
         ],
         "y": [
          40.45750039357669,
          40.378840354576816,
          null
         ]
        },
        {
         "hoverinfo": "text",
         "line": {
          "color": "rgba(57.62745098039216, 81.17647058823529, 162.37254901960785, 1.0)",
          "width": 0.5
         },
         "mode": "lines",
         "showlegend": false,
         "text": "Width: 0.50",
         "type": "scatter",
         "x": [
          -3.678150006537061,
          -3.7029808755455926,
          null
         ],
         "y": [
          40.45750039357669,
          40.37595000318738,
          null
         ]
        },
        {
         "hoverinfo": "text",
         "line": {
          "color": "rgba(59.196078431372555, 86.11764705882355, 164.8039215686275, 1.0)",
          "width": 0.523943182784724
         },
         "mode": "lines",
         "showlegend": false,
         "text": "Width: 0.52",
         "type": "scatter",
         "x": [
          -3.678150006537061,
          -3.6598634715735407,
          null
         ],
         "y": [
          40.45750039357669,
          40.38355078734683,
          null
         ]
        },
        {
         "hoverinfo": "text",
         "line": {
          "color": "rgba(51.35294117647059, 61.411764705882355, 152.64705882352942, 1.0)",
          "width": 0.5
         },
         "mode": "lines",
         "showlegend": false,
         "text": "Width: 0.50",
         "type": "scatter",
         "x": [
          -3.678150006537061,
          -3.6413909394895803,
          null
         ],
         "y": [
          40.45750039357669,
          40.40661270611631,
          null
         ]
        },
        {
         "hoverinfo": "text",
         "line": {
          "color": "rgba(247.09803921568627, 251.94117647058823, 205.52941176470588, 1.0)",
          "width": 4.72909755890108
         },
         "mode": "lines",
         "showlegend": false,
         "text": "Width: 4.73",
         "type": "scatter",
         "x": [
          -3.678150006537061,
          -3.649948514601449,
          null
         ],
         "y": [
          40.45750039357669,
          40.43926990707227,
          null
         ]
        },
        {
         "hoverinfo": "text",
         "line": {
          "color": "rgba(205.29411764705887, 233.82352941176472, 242.7058823529412, 1.0)",
          "width": 3.6701539508377987
         },
         "mode": "lines",
         "showlegend": false,
         "text": "Width: 3.67",
         "type": "scatter",
         "x": [
          -3.678150006537061,
          -3.637741035389707,
          null
         ],
         "y": [
          40.45750039357669,
          40.48201214532898,
          null
         ]
        },
        {
         "hoverinfo": "text",
         "line": {
          "color": "rgba(57.62745098039216, 81.17647058823529, 162.37254901960785, 1.0)",
          "width": 0.5
         },
         "mode": "lines",
         "showlegend": false,
         "text": "Width: 0.50",
         "type": "scatter",
         "x": [
          -3.678150006537061,
          -3.695056256825152,
          null
         ],
         "y": [
          40.45750039357669,
          40.34253624126977,
          null
         ]
        },
        {
         "hoverinfo": "text",
         "line": {
          "color": "rgba(56.84313725490196, 78.70588235294117, 161.15686274509807, 1.0)",
          "width": 0.5
         },
         "mode": "lines",
         "showlegend": false,
         "text": "Width: 0.50",
         "type": "scatter",
         "x": [
          -3.678150006537061,
          -3.6160073912284756,
          null
         ],
         "y": [
          40.45750039357669,
          40.34992967757026,
          null
         ]
        },
        {
         "hoverinfo": "text",
         "line": {
          "color": "rgba(53.705882352941174, 68.82352941176471, 156.2941176470588, 1.0)",
          "width": 0.5
         },
         "mode": "lines",
         "showlegend": false,
         "text": "Width: 0.50",
         "type": "scatter",
         "x": [
          -3.678150006537061,
          -3.572894771748725,
          null
         ],
         "y": [
          40.45750039357669,
          40.39356859265691,
          null
         ]
        },
        {
         "hoverinfo": "text",
         "line": {
          "color": "rgba(67.03921568627452, 110.82352941176472, 176.9607843137255, 1.0)",
          "width": 0.9347622692863825
         },
         "mode": "lines",
         "showlegend": false,
         "text": "Width: 0.93",
         "type": "scatter",
         "x": [
          -3.678150006537061,
          -3.5986526886701378,
          null
         ],
         "y": [
          40.45750039357669,
          40.43466852782298,
          null
         ]
        },
        {
         "hoverinfo": "text",
         "line": {
          "color": "rgba(65.47058823529412, 105.88235294117648, 174.52941176470588, 1.0)",
          "width": 0.8377987581866122
         },
         "mode": "lines",
         "showlegend": false,
         "text": "Width: 0.84",
         "type": "scatter",
         "x": [
          -3.678150006537061,
          -3.574543479322823,
          null
         ],
         "y": [
          40.45750039357669,
          40.4757410696608,
          null
         ]
        },
        {
         "hoverinfo": "text",
         "line": {
          "color": "rgba(118.15686274509807, 174.72549019607845, 209.94117647058823, 1.0)",
          "width": 2.060899889427575
         },
         "mode": "lines",
         "showlegend": false,
         "text": "Width: 2.06",
         "type": "scatter",
         "x": [
          -3.6999935507976827,
          -3.705268804063821,
          null
         ],
         "y": [
          40.4606484776773,
          40.41733007020507,
          null
         ]
        },
        {
         "hoverinfo": "text",
         "line": {
          "color": "rgba(67.03921568627452, 110.82352941176472, 176.9607843137255, 1.0)",
          "width": 0.9024410989197924
         },
         "mode": "lines",
         "showlegend": false,
         "text": "Width: 0.90",
         "type": "scatter",
         "x": [
          -3.6999935507976827,
          -3.6966151949203576,
          null
         ],
         "y": [
          40.4606484776773,
          40.398119933450886,
          null
         ]
        },
        {
         "hoverinfo": "text",
         "line": {
          "color": "rgba(75.45098039215688, 124.68627450980394, 183.98039215686276, 1.0)",
          "width": 1.1686654758867059
         },
         "mode": "lines",
         "showlegend": false,
         "text": "Width: 1.17",
         "type": "scatter",
         "x": [
          -3.6999935507976827,
          -3.67643837848883,
          null
         ],
         "y": [
          40.4606484776773,
          40.41138084576659,
          null
         ]
        },
        {
         "hoverinfo": "text",
         "line": {
          "color": "rgba(128.94117647058823, 183.3529411764706, 214.64705882352942, 1.0)",
          "width": 2.2352640979841794
         },
         "mode": "lines",
         "showlegend": false,
         "text": "Width: 2.24",
         "type": "scatter",
         "x": [
          -3.6999935507976827,
          -3.6737887354917422,
          null
         ],
         "y": [
          40.4606484776773,
          40.43018370922185,
          null
         ]
        },
        {
         "hoverinfo": "text",
         "line": {
          "color": "rgba(254.62745098039215, 243.45098039215685, 173.49019607843138, 1.0)",
          "width": 5.383175980267075
         },
         "mode": "lines",
         "showlegend": false,
         "text": "Width: 5.38",
         "type": "scatter",
         "x": [
          -3.6999935507976827,
          -3.678150006537061,
          null
         ],
         "y": [
          40.4606484776773,
          40.45750039357669,
          null
         ]
        },
        {
         "hoverinfo": "text",
         "line": {
          "color": "rgba(254.23529411764704, 231.29411764705884, 155.05882352941177, 1.0)",
          "width": 5.759972782172322
         },
         "mode": "lines",
         "showlegend": false,
         "text": "Width: 5.76",
         "type": "scatter",
         "x": [
          -3.6999935507976827,
          -3.6999935507976827,
          null
         ],
         "y": [
          40.4606484776773,
          40.4606484776773,
          null
         ]
        },
        {
         "hoverinfo": "text",
         "line": {
          "color": "rgba(254.78431372549022, 248.31372549019608, 180.8627450980392, 1.0)",
          "width": 5.199455643446457
         },
         "mode": "lines",
         "showlegend": false,
         "text": "Width: 5.20",
         "type": "scatter",
         "x": [
          -3.6999935507976827,
          -3.703523951395161,
          null
         ],
         "y": [
          40.4606484776773,
          40.4375595509298,
          null
         ]
        },
        {
         "hoverinfo": "text",
         "line": {
          "color": "rgba(253.0980392156863, 178.90196078431373, 101.60784313725489, 1.0)",
          "width": 6.900569873266989
         },
         "mode": "lines",
         "showlegend": false,
         "text": "Width: 6.90",
         "type": "scatter",
         "x": [
          -3.6999935507976827,
          -3.753579560856663,
          null
         ],
         "y": [
          40.4606484776773,
          40.54479435831404,
          null
         ]
        },
        {
         "hoverinfo": "text",
         "line": {
          "color": "rgba(254.66666666666666, 244.66666666666669, 175.33333333333334, 1.0)",
          "width": 5.317683082418984
         },
         "mode": "lines",
         "showlegend": false,
         "text": "Width: 5.32",
         "type": "scatter",
         "x": [
          -3.6999935507976827,
          -3.757223268157654,
          null
         ],
         "y": [
          40.4606484776773,
          40.44543508494524,
          null
         ]
        },
        {
         "hoverinfo": "text",
         "line": {
          "color": "rgba(59.98039215686274, 88.58823529411765, 166.01960784313727, 1.0)",
          "width": 0.5724249383346092
         },
         "mode": "lines",
         "showlegend": false,
         "text": "Width: 0.57",
         "type": "scatter",
         "x": [
          -3.6999935507976827,
          -3.778616540618283,
          null
         ],
         "y": [
          40.4606484776773,
          40.385273701511004,
          null
         ]
        },
        {
         "hoverinfo": "text",
         "line": {
          "color": "rgba(60.76470588235294, 91.05882352941177, 167.23529411764707, 1.0)",
          "width": 0.5868844092880837
         },
         "mode": "lines",
         "showlegend": false,
         "text": "Width: 0.59",
         "type": "scatter",
         "x": [
          -3.6999935507976827,
          -3.737112400757822,
          null
         ],
         "y": [
          40.4606484776773,
          40.378840354576816,
          null
         ]
        },
        {
         "hoverinfo": "text",
         "line": {
          "color": "rgba(61.54901960784314, 93.5294117647059, 168.45098039215688, 1.0)",
          "width": 0.6319639363783277
         },
         "mode": "lines",
         "showlegend": false,
         "text": "Width: 0.63",
         "type": "scatter",
         "x": [
          -3.6999935507976827,
          -3.7029808755455926,
          null
         ],
         "y": [
          40.4606484776773,
          40.37595000318738,
          null
         ]
        },
        {
         "hoverinfo": "text",
         "line": {
          "color": "rgba(63.90196078431372, 100.94117647058825, 172.0980392156863, 1.0)",
          "width": 0.7459385897763035
         },
         "mode": "lines",
         "showlegend": false,
         "text": "Width: 0.75",
         "type": "scatter",
         "x": [
          -3.6999935507976827,
          -3.6598634715735407,
          null
         ],
         "y": [
          40.4606484776773,
          40.38355078734683,
          null
         ]
        },
        {
         "hoverinfo": "text",
         "line": {
          "color": "rgba(54.490196078431374, 71.29411764705883, 157.50980392156865, 1.0)",
          "width": 0.5
         },
         "mode": "lines",
         "showlegend": false,
         "text": "Width: 0.50",
         "type": "scatter",
         "x": [
          -3.6999935507976827,
          -3.6413909394895803,
          null
         ],
         "y": [
          40.4606484776773,
          40.40661270611631,
          null
         ]
        },
        {
         "hoverinfo": "text",
         "line": {
          "color": "rgba(80.98039215686276, 131.2745098039216, 187.3921568627451, 1.0)",
          "width": 1.2537211873777323
         },
         "mode": "lines",
         "showlegend": false,
         "text": "Width: 1.25",
         "type": "scatter",
         "x": [
          -3.6999935507976827,
          -3.649948514601449,
          null
         ],
         "y": [
          40.4606484776773,
          40.43926990707227,
          null
         ]
        },
        {
         "hoverinfo": "text",
         "line": {
          "color": "rgba(92.03921568627452, 144.4509803921569, 194.2156862745098, 1.0)",
          "width": 1.50208386493153
         },
         "mode": "lines",
         "showlegend": false,
         "text": "Width: 1.50",
         "type": "scatter",
         "x": [
          -3.6999935507976827,
          -3.637741035389707,
          null
         ],
         "y": [
          40.4606484776773,
          40.48201214532898,
          null
         ]
        },
        {
         "hoverinfo": "text",
         "line": {
          "color": "rgba(58.411764705882355, 83.64705882352942, 163.58823529411765, 1.0)",
          "width": 0.5
         },
         "mode": "lines",
         "showlegend": false,
         "text": "Width: 0.50",
         "type": "scatter",
         "x": [
          -3.6999935507976827,
          -3.695056256825152,
          null
         ],
         "y": [
          40.4606484776773,
          40.34253624126977,
          null
         ]
        },
        {
         "hoverinfo": "text",
         "line": {
          "color": "rgba(57.62745098039216, 81.17647058823529, 162.37254901960785, 1.0)",
          "width": 0.5
         },
         "mode": "lines",
         "showlegend": false,
         "text": "Width: 0.50",
         "type": "scatter",
         "x": [
          -3.6999935507976827,
          -3.6160073912284756,
          null
         ],
         "y": [
          40.4606484776773,
          40.34992967757026,
          null
         ]
        },
        {
         "hoverinfo": "text",
         "line": {
          "color": "rgba(55.274509803921575, 73.76470588235294, 158.72549019607845, 1.0)",
          "width": 0.5
         },
         "mode": "lines",
         "showlegend": false,
         "text": "Width: 0.50",
         "type": "scatter",
         "x": [
          -3.6999935507976827,
          -3.572894771748725,
          null
         ],
         "y": [
          40.4606484776773,
          40.39356859265691,
          null
         ]
        },
        {
         "hoverinfo": "text",
         "line": {
          "color": "rgba(69.921568627451, 118.09803921568628, 180.56862745098042, 1.0)",
          "width": 1.047886365569448
         },
         "mode": "lines",
         "showlegend": false,
         "text": "Width: 1.05",
         "type": "scatter",
         "x": [
          -3.6999935507976827,
          -3.5986526886701378,
          null
         ],
         "y": [
          40.4606484776773,
          40.43466852782298,
          null
         ]
        },
        {
         "hoverinfo": "text",
         "line": {
          "color": "rgba(69.921568627451, 118.09803921568628, 180.56862745098042, 1.0)",
          "width": 1.0487369226843581
         },
         "mode": "lines",
         "showlegend": false,
         "text": "Width: 1.05",
         "type": "scatter",
         "x": [
          -3.6999935507976827,
          -3.574543479322823,
          null
         ],
         "y": [
          40.4606484776773,
          40.4757410696608,
          null
         ]
        },
        {
         "hoverinfo": "text",
         "line": {
          "color": "rgba(254.86274509803923, 250.74509803921566, 184.54901960784315, 1.0)",
          "width": 5.149272773666752
         },
         "mode": "lines",
         "showlegend": false,
         "text": "Width: 5.15",
         "type": "scatter",
         "x": [
          -3.703523951395161,
          -3.705268804063821,
          null
         ],
         "y": [
          40.4375595509298,
          40.41733007020507,
          null
         ]
        },
        {
         "hoverinfo": "text",
         "line": {
          "color": "rgba(64.68627450980392, 103.41176470588235, 173.3137254901961, 1.0)",
          "width": 0.8199370587734967
         },
         "mode": "lines",
         "showlegend": false,
         "text": "Width: 0.82",
         "type": "scatter",
         "x": [
          -3.703523951395161,
          -3.6966151949203576,
          null
         ],
         "y": [
          40.4375595509298,
          40.398119933450886,
          null
         ]
        },
        {
         "hoverinfo": "text",
         "line": {
          "color": "rgba(84.66666666666667, 135.66666666666669, 189.66666666666669, 1.0)",
          "width": 1.329420770604746
         },
         "mode": "lines",
         "showlegend": false,
         "text": "Width: 1.33",
         "type": "scatter",
         "x": [
          -3.703523951395161,
          -3.67643837848883,
          null
         ],
         "y": [
          40.4375595509298,
          40.41138084576659,
          null
         ]
        },
        {
         "hoverinfo": "text",
         "line": {
          "color": "rgba(224.00000000000003, 243.0, 247.99999999999994, 1.0)",
          "width": 3.9950667687335204
         },
         "mode": "lines",
         "showlegend": false,
         "text": "Width: 4.00",
         "type": "scatter",
         "x": [
          -3.703523951395161,
          -3.6737887354917422,
          null
         ],
         "y": [
          40.4375595509298,
          40.43018370922185,
          null
         ]
        },
        {
         "hoverinfo": "text",
         "line": {
          "color": "rgba(188.6666666666667, 225.66666666666669, 238.0, 1.0)",
          "width": 3.339287233137705
         },
         "mode": "lines",
         "showlegend": false,
         "text": "Width: 3.34",
         "type": "scatter",
         "x": [
          -3.703523951395161,
          -3.678150006537061,
          null
         ],
         "y": [
          40.4375595509298,
          40.45750039357669,
          null
         ]
        },
        {
         "hoverinfo": "text",
         "line": {
          "color": "rgba(224.00000000000003, 243.0, 247.99999999999994, 1.0)",
          "width": 3.9984689971931613
         },
         "mode": "lines",
         "showlegend": false,
         "text": "Width: 4.00",
         "type": "scatter",
         "x": [
          -3.703523951395161,
          -3.6999935507976827,
          null
         ],
         "y": [
          40.4375595509298,
          40.4606484776773,
          null
         ]
        },
        {
         "hoverinfo": "text",
         "line": {
          "color": "rgba(254.39215686274508, 236.15686274509804, 162.4313725490196, 1.0)",
          "width": 5.6043208301437435
         },
         "mode": "lines",
         "showlegend": false,
         "text": "Width: 5.60",
         "type": "scatter",
         "x": [
          -3.703523951395161,
          -3.703523951395161,
          null
         ],
         "y": [
          40.4375595509298,
          40.4375595509298,
          null
         ]
        },
        {
         "hoverinfo": "text",
         "line": {
          "color": "rgba(104.94117647058823, 159.82352941176472, 202.17647058823528, 1.0)",
          "width": 1.7649060134388024
         },
         "mode": "lines",
         "showlegend": false,
         "text": "Width: 1.76",
         "type": "scatter",
         "x": [
          -3.703523951395161,
          -3.753579560856663,
          null
         ],
         "y": [
          40.4375595509298,
          40.54479435831404,
          null
         ]
        },
        {
         "hoverinfo": "text",
         "line": {
          "color": "rgba(215.68627450980395, 238.921568627451, 245.64705882352942, 1.0)",
          "width": 3.86663264438207
         },
         "mode": "lines",
         "showlegend": false,
         "text": "Width: 3.87",
         "type": "scatter",
         "x": [
          -3.703523951395161,
          -3.757223268157654,
          null
         ],
         "y": [
          40.4375595509298,
          40.44543508494524,
          null
         ]
        },
        {
         "hoverinfo": "text",
         "line": {
          "color": "rgba(79.13725490196079, 129.07843137254903, 186.25490196078434, 1.0)",
          "width": 1.21459556009186
         },
         "mode": "lines",
         "showlegend": false,
         "text": "Width: 1.21",
         "type": "scatter",
         "x": [
          -3.703523951395161,
          -3.778616540618283,
          null
         ],
         "y": [
          40.4375595509298,
          40.385273701511004,
          null
         ]
        },
        {
         "hoverinfo": "text",
         "line": {
          "color": "rgba(58.411764705882355, 83.64705882352942, 163.58823529411765, 1.0)",
          "width": 0.5
         },
         "mode": "lines",
         "showlegend": false,
         "text": "Width: 0.50",
         "type": "scatter",
         "x": [
          -3.703523951395161,
          -3.737112400757822,
          null
         ],
         "y": [
          40.4375595509298,
          40.378840354576816,
          null
         ]
        },
        {
         "hoverinfo": "text",
         "line": {
          "color": "rgba(56.84313725490196, 78.70588235294117, 161.15686274509807, 1.0)",
          "width": 0.5
         },
         "mode": "lines",
         "showlegend": false,
         "text": "Width: 0.50",
         "type": "scatter",
         "x": [
          -3.703523951395161,
          -3.7029808755455926,
          null
         ],
         "y": [
          40.4375595509298,
          40.37595000318738,
          null
         ]
        },
        {
         "hoverinfo": "text",
         "line": {
          "color": "rgba(59.98039215686274, 88.58823529411765, 166.01960784313727, 1.0)",
          "width": 0.5477587820022114
         },
         "mode": "lines",
         "showlegend": false,
         "text": "Width: 0.55",
         "type": "scatter",
         "x": [
          -3.703523951395161,
          -3.6598634715735407,
          null
         ],
         "y": [
          40.4375595509298,
          40.38355078734683,
          null
         ]
        },
        {
         "hoverinfo": "text",
         "line": {
          "color": "rgba(50.568627450980394, 58.94117647058823, 151.4313725490196, 1.0)",
          "width": 0.5
         },
         "mode": "lines",
         "showlegend": false,
         "text": "Width: 0.50",
         "type": "scatter",
         "x": [
          -3.703523951395161,
          -3.6413909394895803,
          null
         ],
         "y": [
          40.4375595509298,
          40.40661270611631,
          null
         ]
        },
        {
         "hoverinfo": "text",
         "line": {
          "color": "rgba(66.25490196078432, 108.35294117647061, 175.74509803921572, 1.0)",
          "width": 0.8854299566215871
         },
         "mode": "lines",
         "showlegend": false,
         "text": "Width: 0.89",
         "type": "scatter",
         "x": [
          -3.703523951395161,
          -3.649948514601449,
          null
         ],
         "y": [
          40.4375595509298,
          40.43926990707227,
          null
         ]
        },
        {
         "hoverinfo": "text",
         "line": {
          "color": "rgba(68.6078431372549, 115.76470588235296, 179.3921568627451, 1.0)",
          "width": 0.987496810410819
         },
         "mode": "lines",
         "showlegend": false,
         "text": "Width: 0.99",
         "type": "scatter",
         "x": [
          -3.703523951395161,
          -3.637741035389707,
          null
         ],
         "y": [
          40.4375595509298,
          40.48201214532898,
          null
         ]
        },
        {
         "hoverinfo": "text",
         "line": {
          "color": "rgba(55.274509803921575, 73.76470588235294, 158.72549019607845, 1.0)",
          "width": 0.5
         },
         "mode": "lines",
         "showlegend": false,
         "text": "Width: 0.50",
         "type": "scatter",
         "x": [
          -3.703523951395161,
          -3.695056256825152,
          null
         ],
         "y": [
          40.4375595509298,
          40.34253624126977,
          null
         ]
        },
        {
         "hoverinfo": "text",
         "line": {
          "color": "rgba(56.84313725490196, 78.70588235294117, 161.15686274509807, 1.0)",
          "width": 0.5
         },
         "mode": "lines",
         "showlegend": false,
         "text": "Width: 0.50",
         "type": "scatter",
         "x": [
          -3.703523951395161,
          -3.6160073912284756,
          null
         ],
         "y": [
          40.4375595509298,
          40.34992967757026,
          null
         ]
        },
        {
         "hoverinfo": "text",
         "line": {
          "color": "rgba(52.13725490196079, 63.88235294117647, 153.86274509803923, 1.0)",
          "width": 0.5
         },
         "mode": "lines",
         "showlegend": false,
         "text": "Width: 0.50",
         "type": "scatter",
         "x": [
          -3.703523951395161,
          -3.572894771748725,
          null
         ],
         "y": [
          40.4375595509298,
          40.39356859265691,
          null
         ]
        },
        {
         "hoverinfo": "text",
         "line": {
          "color": "rgba(63.90196078431372, 100.94117647058825, 172.0980392156863, 1.0)",
          "width": 0.760398060729778
         },
         "mode": "lines",
         "showlegend": false,
         "text": "Width: 0.76",
         "type": "scatter",
         "x": [
          -3.703523951395161,
          -3.5986526886701378,
          null
         ],
         "y": [
          40.4375595509298,
          40.43466852782298,
          null
         ]
        },
        {
         "hoverinfo": "text",
         "line": {
          "color": "rgba(62.333333333333336, 96.0, 169.66666666666669, 1.0)",
          "width": 0.6991579484562388
         },
         "mode": "lines",
         "showlegend": false,
         "text": "Width: 0.70",
         "type": "scatter",
         "x": [
          -3.703523951395161,
          -3.574543479322823,
          null
         ],
         "y": [
          40.4375595509298,
          40.4757410696608,
          null
         ]
        },
        {
         "hoverinfo": "text",
         "line": {
          "color": "rgba(108.62745098039218, 164.21568627450984, 204.45098039215688, 1.0)",
          "width": 1.8712256528025855
         },
         "mode": "lines",
         "showlegend": false,
         "text": "Width: 1.87",
         "type": "scatter",
         "x": [
          -3.753579560856663,
          -3.705268804063821,
          null
         ],
         "y": [
          40.54479435831404,
          40.41733007020507,
          null
         ]
        },
        {
         "hoverinfo": "text",
         "line": {
          "color": "rgba(71.76470588235294, 120.29411764705884, 181.7058823529412, 1.0)",
          "width": 1.076805307476397
         },
         "mode": "lines",
         "showlegend": false,
         "text": "Width: 1.08",
         "type": "scatter",
         "x": [
          -3.753579560856663,
          -3.6966151949203576,
          null
         ],
         "y": [
          40.54479435831404,
          40.398119933450886,
          null
         ]
        },
        {
         "hoverinfo": "text",
         "line": {
          "color": "rgba(84.66666666666667, 135.66666666666669, 189.66666666666669, 1.0)",
          "width": 1.345581355788041
         },
         "mode": "lines",
         "showlegend": false,
         "text": "Width: 1.35",
         "type": "scatter",
         "x": [
          -3.753579560856663,
          -3.67643837848883,
          null
         ],
         "y": [
          40.54479435831404,
          40.41138084576659,
          null
         ]
        },
        {
         "hoverinfo": "text",
         "line": {
          "color": "rgba(126.78431372549022, 181.62745098039218, 213.7058823529412, 1.0)",
          "width": 2.2140001701114227
         },
         "mode": "lines",
         "showlegend": false,
         "text": "Width: 2.21",
         "type": "scatter",
         "x": [
          -3.753579560856663,
          -3.6737887354917422,
          null
         ],
         "y": [
          40.54479435831404,
          40.43018370922185,
          null
         ]
        },
        {
         "hoverinfo": "text",
         "line": {
          "color": "rgba(226.43137254901964, 243.94117647058823, 243.52941176470583, 1.0)",
          "width": 4.080973037339457
         },
         "mode": "lines",
         "showlegend": false,
         "text": "Width: 4.08",
         "type": "scatter",
         "x": [
          -3.753579560856663,
          -3.678150006537061,
          null
         ],
         "y": [
          40.54479435831404,
          40.45750039357669,
          null
         ]
        },
        {
         "hoverinfo": "text",
         "line": {
          "color": "rgba(253.68627450980392, 208.31372549019608, 129.2549019607843, 1.0)",
          "width": 6.291570978991238
         },
         "mode": "lines",
         "showlegend": false,
         "text": "Width: 6.29",
         "type": "scatter",
         "x": [
          -3.753579560856663,
          -3.6999935507976827,
          null
         ],
         "y": [
          40.54479435831404,
          40.4606484776773,
          null
         ]
        },
        {
         "hoverinfo": "text",
         "line": {
          "color": "rgba(148.35294117647058, 198.88235294117646, 223.1176470588235, 1.0)",
          "width": 2.5890958577868504
         },
         "mode": "lines",
         "showlegend": false,
         "text": "Width: 2.59",
         "type": "scatter",
         "x": [
          -3.753579560856663,
          -3.703523951395161,
          null
         ],
         "y": [
          40.54479435831404,
          40.4375595509298,
          null
         ]
        },
        {
         "hoverinfo": "text",
         "line": {
          "color": "rgba(165.0, 0.0, 38.0, 1.0)",
          "width": 10
         },
         "mode": "lines",
         "showlegend": false,
         "text": "Width: 10.00",
         "type": "scatter",
         "x": [
          -3.753579560856663,
          -3.753579560856663,
          null
         ],
         "y": [
          40.54479435831404,
          40.54479435831404,
          null
         ]
        },
        {
         "hoverinfo": "text",
         "line": {
          "color": "rgba(254.47058823529412, 238.58823529411765, 166.1176470588235, 1.0)",
          "width": 5.541379603640384
         },
         "mode": "lines",
         "showlegend": false,
         "text": "Width: 5.54",
         "type": "scatter",
         "x": [
          -3.753579560856663,
          -3.757223268157654,
          null
         ],
         "y": [
          40.54479435831404,
          40.44543508494524,
          null
         ]
        },
        {
         "hoverinfo": "text",
         "line": {
          "color": "rgba(60.76470588235294, 91.05882352941177, 167.23529411764707, 1.0)",
          "width": 0.6055966658161095
         },
         "mode": "lines",
         "showlegend": false,
         "text": "Width: 0.61",
         "type": "scatter",
         "x": [
          -3.753579560856663,
          -3.778616540618283,
          null
         ],
         "y": [
          40.54479435831404,
          40.385273701511004,
          null
         ]
        },
        {
         "hoverinfo": "text",
         "line": {
          "color": "rgba(64.68627450980392, 103.41176470588235, 173.3137254901961, 1.0)",
          "width": 0.7884664455218168
         },
         "mode": "lines",
         "showlegend": false,
         "text": "Width: 0.79",
         "type": "scatter",
         "x": [
          -3.753579560856663,
          -3.737112400757822,
          null
         ],
         "y": [
          40.54479435831404,
          40.378840354576816,
          null
         ]
        },
        {
         "hoverinfo": "text",
         "line": {
          "color": "rgba(58.411764705882355, 83.64705882352942, 163.58823529411765, 1.0)",
          "width": 0.5
         },
         "mode": "lines",
         "showlegend": false,
         "text": "Width: 0.50",
         "type": "scatter",
         "x": [
          -3.753579560856663,
          -3.7029808755455926,
          null
         ],
         "y": [
          40.54479435831404,
          40.37595000318738,
          null
         ]
        },
        {
         "hoverinfo": "text",
         "line": {
          "color": "rgba(65.47058823529412, 105.88235294117648, 174.52941176470588, 1.0)",
          "width": 0.8275920728076891
         },
         "mode": "lines",
         "showlegend": false,
         "text": "Width: 0.83",
         "type": "scatter",
         "x": [
          -3.753579560856663,
          -3.6598634715735407,
          null
         ],
         "y": [
          40.54479435831404,
          40.38355078734683,
          null
         ]
        },
        {
         "hoverinfo": "text",
         "line": {
          "color": "rgba(57.62745098039216, 81.17647058823529, 162.37254901960785, 1.0)",
          "width": 0.5
         },
         "mode": "lines",
         "showlegend": false,
         "text": "Width: 0.50",
         "type": "scatter",
         "x": [
          -3.753579560856663,
          -3.6413909394895803,
          null
         ],
         "y": [
          40.54479435831404,
          40.40661270611631,
          null
         ]
        },
        {
         "hoverinfo": "text",
         "line": {
          "color": "rgba(137.56862745098042, 190.2549019607843, 218.41176470588235, 1.0)",
          "width": 2.4045249638513226
         },
         "mode": "lines",
         "showlegend": false,
         "text": "Width: 2.40",
         "type": "scatter",
         "x": [
          -3.753579560856663,
          -3.649948514601449,
          null
         ],
         "y": [
          40.54479435831404,
          40.43926990707227,
          null
         ]
        },
        {
         "hoverinfo": "text",
         "line": {
          "color": "rgba(253.45098039215688, 196.54901960784312, 118.19607843137254, 1.0)",
          "width": 6.535680870970486
         },
         "mode": "lines",
         "showlegend": false,
         "text": "Width: 6.54",
         "type": "scatter",
         "x": [
          -3.753579560856663,
          -3.637741035389707,
          null
         ],
         "y": [
          40.54479435831404,
          40.48201214532898,
          null
         ]
        },
        {
         "hoverinfo": "text",
         "line": {
          "color": "rgba(59.98039215686274, 88.58823529411765, 166.01960784313727, 1.0)",
          "width": 0.5630688100705963
         },
         "mode": "lines",
         "showlegend": false,
         "text": "Width: 0.56",
         "type": "scatter",
         "x": [
          -3.753579560856663,
          -3.695056256825152,
          null
         ],
         "y": [
          40.54479435831404,
          40.34253624126977,
          null
         ]
        },
        {
         "hoverinfo": "text",
         "line": {
          "color": "rgba(63.11764705882353, 98.47058823529413, 170.88235294117646, 1.0)",
          "width": 0.7161690907544441
         },
         "mode": "lines",
         "showlegend": false,
         "text": "Width: 0.72",
         "type": "scatter",
         "x": [
          -3.753579560856663,
          -3.6160073912284756,
          null
         ],
         "y": [
          40.54479435831404,
          40.34992967757026,
          null
         ]
        },
        {
         "hoverinfo": "text",
         "line": {
          "color": "rgba(58.411764705882355, 83.64705882352942, 163.58823529411765, 1.0)",
          "width": 0.5
         },
         "mode": "lines",
         "showlegend": false,
         "text": "Width: 0.50",
         "type": "scatter",
         "x": [
          -3.753579560856663,
          -3.572894771748725,
          null
         ],
         "y": [
          40.54479435831404,
          40.39356859265691,
          null
         ]
        },
        {
         "hoverinfo": "text",
         "line": {
          "color": "rgba(97.5686274509804, 151.03921568627453, 197.62745098039218, 1.0)",
          "width": 1.6067023900654926
         },
         "mode": "lines",
         "showlegend": false,
         "text": "Width: 1.61",
         "type": "scatter",
         "x": [
          -3.753579560856663,
          -3.5986526886701378,
          null
         ],
         "y": [
          40.54479435831404,
          40.43466852782298,
          null
         ]
        },
        {
         "hoverinfo": "text",
         "line": {
          "color": "rgba(93.88235294117649, 146.64705882352945, 195.3529411764706, 1.0)",
          "width": 1.5497150633665049
         },
         "mode": "lines",
         "showlegend": false,
         "text": "Width: 1.55",
         "type": "scatter",
         "x": [
          -3.753579560856663,
          -3.574543479322823,
          null
         ],
         "y": [
          40.54479435831404,
          40.4757410696608,
          null
         ]
        },
        {
         "hoverinfo": "text",
         "line": {
          "color": "rgba(213.60784313725495, 237.90196078431376, 245.05882352941177, 1.0)",
          "width": 3.8164497746023645
         },
         "mode": "lines",
         "showlegend": false,
         "text": "Width: 3.82",
         "type": "scatter",
         "x": [
          -3.757223268157654,
          -3.705268804063821,
          null
         ],
         "y": [
          40.44543508494524,
          40.41733007020507,
          null
         ]
        },
        {
         "hoverinfo": "text",
         "line": {
          "color": "rgba(82.82352941176471, 133.47058823529412, 188.5294117647059, 1.0)",
          "width": 1.3064557285021687
         },
         "mode": "lines",
         "showlegend": false,
         "text": "Width: 1.31",
         "type": "scatter",
         "x": [
          -3.757223268157654,
          -3.6966151949203576,
          null
         ],
         "y": [
          40.44543508494524,
          40.398119933450886,
          null
         ]
        },
        {
         "hoverinfo": "text",
         "line": {
          "color": "rgba(67.8235294117647, 113.29411764705883, 178.1764705882353, 1.0)",
          "width": 0.9594284256187803
         },
         "mode": "lines",
         "showlegend": false,
         "text": "Width: 0.96",
         "type": "scatter",
         "x": [
          -3.757223268157654,
          -3.67643837848883,
          null
         ],
         "y": [
          40.44543508494524,
          40.41138084576659,
          null
         ]
        },
        {
         "hoverinfo": "text",
         "line": {
          "color": "rgba(104.94117647058823, 159.82352941176472, 202.17647058823528, 1.0)",
          "width": 1.776813813047546
         },
         "mode": "lines",
         "showlegend": false,
         "text": "Width: 1.78",
         "type": "scatter",
         "x": [
          -3.757223268157654,
          -3.6737887354917422,
          null
         ],
         "y": [
          40.44543508494524,
          40.43018370922185,
          null
         ]
        },
        {
         "hoverinfo": "text",
         "line": {
          "color": "rgba(110.47058823529414, 166.41176470588238, 205.58823529411765, 1.0)",
          "width": 1.9018457089393552
         },
         "mode": "lines",
         "showlegend": false,
         "text": "Width: 1.90",
         "type": "scatter",
         "x": [
          -3.757223268157654,
          -3.678150006537061,
          null
         ],
         "y": [
          40.44543508494524,
          40.45750039357669,
          null
         ]
        },
        {
         "hoverinfo": "text",
         "line": {
          "color": "rgba(227.64705882352945, 244.41176470588235, 241.29411764705878, 1.0)",
          "width": 4.136259249808624
         },
         "mode": "lines",
         "showlegend": false,
         "text": "Width: 4.14",
         "type": "scatter",
         "x": [
          -3.757223268157654,
          -3.6999935507976827,
          null
         ],
         "y": [
          40.44543508494524,
          40.4606484776773,
          null
         ]
        },
        {
         "hoverinfo": "text",
         "line": {
          "color": "rgba(244.66666666666669, 251.0, 210.0, 1.0)",
          "width": 4.684018031810836
         },
         "mode": "lines",
         "showlegend": false,
         "text": "Width: 4.68",
         "type": "scatter",
         "x": [
          -3.757223268157654,
          -3.703523951395161,
          null
         ],
         "y": [
          40.44543508494524,
          40.4375595509298,
          null
         ]
        },
        {
         "hoverinfo": "text",
         "line": {
          "color": "rgba(254.7450980392157, 247.09803921568627, 179.01960784313724, 1.0)",
          "width": 5.265799098409458
         },
         "mode": "lines",
         "showlegend": false,
         "text": "Width: 5.27",
         "type": "scatter",
         "x": [
          -3.757223268157654,
          -3.753579560856663,
          null
         ],
         "y": [
          40.44543508494524,
          40.54479435831404,
          null
         ]
        },
        {
         "hoverinfo": "text",
         "line": {
          "color": "rgba(250.00000000000003, 152.33333333333334, 87.0, 1.0)",
          "width": 7.324997873607213
         },
         "mode": "lines",
         "showlegend": false,
         "text": "Width: 7.32",
         "type": "scatter",
         "x": [
          -3.757223268157654,
          -3.757223268157654,
          null
         ],
         "y": [
          40.44543508494524,
          40.44543508494524,
          null
         ]
        },
        {
         "hoverinfo": "text",
         "line": {
          "color": "rgba(245.8823529411765, 251.47058823529412, 207.76470588235293, 1.0)",
          "width": 4.720591987751977
         },
         "mode": "lines",
         "showlegend": false,
         "text": "Width: 4.72",
         "type": "scatter",
         "x": [
          -3.757223268157654,
          -3.778616540618283,
          null
         ],
         "y": [
          40.44543508494524,
          40.385273701511004,
          null
         ]
        },
        {
         "hoverinfo": "text",
         "line": {
          "color": "rgba(67.8235294117647, 113.29411764705883, 178.1764705882353, 1.0)",
          "width": 0.9466700688951263
         },
         "mode": "lines",
         "showlegend": false,
         "text": "Width: 0.95",
         "type": "scatter",
         "x": [
          -3.757223268157654,
          -3.737112400757822,
          null
         ],
         "y": [
          40.44543508494524,
          40.378840354576816,
          null
         ]
        },
        {
         "hoverinfo": "text",
         "line": {
          "color": "rgba(59.196078431372555, 86.11764705882355, 164.8039215686275, 1.0)",
          "width": 0.5256442970145445
         },
         "mode": "lines",
         "showlegend": false,
         "text": "Width: 0.53",
         "type": "scatter",
         "x": [
          -3.757223268157654,
          -3.7029808755455926,
          null
         ],
         "y": [
          40.44543508494524,
          40.37595000318738,
          null
         ]
        },
        {
         "hoverinfo": "text",
         "line": {
          "color": "rgba(59.98039215686274, 88.58823529411765, 166.01960784313727, 1.0)",
          "width": 0.5596665816109551
         },
         "mode": "lines",
         "showlegend": false,
         "text": "Width: 0.56",
         "type": "scatter",
         "x": [
          -3.757223268157654,
          -3.6598634715735407,
          null
         ],
         "y": [
          40.44543508494524,
          40.38355078734683,
          null
         ]
        },
        {
         "hoverinfo": "text",
         "line": {
          "color": "rgba(51.35294117647059, 61.411764705882355, 152.64705882352942, 1.0)",
          "width": 0.5
         },
         "mode": "lines",
         "showlegend": false,
         "text": "Width: 0.50",
         "type": "scatter",
         "x": [
          -3.757223268157654,
          -3.6413909394895803,
          null
         ],
         "y": [
          40.44543508494524,
          40.40661270611631,
          null
         ]
        },
        {
         "hoverinfo": "text",
         "line": {
          "color": "rgba(65.47058823529412, 105.88235294117648, 174.52941176470588, 1.0)",
          "width": 0.8420515437611634
         },
         "mode": "lines",
         "showlegend": false,
         "text": "Width: 0.84",
         "type": "scatter",
         "x": [
          -3.757223268157654,
          -3.649948514601449,
          null
         ],
         "y": [
          40.44543508494524,
          40.43926990707227,
          null
         ]
        },
        {
         "hoverinfo": "text",
         "line": {
          "color": "rgba(71.76470588235294, 120.29411764705884, 181.7058823529412, 1.0)",
          "width": 1.0742536361316661
         },
         "mode": "lines",
         "showlegend": false,
         "text": "Width: 1.07",
         "type": "scatter",
         "x": [
          -3.757223268157654,
          -3.637741035389707,
          null
         ],
         "y": [
          40.44543508494524,
          40.48201214532898,
          null
         ]
        },
        {
         "hoverinfo": "text",
         "line": {
          "color": "rgba(57.62745098039216, 81.17647058823529, 162.37254901960785, 1.0)",
          "width": 0.5
         },
         "mode": "lines",
         "showlegend": false,
         "text": "Width: 0.50",
         "type": "scatter",
         "x": [
          -3.757223268157654,
          -3.695056256825152,
          null
         ],
         "y": [
          40.44543508494524,
          40.34253624126977,
          null
         ]
        },
        {
         "hoverinfo": "text",
         "line": {
          "color": "rgba(57.62745098039216, 81.17647058823529, 162.37254901960785, 1.0)",
          "width": 0.5
         },
         "mode": "lines",
         "showlegend": false,
         "text": "Width: 0.50",
         "type": "scatter",
         "x": [
          -3.757223268157654,
          -3.6160073912284756,
          null
         ],
         "y": [
          40.44543508494524,
          40.34992967757026,
          null
         ]
        },
        {
         "hoverinfo": "text",
         "line": {
          "color": "rgba(53.705882352941174, 68.82352941176471, 156.2941176470588, 1.0)",
          "width": 0.5
         },
         "mode": "lines",
         "showlegend": false,
         "text": "Width: 0.50",
         "type": "scatter",
         "x": [
          -3.757223268157654,
          -3.572894771748725,
          null
         ],
         "y": [
          40.44543508494524,
          40.39356859265691,
          null
         ]
        },
        {
         "hoverinfo": "text",
         "line": {
          "color": "rgba(65.47058823529412, 105.88235294117648, 174.52941176470588, 1.0)",
          "width": 0.8292931870375095
         },
         "mode": "lines",
         "showlegend": false,
         "text": "Width: 0.83",
         "type": "scatter",
         "x": [
          -3.757223268157654,
          -3.5986526886701378,
          null
         ],
         "y": [
          40.44543508494524,
          40.43466852782298,
          null
         ]
        },
        {
         "hoverinfo": "text",
         "line": {
          "color": "rgba(59.98039215686274, 88.58823529411765, 166.01960784313727, 1.0)",
          "width": 0.5613676958407757
         },
         "mode": "lines",
         "showlegend": false,
         "text": "Width: 0.56",
         "type": "scatter",
         "x": [
          -3.757223268157654,
          -3.574543479322823,
          null
         ],
         "y": [
          40.44543508494524,
          40.4757410696608,
          null
         ]
        },
        {
         "hoverinfo": "text",
         "line": {
          "color": "rgba(249.52941176470588, 252.88235294117646, 201.05882352941174, 1.0)",
          "width": 4.843072212299056
         },
         "mode": "lines",
         "showlegend": false,
         "text": "Width: 4.84",
         "type": "scatter",
         "x": [
          -3.778616540618283,
          -3.705268804063821,
          null
         ],
         "y": [
          40.385273701511004,
          40.41733007020507,
          null
         ]
        },
        {
         "hoverinfo": "text",
         "line": {
          "color": "rgba(205.29411764705887, 233.82352941176472, 242.7058823529412, 1.0)",
          "width": 3.6344305520115676
         },
         "mode": "lines",
         "showlegend": false,
         "text": "Width: 3.63",
         "type": "scatter",
         "x": [
          -3.778616540618283,
          -3.6966151949203576,
          null
         ],
         "y": [
          40.385273701511004,
          40.398119933450886,
          null
         ]
        },
        {
         "hoverinfo": "text",
         "line": {
          "color": "rgba(97.5686274509804, 151.03921568627453, 197.62745098039218, 1.0)",
          "width": 1.6347707748575315
         },
         "mode": "lines",
         "showlegend": false,
         "text": "Width: 1.63",
         "type": "scatter",
         "x": [
          -3.778616540618283,
          -3.67643837848883,
          null
         ],
         "y": [
          40.385273701511004,
          40.41138084576659,
          null
         ]
        },
        {
         "hoverinfo": "text",
         "line": {
          "color": "rgba(163.45098039215688, 210.96078431372553, 229.7058823529412, 1.0)",
          "width": 2.862975248787956
         },
         "mode": "lines",
         "showlegend": false,
         "text": "Width: 2.86",
         "type": "scatter",
         "x": [
          -3.778616540618283,
          -3.6737887354917422,
          null
         ],
         "y": [
          40.385273701511004,
          40.43018370922185,
          null
         ]
        },
        {
         "hoverinfo": "text",
         "line": {
          "color": "rgba(154.82352941176472, 204.0588235294118, 225.94117647058823, 1.0)",
          "width": 2.7047716254146463
         },
         "mode": "lines",
         "showlegend": false,
         "text": "Width: 2.70",
         "type": "scatter",
         "x": [
          -3.778616540618283,
          -3.678150006537061,
          null
         ],
         "y": [
          40.385273701511004,
          40.45750039357669,
          null
         ]
        },
        {
         "hoverinfo": "text",
         "line": {
          "color": "rgba(120.31372549019609, 176.45098039215688, 210.88235294117646, 1.0)",
          "width": 2.1068299736327294
         },
         "mode": "lines",
         "showlegend": false,
         "text": "Width: 2.11",
         "type": "scatter",
         "x": [
          -3.778616540618283,
          -3.6999935507976827,
          null
         ],
         "y": [
          40.385273701511004,
          40.4606484776773,
          null
         ]
        },
        {
         "hoverinfo": "text",
         "line": {
          "color": "rgba(163.45098039215688, 210.96078431372553, 229.7058823529412, 1.0)",
          "width": 2.8791358339712514
         },
         "mode": "lines",
         "showlegend": false,
         "text": "Width: 2.88",
         "type": "scatter",
         "x": [
          -3.778616540618283,
          -3.703523951395161,
          null
         ],
         "y": [
          40.385273701511004,
          40.4375595509298,
          null
         ]
        },
        {
         "hoverinfo": "text",
         "line": {
          "color": "rgba(139.72549019607845, 191.98039215686276, 219.3529411764706, 1.0)",
          "width": 2.45981117632049
         },
         "mode": "lines",
         "showlegend": false,
         "text": "Width: 2.46",
         "type": "scatter",
         "x": [
          -3.778616540618283,
          -3.753579560856663,
          null
         ],
         "y": [
          40.385273701511004,
          40.54479435831404,
          null
         ]
        },
        {
         "hoverinfo": "text",
         "line": {
          "color": "rgba(253.33333333333334, 190.66666666666666, 112.66666666666666, 1.0)",
          "width": 6.642851067449179
         },
         "mode": "lines",
         "showlegend": false,
         "text": "Width: 6.64",
         "type": "scatter",
         "x": [
          -3.778616540618283,
          -3.757223268157654,
          null
         ],
         "y": [
          40.385273701511004,
          40.44543508494524,
          null
         ]
        },
        {
         "hoverinfo": "text",
         "line": {
          "color": "rgba(239.45098039215688, 99.4313725490196, 62.60784313725491, 1.0)",
          "width": 8.138130475461427
         },
         "mode": "lines",
         "showlegend": false,
         "text": "Width: 8.14",
         "type": "scatter",
         "x": [
          -3.778616540618283,
          -3.778616540618283,
          null
         ],
         "y": [
          40.385273701511004,
          40.385273701511004,
          null
         ]
        },
        {
         "hoverinfo": "text",
         "line": {
          "color": "rgba(253.05882352941177, 176.94117647058823, 99.76470588235293, 1.0)",
          "width": 6.919282129795016
         },
         "mode": "lines",
         "showlegend": false,
         "text": "Width: 6.92",
         "type": "scatter",
         "x": [
          -3.778616540618283,
          -3.737112400757822,
          null
         ],
         "y": [
          40.385273701511004,
          40.378840354576816,
          null
         ]
        },
        {
         "hoverinfo": "text",
         "line": {
          "color": "rgba(86.50980392156863, 137.86274509803926, 190.80392156862746, 1.0)",
          "width": 1.3753508548099005
         },
         "mode": "lines",
         "showlegend": false,
         "text": "Width: 1.38",
         "type": "scatter",
         "x": [
          -3.778616540618283,
          -3.7029808755455926,
          null
         ],
         "y": [
          40.385273701511004,
          40.37595000318738,
          null
         ]
        },
        {
         "hoverinfo": "text",
         "line": {
          "color": "rgba(92.03921568627452, 144.4509803921569, 194.2156862745098, 1.0)",
          "width": 1.510589436080633
         },
         "mode": "lines",
         "showlegend": false,
         "text": "Width: 1.51",
         "type": "scatter",
         "x": [
          -3.778616540618283,
          -3.6598634715735407,
          null
         ],
         "y": [
          40.385273701511004,
          40.38355078734683,
          null
         ]
        },
        {
         "hoverinfo": "text",
         "line": {
          "color": "rgba(55.274509803921575, 73.76470588235294, 158.72549019607845, 1.0)",
          "width": 0.5
         },
         "mode": "lines",
         "showlegend": false,
         "text": "Width: 0.50",
         "type": "scatter",
         "x": [
          -3.778616540618283,
          -3.6413909394895803,
          null
         ],
         "y": [
          40.385273701511004,
          40.40661270611631,
          null
         ]
        },
        {
         "hoverinfo": "text",
         "line": {
          "color": "rgba(103.0980392156863, 157.6274509803922, 201.0392156862745, 1.0)",
          "width": 1.7368376286467635
         },
         "mode": "lines",
         "showlegend": false,
         "text": "Width: 1.74",
         "type": "scatter",
         "x": [
          -3.778616540618283,
          -3.649948514601449,
          null
         ],
         "y": [
          40.385273701511004,
          40.43926990707227,
          null
         ]
        },
        {
         "hoverinfo": "text",
         "line": {
          "color": "rgba(90.19607843137256, 142.2549019607843, 193.07843137254903, 1.0)",
          "width": 1.466360466105299
         },
         "mode": "lines",
         "showlegend": false,
         "text": "Width: 1.47",
         "type": "scatter",
         "x": [
          -3.778616540618283,
          -3.637741035389707,
          null
         ],
         "y": [
          40.385273701511004,
          40.48201214532898,
          null
         ]
        },
        {
         "hoverinfo": "text",
         "line": {
          "color": "rgba(82.82352941176471, 133.47058823529412, 188.5294117647059, 1.0)",
          "width": 1.3124096283065407
         },
         "mode": "lines",
         "showlegend": false,
         "text": "Width: 1.31",
         "type": "scatter",
         "x": [
          -3.778616540618283,
          -3.695056256825152,
          null
         ],
         "y": [
          40.385273701511004,
          40.34253624126977,
          null
         ]
        },
        {
         "hoverinfo": "text",
         "line": {
          "color": "rgba(93.88235294117649, 146.64705882352945, 195.3529411764706, 1.0)",
          "width": 1.5488645062515949
         },
         "mode": "lines",
         "showlegend": false,
         "text": "Width: 1.55",
         "type": "scatter",
         "x": [
          -3.778616540618283,
          -3.6160073912284756,
          null
         ],
         "y": [
          40.385273701511004,
          40.34992967757026,
          null
         ]
        },
        {
         "hoverinfo": "text",
         "line": {
          "color": "rgba(59.98039215686274, 88.58823529411765, 166.01960784313727, 1.0)",
          "width": 0.5792293952538913
         },
         "mode": "lines",
         "showlegend": false,
         "text": "Width: 0.58",
         "type": "scatter",
         "x": [
          -3.778616540618283,
          -3.572894771748725,
          null
         ],
         "y": [
          40.385273701511004,
          40.39356859265691,
          null
         ]
        },
        {
         "hoverinfo": "text",
         "line": {
          "color": "rgba(84.66666666666667, 135.66666666666669, 189.66666666666669, 1.0)",
          "width": 1.3396274559836692
         },
         "mode": "lines",
         "showlegend": false,
         "text": "Width: 1.34",
         "type": "scatter",
         "x": [
          -3.778616540618283,
          -3.5986526886701378,
          null
         ],
         "y": [
          40.385273701511004,
          40.43466852782298,
          null
         ]
        },
        {
         "hoverinfo": "text",
         "line": {
          "color": "rgba(69.921568627451, 118.09803921568628, 180.56862745098042, 1.0)",
          "width": 1.0249213234668708
         },
         "mode": "lines",
         "showlegend": false,
         "text": "Width: 1.02",
         "type": "scatter",
         "x": [
          -3.778616540618283,
          -3.574543479322823,
          null
         ],
         "y": [
          40.385273701511004,
          40.4757410696608,
          null
         ]
        },
        {
         "hoverinfo": "text",
         "line": {
          "color": "rgba(209.4509803921569, 235.86274509803923, 243.88235294117646, 1.0)",
          "width": 3.7322446202262483
         },
         "mode": "lines",
         "showlegend": false,
         "text": "Width: 3.73",
         "type": "scatter",
         "x": [
          -3.737112400757822,
          -3.705268804063821,
          null
         ],
         "y": [
          40.378840354576816,
          40.41733007020507,
          null
         ]
        },
        {
         "hoverinfo": "text",
         "line": {
          "color": "rgba(254.15686274509804, 228.8627450980392, 151.37254901960782, 1.0)",
          "width": 5.858637407501914
         },
         "mode": "lines",
         "showlegend": false,
         "text": "Width: 5.86",
         "type": "scatter",
         "x": [
          -3.737112400757822,
          -3.6966151949203576,
          null
         ],
         "y": [
          40.378840354576816,
          40.398119933450886,
          null
         ]
        },
        {
         "hoverinfo": "text",
         "line": {
          "color": "rgba(93.88235294117649, 146.64705882352945, 195.3529411764706, 1.0)",
          "width": 1.5514161775963256
         },
         "mode": "lines",
         "showlegend": false,
         "text": "Width: 1.55",
         "type": "scatter",
         "x": [
          -3.737112400757822,
          -3.67643837848883,
          null
         ],
         "y": [
          40.378840354576816,
          40.41138084576659,
          null
         ]
        },
        {
         "hoverinfo": "text",
         "line": {
          "color": "rgba(144.03921568627453, 195.4313725490196, 221.23529411764707, 1.0)",
          "width": 2.538912988007145
         },
         "mode": "lines",
         "showlegend": false,
         "text": "Width: 2.54",
         "type": "scatter",
         "x": [
          -3.737112400757822,
          -3.6737887354917422,
          null
         ],
         "y": [
          40.378840354576816,
          40.43018370922185,
          null
         ]
        },
        {
         "hoverinfo": "text",
         "line": {
          "color": "rgba(148.35294117647058, 198.88235294117646, 223.1176470588235, 1.0)",
          "width": 2.6171642425788892
         },
         "mode": "lines",
         "showlegend": false,
         "text": "Width: 2.62",
         "type": "scatter",
         "x": [
          -3.737112400757822,
          -3.678150006537061,
          null
         ],
         "y": [
          40.378840354576816,
          40.45750039357669,
          null
         ]
        },
        {
         "hoverinfo": "text",
         "line": {
          "color": "rgba(122.47058823529414, 178.1764705882353, 211.82352941176472, 1.0)",
          "width": 2.1093816449774603
         },
         "mode": "lines",
         "showlegend": false,
         "text": "Width: 2.11",
         "type": "scatter",
         "x": [
          -3.737112400757822,
          -3.6999935507976827,
          null
         ],
         "y": [
          40.378840354576816,
          40.4606484776773,
          null
         ]
        },
        {
         "hoverinfo": "text",
         "line": {
          "color": "rgba(141.8823529411765, 193.70588235294122, 220.2941176470588, 1.0)",
          "width": 2.498936803606362
         },
         "mode": "lines",
         "showlegend": false,
         "text": "Width: 2.50",
         "type": "scatter",
         "x": [
          -3.737112400757822,
          -3.703523951395161,
          null
         ],
         "y": [
          40.378840354576816,
          40.4375595509298,
          null
         ]
        },
        {
         "hoverinfo": "text",
         "line": {
          "color": "rgba(122.47058823529414, 178.1764705882353, 211.82352941176472, 1.0)",
          "width": 2.1102322020923703
         },
         "mode": "lines",
         "showlegend": false,
         "text": "Width: 2.11",
         "type": "scatter",
         "x": [
          -3.737112400757822,
          -3.753579560856663,
          null
         ],
         "y": [
          40.378840354576816,
          40.54479435831404,
          null
         ]
        },
        {
         "hoverinfo": "text",
         "line": {
          "color": "rgba(156.98039215686276, 205.78431372549022, 226.88235294117646, 1.0)",
          "width": 2.764310623458365
         },
         "mode": "lines",
         "showlegend": false,
         "text": "Width: 2.76",
         "type": "scatter",
         "x": [
          -3.737112400757822,
          -3.757223268157654,
          null
         ],
         "y": [
          40.378840354576816,
          40.44543508494524,
          null
         ]
        },
        {
         "hoverinfo": "text",
         "line": {
          "color": "rgba(253.1764705882353, 182.8235294117647, 105.29411764705881, 1.0)",
          "width": 6.826571404269797
         },
         "mode": "lines",
         "showlegend": false,
         "text": "Width: 6.83",
         "type": "scatter",
         "x": [
          -3.737112400757822,
          -3.778616540618283,
          null
         ],
         "y": [
          40.378840354576816,
          40.385273701511004,
          null
         ]
        },
        {
         "hoverinfo": "text",
         "line": {
          "color": "rgba(244.3529411764706, 111.54901960784312, 68.17647058823529, 1.0)",
          "width": 7.948456238836437
         },
         "mode": "lines",
         "showlegend": false,
         "text": "Width: 7.95",
         "type": "scatter",
         "x": [
          -3.737112400757822,
          -3.737112400757822,
          null
         ],
         "y": [
          40.378840354576816,
          40.378840354576816,
          null
         ]
        },
        {
         "hoverinfo": "text",
         "line": {
          "color": "rgba(254.0, 224.0, 144.0, 1.0)",
          "width": 5.9964276601173765
         },
         "mode": "lines",
         "showlegend": false,
         "text": "Width: 6.00",
         "type": "scatter",
         "x": [
          -3.737112400757822,
          -3.7029808755455926,
          null
         ],
         "y": [
          40.378840354576816,
          40.37595000318738,
          null
         ]
        },
        {
         "hoverinfo": "text",
         "line": {
          "color": "rgba(110.47058823529414, 166.41176470588238, 205.58823529411765, 1.0)",
          "width": 1.881432338181509
         },
         "mode": "lines",
         "showlegend": false,
         "text": "Width: 1.88",
         "type": "scatter",
         "x": [
          -3.737112400757822,
          -3.6598634715735407,
          null
         ],
         "y": [
          40.378840354576816,
          40.38355078734683,
          null
         ]
        },
        {
         "hoverinfo": "text",
         "line": {
          "color": "rgba(59.98039215686274, 88.58823529411765, 166.01960784313727, 1.0)",
          "width": 0.5800799523688015
         },
         "mode": "lines",
         "showlegend": false,
         "text": "Width: 0.58",
         "type": "scatter",
         "x": [
          -3.737112400757822,
          -3.6413909394895803,
          null
         ],
         "y": [
          40.378840354576816,
          40.40661270611631,
          null
         ]
        },
        {
         "hoverinfo": "text",
         "line": {
          "color": "rgba(112.31372549019609, 168.60784313725495, 206.72549019607843, 1.0)",
          "width": 1.9409713362252274
         },
         "mode": "lines",
         "showlegend": false,
         "text": "Width: 1.94",
         "type": "scatter",
         "x": [
          -3.737112400757822,
          -3.649948514601449,
          null
         ],
         "y": [
          40.378840354576816,
          40.43926990707227,
          null
         ]
        },
        {
         "hoverinfo": "text",
         "line": {
          "color": "rgba(90.19607843137256, 142.2549019607843, 193.07843137254903, 1.0)",
          "width": 1.4833716084035042
         },
         "mode": "lines",
         "showlegend": false,
         "text": "Width: 1.48",
         "type": "scatter",
         "x": [
          -3.737112400757822,
          -3.637741035389707,
          null
         ],
         "y": [
          40.378840354576816,
          40.48201214532898,
          null
         ]
        },
        {
         "hoverinfo": "text",
         "line": {
          "color": "rgba(141.8823529411765, 193.70588235294122, 220.2941176470588, 1.0)",
          "width": 2.4691673045845026
         },
         "mode": "lines",
         "showlegend": false,
         "text": "Width: 2.47",
         "type": "scatter",
         "x": [
          -3.737112400757822,
          -3.695056256825152,
          null
         ],
         "y": [
          40.378840354576816,
          40.34253624126977,
          null
         ]
        },
        {
         "hoverinfo": "text",
         "line": {
          "color": "rgba(118.15686274509807, 174.72549019607845, 209.94117647058823, 1.0)",
          "width": 2.064302117887216
         },
         "mode": "lines",
         "showlegend": false,
         "text": "Width: 2.06",
         "type": "scatter",
         "x": [
          -3.737112400757822,
          -3.6160073912284756,
          null
         ],
         "y": [
          40.378840354576816,
          40.34992967757026,
          null
         ]
        },
        {
         "hoverinfo": "text",
         "line": {
          "color": "rgba(65.47058823529412, 105.88235294117648, 174.52941176470588, 1.0)",
          "width": 0.8471548864506252
         },
         "mode": "lines",
         "showlegend": false,
         "text": "Width: 0.85",
         "type": "scatter",
         "x": [
          -3.737112400757822,
          -3.572894771748725,
          null
         ],
         "y": [
          40.378840354576816,
          40.39356859265691,
          null
         ]
        },
        {
         "hoverinfo": "text",
         "line": {
          "color": "rgba(95.72549019607845, 148.843137254902, 196.49019607843138, 1.0)",
          "width": 1.5760823339287233
         },
         "mode": "lines",
         "showlegend": false,
         "text": "Width: 1.58",
         "type": "scatter",
         "x": [
          -3.737112400757822,
          -3.5986526886701378,
          null
         ],
         "y": [
          40.378840354576816,
          40.43466852782298,
          null
         ]
        },
        {
         "hoverinfo": "text",
         "line": {
          "color": "rgba(68.6078431372549, 115.76470588235296, 179.3921568627451, 1.0)",
          "width": 1.0019562813642935
         },
         "mode": "lines",
         "showlegend": false,
         "text": "Width: 1.00",
         "type": "scatter",
         "x": [
          -3.737112400757822,
          -3.574543479322823,
          null
         ],
         "y": [
          40.378840354576816,
          40.4757410696608,
          null
         ]
        },
        {
         "hoverinfo": "text",
         "line": {
          "color": "rgba(152.66666666666669, 202.33333333333334, 225.0, 1.0)",
          "width": 2.6835076975418897
         },
         "mode": "lines",
         "showlegend": false,
         "text": "Width: 2.68",
         "type": "scatter",
         "x": [
          -3.7029808755455926,
          -3.705268804063821,
          null
         ],
         "y": [
          40.37595000318738,
          40.41733007020507,
          null
         ]
        },
        {
         "hoverinfo": "text",
         "line": {
          "color": "rgba(254.7450980392157, 247.09803921568627, 179.01960784313724, 1.0)",
          "width": 5.239431827847239
         },
         "mode": "lines",
         "showlegend": false,
         "text": "Width: 5.24",
         "type": "scatter",
         "x": [
          -3.7029808755455926,
          -3.6966151949203576,
          null
         ],
         "y": [
          40.37595000318738,
          40.398119933450886,
          null
         ]
        },
        {
         "hoverinfo": "text",
         "line": {
          "color": "rgba(97.5686274509804, 151.03921568627453, 197.62745098039218, 1.0)",
          "width": 1.626265203708429
         },
         "mode": "lines",
         "showlegend": false,
         "text": "Width: 1.63",
         "type": "scatter",
         "x": [
          -3.7029808755455926,
          -3.67643837848883,
          null
         ],
         "y": [
          40.37595000318738,
          40.41138084576659,
          null
         ]
        },
        {
         "hoverinfo": "text",
         "line": {
          "color": "rgba(101.25490196078432, 155.4313725490196, 199.90196078431376, 1.0)",
          "width": 1.7147231436590966
         },
         "mode": "lines",
         "showlegend": false,
         "text": "Width: 1.71",
         "type": "scatter",
         "x": [
          -3.7029808755455926,
          -3.6737887354917422,
          null
         ],
         "y": [
          40.37595000318738,
          40.43018370922185,
          null
         ]
        },
        {
         "hoverinfo": "text",
         "line": {
          "color": "rgba(108.62745098039218, 164.21568627450984, 204.45098039215688, 1.0)",
          "width": 1.8635706387683932
         },
         "mode": "lines",
         "showlegend": false,
         "text": "Width: 1.86",
         "type": "scatter",
         "x": [
          -3.7029808755455926,
          -3.678150006537061,
          null
         ],
         "y": [
          40.37595000318738,
          40.45750039357669,
          null
         ]
        },
        {
         "hoverinfo": "text",
         "line": {
          "color": "rgba(82.82352941176471, 133.47058823529412, 188.5294117647059, 1.0)",
          "width": 1.3090073998468998
         },
         "mode": "lines",
         "showlegend": false,
         "text": "Width: 1.31",
         "type": "scatter",
         "x": [
          -3.7029808755455926,
          -3.6999935507976827,
          null
         ],
         "y": [
          40.37595000318738,
          40.4606484776773,
          null
         ]
        },
        {
         "hoverinfo": "text",
         "line": {
          "color": "rgba(104.94117647058823, 159.82352941176472, 202.17647058823528, 1.0)",
          "width": 1.7598026707493408
         },
         "mode": "lines",
         "showlegend": false,
         "text": "Width: 1.76",
         "type": "scatter",
         "x": [
          -3.7029808755455926,
          -3.703523951395161,
          null
         ],
         "y": [
          40.37595000318738,
          40.4375595509298,
          null
         ]
        },
        {
         "hoverinfo": "text",
         "line": {
          "color": "rgba(84.66666666666667, 135.66666666666669, 189.66666666666669, 1.0)",
          "width": 1.3557880411669643
         },
         "mode": "lines",
         "showlegend": false,
         "text": "Width: 1.36",
         "type": "scatter",
         "x": [
          -3.7029808755455926,
          -3.753579560856663,
          null
         ],
         "y": [
          40.37595000318738,
          40.54479435831404,
          null
         ]
        },
        {
         "hoverinfo": "text",
         "line": {
          "color": "rgba(103.0980392156863, 157.6274509803922, 201.0392156862745, 1.0)",
          "width": 1.7283320574976608
         },
         "mode": "lines",
         "showlegend": false,
         "text": "Width: 1.73",
         "type": "scatter",
         "x": [
          -3.7029808755455926,
          -3.757223268157654,
          null
         ],
         "y": [
          40.37595000318738,
          40.44543508494524,
          null
         ]
        },
        {
         "hoverinfo": "text",
         "line": {
          "color": "rgba(88.35294117647061, 140.0588235294118, 191.94117647058823, 1.0)",
          "width": 1.4119248107510418
         },
         "mode": "lines",
         "showlegend": false,
         "text": "Width: 1.41",
         "type": "scatter",
         "x": [
          -3.7029808755455926,
          -3.778616540618283,
          null
         ],
         "y": [
          40.37595000318738,
          40.385273701511004,
          null
         ]
        },
        {
         "hoverinfo": "text",
         "line": {
          "color": "rgba(254.58823529411765, 242.23529411764707, 171.64705882352942, 1.0)",
          "width": 5.3967848941056396
         },
         "mode": "lines",
         "showlegend": false,
         "text": "Width: 5.40",
         "type": "scatter",
         "x": [
          -3.7029808755455926,
          -3.737112400757822,
          null
         ],
         "y": [
          40.37595000318738,
          40.378840354576816,
          null
         ]
        },
        {
         "hoverinfo": "text",
         "line": {
          "color": "rgba(253.96078431372547, 222.0392156862745, 142.15686274509804, 1.0)",
          "width": 6.018542145105044
         },
         "mode": "lines",
         "showlegend": false,
         "text": "Width: 6.02",
         "type": "scatter",
         "x": [
          -3.7029808755455926,
          -3.7029808755455926,
          null
         ],
         "y": [
          40.37595000318738,
          40.37595000318738,
          null
         ]
        },
        {
         "hoverinfo": "text",
         "line": {
          "color": "rgba(167.76470588235296, 214.41176470588235, 231.58823529411765, 1.0)",
          "width": 2.955685974313175
         },
         "mode": "lines",
         "showlegend": false,
         "text": "Width: 2.96",
         "type": "scatter",
         "x": [
          -3.7029808755455926,
          -3.6598634715735407,
          null
         ],
         "y": [
          40.37595000318738,
          40.38355078734683,
          null
         ]
        },
        {
         "hoverinfo": "text",
         "line": {
          "color": "rgba(57.62745098039216, 81.17647058823529, 162.37254901960785, 1.0)",
          "width": 0.5
         },
         "mode": "lines",
         "showlegend": false,
         "text": "Width: 0.50",
         "type": "scatter",
         "x": [
          -3.7029808755455926,
          -3.6413909394895803,
          null
         ],
         "y": [
          40.37595000318738,
          40.40661270611631,
          null
         ]
        },
        {
         "hoverinfo": "text",
         "line": {
          "color": "rgba(77.29411764705883, 126.88235294117649, 185.11764705882354, 1.0)",
          "width": 1.1754699328059879
         },
         "mode": "lines",
         "showlegend": false,
         "text": "Width: 1.18",
         "type": "scatter",
         "x": [
          -3.7029808755455926,
          -3.649948514601449,
          null
         ],
         "y": [
          40.37595000318738,
          40.43926990707227,
          null
         ]
        },
        {
         "hoverinfo": "text",
         "line": {
          "color": "rgba(79.13725490196079, 129.07843137254903, 186.25490196078434, 1.0)",
          "width": 1.2137450029769499
         },
         "mode": "lines",
         "showlegend": false,
         "text": "Width: 1.21",
         "type": "scatter",
         "x": [
          -3.7029808755455926,
          -3.637741035389707,
          null
         ],
         "y": [
          40.37595000318738,
          40.48201214532898,
          null
         ]
        },
        {
         "hoverinfo": "text",
         "line": {
          "color": "rgba(254.66666666666666, 244.66666666666669, 175.33333333333334, 1.0)",
          "width": 5.316832525304074
         },
         "mode": "lines",
         "showlegend": false,
         "text": "Width: 5.32",
         "type": "scatter",
         "x": [
          -3.7029808755455926,
          -3.695056256825152,
          null
         ],
         "y": [
          40.37595000318738,
          40.34253624126977,
          null
         ]
        },
        {
         "hoverinfo": "text",
         "line": {
          "color": "rgba(97.5686274509804, 151.03921568627453, 197.62745098039218, 1.0)",
          "width": 1.6220124181338775
         },
         "mode": "lines",
         "showlegend": false,
         "text": "Width: 1.62",
         "type": "scatter",
         "x": [
          -3.7029808755455926,
          -3.6160073912284756,
          null
         ],
         "y": [
          40.37595000318738,
          40.34992967757026,
          null
         ]
        },
        {
         "hoverinfo": "text",
         "line": {
          "color": "rgba(63.90196078431372, 100.94117647058825, 172.0980392156863, 1.0)",
          "width": 0.7629497320745088
         },
         "mode": "lines",
         "showlegend": false,
         "text": "Width: 0.76",
         "type": "scatter",
         "x": [
          -3.7029808755455926,
          -3.572894771748725,
          null
         ],
         "y": [
          40.37595000318738,
          40.39356859265691,
          null
         ]
        },
        {
         "hoverinfo": "text",
         "line": {
          "color": "rgba(82.82352941176471, 133.47058823529412, 188.5294117647059, 1.0)",
          "width": 1.2970996002381558
         },
         "mode": "lines",
         "showlegend": false,
         "text": "Width: 1.30",
         "type": "scatter",
         "x": [
          -3.7029808755455926,
          -3.5986526886701378,
          null
         ],
         "y": [
          40.37595000318738,
          40.43466852782298,
          null
         ]
        },
        {
         "hoverinfo": "text",
         "line": {
          "color": "rgba(62.333333333333336, 96.0, 169.66666666666669, 1.0)",
          "width": 0.6668367780896487
         },
         "mode": "lines",
         "showlegend": false,
         "text": "Width: 0.67",
         "type": "scatter",
         "x": [
          -3.7029808755455926,
          -3.574543479322823,
          null
         ],
         "y": [
          40.37595000318738,
          40.4757410696608,
          null
         ]
        },
        {
         "hoverinfo": "text",
         "line": {
          "color": "rgba(159.1372549019608, 207.50980392156865, 227.82352941176472, 1.0)",
          "width": 2.788126222675852
         },
         "mode": "lines",
         "showlegend": false,
         "text": "Width: 2.79",
         "type": "scatter",
         "x": [
          -3.6598634715735407,
          -3.705268804063821,
          null
         ],
         "y": [
          40.38355078734683,
          40.41733007020507,
          null
         ]
        },
        {
         "hoverinfo": "text",
         "line": {
          "color": "rgba(232.50980392156865, 246.2941176470588, 232.35294117647052, 1.0)",
          "width": 4.290210087607383
         },
         "mode": "lines",
         "showlegend": false,
         "text": "Width: 4.29",
         "type": "scatter",
         "x": [
          -3.6598634715735407,
          -3.6966151949203576,
          null
         ],
         "y": [
          40.38355078734683,
          40.398119933450886,
          null
         ]
        },
        {
         "hoverinfo": "text",
         "line": {
          "color": "rgba(254.03921568627453, 225.2156862745098, 145.84313725490196, 1.0)",
          "width": 5.9734626180148
         },
         "mode": "lines",
         "showlegend": false,
         "text": "Width: 5.97",
         "type": "scatter",
         "x": [
          -3.6598634715735407,
          -3.67643837848883,
          null
         ],
         "y": [
          40.38355078734683,
          40.41138084576659,
          null
         ]
        },
        {
         "hoverinfo": "text",
         "line": {
          "color": "rgba(156.98039215686276, 205.78431372549022, 226.88235294117646, 1.0)",
          "width": 2.7566556094241728
         },
         "mode": "lines",
         "showlegend": false,
         "text": "Width: 2.76",
         "type": "scatter",
         "x": [
          -3.6598634715735407,
          -3.6737887354917422,
          null
         ],
         "y": [
          40.38355078734683,
          40.43018370922185,
          null
         ]
        },
        {
         "hoverinfo": "text",
         "line": {
          "color": "rgba(146.19607843137257, 197.15686274509807, 222.1764705882353, 1.0)",
          "width": 2.5644297014544524
         },
         "mode": "lines",
         "showlegend": false,
         "text": "Width: 2.56",
         "type": "scatter",
         "x": [
          -3.6598634715735407,
          -3.678150006537061,
          null
         ],
         "y": [
          40.38355078734683,
          40.45750039357669,
          null
         ]
        },
        {
         "hoverinfo": "text",
         "line": {
          "color": "rgba(112.31372549019609, 168.60784313725495, 206.72549019607843, 1.0)",
          "width": 1.9239601939270223
         },
         "mode": "lines",
         "showlegend": false,
         "text": "Width: 1.92",
         "type": "scatter",
         "x": [
          -3.6598634715735407,
          -3.6999935507976827,
          null
         ],
         "y": [
          40.38355078734683,
          40.4606484776773,
          null
         ]
        },
        {
         "hoverinfo": "text",
         "line": {
          "color": "rgba(137.56862745098042, 190.2549019607843, 218.41176470588235, 1.0)",
          "width": 2.4087777494258735
         },
         "mode": "lines",
         "showlegend": false,
         "text": "Width: 2.41",
         "type": "scatter",
         "x": [
          -3.6598634715735407,
          -3.703523951395161,
          null
         ],
         "y": [
          40.38355078734683,
          40.4375595509298,
          null
         ]
        },
        {
         "hoverinfo": "text",
         "line": {
          "color": "rgba(128.94117647058823, 183.3529411764706, 214.64705882352942, 1.0)",
          "width": 2.2412179977885516
         },
         "mode": "lines",
         "showlegend": false,
         "text": "Width: 2.24",
         "type": "scatter",
         "x": [
          -3.6598634715735407,
          -3.753579560856663,
          null
         ],
         "y": [
          40.38355078734683,
          40.54479435831404,
          null
         ]
        },
        {
         "hoverinfo": "text",
         "line": {
          "color": "rgba(128.94117647058823, 183.3529411764706, 214.64705882352942, 1.0)",
          "width": 2.2310113124096285
         },
         "mode": "lines",
         "showlegend": false,
         "text": "Width: 2.23",
         "type": "scatter",
         "x": [
          -3.6598634715735407,
          -3.757223268157654,
          null
         ],
         "y": [
          40.38355078734683,
          40.44543508494524,
          null
         ]
        },
        {
         "hoverinfo": "text",
         "line": {
          "color": "rgba(79.13725490196079, 129.07843137254903, 186.25490196078434, 1.0)",
          "width": 1.2214000170111423
         },
         "mode": "lines",
         "showlegend": false,
         "text": "Width: 1.22",
         "type": "scatter",
         "x": [
          -3.6598634715735407,
          -3.778616540618283,
          null
         ],
         "y": [
          40.38355078734683,
          40.385273701511004,
          null
         ]
        },
        {
         "hoverinfo": "text",
         "line": {
          "color": "rgba(92.03921568627452, 144.4509803921569, 194.2156862745098, 1.0)",
          "width": 1.5029344220464405
         },
         "mode": "lines",
         "showlegend": false,
         "text": "Width: 1.50",
         "type": "scatter",
         "x": [
          -3.6598634715735407,
          -3.737112400757822,
          null
         ],
         "y": [
          40.38355078734683,
          40.378840354576816,
          null
         ]
        },
        {
         "hoverinfo": "text",
         "line": {
          "color": "rgba(245.8823529411765, 251.47058823529412, 207.76470588235293, 1.0)",
          "width": 4.69507527430467
         },
         "mode": "lines",
         "showlegend": false,
         "text": "Width: 4.70",
         "type": "scatter",
         "x": [
          -3.6598634715735407,
          -3.7029808755455926,
          null
         ],
         "y": [
          40.38355078734683,
          40.37595000318738,
          null
         ]
        },
        {
         "hoverinfo": "text",
         "line": {
          "color": "rgba(245.41176470588235, 119.19607843137254, 71.70588235294117, 1.0)",
          "width": 7.846389385047205
         },
         "mode": "lines",
         "showlegend": false,
         "text": "Width: 7.85",
         "type": "scatter",
         "x": [
          -3.6598634715735407,
          -3.6598634715735407,
          null
         ],
         "y": [
          40.38355078734683,
          40.38355078734683,
          null
         ]
        },
        {
         "hoverinfo": "text",
         "line": {
          "color": "rgba(254.94117647058823, 253.1764705882353, 188.23529411764707, 1.0)",
          "width": 5.0684698477502765
         },
         "mode": "lines",
         "showlegend": false,
         "text": "Width: 5.07",
         "type": "scatter",
         "x": [
          -3.6598634715735407,
          -3.6413909394895803,
          null
         ],
         "y": [
          40.38355078734683,
          40.40661270611631,
          null
         ]
        },
        {
         "hoverinfo": "text",
         "line": {
          "color": "rgba(124.62745098039218, 179.90196078431376, 212.76470588235296, 1.0)",
          "width": 2.159564514757166
         },
         "mode": "lines",
         "showlegend": false,
         "text": "Width: 2.16",
         "type": "scatter",
         "x": [
          -3.6598634715735407,
          -3.649948514601449,
          null
         ],
         "y": [
          40.38355078734683,
          40.43926990707227,
          null
         ]
        },
        {
         "hoverinfo": "text",
         "line": {
          "color": "rgba(126.78431372549022, 181.62745098039218, 213.7058823529412, 1.0)",
          "width": 2.218252955685974
         },
         "mode": "lines",
         "showlegend": false,
         "text": "Width: 2.22",
         "type": "scatter",
         "x": [
          -3.6598634715735407,
          -3.637741035389707,
          null
         ],
         "y": [
          40.38355078734683,
          40.48201214532898,
          null
         ]
        },
        {
         "hoverinfo": "text",
         "line": {
          "color": "rgba(217.76470588235298, 239.94117647058823, 246.23529411764704, 1.0)",
          "width": 3.8912988007144675
         },
         "mode": "lines",
         "showlegend": false,
         "text": "Width: 3.89",
         "type": "scatter",
         "x": [
          -3.6598634715735407,
          -3.695056256825152,
          null
         ],
         "y": [
          40.38355078734683,
          40.34253624126977,
          null
         ]
        },
        {
         "hoverinfo": "text",
         "line": {
          "color": "rgba(250.00000000000003, 152.33333333333334, 87.0, 1.0)",
          "width": 7.305435059964276
         },
         "mode": "lines",
         "showlegend": false,
         "text": "Width: 7.31",
         "type": "scatter",
         "x": [
          -3.6598634715735407,
          -3.6160073912284756,
          null
         ],
         "y": [
          40.38355078734683,
          40.34992967757026,
          null
         ]
        },
        {
         "hoverinfo": "text",
         "line": {
          "color": "rgba(190.74509803921572, 226.68627450980395, 238.58823529411765, 1.0)",
          "width": 3.3979756740665135
         },
         "mode": "lines",
         "showlegend": false,
         "text": "Width: 3.40",
         "type": "scatter",
         "x": [
          -3.6598634715735407,
          -3.572894771748725,
          null
         ],
         "y": [
          40.38355078734683,
          40.39356859265691,
          null
         ]
        },
        {
         "hoverinfo": "text",
         "line": {
          "color": "rgba(114.15686274509805, 170.8039215686275, 207.86274509803923, 1.0)",
          "width": 1.962235264097984
         },
         "mode": "lines",
         "showlegend": false,
         "text": "Width: 1.96",
         "type": "scatter",
         "x": [
          -3.6598634715735407,
          -3.5986526886701378,
          null
         ],
         "y": [
          40.38355078734683,
          40.43466852782298,
          null
         ]
        },
        {
         "hoverinfo": "text",
         "line": {
          "color": "rgba(97.5686274509804, 151.03921568627453, 197.62745098039218, 1.0)",
          "width": 1.623713532363698
         },
         "mode": "lines",
         "showlegend": false,
         "text": "Width: 1.62",
         "type": "scatter",
         "x": [
          -3.6598634715735407,
          -3.574543479322823,
          null
         ],
         "y": [
          40.38355078734683,
          40.4757410696608,
          null
         ]
        },
        {
         "hoverinfo": "text",
         "line": {
          "color": "rgba(86.50980392156863, 137.86274509803926, 190.80392156862746, 1.0)",
          "width": 1.3753508548099005
         },
         "mode": "lines",
         "showlegend": false,
         "text": "Width: 1.38",
         "type": "scatter",
         "x": [
          -3.6413909394895803,
          -3.705268804063821,
          null
         ],
         "y": [
          40.40661270611631,
          40.41733007020507,
          null
         ]
        },
        {
         "hoverinfo": "text",
         "line": {
          "color": "rgba(63.90196078431372, 100.94117647058825, 172.0980392156863, 1.0)",
          "width": 0.7723058603385217
         },
         "mode": "lines",
         "showlegend": false,
         "text": "Width: 0.77",
         "type": "scatter",
         "x": [
          -3.6413909394895803,
          -3.6966151949203576,
          null
         ],
         "y": [
          40.40661270611631,
          40.398119933450886,
          null
         ]
        },
        {
         "hoverinfo": "text",
         "line": {
          "color": "rgba(243.45098039215688, 250.52941176470588, 212.23529411764704, 1.0)",
          "width": 4.644041847410054
         },
         "mode": "lines",
         "showlegend": false,
         "text": "Width: 4.64",
         "type": "scatter",
         "x": [
          -3.6413909394895803,
          -3.67643837848883,
          null
         ],
         "y": [
          40.40661270611631,
          40.41138084576659,
          null
         ]
        },
        {
         "hoverinfo": "text",
         "line": {
          "color": "rgba(205.29411764705887, 233.82352941176472, 242.7058823529412, 1.0)",
          "width": 3.6454877945054007
         },
         "mode": "lines",
         "showlegend": false,
         "text": "Width: 3.65",
         "type": "scatter",
         "x": [
          -3.6413909394895803,
          -3.6737887354917422,
          null
         ],
         "y": [
          40.40661270611631,
          40.43018370922185,
          null
         ]
        },
        {
         "hoverinfo": "text",
         "line": {
          "color": "rgba(88.35294117647061, 140.0588235294118, 191.94117647058823, 1.0)",
          "width": 1.4238326103597856
         },
         "mode": "lines",
         "showlegend": false,
         "text": "Width: 1.42",
         "type": "scatter",
         "x": [
          -3.6413909394895803,
          -3.678150006537061,
          null
         ],
         "y": [
          40.40661270611631,
          40.45750039357669,
          null
         ]
        },
        {
         "hoverinfo": "text",
         "line": {
          "color": "rgba(67.03921568627452, 110.82352941176472, 176.9607843137255, 1.0)",
          "width": 0.9058433273794334
         },
         "mode": "lines",
         "showlegend": false,
         "text": "Width: 0.91",
         "type": "scatter",
         "x": [
          -3.6413909394895803,
          -3.6999935507976827,
          null
         ],
         "y": [
          40.40661270611631,
          40.4606484776773,
          null
         ]
        },
        {
         "hoverinfo": "text",
         "line": {
          "color": "rgba(79.13725490196079, 129.07843137254903, 186.25490196078434, 1.0)",
          "width": 1.249468401803181
         },
         "mode": "lines",
         "showlegend": false,
         "text": "Width: 1.25",
         "type": "scatter",
         "x": [
          -3.6413909394895803,
          -3.703523951395161,
          null
         ],
         "y": [
          40.40661270611631,
          40.4375595509298,
          null
         ]
        },
        {
         "hoverinfo": "text",
         "line": {
          "color": "rgba(92.03921568627452, 144.4509803921569, 194.2156862745098, 1.0)",
          "width": 1.4986816364718891
         },
         "mode": "lines",
         "showlegend": false,
         "text": "Width: 1.50",
         "type": "scatter",
         "x": [
          -3.6413909394895803,
          -3.753579560856663,
          null
         ],
         "y": [
          40.40661270611631,
          40.54479435831404,
          null
         ]
        },
        {
         "hoverinfo": "text",
         "line": {
          "color": "rgba(69.921568627451, 118.09803921568628, 180.56862745098042, 1.0)",
          "width": 1.0521391511439993
         },
         "mode": "lines",
         "showlegend": false,
         "text": "Width: 1.05",
         "type": "scatter",
         "x": [
          -3.6413909394895803,
          -3.757223268157654,
          null
         ],
         "y": [
          40.40661270611631,
          40.44543508494524,
          null
         ]
        },
        {
         "hoverinfo": "text",
         "line": {
          "color": "rgba(58.411764705882355, 83.64705882352942, 163.58823529411765, 1.0)",
          "width": 0.5060814833716084
         },
         "mode": "lines",
         "showlegend": false,
         "text": "Width: 0.51",
         "type": "scatter",
         "x": [
          -3.6413909394895803,
          -3.778616540618283,
          null
         ],
         "y": [
          40.40661270611631,
          40.385273701511004,
          null
         ]
        },
        {
         "hoverinfo": "text",
         "line": {
          "color": "rgba(60.76470588235294, 91.05882352941177, 167.23529411764707, 1.0)",
          "width": 0.5962405375520966
         },
         "mode": "lines",
         "showlegend": false,
         "text": "Width: 0.60",
         "type": "scatter",
         "x": [
          -3.6413909394895803,
          -3.737112400757822,
          null
         ],
         "y": [
          40.40661270611631,
          40.378840354576816,
          null
         ]
        },
        {
         "hoverinfo": "text",
         "line": {
          "color": "rgba(62.333333333333336, 96.0, 169.66666666666669, 1.0)",
          "width": 0.6855490346176746
         },
         "mode": "lines",
         "showlegend": false,
         "text": "Width: 0.69",
         "type": "scatter",
         "x": [
          -3.6413909394895803,
          -3.7029808755455926,
          null
         ],
         "y": [
          40.40661270611631,
          40.37595000318738,
          null
         ]
        },
        {
         "hoverinfo": "text",
         "line": {
          "color": "rgba(254.90196078431373, 251.9607843137255, 186.3921568627451, 1.0)",
          "width": 5.094837118312495
         },
         "mode": "lines",
         "showlegend": false,
         "text": "Width: 5.09",
         "type": "scatter",
         "x": [
          -3.6413909394895803,
          -3.6598634715735407,
          null
         ],
         "y": [
          40.40661270611631,
          40.38355078734683,
          null
         ]
        },
        {
         "hoverinfo": "text",
         "line": {
          "color": "rgba(250.7450980392157, 253.3529411764706, 198.8235294117647, 1.0)",
          "width": 4.860933911712171
         },
         "mode": "lines",
         "showlegend": false,
         "text": "Width: 4.86",
         "type": "scatter",
         "x": [
          -3.6413909394895803,
          -3.6413909394895803,
          null
         ],
         "y": [
          40.40661270611631,
          40.40661270611631,
          null
         ]
        },
        {
         "hoverinfo": "text",
         "line": {
          "color": "rgba(226.43137254901964, 243.94117647058823, 243.52941176470583, 1.0)",
          "width": 4.088628051373649
         },
         "mode": "lines",
         "showlegend": false,
         "text": "Width: 4.09",
         "type": "scatter",
         "x": [
          -3.6413909394895803,
          -3.649948514601449,
          null
         ],
         "y": [
          40.40661270611631,
          40.43926990707227,
          null
         ]
        },
        {
         "hoverinfo": "text",
         "line": {
          "color": "rgba(71.76470588235294, 120.29411764705884, 181.7058823529412, 1.0)",
          "width": 1.0674491792123841
         },
         "mode": "lines",
         "showlegend": false,
         "text": "Width: 1.07",
         "type": "scatter",
         "x": [
          -3.6413909394895803,
          -3.637741035389707,
          null
         ],
         "y": [
          40.40661270611631,
          40.48201214532898,
          null
         ]
        },
        {
         "hoverinfo": "text",
         "line": {
          "color": "rgba(59.196078431372555, 86.11764705882355, 164.8039215686275, 1.0)",
          "width": 0.5392532108531087
         },
         "mode": "lines",
         "showlegend": false,
         "text": "Width: 0.54",
         "type": "scatter",
         "x": [
          -3.6413909394895803,
          -3.695056256825152,
          null
         ],
         "y": [
          40.40661270611631,
          40.34253624126977,
          null
         ]
        },
        {
         "hoverinfo": "text",
         "line": {
          "color": "rgba(118.15686274509807, 174.72549019607845, 209.94117647058823, 1.0)",
          "width": 2.062601003657395
         },
         "mode": "lines",
         "showlegend": false,
         "text": "Width: 2.06",
         "type": "scatter",
         "x": [
          -3.6413909394895803,
          -3.6160073912284756,
          null
         ],
         "y": [
          40.40661270611631,
          40.34992967757026,
          null
         ]
        },
        {
         "hoverinfo": "text",
         "line": {
          "color": "rgba(174.11764705882354, 218.52941176470588, 233.88235294117646, 1.0)",
          "width": 3.047546142723484
         },
         "mode": "lines",
         "showlegend": false,
         "text": "Width: 3.05",
         "type": "scatter",
         "x": [
          -3.6413909394895803,
          -3.572894771748725,
          null
         ],
         "y": [
          40.40661270611631,
          40.39356859265691,
          null
         ]
        },
        {
         "hoverinfo": "text",
         "line": {
          "color": "rgba(146.19607843137257, 197.15686274509807, 222.1764705882353, 1.0)",
          "width": 2.5610274729948115
         },
         "mode": "lines",
         "showlegend": false,
         "text": "Width: 2.56",
         "type": "scatter",
         "x": [
          -3.6413909394895803,
          -3.5986526886701378,
          null
         ],
         "y": [
          40.40661270611631,
          40.43466852782298,
          null
         ]
        },
        {
         "hoverinfo": "text",
         "line": {
          "color": "rgba(65.47058823529412, 105.88235294117648, 174.52941176470588, 1.0)",
          "width": 0.8522582291400868
         },
         "mode": "lines",
         "showlegend": false,
         "text": "Width: 0.85",
         "type": "scatter",
         "x": [
          -3.6413909394895803,
          -3.574543479322823,
          null
         ],
         "y": [
          40.40661270611631,
          40.4757410696608,
          null
         ]
        },
        {
         "hoverinfo": "text",
         "line": {
          "color": "rgba(126.78431372549022, 181.62745098039218, 213.7058823529412, 1.0)",
          "width": 2.2037934847324996
         },
         "mode": "lines",
         "showlegend": false,
         "text": "Width: 2.20",
         "type": "scatter",
         "x": [
          -3.649948514601449,
          -3.705268804063821,
          null
         ],
         "y": [
          40.43926990707227,
          40.41733007020507,
          null
         ]
        },
        {
         "hoverinfo": "text",
         "line": {
          "color": "rgba(73.60784313725492, 122.49019607843138, 182.84313725490196, 1.0)",
          "width": 1.1286892914859232
         },
         "mode": "lines",
         "showlegend": false,
         "text": "Width: 1.13",
         "type": "scatter",
         "x": [
          -3.649948514601449,
          -3.6966151949203576,
          null
         ],
         "y": [
          40.43926990707227,
          40.398119933450886,
          null
         ]
        },
        {
         "hoverinfo": "text",
         "line": {
          "color": "rgba(176.19607843137257, 219.54901960784315, 234.47058823529412, 1.0)",
          "width": 3.1206940546057664
         },
         "mode": "lines",
         "showlegend": false,
         "text": "Width: 3.12",
         "type": "scatter",
         "x": [
          -3.649948514601449,
          -3.67643837848883,
          null
         ],
         "y": [
          40.43926990707227,
          40.41138084576659,
          null
         ]
        },
        {
         "hoverinfo": "text",
         "line": {
          "color": "rgba(253.1764705882353, 182.8235294117647, 105.29411764705881, 1.0)",
          "width": 6.803606362167219
         },
         "mode": "lines",
         "showlegend": false,
         "text": "Width: 6.80",
         "type": "scatter",
         "x": [
          -3.649948514601449,
          -3.6737887354917422,
          null
         ],
         "y": [
          40.43926990707227,
          40.43018370922185,
          null
         ]
        },
        {
         "hoverinfo": "text",
         "line": {
          "color": "rgba(254.07843137254903, 226.4313725490196, 147.68627450980392, 1.0)",
          "width": 5.902866377477247
         },
         "mode": "lines",
         "showlegend": false,
         "text": "Width: 5.90",
         "type": "scatter",
         "x": [
          -3.649948514601449,
          -3.678150006537061,
          null
         ],
         "y": [
          40.43926990707227,
          40.45750039357669,
          null
         ]
        },
        {
         "hoverinfo": "text",
         "line": {
          "color": "rgba(97.5686274509804, 151.03921568627453, 197.62745098039218, 1.0)",
          "width": 1.623713532363698
         },
         "mode": "lines",
         "showlegend": false,
         "text": "Width: 1.62",
         "type": "scatter",
         "x": [
          -3.649948514601449,
          -3.6999935507976827,
          null
         ],
         "y": [
          40.43926990707227,
          40.4606484776773,
          null
         ]
        },
        {
         "hoverinfo": "text",
         "line": {
          "color": "rgba(126.78431372549022, 181.62745098039218, 213.7058823529412, 1.0)",
          "width": 2.2012418133877687
         },
         "mode": "lines",
         "showlegend": false,
         "text": "Width: 2.20",
         "type": "scatter",
         "x": [
          -3.649948514601449,
          -3.703523951395161,
          null
         ],
         "y": [
          40.43926990707227,
          40.4375595509298,
          null
         ]
        },
        {
         "hoverinfo": "text",
         "line": {
          "color": "rgba(154.82352941176472, 204.0588235294118, 225.94117647058823, 1.0)",
          "width": 2.7311388959768648
         },
         "mode": "lines",
         "showlegend": false,
         "text": "Width: 2.73",
         "type": "scatter",
         "x": [
          -3.649948514601449,
          -3.753579560856663,
          null
         ],
         "y": [
          40.43926990707227,
          40.54479435831404,
          null
         ]
        },
        {
         "hoverinfo": "text",
         "line": {
          "color": "rgba(110.47058823529414, 166.41176470588238, 205.58823529411765, 1.0)",
          "width": 1.9120523943182783
         },
         "mode": "lines",
         "showlegend": false,
         "text": "Width: 1.91",
         "type": "scatter",
         "x": [
          -3.649948514601449,
          -3.757223268157654,
          null
         ],
         "y": [
          40.43926990707227,
          40.44543508494524,
          null
         ]
        },
        {
         "hoverinfo": "text",
         "line": {
          "color": "rgba(64.68627450980392, 103.41176470588235, 173.3137254901961, 1.0)",
          "width": 0.7978225737858297
         },
         "mode": "lines",
         "showlegend": false,
         "text": "Width: 0.80",
         "type": "scatter",
         "x": [
          -3.649948514601449,
          -3.778616540618283,
          null
         ],
         "y": [
          40.43926990707227,
          40.385273701511004,
          null
         ]
        },
        {
         "hoverinfo": "text",
         "line": {
          "color": "rgba(75.45098039215688, 124.68627450980394, 183.98039215686276, 1.0)",
          "width": 1.134643191290295
         },
         "mode": "lines",
         "showlegend": false,
         "text": "Width: 1.13",
         "type": "scatter",
         "x": [
          -3.649948514601449,
          -3.737112400757822,
          null
         ],
         "y": [
          40.43926990707227,
          40.378840354576816,
          null
         ]
        },
        {
         "hoverinfo": "text",
         "line": {
          "color": "rgba(64.68627450980392, 103.41176470588235, 173.3137254901961, 1.0)",
          "width": 0.8122820447393042
         },
         "mode": "lines",
         "showlegend": false,
         "text": "Width: 0.81",
         "type": "scatter",
         "x": [
          -3.649948514601449,
          -3.7029808755455926,
          null
         ],
         "y": [
          40.43926990707227,
          40.37595000318738,
          null
         ]
        },
        {
         "hoverinfo": "text",
         "line": {
          "color": "rgba(80.98039215686276, 131.2745098039216, 187.3921568627451, 1.0)",
          "width": 1.2715828867908479
         },
         "mode": "lines",
         "showlegend": false,
         "text": "Width: 1.27",
         "type": "scatter",
         "x": [
          -3.649948514601449,
          -3.6598634715735407,
          null
         ],
         "y": [
          40.43926990707227,
          40.38355078734683,
          null
         ]
        },
        {
         "hoverinfo": "text",
         "line": {
          "color": "rgba(245.8823529411765, 251.47058823529412, 207.76470588235293, 1.0)",
          "width": 4.6891213745002975
         },
         "mode": "lines",
         "showlegend": false,
         "text": "Width: 4.69",
         "type": "scatter",
         "x": [
          -3.649948514601449,
          -3.6413909394895803,
          null
         ],
         "y": [
          40.43926990707227,
          40.40661270611631,
          null
         ]
        },
        {
         "hoverinfo": "text",
         "line": {
          "color": "rgba(252.47058823529414, 170.17647058823536, 95.23529411764709, 1.0)",
          "width": 7.06472739644467
         },
         "mode": "lines",
         "showlegend": false,
         "text": "Width: 7.06",
         "type": "scatter",
         "x": [
          -3.649948514601449,
          -3.649948514601449,
          null
         ],
         "y": [
          40.43926990707227,
          40.43926990707227,
          null
         ]
        },
        {
         "hoverinfo": "text",
         "line": {
          "color": "rgba(254.39215686274508, 254.76470588235296, 192.1176470588235, 1.0)",
          "width": 4.961299651271583
         },
         "mode": "lines",
         "showlegend": false,
         "text": "Width: 4.96",
         "type": "scatter",
         "x": [
          -3.649948514601449,
          -3.637741035389707,
          null
         ],
         "y": [
          40.43926990707227,
          40.48201214532898,
          null
         ]
        },
        {
         "hoverinfo": "text",
         "line": {
          "color": "rgba(66.25490196078432, 108.35294117647061, 175.74509803921572, 1.0)",
          "width": 0.8854299566215871
         },
         "mode": "lines",
         "showlegend": false,
         "text": "Width: 0.89",
         "type": "scatter",
         "x": [
          -3.649948514601449,
          -3.695056256825152,
          null
         ],
         "y": [
          40.43926990707227,
          40.34253624126977,
          null
         ]
        },
        {
         "hoverinfo": "text",
         "line": {
          "color": "rgba(71.76470588235294, 120.29411764705884, 181.7058823529412, 1.0)",
          "width": 1.0742536361316661
         },
         "mode": "lines",
         "showlegend": false,
         "text": "Width: 1.07",
         "type": "scatter",
         "x": [
          -3.649948514601449,
          -3.6160073912284756,
          null
         ],
         "y": [
          40.43926990707227,
          40.34992967757026,
          null
         ]
        },
        {
         "hoverinfo": "text",
         "line": {
          "color": "rgba(133.2549019607843, 186.8039215686275, 216.52941176470588, 1.0)",
          "width": 2.339882623118142
         },
         "mode": "lines",
         "showlegend": false,
         "text": "Width: 2.34",
         "type": "scatter",
         "x": [
          -3.649948514601449,
          -3.572894771748725,
          null
         ],
         "y": [
          40.43926990707227,
          40.39356859265691,
          null
         ]
        },
        {
         "hoverinfo": "text",
         "line": {
          "color": "rgba(253.52941176470588, 200.47058823529414, 121.88235294117646, 1.0)",
          "width": 6.447222931019818
         },
         "mode": "lines",
         "showlegend": false,
         "text": "Width: 6.45",
         "type": "scatter",
         "x": [
          -3.649948514601449,
          -3.5986526886701378,
          null
         ],
         "y": [
          40.43926990707227,
          40.43466852782298,
          null
         ]
        },
        {
         "hoverinfo": "text",
         "line": {
          "color": "rgba(103.0980392156863, 157.6274509803922, 201.0392156862745, 1.0)",
          "width": 1.75725099940461
         },
         "mode": "lines",
         "showlegend": false,
         "text": "Width: 1.76",
         "type": "scatter",
         "x": [
          -3.649948514601449,
          -3.574543479322823,
          null
         ],
         "y": [
          40.43926990707227,
          40.4757410696608,
          null
         ]
        },
        {
         "hoverinfo": "text",
         "line": {
          "color": "rgba(90.19607843137256, 142.2549019607843, 193.07843137254903, 1.0)",
          "width": 1.450199880922004
         },
         "mode": "lines",
         "showlegend": false,
         "text": "Width: 1.45",
         "type": "scatter",
         "x": [
          -3.637741035389707,
          -3.705268804063821,
          null
         ],
         "y": [
          40.48201214532898,
          40.41733007020507,
          null
         ]
        },
        {
         "hoverinfo": "text",
         "line": {
          "color": "rgba(63.90196078431372, 100.94117647058825, 172.0980392156863, 1.0)",
          "width": 0.7501913753508547
         },
         "mode": "lines",
         "showlegend": false,
         "text": "Width: 0.75",
         "type": "scatter",
         "x": [
          -3.637741035389707,
          -3.6966151949203576,
          null
         ],
         "y": [
          40.48201214532898,
          40.398119933450886,
          null
         ]
        },
        {
         "hoverinfo": "text",
         "line": {
          "color": "rgba(73.60784313725492, 122.49019607843138, 182.84313725490196, 1.0)",
          "width": 1.0980692353491535
         },
         "mode": "lines",
         "showlegend": false,
         "text": "Width: 1.10",
         "type": "scatter",
         "x": [
          -3.637741035389707,
          -3.67643837848883,
          null
         ],
         "y": [
          40.48201214532898,
          40.41138084576659,
          null
         ]
        },
        {
         "hoverinfo": "text",
         "line": {
          "color": "rgba(118.15686274509807, 174.72549019607845, 209.94117647058823, 1.0)",
          "width": 2.0498426469337416
         },
         "mode": "lines",
         "showlegend": false,
         "text": "Width: 2.05",
         "type": "scatter",
         "x": [
          -3.637741035389707,
          -3.6737887354917422,
          null
         ],
         "y": [
          40.48201214532898,
          40.43018370922185,
          null
         ]
        },
        {
         "hoverinfo": "text",
         "line": {
          "color": "rgba(236.15686274509804, 247.7058823529412, 225.64705882352936, 1.0)",
          "width": 4.401633069660627
         },
         "mode": "lines",
         "showlegend": false,
         "text": "Width: 4.40",
         "type": "scatter",
         "x": [
          -3.637741035389707,
          -3.678150006537061,
          null
         ],
         "y": [
          40.48201214532898,
          40.45750039357669,
          null
         ]
        },
        {
         "hoverinfo": "text",
         "line": {
          "color": "rgba(90.19607843137256, 142.2549019607843, 193.07843137254903, 1.0)",
          "width": 1.4706132516798502
         },
         "mode": "lines",
         "showlegend": false,
         "text": "Width: 1.47",
         "type": "scatter",
         "x": [
          -3.637741035389707,
          -3.6999935507976827,
          null
         ],
         "y": [
          40.48201214532898,
          40.4606484776773,
          null
         ]
        },
        {
         "hoverinfo": "text",
         "line": {
          "color": "rgba(103.0980392156863, 157.6274509803922, 201.0392156862745, 1.0)",
          "width": 1.7529982138300586
         },
         "mode": "lines",
         "showlegend": false,
         "text": "Width: 1.75",
         "type": "scatter",
         "x": [
          -3.637741035389707,
          -3.703523951395161,
          null
         ],
         "y": [
          40.48201214532898,
          40.4375595509298,
          null
         ]
        },
        {
         "hoverinfo": "text",
         "line": {
          "color": "rgba(254.31372549019608, 233.72549019607843, 158.7450980392157, 1.0)",
          "width": 5.676618184911116
         },
         "mode": "lines",
         "showlegend": false,
         "text": "Width: 5.68",
         "type": "scatter",
         "x": [
          -3.637741035389707,
          -3.753579560856663,
          null
         ],
         "y": [
          40.48201214532898,
          40.54479435831404,
          null
         ]
        },
        {
         "hoverinfo": "text",
         "line": {
          "color": "rgba(92.03921568627452, 144.4509803921569, 194.2156862745098, 1.0)",
          "width": 1.5190950072297353
         },
         "mode": "lines",
         "showlegend": false,
         "text": "Width: 1.52",
         "type": "scatter",
         "x": [
          -3.637741035389707,
          -3.757223268157654,
          null
         ],
         "y": [
          40.48201214532898,
          40.44543508494524,
          null
         ]
        },
        {
         "hoverinfo": "text",
         "line": {
          "color": "rgba(56.84313725490196, 78.70588235294117, 161.15686274509807, 1.0)",
          "width": 0.5
         },
         "mode": "lines",
         "showlegend": false,
         "text": "Width: 0.50",
         "type": "scatter",
         "x": [
          -3.637741035389707,
          -3.778616540618283,
          null
         ],
         "y": [
          40.48201214532898,
          40.385273701511004,
          null
         ]
        },
        {
         "hoverinfo": "text",
         "line": {
          "color": "rgba(58.411764705882355, 83.64705882352942, 163.58823529411765, 1.0)",
          "width": 0.5
         },
         "mode": "lines",
         "showlegend": false,
         "text": "Width: 0.50",
         "type": "scatter",
         "x": [
          -3.637741035389707,
          -3.737112400757822,
          null
         ],
         "y": [
          40.48201214532898,
          40.378840354576816,
          null
         ]
        },
        {
         "hoverinfo": "text",
         "line": {
          "color": "rgba(58.411764705882355, 83.64705882352942, 163.58823529411765, 1.0)",
          "width": 0.5
         },
         "mode": "lines",
         "showlegend": false,
         "text": "Width: 0.50",
         "type": "scatter",
         "x": [
          -3.637741035389707,
          -3.7029808755455926,
          null
         ],
         "y": [
          40.48201214532898,
          40.37595000318738,
          null
         ]
        },
        {
         "hoverinfo": "text",
         "line": {
          "color": "rgba(66.25490196078432, 108.35294117647061, 175.74509803921572, 1.0)",
          "width": 0.8684188143233817
         },
         "mode": "lines",
         "showlegend": false,
         "text": "Width: 0.87",
         "type": "scatter",
         "x": [
          -3.637741035389707,
          -3.6598634715735407,
          null
         ],
         "y": [
          40.48201214532898,
          40.38355078734683,
          null
         ]
        },
        {
         "hoverinfo": "text",
         "line": {
          "color": "rgba(56.84313725490196, 78.70588235294117, 161.15686274509807, 1.0)",
          "width": 0.5
         },
         "mode": "lines",
         "showlegend": false,
         "text": "Width: 0.50",
         "type": "scatter",
         "x": [
          -3.637741035389707,
          -3.6413909394895803,
          null
         ],
         "y": [
          40.48201214532898,
          40.40661270611631,
          null
         ]
        },
        {
         "hoverinfo": "text",
         "line": {
          "color": "rgba(254.50980392156862, 239.80392156862743, 167.9607843137255, 1.0)",
          "width": 5.479288934251934
         },
         "mode": "lines",
         "showlegend": false,
         "text": "Width: 5.48",
         "type": "scatter",
         "x": [
          -3.637741035389707,
          -3.649948514601449,
          null
         ],
         "y": [
          40.48201214532898,
          40.43926990707227,
          null
         ]
        },
        {
         "hoverinfo": "text",
         "line": {
          "color": "rgba(212.05882352941177, 45.17647058823529, 38.94117647058824, 1.0)",
          "width": 9.026962660542655
         },
         "mode": "lines",
         "showlegend": false,
         "text": "Width: 9.03",
         "type": "scatter",
         "x": [
          -3.637741035389707,
          -3.637741035389707,
          null
         ],
         "y": [
          40.48201214532898,
          40.48201214532898,
          null
         ]
        },
        {
         "hoverinfo": "text",
         "line": {
          "color": "rgba(56.84313725490196, 78.70588235294117, 161.15686274509807, 1.0)",
          "width": 0.5
         },
         "mode": "lines",
         "showlegend": false,
         "text": "Width: 0.50",
         "type": "scatter",
         "x": [
          -3.637741035389707,
          -3.695056256825152,
          null
         ],
         "y": [
          40.48201214532898,
          40.34253624126977,
          null
         ]
        },
        {
         "hoverinfo": "text",
         "line": {
          "color": "rgba(65.47058823529412, 105.88235294117648, 174.52941176470588, 1.0)",
          "width": 0.8326954154971506
         },
         "mode": "lines",
         "showlegend": false,
         "text": "Width: 0.83",
         "type": "scatter",
         "x": [
          -3.637741035389707,
          -3.6160073912284756,
          null
         ],
         "y": [
          40.48201214532898,
          40.34992967757026,
          null
         ]
        },
        {
         "hoverinfo": "text",
         "line": {
          "color": "rgba(63.11764705882353, 98.47058823529413, 170.88235294117646, 1.0)",
          "width": 0.73488134728247
         },
         "mode": "lines",
         "showlegend": false,
         "text": "Width: 0.73",
         "type": "scatter",
         "x": [
          -3.637741035389707,
          -3.572894771748725,
          null
         ],
         "y": [
          40.48201214532898,
          40.39356859265691,
          null
         ]
        },
        {
         "hoverinfo": "text",
         "line": {
          "color": "rgba(250.7450980392157, 253.3529411764706, 198.8235294117647, 1.0)",
          "width": 4.85753168325253
         },
         "mode": "lines",
         "showlegend": false,
         "text": "Width: 4.86",
         "type": "scatter",
         "x": [
          -3.637741035389707,
          -3.5986526886701378,
          null
         ],
         "y": [
          40.48201214532898,
          40.43466852782298,
          null
         ]
        },
        {
         "hoverinfo": "text",
         "line": {
          "color": "rgba(225.21568627450984, 243.47058823529412, 245.76470588235287, 1.0)",
          "width": 4.02398571064047
         },
         "mode": "lines",
         "showlegend": false,
         "text": "Width: 4.02",
         "type": "scatter",
         "x": [
          -3.637741035389707,
          -3.574543479322823,
          null
         ],
         "y": [
          40.48201214532898,
          40.4757410696608,
          null
         ]
        },
        {
         "hoverinfo": "text",
         "line": {
          "color": "rgba(116.00000000000003, 173.00000000000003, 209.0, 1.0)",
          "width": 2.020073147911882
         },
         "mode": "lines",
         "showlegend": false,
         "text": "Width: 2.02",
         "type": "scatter",
         "x": [
          -3.695056256825152,
          -3.705268804063821,
          null
         ],
         "y": [
          40.34253624126977,
          40.41733007020507,
          null
         ]
        },
        {
         "hoverinfo": "text",
         "line": {
          "color": "rgba(95.72549019607845, 148.843137254902, 196.49019607843138, 1.0)",
          "width": 1.59734626180148
         },
         "mode": "lines",
         "showlegend": false,
         "text": "Width: 1.60",
         "type": "scatter",
         "x": [
          -3.695056256825152,
          -3.6966151949203576,
          null
         ],
         "y": [
          40.34253624126977,
          40.398119933450886,
          null
         ]
        },
        {
         "hoverinfo": "text",
         "line": {
          "color": "rgba(92.03921568627452, 144.4509803921569, 194.2156862745098, 1.0)",
          "width": 1.4995321935867993
         },
         "mode": "lines",
         "showlegend": false,
         "text": "Width: 1.50",
         "type": "scatter",
         "x": [
          -3.695056256825152,
          -3.67643837848883,
          null
         ],
         "y": [
          40.34253624126977,
          40.41138084576659,
          null
         ]
        },
        {
         "hoverinfo": "text",
         "line": {
          "color": "rgba(133.2549019607843, 186.8039215686275, 216.52941176470588, 1.0)",
          "width": 2.316067023900655
         },
         "mode": "lines",
         "showlegend": false,
         "text": "Width: 2.32",
         "type": "scatter",
         "x": [
          -3.695056256825152,
          -3.6737887354917422,
          null
         ],
         "y": [
          40.34253624126977,
          40.43018370922185,
          null
         ]
        },
        {
         "hoverinfo": "text",
         "line": {
          "color": "rgba(110.47058823529414, 166.41176470588238, 205.58823529411765, 1.0)",
          "width": 1.9069490516288168
         },
         "mode": "lines",
         "showlegend": false,
         "text": "Width: 1.91",
         "type": "scatter",
         "x": [
          -3.695056256825152,
          -3.678150006537061,
          null
         ],
         "y": [
          40.34253624126977,
          40.45750039357669,
          null
         ]
        },
        {
         "hoverinfo": "text",
         "line": {
          "color": "rgba(80.98039215686276, 131.2745098039216, 187.3921568627451, 1.0)",
          "width": 1.2800884579399507
         },
         "mode": "lines",
         "showlegend": false,
         "text": "Width: 1.28",
         "type": "scatter",
         "x": [
          -3.695056256825152,
          -3.6999935507976827,
          null
         ],
         "y": [
          40.34253624126977,
          40.4606484776773,
          null
         ]
        },
        {
         "hoverinfo": "text",
         "line": {
          "color": "rgba(137.56862745098042, 190.2549019607843, 218.41176470588235, 1.0)",
          "width": 2.384111593093476
         },
         "mode": "lines",
         "showlegend": false,
         "text": "Width: 2.38",
         "type": "scatter",
         "x": [
          -3.695056256825152,
          -3.703523951395161,
          null
         ],
         "y": [
          40.34253624126977,
          40.4375595509298,
          null
         ]
        },
        {
         "hoverinfo": "text",
         "line": {
          "color": "rgba(90.19607843137256, 142.2549019607843, 193.07843137254903, 1.0)",
          "width": 1.4553032236114654
         },
         "mode": "lines",
         "showlegend": false,
         "text": "Width: 1.46",
         "type": "scatter",
         "x": [
          -3.695056256825152,
          -3.753579560856663,
          null
         ],
         "y": [
          40.34253624126977,
          40.54479435831404,
          null
         ]
        },
        {
         "hoverinfo": "text",
         "line": {
          "color": "rgba(101.25490196078432, 155.4313725490196, 199.90196078431376, 1.0)",
          "width": 1.713022029429276
         },
         "mode": "lines",
         "showlegend": false,
         "text": "Width: 1.71",
         "type": "scatter",
         "x": [
          -3.695056256825152,
          -3.757223268157654,
          null
         ],
         "y": [
          40.34253624126977,
          40.44543508494524,
          null
         ]
        },
        {
         "hoverinfo": "text",
         "line": {
          "color": "rgba(69.921568627451, 118.09803921568628, 180.56862745098042, 1.0)",
          "width": 1.05384026537382
         },
         "mode": "lines",
         "showlegend": false,
         "text": "Width: 1.05",
         "type": "scatter",
         "x": [
          -3.695056256825152,
          -3.778616540618283,
          null
         ],
         "y": [
          40.34253624126977,
          40.385273701511004,
          null
         ]
        },
        {
         "hoverinfo": "text",
         "line": {
          "color": "rgba(126.78431372549022, 181.62745098039218, 213.7058823529412, 1.0)",
          "width": 2.2191035128008845
         },
         "mode": "lines",
         "showlegend": false,
         "text": "Width: 2.22",
         "type": "scatter",
         "x": [
          -3.695056256825152,
          -3.737112400757822,
          null
         ],
         "y": [
          40.34253624126977,
          40.378840354576816,
          null
         ]
        },
        {
         "hoverinfo": "text",
         "line": {
          "color": "rgba(254.66666666666666, 244.66666666666669, 175.33333333333334, 1.0)",
          "width": 5.33469422471719
         },
         "mode": "lines",
         "showlegend": false,
         "text": "Width: 5.33",
         "type": "scatter",
         "x": [
          -3.695056256825152,
          -3.7029808755455926,
          null
         ],
         "y": [
          40.34253624126977,
          40.37595000318738,
          null
         ]
        },
        {
         "hoverinfo": "text",
         "line": {
          "color": "rgba(137.56862745098042, 190.2549019607843, 218.41176470588235, 1.0)",
          "width": 2.4172833205749766
         },
         "mode": "lines",
         "showlegend": false,
         "text": "Width: 2.42",
         "type": "scatter",
         "x": [
          -3.695056256825152,
          -3.6598634715735407,
          null
         ],
         "y": [
          40.34253624126977,
          40.38355078734683,
          null
         ]
        },
        {
         "hoverinfo": "text",
         "line": {
          "color": "rgba(56.05882352941177, 76.23529411764707, 159.94117647058823, 1.0)",
          "width": 0.5
         },
         "mode": "lines",
         "showlegend": false,
         "text": "Width: 0.50",
         "type": "scatter",
         "x": [
          -3.695056256825152,
          -3.6413909394895803,
          null
         ],
         "y": [
          40.34253624126977,
          40.40661270611631,
          null
         ]
        },
        {
         "hoverinfo": "text",
         "line": {
          "color": "rgba(80.98039215686276, 131.2745098039216, 187.3921568627451, 1.0)",
          "width": 1.27838734371013
         },
         "mode": "lines",
         "showlegend": false,
         "text": "Width: 1.28",
         "type": "scatter",
         "x": [
          -3.695056256825152,
          -3.649948514601449,
          null
         ],
         "y": [
          40.34253624126977,
          40.43926990707227,
          null
         ]
        },
        {
         "hoverinfo": "text",
         "line": {
          "color": "rgba(73.60784313725492, 122.49019607843138, 182.84313725490196, 1.0)",
          "width": 1.1269881772561026
         },
         "mode": "lines",
         "showlegend": false,
         "text": "Width: 1.13",
         "type": "scatter",
         "x": [
          -3.695056256825152,
          -3.637741035389707,
          null
         ],
         "y": [
          40.34253624126977,
          40.48201214532898,
          null
         ]
        },
        {
         "hoverinfo": "text",
         "line": {
          "color": "rgba(220.11764705882354, 58.76470588235294, 43.941176470588246, 1.0)",
          "width": 8.806668367780896
         },
         "mode": "lines",
         "showlegend": false,
         "text": "Width: 8.81",
         "type": "scatter",
         "x": [
          -3.695056256825152,
          -3.695056256825152,
          null
         ],
         "y": [
          40.34253624126977,
          40.34253624126977,
          null
         ]
        },
        {
         "hoverinfo": "text",
         "line": {
          "color": "rgba(205.29411764705887, 233.82352941176472, 242.7058823529412, 1.0)",
          "width": 3.6582461512290547
         },
         "mode": "lines",
         "showlegend": false,
         "text": "Width: 3.66",
         "type": "scatter",
         "x": [
          -3.695056256825152,
          -3.6160073912284756,
          null
         ],
         "y": [
          40.34253624126977,
          40.34992967757026,
          null
         ]
        },
        {
         "hoverinfo": "text",
         "line": {
          "color": "rgba(67.03921568627452, 110.82352941176472, 176.9607843137255, 1.0)",
          "width": 0.9083949987241643
         },
         "mode": "lines",
         "showlegend": false,
         "text": "Width: 0.91",
         "type": "scatter",
         "x": [
          -3.695056256825152,
          -3.572894771748725,
          null
         ],
         "y": [
          40.34253624126977,
          40.39356859265691,
          null
         ]
        },
        {
         "hoverinfo": "text",
         "line": {
          "color": "rgba(71.76470588235294, 120.29411764705884, 181.7058823529412, 1.0)",
          "width": 1.0597941651781917
         },
         "mode": "lines",
         "showlegend": false,
         "text": "Width: 1.06",
         "type": "scatter",
         "x": [
          -3.695056256825152,
          -3.5986526886701378,
          null
         ],
         "y": [
          40.34253624126977,
          40.43466852782298,
          null
         ]
        },
        {
         "hoverinfo": "text",
         "line": {
          "color": "rgba(66.25490196078432, 108.35294117647061, 175.74509803921572, 1.0)",
          "width": 0.8701199285532024
         },
         "mode": "lines",
         "showlegend": false,
         "text": "Width: 0.87",
         "type": "scatter",
         "x": [
          -3.695056256825152,
          -3.574543479322823,
          null
         ],
         "y": [
          40.34253624126977,
          40.4757410696608,
          null
         ]
        },
        {
         "hoverinfo": "text",
         "line": {
          "color": "rgba(118.15686274509807, 174.72549019607845, 209.94117647058823, 1.0)",
          "width": 2.0498426469337416
         },
         "mode": "lines",
         "showlegend": false,
         "text": "Width: 2.05",
         "type": "scatter",
         "x": [
          -3.6160073912284756,
          -3.705268804063821,
          null
         ],
         "y": [
          40.34992967757026,
          40.41733007020507,
          null
         ]
        },
        {
         "hoverinfo": "text",
         "line": {
          "color": "rgba(73.60784313725492, 122.49019607843138, 182.84313725490196, 1.0)",
          "width": 1.1133792634175383
         },
         "mode": "lines",
         "showlegend": false,
         "text": "Width: 1.11",
         "type": "scatter",
         "x": [
          -3.6160073912284756,
          -3.6966151949203576,
          null
         ],
         "y": [
          40.34992967757026,
          40.398119933450886,
          null
         ]
        },
        {
         "hoverinfo": "text",
         "line": {
          "color": "rgba(97.5686274509804, 151.03921568627453, 197.62745098039218, 1.0)",
          "width": 1.6033001616058518
         },
         "mode": "lines",
         "showlegend": false,
         "text": "Width: 1.60",
         "type": "scatter",
         "x": [
          -3.6160073912284756,
          -3.67643837848883,
          null
         ],
         "y": [
          40.34992967757026,
          40.41138084576659,
          null
         ]
        },
        {
         "hoverinfo": "text",
         "line": {
          "color": "rgba(120.31372549019609, 176.45098039215688, 210.88235294117646, 1.0)",
          "width": 2.0855660457599727
         },
         "mode": "lines",
         "showlegend": false,
         "text": "Width: 2.09",
         "type": "scatter",
         "x": [
          -3.6160073912284756,
          -3.6737887354917422,
          null
         ],
         "y": [
          40.34992967757026,
          40.43018370922185,
          null
         ]
        },
        {
         "hoverinfo": "text",
         "line": {
          "color": "rgba(103.0980392156863, 157.6274509803922, 201.0392156862745, 1.0)",
          "width": 1.7232287148081993
         },
         "mode": "lines",
         "showlegend": false,
         "text": "Width: 1.72",
         "type": "scatter",
         "x": [
          -3.6160073912284756,
          -3.678150006537061,
          null
         ],
         "y": [
          40.34992967757026,
          40.45750039357669,
          null
         ]
        },
        {
         "hoverinfo": "text",
         "line": {
          "color": "rgba(71.76470588235294, 120.29411764705884, 181.7058823529412, 1.0)",
          "width": 1.0700008505571148
         },
         "mode": "lines",
         "showlegend": false,
         "text": "Width: 1.07",
         "type": "scatter",
         "x": [
          -3.6160073912284756,
          -3.6999935507976827,
          null
         ],
         "y": [
          40.34992967757026,
          40.4606484776773,
          null
         ]
        },
        {
         "hoverinfo": "text",
         "line": {
          "color": "rgba(104.94117647058823, 159.82352941176472, 202.17647058823528, 1.0)",
          "width": 1.7836182699668282
         },
         "mode": "lines",
         "showlegend": false,
         "text": "Width: 1.78",
         "type": "scatter",
         "x": [
          -3.6160073912284756,
          -3.703523951395161,
          null
         ],
         "y": [
          40.34992967757026,
          40.4375595509298,
          null
         ]
        },
        {
         "hoverinfo": "text",
         "line": {
          "color": "rgba(77.29411764705883, 126.88235294117649, 185.11764705882354, 1.0)",
          "width": 1.1754699328059879
         },
         "mode": "lines",
         "showlegend": false,
         "text": "Width: 1.18",
         "type": "scatter",
         "x": [
          -3.6160073912284756,
          -3.753579560856663,
          null
         ],
         "y": [
          40.34992967757026,
          40.54479435831404,
          null
         ]
        },
        {
         "hoverinfo": "text",
         "line": {
          "color": "rgba(69.921568627451, 118.09803921568628, 180.56862745098042, 1.0)",
          "width": 1.047886365569448
         },
         "mode": "lines",
         "showlegend": false,
         "text": "Width: 1.05",
         "type": "scatter",
         "x": [
          -3.6160073912284756,
          -3.757223268157654,
          null
         ],
         "y": [
          40.34992967757026,
          40.44543508494524,
          null
         ]
        },
        {
         "hoverinfo": "text",
         "line": {
          "color": "rgba(59.98039215686274, 88.58823529411765, 166.01960784313727, 1.0)",
          "width": 0.549459896232032
         },
         "mode": "lines",
         "showlegend": false,
         "text": "Width: 0.55",
         "type": "scatter",
         "x": [
          -3.6160073912284756,
          -3.778616540618283,
          null
         ],
         "y": [
          40.34992967757026,
          40.385273701511004,
          null
         ]
        },
        {
         "hoverinfo": "text",
         "line": {
          "color": "rgba(69.921568627451, 118.09803921568628, 180.56862745098042, 1.0)",
          "width": 1.0308752232712426
         },
         "mode": "lines",
         "showlegend": false,
         "text": "Width: 1.03",
         "type": "scatter",
         "x": [
          -3.6160073912284756,
          -3.737112400757822,
          null
         ],
         "y": [
          40.34992967757026,
          40.378840354576816,
          null
         ]
        },
        {
         "hoverinfo": "text",
         "line": {
          "color": "rgba(99.41176470588236, 153.2352941176471, 198.76470588235296, 1.0)",
          "width": 1.6662413881092113
         },
         "mode": "lines",
         "showlegend": false,
         "text": "Width: 1.67",
         "type": "scatter",
         "x": [
          -3.6160073912284756,
          -3.7029808755455926,
          null
         ],
         "y": [
          40.34992967757026,
          40.37595000318738,
          null
         ]
        },
        {
         "hoverinfo": "text",
         "line": {
          "color": "rgba(253.13725490196077, 180.8627450980392, 103.45098039215685, 1.0)",
          "width": 6.859743131751297
         },
         "mode": "lines",
         "showlegend": false,
         "text": "Width: 6.86",
         "type": "scatter",
         "x": [
          -3.6160073912284756,
          -3.6598634715735407,
          null
         ],
         "y": [
          40.34992967757026,
          40.38355078734683,
          null
         ]
        },
        {
         "hoverinfo": "text",
         "line": {
          "color": "rgba(82.82352941176471, 133.47058823529412, 188.5294117647059, 1.0)",
          "width": 1.3030535000425276
         },
         "mode": "lines",
         "showlegend": false,
         "text": "Width: 1.30",
         "type": "scatter",
         "x": [
          -3.6160073912284756,
          -3.6413909394895803,
          null
         ],
         "y": [
          40.34992967757026,
          40.40661270611631,
          null
         ]
        },
        {
         "hoverinfo": "text",
         "line": {
          "color": "rgba(84.66666666666667, 135.66666666666669, 189.66666666666669, 1.0)",
          "width": 1.3600408267415156
         },
         "mode": "lines",
         "showlegend": false,
         "text": "Width: 1.36",
         "type": "scatter",
         "x": [
          -3.6160073912284756,
          -3.649948514601449,
          null
         ],
         "y": [
          40.34992967757026,
          40.43926990707227,
          null
         ]
        },
        {
         "hoverinfo": "text",
         "line": {
          "color": "rgba(86.50980392156863, 137.86274509803926, 190.80392156862746, 1.0)",
          "width": 1.4000170111422983
         },
         "mode": "lines",
         "showlegend": false,
         "text": "Width: 1.40",
         "type": "scatter",
         "x": [
          -3.6160073912284756,
          -3.637741035389707,
          null
         ],
         "y": [
          40.34992967757026,
          40.48201214532898,
          null
         ]
        },
        {
         "hoverinfo": "text",
         "line": {
          "color": "rgba(232.50980392156865, 246.2941176470588, 232.35294117647052, 1.0)",
          "width": 4.263842817045164
         },
         "mode": "lines",
         "showlegend": false,
         "text": "Width: 4.26",
         "type": "scatter",
         "x": [
          -3.6160073912284756,
          -3.695056256825152,
          null
         ],
         "y": [
          40.34992967757026,
          40.34253624126977,
          null
         ]
        },
        {
         "hoverinfo": "text",
         "line": {
          "color": "rgba(217.84313725490196, 53.98039215686274, 41.74509803921569, 1.0)",
          "width": 8.875563494088627
         },
         "mode": "lines",
         "showlegend": false,
         "text": "Width: 8.88",
         "type": "scatter",
         "x": [
          -3.6160073912284756,
          -3.6160073912284756,
          null
         ],
         "y": [
          40.34992967757026,
          40.34992967757026,
          null
         ]
        },
        {
         "hoverinfo": "text",
         "line": {
          "color": "rgba(254.4313725490196, 237.37254901960785, 164.27450980392155, 1.0)",
          "width": 5.584758016500808
         },
         "mode": "lines",
         "showlegend": false,
         "text": "Width: 5.58",
         "type": "scatter",
         "x": [
          -3.6160073912284756,
          -3.572894771748725,
          null
         ],
         "y": [
          40.34992967757026,
          40.39356859265691,
          null
         ]
        },
        {
         "hoverinfo": "text",
         "line": {
          "color": "rgba(84.66666666666667, 135.66666666666669, 189.66666666666669, 1.0)",
          "width": 1.3370757846389385
         },
         "mode": "lines",
         "showlegend": false,
         "text": "Width: 1.34",
         "type": "scatter",
         "x": [
          -3.6160073912284756,
          -3.5986526886701378,
          null
         ],
         "y": [
          40.34992967757026,
          40.43466852782298,
          null
         ]
        },
        {
         "hoverinfo": "text",
         "line": {
          "color": "rgba(71.76470588235294, 120.29411764705884, 181.7058823529412, 1.0)",
          "width": 1.0648975078676532
         },
         "mode": "lines",
         "showlegend": false,
         "text": "Width: 1.06",
         "type": "scatter",
         "x": [
          -3.6160073912284756,
          -3.574543479322823,
          null
         ],
         "y": [
          40.34992967757026,
          40.4757410696608,
          null
         ]
        },
        {
         "hoverinfo": "text",
         "line": {
          "color": "rgba(80.98039215686276, 131.2745098039216, 187.3921568627451, 1.0)",
          "width": 1.274985115250489
         },
         "mode": "lines",
         "showlegend": false,
         "text": "Width: 1.27",
         "type": "scatter",
         "x": [
          -3.572894771748725,
          -3.705268804063821,
          null
         ],
         "y": [
          40.39356859265691,
          40.41733007020507,
          null
         ]
        },
        {
         "hoverinfo": "text",
         "line": {
          "color": "rgba(63.11764705882353, 98.47058823529413, 170.88235294117646, 1.0)",
          "width": 0.7110657480649826
         },
         "mode": "lines",
         "showlegend": false,
         "text": "Width: 0.71",
         "type": "scatter",
         "x": [
          -3.572894771748725,
          -3.6966151949203576,
          null
         ],
         "y": [
          40.39356859265691,
          40.398119933450886,
          null
         ]
        },
        {
         "hoverinfo": "text",
         "line": {
          "color": "rgba(84.66666666666667, 135.66666666666669, 189.66666666666669, 1.0)",
          "width": 1.3319724419494767
         },
         "mode": "lines",
         "showlegend": false,
         "text": "Width: 1.33",
         "type": "scatter",
         "x": [
          -3.572894771748725,
          -3.67643837848883,
          null
         ],
         "y": [
          40.39356859265691,
          40.41138084576659,
          null
         ]
        },
        {
         "hoverinfo": "text",
         "line": {
          "color": "rgba(104.94117647058823, 159.82352941176472, 202.17647058823528, 1.0)",
          "width": 1.7785149272773666
         },
         "mode": "lines",
         "showlegend": false,
         "text": "Width: 1.78",
         "type": "scatter",
         "x": [
          -3.572894771748725,
          -3.6737887354917422,
          null
         ],
         "y": [
          40.39356859265691,
          40.43018370922185,
          null
         ]
        },
        {
         "hoverinfo": "text",
         "line": {
          "color": "rgba(90.19607843137256, 142.2549019607843, 193.07843137254903, 1.0)",
          "width": 1.4655099089903885
         },
         "mode": "lines",
         "showlegend": false,
         "text": "Width: 1.47",
         "type": "scatter",
         "x": [
          -3.572894771748725,
          -3.678150006537061,
          null
         ],
         "y": [
          40.39356859265691,
          40.45750039357669,
          null
         ]
        },
        {
         "hoverinfo": "text",
         "line": {
          "color": "rgba(68.6078431372549, 115.76470588235296, 179.3921568627451, 1.0)",
          "width": 0.9866462532959088
         },
         "mode": "lines",
         "showlegend": false,
         "text": "Width: 0.99",
         "type": "scatter",
         "x": [
          -3.572894771748725,
          -3.6999935507976827,
          null
         ],
         "y": [
          40.39356859265691,
          40.4606484776773,
          null
         ]
        },
        {
         "hoverinfo": "text",
         "line": {
          "color": "rgba(88.35294117647061, 140.0588235294118, 191.94117647058823, 1.0)",
          "width": 1.4110742536361316
         },
         "mode": "lines",
         "showlegend": false,
         "text": "Width: 1.41",
         "type": "scatter",
         "x": [
          -3.572894771748725,
          -3.703523951395161,
          null
         ],
         "y": [
          40.39356859265691,
          40.4375595509298,
          null
         ]
        },
        {
         "hoverinfo": "text",
         "line": {
          "color": "rgba(67.8235294117647, 113.29411764705883, 178.1764705882353, 1.0)",
          "width": 0.9738878965722548
         },
         "mode": "lines",
         "showlegend": false,
         "text": "Width: 0.97",
         "type": "scatter",
         "x": [
          -3.572894771748725,
          -3.753579560856663,
          null
         ],
         "y": [
          40.39356859265691,
          40.54479435831404,
          null
         ]
        },
        {
         "hoverinfo": "text",
         "line": {
          "color": "rgba(65.47058823529412, 105.88235294117648, 174.52941176470588, 1.0)",
          "width": 0.8301437441524198
         },
         "mode": "lines",
         "showlegend": false,
         "text": "Width: 0.83",
         "type": "scatter",
         "x": [
          -3.572894771748725,
          -3.757223268157654,
          null
         ],
         "y": [
          40.39356859265691,
          40.44543508494524,
          null
         ]
        },
        {
         "hoverinfo": "text",
         "line": {
          "color": "rgba(55.274509803921575, 73.76470588235294, 158.72549019607845, 1.0)",
          "width": 0.5
         },
         "mode": "lines",
         "showlegend": false,
         "text": "Width: 0.50",
         "type": "scatter",
         "x": [
          -3.572894771748725,
          -3.778616540618283,
          null
         ],
         "y": [
          40.39356859265691,
          40.385273701511004,
          null
         ]
        },
        {
         "hoverinfo": "text",
         "line": {
          "color": "rgba(57.62745098039216, 81.17647058823529, 162.37254901960785, 1.0)",
          "width": 0.5
         },
         "mode": "lines",
         "showlegend": false,
         "text": "Width: 0.50",
         "type": "scatter",
         "x": [
          -3.572894771748725,
          -3.737112400757822,
          null
         ],
         "y": [
          40.39356859265691,
          40.378840354576816,
          null
         ]
        },
        {
         "hoverinfo": "text",
         "line": {
          "color": "rgba(56.84313725490196, 78.70588235294117, 161.15686274509807, 1.0)",
          "width": 0.5
         },
         "mode": "lines",
         "showlegend": false,
         "text": "Width: 0.50",
         "type": "scatter",
         "x": [
          -3.572894771748725,
          -3.7029808755455926,
          null
         ],
         "y": [
          40.39356859265691,
          40.37595000318738,
          null
         ]
        },
        {
         "hoverinfo": "text",
         "line": {
          "color": "rgba(172.03921568627453, 217.50980392156862, 233.29411764705884, 1.0)",
          "width": 3.022879986391086
         },
         "mode": "lines",
         "showlegend": false,
         "text": "Width: 3.02",
         "type": "scatter",
         "x": [
          -3.572894771748725,
          -3.6598634715735407,
          null
         ],
         "y": [
          40.39356859265691,
          40.38355078734683,
          null
         ]
        },
        {
         "hoverinfo": "text",
         "line": {
          "color": "rgba(172.03921568627453, 217.50980392156862, 233.29411764705884, 1.0)",
          "width": 3.029684443310368
         },
         "mode": "lines",
         "showlegend": false,
         "text": "Width: 3.03",
         "type": "scatter",
         "x": [
          -3.572894771748725,
          -3.6413909394895803,
          null
         ],
         "y": [
          40.39356859265691,
          40.40661270611631,
          null
         ]
        },
        {
         "hoverinfo": "text",
         "line": {
          "color": "rgba(110.47058823529414, 166.41176470588238, 205.58823529411765, 1.0)",
          "width": 1.8916390235604321
         },
         "mode": "lines",
         "showlegend": false,
         "text": "Width: 1.89",
         "type": "scatter",
         "x": [
          -3.572894771748725,
          -3.649948514601449,
          null
         ],
         "y": [
          40.39356859265691,
          40.43926990707227,
          null
         ]
        },
        {
         "hoverinfo": "text",
         "line": {
          "color": "rgba(80.98039215686276, 131.2745098039216, 187.3921568627451, 1.0)",
          "width": 1.2690312154461172
         },
         "mode": "lines",
         "showlegend": false,
         "text": "Width: 1.27",
         "type": "scatter",
         "x": [
          -3.572894771748725,
          -3.637741035389707,
          null
         ],
         "y": [
          40.39356859265691,
          40.48201214532898,
          null
         ]
        },
        {
         "hoverinfo": "text",
         "line": {
          "color": "rgba(63.11764705882353, 98.47058823529413, 170.88235294117646, 1.0)",
          "width": 0.7051118482606107
         },
         "mode": "lines",
         "showlegend": false,
         "text": "Width: 0.71",
         "type": "scatter",
         "x": [
          -3.572894771748725,
          -3.695056256825152,
          null
         ],
         "y": [
          40.39356859265691,
          40.34253624126977,
          null
         ]
        },
        {
         "hoverinfo": "text",
         "line": {
          "color": "rgba(254.90196078431373, 251.9607843137255, 186.3921568627451, 1.0)",
          "width": 5.109296589265969
         },
         "mode": "lines",
         "showlegend": false,
         "text": "Width: 5.11",
         "type": "scatter",
         "x": [
          -3.572894771748725,
          -3.6160073912284756,
          null
         ],
         "y": [
          40.39356859265691,
          40.34992967757026,
          null
         ]
        },
        {
         "hoverinfo": "text",
         "line": {
          "color": "rgba(247.52941176470588, 134.49019607843138, 78.76470588235296, 1.0)",
          "width": 7.595475036148677
         },
         "mode": "lines",
         "showlegend": false,
         "text": "Width: 7.60",
         "type": "scatter",
         "x": [
          -3.572894771748725,
          -3.572894771748725,
          null
         ],
         "y": [
          40.39356859265691,
          40.39356859265691,
          null
         ]
        },
        {
         "hoverinfo": "text",
         "line": {
          "color": "rgba(254.78431372549022, 248.31372549019608, 180.8627450980392, 1.0)",
          "width": 5.215616228629752
         },
         "mode": "lines",
         "showlegend": false,
         "text": "Width: 5.22",
         "type": "scatter",
         "x": [
          -3.572894771748725,
          -3.5986526886701378,
          null
         ],
         "y": [
          40.39356859265691,
          40.43466852782298,
          null
         ]
        },
        {
         "hoverinfo": "text",
         "line": {
          "color": "rgba(69.921568627451, 118.09803921568628, 180.56862745098042, 1.0)",
          "width": 1.047886365569448
         },
         "mode": "lines",
         "showlegend": false,
         "text": "Width: 1.05",
         "type": "scatter",
         "x": [
          -3.572894771748725,
          -3.574543479322823,
          null
         ],
         "y": [
          40.39356859265691,
          40.4757410696608,
          null
         ]
        },
        {
         "hoverinfo": "text",
         "line": {
          "color": "rgba(112.31372549019609, 168.60784313725495, 206.72549019607843, 1.0)",
          "width": 1.9146040656630092
         },
         "mode": "lines",
         "showlegend": false,
         "text": "Width: 1.91",
         "type": "scatter",
         "x": [
          -3.5986526886701378,
          -3.705268804063821,
          null
         ],
         "y": [
          40.43466852782298,
          40.41733007020507,
          null
         ]
        },
        {
         "hoverinfo": "text",
         "line": {
          "color": "rgba(67.03921568627452, 110.82352941176472, 176.9607843137255, 1.0)",
          "width": 0.9245555839074594
         },
         "mode": "lines",
         "showlegend": false,
         "text": "Width: 0.92",
         "type": "scatter",
         "x": [
          -3.5986526886701378,
          -3.6966151949203576,
          null
         ],
         "y": [
          40.43466852782298,
          40.398119933450886,
          null
         ]
        },
        {
         "hoverinfo": "text",
         "line": {
          "color": "rgba(86.50980392156863, 137.86274509803926, 190.80392156862746, 1.0)",
          "width": 1.3804541974993618
         },
         "mode": "lines",
         "showlegend": false,
         "text": "Width: 1.38",
         "type": "scatter",
         "x": [
          -3.5986526886701378,
          -3.67643837848883,
          null
         ],
         "y": [
          40.43466852782298,
          40.41138084576659,
          null
         ]
        },
        {
         "hoverinfo": "text",
         "line": {
          "color": "rgba(141.8823529411765, 193.70588235294122, 220.2941176470588, 1.0)",
          "width": 2.483626775537977
         },
         "mode": "lines",
         "showlegend": false,
         "text": "Width: 2.48",
         "type": "scatter",
         "x": [
          -3.5986526886701378,
          -3.6737887354917422,
          null
         ],
         "y": [
          40.43466852782298,
          40.43018370922185,
          null
         ]
        },
        {
         "hoverinfo": "text",
         "line": {
          "color": "rgba(128.94117647058823, 183.3529411764706, 214.64705882352942, 1.0)",
          "width": 2.227609083949987
         },
         "mode": "lines",
         "showlegend": false,
         "text": "Width: 2.23",
         "type": "scatter",
         "x": [
          -3.5986526886701378,
          -3.678150006537061,
          null
         ],
         "y": [
          40.43466852782298,
          40.45750039357669,
          null
         ]
        },
        {
         "hoverinfo": "text",
         "line": {
          "color": "rgba(97.5686274509804, 151.03921568627453, 197.62745098039218, 1.0)",
          "width": 1.6118057327549544
         },
         "mode": "lines",
         "showlegend": false,
         "text": "Width: 1.61",
         "type": "scatter",
         "x": [
          -3.5986526886701378,
          -3.6999935507976827,
          null
         ],
         "y": [
          40.43466852782298,
          40.4606484776773,
          null
         ]
        },
        {
         "hoverinfo": "text",
         "line": {
          "color": "rgba(126.78431372549022, 181.62745098039218, 213.7058823529412, 1.0)",
          "width": 2.192736242238666
         },
         "mode": "lines",
         "showlegend": false,
         "text": "Width: 2.19",
         "type": "scatter",
         "x": [
          -3.5986526886701378,
          -3.703523951395161,
          null
         ],
         "y": [
          40.43466852782298,
          40.4375595509298,
          null
         ]
        },
        {
         "hoverinfo": "text",
         "line": {
          "color": "rgba(131.0980392156863, 185.07843137254903, 215.58823529411765, 1.0)",
          "width": 2.282044739304244
         },
         "mode": "lines",
         "showlegend": false,
         "text": "Width: 2.28",
         "type": "scatter",
         "x": [
          -3.5986526886701378,
          -3.753579560856663,
          null
         ],
         "y": [
          40.43466852782298,
          40.54479435831404,
          null
         ]
        },
        {
         "hoverinfo": "text",
         "line": {
          "color": "rgba(97.5686274509804, 151.03921568627453, 197.62745098039218, 1.0)",
          "width": 1.6109551756400442
         },
         "mode": "lines",
         "showlegend": false,
         "text": "Width: 1.61",
         "type": "scatter",
         "x": [
          -3.5986526886701378,
          -3.757223268157654,
          null
         ],
         "y": [
          40.43466852782298,
          40.44543508494524,
          null
         ]
        },
        {
         "hoverinfo": "text",
         "line": {
          "color": "rgba(59.196078431372555, 86.11764705882355, 164.8039215686275, 1.0)",
          "width": 0.5375520966232882
         },
         "mode": "lines",
         "showlegend": false,
         "text": "Width: 0.54",
         "type": "scatter",
         "x": [
          -3.5986526886701378,
          -3.778616540618283,
          null
         ],
         "y": [
          40.43466852782298,
          40.385273701511004,
          null
         ]
        },
        {
         "hoverinfo": "text",
         "line": {
          "color": "rgba(63.90196078431372, 100.94117647058825, 172.0980392156863, 1.0)",
          "width": 0.7459385897763035
         },
         "mode": "lines",
         "showlegend": false,
         "text": "Width: 0.75",
         "type": "scatter",
         "x": [
          -3.5986526886701378,
          -3.737112400757822,
          null
         ],
         "y": [
          40.43466852782298,
          40.378840354576816,
          null
         ]
        },
        {
         "hoverinfo": "text",
         "line": {
          "color": "rgba(63.11764705882353, 98.47058823529413, 170.88235294117646, 1.0)",
          "width": 0.7178702049842647
         },
         "mode": "lines",
         "showlegend": false,
         "text": "Width: 0.72",
         "type": "scatter",
         "x": [
          -3.5986526886701378,
          -3.7029808755455926,
          null
         ],
         "y": [
          40.43466852782298,
          40.37595000318738,
          null
         ]
        },
        {
         "hoverinfo": "text",
         "line": {
          "color": "rgba(75.45098039215688, 124.68627450980394, 183.98039215686276, 1.0)",
          "width": 1.1474015480139492
         },
         "mode": "lines",
         "showlegend": false,
         "text": "Width: 1.15",
         "type": "scatter",
         "x": [
          -3.5986526886701378,
          -3.6598634715735407,
          null
         ],
         "y": [
          40.43466852782298,
          40.38355078734683,
          null
         ]
        },
        {
         "hoverinfo": "text",
         "line": {
          "color": "rgba(124.62745098039218, 179.90196078431376, 212.76470588235296, 1.0)",
          "width": 2.1731734285957303
         },
         "mode": "lines",
         "showlegend": false,
         "text": "Width: 2.17",
         "type": "scatter",
         "x": [
          -3.5986526886701378,
          -3.6413909394895803,
          null
         ],
         "y": [
          40.43466852782298,
          40.40661270611631,
          null
         ]
        },
        {
         "hoverinfo": "text",
         "line": {
          "color": "rgba(253.80392156862746, 214.19607843137254, 134.7843137254902, 1.0)",
          "width": 6.201411924810751
         },
         "mode": "lines",
         "showlegend": false,
         "text": "Width: 6.20",
         "type": "scatter",
         "x": [
          -3.5986526886701378,
          -3.649948514601449,
          null
         ],
         "y": [
          40.43466852782298,
          40.43926990707227,
          null
         ]
        },
        {
         "hoverinfo": "text",
         "line": {
          "color": "rgba(236.15686274509804, 247.7058823529412, 225.64705882352936, 1.0)",
          "width": 4.392276941396614
         },
         "mode": "lines",
         "showlegend": false,
         "text": "Width: 4.39",
         "type": "scatter",
         "x": [
          -3.5986526886701378,
          -3.637741035389707,
          null
         ],
         "y": [
          40.43466852782298,
          40.48201214532898,
          null
         ]
        },
        {
         "hoverinfo": "text",
         "line": {
          "color": "rgba(63.90196078431372, 100.94117647058825, 172.0980392156863, 1.0)",
          "width": 0.7501913753508547
         },
         "mode": "lines",
         "showlegend": false,
         "text": "Width: 0.75",
         "type": "scatter",
         "x": [
          -3.5986526886701378,
          -3.695056256825152,
          null
         ],
         "y": [
          40.43466852782298,
          40.34253624126977,
          null
         ]
        },
        {
         "hoverinfo": "text",
         "line": {
          "color": "rgba(80.98039215686276, 131.2745098039216, 187.3921568627451, 1.0)",
          "width": 1.2605256442970143
         },
         "mode": "lines",
         "showlegend": false,
         "text": "Width: 1.26",
         "type": "scatter",
         "x": [
          -3.5986526886701378,
          -3.6160073912284756,
          null
         ],
         "y": [
          40.43466852782298,
          40.34992967757026,
          null
         ]
        },
        {
         "hoverinfo": "text",
         "line": {
          "color": "rgba(253.2941176470588, 188.70588235294116, 110.82352941176471, 1.0)",
          "width": 6.692183380113975
         },
         "mode": "lines",
         "showlegend": false,
         "text": "Width: 6.69",
         "type": "scatter",
         "x": [
          -3.5986526886701378,
          -3.572894771748725,
          null
         ],
         "y": [
          40.43466852782298,
          40.39356859265691,
          null
         ]
        },
        {
         "hoverinfo": "text",
         "line": {
          "color": "rgba(233.76470588235293, 87.4705882352941, 57.11764705882353, 1.0)",
          "width": 8.335459726120607
         },
         "mode": "lines",
         "showlegend": false,
         "text": "Width: 8.34",
         "type": "scatter",
         "x": [
          -3.5986526886701378,
          -3.5986526886701378,
          null
         ],
         "y": [
          40.43466852782298,
          40.43466852782298,
          null
         ]
        },
        {
         "hoverinfo": "text",
         "line": {
          "color": "rgba(254.39215686274508, 236.15686274509804, 162.4313725490196, 1.0)",
          "width": 5.59496470187973
         },
         "mode": "lines",
         "showlegend": false,
         "text": "Width: 5.59",
         "type": "scatter",
         "x": [
          -3.5986526886701378,
          -3.574543479322823,
          null
         ],
         "y": [
          40.43466852782298,
          40.4757410696608,
          null
         ]
        },
        {
         "hoverinfo": "text",
         "line": {
          "color": "rgba(62.333333333333336, 96.0, 169.66666666666669, 1.0)",
          "width": 0.6710895636642
         },
         "mode": "lines",
         "showlegend": false,
         "text": "Width: 0.67",
         "type": "scatter",
         "x": [
          -3.574543479322823,
          -3.705268804063821,
          null
         ],
         "y": [
          40.4757410696608,
          40.41733007020507,
          null
         ]
        },
        {
         "hoverinfo": "text",
         "line": {
          "color": "rgba(52.92156862745099, 66.35294117647058, 155.07843137254903, 1.0)",
          "width": 0.5
         },
         "mode": "lines",
         "showlegend": false,
         "text": "Width: 0.50",
         "type": "scatter",
         "x": [
          -3.574543479322823,
          -3.6966151949203576,
          null
         ],
         "y": [
          40.4757410696608,
          40.398119933450886,
          null
         ]
        },
        {
         "hoverinfo": "text",
         "line": {
          "color": "rgba(57.62745098039216, 81.17647058823529, 162.37254901960785, 1.0)",
          "width": 0.5
         },
         "mode": "lines",
         "showlegend": false,
         "text": "Width: 0.50",
         "type": "scatter",
         "x": [
          -3.574543479322823,
          -3.67643837848883,
          null
         ],
         "y": [
          40.4757410696608,
          40.41138084576659,
          null
         ]
        },
        {
         "hoverinfo": "text",
         "line": {
          "color": "rgba(71.76470588235294, 120.29411764705884, 181.7058823529412, 1.0)",
          "width": 1.0759547503614868
         },
         "mode": "lines",
         "showlegend": false,
         "text": "Width: 1.08",
         "type": "scatter",
         "x": [
          -3.574543479322823,
          -3.6737887354917422,
          null
         ],
         "y": [
          40.4757410696608,
          40.43018370922185,
          null
         ]
        },
        {
         "hoverinfo": "text",
         "line": {
          "color": "rgba(73.60784313725492, 122.49019607843138, 182.84313725490196, 1.0)",
          "width": 1.111678149187718
         },
         "mode": "lines",
         "showlegend": false,
         "text": "Width: 1.11",
         "type": "scatter",
         "x": [
          -3.574543479322823,
          -3.678150006537061,
          null
         ],
         "y": [
          40.4757410696608,
          40.45750039357669,
          null
         ]
        },
        {
         "hoverinfo": "text",
         "line": {
          "color": "rgba(61.54901960784314, 93.5294117647059, 168.45098039215688, 1.0)",
          "width": 0.6591817640554563
         },
         "mode": "lines",
         "showlegend": false,
         "text": "Width: 0.66",
         "type": "scatter",
         "x": [
          -3.574543479322823,
          -3.6999935507976827,
          null
         ],
         "y": [
          40.4757410696608,
          40.4606484776773,
          null
         ]
        },
        {
         "hoverinfo": "text",
         "line": {
          "color": "rgba(73.60784313725492, 122.49019607843138, 182.84313725490196, 1.0)",
          "width": 1.1065748064982563
         },
         "mode": "lines",
         "showlegend": false,
         "text": "Width: 1.11",
         "type": "scatter",
         "x": [
          -3.574543479322823,
          -3.703523951395161,
          null
         ],
         "y": [
          40.4757410696608,
          40.4375595509298,
          null
         ]
        },
        {
         "hoverinfo": "text",
         "line": {
          "color": "rgba(71.76470588235294, 120.29411764705884, 181.7058823529412, 1.0)",
          "width": 1.0887131070851408
         },
         "mode": "lines",
         "showlegend": false,
         "text": "Width: 1.09",
         "type": "scatter",
         "x": [
          -3.574543479322823,
          -3.753579560856663,
          null
         ],
         "y": [
          40.4757410696608,
          40.54479435831404,
          null
         ]
        },
        {
         "hoverinfo": "text",
         "line": {
          "color": "rgba(59.98039215686274, 88.58823529411765, 166.01960784313727, 1.0)",
          "width": 0.552862124691673
         },
         "mode": "lines",
         "showlegend": false,
         "text": "Width: 0.55",
         "type": "scatter",
         "x": [
          -3.574543479322823,
          -3.757223268157654,
          null
         ],
         "y": [
          40.4757410696608,
          40.44543508494524,
          null
         ]
        },
        {
         "hoverinfo": "text",
         "line": {
          "color": "rgba(51.35294117647059, 61.411764705882355, 152.64705882352942, 1.0)",
          "width": 0.5
         },
         "mode": "lines",
         "showlegend": false,
         "text": "Width: 0.50",
         "type": "scatter",
         "x": [
          -3.574543479322823,
          -3.778616540618283,
          null
         ],
         "y": [
          40.4757410696608,
          40.385273701511004,
          null
         ]
        },
        {
         "hoverinfo": "text",
         "line": {
          "color": "rgba(52.13725490196079, 63.88235294117647, 153.86274509803923, 1.0)",
          "width": 0.5
         },
         "mode": "lines",
         "showlegend": false,
         "text": "Width: 0.50",
         "type": "scatter",
         "x": [
          -3.574543479322823,
          -3.737112400757822,
          null
         ],
         "y": [
          40.4757410696608,
          40.378840354576816,
          null
         ]
        },
        {
         "hoverinfo": "text",
         "line": {
          "color": "rgba(49.7843137254902, 56.470588235294116, 150.21568627450984, 1.0)",
          "width": 0.5
         },
         "mode": "lines",
         "showlegend": false,
         "text": "Width: 0.50",
         "type": "scatter",
         "x": [
          -3.574543479322823,
          -3.7029808755455926,
          null
         ],
         "y": [
          40.4757410696608,
          40.37595000318738,
          null
         ]
        },
        {
         "hoverinfo": "text",
         "line": {
          "color": "rgba(54.490196078431374, 71.29411764705883, 157.50980392156865, 1.0)",
          "width": 0.5
         },
         "mode": "lines",
         "showlegend": false,
         "text": "Width: 0.50",
         "type": "scatter",
         "x": [
          -3.574543479322823,
          -3.6598634715735407,
          null
         ],
         "y": [
          40.4757410696608,
          40.38355078734683,
          null
         ]
        },
        {
         "hoverinfo": "text",
         "line": {
          "color": "rgba(49.0, 54.0, 149.0, 1.0)",
          "width": 0.5
         },
         "mode": "lines",
         "showlegend": false,
         "text": "Width: 0.50",
         "type": "scatter",
         "x": [
          -3.574543479322823,
          -3.6413909394895803,
          null
         ],
         "y": [
          40.4757410696608,
          40.40661270611631,
          null
         ]
        },
        {
         "hoverinfo": "text",
         "line": {
          "color": "rgba(65.47058823529412, 105.88235294117648, 174.52941176470588, 1.0)",
          "width": 0.8284426299225992
         },
         "mode": "lines",
         "showlegend": false,
         "text": "Width: 0.83",
         "type": "scatter",
         "x": [
          -3.574543479322823,
          -3.649948514601449,
          null
         ],
         "y": [
          40.4757410696608,
          40.43926990707227,
          null
         ]
        },
        {
         "hoverinfo": "text",
         "line": {
          "color": "rgba(254.39215686274508, 254.76470588235296, 192.1176470588235, 1.0)",
          "width": 4.991069150293442
         },
         "mode": "lines",
         "showlegend": false,
         "text": "Width: 4.99",
         "type": "scatter",
         "x": [
          -3.574543479322823,
          -3.637741035389707,
          null
         ],
         "y": [
          40.4757410696608,
          40.48201214532898,
          null
         ]
        },
        {
         "hoverinfo": "text",
         "line": {
          "color": "rgba(51.35294117647059, 61.411764705882355, 152.64705882352942, 1.0)",
          "width": 0.5
         },
         "mode": "lines",
         "showlegend": false,
         "text": "Width: 0.50",
         "type": "scatter",
         "x": [
          -3.574543479322823,
          -3.695056256825152,
          null
         ],
         "y": [
          40.4757410696608,
          40.34253624126977,
          null
         ]
        },
        {
         "hoverinfo": "text",
         "line": {
          "color": "rgba(54.490196078431374, 71.29411764705883, 157.50980392156865, 1.0)",
          "width": 0.5
         },
         "mode": "lines",
         "showlegend": false,
         "text": "Width: 0.50",
         "type": "scatter",
         "x": [
          -3.574543479322823,
          -3.6160073912284756,
          null
         ],
         "y": [
          40.4757410696608,
          40.34992967757026,
          null
         ]
        },
        {
         "hoverinfo": "text",
         "line": {
          "color": "rgba(53.705882352941174, 68.82352941176471, 156.2941176470588, 1.0)",
          "width": 0.5
         },
         "mode": "lines",
         "showlegend": false,
         "text": "Width: 0.50",
         "type": "scatter",
         "x": [
          -3.574543479322823,
          -3.572894771748725,
          null
         ],
         "y": [
          40.4757410696608,
          40.39356859265691,
          null
         ]
        },
        {
         "hoverinfo": "text",
         "line": {
          "color": "rgba(224.00000000000003, 243.0, 247.99999999999994, 1.0)",
          "width": 4.010376796801905
         },
         "mode": "lines",
         "showlegend": false,
         "text": "Width: 4.01",
         "type": "scatter",
         "x": [
          -3.574543479322823,
          -3.5986526886701378,
          null
         ],
         "y": [
          40.4757410696608,
          40.43466852782298,
          null
         ]
        },
        {
         "hoverinfo": "text",
         "line": {
          "color": "rgba(247.1764705882353, 131.94117647058823, 77.58823529411764, 1.0)",
          "width": 7.6388534490091
         },
         "mode": "lines",
         "showlegend": false,
         "text": "Width: 7.64",
         "type": "scatter",
         "x": [
          -3.574543479322823,
          -3.574543479322823,
          null
         ],
         "y": [
          40.4757410696608,
          40.4757410696608,
          null
         ]
        },
        {
         "hoverinfo": "text",
         "marker": {
          "color": "white",
          "line": {
           "color": "#888",
           "width": 2
          },
          "size": [
           123.9,
           157.5,
           182.70000000000002,
           178.5,
           195.3,
           115.5,
           178.5,
           161.70000000000002,
           174.3,
           107.10000000000001,
           94.5,
           86.10000000000001,
           86.10000000000001,
           119.7,
           119.7,
           149.1,
           90.3,
           111.3,
           115.5,
           115.5,
           153.3
          ]
         },
         "mode": "markers",
         "showlegend": false,
         "text": [
          "District: Centro",
          "District: Arganzuela",
          "District: Retiro",
          "District: Salamanca",
          "District: Chamartín",
          "District: Tetuán",
          "District: Chamberí",
          "District: Fuencarral-El Pardo",
          "District: Moncloa-Aravaca",
          "District: Latina",
          "District: Carabanchel",
          "District: Usera",
          "District: Puente de Vallecas",
          "District: Moratalaz",
          "District: Ciudad Lineal",
          "District: Hortaleza",
          "District: Villaverde",
          "District: Villa de Vallecas",
          "District: Vicálvaro",
          "District: San Blas-Canillejas",
          "District: Barajas"
         ],
         "type": "scatter",
         "x": [
          -3.705268804063821,
          -3.6966151949203576,
          -3.67643837848883,
          -3.6737887354917422,
          -3.678150006537061,
          -3.6999935507976827,
          -3.703523951395161,
          -3.753579560856663,
          -3.757223268157654,
          -3.778616540618283,
          -3.737112400757822,
          -3.7029808755455926,
          -3.6598634715735407,
          -3.6413909394895803,
          -3.649948514601449,
          -3.637741035389707,
          -3.695056256825152,
          -3.6160073912284756,
          -3.572894771748725,
          -3.5986526886701378,
          -3.574543479322823
         ],
         "y": [
          40.41733007020507,
          40.398119933450886,
          40.41138084576659,
          40.43018370922185,
          40.45750039357669,
          40.4606484776773,
          40.4375595509298,
          40.54479435831404,
          40.44543508494524,
          40.385273701511004,
          40.378840354576816,
          40.37595000318738,
          40.38355078734683,
          40.40661270611631,
          40.43926990707227,
          40.48201214532898,
          40.34253624126977,
          40.34992967757026,
          40.39356859265691,
          40.43466852782298,
          40.4757410696608
         ]
        },
        {
         "hoverinfo": "none",
         "marker": {
          "cmax": 1,
          "cmin": 0,
          "colorbar": {
           "ticktext": [
            "0.00",
            "0.25",
            "0.50",
            "0.75",
            "1.00"
           ],
           "tickvals": [
            0,
            0.25,
            0.5,
            0.75,
            1
           ],
           "title": {
            "text": "Edge Weight"
           }
          },
          "colorscale": [
           [
            0,
            "rgb(49,54,149)"
           ],
           [
            0.1,
            "rgb(69,117,180)"
           ],
           [
            0.2,
            "rgb(116,173,209)"
           ],
           [
            0.3,
            "rgb(171,217,233)"
           ],
           [
            0.4,
            "rgb(224,243,248)"
           ],
           [
            0.5,
            "rgb(255,255,191)"
           ],
           [
            0.6,
            "rgb(254,224,144)"
           ],
           [
            0.7,
            "rgb(253,174,97)"
           ],
           [
            0.8,
            "rgb(244,109,67)"
           ],
           [
            0.9,
            "rgb(215,48,39)"
           ],
           [
            1,
            "rgb(165,0,38)"
           ]
          ],
          "showscale": true
         },
         "mode": "markers",
         "type": "scatter",
         "x": [
          null
         ],
         "y": [
          null
         ]
        }
       ],
       "layout": {
        "hovermode": "closest",
        "margin": {
         "b": 0,
         "l": 0,
         "r": 0,
         "t": 0
        },
        "showlegend": true,
        "template": {
         "data": {
          "bar": [
           {
            "error_x": {
             "color": "#2a3f5f"
            },
            "error_y": {
             "color": "#2a3f5f"
            },
            "marker": {
             "line": {
              "color": "#E5ECF6",
              "width": 0.5
             },
             "pattern": {
              "fillmode": "overlay",
              "size": 10,
              "solidity": 0.2
             }
            },
            "type": "bar"
           }
          ],
          "barpolar": [
           {
            "marker": {
             "line": {
              "color": "#E5ECF6",
              "width": 0.5
             },
             "pattern": {
              "fillmode": "overlay",
              "size": 10,
              "solidity": 0.2
             }
            },
            "type": "barpolar"
           }
          ],
          "carpet": [
           {
            "aaxis": {
             "endlinecolor": "#2a3f5f",
             "gridcolor": "white",
             "linecolor": "white",
             "minorgridcolor": "white",
             "startlinecolor": "#2a3f5f"
            },
            "baxis": {
             "endlinecolor": "#2a3f5f",
             "gridcolor": "white",
             "linecolor": "white",
             "minorgridcolor": "white",
             "startlinecolor": "#2a3f5f"
            },
            "type": "carpet"
           }
          ],
          "choropleth": [
           {
            "colorbar": {
             "outlinewidth": 0,
             "ticks": ""
            },
            "type": "choropleth"
           }
          ],
          "contour": [
           {
            "colorbar": {
             "outlinewidth": 0,
             "ticks": ""
            },
            "colorscale": [
             [
              0,
              "#0d0887"
             ],
             [
              0.1111111111111111,
              "#46039f"
             ],
             [
              0.2222222222222222,
              "#7201a8"
             ],
             [
              0.3333333333333333,
              "#9c179e"
             ],
             [
              0.4444444444444444,
              "#bd3786"
             ],
             [
              0.5555555555555556,
              "#d8576b"
             ],
             [
              0.6666666666666666,
              "#ed7953"
             ],
             [
              0.7777777777777778,
              "#fb9f3a"
             ],
             [
              0.8888888888888888,
              "#fdca26"
             ],
             [
              1,
              "#f0f921"
             ]
            ],
            "type": "contour"
           }
          ],
          "contourcarpet": [
           {
            "colorbar": {
             "outlinewidth": 0,
             "ticks": ""
            },
            "type": "contourcarpet"
           }
          ],
          "heatmap": [
           {
            "colorbar": {
             "outlinewidth": 0,
             "ticks": ""
            },
            "colorscale": [
             [
              0,
              "#0d0887"
             ],
             [
              0.1111111111111111,
              "#46039f"
             ],
             [
              0.2222222222222222,
              "#7201a8"
             ],
             [
              0.3333333333333333,
              "#9c179e"
             ],
             [
              0.4444444444444444,
              "#bd3786"
             ],
             [
              0.5555555555555556,
              "#d8576b"
             ],
             [
              0.6666666666666666,
              "#ed7953"
             ],
             [
              0.7777777777777778,
              "#fb9f3a"
             ],
             [
              0.8888888888888888,
              "#fdca26"
             ],
             [
              1,
              "#f0f921"
             ]
            ],
            "type": "heatmap"
           }
          ],
          "heatmapgl": [
           {
            "colorbar": {
             "outlinewidth": 0,
             "ticks": ""
            },
            "colorscale": [
             [
              0,
              "#0d0887"
             ],
             [
              0.1111111111111111,
              "#46039f"
             ],
             [
              0.2222222222222222,
              "#7201a8"
             ],
             [
              0.3333333333333333,
              "#9c179e"
             ],
             [
              0.4444444444444444,
              "#bd3786"
             ],
             [
              0.5555555555555556,
              "#d8576b"
             ],
             [
              0.6666666666666666,
              "#ed7953"
             ],
             [
              0.7777777777777778,
              "#fb9f3a"
             ],
             [
              0.8888888888888888,
              "#fdca26"
             ],
             [
              1,
              "#f0f921"
             ]
            ],
            "type": "heatmapgl"
           }
          ],
          "histogram": [
           {
            "marker": {
             "pattern": {
              "fillmode": "overlay",
              "size": 10,
              "solidity": 0.2
             }
            },
            "type": "histogram"
           }
          ],
          "histogram2d": [
           {
            "colorbar": {
             "outlinewidth": 0,
             "ticks": ""
            },
            "colorscale": [
             [
              0,
              "#0d0887"
             ],
             [
              0.1111111111111111,
              "#46039f"
             ],
             [
              0.2222222222222222,
              "#7201a8"
             ],
             [
              0.3333333333333333,
              "#9c179e"
             ],
             [
              0.4444444444444444,
              "#bd3786"
             ],
             [
              0.5555555555555556,
              "#d8576b"
             ],
             [
              0.6666666666666666,
              "#ed7953"
             ],
             [
              0.7777777777777778,
              "#fb9f3a"
             ],
             [
              0.8888888888888888,
              "#fdca26"
             ],
             [
              1,
              "#f0f921"
             ]
            ],
            "type": "histogram2d"
           }
          ],
          "histogram2dcontour": [
           {
            "colorbar": {
             "outlinewidth": 0,
             "ticks": ""
            },
            "colorscale": [
             [
              0,
              "#0d0887"
             ],
             [
              0.1111111111111111,
              "#46039f"
             ],
             [
              0.2222222222222222,
              "#7201a8"
             ],
             [
              0.3333333333333333,
              "#9c179e"
             ],
             [
              0.4444444444444444,
              "#bd3786"
             ],
             [
              0.5555555555555556,
              "#d8576b"
             ],
             [
              0.6666666666666666,
              "#ed7953"
             ],
             [
              0.7777777777777778,
              "#fb9f3a"
             ],
             [
              0.8888888888888888,
              "#fdca26"
             ],
             [
              1,
              "#f0f921"
             ]
            ],
            "type": "histogram2dcontour"
           }
          ],
          "mesh3d": [
           {
            "colorbar": {
             "outlinewidth": 0,
             "ticks": ""
            },
            "type": "mesh3d"
           }
          ],
          "parcoords": [
           {
            "line": {
             "colorbar": {
              "outlinewidth": 0,
              "ticks": ""
             }
            },
            "type": "parcoords"
           }
          ],
          "pie": [
           {
            "automargin": true,
            "type": "pie"
           }
          ],
          "scatter": [
           {
            "fillpattern": {
             "fillmode": "overlay",
             "size": 10,
             "solidity": 0.2
            },
            "type": "scatter"
           }
          ],
          "scatter3d": [
           {
            "line": {
             "colorbar": {
              "outlinewidth": 0,
              "ticks": ""
             }
            },
            "marker": {
             "colorbar": {
              "outlinewidth": 0,
              "ticks": ""
             }
            },
            "type": "scatter3d"
           }
          ],
          "scattercarpet": [
           {
            "marker": {
             "colorbar": {
              "outlinewidth": 0,
              "ticks": ""
             }
            },
            "type": "scattercarpet"
           }
          ],
          "scattergeo": [
           {
            "marker": {
             "colorbar": {
              "outlinewidth": 0,
              "ticks": ""
             }
            },
            "type": "scattergeo"
           }
          ],
          "scattergl": [
           {
            "marker": {
             "colorbar": {
              "outlinewidth": 0,
              "ticks": ""
             }
            },
            "type": "scattergl"
           }
          ],
          "scattermapbox": [
           {
            "marker": {
             "colorbar": {
              "outlinewidth": 0,
              "ticks": ""
             }
            },
            "type": "scattermapbox"
           }
          ],
          "scatterpolar": [
           {
            "marker": {
             "colorbar": {
              "outlinewidth": 0,
              "ticks": ""
             }
            },
            "type": "scatterpolar"
           }
          ],
          "scatterpolargl": [
           {
            "marker": {
             "colorbar": {
              "outlinewidth": 0,
              "ticks": ""
             }
            },
            "type": "scatterpolargl"
           }
          ],
          "scatterternary": [
           {
            "marker": {
             "colorbar": {
              "outlinewidth": 0,
              "ticks": ""
             }
            },
            "type": "scatterternary"
           }
          ],
          "surface": [
           {
            "colorbar": {
             "outlinewidth": 0,
             "ticks": ""
            },
            "colorscale": [
             [
              0,
              "#0d0887"
             ],
             [
              0.1111111111111111,
              "#46039f"
             ],
             [
              0.2222222222222222,
              "#7201a8"
             ],
             [
              0.3333333333333333,
              "#9c179e"
             ],
             [
              0.4444444444444444,
              "#bd3786"
             ],
             [
              0.5555555555555556,
              "#d8576b"
             ],
             [
              0.6666666666666666,
              "#ed7953"
             ],
             [
              0.7777777777777778,
              "#fb9f3a"
             ],
             [
              0.8888888888888888,
              "#fdca26"
             ],
             [
              1,
              "#f0f921"
             ]
            ],
            "type": "surface"
           }
          ],
          "table": [
           {
            "cells": {
             "fill": {
              "color": "#EBF0F8"
             },
             "line": {
              "color": "white"
             }
            },
            "header": {
             "fill": {
              "color": "#C8D4E3"
             },
             "line": {
              "color": "white"
             }
            },
            "type": "table"
           }
          ]
         },
         "layout": {
          "annotationdefaults": {
           "arrowcolor": "#2a3f5f",
           "arrowhead": 0,
           "arrowwidth": 1
          },
          "autotypenumbers": "strict",
          "coloraxis": {
           "colorbar": {
            "outlinewidth": 0,
            "ticks": ""
           }
          },
          "colorscale": {
           "diverging": [
            [
             0,
             "#8e0152"
            ],
            [
             0.1,
             "#c51b7d"
            ],
            [
             0.2,
             "#de77ae"
            ],
            [
             0.3,
             "#f1b6da"
            ],
            [
             0.4,
             "#fde0ef"
            ],
            [
             0.5,
             "#f7f7f7"
            ],
            [
             0.6,
             "#e6f5d0"
            ],
            [
             0.7,
             "#b8e186"
            ],
            [
             0.8,
             "#7fbc41"
            ],
            [
             0.9,
             "#4d9221"
            ],
            [
             1,
             "#276419"
            ]
           ],
           "sequential": [
            [
             0,
             "#0d0887"
            ],
            [
             0.1111111111111111,
             "#46039f"
            ],
            [
             0.2222222222222222,
             "#7201a8"
            ],
            [
             0.3333333333333333,
             "#9c179e"
            ],
            [
             0.4444444444444444,
             "#bd3786"
            ],
            [
             0.5555555555555556,
             "#d8576b"
            ],
            [
             0.6666666666666666,
             "#ed7953"
            ],
            [
             0.7777777777777778,
             "#fb9f3a"
            ],
            [
             0.8888888888888888,
             "#fdca26"
            ],
            [
             1,
             "#f0f921"
            ]
           ],
           "sequentialminus": [
            [
             0,
             "#0d0887"
            ],
            [
             0.1111111111111111,
             "#46039f"
            ],
            [
             0.2222222222222222,
             "#7201a8"
            ],
            [
             0.3333333333333333,
             "#9c179e"
            ],
            [
             0.4444444444444444,
             "#bd3786"
            ],
            [
             0.5555555555555556,
             "#d8576b"
            ],
            [
             0.6666666666666666,
             "#ed7953"
            ],
            [
             0.7777777777777778,
             "#fb9f3a"
            ],
            [
             0.8888888888888888,
             "#fdca26"
            ],
            [
             1,
             "#f0f921"
            ]
           ]
          },
          "colorway": [
           "#636efa",
           "#EF553B",
           "#00cc96",
           "#ab63fa",
           "#FFA15A",
           "#19d3f3",
           "#FF6692",
           "#B6E880",
           "#FF97FF",
           "#FECB52"
          ],
          "font": {
           "color": "#2a3f5f"
          },
          "geo": {
           "bgcolor": "white",
           "lakecolor": "white",
           "landcolor": "#E5ECF6",
           "showlakes": true,
           "showland": true,
           "subunitcolor": "white"
          },
          "hoverlabel": {
           "align": "left"
          },
          "hovermode": "closest",
          "mapbox": {
           "style": "light"
          },
          "paper_bgcolor": "white",
          "plot_bgcolor": "#E5ECF6",
          "polar": {
           "angularaxis": {
            "gridcolor": "white",
            "linecolor": "white",
            "ticks": ""
           },
           "bgcolor": "#E5ECF6",
           "radialaxis": {
            "gridcolor": "white",
            "linecolor": "white",
            "ticks": ""
           }
          },
          "scene": {
           "xaxis": {
            "backgroundcolor": "#E5ECF6",
            "gridcolor": "white",
            "gridwidth": 2,
            "linecolor": "white",
            "showbackground": true,
            "ticks": "",
            "zerolinecolor": "white"
           },
           "yaxis": {
            "backgroundcolor": "#E5ECF6",
            "gridcolor": "white",
            "gridwidth": 2,
            "linecolor": "white",
            "showbackground": true,
            "ticks": "",
            "zerolinecolor": "white"
           },
           "zaxis": {
            "backgroundcolor": "#E5ECF6",
            "gridcolor": "white",
            "gridwidth": 2,
            "linecolor": "white",
            "showbackground": true,
            "ticks": "",
            "zerolinecolor": "white"
           }
          },
          "shapedefaults": {
           "line": {
            "color": "#2a3f5f"
           }
          },
          "ternary": {
           "aaxis": {
            "gridcolor": "white",
            "linecolor": "white",
            "ticks": ""
           },
           "baxis": {
            "gridcolor": "white",
            "linecolor": "white",
            "ticks": ""
           },
           "bgcolor": "#E5ECF6",
           "caxis": {
            "gridcolor": "white",
            "linecolor": "white",
            "ticks": ""
           }
          },
          "title": {
           "x": 0.05
          },
          "xaxis": {
           "automargin": true,
           "gridcolor": "white",
           "linecolor": "white",
           "ticks": "",
           "title": {
            "standoff": 15
           },
           "zerolinecolor": "white",
           "zerolinewidth": 2
          },
          "yaxis": {
           "automargin": true,
           "gridcolor": "white",
           "linecolor": "white",
           "ticks": "",
           "title": {
            "standoff": 15
           },
           "zerolinecolor": "white",
           "zerolinewidth": 2
          }
         }
        },
        "xaxis": {
         "showgrid": false,
         "showticklabels": false,
         "zeroline": false
        },
        "yaxis": {
         "showgrid": false,
         "showticklabels": false,
         "zeroline": false
        }
       }
      }
     },
     "metadata": {},
     "output_type": "display_data"
    }
   ],
   "source": [
    "G2, trip_counts2 = define_graph(home_work, remove_weak_edges=False, threshold=0.27)\n",
    "G2 = update_node_sizes(G2, income, var_of_interest)\n",
    "positions = get_positions(gdf)\n",
    "edge_widths = set_art(G2, 0.1)\n",
    "plotly_graph(G2, positions, edge_widths, var_of_interest, node_size_scale=0.006)"
   ]
  },
  {
   "cell_type": "code",
   "execution_count": 9,
   "metadata": {},
   "outputs": [
    {
     "data": {
      "application/vnd.plotly.v1+json": {
       "config": {
        "plotlyServerURL": "https://plot.ly"
       },
       "data": [
        {
         "hoverinfo": "text",
         "line": {
          "color": "rgba(254.3529411764706, 234.94117647058823, 160.58823529411765, 1.0)",
          "width": 5.650250914348899
         },
         "mode": "lines",
         "showlegend": false,
         "text": "Width: 5.65",
         "type": "scatter",
         "x": [
          -3.705268804063821,
          -3.705268804063821,
          null
         ],
         "y": [
          40.41733007020507,
          40.41733007020507,
          null
         ]
        },
        {
         "hoverinfo": "text",
         "line": {
          "color": "rgba(230.07843137254906, 245.3529411764706, 236.82352941176467, 1.0)",
          "width": 4.21536106149528
         },
         "mode": "lines",
         "showlegend": false,
         "text": "Width: 4.22",
         "type": "scatter",
         "x": [
          -3.705268804063821,
          -3.6966151949203576,
          null
         ],
         "y": [
          40.41733007020507,
          40.398119933450886,
          null
         ]
        },
        {
         "hoverinfo": "text",
         "line": {
          "color": "rgba(156.98039215686276, 205.78431372549022, 226.88235294117646, 1.0)",
          "width": 2.7404950242408774
         },
         "mode": "lines",
         "showlegend": false,
         "text": "Width: 2.74",
         "type": "scatter",
         "x": [
          -3.705268804063821,
          -3.67643837848883,
          null
         ],
         "y": [
          40.41733007020507,
          40.41138084576659,
          null
         ]
        },
        {
         "hoverinfo": "text",
         "line": {
          "color": "rgba(194.90196078431376, 228.72549019607843, 239.76470588235296, 1.0)",
          "width": 3.443905758271668
         },
         "mode": "lines",
         "showlegend": false,
         "text": "Width: 3.44",
         "type": "scatter",
         "x": [
          -3.705268804063821,
          -3.6737887354917422,
          null
         ],
         "y": [
          40.41733007020507,
          40.43018370922185,
          null
         ]
        },
        {
         "hoverinfo": "text",
         "line": {
          "color": "rgba(254.86274509803923, 250.74509803921566, 184.54901960784315, 1.0)",
          "width": 5.149272773666752
         },
         "mode": "lines",
         "showlegend": false,
         "text": "Width: 5.15",
         "type": "scatter",
         "x": [
          -3.705268804063821,
          -3.703523951395161,
          null
         ],
         "y": [
          40.41733007020507,
          40.4375595509298,
          null
         ]
        },
        {
         "hoverinfo": "text",
         "line": {
          "color": "rgba(226.43137254901964, 243.94117647058823, 243.52941176470583, 1.0)",
          "width": 4.080122480224547
         },
         "mode": "lines",
         "showlegend": false,
         "text": "Width: 4.08",
         "type": "scatter",
         "x": [
          -3.705268804063821,
          -3.757223268157654,
          null
         ],
         "y": [
          40.41733007020507,
          40.44543508494524,
          null
         ]
        },
        {
         "hoverinfo": "text",
         "line": {
          "color": "rgba(167.76470588235296, 214.41176470588235, 231.58823529411765, 1.0)",
          "width": 2.94037594624479
         },
         "mode": "lines",
         "showlegend": false,
         "text": "Width: 2.94",
         "type": "scatter",
         "x": [
          -3.705268804063821,
          -3.778616540618283,
          null
         ],
         "y": [
          40.41733007020507,
          40.385273701511004,
          null
         ]
        },
        {
         "hoverinfo": "text",
         "line": {
          "color": "rgba(254.4313725490196, 237.37254901960785, 164.27450980392155, 1.0)",
          "width": 5.560942417283321
         },
         "mode": "lines",
         "showlegend": false,
         "text": "Width: 5.56",
         "type": "scatter",
         "x": [
          -3.6966151949203576,
          -3.705268804063821,
          null
         ],
         "y": [
          40.398119933450886,
          40.41733007020507,
          null
         ]
        },
        {
         "hoverinfo": "text",
         "line": {
          "color": "rgba(254.62745098039215, 243.45098039215685, 173.49019607843138, 1.0)",
          "width": 5.355958152589946
         },
         "mode": "lines",
         "showlegend": false,
         "text": "Width: 5.36",
         "type": "scatter",
         "x": [
          -3.6966151949203576,
          -3.6966151949203576,
          null
         ],
         "y": [
          40.398119933450886,
          40.398119933450886,
          null
         ]
        },
        {
         "hoverinfo": "text",
         "line": {
          "color": "rgba(199.0588235294118, 230.76470588235296, 240.94117647058823, 1.0)",
          "width": 3.537467040911797
         },
         "mode": "lines",
         "showlegend": false,
         "text": "Width: 3.54",
         "type": "scatter",
         "x": [
          -3.6966151949203576,
          -3.67643837848883,
          null
         ],
         "y": [
          40.398119933450886,
          40.41138084576659,
          null
         ]
        },
        {
         "hoverinfo": "text",
         "line": {
          "color": "rgba(236.15686274509804, 247.7058823529412, 225.64705882352936, 1.0)",
          "width": 4.393978055626435
         },
         "mode": "lines",
         "showlegend": false,
         "text": "Width: 4.39",
         "type": "scatter",
         "x": [
          -3.6966151949203576,
          -3.737112400757822,
          null
         ],
         "y": [
          40.398119933450886,
          40.378840354576816,
          null
         ]
        },
        {
         "hoverinfo": "text",
         "line": {
          "color": "rgba(239.80392156862746, 249.11764705882354, 218.9411764705882, 1.0)",
          "width": 4.495194352300757
         },
         "mode": "lines",
         "showlegend": false,
         "text": "Width: 4.50",
         "type": "scatter",
         "x": [
          -3.6966151949203576,
          -3.7029808755455926,
          null
         ],
         "y": [
          40.398119933450886,
          40.37595000318738,
          null
         ]
        },
        {
         "hoverinfo": "text",
         "line": {
          "color": "rgba(203.21568627450984, 232.80392156862746, 242.11764705882354, 1.0)",
          "width": 3.625924980862465
         },
         "mode": "lines",
         "showlegend": false,
         "text": "Width: 3.63",
         "type": "scatter",
         "x": [
          -3.67643837848883,
          -3.705268804063821,
          null
         ],
         "y": [
          40.41138084576659,
          40.41733007020507,
          null
         ]
        },
        {
         "hoverinfo": "text",
         "line": {
          "color": "rgba(184.50980392156865, 223.62745098039218, 236.82352941176472, 1.0)",
          "width": 3.274644892404525
         },
         "mode": "lines",
         "showlegend": false,
         "text": "Width: 3.27",
         "type": "scatter",
         "x": [
          -3.67643837848883,
          -3.6966151949203576,
          null
         ],
         "y": [
          40.41138084576659,
          40.398119933450886,
          null
         ]
        },
        {
         "hoverinfo": "text",
         "line": {
          "color": "rgba(254.8235294117647, 249.5294117647059, 182.70588235294122, 1.0)",
          "width": 5.169686144424597
         },
         "mode": "lines",
         "showlegend": false,
         "text": "Width: 5.17",
         "type": "scatter",
         "x": [
          -3.67643837848883,
          -3.67643837848883,
          null
         ],
         "y": [
          40.41138084576659,
          40.41138084576659,
          null
         ]
        },
        {
         "hoverinfo": "text",
         "line": {
          "color": "rgba(238.58823529411765, 248.6470588235294, 221.1764705882353, 1.0)",
          "width": 4.462022624819257
         },
         "mode": "lines",
         "showlegend": false,
         "text": "Width: 4.46",
         "type": "scatter",
         "x": [
          -3.67643837848883,
          -3.6737887354917422,
          null
         ],
         "y": [
          40.41138084576659,
          40.43018370922185,
          null
         ]
        },
        {
         "hoverinfo": "text",
         "line": {
          "color": "rgba(248.31372549019608, 252.41176470588232, 203.29411764705884, 1.0)",
          "width": 4.787785999829889
         },
         "mode": "lines",
         "showlegend": false,
         "text": "Width: 4.79",
         "type": "scatter",
         "x": [
          -3.67643837848883,
          -3.6598634715735407,
          null
         ],
         "y": [
          40.41138084576659,
          40.38355078734683,
          null
         ]
        },
        {
         "hoverinfo": "text",
         "line": {
          "color": "rgba(196.98039215686276, 229.7450980392157, 240.35294117647058, 1.0)",
          "width": 3.51450199880922
         },
         "mode": "lines",
         "showlegend": false,
         "text": "Width: 3.51",
         "type": "scatter",
         "x": [
          -3.67643837848883,
          -3.6413909394895803,
          null
         ],
         "y": [
          40.41138084576659,
          40.40661270611631,
          null
         ]
        },
        {
         "hoverinfo": "text",
         "line": {
          "color": "rgba(199.0588235294118, 230.76470588235296, 240.94117647058823, 1.0)",
          "width": 3.5204558986135916
         },
         "mode": "lines",
         "showlegend": false,
         "text": "Width: 3.52",
         "type": "scatter",
         "x": [
          -3.6737887354917422,
          -3.67643837848883,
          null
         ],
         "y": [
          40.43018370922185,
          40.41138084576659,
          null
         ]
        },
        {
         "hoverinfo": "text",
         "line": {
          "color": "rgba(254.3529411764706, 234.94117647058823, 160.58823529411765, 1.0)",
          "width": 5.634090329165603
         },
         "mode": "lines",
         "showlegend": false,
         "text": "Width: 5.63",
         "type": "scatter",
         "x": [
          -3.6737887354917422,
          -3.6737887354917422,
          null
         ],
         "y": [
          40.43018370922185,
          40.43018370922185,
          null
         ]
        },
        {
         "hoverinfo": "text",
         "line": {
          "color": "rgba(247.09803921568627, 251.94117647058823, 205.52941176470588, 1.0)",
          "width": 4.758016500808029
         },
         "mode": "lines",
         "showlegend": false,
         "text": "Width: 4.76",
         "type": "scatter",
         "x": [
          -3.6737887354917422,
          -3.678150006537061,
          null
         ],
         "y": [
          40.43018370922185,
          40.45750039357669,
          null
         ]
        },
        {
         "hoverinfo": "text",
         "line": {
          "color": "rgba(196.98039215686276, 229.7450980392157, 240.35294117647058, 1.0)",
          "width": 3.4821808284426297
         },
         "mode": "lines",
         "showlegend": false,
         "text": "Width: 3.48",
         "type": "scatter",
         "x": [
          -3.6737887354917422,
          -3.703523951395161,
          null
         ],
         "y": [
          40.43018370922185,
          40.4375595509298,
          null
         ]
        },
        {
         "hoverinfo": "text",
         "line": {
          "color": "rgba(254.94117647058823, 253.1764705882353, 188.23529411764707, 1.0)",
          "width": 5.067619290635365
         },
         "mode": "lines",
         "showlegend": false,
         "text": "Width: 5.07",
         "type": "scatter",
         "x": [
          -3.6737887354917422,
          -3.649948514601449,
          null
         ],
         "y": [
          40.43018370922185,
          40.43926990707227,
          null
         ]
        },
        {
         "hoverinfo": "text",
         "line": {
          "color": "rgba(254.86274509803923, 250.74509803921566, 184.54901960784315, 1.0)",
          "width": 5.149272773666752
         },
         "mode": "lines",
         "showlegend": false,
         "text": "Width: 5.15",
         "type": "scatter",
         "x": [
          -3.703523951395161,
          -3.705268804063821,
          null
         ],
         "y": [
          40.4375595509298,
          40.41733007020507,
          null
         ]
        },
        {
         "hoverinfo": "text",
         "line": {
          "color": "rgba(224.00000000000003, 243.0, 247.99999999999994, 1.0)",
          "width": 3.9950667687335204
         },
         "mode": "lines",
         "showlegend": false,
         "text": "Width: 4.00",
         "type": "scatter",
         "x": [
          -3.703523951395161,
          -3.6737887354917422,
          null
         ],
         "y": [
          40.4375595509298,
          40.43018370922185,
          null
         ]
        },
        {
         "hoverinfo": "text",
         "line": {
          "color": "rgba(188.6666666666667, 225.66666666666669, 238.0, 1.0)",
          "width": 3.339287233137705
         },
         "mode": "lines",
         "showlegend": false,
         "text": "Width: 3.34",
         "type": "scatter",
         "x": [
          -3.703523951395161,
          -3.678150006537061,
          null
         ],
         "y": [
          40.4375595509298,
          40.45750039357669,
          null
         ]
        },
        {
         "hoverinfo": "text",
         "line": {
          "color": "rgba(224.00000000000003, 243.0, 247.99999999999994, 1.0)",
          "width": 3.9984689971931613
         },
         "mode": "lines",
         "showlegend": false,
         "text": "Width: 4.00",
         "type": "scatter",
         "x": [
          -3.703523951395161,
          -3.6999935507976827,
          null
         ],
         "y": [
          40.4375595509298,
          40.4606484776773,
          null
         ]
        },
        {
         "hoverinfo": "text",
         "line": {
          "color": "rgba(254.39215686274508, 236.15686274509804, 162.4313725490196, 1.0)",
          "width": 5.6043208301437435
         },
         "mode": "lines",
         "showlegend": false,
         "text": "Width: 5.60",
         "type": "scatter",
         "x": [
          -3.703523951395161,
          -3.703523951395161,
          null
         ],
         "y": [
          40.4375595509298,
          40.4375595509298,
          null
         ]
        },
        {
         "hoverinfo": "text",
         "line": {
          "color": "rgba(215.68627450980395, 238.921568627451, 245.64705882352942, 1.0)",
          "width": 3.86663264438207
         },
         "mode": "lines",
         "showlegend": false,
         "text": "Width: 3.87",
         "type": "scatter",
         "x": [
          -3.703523951395161,
          -3.757223268157654,
          null
         ],
         "y": [
          40.4375595509298,
          40.44543508494524,
          null
         ]
        },
        {
         "hoverinfo": "text",
         "line": {
          "color": "rgba(213.60784313725495, 237.90196078431376, 245.05882352941177, 1.0)",
          "width": 3.8164497746023645
         },
         "mode": "lines",
         "showlegend": false,
         "text": "Width: 3.82",
         "type": "scatter",
         "x": [
          -3.757223268157654,
          -3.705268804063821,
          null
         ],
         "y": [
          40.44543508494524,
          40.41733007020507,
          null
         ]
        },
        {
         "hoverinfo": "text",
         "line": {
          "color": "rgba(227.64705882352945, 244.41176470588235, 241.29411764705878, 1.0)",
          "width": 4.136259249808624
         },
         "mode": "lines",
         "showlegend": false,
         "text": "Width: 4.14",
         "type": "scatter",
         "x": [
          -3.757223268157654,
          -3.6999935507976827,
          null
         ],
         "y": [
          40.44543508494524,
          40.4606484776773,
          null
         ]
        },
        {
         "hoverinfo": "text",
         "line": {
          "color": "rgba(244.66666666666669, 251.0, 210.0, 1.0)",
          "width": 4.684018031810836
         },
         "mode": "lines",
         "showlegend": false,
         "text": "Width: 4.68",
         "type": "scatter",
         "x": [
          -3.757223268157654,
          -3.703523951395161,
          null
         ],
         "y": [
          40.44543508494524,
          40.4375595509298,
          null
         ]
        },
        {
         "hoverinfo": "text",
         "line": {
          "color": "rgba(254.7450980392157, 247.09803921568627, 179.01960784313724, 1.0)",
          "width": 5.265799098409458
         },
         "mode": "lines",
         "showlegend": false,
         "text": "Width: 5.27",
         "type": "scatter",
         "x": [
          -3.757223268157654,
          -3.753579560856663,
          null
         ],
         "y": [
          40.44543508494524,
          40.54479435831404,
          null
         ]
        },
        {
         "hoverinfo": "text",
         "line": {
          "color": "rgba(250.00000000000003, 152.33333333333334, 87.0, 1.0)",
          "width": 7.324997873607213
         },
         "mode": "lines",
         "showlegend": false,
         "text": "Width: 7.32",
         "type": "scatter",
         "x": [
          -3.757223268157654,
          -3.757223268157654,
          null
         ],
         "y": [
          40.44543508494524,
          40.44543508494524,
          null
         ]
        },
        {
         "hoverinfo": "text",
         "line": {
          "color": "rgba(245.8823529411765, 251.47058823529412, 207.76470588235293, 1.0)",
          "width": 4.720591987751977
         },
         "mode": "lines",
         "showlegend": false,
         "text": "Width: 4.72",
         "type": "scatter",
         "x": [
          -3.757223268157654,
          -3.778616540618283,
          null
         ],
         "y": [
          40.44543508494524,
          40.385273701511004,
          null
         ]
        },
        {
         "hoverinfo": "text",
         "line": {
          "color": "rgba(249.52941176470588, 252.88235294117646, 201.05882352941174, 1.0)",
          "width": 4.843072212299056
         },
         "mode": "lines",
         "showlegend": false,
         "text": "Width: 4.84",
         "type": "scatter",
         "x": [
          -3.778616540618283,
          -3.705268804063821,
          null
         ],
         "y": [
          40.385273701511004,
          40.41733007020507,
          null
         ]
        },
        {
         "hoverinfo": "text",
         "line": {
          "color": "rgba(205.29411764705887, 233.82352941176472, 242.7058823529412, 1.0)",
          "width": 3.6344305520115676
         },
         "mode": "lines",
         "showlegend": false,
         "text": "Width: 3.63",
         "type": "scatter",
         "x": [
          -3.778616540618283,
          -3.6966151949203576,
          null
         ],
         "y": [
          40.385273701511004,
          40.398119933450886,
          null
         ]
        },
        {
         "hoverinfo": "text",
         "line": {
          "color": "rgba(163.45098039215688, 210.96078431372553, 229.7058823529412, 1.0)",
          "width": 2.862975248787956
         },
         "mode": "lines",
         "showlegend": false,
         "text": "Width: 2.86",
         "type": "scatter",
         "x": [
          -3.778616540618283,
          -3.6737887354917422,
          null
         ],
         "y": [
          40.385273701511004,
          40.43018370922185,
          null
         ]
        },
        {
         "hoverinfo": "text",
         "line": {
          "color": "rgba(154.82352941176472, 204.0588235294118, 225.94117647058823, 1.0)",
          "width": 2.7047716254146463
         },
         "mode": "lines",
         "showlegend": false,
         "text": "Width: 2.70",
         "type": "scatter",
         "x": [
          -3.778616540618283,
          -3.678150006537061,
          null
         ],
         "y": [
          40.385273701511004,
          40.45750039357669,
          null
         ]
        },
        {
         "hoverinfo": "text",
         "line": {
          "color": "rgba(163.45098039215688, 210.96078431372553, 229.7058823529412, 1.0)",
          "width": 2.8791358339712514
         },
         "mode": "lines",
         "showlegend": false,
         "text": "Width: 2.88",
         "type": "scatter",
         "x": [
          -3.778616540618283,
          -3.703523951395161,
          null
         ],
         "y": [
          40.385273701511004,
          40.4375595509298,
          null
         ]
        },
        {
         "hoverinfo": "text",
         "line": {
          "color": "rgba(253.33333333333334, 190.66666666666666, 112.66666666666666, 1.0)",
          "width": 6.642851067449179
         },
         "mode": "lines",
         "showlegend": false,
         "text": "Width: 6.64",
         "type": "scatter",
         "x": [
          -3.778616540618283,
          -3.757223268157654,
          null
         ],
         "y": [
          40.385273701511004,
          40.44543508494524,
          null
         ]
        },
        {
         "hoverinfo": "text",
         "line": {
          "color": "rgba(239.45098039215688, 99.4313725490196, 62.60784313725491, 1.0)",
          "width": 8.138130475461427
         },
         "mode": "lines",
         "showlegend": false,
         "text": "Width: 8.14",
         "type": "scatter",
         "x": [
          -3.778616540618283,
          -3.778616540618283,
          null
         ],
         "y": [
          40.385273701511004,
          40.385273701511004,
          null
         ]
        },
        {
         "hoverinfo": "text",
         "line": {
          "color": "rgba(253.05882352941177, 176.94117647058823, 99.76470588235293, 1.0)",
          "width": 6.919282129795016
         },
         "mode": "lines",
         "showlegend": false,
         "text": "Width: 6.92",
         "type": "scatter",
         "x": [
          -3.778616540618283,
          -3.737112400757822,
          null
         ],
         "y": [
          40.385273701511004,
          40.378840354576816,
          null
         ]
        },
        {
         "hoverinfo": "text",
         "line": {
          "color": "rgba(209.4509803921569, 235.86274509803923, 243.88235294117646, 1.0)",
          "width": 3.7322446202262483
         },
         "mode": "lines",
         "showlegend": false,
         "text": "Width: 3.73",
         "type": "scatter",
         "x": [
          -3.737112400757822,
          -3.705268804063821,
          null
         ],
         "y": [
          40.378840354576816,
          40.41733007020507,
          null
         ]
        },
        {
         "hoverinfo": "text",
         "line": {
          "color": "rgba(254.15686274509804, 228.8627450980392, 151.37254901960782, 1.0)",
          "width": 5.858637407501914
         },
         "mode": "lines",
         "showlegend": false,
         "text": "Width: 5.86",
         "type": "scatter",
         "x": [
          -3.737112400757822,
          -3.6966151949203576,
          null
         ],
         "y": [
          40.378840354576816,
          40.398119933450886,
          null
         ]
        },
        {
         "hoverinfo": "text",
         "line": {
          "color": "rgba(156.98039215686276, 205.78431372549022, 226.88235294117646, 1.0)",
          "width": 2.764310623458365
         },
         "mode": "lines",
         "showlegend": false,
         "text": "Width: 2.76",
         "type": "scatter",
         "x": [
          -3.737112400757822,
          -3.757223268157654,
          null
         ],
         "y": [
          40.378840354576816,
          40.44543508494524,
          null
         ]
        },
        {
         "hoverinfo": "text",
         "line": {
          "color": "rgba(253.1764705882353, 182.8235294117647, 105.29411764705881, 1.0)",
          "width": 6.826571404269797
         },
         "mode": "lines",
         "showlegend": false,
         "text": "Width: 6.83",
         "type": "scatter",
         "x": [
          -3.737112400757822,
          -3.778616540618283,
          null
         ],
         "y": [
          40.378840354576816,
          40.385273701511004,
          null
         ]
        },
        {
         "hoverinfo": "text",
         "line": {
          "color": "rgba(244.3529411764706, 111.54901960784312, 68.17647058823529, 1.0)",
          "width": 7.948456238836437
         },
         "mode": "lines",
         "showlegend": false,
         "text": "Width: 7.95",
         "type": "scatter",
         "x": [
          -3.737112400757822,
          -3.737112400757822,
          null
         ],
         "y": [
          40.378840354576816,
          40.378840354576816,
          null
         ]
        },
        {
         "hoverinfo": "text",
         "line": {
          "color": "rgba(254.0, 224.0, 144.0, 1.0)",
          "width": 5.9964276601173765
         },
         "mode": "lines",
         "showlegend": false,
         "text": "Width: 6.00",
         "type": "scatter",
         "x": [
          -3.737112400757822,
          -3.7029808755455926,
          null
         ],
         "y": [
          40.378840354576816,
          40.37595000318738,
          null
         ]
        },
        {
         "hoverinfo": "text",
         "line": {
          "color": "rgba(254.7450980392157, 247.09803921568627, 179.01960784313724, 1.0)",
          "width": 5.239431827847239
         },
         "mode": "lines",
         "showlegend": false,
         "text": "Width: 5.24",
         "type": "scatter",
         "x": [
          -3.7029808755455926,
          -3.6966151949203576,
          null
         ],
         "y": [
          40.37595000318738,
          40.398119933450886,
          null
         ]
        },
        {
         "hoverinfo": "text",
         "line": {
          "color": "rgba(254.58823529411765, 242.23529411764707, 171.64705882352942, 1.0)",
          "width": 5.3967848941056396
         },
         "mode": "lines",
         "showlegend": false,
         "text": "Width: 5.40",
         "type": "scatter",
         "x": [
          -3.7029808755455926,
          -3.737112400757822,
          null
         ],
         "y": [
          40.37595000318738,
          40.378840354576816,
          null
         ]
        },
        {
         "hoverinfo": "text",
         "line": {
          "color": "rgba(253.96078431372547, 222.0392156862745, 142.15686274509804, 1.0)",
          "width": 6.018542145105044
         },
         "mode": "lines",
         "showlegend": false,
         "text": "Width: 6.02",
         "type": "scatter",
         "x": [
          -3.7029808755455926,
          -3.7029808755455926,
          null
         ],
         "y": [
          40.37595000318738,
          40.37595000318738,
          null
         ]
        },
        {
         "hoverinfo": "text",
         "line": {
          "color": "rgba(167.76470588235296, 214.41176470588235, 231.58823529411765, 1.0)",
          "width": 2.955685974313175
         },
         "mode": "lines",
         "showlegend": false,
         "text": "Width: 2.96",
         "type": "scatter",
         "x": [
          -3.7029808755455926,
          -3.6598634715735407,
          null
         ],
         "y": [
          40.37595000318738,
          40.38355078734683,
          null
         ]
        },
        {
         "hoverinfo": "text",
         "line": {
          "color": "rgba(254.66666666666666, 244.66666666666669, 175.33333333333334, 1.0)",
          "width": 5.316832525304074
         },
         "mode": "lines",
         "showlegend": false,
         "text": "Width: 5.32",
         "type": "scatter",
         "x": [
          -3.7029808755455926,
          -3.695056256825152,
          null
         ],
         "y": [
          40.37595000318738,
          40.34253624126977,
          null
         ]
        },
        {
         "hoverinfo": "text",
         "line": {
          "color": "rgba(159.1372549019608, 207.50980392156865, 227.82352941176472, 1.0)",
          "width": 2.788126222675852
         },
         "mode": "lines",
         "showlegend": false,
         "text": "Width: 2.79",
         "type": "scatter",
         "x": [
          -3.6598634715735407,
          -3.705268804063821,
          null
         ],
         "y": [
          40.38355078734683,
          40.41733007020507,
          null
         ]
        },
        {
         "hoverinfo": "text",
         "line": {
          "color": "rgba(232.50980392156865, 246.2941176470588, 232.35294117647052, 1.0)",
          "width": 4.290210087607383
         },
         "mode": "lines",
         "showlegend": false,
         "text": "Width: 4.29",
         "type": "scatter",
         "x": [
          -3.6598634715735407,
          -3.6966151949203576,
          null
         ],
         "y": [
          40.38355078734683,
          40.398119933450886,
          null
         ]
        },
        {
         "hoverinfo": "text",
         "line": {
          "color": "rgba(254.03921568627453, 225.2156862745098, 145.84313725490196, 1.0)",
          "width": 5.9734626180148
         },
         "mode": "lines",
         "showlegend": false,
         "text": "Width: 5.97",
         "type": "scatter",
         "x": [
          -3.6598634715735407,
          -3.67643837848883,
          null
         ],
         "y": [
          40.38355078734683,
          40.41138084576659,
          null
         ]
        },
        {
         "hoverinfo": "text",
         "line": {
          "color": "rgba(156.98039215686276, 205.78431372549022, 226.88235294117646, 1.0)",
          "width": 2.7566556094241728
         },
         "mode": "lines",
         "showlegend": false,
         "text": "Width: 2.76",
         "type": "scatter",
         "x": [
          -3.6598634715735407,
          -3.6737887354917422,
          null
         ],
         "y": [
          40.38355078734683,
          40.43018370922185,
          null
         ]
        },
        {
         "hoverinfo": "text",
         "line": {
          "color": "rgba(245.8823529411765, 251.47058823529412, 207.76470588235293, 1.0)",
          "width": 4.69507527430467
         },
         "mode": "lines",
         "showlegend": false,
         "text": "Width: 4.70",
         "type": "scatter",
         "x": [
          -3.6598634715735407,
          -3.7029808755455926,
          null
         ],
         "y": [
          40.38355078734683,
          40.37595000318738,
          null
         ]
        },
        {
         "hoverinfo": "text",
         "line": {
          "color": "rgba(245.41176470588235, 119.19607843137254, 71.70588235294117, 1.0)",
          "width": 7.846389385047205
         },
         "mode": "lines",
         "showlegend": false,
         "text": "Width: 7.85",
         "type": "scatter",
         "x": [
          -3.6598634715735407,
          -3.6598634715735407,
          null
         ],
         "y": [
          40.38355078734683,
          40.38355078734683,
          null
         ]
        },
        {
         "hoverinfo": "text",
         "line": {
          "color": "rgba(254.94117647058823, 253.1764705882353, 188.23529411764707, 1.0)",
          "width": 5.0684698477502765
         },
         "mode": "lines",
         "showlegend": false,
         "text": "Width: 5.07",
         "type": "scatter",
         "x": [
          -3.6598634715735407,
          -3.6413909394895803,
          null
         ],
         "y": [
          40.38355078734683,
          40.40661270611631,
          null
         ]
        },
        {
         "hoverinfo": "text",
         "line": {
          "color": "rgba(217.76470588235298, 239.94117647058823, 246.23529411764704, 1.0)",
          "width": 3.8912988007144675
         },
         "mode": "lines",
         "showlegend": false,
         "text": "Width: 3.89",
         "type": "scatter",
         "x": [
          -3.6598634715735407,
          -3.695056256825152,
          null
         ],
         "y": [
          40.38355078734683,
          40.34253624126977,
          null
         ]
        },
        {
         "hoverinfo": "text",
         "line": {
          "color": "rgba(250.00000000000003, 152.33333333333334, 87.0, 1.0)",
          "width": 7.305435059964276
         },
         "mode": "lines",
         "showlegend": false,
         "text": "Width: 7.31",
         "type": "scatter",
         "x": [
          -3.6598634715735407,
          -3.6160073912284756,
          null
         ],
         "y": [
          40.38355078734683,
          40.34992967757026,
          null
         ]
        },
        {
         "hoverinfo": "text",
         "line": {
          "color": "rgba(190.74509803921572, 226.68627450980395, 238.58823529411765, 1.0)",
          "width": 3.3979756740665135
         },
         "mode": "lines",
         "showlegend": false,
         "text": "Width: 3.40",
         "type": "scatter",
         "x": [
          -3.6598634715735407,
          -3.572894771748725,
          null
         ],
         "y": [
          40.38355078734683,
          40.39356859265691,
          null
         ]
        },
        {
         "hoverinfo": "text",
         "line": {
          "color": "rgba(243.45098039215688, 250.52941176470588, 212.23529411764704, 1.0)",
          "width": 4.644041847410054
         },
         "mode": "lines",
         "showlegend": false,
         "text": "Width: 4.64",
         "type": "scatter",
         "x": [
          -3.6413909394895803,
          -3.67643837848883,
          null
         ],
         "y": [
          40.40661270611631,
          40.41138084576659,
          null
         ]
        },
        {
         "hoverinfo": "text",
         "line": {
          "color": "rgba(205.29411764705887, 233.82352941176472, 242.7058823529412, 1.0)",
          "width": 3.6454877945054007
         },
         "mode": "lines",
         "showlegend": false,
         "text": "Width: 3.65",
         "type": "scatter",
         "x": [
          -3.6413909394895803,
          -3.6737887354917422,
          null
         ],
         "y": [
          40.40661270611631,
          40.43018370922185,
          null
         ]
        },
        {
         "hoverinfo": "text",
         "line": {
          "color": "rgba(254.90196078431373, 251.9607843137255, 186.3921568627451, 1.0)",
          "width": 5.094837118312495
         },
         "mode": "lines",
         "showlegend": false,
         "text": "Width: 5.09",
         "type": "scatter",
         "x": [
          -3.6413909394895803,
          -3.6598634715735407,
          null
         ],
         "y": [
          40.40661270611631,
          40.38355078734683,
          null
         ]
        },
        {
         "hoverinfo": "text",
         "line": {
          "color": "rgba(250.7450980392157, 253.3529411764706, 198.8235294117647, 1.0)",
          "width": 4.860933911712171
         },
         "mode": "lines",
         "showlegend": false,
         "text": "Width: 4.86",
         "type": "scatter",
         "x": [
          -3.6413909394895803,
          -3.6413909394895803,
          null
         ],
         "y": [
          40.40661270611631,
          40.40661270611631,
          null
         ]
        },
        {
         "hoverinfo": "text",
         "line": {
          "color": "rgba(226.43137254901964, 243.94117647058823, 243.52941176470583, 1.0)",
          "width": 4.088628051373649
         },
         "mode": "lines",
         "showlegend": false,
         "text": "Width: 4.09",
         "type": "scatter",
         "x": [
          -3.6413909394895803,
          -3.649948514601449,
          null
         ],
         "y": [
          40.40661270611631,
          40.43926990707227,
          null
         ]
        },
        {
         "hoverinfo": "text",
         "line": {
          "color": "rgba(174.11764705882354, 218.52941176470588, 233.88235294117646, 1.0)",
          "width": 3.047546142723484
         },
         "mode": "lines",
         "showlegend": false,
         "text": "Width: 3.05",
         "type": "scatter",
         "x": [
          -3.6413909394895803,
          -3.572894771748725,
          null
         ],
         "y": [
          40.40661270611631,
          40.39356859265691,
          null
         ]
        },
        {
         "hoverinfo": "text",
         "line": {
          "color": "rgba(242.23529411764707, 250.05882352941177, 214.4705882352941, 1.0)",
          "width": 4.594709534745258
         },
         "mode": "lines",
         "showlegend": false,
         "text": "Width: 4.59",
         "type": "scatter",
         "x": [
          -3.678150006537061,
          -3.6737887354917422,
          null
         ],
         "y": [
          40.45750039357669,
          40.43018370922185,
          null
         ]
        },
        {
         "hoverinfo": "text",
         "line": {
          "color": "rgba(253.88235294117646, 218.11764705882354, 138.47058823529412, 1.0)",
          "width": 6.128264012928468
         },
         "mode": "lines",
         "showlegend": false,
         "text": "Width: 6.13",
         "type": "scatter",
         "x": [
          -3.678150006537061,
          -3.678150006537061,
          null
         ],
         "y": [
          40.45750039357669,
          40.45750039357669,
          null
         ]
        },
        {
         "hoverinfo": "text",
         "line": {
          "color": "rgba(207.37254901960787, 234.843137254902, 243.2941176470588, 1.0)",
          "width": 3.7092795781236707
         },
         "mode": "lines",
         "showlegend": false,
         "text": "Width: 3.71",
         "type": "scatter",
         "x": [
          -3.678150006537061,
          -3.6999935507976827,
          null
         ],
         "y": [
          40.45750039357669,
          40.4606484776773,
          null
         ]
        },
        {
         "hoverinfo": "text",
         "line": {
          "color": "rgba(201.13725490196083, 231.7843137254902, 241.52941176470588, 1.0)",
          "width": 3.5859487964616825
         },
         "mode": "lines",
         "showlegend": false,
         "text": "Width: 3.59",
         "type": "scatter",
         "x": [
          -3.678150006537061,
          -3.703523951395161,
          null
         ],
         "y": [
          40.45750039357669,
          40.4375595509298,
          null
         ]
        },
        {
         "hoverinfo": "text",
         "line": {
          "color": "rgba(230.07843137254906, 245.3529411764706, 236.82352941176467, 1.0)",
          "width": 4.211958833035638
         },
         "mode": "lines",
         "showlegend": false,
         "text": "Width: 4.21",
         "type": "scatter",
         "x": [
          -3.678150006537061,
          -3.753579560856663,
          null
         ],
         "y": [
          40.45750039357669,
          40.54479435831404,
          null
         ]
        },
        {
         "hoverinfo": "text",
         "line": {
          "color": "rgba(247.09803921568627, 251.94117647058823, 205.52941176470588, 1.0)",
          "width": 4.72909755890108
         },
         "mode": "lines",
         "showlegend": false,
         "text": "Width: 4.73",
         "type": "scatter",
         "x": [
          -3.678150006537061,
          -3.649948514601449,
          null
         ],
         "y": [
          40.45750039357669,
          40.43926990707227,
          null
         ]
        },
        {
         "hoverinfo": "text",
         "line": {
          "color": "rgba(205.29411764705887, 233.82352941176472, 242.7058823529412, 1.0)",
          "width": 3.6701539508377987
         },
         "mode": "lines",
         "showlegend": false,
         "text": "Width: 3.67",
         "type": "scatter",
         "x": [
          -3.678150006537061,
          -3.637741035389707,
          null
         ],
         "y": [
          40.45750039357669,
          40.48201214532898,
          null
         ]
        },
        {
         "hoverinfo": "text",
         "line": {
          "color": "rgba(176.19607843137257, 219.54901960784315, 234.47058823529412, 1.0)",
          "width": 3.1206940546057664
         },
         "mode": "lines",
         "showlegend": false,
         "text": "Width: 3.12",
         "type": "scatter",
         "x": [
          -3.649948514601449,
          -3.67643837848883,
          null
         ],
         "y": [
          40.43926990707227,
          40.41138084576659,
          null
         ]
        },
        {
         "hoverinfo": "text",
         "line": {
          "color": "rgba(253.1764705882353, 182.8235294117647, 105.29411764705881, 1.0)",
          "width": 6.803606362167219
         },
         "mode": "lines",
         "showlegend": false,
         "text": "Width: 6.80",
         "type": "scatter",
         "x": [
          -3.649948514601449,
          -3.6737887354917422,
          null
         ],
         "y": [
          40.43926990707227,
          40.43018370922185,
          null
         ]
        },
        {
         "hoverinfo": "text",
         "line": {
          "color": "rgba(254.07843137254903, 226.4313725490196, 147.68627450980392, 1.0)",
          "width": 5.902866377477247
         },
         "mode": "lines",
         "showlegend": false,
         "text": "Width: 5.90",
         "type": "scatter",
         "x": [
          -3.649948514601449,
          -3.678150006537061,
          null
         ],
         "y": [
          40.43926990707227,
          40.45750039357669,
          null
         ]
        },
        {
         "hoverinfo": "text",
         "line": {
          "color": "rgba(154.82352941176472, 204.0588235294118, 225.94117647058823, 1.0)",
          "width": 2.7311388959768648
         },
         "mode": "lines",
         "showlegend": false,
         "text": "Width: 2.73",
         "type": "scatter",
         "x": [
          -3.649948514601449,
          -3.753579560856663,
          null
         ],
         "y": [
          40.43926990707227,
          40.54479435831404,
          null
         ]
        },
        {
         "hoverinfo": "text",
         "line": {
          "color": "rgba(245.8823529411765, 251.47058823529412, 207.76470588235293, 1.0)",
          "width": 4.6891213745002975
         },
         "mode": "lines",
         "showlegend": false,
         "text": "Width: 4.69",
         "type": "scatter",
         "x": [
          -3.649948514601449,
          -3.6413909394895803,
          null
         ],
         "y": [
          40.43926990707227,
          40.40661270611631,
          null
         ]
        },
        {
         "hoverinfo": "text",
         "line": {
          "color": "rgba(252.47058823529414, 170.17647058823536, 95.23529411764709, 1.0)",
          "width": 7.06472739644467
         },
         "mode": "lines",
         "showlegend": false,
         "text": "Width: 7.06",
         "type": "scatter",
         "x": [
          -3.649948514601449,
          -3.649948514601449,
          null
         ],
         "y": [
          40.43926990707227,
          40.43926990707227,
          null
         ]
        },
        {
         "hoverinfo": "text",
         "line": {
          "color": "rgba(254.39215686274508, 254.76470588235296, 192.1176470588235, 1.0)",
          "width": 4.961299651271583
         },
         "mode": "lines",
         "showlegend": false,
         "text": "Width: 4.96",
         "type": "scatter",
         "x": [
          -3.649948514601449,
          -3.637741035389707,
          null
         ],
         "y": [
          40.43926990707227,
          40.48201214532898,
          null
         ]
        },
        {
         "hoverinfo": "text",
         "line": {
          "color": "rgba(253.52941176470588, 200.47058823529414, 121.88235294117646, 1.0)",
          "width": 6.447222931019818
         },
         "mode": "lines",
         "showlegend": false,
         "text": "Width: 6.45",
         "type": "scatter",
         "x": [
          -3.649948514601449,
          -3.5986526886701378,
          null
         ],
         "y": [
          40.43926990707227,
          40.43466852782298,
          null
         ]
        },
        {
         "hoverinfo": "text",
         "line": {
          "color": "rgba(254.62745098039215, 243.45098039215685, 173.49019607843138, 1.0)",
          "width": 5.383175980267075
         },
         "mode": "lines",
         "showlegend": false,
         "text": "Width: 5.38",
         "type": "scatter",
         "x": [
          -3.6999935507976827,
          -3.678150006537061,
          null
         ],
         "y": [
          40.4606484776773,
          40.45750039357669,
          null
         ]
        },
        {
         "hoverinfo": "text",
         "line": {
          "color": "rgba(254.23529411764704, 231.29411764705884, 155.05882352941177, 1.0)",
          "width": 5.759972782172322
         },
         "mode": "lines",
         "showlegend": false,
         "text": "Width: 5.76",
         "type": "scatter",
         "x": [
          -3.6999935507976827,
          -3.6999935507976827,
          null
         ],
         "y": [
          40.4606484776773,
          40.4606484776773,
          null
         ]
        },
        {
         "hoverinfo": "text",
         "line": {
          "color": "rgba(254.78431372549022, 248.31372549019608, 180.8627450980392, 1.0)",
          "width": 5.199455643446457
         },
         "mode": "lines",
         "showlegend": false,
         "text": "Width: 5.20",
         "type": "scatter",
         "x": [
          -3.6999935507976827,
          -3.703523951395161,
          null
         ],
         "y": [
          40.4606484776773,
          40.4375595509298,
          null
         ]
        },
        {
         "hoverinfo": "text",
         "line": {
          "color": "rgba(253.0980392156863, 178.90196078431373, 101.60784313725489, 1.0)",
          "width": 6.900569873266989
         },
         "mode": "lines",
         "showlegend": false,
         "text": "Width: 6.90",
         "type": "scatter",
         "x": [
          -3.6999935507976827,
          -3.753579560856663,
          null
         ],
         "y": [
          40.4606484776773,
          40.54479435831404,
          null
         ]
        },
        {
         "hoverinfo": "text",
         "line": {
          "color": "rgba(254.66666666666666, 244.66666666666669, 175.33333333333334, 1.0)",
          "width": 5.317683082418984
         },
         "mode": "lines",
         "showlegend": false,
         "text": "Width: 5.32",
         "type": "scatter",
         "x": [
          -3.6999935507976827,
          -3.757223268157654,
          null
         ],
         "y": [
          40.4606484776773,
          40.44543508494524,
          null
         ]
        },
        {
         "hoverinfo": "text",
         "line": {
          "color": "rgba(226.43137254901964, 243.94117647058823, 243.52941176470583, 1.0)",
          "width": 4.080973037339457
         },
         "mode": "lines",
         "showlegend": false,
         "text": "Width: 4.08",
         "type": "scatter",
         "x": [
          -3.753579560856663,
          -3.678150006537061,
          null
         ],
         "y": [
          40.54479435831404,
          40.45750039357669,
          null
         ]
        },
        {
         "hoverinfo": "text",
         "line": {
          "color": "rgba(253.68627450980392, 208.31372549019608, 129.2549019607843, 1.0)",
          "width": 6.291570978991238
         },
         "mode": "lines",
         "showlegend": false,
         "text": "Width: 6.29",
         "type": "scatter",
         "x": [
          -3.753579560856663,
          -3.6999935507976827,
          null
         ],
         "y": [
          40.54479435831404,
          40.4606484776773,
          null
         ]
        },
        {
         "hoverinfo": "text",
         "line": {
          "color": "rgba(165.0, 0.0, 38.0, 1.0)",
          "width": 10
         },
         "mode": "lines",
         "showlegend": false,
         "text": "Width: 10.00",
         "type": "scatter",
         "x": [
          -3.753579560856663,
          -3.753579560856663,
          null
         ],
         "y": [
          40.54479435831404,
          40.54479435831404,
          null
         ]
        },
        {
         "hoverinfo": "text",
         "line": {
          "color": "rgba(254.47058823529412, 238.58823529411765, 166.1176470588235, 1.0)",
          "width": 5.541379603640384
         },
         "mode": "lines",
         "showlegend": false,
         "text": "Width: 5.54",
         "type": "scatter",
         "x": [
          -3.753579560856663,
          -3.757223268157654,
          null
         ],
         "y": [
          40.54479435831404,
          40.44543508494524,
          null
         ]
        },
        {
         "hoverinfo": "text",
         "line": {
          "color": "rgba(253.45098039215688, 196.54901960784312, 118.19607843137254, 1.0)",
          "width": 6.535680870970486
         },
         "mode": "lines",
         "showlegend": false,
         "text": "Width: 6.54",
         "type": "scatter",
         "x": [
          -3.753579560856663,
          -3.637741035389707,
          null
         ],
         "y": [
          40.54479435831404,
          40.48201214532898,
          null
         ]
        },
        {
         "hoverinfo": "text",
         "line": {
          "color": "rgba(236.15686274509804, 247.7058823529412, 225.64705882352936, 1.0)",
          "width": 4.401633069660627
         },
         "mode": "lines",
         "showlegend": false,
         "text": "Width: 4.40",
         "type": "scatter",
         "x": [
          -3.637741035389707,
          -3.678150006537061,
          null
         ],
         "y": [
          40.48201214532898,
          40.45750039357669,
          null
         ]
        },
        {
         "hoverinfo": "text",
         "line": {
          "color": "rgba(254.31372549019608, 233.72549019607843, 158.7450980392157, 1.0)",
          "width": 5.676618184911116
         },
         "mode": "lines",
         "showlegend": false,
         "text": "Width: 5.68",
         "type": "scatter",
         "x": [
          -3.637741035389707,
          -3.753579560856663,
          null
         ],
         "y": [
          40.48201214532898,
          40.54479435831404,
          null
         ]
        },
        {
         "hoverinfo": "text",
         "line": {
          "color": "rgba(254.50980392156862, 239.80392156862743, 167.9607843137255, 1.0)",
          "width": 5.479288934251934
         },
         "mode": "lines",
         "showlegend": false,
         "text": "Width: 5.48",
         "type": "scatter",
         "x": [
          -3.637741035389707,
          -3.649948514601449,
          null
         ],
         "y": [
          40.48201214532898,
          40.43926990707227,
          null
         ]
        },
        {
         "hoverinfo": "text",
         "line": {
          "color": "rgba(212.05882352941177, 45.17647058823529, 38.94117647058824, 1.0)",
          "width": 9.026962660542655
         },
         "mode": "lines",
         "showlegend": false,
         "text": "Width: 9.03",
         "type": "scatter",
         "x": [
          -3.637741035389707,
          -3.637741035389707,
          null
         ],
         "y": [
          40.48201214532898,
          40.48201214532898,
          null
         ]
        },
        {
         "hoverinfo": "text",
         "line": {
          "color": "rgba(250.7450980392157, 253.3529411764706, 198.8235294117647, 1.0)",
          "width": 4.85753168325253
         },
         "mode": "lines",
         "showlegend": false,
         "text": "Width: 4.86",
         "type": "scatter",
         "x": [
          -3.637741035389707,
          -3.5986526886701378,
          null
         ],
         "y": [
          40.48201214532898,
          40.43466852782298,
          null
         ]
        },
        {
         "hoverinfo": "text",
         "line": {
          "color": "rgba(225.21568627450984, 243.47058823529412, 245.76470588235287, 1.0)",
          "width": 4.02398571064047
         },
         "mode": "lines",
         "showlegend": false,
         "text": "Width: 4.02",
         "type": "scatter",
         "x": [
          -3.637741035389707,
          -3.574543479322823,
          null
         ],
         "y": [
          40.48201214532898,
          40.4757410696608,
          null
         ]
        },
        {
         "hoverinfo": "text",
         "line": {
          "color": "rgba(254.66666666666666, 244.66666666666669, 175.33333333333334, 1.0)",
          "width": 5.33469422471719
         },
         "mode": "lines",
         "showlegend": false,
         "text": "Width: 5.33",
         "type": "scatter",
         "x": [
          -3.695056256825152,
          -3.7029808755455926,
          null
         ],
         "y": [
          40.34253624126977,
          40.37595000318738,
          null
         ]
        },
        {
         "hoverinfo": "text",
         "line": {
          "color": "rgba(220.11764705882354, 58.76470588235294, 43.941176470588246, 1.0)",
          "width": 8.806668367780896
         },
         "mode": "lines",
         "showlegend": false,
         "text": "Width: 8.81",
         "type": "scatter",
         "x": [
          -3.695056256825152,
          -3.695056256825152,
          null
         ],
         "y": [
          40.34253624126977,
          40.34253624126977,
          null
         ]
        },
        {
         "hoverinfo": "text",
         "line": {
          "color": "rgba(205.29411764705887, 233.82352941176472, 242.7058823529412, 1.0)",
          "width": 3.6582461512290547
         },
         "mode": "lines",
         "showlegend": false,
         "text": "Width: 3.66",
         "type": "scatter",
         "x": [
          -3.695056256825152,
          -3.6160073912284756,
          null
         ],
         "y": [
          40.34253624126977,
          40.34992967757026,
          null
         ]
        },
        {
         "hoverinfo": "text",
         "line": {
          "color": "rgba(253.13725490196077, 180.8627450980392, 103.45098039215685, 1.0)",
          "width": 6.859743131751297
         },
         "mode": "lines",
         "showlegend": false,
         "text": "Width: 6.86",
         "type": "scatter",
         "x": [
          -3.6160073912284756,
          -3.6598634715735407,
          null
         ],
         "y": [
          40.34992967757026,
          40.38355078734683,
          null
         ]
        },
        {
         "hoverinfo": "text",
         "line": {
          "color": "rgba(232.50980392156865, 246.2941176470588, 232.35294117647052, 1.0)",
          "width": 4.263842817045164
         },
         "mode": "lines",
         "showlegend": false,
         "text": "Width: 4.26",
         "type": "scatter",
         "x": [
          -3.6160073912284756,
          -3.695056256825152,
          null
         ],
         "y": [
          40.34992967757026,
          40.34253624126977,
          null
         ]
        },
        {
         "hoverinfo": "text",
         "line": {
          "color": "rgba(217.84313725490196, 53.98039215686274, 41.74509803921569, 1.0)",
          "width": 8.875563494088627
         },
         "mode": "lines",
         "showlegend": false,
         "text": "Width: 8.88",
         "type": "scatter",
         "x": [
          -3.6160073912284756,
          -3.6160073912284756,
          null
         ],
         "y": [
          40.34992967757026,
          40.34992967757026,
          null
         ]
        },
        {
         "hoverinfo": "text",
         "line": {
          "color": "rgba(254.4313725490196, 237.37254901960785, 164.27450980392155, 1.0)",
          "width": 5.584758016500808
         },
         "mode": "lines",
         "showlegend": false,
         "text": "Width: 5.58",
         "type": "scatter",
         "x": [
          -3.6160073912284756,
          -3.572894771748725,
          null
         ],
         "y": [
          40.34992967757026,
          40.39356859265691,
          null
         ]
        },
        {
         "hoverinfo": "text",
         "line": {
          "color": "rgba(172.03921568627453, 217.50980392156862, 233.29411764705884, 1.0)",
          "width": 3.022879986391086
         },
         "mode": "lines",
         "showlegend": false,
         "text": "Width: 3.02",
         "type": "scatter",
         "x": [
          -3.572894771748725,
          -3.6598634715735407,
          null
         ],
         "y": [
          40.39356859265691,
          40.38355078734683,
          null
         ]
        },
        {
         "hoverinfo": "text",
         "line": {
          "color": "rgba(172.03921568627453, 217.50980392156862, 233.29411764705884, 1.0)",
          "width": 3.029684443310368
         },
         "mode": "lines",
         "showlegend": false,
         "text": "Width: 3.03",
         "type": "scatter",
         "x": [
          -3.572894771748725,
          -3.6413909394895803,
          null
         ],
         "y": [
          40.39356859265691,
          40.40661270611631,
          null
         ]
        },
        {
         "hoverinfo": "text",
         "line": {
          "color": "rgba(254.90196078431373, 251.9607843137255, 186.3921568627451, 1.0)",
          "width": 5.109296589265969
         },
         "mode": "lines",
         "showlegend": false,
         "text": "Width: 5.11",
         "type": "scatter",
         "x": [
          -3.572894771748725,
          -3.6160073912284756,
          null
         ],
         "y": [
          40.39356859265691,
          40.34992967757026,
          null
         ]
        },
        {
         "hoverinfo": "text",
         "line": {
          "color": "rgba(247.52941176470588, 134.49019607843138, 78.76470588235296, 1.0)",
          "width": 7.595475036148677
         },
         "mode": "lines",
         "showlegend": false,
         "text": "Width: 7.60",
         "type": "scatter",
         "x": [
          -3.572894771748725,
          -3.572894771748725,
          null
         ],
         "y": [
          40.39356859265691,
          40.39356859265691,
          null
         ]
        },
        {
         "hoverinfo": "text",
         "line": {
          "color": "rgba(254.78431372549022, 248.31372549019608, 180.8627450980392, 1.0)",
          "width": 5.215616228629752
         },
         "mode": "lines",
         "showlegend": false,
         "text": "Width: 5.22",
         "type": "scatter",
         "x": [
          -3.572894771748725,
          -3.5986526886701378,
          null
         ],
         "y": [
          40.39356859265691,
          40.43466852782298,
          null
         ]
        },
        {
         "hoverinfo": "text",
         "line": {
          "color": "rgba(253.80392156862746, 214.19607843137254, 134.7843137254902, 1.0)",
          "width": 6.201411924810751
         },
         "mode": "lines",
         "showlegend": false,
         "text": "Width: 6.20",
         "type": "scatter",
         "x": [
          -3.5986526886701378,
          -3.649948514601449,
          null
         ],
         "y": [
          40.43466852782298,
          40.43926990707227,
          null
         ]
        },
        {
         "hoverinfo": "text",
         "line": {
          "color": "rgba(236.15686274509804, 247.7058823529412, 225.64705882352936, 1.0)",
          "width": 4.392276941396614
         },
         "mode": "lines",
         "showlegend": false,
         "text": "Width: 4.39",
         "type": "scatter",
         "x": [
          -3.5986526886701378,
          -3.637741035389707,
          null
         ],
         "y": [
          40.43466852782298,
          40.48201214532898,
          null
         ]
        },
        {
         "hoverinfo": "text",
         "line": {
          "color": "rgba(253.2941176470588, 188.70588235294116, 110.82352941176471, 1.0)",
          "width": 6.692183380113975
         },
         "mode": "lines",
         "showlegend": false,
         "text": "Width: 6.69",
         "type": "scatter",
         "x": [
          -3.5986526886701378,
          -3.572894771748725,
          null
         ],
         "y": [
          40.43466852782298,
          40.39356859265691,
          null
         ]
        },
        {
         "hoverinfo": "text",
         "line": {
          "color": "rgba(233.76470588235293, 87.4705882352941, 57.11764705882353, 1.0)",
          "width": 8.335459726120607
         },
         "mode": "lines",
         "showlegend": false,
         "text": "Width: 8.34",
         "type": "scatter",
         "x": [
          -3.5986526886701378,
          -3.5986526886701378,
          null
         ],
         "y": [
          40.43466852782298,
          40.43466852782298,
          null
         ]
        },
        {
         "hoverinfo": "text",
         "line": {
          "color": "rgba(254.39215686274508, 236.15686274509804, 162.4313725490196, 1.0)",
          "width": 5.59496470187973
         },
         "mode": "lines",
         "showlegend": false,
         "text": "Width: 5.59",
         "type": "scatter",
         "x": [
          -3.5986526886701378,
          -3.574543479322823,
          null
         ],
         "y": [
          40.43466852782298,
          40.4757410696608,
          null
         ]
        },
        {
         "hoverinfo": "text",
         "line": {
          "color": "rgba(254.39215686274508, 254.76470588235296, 192.1176470588235, 1.0)",
          "width": 4.991069150293442
         },
         "mode": "lines",
         "showlegend": false,
         "text": "Width: 4.99",
         "type": "scatter",
         "x": [
          -3.574543479322823,
          -3.637741035389707,
          null
         ],
         "y": [
          40.4757410696608,
          40.48201214532898,
          null
         ]
        },
        {
         "hoverinfo": "text",
         "line": {
          "color": "rgba(224.00000000000003, 243.0, 247.99999999999994, 1.0)",
          "width": 4.010376796801905
         },
         "mode": "lines",
         "showlegend": false,
         "text": "Width: 4.01",
         "type": "scatter",
         "x": [
          -3.574543479322823,
          -3.5986526886701378,
          null
         ],
         "y": [
          40.4757410696608,
          40.43466852782298,
          null
         ]
        },
        {
         "hoverinfo": "text",
         "line": {
          "color": "rgba(247.1764705882353, 131.94117647058823, 77.58823529411764, 1.0)",
          "width": 7.6388534490091
         },
         "mode": "lines",
         "showlegend": false,
         "text": "Width: 7.64",
         "type": "scatter",
         "x": [
          -3.574543479322823,
          -3.574543479322823,
          null
         ],
         "y": [
          40.4757410696608,
          40.4757410696608,
          null
         ]
        },
        {
         "hoverinfo": "text",
         "marker": {
          "color": "white",
          "line": {
           "color": "#888",
           "width": 2
          },
          "size": [
           41.300000000000004,
           52.5,
           60.9,
           59.5,
           59.5,
           58.1,
           35.7,
           31.5,
           28.7,
           28.7,
           39.9,
           65.1,
           39.9,
           38.5,
           53.9,
           49.7,
           30.1,
           37.1,
           38.5,
           38.5,
           51.1
          ]
         },
         "mode": "markers",
         "showlegend": false,
         "text": [
          "District: Centro",
          "District: Arganzuela",
          "District: Retiro",
          "District: Salamanca",
          "District: Chamberí",
          "District: Moncloa-Aravaca",
          "District: Latina",
          "District: Carabanchel",
          "District: Usera",
          "District: Puente de Vallecas",
          "District: Moratalaz",
          "District: Chamartín",
          "District: Ciudad Lineal",
          "District: Tetuán",
          "District: Fuencarral-El Pardo",
          "District: Hortaleza",
          "District: Villaverde",
          "District: Villa de Vallecas",
          "District: Vicálvaro",
          "District: San Blas-Canillejas",
          "District: Barajas"
         ],
         "type": "scatter",
         "x": [
          -3.705268804063821,
          -3.6966151949203576,
          -3.67643837848883,
          -3.6737887354917422,
          -3.703523951395161,
          -3.757223268157654,
          -3.778616540618283,
          -3.737112400757822,
          -3.7029808755455926,
          -3.6598634715735407,
          -3.6413909394895803,
          -3.678150006537061,
          -3.649948514601449,
          -3.6999935507976827,
          -3.753579560856663,
          -3.637741035389707,
          -3.695056256825152,
          -3.6160073912284756,
          -3.572894771748725,
          -3.5986526886701378,
          -3.574543479322823
         ],
         "y": [
          40.41733007020507,
          40.398119933450886,
          40.41138084576659,
          40.43018370922185,
          40.4375595509298,
          40.44543508494524,
          40.385273701511004,
          40.378840354576816,
          40.37595000318738,
          40.38355078734683,
          40.40661270611631,
          40.45750039357669,
          40.43926990707227,
          40.4606484776773,
          40.54479435831404,
          40.48201214532898,
          40.34253624126977,
          40.34992967757026,
          40.39356859265691,
          40.43466852782298,
          40.4757410696608
         ]
        },
        {
         "hoverinfo": "none",
         "marker": {
          "cmax": 1,
          "cmin": 0.27047716254146464,
          "colorbar": {
           "ticktext": [
            "0.27",
            "0.45",
            "0.64",
            "0.82",
            "1.00"
           ],
           "tickvals": [
            0.27047716254146464,
            0.4528578719060985,
            0.6352385812707324,
            0.8176192906353661,
            1
           ],
           "title": {
            "text": "Edge Weight"
           }
          },
          "colorscale": [
           [
            0,
            "rgb(49,54,149)"
           ],
           [
            0.1,
            "rgb(69,117,180)"
           ],
           [
            0.2,
            "rgb(116,173,209)"
           ],
           [
            0.3,
            "rgb(171,217,233)"
           ],
           [
            0.4,
            "rgb(224,243,248)"
           ],
           [
            0.5,
            "rgb(255,255,191)"
           ],
           [
            0.6,
            "rgb(254,224,144)"
           ],
           [
            0.7,
            "rgb(253,174,97)"
           ],
           [
            0.8,
            "rgb(244,109,67)"
           ],
           [
            0.9,
            "rgb(215,48,39)"
           ],
           [
            1,
            "rgb(165,0,38)"
           ]
          ],
          "showscale": true
         },
         "mode": "markers",
         "type": "scatter",
         "x": [
          null
         ],
         "y": [
          null
         ]
        }
       ],
       "layout": {
        "hovermode": "closest",
        "margin": {
         "b": 0,
         "l": 0,
         "r": 0,
         "t": 0
        },
        "showlegend": true,
        "template": {
         "data": {
          "bar": [
           {
            "error_x": {
             "color": "#2a3f5f"
            },
            "error_y": {
             "color": "#2a3f5f"
            },
            "marker": {
             "line": {
              "color": "#E5ECF6",
              "width": 0.5
             },
             "pattern": {
              "fillmode": "overlay",
              "size": 10,
              "solidity": 0.2
             }
            },
            "type": "bar"
           }
          ],
          "barpolar": [
           {
            "marker": {
             "line": {
              "color": "#E5ECF6",
              "width": 0.5
             },
             "pattern": {
              "fillmode": "overlay",
              "size": 10,
              "solidity": 0.2
             }
            },
            "type": "barpolar"
           }
          ],
          "carpet": [
           {
            "aaxis": {
             "endlinecolor": "#2a3f5f",
             "gridcolor": "white",
             "linecolor": "white",
             "minorgridcolor": "white",
             "startlinecolor": "#2a3f5f"
            },
            "baxis": {
             "endlinecolor": "#2a3f5f",
             "gridcolor": "white",
             "linecolor": "white",
             "minorgridcolor": "white",
             "startlinecolor": "#2a3f5f"
            },
            "type": "carpet"
           }
          ],
          "choropleth": [
           {
            "colorbar": {
             "outlinewidth": 0,
             "ticks": ""
            },
            "type": "choropleth"
           }
          ],
          "contour": [
           {
            "colorbar": {
             "outlinewidth": 0,
             "ticks": ""
            },
            "colorscale": [
             [
              0,
              "#0d0887"
             ],
             [
              0.1111111111111111,
              "#46039f"
             ],
             [
              0.2222222222222222,
              "#7201a8"
             ],
             [
              0.3333333333333333,
              "#9c179e"
             ],
             [
              0.4444444444444444,
              "#bd3786"
             ],
             [
              0.5555555555555556,
              "#d8576b"
             ],
             [
              0.6666666666666666,
              "#ed7953"
             ],
             [
              0.7777777777777778,
              "#fb9f3a"
             ],
             [
              0.8888888888888888,
              "#fdca26"
             ],
             [
              1,
              "#f0f921"
             ]
            ],
            "type": "contour"
           }
          ],
          "contourcarpet": [
           {
            "colorbar": {
             "outlinewidth": 0,
             "ticks": ""
            },
            "type": "contourcarpet"
           }
          ],
          "heatmap": [
           {
            "colorbar": {
             "outlinewidth": 0,
             "ticks": ""
            },
            "colorscale": [
             [
              0,
              "#0d0887"
             ],
             [
              0.1111111111111111,
              "#46039f"
             ],
             [
              0.2222222222222222,
              "#7201a8"
             ],
             [
              0.3333333333333333,
              "#9c179e"
             ],
             [
              0.4444444444444444,
              "#bd3786"
             ],
             [
              0.5555555555555556,
              "#d8576b"
             ],
             [
              0.6666666666666666,
              "#ed7953"
             ],
             [
              0.7777777777777778,
              "#fb9f3a"
             ],
             [
              0.8888888888888888,
              "#fdca26"
             ],
             [
              1,
              "#f0f921"
             ]
            ],
            "type": "heatmap"
           }
          ],
          "heatmapgl": [
           {
            "colorbar": {
             "outlinewidth": 0,
             "ticks": ""
            },
            "colorscale": [
             [
              0,
              "#0d0887"
             ],
             [
              0.1111111111111111,
              "#46039f"
             ],
             [
              0.2222222222222222,
              "#7201a8"
             ],
             [
              0.3333333333333333,
              "#9c179e"
             ],
             [
              0.4444444444444444,
              "#bd3786"
             ],
             [
              0.5555555555555556,
              "#d8576b"
             ],
             [
              0.6666666666666666,
              "#ed7953"
             ],
             [
              0.7777777777777778,
              "#fb9f3a"
             ],
             [
              0.8888888888888888,
              "#fdca26"
             ],
             [
              1,
              "#f0f921"
             ]
            ],
            "type": "heatmapgl"
           }
          ],
          "histogram": [
           {
            "marker": {
             "pattern": {
              "fillmode": "overlay",
              "size": 10,
              "solidity": 0.2
             }
            },
            "type": "histogram"
           }
          ],
          "histogram2d": [
           {
            "colorbar": {
             "outlinewidth": 0,
             "ticks": ""
            },
            "colorscale": [
             [
              0,
              "#0d0887"
             ],
             [
              0.1111111111111111,
              "#46039f"
             ],
             [
              0.2222222222222222,
              "#7201a8"
             ],
             [
              0.3333333333333333,
              "#9c179e"
             ],
             [
              0.4444444444444444,
              "#bd3786"
             ],
             [
              0.5555555555555556,
              "#d8576b"
             ],
             [
              0.6666666666666666,
              "#ed7953"
             ],
             [
              0.7777777777777778,
              "#fb9f3a"
             ],
             [
              0.8888888888888888,
              "#fdca26"
             ],
             [
              1,
              "#f0f921"
             ]
            ],
            "type": "histogram2d"
           }
          ],
          "histogram2dcontour": [
           {
            "colorbar": {
             "outlinewidth": 0,
             "ticks": ""
            },
            "colorscale": [
             [
              0,
              "#0d0887"
             ],
             [
              0.1111111111111111,
              "#46039f"
             ],
             [
              0.2222222222222222,
              "#7201a8"
             ],
             [
              0.3333333333333333,
              "#9c179e"
             ],
             [
              0.4444444444444444,
              "#bd3786"
             ],
             [
              0.5555555555555556,
              "#d8576b"
             ],
             [
              0.6666666666666666,
              "#ed7953"
             ],
             [
              0.7777777777777778,
              "#fb9f3a"
             ],
             [
              0.8888888888888888,
              "#fdca26"
             ],
             [
              1,
              "#f0f921"
             ]
            ],
            "type": "histogram2dcontour"
           }
          ],
          "mesh3d": [
           {
            "colorbar": {
             "outlinewidth": 0,
             "ticks": ""
            },
            "type": "mesh3d"
           }
          ],
          "parcoords": [
           {
            "line": {
             "colorbar": {
              "outlinewidth": 0,
              "ticks": ""
             }
            },
            "type": "parcoords"
           }
          ],
          "pie": [
           {
            "automargin": true,
            "type": "pie"
           }
          ],
          "scatter": [
           {
            "fillpattern": {
             "fillmode": "overlay",
             "size": 10,
             "solidity": 0.2
            },
            "type": "scatter"
           }
          ],
          "scatter3d": [
           {
            "line": {
             "colorbar": {
              "outlinewidth": 0,
              "ticks": ""
             }
            },
            "marker": {
             "colorbar": {
              "outlinewidth": 0,
              "ticks": ""
             }
            },
            "type": "scatter3d"
           }
          ],
          "scattercarpet": [
           {
            "marker": {
             "colorbar": {
              "outlinewidth": 0,
              "ticks": ""
             }
            },
            "type": "scattercarpet"
           }
          ],
          "scattergeo": [
           {
            "marker": {
             "colorbar": {
              "outlinewidth": 0,
              "ticks": ""
             }
            },
            "type": "scattergeo"
           }
          ],
          "scattergl": [
           {
            "marker": {
             "colorbar": {
              "outlinewidth": 0,
              "ticks": ""
             }
            },
            "type": "scattergl"
           }
          ],
          "scattermapbox": [
           {
            "marker": {
             "colorbar": {
              "outlinewidth": 0,
              "ticks": ""
             }
            },
            "type": "scattermapbox"
           }
          ],
          "scatterpolar": [
           {
            "marker": {
             "colorbar": {
              "outlinewidth": 0,
              "ticks": ""
             }
            },
            "type": "scatterpolar"
           }
          ],
          "scatterpolargl": [
           {
            "marker": {
             "colorbar": {
              "outlinewidth": 0,
              "ticks": ""
             }
            },
            "type": "scatterpolargl"
           }
          ],
          "scatterternary": [
           {
            "marker": {
             "colorbar": {
              "outlinewidth": 0,
              "ticks": ""
             }
            },
            "type": "scatterternary"
           }
          ],
          "surface": [
           {
            "colorbar": {
             "outlinewidth": 0,
             "ticks": ""
            },
            "colorscale": [
             [
              0,
              "#0d0887"
             ],
             [
              0.1111111111111111,
              "#46039f"
             ],
             [
              0.2222222222222222,
              "#7201a8"
             ],
             [
              0.3333333333333333,
              "#9c179e"
             ],
             [
              0.4444444444444444,
              "#bd3786"
             ],
             [
              0.5555555555555556,
              "#d8576b"
             ],
             [
              0.6666666666666666,
              "#ed7953"
             ],
             [
              0.7777777777777778,
              "#fb9f3a"
             ],
             [
              0.8888888888888888,
              "#fdca26"
             ],
             [
              1,
              "#f0f921"
             ]
            ],
            "type": "surface"
           }
          ],
          "table": [
           {
            "cells": {
             "fill": {
              "color": "#EBF0F8"
             },
             "line": {
              "color": "white"
             }
            },
            "header": {
             "fill": {
              "color": "#C8D4E3"
             },
             "line": {
              "color": "white"
             }
            },
            "type": "table"
           }
          ]
         },
         "layout": {
          "annotationdefaults": {
           "arrowcolor": "#2a3f5f",
           "arrowhead": 0,
           "arrowwidth": 1
          },
          "autotypenumbers": "strict",
          "coloraxis": {
           "colorbar": {
            "outlinewidth": 0,
            "ticks": ""
           }
          },
          "colorscale": {
           "diverging": [
            [
             0,
             "#8e0152"
            ],
            [
             0.1,
             "#c51b7d"
            ],
            [
             0.2,
             "#de77ae"
            ],
            [
             0.3,
             "#f1b6da"
            ],
            [
             0.4,
             "#fde0ef"
            ],
            [
             0.5,
             "#f7f7f7"
            ],
            [
             0.6,
             "#e6f5d0"
            ],
            [
             0.7,
             "#b8e186"
            ],
            [
             0.8,
             "#7fbc41"
            ],
            [
             0.9,
             "#4d9221"
            ],
            [
             1,
             "#276419"
            ]
           ],
           "sequential": [
            [
             0,
             "#0d0887"
            ],
            [
             0.1111111111111111,
             "#46039f"
            ],
            [
             0.2222222222222222,
             "#7201a8"
            ],
            [
             0.3333333333333333,
             "#9c179e"
            ],
            [
             0.4444444444444444,
             "#bd3786"
            ],
            [
             0.5555555555555556,
             "#d8576b"
            ],
            [
             0.6666666666666666,
             "#ed7953"
            ],
            [
             0.7777777777777778,
             "#fb9f3a"
            ],
            [
             0.8888888888888888,
             "#fdca26"
            ],
            [
             1,
             "#f0f921"
            ]
           ],
           "sequentialminus": [
            [
             0,
             "#0d0887"
            ],
            [
             0.1111111111111111,
             "#46039f"
            ],
            [
             0.2222222222222222,
             "#7201a8"
            ],
            [
             0.3333333333333333,
             "#9c179e"
            ],
            [
             0.4444444444444444,
             "#bd3786"
            ],
            [
             0.5555555555555556,
             "#d8576b"
            ],
            [
             0.6666666666666666,
             "#ed7953"
            ],
            [
             0.7777777777777778,
             "#fb9f3a"
            ],
            [
             0.8888888888888888,
             "#fdca26"
            ],
            [
             1,
             "#f0f921"
            ]
           ]
          },
          "colorway": [
           "#636efa",
           "#EF553B",
           "#00cc96",
           "#ab63fa",
           "#FFA15A",
           "#19d3f3",
           "#FF6692",
           "#B6E880",
           "#FF97FF",
           "#FECB52"
          ],
          "font": {
           "color": "#2a3f5f"
          },
          "geo": {
           "bgcolor": "white",
           "lakecolor": "white",
           "landcolor": "#E5ECF6",
           "showlakes": true,
           "showland": true,
           "subunitcolor": "white"
          },
          "hoverlabel": {
           "align": "left"
          },
          "hovermode": "closest",
          "mapbox": {
           "style": "light"
          },
          "paper_bgcolor": "white",
          "plot_bgcolor": "#E5ECF6",
          "polar": {
           "angularaxis": {
            "gridcolor": "white",
            "linecolor": "white",
            "ticks": ""
           },
           "bgcolor": "#E5ECF6",
           "radialaxis": {
            "gridcolor": "white",
            "linecolor": "white",
            "ticks": ""
           }
          },
          "scene": {
           "xaxis": {
            "backgroundcolor": "#E5ECF6",
            "gridcolor": "white",
            "gridwidth": 2,
            "linecolor": "white",
            "showbackground": true,
            "ticks": "",
            "zerolinecolor": "white"
           },
           "yaxis": {
            "backgroundcolor": "#E5ECF6",
            "gridcolor": "white",
            "gridwidth": 2,
            "linecolor": "white",
            "showbackground": true,
            "ticks": "",
            "zerolinecolor": "white"
           },
           "zaxis": {
            "backgroundcolor": "#E5ECF6",
            "gridcolor": "white",
            "gridwidth": 2,
            "linecolor": "white",
            "showbackground": true,
            "ticks": "",
            "zerolinecolor": "white"
           }
          },
          "shapedefaults": {
           "line": {
            "color": "#2a3f5f"
           }
          },
          "ternary": {
           "aaxis": {
            "gridcolor": "white",
            "linecolor": "white",
            "ticks": ""
           },
           "baxis": {
            "gridcolor": "white",
            "linecolor": "white",
            "ticks": ""
           },
           "bgcolor": "#E5ECF6",
           "caxis": {
            "gridcolor": "white",
            "linecolor": "white",
            "ticks": ""
           }
          },
          "title": {
           "x": 0.05
          },
          "xaxis": {
           "automargin": true,
           "gridcolor": "white",
           "linecolor": "white",
           "ticks": "",
           "title": {
            "standoff": 15
           },
           "zerolinecolor": "white",
           "zerolinewidth": 2
          },
          "yaxis": {
           "automargin": true,
           "gridcolor": "white",
           "linecolor": "white",
           "ticks": "",
           "title": {
            "standoff": 15
           },
           "zerolinecolor": "white",
           "zerolinewidth": 2
          }
         }
        },
        "xaxis": {
         "showgrid": false,
         "showticklabels": false,
         "zeroline": false
        },
        "yaxis": {
         "showgrid": false,
         "showticklabels": false,
         "zeroline": false
        }
       }
      }
     },
     "metadata": {},
     "output_type": "display_data"
    }
   ],
   "source": [
    "G2, trip_counts2 = define_graph(home_work, remove_weak_edges=True, threshold=0.27)\n",
    "G2 = update_node_sizes(G2, income, var_of_interest)\n",
    "positions = get_positions(gdf)\n",
    "edge_widths = set_art(G2, 0.1)\n",
    "plotly_graph(G2, positions, edge_widths, var_of_interest, node_size_scale=0.002)"
   ]
  },
  {
   "cell_type": "code",
   "execution_count": 10,
   "metadata": {},
   "outputs": [],
   "source": [
    "id_to_name = district_mapping.set_index('ID')['name_2'].to_dict()\n",
    "G2 = nx.relabel_nodes(G2, id_to_name)"
   ]
  },
  {
   "cell_type": "code",
   "execution_count": 11,
   "metadata": {},
   "outputs": [],
   "source": [
    "# adj_matrix = nx.adjacency_matrix(G, weight='weight').toarray()\n",
    "# np.save('adjacency_matrices/filtered_df.npy', adj_matrix)"
   ]
  },
  {
   "cell_type": "code",
   "execution_count": 20,
   "metadata": {},
   "outputs": [],
   "source": [
    "adj_matrix = get_adj_matrix(G)"
   ]
  },
  {
   "cell_type": "code",
   "execution_count": 21,
   "metadata": {},
   "outputs": [
    {
     "data": {
      "image/png": "[encoded data removed]",
      "text/plain": [
       "<Figure size 1000x800 with 2 Axes>"
      ]
     },
     "metadata": {},
     "output_type": "display_data"
    }
   ],
   "source": [
    "plt.figure(figsize=(10, 8))\n",
    "sns.heatmap(\n",
    "    adj_matrix, \n",
    "    annot=True, \n",
    "    cmap='viridis', \n",
    "    cbar_kws={'label': 'Weights'}, \n",
    "    fmt=\".1f\"\n",
    ")\n",
    "plt.title('March 2022 Trips - Only Home Origin')\n",
    "plt.xlabel('Destination District')\n",
    "plt.ylabel('Home District');"
   ]
  },
  {
   "attachments": {},
   "cell_type": "markdown",
   "metadata": {},
   "source": [
    "## General Statistics"
   ]
  },
  {
   "cell_type": "code",
   "execution_count": 18,
   "metadata": {},
   "outputs": [
    {
     "data": {
      "text/plain": [
       "np.float64(123.61733307181483)"
      ]
     },
     "execution_count": 18,
     "metadata": {},
     "output_type": "execute_result"
    }
   ],
   "source": [
    "G.size(weight=\"weight\")"
   ]
  },
  {
   "cell_type": "code",
   "execution_count": 45,
   "metadata": {},
   "outputs": [],
   "source": [
    "#degree_df = pd.DataFrame(nx.degree(G, weight='weight'),columns=[\"ID\", \"degree\"])\n",
    "#degree_df.sort_values(\"degree\", ascending=False)"
   ]
  },
  {
   "cell_type": "code",
   "execution_count": 19,
   "metadata": {},
   "outputs": [
    {
     "data": {
      "text/plain": [
       "441"
      ]
     },
     "execution_count": 19,
     "metadata": {},
     "output_type": "execute_result"
    }
   ],
   "source": [
    "len(G.edges)"
   ]
  },
  {
   "cell_type": "code",
   "execution_count": 46,
   "metadata": {},
   "outputs": [],
   "source": [
    "#nx.average_clustering(G, weight='weight')"
   ]
  },
  {
   "cell_type": "code",
   "execution_count": 47,
   "metadata": {},
   "outputs": [],
   "source": [
    "#nx.eigenvector_centrality(G, weight='weight')"
   ]
  },
  {
   "cell_type": "code",
   "execution_count": 48,
   "metadata": {},
   "outputs": [],
   "source": [
    "#nx.betweenness_centrality(G, weight='weight')"
   ]
  },
  {
   "cell_type": "code",
   "execution_count": 49,
   "metadata": {},
   "outputs": [],
   "source": [
    "#nx.shortest_path(G, source=2807901, target=2807921, weight='weight')"
   ]
  },
  {
   "cell_type": "code",
   "execution_count": 50,
   "metadata": {},
   "outputs": [],
   "source": [
    "#print_node_degrees(G)"
   ]
  },
  {
   "cell_type": "code",
   "execution_count": 51,
   "metadata": {},
   "outputs": [],
   "source": [
    "# Check total in-weights for each node\n",
    "#in_weights = check_in_weights(G)"
   ]
  },
  {
   "cell_type": "code",
   "execution_count": 52,
   "metadata": {},
   "outputs": [],
   "source": [
    "# Check total out-weights for each node\n",
    "#out_weights = check_out_weights(G)"
   ]
  },
  {
   "cell_type": "code",
   "execution_count": 35,
   "metadata": {},
   "outputs": [],
   "source": [
    "adj_matrix = get_adj_matrix(G)"
   ]
  },
  {
   "cell_type": "code",
   "execution_count": 43,
   "metadata": {},
   "outputs": [],
   "source": [
    "# nx.write_gml(G, \"0322_home_origin_graph.gml\")"
   ]
  },
  {
   "attachments": {},
   "cell_type": "markdown",
   "metadata": {},
   "source": [
    "## Testing Infomap"
   ]
  },
  {
   "cell_type": "code",
   "execution_count": 23,
   "metadata": {},
   "outputs": [],
   "source": [
    "edges_with_weights = [(u, v, data['weight']) for u, v, data in G.edges(data=True)]\n",
    "\n",
    "df_edges = pd.DataFrame(edges_with_weights, columns=['source', 'target', 'weight'])\n",
    "df_edges = df_edges[df_edges['weight'] >= 0.3] # NOTE: Infomap only finds 1 community if I leave edges as they are. Hence, I had to cut edges \n",
    "\n",
    "df_edges.to_csv('infomap_input.txt', sep=' ', header=False, index=False)"
   ]
  },
  {
   "cell_type": "code",
   "execution_count": 52,
   "metadata": {},
   "outputs": [
    {
     "data": {
      "text/html": [
       "<div>\n",
       "<style scoped>\n",
       "    .dataframe tbody tr th:only-of-type {\n",
       "        vertical-align: middle;\n",
       "    }\n",
       "\n",
       "    .dataframe tbody tr th {\n",
       "        vertical-align: top;\n",
       "    }\n",
       "\n",
       "    .dataframe thead th {\n",
       "        text-align: right;\n",
       "    }\n",
       "</style>\n",
       "<table border=\"1\" class=\"dataframe\">\n",
       "  <thead>\n",
       "    <tr style=\"text-align: right;\">\n",
       "      <th></th>\n",
       "      <th>source</th>\n",
       "      <th>target</th>\n",
       "      <th>weight</th>\n",
       "    </tr>\n",
       "  </thead>\n",
       "  <tbody>\n",
       "    <tr>\n",
       "      <th>0</th>\n",
       "      <td>2807901</td>\n",
       "      <td>2807901</td>\n",
       "      <td>0.629914</td>\n",
       "    </tr>\n",
       "    <tr>\n",
       "      <th>1</th>\n",
       "      <td>2807901</td>\n",
       "      <td>2807902</td>\n",
       "      <td>0.548320</td>\n",
       "    </tr>\n",
       "    <tr>\n",
       "      <th>2</th>\n",
       "      <td>2807901</td>\n",
       "      <td>2807903</td>\n",
       "      <td>0.424445</td>\n",
       "    </tr>\n",
       "    <tr>\n",
       "      <th>3</th>\n",
       "      <td>2807901</td>\n",
       "      <td>2807904</td>\n",
       "      <td>0.448233</td>\n",
       "    </tr>\n",
       "    <tr>\n",
       "      <th>6</th>\n",
       "      <td>2807901</td>\n",
       "      <td>2807907</td>\n",
       "      <td>0.680910</td>\n",
       "    </tr>\n",
       "    <tr>\n",
       "      <th>...</th>\n",
       "      <td>...</td>\n",
       "      <td>...</td>\n",
       "      <td>...</td>\n",
       "    </tr>\n",
       "    <tr>\n",
       "      <th>418</th>\n",
       "      <td>2807920</td>\n",
       "      <td>2807920</td>\n",
       "      <td>0.876657</td>\n",
       "    </tr>\n",
       "    <tr>\n",
       "      <th>419</th>\n",
       "      <td>2807920</td>\n",
       "      <td>2807921</td>\n",
       "      <td>0.633192</td>\n",
       "    </tr>\n",
       "    <tr>\n",
       "      <th>435</th>\n",
       "      <td>2807921</td>\n",
       "      <td>2807916</td>\n",
       "      <td>0.566085</td>\n",
       "    </tr>\n",
       "    <tr>\n",
       "      <th>439</th>\n",
       "      <td>2807921</td>\n",
       "      <td>2807920</td>\n",
       "      <td>0.526633</td>\n",
       "    </tr>\n",
       "    <tr>\n",
       "      <th>440</th>\n",
       "      <td>2807921</td>\n",
       "      <td>2807921</td>\n",
       "      <td>0.763961</td>\n",
       "    </tr>\n",
       "  </tbody>\n",
       "</table>\n",
       "<p>143 rows × 3 columns</p>\n",
       "</div>"
      ],
      "text/plain": [
       "      source   target    weight\n",
       "0    2807901  2807901  0.629914\n",
       "1    2807901  2807902  0.548320\n",
       "2    2807901  2807903  0.424445\n",
       "3    2807901  2807904  0.448233\n",
       "6    2807901  2807907  0.680910\n",
       "..       ...      ...       ...\n",
       "418  2807920  2807920  0.876657\n",
       "419  2807920  2807921  0.633192\n",
       "435  2807921  2807916  0.566085\n",
       "439  2807921  2807920  0.526633\n",
       "440  2807921  2807921  0.763961\n",
       "\n",
       "[143 rows x 3 columns]"
      ]
     },
     "execution_count": 52,
     "metadata": {},
     "output_type": "execute_result"
    }
   ],
   "source": [
    "df_edges"
   ]
  },
  {
   "attachments": {},
   "cell_type": "markdown",
   "metadata": {},
   "source": [
    "## Community Analysis"
   ]
  },
  {
   "cell_type": "code",
   "execution_count": 19,
   "metadata": {},
   "outputs": [],
   "source": [
    "communities = nx.community.louvain_communities(G, weight='weight', seed=1234)"
   ]
  },
  {
   "cell_type": "code",
   "execution_count": 20,
   "metadata": {},
   "outputs": [
    {
     "data": {
      "text/plain": [
       "4"
      ]
     },
     "execution_count": 20,
     "metadata": {},
     "output_type": "execute_result"
    }
   ],
   "source": [
    "len(communities)"
   ]
  },
  {
   "cell_type": "code",
   "execution_count": 21,
   "metadata": {},
   "outputs": [
    {
     "name": "stdout",
     "output_type": "stream",
     "text": [
      "Community {np.float64(2807904.0), np.float64(2807905.0), np.float64(2807906.0), np.float64(2807907.0), np.float64(2807908.0), np.float64(2807909.0), np.float64(2807901.0)} - Average In-degree: 4.04637810322813 - Average Out-degree: 4.085801449713595\n",
      "Community {np.float64(2807910.0), np.float64(2807911.0), np.float64(2807912.0), np.float64(2807917.0), np.float64(2807902.0)} - Average In-degree: 2.8010069155819113 - Average Out-degree: 2.7543263092044943\n",
      "Community {np.float64(2807913.0), np.float64(2807914.0), np.float64(2807903.0), np.float64(2807918.0), np.float64(2807919.0)} - Average In-degree: 2.6553743583591127 - Average Out-degree: 2.641770286135415\n",
      "Community {np.float64(2807920.0), np.float64(2807921.0), np.float64(2807915.0), np.float64(2807916.0)} - Average In-degree: 3.1932774459479143 - Average Out-degree: 3.1996424378497426\n"
     ]
    },
    {
     "data": {
      "text/plain": [
       "([np.float64(4.04637810322813),\n",
       "  np.float64(2.8010069155819113),\n",
       "  np.float64(2.6553743583591127),\n",
       "  np.float64(3.1932774459479143)],\n",
       " [np.float64(4.085801449713595),\n",
       "  np.float64(2.7543263092044943),\n",
       "  np.float64(2.641770286135415),\n",
       "  np.float64(3.1996424378497426)])"
      ]
     },
     "execution_count": 21,
     "metadata": {},
     "output_type": "execute_result"
    }
   ],
   "source": [
    "def average_degree_per_community(G, communities):\n",
    "    community_avg_in_degrees = []\n",
    "    community_avg_out_degrees = []\n",
    "    \n",
    "    for community in communities:\n",
    "        in_degrees = [G.in_degree(node,  weight='weight') for node in community]  # Get in-degree for each node\n",
    "        out_degrees = [G.out_degree(node,  weight='weight') for node in community] \n",
    "        avg_in_degree = sum(in_degrees) / len(community)        # Compute average in-degree\n",
    "        avg_out_degree = sum(out_degrees) / len(community)\n",
    "        community_avg_in_degrees.append(avg_in_degree)\n",
    "        community_avg_out_degrees.append(avg_out_degree)\n",
    "        print(f\"Community {community} - Average In-degree: {avg_in_degree} - Average Out-degree: {avg_out_degree}\")\n",
    "    \n",
    "    return community_avg_in_degrees, community_avg_out_degrees\n",
    "\n",
    "# Calculate and display average in-degree for each community\n",
    "average_degree_per_community(G, communities)"
   ]
  },
  {
   "cell_type": "code",
   "execution_count": null,
   "metadata": {},
   "outputs": [],
   "source": []
  }
 ],
 "metadata": {
  "kernelspec": {
   "display_name": ".thesis_env",
   "language": "python",
   "name": "python3"
  },
  "language_info": {
   "codemirror_mode": {
    "name": "ipython",
    "version": 3
   },
   "file_extension": ".py",
   "mimetype": "text/x-python",
   "name": "python",
   "nbconvert_exporter": "python",
   "pygments_lexer": "ipython3",
   "version": "3.11.4"
  },
  "orig_nbformat": 4,
  "vscode": {
   "interpreter": {
    "hash": "dc5a137c8466a4ffb6ded1bc1d0edcb068d49351ebe910c5391764b8894bd5ea"
   }
  }
 },
 "nbformat": 4,
 "nbformat_minor": 2
}
