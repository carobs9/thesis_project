{
 "cells": [
  {
   "cell_type": "code",
   "execution_count": null,
   "metadata": {},
   "outputs": [],
   "source": [
    "# TODO: Read: chrome-extension://efaidnbmnnnibpcajpcglclefindmkaj/https://arxiv.org/pdf/2309.11798v4\n",
    "# and https://www.nature.com/articles/s41598-024-58624-4 and https://www.nature.com/articles/s41598-024-58624-4\n",
    "# chrome-extension://efaidnbmnnnibpcajpcglclefindmkaj/https://www.aimspress.com/aimspress-data/math/2024/2/PDF/math-09-02-178.pdf\n",
    "# https://ieeexplore.ieee.org/abstract/document/7289461?casa_token=fHhNEidoqJMAAAAA:LM6FsCabVYqQ36U10oWBJSYUmAL4X1_yraUZv51GF3vsfDsp15CrrOFpI-o7PRtfX_JPd9Gog3AGcHQ"
   ]
  },
  {
   "cell_type": "code",
   "execution_count": 1,
   "metadata": {},
   "outputs": [],
   "source": [
    "import config as cfg\n",
    "from utils import *\n",
    "import seaborn as sns\n",
    "import numpy as np"
   ]
  },
  {
   "cell_type": "code",
   "execution_count": 2,
   "metadata": {},
   "outputs": [],
   "source": [
    "# Load data\n",
    "all_viajes = pd.read_csv('/Users/caro/Desktop/thesis_project/mobility_data/VIAJES/viajes_week_0322.csv',thousands='.',decimal=',')\n",
    "filtered_df = all_viajes.loc[(all_viajes['actividad_origen'] == 'casa')] # filtering only home origin trips\n",
    "income = gpd.read_file('/Users/caro/Desktop/thesis_project/segregation_indices/data/processed/geometries_and_income.geojson')\n",
    "\n",
    "gdf = gpd.read_file(cfg.ZONIFICACION_DATA / 'distritos/madrid_gdf.geojson')  # for positions when plotting\n",
    "gdf = gdf.to_crs(epsg=4326)"
   ]
  },
  {
   "cell_type": "code",
   "execution_count": 3,
   "metadata": {},
   "outputs": [],
   "source": [
    "# district_counts = filtered_df['origen'].value_counts().reset_index() # OLD\n",
    "# Group by 'origen' and sum 'viajes'\n",
    "district_counts = filtered_df.groupby('origen')['viajes'].sum().reset_index(name='total_viajes') # FIXED\n",
    "district_counts.columns = ['ID', 'Population']"
   ]
  },
  {
   "cell_type": "code",
   "execution_count": 4,
   "metadata": {},
   "outputs": [
    {
     "data": {
      "text/html": [
       "<div>\n",
       "<style scoped>\n",
       "    .dataframe tbody tr th:only-of-type {\n",
       "        vertical-align: middle;\n",
       "    }\n",
       "\n",
       "    .dataframe tbody tr th {\n",
       "        vertical-align: top;\n",
       "    }\n",
       "\n",
       "    .dataframe thead th {\n",
       "        text-align: right;\n",
       "    }\n",
       "</style>\n",
       "<table border=\"1\" class=\"dataframe\">\n",
       "  <thead>\n",
       "    <tr style=\"text-align: right;\">\n",
       "      <th></th>\n",
       "      <th>ID</th>\n",
       "      <th>Population</th>\n",
       "    </tr>\n",
       "  </thead>\n",
       "  <tbody>\n",
       "    <tr>\n",
       "      <th>0</th>\n",
       "      <td>2807901</td>\n",
       "      <td>764775313</td>\n",
       "    </tr>\n",
       "    <tr>\n",
       "      <th>1</th>\n",
       "      <td>2807902</td>\n",
       "      <td>960210680</td>\n",
       "    </tr>\n",
       "    <tr>\n",
       "      <th>2</th>\n",
       "      <td>2807903</td>\n",
       "      <td>709725701</td>\n",
       "    </tr>\n",
       "    <tr>\n",
       "      <th>3</th>\n",
       "      <td>2807904</td>\n",
       "      <td>787489631</td>\n",
       "    </tr>\n",
       "    <tr>\n",
       "      <th>4</th>\n",
       "      <td>2807905</td>\n",
       "      <td>854229543</td>\n",
       "    </tr>\n",
       "    <tr>\n",
       "      <th>5</th>\n",
       "      <td>2807906</td>\n",
       "      <td>898442994</td>\n",
       "    </tr>\n",
       "    <tr>\n",
       "      <th>6</th>\n",
       "      <td>2807907</td>\n",
       "      <td>702770436</td>\n",
       "    </tr>\n",
       "    <tr>\n",
       "      <th>7</th>\n",
       "      <td>2807908</td>\n",
       "      <td>1524371226</td>\n",
       "    </tr>\n",
       "    <tr>\n",
       "      <th>8</th>\n",
       "      <td>2807909</td>\n",
       "      <td>685361198</td>\n",
       "    </tr>\n",
       "    <tr>\n",
       "      <th>9</th>\n",
       "      <td>2807910</td>\n",
       "      <td>1302889818</td>\n",
       "    </tr>\n",
       "    <tr>\n",
       "      <th>10</th>\n",
       "      <td>2807911</td>\n",
       "      <td>1528115361</td>\n",
       "    </tr>\n",
       "    <tr>\n",
       "      <th>11</th>\n",
       "      <td>2807912</td>\n",
       "      <td>867390587</td>\n",
       "    </tr>\n",
       "    <tr>\n",
       "      <th>12</th>\n",
       "      <td>2807913</td>\n",
       "      <td>1552163110</td>\n",
       "    </tr>\n",
       "    <tr>\n",
       "      <th>13</th>\n",
       "      <td>2807914</td>\n",
       "      <td>564347557</td>\n",
       "    </tr>\n",
       "    <tr>\n",
       "      <th>14</th>\n",
       "      <td>2807915</td>\n",
       "      <td>1242287482</td>\n",
       "    </tr>\n",
       "    <tr>\n",
       "      <th>15</th>\n",
       "      <td>2807916</td>\n",
       "      <td>1237261733</td>\n",
       "    </tr>\n",
       "    <tr>\n",
       "      <th>16</th>\n",
       "      <td>2807917</td>\n",
       "      <td>832643050</td>\n",
       "    </tr>\n",
       "    <tr>\n",
       "      <th>17</th>\n",
       "      <td>2807918</td>\n",
       "      <td>797161209</td>\n",
       "    </tr>\n",
       "    <tr>\n",
       "      <th>18</th>\n",
       "      <td>2807919</td>\n",
       "      <td>426165039</td>\n",
       "    </tr>\n",
       "    <tr>\n",
       "      <th>19</th>\n",
       "      <td>2807920</td>\n",
       "      <td>1031439212</td>\n",
       "    </tr>\n",
       "    <tr>\n",
       "      <th>20</th>\n",
       "      <td>2807921</td>\n",
       "      <td>318859545</td>\n",
       "    </tr>\n",
       "  </tbody>\n",
       "</table>\n",
       "</div>"
      ],
      "text/plain": [
       "         ID  Population\n",
       "0   2807901   764775313\n",
       "1   2807902   960210680\n",
       "2   2807903   709725701\n",
       "3   2807904   787489631\n",
       "4   2807905   854229543\n",
       "5   2807906   898442994\n",
       "6   2807907   702770436\n",
       "7   2807908  1524371226\n",
       "8   2807909   685361198\n",
       "9   2807910  1302889818\n",
       "10  2807911  1528115361\n",
       "11  2807912   867390587\n",
       "12  2807913  1552163110\n",
       "13  2807914   564347557\n",
       "14  2807915  1242287482\n",
       "15  2807916  1237261733\n",
       "16  2807917   832643050\n",
       "17  2807918   797161209\n",
       "18  2807919   426165039\n",
       "19  2807920  1031439212\n",
       "20  2807921   318859545"
      ]
     },
     "execution_count": 4,
     "metadata": {},
     "output_type": "execute_result"
    }
   ],
   "source": [
    "district_counts"
   ]
  },
  {
   "cell_type": "code",
   "execution_count": 5,
   "metadata": {},
   "outputs": [],
   "source": [
    "income['Gini Index Scaled'] = income['Gini Index'] ** 2.5\n",
    "var_of_interest = 'Gini Index Scaled' # or 'Gini Index Scaled' or Median income per consumption unit"
   ]
  },
  {
   "cell_type": "code",
   "execution_count": 6,
   "metadata": {},
   "outputs": [],
   "source": [
    "trip_counts = pd.read_csv('/Users/caro/Desktop/thesis_project/trip_analysis/outputs/081224_FINAL_normalized_trip_count.csv')"
   ]
  },
  {
   "cell_type": "code",
   "execution_count": 7,
   "metadata": {},
   "outputs": [
    {
     "data": {
      "text/html": [
       "<div>\n",
       "<style scoped>\n",
       "    .dataframe tbody tr th:only-of-type {\n",
       "        vertical-align: middle;\n",
       "    }\n",
       "\n",
       "    .dataframe tbody tr th {\n",
       "        vertical-align: top;\n",
       "    }\n",
       "\n",
       "    .dataframe thead th {\n",
       "        text-align: right;\n",
       "    }\n",
       "</style>\n",
       "<table border=\"1\" class=\"dataframe\">\n",
       "  <thead>\n",
       "    <tr style=\"text-align: right;\">\n",
       "      <th></th>\n",
       "      <th>origen</th>\n",
       "      <th>destino</th>\n",
       "      <th>trip_count</th>\n",
       "      <th>origin</th>\n",
       "      <th>destination</th>\n",
       "      <th>normalized_trip_count</th>\n",
       "    </tr>\n",
       "  </thead>\n",
       "  <tbody>\n",
       "    <tr>\n",
       "      <th>0</th>\n",
       "      <td>2807901</td>\n",
       "      <td>2807901</td>\n",
       "      <td>313587212</td>\n",
       "      <td>Centro</td>\n",
       "      <td>Centro</td>\n",
       "      <td>0.410038</td>\n",
       "    </tr>\n",
       "    <tr>\n",
       "      <th>1</th>\n",
       "      <td>2807901</td>\n",
       "      <td>2807902</td>\n",
       "      <td>67813563</td>\n",
       "      <td>Centro</td>\n",
       "      <td>Arganzuela</td>\n",
       "      <td>0.088671</td>\n",
       "    </tr>\n",
       "    <tr>\n",
       "      <th>2</th>\n",
       "      <td>2807901</td>\n",
       "      <td>2807903</td>\n",
       "      <td>30102878</td>\n",
       "      <td>Centro</td>\n",
       "      <td>Retiro</td>\n",
       "      <td>0.039362</td>\n",
       "    </tr>\n",
       "    <tr>\n",
       "      <th>3</th>\n",
       "      <td>2807901</td>\n",
       "      <td>2807904</td>\n",
       "      <td>37364188</td>\n",
       "      <td>Centro</td>\n",
       "      <td>Salamanca</td>\n",
       "      <td>0.048856</td>\n",
       "    </tr>\n",
       "    <tr>\n",
       "      <th>4</th>\n",
       "      <td>2807901</td>\n",
       "      <td>2807905</td>\n",
       "      <td>21694487</td>\n",
       "      <td>Centro</td>\n",
       "      <td>Chamartín</td>\n",
       "      <td>0.028367</td>\n",
       "    </tr>\n",
       "  </tbody>\n",
       "</table>\n",
       "</div>"
      ],
      "text/plain": [
       "    origen  destino  trip_count  origin destination  normalized_trip_count\n",
       "0  2807901  2807901   313587212  Centro      Centro               0.410038\n",
       "1  2807901  2807902    67813563  Centro  Arganzuela               0.088671\n",
       "2  2807901  2807903    30102878  Centro      Retiro               0.039362\n",
       "3  2807901  2807904    37364188  Centro   Salamanca               0.048856\n",
       "4  2807901  2807905    21694487  Centro   Chamartín               0.028367"
      ]
     },
     "execution_count": 7,
     "metadata": {},
     "output_type": "execute_result"
    }
   ],
   "source": [
    "trip_counts.head()"
   ]
  },
  {
   "cell_type": "code",
   "execution_count": 8,
   "metadata": {},
   "outputs": [
    {
     "data": {
      "application/vnd.plotly.v1+json": {
       "config": {
        "plotlyServerURL": "https://plot.ly"
       },
       "data": [
        {
         "hoverinfo": "text",
         "line": {
          "color": "rgba(253.01960784313727, 174.98039215686273, 97.92156862745098, 1.0)",
          "width": 6.958774272130291
         },
         "mode": "lines",
         "showlegend": false,
         "text": "Width: 6.96",
         "type": "scatter",
         "x": [
          -3.705268804063821,
          -3.705268804063821,
          null
         ],
         "y": [
          40.41733007020507,
          40.41733007020507,
          null
         ]
        },
        {
         "hoverinfo": "text",
         "line": {
          "color": "rgba(90.19607843137256, 142.2549019607843, 193.07843137254903, 1.0)",
          "width": 1.4718342898399566
         },
         "mode": "lines",
         "showlegend": false,
         "text": "Width: 1.47",
         "type": "scatter",
         "x": [
          -3.705268804063821,
          -3.6966151949203576,
          null
         ],
         "y": [
          40.41733007020507,
          40.398119933450886,
          null
         ]
        },
        {
         "hoverinfo": "text",
         "line": {
          "color": "rgba(61.54901960784314, 93.5294117647059, 168.45098039215688, 1.0)",
          "width": 0.6299366082619915
         },
         "mode": "lines",
         "showlegend": false,
         "text": "Width: 0.63",
         "type": "scatter",
         "x": [
          -3.705268804063821,
          -3.67643837848883,
          null
         ],
         "y": [
          40.41733007020507,
          40.41138084576659,
          null
         ]
        },
        {
         "hoverinfo": "text",
         "line": {
          "color": "rgba(64.68627450980392, 103.41176470588235, 173.3137254901961, 1.0)",
          "width": 0.7920466323630881
         },
         "mode": "lines",
         "showlegend": false,
         "text": "Width: 0.79",
         "type": "scatter",
         "x": [
          -3.705268804063821,
          -3.6737887354917422,
          null
         ],
         "y": [
          40.41733007020507,
          40.43018370922185,
          null
         ]
        },
        {
         "hoverinfo": "text",
         "line": {
          "color": "rgba(57.62745098039216, 81.17647058823529, 162.37254901960785, 1.0)",
          "width": 0.5
         },
         "mode": "lines",
         "showlegend": false,
         "text": "Width: 0.50",
         "type": "scatter",
         "x": [
          -3.705268804063821,
          -3.678150006537061,
          null
         ],
         "y": [
          40.41733007020507,
          40.45750039357669,
          null
         ]
        },
        {
         "hoverinfo": "text",
         "line": {
          "color": "rgba(54.490196078431374, 71.29411764705883, 157.50980392156865, 1.0)",
          "width": 0.5
         },
         "mode": "lines",
         "showlegend": false,
         "text": "Width: 0.50",
         "type": "scatter",
         "x": [
          -3.705268804063821,
          -3.6999935507976827,
          null
         ],
         "y": [
          40.41733007020507,
          40.4606484776773,
          null
         ]
        },
        {
         "hoverinfo": "text",
         "line": {
          "color": "rgba(126.78431372549022, 181.62745098039218, 213.7058823529412, 1.0)",
          "width": 2.200503523057289
         },
         "mode": "lines",
         "showlegend": false,
         "text": "Width: 2.20",
         "type": "scatter",
         "x": [
          -3.705268804063821,
          -3.703523951395161,
          null
         ],
         "y": [
          40.41733007020507,
          40.4375595509298,
          null
         ]
        },
        {
         "hoverinfo": "text",
         "line": {
          "color": "rgba(55.274509803921575, 73.76470588235294, 158.72549019607845, 1.0)",
          "width": 0.5
         },
         "mode": "lines",
         "showlegend": false,
         "text": "Width: 0.50",
         "type": "scatter",
         "x": [
          -3.705268804063821,
          -3.753579560856663,
          null
         ],
         "y": [
          40.41733007020507,
          40.54479435831404,
          null
         ]
        },
        {
         "hoverinfo": "text",
         "line": {
          "color": "rgba(73.60784313725492, 122.49019607843138, 182.84313725490196, 1.0)",
          "width": 1.0951867135349782
         },
         "mode": "lines",
         "showlegend": false,
         "text": "Width: 1.10",
         "type": "scatter",
         "x": [
          -3.705268804063821,
          -3.757223268157654,
          null
         ],
         "y": [
          40.41733007020507,
          40.44543508494524,
          null
         ]
        },
        {
         "hoverinfo": "text",
         "line": {
          "color": "rgba(58.411764705882355, 83.64705882352942, 163.58823529411765, 1.0)",
          "width": 0.5
         },
         "mode": "lines",
         "showlegend": false,
         "text": "Width: 0.50",
         "type": "scatter",
         "x": [
          -3.705268804063821,
          -3.778616540618283,
          null
         ],
         "y": [
          40.41733007020507,
          40.385273701511004,
          null
         ]
        },
        {
         "hoverinfo": "text",
         "line": {
          "color": "rgba(56.84313725490196, 78.70588235294117, 161.15686274509807, 1.0)",
          "width": 0.5
         },
         "mode": "lines",
         "showlegend": false,
         "text": "Width: 0.50",
         "type": "scatter",
         "x": [
          -3.705268804063821,
          -3.737112400757822,
          null
         ],
         "y": [
          40.41733007020507,
          40.378840354576816,
          null
         ]
        },
        {
         "hoverinfo": "text",
         "line": {
          "color": "rgba(52.92156862745099, 66.35294117647058, 155.07843137254903, 1.0)",
          "width": 0.5
         },
         "mode": "lines",
         "showlegend": false,
         "text": "Width: 0.50",
         "type": "scatter",
         "x": [
          -3.705268804063821,
          -3.7029808755455926,
          null
         ],
         "y": [
          40.41733007020507,
          40.37595000318738,
          null
         ]
        },
        {
         "hoverinfo": "text",
         "line": {
          "color": "rgba(51.35294117647059, 61.411764705882355, 152.64705882352942, 1.0)",
          "width": 0.5
         },
         "mode": "lines",
         "showlegend": false,
         "text": "Width: 0.50",
         "type": "scatter",
         "x": [
          -3.705268804063821,
          -3.6598634715735407,
          null
         ],
         "y": [
          40.41733007020507,
          40.38355078734683,
          null
         ]
        },
        {
         "hoverinfo": "text",
         "line": {
          "color": "rgba(49.0, 54.0, 149.0, 1.0)",
          "width": 0.5
         },
         "mode": "lines",
         "showlegend": false,
         "text": "Width: 0.50",
         "type": "scatter",
         "x": [
          -3.705268804063821,
          -3.6413909394895803,
          null
         ],
         "y": [
          40.41733007020507,
          40.40661270611631,
          null
         ]
        },
        {
         "hoverinfo": "text",
         "line": {
          "color": "rgba(52.13725490196079, 63.88235294117647, 153.86274509803923, 1.0)",
          "width": 0.5
         },
         "mode": "lines",
         "showlegend": false,
         "text": "Width: 0.50",
         "type": "scatter",
         "x": [
          -3.705268804063821,
          -3.649948514601449,
          null
         ],
         "y": [
          40.41733007020507,
          40.43926990707227,
          null
         ]
        },
        {
         "hoverinfo": "text",
         "line": {
          "color": "rgba(52.13725490196079, 63.88235294117647, 153.86274509803923, 1.0)",
          "width": 0.5
         },
         "mode": "lines",
         "showlegend": false,
         "text": "Width: 0.50",
         "type": "scatter",
         "x": [
          -3.705268804063821,
          -3.637741035389707,
          null
         ],
         "y": [
          40.41733007020507,
          40.48201214532898,
          null
         ]
        },
        {
         "hoverinfo": "text",
         "line": {
          "color": "rgba(49.7843137254902, 56.470588235294116, 150.21568627450984, 1.0)",
          "width": 0.5
         },
         "mode": "lines",
         "showlegend": false,
         "text": "Width: 0.50",
         "type": "scatter",
         "x": [
          -3.705268804063821,
          -3.695056256825152,
          null
         ],
         "y": [
          40.41733007020507,
          40.34253624126977,
          null
         ]
        },
        {
         "hoverinfo": "text",
         "line": {
          "color": "rgba(49.7843137254902, 56.470588235294116, 150.21568627450984, 1.0)",
          "width": 0.5
         },
         "mode": "lines",
         "showlegend": false,
         "text": "Width: 0.50",
         "type": "scatter",
         "x": [
          -3.705268804063821,
          -3.6160073912284756,
          null
         ],
         "y": [
          40.41733007020507,
          40.34992967757026,
          null
         ]
        },
        {
         "hoverinfo": "text",
         "line": {
          "color": "rgba(49.0, 54.0, 149.0, 1.0)",
          "width": 0.5
         },
         "mode": "lines",
         "showlegend": false,
         "text": "Width: 0.50",
         "type": "scatter",
         "x": [
          -3.705268804063821,
          -3.572894771748725,
          null
         ],
         "y": [
          40.41733007020507,
          40.39356859265691,
          null
         ]
        },
        {
         "hoverinfo": "text",
         "line": {
          "color": "rgba(51.35294117647059, 61.411764705882355, 152.64705882352942, 1.0)",
          "width": 0.5
         },
         "mode": "lines",
         "showlegend": false,
         "text": "Width: 0.50",
         "type": "scatter",
         "x": [
          -3.705268804063821,
          -3.5986526886701378,
          null
         ],
         "y": [
          40.41733007020507,
          40.43466852782298,
          null
         ]
        },
        {
         "hoverinfo": "text",
         "line": {
          "color": "rgba(50.568627450980394, 58.94117647058823, 151.4313725490196, 1.0)",
          "width": 0.5
         },
         "mode": "lines",
         "showlegend": false,
         "text": "Width: 0.50",
         "type": "scatter",
         "x": [
          -3.705268804063821,
          -3.574543479322823,
          null
         ],
         "y": [
          40.41733007020507,
          40.4757410696608,
          null
         ]
        },
        {
         "hoverinfo": "text",
         "line": {
          "color": "rgba(141.8823529411765, 193.70588235294122, 220.2941176470588, 1.0)",
          "width": 2.493697938312521
         },
         "mode": "lines",
         "showlegend": false,
         "text": "Width: 2.49",
         "type": "scatter",
         "x": [
          -3.6966151949203576,
          -3.705268804063821,
          null
         ],
         "y": [
          40.398119933450886,
          40.41733007020507,
          null
         ]
        },
        {
         "hoverinfo": "text",
         "line": {
          "color": "rgba(254.50980392156862, 239.80392156862743, 167.9607843137255, 1.0)",
          "width": 5.474699179493066
         },
         "mode": "lines",
         "showlegend": false,
         "text": "Width: 5.47",
         "type": "scatter",
         "x": [
          -3.6966151949203576,
          -3.6966151949203576,
          null
         ],
         "y": [
          40.398119933450886,
          40.398119933450886,
          null
         ]
        },
        {
         "hoverinfo": "text",
         "line": {
          "color": "rgba(67.8235294117647, 113.29411764705883, 178.1764705882353, 1.0)",
          "width": 0.9493611954925425
         },
         "mode": "lines",
         "showlegend": false,
         "text": "Width: 0.95",
         "type": "scatter",
         "x": [
          -3.6966151949203576,
          -3.67643837848883,
          null
         ],
         "y": [
          40.398119933450886,
          40.41138084576659,
          null
         ]
        },
        {
         "hoverinfo": "text",
         "line": {
          "color": "rgba(59.98039215686274, 88.58823529411765, 166.01960784313727, 1.0)",
          "width": 0.5680015760847837
         },
         "mode": "lines",
         "showlegend": false,
         "text": "Width: 0.57",
         "type": "scatter",
         "x": [
          -3.6966151949203576,
          -3.6737887354917422,
          null
         ],
         "y": [
          40.398119933450886,
          40.43018370922185,
          null
         ]
        },
        {
         "hoverinfo": "text",
         "line": {
          "color": "rgba(56.05882352941177, 76.23529411764707, 159.94117647058823, 1.0)",
          "width": 0.5
         },
         "mode": "lines",
         "showlegend": false,
         "text": "Width: 0.50",
         "type": "scatter",
         "x": [
          -3.6966151949203576,
          -3.678150006537061,
          null
         ],
         "y": [
          40.398119933450886,
          40.45750039357669,
          null
         ]
        },
        {
         "hoverinfo": "text",
         "line": {
          "color": "rgba(52.92156862745099, 66.35294117647058, 155.07843137254903, 1.0)",
          "width": 0.5
         },
         "mode": "lines",
         "showlegend": false,
         "text": "Width: 0.50",
         "type": "scatter",
         "x": [
          -3.6966151949203576,
          -3.6999935507976827,
          null
         ],
         "y": [
          40.398119933450886,
          40.4606484776773,
          null
         ]
        },
        {
         "hoverinfo": "text",
         "line": {
          "color": "rgba(62.333333333333336, 96.0, 169.66666666666669, 1.0)",
          "width": 0.6675483773378218
         },
         "mode": "lines",
         "showlegend": false,
         "text": "Width: 0.67",
         "type": "scatter",
         "x": [
          -3.6966151949203576,
          -3.703523951395161,
          null
         ],
         "y": [
          40.398119933450886,
          40.4375595509298,
          null
         ]
        },
        {
         "hoverinfo": "text",
         "line": {
          "color": "rgba(54.490196078431374, 71.29411764705883, 157.50980392156865, 1.0)",
          "width": 0.5
         },
         "mode": "lines",
         "showlegend": false,
         "text": "Width: 0.50",
         "type": "scatter",
         "x": [
          -3.6966151949203576,
          -3.753579560856663,
          null
         ],
         "y": [
          40.398119933450886,
          40.54479435831404,
          null
         ]
        },
        {
         "hoverinfo": "text",
         "line": {
          "color": "rgba(59.98039215686274, 88.58823529411765, 166.01960784313727, 1.0)",
          "width": 0.5576063388873
         },
         "mode": "lines",
         "showlegend": false,
         "text": "Width: 0.56",
         "type": "scatter",
         "x": [
          -3.6966151949203576,
          -3.757223268157654,
          null
         ],
         "y": [
          40.398119933450886,
          40.44543508494524,
          null
         ]
        },
        {
         "hoverinfo": "text",
         "line": {
          "color": "rgba(58.411764705882355, 83.64705882352942, 163.58823529411765, 1.0)",
          "width": 0.5
         },
         "mode": "lines",
         "showlegend": false,
         "text": "Width: 0.50",
         "type": "scatter",
         "x": [
          -3.6966151949203576,
          -3.778616540618283,
          null
         ],
         "y": [
          40.398119933450886,
          40.385273701511004,
          null
         ]
        },
        {
         "hoverinfo": "text",
         "line": {
          "color": "rgba(88.35294117647061, 140.0588235294118, 191.94117647058823, 1.0)",
          "width": 1.4385854702360683
         },
         "mode": "lines",
         "showlegend": false,
         "text": "Width: 1.44",
         "type": "scatter",
         "x": [
          -3.6966151949203576,
          -3.737112400757822,
          null
         ],
         "y": [
          40.398119933450886,
          40.378840354576816,
          null
         ]
        },
        {
         "hoverinfo": "text",
         "line": {
          "color": "rgba(90.19607843137256, 142.2549019607843, 193.07843137254903, 1.0)",
          "width": 1.4509358089110542
         },
         "mode": "lines",
         "showlegend": false,
         "text": "Width: 1.45",
         "type": "scatter",
         "x": [
          -3.6966151949203576,
          -3.7029808755455926,
          null
         ],
         "y": [
          40.398119933450886,
          40.37595000318738,
          null
         ]
        },
        {
         "hoverinfo": "text",
         "line": {
          "color": "rgba(56.05882352941177, 76.23529411764707, 159.94117647058823, 1.0)",
          "width": 0.5
         },
         "mode": "lines",
         "showlegend": false,
         "text": "Width: 0.50",
         "type": "scatter",
         "x": [
          -3.6966151949203576,
          -3.6598634715735407,
          null
         ],
         "y": [
          40.398119933450886,
          40.38355078734683,
          null
         ]
        },
        {
         "hoverinfo": "text",
         "line": {
          "color": "rgba(49.7843137254902, 56.470588235294116, 150.21568627450984, 1.0)",
          "width": 0.5
         },
         "mode": "lines",
         "showlegend": false,
         "text": "Width: 0.50",
         "type": "scatter",
         "x": [
          -3.6966151949203576,
          -3.6413909394895803,
          null
         ],
         "y": [
          40.398119933450886,
          40.40661270611631,
          null
         ]
        },
        {
         "hoverinfo": "text",
         "line": {
          "color": "rgba(52.13725490196079, 63.88235294117647, 153.86274509803923, 1.0)",
          "width": 0.5
         },
         "mode": "lines",
         "showlegend": false,
         "text": "Width: 0.50",
         "type": "scatter",
         "x": [
          -3.6966151949203576,
          -3.649948514601449,
          null
         ],
         "y": [
          40.398119933450886,
          40.43926990707227,
          null
         ]
        },
        {
         "hoverinfo": "text",
         "line": {
          "color": "rgba(52.13725490196079, 63.88235294117647, 153.86274509803923, 1.0)",
          "width": 0.5
         },
         "mode": "lines",
         "showlegend": false,
         "text": "Width: 0.50",
         "type": "scatter",
         "x": [
          -3.6966151949203576,
          -3.637741035389707,
          null
         ],
         "y": [
          40.398119933450886,
          40.48201214532898,
          null
         ]
        },
        {
         "hoverinfo": "text",
         "line": {
          "color": "rgba(52.13725490196079, 63.88235294117647, 153.86274509803923, 1.0)",
          "width": 0.5
         },
         "mode": "lines",
         "showlegend": false,
         "text": "Width: 0.50",
         "type": "scatter",
         "x": [
          -3.6966151949203576,
          -3.695056256825152,
          null
         ],
         "y": [
          40.398119933450886,
          40.34253624126977,
          null
         ]
        },
        {
         "hoverinfo": "text",
         "line": {
          "color": "rgba(50.568627450980394, 58.94117647058823, 151.4313725490196, 1.0)",
          "width": 0.5
         },
         "mode": "lines",
         "showlegend": false,
         "text": "Width: 0.50",
         "type": "scatter",
         "x": [
          -3.6966151949203576,
          -3.6160073912284756,
          null
         ],
         "y": [
          40.398119933450886,
          40.34992967757026,
          null
         ]
        },
        {
         "hoverinfo": "text",
         "line": {
          "color": "rgba(49.0, 54.0, 149.0, 1.0)",
          "width": 0.5
         },
         "mode": "lines",
         "showlegend": false,
         "text": "Width: 0.50",
         "type": "scatter",
         "x": [
          -3.6966151949203576,
          -3.572894771748725,
          null
         ],
         "y": [
          40.398119933450886,
          40.39356859265691,
          null
         ]
        },
        {
         "hoverinfo": "text",
         "line": {
          "color": "rgba(51.35294117647059, 61.411764705882355, 152.64705882352942, 1.0)",
          "width": 0.5
         },
         "mode": "lines",
         "showlegend": false,
         "text": "Width: 0.50",
         "type": "scatter",
         "x": [
          -3.6966151949203576,
          -3.5986526886701378,
          null
         ],
         "y": [
          40.398119933450886,
          40.43466852782298,
          null
         ]
        },
        {
         "hoverinfo": "text",
         "line": {
          "color": "rgba(50.568627450980394, 58.94117647058823, 151.4313725490196, 1.0)",
          "width": 0.5
         },
         "mode": "lines",
         "showlegend": false,
         "text": "Width: 0.50",
         "type": "scatter",
         "x": [
          -3.6966151949203576,
          -3.574543479322823,
          null
         ],
         "y": [
          40.398119933450886,
          40.4757410696608,
          null
         ]
        },
        {
         "hoverinfo": "text",
         "line": {
          "color": "rgba(90.19607843137256, 142.2549019607843, 193.07843137254903, 1.0)",
          "width": 1.4569543881128337
         },
         "mode": "lines",
         "showlegend": false,
         "text": "Width: 1.46",
         "type": "scatter",
         "x": [
          -3.67643837848883,
          -3.705268804063821,
          null
         ],
         "y": [
          40.41138084576659,
          40.41733007020507,
          null
         ]
        },
        {
         "hoverinfo": "text",
         "line": {
          "color": "rgba(75.45098039215688, 124.68627450980394, 183.98039215686276, 1.0)",
          "width": 1.1329606233996188
         },
         "mode": "lines",
         "showlegend": false,
         "text": "Width: 1.13",
         "type": "scatter",
         "x": [
          -3.67643837848883,
          -3.6966151949203576,
          null
         ],
         "y": [
          40.41138084576659,
          40.398119933450886,
          null
         ]
        },
        {
         "hoverinfo": "text",
         "line": {
          "color": "rgba(253.1764705882353, 254.2941176470588, 194.35294117647058, 1.0)",
          "width": 4.934253919091918
         },
         "mode": "lines",
         "showlegend": false,
         "text": "Width: 4.93",
         "type": "scatter",
         "x": [
          -3.67643837848883,
          -3.67643837848883,
          null
         ],
         "y": [
          40.41138084576659,
          40.41138084576659,
          null
         ]
        },
        {
         "hoverinfo": "text",
         "line": {
          "color": "rgba(120.31372549019609, 176.45098039215688, 210.88235294117646, 1.0)",
          "width": 2.093062250813612
         },
         "mode": "lines",
         "showlegend": false,
         "text": "Width: 2.09",
         "type": "scatter",
         "x": [
          -3.67643837848883,
          -3.6737887354917422,
          null
         ],
         "y": [
          40.41138084576659,
          40.43018370922185,
          null
         ]
        },
        {
         "hoverinfo": "text",
         "line": {
          "color": "rgba(58.411764705882355, 83.64705882352942, 163.58823529411765, 1.0)",
          "width": 0.5
         },
         "mode": "lines",
         "showlegend": false,
         "text": "Width: 0.50",
         "type": "scatter",
         "x": [
          -3.67643837848883,
          -3.678150006537061,
          null
         ],
         "y": [
          40.41138084576659,
          40.45750039357669,
          null
         ]
        },
        {
         "hoverinfo": "text",
         "line": {
          "color": "rgba(53.705882352941174, 68.82352941176471, 156.2941176470588, 1.0)",
          "width": 0.5
         },
         "mode": "lines",
         "showlegend": false,
         "text": "Width: 0.50",
         "type": "scatter",
         "x": [
          -3.67643837848883,
          -3.6999935507976827,
          null
         ],
         "y": [
          40.41138084576659,
          40.4606484776773,
          null
         ]
        },
        {
         "hoverinfo": "text",
         "line": {
          "color": "rgba(61.54901960784314, 93.5294117647059, 168.45098039215688, 1.0)",
          "width": 0.6597854172716613
         },
         "mode": "lines",
         "showlegend": false,
         "text": "Width: 0.66",
         "type": "scatter",
         "x": [
          -3.67643837848883,
          -3.703523951395161,
          null
         ],
         "y": [
          40.41138084576659,
          40.4375595509298,
          null
         ]
        },
        {
         "hoverinfo": "text",
         "line": {
          "color": "rgba(54.490196078431374, 71.29411764705883, 157.50980392156865, 1.0)",
          "width": 0.5
         },
         "mode": "lines",
         "showlegend": false,
         "text": "Width: 0.50",
         "type": "scatter",
         "x": [
          -3.67643837848883,
          -3.753579560856663,
          null
         ],
         "y": [
          40.41138084576659,
          40.54479435831404,
          null
         ]
        },
        {
         "hoverinfo": "text",
         "line": {
          "color": "rgba(55.274509803921575, 73.76470588235294, 158.72549019607845, 1.0)",
          "width": 0.5
         },
         "mode": "lines",
         "showlegend": false,
         "text": "Width: 0.50",
         "type": "scatter",
         "x": [
          -3.67643837848883,
          -3.757223268157654,
          null
         ],
         "y": [
          40.41138084576659,
          40.44543508494524,
          null
         ]
        },
        {
         "hoverinfo": "text",
         "line": {
          "color": "rgba(50.568627450980394, 58.94117647058823, 151.4313725490196, 1.0)",
          "width": 0.5
         },
         "mode": "lines",
         "showlegend": false,
         "text": "Width: 0.50",
         "type": "scatter",
         "x": [
          -3.67643837848883,
          -3.778616540618283,
          null
         ],
         "y": [
          40.41138084576659,
          40.385273701511004,
          null
         ]
        },
        {
         "hoverinfo": "text",
         "line": {
          "color": "rgba(52.13725490196079, 63.88235294117647, 153.86274509803923, 1.0)",
          "width": 0.5
         },
         "mode": "lines",
         "showlegend": false,
         "text": "Width: 0.50",
         "type": "scatter",
         "x": [
          -3.67643837848883,
          -3.737112400757822,
          null
         ],
         "y": [
          40.41138084576659,
          40.378840354576816,
          null
         ]
        },
        {
         "hoverinfo": "text",
         "line": {
          "color": "rgba(52.13725490196079, 63.88235294117647, 153.86274509803923, 1.0)",
          "width": 0.5
         },
         "mode": "lines",
         "showlegend": false,
         "text": "Width: 0.50",
         "type": "scatter",
         "x": [
          -3.67643837848883,
          -3.7029808755455926,
          null
         ],
         "y": [
          40.41138084576659,
          40.37595000318738,
          null
         ]
        },
        {
         "hoverinfo": "text",
         "line": {
          "color": "rgba(104.94117647058823, 159.82352941176472, 202.17647058823528, 1.0)",
          "width": 1.7732041421554539
         },
         "mode": "lines",
         "showlegend": false,
         "text": "Width: 1.77",
         "type": "scatter",
         "x": [
          -3.67643837848883,
          -3.6598634715735407,
          null
         ],
         "y": [
          40.41138084576659,
          40.38355078734683,
          null
         ]
        },
        {
         "hoverinfo": "text",
         "line": {
          "color": "rgba(75.45098039215688, 124.68627450980394, 183.98039215686276, 1.0)",
          "width": 1.1575269909944297
         },
         "mode": "lines",
         "showlegend": false,
         "text": "Width: 1.16",
         "type": "scatter",
         "x": [
          -3.67643837848883,
          -3.6413909394895803,
          null
         ],
         "y": [
          40.41138084576659,
          40.40661270611631,
          null
         ]
        },
        {
         "hoverinfo": "text",
         "line": {
          "color": "rgba(56.05882352941177, 76.23529411764707, 159.94117647058823, 1.0)",
          "width": 0.5
         },
         "mode": "lines",
         "showlegend": false,
         "text": "Width: 0.50",
         "type": "scatter",
         "x": [
          -3.67643837848883,
          -3.649948514601449,
          null
         ],
         "y": [
          40.41138084576659,
          40.43926990707227,
          null
         ]
        },
        {
         "hoverinfo": "text",
         "line": {
          "color": "rgba(52.92156862745099, 66.35294117647058, 155.07843137254903, 1.0)",
          "width": 0.5
         },
         "mode": "lines",
         "showlegend": false,
         "text": "Width: 0.50",
         "type": "scatter",
         "x": [
          -3.67643837848883,
          -3.637741035389707,
          null
         ],
         "y": [
          40.41138084576659,
          40.48201214532898,
          null
         ]
        },
        {
         "hoverinfo": "text",
         "line": {
          "color": "rgba(49.7843137254902, 56.470588235294116, 150.21568627450984, 1.0)",
          "width": 0.5
         },
         "mode": "lines",
         "showlegend": false,
         "text": "Width: 0.50",
         "type": "scatter",
         "x": [
          -3.67643837848883,
          -3.695056256825152,
          null
         ],
         "y": [
          40.41138084576659,
          40.34253624126977,
          null
         ]
        },
        {
         "hoverinfo": "text",
         "line": {
          "color": "rgba(52.13725490196079, 63.88235294117647, 153.86274509803923, 1.0)",
          "width": 0.5
         },
         "mode": "lines",
         "showlegend": false,
         "text": "Width: 0.50",
         "type": "scatter",
         "x": [
          -3.67643837848883,
          -3.6160073912284756,
          null
         ],
         "y": [
          40.41138084576659,
          40.34992967757026,
          null
         ]
        },
        {
         "hoverinfo": "text",
         "line": {
          "color": "rgba(50.568627450980394, 58.94117647058823, 151.4313725490196, 1.0)",
          "width": 0.5
         },
         "mode": "lines",
         "showlegend": false,
         "text": "Width: 0.50",
         "type": "scatter",
         "x": [
          -3.67643837848883,
          -3.572894771748725,
          null
         ],
         "y": [
          40.41138084576659,
          40.39356859265691,
          null
         ]
        },
        {
         "hoverinfo": "text",
         "line": {
          "color": "rgba(52.13725490196079, 63.88235294117647, 153.86274509803923, 1.0)",
          "width": 0.5
         },
         "mode": "lines",
         "showlegend": false,
         "text": "Width: 0.50",
         "type": "scatter",
         "x": [
          -3.67643837848883,
          -3.5986526886701378,
          null
         ],
         "y": [
          40.41138084576659,
          40.43466852782298,
          null
         ]
        },
        {
         "hoverinfo": "text",
         "line": {
          "color": "rgba(50.568627450980394, 58.94117647058823, 151.4313725490196, 1.0)",
          "width": 0.5
         },
         "mode": "lines",
         "showlegend": false,
         "text": "Width: 0.50",
         "type": "scatter",
         "x": [
          -3.67643837848883,
          -3.574543479322823,
          null
         ],
         "y": [
          40.41138084576659,
          40.4757410696608,
          null
         ]
        },
        {
         "hoverinfo": "text",
         "line": {
          "color": "rgba(66.25490196078432, 108.35294117647061, 175.74509803921572, 1.0)",
          "width": 0.8889992072590972
         },
         "mode": "lines",
         "showlegend": false,
         "text": "Width: 0.89",
         "type": "scatter",
         "x": [
          -3.6737887354917422,
          -3.705268804063821,
          null
         ],
         "y": [
          40.43018370922185,
          40.41733007020507,
          null
         ]
        },
        {
         "hoverinfo": "text",
         "line": {
          "color": "rgba(52.13725490196079, 63.88235294117647, 153.86274509803923, 1.0)",
          "width": 0.5
         },
         "mode": "lines",
         "showlegend": false,
         "text": "Width: 0.50",
         "type": "scatter",
         "x": [
          -3.6737887354917422,
          -3.6966151949203576,
          null
         ],
         "y": [
          40.43018370922185,
          40.398119933450886,
          null
         ]
        },
        {
         "hoverinfo": "text",
         "line": {
          "color": "rgba(69.921568627451, 118.09803921568628, 180.56862745098042, 1.0)",
          "width": 1.0412501134456327
         },
         "mode": "lines",
         "showlegend": false,
         "text": "Width: 1.04",
         "type": "scatter",
         "x": [
          -3.6737887354917422,
          -3.67643837848883,
          null
         ],
         "y": [
          40.43018370922185,
          40.41138084576659,
          null
         ]
        },
        {
         "hoverinfo": "text",
         "line": {
          "color": "rgba(253.52941176470588, 200.47058823529414, 121.88235294117646, 1.0)",
          "width": 6.454798673185751
         },
         "mode": "lines",
         "showlegend": false,
         "text": "Width: 6.45",
         "type": "scatter",
         "x": [
          -3.6737887354917422,
          -3.6737887354917422,
          null
         ],
         "y": [
          40.43018370922185,
          40.43018370922185,
          null
         ]
        },
        {
         "hoverinfo": "text",
         "line": {
          "color": "rgba(101.25490196078432, 155.4313725490196, 199.90196078431376, 1.0)",
          "width": 1.6965374395535255
         },
         "mode": "lines",
         "showlegend": false,
         "text": "Width: 1.70",
         "type": "scatter",
         "x": [
          -3.6737887354917422,
          -3.678150006537061,
          null
         ],
         "y": [
          40.43018370922185,
          40.45750039357669,
          null
         ]
        },
        {
         "hoverinfo": "text",
         "line": {
          "color": "rgba(55.274509803921575, 73.76470588235294, 158.72549019607845, 1.0)",
          "width": 0.5
         },
         "mode": "lines",
         "showlegend": false,
         "text": "Width: 0.50",
         "type": "scatter",
         "x": [
          -3.6737887354917422,
          -3.6999935507976827,
          null
         ],
         "y": [
          40.43018370922185,
          40.4606484776773,
          null
         ]
        },
        {
         "hoverinfo": "text",
         "line": {
          "color": "rgba(80.98039215686276, 131.2745098039216, 187.3921568627451, 1.0)",
          "width": 1.2579163213690936
         },
         "mode": "lines",
         "showlegend": false,
         "text": "Width: 1.26",
         "type": "scatter",
         "x": [
          -3.6737887354917422,
          -3.703523951395161,
          null
         ],
         "y": [
          40.43018370922185,
          40.4375595509298,
          null
         ]
        },
        {
         "hoverinfo": "text",
         "line": {
          "color": "rgba(56.84313725490196, 78.70588235294117, 161.15686274509807, 1.0)",
          "width": 0.5
         },
         "mode": "lines",
         "showlegend": false,
         "text": "Width: 0.50",
         "type": "scatter",
         "x": [
          -3.6737887354917422,
          -3.753579560856663,
          null
         ],
         "y": [
          40.43018370922185,
          40.54479435831404,
          null
         ]
        },
        {
         "hoverinfo": "text",
         "line": {
          "color": "rgba(55.274509803921575, 73.76470588235294, 158.72549019607845, 1.0)",
          "width": 0.5
         },
         "mode": "lines",
         "showlegend": false,
         "text": "Width: 0.50",
         "type": "scatter",
         "x": [
          -3.6737887354917422,
          -3.757223268157654,
          null
         ],
         "y": [
          40.43018370922185,
          40.44543508494524,
          null
         ]
        },
        {
         "hoverinfo": "text",
         "line": {
          "color": "rgba(49.7843137254902, 56.470588235294116, 150.21568627450984, 1.0)",
          "width": 0.5
         },
         "mode": "lines",
         "showlegend": false,
         "text": "Width: 0.50",
         "type": "scatter",
         "x": [
          -3.6737887354917422,
          -3.778616540618283,
          null
         ],
         "y": [
          40.43018370922185,
          40.385273701511004,
          null
         ]
        },
        {
         "hoverinfo": "text",
         "line": {
          "color": "rgba(49.7843137254902, 56.470588235294116, 150.21568627450984, 1.0)",
          "width": 0.5
         },
         "mode": "lines",
         "showlegend": false,
         "text": "Width: 0.50",
         "type": "scatter",
         "x": [
          -3.6737887354917422,
          -3.737112400757822,
          null
         ],
         "y": [
          40.43018370922185,
          40.378840354576816,
          null
         ]
        },
        {
         "hoverinfo": "text",
         "line": {
          "color": "rgba(49.7843137254902, 56.470588235294116, 150.21568627450984, 1.0)",
          "width": 0.5
         },
         "mode": "lines",
         "showlegend": false,
         "text": "Width: 0.50",
         "type": "scatter",
         "x": [
          -3.6737887354917422,
          -3.7029808755455926,
          null
         ],
         "y": [
          40.43018370922185,
          40.37595000318738,
          null
         ]
        },
        {
         "hoverinfo": "text",
         "line": {
          "color": "rgba(50.568627450980394, 58.94117647058823, 151.4313725490196, 1.0)",
          "width": 0.5
         },
         "mode": "lines",
         "showlegend": false,
         "text": "Width: 0.50",
         "type": "scatter",
         "x": [
          -3.6737887354917422,
          -3.6598634715735407,
          null
         ],
         "y": [
          40.43018370922185,
          40.38355078734683,
          null
         ]
        },
        {
         "hoverinfo": "text",
         "line": {
          "color": "rgba(56.05882352941177, 76.23529411764707, 159.94117647058823, 1.0)",
          "width": 0.5
         },
         "mode": "lines",
         "showlegend": false,
         "text": "Width: 0.50",
         "type": "scatter",
         "x": [
          -3.6737887354917422,
          -3.6413909394895803,
          null
         ],
         "y": [
          40.43018370922185,
          40.40661270611631,
          null
         ]
        },
        {
         "hoverinfo": "text",
         "line": {
          "color": "rgba(114.15686274509805, 170.8039215686275, 207.86274509803923, 1.0)",
          "width": 1.9645402244418346
         },
         "mode": "lines",
         "showlegend": false,
         "text": "Width: 1.96",
         "type": "scatter",
         "x": [
          -3.6737887354917422,
          -3.649948514601449,
          null
         ],
         "y": [
          40.43018370922185,
          40.43926990707227,
          null
         ]
        },
        {
         "hoverinfo": "text",
         "line": {
          "color": "rgba(55.274509803921575, 73.76470588235294, 158.72549019607845, 1.0)",
          "width": 0.5
         },
         "mode": "lines",
         "showlegend": false,
         "text": "Width: 0.50",
         "type": "scatter",
         "x": [
          -3.6737887354917422,
          -3.637741035389707,
          null
         ],
         "y": [
          40.43018370922185,
          40.48201214532898,
          null
         ]
        },
        {
         "hoverinfo": "text",
         "line": {
          "color": "rgba(49.0, 54.0, 149.0, 1.0)",
          "width": 0.5
         },
         "mode": "lines",
         "showlegend": false,
         "text": "Width: 0.50",
         "type": "scatter",
         "x": [
          -3.6737887354917422,
          -3.695056256825152,
          null
         ],
         "y": [
          40.43018370922185,
          40.34253624126977,
          null
         ]
        },
        {
         "hoverinfo": "text",
         "line": {
          "color": "rgba(49.7843137254902, 56.470588235294116, 150.21568627450984, 1.0)",
          "width": 0.5
         },
         "mode": "lines",
         "showlegend": false,
         "text": "Width: 0.50",
         "type": "scatter",
         "x": [
          -3.6737887354917422,
          -3.6160073912284756,
          null
         ],
         "y": [
          40.43018370922185,
          40.34992967757026,
          null
         ]
        },
        {
         "hoverinfo": "text",
         "line": {
          "color": "rgba(49.7843137254902, 56.470588235294116, 150.21568627450984, 1.0)",
          "width": 0.5
         },
         "mode": "lines",
         "showlegend": false,
         "text": "Width: 0.50",
         "type": "scatter",
         "x": [
          -3.6737887354917422,
          -3.572894771748725,
          null
         ],
         "y": [
          40.43018370922185,
          40.39356859265691,
          null
         ]
        },
        {
         "hoverinfo": "text",
         "line": {
          "color": "rgba(54.490196078431374, 71.29411764705883, 157.50980392156865, 1.0)",
          "width": 0.5
         },
         "mode": "lines",
         "showlegend": false,
         "text": "Width: 0.50",
         "type": "scatter",
         "x": [
          -3.6737887354917422,
          -3.5986526886701378,
          null
         ],
         "y": [
          40.43018370922185,
          40.43466852782298,
          null
         ]
        },
        {
         "hoverinfo": "text",
         "line": {
          "color": "rgba(51.35294117647059, 61.411764705882355, 152.64705882352942, 1.0)",
          "width": 0.5
         },
         "mode": "lines",
         "showlegend": false,
         "text": "Width: 0.50",
         "type": "scatter",
         "x": [
          -3.6737887354917422,
          -3.574543479322823,
          null
         ],
         "y": [
          40.43018370922185,
          40.4757410696608,
          null
         ]
        },
        {
         "hoverinfo": "text",
         "line": {
          "color": "rgba(59.98039215686274, 88.58823529411765, 166.01960784313727, 1.0)",
          "width": 0.5832592817455532
         },
         "mode": "lines",
         "showlegend": false,
         "text": "Width: 0.58",
         "type": "scatter",
         "x": [
          -3.678150006537061,
          -3.705268804063821,
          null
         ],
         "y": [
          40.45750039357669,
          40.41733007020507,
          null
         ]
        },
        {
         "hoverinfo": "text",
         "line": {
          "color": "rgba(50.568627450980394, 58.94117647058823, 151.4313725490196, 1.0)",
          "width": 0.5
         },
         "mode": "lines",
         "showlegend": false,
         "text": "Width: 0.50",
         "type": "scatter",
         "x": [
          -3.678150006537061,
          -3.6966151949203576,
          null
         ],
         "y": [
          40.45750039357669,
          40.398119933450886,
          null
         ]
        },
        {
         "hoverinfo": "text",
         "line": {
          "color": "rgba(53.705882352941174, 68.82352941176471, 156.2941176470588, 1.0)",
          "width": 0.5
         },
         "mode": "lines",
         "showlegend": false,
         "text": "Width: 0.50",
         "type": "scatter",
         "x": [
          -3.678150006537061,
          -3.67643837848883,
          null
         ],
         "y": [
          40.45750039357669,
          40.41138084576659,
          null
         ]
        },
        {
         "hoverinfo": "text",
         "line": {
          "color": "rgba(108.62745098039218, 164.21568627450984, 204.45098039215688, 1.0)",
          "width": 1.8670634101841432
         },
         "mode": "lines",
         "showlegend": false,
         "text": "Width: 1.87",
         "type": "scatter",
         "x": [
          -3.678150006537061,
          -3.6737887354917422,
          null
         ],
         "y": [
          40.45750039357669,
          40.43018370922185,
          null
         ]
        },
        {
         "hoverinfo": "text",
         "line": {
          "color": "rgba(253.60784313725492, 204.3921568627451, 125.5686274509804, 1.0)",
          "width": 6.390960030132673
         },
         "mode": "lines",
         "showlegend": false,
         "text": "Width: 6.39",
         "type": "scatter",
         "x": [
          -3.678150006537061,
          -3.678150006537061,
          null
         ],
         "y": [
          40.45750039357669,
          40.45750039357669,
          null
         ]
        },
        {
         "hoverinfo": "text",
         "line": {
          "color": "rgba(80.98039215686276, 131.2745098039216, 187.3921568627451, 1.0)",
          "width": 1.2886552867410463
         },
         "mode": "lines",
         "showlegend": false,
         "text": "Width: 1.29",
         "type": "scatter",
         "x": [
          -3.678150006537061,
          -3.6999935507976827,
          null
         ],
         "y": [
          40.45750039357669,
          40.4606484776773,
          null
         ]
        },
        {
         "hoverinfo": "text",
         "line": {
          "color": "rgba(73.60784313725492, 122.49019607843138, 182.84313725490196, 1.0)",
          "width": 1.1290312197402115
         },
         "mode": "lines",
         "showlegend": false,
         "text": "Width: 1.13",
         "type": "scatter",
         "x": [
          -3.678150006537061,
          -3.703523951395161,
          null
         ],
         "y": [
          40.45750039357669,
          40.4375595509298,
          null
         ]
        },
        {
         "hoverinfo": "text",
         "line": {
          "color": "rgba(77.29411764705883, 126.88235294117649, 185.11764705882354, 1.0)",
          "width": 1.2061707311580214
         },
         "mode": "lines",
         "showlegend": false,
         "text": "Width: 1.21",
         "type": "scatter",
         "x": [
          -3.678150006537061,
          -3.753579560856663,
          null
         ],
         "y": [
          40.45750039357669,
          40.54479435831404,
          null
         ]
        },
        {
         "hoverinfo": "text",
         "line": {
          "color": "rgba(56.05882352941177, 76.23529411764707, 159.94117647058823, 1.0)",
          "width": 0.5
         },
         "mode": "lines",
         "showlegend": false,
         "text": "Width: 0.50",
         "type": "scatter",
         "x": [
          -3.678150006537061,
          -3.757223268157654,
          null
         ],
         "y": [
          40.45750039357669,
          40.44543508494524,
          null
         ]
        },
        {
         "hoverinfo": "text",
         "line": {
          "color": "rgba(49.0, 54.0, 149.0, 1.0)",
          "width": 0.5
         },
         "mode": "lines",
         "showlegend": false,
         "text": "Width: 0.50",
         "type": "scatter",
         "x": [
          -3.678150006537061,
          -3.778616540618283,
          null
         ],
         "y": [
          40.45750039357669,
          40.385273701511004,
          null
         ]
        },
        {
         "hoverinfo": "text",
         "line": {
          "color": "rgba(49.7843137254902, 56.470588235294116, 150.21568627450984, 1.0)",
          "width": 0.5
         },
         "mode": "lines",
         "showlegend": false,
         "text": "Width: 0.50",
         "type": "scatter",
         "x": [
          -3.678150006537061,
          -3.737112400757822,
          null
         ],
         "y": [
          40.45750039357669,
          40.378840354576816,
          null
         ]
        },
        {
         "hoverinfo": "text",
         "line": {
          "color": "rgba(49.0, 54.0, 149.0, 1.0)",
          "width": 0.5
         },
         "mode": "lines",
         "showlegend": false,
         "text": "Width: 0.50",
         "type": "scatter",
         "x": [
          -3.678150006537061,
          -3.7029808755455926,
          null
         ],
         "y": [
          40.45750039357669,
          40.37595000318738,
          null
         ]
        },
        {
         "hoverinfo": "text",
         "line": {
          "color": "rgba(49.7843137254902, 56.470588235294116, 150.21568627450984, 1.0)",
          "width": 0.5
         },
         "mode": "lines",
         "showlegend": false,
         "text": "Width: 0.50",
         "type": "scatter",
         "x": [
          -3.678150006537061,
          -3.6598634715735407,
          null
         ],
         "y": [
          40.45750039357669,
          40.38355078734683,
          null
         ]
        },
        {
         "hoverinfo": "text",
         "line": {
          "color": "rgba(49.0, 54.0, 149.0, 1.0)",
          "width": 0.5
         },
         "mode": "lines",
         "showlegend": false,
         "text": "Width: 0.50",
         "type": "scatter",
         "x": [
          -3.678150006537061,
          -3.6413909394895803,
          null
         ],
         "y": [
          40.45750039357669,
          40.40661270611631,
          null
         ]
        },
        {
         "hoverinfo": "text",
         "line": {
          "color": "rgba(82.82352941176471, 133.47058823529412, 188.5294117647059, 1.0)",
          "width": 1.3216404904498105
         },
         "mode": "lines",
         "showlegend": false,
         "text": "Width: 1.32",
         "type": "scatter",
         "x": [
          -3.678150006537061,
          -3.649948514601449,
          null
         ],
         "y": [
          40.45750039357669,
          40.43926990707227,
          null
         ]
        },
        {
         "hoverinfo": "text",
         "line": {
          "color": "rgba(69.921568627451, 118.09803921568628, 180.56862745098042, 1.0)",
          "width": 1.0182195010834612
         },
         "mode": "lines",
         "showlegend": false,
         "text": "Width: 1.02",
         "type": "scatter",
         "x": [
          -3.678150006537061,
          -3.637741035389707,
          null
         ],
         "y": [
          40.45750039357669,
          40.48201214532898,
          null
         ]
        },
        {
         "hoverinfo": "text",
         "line": {
          "color": "rgba(49.0, 54.0, 149.0, 1.0)",
          "width": 0.5
         },
         "mode": "lines",
         "showlegend": false,
         "text": "Width: 0.50",
         "type": "scatter",
         "x": [
          -3.678150006537061,
          -3.695056256825152,
          null
         ],
         "y": [
          40.45750039357669,
          40.34253624126977,
          null
         ]
        },
        {
         "hoverinfo": "text",
         "line": {
          "color": "rgba(49.0, 54.0, 149.0, 1.0)",
          "width": 0.5
         },
         "mode": "lines",
         "showlegend": false,
         "text": "Width: 0.50",
         "type": "scatter",
         "x": [
          -3.678150006537061,
          -3.6160073912284756,
          null
         ],
         "y": [
          40.45750039357669,
          40.34992967757026,
          null
         ]
        },
        {
         "hoverinfo": "text",
         "line": {
          "color": "rgba(49.0, 54.0, 149.0, 1.0)",
          "width": 0.5
         },
         "mode": "lines",
         "showlegend": false,
         "text": "Width: 0.50",
         "type": "scatter",
         "x": [
          -3.678150006537061,
          -3.572894771748725,
          null
         ],
         "y": [
          40.45750039357669,
          40.39356859265691,
          null
         ]
        },
        {
         "hoverinfo": "text",
         "line": {
          "color": "rgba(52.92156862745099, 66.35294117647058, 155.07843137254903, 1.0)",
          "width": 0.5
         },
         "mode": "lines",
         "showlegend": false,
         "text": "Width: 0.50",
         "type": "scatter",
         "x": [
          -3.678150006537061,
          -3.5986526886701378,
          null
         ],
         "y": [
          40.45750039357669,
          40.43466852782298,
          null
         ]
        },
        {
         "hoverinfo": "text",
         "line": {
          "color": "rgba(52.13725490196079, 63.88235294117647, 153.86274509803923, 1.0)",
          "width": 0.5
         },
         "mode": "lines",
         "showlegend": false,
         "text": "Width: 0.50",
         "type": "scatter",
         "x": [
          -3.678150006537061,
          -3.574543479322823,
          null
         ],
         "y": [
          40.45750039357669,
          40.4757410696608,
          null
         ]
        },
        {
         "hoverinfo": "text",
         "line": {
          "color": "rgba(63.11764705882353, 98.47058823529413, 170.88235294117646, 1.0)",
          "width": 0.7043675186068189
         },
         "mode": "lines",
         "showlegend": false,
         "text": "Width: 0.70",
         "type": "scatter",
         "x": [
          -3.6999935507976827,
          -3.705268804063821,
          null
         ],
         "y": [
          40.4606484776773,
          40.41733007020507,
          null
         ]
        },
        {
         "hoverinfo": "text",
         "line": {
          "color": "rgba(50.568627450980394, 58.94117647058823, 151.4313725490196, 1.0)",
          "width": 0.5
         },
         "mode": "lines",
         "showlegend": false,
         "text": "Width: 0.50",
         "type": "scatter",
         "x": [
          -3.6999935507976827,
          -3.6966151949203576,
          null
         ],
         "y": [
          40.4606484776773,
          40.398119933450886,
          null
         ]
        },
        {
         "hoverinfo": "text",
         "line": {
          "color": "rgba(52.13725490196079, 63.88235294117647, 153.86274509803923, 1.0)",
          "width": 0.5
         },
         "mode": "lines",
         "showlegend": false,
         "text": "Width: 0.50",
         "type": "scatter",
         "x": [
          -3.6999935507976827,
          -3.67643837848883,
          null
         ],
         "y": [
          40.4606484776773,
          40.41138084576659,
          null
         ]
        },
        {
         "hoverinfo": "text",
         "line": {
          "color": "rgba(59.196078431372555, 86.11764705882355, 164.8039215686275, 1.0)",
          "width": 0.5331242609017787
         },
         "mode": "lines",
         "showlegend": false,
         "text": "Width: 0.53",
         "type": "scatter",
         "x": [
          -3.6999935507976827,
          -3.6737887354917422,
          null
         ],
         "y": [
          40.4606484776773,
          40.43018370922185,
          null
         ]
        },
        {
         "hoverinfo": "text",
         "line": {
          "color": "rgba(104.94117647058823, 159.82352941176472, 202.17647058823528, 1.0)",
          "width": 1.7917805350552147
         },
         "mode": "lines",
         "showlegend": false,
         "text": "Width: 1.79",
         "type": "scatter",
         "x": [
          -3.6999935507976827,
          -3.678150006537061,
          null
         ],
         "y": [
          40.4606484776773,
          40.45750039357669,
          null
         ]
        },
        {
         "hoverinfo": "text",
         "line": {
          "color": "rgba(254.0, 224.0, 144.0, 1.0)",
          "width": 6.014917274847438
         },
         "mode": "lines",
         "showlegend": false,
         "text": "Width: 6.01",
         "type": "scatter",
         "x": [
          -3.6999935507976827,
          -3.6999935507976827,
          null
         ],
         "y": [
          40.4606484776773,
          40.4606484776773,
          null
         ]
        },
        {
         "hoverinfo": "text",
         "line": {
          "color": "rgba(97.5686274509804, 151.03921568627453, 197.62745098039218, 1.0)",
          "width": 1.6180712618764903
         },
         "mode": "lines",
         "showlegend": false,
         "text": "Width: 1.62",
         "type": "scatter",
         "x": [
          -3.6999935507976827,
          -3.703523951395161,
          null
         ],
         "y": [
          40.4606484776773,
          40.4375595509298,
          null
         ]
        },
        {
         "hoverinfo": "text",
         "line": {
          "color": "rgba(161.29411764705884, 209.23529411764707, 228.76470588235296, 1.0)",
          "width": 2.840071484035671
         },
         "mode": "lines",
         "showlegend": false,
         "text": "Width: 2.84",
         "type": "scatter",
         "x": [
          -3.6999935507976827,
          -3.753579560856663,
          null
         ],
         "y": [
          40.4606484776773,
          40.54479435831404,
          null
         ]
        },
        {
         "hoverinfo": "text",
         "line": {
          "color": "rgba(84.66666666666667, 135.66666666666669, 189.66666666666669, 1.0)",
          "width": 1.3323584601469474
         },
         "mode": "lines",
         "showlegend": false,
         "text": "Width: 1.33",
         "type": "scatter",
         "x": [
          -3.6999935507976827,
          -3.757223268157654,
          null
         ],
         "y": [
          40.4606484776773,
          40.44543508494524,
          null
         ]
        },
        {
         "hoverinfo": "text",
         "line": {
          "color": "rgba(49.7843137254902, 56.470588235294116, 150.21568627450984, 1.0)",
          "width": 0.5
         },
         "mode": "lines",
         "showlegend": false,
         "text": "Width: 0.50",
         "type": "scatter",
         "x": [
          -3.6999935507976827,
          -3.778616540618283,
          null
         ],
         "y": [
          40.4606484776773,
          40.385273701511004,
          null
         ]
        },
        {
         "hoverinfo": "text",
         "line": {
          "color": "rgba(49.7843137254902, 56.470588235294116, 150.21568627450984, 1.0)",
          "width": 0.5
         },
         "mode": "lines",
         "showlegend": false,
         "text": "Width: 0.50",
         "type": "scatter",
         "x": [
          -3.6999935507976827,
          -3.737112400757822,
          null
         ],
         "y": [
          40.4606484776773,
          40.378840354576816,
          null
         ]
        },
        {
         "hoverinfo": "text",
         "line": {
          "color": "rgba(49.0, 54.0, 149.0, 1.0)",
          "width": 0.5
         },
         "mode": "lines",
         "showlegend": false,
         "text": "Width: 0.50",
         "type": "scatter",
         "x": [
          -3.6999935507976827,
          -3.7029808755455926,
          null
         ],
         "y": [
          40.4606484776773,
          40.37595000318738,
          null
         ]
        },
        {
         "hoverinfo": "text",
         "line": {
          "color": "rgba(49.7843137254902, 56.470588235294116, 150.21568627450984, 1.0)",
          "width": 0.5
         },
         "mode": "lines",
         "showlegend": false,
         "text": "Width: 0.50",
         "type": "scatter",
         "x": [
          -3.6999935507976827,
          -3.6598634715735407,
          null
         ],
         "y": [
          40.4606484776773,
          40.38355078734683,
          null
         ]
        },
        {
         "hoverinfo": "text",
         "line": {
          "color": "rgba(49.0, 54.0, 149.0, 1.0)",
          "width": 0.5
         },
         "mode": "lines",
         "showlegend": false,
         "text": "Width: 0.50",
         "type": "scatter",
         "x": [
          -3.6999935507976827,
          -3.6413909394895803,
          null
         ],
         "y": [
          40.4606484776773,
          40.40661270611631,
          null
         ]
        },
        {
         "hoverinfo": "text",
         "line": {
          "color": "rgba(52.92156862745099, 66.35294117647058, 155.07843137254903, 1.0)",
          "width": 0.5
         },
         "mode": "lines",
         "showlegend": false,
         "text": "Width: 0.50",
         "type": "scatter",
         "x": [
          -3.6999935507976827,
          -3.649948514601449,
          null
         ],
         "y": [
          40.4606484776773,
          40.43926990707227,
          null
         ]
        },
        {
         "hoverinfo": "text",
         "line": {
          "color": "rgba(56.05882352941177, 76.23529411764707, 159.94117647058823, 1.0)",
          "width": 0.5
         },
         "mode": "lines",
         "showlegend": false,
         "text": "Width: 0.50",
         "type": "scatter",
         "x": [
          -3.6999935507976827,
          -3.637741035389707,
          null
         ],
         "y": [
          40.4606484776773,
          40.48201214532898,
          null
         ]
        },
        {
         "hoverinfo": "text",
         "line": {
          "color": "rgba(49.0, 54.0, 149.0, 1.0)",
          "width": 0.5
         },
         "mode": "lines",
         "showlegend": false,
         "text": "Width: 0.50",
         "type": "scatter",
         "x": [
          -3.6999935507976827,
          -3.695056256825152,
          null
         ],
         "y": [
          40.4606484776773,
          40.34253624126977,
          null
         ]
        },
        {
         "hoverinfo": "text",
         "line": {
          "color": "rgba(49.0, 54.0, 149.0, 1.0)",
          "width": 0.5
         },
         "mode": "lines",
         "showlegend": false,
         "text": "Width: 0.50",
         "type": "scatter",
         "x": [
          -3.6999935507976827,
          -3.6160073912284756,
          null
         ],
         "y": [
          40.4606484776773,
          40.34992967757026,
          null
         ]
        },
        {
         "hoverinfo": "text",
         "line": {
          "color": "rgba(49.0, 54.0, 149.0, 1.0)",
          "width": 0.5
         },
         "mode": "lines",
         "showlegend": false,
         "text": "Width: 0.50",
         "type": "scatter",
         "x": [
          -3.6999935507976827,
          -3.572894771748725,
          null
         ],
         "y": [
          40.4606484776773,
          40.39356859265691,
          null
         ]
        },
        {
         "hoverinfo": "text",
         "line": {
          "color": "rgba(51.35294117647059, 61.411764705882355, 152.64705882352942, 1.0)",
          "width": 0.5
         },
         "mode": "lines",
         "showlegend": false,
         "text": "Width: 0.50",
         "type": "scatter",
         "x": [
          -3.6999935507976827,
          -3.5986526886701378,
          null
         ],
         "y": [
          40.4606484776773,
          40.43466852782298,
          null
         ]
        },
        {
         "hoverinfo": "text",
         "line": {
          "color": "rgba(50.568627450980394, 58.94117647058823, 151.4313725490196, 1.0)",
          "width": 0.5
         },
         "mode": "lines",
         "showlegend": false,
         "text": "Width: 0.50",
         "type": "scatter",
         "x": [
          -3.6999935507976827,
          -3.574543479322823,
          null
         ],
         "y": [
          40.4606484776773,
          40.4757410696608,
          null
         ]
        },
        {
         "hoverinfo": "text",
         "line": {
          "color": "rgba(139.72549019607845, 191.98039215686276, 219.3529411764706, 1.0)",
          "width": 2.428193437825526
         },
         "mode": "lines",
         "showlegend": false,
         "text": "Width: 2.43",
         "type": "scatter",
         "x": [
          -3.703523951395161,
          -3.705268804063821,
          null
         ],
         "y": [
          40.4375595509298,
          40.41733007020507,
          null
         ]
        },
        {
         "hoverinfo": "text",
         "line": {
          "color": "rgba(52.92156862745099, 66.35294117647058, 155.07843137254903, 1.0)",
          "width": 0.5
         },
         "mode": "lines",
         "showlegend": false,
         "text": "Width: 0.50",
         "type": "scatter",
         "x": [
          -3.703523951395161,
          -3.6966151949203576,
          null
         ],
         "y": [
          40.4375595509298,
          40.398119933450886,
          null
         ]
        },
        {
         "hoverinfo": "text",
         "line": {
          "color": "rgba(54.490196078431374, 71.29411764705883, 157.50980392156865, 1.0)",
          "width": 0.5
         },
         "mode": "lines",
         "showlegend": false,
         "text": "Width: 0.50",
         "type": "scatter",
         "x": [
          -3.703523951395161,
          -3.67643837848883,
          null
         ],
         "y": [
          40.4375595509298,
          40.41138084576659,
          null
         ]
        },
        {
         "hoverinfo": "text",
         "line": {
          "color": "rgba(77.29411764705883, 126.88235294117649, 185.11764705882354, 1.0)",
          "width": 1.193974643087714
         },
         "mode": "lines",
         "showlegend": false,
         "text": "Width: 1.19",
         "type": "scatter",
         "x": [
          -3.703523951395161,
          -3.6737887354917422,
          null
         ],
         "y": [
          40.4375595509298,
          40.43018370922185,
          null
         ]
        },
        {
         "hoverinfo": "text",
         "line": {
          "color": "rgba(69.921568627451, 118.09803921568628, 180.56862745098042, 1.0)",
          "width": 1.0345922440830626
         },
         "mode": "lines",
         "showlegend": false,
         "text": "Width: 1.03",
         "type": "scatter",
         "x": [
          -3.703523951395161,
          -3.678150006537061,
          null
         ],
         "y": [
          40.4375595509298,
          40.45750039357669,
          null
         ]
        },
        {
         "hoverinfo": "text",
         "line": {
          "color": "rgba(99.41176470588236, 153.2352941176471, 198.76470588235296, 1.0)",
          "width": 1.6414683222682362
         },
         "mode": "lines",
         "showlegend": false,
         "text": "Width: 1.64",
         "type": "scatter",
         "x": [
          -3.703523951395161,
          -3.6999935507976827,
          null
         ],
         "y": [
          40.4375595509298,
          40.4606484776773,
          null
         ]
        },
        {
         "hoverinfo": "text",
         "line": {
          "color": "rgba(253.72549019607843, 210.27450980392157, 131.09803921568627, 1.0)",
          "width": 6.263499026839617
         },
         "mode": "lines",
         "showlegend": false,
         "text": "Width: 6.26",
         "type": "scatter",
         "x": [
          -3.703523951395161,
          -3.703523951395161,
          null
         ],
         "y": [
          40.4375595509298,
          40.4375595509298,
          null
         ]
        },
        {
         "hoverinfo": "text",
         "line": {
          "color": "rgba(59.98039215686274, 88.58823529411765, 166.01960784313727, 1.0)",
          "width": 0.5858844268458434
         },
         "mode": "lines",
         "showlegend": false,
         "text": "Width: 0.59",
         "type": "scatter",
         "x": [
          -3.703523951395161,
          -3.753579560856663,
          null
         ],
         "y": [
          40.4375595509298,
          40.54479435831404,
          null
         ]
        },
        {
         "hoverinfo": "text",
         "line": {
          "color": "rgba(88.35294117647061, 140.0588235294118, 191.94117647058823, 1.0)",
          "width": 1.4181286289035526
         },
         "mode": "lines",
         "showlegend": false,
         "text": "Width: 1.42",
         "type": "scatter",
         "x": [
          -3.703523951395161,
          -3.757223268157654,
          null
         ],
         "y": [
          40.4375595509298,
          40.44543508494524,
          null
         ]
        },
        {
         "hoverinfo": "text",
         "line": {
          "color": "rgba(51.35294117647059, 61.411764705882355, 152.64705882352942, 1.0)",
          "width": 0.5
         },
         "mode": "lines",
         "showlegend": false,
         "text": "Width: 0.50",
         "type": "scatter",
         "x": [
          -3.703523951395161,
          -3.778616540618283,
          null
         ],
         "y": [
          40.4375595509298,
          40.385273701511004,
          null
         ]
        },
        {
         "hoverinfo": "text",
         "line": {
          "color": "rgba(49.7843137254902, 56.470588235294116, 150.21568627450984, 1.0)",
          "width": 0.5
         },
         "mode": "lines",
         "showlegend": false,
         "text": "Width: 0.50",
         "type": "scatter",
         "x": [
          -3.703523951395161,
          -3.737112400757822,
          null
         ],
         "y": [
          40.4375595509298,
          40.378840354576816,
          null
         ]
        },
        {
         "hoverinfo": "text",
         "line": {
          "color": "rgba(49.7843137254902, 56.470588235294116, 150.21568627450984, 1.0)",
          "width": 0.5
         },
         "mode": "lines",
         "showlegend": false,
         "text": "Width: 0.50",
         "type": "scatter",
         "x": [
          -3.703523951395161,
          -3.7029808755455926,
          null
         ],
         "y": [
          40.4375595509298,
          40.37595000318738,
          null
         ]
        },
        {
         "hoverinfo": "text",
         "line": {
          "color": "rgba(49.7843137254902, 56.470588235294116, 150.21568627450984, 1.0)",
          "width": 0.5
         },
         "mode": "lines",
         "showlegend": false,
         "text": "Width: 0.50",
         "type": "scatter",
         "x": [
          -3.703523951395161,
          -3.6598634715735407,
          null
         ],
         "y": [
          40.4375595509298,
          40.38355078734683,
          null
         ]
        },
        {
         "hoverinfo": "text",
         "line": {
          "color": "rgba(49.0, 54.0, 149.0, 1.0)",
          "width": 0.5
         },
         "mode": "lines",
         "showlegend": false,
         "text": "Width: 0.50",
         "type": "scatter",
         "x": [
          -3.703523951395161,
          -3.6413909394895803,
          null
         ],
         "y": [
          40.4375595509298,
          40.40661270611631,
          null
         ]
        },
        {
         "hoverinfo": "text",
         "line": {
          "color": "rgba(52.92156862745099, 66.35294117647058, 155.07843137254903, 1.0)",
          "width": 0.5
         },
         "mode": "lines",
         "showlegend": false,
         "text": "Width: 0.50",
         "type": "scatter",
         "x": [
          -3.703523951395161,
          -3.649948514601449,
          null
         ],
         "y": [
          40.4375595509298,
          40.43926990707227,
          null
         ]
        },
        {
         "hoverinfo": "text",
         "line": {
          "color": "rgba(53.705882352941174, 68.82352941176471, 156.2941176470588, 1.0)",
          "width": 0.5
         },
         "mode": "lines",
         "showlegend": false,
         "text": "Width: 0.50",
         "type": "scatter",
         "x": [
          -3.703523951395161,
          -3.637741035389707,
          null
         ],
         "y": [
          40.4375595509298,
          40.48201214532898,
          null
         ]
        },
        {
         "hoverinfo": "text",
         "line": {
          "color": "rgba(49.0, 54.0, 149.0, 1.0)",
          "width": 0.5
         },
         "mode": "lines",
         "showlegend": false,
         "text": "Width: 0.50",
         "type": "scatter",
         "x": [
          -3.703523951395161,
          -3.695056256825152,
          null
         ],
         "y": [
          40.4375595509298,
          40.34253624126977,
          null
         ]
        },
        {
         "hoverinfo": "text",
         "line": {
          "color": "rgba(49.0, 54.0, 149.0, 1.0)",
          "width": 0.5
         },
         "mode": "lines",
         "showlegend": false,
         "text": "Width: 0.50",
         "type": "scatter",
         "x": [
          -3.703523951395161,
          -3.6160073912284756,
          null
         ],
         "y": [
          40.4375595509298,
          40.34992967757026,
          null
         ]
        },
        {
         "hoverinfo": "text",
         "line": {
          "color": "rgba(49.0, 54.0, 149.0, 1.0)",
          "width": 0.5
         },
         "mode": "lines",
         "showlegend": false,
         "text": "Width: 0.50",
         "type": "scatter",
         "x": [
          -3.703523951395161,
          -3.572894771748725,
          null
         ],
         "y": [
          40.4375595509298,
          40.39356859265691,
          null
         ]
        },
        {
         "hoverinfo": "text",
         "line": {
          "color": "rgba(51.35294117647059, 61.411764705882355, 152.64705882352942, 1.0)",
          "width": 0.5
         },
         "mode": "lines",
         "showlegend": false,
         "text": "Width: 0.50",
         "type": "scatter",
         "x": [
          -3.703523951395161,
          -3.5986526886701378,
          null
         ],
         "y": [
          40.4375595509298,
          40.43466852782298,
          null
         ]
        },
        {
         "hoverinfo": "text",
         "line": {
          "color": "rgba(50.568627450980394, 58.94117647058823, 151.4313725490196, 1.0)",
          "width": 0.5
         },
         "mode": "lines",
         "showlegend": false,
         "text": "Width: 0.50",
         "type": "scatter",
         "x": [
          -3.703523951395161,
          -3.574543479322823,
          null
         ],
         "y": [
          40.4375595509298,
          40.4757410696608,
          null
         ]
        },
        {
         "hoverinfo": "text",
         "line": {
          "color": "rgba(55.274509803921575, 73.76470588235294, 158.72549019607845, 1.0)",
          "width": 0.5
         },
         "mode": "lines",
         "showlegend": false,
         "text": "Width: 0.50",
         "type": "scatter",
         "x": [
          -3.753579560856663,
          -3.705268804063821,
          null
         ],
         "y": [
          40.54479435831404,
          40.41733007020507,
          null
         ]
        },
        {
         "hoverinfo": "text",
         "line": {
          "color": "rgba(49.7843137254902, 56.470588235294116, 150.21568627450984, 1.0)",
          "width": 0.5
         },
         "mode": "lines",
         "showlegend": false,
         "text": "Width: 0.50",
         "type": "scatter",
         "x": [
          -3.753579560856663,
          -3.6966151949203576,
          null
         ],
         "y": [
          40.54479435831404,
          40.398119933450886,
          null
         ]
        },
        {
         "hoverinfo": "text",
         "line": {
          "color": "rgba(50.568627450980394, 58.94117647058823, 151.4313725490196, 1.0)",
          "width": 0.5
         },
         "mode": "lines",
         "showlegend": false,
         "text": "Width: 0.50",
         "type": "scatter",
         "x": [
          -3.753579560856663,
          -3.67643837848883,
          null
         ],
         "y": [
          40.54479435831404,
          40.41138084576659,
          null
         ]
        },
        {
         "hoverinfo": "text",
         "line": {
          "color": "rgba(55.274509803921575, 73.76470588235294, 158.72549019607845, 1.0)",
          "width": 0.5
         },
         "mode": "lines",
         "showlegend": false,
         "text": "Width: 0.50",
         "type": "scatter",
         "x": [
          -3.753579560856663,
          -3.6737887354917422,
          null
         ],
         "y": [
          40.54479435831404,
          40.43018370922185,
          null
         ]
        },
        {
         "hoverinfo": "text",
         "line": {
          "color": "rgba(64.68627450980392, 103.41176470588235, 173.3137254901961, 1.0)",
          "width": 0.8065490706548658
         },
         "mode": "lines",
         "showlegend": false,
         "text": "Width: 0.81",
         "type": "scatter",
         "x": [
          -3.753579560856663,
          -3.678150006537061,
          null
         ],
         "y": [
          40.54479435831404,
          40.45750039357669,
          null
         ]
        },
        {
         "hoverinfo": "text",
         "line": {
          "color": "rgba(84.66666666666667, 135.66666666666669, 189.66666666666669, 1.0)",
          "width": 1.3553226383804344
         },
         "mode": "lines",
         "showlegend": false,
         "text": "Width: 1.36",
         "type": "scatter",
         "x": [
          -3.753579560856663,
          -3.6999935507976827,
          null
         ],
         "y": [
          40.54479435831404,
          40.4606484776773,
          null
         ]
        },
        {
         "hoverinfo": "text",
         "line": {
          "color": "rgba(59.98039215686274, 88.58823529411765, 166.01960784313727, 1.0)",
          "width": 0.5541717645150094
         },
         "mode": "lines",
         "showlegend": false,
         "text": "Width: 0.55",
         "type": "scatter",
         "x": [
          -3.753579560856663,
          -3.703523951395161,
          null
         ],
         "y": [
          40.54479435831404,
          40.4375595509298,
          null
         ]
        },
        {
         "hoverinfo": "text",
         "line": {
          "color": "rgba(165.0, 0.0, 38.0, 1.0)",
          "width": 10
         },
         "mode": "lines",
         "showlegend": false,
         "text": "Width: 10.00",
         "type": "scatter",
         "x": [
          -3.753579560856663,
          -3.753579560856663,
          null
         ],
         "y": [
          40.54479435831404,
          40.54479435831404,
          null
         ]
        },
        {
         "hoverinfo": "text",
         "line": {
          "color": "rgba(66.25490196078432, 108.35294117647061, 175.74509803921572, 1.0)",
          "width": 0.8889833748566947
         },
         "mode": "lines",
         "showlegend": false,
         "text": "Width: 0.89",
         "type": "scatter",
         "x": [
          -3.753579560856663,
          -3.757223268157654,
          null
         ],
         "y": [
          40.54479435831404,
          40.44543508494524,
          null
         ]
        },
        {
         "hoverinfo": "text",
         "line": {
          "color": "rgba(49.0, 54.0, 149.0, 1.0)",
          "width": 0.5
         },
         "mode": "lines",
         "showlegend": false,
         "text": "Width: 0.50",
         "type": "scatter",
         "x": [
          -3.753579560856663,
          -3.778616540618283,
          null
         ],
         "y": [
          40.54479435831404,
          40.385273701511004,
          null
         ]
        },
        {
         "hoverinfo": "text",
         "line": {
          "color": "rgba(49.0, 54.0, 149.0, 1.0)",
          "width": 0.5
         },
         "mode": "lines",
         "showlegend": false,
         "text": "Width: 0.50",
         "type": "scatter",
         "x": [
          -3.753579560856663,
          -3.737112400757822,
          null
         ],
         "y": [
          40.54479435831404,
          40.378840354576816,
          null
         ]
        },
        {
         "hoverinfo": "text",
         "line": {
          "color": "rgba(49.0, 54.0, 149.0, 1.0)",
          "width": 0.5
         },
         "mode": "lines",
         "showlegend": false,
         "text": "Width: 0.50",
         "type": "scatter",
         "x": [
          -3.753579560856663,
          -3.7029808755455926,
          null
         ],
         "y": [
          40.54479435831404,
          40.37595000318738,
          null
         ]
        },
        {
         "hoverinfo": "text",
         "line": {
          "color": "rgba(49.0, 54.0, 149.0, 1.0)",
          "width": 0.5
         },
         "mode": "lines",
         "showlegend": false,
         "text": "Width: 0.50",
         "type": "scatter",
         "x": [
          -3.753579560856663,
          -3.6598634715735407,
          null
         ],
         "y": [
          40.54479435831404,
          40.38355078734683,
          null
         ]
        },
        {
         "hoverinfo": "text",
         "line": {
          "color": "rgba(49.0, 54.0, 149.0, 1.0)",
          "width": 0.5
         },
         "mode": "lines",
         "showlegend": false,
         "text": "Width: 0.50",
         "type": "scatter",
         "x": [
          -3.753579560856663,
          -3.6413909394895803,
          null
         ],
         "y": [
          40.54479435831404,
          40.40661270611631,
          null
         ]
        },
        {
         "hoverinfo": "text",
         "line": {
          "color": "rgba(53.705882352941174, 68.82352941176471, 156.2941176470588, 1.0)",
          "width": 0.5
         },
         "mode": "lines",
         "showlegend": false,
         "text": "Width: 0.50",
         "type": "scatter",
         "x": [
          -3.753579560856663,
          -3.649948514601449,
          null
         ],
         "y": [
          40.54479435831404,
          40.43926990707227,
          null
         ]
        },
        {
         "hoverinfo": "text",
         "line": {
          "color": "rgba(71.76470588235294, 120.29411764705884, 181.7058823529412, 1.0)",
          "width": 1.085683433811337
         },
         "mode": "lines",
         "showlegend": false,
         "text": "Width: 1.09",
         "type": "scatter",
         "x": [
          -3.753579560856663,
          -3.637741035389707,
          null
         ],
         "y": [
          40.54479435831404,
          40.48201214532898,
          null
         ]
        },
        {
         "hoverinfo": "text",
         "line": {
          "color": "rgba(49.0, 54.0, 149.0, 1.0)",
          "width": 0.5
         },
         "mode": "lines",
         "showlegend": false,
         "text": "Width: 0.50",
         "type": "scatter",
         "x": [
          -3.753579560856663,
          -3.695056256825152,
          null
         ],
         "y": [
          40.54479435831404,
          40.34253624126977,
          null
         ]
        },
        {
         "hoverinfo": "text",
         "line": {
          "color": "rgba(49.0, 54.0, 149.0, 1.0)",
          "width": 0.5
         },
         "mode": "lines",
         "showlegend": false,
         "text": "Width: 0.50",
         "type": "scatter",
         "x": [
          -3.753579560856663,
          -3.6160073912284756,
          null
         ],
         "y": [
          40.54479435831404,
          40.34992967757026,
          null
         ]
        },
        {
         "hoverinfo": "text",
         "line": {
          "color": "rgba(49.0, 54.0, 149.0, 1.0)",
          "width": 0.5
         },
         "mode": "lines",
         "showlegend": false,
         "text": "Width: 0.50",
         "type": "scatter",
         "x": [
          -3.753579560856663,
          -3.572894771748725,
          null
         ],
         "y": [
          40.54479435831404,
          40.39356859265691,
          null
         ]
        },
        {
         "hoverinfo": "text",
         "line": {
          "color": "rgba(51.35294117647059, 61.411764705882355, 152.64705882352942, 1.0)",
          "width": 0.5
         },
         "mode": "lines",
         "showlegend": false,
         "text": "Width: 0.50",
         "type": "scatter",
         "x": [
          -3.753579560856663,
          -3.5986526886701378,
          null
         ],
         "y": [
          40.54479435831404,
          40.43466852782298,
          null
         ]
        },
        {
         "hoverinfo": "text",
         "line": {
          "color": "rgba(51.35294117647059, 61.411764705882355, 152.64705882352942, 1.0)",
          "width": 0.5
         },
         "mode": "lines",
         "showlegend": false,
         "text": "Width: 0.50",
         "type": "scatter",
         "x": [
          -3.753579560856663,
          -3.574543479322823,
          null
         ],
         "y": [
          40.54479435831404,
          40.4757410696608,
          null
         ]
        },
        {
         "hoverinfo": "text",
         "line": {
          "color": "rgba(99.41176470588236, 153.2352941176471, 198.76470588235296, 1.0)",
          "width": 1.654734772567172
         },
         "mode": "lines",
         "showlegend": false,
         "text": "Width: 1.65",
         "type": "scatter",
         "x": [
          -3.757223268157654,
          -3.705268804063821,
          null
         ],
         "y": [
          40.44543508494524,
          40.41733007020507,
          null
         ]
        },
        {
         "hoverinfo": "text",
         "line": {
          "color": "rgba(54.490196078431374, 71.29411764705883, 157.50980392156865, 1.0)",
          "width": 0.5
         },
         "mode": "lines",
         "showlegend": false,
         "text": "Width: 0.50",
         "type": "scatter",
         "x": [
          -3.757223268157654,
          -3.6966151949203576,
          null
         ],
         "y": [
          40.44543508494524,
          40.398119933450886,
          null
         ]
        },
        {
         "hoverinfo": "text",
         "line": {
          "color": "rgba(52.13725490196079, 63.88235294117647, 153.86274509803923, 1.0)",
          "width": 0.5
         },
         "mode": "lines",
         "showlegend": false,
         "text": "Width: 0.50",
         "type": "scatter",
         "x": [
          -3.757223268157654,
          -3.67643837848883,
          null
         ],
         "y": [
          40.44543508494524,
          40.41138084576659,
          null
         ]
        },
        {
         "hoverinfo": "text",
         "line": {
          "color": "rgba(59.196078431372555, 86.11764705882355, 164.8039215686275, 1.0)",
          "width": 0.5234202568733339
         },
         "mode": "lines",
         "showlegend": false,
         "text": "Width: 0.52",
         "type": "scatter",
         "x": [
          -3.757223268157654,
          -3.6737887354917422,
          null
         ],
         "y": [
          40.44543508494524,
          40.43018370922185,
          null
         ]
        },
        {
         "hoverinfo": "text",
         "line": {
          "color": "rgba(59.196078431372555, 86.11764705882355, 164.8039215686275, 1.0)",
          "width": 0.5258513727369875
         },
         "mode": "lines",
         "showlegend": false,
         "text": "Width: 0.53",
         "type": "scatter",
         "x": [
          -3.757223268157654,
          -3.678150006537061,
          null
         ],
         "y": [
          40.44543508494524,
          40.45750039357669,
          null
         ]
        },
        {
         "hoverinfo": "text",
         "line": {
          "color": "rgba(97.5686274509804, 151.03921568627453, 197.62745098039218, 1.0)",
          "width": 1.6026398169888791
         },
         "mode": "lines",
         "showlegend": false,
         "text": "Width: 1.60",
         "type": "scatter",
         "x": [
          -3.757223268157654,
          -3.6999935507976827,
          null
         ],
         "y": [
          40.44543508494524,
          40.4606484776773,
          null
         ]
        },
        {
         "hoverinfo": "text",
         "line": {
          "color": "rgba(124.62745098039218, 179.90196078431376, 212.76470588235296, 1.0)",
          "width": 2.149337034196051
         },
         "mode": "lines",
         "showlegend": false,
         "text": "Width: 2.15",
         "type": "scatter",
         "x": [
          -3.757223268157654,
          -3.703523951395161,
          null
         ],
         "y": [
          40.44543508494524,
          40.4375595509298,
          null
         ]
        },
        {
         "hoverinfo": "text",
         "line": {
          "color": "rgba(93.88235294117649, 146.64705882352945, 195.3529411764706, 1.0)",
          "width": 1.5490951552432943
         },
         "mode": "lines",
         "showlegend": false,
         "text": "Width: 1.55",
         "type": "scatter",
         "x": [
          -3.757223268157654,
          -3.753579560856663,
          null
         ],
         "y": [
          40.44543508494524,
          40.54479435831404,
          null
         ]
        },
        {
         "hoverinfo": "text",
         "line": {
          "color": "rgba(254.8235294117647, 249.5294117647059, 182.70588235294122, 1.0)",
          "width": 5.159409583648314
         },
         "mode": "lines",
         "showlegend": false,
         "text": "Width: 5.16",
         "type": "scatter",
         "x": [
          -3.757223268157654,
          -3.757223268157654,
          null
         ],
         "y": [
          40.44543508494524,
          40.44543508494524,
          null
         ]
        },
        {
         "hoverinfo": "text",
         "line": {
          "color": "rgba(95.72549019607845, 148.843137254902, 196.49019607843138, 1.0)",
          "width": 1.573688093929978
         },
         "mode": "lines",
         "showlegend": false,
         "text": "Width: 1.57",
         "type": "scatter",
         "x": [
          -3.757223268157654,
          -3.778616540618283,
          null
         ],
         "y": [
          40.44543508494524,
          40.385273701511004,
          null
         ]
        },
        {
         "hoverinfo": "text",
         "line": {
          "color": "rgba(53.705882352941174, 68.82352941176471, 156.2941176470588, 1.0)",
          "width": 0.5
         },
         "mode": "lines",
         "showlegend": false,
         "text": "Width: 0.50",
         "type": "scatter",
         "x": [
          -3.757223268157654,
          -3.737112400757822,
          null
         ],
         "y": [
          40.44543508494524,
          40.378840354576816,
          null
         ]
        },
        {
         "hoverinfo": "text",
         "line": {
          "color": "rgba(49.7843137254902, 56.470588235294116, 150.21568627450984, 1.0)",
          "width": 0.5
         },
         "mode": "lines",
         "showlegend": false,
         "text": "Width: 0.50",
         "type": "scatter",
         "x": [
          -3.757223268157654,
          -3.7029808755455926,
          null
         ],
         "y": [
          40.44543508494524,
          40.37595000318738,
          null
         ]
        },
        {
         "hoverinfo": "text",
         "line": {
          "color": "rgba(49.7843137254902, 56.470588235294116, 150.21568627450984, 1.0)",
          "width": 0.5
         },
         "mode": "lines",
         "showlegend": false,
         "text": "Width: 0.50",
         "type": "scatter",
         "x": [
          -3.757223268157654,
          -3.6598634715735407,
          null
         ],
         "y": [
          40.44543508494524,
          40.38355078734683,
          null
         ]
        },
        {
         "hoverinfo": "text",
         "line": {
          "color": "rgba(49.0, 54.0, 149.0, 1.0)",
          "width": 0.5
         },
         "mode": "lines",
         "showlegend": false,
         "text": "Width: 0.50",
         "type": "scatter",
         "x": [
          -3.757223268157654,
          -3.6413909394895803,
          null
         ],
         "y": [
          40.44543508494524,
          40.40661270611631,
          null
         ]
        },
        {
         "hoverinfo": "text",
         "line": {
          "color": "rgba(51.35294117647059, 61.411764705882355, 152.64705882352942, 1.0)",
          "width": 0.5
         },
         "mode": "lines",
         "showlegend": false,
         "text": "Width: 0.50",
         "type": "scatter",
         "x": [
          -3.757223268157654,
          -3.649948514601449,
          null
         ],
         "y": [
          40.44543508494524,
          40.43926990707227,
          null
         ]
        },
        {
         "hoverinfo": "text",
         "line": {
          "color": "rgba(52.92156862745099, 66.35294117647058, 155.07843137254903, 1.0)",
          "width": 0.5
         },
         "mode": "lines",
         "showlegend": false,
         "text": "Width: 0.50",
         "type": "scatter",
         "x": [
          -3.757223268157654,
          -3.637741035389707,
          null
         ],
         "y": [
          40.44543508494524,
          40.48201214532898,
          null
         ]
        },
        {
         "hoverinfo": "text",
         "line": {
          "color": "rgba(49.0, 54.0, 149.0, 1.0)",
          "width": 0.5
         },
         "mode": "lines",
         "showlegend": false,
         "text": "Width: 0.50",
         "type": "scatter",
         "x": [
          -3.757223268157654,
          -3.695056256825152,
          null
         ],
         "y": [
          40.44543508494524,
          40.34253624126977,
          null
         ]
        },
        {
         "hoverinfo": "text",
         "line": {
          "color": "rgba(49.0, 54.0, 149.0, 1.0)",
          "width": 0.5
         },
         "mode": "lines",
         "showlegend": false,
         "text": "Width: 0.50",
         "type": "scatter",
         "x": [
          -3.757223268157654,
          -3.6160073912284756,
          null
         ],
         "y": [
          40.44543508494524,
          40.34992967757026,
          null
         ]
        },
        {
         "hoverinfo": "text",
         "line": {
          "color": "rgba(49.0, 54.0, 149.0, 1.0)",
          "width": 0.5
         },
         "mode": "lines",
         "showlegend": false,
         "text": "Width: 0.50",
         "type": "scatter",
         "x": [
          -3.757223268157654,
          -3.572894771748725,
          null
         ],
         "y": [
          40.44543508494524,
          40.39356859265691,
          null
         ]
        },
        {
         "hoverinfo": "text",
         "line": {
          "color": "rgba(50.568627450980394, 58.94117647058823, 151.4313725490196, 1.0)",
          "width": 0.5
         },
         "mode": "lines",
         "showlegend": false,
         "text": "Width: 0.50",
         "type": "scatter",
         "x": [
          -3.757223268157654,
          -3.5986526886701378,
          null
         ],
         "y": [
          40.44543508494524,
          40.43466852782298,
          null
         ]
        },
        {
         "hoverinfo": "text",
         "line": {
          "color": "rgba(50.568627450980394, 58.94117647058823, 151.4313725490196, 1.0)",
          "width": 0.5
         },
         "mode": "lines",
         "showlegend": false,
         "text": "Width: 0.50",
         "type": "scatter",
         "x": [
          -3.757223268157654,
          -3.574543479322823,
          null
         ],
         "y": [
          40.44543508494524,
          40.4757410696608,
          null
         ]
        },
        {
         "hoverinfo": "text",
         "line": {
          "color": "rgba(79.13725490196079, 129.07843137254903, 186.25490196078434, 1.0)",
          "width": 1.2167808694329036
         },
         "mode": "lines",
         "showlegend": false,
         "text": "Width: 1.22",
         "type": "scatter",
         "x": [
          -3.778616540618283,
          -3.705268804063821,
          null
         ],
         "y": [
          40.385273701511004,
          40.41733007020507,
          null
         ]
        },
        {
         "hoverinfo": "text",
         "line": {
          "color": "rgba(59.98039215686274, 88.58823529411765, 166.01960784313727, 1.0)",
          "width": 0.5835580682554772
         },
         "mode": "lines",
         "showlegend": false,
         "text": "Width: 0.58",
         "type": "scatter",
         "x": [
          -3.778616540618283,
          -3.6966151949203576,
          null
         ],
         "y": [
          40.385273701511004,
          40.398119933450886,
          null
         ]
        },
        {
         "hoverinfo": "text",
         "line": {
          "color": "rgba(52.92156862745099, 66.35294117647058, 155.07843137254903, 1.0)",
          "width": 0.5
         },
         "mode": "lines",
         "showlegend": false,
         "text": "Width: 0.50",
         "type": "scatter",
         "x": [
          -3.778616540618283,
          -3.67643837848883,
          null
         ],
         "y": [
          40.385273701511004,
          40.41138084576659,
          null
         ]
        },
        {
         "hoverinfo": "text",
         "line": {
          "color": "rgba(56.05882352941177, 76.23529411764707, 159.94117647058823, 1.0)",
          "width": 0.5
         },
         "mode": "lines",
         "showlegend": false,
         "text": "Width: 0.50",
         "type": "scatter",
         "x": [
          -3.778616540618283,
          -3.6737887354917422,
          null
         ],
         "y": [
          40.385273701511004,
          40.43018370922185,
          null
         ]
        },
        {
         "hoverinfo": "text",
         "line": {
          "color": "rgba(55.274509803921575, 73.76470588235294, 158.72549019607845, 1.0)",
          "width": 0.5
         },
         "mode": "lines",
         "showlegend": false,
         "text": "Width: 0.50",
         "type": "scatter",
         "x": [
          -3.778616540618283,
          -3.678150006537061,
          null
         ],
         "y": [
          40.385273701511004,
          40.45750039357669,
          null
         ]
        },
        {
         "hoverinfo": "text",
         "line": {
          "color": "rgba(53.705882352941174, 68.82352941176471, 156.2941176470588, 1.0)",
          "width": 0.5
         },
         "mode": "lines",
         "showlegend": false,
         "text": "Width: 0.50",
         "type": "scatter",
         "x": [
          -3.778616540618283,
          -3.6999935507976827,
          null
         ],
         "y": [
          40.385273701511004,
          40.4606484776773,
          null
         ]
        },
        {
         "hoverinfo": "text",
         "line": {
          "color": "rgba(63.11764705882353, 98.47058823529413, 170.88235294117646, 1.0)",
          "width": 0.7352455281353523
         },
         "mode": "lines",
         "showlegend": false,
         "text": "Width: 0.74",
         "type": "scatter",
         "x": [
          -3.778616540618283,
          -3.703523951395161,
          null
         ],
         "y": [
          40.385273701511004,
          40.4375595509298,
          null
         ]
        },
        {
         "hoverinfo": "text",
         "line": {
          "color": "rgba(55.274509803921575, 73.76470588235294, 158.72549019607845, 1.0)",
          "width": 0.5
         },
         "mode": "lines",
         "showlegend": false,
         "text": "Width: 0.50",
         "type": "scatter",
         "x": [
          -3.778616540618283,
          -3.753579560856663,
          null
         ],
         "y": [
          40.385273701511004,
          40.54479435831404,
          null
         ]
        },
        {
         "hoverinfo": "text",
         "line": {
          "color": "rgba(108.62745098039218, 164.21568627450984, 204.45098039215688, 1.0)",
          "width": 1.8641946452408502
         },
         "mode": "lines",
         "showlegend": false,
         "text": "Width: 1.86",
         "type": "scatter",
         "x": [
          -3.778616540618283,
          -3.757223268157654,
          null
         ],
         "y": [
          40.385273701511004,
          40.44543508494524,
          null
         ]
        },
        {
         "hoverinfo": "text",
         "line": {
          "color": "rgba(253.33333333333334, 190.66666666666666, 112.66666666666666, 1.0)",
          "width": 6.6679724309359445
         },
         "mode": "lines",
         "showlegend": false,
         "text": "Width: 6.67",
         "type": "scatter",
         "x": [
          -3.778616540618283,
          -3.778616540618283,
          null
         ],
         "y": [
          40.385273701511004,
          40.385273701511004,
          null
         ]
        },
        {
         "hoverinfo": "text",
         "line": {
          "color": "rgba(144.03921568627453, 195.4313725490196, 221.23529411764707, 1.0)",
          "width": 2.5125274409192366
         },
         "mode": "lines",
         "showlegend": false,
         "text": "Width: 2.51",
         "type": "scatter",
         "x": [
          -3.778616540618283,
          -3.737112400757822,
          null
         ],
         "y": [
          40.385273701511004,
          40.378840354576816,
          null
         ]
        },
        {
         "hoverinfo": "text",
         "line": {
          "color": "rgba(52.92156862745099, 66.35294117647058, 155.07843137254903, 1.0)",
          "width": 0.5
         },
         "mode": "lines",
         "showlegend": false,
         "text": "Width: 0.50",
         "type": "scatter",
         "x": [
          -3.778616540618283,
          -3.7029808755455926,
          null
         ],
         "y": [
          40.385273701511004,
          40.37595000318738,
          null
         ]
        },
        {
         "hoverinfo": "text",
         "line": {
          "color": "rgba(51.35294117647059, 61.411764705882355, 152.64705882352942, 1.0)",
          "width": 0.5
         },
         "mode": "lines",
         "showlegend": false,
         "text": "Width: 0.50",
         "type": "scatter",
         "x": [
          -3.778616540618283,
          -3.6598634715735407,
          null
         ],
         "y": [
          40.385273701511004,
          40.38355078734683,
          null
         ]
        },
        {
         "hoverinfo": "text",
         "line": {
          "color": "rgba(49.0, 54.0, 149.0, 1.0)",
          "width": 0.5
         },
         "mode": "lines",
         "showlegend": false,
         "text": "Width: 0.50",
         "type": "scatter",
         "x": [
          -3.778616540618283,
          -3.6413909394895803,
          null
         ],
         "y": [
          40.385273701511004,
          40.40661270611631,
          null
         ]
        },
        {
         "hoverinfo": "text",
         "line": {
          "color": "rgba(51.35294117647059, 61.411764705882355, 152.64705882352942, 1.0)",
          "width": 0.5
         },
         "mode": "lines",
         "showlegend": false,
         "text": "Width: 0.50",
         "type": "scatter",
         "x": [
          -3.778616540618283,
          -3.649948514601449,
          null
         ],
         "y": [
          40.385273701511004,
          40.43926990707227,
          null
         ]
        },
        {
         "hoverinfo": "text",
         "line": {
          "color": "rgba(51.35294117647059, 61.411764705882355, 152.64705882352942, 1.0)",
          "width": 0.5
         },
         "mode": "lines",
         "showlegend": false,
         "text": "Width: 0.50",
         "type": "scatter",
         "x": [
          -3.778616540618283,
          -3.637741035389707,
          null
         ],
         "y": [
          40.385273701511004,
          40.48201214532898,
          null
         ]
        },
        {
         "hoverinfo": "text",
         "line": {
          "color": "rgba(51.35294117647059, 61.411764705882355, 152.64705882352942, 1.0)",
          "width": 0.5
         },
         "mode": "lines",
         "showlegend": false,
         "text": "Width: 0.50",
         "type": "scatter",
         "x": [
          -3.778616540618283,
          -3.695056256825152,
          null
         ],
         "y": [
          40.385273701511004,
          40.34253624126977,
          null
         ]
        },
        {
         "hoverinfo": "text",
         "line": {
          "color": "rgba(50.568627450980394, 58.94117647058823, 151.4313725490196, 1.0)",
          "width": 0.5
         },
         "mode": "lines",
         "showlegend": false,
         "text": "Width: 0.50",
         "type": "scatter",
         "x": [
          -3.778616540618283,
          -3.6160073912284756,
          null
         ],
         "y": [
          40.385273701511004,
          40.34992967757026,
          null
         ]
        },
        {
         "hoverinfo": "text",
         "line": {
          "color": "rgba(49.0, 54.0, 149.0, 1.0)",
          "width": 0.5
         },
         "mode": "lines",
         "showlegend": false,
         "text": "Width: 0.50",
         "type": "scatter",
         "x": [
          -3.778616540618283,
          -3.572894771748725,
          null
         ],
         "y": [
          40.385273701511004,
          40.39356859265691,
          null
         ]
        },
        {
         "hoverinfo": "text",
         "line": {
          "color": "rgba(51.35294117647059, 61.411764705882355, 152.64705882352942, 1.0)",
          "width": 0.5
         },
         "mode": "lines",
         "showlegend": false,
         "text": "Width: 0.50",
         "type": "scatter",
         "x": [
          -3.778616540618283,
          -3.5986526886701378,
          null
         ],
         "y": [
          40.385273701511004,
          40.43466852782298,
          null
         ]
        },
        {
         "hoverinfo": "text",
         "line": {
          "color": "rgba(50.568627450980394, 58.94117647058823, 151.4313725490196, 1.0)",
          "width": 0.5
         },
         "mode": "lines",
         "showlegend": false,
         "text": "Width: 0.50",
         "type": "scatter",
         "x": [
          -3.778616540618283,
          -3.574543479322823,
          null
         ],
         "y": [
          40.385273701511004,
          40.4757410696608,
          null
         ]
        },
        {
         "hoverinfo": "text",
         "line": {
          "color": "rgba(67.8235294117647, 113.29411764705883, 178.1764705882353, 1.0)",
          "width": 0.9679348906853183
         },
         "mode": "lines",
         "showlegend": false,
         "text": "Width: 0.97",
         "type": "scatter",
         "x": [
          -3.737112400757822,
          -3.705268804063821,
          null
         ],
         "y": [
          40.378840354576816,
          40.41733007020507,
          null
         ]
        },
        {
         "hoverinfo": "text",
         "line": {
          "color": "rgba(75.45098039215688, 124.68627450980394, 183.98039215686276, 1.0)",
          "width": 1.1435033319077994
         },
         "mode": "lines",
         "showlegend": false,
         "text": "Width: 1.14",
         "type": "scatter",
         "x": [
          -3.737112400757822,
          -3.6966151949203576,
          null
         ],
         "y": [
          40.378840354576816,
          40.398119933450886,
          null
         ]
        },
        {
         "hoverinfo": "text",
         "line": {
          "color": "rgba(53.705882352941174, 68.82352941176471, 156.2941176470588, 1.0)",
          "width": 0.5
         },
         "mode": "lines",
         "showlegend": false,
         "text": "Width: 0.50",
         "type": "scatter",
         "x": [
          -3.737112400757822,
          -3.67643837848883,
          null
         ],
         "y": [
          40.378840354576816,
          40.41138084576659,
          null
         ]
        },
        {
         "hoverinfo": "text",
         "line": {
          "color": "rgba(56.84313725490196, 78.70588235294117, 161.15686274509807, 1.0)",
          "width": 0.5
         },
         "mode": "lines",
         "showlegend": false,
         "text": "Width: 0.50",
         "type": "scatter",
         "x": [
          -3.737112400757822,
          -3.6737887354917422,
          null
         ],
         "y": [
          40.378840354576816,
          40.43018370922185,
          null
         ]
        },
        {
         "hoverinfo": "text",
         "line": {
          "color": "rgba(54.490196078431374, 71.29411764705883, 157.50980392156865, 1.0)",
          "width": 0.5
         },
         "mode": "lines",
         "showlegend": false,
         "text": "Width: 0.50",
         "type": "scatter",
         "x": [
          -3.737112400757822,
          -3.678150006537061,
          null
         ],
         "y": [
          40.378840354576816,
          40.45750039357669,
          null
         ]
        },
        {
         "hoverinfo": "text",
         "line": {
          "color": "rgba(52.13725490196079, 63.88235294117647, 153.86274509803923, 1.0)",
          "width": 0.5
         },
         "mode": "lines",
         "showlegend": false,
         "text": "Width: 0.50",
         "type": "scatter",
         "x": [
          -3.737112400757822,
          -3.6999935507976827,
          null
         ],
         "y": [
          40.378840354576816,
          40.4606484776773,
          null
         ]
        },
        {
         "hoverinfo": "text",
         "line": {
          "color": "rgba(58.411764705882355, 83.64705882352942, 163.58823529411765, 1.0)",
          "width": 0.5
         },
         "mode": "lines",
         "showlegend": false,
         "text": "Width: 0.50",
         "type": "scatter",
         "x": [
          -3.737112400757822,
          -3.703523951395161,
          null
         ],
         "y": [
          40.378840354576816,
          40.4375595509298,
          null
         ]
        },
        {
         "hoverinfo": "text",
         "line": {
          "color": "rgba(53.705882352941174, 68.82352941176471, 156.2941176470588, 1.0)",
          "width": 0.5
         },
         "mode": "lines",
         "showlegend": false,
         "text": "Width: 0.50",
         "type": "scatter",
         "x": [
          -3.737112400757822,
          -3.753579560856663,
          null
         ],
         "y": [
          40.378840354576816,
          40.54479435831404,
          null
         ]
        },
        {
         "hoverinfo": "text",
         "line": {
          "color": "rgba(58.411764705882355, 83.64705882352942, 163.58823529411765, 1.0)",
          "width": 0.5
         },
         "mode": "lines",
         "showlegend": false,
         "text": "Width: 0.50",
         "type": "scatter",
         "x": [
          -3.737112400757822,
          -3.757223268157654,
          null
         ],
         "y": [
          40.378840354576816,
          40.44543508494524,
          null
         ]
        },
        {
         "hoverinfo": "text",
         "line": {
          "color": "rgba(110.47058823529414, 166.41176470588238, 205.58823529411765, 1.0)",
          "width": 1.8792121471202452
         },
         "mode": "lines",
         "showlegend": false,
         "text": "Width: 1.88",
         "type": "scatter",
         "x": [
          -3.737112400757822,
          -3.778616540618283,
          null
         ],
         "y": [
          40.378840354576816,
          40.385273701511004,
          null
         ]
        },
        {
         "hoverinfo": "text",
         "line": {
          "color": "rgba(252.47058823529414, 170.17647058823536, 95.23529411764709, 1.0)",
          "width": 7.058393672440286
         },
         "mode": "lines",
         "showlegend": false,
         "text": "Width: 7.06",
         "type": "scatter",
         "x": [
          -3.737112400757822,
          -3.737112400757822,
          null
         ],
         "y": [
          40.378840354576816,
          40.378840354576816,
          null
         ]
        },
        {
         "hoverinfo": "text",
         "line": {
          "color": "rgba(93.88235294117649, 146.64705882352945, 195.3529411764706, 1.0)",
          "width": 1.528562187168685
         },
         "mode": "lines",
         "showlegend": false,
         "text": "Width: 1.53",
         "type": "scatter",
         "x": [
          -3.737112400757822,
          -3.7029808755455926,
          null
         ],
         "y": [
          40.378840354576816,
          40.37595000318738,
          null
         ]
        },
        {
         "hoverinfo": "text",
         "line": {
          "color": "rgba(52.13725490196079, 63.88235294117647, 153.86274509803923, 1.0)",
          "width": 0.5
         },
         "mode": "lines",
         "showlegend": false,
         "text": "Width: 0.50",
         "type": "scatter",
         "x": [
          -3.737112400757822,
          -3.6598634715735407,
          null
         ],
         "y": [
          40.378840354576816,
          40.38355078734683,
          null
         ]
        },
        {
         "hoverinfo": "text",
         "line": {
          "color": "rgba(49.0, 54.0, 149.0, 1.0)",
          "width": 0.5
         },
         "mode": "lines",
         "showlegend": false,
         "text": "Width: 0.50",
         "type": "scatter",
         "x": [
          -3.737112400757822,
          -3.6413909394895803,
          null
         ],
         "y": [
          40.378840354576816,
          40.40661270611631,
          null
         ]
        },
        {
         "hoverinfo": "text",
         "line": {
          "color": "rgba(52.13725490196079, 63.88235294117647, 153.86274509803923, 1.0)",
          "width": 0.5
         },
         "mode": "lines",
         "showlegend": false,
         "text": "Width: 0.50",
         "type": "scatter",
         "x": [
          -3.737112400757822,
          -3.649948514601449,
          null
         ],
         "y": [
          40.378840354576816,
          40.43926990707227,
          null
         ]
        },
        {
         "hoverinfo": "text",
         "line": {
          "color": "rgba(51.35294117647059, 61.411764705882355, 152.64705882352942, 1.0)",
          "width": 0.5
         },
         "mode": "lines",
         "showlegend": false,
         "text": "Width: 0.50",
         "type": "scatter",
         "x": [
          -3.737112400757822,
          -3.637741035389707,
          null
         ],
         "y": [
          40.378840354576816,
          40.48201214532898,
          null
         ]
        },
        {
         "hoverinfo": "text",
         "line": {
          "color": "rgba(56.05882352941177, 76.23529411764707, 159.94117647058823, 1.0)",
          "width": 0.5
         },
         "mode": "lines",
         "showlegend": false,
         "text": "Width: 0.50",
         "type": "scatter",
         "x": [
          -3.737112400757822,
          -3.695056256825152,
          null
         ],
         "y": [
          40.378840354576816,
          40.34253624126977,
          null
         ]
        },
        {
         "hoverinfo": "text",
         "line": {
          "color": "rgba(51.35294117647059, 61.411764705882355, 152.64705882352942, 1.0)",
          "width": 0.5
         },
         "mode": "lines",
         "showlegend": false,
         "text": "Width: 0.50",
         "type": "scatter",
         "x": [
          -3.737112400757822,
          -3.6160073912284756,
          null
         ],
         "y": [
          40.378840354576816,
          40.34992967757026,
          null
         ]
        },
        {
         "hoverinfo": "text",
         "line": {
          "color": "rgba(49.0, 54.0, 149.0, 1.0)",
          "width": 0.5
         },
         "mode": "lines",
         "showlegend": false,
         "text": "Width: 0.50",
         "type": "scatter",
         "x": [
          -3.737112400757822,
          -3.572894771748725,
          null
         ],
         "y": [
          40.378840354576816,
          40.39356859265691,
          null
         ]
        },
        {
         "hoverinfo": "text",
         "line": {
          "color": "rgba(51.35294117647059, 61.411764705882355, 152.64705882352942, 1.0)",
          "width": 0.5
         },
         "mode": "lines",
         "showlegend": false,
         "text": "Width: 0.50",
         "type": "scatter",
         "x": [
          -3.737112400757822,
          -3.5986526886701378,
          null
         ],
         "y": [
          40.378840354576816,
          40.43466852782298,
          null
         ]
        },
        {
         "hoverinfo": "text",
         "line": {
          "color": "rgba(50.568627450980394, 58.94117647058823, 151.4313725490196, 1.0)",
          "width": 0.5
         },
         "mode": "lines",
         "showlegend": false,
         "text": "Width: 0.50",
         "type": "scatter",
         "x": [
          -3.737112400757822,
          -3.574543479322823,
          null
         ],
         "y": [
          40.378840354576816,
          40.4757410696608,
          null
         ]
        },
        {
         "hoverinfo": "text",
         "line": {
          "color": "rgba(68.6078431372549, 115.76470588235296, 179.3921568627451, 1.0)",
          "width": 1.0025042115301892
         },
         "mode": "lines",
         "showlegend": false,
         "text": "Width: 1.00",
         "type": "scatter",
         "x": [
          -3.7029808755455926,
          -3.705268804063821,
          null
         ],
         "y": [
          40.37595000318738,
          40.41733007020507,
          null
         ]
        },
        {
         "hoverinfo": "text",
         "line": {
          "color": "rgba(99.41176470588236, 153.2352941176471, 198.76470588235296, 1.0)",
          "width": 1.6774145703628087
         },
         "mode": "lines",
         "showlegend": false,
         "text": "Width: 1.68",
         "type": "scatter",
         "x": [
          -3.7029808755455926,
          -3.6966151949203576,
          null
         ],
         "y": [
          40.37595000318738,
          40.398119933450886,
          null
         ]
        },
        {
         "hoverinfo": "text",
         "line": {
          "color": "rgba(55.274509803921575, 73.76470588235294, 158.72549019607845, 1.0)",
          "width": 0.5
         },
         "mode": "lines",
         "showlegend": false,
         "text": "Width: 0.50",
         "type": "scatter",
         "x": [
          -3.7029808755455926,
          -3.67643837848883,
          null
         ],
         "y": [
          40.37595000318738,
          40.41138084576659,
          null
         ]
        },
        {
         "hoverinfo": "text",
         "line": {
          "color": "rgba(56.84313725490196, 78.70588235294117, 161.15686274509807, 1.0)",
          "width": 0.5
         },
         "mode": "lines",
         "showlegend": false,
         "text": "Width: 0.50",
         "type": "scatter",
         "x": [
          -3.7029808755455926,
          -3.6737887354917422,
          null
         ],
         "y": [
          40.37595000318738,
          40.43018370922185,
          null
         ]
        },
        {
         "hoverinfo": "text",
         "line": {
          "color": "rgba(54.490196078431374, 71.29411764705883, 157.50980392156865, 1.0)",
          "width": 0.5
         },
         "mode": "lines",
         "showlegend": false,
         "text": "Width: 0.50",
         "type": "scatter",
         "x": [
          -3.7029808755455926,
          -3.678150006537061,
          null
         ],
         "y": [
          40.37595000318738,
          40.45750039357669,
          null
         ]
        },
        {
         "hoverinfo": "text",
         "line": {
          "color": "rgba(52.13725490196079, 63.88235294117647, 153.86274509803923, 1.0)",
          "width": 0.5
         },
         "mode": "lines",
         "showlegend": false,
         "text": "Width: 0.50",
         "type": "scatter",
         "x": [
          -3.7029808755455926,
          -3.6999935507976827,
          null
         ],
         "y": [
          40.37595000318738,
          40.4606484776773,
          null
         ]
        },
        {
         "hoverinfo": "text",
         "line": {
          "color": "rgba(56.84313725490196, 78.70588235294117, 161.15686274509807, 1.0)",
          "width": 0.5
         },
         "mode": "lines",
         "showlegend": false,
         "text": "Width: 0.50",
         "type": "scatter",
         "x": [
          -3.7029808755455926,
          -3.703523951395161,
          null
         ],
         "y": [
          40.37595000318738,
          40.4375595509298,
          null
         ]
        },
        {
         "hoverinfo": "text",
         "line": {
          "color": "rgba(53.705882352941174, 68.82352941176471, 156.2941176470588, 1.0)",
          "width": 0.5
         },
         "mode": "lines",
         "showlegend": false,
         "text": "Width: 0.50",
         "type": "scatter",
         "x": [
          -3.7029808755455926,
          -3.753579560856663,
          null
         ],
         "y": [
          40.37595000318738,
          40.54479435831404,
          null
         ]
        },
        {
         "hoverinfo": "text",
         "line": {
          "color": "rgba(55.274509803921575, 73.76470588235294, 158.72549019607845, 1.0)",
          "width": 0.5
         },
         "mode": "lines",
         "showlegend": false,
         "text": "Width: 0.50",
         "type": "scatter",
         "x": [
          -3.7029808755455926,
          -3.757223268157654,
          null
         ],
         "y": [
          40.37595000318738,
          40.44543508494524,
          null
         ]
        },
        {
         "hoverinfo": "text",
         "line": {
          "color": "rgba(54.490196078431374, 71.29411764705883, 157.50980392156865, 1.0)",
          "width": 0.5
         },
         "mode": "lines",
         "showlegend": false,
         "text": "Width: 0.50",
         "type": "scatter",
         "x": [
          -3.7029808755455926,
          -3.778616540618283,
          null
         ],
         "y": [
          40.37595000318738,
          40.385273701511004,
          null
         ]
        },
        {
         "hoverinfo": "text",
         "line": {
          "color": "rgba(112.31372549019609, 168.60784313725495, 206.72549019607843, 1.0)",
          "width": 1.9164462270946347
         },
         "mode": "lines",
         "showlegend": false,
         "text": "Width: 1.92",
         "type": "scatter",
         "x": [
          -3.7029808755455926,
          -3.737112400757822,
          null
         ],
         "y": [
          40.37595000318738,
          40.378840354576816,
          null
         ]
        },
        {
         "hoverinfo": "text",
         "line": {
          "color": "rgba(254.31372549019608, 233.72549019607843, 158.7450980392157, 1.0)",
          "width": 5.679841612360176
         },
         "mode": "lines",
         "showlegend": false,
         "text": "Width: 5.68",
         "type": "scatter",
         "x": [
          -3.7029808755455926,
          -3.7029808755455926,
          null
         ],
         "y": [
          40.37595000318738,
          40.37595000318738,
          null
         ]
        },
        {
         "hoverinfo": "text",
         "line": {
          "color": "rgba(64.68627450980392, 103.41176470588235, 173.3137254901961, 1.0)",
          "width": 0.7970015464268183
         },
         "mode": "lines",
         "showlegend": false,
         "text": "Width: 0.80",
         "type": "scatter",
         "x": [
          -3.7029808755455926,
          -3.6598634715735407,
          null
         ],
         "y": [
          40.37595000318738,
          40.38355078734683,
          null
         ]
        },
        {
         "hoverinfo": "text",
         "line": {
          "color": "rgba(50.568627450980394, 58.94117647058823, 151.4313725490196, 1.0)",
          "width": 0.5
         },
         "mode": "lines",
         "showlegend": false,
         "text": "Width: 0.50",
         "type": "scatter",
         "x": [
          -3.7029808755455926,
          -3.6413909394895803,
          null
         ],
         "y": [
          40.37595000318738,
          40.40661270611631,
          null
         ]
        },
        {
         "hoverinfo": "text",
         "line": {
          "color": "rgba(52.13725490196079, 63.88235294117647, 153.86274509803923, 1.0)",
          "width": 0.5
         },
         "mode": "lines",
         "showlegend": false,
         "text": "Width: 0.50",
         "type": "scatter",
         "x": [
          -3.7029808755455926,
          -3.649948514601449,
          null
         ],
         "y": [
          40.37595000318738,
          40.43926990707227,
          null
         ]
        },
        {
         "hoverinfo": "text",
         "line": {
          "color": "rgba(51.35294117647059, 61.411764705882355, 152.64705882352942, 1.0)",
          "width": 0.5
         },
         "mode": "lines",
         "showlegend": false,
         "text": "Width: 0.50",
         "type": "scatter",
         "x": [
          -3.7029808755455926,
          -3.637741035389707,
          null
         ],
         "y": [
          40.37595000318738,
          40.48201214532898,
          null
         ]
        },
        {
         "hoverinfo": "text",
         "line": {
          "color": "rgba(97.5686274509804, 151.03921568627453, 197.62745098039218, 1.0)",
          "width": 1.6089348685740867
         },
         "mode": "lines",
         "showlegend": false,
         "text": "Width: 1.61",
         "type": "scatter",
         "x": [
          -3.7029808755455926,
          -3.695056256825152,
          null
         ],
         "y": [
          40.37595000318738,
          40.34253624126977,
          null
         ]
        },
        {
         "hoverinfo": "text",
         "line": {
          "color": "rgba(53.705882352941174, 68.82352941176471, 156.2941176470588, 1.0)",
          "width": 0.5
         },
         "mode": "lines",
         "showlegend": false,
         "text": "Width: 0.50",
         "type": "scatter",
         "x": [
          -3.7029808755455926,
          -3.6160073912284756,
          null
         ],
         "y": [
          40.37595000318738,
          40.34992967757026,
          null
         ]
        },
        {
         "hoverinfo": "text",
         "line": {
          "color": "rgba(49.7843137254902, 56.470588235294116, 150.21568627450984, 1.0)",
          "width": 0.5
         },
         "mode": "lines",
         "showlegend": false,
         "text": "Width: 0.50",
         "type": "scatter",
         "x": [
          -3.7029808755455926,
          -3.572894771748725,
          null
         ],
         "y": [
          40.37595000318738,
          40.39356859265691,
          null
         ]
        },
        {
         "hoverinfo": "text",
         "line": {
          "color": "rgba(51.35294117647059, 61.411764705882355, 152.64705882352942, 1.0)",
          "width": 0.5
         },
         "mode": "lines",
         "showlegend": false,
         "text": "Width: 0.50",
         "type": "scatter",
         "x": [
          -3.7029808755455926,
          -3.5986526886701378,
          null
         ],
         "y": [
          40.37595000318738,
          40.43466852782298,
          null
         ]
        },
        {
         "hoverinfo": "text",
         "line": {
          "color": "rgba(50.568627450980394, 58.94117647058823, 151.4313725490196, 1.0)",
          "width": 0.5
         },
         "mode": "lines",
         "showlegend": false,
         "text": "Width: 0.50",
         "type": "scatter",
         "x": [
          -3.7029808755455926,
          -3.574543479322823,
          null
         ],
         "y": [
          40.37595000318738,
          40.4757410696608,
          null
         ]
        },
        {
         "hoverinfo": "text",
         "line": {
          "color": "rgba(62.333333333333336, 96.0, 169.66666666666669, 1.0)",
          "width": 0.6796012138195493
         },
         "mode": "lines",
         "showlegend": false,
         "text": "Width: 0.68",
         "type": "scatter",
         "x": [
          -3.6598634715735407,
          -3.705268804063821,
          null
         ],
         "y": [
          40.38355078734683,
          40.41733007020507,
          null
         ]
        },
        {
         "hoverinfo": "text",
         "line": {
          "color": "rgba(62.333333333333336, 96.0, 169.66666666666669, 1.0)",
          "width": 0.7020493421488324
         },
         "mode": "lines",
         "showlegend": false,
         "text": "Width: 0.70",
         "type": "scatter",
         "x": [
          -3.6598634715735407,
          -3.6966151949203576,
          null
         ],
         "y": [
          40.38355078734683,
          40.398119933450886,
          null
         ]
        },
        {
         "hoverinfo": "text",
         "line": {
          "color": "rgba(84.66666666666667, 135.66666666666669, 189.66666666666669, 1.0)",
          "width": 1.3545001283765241
         },
         "mode": "lines",
         "showlegend": false,
         "text": "Width: 1.35",
         "type": "scatter",
         "x": [
          -3.6598634715735407,
          -3.67643837848883,
          null
         ],
         "y": [
          40.38355078734683,
          40.41138084576659,
          null
         ]
        },
        {
         "hoverinfo": "text",
         "line": {
          "color": "rgba(59.196078431372555, 86.11764705882355, 164.8039215686275, 1.0)",
          "width": 0.525588152236802
         },
         "mode": "lines",
         "showlegend": false,
         "text": "Width: 0.53",
         "type": "scatter",
         "x": [
          -3.6598634715735407,
          -3.6737887354917422,
          null
         ],
         "y": [
          40.38355078734683,
          40.43018370922185,
          null
         ]
        },
        {
         "hoverinfo": "text",
         "line": {
          "color": "rgba(54.490196078431374, 71.29411764705883, 157.50980392156865, 1.0)",
          "width": 0.5
         },
         "mode": "lines",
         "showlegend": false,
         "text": "Width: 0.50",
         "type": "scatter",
         "x": [
          -3.6598634715735407,
          -3.678150006537061,
          null
         ],
         "y": [
          40.38355078734683,
          40.45750039357669,
          null
         ]
        },
        {
         "hoverinfo": "text",
         "line": {
          "color": "rgba(52.92156862745099, 66.35294117647058, 155.07843137254903, 1.0)",
          "width": 0.5
         },
         "mode": "lines",
         "showlegend": false,
         "text": "Width: 0.50",
         "type": "scatter",
         "x": [
          -3.6598634715735407,
          -3.6999935507976827,
          null
         ],
         "y": [
          40.38355078734683,
          40.4606484776773,
          null
         ]
        },
        {
         "hoverinfo": "text",
         "line": {
          "color": "rgba(56.05882352941177, 76.23529411764707, 159.94117647058823, 1.0)",
          "width": 0.5
         },
         "mode": "lines",
         "showlegend": false,
         "text": "Width: 0.50",
         "type": "scatter",
         "x": [
          -3.6598634715735407,
          -3.703523951395161,
          null
         ],
         "y": [
          40.38355078734683,
          40.4375595509298,
          null
         ]
        },
        {
         "hoverinfo": "text",
         "line": {
          "color": "rgba(53.705882352941174, 68.82352941176471, 156.2941176470588, 1.0)",
          "width": 0.5
         },
         "mode": "lines",
         "showlegend": false,
         "text": "Width: 0.50",
         "type": "scatter",
         "x": [
          -3.6598634715735407,
          -3.753579560856663,
          null
         ],
         "y": [
          40.38355078734683,
          40.54479435831404,
          null
         ]
        },
        {
         "hoverinfo": "text",
         "line": {
          "color": "rgba(52.92156862745099, 66.35294117647058, 155.07843137254903, 1.0)",
          "width": 0.5
         },
         "mode": "lines",
         "showlegend": false,
         "text": "Width: 0.50",
         "type": "scatter",
         "x": [
          -3.6598634715735407,
          -3.757223268157654,
          null
         ],
         "y": [
          40.38355078734683,
          40.44543508494524,
          null
         ]
        },
        {
         "hoverinfo": "text",
         "line": {
          "color": "rgba(50.568627450980394, 58.94117647058823, 151.4313725490196, 1.0)",
          "width": 0.5
         },
         "mode": "lines",
         "showlegend": false,
         "text": "Width: 0.50",
         "type": "scatter",
         "x": [
          -3.6598634715735407,
          -3.778616540618283,
          null
         ],
         "y": [
          40.38355078734683,
          40.385273701511004,
          null
         ]
        },
        {
         "hoverinfo": "text",
         "line": {
          "color": "rgba(53.705882352941174, 68.82352941176471, 156.2941176470588, 1.0)",
          "width": 0.5
         },
         "mode": "lines",
         "showlegend": false,
         "text": "Width: 0.50",
         "type": "scatter",
         "x": [
          -3.6598634715735407,
          -3.737112400757822,
          null
         ],
         "y": [
          40.38355078734683,
          40.378840354576816,
          null
         ]
        },
        {
         "hoverinfo": "text",
         "line": {
          "color": "rgba(60.76470588235294, 91.05882352941177, 167.23529411764707, 1.0)",
          "width": 0.608209379852583
         },
         "mode": "lines",
         "showlegend": false,
         "text": "Width: 0.61",
         "type": "scatter",
         "x": [
          -3.6598634715735407,
          -3.7029808755455926,
          null
         ],
         "y": [
          40.38355078734683,
          40.37595000318738,
          null
         ]
        },
        {
         "hoverinfo": "text",
         "line": {
          "color": "rgba(253.5686274509804, 202.43137254901967, 123.72549019607848, 1.0)",
          "width": 6.431394426051242
         },
         "mode": "lines",
         "showlegend": false,
         "text": "Width: 6.43",
         "type": "scatter",
         "x": [
          -3.6598634715735407,
          -3.6598634715735407,
          null
         ],
         "y": [
          40.38355078734683,
          40.38355078734683,
          null
         ]
        },
        {
         "hoverinfo": "text",
         "line": {
          "color": "rgba(67.03921568627452, 110.82352941176472, 176.9607843137255, 1.0)",
          "width": 0.931979679258032
         },
         "mode": "lines",
         "showlegend": false,
         "text": "Width: 0.93",
         "type": "scatter",
         "x": [
          -3.6598634715735407,
          -3.6413909394895803,
          null
         ],
         "y": [
          40.38355078734683,
          40.40661270611631,
          null
         ]
        },
        {
         "hoverinfo": "text",
         "line": {
          "color": "rgba(53.705882352941174, 68.82352941176471, 156.2941176470588, 1.0)",
          "width": 0.5
         },
         "mode": "lines",
         "showlegend": false,
         "text": "Width: 0.50",
         "type": "scatter",
         "x": [
          -3.6598634715735407,
          -3.649948514601449,
          null
         ],
         "y": [
          40.38355078734683,
          40.43926990707227,
          null
         ]
        },
        {
         "hoverinfo": "text",
         "line": {
          "color": "rgba(52.13725490196079, 63.88235294117647, 153.86274509803923, 1.0)",
          "width": 0.5
         },
         "mode": "lines",
         "showlegend": false,
         "text": "Width: 0.50",
         "type": "scatter",
         "x": [
          -3.6598634715735407,
          -3.637741035389707,
          null
         ],
         "y": [
          40.38355078734683,
          40.48201214532898,
          null
         ]
        },
        {
         "hoverinfo": "text",
         "line": {
          "color": "rgba(56.84313725490196, 78.70588235294117, 161.15686274509807, 1.0)",
          "width": 0.5
         },
         "mode": "lines",
         "showlegend": false,
         "text": "Width: 0.50",
         "type": "scatter",
         "x": [
          -3.6598634715735407,
          -3.695056256825152,
          null
         ],
         "y": [
          40.38355078734683,
          40.34253624126977,
          null
         ]
        },
        {
         "hoverinfo": "text",
         "line": {
          "color": "rgba(97.5686274509804, 151.03921568627453, 197.62745098039218, 1.0)",
          "width": 1.608427532214675
         },
         "mode": "lines",
         "showlegend": false,
         "text": "Width: 1.61",
         "type": "scatter",
         "x": [
          -3.6598634715735407,
          -3.6160073912284756,
          null
         ],
         "y": [
          40.38355078734683,
          40.34992967757026,
          null
         ]
        },
        {
         "hoverinfo": "text",
         "line": {
          "color": "rgba(57.62745098039216, 81.17647058823529, 162.37254901960785, 1.0)",
          "width": 0.5
         },
         "mode": "lines",
         "showlegend": false,
         "text": "Width: 0.50",
         "type": "scatter",
         "x": [
          -3.6598634715735407,
          -3.572894771748725,
          null
         ],
         "y": [
          40.38355078734683,
          40.39356859265691,
          null
         ]
        },
        {
         "hoverinfo": "text",
         "line": {
          "color": "rgba(52.92156862745099, 66.35294117647058, 155.07843137254903, 1.0)",
          "width": 0.5
         },
         "mode": "lines",
         "showlegend": false,
         "text": "Width: 0.50",
         "type": "scatter",
         "x": [
          -3.6598634715735407,
          -3.5986526886701378,
          null
         ],
         "y": [
          40.38355078734683,
          40.43466852782298,
          null
         ]
        },
        {
         "hoverinfo": "text",
         "line": {
          "color": "rgba(50.568627450980394, 58.94117647058823, 151.4313725490196, 1.0)",
          "width": 0.5
         },
         "mode": "lines",
         "showlegend": false,
         "text": "Width: 0.50",
         "type": "scatter",
         "x": [
          -3.6598634715735407,
          -3.574543479322823,
          null
         ],
         "y": [
          40.38355078734683,
          40.4757410696608,
          null
         ]
        },
        {
         "hoverinfo": "text",
         "line": {
          "color": "rgba(59.196078431372555, 86.11764705882355, 164.8039215686275, 1.0)",
          "width": 0.5080520564740684
         },
         "mode": "lines",
         "showlegend": false,
         "text": "Width: 0.51",
         "type": "scatter",
         "x": [
          -3.6413909394895803,
          -3.705268804063821,
          null
         ],
         "y": [
          40.40661270611631,
          40.41733007020507,
          null
         ]
        },
        {
         "hoverinfo": "text",
         "line": {
          "color": "rgba(52.92156862745099, 66.35294117647058, 155.07843137254903, 1.0)",
          "width": 0.5
         },
         "mode": "lines",
         "showlegend": false,
         "text": "Width: 0.50",
         "type": "scatter",
         "x": [
          -3.6413909394895803,
          -3.6966151949203576,
          null
         ],
         "y": [
          40.40661270611631,
          40.398119933450886,
          null
         ]
        },
        {
         "hoverinfo": "text",
         "line": {
          "color": "rgba(108.62745098039218, 164.21568627450984, 204.45098039215688, 1.0)",
          "width": 1.8497627897253472
         },
         "mode": "lines",
         "showlegend": false,
         "text": "Width: 1.85",
         "type": "scatter",
         "x": [
          -3.6413909394895803,
          -3.67643837848883,
          null
         ],
         "y": [
          40.40661270611631,
          40.41138084576659,
          null
         ]
        },
        {
         "hoverinfo": "text",
         "line": {
          "color": "rgba(79.13725490196079, 129.07843137254903, 186.25490196078434, 1.0)",
          "width": 1.2388390635461768
         },
         "mode": "lines",
         "showlegend": false,
         "text": "Width: 1.24",
         "type": "scatter",
         "x": [
          -3.6413909394895803,
          -3.6737887354917422,
          null
         ],
         "y": [
          40.40661270611631,
          40.43018370922185,
          null
         ]
        },
        {
         "hoverinfo": "text",
         "line": {
          "color": "rgba(56.05882352941177, 76.23529411764707, 159.94117647058823, 1.0)",
          "width": 0.5
         },
         "mode": "lines",
         "showlegend": false,
         "text": "Width: 0.50",
         "type": "scatter",
         "x": [
          -3.6413909394895803,
          -3.678150006537061,
          null
         ],
         "y": [
          40.40661270611631,
          40.45750039357669,
          null
         ]
        },
        {
         "hoverinfo": "text",
         "line": {
          "color": "rgba(52.13725490196079, 63.88235294117647, 153.86274509803923, 1.0)",
          "width": 0.5
         },
         "mode": "lines",
         "showlegend": false,
         "text": "Width: 0.50",
         "type": "scatter",
         "x": [
          -3.6413909394895803,
          -3.6999935507976827,
          null
         ],
         "y": [
          40.40661270611631,
          40.4606484776773,
          null
         ]
        },
        {
         "hoverinfo": "text",
         "line": {
          "color": "rgba(56.05882352941177, 76.23529411764707, 159.94117647058823, 1.0)",
          "width": 0.5
         },
         "mode": "lines",
         "showlegend": false,
         "text": "Width: 0.50",
         "type": "scatter",
         "x": [
          -3.6413909394895803,
          -3.703523951395161,
          null
         ],
         "y": [
          40.40661270611631,
          40.4375595509298,
          null
         ]
        },
        {
         "hoverinfo": "text",
         "line": {
          "color": "rgba(54.490196078431374, 71.29411764705883, 157.50980392156865, 1.0)",
          "width": 0.5
         },
         "mode": "lines",
         "showlegend": false,
         "text": "Width: 0.50",
         "type": "scatter",
         "x": [
          -3.6413909394895803,
          -3.753579560856663,
          null
         ],
         "y": [
          40.40661270611631,
          40.54479435831404,
          null
         ]
        },
        {
         "hoverinfo": "text",
         "line": {
          "color": "rgba(52.92156862745099, 66.35294117647058, 155.07843137254903, 1.0)",
          "width": 0.5
         },
         "mode": "lines",
         "showlegend": false,
         "text": "Width: 0.50",
         "type": "scatter",
         "x": [
          -3.6413909394895803,
          -3.757223268157654,
          null
         ],
         "y": [
          40.40661270611631,
          40.44543508494524,
          null
         ]
        },
        {
         "hoverinfo": "text",
         "line": {
          "color": "rgba(49.7843137254902, 56.470588235294116, 150.21568627450984, 1.0)",
          "width": 0.5
         },
         "mode": "lines",
         "showlegend": false,
         "text": "Width: 0.50",
         "type": "scatter",
         "x": [
          -3.6413909394895803,
          -3.778616540618283,
          null
         ],
         "y": [
          40.40661270611631,
          40.385273701511004,
          null
         ]
        },
        {
         "hoverinfo": "text",
         "line": {
          "color": "rgba(51.35294117647059, 61.411764705882355, 152.64705882352942, 1.0)",
          "width": 0.5
         },
         "mode": "lines",
         "showlegend": false,
         "text": "Width: 0.50",
         "type": "scatter",
         "x": [
          -3.6413909394895803,
          -3.737112400757822,
          null
         ],
         "y": [
          40.40661270611631,
          40.378840354576816,
          null
         ]
        },
        {
         "hoverinfo": "text",
         "line": {
          "color": "rgba(51.35294117647059, 61.411764705882355, 152.64705882352942, 1.0)",
          "width": 0.5
         },
         "mode": "lines",
         "showlegend": false,
         "text": "Width: 0.50",
         "type": "scatter",
         "x": [
          -3.6413909394895803,
          -3.7029808755455926,
          null
         ],
         "y": [
          40.40661270611631,
          40.37595000318738,
          null
         ]
        },
        {
         "hoverinfo": "text",
         "line": {
          "color": "rgba(141.8823529411765, 193.70588235294122, 220.2941176470588, 1.0)",
          "width": 2.4972107498713627
         },
         "mode": "lines",
         "showlegend": false,
         "text": "Width: 2.50",
         "type": "scatter",
         "x": [
          -3.6413909394895803,
          -3.6598634715735407,
          null
         ],
         "y": [
          40.40661270611631,
          40.38355078734683,
          null
         ]
        },
        {
         "hoverinfo": "text",
         "line": {
          "color": "rgba(237.37254901960787, 248.1764705882353, 223.41176470588232, 1.0)",
          "width": 4.420837872072944
         },
         "mode": "lines",
         "showlegend": false,
         "text": "Width: 4.42",
         "type": "scatter",
         "x": [
          -3.6413909394895803,
          -3.6413909394895803,
          null
         ],
         "y": [
          40.40661270611631,
          40.40661270611631,
          null
         ]
        },
        {
         "hoverinfo": "text",
         "line": {
          "color": "rgba(75.45098039215688, 124.68627450980394, 183.98039215686276, 1.0)",
          "width": 1.1385575316110852
         },
         "mode": "lines",
         "showlegend": false,
         "text": "Width: 1.14",
         "type": "scatter",
         "x": [
          -3.6413909394895803,
          -3.649948514601449,
          null
         ],
         "y": [
          40.40661270611631,
          40.43926990707227,
          null
         ]
        },
        {
         "hoverinfo": "text",
         "line": {
          "color": "rgba(52.92156862745099, 66.35294117647058, 155.07843137254903, 1.0)",
          "width": 0.5
         },
         "mode": "lines",
         "showlegend": false,
         "text": "Width: 0.50",
         "type": "scatter",
         "x": [
          -3.6413909394895803,
          -3.637741035389707,
          null
         ],
         "y": [
          40.40661270611631,
          40.48201214532898,
          null
         ]
        },
        {
         "hoverinfo": "text",
         "line": {
          "color": "rgba(49.7843137254902, 56.470588235294116, 150.21568627450984, 1.0)",
          "width": 0.5
         },
         "mode": "lines",
         "showlegend": false,
         "text": "Width: 0.50",
         "type": "scatter",
         "x": [
          -3.6413909394895803,
          -3.695056256825152,
          null
         ],
         "y": [
          40.40661270611631,
          40.34253624126977,
          null
         ]
        },
        {
         "hoverinfo": "text",
         "line": {
          "color": "rgba(59.98039215686274, 88.58823529411765, 166.01960784313727, 1.0)",
          "width": 0.5810881202877235
         },
         "mode": "lines",
         "showlegend": false,
         "text": "Width: 0.58",
         "type": "scatter",
         "x": [
          -3.6413909394895803,
          -3.6160073912284756,
          null
         ],
         "y": [
          40.40661270611631,
          40.34992967757026,
          null
         ]
        },
        {
         "hoverinfo": "text",
         "line": {
          "color": "rgba(67.8235294117647, 113.29411764705883, 178.1764705882353, 1.0)",
          "width": 0.9518418222629849
         },
         "mode": "lines",
         "showlegend": false,
         "text": "Width: 0.95",
         "type": "scatter",
         "x": [
          -3.6413909394895803,
          -3.572894771748725,
          null
         ],
         "y": [
          40.40661270611631,
          40.39356859265691,
          null
         ]
        },
        {
         "hoverinfo": "text",
         "line": {
          "color": "rgba(62.333333333333336, 96.0, 169.66666666666669, 1.0)",
          "width": 0.6673483072268519
         },
         "mode": "lines",
         "showlegend": false,
         "text": "Width: 0.67",
         "type": "scatter",
         "x": [
          -3.6413909394895803,
          -3.5986526886701378,
          null
         ],
         "y": [
          40.40661270611631,
          40.43466852782298,
          null
         ]
        },
        {
         "hoverinfo": "text",
         "line": {
          "color": "rgba(51.35294117647059, 61.411764705882355, 152.64705882352942, 1.0)",
          "width": 0.5
         },
         "mode": "lines",
         "showlegend": false,
         "text": "Width: 0.50",
         "type": "scatter",
         "x": [
          -3.6413909394895803,
          -3.574543479322823,
          null
         ],
         "y": [
          40.40661270611631,
          40.4757410696608,
          null
         ]
        },
        {
         "hoverinfo": "text",
         "line": {
          "color": "rgba(59.98039215686274, 88.58823529411765, 166.01960784313727, 1.0)",
          "width": 0.5799762779741421
         },
         "mode": "lines",
         "showlegend": false,
         "text": "Width: 0.58",
         "type": "scatter",
         "x": [
          -3.649948514601449,
          -3.705268804063821,
          null
         ],
         "y": [
          40.43926990707227,
          40.41733007020507,
          null
         ]
        },
        {
         "hoverinfo": "text",
         "line": {
          "color": "rgba(51.35294117647059, 61.411764705882355, 152.64705882352942, 1.0)",
          "width": 0.5
         },
         "mode": "lines",
         "showlegend": false,
         "text": "Width: 0.50",
         "type": "scatter",
         "x": [
          -3.649948514601449,
          -3.6966151949203576,
          null
         ],
         "y": [
          40.43926990707227,
          40.398119933450886,
          null
         ]
        },
        {
         "hoverinfo": "text",
         "line": {
          "color": "rgba(58.411764705882355, 83.64705882352942, 163.58823529411765, 1.0)",
          "width": 0.5
         },
         "mode": "lines",
         "showlegend": false,
         "text": "Width: 0.50",
         "type": "scatter",
         "x": [
          -3.649948514601449,
          -3.67643837848883,
          null
         ],
         "y": [
          40.43926990707227,
          40.41138084576659,
          null
         ]
        },
        {
         "hoverinfo": "text",
         "line": {
          "color": "rgba(131.0980392156863, 185.07843137254903, 215.58823529411765, 1.0)",
          "width": 2.2657674946088155
         },
         "mode": "lines",
         "showlegend": false,
         "text": "Width: 2.27",
         "type": "scatter",
         "x": [
          -3.649948514601449,
          -3.6737887354917422,
          null
         ],
         "y": [
          40.43926990707227,
          40.43018370922185,
          null
         ]
        },
        {
         "hoverinfo": "text",
         "line": {
          "color": "rgba(82.82352941176471, 133.47058823529412, 188.5294117647059, 1.0)",
          "width": 1.2948872763242232
         },
         "mode": "lines",
         "showlegend": false,
         "text": "Width: 1.29",
         "type": "scatter",
         "x": [
          -3.649948514601449,
          -3.678150006537061,
          null
         ],
         "y": [
          40.43926990707227,
          40.45750039357669,
          null
         ]
        },
        {
         "hoverinfo": "text",
         "line": {
          "color": "rgba(54.490196078431374, 71.29411764705883, 157.50980392156865, 1.0)",
          "width": 0.5
         },
         "mode": "lines",
         "showlegend": false,
         "text": "Width: 0.50",
         "type": "scatter",
         "x": [
          -3.649948514601449,
          -3.6999935507976827,
          null
         ],
         "y": [
          40.43926990707227,
          40.4606484776773,
          null
         ]
        },
        {
         "hoverinfo": "text",
         "line": {
          "color": "rgba(58.411764705882355, 83.64705882352942, 163.58823529411765, 1.0)",
          "width": 0.505947804349768
         },
         "mode": "lines",
         "showlegend": false,
         "text": "Width: 0.51",
         "type": "scatter",
         "x": [
          -3.649948514601449,
          -3.703523951395161,
          null
         ],
         "y": [
          40.43926990707227,
          40.4375595509298,
          null
         ]
        },
        {
         "hoverinfo": "text",
         "line": {
          "color": "rgba(57.62745098039216, 81.17647058823529, 162.37254901960785, 1.0)",
          "width": 0.5
         },
         "mode": "lines",
         "showlegend": false,
         "text": "Width: 0.50",
         "type": "scatter",
         "x": [
          -3.649948514601449,
          -3.753579560856663,
          null
         ],
         "y": [
          40.43926990707227,
          40.54479435831404,
          null
         ]
        },
        {
         "hoverinfo": "text",
         "line": {
          "color": "rgba(53.705882352941174, 68.82352941176471, 156.2941176470588, 1.0)",
          "width": 0.5
         },
         "mode": "lines",
         "showlegend": false,
         "text": "Width: 0.50",
         "type": "scatter",
         "x": [
          -3.649948514601449,
          -3.757223268157654,
          null
         ],
         "y": [
          40.43926990707227,
          40.44543508494524,
          null
         ]
        },
        {
         "hoverinfo": "text",
         "line": {
          "color": "rgba(49.7843137254902, 56.470588235294116, 150.21568627450984, 1.0)",
          "width": 0.5
         },
         "mode": "lines",
         "showlegend": false,
         "text": "Width: 0.50",
         "type": "scatter",
         "x": [
          -3.649948514601449,
          -3.778616540618283,
          null
         ],
         "y": [
          40.43926990707227,
          40.385273701511004,
          null
         ]
        },
        {
         "hoverinfo": "text",
         "line": {
          "color": "rgba(50.568627450980394, 58.94117647058823, 151.4313725490196, 1.0)",
          "width": 0.5
         },
         "mode": "lines",
         "showlegend": false,
         "text": "Width: 0.50",
         "type": "scatter",
         "x": [
          -3.649948514601449,
          -3.737112400757822,
          null
         ],
         "y": [
          40.43926990707227,
          40.378840354576816,
          null
         ]
        },
        {
         "hoverinfo": "text",
         "line": {
          "color": "rgba(49.7843137254902, 56.470588235294116, 150.21568627450984, 1.0)",
          "width": 0.5
         },
         "mode": "lines",
         "showlegend": false,
         "text": "Width: 0.50",
         "type": "scatter",
         "x": [
          -3.649948514601449,
          -3.7029808755455926,
          null
         ],
         "y": [
          40.43926990707227,
          40.37595000318738,
          null
         ]
        },
        {
         "hoverinfo": "text",
         "line": {
          "color": "rgba(51.35294117647059, 61.411764705882355, 152.64705882352942, 1.0)",
          "width": 0.5
         },
         "mode": "lines",
         "showlegend": false,
         "text": "Width: 0.50",
         "type": "scatter",
         "x": [
          -3.649948514601449,
          -3.6598634715735407,
          null
         ],
         "y": [
          40.43926990707227,
          40.38355078734683,
          null
         ]
        },
        {
         "hoverinfo": "text",
         "line": {
          "color": "rgba(66.25490196078432, 108.35294117647061, 175.74509803921572, 1.0)",
          "width": 0.8797127205178958
         },
         "mode": "lines",
         "showlegend": false,
         "text": "Width: 0.88",
         "type": "scatter",
         "x": [
          -3.649948514601449,
          -3.6413909394895803,
          null
         ],
         "y": [
          40.43926990707227,
          40.40661270611631,
          null
         ]
        },
        {
         "hoverinfo": "text",
         "line": {
          "color": "rgba(254.78431372549022, 248.31372549019608, 180.8627450980392, 1.0)",
          "width": 5.221847074059558
         },
         "mode": "lines",
         "showlegend": false,
         "text": "Width: 5.22",
         "type": "scatter",
         "x": [
          -3.649948514601449,
          -3.649948514601449,
          null
         ],
         "y": [
          40.43926990707227,
          40.43926990707227,
          null
         ]
        },
        {
         "hoverinfo": "text",
         "line": {
          "color": "rgba(68.6078431372549, 115.76470588235296, 179.3921568627451, 1.0)",
          "width": 0.9814757310548251
         },
         "mode": "lines",
         "showlegend": false,
         "text": "Width: 0.98",
         "type": "scatter",
         "x": [
          -3.649948514601449,
          -3.637741035389707,
          null
         ],
         "y": [
          40.43926990707227,
          40.48201214532898,
          null
         ]
        },
        {
         "hoverinfo": "text",
         "line": {
          "color": "rgba(49.0, 54.0, 149.0, 1.0)",
          "width": 0.5
         },
         "mode": "lines",
         "showlegend": false,
         "text": "Width: 0.50",
         "type": "scatter",
         "x": [
          -3.649948514601449,
          -3.695056256825152,
          null
         ],
         "y": [
          40.43926990707227,
          40.34253624126977,
          null
         ]
        },
        {
         "hoverinfo": "text",
         "line": {
          "color": "rgba(50.568627450980394, 58.94117647058823, 151.4313725490196, 1.0)",
          "width": 0.5
         },
         "mode": "lines",
         "showlegend": false,
         "text": "Width: 0.50",
         "type": "scatter",
         "x": [
          -3.649948514601449,
          -3.6160073912284756,
          null
         ],
         "y": [
          40.43926990707227,
          40.34992967757026,
          null
         ]
        },
        {
         "hoverinfo": "text",
         "line": {
          "color": "rgba(53.705882352941174, 68.82352941176471, 156.2941176470588, 1.0)",
          "width": 0.5
         },
         "mode": "lines",
         "showlegend": false,
         "text": "Width: 0.50",
         "type": "scatter",
         "x": [
          -3.649948514601449,
          -3.572894771748725,
          null
         ],
         "y": [
          40.43926990707227,
          40.39356859265691,
          null
         ]
        },
        {
         "hoverinfo": "text",
         "line": {
          "color": "rgba(110.47058823529414, 166.41176470588238, 205.58823529411765, 1.0)",
          "width": 1.8963958509785983
         },
         "mode": "lines",
         "showlegend": false,
         "text": "Width: 1.90",
         "type": "scatter",
         "x": [
          -3.649948514601449,
          -3.5986526886701378,
          null
         ],
         "y": [
          40.43926990707227,
          40.43466852782298,
          null
         ]
        },
        {
         "hoverinfo": "text",
         "line": {
          "color": "rgba(53.705882352941174, 68.82352941176471, 156.2941176470588, 1.0)",
          "width": 0.5
         },
         "mode": "lines",
         "showlegend": false,
         "text": "Width: 0.50",
         "type": "scatter",
         "x": [
          -3.649948514601449,
          -3.574543479322823,
          null
         ],
         "y": [
          40.43926990707227,
          40.4757410696608,
          null
         ]
        },
        {
         "hoverinfo": "text",
         "line": {
          "color": "rgba(54.490196078431374, 71.29411764705883, 157.50980392156865, 1.0)",
          "width": 0.5
         },
         "mode": "lines",
         "showlegend": false,
         "text": "Width: 0.50",
         "type": "scatter",
         "x": [
          -3.637741035389707,
          -3.705268804063821,
          null
         ],
         "y": [
          40.48201214532898,
          40.41733007020507,
          null
         ]
        },
        {
         "hoverinfo": "text",
         "line": {
          "color": "rgba(49.7843137254902, 56.470588235294116, 150.21568627450984, 1.0)",
          "width": 0.5
         },
         "mode": "lines",
         "showlegend": false,
         "text": "Width: 0.50",
         "type": "scatter",
         "x": [
          -3.637741035389707,
          -3.6966151949203576,
          null
         ],
         "y": [
          40.48201214532898,
          40.398119933450886,
          null
         ]
        },
        {
         "hoverinfo": "text",
         "line": {
          "color": "rgba(51.35294117647059, 61.411764705882355, 152.64705882352942, 1.0)",
          "width": 0.5
         },
         "mode": "lines",
         "showlegend": false,
         "text": "Width: 0.50",
         "type": "scatter",
         "x": [
          -3.637741035389707,
          -3.67643837848883,
          null
         ],
         "y": [
          40.48201214532898,
          40.41138084576659,
          null
         ]
        },
        {
         "hoverinfo": "text",
         "line": {
          "color": "rgba(57.62745098039216, 81.17647058823529, 162.37254901960785, 1.0)",
          "width": 0.5
         },
         "mode": "lines",
         "showlegend": false,
         "text": "Width: 0.50",
         "type": "scatter",
         "x": [
          -3.637741035389707,
          -3.6737887354917422,
          null
         ],
         "y": [
          40.48201214532898,
          40.43018370922185,
          null
         ]
        },
        {
         "hoverinfo": "text",
         "line": {
          "color": "rgba(73.60784313725492, 122.49019607843138, 182.84313725490196, 1.0)",
          "width": 1.1049717116371132
         },
         "mode": "lines",
         "showlegend": false,
         "text": "Width: 1.10",
         "type": "scatter",
         "x": [
          -3.637741035389707,
          -3.678150006537061,
          null
         ],
         "y": [
          40.48201214532898,
          40.45750039357669,
          null
         ]
        },
        {
         "hoverinfo": "text",
         "line": {
          "color": "rgba(54.490196078431374, 71.29411764705883, 157.50980392156865, 1.0)",
          "width": 0.5
         },
         "mode": "lines",
         "showlegend": false,
         "text": "Width: 0.50",
         "type": "scatter",
         "x": [
          -3.637741035389707,
          -3.6999935507976827,
          null
         ],
         "y": [
          40.48201214532898,
          40.4606484776773,
          null
         ]
        },
        {
         "hoverinfo": "text",
         "line": {
          "color": "rgba(56.05882352941177, 76.23529411764707, 159.94117647058823, 1.0)",
          "width": 0.5
         },
         "mode": "lines",
         "showlegend": false,
         "text": "Width: 0.50",
         "type": "scatter",
         "x": [
          -3.637741035389707,
          -3.703523951395161,
          null
         ],
         "y": [
          40.48201214532898,
          40.4375595509298,
          null
         ]
        },
        {
         "hoverinfo": "text",
         "line": {
          "color": "rgba(88.35294117647061, 140.0588235294118, 191.94117647058823, 1.0)",
          "width": 1.416774778391299
         },
         "mode": "lines",
         "showlegend": false,
         "text": "Width: 1.42",
         "type": "scatter",
         "x": [
          -3.637741035389707,
          -3.753579560856663,
          null
         ],
         "y": [
          40.48201214532898,
          40.54479435831404,
          null
         ]
        },
        {
         "hoverinfo": "text",
         "line": {
          "color": "rgba(52.92156862745099, 66.35294117647058, 155.07843137254903, 1.0)",
          "width": 0.5
         },
         "mode": "lines",
         "showlegend": false,
         "text": "Width: 0.50",
         "type": "scatter",
         "x": [
          -3.637741035389707,
          -3.757223268157654,
          null
         ],
         "y": [
          40.48201214532898,
          40.44543508494524,
          null
         ]
        },
        {
         "hoverinfo": "text",
         "line": {
          "color": "rgba(49.0, 54.0, 149.0, 1.0)",
          "width": 0.5
         },
         "mode": "lines",
         "showlegend": false,
         "text": "Width: 0.50",
         "type": "scatter",
         "x": [
          -3.637741035389707,
          -3.778616540618283,
          null
         ],
         "y": [
          40.48201214532898,
          40.385273701511004,
          null
         ]
        },
        {
         "hoverinfo": "text",
         "line": {
          "color": "rgba(49.0, 54.0, 149.0, 1.0)",
          "width": 0.5
         },
         "mode": "lines",
         "showlegend": false,
         "text": "Width: 0.50",
         "type": "scatter",
         "x": [
          -3.637741035389707,
          -3.737112400757822,
          null
         ],
         "y": [
          40.48201214532898,
          40.378840354576816,
          null
         ]
        },
        {
         "hoverinfo": "text",
         "line": {
          "color": "rgba(49.0, 54.0, 149.0, 1.0)",
          "width": 0.5
         },
         "mode": "lines",
         "showlegend": false,
         "text": "Width: 0.50",
         "type": "scatter",
         "x": [
          -3.637741035389707,
          -3.7029808755455926,
          null
         ],
         "y": [
          40.48201214532898,
          40.37595000318738,
          null
         ]
        },
        {
         "hoverinfo": "text",
         "line": {
          "color": "rgba(49.7843137254902, 56.470588235294116, 150.21568627450984, 1.0)",
          "width": 0.5
         },
         "mode": "lines",
         "showlegend": false,
         "text": "Width: 0.50",
         "type": "scatter",
         "x": [
          -3.637741035389707,
          -3.6598634715735407,
          null
         ],
         "y": [
          40.48201214532898,
          40.38355078734683,
          null
         ]
        },
        {
         "hoverinfo": "text",
         "line": {
          "color": "rgba(49.0, 54.0, 149.0, 1.0)",
          "width": 0.5
         },
         "mode": "lines",
         "showlegend": false,
         "text": "Width: 0.50",
         "type": "scatter",
         "x": [
          -3.637741035389707,
          -3.6413909394895803,
          null
         ],
         "y": [
          40.48201214532898,
          40.40661270611631,
          null
         ]
        },
        {
         "hoverinfo": "text",
         "line": {
          "color": "rgba(84.66666666666667, 135.66666666666669, 189.66666666666669, 1.0)",
          "width": 1.3493775930176635
         },
         "mode": "lines",
         "showlegend": false,
         "text": "Width: 1.35",
         "type": "scatter",
         "x": [
          -3.637741035389707,
          -3.649948514601449,
          null
         ],
         "y": [
          40.48201214532898,
          40.43926990707227,
          null
         ]
        },
        {
         "hoverinfo": "text",
         "line": {
          "color": "rgba(224.66666666666666, 68.33333333333333, 48.333333333333336, 1.0)",
          "width": 8.648503223575629
         },
         "mode": "lines",
         "showlegend": false,
         "text": "Width: 8.65",
         "type": "scatter",
         "x": [
          -3.637741035389707,
          -3.637741035389707,
          null
         ],
         "y": [
          40.48201214532898,
          40.48201214532898,
          null
         ]
        },
        {
         "hoverinfo": "text",
         "line": {
          "color": "rgba(49.0, 54.0, 149.0, 1.0)",
          "width": 0.5
         },
         "mode": "lines",
         "showlegend": false,
         "text": "Width: 0.50",
         "type": "scatter",
         "x": [
          -3.637741035389707,
          -3.695056256825152,
          null
         ],
         "y": [
          40.48201214532898,
          40.34253624126977,
          null
         ]
        },
        {
         "hoverinfo": "text",
         "line": {
          "color": "rgba(49.7843137254902, 56.470588235294116, 150.21568627450984, 1.0)",
          "width": 0.5
         },
         "mode": "lines",
         "showlegend": false,
         "text": "Width: 0.50",
         "type": "scatter",
         "x": [
          -3.637741035389707,
          -3.6160073912284756,
          null
         ],
         "y": [
          40.48201214532898,
          40.34992967757026,
          null
         ]
        },
        {
         "hoverinfo": "text",
         "line": {
          "color": "rgba(49.7843137254902, 56.470588235294116, 150.21568627450984, 1.0)",
          "width": 0.5
         },
         "mode": "lines",
         "showlegend": false,
         "text": "Width: 0.50",
         "type": "scatter",
         "x": [
          -3.637741035389707,
          -3.572894771748725,
          null
         ],
         "y": [
          40.48201214532898,
          40.39356859265691,
          null
         ]
        },
        {
         "hoverinfo": "text",
         "line": {
          "color": "rgba(65.47058823529412, 105.88235294117648, 174.52941176470588, 1.0)",
          "width": 0.8274906768658292
         },
         "mode": "lines",
         "showlegend": false,
         "text": "Width: 0.83",
         "type": "scatter",
         "x": [
          -3.637741035389707,
          -3.5986526886701378,
          null
         ],
         "y": [
          40.48201214532898,
          40.43466852782298,
          null
         ]
        },
        {
         "hoverinfo": "text",
         "line": {
          "color": "rgba(63.90196078431372, 100.94117647058825, 172.0980392156863, 1.0)",
          "width": 0.7803875597290725
         },
         "mode": "lines",
         "showlegend": false,
         "text": "Width: 0.78",
         "type": "scatter",
         "x": [
          -3.637741035389707,
          -3.574543479322823,
          null
         ],
         "y": [
          40.48201214532898,
          40.4757410696608,
          null
         ]
        },
        {
         "hoverinfo": "text",
         "line": {
          "color": "rgba(62.333333333333336, 96.0, 169.66666666666669, 1.0)",
          "width": 0.6743514234184148
         },
         "mode": "lines",
         "showlegend": false,
         "text": "Width: 0.67",
         "type": "scatter",
         "x": [
          -3.695056256825152,
          -3.705268804063821,
          null
         ],
         "y": [
          40.34253624126977,
          40.41733007020507,
          null
         ]
        },
        {
         "hoverinfo": "text",
         "line": {
          "color": "rgba(58.411764705882355, 83.64705882352942, 163.58823529411765, 1.0)",
          "width": 0.5
         },
         "mode": "lines",
         "showlegend": false,
         "text": "Width: 0.50",
         "type": "scatter",
         "x": [
          -3.695056256825152,
          -3.6966151949203576,
          null
         ],
         "y": [
          40.34253624126977,
          40.398119933450886,
          null
         ]
        },
        {
         "hoverinfo": "text",
         "line": {
          "color": "rgba(54.490196078431374, 71.29411764705883, 157.50980392156865, 1.0)",
          "width": 0.5
         },
         "mode": "lines",
         "showlegend": false,
         "text": "Width: 0.50",
         "type": "scatter",
         "x": [
          -3.695056256825152,
          -3.67643837848883,
          null
         ],
         "y": [
          40.34253624126977,
          40.41138084576659,
          null
         ]
        },
        {
         "hoverinfo": "text",
         "line": {
          "color": "rgba(56.05882352941177, 76.23529411764707, 159.94117647058823, 1.0)",
          "width": 0.5
         },
         "mode": "lines",
         "showlegend": false,
         "text": "Width: 0.50",
         "type": "scatter",
         "x": [
          -3.695056256825152,
          -3.6737887354917422,
          null
         ],
         "y": [
          40.34253624126977,
          40.43018370922185,
          null
         ]
        },
        {
         "hoverinfo": "text",
         "line": {
          "color": "rgba(55.274509803921575, 73.76470588235294, 158.72549019607845, 1.0)",
          "width": 0.5
         },
         "mode": "lines",
         "showlegend": false,
         "text": "Width: 0.50",
         "type": "scatter",
         "x": [
          -3.695056256825152,
          -3.678150006537061,
          null
         ],
         "y": [
          40.34253624126977,
          40.45750039357669,
          null
         ]
        },
        {
         "hoverinfo": "text",
         "line": {
          "color": "rgba(52.92156862745099, 66.35294117647058, 155.07843137254903, 1.0)",
          "width": 0.5
         },
         "mode": "lines",
         "showlegend": false,
         "text": "Width: 0.50",
         "type": "scatter",
         "x": [
          -3.695056256825152,
          -3.6999935507976827,
          null
         ],
         "y": [
          40.34253624126977,
          40.4606484776773,
          null
         ]
        },
        {
         "hoverinfo": "text",
         "line": {
          "color": "rgba(56.05882352941177, 76.23529411764707, 159.94117647058823, 1.0)",
          "width": 0.5
         },
         "mode": "lines",
         "showlegend": false,
         "text": "Width: 0.50",
         "type": "scatter",
         "x": [
          -3.695056256825152,
          -3.703523951395161,
          null
         ],
         "y": [
          40.34253624126977,
          40.4375595509298,
          null
         ]
        },
        {
         "hoverinfo": "text",
         "line": {
          "color": "rgba(54.490196078431374, 71.29411764705883, 157.50980392156865, 1.0)",
          "width": 0.5
         },
         "mode": "lines",
         "showlegend": false,
         "text": "Width: 0.50",
         "type": "scatter",
         "x": [
          -3.695056256825152,
          -3.753579560856663,
          null
         ],
         "y": [
          40.34253624126977,
          40.54479435831404,
          null
         ]
        },
        {
         "hoverinfo": "text",
         "line": {
          "color": "rgba(54.490196078431374, 71.29411764705883, 157.50980392156865, 1.0)",
          "width": 0.5
         },
         "mode": "lines",
         "showlegend": false,
         "text": "Width: 0.50",
         "type": "scatter",
         "x": [
          -3.695056256825152,
          -3.757223268157654,
          null
         ],
         "y": [
          40.34253624126977,
          40.44543508494524,
          null
         ]
        },
        {
         "hoverinfo": "text",
         "line": {
          "color": "rgba(52.92156862745099, 66.35294117647058, 155.07843137254903, 1.0)",
          "width": 0.5
         },
         "mode": "lines",
         "showlegend": false,
         "text": "Width: 0.50",
         "type": "scatter",
         "x": [
          -3.695056256825152,
          -3.778616540618283,
          null
         ],
         "y": [
          40.34253624126977,
          40.385273701511004,
          null
         ]
        },
        {
         "hoverinfo": "text",
         "line": {
          "color": "rgba(61.54901960784314, 93.5294117647059, 168.45098039215688, 1.0)",
          "width": 0.6502256626091844
         },
         "mode": "lines",
         "showlegend": false,
         "text": "Width: 0.65",
         "type": "scatter",
         "x": [
          -3.695056256825152,
          -3.737112400757822,
          null
         ],
         "y": [
          40.34253624126977,
          40.378840354576816,
          null
         ]
        },
        {
         "hoverinfo": "text",
         "line": {
          "color": "rgba(110.47058823529414, 166.41176470588238, 205.58823529411765, 1.0)",
          "width": 1.9024501562558431
         },
         "mode": "lines",
         "showlegend": false,
         "text": "Width: 1.90",
         "type": "scatter",
         "x": [
          -3.695056256825152,
          -3.7029808755455926,
          null
         ],
         "y": [
          40.34253624126977,
          40.37595000318738,
          null
         ]
        },
        {
         "hoverinfo": "text",
         "line": {
          "color": "rgba(59.196078431372555, 86.11764705882355, 164.8039215686275, 1.0)",
          "width": 0.5212705273174693
         },
         "mode": "lines",
         "showlegend": false,
         "text": "Width: 0.52",
         "type": "scatter",
         "x": [
          -3.695056256825152,
          -3.6598634715735407,
          null
         ],
         "y": [
          40.34253624126977,
          40.38355078734683,
          null
         ]
        },
        {
         "hoverinfo": "text",
         "line": {
          "color": "rgba(49.7843137254902, 56.470588235294116, 150.21568627450984, 1.0)",
          "width": 0.5
         },
         "mode": "lines",
         "showlegend": false,
         "text": "Width: 0.50",
         "type": "scatter",
         "x": [
          -3.695056256825152,
          -3.6413909394895803,
          null
         ],
         "y": [
          40.34253624126977,
          40.40661270611631,
          null
         ]
        },
        {
         "hoverinfo": "text",
         "line": {
          "color": "rgba(52.13725490196079, 63.88235294117647, 153.86274509803923, 1.0)",
          "width": 0.5
         },
         "mode": "lines",
         "showlegend": false,
         "text": "Width: 0.50",
         "type": "scatter",
         "x": [
          -3.695056256825152,
          -3.649948514601449,
          null
         ],
         "y": [
          40.34253624126977,
          40.43926990707227,
          null
         ]
        },
        {
         "hoverinfo": "text",
         "line": {
          "color": "rgba(52.13725490196079, 63.88235294117647, 153.86274509803923, 1.0)",
          "width": 0.5
         },
         "mode": "lines",
         "showlegend": false,
         "text": "Width: 0.50",
         "type": "scatter",
         "x": [
          -3.695056256825152,
          -3.637741035389707,
          null
         ],
         "y": [
          40.34253624126977,
          40.48201214532898,
          null
         ]
        },
        {
         "hoverinfo": "text",
         "line": {
          "color": "rgba(236.0392156862745, 92.25490196078431, 59.31372549019608, 1.0)",
          "width": 8.271964682185182
         },
         "mode": "lines",
         "showlegend": false,
         "text": "Width: 8.27",
         "type": "scatter",
         "x": [
          -3.695056256825152,
          -3.695056256825152,
          null
         ],
         "y": [
          40.34253624126977,
          40.34253624126977,
          null
         ]
        },
        {
         "hoverinfo": "text",
         "line": {
          "color": "rgba(60.76470588235294, 91.05882352941177, 167.23529411764707, 1.0)",
          "width": 0.6156669608074555
         },
         "mode": "lines",
         "showlegend": false,
         "text": "Width: 0.62",
         "type": "scatter",
         "x": [
          -3.695056256825152,
          -3.6160073912284756,
          null
         ],
         "y": [
          40.34253624126977,
          40.34992967757026,
          null
         ]
        },
        {
         "hoverinfo": "text",
         "line": {
          "color": "rgba(50.568627450980394, 58.94117647058823, 151.4313725490196, 1.0)",
          "width": 0.5
         },
         "mode": "lines",
         "showlegend": false,
         "text": "Width: 0.50",
         "type": "scatter",
         "x": [
          -3.695056256825152,
          -3.572894771748725,
          null
         ],
         "y": [
          40.34253624126977,
          40.39356859265691,
          null
         ]
        },
        {
         "hoverinfo": "text",
         "line": {
          "color": "rgba(51.35294117647059, 61.411764705882355, 152.64705882352942, 1.0)",
          "width": 0.5
         },
         "mode": "lines",
         "showlegend": false,
         "text": "Width: 0.50",
         "type": "scatter",
         "x": [
          -3.695056256825152,
          -3.5986526886701378,
          null
         ],
         "y": [
          40.34253624126977,
          40.43466852782298,
          null
         ]
        },
        {
         "hoverinfo": "text",
         "line": {
          "color": "rgba(50.568627450980394, 58.94117647058823, 151.4313725490196, 1.0)",
          "width": 0.5
         },
         "mode": "lines",
         "showlegend": false,
         "text": "Width: 0.50",
         "type": "scatter",
         "x": [
          -3.695056256825152,
          -3.574543479322823,
          null
         ],
         "y": [
          40.34253624126977,
          40.4757410696608,
          null
         ]
        },
        {
         "hoverinfo": "text",
         "line": {
          "color": "rgba(57.62745098039216, 81.17647058823529, 162.37254901960785, 1.0)",
          "width": 0.5
         },
         "mode": "lines",
         "showlegend": false,
         "text": "Width: 0.50",
         "type": "scatter",
         "x": [
          -3.6160073912284756,
          -3.705268804063821,
          null
         ],
         "y": [
          40.34992967757026,
          40.41733007020507,
          null
         ]
        },
        {
         "hoverinfo": "text",
         "line": {
          "color": "rgba(52.92156862745099, 66.35294117647058, 155.07843137254903, 1.0)",
          "width": 0.5
         },
         "mode": "lines",
         "showlegend": false,
         "text": "Width: 0.50",
         "type": "scatter",
         "x": [
          -3.6160073912284756,
          -3.6966151949203576,
          null
         ],
         "y": [
          40.34992967757026,
          40.398119933450886,
          null
         ]
        },
        {
         "hoverinfo": "text",
         "line": {
          "color": "rgba(56.05882352941177, 76.23529411764707, 159.94117647058823, 1.0)",
          "width": 0.5
         },
         "mode": "lines",
         "showlegend": false,
         "text": "Width: 0.50",
         "type": "scatter",
         "x": [
          -3.6160073912284756,
          -3.67643837848883,
          null
         ],
         "y": [
          40.34992967757026,
          40.41138084576659,
          null
         ]
        },
        {
         "hoverinfo": "text",
         "line": {
          "color": "rgba(56.84313725490196, 78.70588235294117, 161.15686274509807, 1.0)",
          "width": 0.5
         },
         "mode": "lines",
         "showlegend": false,
         "text": "Width: 0.50",
         "type": "scatter",
         "x": [
          -3.6160073912284756,
          -3.6737887354917422,
          null
         ],
         "y": [
          40.34992967757026,
          40.43018370922185,
          null
         ]
        },
        {
         "hoverinfo": "text",
         "line": {
          "color": "rgba(53.705882352941174, 68.82352941176471, 156.2941176470588, 1.0)",
          "width": 0.5
         },
         "mode": "lines",
         "showlegend": false,
         "text": "Width: 0.50",
         "type": "scatter",
         "x": [
          -3.6160073912284756,
          -3.678150006537061,
          null
         ],
         "y": [
          40.34992967757026,
          40.45750039357669,
          null
         ]
        },
        {
         "hoverinfo": "text",
         "line": {
          "color": "rgba(52.13725490196079, 63.88235294117647, 153.86274509803923, 1.0)",
          "width": 0.5
         },
         "mode": "lines",
         "showlegend": false,
         "text": "Width: 0.50",
         "type": "scatter",
         "x": [
          -3.6160073912284756,
          -3.6999935507976827,
          null
         ],
         "y": [
          40.34992967757026,
          40.4606484776773,
          null
         ]
        },
        {
         "hoverinfo": "text",
         "line": {
          "color": "rgba(53.705882352941174, 68.82352941176471, 156.2941176470588, 1.0)",
          "width": 0.5
         },
         "mode": "lines",
         "showlegend": false,
         "text": "Width: 0.50",
         "type": "scatter",
         "x": [
          -3.6160073912284756,
          -3.703523951395161,
          null
         ],
         "y": [
          40.34992967757026,
          40.4375595509298,
          null
         ]
        },
        {
         "hoverinfo": "text",
         "line": {
          "color": "rgba(53.705882352941174, 68.82352941176471, 156.2941176470588, 1.0)",
          "width": 0.5
         },
         "mode": "lines",
         "showlegend": false,
         "text": "Width: 0.50",
         "type": "scatter",
         "x": [
          -3.6160073912284756,
          -3.753579560856663,
          null
         ],
         "y": [
          40.34992967757026,
          40.54479435831404,
          null
         ]
        },
        {
         "hoverinfo": "text",
         "line": {
          "color": "rgba(52.13725490196079, 63.88235294117647, 153.86274509803923, 1.0)",
          "width": 0.5
         },
         "mode": "lines",
         "showlegend": false,
         "text": "Width: 0.50",
         "type": "scatter",
         "x": [
          -3.6160073912284756,
          -3.757223268157654,
          null
         ],
         "y": [
          40.34992967757026,
          40.44543508494524,
          null
         ]
        },
        {
         "hoverinfo": "text",
         "line": {
          "color": "rgba(49.7843137254902, 56.470588235294116, 150.21568627450984, 1.0)",
          "width": 0.5
         },
         "mode": "lines",
         "showlegend": false,
         "text": "Width: 0.50",
         "type": "scatter",
         "x": [
          -3.6160073912284756,
          -3.778616540618283,
          null
         ],
         "y": [
          40.34992967757026,
          40.385273701511004,
          null
         ]
        },
        {
         "hoverinfo": "text",
         "line": {
          "color": "rgba(52.13725490196079, 63.88235294117647, 153.86274509803923, 1.0)",
          "width": 0.5
         },
         "mode": "lines",
         "showlegend": false,
         "text": "Width: 0.50",
         "type": "scatter",
         "x": [
          -3.6160073912284756,
          -3.737112400757822,
          null
         ],
         "y": [
          40.34992967757026,
          40.378840354576816,
          null
         ]
        },
        {
         "hoverinfo": "text",
         "line": {
          "color": "rgba(54.490196078431374, 71.29411764705883, 157.50980392156865, 1.0)",
          "width": 0.5
         },
         "mode": "lines",
         "showlegend": false,
         "text": "Width: 0.50",
         "type": "scatter",
         "x": [
          -3.6160073912284756,
          -3.7029808755455926,
          null
         ],
         "y": [
          40.34992967757026,
          40.37595000318738,
          null
         ]
        },
        {
         "hoverinfo": "text",
         "line": {
          "color": "rgba(141.8823529411765, 193.70588235294122, 220.2941176470588, 1.0)",
          "width": 2.47160210564683
         },
         "mode": "lines",
         "showlegend": false,
         "text": "Width: 2.47",
         "type": "scatter",
         "x": [
          -3.6160073912284756,
          -3.6598634715735407,
          null
         ],
         "y": [
          40.34992967757026,
          40.38355078734683,
          null
         ]
        },
        {
         "hoverinfo": "text",
         "line": {
          "color": "rgba(55.274509803921575, 73.76470588235294, 158.72549019607845, 1.0)",
          "width": 0.5
         },
         "mode": "lines",
         "showlegend": false,
         "text": "Width: 0.50",
         "type": "scatter",
         "x": [
          -3.6160073912284756,
          -3.6413909394895803,
          null
         ],
         "y": [
          40.34992967757026,
          40.40661270611631,
          null
         ]
        },
        {
         "hoverinfo": "text",
         "line": {
          "color": "rgba(52.92156862745099, 66.35294117647058, 155.07843137254903, 1.0)",
          "width": 0.5
         },
         "mode": "lines",
         "showlegend": false,
         "text": "Width: 0.50",
         "type": "scatter",
         "x": [
          -3.6160073912284756,
          -3.649948514601449,
          null
         ],
         "y": [
          40.34992967757026,
          40.43926990707227,
          null
         ]
        },
        {
         "hoverinfo": "text",
         "line": {
          "color": "rgba(52.92156862745099, 66.35294117647058, 155.07843137254903, 1.0)",
          "width": 0.5
         },
         "mode": "lines",
         "showlegend": false,
         "text": "Width: 0.50",
         "type": "scatter",
         "x": [
          -3.6160073912284756,
          -3.637741035389707,
          null
         ],
         "y": [
          40.34992967757026,
          40.48201214532898,
          null
         ]
        },
        {
         "hoverinfo": "text",
         "line": {
          "color": "rgba(66.25490196078432, 108.35294117647061, 175.74509803921572, 1.0)",
          "width": 0.8905357818606631
         },
         "mode": "lines",
         "showlegend": false,
         "text": "Width: 0.89",
         "type": "scatter",
         "x": [
          -3.6160073912284756,
          -3.695056256825152,
          null
         ],
         "y": [
          40.34992967757026,
          40.34253624126977,
          null
         ]
        },
        {
         "hoverinfo": "text",
         "line": {
          "color": "rgba(252.47058823529414, 170.17647058823536, 95.23529411764709, 1.0)",
          "width": 7.0679853967158675
         },
         "mode": "lines",
         "showlegend": false,
         "text": "Width: 7.07",
         "type": "scatter",
         "x": [
          -3.6160073912284756,
          -3.6160073912284756,
          null
         ],
         "y": [
          40.34992967757026,
          40.34992967757026,
          null
         ]
        },
        {
         "hoverinfo": "text",
         "line": {
          "color": "rgba(93.88235294117649, 146.64705882352945, 195.3529411764706, 1.0)",
          "width": 1.5343259888997445
         },
         "mode": "lines",
         "showlegend": false,
         "text": "Width: 1.53",
         "type": "scatter",
         "x": [
          -3.6160073912284756,
          -3.572894771748725,
          null
         ],
         "y": [
          40.34992967757026,
          40.39356859265691,
          null
         ]
        },
        {
         "hoverinfo": "text",
         "line": {
          "color": "rgba(53.705882352941174, 68.82352941176471, 156.2941176470588, 1.0)",
          "width": 0.5
         },
         "mode": "lines",
         "showlegend": false,
         "text": "Width: 0.50",
         "type": "scatter",
         "x": [
          -3.6160073912284756,
          -3.5986526886701378,
          null
         ],
         "y": [
          40.34992967757026,
          40.43466852782298,
          null
         ]
        },
        {
         "hoverinfo": "text",
         "line": {
          "color": "rgba(51.35294117647059, 61.411764705882355, 152.64705882352942, 1.0)",
          "width": 0.5
         },
         "mode": "lines",
         "showlegend": false,
         "text": "Width: 0.50",
         "type": "scatter",
         "x": [
          -3.6160073912284756,
          -3.574543479322823,
          null
         ],
         "y": [
          40.34992967757026,
          40.4757410696608,
          null
         ]
        },
        {
         "hoverinfo": "text",
         "line": {
          "color": "rgba(56.05882352941177, 76.23529411764707, 159.94117647058823, 1.0)",
          "width": 0.5
         },
         "mode": "lines",
         "showlegend": false,
         "text": "Width: 0.50",
         "type": "scatter",
         "x": [
          -3.572894771748725,
          -3.705268804063821,
          null
         ],
         "y": [
          40.39356859265691,
          40.41733007020507,
          null
         ]
        },
        {
         "hoverinfo": "text",
         "line": {
          "color": "rgba(51.35294117647059, 61.411764705882355, 152.64705882352942, 1.0)",
          "width": 0.5
         },
         "mode": "lines",
         "showlegend": false,
         "text": "Width: 0.50",
         "type": "scatter",
         "x": [
          -3.572894771748725,
          -3.6966151949203576,
          null
         ],
         "y": [
          40.39356859265691,
          40.398119933450886,
          null
         ]
        },
        {
         "hoverinfo": "text",
         "line": {
          "color": "rgba(57.62745098039216, 81.17647058823529, 162.37254901960785, 1.0)",
          "width": 0.5
         },
         "mode": "lines",
         "showlegend": false,
         "text": "Width: 0.50",
         "type": "scatter",
         "x": [
          -3.572894771748725,
          -3.67643837848883,
          null
         ],
         "y": [
          40.39356859265691,
          40.41138084576659,
          null
         ]
        },
        {
         "hoverinfo": "text",
         "line": {
          "color": "rgba(62.333333333333336, 96.0, 169.66666666666669, 1.0)",
          "width": 0.675130915911988
         },
         "mode": "lines",
         "showlegend": false,
         "text": "Width: 0.68",
         "type": "scatter",
         "x": [
          -3.572894771748725,
          -3.6737887354917422,
          null
         ],
         "y": [
          40.39356859265691,
          40.43018370922185,
          null
         ]
        },
        {
         "hoverinfo": "text",
         "line": {
          "color": "rgba(55.274509803921575, 73.76470588235294, 158.72549019607845, 1.0)",
          "width": 0.5
         },
         "mode": "lines",
         "showlegend": false,
         "text": "Width: 0.50",
         "type": "scatter",
         "x": [
          -3.572894771748725,
          -3.678150006537061,
          null
         ],
         "y": [
          40.39356859265691,
          40.45750039357669,
          null
         ]
        },
        {
         "hoverinfo": "text",
         "line": {
          "color": "rgba(52.13725490196079, 63.88235294117647, 153.86274509803923, 1.0)",
          "width": 0.5
         },
         "mode": "lines",
         "showlegend": false,
         "text": "Width: 0.50",
         "type": "scatter",
         "x": [
          -3.572894771748725,
          -3.6999935507976827,
          null
         ],
         "y": [
          40.39356859265691,
          40.4606484776773,
          null
         ]
        },
        {
         "hoverinfo": "text",
         "line": {
          "color": "rgba(55.274509803921575, 73.76470588235294, 158.72549019607845, 1.0)",
          "width": 0.5
         },
         "mode": "lines",
         "showlegend": false,
         "text": "Width: 0.50",
         "type": "scatter",
         "x": [
          -3.572894771748725,
          -3.703523951395161,
          null
         ],
         "y": [
          40.39356859265691,
          40.4375595509298,
          null
         ]
        },
        {
         "hoverinfo": "text",
         "line": {
          "color": "rgba(55.274509803921575, 73.76470588235294, 158.72549019607845, 1.0)",
          "width": 0.5
         },
         "mode": "lines",
         "showlegend": false,
         "text": "Width: 0.50",
         "type": "scatter",
         "x": [
          -3.572894771748725,
          -3.753579560856663,
          null
         ],
         "y": [
          40.39356859265691,
          40.54479435831404,
          null
         ]
        },
        {
         "hoverinfo": "text",
         "line": {
          "color": "rgba(52.92156862745099, 66.35294117647058, 155.07843137254903, 1.0)",
          "width": 0.5
         },
         "mode": "lines",
         "showlegend": false,
         "text": "Width: 0.50",
         "type": "scatter",
         "x": [
          -3.572894771748725,
          -3.757223268157654,
          null
         ],
         "y": [
          40.39356859265691,
          40.44543508494524,
          null
         ]
        },
        {
         "hoverinfo": "text",
         "line": {
          "color": "rgba(49.7843137254902, 56.470588235294116, 150.21568627450984, 1.0)",
          "width": 0.5
         },
         "mode": "lines",
         "showlegend": false,
         "text": "Width: 0.50",
         "type": "scatter",
         "x": [
          -3.572894771748725,
          -3.778616540618283,
          null
         ],
         "y": [
          40.39356859265691,
          40.385273701511004,
          null
         ]
        },
        {
         "hoverinfo": "text",
         "line": {
          "color": "rgba(50.568627450980394, 58.94117647058823, 151.4313725490196, 1.0)",
          "width": 0.5
         },
         "mode": "lines",
         "showlegend": false,
         "text": "Width: 0.50",
         "type": "scatter",
         "x": [
          -3.572894771748725,
          -3.737112400757822,
          null
         ],
         "y": [
          40.39356859265691,
          40.378840354576816,
          null
         ]
        },
        {
         "hoverinfo": "text",
         "line": {
          "color": "rgba(49.7843137254902, 56.470588235294116, 150.21568627450984, 1.0)",
          "width": 0.5
         },
         "mode": "lines",
         "showlegend": false,
         "text": "Width: 0.50",
         "type": "scatter",
         "x": [
          -3.572894771748725,
          -3.7029808755455926,
          null
         ],
         "y": [
          40.39356859265691,
          40.37595000318738,
          null
         ]
        },
        {
         "hoverinfo": "text",
         "line": {
          "color": "rgba(71.76470588235294, 120.29411764705884, 181.7058823529412, 1.0)",
          "width": 1.0876586266498494
         },
         "mode": "lines",
         "showlegend": false,
         "text": "Width: 1.09",
         "type": "scatter",
         "x": [
          -3.572894771748725,
          -3.6598634715735407,
          null
         ],
         "y": [
          40.39356859265691,
          40.38355078734683,
          null
         ]
        },
        {
         "hoverinfo": "text",
         "line": {
          "color": "rgba(77.29411764705883, 126.88235294117649, 185.11764705882354, 1.0)",
          "width": 1.1783197896977387
         },
         "mode": "lines",
         "showlegend": false,
         "text": "Width: 1.18",
         "type": "scatter",
         "x": [
          -3.572894771748725,
          -3.6413909394895803,
          null
         ],
         "y": [
          40.39356859265691,
          40.40661270611631,
          null
         ]
        },
        {
         "hoverinfo": "text",
         "line": {
          "color": "rgba(60.76470588235294, 91.05882352941177, 167.23529411764707, 1.0)",
          "width": 0.6046021170607336
         },
         "mode": "lines",
         "showlegend": false,
         "text": "Width: 0.60",
         "type": "scatter",
         "x": [
          -3.572894771748725,
          -3.649948514601449,
          null
         ],
         "y": [
          40.39356859265691,
          40.43926990707227,
          null
         ]
        },
        {
         "hoverinfo": "text",
         "line": {
          "color": "rgba(55.274509803921575, 73.76470588235294, 158.72549019607845, 1.0)",
          "width": 0.5
         },
         "mode": "lines",
         "showlegend": false,
         "text": "Width: 0.50",
         "type": "scatter",
         "x": [
          -3.572894771748725,
          -3.637741035389707,
          null
         ],
         "y": [
          40.39356859265691,
          40.48201214532898,
          null
         ]
        },
        {
         "hoverinfo": "text",
         "line": {
          "color": "rgba(50.568627450980394, 58.94117647058823, 151.4313725490196, 1.0)",
          "width": 0.5
         },
         "mode": "lines",
         "showlegend": false,
         "text": "Width: 0.50",
         "type": "scatter",
         "x": [
          -3.572894771748725,
          -3.695056256825152,
          null
         ],
         "y": [
          40.39356859265691,
          40.34253624126977,
          null
         ]
        },
        {
         "hoverinfo": "text",
         "line": {
          "color": "rgba(114.15686274509805, 170.8039215686275, 207.86274509803923, 1.0)",
          "width": 1.977891379808672
         },
         "mode": "lines",
         "showlegend": false,
         "text": "Width: 1.98",
         "type": "scatter",
         "x": [
          -3.572894771748725,
          -3.6160073912284756,
          null
         ],
         "y": [
          40.39356859265691,
          40.34992967757026,
          null
         ]
        },
        {
         "hoverinfo": "text",
         "line": {
          "color": "rgba(254.98039215686273, 254.39215686274508, 190.07843137254903, 1.0)",
          "width": 5.03441458092639
         },
         "mode": "lines",
         "showlegend": false,
         "text": "Width: 5.03",
         "type": "scatter",
         "x": [
          -3.572894771748725,
          -3.572894771748725,
          null
         ],
         "y": [
          40.39356859265691,
          40.39356859265691,
          null
         ]
        },
        {
         "hoverinfo": "text",
         "line": {
          "color": "rgba(131.0980392156863, 185.07843137254903, 215.58823529411765, 1.0)",
          "width": 2.295978559479115
         },
         "mode": "lines",
         "showlegend": false,
         "text": "Width: 2.30",
         "type": "scatter",
         "x": [
          -3.572894771748725,
          -3.5986526886701378,
          null
         ],
         "y": [
          40.39356859265691,
          40.43466852782298,
          null
         ]
        },
        {
         "hoverinfo": "text",
         "line": {
          "color": "rgba(55.274509803921575, 73.76470588235294, 158.72549019607845, 1.0)",
          "width": 0.5
         },
         "mode": "lines",
         "showlegend": false,
         "text": "Width: 0.50",
         "type": "scatter",
         "x": [
          -3.572894771748725,
          -3.574543479322823,
          null
         ],
         "y": [
          40.39356859265691,
          40.4757410696608,
          null
         ]
        },
        {
         "hoverinfo": "text",
         "line": {
          "color": "rgba(56.05882352941177, 76.23529411764707, 159.94117647058823, 1.0)",
          "width": 0.5
         },
         "mode": "lines",
         "showlegend": false,
         "text": "Width: 0.50",
         "type": "scatter",
         "x": [
          -3.5986526886701378,
          -3.705268804063821,
          null
         ],
         "y": [
          40.43466852782298,
          40.41733007020507,
          null
         ]
        },
        {
         "hoverinfo": "text",
         "line": {
          "color": "rgba(50.568627450980394, 58.94117647058823, 151.4313725490196, 1.0)",
          "width": 0.5
         },
         "mode": "lines",
         "showlegend": false,
         "text": "Width: 0.50",
         "type": "scatter",
         "x": [
          -3.5986526886701378,
          -3.6966151949203576,
          null
         ],
         "y": [
          40.43466852782298,
          40.398119933450886,
          null
         ]
        },
        {
         "hoverinfo": "text",
         "line": {
          "color": "rgba(52.92156862745099, 66.35294117647058, 155.07843137254903, 1.0)",
          "width": 0.5
         },
         "mode": "lines",
         "showlegend": false,
         "text": "Width: 0.50",
         "type": "scatter",
         "x": [
          -3.5986526886701378,
          -3.67643837848883,
          null
         ],
         "y": [
          40.43466852782298,
          40.41138084576659,
          null
         ]
        },
        {
         "hoverinfo": "text",
         "line": {
          "color": "rgba(61.54901960784314, 93.5294117647059, 168.45098039215688, 1.0)",
          "width": 0.6626821062570393
         },
         "mode": "lines",
         "showlegend": false,
         "text": "Width: 0.66",
         "type": "scatter",
         "x": [
          -3.5986526886701378,
          -3.6737887354917422,
          null
         ],
         "y": [
          40.43466852782298,
          40.43018370922185,
          null
         ]
        },
        {
         "hoverinfo": "text",
         "line": {
          "color": "rgba(56.84313725490196, 78.70588235294117, 161.15686274509807, 1.0)",
          "width": 0.5
         },
         "mode": "lines",
         "showlegend": false,
         "text": "Width: 0.50",
         "type": "scatter",
         "x": [
          -3.5986526886701378,
          -3.678150006537061,
          null
         ],
         "y": [
          40.43466852782298,
          40.45750039357669,
          null
         ]
        },
        {
         "hoverinfo": "text",
         "line": {
          "color": "rgba(52.13725490196079, 63.88235294117647, 153.86274509803923, 1.0)",
          "width": 0.5
         },
         "mode": "lines",
         "showlegend": false,
         "text": "Width: 0.50",
         "type": "scatter",
         "x": [
          -3.5986526886701378,
          -3.6999935507976827,
          null
         ],
         "y": [
          40.43466852782298,
          40.4606484776773,
          null
         ]
        },
        {
         "hoverinfo": "text",
         "line": {
          "color": "rgba(55.274509803921575, 73.76470588235294, 158.72549019607845, 1.0)",
          "width": 0.5
         },
         "mode": "lines",
         "showlegend": false,
         "text": "Width: 0.50",
         "type": "scatter",
         "x": [
          -3.5986526886701378,
          -3.703523951395161,
          null
         ],
         "y": [
          40.43466852782298,
          40.4375595509298,
          null
         ]
        },
        {
         "hoverinfo": "text",
         "line": {
          "color": "rgba(56.05882352941177, 76.23529411764707, 159.94117647058823, 1.0)",
          "width": 0.5
         },
         "mode": "lines",
         "showlegend": false,
         "text": "Width: 0.50",
         "type": "scatter",
         "x": [
          -3.5986526886701378,
          -3.753579560856663,
          null
         ],
         "y": [
          40.43466852782298,
          40.54479435831404,
          null
         ]
        },
        {
         "hoverinfo": "text",
         "line": {
          "color": "rgba(52.92156862745099, 66.35294117647058, 155.07843137254903, 1.0)",
          "width": 0.5
         },
         "mode": "lines",
         "showlegend": false,
         "text": "Width: 0.50",
         "type": "scatter",
         "x": [
          -3.5986526886701378,
          -3.757223268157654,
          null
         ],
         "y": [
          40.43466852782298,
          40.44543508494524,
          null
         ]
        },
        {
         "hoverinfo": "text",
         "line": {
          "color": "rgba(49.0, 54.0, 149.0, 1.0)",
          "width": 0.5
         },
         "mode": "lines",
         "showlegend": false,
         "text": "Width: 0.50",
         "type": "scatter",
         "x": [
          -3.5986526886701378,
          -3.778616540618283,
          null
         ],
         "y": [
          40.43466852782298,
          40.385273701511004,
          null
         ]
        },
        {
         "hoverinfo": "text",
         "line": {
          "color": "rgba(49.7843137254902, 56.470588235294116, 150.21568627450984, 1.0)",
          "width": 0.5
         },
         "mode": "lines",
         "showlegend": false,
         "text": "Width: 0.50",
         "type": "scatter",
         "x": [
          -3.5986526886701378,
          -3.737112400757822,
          null
         ],
         "y": [
          40.43466852782298,
          40.378840354576816,
          null
         ]
        },
        {
         "hoverinfo": "text",
         "line": {
          "color": "rgba(49.7843137254902, 56.470588235294116, 150.21568627450984, 1.0)",
          "width": 0.5
         },
         "mode": "lines",
         "showlegend": false,
         "text": "Width: 0.50",
         "type": "scatter",
         "x": [
          -3.5986526886701378,
          -3.7029808755455926,
          null
         ],
         "y": [
          40.43466852782298,
          40.37595000318738,
          null
         ]
        },
        {
         "hoverinfo": "text",
         "line": {
          "color": "rgba(51.35294117647059, 61.411764705882355, 152.64705882352942, 1.0)",
          "width": 0.5
         },
         "mode": "lines",
         "showlegend": false,
         "text": "Width: 0.50",
         "type": "scatter",
         "x": [
          -3.5986526886701378,
          -3.6598634715735407,
          null
         ],
         "y": [
          40.43466852782298,
          40.38355078734683,
          null
         ]
        },
        {
         "hoverinfo": "text",
         "line": {
          "color": "rgba(55.274509803921575, 73.76470588235294, 158.72549019607845, 1.0)",
          "width": 0.5
         },
         "mode": "lines",
         "showlegend": false,
         "text": "Width: 0.50",
         "type": "scatter",
         "x": [
          -3.5986526886701378,
          -3.6413909394895803,
          null
         ],
         "y": [
          40.43466852782298,
          40.40661270611631,
          null
         ]
        },
        {
         "hoverinfo": "text",
         "line": {
          "color": "rgba(106.78431372549022, 162.0196078431373, 203.31372549019608, 1.0)",
          "width": 1.7991066837991854
         },
         "mode": "lines",
         "showlegend": false,
         "text": "Width: 1.80",
         "type": "scatter",
         "x": [
          -3.5986526886701378,
          -3.649948514601449,
          null
         ],
         "y": [
          40.43466852782298,
          40.43926990707227,
          null
         ]
        },
        {
         "hoverinfo": "text",
         "line": {
          "color": "rgba(66.25490196078432, 108.35294117647061, 175.74509803921572, 1.0)",
          "width": 0.8855011677329556
         },
         "mode": "lines",
         "showlegend": false,
         "text": "Width: 0.89",
         "type": "scatter",
         "x": [
          -3.5986526886701378,
          -3.637741035389707,
          null
         ],
         "y": [
          40.43466852782298,
          40.48201214532898,
          null
         ]
        },
        {
         "hoverinfo": "text",
         "line": {
          "color": "rgba(49.0, 54.0, 149.0, 1.0)",
          "width": 0.5
         },
         "mode": "lines",
         "showlegend": false,
         "text": "Width: 0.50",
         "type": "scatter",
         "x": [
          -3.5986526886701378,
          -3.695056256825152,
          null
         ],
         "y": [
          40.43466852782298,
          40.34253624126977,
          null
         ]
        },
        {
         "hoverinfo": "text",
         "line": {
          "color": "rgba(52.13725490196079, 63.88235294117647, 153.86274509803923, 1.0)",
          "width": 0.5
         },
         "mode": "lines",
         "showlegend": false,
         "text": "Width: 0.50",
         "type": "scatter",
         "x": [
          -3.5986526886701378,
          -3.6160073912284756,
          null
         ],
         "y": [
          40.43466852782298,
          40.34992967757026,
          null
         ]
        },
        {
         "hoverinfo": "text",
         "line": {
          "color": "rgba(88.35294117647061, 140.0588235294118, 191.94117647058823, 1.0)",
          "width": 1.4202119781162106
         },
         "mode": "lines",
         "showlegend": false,
         "text": "Width: 1.42",
         "type": "scatter",
         "x": [
          -3.5986526886701378,
          -3.572894771748725,
          null
         ],
         "y": [
          40.43466852782298,
          40.39356859265691,
          null
         ]
        },
        {
         "hoverinfo": "text",
         "line": {
          "color": "rgba(250.35294117647058, 154.88235294117646, 88.17647058823529, 1.0)",
          "width": 7.289856190207931
         },
         "mode": "lines",
         "showlegend": false,
         "text": "Width: 7.29",
         "type": "scatter",
         "x": [
          -3.5986526886701378,
          -3.5986526886701378,
          null
         ],
         "y": [
          40.43466852782298,
          40.43466852782298,
          null
         ]
        },
        {
         "hoverinfo": "text",
         "line": {
          "color": "rgba(73.60784313725492, 122.49019607843138, 182.84313725490196, 1.0)",
          "width": 1.1295478428081904
         },
         "mode": "lines",
         "showlegend": false,
         "text": "Width: 1.13",
         "type": "scatter",
         "x": [
          -3.5986526886701378,
          -3.574543479322823,
          null
         ],
         "y": [
          40.43466852782298,
          40.4757410696608,
          null
         ]
        },
        {
         "hoverinfo": "text",
         "line": {
          "color": "rgba(54.490196078431374, 71.29411764705883, 157.50980392156865, 1.0)",
          "width": 0.5
         },
         "mode": "lines",
         "showlegend": false,
         "text": "Width: 0.50",
         "type": "scatter",
         "x": [
          -3.574543479322823,
          -3.705268804063821,
          null
         ],
         "y": [
          40.4757410696608,
          40.41733007020507,
          null
         ]
        },
        {
         "hoverinfo": "text",
         "line": {
          "color": "rgba(49.7843137254902, 56.470588235294116, 150.21568627450984, 1.0)",
          "width": 0.5
         },
         "mode": "lines",
         "showlegend": false,
         "text": "Width: 0.50",
         "type": "scatter",
         "x": [
          -3.574543479322823,
          -3.6966151949203576,
          null
         ],
         "y": [
          40.4757410696608,
          40.398119933450886,
          null
         ]
        },
        {
         "hoverinfo": "text",
         "line": {
          "color": "rgba(50.568627450980394, 58.94117647058823, 151.4313725490196, 1.0)",
          "width": 0.5
         },
         "mode": "lines",
         "showlegend": false,
         "text": "Width: 0.50",
         "type": "scatter",
         "x": [
          -3.574543479322823,
          -3.67643837848883,
          null
         ],
         "y": [
          40.4757410696608,
          40.41138084576659,
          null
         ]
        },
        {
         "hoverinfo": "text",
         "line": {
          "color": "rgba(56.84313725490196, 78.70588235294117, 161.15686274509807, 1.0)",
          "width": 0.5
         },
         "mode": "lines",
         "showlegend": false,
         "text": "Width: 0.50",
         "type": "scatter",
         "x": [
          -3.574543479322823,
          -3.6737887354917422,
          null
         ],
         "y": [
          40.4757410696608,
          40.43018370922185,
          null
         ]
        },
        {
         "hoverinfo": "text",
         "line": {
          "color": "rgba(57.62745098039216, 81.17647058823529, 162.37254901960785, 1.0)",
          "width": 0.5
         },
         "mode": "lines",
         "showlegend": false,
         "text": "Width: 0.50",
         "type": "scatter",
         "x": [
          -3.574543479322823,
          -3.678150006537061,
          null
         ],
         "y": [
          40.4757410696608,
          40.45750039357669,
          null
         ]
        },
        {
         "hoverinfo": "text",
         "line": {
          "color": "rgba(52.13725490196079, 63.88235294117647, 153.86274509803923, 1.0)",
          "width": 0.5
         },
         "mode": "lines",
         "showlegend": false,
         "text": "Width: 0.50",
         "type": "scatter",
         "x": [
          -3.574543479322823,
          -3.6999935507976827,
          null
         ],
         "y": [
          40.4757410696608,
          40.4606484776773,
          null
         ]
        },
        {
         "hoverinfo": "text",
         "line": {
          "color": "rgba(55.274509803921575, 73.76470588235294, 158.72549019607845, 1.0)",
          "width": 0.5
         },
         "mode": "lines",
         "showlegend": false,
         "text": "Width: 0.50",
         "type": "scatter",
         "x": [
          -3.574543479322823,
          -3.703523951395161,
          null
         ],
         "y": [
          40.4757410696608,
          40.4375595509298,
          null
         ]
        },
        {
         "hoverinfo": "text",
         "line": {
          "color": "rgba(59.196078431372555, 86.11764705882355, 164.8039215686275, 1.0)",
          "width": 0.5426906642254995
         },
         "mode": "lines",
         "showlegend": false,
         "text": "Width: 0.54",
         "type": "scatter",
         "x": [
          -3.574543479322823,
          -3.753579560856663,
          null
         ],
         "y": [
          40.4757410696608,
          40.54479435831404,
          null
         ]
        },
        {
         "hoverinfo": "text",
         "line": {
          "color": "rgba(52.13725490196079, 63.88235294117647, 153.86274509803923, 1.0)",
          "width": 0.5
         },
         "mode": "lines",
         "showlegend": false,
         "text": "Width: 0.50",
         "type": "scatter",
         "x": [
          -3.574543479322823,
          -3.757223268157654,
          null
         ],
         "y": [
          40.4757410696608,
          40.44543508494524,
          null
         ]
        },
        {
         "hoverinfo": "text",
         "line": {
          "color": "rgba(49.0, 54.0, 149.0, 1.0)",
          "width": 0.5
         },
         "mode": "lines",
         "showlegend": false,
         "text": "Width: 0.50",
         "type": "scatter",
         "x": [
          -3.574543479322823,
          -3.778616540618283,
          null
         ],
         "y": [
          40.4757410696608,
          40.385273701511004,
          null
         ]
        },
        {
         "hoverinfo": "text",
         "line": {
          "color": "rgba(49.0, 54.0, 149.0, 1.0)",
          "width": 0.5
         },
         "mode": "lines",
         "showlegend": false,
         "text": "Width: 0.50",
         "type": "scatter",
         "x": [
          -3.574543479322823,
          -3.737112400757822,
          null
         ],
         "y": [
          40.4757410696608,
          40.378840354576816,
          null
         ]
        },
        {
         "hoverinfo": "text",
         "line": {
          "color": "rgba(49.0, 54.0, 149.0, 1.0)",
          "width": 0.5
         },
         "mode": "lines",
         "showlegend": false,
         "text": "Width: 0.50",
         "type": "scatter",
         "x": [
          -3.574543479322823,
          -3.7029808755455926,
          null
         ],
         "y": [
          40.4757410696608,
          40.37595000318738,
          null
         ]
        },
        {
         "hoverinfo": "text",
         "line": {
          "color": "rgba(49.7843137254902, 56.470588235294116, 150.21568627450984, 1.0)",
          "width": 0.5
         },
         "mode": "lines",
         "showlegend": false,
         "text": "Width: 0.50",
         "type": "scatter",
         "x": [
          -3.574543479322823,
          -3.6598634715735407,
          null
         ],
         "y": [
          40.4757410696608,
          40.38355078734683,
          null
         ]
        },
        {
         "hoverinfo": "text",
         "line": {
          "color": "rgba(49.0, 54.0, 149.0, 1.0)",
          "width": 0.5
         },
         "mode": "lines",
         "showlegend": false,
         "text": "Width: 0.50",
         "type": "scatter",
         "x": [
          -3.574543479322823,
          -3.6413909394895803,
          null
         ],
         "y": [
          40.4757410696608,
          40.40661270611631,
          null
         ]
        },
        {
         "hoverinfo": "text",
         "line": {
          "color": "rgba(58.411764705882355, 83.64705882352942, 163.58823529411765, 1.0)",
          "width": 0.5
         },
         "mode": "lines",
         "showlegend": false,
         "text": "Width: 0.50",
         "type": "scatter",
         "x": [
          -3.574543479322823,
          -3.649948514601449,
          null
         ],
         "y": [
          40.4757410696608,
          40.43926990707227,
          null
         ]
        },
        {
         "hoverinfo": "text",
         "line": {
          "color": "rgba(159.1372549019608, 207.50980392156865, 227.82352941176472, 1.0)",
          "width": 2.8002309864936348
         },
         "mode": "lines",
         "showlegend": false,
         "text": "Width: 2.80",
         "type": "scatter",
         "x": [
          -3.574543479322823,
          -3.637741035389707,
          null
         ],
         "y": [
          40.4757410696608,
          40.48201214532898,
          null
         ]
        },
        {
         "hoverinfo": "text",
         "line": {
          "color": "rgba(49.0, 54.0, 149.0, 1.0)",
          "width": 0.5
         },
         "mode": "lines",
         "showlegend": false,
         "text": "Width: 0.50",
         "type": "scatter",
         "x": [
          -3.574543479322823,
          -3.695056256825152,
          null
         ],
         "y": [
          40.4757410696608,
          40.34253624126977,
          null
         ]
        },
        {
         "hoverinfo": "text",
         "line": {
          "color": "rgba(49.7843137254902, 56.470588235294116, 150.21568627450984, 1.0)",
          "width": 0.5
         },
         "mode": "lines",
         "showlegend": false,
         "text": "Width: 0.50",
         "type": "scatter",
         "x": [
          -3.574543479322823,
          -3.6160073912284756,
          null
         ],
         "y": [
          40.4757410696608,
          40.34992967757026,
          null
         ]
        },
        {
         "hoverinfo": "text",
         "line": {
          "color": "rgba(49.7843137254902, 56.470588235294116, 150.21568627450984, 1.0)",
          "width": 0.5
         },
         "mode": "lines",
         "showlegend": false,
         "text": "Width: 0.50",
         "type": "scatter",
         "x": [
          -3.574543479322823,
          -3.572894771748725,
          null
         ],
         "y": [
          40.4757410696608,
          40.39356859265691,
          null
         ]
        },
        {
         "hoverinfo": "text",
         "line": {
          "color": "rgba(133.2549019607843, 186.8039215686275, 216.52941176470588, 1.0)",
          "width": 2.3080575399515024
         },
         "mode": "lines",
         "showlegend": false,
         "text": "Width: 2.31",
         "type": "scatter",
         "x": [
          -3.574543479322823,
          -3.5986526886701378,
          null
         ],
         "y": [
          40.4757410696608,
          40.43466852782298,
          null
         ]
        },
        {
         "hoverinfo": "text",
         "line": {
          "color": "rgba(245.76470588235296, 121.74509803921568, 72.88235294117646, 1.0)",
          "width": 7.802798706865393
         },
         "mode": "lines",
         "showlegend": false,
         "text": "Width: 7.80",
         "type": "scatter",
         "x": [
          -3.574543479322823,
          -3.574543479322823,
          null
         ],
         "y": [
          40.4757410696608,
          40.4757410696608,
          null
         ]
        },
        {
         "hoverinfo": "text",
         "marker": {
          "color": "white",
          "line": {
           "color": "#888",
           "width": 2
          },
          "size": [
           29.97981405674691,
           16.051864658038955,
           18.909987386526467,
           30.7387630668978,
           30.7387630668978,
           26.007036490992977,
           26.528902257932007,
           20.82175639613911,
           30.7387630668978,
           17.10759871580813,
           18.909987386526467,
           19.34137840352026,
           16.83987879207686,
           16.706967939118996,
           23.00534874913049,
           25.320868886096314,
           17.24240978471136,
           16.181628534532305,
           15.286399793678036,
           19.925673301675904,
           19.053135848433982
          ]
         },
         "mode": "markers",
         "showlegend": false,
         "text": [
          "District: Centro",
          "District: Arganzuela",
          "District: Retiro",
          "District: Salamanca",
          "District: Chamartín",
          "District: Tetuán",
          "District: Chamberí",
          "District: Fuencarral-El Pardo",
          "District: Moncloa-Aravaca",
          "District: Latina",
          "District: Carabanchel",
          "District: Usera",
          "District: Puente de Vallecas",
          "District: Moratalaz",
          "District: Ciudad Lineal",
          "District: Hortaleza",
          "District: Villaverde",
          "District: Villa de Vallecas",
          "District: Vicálvaro",
          "District: San Blas-Canillejas",
          "District: Barajas"
         ],
         "type": "scatter",
         "x": [
          -3.705268804063821,
          -3.6966151949203576,
          -3.67643837848883,
          -3.6737887354917422,
          -3.678150006537061,
          -3.6999935507976827,
          -3.703523951395161,
          -3.753579560856663,
          -3.757223268157654,
          -3.778616540618283,
          -3.737112400757822,
          -3.7029808755455926,
          -3.6598634715735407,
          -3.6413909394895803,
          -3.649948514601449,
          -3.637741035389707,
          -3.695056256825152,
          -3.6160073912284756,
          -3.572894771748725,
          -3.5986526886701378,
          -3.574543479322823
         ],
         "y": [
          40.41733007020507,
          40.398119933450886,
          40.41138084576659,
          40.43018370922185,
          40.45750039357669,
          40.4606484776773,
          40.4375595509298,
          40.54479435831404,
          40.44543508494524,
          40.385273701511004,
          40.378840354576816,
          40.37595000318738,
          40.38355078734683,
          40.40661270611631,
          40.43926990707227,
          40.48201214532898,
          40.34253624126977,
          40.34992967757026,
          40.39356859265691,
          40.43466852782298,
          40.4757410696608
         ]
        },
        {
         "hoverinfo": "none",
         "marker": {
          "cmax": 1,
          "cmin": 0,
          "colorbar": {
           "ticktext": [
            "0.00",
            "0.25",
            "0.50",
            "0.75",
            "1.00"
           ],
           "tickvals": [
            0,
            0.25,
            0.5,
            0.75,
            1
           ],
           "title": {
            "text": "Edge Weight"
           }
          },
          "colorscale": [
           [
            0,
            "rgb(49,54,149)"
           ],
           [
            0.1,
            "rgb(69,117,180)"
           ],
           [
            0.2,
            "rgb(116,173,209)"
           ],
           [
            0.3,
            "rgb(171,217,233)"
           ],
           [
            0.4,
            "rgb(224,243,248)"
           ],
           [
            0.5,
            "rgb(255,255,191)"
           ],
           [
            0.6,
            "rgb(254,224,144)"
           ],
           [
            0.7,
            "rgb(253,174,97)"
           ],
           [
            0.8,
            "rgb(244,109,67)"
           ],
           [
            0.9,
            "rgb(215,48,39)"
           ],
           [
            1,
            "rgb(165,0,38)"
           ]
          ],
          "showscale": true
         },
         "mode": "markers",
         "type": "scatter",
         "x": [
          null
         ],
         "y": [
          null
         ]
        }
       ],
       "layout": {
        "hovermode": "closest",
        "margin": {
         "b": 0,
         "l": 0,
         "r": 0,
         "t": 0
        },
        "showlegend": true,
        "template": {
         "data": {
          "bar": [
           {
            "error_x": {
             "color": "#2a3f5f"
            },
            "error_y": {
             "color": "#2a3f5f"
            },
            "marker": {
             "line": {
              "color": "#E5ECF6",
              "width": 0.5
             },
             "pattern": {
              "fillmode": "overlay",
              "size": 10,
              "solidity": 0.2
             }
            },
            "type": "bar"
           }
          ],
          "barpolar": [
           {
            "marker": {
             "line": {
              "color": "#E5ECF6",
              "width": 0.5
             },
             "pattern": {
              "fillmode": "overlay",
              "size": 10,
              "solidity": 0.2
             }
            },
            "type": "barpolar"
           }
          ],
          "carpet": [
           {
            "aaxis": {
             "endlinecolor": "#2a3f5f",
             "gridcolor": "white",
             "linecolor": "white",
             "minorgridcolor": "white",
             "startlinecolor": "#2a3f5f"
            },
            "baxis": {
             "endlinecolor": "#2a3f5f",
             "gridcolor": "white",
             "linecolor": "white",
             "minorgridcolor": "white",
             "startlinecolor": "#2a3f5f"
            },
            "type": "carpet"
           }
          ],
          "choropleth": [
           {
            "colorbar": {
             "outlinewidth": 0,
             "ticks": ""
            },
            "type": "choropleth"
           }
          ],
          "contour": [
           {
            "colorbar": {
             "outlinewidth": 0,
             "ticks": ""
            },
            "colorscale": [
             [
              0,
              "#0d0887"
             ],
             [
              0.1111111111111111,
              "#46039f"
             ],
             [
              0.2222222222222222,
              "#7201a8"
             ],
             [
              0.3333333333333333,
              "#9c179e"
             ],
             [
              0.4444444444444444,
              "#bd3786"
             ],
             [
              0.5555555555555556,
              "#d8576b"
             ],
             [
              0.6666666666666666,
              "#ed7953"
             ],
             [
              0.7777777777777778,
              "#fb9f3a"
             ],
             [
              0.8888888888888888,
              "#fdca26"
             ],
             [
              1,
              "#f0f921"
             ]
            ],
            "type": "contour"
           }
          ],
          "contourcarpet": [
           {
            "colorbar": {
             "outlinewidth": 0,
             "ticks": ""
            },
            "type": "contourcarpet"
           }
          ],
          "heatmap": [
           {
            "colorbar": {
             "outlinewidth": 0,
             "ticks": ""
            },
            "colorscale": [
             [
              0,
              "#0d0887"
             ],
             [
              0.1111111111111111,
              "#46039f"
             ],
             [
              0.2222222222222222,
              "#7201a8"
             ],
             [
              0.3333333333333333,
              "#9c179e"
             ],
             [
              0.4444444444444444,
              "#bd3786"
             ],
             [
              0.5555555555555556,
              "#d8576b"
             ],
             [
              0.6666666666666666,
              "#ed7953"
             ],
             [
              0.7777777777777778,
              "#fb9f3a"
             ],
             [
              0.8888888888888888,
              "#fdca26"
             ],
             [
              1,
              "#f0f921"
             ]
            ],
            "type": "heatmap"
           }
          ],
          "heatmapgl": [
           {
            "colorbar": {
             "outlinewidth": 0,
             "ticks": ""
            },
            "colorscale": [
             [
              0,
              "#0d0887"
             ],
             [
              0.1111111111111111,
              "#46039f"
             ],
             [
              0.2222222222222222,
              "#7201a8"
             ],
             [
              0.3333333333333333,
              "#9c179e"
             ],
             [
              0.4444444444444444,
              "#bd3786"
             ],
             [
              0.5555555555555556,
              "#d8576b"
             ],
             [
              0.6666666666666666,
              "#ed7953"
             ],
             [
              0.7777777777777778,
              "#fb9f3a"
             ],
             [
              0.8888888888888888,
              "#fdca26"
             ],
             [
              1,
              "#f0f921"
             ]
            ],
            "type": "heatmapgl"
           }
          ],
          "histogram": [
           {
            "marker": {
             "pattern": {
              "fillmode": "overlay",
              "size": 10,
              "solidity": 0.2
             }
            },
            "type": "histogram"
           }
          ],
          "histogram2d": [
           {
            "colorbar": {
             "outlinewidth": 0,
             "ticks": ""
            },
            "colorscale": [
             [
              0,
              "#0d0887"
             ],
             [
              0.1111111111111111,
              "#46039f"
             ],
             [
              0.2222222222222222,
              "#7201a8"
             ],
             [
              0.3333333333333333,
              "#9c179e"
             ],
             [
              0.4444444444444444,
              "#bd3786"
             ],
             [
              0.5555555555555556,
              "#d8576b"
             ],
             [
              0.6666666666666666,
              "#ed7953"
             ],
             [
              0.7777777777777778,
              "#fb9f3a"
             ],
             [
              0.8888888888888888,
              "#fdca26"
             ],
             [
              1,
              "#f0f921"
             ]
            ],
            "type": "histogram2d"
           }
          ],
          "histogram2dcontour": [
           {
            "colorbar": {
             "outlinewidth": 0,
             "ticks": ""
            },
            "colorscale": [
             [
              0,
              "#0d0887"
             ],
             [
              0.1111111111111111,
              "#46039f"
             ],
             [
              0.2222222222222222,
              "#7201a8"
             ],
             [
              0.3333333333333333,
              "#9c179e"
             ],
             [
              0.4444444444444444,
              "#bd3786"
             ],
             [
              0.5555555555555556,
              "#d8576b"
             ],
             [
              0.6666666666666666,
              "#ed7953"
             ],
             [
              0.7777777777777778,
              "#fb9f3a"
             ],
             [
              0.8888888888888888,
              "#fdca26"
             ],
             [
              1,
              "#f0f921"
             ]
            ],
            "type": "histogram2dcontour"
           }
          ],
          "mesh3d": [
           {
            "colorbar": {
             "outlinewidth": 0,
             "ticks": ""
            },
            "type": "mesh3d"
           }
          ],
          "parcoords": [
           {
            "line": {
             "colorbar": {
              "outlinewidth": 0,
              "ticks": ""
             }
            },
            "type": "parcoords"
           }
          ],
          "pie": [
           {
            "automargin": true,
            "type": "pie"
           }
          ],
          "scatter": [
           {
            "fillpattern": {
             "fillmode": "overlay",
             "size": 10,
             "solidity": 0.2
            },
            "type": "scatter"
           }
          ],
          "scatter3d": [
           {
            "line": {
             "colorbar": {
              "outlinewidth": 0,
              "ticks": ""
             }
            },
            "marker": {
             "colorbar": {
              "outlinewidth": 0,
              "ticks": ""
             }
            },
            "type": "scatter3d"
           }
          ],
          "scattercarpet": [
           {
            "marker": {
             "colorbar": {
              "outlinewidth": 0,
              "ticks": ""
             }
            },
            "type": "scattercarpet"
           }
          ],
          "scattergeo": [
           {
            "marker": {
             "colorbar": {
              "outlinewidth": 0,
              "ticks": ""
             }
            },
            "type": "scattergeo"
           }
          ],
          "scattergl": [
           {
            "marker": {
             "colorbar": {
              "outlinewidth": 0,
              "ticks": ""
             }
            },
            "type": "scattergl"
           }
          ],
          "scattermapbox": [
           {
            "marker": {
             "colorbar": {
              "outlinewidth": 0,
              "ticks": ""
             }
            },
            "type": "scattermapbox"
           }
          ],
          "scatterpolar": [
           {
            "marker": {
             "colorbar": {
              "outlinewidth": 0,
              "ticks": ""
             }
            },
            "type": "scatterpolar"
           }
          ],
          "scatterpolargl": [
           {
            "marker": {
             "colorbar": {
              "outlinewidth": 0,
              "ticks": ""
             }
            },
            "type": "scatterpolargl"
           }
          ],
          "scatterternary": [
           {
            "marker": {
             "colorbar": {
              "outlinewidth": 0,
              "ticks": ""
             }
            },
            "type": "scatterternary"
           }
          ],
          "surface": [
           {
            "colorbar": {
             "outlinewidth": 0,
             "ticks": ""
            },
            "colorscale": [
             [
              0,
              "#0d0887"
             ],
             [
              0.1111111111111111,
              "#46039f"
             ],
             [
              0.2222222222222222,
              "#7201a8"
             ],
             [
              0.3333333333333333,
              "#9c179e"
             ],
             [
              0.4444444444444444,
              "#bd3786"
             ],
             [
              0.5555555555555556,
              "#d8576b"
             ],
             [
              0.6666666666666666,
              "#ed7953"
             ],
             [
              0.7777777777777778,
              "#fb9f3a"
             ],
             [
              0.8888888888888888,
              "#fdca26"
             ],
             [
              1,
              "#f0f921"
             ]
            ],
            "type": "surface"
           }
          ],
          "table": [
           {
            "cells": {
             "fill": {
              "color": "#EBF0F8"
             },
             "line": {
              "color": "white"
             }
            },
            "header": {
             "fill": {
              "color": "#C8D4E3"
             },
             "line": {
              "color": "white"
             }
            },
            "type": "table"
           }
          ]
         },
         "layout": {
          "annotationdefaults": {
           "arrowcolor": "#2a3f5f",
           "arrowhead": 0,
           "arrowwidth": 1
          },
          "autotypenumbers": "strict",
          "coloraxis": {
           "colorbar": {
            "outlinewidth": 0,
            "ticks": ""
           }
          },
          "colorscale": {
           "diverging": [
            [
             0,
             "#8e0152"
            ],
            [
             0.1,
             "#c51b7d"
            ],
            [
             0.2,
             "#de77ae"
            ],
            [
             0.3,
             "#f1b6da"
            ],
            [
             0.4,
             "#fde0ef"
            ],
            [
             0.5,
             "#f7f7f7"
            ],
            [
             0.6,
             "#e6f5d0"
            ],
            [
             0.7,
             "#b8e186"
            ],
            [
             0.8,
             "#7fbc41"
            ],
            [
             0.9,
             "#4d9221"
            ],
            [
             1,
             "#276419"
            ]
           ],
           "sequential": [
            [
             0,
             "#0d0887"
            ],
            [
             0.1111111111111111,
             "#46039f"
            ],
            [
             0.2222222222222222,
             "#7201a8"
            ],
            [
             0.3333333333333333,
             "#9c179e"
            ],
            [
             0.4444444444444444,
             "#bd3786"
            ],
            [
             0.5555555555555556,
             "#d8576b"
            ],
            [
             0.6666666666666666,
             "#ed7953"
            ],
            [
             0.7777777777777778,
             "#fb9f3a"
            ],
            [
             0.8888888888888888,
             "#fdca26"
            ],
            [
             1,
             "#f0f921"
            ]
           ],
           "sequentialminus": [
            [
             0,
             "#0d0887"
            ],
            [
             0.1111111111111111,
             "#46039f"
            ],
            [
             0.2222222222222222,
             "#7201a8"
            ],
            [
             0.3333333333333333,
             "#9c179e"
            ],
            [
             0.4444444444444444,
             "#bd3786"
            ],
            [
             0.5555555555555556,
             "#d8576b"
            ],
            [
             0.6666666666666666,
             "#ed7953"
            ],
            [
             0.7777777777777778,
             "#fb9f3a"
            ],
            [
             0.8888888888888888,
             "#fdca26"
            ],
            [
             1,
             "#f0f921"
            ]
           ]
          },
          "colorway": [
           "#636efa",
           "#EF553B",
           "#00cc96",
           "#ab63fa",
           "#FFA15A",
           "#19d3f3",
           "#FF6692",
           "#B6E880",
           "#FF97FF",
           "#FECB52"
          ],
          "font": {
           "color": "#2a3f5f"
          },
          "geo": {
           "bgcolor": "white",
           "lakecolor": "white",
           "landcolor": "#E5ECF6",
           "showlakes": true,
           "showland": true,
           "subunitcolor": "white"
          },
          "hoverlabel": {
           "align": "left"
          },
          "hovermode": "closest",
          "mapbox": {
           "style": "light"
          },
          "paper_bgcolor": "white",
          "plot_bgcolor": "#E5ECF6",
          "polar": {
           "angularaxis": {
            "gridcolor": "white",
            "linecolor": "white",
            "ticks": ""
           },
           "bgcolor": "#E5ECF6",
           "radialaxis": {
            "gridcolor": "white",
            "linecolor": "white",
            "ticks": ""
           }
          },
          "scene": {
           "xaxis": {
            "backgroundcolor": "#E5ECF6",
            "gridcolor": "white",
            "gridwidth": 2,
            "linecolor": "white",
            "showbackground": true,
            "ticks": "",
            "zerolinecolor": "white"
           },
           "yaxis": {
            "backgroundcolor": "#E5ECF6",
            "gridcolor": "white",
            "gridwidth": 2,
            "linecolor": "white",
            "showbackground": true,
            "ticks": "",
            "zerolinecolor": "white"
           },
           "zaxis": {
            "backgroundcolor": "#E5ECF6",
            "gridcolor": "white",
            "gridwidth": 2,
            "linecolor": "white",
            "showbackground": true,
            "ticks": "",
            "zerolinecolor": "white"
           }
          },
          "shapedefaults": {
           "line": {
            "color": "#2a3f5f"
           }
          },
          "ternary": {
           "aaxis": {
            "gridcolor": "white",
            "linecolor": "white",
            "ticks": ""
           },
           "baxis": {
            "gridcolor": "white",
            "linecolor": "white",
            "ticks": ""
           },
           "bgcolor": "#E5ECF6",
           "caxis": {
            "gridcolor": "white",
            "linecolor": "white",
            "ticks": ""
           }
          },
          "title": {
           "x": 0.05
          },
          "xaxis": {
           "automargin": true,
           "gridcolor": "white",
           "linecolor": "white",
           "ticks": "",
           "title": {
            "standoff": 15
           },
           "zerolinecolor": "white",
           "zerolinewidth": 2
          },
          "yaxis": {
           "automargin": true,
           "gridcolor": "white",
           "linecolor": "white",
           "ticks": "",
           "title": {
            "standoff": 15
           },
           "zerolinecolor": "white",
           "zerolinewidth": 2
          }
         }
        },
        "xaxis": {
         "showgrid": false,
         "showticklabels": false,
         "zeroline": false
        },
        "yaxis": {
         "showgrid": false,
         "showticklabels": false,
         "zeroline": false
        }
       }
      }
     },
     "metadata": {},
     "output_type": "display_data"
    }
   ],
   "source": [
    "G = define_graph(trip_counts, remove_weak_edges=False, threshold=0.2, standardise=True)\n",
    "G = update_node_sizes(G, income, var_of_interest)\n",
    "positions = get_positions(gdf)\n",
    "edge_widths = set_art(G, 0.1)\n",
    "fig = plotly_graph(G, positions, edge_widths, var_of_interest, node_size_scale=0.003)\n",
    "fig.show()"
   ]
  },
  {
   "cell_type": "code",
   "execution_count": 9,
   "metadata": {},
   "outputs": [
    {
     "data": {
      "application/vnd.plotly.v1+json": {
       "config": {
        "plotlyServerURL": "https://plot.ly"
       },
       "data": [
        {
         "hoverinfo": "text",
         "line": {
          "color": "rgba(253.01960784313727, 174.98039215686273, 97.92156862745098, 1.0)",
          "width": 6.958774272130291
         },
         "mode": "lines",
         "showlegend": false,
         "text": "Width: 6.96",
         "type": "scatter",
         "x": [
          -3.705268804063821,
          -3.705268804063821,
          null
         ],
         "y": [
          40.41733007020507,
          40.41733007020507,
          null
         ]
        },
        {
         "hoverinfo": "text",
         "line": {
          "color": "rgba(90.19607843137256, 142.2549019607843, 193.07843137254903, 1.0)",
          "width": 1.4718342898399566
         },
         "mode": "lines",
         "showlegend": false,
         "text": "Width: 1.47",
         "type": "scatter",
         "x": [
          -3.705268804063821,
          -3.6966151949203576,
          null
         ],
         "y": [
          40.41733007020507,
          40.398119933450886,
          null
         ]
        },
        {
         "hoverinfo": "text",
         "line": {
          "color": "rgba(126.78431372549022, 181.62745098039218, 213.7058823529412, 1.0)",
          "width": 2.200503523057289
         },
         "mode": "lines",
         "showlegend": false,
         "text": "Width: 2.20",
         "type": "scatter",
         "x": [
          -3.705268804063821,
          -3.703523951395161,
          null
         ],
         "y": [
          40.41733007020507,
          40.4375595509298,
          null
         ]
        },
        {
         "hoverinfo": "text",
         "line": {
          "color": "rgba(73.60784313725492, 122.49019607843138, 182.84313725490196, 1.0)",
          "width": 1.0951867135349782
         },
         "mode": "lines",
         "showlegend": false,
         "text": "Width: 1.10",
         "type": "scatter",
         "x": [
          -3.705268804063821,
          -3.757223268157654,
          null
         ],
         "y": [
          40.41733007020507,
          40.44543508494524,
          null
         ]
        },
        {
         "hoverinfo": "text",
         "line": {
          "color": "rgba(141.8823529411765, 193.70588235294122, 220.2941176470588, 1.0)",
          "width": 2.493697938312521
         },
         "mode": "lines",
         "showlegend": false,
         "text": "Width: 2.49",
         "type": "scatter",
         "x": [
          -3.6966151949203576,
          -3.705268804063821,
          null
         ],
         "y": [
          40.398119933450886,
          40.41733007020507,
          null
         ]
        },
        {
         "hoverinfo": "text",
         "line": {
          "color": "rgba(254.50980392156862, 239.80392156862743, 167.9607843137255, 1.0)",
          "width": 5.474699179493066
         },
         "mode": "lines",
         "showlegend": false,
         "text": "Width: 5.47",
         "type": "scatter",
         "x": [
          -3.6966151949203576,
          -3.6966151949203576,
          null
         ],
         "y": [
          40.398119933450886,
          40.398119933450886,
          null
         ]
        },
        {
         "hoverinfo": "text",
         "line": {
          "color": "rgba(88.35294117647061, 140.0588235294118, 191.94117647058823, 1.0)",
          "width": 1.4385854702360683
         },
         "mode": "lines",
         "showlegend": false,
         "text": "Width: 1.44",
         "type": "scatter",
         "x": [
          -3.6966151949203576,
          -3.737112400757822,
          null
         ],
         "y": [
          40.398119933450886,
          40.378840354576816,
          null
         ]
        },
        {
         "hoverinfo": "text",
         "line": {
          "color": "rgba(90.19607843137256, 142.2549019607843, 193.07843137254903, 1.0)",
          "width": 1.4509358089110542
         },
         "mode": "lines",
         "showlegend": false,
         "text": "Width: 1.45",
         "type": "scatter",
         "x": [
          -3.6966151949203576,
          -3.7029808755455926,
          null
         ],
         "y": [
          40.398119933450886,
          40.37595000318738,
          null
         ]
        },
        {
         "hoverinfo": "text",
         "line": {
          "color": "rgba(139.72549019607845, 191.98039215686276, 219.3529411764706, 1.0)",
          "width": 2.428193437825526
         },
         "mode": "lines",
         "showlegend": false,
         "text": "Width: 2.43",
         "type": "scatter",
         "x": [
          -3.703523951395161,
          -3.705268804063821,
          null
         ],
         "y": [
          40.4375595509298,
          40.41733007020507,
          null
         ]
        },
        {
         "hoverinfo": "text",
         "line": {
          "color": "rgba(77.29411764705883, 126.88235294117649, 185.11764705882354, 1.0)",
          "width": 1.193974643087714
         },
         "mode": "lines",
         "showlegend": false,
         "text": "Width: 1.19",
         "type": "scatter",
         "x": [
          -3.703523951395161,
          -3.6737887354917422,
          null
         ],
         "y": [
          40.4375595509298,
          40.43018370922185,
          null
         ]
        },
        {
         "hoverinfo": "text",
         "line": {
          "color": "rgba(69.921568627451, 118.09803921568628, 180.56862745098042, 1.0)",
          "width": 1.0345922440830626
         },
         "mode": "lines",
         "showlegend": false,
         "text": "Width: 1.03",
         "type": "scatter",
         "x": [
          -3.703523951395161,
          -3.678150006537061,
          null
         ],
         "y": [
          40.4375595509298,
          40.45750039357669,
          null
         ]
        },
        {
         "hoverinfo": "text",
         "line": {
          "color": "rgba(99.41176470588236, 153.2352941176471, 198.76470588235296, 1.0)",
          "width": 1.6414683222682362
         },
         "mode": "lines",
         "showlegend": false,
         "text": "Width: 1.64",
         "type": "scatter",
         "x": [
          -3.703523951395161,
          -3.6999935507976827,
          null
         ],
         "y": [
          40.4375595509298,
          40.4606484776773,
          null
         ]
        },
        {
         "hoverinfo": "text",
         "line": {
          "color": "rgba(253.72549019607843, 210.27450980392157, 131.09803921568627, 1.0)",
          "width": 6.263499026839617
         },
         "mode": "lines",
         "showlegend": false,
         "text": "Width: 6.26",
         "type": "scatter",
         "x": [
          -3.703523951395161,
          -3.703523951395161,
          null
         ],
         "y": [
          40.4375595509298,
          40.4375595509298,
          null
         ]
        },
        {
         "hoverinfo": "text",
         "line": {
          "color": "rgba(88.35294117647061, 140.0588235294118, 191.94117647058823, 1.0)",
          "width": 1.4181286289035526
         },
         "mode": "lines",
         "showlegend": false,
         "text": "Width: 1.42",
         "type": "scatter",
         "x": [
          -3.703523951395161,
          -3.757223268157654,
          null
         ],
         "y": [
          40.4375595509298,
          40.44543508494524,
          null
         ]
        },
        {
         "hoverinfo": "text",
         "line": {
          "color": "rgba(99.41176470588236, 153.2352941176471, 198.76470588235296, 1.0)",
          "width": 1.654734772567172
         },
         "mode": "lines",
         "showlegend": false,
         "text": "Width: 1.65",
         "type": "scatter",
         "x": [
          -3.757223268157654,
          -3.705268804063821,
          null
         ],
         "y": [
          40.44543508494524,
          40.41733007020507,
          null
         ]
        },
        {
         "hoverinfo": "text",
         "line": {
          "color": "rgba(97.5686274509804, 151.03921568627453, 197.62745098039218, 1.0)",
          "width": 1.6026398169888791
         },
         "mode": "lines",
         "showlegend": false,
         "text": "Width: 1.60",
         "type": "scatter",
         "x": [
          -3.757223268157654,
          -3.6999935507976827,
          null
         ],
         "y": [
          40.44543508494524,
          40.4606484776773,
          null
         ]
        },
        {
         "hoverinfo": "text",
         "line": {
          "color": "rgba(124.62745098039218, 179.90196078431376, 212.76470588235296, 1.0)",
          "width": 2.149337034196051
         },
         "mode": "lines",
         "showlegend": false,
         "text": "Width: 2.15",
         "type": "scatter",
         "x": [
          -3.757223268157654,
          -3.703523951395161,
          null
         ],
         "y": [
          40.44543508494524,
          40.4375595509298,
          null
         ]
        },
        {
         "hoverinfo": "text",
         "line": {
          "color": "rgba(93.88235294117649, 146.64705882352945, 195.3529411764706, 1.0)",
          "width": 1.5490951552432943
         },
         "mode": "lines",
         "showlegend": false,
         "text": "Width: 1.55",
         "type": "scatter",
         "x": [
          -3.757223268157654,
          -3.753579560856663,
          null
         ],
         "y": [
          40.44543508494524,
          40.54479435831404,
          null
         ]
        },
        {
         "hoverinfo": "text",
         "line": {
          "color": "rgba(254.8235294117647, 249.5294117647059, 182.70588235294122, 1.0)",
          "width": 5.159409583648314
         },
         "mode": "lines",
         "showlegend": false,
         "text": "Width: 5.16",
         "type": "scatter",
         "x": [
          -3.757223268157654,
          -3.757223268157654,
          null
         ],
         "y": [
          40.44543508494524,
          40.44543508494524,
          null
         ]
        },
        {
         "hoverinfo": "text",
         "line": {
          "color": "rgba(95.72549019607845, 148.843137254902, 196.49019607843138, 1.0)",
          "width": 1.573688093929978
         },
         "mode": "lines",
         "showlegend": false,
         "text": "Width: 1.57",
         "type": "scatter",
         "x": [
          -3.757223268157654,
          -3.778616540618283,
          null
         ],
         "y": [
          40.44543508494524,
          40.385273701511004,
          null
         ]
        },
        {
         "hoverinfo": "text",
         "line": {
          "color": "rgba(75.45098039215688, 124.68627450980394, 183.98039215686276, 1.0)",
          "width": 1.1435033319077994
         },
         "mode": "lines",
         "showlegend": false,
         "text": "Width: 1.14",
         "type": "scatter",
         "x": [
          -3.737112400757822,
          -3.6966151949203576,
          null
         ],
         "y": [
          40.378840354576816,
          40.398119933450886,
          null
         ]
        },
        {
         "hoverinfo": "text",
         "line": {
          "color": "rgba(110.47058823529414, 166.41176470588238, 205.58823529411765, 1.0)",
          "width": 1.8792121471202452
         },
         "mode": "lines",
         "showlegend": false,
         "text": "Width: 1.88",
         "type": "scatter",
         "x": [
          -3.737112400757822,
          -3.778616540618283,
          null
         ],
         "y": [
          40.378840354576816,
          40.385273701511004,
          null
         ]
        },
        {
         "hoverinfo": "text",
         "line": {
          "color": "rgba(252.47058823529414, 170.17647058823536, 95.23529411764709, 1.0)",
          "width": 7.058393672440286
         },
         "mode": "lines",
         "showlegend": false,
         "text": "Width: 7.06",
         "type": "scatter",
         "x": [
          -3.737112400757822,
          -3.737112400757822,
          null
         ],
         "y": [
          40.378840354576816,
          40.378840354576816,
          null
         ]
        },
        {
         "hoverinfo": "text",
         "line": {
          "color": "rgba(93.88235294117649, 146.64705882352945, 195.3529411764706, 1.0)",
          "width": 1.528562187168685
         },
         "mode": "lines",
         "showlegend": false,
         "text": "Width: 1.53",
         "type": "scatter",
         "x": [
          -3.737112400757822,
          -3.7029808755455926,
          null
         ],
         "y": [
          40.378840354576816,
          40.37595000318738,
          null
         ]
        },
        {
         "hoverinfo": "text",
         "line": {
          "color": "rgba(68.6078431372549, 115.76470588235296, 179.3921568627451, 1.0)",
          "width": 1.0025042115301892
         },
         "mode": "lines",
         "showlegend": false,
         "text": "Width: 1.00",
         "type": "scatter",
         "x": [
          -3.7029808755455926,
          -3.705268804063821,
          null
         ],
         "y": [
          40.37595000318738,
          40.41733007020507,
          null
         ]
        },
        {
         "hoverinfo": "text",
         "line": {
          "color": "rgba(99.41176470588236, 153.2352941176471, 198.76470588235296, 1.0)",
          "width": 1.6774145703628087
         },
         "mode": "lines",
         "showlegend": false,
         "text": "Width: 1.68",
         "type": "scatter",
         "x": [
          -3.7029808755455926,
          -3.6966151949203576,
          null
         ],
         "y": [
          40.37595000318738,
          40.398119933450886,
          null
         ]
        },
        {
         "hoverinfo": "text",
         "line": {
          "color": "rgba(112.31372549019609, 168.60784313725495, 206.72549019607843, 1.0)",
          "width": 1.9164462270946347
         },
         "mode": "lines",
         "showlegend": false,
         "text": "Width: 1.92",
         "type": "scatter",
         "x": [
          -3.7029808755455926,
          -3.737112400757822,
          null
         ],
         "y": [
          40.37595000318738,
          40.378840354576816,
          null
         ]
        },
        {
         "hoverinfo": "text",
         "line": {
          "color": "rgba(254.31372549019608, 233.72549019607843, 158.7450980392157, 1.0)",
          "width": 5.679841612360176
         },
         "mode": "lines",
         "showlegend": false,
         "text": "Width: 5.68",
         "type": "scatter",
         "x": [
          -3.7029808755455926,
          -3.7029808755455926,
          null
         ],
         "y": [
          40.37595000318738,
          40.37595000318738,
          null
         ]
        },
        {
         "hoverinfo": "text",
         "line": {
          "color": "rgba(97.5686274509804, 151.03921568627453, 197.62745098039218, 1.0)",
          "width": 1.6089348685740867
         },
         "mode": "lines",
         "showlegend": false,
         "text": "Width: 1.61",
         "type": "scatter",
         "x": [
          -3.7029808755455926,
          -3.695056256825152,
          null
         ],
         "y": [
          40.37595000318738,
          40.34253624126977,
          null
         ]
        },
        {
         "hoverinfo": "text",
         "line": {
          "color": "rgba(90.19607843137256, 142.2549019607843, 193.07843137254903, 1.0)",
          "width": 1.4569543881128337
         },
         "mode": "lines",
         "showlegend": false,
         "text": "Width: 1.46",
         "type": "scatter",
         "x": [
          -3.67643837848883,
          -3.705268804063821,
          null
         ],
         "y": [
          40.41138084576659,
          40.41733007020507,
          null
         ]
        },
        {
         "hoverinfo": "text",
         "line": {
          "color": "rgba(75.45098039215688, 124.68627450980394, 183.98039215686276, 1.0)",
          "width": 1.1329606233996188
         },
         "mode": "lines",
         "showlegend": false,
         "text": "Width: 1.13",
         "type": "scatter",
         "x": [
          -3.67643837848883,
          -3.6966151949203576,
          null
         ],
         "y": [
          40.41138084576659,
          40.398119933450886,
          null
         ]
        },
        {
         "hoverinfo": "text",
         "line": {
          "color": "rgba(253.1764705882353, 254.2941176470588, 194.35294117647058, 1.0)",
          "width": 4.934253919091918
         },
         "mode": "lines",
         "showlegend": false,
         "text": "Width: 4.93",
         "type": "scatter",
         "x": [
          -3.67643837848883,
          -3.67643837848883,
          null
         ],
         "y": [
          40.41138084576659,
          40.41138084576659,
          null
         ]
        },
        {
         "hoverinfo": "text",
         "line": {
          "color": "rgba(120.31372549019609, 176.45098039215688, 210.88235294117646, 1.0)",
          "width": 2.093062250813612
         },
         "mode": "lines",
         "showlegend": false,
         "text": "Width: 2.09",
         "type": "scatter",
         "x": [
          -3.67643837848883,
          -3.6737887354917422,
          null
         ],
         "y": [
          40.41138084576659,
          40.43018370922185,
          null
         ]
        },
        {
         "hoverinfo": "text",
         "line": {
          "color": "rgba(104.94117647058823, 159.82352941176472, 202.17647058823528, 1.0)",
          "width": 1.7732041421554539
         },
         "mode": "lines",
         "showlegend": false,
         "text": "Width: 1.77",
         "type": "scatter",
         "x": [
          -3.67643837848883,
          -3.6598634715735407,
          null
         ],
         "y": [
          40.41138084576659,
          40.38355078734683,
          null
         ]
        },
        {
         "hoverinfo": "text",
         "line": {
          "color": "rgba(75.45098039215688, 124.68627450980394, 183.98039215686276, 1.0)",
          "width": 1.1575269909944297
         },
         "mode": "lines",
         "showlegend": false,
         "text": "Width: 1.16",
         "type": "scatter",
         "x": [
          -3.67643837848883,
          -3.6413909394895803,
          null
         ],
         "y": [
          40.41138084576659,
          40.40661270611631,
          null
         ]
        },
        {
         "hoverinfo": "text",
         "line": {
          "color": "rgba(69.921568627451, 118.09803921568628, 180.56862745098042, 1.0)",
          "width": 1.0412501134456327
         },
         "mode": "lines",
         "showlegend": false,
         "text": "Width: 1.04",
         "type": "scatter",
         "x": [
          -3.6737887354917422,
          -3.67643837848883,
          null
         ],
         "y": [
          40.43018370922185,
          40.41138084576659,
          null
         ]
        },
        {
         "hoverinfo": "text",
         "line": {
          "color": "rgba(253.52941176470588, 200.47058823529414, 121.88235294117646, 1.0)",
          "width": 6.454798673185751
         },
         "mode": "lines",
         "showlegend": false,
         "text": "Width: 6.45",
         "type": "scatter",
         "x": [
          -3.6737887354917422,
          -3.6737887354917422,
          null
         ],
         "y": [
          40.43018370922185,
          40.43018370922185,
          null
         ]
        },
        {
         "hoverinfo": "text",
         "line": {
          "color": "rgba(101.25490196078432, 155.4313725490196, 199.90196078431376, 1.0)",
          "width": 1.6965374395535255
         },
         "mode": "lines",
         "showlegend": false,
         "text": "Width: 1.70",
         "type": "scatter",
         "x": [
          -3.6737887354917422,
          -3.678150006537061,
          null
         ],
         "y": [
          40.43018370922185,
          40.45750039357669,
          null
         ]
        },
        {
         "hoverinfo": "text",
         "line": {
          "color": "rgba(80.98039215686276, 131.2745098039216, 187.3921568627451, 1.0)",
          "width": 1.2579163213690936
         },
         "mode": "lines",
         "showlegend": false,
         "text": "Width: 1.26",
         "type": "scatter",
         "x": [
          -3.6737887354917422,
          -3.703523951395161,
          null
         ],
         "y": [
          40.43018370922185,
          40.4375595509298,
          null
         ]
        },
        {
         "hoverinfo": "text",
         "line": {
          "color": "rgba(114.15686274509805, 170.8039215686275, 207.86274509803923, 1.0)",
          "width": 1.9645402244418346
         },
         "mode": "lines",
         "showlegend": false,
         "text": "Width: 1.96",
         "type": "scatter",
         "x": [
          -3.6737887354917422,
          -3.649948514601449,
          null
         ],
         "y": [
          40.43018370922185,
          40.43926990707227,
          null
         ]
        },
        {
         "hoverinfo": "text",
         "line": {
          "color": "rgba(84.66666666666667, 135.66666666666669, 189.66666666666669, 1.0)",
          "width": 1.3545001283765241
         },
         "mode": "lines",
         "showlegend": false,
         "text": "Width: 1.35",
         "type": "scatter",
         "x": [
          -3.6598634715735407,
          -3.67643837848883,
          null
         ],
         "y": [
          40.38355078734683,
          40.41138084576659,
          null
         ]
        },
        {
         "hoverinfo": "text",
         "line": {
          "color": "rgba(253.5686274509804, 202.43137254901967, 123.72549019607848, 1.0)",
          "width": 6.431394426051242
         },
         "mode": "lines",
         "showlegend": false,
         "text": "Width: 6.43",
         "type": "scatter",
         "x": [
          -3.6598634715735407,
          -3.6598634715735407,
          null
         ],
         "y": [
          40.38355078734683,
          40.38355078734683,
          null
         ]
        },
        {
         "hoverinfo": "text",
         "line": {
          "color": "rgba(97.5686274509804, 151.03921568627453, 197.62745098039218, 1.0)",
          "width": 1.608427532214675
         },
         "mode": "lines",
         "showlegend": false,
         "text": "Width: 1.61",
         "type": "scatter",
         "x": [
          -3.6598634715735407,
          -3.6160073912284756,
          null
         ],
         "y": [
          40.38355078734683,
          40.34992967757026,
          null
         ]
        },
        {
         "hoverinfo": "text",
         "line": {
          "color": "rgba(108.62745098039218, 164.21568627450984, 204.45098039215688, 1.0)",
          "width": 1.8497627897253472
         },
         "mode": "lines",
         "showlegend": false,
         "text": "Width: 1.85",
         "type": "scatter",
         "x": [
          -3.6413909394895803,
          -3.67643837848883,
          null
         ],
         "y": [
          40.40661270611631,
          40.41138084576659,
          null
         ]
        },
        {
         "hoverinfo": "text",
         "line": {
          "color": "rgba(79.13725490196079, 129.07843137254903, 186.25490196078434, 1.0)",
          "width": 1.2388390635461768
         },
         "mode": "lines",
         "showlegend": false,
         "text": "Width: 1.24",
         "type": "scatter",
         "x": [
          -3.6413909394895803,
          -3.6737887354917422,
          null
         ],
         "y": [
          40.40661270611631,
          40.43018370922185,
          null
         ]
        },
        {
         "hoverinfo": "text",
         "line": {
          "color": "rgba(141.8823529411765, 193.70588235294122, 220.2941176470588, 1.0)",
          "width": 2.4972107498713627
         },
         "mode": "lines",
         "showlegend": false,
         "text": "Width: 2.50",
         "type": "scatter",
         "x": [
          -3.6413909394895803,
          -3.6598634715735407,
          null
         ],
         "y": [
          40.40661270611631,
          40.38355078734683,
          null
         ]
        },
        {
         "hoverinfo": "text",
         "line": {
          "color": "rgba(237.37254901960787, 248.1764705882353, 223.41176470588232, 1.0)",
          "width": 4.420837872072944
         },
         "mode": "lines",
         "showlegend": false,
         "text": "Width: 4.42",
         "type": "scatter",
         "x": [
          -3.6413909394895803,
          -3.6413909394895803,
          null
         ],
         "y": [
          40.40661270611631,
          40.40661270611631,
          null
         ]
        },
        {
         "hoverinfo": "text",
         "line": {
          "color": "rgba(75.45098039215688, 124.68627450980394, 183.98039215686276, 1.0)",
          "width": 1.1385575316110852
         },
         "mode": "lines",
         "showlegend": false,
         "text": "Width: 1.14",
         "type": "scatter",
         "x": [
          -3.6413909394895803,
          -3.649948514601449,
          null
         ],
         "y": [
          40.40661270611631,
          40.43926990707227,
          null
         ]
        },
        {
         "hoverinfo": "text",
         "line": {
          "color": "rgba(108.62745098039218, 164.21568627450984, 204.45098039215688, 1.0)",
          "width": 1.8670634101841432
         },
         "mode": "lines",
         "showlegend": false,
         "text": "Width: 1.87",
         "type": "scatter",
         "x": [
          -3.678150006537061,
          -3.6737887354917422,
          null
         ],
         "y": [
          40.45750039357669,
          40.43018370922185,
          null
         ]
        },
        {
         "hoverinfo": "text",
         "line": {
          "color": "rgba(253.60784313725492, 204.3921568627451, 125.5686274509804, 1.0)",
          "width": 6.390960030132673
         },
         "mode": "lines",
         "showlegend": false,
         "text": "Width: 6.39",
         "type": "scatter",
         "x": [
          -3.678150006537061,
          -3.678150006537061,
          null
         ],
         "y": [
          40.45750039357669,
          40.45750039357669,
          null
         ]
        },
        {
         "hoverinfo": "text",
         "line": {
          "color": "rgba(80.98039215686276, 131.2745098039216, 187.3921568627451, 1.0)",
          "width": 1.2886552867410463
         },
         "mode": "lines",
         "showlegend": false,
         "text": "Width: 1.29",
         "type": "scatter",
         "x": [
          -3.678150006537061,
          -3.6999935507976827,
          null
         ],
         "y": [
          40.45750039357669,
          40.4606484776773,
          null
         ]
        },
        {
         "hoverinfo": "text",
         "line": {
          "color": "rgba(73.60784313725492, 122.49019607843138, 182.84313725490196, 1.0)",
          "width": 1.1290312197402115
         },
         "mode": "lines",
         "showlegend": false,
         "text": "Width: 1.13",
         "type": "scatter",
         "x": [
          -3.678150006537061,
          -3.703523951395161,
          null
         ],
         "y": [
          40.45750039357669,
          40.4375595509298,
          null
         ]
        },
        {
         "hoverinfo": "text",
         "line": {
          "color": "rgba(77.29411764705883, 126.88235294117649, 185.11764705882354, 1.0)",
          "width": 1.2061707311580214
         },
         "mode": "lines",
         "showlegend": false,
         "text": "Width: 1.21",
         "type": "scatter",
         "x": [
          -3.678150006537061,
          -3.753579560856663,
          null
         ],
         "y": [
          40.45750039357669,
          40.54479435831404,
          null
         ]
        },
        {
         "hoverinfo": "text",
         "line": {
          "color": "rgba(82.82352941176471, 133.47058823529412, 188.5294117647059, 1.0)",
          "width": 1.3216404904498105
         },
         "mode": "lines",
         "showlegend": false,
         "text": "Width: 1.32",
         "type": "scatter",
         "x": [
          -3.678150006537061,
          -3.649948514601449,
          null
         ],
         "y": [
          40.45750039357669,
          40.43926990707227,
          null
         ]
        },
        {
         "hoverinfo": "text",
         "line": {
          "color": "rgba(69.921568627451, 118.09803921568628, 180.56862745098042, 1.0)",
          "width": 1.0182195010834612
         },
         "mode": "lines",
         "showlegend": false,
         "text": "Width: 1.02",
         "type": "scatter",
         "x": [
          -3.678150006537061,
          -3.637741035389707,
          null
         ],
         "y": [
          40.45750039357669,
          40.48201214532898,
          null
         ]
        },
        {
         "hoverinfo": "text",
         "line": {
          "color": "rgba(131.0980392156863, 185.07843137254903, 215.58823529411765, 1.0)",
          "width": 2.2657674946088155
         },
         "mode": "lines",
         "showlegend": false,
         "text": "Width: 2.27",
         "type": "scatter",
         "x": [
          -3.649948514601449,
          -3.6737887354917422,
          null
         ],
         "y": [
          40.43926990707227,
          40.43018370922185,
          null
         ]
        },
        {
         "hoverinfo": "text",
         "line": {
          "color": "rgba(82.82352941176471, 133.47058823529412, 188.5294117647059, 1.0)",
          "width": 1.2948872763242232
         },
         "mode": "lines",
         "showlegend": false,
         "text": "Width: 1.29",
         "type": "scatter",
         "x": [
          -3.649948514601449,
          -3.678150006537061,
          null
         ],
         "y": [
          40.43926990707227,
          40.45750039357669,
          null
         ]
        },
        {
         "hoverinfo": "text",
         "line": {
          "color": "rgba(254.78431372549022, 248.31372549019608, 180.8627450980392, 1.0)",
          "width": 5.221847074059558
         },
         "mode": "lines",
         "showlegend": false,
         "text": "Width: 5.22",
         "type": "scatter",
         "x": [
          -3.649948514601449,
          -3.649948514601449,
          null
         ],
         "y": [
          40.43926990707227,
          40.43926990707227,
          null
         ]
        },
        {
         "hoverinfo": "text",
         "line": {
          "color": "rgba(110.47058823529414, 166.41176470588238, 205.58823529411765, 1.0)",
          "width": 1.8963958509785983
         },
         "mode": "lines",
         "showlegend": false,
         "text": "Width: 1.90",
         "type": "scatter",
         "x": [
          -3.649948514601449,
          -3.5986526886701378,
          null
         ],
         "y": [
          40.43926990707227,
          40.43466852782298,
          null
         ]
        },
        {
         "hoverinfo": "text",
         "line": {
          "color": "rgba(104.94117647058823, 159.82352941176472, 202.17647058823528, 1.0)",
          "width": 1.7917805350552147
         },
         "mode": "lines",
         "showlegend": false,
         "text": "Width: 1.79",
         "type": "scatter",
         "x": [
          -3.6999935507976827,
          -3.678150006537061,
          null
         ],
         "y": [
          40.4606484776773,
          40.45750039357669,
          null
         ]
        },
        {
         "hoverinfo": "text",
         "line": {
          "color": "rgba(254.0, 224.0, 144.0, 1.0)",
          "width": 6.014917274847438
         },
         "mode": "lines",
         "showlegend": false,
         "text": "Width: 6.01",
         "type": "scatter",
         "x": [
          -3.6999935507976827,
          -3.6999935507976827,
          null
         ],
         "y": [
          40.4606484776773,
          40.4606484776773,
          null
         ]
        },
        {
         "hoverinfo": "text",
         "line": {
          "color": "rgba(97.5686274509804, 151.03921568627453, 197.62745098039218, 1.0)",
          "width": 1.6180712618764903
         },
         "mode": "lines",
         "showlegend": false,
         "text": "Width: 1.62",
         "type": "scatter",
         "x": [
          -3.6999935507976827,
          -3.703523951395161,
          null
         ],
         "y": [
          40.4606484776773,
          40.4375595509298,
          null
         ]
        },
        {
         "hoverinfo": "text",
         "line": {
          "color": "rgba(161.29411764705884, 209.23529411764707, 228.76470588235296, 1.0)",
          "width": 2.840071484035671
         },
         "mode": "lines",
         "showlegend": false,
         "text": "Width: 2.84",
         "type": "scatter",
         "x": [
          -3.6999935507976827,
          -3.753579560856663,
          null
         ],
         "y": [
          40.4606484776773,
          40.54479435831404,
          null
         ]
        },
        {
         "hoverinfo": "text",
         "line": {
          "color": "rgba(84.66666666666667, 135.66666666666669, 189.66666666666669, 1.0)",
          "width": 1.3323584601469474
         },
         "mode": "lines",
         "showlegend": false,
         "text": "Width: 1.33",
         "type": "scatter",
         "x": [
          -3.6999935507976827,
          -3.757223268157654,
          null
         ],
         "y": [
          40.4606484776773,
          40.44543508494524,
          null
         ]
        },
        {
         "hoverinfo": "text",
         "line": {
          "color": "rgba(84.66666666666667, 135.66666666666669, 189.66666666666669, 1.0)",
          "width": 1.3553226383804344
         },
         "mode": "lines",
         "showlegend": false,
         "text": "Width: 1.36",
         "type": "scatter",
         "x": [
          -3.753579560856663,
          -3.6999935507976827,
          null
         ],
         "y": [
          40.54479435831404,
          40.4606484776773,
          null
         ]
        },
        {
         "hoverinfo": "text",
         "line": {
          "color": "rgba(165.0, 0.0, 38.0, 1.0)",
          "width": 10
         },
         "mode": "lines",
         "showlegend": false,
         "text": "Width: 10.00",
         "type": "scatter",
         "x": [
          -3.753579560856663,
          -3.753579560856663,
          null
         ],
         "y": [
          40.54479435831404,
          40.54479435831404,
          null
         ]
        },
        {
         "hoverinfo": "text",
         "line": {
          "color": "rgba(71.76470588235294, 120.29411764705884, 181.7058823529412, 1.0)",
          "width": 1.085683433811337
         },
         "mode": "lines",
         "showlegend": false,
         "text": "Width: 1.09",
         "type": "scatter",
         "x": [
          -3.753579560856663,
          -3.637741035389707,
          null
         ],
         "y": [
          40.54479435831404,
          40.48201214532898,
          null
         ]
        },
        {
         "hoverinfo": "text",
         "line": {
          "color": "rgba(73.60784313725492, 122.49019607843138, 182.84313725490196, 1.0)",
          "width": 1.1049717116371132
         },
         "mode": "lines",
         "showlegend": false,
         "text": "Width: 1.10",
         "type": "scatter",
         "x": [
          -3.637741035389707,
          -3.678150006537061,
          null
         ],
         "y": [
          40.48201214532898,
          40.45750039357669,
          null
         ]
        },
        {
         "hoverinfo": "text",
         "line": {
          "color": "rgba(88.35294117647061, 140.0588235294118, 191.94117647058823, 1.0)",
          "width": 1.416774778391299
         },
         "mode": "lines",
         "showlegend": false,
         "text": "Width: 1.42",
         "type": "scatter",
         "x": [
          -3.637741035389707,
          -3.753579560856663,
          null
         ],
         "y": [
          40.48201214532898,
          40.54479435831404,
          null
         ]
        },
        {
         "hoverinfo": "text",
         "line": {
          "color": "rgba(84.66666666666667, 135.66666666666669, 189.66666666666669, 1.0)",
          "width": 1.3493775930176635
         },
         "mode": "lines",
         "showlegend": false,
         "text": "Width: 1.35",
         "type": "scatter",
         "x": [
          -3.637741035389707,
          -3.649948514601449,
          null
         ],
         "y": [
          40.48201214532898,
          40.43926990707227,
          null
         ]
        },
        {
         "hoverinfo": "text",
         "line": {
          "color": "rgba(224.66666666666666, 68.33333333333333, 48.333333333333336, 1.0)",
          "width": 8.648503223575629
         },
         "mode": "lines",
         "showlegend": false,
         "text": "Width: 8.65",
         "type": "scatter",
         "x": [
          -3.637741035389707,
          -3.637741035389707,
          null
         ],
         "y": [
          40.48201214532898,
          40.48201214532898,
          null
         ]
        },
        {
         "hoverinfo": "text",
         "line": {
          "color": "rgba(79.13725490196079, 129.07843137254903, 186.25490196078434, 1.0)",
          "width": 1.2167808694329036
         },
         "mode": "lines",
         "showlegend": false,
         "text": "Width: 1.22",
         "type": "scatter",
         "x": [
          -3.778616540618283,
          -3.705268804063821,
          null
         ],
         "y": [
          40.385273701511004,
          40.41733007020507,
          null
         ]
        },
        {
         "hoverinfo": "text",
         "line": {
          "color": "rgba(108.62745098039218, 164.21568627450984, 204.45098039215688, 1.0)",
          "width": 1.8641946452408502
         },
         "mode": "lines",
         "showlegend": false,
         "text": "Width: 1.86",
         "type": "scatter",
         "x": [
          -3.778616540618283,
          -3.757223268157654,
          null
         ],
         "y": [
          40.385273701511004,
          40.44543508494524,
          null
         ]
        },
        {
         "hoverinfo": "text",
         "line": {
          "color": "rgba(253.33333333333334, 190.66666666666666, 112.66666666666666, 1.0)",
          "width": 6.6679724309359445
         },
         "mode": "lines",
         "showlegend": false,
         "text": "Width: 6.67",
         "type": "scatter",
         "x": [
          -3.778616540618283,
          -3.778616540618283,
          null
         ],
         "y": [
          40.385273701511004,
          40.385273701511004,
          null
         ]
        },
        {
         "hoverinfo": "text",
         "line": {
          "color": "rgba(144.03921568627453, 195.4313725490196, 221.23529411764707, 1.0)",
          "width": 2.5125274409192366
         },
         "mode": "lines",
         "showlegend": false,
         "text": "Width: 2.51",
         "type": "scatter",
         "x": [
          -3.778616540618283,
          -3.737112400757822,
          null
         ],
         "y": [
          40.385273701511004,
          40.378840354576816,
          null
         ]
        },
        {
         "hoverinfo": "text",
         "line": {
          "color": "rgba(110.47058823529414, 166.41176470588238, 205.58823529411765, 1.0)",
          "width": 1.9024501562558431
         },
         "mode": "lines",
         "showlegend": false,
         "text": "Width: 1.90",
         "type": "scatter",
         "x": [
          -3.695056256825152,
          -3.7029808755455926,
          null
         ],
         "y": [
          40.34253624126977,
          40.37595000318738,
          null
         ]
        },
        {
         "hoverinfo": "text",
         "line": {
          "color": "rgba(236.0392156862745, 92.25490196078431, 59.31372549019608, 1.0)",
          "width": 8.271964682185182
         },
         "mode": "lines",
         "showlegend": false,
         "text": "Width: 8.27",
         "type": "scatter",
         "x": [
          -3.695056256825152,
          -3.695056256825152,
          null
         ],
         "y": [
          40.34253624126977,
          40.34253624126977,
          null
         ]
        },
        {
         "hoverinfo": "text",
         "line": {
          "color": "rgba(141.8823529411765, 193.70588235294122, 220.2941176470588, 1.0)",
          "width": 2.47160210564683
         },
         "mode": "lines",
         "showlegend": false,
         "text": "Width: 2.47",
         "type": "scatter",
         "x": [
          -3.6160073912284756,
          -3.6598634715735407,
          null
         ],
         "y": [
          40.34992967757026,
          40.38355078734683,
          null
         ]
        },
        {
         "hoverinfo": "text",
         "line": {
          "color": "rgba(252.47058823529414, 170.17647058823536, 95.23529411764709, 1.0)",
          "width": 7.0679853967158675
         },
         "mode": "lines",
         "showlegend": false,
         "text": "Width: 7.07",
         "type": "scatter",
         "x": [
          -3.6160073912284756,
          -3.6160073912284756,
          null
         ],
         "y": [
          40.34992967757026,
          40.34992967757026,
          null
         ]
        },
        {
         "hoverinfo": "text",
         "line": {
          "color": "rgba(93.88235294117649, 146.64705882352945, 195.3529411764706, 1.0)",
          "width": 1.5343259888997445
         },
         "mode": "lines",
         "showlegend": false,
         "text": "Width: 1.53",
         "type": "scatter",
         "x": [
          -3.6160073912284756,
          -3.572894771748725,
          null
         ],
         "y": [
          40.34992967757026,
          40.39356859265691,
          null
         ]
        },
        {
         "hoverinfo": "text",
         "line": {
          "color": "rgba(106.78431372549022, 162.0196078431373, 203.31372549019608, 1.0)",
          "width": 1.7991066837991854
         },
         "mode": "lines",
         "showlegend": false,
         "text": "Width: 1.80",
         "type": "scatter",
         "x": [
          -3.5986526886701378,
          -3.649948514601449,
          null
         ],
         "y": [
          40.43466852782298,
          40.43926990707227,
          null
         ]
        },
        {
         "hoverinfo": "text",
         "line": {
          "color": "rgba(88.35294117647061, 140.0588235294118, 191.94117647058823, 1.0)",
          "width": 1.4202119781162106
         },
         "mode": "lines",
         "showlegend": false,
         "text": "Width: 1.42",
         "type": "scatter",
         "x": [
          -3.5986526886701378,
          -3.572894771748725,
          null
         ],
         "y": [
          40.43466852782298,
          40.39356859265691,
          null
         ]
        },
        {
         "hoverinfo": "text",
         "line": {
          "color": "rgba(250.35294117647058, 154.88235294117646, 88.17647058823529, 1.0)",
          "width": 7.289856190207931
         },
         "mode": "lines",
         "showlegend": false,
         "text": "Width: 7.29",
         "type": "scatter",
         "x": [
          -3.5986526886701378,
          -3.5986526886701378,
          null
         ],
         "y": [
          40.43466852782298,
          40.43466852782298,
          null
         ]
        },
        {
         "hoverinfo": "text",
         "line": {
          "color": "rgba(73.60784313725492, 122.49019607843138, 182.84313725490196, 1.0)",
          "width": 1.1295478428081904
         },
         "mode": "lines",
         "showlegend": false,
         "text": "Width: 1.13",
         "type": "scatter",
         "x": [
          -3.5986526886701378,
          -3.574543479322823,
          null
         ],
         "y": [
          40.43466852782298,
          40.4757410696608,
          null
         ]
        },
        {
         "hoverinfo": "text",
         "line": {
          "color": "rgba(71.76470588235294, 120.29411764705884, 181.7058823529412, 1.0)",
          "width": 1.0876586266498494
         },
         "mode": "lines",
         "showlegend": false,
         "text": "Width: 1.09",
         "type": "scatter",
         "x": [
          -3.572894771748725,
          -3.6598634715735407,
          null
         ],
         "y": [
          40.39356859265691,
          40.38355078734683,
          null
         ]
        },
        {
         "hoverinfo": "text",
         "line": {
          "color": "rgba(77.29411764705883, 126.88235294117649, 185.11764705882354, 1.0)",
          "width": 1.1783197896977387
         },
         "mode": "lines",
         "showlegend": false,
         "text": "Width: 1.18",
         "type": "scatter",
         "x": [
          -3.572894771748725,
          -3.6413909394895803,
          null
         ],
         "y": [
          40.39356859265691,
          40.40661270611631,
          null
         ]
        },
        {
         "hoverinfo": "text",
         "line": {
          "color": "rgba(114.15686274509805, 170.8039215686275, 207.86274509803923, 1.0)",
          "width": 1.977891379808672
         },
         "mode": "lines",
         "showlegend": false,
         "text": "Width: 1.98",
         "type": "scatter",
         "x": [
          -3.572894771748725,
          -3.6160073912284756,
          null
         ],
         "y": [
          40.39356859265691,
          40.34992967757026,
          null
         ]
        },
        {
         "hoverinfo": "text",
         "line": {
          "color": "rgba(254.98039215686273, 254.39215686274508, 190.07843137254903, 1.0)",
          "width": 5.03441458092639
         },
         "mode": "lines",
         "showlegend": false,
         "text": "Width: 5.03",
         "type": "scatter",
         "x": [
          -3.572894771748725,
          -3.572894771748725,
          null
         ],
         "y": [
          40.39356859265691,
          40.39356859265691,
          null
         ]
        },
        {
         "hoverinfo": "text",
         "line": {
          "color": "rgba(131.0980392156863, 185.07843137254903, 215.58823529411765, 1.0)",
          "width": 2.295978559479115
         },
         "mode": "lines",
         "showlegend": false,
         "text": "Width: 2.30",
         "type": "scatter",
         "x": [
          -3.572894771748725,
          -3.5986526886701378,
          null
         ],
         "y": [
          40.39356859265691,
          40.43466852782298,
          null
         ]
        },
        {
         "hoverinfo": "text",
         "line": {
          "color": "rgba(159.1372549019608, 207.50980392156865, 227.82352941176472, 1.0)",
          "width": 2.8002309864936348
         },
         "mode": "lines",
         "showlegend": false,
         "text": "Width: 2.80",
         "type": "scatter",
         "x": [
          -3.574543479322823,
          -3.637741035389707,
          null
         ],
         "y": [
          40.4757410696608,
          40.48201214532898,
          null
         ]
        },
        {
         "hoverinfo": "text",
         "line": {
          "color": "rgba(133.2549019607843, 186.8039215686275, 216.52941176470588, 1.0)",
          "width": 2.3080575399515024
         },
         "mode": "lines",
         "showlegend": false,
         "text": "Width: 2.31",
         "type": "scatter",
         "x": [
          -3.574543479322823,
          -3.5986526886701378,
          null
         ],
         "y": [
          40.4757410696608,
          40.43466852782298,
          null
         ]
        },
        {
         "hoverinfo": "text",
         "line": {
          "color": "rgba(245.76470588235296, 121.74509803921568, 72.88235294117646, 1.0)",
          "width": 7.802798706865393
         },
         "mode": "lines",
         "showlegend": false,
         "text": "Width: 7.80",
         "type": "scatter",
         "x": [
          -3.574543479322823,
          -3.574543479322823,
          null
         ],
         "y": [
          40.4757410696608,
          40.4757410696608,
          null
         ]
        },
        {
         "hoverinfo": "text",
         "marker": {
          "color": "white",
          "line": {
           "color": "#888",
           "width": 2
          },
          "size": [
           29.97981405674691,
           16.051864658038955,
           26.528902257932007,
           30.7387630668978,
           18.909987386526467,
           19.34137840352026,
           18.909987386526467,
           30.7387630668978,
           16.83987879207686,
           16.706967939118996,
           30.7387630668978,
           23.00534874913049,
           26.007036490992977,
           20.82175639613911,
           25.320868886096314,
           17.10759871580813,
           17.24240978471136,
           16.181628534532305,
           19.925673301675904,
           15.286399793678036,
           19.053135848433982
          ]
         },
         "mode": "markers",
         "showlegend": false,
         "text": [
          "District: Centro",
          "District: Arganzuela",
          "District: Chamberí",
          "District: Moncloa-Aravaca",
          "District: Carabanchel",
          "District: Usera",
          "District: Retiro",
          "District: Salamanca",
          "District: Puente de Vallecas",
          "District: Moratalaz",
          "District: Chamartín",
          "District: Ciudad Lineal",
          "District: Tetuán",
          "District: Fuencarral-El Pardo",
          "District: Hortaleza",
          "District: Latina",
          "District: Villaverde",
          "District: Villa de Vallecas",
          "District: San Blas-Canillejas",
          "District: Vicálvaro",
          "District: Barajas"
         ],
         "type": "scatter",
         "x": [
          -3.705268804063821,
          -3.6966151949203576,
          -3.703523951395161,
          -3.757223268157654,
          -3.737112400757822,
          -3.7029808755455926,
          -3.67643837848883,
          -3.6737887354917422,
          -3.6598634715735407,
          -3.6413909394895803,
          -3.678150006537061,
          -3.649948514601449,
          -3.6999935507976827,
          -3.753579560856663,
          -3.637741035389707,
          -3.778616540618283,
          -3.695056256825152,
          -3.6160073912284756,
          -3.5986526886701378,
          -3.572894771748725,
          -3.574543479322823
         ],
         "y": [
          40.41733007020507,
          40.398119933450886,
          40.4375595509298,
          40.44543508494524,
          40.378840354576816,
          40.37595000318738,
          40.41138084576659,
          40.43018370922185,
          40.38355078734683,
          40.40661270611631,
          40.45750039357669,
          40.43926990707227,
          40.4606484776773,
          40.54479435831404,
          40.48201214532898,
          40.385273701511004,
          40.34253624126977,
          40.34992967757026,
          40.43466852782298,
          40.39356859265691,
          40.4757410696608
         ]
        },
        {
         "hoverinfo": "none",
         "marker": {
          "cmax": 1,
          "cmin": 0.10025042115301894,
          "colorbar": {
           "ticktext": [
            "0.10",
            "0.33",
            "0.55",
            "0.78",
            "1.00"
           ],
           "tickvals": [
            0.10025042115301894,
            0.3251878158647642,
            0.5501252105765094,
            0.7750626052882548,
            1
           ],
           "title": {
            "text": "Edge Weight"
           }
          },
          "colorscale": [
           [
            0,
            "rgb(49,54,149)"
           ],
           [
            0.1,
            "rgb(69,117,180)"
           ],
           [
            0.2,
            "rgb(116,173,209)"
           ],
           [
            0.3,
            "rgb(171,217,233)"
           ],
           [
            0.4,
            "rgb(224,243,248)"
           ],
           [
            0.5,
            "rgb(255,255,191)"
           ],
           [
            0.6,
            "rgb(254,224,144)"
           ],
           [
            0.7,
            "rgb(253,174,97)"
           ],
           [
            0.8,
            "rgb(244,109,67)"
           ],
           [
            0.9,
            "rgb(215,48,39)"
           ],
           [
            1,
            "rgb(165,0,38)"
           ]
          ],
          "showscale": true
         },
         "mode": "markers",
         "type": "scatter",
         "x": [
          null
         ],
         "y": [
          null
         ]
        }
       ],
       "layout": {
        "hovermode": "closest",
        "margin": {
         "b": 0,
         "l": 0,
         "r": 0,
         "t": 0
        },
        "showlegend": true,
        "template": {
         "data": {
          "bar": [
           {
            "error_x": {
             "color": "#2a3f5f"
            },
            "error_y": {
             "color": "#2a3f5f"
            },
            "marker": {
             "line": {
              "color": "#E5ECF6",
              "width": 0.5
             },
             "pattern": {
              "fillmode": "overlay",
              "size": 10,
              "solidity": 0.2
             }
            },
            "type": "bar"
           }
          ],
          "barpolar": [
           {
            "marker": {
             "line": {
              "color": "#E5ECF6",
              "width": 0.5
             },
             "pattern": {
              "fillmode": "overlay",
              "size": 10,
              "solidity": 0.2
             }
            },
            "type": "barpolar"
           }
          ],
          "carpet": [
           {
            "aaxis": {
             "endlinecolor": "#2a3f5f",
             "gridcolor": "white",
             "linecolor": "white",
             "minorgridcolor": "white",
             "startlinecolor": "#2a3f5f"
            },
            "baxis": {
             "endlinecolor": "#2a3f5f",
             "gridcolor": "white",
             "linecolor": "white",
             "minorgridcolor": "white",
             "startlinecolor": "#2a3f5f"
            },
            "type": "carpet"
           }
          ],
          "choropleth": [
           {
            "colorbar": {
             "outlinewidth": 0,
             "ticks": ""
            },
            "type": "choropleth"
           }
          ],
          "contour": [
           {
            "colorbar": {
             "outlinewidth": 0,
             "ticks": ""
            },
            "colorscale": [
             [
              0,
              "#0d0887"
             ],
             [
              0.1111111111111111,
              "#46039f"
             ],
             [
              0.2222222222222222,
              "#7201a8"
             ],
             [
              0.3333333333333333,
              "#9c179e"
             ],
             [
              0.4444444444444444,
              "#bd3786"
             ],
             [
              0.5555555555555556,
              "#d8576b"
             ],
             [
              0.6666666666666666,
              "#ed7953"
             ],
             [
              0.7777777777777778,
              "#fb9f3a"
             ],
             [
              0.8888888888888888,
              "#fdca26"
             ],
             [
              1,
              "#f0f921"
             ]
            ],
            "type": "contour"
           }
          ],
          "contourcarpet": [
           {
            "colorbar": {
             "outlinewidth": 0,
             "ticks": ""
            },
            "type": "contourcarpet"
           }
          ],
          "heatmap": [
           {
            "colorbar": {
             "outlinewidth": 0,
             "ticks": ""
            },
            "colorscale": [
             [
              0,
              "#0d0887"
             ],
             [
              0.1111111111111111,
              "#46039f"
             ],
             [
              0.2222222222222222,
              "#7201a8"
             ],
             [
              0.3333333333333333,
              "#9c179e"
             ],
             [
              0.4444444444444444,
              "#bd3786"
             ],
             [
              0.5555555555555556,
              "#d8576b"
             ],
             [
              0.6666666666666666,
              "#ed7953"
             ],
             [
              0.7777777777777778,
              "#fb9f3a"
             ],
             [
              0.8888888888888888,
              "#fdca26"
             ],
             [
              1,
              "#f0f921"
             ]
            ],
            "type": "heatmap"
           }
          ],
          "heatmapgl": [
           {
            "colorbar": {
             "outlinewidth": 0,
             "ticks": ""
            },
            "colorscale": [
             [
              0,
              "#0d0887"
             ],
             [
              0.1111111111111111,
              "#46039f"
             ],
             [
              0.2222222222222222,
              "#7201a8"
             ],
             [
              0.3333333333333333,
              "#9c179e"
             ],
             [
              0.4444444444444444,
              "#bd3786"
             ],
             [
              0.5555555555555556,
              "#d8576b"
             ],
             [
              0.6666666666666666,
              "#ed7953"
             ],
             [
              0.7777777777777778,
              "#fb9f3a"
             ],
             [
              0.8888888888888888,
              "#fdca26"
             ],
             [
              1,
              "#f0f921"
             ]
            ],
            "type": "heatmapgl"
           }
          ],
          "histogram": [
           {
            "marker": {
             "pattern": {
              "fillmode": "overlay",
              "size": 10,
              "solidity": 0.2
             }
            },
            "type": "histogram"
           }
          ],
          "histogram2d": [
           {
            "colorbar": {
             "outlinewidth": 0,
             "ticks": ""
            },
            "colorscale": [
             [
              0,
              "#0d0887"
             ],
             [
              0.1111111111111111,
              "#46039f"
             ],
             [
              0.2222222222222222,
              "#7201a8"
             ],
             [
              0.3333333333333333,
              "#9c179e"
             ],
             [
              0.4444444444444444,
              "#bd3786"
             ],
             [
              0.5555555555555556,
              "#d8576b"
             ],
             [
              0.6666666666666666,
              "#ed7953"
             ],
             [
              0.7777777777777778,
              "#fb9f3a"
             ],
             [
              0.8888888888888888,
              "#fdca26"
             ],
             [
              1,
              "#f0f921"
             ]
            ],
            "type": "histogram2d"
           }
          ],
          "histogram2dcontour": [
           {
            "colorbar": {
             "outlinewidth": 0,
             "ticks": ""
            },
            "colorscale": [
             [
              0,
              "#0d0887"
             ],
             [
              0.1111111111111111,
              "#46039f"
             ],
             [
              0.2222222222222222,
              "#7201a8"
             ],
             [
              0.3333333333333333,
              "#9c179e"
             ],
             [
              0.4444444444444444,
              "#bd3786"
             ],
             [
              0.5555555555555556,
              "#d8576b"
             ],
             [
              0.6666666666666666,
              "#ed7953"
             ],
             [
              0.7777777777777778,
              "#fb9f3a"
             ],
             [
              0.8888888888888888,
              "#fdca26"
             ],
             [
              1,
              "#f0f921"
             ]
            ],
            "type": "histogram2dcontour"
           }
          ],
          "mesh3d": [
           {
            "colorbar": {
             "outlinewidth": 0,
             "ticks": ""
            },
            "type": "mesh3d"
           }
          ],
          "parcoords": [
           {
            "line": {
             "colorbar": {
              "outlinewidth": 0,
              "ticks": ""
             }
            },
            "type": "parcoords"
           }
          ],
          "pie": [
           {
            "automargin": true,
            "type": "pie"
           }
          ],
          "scatter": [
           {
            "fillpattern": {
             "fillmode": "overlay",
             "size": 10,
             "solidity": 0.2
            },
            "type": "scatter"
           }
          ],
          "scatter3d": [
           {
            "line": {
             "colorbar": {
              "outlinewidth": 0,
              "ticks": ""
             }
            },
            "marker": {
             "colorbar": {
              "outlinewidth": 0,
              "ticks": ""
             }
            },
            "type": "scatter3d"
           }
          ],
          "scattercarpet": [
           {
            "marker": {
             "colorbar": {
              "outlinewidth": 0,
              "ticks": ""
             }
            },
            "type": "scattercarpet"
           }
          ],
          "scattergeo": [
           {
            "marker": {
             "colorbar": {
              "outlinewidth": 0,
              "ticks": ""
             }
            },
            "type": "scattergeo"
           }
          ],
          "scattergl": [
           {
            "marker": {
             "colorbar": {
              "outlinewidth": 0,
              "ticks": ""
             }
            },
            "type": "scattergl"
           }
          ],
          "scattermapbox": [
           {
            "marker": {
             "colorbar": {
              "outlinewidth": 0,
              "ticks": ""
             }
            },
            "type": "scattermapbox"
           }
          ],
          "scatterpolar": [
           {
            "marker": {
             "colorbar": {
              "outlinewidth": 0,
              "ticks": ""
             }
            },
            "type": "scatterpolar"
           }
          ],
          "scatterpolargl": [
           {
            "marker": {
             "colorbar": {
              "outlinewidth": 0,
              "ticks": ""
             }
            },
            "type": "scatterpolargl"
           }
          ],
          "scatterternary": [
           {
            "marker": {
             "colorbar": {
              "outlinewidth": 0,
              "ticks": ""
             }
            },
            "type": "scatterternary"
           }
          ],
          "surface": [
           {
            "colorbar": {
             "outlinewidth": 0,
             "ticks": ""
            },
            "colorscale": [
             [
              0,
              "#0d0887"
             ],
             [
              0.1111111111111111,
              "#46039f"
             ],
             [
              0.2222222222222222,
              "#7201a8"
             ],
             [
              0.3333333333333333,
              "#9c179e"
             ],
             [
              0.4444444444444444,
              "#bd3786"
             ],
             [
              0.5555555555555556,
              "#d8576b"
             ],
             [
              0.6666666666666666,
              "#ed7953"
             ],
             [
              0.7777777777777778,
              "#fb9f3a"
             ],
             [
              0.8888888888888888,
              "#fdca26"
             ],
             [
              1,
              "#f0f921"
             ]
            ],
            "type": "surface"
           }
          ],
          "table": [
           {
            "cells": {
             "fill": {
              "color": "#EBF0F8"
             },
             "line": {
              "color": "white"
             }
            },
            "header": {
             "fill": {
              "color": "#C8D4E3"
             },
             "line": {
              "color": "white"
             }
            },
            "type": "table"
           }
          ]
         },
         "layout": {
          "annotationdefaults": {
           "arrowcolor": "#2a3f5f",
           "arrowhead": 0,
           "arrowwidth": 1
          },
          "autotypenumbers": "strict",
          "coloraxis": {
           "colorbar": {
            "outlinewidth": 0,
            "ticks": ""
           }
          },
          "colorscale": {
           "diverging": [
            [
             0,
             "#8e0152"
            ],
            [
             0.1,
             "#c51b7d"
            ],
            [
             0.2,
             "#de77ae"
            ],
            [
             0.3,
             "#f1b6da"
            ],
            [
             0.4,
             "#fde0ef"
            ],
            [
             0.5,
             "#f7f7f7"
            ],
            [
             0.6,
             "#e6f5d0"
            ],
            [
             0.7,
             "#b8e186"
            ],
            [
             0.8,
             "#7fbc41"
            ],
            [
             0.9,
             "#4d9221"
            ],
            [
             1,
             "#276419"
            ]
           ],
           "sequential": [
            [
             0,
             "#0d0887"
            ],
            [
             0.1111111111111111,
             "#46039f"
            ],
            [
             0.2222222222222222,
             "#7201a8"
            ],
            [
             0.3333333333333333,
             "#9c179e"
            ],
            [
             0.4444444444444444,
             "#bd3786"
            ],
            [
             0.5555555555555556,
             "#d8576b"
            ],
            [
             0.6666666666666666,
             "#ed7953"
            ],
            [
             0.7777777777777778,
             "#fb9f3a"
            ],
            [
             0.8888888888888888,
             "#fdca26"
            ],
            [
             1,
             "#f0f921"
            ]
           ],
           "sequentialminus": [
            [
             0,
             "#0d0887"
            ],
            [
             0.1111111111111111,
             "#46039f"
            ],
            [
             0.2222222222222222,
             "#7201a8"
            ],
            [
             0.3333333333333333,
             "#9c179e"
            ],
            [
             0.4444444444444444,
             "#bd3786"
            ],
            [
             0.5555555555555556,
             "#d8576b"
            ],
            [
             0.6666666666666666,
             "#ed7953"
            ],
            [
             0.7777777777777778,
             "#fb9f3a"
            ],
            [
             0.8888888888888888,
             "#fdca26"
            ],
            [
             1,
             "#f0f921"
            ]
           ]
          },
          "colorway": [
           "#636efa",
           "#EF553B",
           "#00cc96",
           "#ab63fa",
           "#FFA15A",
           "#19d3f3",
           "#FF6692",
           "#B6E880",
           "#FF97FF",
           "#FECB52"
          ],
          "font": {
           "color": "#2a3f5f"
          },
          "geo": {
           "bgcolor": "white",
           "lakecolor": "white",
           "landcolor": "#E5ECF6",
           "showlakes": true,
           "showland": true,
           "subunitcolor": "white"
          },
          "hoverlabel": {
           "align": "left"
          },
          "hovermode": "closest",
          "mapbox": {
           "style": "light"
          },
          "paper_bgcolor": "white",
          "plot_bgcolor": "#E5ECF6",
          "polar": {
           "angularaxis": {
            "gridcolor": "white",
            "linecolor": "white",
            "ticks": ""
           },
           "bgcolor": "#E5ECF6",
           "radialaxis": {
            "gridcolor": "white",
            "linecolor": "white",
            "ticks": ""
           }
          },
          "scene": {
           "xaxis": {
            "backgroundcolor": "#E5ECF6",
            "gridcolor": "white",
            "gridwidth": 2,
            "linecolor": "white",
            "showbackground": true,
            "ticks": "",
            "zerolinecolor": "white"
           },
           "yaxis": {
            "backgroundcolor": "#E5ECF6",
            "gridcolor": "white",
            "gridwidth": 2,
            "linecolor": "white",
            "showbackground": true,
            "ticks": "",
            "zerolinecolor": "white"
           },
           "zaxis": {
            "backgroundcolor": "#E5ECF6",
            "gridcolor": "white",
            "gridwidth": 2,
            "linecolor": "white",
            "showbackground": true,
            "ticks": "",
            "zerolinecolor": "white"
           }
          },
          "shapedefaults": {
           "line": {
            "color": "#2a3f5f"
           }
          },
          "ternary": {
           "aaxis": {
            "gridcolor": "white",
            "linecolor": "white",
            "ticks": ""
           },
           "baxis": {
            "gridcolor": "white",
            "linecolor": "white",
            "ticks": ""
           },
           "bgcolor": "#E5ECF6",
           "caxis": {
            "gridcolor": "white",
            "linecolor": "white",
            "ticks": ""
           }
          },
          "title": {
           "x": 0.05
          },
          "xaxis": {
           "automargin": true,
           "gridcolor": "white",
           "linecolor": "white",
           "ticks": "",
           "title": {
            "standoff": 15
           },
           "zerolinecolor": "white",
           "zerolinewidth": 2
          },
          "yaxis": {
           "automargin": true,
           "gridcolor": "white",
           "linecolor": "white",
           "ticks": "",
           "title": {
            "standoff": 15
           },
           "zerolinecolor": "white",
           "zerolinewidth": 2
          }
         }
        },
        "xaxis": {
         "showgrid": false,
         "showticklabels": false,
         "zeroline": false
        },
        "yaxis": {
         "showgrid": false,
         "showticklabels": false,
         "zeroline": false
        }
       }
      }
     },
     "metadata": {},
     "output_type": "display_data"
    }
   ],
   "source": [
    "G2 = define_graph(trip_counts, remove_weak_edges=True, threshold=0.1, standardise=False)\n",
    "G2 = update_node_sizes(G2, income, var_of_interest)\n",
    "positions = get_positions(gdf)\n",
    "edge_widths = set_art(G2, 0.1)\n",
    "fig = plotly_graph(G2, positions, edge_widths, var_of_interest, node_size_scale=0.003)\n",
    "fig.show()"
   ]
  },
  {
   "cell_type": "code",
   "execution_count": 10,
   "metadata": {},
   "outputs": [],
   "source": [
    "id_to_name = district_mapping.set_index('ID')['name_2'].to_dict()\n",
    "G = nx.relabel_nodes(G, id_to_name)"
   ]
  },
  {
   "cell_type": "code",
   "execution_count": 11,
   "metadata": {},
   "outputs": [
    {
     "data": {
      "text/plain": [
       "0.07803875597290726"
      ]
     },
     "execution_count": 11,
     "metadata": {},
     "output_type": "execute_result"
    }
   ],
   "source": [
    "G['Hortaleza']['Barajas'][\"weight\"]"
   ]
  },
  {
   "cell_type": "code",
   "execution_count": 10,
   "metadata": {},
   "outputs": [],
   "source": [
    "# G.out_edges('Centro', data=True)"
   ]
  },
  {
   "cell_type": "code",
   "execution_count": 12,
   "metadata": {},
   "outputs": [],
   "source": [
    "# saving graph\n",
    "import pickle\n",
    "pickle.dump(G, open('graphs/081224_normalized_march_22_home_origin.pickle', 'wb'))"
   ]
  },
  {
   "cell_type": "code",
   "execution_count": 13,
   "metadata": {},
   "outputs": [],
   "source": [
    "adj_matrix = nx.adjacency_matrix(G, weight='weight').toarray()\n",
    "np.save('adjacency_matrices/081224_normalized_filtered_df.npy', adj_matrix)"
   ]
  },
  {
   "cell_type": "code",
   "execution_count": 14,
   "metadata": {},
   "outputs": [],
   "source": [
    "adj_matrix = get_adj_matrix(G)"
   ]
  },
  {
   "cell_type": "code",
   "execution_count": 16,
   "metadata": {},
   "outputs": [
    {
     "data": {
      "image/png": "[encoded data removed]",
      "text/plain": [
       "<Figure size 1000x800 with 2 Axes>"
      ]
     },
     "metadata": {},
     "output_type": "display_data"
    }
   ],
   "source": [
    "plt.figure(figsize=(10, 8))\n",
    "sns.heatmap(\n",
    "    adj_matrix, \n",
    "    annot=True, \n",
    "    cmap='viridis', \n",
    "    cbar_kws={'label': 'Weights'}, \n",
    "    fmt=\".1f\"\n",
    ")\n",
    "plt.title('Week of March 2022 Trips - Only Home Origin')\n",
    "plt.xlabel('Destination District')\n",
    "plt.ylabel('Home District');\n",
    "plt.tight_layout()\n",
    "plt.savefig('figures/081224_adjacency_matrix.png', dpi=300, bbox_inches='tight')"
   ]
  },
  {
   "cell_type": "code",
   "execution_count": 14,
   "metadata": {},
   "outputs": [
    {
     "data": {
      "text/html": [
       "<div>\n",
       "<style scoped>\n",
       "    .dataframe tbody tr th:only-of-type {\n",
       "        vertical-align: middle;\n",
       "    }\n",
       "\n",
       "    .dataframe tbody tr th {\n",
       "        vertical-align: top;\n",
       "    }\n",
       "\n",
       "    .dataframe thead th {\n",
       "        text-align: right;\n",
       "    }\n",
       "</style>\n",
       "<table border=\"1\" class=\"dataframe\">\n",
       "  <thead>\n",
       "    <tr style=\"text-align: right;\">\n",
       "      <th></th>\n",
       "      <th>origen</th>\n",
       "      <th>destino</th>\n",
       "      <th>trip_count</th>\n",
       "      <th>Population</th>\n",
       "      <th>normalized_trip_count</th>\n",
       "    </tr>\n",
       "  </thead>\n",
       "  <tbody>\n",
       "    <tr>\n",
       "      <th>0</th>\n",
       "      <td>2807901</td>\n",
       "      <td>2807901</td>\n",
       "      <td>1.397937e+06</td>\n",
       "      <td>3.517888e+06</td>\n",
       "      <td>0.689065</td>\n",
       "    </tr>\n",
       "    <tr>\n",
       "      <th>1</th>\n",
       "      <td>2807901</td>\n",
       "      <td>2807902</td>\n",
       "      <td>3.170360e+05</td>\n",
       "      <td>3.517888e+06</td>\n",
       "      <td>0.153282</td>\n",
       "    </tr>\n",
       "    <tr>\n",
       "      <th>2</th>\n",
       "      <td>2807901</td>\n",
       "      <td>2807903</td>\n",
       "      <td>1.387313e+05</td>\n",
       "      <td>3.517888e+06</td>\n",
       "      <td>0.064900</td>\n",
       "    </tr>\n",
       "    <tr>\n",
       "      <th>3</th>\n",
       "      <td>2807901</td>\n",
       "      <td>2807904</td>\n",
       "      <td>1.803271e+05</td>\n",
       "      <td>3.517888e+06</td>\n",
       "      <td>0.085518</td>\n",
       "    </tr>\n",
       "    <tr>\n",
       "      <th>4</th>\n",
       "      <td>2807901</td>\n",
       "      <td>2807905</td>\n",
       "      <td>1.046218e+05</td>\n",
       "      <td>3.517888e+06</td>\n",
       "      <td>0.047992</td>\n",
       "    </tr>\n",
       "    <tr>\n",
       "      <th>...</th>\n",
       "      <td>...</td>\n",
       "      <td>...</td>\n",
       "      <td>...</td>\n",
       "      <td>...</td>\n",
       "      <td>...</td>\n",
       "    </tr>\n",
       "    <tr>\n",
       "      <th>436</th>\n",
       "      <td>2807921</td>\n",
       "      <td>2807917</td>\n",
       "      <td>4.054582e+03</td>\n",
       "      <td>1.382914e+06</td>\n",
       "      <td>0.001246</td>\n",
       "    </tr>\n",
       "    <tr>\n",
       "      <th>437</th>\n",
       "      <td>2807921</td>\n",
       "      <td>2807918</td>\n",
       "      <td>7.183136e+03</td>\n",
       "      <td>1.382914e+06</td>\n",
       "      <td>0.005191</td>\n",
       "    </tr>\n",
       "    <tr>\n",
       "      <th>438</th>\n",
       "      <td>2807921</td>\n",
       "      <td>2807919</td>\n",
       "      <td>8.161633e+03</td>\n",
       "      <td>1.382914e+06</td>\n",
       "      <td>0.006425</td>\n",
       "    </tr>\n",
       "    <tr>\n",
       "      <th>439</th>\n",
       "      <td>2807921</td>\n",
       "      <td>2807920</td>\n",
       "      <td>1.893465e+05</td>\n",
       "      <td>1.382914e+06</td>\n",
       "      <td>0.234885</td>\n",
       "    </tr>\n",
       "    <tr>\n",
       "      <th>440</th>\n",
       "      <td>2807921</td>\n",
       "      <td>2807921</td>\n",
       "      <td>6.446576e+05</td>\n",
       "      <td>1.382914e+06</td>\n",
       "      <td>0.808999</td>\n",
       "    </tr>\n",
       "  </tbody>\n",
       "</table>\n",
       "<p>441 rows × 5 columns</p>\n",
       "</div>"
      ],
      "text/plain": [
       "      origen  destino    trip_count    Population  normalized_trip_count\n",
       "0    2807901  2807901  1.397937e+06  3.517888e+06               0.689065\n",
       "1    2807901  2807902  3.170360e+05  3.517888e+06               0.153282\n",
       "2    2807901  2807903  1.387313e+05  3.517888e+06               0.064900\n",
       "3    2807901  2807904  1.803271e+05  3.517888e+06               0.085518\n",
       "4    2807901  2807905  1.046218e+05  3.517888e+06               0.047992\n",
       "..       ...      ...           ...           ...                    ...\n",
       "436  2807921  2807917  4.054582e+03  1.382914e+06               0.001246\n",
       "437  2807921  2807918  7.183136e+03  1.382914e+06               0.005191\n",
       "438  2807921  2807919  8.161633e+03  1.382914e+06               0.006425\n",
       "439  2807921  2807920  1.893465e+05  1.382914e+06               0.234885\n",
       "440  2807921  2807921  6.446576e+05  1.382914e+06               0.808999\n",
       "\n",
       "[441 rows x 5 columns]"
      ]
     },
     "execution_count": 14,
     "metadata": {},
     "output_type": "execute_result"
    }
   ],
   "source": [
    "trip_counts"
   ]
  },
  {
   "attachments": {},
   "cell_type": "markdown",
   "metadata": {},
   "source": [
    "## Testing Infomap"
   ]
  },
  {
   "cell_type": "code",
   "execution_count": null,
   "metadata": {},
   "outputs": [],
   "source": [
    "edges_with_weights = [(u, v, data['weight']) for u, v, data in G.edges(data=True)]\n",
    "\n",
    "df_edges = pd.DataFrame(edges_with_weights, columns=['source', 'target', 'weight'])\n",
    "df_edges = df_edges[df_edges['weight'] >= 0.3] # NOTE: Infomap only finds 1 community if I leave edges as they are. Hence, I had to cut edges \n",
    "\n",
    "df_edges.to_csv('infomap_input.txt', sep=' ', header=False, index=False)"
   ]
  },
  {
   "cell_type": "code",
   "execution_count": null,
   "metadata": {},
   "outputs": [],
   "source": [
    "df_edges"
   ]
  },
  {
   "attachments": {},
   "cell_type": "markdown",
   "metadata": {},
   "source": [
    "## Community Analysis"
   ]
  },
  {
   "cell_type": "code",
   "execution_count": null,
   "metadata": {},
   "outputs": [],
   "source": [
    "communities = nx.community.louvain_communities(G, weight='weight', seed=1234)"
   ]
  },
  {
   "cell_type": "code",
   "execution_count": null,
   "metadata": {},
   "outputs": [],
   "source": [
    "len(communities)"
   ]
  },
  {
   "cell_type": "code",
   "execution_count": null,
   "metadata": {},
   "outputs": [],
   "source": [
    "def average_degree_per_community(G, communities):\n",
    "    community_avg_in_degrees = []\n",
    "    community_avg_out_degrees = []\n",
    "    \n",
    "    for community in communities:\n",
    "        in_degrees = [G.in_degree(node,  weight='weight') for node in community]  # Get in-degree for each node\n",
    "        out_degrees = [G.out_degree(node,  weight='weight') for node in community] \n",
    "        avg_in_degree = sum(in_degrees) / len(community)        # Compute average in-degree\n",
    "        avg_out_degree = sum(out_degrees) / len(community)\n",
    "        community_avg_in_degrees.append(avg_in_degree)\n",
    "        community_avg_out_degrees.append(avg_out_degree)\n",
    "        print(f\"Community {community} - Average In-degree: {avg_in_degree} - Average Out-degree: {avg_out_degree}\")\n",
    "    \n",
    "    return community_avg_in_degrees, community_avg_out_degrees\n",
    "\n",
    "# Calculate and display average in-degree for each community\n",
    "average_degree_per_community(G, communities)"
   ]
  },
  {
   "cell_type": "code",
   "execution_count": null,
   "metadata": {},
   "outputs": [],
   "source": []
  }
 ],
 "metadata": {
  "kernelspec": {
   "display_name": ".thesis_env",
   "language": "python",
   "name": "python3"
  },
  "language_info": {
   "codemirror_mode": {
    "name": "ipython",
    "version": 3
   },
   "file_extension": ".py",
   "mimetype": "text/x-python",
   "name": "python",
   "nbconvert_exporter": "python",
   "pygments_lexer": "ipython3",
   "version": "3.11.4"
  },
  "orig_nbformat": 4,
  "vscode": {
   "interpreter": {
    "hash": "dc5a137c8466a4ffb6ded1bc1d0edcb068d49351ebe910c5391764b8894bd5ea"
   }
  }
 },
 "nbformat": 4,
 "nbformat_minor": 2
}
