{
 "cells": [
  {
   "cell_type": "code",
   "execution_count": 1,
   "metadata": {},
   "outputs": [],
   "source": [
    "import config as cfg\n",
    "import pandas as pd \n",
    "import geopandas as gpd\n",
    "# for plotting\n",
    "import seaborn as sns\n",
    "import matplotlib.pyplot as plt\n",
    "import contextily as ctx\n",
    "import matplotlib.pyplot as plt\n",
    "import mapclassify\n",
    "\n",
    "mobility_data = cfg.MOBILITY_DATA\n",
    "geometria_data = cfg.GEOMETRIA_DATA\n",
    "zonificacion_data = cfg.ZONIFICACION_DATA"
   ]
  },
  {
   "cell_type": "code",
   "execution_count": 2,
   "metadata": {},
   "outputs": [],
   "source": [
    "nombres_distritos = pd.read_csv(zonificacion_data / 'distritos/PROCESSED_nombres_distritos.csv')\n",
    "gdf = gpd.read_file(zonificacion_data / 'distritos/madrid_gdf.geojson')\n",
    "renta = pd.read_csv('data/raw/indicadores_renta_2_2021.csv', sep=';') # SOURCE = https://ine.es/jaxiT3/Datos.htm?t=31097"
   ]
  },
  {
   "cell_type": "code",
   "execution_count": 3,
   "metadata": {},
   "outputs": [
    {
     "data": {
      "text/plain": [
       "Indicadores de renta media y mediana\n",
       "Renta neta media por persona                 21\n",
       "Renta neta media por hogar                   21\n",
       "Media de la renta por unidad de consumo      21\n",
       "Mediana de la renta por unidad de consumo    21\n",
       "Renta bruta media por persona                21\n",
       "Renta bruta media por hogar                  21\n",
       "Name: count, dtype: int64"
      ]
     },
     "execution_count": 3,
     "metadata": {},
     "output_type": "execute_result"
    }
   ],
   "source": [
    "renta['Indicadores de renta media y mediana'].value_counts() # variables of interest"
   ]
  },
  {
   "cell_type": "code",
   "execution_count": 4,
   "metadata": {},
   "outputs": [],
   "source": [
    "renta['ID'] = renta['Distritos'].str[:7]\n",
    "renta.drop(columns=['Distritos', 'Municipios', 'Secciones'], inplace=True)"
   ]
  },
  {
   "cell_type": "code",
   "execution_count": 5,
   "metadata": {},
   "outputs": [],
   "source": [
    "renta_pivot = renta.pivot(index='ID', columns='Indicadores de renta media y mediana', values='Total').reset_index()\n",
    "renta_pivot.columns.name = None  # Remove the column grouping label\n",
    "renta_pivot['ID'] = renta_pivot['ID'].astype('int64')\n",
    "gdf['ID'] = gdf['ID'].astype('int64')"
   ]
  },
  {
   "cell_type": "code",
   "execution_count": 6,
   "metadata": {},
   "outputs": [],
   "source": [
    "merged = pd.merge(renta_pivot, gdf, on='ID', how='inner') # merging the income and geography data into one gdf\n",
    "merged = gpd.GeoDataFrame(merged, geometry='geometry')\n",
    "merged = merged.set_crs(gdf.crs)"
   ]
  },
  {
   "cell_type": "code",
   "execution_count": 7,
   "metadata": {},
   "outputs": [],
   "source": [
    "merged.to_file(\"data/processed/geometries_and_income.geojson\", driver=\"GeoJSON\")"
   ]
  }
 ],
 "metadata": {
  "kernelspec": {
   "display_name": ".venv",
   "language": "python",
   "name": "python3"
  },
  "language_info": {
   "codemirror_mode": {
    "name": "ipython",
    "version": 3
   },
   "file_extension": ".py",
   "mimetype": "text/x-python",
   "name": "python",
   "nbconvert_exporter": "python",
   "pygments_lexer": "ipython3",
   "version": "3.11.4"
  },
  "orig_nbformat": 4,
  "vscode": {
   "interpreter": {
    "hash": "baf70a3cbee19fbb5efe65009e89edc3934f0648c3ca19992706c176c60ae190"
   }
  }
 },
 "nbformat": 4,
 "nbformat_minor": 2
}
