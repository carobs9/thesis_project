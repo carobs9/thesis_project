{
 "cells": [
  {
   "cell_type": "code",
   "execution_count": 14,
   "metadata": {},
   "outputs": [],
   "source": [
    "import config as cfg\n",
    "import pandas as pd \n",
    "import geopandas as gpd\n",
    "# for plotting\n",
    "import seaborn as sns\n",
    "import matplotlib.pyplot as plt\n",
    "import contextily as ctx\n",
    "import matplotlib.pyplot as plt\n",
    "import mapclassify\n",
    "\n",
    "mobility_data = cfg.MOBILITY_DATA\n",
    "geometria_data = cfg.GEOMETRIA_DATA\n",
    "zonificacion_data = cfg.ZONIFICACION_DATA"
   ]
  },
  {
   "cell_type": "code",
   "execution_count": 15,
   "metadata": {},
   "outputs": [],
   "source": [
    "nombres_distritos = pd.read_csv(zonificacion_data / 'distritos/PROCESSED_nombres_distritos.csv')\n",
    "gdf = gpd.read_file(zonificacion_data / 'distritos/madrid_gdf.geojson')\n",
    "renta = pd.read_csv('data/indicadores_renta_2_2021.csv', sep=';') # SOURCE = https://ine.es/jaxiT3/Datos.htm?t=31097"
   ]
  },
  {
   "cell_type": "code",
   "execution_count": 16,
   "metadata": {},
   "outputs": [
    {
     "data": {
      "text/plain": [
       "Indicadores de renta media y mediana\n",
       "Renta neta media por persona                 21\n",
       "Renta neta media por hogar                   21\n",
       "Media de la renta por unidad de consumo      21\n",
       "Mediana de la renta por unidad de consumo    21\n",
       "Renta bruta media por persona                21\n",
       "Renta bruta media por hogar                  21\n",
       "Name: count, dtype: int64"
      ]
     },
     "execution_count": 16,
     "metadata": {},
     "output_type": "execute_result"
    }
   ],
   "source": [
    "renta['Indicadores de renta media y mediana'].value_counts() # variables of interest"
   ]
  },
  {
   "cell_type": "code",
   "execution_count": 17,
   "metadata": {},
   "outputs": [],
   "source": [
    "renta['ID'] = renta['Distritos'].str[:7]\n",
    "renta.drop(columns=['Distritos', 'Municipios', 'Secciones'], inplace=True)"
   ]
  },
  {
   "cell_type": "code",
   "execution_count": 18,
   "metadata": {},
   "outputs": [],
   "source": [
    "merged = pd.merge(renta, gdf, on='ID', how='inner') # merging the income and geography data into one gdf\n",
    "merged = gpd.GeoDataFrame(merged, geometry='geometry')\n",
    "merged = merged.set_crs(gdf.crs)"
   ]
  },
  {
   "cell_type": "code",
   "execution_count": 19,
   "metadata": {},
   "outputs": [],
   "source": [
    "# merged.to_file(\"geometries_and_rent.geojson\", driver=\"GeoJSON\")"
   ]
  }
 ],
 "metadata": {
  "kernelspec": {
   "display_name": "Python 3",
   "language": "python",
   "name": "python3"
  },
  "language_info": {
   "codemirror_mode": {
    "name": "ipython",
    "version": 3
   },
   "file_extension": ".py",
   "mimetype": "text/x-python",
   "name": "python",
   "nbconvert_exporter": "python",
   "pygments_lexer": "ipython3",
   "version": "3.10.6"
  },
  "orig_nbformat": 4,
  "vscode": {
   "interpreter": {
    "hash": "aee8b7b246df8f9039afb4144a1f6fd8d2ca17a180786b69acc140d282b71a49"
   }
  }
 },
 "nbformat": 4,
 "nbformat_minor": 2
}
